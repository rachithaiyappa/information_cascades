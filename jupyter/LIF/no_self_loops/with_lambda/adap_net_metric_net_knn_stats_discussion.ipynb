{
 "cells": [
  {
   "cell_type": "markdown",
   "metadata": {},
   "source": [
    "## Leaky integrated firing neuron model  \n",
    "## Few feautures :\n",
    "### Spatial network, no memory term but exponential decay of cumulative dose\n",
    "\n",
    "This is a minor change of the Dodds and Watts model  \n",
    "Implement adaptive rewiring and generate statistics"
   ]
  },
  {
   "cell_type": "code",
   "execution_count": 66,
   "metadata": {},
   "outputs": [],
   "source": [
    "#importing the required libraries\n",
    "\n",
    "import networkx as nx\n",
    "import matplotlib.pyplot as plt #for plotting\n",
    "import numpy as np #for using arrays and vectorising the code wherever possible\n",
    "import scipy\n",
    "import random\n",
    "# from numba import jit #numba precomplier to make the code faster\n",
    "import pandas as pd\n",
    "import copy"
   ]
  },
  {
   "cell_type": "markdown",
   "metadata": {},
   "source": [
    "# Variables used in the simulation"
   ]
  },
  {
   "cell_type": "code",
   "execution_count": 67,
   "metadata": {},
   "outputs": [
    {
     "data": {
      "text/plain": [
       "'rewiring parameters'"
      ]
     },
     "execution_count": 67,
     "metadata": {},
     "output_type": "execute_result"
    }
   ],
   "source": [
    "N = 100\n",
    "gamma = 1 #decay of cumulative dose per unit time (second)\n",
    "T = 100 #total number of seconds\n",
    "dt = 0.05 #seconds\n",
    "'''number of simulation steps is T/dt'''\n",
    "\n",
    "'''Dodds watts parameters'''\n",
    "p = 1 #rate of dose transfer (per unit time (second))\n",
    "p = p*dt #rate of dose transfer per unit simulation step\n",
    "r = 1/dt\n",
    "r = r*dt\n",
    "rho = 1/dt\n",
    "rho = rho*dt\n",
    "\n",
    "d_star = 1\n",
    "# dose_quantity = 1\n",
    "D_ini = 3\n",
    "\n",
    "'''network parameters'''\n",
    "circ_rad = 100 #for a network in which each node is connected to other nodes withing a circle of radius circ_rad\n",
    "nn = 7 #the number of nearest neighbours(i.e. k) in knn\n",
    "average_degree = 6\n",
    "total_edges = N*6\n",
    "\n",
    "'''rewiring parameters'''\n",
    "# p_rew = 5 #rate of rewiring(per unit time(second))\n",
    "# p_rew = p_rew*dt"
   ]
  },
  {
   "cell_type": "markdown",
   "metadata": {},
   "source": [
    "# Creating the network. \n",
    "### The network outputs coordinates, distance matrix, edge_list and adjacency matrix"
   ]
  },
  {
   "cell_type": "code",
   "execution_count": 68,
   "metadata": {},
   "outputs": [],
   "source": [
    "'''\n",
    "obtains the number of nodes N\n",
    "generates N points\n",
    "calculates euclidean distance between each pair of points\n",
    "returns the coordinates of the points and the distance matrix which is N*N\n",
    "'''\n",
    "def calc_dist(N) :\n",
    "    coords = []\n",
    "    for counter in range(N) :\n",
    "        coords.append((N*np.random.random(),N*np.random.random()))\n",
    "\n",
    "    dist_mat = scipy.spatial.distance.cdist(coords,coords)\n",
    "    return dist_mat,coords"
   ]
  },
  {
   "cell_type": "markdown",
   "metadata": {},
   "source": [
    "### 1. metric network"
   ]
  },
  {
   "cell_type": "code",
   "execution_count": 69,
   "metadata": {},
   "outputs": [],
   "source": [
    "'''network = connect to points withing a circle of radius'''\n",
    "#creates a link between points/nodes which satisfies the conditions of the network\n",
    "def coupling(dist_mat,circ_rad) :\n",
    "    edge_list = []\n",
    "    edge_mask = (dist_mat<circ_rad) & (dist_mat>0)\n",
    "    edge_list.extend(np.ndarray.tolist(np.transpose(np.where(edge_mask))))\n",
    "#     print(type(np.ndarray.tolist(np.transpose(np.where(edge_mask)))))\n",
    "    return edge_list"
   ]
  },
  {
   "cell_type": "markdown",
   "metadata": {},
   "source": [
    "### 2. K nearest neighbour network"
   ]
  },
  {
   "cell_type": "code",
   "execution_count": 70,
   "metadata": {},
   "outputs": [],
   "source": [
    "'''network = knn'''\n",
    "def knn(dist_mat,nn,N) :\n",
    "    near_neigh = np.argsort(dist_mat)\n",
    "    selec_near_neigh = np.zeros((N,nn))\n",
    "    selec_near_neigh = near_neigh[:,0:nn+1]\n",
    "\n",
    "    edge_list = []\n",
    "    for i in range(N) :\n",
    "        for j in range(1,nn+1) :\n",
    "            link = [i,selec_near_neigh[i,j]]\n",
    "            edge_list.append(link)\n",
    "\n",
    "    return edge_list"
   ]
  },
  {
   "cell_type": "markdown",
   "metadata": {},
   "source": [
    "### 3. Random Network : GNP type"
   ]
  },
  {
   "cell_type": "code",
   "execution_count": 71,
   "metadata": {},
   "outputs": [],
   "source": [
    "'''random network'''\n",
    "def rand_network(average_degree,N) :\n",
    "    z1 = np.random.uniform(size = (N,N))\n",
    "    E,F = np.meshgrid(np.arange(0,N),np.arange(0,N))\n",
    "    mask = ((average_degree/N) > z1) & (E!=F)\n",
    "    adjacency_matrix = np.int64(np.zeros(shape=(N,N)))\n",
    "    adjacency_matrix[mask] = np.int64(1)\n",
    "    edge_list = []\n",
    "    edge_list.extend(np.ndarray.tolist(np.transpose(np.where(adjacency_matrix==1))))\n",
    "    return edge_list,adjacency_matrix"
   ]
  },
  {
   "cell_type": "markdown",
   "metadata": {},
   "source": [
    "### 4. Random Network : GNM type"
   ]
  },
  {
   "cell_type": "code",
   "execution_count": 72,
   "metadata": {},
   "outputs": [],
   "source": [
    "def rand_net_gnm(total_edges,N) :\n",
    "    the_graph = nx.gnm_random_graph(N, total_edges,directed=True)\n",
    "    adjacency_matrix = nx.adjacency_matrix(the_graph)\n",
    "    adjacency_matrix = np.asarray(adjacency_matrix.todense())\n",
    "    np.fill_diagonal(adjacency_matrix,0)\n",
    "    edge_list = []\n",
    "    edge_list.extend(np.ndarray.tolist(np.transpose(np.where(adjacency_matrix==1))))\n",
    "    return edge_list"
   ]
  },
  {
   "cell_type": "markdown",
   "metadata": {},
   "source": [
    "# Function defintions required for the main part of the script"
   ]
  },
  {
   "cell_type": "code",
   "execution_count": 73,
   "metadata": {},
   "outputs": [],
   "source": [
    "# # @jit(nopython=True)\n",
    "# '''infecting the left part of space.'''\n",
    "# def left_part_infec(N) :\n",
    "#     x_coord = []\n",
    "#     y_coord = []\n",
    "#     for j in range(len(coords)) :\n",
    "#         x_coord.append(coords[j][0])\n",
    "#         y_coord.append(coords[j][1])\n",
    "#     x_coord = np.asarray(x_coord)\n",
    "#     y_coord = np.asarray(y_coord)\n",
    "#     points = np.asarray(np.where(x_coord<(N/5))) \n",
    "#     indi_state[points.T] = 2\n",
    "\n",
    "#     return indi_state"
   ]
  },
  {
   "cell_type": "code",
   "execution_count": 74,
   "metadata": {},
   "outputs": [],
   "source": [
    "'''infecting connected nodes'''\n",
    "def InfectNetworkNeighbors(net,seed_node,init_infected_nodes):\n",
    "     # if in bulk find one node randomly, and infect its neighbours\n",
    "    infected_nodes = set()\n",
    "    candidate_nodes = set()\n",
    "    explored_nodes = set()\n",
    "\n",
    "    #pick the seed node\n",
    "    infected_nodes.add(seed_node)\n",
    "    explored_nodes.add(seed_node)\n",
    "\n",
    "    curr_node=seed_node\n",
    "\n",
    "    #add its neighbors to the list of candidates\n",
    "    for n in net.neighbors(curr_node):\n",
    "        candidate_nodes.add(int(n))\n",
    "    #print( curr_node)\n",
    "    #print( candidate_nodes)\n",
    "\n",
    "    #while we need to select more nodes...\n",
    "    while len(infected_nodes) < init_infected_nodes:\n",
    "\n",
    "        #if there are candidate nodes, select one of them\n",
    "        if(len(candidate_nodes) > 0):\n",
    "            new_node = np.random.choice(list(candidate_nodes),1)[0]\n",
    "            infected_nodes.add(new_node)\n",
    "            candidate_nodes.remove(new_node)\n",
    "\n",
    "        elif len(infected_nodes - explored_nodes) > 0:\n",
    "            curr_node = np.random.choice(list(infected_nodes -\n",
    "            explored_nodes),1)[0]\n",
    "            explored_nodes.add(curr_node)\n",
    "            for n in set(net.neighbors(curr_node)) - infected_nodes:\n",
    "                candidate_nodes.add(n)\n",
    "\n",
    "        else:\n",
    "            print('Initial node infection step failed')\n",
    "            return None\n",
    "    return infected_nodes"
   ]
  },
  {
   "cell_type": "code",
   "execution_count": 75,
   "metadata": {},
   "outputs": [],
   "source": [
    "''' function to transfer doses'''\n",
    "# @jit(nopython=True)\n",
    "def dose(adj_mat,p,partner_state_prev,d) :\n",
    "\n",
    "    z1 = np.random.uniform(size=(len(adj_mat),len(adj_mat[0])))\n",
    "    \n",
    "    dose_transfer_mask = p > z1\n",
    "    mod_adj_mat = np.multiply(adj_mat,z1) #modifying adjacency matrix to include the proability of dose transfer\n",
    "    dose_mask = (p>mod_adj_mat) & (adj_mat!=0) & (partner_state_prev == 2)\n",
    "    d[dose_mask] = dose_quantity #whenever it is proabable, dose transfer occurs\n",
    "    \n",
    "    return d"
   ]
  },
  {
   "cell_type": "code",
   "execution_count": 76,
   "metadata": {},
   "outputs": [],
   "source": [
    "'''rewiring function which returns a new adjacency matrix'''\n",
    "\n",
    "def rew(p_rew,adjacency_matrix,indi_state_for_rew_prev) :\n",
    "    \n",
    "    z1_rew = np.random.uniform(size=(len(adj_mat),len(adj_mat[0])))\n",
    "    \n",
    "    rew_mask_plus = (p_rew > z1_rew)  & (indi_state_for_rew_prev == 1)\n",
    "    #create links. Dont break any.\n",
    "    adjacency_matrix[rew_mask_plus] = 1\n",
    "    rew_mask_minus = (p_rew > z1_rew) & (indi_state_for_rew_prev == 2)\n",
    "    #break links. Dont create any.\n",
    "    adjacency_matrix[rew_mask_minus] = 0\n",
    "    \n",
    "    np.fill_diagonal(adjacency_matrix,0)\n",
    "    return adjacency_matrix"
   ]
  },
  {
   "cell_type": "code",
   "execution_count": null,
   "metadata": {},
   "outputs": [],
   "source": [
    "'''decay function which breaks exisiting links of a node without depending on other nodes'''\n",
    "\n",
    "def decay(lamb_da,adjacency_matrix) :\n",
    "    z1_decay = np.random.uniform(size=(len(adj_mat),len(adj_mat[0])))\n",
    "    decay_mask = (lamb_da > z1_decay) \n",
    "    adjacency_matrix[decay_mask] = 0\n",
    "    \n",
    "    return adjacency_matrix"
   ]
  },
  {
   "cell_type": "code",
   "execution_count": 77,
   "metadata": {},
   "outputs": [],
   "source": [
    "'''function to update cumulative doses'''\n",
    "def cumu_dose(d,D_prev,gamma) :\n",
    "    I = d.sum(axis=1).reshape(N,1)\n",
    "#     I = 0\n",
    "    D = (D_prev - (gamma*D_prev*dt)) + I\n",
    "    return D"
   ]
  },
  {
   "cell_type": "code",
   "execution_count": 78,
   "metadata": {},
   "outputs": [],
   "source": [
    "'''function to update the states of the nodes of the system'''\n",
    "def upd_indi_state(D,d_star,indi_state_prev) :\n",
    "    \n",
    "    z2 = np.random.uniform(size=(N,1))\n",
    "    z3 = np.random.uniform(size=(N,1))\n",
    "    \n",
    "    indi_state = indi_state_prev\n",
    "    \n",
    "    indi_state_mask1 = (D>=d_star) & (indi_state_prev==1)\n",
    "    indi_state[indi_state_mask1] = 2\n",
    "    \n",
    "    indi_state_mask21 = (D<d_star) & (indi_state_prev==2) & (r>=z2) & (rho>=z3)\n",
    "    indi_state[indi_state_mask21] = 1\n",
    "    \n",
    "    indi_state_mask22 = (D<d_star) & (indi_state_prev==2) & (r>=z2) & (rho<z3)\n",
    "    indi_state[indi_state_mask22] = 3\n",
    "    \n",
    "    indi_state_mask23 = (D<d_star) & (indi_state_prev==2) & (r<z2)\n",
    "    indi_state[indi_state_mask23] = 2\n",
    "    \n",
    "    return indi_state"
   ]
  },
  {
   "cell_type": "code",
   "execution_count": 79,
   "metadata": {},
   "outputs": [],
   "source": [
    "'''function to get/identify the infected nodes and the suceptible nodes'''\n",
    "def states(indi_state) :\n",
    "    infec_indi = []\n",
    "    suscep_indi = []\n",
    "    infec_indi = np.transpose(np.where(indi_state==2))\n",
    "    suscep_indi = np.transpose(np.where(indi_state==1))\n",
    "    return infec_indi,suscep_indi"
   ]
  },
  {
   "cell_type": "code",
   "execution_count": 80,
   "metadata": {},
   "outputs": [],
   "source": [
    "def networkx_graph(coords,edge_list) :\n",
    "    G = nx.DiGraph()\n",
    "    pos = {(i): (coords[i][0],coords[i][1]) for i in range(N)}\n",
    "    G.add_nodes_from(pos.keys())\n",
    "    G.add_edges_from(edge_list)\n",
    "    return G"
   ]
  },
  {
   "cell_type": "code",
   "execution_count": 81,
   "metadata": {},
   "outputs": [],
   "source": [
    "def edge_from_adj_mat(adj_mat_list,q):\n",
    "    edge_list = []\n",
    "    edge_list.extend(np.ndarray.tolist(np.transpose(np.where(adj_mat_list[q]==1))))\n",
    "    return edge_list"
   ]
  },
  {
   "cell_type": "markdown",
   "metadata": {},
   "source": [
    "# Choose which network you want in the program\n",
    "### Coupling network of knn network?"
   ]
  },
  {
   "cell_type": "code",
   "execution_count": 82,
   "metadata": {},
   "outputs": [],
   "source": [
    "'''returns coordinates, distance matrix, edge_list and the adjacency matrix'''\n",
    "\n",
    "dist_mat,coords = calc_dist(N) #node placement\n",
    "\n",
    "# edge_list = coupling(dist_mat,circ_rad)\n",
    "# edge_list = knn(dist_mat,nn,N)\n",
    "# edge_list = rand_network(average_degree,N)\n",
    "edge_list = rand_net_gnm(total_edges,N)\n",
    "\n",
    "org_adj_mat = np.int64(np.zeros((N,N)))\n",
    "for i in range(len(edge_list)):\n",
    "    org_adj_mat[edge_list[i][0],edge_list[i][1]] = np.int64(1)"
   ]
  },
  {
   "cell_type": "markdown",
   "metadata": {},
   "source": [
    "# The main part of the script"
   ]
  },
  {
   "cell_type": "code",
   "execution_count": 83,
   "metadata": {},
   "outputs": [],
   "source": [
    "#infected state time series data frame\n",
    "#columns indicate the time steps\n",
    "timeseries_infec_frac = pd.DataFrame()\n",
    "\n",
    "#in degree as columns and rows as nodes\n",
    "timeseries_in_degree = pd.DataFrame() \n",
    "\n",
    "#out degree as columns and rows as nodes\n",
    "timeseries_out_degree = pd.DataFrame()\n",
    "\n",
    "#strongly connected components as columns\n",
    "timeseries_strong_comps = pd.DataFrame()\n",
    "\n",
    "#weakly connected components as columns\n",
    "timeseries_weak_comps = pd.DataFrame()"
   ]
  },
  {
   "cell_type": "code",
   "execution_count": 84,
   "metadata": {},
   "outputs": [],
   "source": [
    "p_rew_vals = [0.1,1,10]\n",
    "start_vals = [1,10]\n",
    "dose_quantity_vals = [0.1,2]"
   ]
  },
  {
   "cell_type": "code",
   "execution_count": 85,
   "metadata": {},
   "outputs": [
    {
     "name": "stdout",
     "output_type": "stream",
     "text": [
      "(p_rew,start,dose_quantity) =  (0.10000000000000002, 1, 0.1)\n",
      "{94}\n",
      "(p_rew,start,dose_quantity) =  (0.10000000000000002, 1, 2)\n",
      "{9}\n",
      "(p_rew,start,dose_quantity) =  (0.10000000000000002, 10, 0.1)\n",
      "{32, 72, 10, 47, 20, 53, 87, 88, 56, 27}\n",
      "(p_rew,start,dose_quantity) =  (0.10000000000000002, 10, 2)\n",
      "{65, 2, 3, 1, 74, 14, 51, 58, 30, 63}\n",
      "(p_rew,start,dose_quantity) =  (1.0, 1, 0.1)\n",
      "{57}\n",
      "(p_rew,start,dose_quantity) =  (1.0, 1, 2)\n",
      "{79}\n",
      "(p_rew,start,dose_quantity) =  (1.0, 10, 0.1)\n",
      "Initial node infection step failed\n",
      "None\n",
      "{33, 1, 73, 44, 15, 18, 83, 50, 88, 59}\n",
      "(p_rew,start,dose_quantity) =  (1.0, 10, 2)\n",
      "{37, 7, 41, 77, 50, 86, 88, 89, 93, 30}\n",
      "(p_rew,start,dose_quantity) =  (10.0, 1, 0.1)\n",
      "{53}\n",
      "(p_rew,start,dose_quantity) =  (10.0, 1, 2)\n",
      "{33}\n",
      "(p_rew,start,dose_quantity) =  (10.0, 10, 0.1)\n",
      "Initial node infection step failed\n",
      "None\n",
      "Initial node infection step failed\n",
      "None\n",
      "{97, 68, 72, 43, 46, 20, 22, 57, 60, 94}\n",
      "(p_rew,start,dose_quantity) =  (10.0, 10, 2)\n",
      "{0, 64, 34, 74, 81, 49, 51, 19, 57, 29}\n"
     ]
    }
   ],
   "source": [
    "df_row = 0\n",
    "for p_rew in p_rew_vals : #rate of rewiring (per unit time (second))\n",
    "    p_rew = p_rew*dt        \n",
    "    for start in start_vals : #rate of dose transfer (per unit time (second))\n",
    "        for dose_quantity in dose_quantity_vals : #number of nodes to infect initially\n",
    "            print('(p_rew,start,dose_quantity) = ', (p_rew/dt,start,dose_quantity))\n",
    "            \n",
    "            '''clearing exsiting data frames and creating new ones '''\n",
    "            timeseries_infec_frac = pd.DataFrame()\n",
    "            timeseries_in_degree = pd.DataFrame()\n",
    "            timeseries_out_degree = pd.DataFrame()\n",
    "            timeseries_strong_comps = pd.DataFrame()\n",
    "            timeseries_weak_comps = pd.DataFrame()\n",
    "            \n",
    "            q = 0 #to generate new edge_list from the new adjacency matrix \n",
    "            t = np.arange(0,T,dt)\n",
    "\n",
    "#             numpy_array = np.zeros((N,len(t)),dtype = np.int64) #stores the states of the nodes. Rows are nodes and columns are time steps\n",
    "            D_array = np.zeros((N,len(t))) #stores the cumulative doses. Rows are nodes and columns are time steps\n",
    "\n",
    "            adj_mat_list = []\n",
    "            adj_mat = org_adj_mat\n",
    "            adj_mat_new = copy.deepcopy(adj_mat)\n",
    "            adj_mat_list.append(adj_mat_new) #list of arrays which shows the time series of the adjacency matrix\n",
    "\n",
    "            #coords remain the same. Get new edge_list from the latest adjacency matrix\n",
    "            edge_list = edge_from_adj_mat(adj_mat_list,q)\n",
    "            G = networkx_graph(coords,edge_list) #networkx graph\n",
    "            \n",
    "            '''from G, obtain the in degree and the out degree'''\n",
    "            timeseries_in_degree.loc[:,0] = np.asarray([val for (node, val) in G.in_degree()])\n",
    "            timeseries_out_degree.loc[:,0] = np.asarray([val for (node, val) in G.out_degree()])\n",
    "            \n",
    "            '''strongly and weekely connected components'''\n",
    "            timeseries_strong_comps.loc[0,0] = nx.number_strongly_connected_components(G)\n",
    "            timeseries_weak_comps.loc[0,0] = nx.number_weakly_connected_components(G)\n",
    "            \n",
    "            '''choosing initially infected nodes'''\n",
    "            indi_state = np.random.randint(1,2,size=(N,1))\n",
    "            infected_nodes = None\n",
    "            while infected_nodes is None : #infecting 'start' number of network neighbours\n",
    "                infected_nodes = InfectNetworkNeighbors(G,np.random.randint(N),start)\n",
    "                print(infected_nodes)\n",
    "            infected_nodes = np.asarray(list(infected_nodes)).reshape(len(infected_nodes),1)\n",
    "            indi_state[infected_nodes[:,0],0] = 2\n",
    "\n",
    "            A,B = np.meshgrid(indi_state,indi_state) \n",
    "            partner_state = A\n",
    "            indi_state_for_rew = B\n",
    "\n",
    "#             numpy_array [:,0] = indi_state[:,0]\n",
    "\n",
    "            indi_state_prev = indi_state\n",
    "            partner_state_prev = partner_state\n",
    "            indi_state_for_rew_prev = indi_state_for_rew\n",
    "\n",
    "            d = np.zeros((len(adj_mat),len(adj_mat[0])))\n",
    "\n",
    "            D = np.zeros((N,1))\n",
    "            D[np.where(indi_state==2)] = D_ini\n",
    "            D_array[:,0] = D[:,0]\n",
    "            D_prev = D\n",
    "\n",
    "            infec_frac = np.count_nonzero(indi_state == 2)/N\n",
    "            timeseries_infec_frac.loc[df_row,0] = infec_frac\n",
    "            '''the main part of the simulation'''\n",
    "            counter = 0\n",
    "            df_col = 1\n",
    "            for t in np.arange(dt,T,dt) :\n",
    "                q = q + 1 \n",
    "                counter = counter + 1\n",
    "                infec_indi = []\n",
    "                suscep_indi = []\n",
    "                d = np.zeros((len(adj_mat),len(adj_mat[0])))\n",
    "                d = dose(adj_mat,p,partner_state_prev,d)\n",
    "\n",
    "                adj_mat = decay(lamb_da,adj_mat)\n",
    "                adj_mat = rew(p_rew,adj_mat,indi_state_for_rew_prev)\n",
    "                adj_mat_new = copy.deepcopy(adj_mat)\n",
    "                adj_mat_list.append(adj_mat_new)\n",
    "\n",
    "                #coords remain the same. Get new edge_list from the latest adjacency matrix\n",
    "                edge_list = edge_from_adj_mat(adj_mat_list,q)\n",
    "                G = networkx_graph(coords,edge_list) #networkx graph\n",
    "                \n",
    "                '''from G, obtain the in degree and the out degree'''\n",
    "                timeseries_in_degree.loc[:,df_col] = np.asarray([val for (node, val) in G.in_degree()])\n",
    "                timeseries_out_degree.loc[:,df_col] = np.asarray([val for (node, val) in G.out_degree()])\n",
    "                \n",
    "                '''strongly and weekely connected components'''\n",
    "                timeseries_strong_comps.loc[df_row,df_col] = nx.number_strongly_connected_components(G)\n",
    "                timeseries_weak_comps.loc[df_row,df_col] = nx.number_weakly_connected_components(G)\n",
    "                \n",
    "                D = cumu_dose(d,D_prev,gamma)\n",
    "                D_array[:,counter] = D[:,0]\n",
    "\n",
    "                indi_state = upd_indi_state(D,d_star,indi_state_prev)\n",
    "                infec_frac = np.count_nonzero(indi_state == 2)/N\n",
    "                timeseries_infec_frac.loc[df_row,df_col] = infec_frac\n",
    "\n",
    "#                 numpy_array[:,counter] = indi_state[:,0]\n",
    "                A,B = np.meshgrid(indi_state,indi_state)\n",
    "\n",
    "                infec_indi, suscep_indi = states(indi_state)\n",
    "\n",
    "                partner_state = A\n",
    "                indi_state_for_rew = B\n",
    "                indi_state_prev = indi_state\n",
    "                partner_state_prev = partner_state\n",
    "                indi_state_for_rew_prev = indi_state_for_rew\n",
    "\n",
    "                D_prev = D\n",
    "                D = np.zeros((N,1))\n",
    "                df_col = df_col + 1 \n",
    "\n",
    "#             df_row = df_row + 1 #going to the next row of the df to store timeseries of next (p,start)\n",
    "\n",
    "            filename_infec_frac = 'infec_frac.h5'\n",
    "            filename_in_deg = 'in_deg.h5'\n",
    "            filename_out_deg = 'out_deg.h5'\n",
    "            filename_strong_comps = 'strong_comps.h5'\n",
    "            filename_weak_comps = 'weak_comps.h5'\n",
    "            key_val = 'p_rew_'+str(np.int64(p_rew/dt))+'_start_'+str(start)+'_dq_'+str(np.int64(dose_quantity*10))\n",
    "            timeseries_infec_frac.to_hdf(filename_infec_frac, key = key_val, mode='a')\n",
    "            timeseries_in_degree.to_hdf(filename_in_deg, key = key_val, mode='a')\n",
    "            timeseries_out_degree.to_hdf(filename_out_deg, key = key_val, mode='a')\n",
    "            timeseries_strong_comps.to_hdf(filename_strong_comps, key = key_val, mode='a')\n",
    "            timeseries_weak_comps.to_hdf(filename_weak_comps, key = key_val, mode='a')\n",
    "            df_row = 0"
   ]
  },
  {
   "cell_type": "code",
   "execution_count": 86,
   "metadata": {},
   "outputs": [],
   "source": [
    "# '''time series plot of a fixed start but varying p'''\n",
    "# a = 4 #this is the value of p-1\n",
    "# for i in np.arange(0,110,10) : \n",
    "#     print(a+i)\n",
    "#     timeseries_infec_frac.loc[a+i,:].plot()\n",
    "# plt.ylim(-0.1,1.1)\n",
    "# # plt.xlim(0,10)\n",
    "# plt.legend(loc=(1,1))\n",
    "# plt.show()"
   ]
  },
  {
   "cell_type": "code",
   "execution_count": 87,
   "metadata": {},
   "outputs": [],
   "source": [
    "# plt.clf()\n",
    "# '''time series plot of a fixed p but varying start'''\n",
    "# a = 40 # this is the value of p\n",
    "# for i in range(0,11) :\n",
    "#     timeseries_infec_frac.loc[a+i,:].plot()\n",
    "# plt.ylim(-0.1,1.1)\n",
    "# # plt.ylim(-0.01,0.11)\n",
    "# # plt.xlim(0,2.5)\n",
    "# plt.legend(loc=(1,1))\n",
    "# plt.show()"
   ]
  },
  {
   "cell_type": "code",
   "execution_count": 88,
   "metadata": {},
   "outputs": [],
   "source": [
    "# start_len = 10\n",
    "# p_len = 11\n",
    "# X,Y = np.meshgrid([i*0.01 for i in range(11,21)],[i*0.1 for i in range(0,11)])\n",
    "# print('X = ', X)\n",
    "# print('Y = ', Y)\n",
    "# phi = 999*np.ones((p_len,start_len))\n",
    "# counter = 0\n",
    "# last_col = np.int64((T/dt)-1)\n",
    "# for i in range(p_len) :\n",
    "#     for j in range(start_len) :\n",
    "#         phi[i,j] = timeseries_infec_frac.loc[counter,(last_col-100)+1:last_col].mean()\n",
    "#         counter = counter + 1\n",
    "# # print(counter)\n",
    "# print(phi)\n",
    "# fig = plt.gcf()\n",
    "# fig.set_size_inches(10, 9)\n",
    "# plt.scatter(X, Y,s=500,c=phi,vmin=0,vmax=1)\n",
    "# plt.colorbar()\n",
    "# plt.xlabel(r'$\\phi_{ini}$', fontsize = 20)\n",
    "# plt.ylabel(r'$p\\times dt$', fontsize = 20)\n",
    "# plt.xlim(0.10,0.21)\n",
    "# plt.title(r'$\\phi^*,p_{rew}=0.5,av_{deg}=9,d=1,d^*=3,\\gamma=5,T=N=100,dt=0.1,r=1$',fontsize = 15)\n",
    "# plt.savefig('static_avdeg_9_ini_0_11.svg',format='svg')\n",
    "# plt.show()"
   ]
  },
  {
   "cell_type": "code",
   "execution_count": 89,
   "metadata": {},
   "outputs": [],
   "source": [
    "# filename = 'file_avdeg_'+str(average_degree)+'_ini_'+str(np.int64(X[0,0]*N))+'_'+str(np.int64(X[p_len-1,start_len-1]*N))+'.h5'\n",
    "# key \n",
    "# timeseries_infec_frac.to_hdf(filename, key='timeseries_infec_frac', mode='w')"
   ]
  },
  {
   "cell_type": "code",
   "execution_count": 90,
   "metadata": {},
   "outputs": [],
   "source": [
    "# import h5py\n",
    "# f = h5py.File('file_avdeg_6_ini_0_11.h5', 'r')\n",
    "# [key for key in f.keys()]\n",
    "# pd.read_hdf('file_avdeg_6_ini_0_11_firstattemp.h5','p_rew_2')"
   ]
  },
  {
   "cell_type": "code",
   "execution_count": 91,
   "metadata": {},
   "outputs": [
    {
     "name": "stdout",
     "output_type": "stream",
     "text": [
      "   0\n",
      "0  0\n",
      "1  1\n",
      "2  2\n",
      "3  1\n",
      "4  1\n",
      "5  1\n"
     ]
    },
    {
     "data": {
      "image/png": "[encoded data removed]",
      "text/plain": [
       "<Figure size 432x288 with 1 Axes>"
      ]
     },
     "metadata": {},
     "output_type": "display_data"
    }
   ],
   "source": [
    "timeseries= pd.DataFrame()\n",
    "G = nx.DiGraph()\n",
    "G.add_nodes_from(range(5))\n",
    "G.add_edges_from([(0,1),(1,2),(2,3),(3,4),(4,5),(4,2)])\n",
    "nx.draw(G)\n",
    "# nx.number_weakly_connected_components(G)\n",
    "la = np.asarray([val for (node, val) in G.in_degree()])\n",
    "timeseries.loc[:,0] = la\n",
    "print(timeseries)"
   ]
  }
 ],
 "metadata": {
  "kernelspec": {
   "display_name": "Python 3",
   "language": "python",
   "name": "python3"
  },
  "language_info": {
   "codemirror_mode": {
    "name": "ipython",
    "version": 3
   },
   "file_extension": ".py",
   "mimetype": "text/x-python",
   "name": "python",
   "nbconvert_exporter": "python",
   "pygments_lexer": "ipython3",
   "version": "3.7.1"
  }
 },
 "nbformat": 4,
 "nbformat_minor": 2
}
