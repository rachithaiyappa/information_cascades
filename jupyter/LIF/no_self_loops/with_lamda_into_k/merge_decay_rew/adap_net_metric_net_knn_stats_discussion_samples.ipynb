{
 "cells": [
  {
   "cell_type": "markdown",
   "metadata": {},
   "source": [
    "## Leaky integrated firing neuron model  \n",
    "## Few feautures :\n",
    "### Spatial network, no memory term but exponential decay of cumulative dose\n",
    "\n",
    "This is a minor change of the Dodds and Watts model  \n",
    "Implement adaptive rewiring and generate statistics"
   ]
  },
  {
   "cell_type": "code",
   "execution_count": 52,
   "metadata": {},
   "outputs": [],
   "source": [
    "#importing the required libraries\n",
    "\n",
    "import networkx as nx\n",
    "import matplotlib.pyplot as plt #for plotting\n",
    "import numpy as np #for using arrays and vectorising the code wherever possible\n",
    "import scipy\n",
    "import random\n",
    "# from numba import jit #numba precomplier to make the code faster\n",
    "import pandas as pd\n",
    "import copy"
   ]
  },
  {
   "cell_type": "markdown",
   "metadata": {},
   "source": [
    "# Variables used in the simulation"
   ]
  },
  {
   "cell_type": "code",
   "execution_count": 53,
   "metadata": {},
   "outputs": [
    {
     "data": {
      "text/plain": [
       "'rewiring parameters'"
      ]
     },
     "execution_count": 53,
     "metadata": {},
     "output_type": "execute_result"
    }
   ],
   "source": [
    "N = 100\n",
    "gamma = 1 #decay of cumulative dose per unit time (second)\n",
    "T = 100 #total number of seconds\n",
    "dt = 0.05 #seconds\n",
    "'''number of simulation steps is T/dt'''\n",
    "\n",
    "'''Dodds watts parameters'''\n",
    "p = 1 #rate of dose transfer (per unit time (second))\n",
    "p = p*dt #rate of dose transfer per unit simulation step\n",
    "r = 1/dt\n",
    "r = r*dt\n",
    "rho = 1/dt\n",
    "rho = rho*dt\n",
    "# r = 0.5\n",
    "# r = r*dt\n",
    "\n",
    "d_star = 1\n",
    "# dose_quantity = 1\n",
    "D_ini = 3\n",
    "\n",
    "'''network parameters'''\n",
    "circ_rad = 100 #for a network in which each node is connected to other nodes withing a circle of radius circ_rad\n",
    "nn = 7 #the number of nearest neighbours(i.e. k) in knn\n",
    "average_degree = 6\n",
    "total_edges = N*2\n",
    "\n",
    "'''rewiring parameters'''\n",
    "# p_rew = 5 #rate of rewiring(per unit time(second))\n",
    "# p_rew = p_rew*dt"
   ]
  },
  {
   "cell_type": "markdown",
   "metadata": {},
   "source": [
    "# Creating the network. \n",
    "### The network outputs coordinates, distance matrix, edge_list and adjacency matrix"
   ]
  },
  {
   "cell_type": "code",
   "execution_count": 54,
   "metadata": {},
   "outputs": [],
   "source": [
    "'''\n",
    "obtains the number of nodes N\n",
    "generates N points\n",
    "calculates euclidean distance between each pair of points\n",
    "returns the coordinates of the points and the distance matrix which is N*N\n",
    "'''\n",
    "def calc_dist(N) :\n",
    "    coords = []\n",
    "    for counter in range(N) :\n",
    "        coords.append((N*np.random.random(),N*np.random.random()))\n",
    "\n",
    "    dist_mat = scipy.spatial.distance.cdist(coords,coords)\n",
    "    return dist_mat,coords"
   ]
  },
  {
   "cell_type": "markdown",
   "metadata": {},
   "source": [
    "### 1. metric network"
   ]
  },
  {
   "cell_type": "code",
   "execution_count": 55,
   "metadata": {},
   "outputs": [],
   "source": [
    "'''network = connect to points withing a circle of radius'''\n",
    "#creates a link between points/nodes which satisfies the conditions of the network\n",
    "def coupling(dist_mat,circ_rad) :\n",
    "    edge_list = []\n",
    "    edge_mask = (dist_mat<circ_rad) & (dist_mat>0)\n",
    "    edge_list.extend(np.ndarray.tolist(np.transpose(np.where(edge_mask))))\n",
    "#     print(type(np.ndarray.tolist(np.transpose(np.where(edge_mask)))))\n",
    "    return edge_list"
   ]
  },
  {
   "cell_type": "markdown",
   "metadata": {},
   "source": [
    "### 2. K nearest neighbour network"
   ]
  },
  {
   "cell_type": "code",
   "execution_count": 56,
   "metadata": {},
   "outputs": [],
   "source": [
    "'''network = knn'''\n",
    "def knn(dist_mat,nn,N) :\n",
    "    near_neigh = np.argsort(dist_mat)\n",
    "    selec_near_neigh = np.zeros((N,nn))\n",
    "    selec_near_neigh = near_neigh[:,0:nn+1]\n",
    "\n",
    "    edge_list = []\n",
    "    for i in range(N) :\n",
    "        for j in range(1,nn+1) :\n",
    "            link = [i,selec_near_neigh[i,j]]\n",
    "            edge_list.append(link)\n",
    "\n",
    "    return edge_list"
   ]
  },
  {
   "cell_type": "markdown",
   "metadata": {},
   "source": [
    "### 3. Random Network : GNP type"
   ]
  },
  {
   "cell_type": "code",
   "execution_count": 57,
   "metadata": {},
   "outputs": [],
   "source": [
    "'''random network'''\n",
    "def rand_network(average_degree,N) :\n",
    "    z1 = np.random.uniform(size = (N,N))\n",
    "    E,F = np.meshgrid(np.arange(0,N),np.arange(0,N))\n",
    "    mask = ((average_degree/N) > z1) & (E!=F)\n",
    "    adjacency_matrix = np.int64(np.zeros(shape=(N,N)))\n",
    "    adjacency_matrix[mask] = np.int64(1)\n",
    "    edge_list = []\n",
    "    edge_list.extend(np.ndarray.tolist(np.transpose(np.where(adjacency_matrix==1))))\n",
    "    return edge_list,adjacency_matrix"
   ]
  },
  {
   "cell_type": "markdown",
   "metadata": {},
   "source": [
    "### 4. Random Network : GNM type"
   ]
  },
  {
   "cell_type": "code",
   "execution_count": 58,
   "metadata": {},
   "outputs": [],
   "source": [
    "def rand_net_gnm(total_edges,N) :\n",
    "    the_graph = nx.gnm_random_graph(N, total_edges,directed=True)\n",
    "    adjacency_matrix = nx.adjacency_matrix(the_graph)\n",
    "    adjacency_matrix = np.asarray(adjacency_matrix.todense())\n",
    "    np.fill_diagonal(adjacency_matrix,0)\n",
    "    edge_list = []\n",
    "    edge_list.extend(np.ndarray.tolist(np.transpose(np.where(adjacency_matrix==1))))\n",
    "    return edge_list"
   ]
  },
  {
   "cell_type": "markdown",
   "metadata": {},
   "source": [
    "# Function defintions required for the main part of the script"
   ]
  },
  {
   "cell_type": "code",
   "execution_count": 59,
   "metadata": {},
   "outputs": [],
   "source": [
    "# # @jit(nopython=True)\n",
    "# '''infecting the left part of space.'''\n",
    "# def left_part_infec(N) :\n",
    "#     x_coord = []\n",
    "#     y_coord = []\n",
    "#     for j in range(len(coords)) :\n",
    "#         x_coord.append(coords[j][0])\n",
    "#         y_coord.append(coords[j][1])\n",
    "#     x_coord = np.asarray(x_coord)\n",
    "#     y_coord = np.asarray(y_coord)\n",
    "#     points = np.asarray(np.where(x_coord<(N/5))) \n",
    "#     indi_state[points.T] = 2\n",
    "\n",
    "#     return indi_state"
   ]
  },
  {
   "cell_type": "code",
   "execution_count": 60,
   "metadata": {},
   "outputs": [],
   "source": [
    "'''infecting connected nodes'''\n",
    "def InfectNetworkNeighbors(net,seed_node,init_infected_nodes):\n",
    "     # if in bulk find one node randomly, and infect its neighbours\n",
    "    infected_nodes = set()\n",
    "    candidate_nodes = set()\n",
    "    explored_nodes = set()\n",
    "\n",
    "    #pick the seed node\n",
    "    infected_nodes.add(seed_node)\n",
    "    explored_nodes.add(seed_node)\n",
    "\n",
    "    curr_node=seed_node\n",
    "\n",
    "    #add its neighbors to the list of candidates\n",
    "    for n in net.neighbors(curr_node):\n",
    "        candidate_nodes.add(int(n))\n",
    "    #print( curr_node)\n",
    "    #print( candidate_nodes)\n",
    "\n",
    "    #while we need to select more nodes...\n",
    "    while len(infected_nodes) < init_infected_nodes:\n",
    "\n",
    "        #if there are candidate nodes, select one of them\n",
    "        if(len(candidate_nodes) > 0):\n",
    "            new_node = np.random.choice(list(candidate_nodes),1)[0]\n",
    "            infected_nodes.add(new_node)\n",
    "            candidate_nodes.remove(new_node)\n",
    "\n",
    "        elif len(infected_nodes - explored_nodes) > 0:\n",
    "            curr_node = np.random.choice(list(infected_nodes -\n",
    "            explored_nodes),1)[0]\n",
    "            explored_nodes.add(curr_node)\n",
    "            for n in set(net.neighbors(curr_node)) - infected_nodes:\n",
    "                candidate_nodes.add(n)\n",
    "\n",
    "        else:\n",
    "            print('Initial node infection step failed')\n",
    "            return None\n",
    "    return infected_nodes"
   ]
  },
  {
   "cell_type": "code",
   "execution_count": 61,
   "metadata": {},
   "outputs": [],
   "source": [
    "''' function to transfer doses'''\n",
    "# @jit(nopython=True)\n",
    "def dose(adj_mat,p,partner_state_prev,d) :\n",
    "\n",
    "    z1 = np.random.uniform(size=(len(adj_mat),len(adj_mat[0])))\n",
    "    \n",
    "    dose_transfer_mask = p > z1\n",
    "    mod_adj_mat = np.multiply(adj_mat,z1) #modifying adjacency matrix to include the proability of dose transfer\n",
    "    dose_mask = (p>mod_adj_mat) & (adj_mat!=0) & (partner_state_prev == 2)\n",
    "    d[dose_mask] = dose_quantity #whenever it is proabable, dose transfer occurs\n",
    "    \n",
    "    return d"
   ]
  },
  {
   "cell_type": "code",
   "execution_count": 62,
   "metadata": {},
   "outputs": [],
   "source": [
    "'''rewiring function which returns a new adjacency matrix'''\n",
    "\n",
    "def rew(p_rew,adjacency_matrix,indi_state_for_rew_prev,OD_mesh2,lamb_da) :\n",
    "    \n",
    "    z1_rew = np.random.uniform(size=(len(adj_mat),len(adj_mat[0])))\n",
    "    \n",
    "    rew_mask_plus = (p_rew > z1_rew)  & (indi_state_for_rew_prev == 1)\n",
    "    #create links. Dont break any.\n",
    "    adjacency_matrix[rew_mask_plus] = 1\n",
    "    rew_mask_minus1 = ((p_rew + lamb_da*OD_mesh2) > z1_rew) & (indi_state_for_rew_prev == 2)\n",
    "    #break links. Dont create any.\n",
    "    adjacency_matrix[rew_mask_minus1] = 0\n",
    "    rew_mask_minus2 = (lamb_da*OD_mesh2 > z1_rew) & (indi_state_for_rew_prev == 1)\n",
    "    adjacency_matrix[rew_mask_minus2] = 0\n",
    "    \n",
    "    np.fill_diagonal(adjacency_matrix,0)\n",
    "    \n",
    "    return adjacency_matrix"
   ]
  },
  {
   "cell_type": "code",
   "execution_count": 63,
   "metadata": {},
   "outputs": [],
   "source": [
    "'''function to update cumulative doses'''\n",
    "def cumu_dose(d,D_prev,gamma) :\n",
    "    I = d.sum(axis=1).reshape(N,1)\n",
    "#     I = 0\n",
    "    D = (D_prev - (gamma*D_prev*dt)) + I\n",
    "    return D"
   ]
  },
  {
   "cell_type": "code",
   "execution_count": 64,
   "metadata": {},
   "outputs": [],
   "source": [
    "'''function to update the states of the nodes of the system'''\n",
    "def upd_indi_state(D,d_star,indi_state_prev) :\n",
    "    \n",
    "    z2 = np.random.uniform(size=(N,1))\n",
    "    z3 = np.random.uniform(size=(N,1))\n",
    "    \n",
    "    indi_state = indi_state_prev\n",
    "    \n",
    "    indi_state_mask1 = (D>=d_star) & (indi_state_prev==1)\n",
    "    indi_state[indi_state_mask1] = 2\n",
    "    \n",
    "    indi_state_mask21 = (D<d_star) & (indi_state_prev==2) & (r>=z2) & (rho>=z3)\n",
    "    indi_state[indi_state_mask21] = 1\n",
    "    \n",
    "    indi_state_mask22 = (D<d_star) & (indi_state_prev==2) & (r>=z2) & (rho<z3)\n",
    "    indi_state[indi_state_mask22] = 3\n",
    "    \n",
    "    indi_state_mask23 = (D<d_star) & (indi_state_prev==2) & (r<z2)\n",
    "    indi_state[indi_state_mask23] = 2\n",
    "    \n",
    "    return indi_state"
   ]
  },
  {
   "cell_type": "code",
   "execution_count": 65,
   "metadata": {},
   "outputs": [],
   "source": [
    "'''function to get/identify the infected nodes and the suceptible nodes'''\n",
    "def states(indi_state) :\n",
    "    infec_indi = []\n",
    "    suscep_indi = []\n",
    "    infec_indi = np.transpose(np.where(indi_state==2))\n",
    "    suscep_indi = np.transpose(np.where(indi_state==1))\n",
    "    return infec_indi,suscep_indi"
   ]
  },
  {
   "cell_type": "code",
   "execution_count": 66,
   "metadata": {},
   "outputs": [],
   "source": [
    "def networkx_graph(coords,edge_list) :\n",
    "    G = nx.DiGraph()\n",
    "    pos = {(i): (coords[i][0],coords[i][1]) for i in range(N)}\n",
    "    G.add_nodes_from(pos.keys())\n",
    "    G.add_edges_from(edge_list)\n",
    "    return G"
   ]
  },
  {
   "cell_type": "code",
   "execution_count": 67,
   "metadata": {},
   "outputs": [],
   "source": [
    "def edge_from_adj_mat(adj_mat_list,q):\n",
    "    edge_list = []\n",
    "    edge_list.extend(np.ndarray.tolist(np.transpose(np.where(adj_mat_list[q]==1))))\n",
    "    return edge_list"
   ]
  },
  {
   "cell_type": "markdown",
   "metadata": {},
   "source": [
    "# Choose which network you want in the program\n",
    "### Coupling network of knn network?"
   ]
  },
  {
   "cell_type": "code",
   "execution_count": 68,
   "metadata": {},
   "outputs": [],
   "source": [
    "'''returns coordinates, distance matrix, edge_list and the adjacency matrix'''\n",
    "\n",
    "dist_mat,coords = calc_dist(N) #node placement\n",
    "\n",
    "# edge_list = coupling(dist_mat,circ_rad)\n",
    "# edge_list = knn(dist_mat,nn,N)\n",
    "# edge_list = rand_network(average_degree,N)\n",
    "edge_list = rand_net_gnm(total_edges,N)\n",
    "\n",
    "org_adj_mat = np.int64(np.zeros((N,N)))\n",
    "for i in range(len(edge_list)):\n",
    "    org_adj_mat[edge_list[i][0],edge_list[i][1]] = np.int64(1)"
   ]
  },
  {
   "cell_type": "markdown",
   "metadata": {},
   "source": [
    "# The main part of the script"
   ]
  },
  {
   "cell_type": "code",
   "execution_count": 69,
   "metadata": {},
   "outputs": [],
   "source": [
    "#infected state time series data frame\n",
    "#columns indicate the time steps\n",
    "timeseries_infec_frac = pd.DataFrame()\n",
    "\n",
    "#in degree as columns and rows as nodes\n",
    "timeseries_in_degree = pd.DataFrame() \n",
    "\n",
    "#out degree as columns and rows as nodes\n",
    "timeseries_out_degree = pd.DataFrame()\n",
    "\n",
    "#strongly connected components as columns\n",
    "timeseries_connec_comps = pd.DataFrame()"
   ]
  },
  {
   "cell_type": "code",
   "execution_count": 70,
   "metadata": {},
   "outputs": [],
   "source": [
    "p_rew_vals = [0.01,0.1,1]\n",
    "start_vals = [1,10]\n",
    "dose_quantity_vals = [0.1,2]"
   ]
  },
  {
   "cell_type": "code",
   "execution_count": 71,
   "metadata": {},
   "outputs": [
    {
     "name": "stdout",
     "output_type": "stream",
     "text": [
      "(sim,lamb_da,p_rew,start,dose_quantity) =  (70, 0.001, 0.01, 1, 0.1)\n",
      "{53}\n",
      "sim_70_p_rew_0.01_start_1_dq_0.1\n",
      "(sim,lamb_da,p_rew,start,dose_quantity) =  (70, 0.001, 0.01, 1, 2)\n",
      "{91}\n",
      "sim_70_p_rew_0.01_start_1_dq_2\n",
      "(sim,lamb_da,p_rew,start,dose_quantity) =  (70, 0.001, 0.01, 10, 0.1)\n",
      "{0, 3, 99, 7, 9, 74, 42, 44, 50, 86}\n",
      "sim_70_p_rew_0.01_start_10_dq_0.1\n",
      "(sim,lamb_da,p_rew,start,dose_quantity) =  (70, 0.001, 0.01, 10, 2)\n",
      "{96, 2, 71, 8, 9, 76, 28, 58, 60, 30}\n",
      "sim_70_p_rew_0.01_start_10_dq_2\n",
      "(sim,lamb_da,p_rew,start,dose_quantity) =  (70, 0.01, 0.10000000000000002, 1, 0.1)\n",
      "{42}\n",
      "sim_70_p_rew_0.1_start_1_dq_0.1\n",
      "(sim,lamb_da,p_rew,start,dose_quantity) =  (70, 0.01, 0.10000000000000002, 1, 2)\n",
      "{24}\n",
      "sim_70_p_rew_0.1_start_1_dq_2\n",
      "(sim,lamb_da,p_rew,start,dose_quantity) =  (70, 0.01, 0.10000000000000002, 10, 0.1)\n",
      "{2, 7, 41, 45, 78, 48, 16, 21, 90, 92}\n",
      "sim_70_p_rew_0.1_start_10_dq_0.1\n",
      "(sim,lamb_da,p_rew,start,dose_quantity) =  (70, 0.01, 0.10000000000000002, 10, 2)\n",
      "{32, 5, 45, 80, 18, 83, 20, 21, 55, 31}\n",
      "sim_70_p_rew_0.1_start_10_dq_2\n",
      "(sim,lamb_da,p_rew,start,dose_quantity) =  (70, 0.10000000000000002, 1.0, 1, 0.1)\n",
      "{81}\n",
      "sim_70_p_rew_1_start_1_dq_0.1\n",
      "(sim,lamb_da,p_rew,start,dose_quantity) =  (70, 0.10000000000000002, 1.0, 1, 2)\n",
      "{58}\n",
      "sim_70_p_rew_1_start_1_dq_2\n",
      "(sim,lamb_da,p_rew,start,dose_quantity) =  (70, 0.10000000000000002, 1.0, 10, 0.1)\n",
      "{34, 44, 16, 52, 21, 23, 88, 57, 56, 92}\n",
      "sim_70_p_rew_1_start_10_dq_0.1\n",
      "(sim,lamb_da,p_rew,start,dose_quantity) =  (70, 0.10000000000000002, 1.0, 10, 2)\n",
      "{32, 96, 2, 35, 69, 40, 74, 44, 76, 82}\n",
      "sim_70_p_rew_1_start_10_dq_2\n",
      "(sim,lamb_da,p_rew,start,dose_quantity) =  (71, 0.001, 0.01, 1, 0.1)\n",
      "{93}\n",
      "sim_71_p_rew_0.01_start_1_dq_0.1\n",
      "(sim,lamb_da,p_rew,start,dose_quantity) =  (71, 0.001, 0.01, 1, 2)\n",
      "{83}\n",
      "sim_71_p_rew_0.01_start_1_dq_2\n",
      "(sim,lamb_da,p_rew,start,dose_quantity) =  (71, 0.001, 0.01, 10, 0.1)\n",
      "{64, 41, 74, 11, 75, 42, 21, 22, 89, 60}\n",
      "sim_71_p_rew_0.01_start_10_dq_0.1\n",
      "(sim,lamb_da,p_rew,start,dose_quantity) =  (71, 0.001, 0.01, 10, 2)\n",
      "{70, 9, 10, 75, 12, 16, 84, 24, 59, 61}\n",
      "sim_71_p_rew_0.01_start_10_dq_2\n",
      "(sim,lamb_da,p_rew,start,dose_quantity) =  (71, 0.01, 0.10000000000000002, 1, 0.1)\n",
      "{69}\n",
      "sim_71_p_rew_0.1_start_1_dq_0.1\n",
      "(sim,lamb_da,p_rew,start,dose_quantity) =  (71, 0.01, 0.10000000000000002, 1, 2)\n",
      "{98}\n",
      "sim_71_p_rew_0.1_start_1_dq_2\n",
      "(sim,lamb_da,p_rew,start,dose_quantity) =  (71, 0.01, 0.10000000000000002, 10, 0.1)\n",
      "{2, 99, 40, 41, 13, 82, 84, 87, 57, 29}\n",
      "sim_71_p_rew_0.1_start_10_dq_0.1\n",
      "(sim,lamb_da,p_rew,start,dose_quantity) =  (71, 0.01, 0.10000000000000002, 10, 2)\n",
      "{96, 65, 38, 8, 78, 51, 19, 54, 89, 61}\n",
      "sim_71_p_rew_0.1_start_10_dq_2\n",
      "(sim,lamb_da,p_rew,start,dose_quantity) =  (71, 0.10000000000000002, 1.0, 1, 0.1)\n",
      "{99}\n",
      "sim_71_p_rew_1_start_1_dq_0.1\n",
      "(sim,lamb_da,p_rew,start,dose_quantity) =  (71, 0.10000000000000002, 1.0, 1, 2)\n",
      "{82}\n",
      "sim_71_p_rew_1_start_1_dq_2\n",
      "(sim,lamb_da,p_rew,start,dose_quantity) =  (71, 0.10000000000000002, 1.0, 10, 0.1)\n",
      "Initial node infection step failed\n",
      "None\n",
      "{65, 67, 69, 77, 48, 21, 22, 55, 60, 62}\n",
      "sim_71_p_rew_1_start_10_dq_0.1\n",
      "(sim,lamb_da,p_rew,start,dose_quantity) =  (71, 0.10000000000000002, 1.0, 10, 2)\n",
      "{67, 10, 74, 15, 48, 56, 89, 90, 88, 24}\n",
      "sim_71_p_rew_1_start_10_dq_2\n",
      "(sim,lamb_da,p_rew,start,dose_quantity) =  (72, 0.001, 0.01, 1, 0.1)\n",
      "{51}\n",
      "sim_72_p_rew_0.01_start_1_dq_0.1\n",
      "(sim,lamb_da,p_rew,start,dose_quantity) =  (72, 0.001, 0.01, 1, 2)\n",
      "{17}\n",
      "sim_72_p_rew_0.01_start_1_dq_2\n",
      "(sim,lamb_da,p_rew,start,dose_quantity) =  (72, 0.001, 0.01, 10, 0.1)\n",
      "{0, 69, 73, 10, 45, 16, 80, 25, 90, 30}\n",
      "sim_72_p_rew_0.01_start_10_dq_0.1\n",
      "(sim,lamb_da,p_rew,start,dose_quantity) =  (72, 0.001, 0.01, 10, 2)\n",
      "{66, 71, 40, 9, 10, 76, 46, 81, 20, 28}\n",
      "sim_72_p_rew_0.01_start_10_dq_2\n",
      "(sim,lamb_da,p_rew,start,dose_quantity) =  (72, 0.01, 0.10000000000000002, 1, 0.1)\n",
      "{8}\n",
      "sim_72_p_rew_0.1_start_1_dq_0.1\n",
      "(sim,lamb_da,p_rew,start,dose_quantity) =  (72, 0.01, 0.10000000000000002, 1, 2)\n",
      "{38}\n",
      "sim_72_p_rew_0.1_start_1_dq_2\n",
      "(sim,lamb_da,p_rew,start,dose_quantity) =  (72, 0.01, 0.10000000000000002, 10, 0.1)\n",
      "{68, 5, 73, 10, 15, 16, 48, 47, 91, 63}\n",
      "sim_72_p_rew_0.1_start_10_dq_0.1\n",
      "(sim,lamb_da,p_rew,start,dose_quantity) =  (72, 0.01, 0.10000000000000002, 10, 2)\n",
      "{4, 7, 71, 76, 82, 55, 54, 87, 89, 26}\n",
      "sim_72_p_rew_0.1_start_10_dq_2\n",
      "(sim,lamb_da,p_rew,start,dose_quantity) =  (72, 0.10000000000000002, 1.0, 1, 0.1)\n",
      "{47}\n",
      "sim_72_p_rew_1_start_1_dq_0.1\n",
      "(sim,lamb_da,p_rew,start,dose_quantity) =  (72, 0.10000000000000002, 1.0, 1, 2)\n",
      "{21}\n",
      "sim_72_p_rew_1_start_1_dq_2\n",
      "(sim,lamb_da,p_rew,start,dose_quantity) =  (72, 0.10000000000000002, 1.0, 10, 0.1)\n",
      "Initial node infection step failed\n",
      "None\n",
      "Initial node infection step failed\n",
      "None\n",
      "Initial node infection step failed\n",
      "None\n",
      "{65, 34, 8, 45, 46, 79, 14, 15, 55, 29}\n",
      "sim_72_p_rew_1_start_10_dq_0.1\n",
      "(sim,lamb_da,p_rew,start,dose_quantity) =  (72, 0.10000000000000002, 1.0, 10, 2)\n",
      "{35, 36, 99, 70, 7, 85, 54, 25, 90, 91}\n",
      "sim_72_p_rew_1_start_10_dq_2\n",
      "(sim,lamb_da,p_rew,start,dose_quantity) =  (73, 0.001, 0.01, 1, 0.1)\n",
      "{56}\n",
      "sim_73_p_rew_0.01_start_1_dq_0.1\n"
     ]
    },
    {
     "name": "stderr",
     "output_type": "stream",
     "text": [
      "/home/aiyappa/anaconda3/lib/python3.7/site-packages/tables/path.py:112: NaturalNameWarning: object name is not a valid Python identifier: 'sim_73_p_rew_0.01_start_1_dq_0.1'; it does not match the pattern ``^[a-zA-Z_][a-zA-Z0-9_]*$``; you will not be able to use natural naming to access this object; using ``getattr()`` will still work, though\n",
      "  NaturalNameWarning)\n"
     ]
    },
    {
     "name": "stdout",
     "output_type": "stream",
     "text": [
      "(sim,lamb_da,p_rew,start,dose_quantity) =  (73, 0.001, 0.01, 1, 2)\n",
      "{69}\n",
      "sim_73_p_rew_0.01_start_1_dq_2\n"
     ]
    },
    {
     "name": "stderr",
     "output_type": "stream",
     "text": [
      "/home/aiyappa/anaconda3/lib/python3.7/site-packages/tables/path.py:112: NaturalNameWarning: object name is not a valid Python identifier: 'sim_73_p_rew_0.01_start_1_dq_2'; it does not match the pattern ``^[a-zA-Z_][a-zA-Z0-9_]*$``; you will not be able to use natural naming to access this object; using ``getattr()`` will still work, though\n",
      "  NaturalNameWarning)\n"
     ]
    },
    {
     "name": "stdout",
     "output_type": "stream",
     "text": [
      "(sim,lamb_da,p_rew,start,dose_quantity) =  (73, 0.001, 0.01, 10, 0.1)\n",
      "{8, 10, 13, 77, 49, 21, 88, 93, 94, 31}\n",
      "sim_73_p_rew_0.01_start_10_dq_0.1\n"
     ]
    },
    {
     "name": "stderr",
     "output_type": "stream",
     "text": [
      "/home/aiyappa/anaconda3/lib/python3.7/site-packages/tables/path.py:112: NaturalNameWarning: object name is not a valid Python identifier: 'sim_73_p_rew_0.01_start_10_dq_0.1'; it does not match the pattern ``^[a-zA-Z_][a-zA-Z0-9_]*$``; you will not be able to use natural naming to access this object; using ``getattr()`` will still work, though\n",
      "  NaturalNameWarning)\n"
     ]
    },
    {
     "name": "stdout",
     "output_type": "stream",
     "text": [
      "(sim,lamb_da,p_rew,start,dose_quantity) =  (73, 0.001, 0.01, 10, 2)\n",
      "{64, 42, 45, 49, 81, 86, 23, 59, 28, 31}\n",
      "sim_73_p_rew_0.01_start_10_dq_2\n"
     ]
    },
    {
     "name": "stderr",
     "output_type": "stream",
     "text": [
      "/home/aiyappa/anaconda3/lib/python3.7/site-packages/tables/path.py:112: NaturalNameWarning: object name is not a valid Python identifier: 'sim_73_p_rew_0.01_start_10_dq_2'; it does not match the pattern ``^[a-zA-Z_][a-zA-Z0-9_]*$``; you will not be able to use natural naming to access this object; using ``getattr()`` will still work, though\n",
      "  NaturalNameWarning)\n"
     ]
    },
    {
     "name": "stdout",
     "output_type": "stream",
     "text": [
      "(sim,lamb_da,p_rew,start,dose_quantity) =  (73, 0.01, 0.10000000000000002, 1, 0.1)\n",
      "{30}\n",
      "sim_73_p_rew_0.1_start_1_dq_0.1\n"
     ]
    },
    {
     "name": "stderr",
     "output_type": "stream",
     "text": [
      "/home/aiyappa/anaconda3/lib/python3.7/site-packages/tables/path.py:112: NaturalNameWarning: object name is not a valid Python identifier: 'sim_73_p_rew_0.1_start_1_dq_0.1'; it does not match the pattern ``^[a-zA-Z_][a-zA-Z0-9_]*$``; you will not be able to use natural naming to access this object; using ``getattr()`` will still work, though\n",
      "  NaturalNameWarning)\n"
     ]
    },
    {
     "name": "stdout",
     "output_type": "stream",
     "text": [
      "(sim,lamb_da,p_rew,start,dose_quantity) =  (73, 0.01, 0.10000000000000002, 1, 2)\n",
      "{82}\n",
      "sim_73_p_rew_0.1_start_1_dq_2\n"
     ]
    },
    {
     "name": "stderr",
     "output_type": "stream",
     "text": [
      "/home/aiyappa/anaconda3/lib/python3.7/site-packages/tables/path.py:112: NaturalNameWarning: object name is not a valid Python identifier: 'sim_73_p_rew_0.1_start_1_dq_2'; it does not match the pattern ``^[a-zA-Z_][a-zA-Z0-9_]*$``; you will not be able to use natural naming to access this object; using ``getattr()`` will still work, though\n",
      "  NaturalNameWarning)\n"
     ]
    },
    {
     "name": "stdout",
     "output_type": "stream",
     "text": [
      "(sim,lamb_da,p_rew,start,dose_quantity) =  (73, 0.01, 0.10000000000000002, 10, 0.1)\n",
      "{1, 37, 70, 73, 50, 51, 19, 85, 54, 23}\n",
      "sim_73_p_rew_0.1_start_10_dq_0.1\n"
     ]
    },
    {
     "name": "stderr",
     "output_type": "stream",
     "text": [
      "/home/aiyappa/anaconda3/lib/python3.7/site-packages/tables/path.py:112: NaturalNameWarning: object name is not a valid Python identifier: 'sim_73_p_rew_0.1_start_10_dq_0.1'; it does not match the pattern ``^[a-zA-Z_][a-zA-Z0-9_]*$``; you will not be able to use natural naming to access this object; using ``getattr()`` will still work, though\n",
      "  NaturalNameWarning)\n"
     ]
    },
    {
     "name": "stdout",
     "output_type": "stream",
     "text": [
      "(sim,lamb_da,p_rew,start,dose_quantity) =  (73, 0.01, 0.10000000000000002, 10, 2)\n",
      "{0, 97, 37, 38, 71, 40, 41, 20, 88, 63}\n",
      "sim_73_p_rew_0.1_start_10_dq_2\n"
     ]
    },
    {
     "name": "stderr",
     "output_type": "stream",
     "text": [
      "/home/aiyappa/anaconda3/lib/python3.7/site-packages/tables/path.py:112: NaturalNameWarning: object name is not a valid Python identifier: 'sim_73_p_rew_0.1_start_10_dq_2'; it does not match the pattern ``^[a-zA-Z_][a-zA-Z0-9_]*$``; you will not be able to use natural naming to access this object; using ``getattr()`` will still work, though\n",
      "  NaturalNameWarning)\n"
     ]
    },
    {
     "name": "stdout",
     "output_type": "stream",
     "text": [
      "(sim,lamb_da,p_rew,start,dose_quantity) =  (73, 0.10000000000000002, 1.0, 1, 0.1)\n",
      "{12}\n",
      "sim_73_p_rew_1_start_1_dq_0.1\n"
     ]
    },
    {
     "name": "stderr",
     "output_type": "stream",
     "text": [
      "/home/aiyappa/anaconda3/lib/python3.7/site-packages/tables/path.py:112: NaturalNameWarning: object name is not a valid Python identifier: 'sim_73_p_rew_1_start_1_dq_0.1'; it does not match the pattern ``^[a-zA-Z_][a-zA-Z0-9_]*$``; you will not be able to use natural naming to access this object; using ``getattr()`` will still work, though\n",
      "  NaturalNameWarning)\n"
     ]
    },
    {
     "name": "stdout",
     "output_type": "stream",
     "text": [
      "(sim,lamb_da,p_rew,start,dose_quantity) =  (73, 0.10000000000000002, 1.0, 1, 2)\n",
      "{48}\n",
      "sim_73_p_rew_1_start_1_dq_2\n",
      "(sim,lamb_da,p_rew,start,dose_quantity) =  (73, 0.10000000000000002, 1.0, 10, 0.1)\n",
      "Initial node infection step failed\n",
      "None\n",
      "{38, 42, 45, 78, 16, 80, 48, 83, 19, 86}\n",
      "sim_73_p_rew_1_start_10_dq_0.1\n"
     ]
    },
    {
     "name": "stderr",
     "output_type": "stream",
     "text": [
      "/home/aiyappa/anaconda3/lib/python3.7/site-packages/tables/path.py:112: NaturalNameWarning: object name is not a valid Python identifier: 'sim_73_p_rew_1_start_10_dq_0.1'; it does not match the pattern ``^[a-zA-Z_][a-zA-Z0-9_]*$``; you will not be able to use natural naming to access this object; using ``getattr()`` will still work, though\n",
      "  NaturalNameWarning)\n"
     ]
    },
    {
     "name": "stdout",
     "output_type": "stream",
     "text": [
      "(sim,lamb_da,p_rew,start,dose_quantity) =  (73, 0.10000000000000002, 1.0, 10, 2)\n",
      "{64, 99, 8, 72, 15, 20, 22, 57, 60, 62}\n",
      "sim_73_p_rew_1_start_10_dq_2\n",
      "(sim,lamb_da,p_rew,start,dose_quantity) =  (74, 0.001, 0.01, 1, 0.1)\n",
      "{62}\n",
      "sim_74_p_rew_0.01_start_1_dq_0.1\n"
     ]
    },
    {
     "name": "stderr",
     "output_type": "stream",
     "text": [
      "/home/aiyappa/anaconda3/lib/python3.7/site-packages/tables/path.py:112: NaturalNameWarning: object name is not a valid Python identifier: 'sim_74_p_rew_0.01_start_1_dq_0.1'; it does not match the pattern ``^[a-zA-Z_][a-zA-Z0-9_]*$``; you will not be able to use natural naming to access this object; using ``getattr()`` will still work, though\n",
      "  NaturalNameWarning)\n"
     ]
    },
    {
     "name": "stdout",
     "output_type": "stream",
     "text": [
      "(sim,lamb_da,p_rew,start,dose_quantity) =  (74, 0.001, 0.01, 1, 2)\n",
      "{88}\n",
      "sim_74_p_rew_0.01_start_1_dq_2\n"
     ]
    },
    {
     "name": "stderr",
     "output_type": "stream",
     "text": [
      "/home/aiyappa/anaconda3/lib/python3.7/site-packages/tables/path.py:112: NaturalNameWarning: object name is not a valid Python identifier: 'sim_74_p_rew_0.01_start_1_dq_2'; it does not match the pattern ``^[a-zA-Z_][a-zA-Z0-9_]*$``; you will not be able to use natural naming to access this object; using ``getattr()`` will still work, though\n",
      "  NaturalNameWarning)\n"
     ]
    },
    {
     "name": "stdout",
     "output_type": "stream",
     "text": [
      "(sim,lamb_da,p_rew,start,dose_quantity) =  (74, 0.001, 0.01, 10, 0.1)\n",
      "{0, 2, 3, 43, 78, 47, 49, 81, 19, 23}\n",
      "sim_74_p_rew_0.01_start_10_dq_0.1\n"
     ]
    },
    {
     "name": "stderr",
     "output_type": "stream",
     "text": [
      "/home/aiyappa/anaconda3/lib/python3.7/site-packages/tables/path.py:112: NaturalNameWarning: object name is not a valid Python identifier: 'sim_74_p_rew_0.01_start_10_dq_0.1'; it does not match the pattern ``^[a-zA-Z_][a-zA-Z0-9_]*$``; you will not be able to use natural naming to access this object; using ``getattr()`` will still work, though\n",
      "  NaturalNameWarning)\n"
     ]
    },
    {
     "name": "stdout",
     "output_type": "stream",
     "text": [
      "(sim,lamb_da,p_rew,start,dose_quantity) =  (74, 0.001, 0.01, 10, 2)\n",
      "{33, 66, 2, 5, 39, 14, 22, 58, 60, 63}\n",
      "sim_74_p_rew_0.01_start_10_dq_2\n"
     ]
    },
    {
     "name": "stderr",
     "output_type": "stream",
     "text": [
      "/home/aiyappa/anaconda3/lib/python3.7/site-packages/tables/path.py:112: NaturalNameWarning: object name is not a valid Python identifier: 'sim_74_p_rew_0.01_start_10_dq_2'; it does not match the pattern ``^[a-zA-Z_][a-zA-Z0-9_]*$``; you will not be able to use natural naming to access this object; using ``getattr()`` will still work, though\n",
      "  NaturalNameWarning)\n"
     ]
    },
    {
     "name": "stdout",
     "output_type": "stream",
     "text": [
      "(sim,lamb_da,p_rew,start,dose_quantity) =  (74, 0.01, 0.10000000000000002, 1, 0.1)\n",
      "{37}\n",
      "sim_74_p_rew_0.1_start_1_dq_0.1\n"
     ]
    },
    {
     "name": "stderr",
     "output_type": "stream",
     "text": [
      "/home/aiyappa/anaconda3/lib/python3.7/site-packages/tables/path.py:112: NaturalNameWarning: object name is not a valid Python identifier: 'sim_74_p_rew_0.1_start_1_dq_0.1'; it does not match the pattern ``^[a-zA-Z_][a-zA-Z0-9_]*$``; you will not be able to use natural naming to access this object; using ``getattr()`` will still work, though\n",
      "  NaturalNameWarning)\n"
     ]
    },
    {
     "name": "stdout",
     "output_type": "stream",
     "text": [
      "(sim,lamb_da,p_rew,start,dose_quantity) =  (74, 0.01, 0.10000000000000002, 1, 2)\n",
      "{6}\n",
      "sim_74_p_rew_0.1_start_1_dq_2\n"
     ]
    },
    {
     "name": "stderr",
     "output_type": "stream",
     "text": [
      "/home/aiyappa/anaconda3/lib/python3.7/site-packages/tables/path.py:112: NaturalNameWarning: object name is not a valid Python identifier: 'sim_74_p_rew_0.1_start_1_dq_2'; it does not match the pattern ``^[a-zA-Z_][a-zA-Z0-9_]*$``; you will not be able to use natural naming to access this object; using ``getattr()`` will still work, though\n",
      "  NaturalNameWarning)\n"
     ]
    },
    {
     "name": "stdout",
     "output_type": "stream",
     "text": [
      "(sim,lamb_da,p_rew,start,dose_quantity) =  (74, 0.01, 0.10000000000000002, 10, 0.1)\n",
      "{37, 38, 11, 12, 84, 25, 90, 29, 30, 57}\n",
      "sim_74_p_rew_0.1_start_10_dq_0.1\n"
     ]
    },
    {
     "name": "stderr",
     "output_type": "stream",
     "text": [
      "/home/aiyappa/anaconda3/lib/python3.7/site-packages/tables/path.py:112: NaturalNameWarning: object name is not a valid Python identifier: 'sim_74_p_rew_0.1_start_10_dq_0.1'; it does not match the pattern ``^[a-zA-Z_][a-zA-Z0-9_]*$``; you will not be able to use natural naming to access this object; using ``getattr()`` will still work, though\n",
      "  NaturalNameWarning)\n"
     ]
    },
    {
     "name": "stdout",
     "output_type": "stream",
     "text": [
      "(sim,lamb_da,p_rew,start,dose_quantity) =  (74, 0.01, 0.10000000000000002, 10, 2)\n",
      "{68, 38, 39, 78, 25, 30, 89, 59, 94, 63}\n",
      "sim_74_p_rew_0.1_start_10_dq_2\n"
     ]
    },
    {
     "name": "stderr",
     "output_type": "stream",
     "text": [
      "/home/aiyappa/anaconda3/lib/python3.7/site-packages/tables/path.py:112: NaturalNameWarning: object name is not a valid Python identifier: 'sim_74_p_rew_0.1_start_10_dq_2'; it does not match the pattern ``^[a-zA-Z_][a-zA-Z0-9_]*$``; you will not be able to use natural naming to access this object; using ``getattr()`` will still work, though\n",
      "  NaturalNameWarning)\n"
     ]
    },
    {
     "name": "stdout",
     "output_type": "stream",
     "text": [
      "(sim,lamb_da,p_rew,start,dose_quantity) =  (74, 0.10000000000000002, 1.0, 1, 0.1)\n",
      "{28}\n",
      "sim_74_p_rew_1_start_1_dq_0.1\n"
     ]
    },
    {
     "name": "stderr",
     "output_type": "stream",
     "text": [
      "/home/aiyappa/anaconda3/lib/python3.7/site-packages/tables/path.py:112: NaturalNameWarning: object name is not a valid Python identifier: 'sim_74_p_rew_1_start_1_dq_0.1'; it does not match the pattern ``^[a-zA-Z_][a-zA-Z0-9_]*$``; you will not be able to use natural naming to access this object; using ``getattr()`` will still work, though\n",
      "  NaturalNameWarning)\n"
     ]
    },
    {
     "name": "stdout",
     "output_type": "stream",
     "text": [
      "(sim,lamb_da,p_rew,start,dose_quantity) =  (74, 0.10000000000000002, 1.0, 1, 2)\n",
      "{55}\n",
      "sim_74_p_rew_1_start_1_dq_2\n",
      "(sim,lamb_da,p_rew,start,dose_quantity) =  (74, 0.10000000000000002, 1.0, 10, 0.1)\n",
      "Initial node infection step failed\n",
      "None\n",
      "{97, 65, 67, 1, 37, 42, 12, 55, 90, 60}\n",
      "sim_74_p_rew_1_start_10_dq_0.1\n"
     ]
    },
    {
     "name": "stderr",
     "output_type": "stream",
     "text": [
      "/home/aiyappa/anaconda3/lib/python3.7/site-packages/tables/path.py:112: NaturalNameWarning: object name is not a valid Python identifier: 'sim_74_p_rew_1_start_10_dq_0.1'; it does not match the pattern ``^[a-zA-Z_][a-zA-Z0-9_]*$``; you will not be able to use natural naming to access this object; using ``getattr()`` will still work, though\n",
      "  NaturalNameWarning)\n"
     ]
    },
    {
     "name": "stdout",
     "output_type": "stream",
     "text": [
      "(sim,lamb_da,p_rew,start,dose_quantity) =  (74, 0.10000000000000002, 1.0, 10, 2)\n",
      "{32, 66, 4, 38, 39, 73, 10, 15, 83, 89}\n",
      "sim_74_p_rew_1_start_10_dq_2\n",
      "(sim,lamb_da,p_rew,start,dose_quantity) =  (75, 0.001, 0.01, 1, 0.1)\n",
      "{90}\n",
      "sim_75_p_rew_0.01_start_1_dq_0.1\n"
     ]
    },
    {
     "name": "stderr",
     "output_type": "stream",
     "text": [
      "/home/aiyappa/anaconda3/lib/python3.7/site-packages/tables/path.py:112: NaturalNameWarning: object name is not a valid Python identifier: 'sim_75_p_rew_0.01_start_1_dq_0.1'; it does not match the pattern ``^[a-zA-Z_][a-zA-Z0-9_]*$``; you will not be able to use natural naming to access this object; using ``getattr()`` will still work, though\n",
      "  NaturalNameWarning)\n"
     ]
    },
    {
     "name": "stdout",
     "output_type": "stream",
     "text": [
      "(sim,lamb_da,p_rew,start,dose_quantity) =  (75, 0.001, 0.01, 1, 2)\n",
      "{89}\n",
      "sim_75_p_rew_0.01_start_1_dq_2\n"
     ]
    },
    {
     "name": "stderr",
     "output_type": "stream",
     "text": [
      "/home/aiyappa/anaconda3/lib/python3.7/site-packages/tables/path.py:112: NaturalNameWarning: object name is not a valid Python identifier: 'sim_75_p_rew_0.01_start_1_dq_2'; it does not match the pattern ``^[a-zA-Z_][a-zA-Z0-9_]*$``; you will not be able to use natural naming to access this object; using ``getattr()`` will still work, though\n",
      "  NaturalNameWarning)\n"
     ]
    },
    {
     "name": "stdout",
     "output_type": "stream",
     "text": [
      "(sim,lamb_da,p_rew,start,dose_quantity) =  (75, 0.001, 0.01, 10, 0.1)\n",
      "{98, 68, 38, 9, 73, 13, 48, 52, 22, 23}\n",
      "sim_75_p_rew_0.01_start_10_dq_0.1\n"
     ]
    },
    {
     "name": "stderr",
     "output_type": "stream",
     "text": [
      "/home/aiyappa/anaconda3/lib/python3.7/site-packages/tables/path.py:112: NaturalNameWarning: object name is not a valid Python identifier: 'sim_75_p_rew_0.01_start_10_dq_0.1'; it does not match the pattern ``^[a-zA-Z_][a-zA-Z0-9_]*$``; you will not be able to use natural naming to access this object; using ``getattr()`` will still work, though\n",
      "  NaturalNameWarning)\n"
     ]
    },
    {
     "name": "stdout",
     "output_type": "stream",
     "text": [
      "(sim,lamb_da,p_rew,start,dose_quantity) =  (75, 0.001, 0.01, 10, 2)\n",
      "{37, 7, 73, 46, 16, 81, 53, 24, 92, 31}\n",
      "sim_75_p_rew_0.01_start_10_dq_2\n"
     ]
    },
    {
     "name": "stderr",
     "output_type": "stream",
     "text": [
      "/home/aiyappa/anaconda3/lib/python3.7/site-packages/tables/path.py:112: NaturalNameWarning: object name is not a valid Python identifier: 'sim_75_p_rew_0.01_start_10_dq_2'; it does not match the pattern ``^[a-zA-Z_][a-zA-Z0-9_]*$``; you will not be able to use natural naming to access this object; using ``getattr()`` will still work, though\n",
      "  NaturalNameWarning)\n"
     ]
    },
    {
     "name": "stdout",
     "output_type": "stream",
     "text": [
      "(sim,lamb_da,p_rew,start,dose_quantity) =  (75, 0.01, 0.10000000000000002, 1, 0.1)\n",
      "{26}\n",
      "sim_75_p_rew_0.1_start_1_dq_0.1\n"
     ]
    },
    {
     "name": "stderr",
     "output_type": "stream",
     "text": [
      "/home/aiyappa/anaconda3/lib/python3.7/site-packages/tables/path.py:112: NaturalNameWarning: object name is not a valid Python identifier: 'sim_75_p_rew_0.1_start_1_dq_0.1'; it does not match the pattern ``^[a-zA-Z_][a-zA-Z0-9_]*$``; you will not be able to use natural naming to access this object; using ``getattr()`` will still work, though\n",
      "  NaturalNameWarning)\n"
     ]
    },
    {
     "name": "stdout",
     "output_type": "stream",
     "text": [
      "(sim,lamb_da,p_rew,start,dose_quantity) =  (75, 0.01, 0.10000000000000002, 1, 2)\n",
      "{39}\n",
      "sim_75_p_rew_0.1_start_1_dq_2\n"
     ]
    },
    {
     "name": "stderr",
     "output_type": "stream",
     "text": [
      "/home/aiyappa/anaconda3/lib/python3.7/site-packages/tables/path.py:112: NaturalNameWarning: object name is not a valid Python identifier: 'sim_75_p_rew_0.1_start_1_dq_2'; it does not match the pattern ``^[a-zA-Z_][a-zA-Z0-9_]*$``; you will not be able to use natural naming to access this object; using ``getattr()`` will still work, though\n",
      "  NaturalNameWarning)\n"
     ]
    },
    {
     "name": "stdout",
     "output_type": "stream",
     "text": [
      "(sim,lamb_da,p_rew,start,dose_quantity) =  (75, 0.01, 0.10000000000000002, 10, 0.1)\n",
      "{65, 34, 38, 39, 72, 75, 78, 46, 18, 57}\n",
      "sim_75_p_rew_0.1_start_10_dq_0.1\n"
     ]
    },
    {
     "name": "stderr",
     "output_type": "stream",
     "text": [
      "/home/aiyappa/anaconda3/lib/python3.7/site-packages/tables/path.py:112: NaturalNameWarning: object name is not a valid Python identifier: 'sim_75_p_rew_0.1_start_10_dq_0.1'; it does not match the pattern ``^[a-zA-Z_][a-zA-Z0-9_]*$``; you will not be able to use natural naming to access this object; using ``getattr()`` will still work, though\n",
      "  NaturalNameWarning)\n"
     ]
    },
    {
     "name": "stdout",
     "output_type": "stream",
     "text": [
      "(sim,lamb_da,p_rew,start,dose_quantity) =  (75, 0.01, 0.10000000000000002, 10, 2)\n",
      "{32, 34, 98, 8, 10, 79, 82, 90, 60, 63}\n",
      "sim_75_p_rew_0.1_start_10_dq_2\n"
     ]
    },
    {
     "name": "stderr",
     "output_type": "stream",
     "text": [
      "/home/aiyappa/anaconda3/lib/python3.7/site-packages/tables/path.py:112: NaturalNameWarning: object name is not a valid Python identifier: 'sim_75_p_rew_0.1_start_10_dq_2'; it does not match the pattern ``^[a-zA-Z_][a-zA-Z0-9_]*$``; you will not be able to use natural naming to access this object; using ``getattr()`` will still work, though\n",
      "  NaturalNameWarning)\n"
     ]
    },
    {
     "name": "stdout",
     "output_type": "stream",
     "text": [
      "(sim,lamb_da,p_rew,start,dose_quantity) =  (75, 0.10000000000000002, 1.0, 1, 0.1)\n",
      "{51}\n",
      "sim_75_p_rew_1_start_1_dq_0.1\n"
     ]
    },
    {
     "name": "stderr",
     "output_type": "stream",
     "text": [
      "/home/aiyappa/anaconda3/lib/python3.7/site-packages/tables/path.py:112: NaturalNameWarning: object name is not a valid Python identifier: 'sim_75_p_rew_1_start_1_dq_0.1'; it does not match the pattern ``^[a-zA-Z_][a-zA-Z0-9_]*$``; you will not be able to use natural naming to access this object; using ``getattr()`` will still work, though\n",
      "  NaturalNameWarning)\n"
     ]
    },
    {
     "name": "stdout",
     "output_type": "stream",
     "text": [
      "(sim,lamb_da,p_rew,start,dose_quantity) =  (75, 0.10000000000000002, 1.0, 1, 2)\n",
      "{36}\n",
      "sim_75_p_rew_1_start_1_dq_2\n",
      "(sim,lamb_da,p_rew,start,dose_quantity) =  (75, 0.10000000000000002, 1.0, 10, 0.1)\n",
      "Initial node infection step failed\n",
      "None\n",
      "{33, 6, 41, 46, 16, 23, 56, 24, 57, 31}\n",
      "sim_75_p_rew_1_start_10_dq_0.1\n"
     ]
    },
    {
     "name": "stderr",
     "output_type": "stream",
     "text": [
      "/home/aiyappa/anaconda3/lib/python3.7/site-packages/tables/path.py:112: NaturalNameWarning: object name is not a valid Python identifier: 'sim_75_p_rew_1_start_10_dq_0.1'; it does not match the pattern ``^[a-zA-Z_][a-zA-Z0-9_]*$``; you will not be able to use natural naming to access this object; using ``getattr()`` will still work, though\n",
      "  NaturalNameWarning)\n"
     ]
    },
    {
     "name": "stdout",
     "output_type": "stream",
     "text": [
      "(sim,lamb_da,p_rew,start,dose_quantity) =  (75, 0.10000000000000002, 1.0, 10, 2)\n",
      "{36, 76, 47, 48, 49, 84, 86, 55, 92, 30}\n",
      "sim_75_p_rew_1_start_10_dq_2\n",
      "(sim,lamb_da,p_rew,start,dose_quantity) =  (76, 0.001, 0.01, 1, 0.1)\n",
      "{86}\n",
      "sim_76_p_rew_0.01_start_1_dq_0.1\n"
     ]
    },
    {
     "name": "stderr",
     "output_type": "stream",
     "text": [
      "/home/aiyappa/anaconda3/lib/python3.7/site-packages/tables/path.py:112: NaturalNameWarning: object name is not a valid Python identifier: 'sim_76_p_rew_0.01_start_1_dq_0.1'; it does not match the pattern ``^[a-zA-Z_][a-zA-Z0-9_]*$``; you will not be able to use natural naming to access this object; using ``getattr()`` will still work, though\n",
      "  NaturalNameWarning)\n"
     ]
    },
    {
     "name": "stdout",
     "output_type": "stream",
     "text": [
      "(sim,lamb_da,p_rew,start,dose_quantity) =  (76, 0.001, 0.01, 1, 2)\n",
      "{95}\n",
      "sim_76_p_rew_0.01_start_1_dq_2\n"
     ]
    },
    {
     "name": "stderr",
     "output_type": "stream",
     "text": [
      "/home/aiyappa/anaconda3/lib/python3.7/site-packages/tables/path.py:112: NaturalNameWarning: object name is not a valid Python identifier: 'sim_76_p_rew_0.01_start_1_dq_2'; it does not match the pattern ``^[a-zA-Z_][a-zA-Z0-9_]*$``; you will not be able to use natural naming to access this object; using ``getattr()`` will still work, though\n",
      "  NaturalNameWarning)\n"
     ]
    },
    {
     "name": "stdout",
     "output_type": "stream",
     "text": [
      "(sim,lamb_da,p_rew,start,dose_quantity) =  (76, 0.001, 0.01, 10, 0.1)\n",
      "{98, 66, 27, 41, 74, 83, 22, 26, 59, 28}\n",
      "sim_76_p_rew_0.01_start_10_dq_0.1\n"
     ]
    },
    {
     "name": "stderr",
     "output_type": "stream",
     "text": [
      "/home/aiyappa/anaconda3/lib/python3.7/site-packages/tables/path.py:112: NaturalNameWarning: object name is not a valid Python identifier: 'sim_76_p_rew_0.01_start_10_dq_0.1'; it does not match the pattern ``^[a-zA-Z_][a-zA-Z0-9_]*$``; you will not be able to use natural naming to access this object; using ``getattr()`` will still work, though\n",
      "  NaturalNameWarning)\n"
     ]
    },
    {
     "name": "stdout",
     "output_type": "stream",
     "text": [
      "(sim,lamb_da,p_rew,start,dose_quantity) =  (76, 0.001, 0.01, 10, 2)\n",
      "{3, 71, 73, 41, 11, 13, 15, 59, 30, 31}\n",
      "sim_76_p_rew_0.01_start_10_dq_2\n"
     ]
    },
    {
     "name": "stderr",
     "output_type": "stream",
     "text": [
      "/home/aiyappa/anaconda3/lib/python3.7/site-packages/tables/path.py:112: NaturalNameWarning: object name is not a valid Python identifier: 'sim_76_p_rew_0.01_start_10_dq_2'; it does not match the pattern ``^[a-zA-Z_][a-zA-Z0-9_]*$``; you will not be able to use natural naming to access this object; using ``getattr()`` will still work, though\n",
      "  NaturalNameWarning)\n"
     ]
    },
    {
     "name": "stdout",
     "output_type": "stream",
     "text": [
      "(sim,lamb_da,p_rew,start,dose_quantity) =  (76, 0.01, 0.10000000000000002, 1, 0.1)\n",
      "{62}\n",
      "sim_76_p_rew_0.1_start_1_dq_0.1\n"
     ]
    },
    {
     "name": "stderr",
     "output_type": "stream",
     "text": [
      "/home/aiyappa/anaconda3/lib/python3.7/site-packages/tables/path.py:112: NaturalNameWarning: object name is not a valid Python identifier: 'sim_76_p_rew_0.1_start_1_dq_0.1'; it does not match the pattern ``^[a-zA-Z_][a-zA-Z0-9_]*$``; you will not be able to use natural naming to access this object; using ``getattr()`` will still work, though\n",
      "  NaturalNameWarning)\n"
     ]
    },
    {
     "name": "stdout",
     "output_type": "stream",
     "text": [
      "(sim,lamb_da,p_rew,start,dose_quantity) =  (76, 0.01, 0.10000000000000002, 1, 2)\n",
      "{99}\n",
      "sim_76_p_rew_0.1_start_1_dq_2\n"
     ]
    },
    {
     "name": "stderr",
     "output_type": "stream",
     "text": [
      "/home/aiyappa/anaconda3/lib/python3.7/site-packages/tables/path.py:112: NaturalNameWarning: object name is not a valid Python identifier: 'sim_76_p_rew_0.1_start_1_dq_2'; it does not match the pattern ``^[a-zA-Z_][a-zA-Z0-9_]*$``; you will not be able to use natural naming to access this object; using ``getattr()`` will still work, though\n",
      "  NaturalNameWarning)\n"
     ]
    },
    {
     "name": "stdout",
     "output_type": "stream",
     "text": [
      "(sim,lamb_da,p_rew,start,dose_quantity) =  (76, 0.01, 0.10000000000000002, 10, 0.1)\n",
      "{35, 3, 67, 29, 19, 52, 59, 61, 30, 31}\n",
      "sim_76_p_rew_0.1_start_10_dq_0.1\n"
     ]
    },
    {
     "name": "stderr",
     "output_type": "stream",
     "text": [
      "/home/aiyappa/anaconda3/lib/python3.7/site-packages/tables/path.py:112: NaturalNameWarning: object name is not a valid Python identifier: 'sim_76_p_rew_0.1_start_10_dq_0.1'; it does not match the pattern ``^[a-zA-Z_][a-zA-Z0-9_]*$``; you will not be able to use natural naming to access this object; using ``getattr()`` will still work, though\n",
      "  NaturalNameWarning)\n"
     ]
    },
    {
     "name": "stdout",
     "output_type": "stream",
     "text": [
      "(sim,lamb_da,p_rew,start,dose_quantity) =  (76, 0.01, 0.10000000000000002, 10, 2)\n",
      "{97, 66, 2, 6, 39, 40, 9, 72, 83, 24}\n",
      "sim_76_p_rew_0.1_start_10_dq_2\n"
     ]
    },
    {
     "name": "stderr",
     "output_type": "stream",
     "text": [
      "/home/aiyappa/anaconda3/lib/python3.7/site-packages/tables/path.py:112: NaturalNameWarning: object name is not a valid Python identifier: 'sim_76_p_rew_0.1_start_10_dq_2'; it does not match the pattern ``^[a-zA-Z_][a-zA-Z0-9_]*$``; you will not be able to use natural naming to access this object; using ``getattr()`` will still work, though\n",
      "  NaturalNameWarning)\n"
     ]
    },
    {
     "name": "stdout",
     "output_type": "stream",
     "text": [
      "(sim,lamb_da,p_rew,start,dose_quantity) =  (76, 0.10000000000000002, 1.0, 1, 0.1)\n",
      "{51}\n",
      "sim_76_p_rew_1_start_1_dq_0.1\n"
     ]
    },
    {
     "name": "stderr",
     "output_type": "stream",
     "text": [
      "/home/aiyappa/anaconda3/lib/python3.7/site-packages/tables/path.py:112: NaturalNameWarning: object name is not a valid Python identifier: 'sim_76_p_rew_1_start_1_dq_0.1'; it does not match the pattern ``^[a-zA-Z_][a-zA-Z0-9_]*$``; you will not be able to use natural naming to access this object; using ``getattr()`` will still work, though\n",
      "  NaturalNameWarning)\n"
     ]
    },
    {
     "name": "stdout",
     "output_type": "stream",
     "text": [
      "(sim,lamb_da,p_rew,start,dose_quantity) =  (76, 0.10000000000000002, 1.0, 1, 2)\n",
      "{72}\n",
      "sim_76_p_rew_1_start_1_dq_2\n",
      "(sim,lamb_da,p_rew,start,dose_quantity) =  (76, 0.10000000000000002, 1.0, 10, 0.1)\n",
      "{99, 68, 41, 74, 76, 45, 77, 57, 58, 62}\n",
      "sim_76_p_rew_1_start_10_dq_0.1\n"
     ]
    },
    {
     "name": "stderr",
     "output_type": "stream",
     "text": [
      "/home/aiyappa/anaconda3/lib/python3.7/site-packages/tables/path.py:112: NaturalNameWarning: object name is not a valid Python identifier: 'sim_76_p_rew_1_start_10_dq_0.1'; it does not match the pattern ``^[a-zA-Z_][a-zA-Z0-9_]*$``; you will not be able to use natural naming to access this object; using ``getattr()`` will still work, though\n",
      "  NaturalNameWarning)\n"
     ]
    },
    {
     "name": "stdout",
     "output_type": "stream",
     "text": [
      "(sim,lamb_da,p_rew,start,dose_quantity) =  (76, 0.10000000000000002, 1.0, 10, 2)\n",
      "{65, 6, 74, 78, 18, 83, 54, 87, 59, 92}\n",
      "sim_76_p_rew_1_start_10_dq_2\n",
      "(sim,lamb_da,p_rew,start,dose_quantity) =  (77, 0.001, 0.01, 1, 0.1)\n",
      "{42}\n",
      "sim_77_p_rew_0.01_start_1_dq_0.1\n"
     ]
    },
    {
     "name": "stderr",
     "output_type": "stream",
     "text": [
      "/home/aiyappa/anaconda3/lib/python3.7/site-packages/tables/path.py:112: NaturalNameWarning: object name is not a valid Python identifier: 'sim_77_p_rew_0.01_start_1_dq_0.1'; it does not match the pattern ``^[a-zA-Z_][a-zA-Z0-9_]*$``; you will not be able to use natural naming to access this object; using ``getattr()`` will still work, though\n",
      "  NaturalNameWarning)\n"
     ]
    },
    {
     "name": "stdout",
     "output_type": "stream",
     "text": [
      "(sim,lamb_da,p_rew,start,dose_quantity) =  (77, 0.001, 0.01, 1, 2)\n",
      "{10}\n",
      "sim_77_p_rew_0.01_start_1_dq_2\n"
     ]
    },
    {
     "name": "stderr",
     "output_type": "stream",
     "text": [
      "/home/aiyappa/anaconda3/lib/python3.7/site-packages/tables/path.py:112: NaturalNameWarning: object name is not a valid Python identifier: 'sim_77_p_rew_0.01_start_1_dq_2'; it does not match the pattern ``^[a-zA-Z_][a-zA-Z0-9_]*$``; you will not be able to use natural naming to access this object; using ``getattr()`` will still work, though\n",
      "  NaturalNameWarning)\n"
     ]
    },
    {
     "name": "stdout",
     "output_type": "stream",
     "text": [
      "(sim,lamb_da,p_rew,start,dose_quantity) =  (77, 0.001, 0.01, 10, 0.1)\n",
      "{32, 34, 4, 74, 77, 80, 86, 23, 90, 29}\n",
      "sim_77_p_rew_0.01_start_10_dq_0.1\n"
     ]
    },
    {
     "name": "stderr",
     "output_type": "stream",
     "text": [
      "/home/aiyappa/anaconda3/lib/python3.7/site-packages/tables/path.py:112: NaturalNameWarning: object name is not a valid Python identifier: 'sim_77_p_rew_0.01_start_10_dq_0.1'; it does not match the pattern ``^[a-zA-Z_][a-zA-Z0-9_]*$``; you will not be able to use natural naming to access this object; using ``getattr()`` will still work, though\n",
      "  NaturalNameWarning)\n"
     ]
    },
    {
     "name": "stdout",
     "output_type": "stream",
     "text": [
      "(sim,lamb_da,p_rew,start,dose_quantity) =  (77, 0.001, 0.01, 10, 2)\n",
      "{33, 97, 68, 11, 13, 79, 51, 92, 93, 30}\n",
      "sim_77_p_rew_0.01_start_10_dq_2\n"
     ]
    },
    {
     "name": "stderr",
     "output_type": "stream",
     "text": [
      "/home/aiyappa/anaconda3/lib/python3.7/site-packages/tables/path.py:112: NaturalNameWarning: object name is not a valid Python identifier: 'sim_77_p_rew_0.01_start_10_dq_2'; it does not match the pattern ``^[a-zA-Z_][a-zA-Z0-9_]*$``; you will not be able to use natural naming to access this object; using ``getattr()`` will still work, though\n",
      "  NaturalNameWarning)\n"
     ]
    },
    {
     "name": "stdout",
     "output_type": "stream",
     "text": [
      "(sim,lamb_da,p_rew,start,dose_quantity) =  (77, 0.01, 0.10000000000000002, 1, 0.1)\n",
      "{31}\n",
      "sim_77_p_rew_0.1_start_1_dq_0.1\n"
     ]
    },
    {
     "name": "stderr",
     "output_type": "stream",
     "text": [
      "/home/aiyappa/anaconda3/lib/python3.7/site-packages/tables/path.py:112: NaturalNameWarning: object name is not a valid Python identifier: 'sim_77_p_rew_0.1_start_1_dq_0.1'; it does not match the pattern ``^[a-zA-Z_][a-zA-Z0-9_]*$``; you will not be able to use natural naming to access this object; using ``getattr()`` will still work, though\n",
      "  NaturalNameWarning)\n"
     ]
    },
    {
     "name": "stdout",
     "output_type": "stream",
     "text": [
      "(sim,lamb_da,p_rew,start,dose_quantity) =  (77, 0.01, 0.10000000000000002, 1, 2)\n",
      "{11}\n",
      "sim_77_p_rew_0.1_start_1_dq_2\n"
     ]
    },
    {
     "name": "stderr",
     "output_type": "stream",
     "text": [
      "/home/aiyappa/anaconda3/lib/python3.7/site-packages/tables/path.py:112: NaturalNameWarning: object name is not a valid Python identifier: 'sim_77_p_rew_0.1_start_1_dq_2'; it does not match the pattern ``^[a-zA-Z_][a-zA-Z0-9_]*$``; you will not be able to use natural naming to access this object; using ``getattr()`` will still work, though\n",
      "  NaturalNameWarning)\n"
     ]
    },
    {
     "name": "stdout",
     "output_type": "stream",
     "text": [
      "(sim,lamb_da,p_rew,start,dose_quantity) =  (77, 0.01, 0.10000000000000002, 10, 0.1)\n",
      "{35, 4, 36, 74, 46, 47, 18, 26, 92, 94}\n",
      "sim_77_p_rew_0.1_start_10_dq_0.1\n"
     ]
    },
    {
     "name": "stderr",
     "output_type": "stream",
     "text": [
      "/home/aiyappa/anaconda3/lib/python3.7/site-packages/tables/path.py:112: NaturalNameWarning: object name is not a valid Python identifier: 'sim_77_p_rew_0.1_start_10_dq_0.1'; it does not match the pattern ``^[a-zA-Z_][a-zA-Z0-9_]*$``; you will not be able to use natural naming to access this object; using ``getattr()`` will still work, though\n",
      "  NaturalNameWarning)\n"
     ]
    },
    {
     "name": "stdout",
     "output_type": "stream",
     "text": [
      "(sim,lamb_da,p_rew,start,dose_quantity) =  (77, 0.01, 0.10000000000000002, 10, 2)\n",
      "{97, 98, 39, 45, 81, 84, 25, 27, 92, 95}\n",
      "sim_77_p_rew_0.1_start_10_dq_2\n"
     ]
    },
    {
     "name": "stderr",
     "output_type": "stream",
     "text": [
      "/home/aiyappa/anaconda3/lib/python3.7/site-packages/tables/path.py:112: NaturalNameWarning: object name is not a valid Python identifier: 'sim_77_p_rew_0.1_start_10_dq_2'; it does not match the pattern ``^[a-zA-Z_][a-zA-Z0-9_]*$``; you will not be able to use natural naming to access this object; using ``getattr()`` will still work, though\n",
      "  NaturalNameWarning)\n"
     ]
    },
    {
     "name": "stdout",
     "output_type": "stream",
     "text": [
      "(sim,lamb_da,p_rew,start,dose_quantity) =  (77, 0.10000000000000002, 1.0, 1, 0.1)\n",
      "{10}\n",
      "sim_77_p_rew_1_start_1_dq_0.1\n"
     ]
    },
    {
     "name": "stderr",
     "output_type": "stream",
     "text": [
      "/home/aiyappa/anaconda3/lib/python3.7/site-packages/tables/path.py:112: NaturalNameWarning: object name is not a valid Python identifier: 'sim_77_p_rew_1_start_1_dq_0.1'; it does not match the pattern ``^[a-zA-Z_][a-zA-Z0-9_]*$``; you will not be able to use natural naming to access this object; using ``getattr()`` will still work, though\n",
      "  NaturalNameWarning)\n"
     ]
    },
    {
     "name": "stdout",
     "output_type": "stream",
     "text": [
      "(sim,lamb_da,p_rew,start,dose_quantity) =  (77, 0.10000000000000002, 1.0, 1, 2)\n",
      "{52}\n",
      "sim_77_p_rew_1_start_1_dq_2\n",
      "(sim,lamb_da,p_rew,start,dose_quantity) =  (77, 0.10000000000000002, 1.0, 10, 0.1)\n",
      "{1, 98, 38, 73, 11, 76, 20, 21, 25, 95}\n",
      "sim_77_p_rew_1_start_10_dq_0.1\n"
     ]
    },
    {
     "name": "stderr",
     "output_type": "stream",
     "text": [
      "/home/aiyappa/anaconda3/lib/python3.7/site-packages/tables/path.py:112: NaturalNameWarning: object name is not a valid Python identifier: 'sim_77_p_rew_1_start_10_dq_0.1'; it does not match the pattern ``^[a-zA-Z_][a-zA-Z0-9_]*$``; you will not be able to use natural naming to access this object; using ``getattr()`` will still work, though\n",
      "  NaturalNameWarning)\n"
     ]
    },
    {
     "name": "stdout",
     "output_type": "stream",
     "text": [
      "(sim,lamb_da,p_rew,start,dose_quantity) =  (77, 0.10000000000000002, 1.0, 10, 2)\n",
      "{96, 64, 7, 49, 83, 84, 88, 24, 29, 30}\n",
      "sim_77_p_rew_1_start_10_dq_2\n",
      "(sim,lamb_da,p_rew,start,dose_quantity) =  (78, 0.001, 0.01, 1, 0.1)\n",
      "{49}\n",
      "sim_78_p_rew_0.01_start_1_dq_0.1\n"
     ]
    },
    {
     "name": "stderr",
     "output_type": "stream",
     "text": [
      "/home/aiyappa/anaconda3/lib/python3.7/site-packages/tables/path.py:112: NaturalNameWarning: object name is not a valid Python identifier: 'sim_78_p_rew_0.01_start_1_dq_0.1'; it does not match the pattern ``^[a-zA-Z_][a-zA-Z0-9_]*$``; you will not be able to use natural naming to access this object; using ``getattr()`` will still work, though\n",
      "  NaturalNameWarning)\n"
     ]
    },
    {
     "name": "stdout",
     "output_type": "stream",
     "text": [
      "(sim,lamb_da,p_rew,start,dose_quantity) =  (78, 0.001, 0.01, 1, 2)\n",
      "{85}\n",
      "sim_78_p_rew_0.01_start_1_dq_2\n"
     ]
    },
    {
     "name": "stderr",
     "output_type": "stream",
     "text": [
      "/home/aiyappa/anaconda3/lib/python3.7/site-packages/tables/path.py:112: NaturalNameWarning: object name is not a valid Python identifier: 'sim_78_p_rew_0.01_start_1_dq_2'; it does not match the pattern ``^[a-zA-Z_][a-zA-Z0-9_]*$``; you will not be able to use natural naming to access this object; using ``getattr()`` will still work, though\n",
      "  NaturalNameWarning)\n"
     ]
    },
    {
     "name": "stdout",
     "output_type": "stream",
     "text": [
      "(sim,lamb_da,p_rew,start,dose_quantity) =  (78, 0.001, 0.01, 10, 0.1)\n",
      "{96, 64, 67, 4, 10, 44, 21, 24, 90, 95}\n",
      "sim_78_p_rew_0.01_start_10_dq_0.1\n"
     ]
    },
    {
     "name": "stderr",
     "output_type": "stream",
     "text": [
      "/home/aiyappa/anaconda3/lib/python3.7/site-packages/tables/path.py:112: NaturalNameWarning: object name is not a valid Python identifier: 'sim_78_p_rew_0.01_start_10_dq_0.1'; it does not match the pattern ``^[a-zA-Z_][a-zA-Z0-9_]*$``; you will not be able to use natural naming to access this object; using ``getattr()`` will still work, though\n",
      "  NaturalNameWarning)\n"
     ]
    },
    {
     "name": "stdout",
     "output_type": "stream",
     "text": [
      "(sim,lamb_da,p_rew,start,dose_quantity) =  (78, 0.001, 0.01, 10, 2)\n",
      "{99, 36, 69, 6, 11, 12, 55, 94, 28, 30}\n",
      "sim_78_p_rew_0.01_start_10_dq_2\n"
     ]
    },
    {
     "name": "stderr",
     "output_type": "stream",
     "text": [
      "/home/aiyappa/anaconda3/lib/python3.7/site-packages/tables/path.py:112: NaturalNameWarning: object name is not a valid Python identifier: 'sim_78_p_rew_0.01_start_10_dq_2'; it does not match the pattern ``^[a-zA-Z_][a-zA-Z0-9_]*$``; you will not be able to use natural naming to access this object; using ``getattr()`` will still work, though\n",
      "  NaturalNameWarning)\n"
     ]
    },
    {
     "name": "stdout",
     "output_type": "stream",
     "text": [
      "(sim,lamb_da,p_rew,start,dose_quantity) =  (78, 0.01, 0.10000000000000002, 1, 0.1)\n",
      "{55}\n",
      "sim_78_p_rew_0.1_start_1_dq_0.1\n"
     ]
    },
    {
     "name": "stderr",
     "output_type": "stream",
     "text": [
      "/home/aiyappa/anaconda3/lib/python3.7/site-packages/tables/path.py:112: NaturalNameWarning: object name is not a valid Python identifier: 'sim_78_p_rew_0.1_start_1_dq_0.1'; it does not match the pattern ``^[a-zA-Z_][a-zA-Z0-9_]*$``; you will not be able to use natural naming to access this object; using ``getattr()`` will still work, though\n",
      "  NaturalNameWarning)\n"
     ]
    },
    {
     "name": "stdout",
     "output_type": "stream",
     "text": [
      "(sim,lamb_da,p_rew,start,dose_quantity) =  (78, 0.01, 0.10000000000000002, 1, 2)\n",
      "{33}\n",
      "sim_78_p_rew_0.1_start_1_dq_2\n"
     ]
    },
    {
     "name": "stderr",
     "output_type": "stream",
     "text": [
      "/home/aiyappa/anaconda3/lib/python3.7/site-packages/tables/path.py:112: NaturalNameWarning: object name is not a valid Python identifier: 'sim_78_p_rew_0.1_start_1_dq_2'; it does not match the pattern ``^[a-zA-Z_][a-zA-Z0-9_]*$``; you will not be able to use natural naming to access this object; using ``getattr()`` will still work, though\n",
      "  NaturalNameWarning)\n"
     ]
    },
    {
     "name": "stdout",
     "output_type": "stream",
     "text": [
      "(sim,lamb_da,p_rew,start,dose_quantity) =  (78, 0.01, 0.10000000000000002, 10, 0.1)\n",
      "{32, 0, 98, 71, 9, 45, 79, 52, 87, 94}\n",
      "sim_78_p_rew_0.1_start_10_dq_0.1\n"
     ]
    },
    {
     "name": "stderr",
     "output_type": "stream",
     "text": [
      "/home/aiyappa/anaconda3/lib/python3.7/site-packages/tables/path.py:112: NaturalNameWarning: object name is not a valid Python identifier: 'sim_78_p_rew_0.1_start_10_dq_0.1'; it does not match the pattern ``^[a-zA-Z_][a-zA-Z0-9_]*$``; you will not be able to use natural naming to access this object; using ``getattr()`` will still work, though\n",
      "  NaturalNameWarning)\n"
     ]
    },
    {
     "name": "stdout",
     "output_type": "stream",
     "text": [
      "(sim,lamb_da,p_rew,start,dose_quantity) =  (78, 0.01, 0.10000000000000002, 10, 2)\n",
      "{33, 5, 6, 69, 43, 80, 91, 28, 61, 31}\n",
      "sim_78_p_rew_0.1_start_10_dq_2\n"
     ]
    },
    {
     "name": "stderr",
     "output_type": "stream",
     "text": [
      "/home/aiyappa/anaconda3/lib/python3.7/site-packages/tables/path.py:112: NaturalNameWarning: object name is not a valid Python identifier: 'sim_78_p_rew_0.1_start_10_dq_2'; it does not match the pattern ``^[a-zA-Z_][a-zA-Z0-9_]*$``; you will not be able to use natural naming to access this object; using ``getattr()`` will still work, though\n",
      "  NaturalNameWarning)\n"
     ]
    },
    {
     "name": "stdout",
     "output_type": "stream",
     "text": [
      "(sim,lamb_da,p_rew,start,dose_quantity) =  (78, 0.10000000000000002, 1.0, 1, 0.1)\n",
      "{11}\n",
      "sim_78_p_rew_1_start_1_dq_0.1\n"
     ]
    },
    {
     "name": "stderr",
     "output_type": "stream",
     "text": [
      "/home/aiyappa/anaconda3/lib/python3.7/site-packages/tables/path.py:112: NaturalNameWarning: object name is not a valid Python identifier: 'sim_78_p_rew_1_start_1_dq_0.1'; it does not match the pattern ``^[a-zA-Z_][a-zA-Z0-9_]*$``; you will not be able to use natural naming to access this object; using ``getattr()`` will still work, though\n",
      "  NaturalNameWarning)\n"
     ]
    },
    {
     "name": "stdout",
     "output_type": "stream",
     "text": [
      "(sim,lamb_da,p_rew,start,dose_quantity) =  (78, 0.10000000000000002, 1.0, 1, 2)\n",
      "{10}\n",
      "sim_78_p_rew_1_start_1_dq_2\n",
      "(sim,lamb_da,p_rew,start,dose_quantity) =  (78, 0.10000000000000002, 1.0, 10, 0.1)\n",
      "{32, 33, 68, 6, 76, 79, 16, 56, 26, 91}\n",
      "sim_78_p_rew_1_start_10_dq_0.1\n"
     ]
    },
    {
     "name": "stderr",
     "output_type": "stream",
     "text": [
      "/home/aiyappa/anaconda3/lib/python3.7/site-packages/tables/path.py:112: NaturalNameWarning: object name is not a valid Python identifier: 'sim_78_p_rew_1_start_10_dq_0.1'; it does not match the pattern ``^[a-zA-Z_][a-zA-Z0-9_]*$``; you will not be able to use natural naming to access this object; using ``getattr()`` will still work, though\n",
      "  NaturalNameWarning)\n"
     ]
    },
    {
     "name": "stdout",
     "output_type": "stream",
     "text": [
      "(sim,lamb_da,p_rew,start,dose_quantity) =  (78, 0.10000000000000002, 1.0, 10, 2)\n",
      "{67, 36, 69, 99, 40, 10, 17, 52, 87, 94}\n",
      "sim_78_p_rew_1_start_10_dq_2\n",
      "(sim,lamb_da,p_rew,start,dose_quantity) =  (79, 0.001, 0.01, 1, 0.1)\n",
      "{42}\n",
      "sim_79_p_rew_0.01_start_1_dq_0.1\n"
     ]
    },
    {
     "name": "stderr",
     "output_type": "stream",
     "text": [
      "/home/aiyappa/anaconda3/lib/python3.7/site-packages/tables/path.py:112: NaturalNameWarning: object name is not a valid Python identifier: 'sim_79_p_rew_0.01_start_1_dq_0.1'; it does not match the pattern ``^[a-zA-Z_][a-zA-Z0-9_]*$``; you will not be able to use natural naming to access this object; using ``getattr()`` will still work, though\n",
      "  NaturalNameWarning)\n"
     ]
    },
    {
     "name": "stdout",
     "output_type": "stream",
     "text": [
      "(sim,lamb_da,p_rew,start,dose_quantity) =  (79, 0.001, 0.01, 1, 2)\n",
      "{35}\n",
      "sim_79_p_rew_0.01_start_1_dq_2\n"
     ]
    },
    {
     "name": "stderr",
     "output_type": "stream",
     "text": [
      "/home/aiyappa/anaconda3/lib/python3.7/site-packages/tables/path.py:112: NaturalNameWarning: object name is not a valid Python identifier: 'sim_79_p_rew_0.01_start_1_dq_2'; it does not match the pattern ``^[a-zA-Z_][a-zA-Z0-9_]*$``; you will not be able to use natural naming to access this object; using ``getattr()`` will still work, though\n",
      "  NaturalNameWarning)\n"
     ]
    },
    {
     "name": "stdout",
     "output_type": "stream",
     "text": [
      "(sim,lamb_da,p_rew,start,dose_quantity) =  (79, 0.001, 0.01, 10, 0.1)\n",
      "{2, 99, 69, 72, 45, 79, 87, 23, 25, 29}\n",
      "sim_79_p_rew_0.01_start_10_dq_0.1\n"
     ]
    },
    {
     "name": "stderr",
     "output_type": "stream",
     "text": [
      "/home/aiyappa/anaconda3/lib/python3.7/site-packages/tables/path.py:112: NaturalNameWarning: object name is not a valid Python identifier: 'sim_79_p_rew_0.01_start_10_dq_0.1'; it does not match the pattern ``^[a-zA-Z_][a-zA-Z0-9_]*$``; you will not be able to use natural naming to access this object; using ``getattr()`` will still work, though\n",
      "  NaturalNameWarning)\n"
     ]
    },
    {
     "name": "stdout",
     "output_type": "stream",
     "text": [
      "(sim,lamb_da,p_rew,start,dose_quantity) =  (79, 0.001, 0.01, 10, 2)\n",
      "{33, 36, 12, 46, 16, 85, 57, 58, 27, 92}\n",
      "sim_79_p_rew_0.01_start_10_dq_2\n"
     ]
    },
    {
     "name": "stderr",
     "output_type": "stream",
     "text": [
      "/home/aiyappa/anaconda3/lib/python3.7/site-packages/tables/path.py:112: NaturalNameWarning: object name is not a valid Python identifier: 'sim_79_p_rew_0.01_start_10_dq_2'; it does not match the pattern ``^[a-zA-Z_][a-zA-Z0-9_]*$``; you will not be able to use natural naming to access this object; using ``getattr()`` will still work, though\n",
      "  NaturalNameWarning)\n"
     ]
    },
    {
     "name": "stdout",
     "output_type": "stream",
     "text": [
      "(sim,lamb_da,p_rew,start,dose_quantity) =  (79, 0.01, 0.10000000000000002, 1, 0.1)\n",
      "{64}\n",
      "sim_79_p_rew_0.1_start_1_dq_0.1\n"
     ]
    },
    {
     "name": "stderr",
     "output_type": "stream",
     "text": [
      "/home/aiyappa/anaconda3/lib/python3.7/site-packages/tables/path.py:112: NaturalNameWarning: object name is not a valid Python identifier: 'sim_79_p_rew_0.1_start_1_dq_0.1'; it does not match the pattern ``^[a-zA-Z_][a-zA-Z0-9_]*$``; you will not be able to use natural naming to access this object; using ``getattr()`` will still work, though\n",
      "  NaturalNameWarning)\n"
     ]
    },
    {
     "name": "stdout",
     "output_type": "stream",
     "text": [
      "(sim,lamb_da,p_rew,start,dose_quantity) =  (79, 0.01, 0.10000000000000002, 1, 2)\n",
      "{97}\n",
      "sim_79_p_rew_0.1_start_1_dq_2\n"
     ]
    },
    {
     "name": "stderr",
     "output_type": "stream",
     "text": [
      "/home/aiyappa/anaconda3/lib/python3.7/site-packages/tables/path.py:112: NaturalNameWarning: object name is not a valid Python identifier: 'sim_79_p_rew_0.1_start_1_dq_2'; it does not match the pattern ``^[a-zA-Z_][a-zA-Z0-9_]*$``; you will not be able to use natural naming to access this object; using ``getattr()`` will still work, though\n",
      "  NaturalNameWarning)\n"
     ]
    },
    {
     "name": "stdout",
     "output_type": "stream",
     "text": [
      "(sim,lamb_da,p_rew,start,dose_quantity) =  (79, 0.01, 0.10000000000000002, 10, 0.1)\n",
      "{64, 2, 35, 68, 66, 7, 48, 80, 20, 27}\n",
      "sim_79_p_rew_0.1_start_10_dq_0.1\n"
     ]
    },
    {
     "name": "stderr",
     "output_type": "stream",
     "text": [
      "/home/aiyappa/anaconda3/lib/python3.7/site-packages/tables/path.py:112: NaturalNameWarning: object name is not a valid Python identifier: 'sim_79_p_rew_0.1_start_10_dq_0.1'; it does not match the pattern ``^[a-zA-Z_][a-zA-Z0-9_]*$``; you will not be able to use natural naming to access this object; using ``getattr()`` will still work, though\n",
      "  NaturalNameWarning)\n"
     ]
    },
    {
     "name": "stdout",
     "output_type": "stream",
     "text": [
      "(sim,lamb_da,p_rew,start,dose_quantity) =  (79, 0.01, 0.10000000000000002, 10, 2)\n",
      "{64, 1, 72, 11, 60, 20, 23, 59, 92, 61}\n",
      "sim_79_p_rew_0.1_start_10_dq_2\n"
     ]
    },
    {
     "name": "stderr",
     "output_type": "stream",
     "text": [
      "/home/aiyappa/anaconda3/lib/python3.7/site-packages/tables/path.py:112: NaturalNameWarning: object name is not a valid Python identifier: 'sim_79_p_rew_0.1_start_10_dq_2'; it does not match the pattern ``^[a-zA-Z_][a-zA-Z0-9_]*$``; you will not be able to use natural naming to access this object; using ``getattr()`` will still work, though\n",
      "  NaturalNameWarning)\n"
     ]
    },
    {
     "name": "stdout",
     "output_type": "stream",
     "text": [
      "(sim,lamb_da,p_rew,start,dose_quantity) =  (79, 0.10000000000000002, 1.0, 1, 0.1)\n",
      "{85}\n",
      "sim_79_p_rew_1_start_1_dq_0.1\n"
     ]
    },
    {
     "name": "stderr",
     "output_type": "stream",
     "text": [
      "/home/aiyappa/anaconda3/lib/python3.7/site-packages/tables/path.py:112: NaturalNameWarning: object name is not a valid Python identifier: 'sim_79_p_rew_1_start_1_dq_0.1'; it does not match the pattern ``^[a-zA-Z_][a-zA-Z0-9_]*$``; you will not be able to use natural naming to access this object; using ``getattr()`` will still work, though\n",
      "  NaturalNameWarning)\n"
     ]
    },
    {
     "name": "stdout",
     "output_type": "stream",
     "text": [
      "(sim,lamb_da,p_rew,start,dose_quantity) =  (79, 0.10000000000000002, 1.0, 1, 2)\n",
      "{61}\n",
      "sim_79_p_rew_1_start_1_dq_2\n",
      "(sim,lamb_da,p_rew,start,dose_quantity) =  (79, 0.10000000000000002, 1.0, 10, 0.1)\n",
      "Initial node infection step failed\n",
      "None\n",
      "{65, 34, 99, 3, 69, 66, 15, 51, 89, 90}\n",
      "sim_79_p_rew_1_start_10_dq_0.1\n"
     ]
    },
    {
     "name": "stderr",
     "output_type": "stream",
     "text": [
      "/home/aiyappa/anaconda3/lib/python3.7/site-packages/tables/path.py:112: NaturalNameWarning: object name is not a valid Python identifier: 'sim_79_p_rew_1_start_10_dq_0.1'; it does not match the pattern ``^[a-zA-Z_][a-zA-Z0-9_]*$``; you will not be able to use natural naming to access this object; using ``getattr()`` will still work, though\n",
      "  NaturalNameWarning)\n"
     ]
    },
    {
     "name": "stdout",
     "output_type": "stream",
     "text": [
      "(sim,lamb_da,p_rew,start,dose_quantity) =  (79, 0.10000000000000002, 1.0, 10, 2)\n",
      "{66, 67, 4, 39, 8, 7, 79, 17, 50, 63}\n",
      "sim_79_p_rew_1_start_10_dq_2\n",
      "(sim,lamb_da,p_rew,start,dose_quantity) =  (80, 0.001, 0.01, 1, 0.1)\n",
      "{49}\n",
      "sim_80_p_rew_0.01_start_1_dq_0.1\n"
     ]
    },
    {
     "name": "stderr",
     "output_type": "stream",
     "text": [
      "/home/aiyappa/anaconda3/lib/python3.7/site-packages/tables/path.py:112: NaturalNameWarning: object name is not a valid Python identifier: 'sim_80_p_rew_0.01_start_1_dq_0.1'; it does not match the pattern ``^[a-zA-Z_][a-zA-Z0-9_]*$``; you will not be able to use natural naming to access this object; using ``getattr()`` will still work, though\n",
      "  NaturalNameWarning)\n"
     ]
    },
    {
     "name": "stdout",
     "output_type": "stream",
     "text": [
      "(sim,lamb_da,p_rew,start,dose_quantity) =  (80, 0.001, 0.01, 1, 2)\n",
      "{15}\n",
      "sim_80_p_rew_0.01_start_1_dq_2\n"
     ]
    },
    {
     "name": "stderr",
     "output_type": "stream",
     "text": [
      "/home/aiyappa/anaconda3/lib/python3.7/site-packages/tables/path.py:112: NaturalNameWarning: object name is not a valid Python identifier: 'sim_80_p_rew_0.01_start_1_dq_2'; it does not match the pattern ``^[a-zA-Z_][a-zA-Z0-9_]*$``; you will not be able to use natural naming to access this object; using ``getattr()`` will still work, though\n",
      "  NaturalNameWarning)\n"
     ]
    },
    {
     "name": "stdout",
     "output_type": "stream",
     "text": [
      "(sim,lamb_da,p_rew,start,dose_quantity) =  (80, 0.001, 0.01, 10, 0.1)\n",
      "{7, 42, 28, 17, 49, 83, 52, 84, 88, 60}\n",
      "sim_80_p_rew_0.01_start_10_dq_0.1\n"
     ]
    },
    {
     "name": "stderr",
     "output_type": "stream",
     "text": [
      "/home/aiyappa/anaconda3/lib/python3.7/site-packages/tables/path.py:112: NaturalNameWarning: object name is not a valid Python identifier: 'sim_80_p_rew_0.01_start_10_dq_0.1'; it does not match the pattern ``^[a-zA-Z_][a-zA-Z0-9_]*$``; you will not be able to use natural naming to access this object; using ``getattr()`` will still work, though\n",
      "  NaturalNameWarning)\n"
     ]
    },
    {
     "name": "stdout",
     "output_type": "stream",
     "text": [
      "(sim,lamb_da,p_rew,start,dose_quantity) =  (80, 0.001, 0.01, 10, 2)\n",
      "{97, 3, 4, 5, 7, 52, 21, 22, 58, 61}\n",
      "sim_80_p_rew_0.01_start_10_dq_2\n"
     ]
    },
    {
     "name": "stderr",
     "output_type": "stream",
     "text": [
      "/home/aiyappa/anaconda3/lib/python3.7/site-packages/tables/path.py:112: NaturalNameWarning: object name is not a valid Python identifier: 'sim_80_p_rew_0.01_start_10_dq_2'; it does not match the pattern ``^[a-zA-Z_][a-zA-Z0-9_]*$``; you will not be able to use natural naming to access this object; using ``getattr()`` will still work, though\n",
      "  NaturalNameWarning)\n"
     ]
    },
    {
     "name": "stdout",
     "output_type": "stream",
     "text": [
      "(sim,lamb_da,p_rew,start,dose_quantity) =  (80, 0.01, 0.10000000000000002, 1, 0.1)\n",
      "{48}\n",
      "sim_80_p_rew_0.1_start_1_dq_0.1\n"
     ]
    },
    {
     "name": "stderr",
     "output_type": "stream",
     "text": [
      "/home/aiyappa/anaconda3/lib/python3.7/site-packages/tables/path.py:112: NaturalNameWarning: object name is not a valid Python identifier: 'sim_80_p_rew_0.1_start_1_dq_0.1'; it does not match the pattern ``^[a-zA-Z_][a-zA-Z0-9_]*$``; you will not be able to use natural naming to access this object; using ``getattr()`` will still work, though\n",
      "  NaturalNameWarning)\n"
     ]
    },
    {
     "name": "stdout",
     "output_type": "stream",
     "text": [
      "(sim,lamb_da,p_rew,start,dose_quantity) =  (80, 0.01, 0.10000000000000002, 1, 2)\n",
      "{82}\n",
      "sim_80_p_rew_0.1_start_1_dq_2\n"
     ]
    },
    {
     "name": "stderr",
     "output_type": "stream",
     "text": [
      "/home/aiyappa/anaconda3/lib/python3.7/site-packages/tables/path.py:112: NaturalNameWarning: object name is not a valid Python identifier: 'sim_80_p_rew_0.1_start_1_dq_2'; it does not match the pattern ``^[a-zA-Z_][a-zA-Z0-9_]*$``; you will not be able to use natural naming to access this object; using ``getattr()`` will still work, though\n",
      "  NaturalNameWarning)\n"
     ]
    },
    {
     "name": "stdout",
     "output_type": "stream",
     "text": [
      "(sim,lamb_da,p_rew,start,dose_quantity) =  (80, 0.01, 0.10000000000000002, 10, 0.1)\n",
      "{32, 98, 34, 68, 78, 15, 80, 50, 88, 30}\n",
      "sim_80_p_rew_0.1_start_10_dq_0.1\n"
     ]
    },
    {
     "name": "stderr",
     "output_type": "stream",
     "text": [
      "/home/aiyappa/anaconda3/lib/python3.7/site-packages/tables/path.py:112: NaturalNameWarning: object name is not a valid Python identifier: 'sim_80_p_rew_0.1_start_10_dq_0.1'; it does not match the pattern ``^[a-zA-Z_][a-zA-Z0-9_]*$``; you will not be able to use natural naming to access this object; using ``getattr()`` will still work, though\n",
      "  NaturalNameWarning)\n"
     ]
    },
    {
     "name": "stdout",
     "output_type": "stream",
     "text": [
      "(sim,lamb_da,p_rew,start,dose_quantity) =  (80, 0.01, 0.10000000000000002, 10, 2)\n",
      "{0, 69, 76, 13, 14, 80, 48, 85, 91, 63}\n",
      "sim_80_p_rew_0.1_start_10_dq_2\n"
     ]
    },
    {
     "name": "stderr",
     "output_type": "stream",
     "text": [
      "/home/aiyappa/anaconda3/lib/python3.7/site-packages/tables/path.py:112: NaturalNameWarning: object name is not a valid Python identifier: 'sim_80_p_rew_0.1_start_10_dq_2'; it does not match the pattern ``^[a-zA-Z_][a-zA-Z0-9_]*$``; you will not be able to use natural naming to access this object; using ``getattr()`` will still work, though\n",
      "  NaturalNameWarning)\n"
     ]
    },
    {
     "name": "stdout",
     "output_type": "stream",
     "text": [
      "(sim,lamb_da,p_rew,start,dose_quantity) =  (80, 0.10000000000000002, 1.0, 1, 0.1)\n",
      "{47}\n",
      "sim_80_p_rew_1_start_1_dq_0.1\n"
     ]
    },
    {
     "name": "stderr",
     "output_type": "stream",
     "text": [
      "/home/aiyappa/anaconda3/lib/python3.7/site-packages/tables/path.py:112: NaturalNameWarning: object name is not a valid Python identifier: 'sim_80_p_rew_1_start_1_dq_0.1'; it does not match the pattern ``^[a-zA-Z_][a-zA-Z0-9_]*$``; you will not be able to use natural naming to access this object; using ``getattr()`` will still work, though\n",
      "  NaturalNameWarning)\n"
     ]
    },
    {
     "name": "stdout",
     "output_type": "stream",
     "text": [
      "(sim,lamb_da,p_rew,start,dose_quantity) =  (80, 0.10000000000000002, 1.0, 1, 2)\n",
      "{64}\n",
      "sim_80_p_rew_1_start_1_dq_2\n",
      "(sim,lamb_da,p_rew,start,dose_quantity) =  (80, 0.10000000000000002, 1.0, 10, 0.1)\n",
      "Initial node infection step failed\n",
      "None\n",
      "Initial node infection step failed\n",
      "None\n",
      "Initial node infection step failed\n",
      "None\n",
      "{43, 13, 81, 20, 93, 52, 86, 89, 29, 63}\n",
      "sim_80_p_rew_1_start_10_dq_0.1\n"
     ]
    },
    {
     "name": "stderr",
     "output_type": "stream",
     "text": [
      "/home/aiyappa/anaconda3/lib/python3.7/site-packages/tables/path.py:112: NaturalNameWarning: object name is not a valid Python identifier: 'sim_80_p_rew_1_start_10_dq_0.1'; it does not match the pattern ``^[a-zA-Z_][a-zA-Z0-9_]*$``; you will not be able to use natural naming to access this object; using ``getattr()`` will still work, though\n",
      "  NaturalNameWarning)\n"
     ]
    },
    {
     "name": "stdout",
     "output_type": "stream",
     "text": [
      "(sim,lamb_da,p_rew,start,dose_quantity) =  (80, 0.10000000000000002, 1.0, 10, 2)\n",
      "{34, 67, 66, 42, 15, 80, 83, 19, 54, 92}\n",
      "sim_80_p_rew_1_start_10_dq_2\n",
      "(sim,lamb_da,p_rew,start,dose_quantity) =  (81, 0.001, 0.01, 1, 0.1)\n",
      "{47}\n",
      "sim_81_p_rew_0.01_start_1_dq_0.1\n"
     ]
    },
    {
     "name": "stderr",
     "output_type": "stream",
     "text": [
      "/home/aiyappa/anaconda3/lib/python3.7/site-packages/tables/path.py:112: NaturalNameWarning: object name is not a valid Python identifier: 'sim_81_p_rew_0.01_start_1_dq_0.1'; it does not match the pattern ``^[a-zA-Z_][a-zA-Z0-9_]*$``; you will not be able to use natural naming to access this object; using ``getattr()`` will still work, though\n",
      "  NaturalNameWarning)\n"
     ]
    },
    {
     "name": "stdout",
     "output_type": "stream",
     "text": [
      "(sim,lamb_da,p_rew,start,dose_quantity) =  (81, 0.001, 0.01, 1, 2)\n",
      "{15}\n",
      "sim_81_p_rew_0.01_start_1_dq_2\n"
     ]
    },
    {
     "name": "stderr",
     "output_type": "stream",
     "text": [
      "/home/aiyappa/anaconda3/lib/python3.7/site-packages/tables/path.py:112: NaturalNameWarning: object name is not a valid Python identifier: 'sim_81_p_rew_0.01_start_1_dq_2'; it does not match the pattern ``^[a-zA-Z_][a-zA-Z0-9_]*$``; you will not be able to use natural naming to access this object; using ``getattr()`` will still work, though\n",
      "  NaturalNameWarning)\n"
     ]
    },
    {
     "name": "stdout",
     "output_type": "stream",
     "text": [
      "(sim,lamb_da,p_rew,start,dose_quantity) =  (81, 0.001, 0.01, 10, 0.1)\n",
      "{32, 99, 35, 6, 7, 70, 74, 12, 84, 56}\n",
      "sim_81_p_rew_0.01_start_10_dq_0.1\n"
     ]
    },
    {
     "name": "stderr",
     "output_type": "stream",
     "text": [
      "/home/aiyappa/anaconda3/lib/python3.7/site-packages/tables/path.py:112: NaturalNameWarning: object name is not a valid Python identifier: 'sim_81_p_rew_0.01_start_10_dq_0.1'; it does not match the pattern ``^[a-zA-Z_][a-zA-Z0-9_]*$``; you will not be able to use natural naming to access this object; using ``getattr()`` will still work, though\n",
      "  NaturalNameWarning)\n"
     ]
    },
    {
     "name": "stdout",
     "output_type": "stream",
     "text": [
      "(sim,lamb_da,p_rew,start,dose_quantity) =  (81, 0.001, 0.01, 10, 2)\n",
      "{1, 26, 76, 48, 85, 55, 89, 90, 28, 95}\n",
      "sim_81_p_rew_0.01_start_10_dq_2\n"
     ]
    },
    {
     "name": "stderr",
     "output_type": "stream",
     "text": [
      "/home/aiyappa/anaconda3/lib/python3.7/site-packages/tables/path.py:112: NaturalNameWarning: object name is not a valid Python identifier: 'sim_81_p_rew_0.01_start_10_dq_2'; it does not match the pattern ``^[a-zA-Z_][a-zA-Z0-9_]*$``; you will not be able to use natural naming to access this object; using ``getattr()`` will still work, though\n",
      "  NaturalNameWarning)\n"
     ]
    },
    {
     "name": "stdout",
     "output_type": "stream",
     "text": [
      "(sim,lamb_da,p_rew,start,dose_quantity) =  (81, 0.01, 0.10000000000000002, 1, 0.1)\n",
      "{21}\n",
      "sim_81_p_rew_0.1_start_1_dq_0.1\n"
     ]
    },
    {
     "name": "stderr",
     "output_type": "stream",
     "text": [
      "/home/aiyappa/anaconda3/lib/python3.7/site-packages/tables/path.py:112: NaturalNameWarning: object name is not a valid Python identifier: 'sim_81_p_rew_0.1_start_1_dq_0.1'; it does not match the pattern ``^[a-zA-Z_][a-zA-Z0-9_]*$``; you will not be able to use natural naming to access this object; using ``getattr()`` will still work, though\n",
      "  NaturalNameWarning)\n"
     ]
    },
    {
     "name": "stdout",
     "output_type": "stream",
     "text": [
      "(sim,lamb_da,p_rew,start,dose_quantity) =  (81, 0.01, 0.10000000000000002, 1, 2)\n",
      "{15}\n",
      "sim_81_p_rew_0.1_start_1_dq_2\n"
     ]
    },
    {
     "name": "stderr",
     "output_type": "stream",
     "text": [
      "/home/aiyappa/anaconda3/lib/python3.7/site-packages/tables/path.py:112: NaturalNameWarning: object name is not a valid Python identifier: 'sim_81_p_rew_0.1_start_1_dq_2'; it does not match the pattern ``^[a-zA-Z_][a-zA-Z0-9_]*$``; you will not be able to use natural naming to access this object; using ``getattr()`` will still work, though\n",
      "  NaturalNameWarning)\n"
     ]
    },
    {
     "name": "stdout",
     "output_type": "stream",
     "text": [
      "(sim,lamb_da,p_rew,start,dose_quantity) =  (81, 0.01, 0.10000000000000002, 10, 0.1)\n",
      "{39, 8, 75, 45, 46, 17, 19, 20, 24, 60}\n",
      "sim_81_p_rew_0.1_start_10_dq_0.1\n"
     ]
    },
    {
     "name": "stderr",
     "output_type": "stream",
     "text": [
      "/home/aiyappa/anaconda3/lib/python3.7/site-packages/tables/path.py:112: NaturalNameWarning: object name is not a valid Python identifier: 'sim_81_p_rew_0.1_start_10_dq_0.1'; it does not match the pattern ``^[a-zA-Z_][a-zA-Z0-9_]*$``; you will not be able to use natural naming to access this object; using ``getattr()`` will still work, though\n",
      "  NaturalNameWarning)\n"
     ]
    },
    {
     "name": "stdout",
     "output_type": "stream",
     "text": [
      "(sim,lamb_da,p_rew,start,dose_quantity) =  (81, 0.01, 0.10000000000000002, 10, 2)\n",
      "{35, 36, 6, 8, 11, 45, 57, 90, 29, 63}\n",
      "sim_81_p_rew_0.1_start_10_dq_2\n"
     ]
    },
    {
     "name": "stderr",
     "output_type": "stream",
     "text": [
      "/home/aiyappa/anaconda3/lib/python3.7/site-packages/tables/path.py:112: NaturalNameWarning: object name is not a valid Python identifier: 'sim_81_p_rew_0.1_start_10_dq_2'; it does not match the pattern ``^[a-zA-Z_][a-zA-Z0-9_]*$``; you will not be able to use natural naming to access this object; using ``getattr()`` will still work, though\n",
      "  NaturalNameWarning)\n"
     ]
    },
    {
     "name": "stdout",
     "output_type": "stream",
     "text": [
      "(sim,lamb_da,p_rew,start,dose_quantity) =  (81, 0.10000000000000002, 1.0, 1, 0.1)\n",
      "{15}\n",
      "sim_81_p_rew_1_start_1_dq_0.1\n"
     ]
    },
    {
     "name": "stderr",
     "output_type": "stream",
     "text": [
      "/home/aiyappa/anaconda3/lib/python3.7/site-packages/tables/path.py:112: NaturalNameWarning: object name is not a valid Python identifier: 'sim_81_p_rew_1_start_1_dq_0.1'; it does not match the pattern ``^[a-zA-Z_][a-zA-Z0-9_]*$``; you will not be able to use natural naming to access this object; using ``getattr()`` will still work, though\n",
      "  NaturalNameWarning)\n"
     ]
    },
    {
     "name": "stdout",
     "output_type": "stream",
     "text": [
      "(sim,lamb_da,p_rew,start,dose_quantity) =  (81, 0.10000000000000002, 1.0, 1, 2)\n",
      "{80}\n",
      "sim_81_p_rew_1_start_1_dq_2\n",
      "(sim,lamb_da,p_rew,start,dose_quantity) =  (81, 0.10000000000000002, 1.0, 10, 0.1)\n",
      "{1, 65, 68, 40, 12, 46, 51, 25, 62, 31}\n",
      "sim_81_p_rew_1_start_10_dq_0.1\n"
     ]
    },
    {
     "name": "stderr",
     "output_type": "stream",
     "text": [
      "/home/aiyappa/anaconda3/lib/python3.7/site-packages/tables/path.py:112: NaturalNameWarning: object name is not a valid Python identifier: 'sim_81_p_rew_1_start_10_dq_0.1'; it does not match the pattern ``^[a-zA-Z_][a-zA-Z0-9_]*$``; you will not be able to use natural naming to access this object; using ``getattr()`` will still work, though\n",
      "  NaturalNameWarning)\n"
     ]
    },
    {
     "name": "stdout",
     "output_type": "stream",
     "text": [
      "(sim,lamb_da,p_rew,start,dose_quantity) =  (81, 0.10000000000000002, 1.0, 10, 2)\n",
      "{0, 65, 99, 73, 18, 87, 26, 27, 92, 93}\n",
      "sim_81_p_rew_1_start_10_dq_2\n",
      "(sim,lamb_da,p_rew,start,dose_quantity) =  (82, 0.001, 0.01, 1, 0.1)\n",
      "{91}\n",
      "sim_82_p_rew_0.01_start_1_dq_0.1\n"
     ]
    },
    {
     "name": "stderr",
     "output_type": "stream",
     "text": [
      "/home/aiyappa/anaconda3/lib/python3.7/site-packages/tables/path.py:112: NaturalNameWarning: object name is not a valid Python identifier: 'sim_82_p_rew_0.01_start_1_dq_0.1'; it does not match the pattern ``^[a-zA-Z_][a-zA-Z0-9_]*$``; you will not be able to use natural naming to access this object; using ``getattr()`` will still work, though\n",
      "  NaturalNameWarning)\n"
     ]
    },
    {
     "name": "stdout",
     "output_type": "stream",
     "text": [
      "(sim,lamb_da,p_rew,start,dose_quantity) =  (82, 0.001, 0.01, 1, 2)\n",
      "{68}\n",
      "sim_82_p_rew_0.01_start_1_dq_2\n"
     ]
    },
    {
     "name": "stderr",
     "output_type": "stream",
     "text": [
      "/home/aiyappa/anaconda3/lib/python3.7/site-packages/tables/path.py:112: NaturalNameWarning: object name is not a valid Python identifier: 'sim_82_p_rew_0.01_start_1_dq_2'; it does not match the pattern ``^[a-zA-Z_][a-zA-Z0-9_]*$``; you will not be able to use natural naming to access this object; using ``getattr()`` will still work, though\n",
      "  NaturalNameWarning)\n"
     ]
    },
    {
     "name": "stdout",
     "output_type": "stream",
     "text": [
      "(sim,lamb_da,p_rew,start,dose_quantity) =  (82, 0.001, 0.01, 10, 0.1)\n",
      "{66, 98, 70, 9, 75, 17, 21, 23, 58, 30}\n",
      "sim_82_p_rew_0.01_start_10_dq_0.1\n"
     ]
    },
    {
     "name": "stderr",
     "output_type": "stream",
     "text": [
      "/home/aiyappa/anaconda3/lib/python3.7/site-packages/tables/path.py:112: NaturalNameWarning: object name is not a valid Python identifier: 'sim_82_p_rew_0.01_start_10_dq_0.1'; it does not match the pattern ``^[a-zA-Z_][a-zA-Z0-9_]*$``; you will not be able to use natural naming to access this object; using ``getattr()`` will still work, though\n",
      "  NaturalNameWarning)\n"
     ]
    },
    {
     "name": "stdout",
     "output_type": "stream",
     "text": [
      "(sim,lamb_da,p_rew,start,dose_quantity) =  (82, 0.001, 0.01, 10, 2)\n",
      "{96, 41, 14, 80, 81, 83, 86, 55, 58, 93}\n",
      "sim_82_p_rew_0.01_start_10_dq_2\n"
     ]
    },
    {
     "name": "stderr",
     "output_type": "stream",
     "text": [
      "/home/aiyappa/anaconda3/lib/python3.7/site-packages/tables/path.py:112: NaturalNameWarning: object name is not a valid Python identifier: 'sim_82_p_rew_0.01_start_10_dq_2'; it does not match the pattern ``^[a-zA-Z_][a-zA-Z0-9_]*$``; you will not be able to use natural naming to access this object; using ``getattr()`` will still work, though\n",
      "  NaturalNameWarning)\n"
     ]
    },
    {
     "name": "stdout",
     "output_type": "stream",
     "text": [
      "(sim,lamb_da,p_rew,start,dose_quantity) =  (82, 0.01, 0.10000000000000002, 1, 0.1)\n",
      "{41}\n",
      "sim_82_p_rew_0.1_start_1_dq_0.1\n"
     ]
    },
    {
     "name": "stderr",
     "output_type": "stream",
     "text": [
      "/home/aiyappa/anaconda3/lib/python3.7/site-packages/tables/path.py:112: NaturalNameWarning: object name is not a valid Python identifier: 'sim_82_p_rew_0.1_start_1_dq_0.1'; it does not match the pattern ``^[a-zA-Z_][a-zA-Z0-9_]*$``; you will not be able to use natural naming to access this object; using ``getattr()`` will still work, though\n",
      "  NaturalNameWarning)\n"
     ]
    },
    {
     "name": "stdout",
     "output_type": "stream",
     "text": [
      "(sim,lamb_da,p_rew,start,dose_quantity) =  (82, 0.01, 0.10000000000000002, 1, 2)\n",
      "{94}\n",
      "sim_82_p_rew_0.1_start_1_dq_2\n"
     ]
    },
    {
     "name": "stderr",
     "output_type": "stream",
     "text": [
      "/home/aiyappa/anaconda3/lib/python3.7/site-packages/tables/path.py:112: NaturalNameWarning: object name is not a valid Python identifier: 'sim_82_p_rew_0.1_start_1_dq_2'; it does not match the pattern ``^[a-zA-Z_][a-zA-Z0-9_]*$``; you will not be able to use natural naming to access this object; using ``getattr()`` will still work, though\n",
      "  NaturalNameWarning)\n"
     ]
    },
    {
     "name": "stdout",
     "output_type": "stream",
     "text": [
      "(sim,lamb_da,p_rew,start,dose_quantity) =  (82, 0.01, 0.10000000000000002, 10, 0.1)\n",
      "{33, 9, 42, 14, 15, 79, 16, 47, 54, 60}\n",
      "sim_82_p_rew_0.1_start_10_dq_0.1\n"
     ]
    },
    {
     "name": "stderr",
     "output_type": "stream",
     "text": [
      "/home/aiyappa/anaconda3/lib/python3.7/site-packages/tables/path.py:112: NaturalNameWarning: object name is not a valid Python identifier: 'sim_82_p_rew_0.1_start_10_dq_0.1'; it does not match the pattern ``^[a-zA-Z_][a-zA-Z0-9_]*$``; you will not be able to use natural naming to access this object; using ``getattr()`` will still work, though\n",
      "  NaturalNameWarning)\n"
     ]
    },
    {
     "name": "stdout",
     "output_type": "stream",
     "text": [
      "(sim,lamb_da,p_rew,start,dose_quantity) =  (82, 0.01, 0.10000000000000002, 10, 2)\n",
      "{67, 37, 71, 41, 10, 11, 48, 58, 61, 94}\n",
      "sim_82_p_rew_0.1_start_10_dq_2\n"
     ]
    },
    {
     "name": "stderr",
     "output_type": "stream",
     "text": [
      "/home/aiyappa/anaconda3/lib/python3.7/site-packages/tables/path.py:112: NaturalNameWarning: object name is not a valid Python identifier: 'sim_82_p_rew_0.1_start_10_dq_2'; it does not match the pattern ``^[a-zA-Z_][a-zA-Z0-9_]*$``; you will not be able to use natural naming to access this object; using ``getattr()`` will still work, though\n",
      "  NaturalNameWarning)\n"
     ]
    },
    {
     "name": "stdout",
     "output_type": "stream",
     "text": [
      "(sim,lamb_da,p_rew,start,dose_quantity) =  (82, 0.10000000000000002, 1.0, 1, 0.1)\n",
      "{31}\n",
      "sim_82_p_rew_1_start_1_dq_0.1\n"
     ]
    },
    {
     "name": "stderr",
     "output_type": "stream",
     "text": [
      "/home/aiyappa/anaconda3/lib/python3.7/site-packages/tables/path.py:112: NaturalNameWarning: object name is not a valid Python identifier: 'sim_82_p_rew_1_start_1_dq_0.1'; it does not match the pattern ``^[a-zA-Z_][a-zA-Z0-9_]*$``; you will not be able to use natural naming to access this object; using ``getattr()`` will still work, though\n",
      "  NaturalNameWarning)\n"
     ]
    },
    {
     "name": "stdout",
     "output_type": "stream",
     "text": [
      "(sim,lamb_da,p_rew,start,dose_quantity) =  (82, 0.10000000000000002, 1.0, 1, 2)\n",
      "{63}\n",
      "sim_82_p_rew_1_start_1_dq_2\n",
      "(sim,lamb_da,p_rew,start,dose_quantity) =  (82, 0.10000000000000002, 1.0, 10, 0.1)\n",
      "{98, 66, 7, 42, 77, 53, 57, 58, 91, 60}\n",
      "sim_82_p_rew_1_start_10_dq_0.1\n"
     ]
    },
    {
     "name": "stderr",
     "output_type": "stream",
     "text": [
      "/home/aiyappa/anaconda3/lib/python3.7/site-packages/tables/path.py:112: NaturalNameWarning: object name is not a valid Python identifier: 'sim_82_p_rew_1_start_10_dq_0.1'; it does not match the pattern ``^[a-zA-Z_][a-zA-Z0-9_]*$``; you will not be able to use natural naming to access this object; using ``getattr()`` will still work, though\n",
      "  NaturalNameWarning)\n"
     ]
    },
    {
     "name": "stdout",
     "output_type": "stream",
     "text": [
      "(sim,lamb_da,p_rew,start,dose_quantity) =  (82, 0.10000000000000002, 1.0, 10, 2)\n",
      "{0, 2, 4, 37, 12, 77, 47, 20, 56, 25}\n",
      "sim_82_p_rew_1_start_10_dq_2\n",
      "(sim,lamb_da,p_rew,start,dose_quantity) =  (83, 0.001, 0.01, 1, 0.1)\n",
      "{5}\n",
      "sim_83_p_rew_0.01_start_1_dq_0.1\n"
     ]
    },
    {
     "name": "stderr",
     "output_type": "stream",
     "text": [
      "/home/aiyappa/anaconda3/lib/python3.7/site-packages/tables/path.py:112: NaturalNameWarning: object name is not a valid Python identifier: 'sim_83_p_rew_0.01_start_1_dq_0.1'; it does not match the pattern ``^[a-zA-Z_][a-zA-Z0-9_]*$``; you will not be able to use natural naming to access this object; using ``getattr()`` will still work, though\n",
      "  NaturalNameWarning)\n"
     ]
    },
    {
     "name": "stdout",
     "output_type": "stream",
     "text": [
      "(sim,lamb_da,p_rew,start,dose_quantity) =  (83, 0.001, 0.01, 1, 2)\n",
      "{40}\n",
      "sim_83_p_rew_0.01_start_1_dq_2\n"
     ]
    },
    {
     "name": "stderr",
     "output_type": "stream",
     "text": [
      "/home/aiyappa/anaconda3/lib/python3.7/site-packages/tables/path.py:112: NaturalNameWarning: object name is not a valid Python identifier: 'sim_83_p_rew_0.01_start_1_dq_2'; it does not match the pattern ``^[a-zA-Z_][a-zA-Z0-9_]*$``; you will not be able to use natural naming to access this object; using ``getattr()`` will still work, though\n",
      "  NaturalNameWarning)\n"
     ]
    },
    {
     "name": "stdout",
     "output_type": "stream",
     "text": [
      "(sim,lamb_da,p_rew,start,dose_quantity) =  (83, 0.001, 0.01, 10, 0.1)\n",
      "{37, 44, 45, 60, 80, 49, 50, 30, 28, 62}\n",
      "sim_83_p_rew_0.01_start_10_dq_0.1\n"
     ]
    },
    {
     "name": "stderr",
     "output_type": "stream",
     "text": [
      "/home/aiyappa/anaconda3/lib/python3.7/site-packages/tables/path.py:112: NaturalNameWarning: object name is not a valid Python identifier: 'sim_83_p_rew_0.01_start_10_dq_0.1'; it does not match the pattern ``^[a-zA-Z_][a-zA-Z0-9_]*$``; you will not be able to use natural naming to access this object; using ``getattr()`` will still work, though\n",
      "  NaturalNameWarning)\n"
     ]
    },
    {
     "name": "stdout",
     "output_type": "stream",
     "text": [
      "(sim,lamb_da,p_rew,start,dose_quantity) =  (83, 0.001, 0.01, 10, 2)\n",
      "{32, 36, 6, 73, 74, 45, 29, 51, 20, 93}\n",
      "sim_83_p_rew_0.01_start_10_dq_2\n"
     ]
    },
    {
     "name": "stderr",
     "output_type": "stream",
     "text": [
      "/home/aiyappa/anaconda3/lib/python3.7/site-packages/tables/path.py:112: NaturalNameWarning: object name is not a valid Python identifier: 'sim_83_p_rew_0.01_start_10_dq_2'; it does not match the pattern ``^[a-zA-Z_][a-zA-Z0-9_]*$``; you will not be able to use natural naming to access this object; using ``getattr()`` will still work, though\n",
      "  NaturalNameWarning)\n"
     ]
    },
    {
     "name": "stdout",
     "output_type": "stream",
     "text": [
      "(sim,lamb_da,p_rew,start,dose_quantity) =  (83, 0.01, 0.10000000000000002, 1, 0.1)\n",
      "{11}\n",
      "sim_83_p_rew_0.1_start_1_dq_0.1\n"
     ]
    },
    {
     "name": "stderr",
     "output_type": "stream",
     "text": [
      "/home/aiyappa/anaconda3/lib/python3.7/site-packages/tables/path.py:112: NaturalNameWarning: object name is not a valid Python identifier: 'sim_83_p_rew_0.1_start_1_dq_0.1'; it does not match the pattern ``^[a-zA-Z_][a-zA-Z0-9_]*$``; you will not be able to use natural naming to access this object; using ``getattr()`` will still work, though\n",
      "  NaturalNameWarning)\n"
     ]
    },
    {
     "name": "stdout",
     "output_type": "stream",
     "text": [
      "(sim,lamb_da,p_rew,start,dose_quantity) =  (83, 0.01, 0.10000000000000002, 1, 2)\n",
      "{28}\n",
      "sim_83_p_rew_0.1_start_1_dq_2\n"
     ]
    },
    {
     "name": "stderr",
     "output_type": "stream",
     "text": [
      "/home/aiyappa/anaconda3/lib/python3.7/site-packages/tables/path.py:112: NaturalNameWarning: object name is not a valid Python identifier: 'sim_83_p_rew_0.1_start_1_dq_2'; it does not match the pattern ``^[a-zA-Z_][a-zA-Z0-9_]*$``; you will not be able to use natural naming to access this object; using ``getattr()`` will still work, though\n",
      "  NaturalNameWarning)\n"
     ]
    },
    {
     "name": "stdout",
     "output_type": "stream",
     "text": [
      "(sim,lamb_da,p_rew,start,dose_quantity) =  (83, 0.01, 0.10000000000000002, 10, 0.1)\n",
      "{5, 38, 6, 40, 14, 52, 84, 87, 59, 63}\n",
      "sim_83_p_rew_0.1_start_10_dq_0.1\n"
     ]
    },
    {
     "name": "stderr",
     "output_type": "stream",
     "text": [
      "/home/aiyappa/anaconda3/lib/python3.7/site-packages/tables/path.py:112: NaturalNameWarning: object name is not a valid Python identifier: 'sim_83_p_rew_0.1_start_10_dq_0.1'; it does not match the pattern ``^[a-zA-Z_][a-zA-Z0-9_]*$``; you will not be able to use natural naming to access this object; using ``getattr()`` will still work, though\n",
      "  NaturalNameWarning)\n"
     ]
    },
    {
     "name": "stdout",
     "output_type": "stream",
     "text": [
      "(sim,lamb_da,p_rew,start,dose_quantity) =  (83, 0.01, 0.10000000000000002, 10, 2)\n",
      "{70, 11, 12, 14, 15, 19, 83, 87, 26, 63}\n",
      "sim_83_p_rew_0.1_start_10_dq_2\n"
     ]
    },
    {
     "name": "stderr",
     "output_type": "stream",
     "text": [
      "/home/aiyappa/anaconda3/lib/python3.7/site-packages/tables/path.py:112: NaturalNameWarning: object name is not a valid Python identifier: 'sim_83_p_rew_0.1_start_10_dq_2'; it does not match the pattern ``^[a-zA-Z_][a-zA-Z0-9_]*$``; you will not be able to use natural naming to access this object; using ``getattr()`` will still work, though\n",
      "  NaturalNameWarning)\n"
     ]
    },
    {
     "name": "stdout",
     "output_type": "stream",
     "text": [
      "(sim,lamb_da,p_rew,start,dose_quantity) =  (83, 0.10000000000000002, 1.0, 1, 0.1)\n",
      "{73}\n",
      "sim_83_p_rew_1_start_1_dq_0.1\n"
     ]
    },
    {
     "name": "stderr",
     "output_type": "stream",
     "text": [
      "/home/aiyappa/anaconda3/lib/python3.7/site-packages/tables/path.py:112: NaturalNameWarning: object name is not a valid Python identifier: 'sim_83_p_rew_1_start_1_dq_0.1'; it does not match the pattern ``^[a-zA-Z_][a-zA-Z0-9_]*$``; you will not be able to use natural naming to access this object; using ``getattr()`` will still work, though\n",
      "  NaturalNameWarning)\n"
     ]
    },
    {
     "name": "stdout",
     "output_type": "stream",
     "text": [
      "(sim,lamb_da,p_rew,start,dose_quantity) =  (83, 0.10000000000000002, 1.0, 1, 2)\n",
      "{19}\n",
      "sim_83_p_rew_1_start_1_dq_2\n",
      "(sim,lamb_da,p_rew,start,dose_quantity) =  (83, 0.10000000000000002, 1.0, 10, 0.1)\n",
      "Initial node infection step failed\n",
      "None\n",
      "Initial node infection step failed\n",
      "None\n",
      "Initial node infection step failed\n",
      "None\n",
      "{5, 38, 79, 17, 21, 85, 30, 89, 61, 94}\n",
      "sim_83_p_rew_1_start_10_dq_0.1\n"
     ]
    },
    {
     "name": "stderr",
     "output_type": "stream",
     "text": [
      "/home/aiyappa/anaconda3/lib/python3.7/site-packages/tables/path.py:112: NaturalNameWarning: object name is not a valid Python identifier: 'sim_83_p_rew_1_start_10_dq_0.1'; it does not match the pattern ``^[a-zA-Z_][a-zA-Z0-9_]*$``; you will not be able to use natural naming to access this object; using ``getattr()`` will still work, though\n",
      "  NaturalNameWarning)\n"
     ]
    },
    {
     "name": "stdout",
     "output_type": "stream",
     "text": [
      "(sim,lamb_da,p_rew,start,dose_quantity) =  (83, 0.10000000000000002, 1.0, 10, 2)\n",
      "{65, 2, 68, 40, 12, 14, 17, 84, 23, 88}\n",
      "sim_83_p_rew_1_start_10_dq_2\n",
      "(sim,lamb_da,p_rew,start,dose_quantity) =  (84, 0.001, 0.01, 1, 0.1)\n",
      "{43}\n",
      "sim_84_p_rew_0.01_start_1_dq_0.1\n"
     ]
    },
    {
     "name": "stderr",
     "output_type": "stream",
     "text": [
      "/home/aiyappa/anaconda3/lib/python3.7/site-packages/tables/path.py:112: NaturalNameWarning: object name is not a valid Python identifier: 'sim_84_p_rew_0.01_start_1_dq_0.1'; it does not match the pattern ``^[a-zA-Z_][a-zA-Z0-9_]*$``; you will not be able to use natural naming to access this object; using ``getattr()`` will still work, though\n",
      "  NaturalNameWarning)\n"
     ]
    },
    {
     "name": "stdout",
     "output_type": "stream",
     "text": [
      "(sim,lamb_da,p_rew,start,dose_quantity) =  (84, 0.001, 0.01, 1, 2)\n",
      "{10}\n",
      "sim_84_p_rew_0.01_start_1_dq_2\n"
     ]
    },
    {
     "name": "stderr",
     "output_type": "stream",
     "text": [
      "/home/aiyappa/anaconda3/lib/python3.7/site-packages/tables/path.py:112: NaturalNameWarning: object name is not a valid Python identifier: 'sim_84_p_rew_0.01_start_1_dq_2'; it does not match the pattern ``^[a-zA-Z_][a-zA-Z0-9_]*$``; you will not be able to use natural naming to access this object; using ``getattr()`` will still work, though\n",
      "  NaturalNameWarning)\n"
     ]
    },
    {
     "name": "stdout",
     "output_type": "stream",
     "text": [
      "(sim,lamb_da,p_rew,start,dose_quantity) =  (84, 0.001, 0.01, 10, 0.1)\n",
      "{96, 98, 68, 11, 16, 83, 21, 55, 23, 88}\n",
      "sim_84_p_rew_0.01_start_10_dq_0.1\n"
     ]
    },
    {
     "name": "stderr",
     "output_type": "stream",
     "text": [
      "/home/aiyappa/anaconda3/lib/python3.7/site-packages/tables/path.py:112: NaturalNameWarning: object name is not a valid Python identifier: 'sim_84_p_rew_0.01_start_10_dq_0.1'; it does not match the pattern ``^[a-zA-Z_][a-zA-Z0-9_]*$``; you will not be able to use natural naming to access this object; using ``getattr()`` will still work, though\n",
      "  NaturalNameWarning)\n"
     ]
    },
    {
     "name": "stdout",
     "output_type": "stream",
     "text": [
      "(sim,lamb_da,p_rew,start,dose_quantity) =  (84, 0.001, 0.01, 10, 2)\n",
      "{6, 71, 40, 74, 47, 80, 18, 56, 92, 94}\n",
      "sim_84_p_rew_0.01_start_10_dq_2\n"
     ]
    },
    {
     "name": "stderr",
     "output_type": "stream",
     "text": [
      "/home/aiyappa/anaconda3/lib/python3.7/site-packages/tables/path.py:112: NaturalNameWarning: object name is not a valid Python identifier: 'sim_84_p_rew_0.01_start_10_dq_2'; it does not match the pattern ``^[a-zA-Z_][a-zA-Z0-9_]*$``; you will not be able to use natural naming to access this object; using ``getattr()`` will still work, though\n",
      "  NaturalNameWarning)\n"
     ]
    },
    {
     "name": "stdout",
     "output_type": "stream",
     "text": [
      "(sim,lamb_da,p_rew,start,dose_quantity) =  (84, 0.01, 0.10000000000000002, 1, 0.1)\n",
      "{46}\n",
      "sim_84_p_rew_0.1_start_1_dq_0.1\n"
     ]
    },
    {
     "name": "stderr",
     "output_type": "stream",
     "text": [
      "/home/aiyappa/anaconda3/lib/python3.7/site-packages/tables/path.py:112: NaturalNameWarning: object name is not a valid Python identifier: 'sim_84_p_rew_0.1_start_1_dq_0.1'; it does not match the pattern ``^[a-zA-Z_][a-zA-Z0-9_]*$``; you will not be able to use natural naming to access this object; using ``getattr()`` will still work, though\n",
      "  NaturalNameWarning)\n"
     ]
    },
    {
     "name": "stdout",
     "output_type": "stream",
     "text": [
      "(sim,lamb_da,p_rew,start,dose_quantity) =  (84, 0.01, 0.10000000000000002, 1, 2)\n",
      "{3}\n",
      "sim_84_p_rew_0.1_start_1_dq_2\n"
     ]
    },
    {
     "name": "stderr",
     "output_type": "stream",
     "text": [
      "/home/aiyappa/anaconda3/lib/python3.7/site-packages/tables/path.py:112: NaturalNameWarning: object name is not a valid Python identifier: 'sim_84_p_rew_0.1_start_1_dq_2'; it does not match the pattern ``^[a-zA-Z_][a-zA-Z0-9_]*$``; you will not be able to use natural naming to access this object; using ``getattr()`` will still work, though\n",
      "  NaturalNameWarning)\n"
     ]
    },
    {
     "name": "stdout",
     "output_type": "stream",
     "text": [
      "(sim,lamb_da,p_rew,start,dose_quantity) =  (84, 0.01, 0.10000000000000002, 10, 0.1)\n",
      "{66, 67, 34, 71, 74, 13, 82, 89, 27, 92}\n",
      "sim_84_p_rew_0.1_start_10_dq_0.1\n"
     ]
    },
    {
     "name": "stderr",
     "output_type": "stream",
     "text": [
      "/home/aiyappa/anaconda3/lib/python3.7/site-packages/tables/path.py:112: NaturalNameWarning: object name is not a valid Python identifier: 'sim_84_p_rew_0.1_start_10_dq_0.1'; it does not match the pattern ``^[a-zA-Z_][a-zA-Z0-9_]*$``; you will not be able to use natural naming to access this object; using ``getattr()`` will still work, though\n",
      "  NaturalNameWarning)\n"
     ]
    },
    {
     "name": "stdout",
     "output_type": "stream",
     "text": [
      "(sim,lamb_da,p_rew,start,dose_quantity) =  (84, 0.01, 0.10000000000000002, 10, 2)\n",
      "{64, 97, 99, 67, 35, 39, 75, 50, 23, 93}\n",
      "sim_84_p_rew_0.1_start_10_dq_2\n"
     ]
    },
    {
     "name": "stderr",
     "output_type": "stream",
     "text": [
      "/home/aiyappa/anaconda3/lib/python3.7/site-packages/tables/path.py:112: NaturalNameWarning: object name is not a valid Python identifier: 'sim_84_p_rew_0.1_start_10_dq_2'; it does not match the pattern ``^[a-zA-Z_][a-zA-Z0-9_]*$``; you will not be able to use natural naming to access this object; using ``getattr()`` will still work, though\n",
      "  NaturalNameWarning)\n"
     ]
    },
    {
     "name": "stdout",
     "output_type": "stream",
     "text": [
      "(sim,lamb_da,p_rew,start,dose_quantity) =  (84, 0.10000000000000002, 1.0, 1, 0.1)\n",
      "{64}\n",
      "sim_84_p_rew_1_start_1_dq_0.1\n"
     ]
    },
    {
     "name": "stderr",
     "output_type": "stream",
     "text": [
      "/home/aiyappa/anaconda3/lib/python3.7/site-packages/tables/path.py:112: NaturalNameWarning: object name is not a valid Python identifier: 'sim_84_p_rew_1_start_1_dq_0.1'; it does not match the pattern ``^[a-zA-Z_][a-zA-Z0-9_]*$``; you will not be able to use natural naming to access this object; using ``getattr()`` will still work, though\n",
      "  NaturalNameWarning)\n"
     ]
    },
    {
     "name": "stdout",
     "output_type": "stream",
     "text": [
      "(sim,lamb_da,p_rew,start,dose_quantity) =  (84, 0.10000000000000002, 1.0, 1, 2)\n",
      "{26}\n",
      "sim_84_p_rew_1_start_1_dq_2\n",
      "(sim,lamb_da,p_rew,start,dose_quantity) =  (84, 0.10000000000000002, 1.0, 10, 0.1)\n",
      "{6, 70, 40, 74, 46, 15, 16, 89, 58, 31}\n",
      "sim_84_p_rew_1_start_10_dq_0.1\n"
     ]
    },
    {
     "name": "stderr",
     "output_type": "stream",
     "text": [
      "/home/aiyappa/anaconda3/lib/python3.7/site-packages/tables/path.py:112: NaturalNameWarning: object name is not a valid Python identifier: 'sim_84_p_rew_1_start_10_dq_0.1'; it does not match the pattern ``^[a-zA-Z_][a-zA-Z0-9_]*$``; you will not be able to use natural naming to access this object; using ``getattr()`` will still work, though\n",
      "  NaturalNameWarning)\n"
     ]
    },
    {
     "name": "stdout",
     "output_type": "stream",
     "text": [
      "(sim,lamb_da,p_rew,start,dose_quantity) =  (84, 0.10000000000000002, 1.0, 10, 2)\n",
      "{0, 36, 69, 6, 72, 10, 76, 50, 22, 25}\n",
      "sim_84_p_rew_1_start_10_dq_2\n",
      "(sim,lamb_da,p_rew,start,dose_quantity) =  (85, 0.001, 0.01, 1, 0.1)\n",
      "{30}\n",
      "sim_85_p_rew_0.01_start_1_dq_0.1\n"
     ]
    },
    {
     "name": "stderr",
     "output_type": "stream",
     "text": [
      "/home/aiyappa/anaconda3/lib/python3.7/site-packages/tables/path.py:112: NaturalNameWarning: object name is not a valid Python identifier: 'sim_85_p_rew_0.01_start_1_dq_0.1'; it does not match the pattern ``^[a-zA-Z_][a-zA-Z0-9_]*$``; you will not be able to use natural naming to access this object; using ``getattr()`` will still work, though\n",
      "  NaturalNameWarning)\n"
     ]
    },
    {
     "name": "stdout",
     "output_type": "stream",
     "text": [
      "(sim,lamb_da,p_rew,start,dose_quantity) =  (85, 0.001, 0.01, 1, 2)\n",
      "{9}\n",
      "sim_85_p_rew_0.01_start_1_dq_2\n"
     ]
    },
    {
     "name": "stderr",
     "output_type": "stream",
     "text": [
      "/home/aiyappa/anaconda3/lib/python3.7/site-packages/tables/path.py:112: NaturalNameWarning: object name is not a valid Python identifier: 'sim_85_p_rew_0.01_start_1_dq_2'; it does not match the pattern ``^[a-zA-Z_][a-zA-Z0-9_]*$``; you will not be able to use natural naming to access this object; using ``getattr()`` will still work, though\n",
      "  NaturalNameWarning)\n"
     ]
    },
    {
     "name": "stdout",
     "output_type": "stream",
     "text": [
      "(sim,lamb_da,p_rew,start,dose_quantity) =  (85, 0.001, 0.01, 10, 0.1)\n",
      "{1, 66, 99, 8, 46, 17, 81, 51, 86, 31}\n",
      "sim_85_p_rew_0.01_start_10_dq_0.1\n"
     ]
    },
    {
     "name": "stderr",
     "output_type": "stream",
     "text": [
      "/home/aiyappa/anaconda3/lib/python3.7/site-packages/tables/path.py:112: NaturalNameWarning: object name is not a valid Python identifier: 'sim_85_p_rew_0.01_start_10_dq_0.1'; it does not match the pattern ``^[a-zA-Z_][a-zA-Z0-9_]*$``; you will not be able to use natural naming to access this object; using ``getattr()`` will still work, though\n",
      "  NaturalNameWarning)\n"
     ]
    },
    {
     "name": "stdout",
     "output_type": "stream",
     "text": [
      "(sim,lamb_da,p_rew,start,dose_quantity) =  (85, 0.001, 0.01, 10, 2)\n",
      "{33, 4, 37, 70, 6, 9, 80, 18, 26, 30}\n",
      "sim_85_p_rew_0.01_start_10_dq_2\n"
     ]
    },
    {
     "name": "stderr",
     "output_type": "stream",
     "text": [
      "/home/aiyappa/anaconda3/lib/python3.7/site-packages/tables/path.py:112: NaturalNameWarning: object name is not a valid Python identifier: 'sim_85_p_rew_0.01_start_10_dq_2'; it does not match the pattern ``^[a-zA-Z_][a-zA-Z0-9_]*$``; you will not be able to use natural naming to access this object; using ``getattr()`` will still work, though\n",
      "  NaturalNameWarning)\n"
     ]
    },
    {
     "name": "stdout",
     "output_type": "stream",
     "text": [
      "(sim,lamb_da,p_rew,start,dose_quantity) =  (85, 0.01, 0.10000000000000002, 1, 0.1)\n",
      "{95}\n",
      "sim_85_p_rew_0.1_start_1_dq_0.1\n"
     ]
    },
    {
     "name": "stderr",
     "output_type": "stream",
     "text": [
      "/home/aiyappa/anaconda3/lib/python3.7/site-packages/tables/path.py:112: NaturalNameWarning: object name is not a valid Python identifier: 'sim_85_p_rew_0.1_start_1_dq_0.1'; it does not match the pattern ``^[a-zA-Z_][a-zA-Z0-9_]*$``; you will not be able to use natural naming to access this object; using ``getattr()`` will still work, though\n",
      "  NaturalNameWarning)\n"
     ]
    },
    {
     "name": "stdout",
     "output_type": "stream",
     "text": [
      "(sim,lamb_da,p_rew,start,dose_quantity) =  (85, 0.01, 0.10000000000000002, 1, 2)\n",
      "{74}\n",
      "sim_85_p_rew_0.1_start_1_dq_2\n"
     ]
    },
    {
     "name": "stderr",
     "output_type": "stream",
     "text": [
      "/home/aiyappa/anaconda3/lib/python3.7/site-packages/tables/path.py:112: NaturalNameWarning: object name is not a valid Python identifier: 'sim_85_p_rew_0.1_start_1_dq_2'; it does not match the pattern ``^[a-zA-Z_][a-zA-Z0-9_]*$``; you will not be able to use natural naming to access this object; using ``getattr()`` will still work, though\n",
      "  NaturalNameWarning)\n"
     ]
    },
    {
     "name": "stdout",
     "output_type": "stream",
     "text": [
      "(sim,lamb_da,p_rew,start,dose_quantity) =  (85, 0.01, 0.10000000000000002, 10, 0.1)\n",
      "{33, 99, 90, 38, 6, 40, 8, 84, 21, 26}\n",
      "sim_85_p_rew_0.1_start_10_dq_0.1\n"
     ]
    },
    {
     "name": "stderr",
     "output_type": "stream",
     "text": [
      "/home/aiyappa/anaconda3/lib/python3.7/site-packages/tables/path.py:112: NaturalNameWarning: object name is not a valid Python identifier: 'sim_85_p_rew_0.1_start_10_dq_0.1'; it does not match the pattern ``^[a-zA-Z_][a-zA-Z0-9_]*$``; you will not be able to use natural naming to access this object; using ``getattr()`` will still work, though\n",
      "  NaturalNameWarning)\n"
     ]
    },
    {
     "name": "stdout",
     "output_type": "stream",
     "text": [
      "(sim,lamb_da,p_rew,start,dose_quantity) =  (85, 0.01, 0.10000000000000002, 10, 2)\n",
      "{97, 40, 41, 27, 13, 15, 83, 88, 90, 91}\n",
      "sim_85_p_rew_0.1_start_10_dq_2\n"
     ]
    },
    {
     "name": "stderr",
     "output_type": "stream",
     "text": [
      "/home/aiyappa/anaconda3/lib/python3.7/site-packages/tables/path.py:112: NaturalNameWarning: object name is not a valid Python identifier: 'sim_85_p_rew_0.1_start_10_dq_2'; it does not match the pattern ``^[a-zA-Z_][a-zA-Z0-9_]*$``; you will not be able to use natural naming to access this object; using ``getattr()`` will still work, though\n",
      "  NaturalNameWarning)\n"
     ]
    },
    {
     "name": "stdout",
     "output_type": "stream",
     "text": [
      "(sim,lamb_da,p_rew,start,dose_quantity) =  (85, 0.10000000000000002, 1.0, 1, 0.1)\n",
      "{76}\n",
      "sim_85_p_rew_1_start_1_dq_0.1\n"
     ]
    },
    {
     "name": "stderr",
     "output_type": "stream",
     "text": [
      "/home/aiyappa/anaconda3/lib/python3.7/site-packages/tables/path.py:112: NaturalNameWarning: object name is not a valid Python identifier: 'sim_85_p_rew_1_start_1_dq_0.1'; it does not match the pattern ``^[a-zA-Z_][a-zA-Z0-9_]*$``; you will not be able to use natural naming to access this object; using ``getattr()`` will still work, though\n",
      "  NaturalNameWarning)\n"
     ]
    },
    {
     "name": "stdout",
     "output_type": "stream",
     "text": [
      "(sim,lamb_da,p_rew,start,dose_quantity) =  (85, 0.10000000000000002, 1.0, 1, 2)\n",
      "{96}\n",
      "sim_85_p_rew_1_start_1_dq_2\n",
      "(sim,lamb_da,p_rew,start,dose_quantity) =  (85, 0.10000000000000002, 1.0, 10, 0.1)\n",
      "{33, 42, 43, 12, 14, 81, 85, 91, 93, 95}\n",
      "sim_85_p_rew_1_start_10_dq_0.1\n"
     ]
    },
    {
     "name": "stderr",
     "output_type": "stream",
     "text": [
      "/home/aiyappa/anaconda3/lib/python3.7/site-packages/tables/path.py:112: NaturalNameWarning: object name is not a valid Python identifier: 'sim_85_p_rew_1_start_10_dq_0.1'; it does not match the pattern ``^[a-zA-Z_][a-zA-Z0-9_]*$``; you will not be able to use natural naming to access this object; using ``getattr()`` will still work, though\n",
      "  NaturalNameWarning)\n"
     ]
    },
    {
     "name": "stdout",
     "output_type": "stream",
     "text": [
      "(sim,lamb_da,p_rew,start,dose_quantity) =  (85, 0.10000000000000002, 1.0, 10, 2)\n",
      "{97, 66, 36, 68, 38, 41, 44, 15, 18, 20}\n",
      "sim_85_p_rew_1_start_10_dq_2\n",
      "(sim,lamb_da,p_rew,start,dose_quantity) =  (86, 0.001, 0.01, 1, 0.1)\n",
      "{77}\n",
      "sim_86_p_rew_0.01_start_1_dq_0.1\n"
     ]
    },
    {
     "name": "stderr",
     "output_type": "stream",
     "text": [
      "/home/aiyappa/anaconda3/lib/python3.7/site-packages/tables/path.py:112: NaturalNameWarning: object name is not a valid Python identifier: 'sim_86_p_rew_0.01_start_1_dq_0.1'; it does not match the pattern ``^[a-zA-Z_][a-zA-Z0-9_]*$``; you will not be able to use natural naming to access this object; using ``getattr()`` will still work, though\n",
      "  NaturalNameWarning)\n"
     ]
    },
    {
     "name": "stdout",
     "output_type": "stream",
     "text": [
      "(sim,lamb_da,p_rew,start,dose_quantity) =  (86, 0.001, 0.01, 1, 2)\n",
      "{45}\n",
      "sim_86_p_rew_0.01_start_1_dq_2\n"
     ]
    },
    {
     "name": "stderr",
     "output_type": "stream",
     "text": [
      "/home/aiyappa/anaconda3/lib/python3.7/site-packages/tables/path.py:112: NaturalNameWarning: object name is not a valid Python identifier: 'sim_86_p_rew_0.01_start_1_dq_2'; it does not match the pattern ``^[a-zA-Z_][a-zA-Z0-9_]*$``; you will not be able to use natural naming to access this object; using ``getattr()`` will still work, though\n",
      "  NaturalNameWarning)\n"
     ]
    },
    {
     "name": "stdout",
     "output_type": "stream",
     "text": [
      "(sim,lamb_da,p_rew,start,dose_quantity) =  (86, 0.001, 0.01, 10, 0.1)\n",
      "{64, 98, 71, 39, 40, 46, 50, 22, 87, 88}\n",
      "sim_86_p_rew_0.01_start_10_dq_0.1\n"
     ]
    },
    {
     "name": "stderr",
     "output_type": "stream",
     "text": [
      "/home/aiyappa/anaconda3/lib/python3.7/site-packages/tables/path.py:112: NaturalNameWarning: object name is not a valid Python identifier: 'sim_86_p_rew_0.01_start_10_dq_0.1'; it does not match the pattern ``^[a-zA-Z_][a-zA-Z0-9_]*$``; you will not be able to use natural naming to access this object; using ``getattr()`` will still work, though\n",
      "  NaturalNameWarning)\n"
     ]
    },
    {
     "name": "stdout",
     "output_type": "stream",
     "text": [
      "(sim,lamb_da,p_rew,start,dose_quantity) =  (86, 0.001, 0.01, 10, 2)\n",
      "{6, 7, 44, 76, 78, 47, 49, 82, 84, 87}\n",
      "sim_86_p_rew_0.01_start_10_dq_2\n"
     ]
    },
    {
     "name": "stderr",
     "output_type": "stream",
     "text": [
      "/home/aiyappa/anaconda3/lib/python3.7/site-packages/tables/path.py:112: NaturalNameWarning: object name is not a valid Python identifier: 'sim_86_p_rew_0.01_start_10_dq_2'; it does not match the pattern ``^[a-zA-Z_][a-zA-Z0-9_]*$``; you will not be able to use natural naming to access this object; using ``getattr()`` will still work, though\n",
      "  NaturalNameWarning)\n"
     ]
    },
    {
     "name": "stdout",
     "output_type": "stream",
     "text": [
      "(sim,lamb_da,p_rew,start,dose_quantity) =  (86, 0.01, 0.10000000000000002, 1, 0.1)\n",
      "{97}\n",
      "sim_86_p_rew_0.1_start_1_dq_0.1\n"
     ]
    },
    {
     "name": "stderr",
     "output_type": "stream",
     "text": [
      "/home/aiyappa/anaconda3/lib/python3.7/site-packages/tables/path.py:112: NaturalNameWarning: object name is not a valid Python identifier: 'sim_86_p_rew_0.1_start_1_dq_0.1'; it does not match the pattern ``^[a-zA-Z_][a-zA-Z0-9_]*$``; you will not be able to use natural naming to access this object; using ``getattr()`` will still work, though\n",
      "  NaturalNameWarning)\n"
     ]
    },
    {
     "name": "stdout",
     "output_type": "stream",
     "text": [
      "(sim,lamb_da,p_rew,start,dose_quantity) =  (86, 0.01, 0.10000000000000002, 1, 2)\n",
      "{4}\n",
      "sim_86_p_rew_0.1_start_1_dq_2\n"
     ]
    },
    {
     "name": "stderr",
     "output_type": "stream",
     "text": [
      "/home/aiyappa/anaconda3/lib/python3.7/site-packages/tables/path.py:112: NaturalNameWarning: object name is not a valid Python identifier: 'sim_86_p_rew_0.1_start_1_dq_2'; it does not match the pattern ``^[a-zA-Z_][a-zA-Z0-9_]*$``; you will not be able to use natural naming to access this object; using ``getattr()`` will still work, though\n",
      "  NaturalNameWarning)\n"
     ]
    },
    {
     "name": "stdout",
     "output_type": "stream",
     "text": [
      "(sim,lamb_da,p_rew,start,dose_quantity) =  (86, 0.01, 0.10000000000000002, 10, 0.1)\n",
      "{99, 68, 6, 41, 13, 78, 46, 94, 90, 62}\n",
      "sim_86_p_rew_0.1_start_10_dq_0.1\n"
     ]
    },
    {
     "name": "stderr",
     "output_type": "stream",
     "text": [
      "/home/aiyappa/anaconda3/lib/python3.7/site-packages/tables/path.py:112: NaturalNameWarning: object name is not a valid Python identifier: 'sim_86_p_rew_0.1_start_10_dq_0.1'; it does not match the pattern ``^[a-zA-Z_][a-zA-Z0-9_]*$``; you will not be able to use natural naming to access this object; using ``getattr()`` will still work, though\n",
      "  NaturalNameWarning)\n"
     ]
    },
    {
     "name": "stdout",
     "output_type": "stream",
     "text": [
      "(sim,lamb_da,p_rew,start,dose_quantity) =  (86, 0.01, 0.10000000000000002, 10, 2)\n",
      "{36, 40, 41, 10, 44, 51, 85, 22, 23, 30}\n",
      "sim_86_p_rew_0.1_start_10_dq_2\n"
     ]
    },
    {
     "name": "stderr",
     "output_type": "stream",
     "text": [
      "/home/aiyappa/anaconda3/lib/python3.7/site-packages/tables/path.py:112: NaturalNameWarning: object name is not a valid Python identifier: 'sim_86_p_rew_0.1_start_10_dq_2'; it does not match the pattern ``^[a-zA-Z_][a-zA-Z0-9_]*$``; you will not be able to use natural naming to access this object; using ``getattr()`` will still work, though\n",
      "  NaturalNameWarning)\n"
     ]
    },
    {
     "name": "stdout",
     "output_type": "stream",
     "text": [
      "(sim,lamb_da,p_rew,start,dose_quantity) =  (86, 0.10000000000000002, 1.0, 1, 0.1)\n",
      "{94}\n",
      "sim_86_p_rew_1_start_1_dq_0.1\n"
     ]
    },
    {
     "name": "stderr",
     "output_type": "stream",
     "text": [
      "/home/aiyappa/anaconda3/lib/python3.7/site-packages/tables/path.py:112: NaturalNameWarning: object name is not a valid Python identifier: 'sim_86_p_rew_1_start_1_dq_0.1'; it does not match the pattern ``^[a-zA-Z_][a-zA-Z0-9_]*$``; you will not be able to use natural naming to access this object; using ``getattr()`` will still work, though\n",
      "  NaturalNameWarning)\n"
     ]
    },
    {
     "name": "stdout",
     "output_type": "stream",
     "text": [
      "(sim,lamb_da,p_rew,start,dose_quantity) =  (86, 0.10000000000000002, 1.0, 1, 2)\n",
      "{25}\n",
      "sim_86_p_rew_1_start_1_dq_2\n",
      "(sim,lamb_da,p_rew,start,dose_quantity) =  (86, 0.10000000000000002, 1.0, 10, 0.1)\n",
      "Initial node infection step failed\n",
      "None\n",
      "Initial node infection step failed\n",
      "None\n",
      "Initial node infection step failed\n",
      "None\n",
      "Initial node infection step failed\n",
      "None\n",
      "Initial node infection step failed\n",
      "None\n",
      "{2, 98, 34, 37, 69, 40, 74, 19, 58, 30}\n",
      "sim_86_p_rew_1_start_10_dq_0.1\n"
     ]
    },
    {
     "name": "stderr",
     "output_type": "stream",
     "text": [
      "/home/aiyappa/anaconda3/lib/python3.7/site-packages/tables/path.py:112: NaturalNameWarning: object name is not a valid Python identifier: 'sim_86_p_rew_1_start_10_dq_0.1'; it does not match the pattern ``^[a-zA-Z_][a-zA-Z0-9_]*$``; you will not be able to use natural naming to access this object; using ``getattr()`` will still work, though\n",
      "  NaturalNameWarning)\n"
     ]
    },
    {
     "name": "stdout",
     "output_type": "stream",
     "text": [
      "(sim,lamb_da,p_rew,start,dose_quantity) =  (86, 0.10000000000000002, 1.0, 10, 2)\n",
      "{66, 36, 37, 10, 77, 78, 83, 55, 88, 62}\n",
      "sim_86_p_rew_1_start_10_dq_2\n",
      "(sim,lamb_da,p_rew,start,dose_quantity) =  (87, 0.001, 0.01, 1, 0.1)\n",
      "{18}\n",
      "sim_87_p_rew_0.01_start_1_dq_0.1\n"
     ]
    },
    {
     "name": "stderr",
     "output_type": "stream",
     "text": [
      "/home/aiyappa/anaconda3/lib/python3.7/site-packages/tables/path.py:112: NaturalNameWarning: object name is not a valid Python identifier: 'sim_87_p_rew_0.01_start_1_dq_0.1'; it does not match the pattern ``^[a-zA-Z_][a-zA-Z0-9_]*$``; you will not be able to use natural naming to access this object; using ``getattr()`` will still work, though\n",
      "  NaturalNameWarning)\n"
     ]
    },
    {
     "name": "stdout",
     "output_type": "stream",
     "text": [
      "(sim,lamb_da,p_rew,start,dose_quantity) =  (87, 0.001, 0.01, 1, 2)\n",
      "{3}\n",
      "sim_87_p_rew_0.01_start_1_dq_2\n"
     ]
    },
    {
     "name": "stderr",
     "output_type": "stream",
     "text": [
      "/home/aiyappa/anaconda3/lib/python3.7/site-packages/tables/path.py:112: NaturalNameWarning: object name is not a valid Python identifier: 'sim_87_p_rew_0.01_start_1_dq_2'; it does not match the pattern ``^[a-zA-Z_][a-zA-Z0-9_]*$``; you will not be able to use natural naming to access this object; using ``getattr()`` will still work, though\n",
      "  NaturalNameWarning)\n"
     ]
    },
    {
     "name": "stdout",
     "output_type": "stream",
     "text": [
      "(sim,lamb_da,p_rew,start,dose_quantity) =  (87, 0.001, 0.01, 10, 0.1)\n",
      "{33, 3, 99, 38, 42, 87, 23, 24, 25, 60}\n",
      "sim_87_p_rew_0.01_start_10_dq_0.1\n"
     ]
    },
    {
     "name": "stderr",
     "output_type": "stream",
     "text": [
      "/home/aiyappa/anaconda3/lib/python3.7/site-packages/tables/path.py:112: NaturalNameWarning: object name is not a valid Python identifier: 'sim_87_p_rew_0.01_start_10_dq_0.1'; it does not match the pattern ``^[a-zA-Z_][a-zA-Z0-9_]*$``; you will not be able to use natural naming to access this object; using ``getattr()`` will still work, though\n",
      "  NaturalNameWarning)\n"
     ]
    },
    {
     "name": "stdout",
     "output_type": "stream",
     "text": [
      "(sim,lamb_da,p_rew,start,dose_quantity) =  (87, 0.001, 0.01, 10, 2)\n",
      "{64, 1, 99, 9, 42, 46, 51, 54, 59, 30}\n",
      "sim_87_p_rew_0.01_start_10_dq_2\n"
     ]
    },
    {
     "name": "stderr",
     "output_type": "stream",
     "text": [
      "/home/aiyappa/anaconda3/lib/python3.7/site-packages/tables/path.py:112: NaturalNameWarning: object name is not a valid Python identifier: 'sim_87_p_rew_0.01_start_10_dq_2'; it does not match the pattern ``^[a-zA-Z_][a-zA-Z0-9_]*$``; you will not be able to use natural naming to access this object; using ``getattr()`` will still work, though\n",
      "  NaturalNameWarning)\n"
     ]
    },
    {
     "name": "stdout",
     "output_type": "stream",
     "text": [
      "(sim,lamb_da,p_rew,start,dose_quantity) =  (87, 0.01, 0.10000000000000002, 1, 0.1)\n",
      "{99}\n",
      "sim_87_p_rew_0.1_start_1_dq_0.1\n"
     ]
    },
    {
     "name": "stderr",
     "output_type": "stream",
     "text": [
      "/home/aiyappa/anaconda3/lib/python3.7/site-packages/tables/path.py:112: NaturalNameWarning: object name is not a valid Python identifier: 'sim_87_p_rew_0.1_start_1_dq_0.1'; it does not match the pattern ``^[a-zA-Z_][a-zA-Z0-9_]*$``; you will not be able to use natural naming to access this object; using ``getattr()`` will still work, though\n",
      "  NaturalNameWarning)\n"
     ]
    },
    {
     "name": "stdout",
     "output_type": "stream",
     "text": [
      "(sim,lamb_da,p_rew,start,dose_quantity) =  (87, 0.01, 0.10000000000000002, 1, 2)\n",
      "{43}\n",
      "sim_87_p_rew_0.1_start_1_dq_2\n"
     ]
    },
    {
     "name": "stderr",
     "output_type": "stream",
     "text": [
      "/home/aiyappa/anaconda3/lib/python3.7/site-packages/tables/path.py:112: NaturalNameWarning: object name is not a valid Python identifier: 'sim_87_p_rew_0.1_start_1_dq_2'; it does not match the pattern ``^[a-zA-Z_][a-zA-Z0-9_]*$``; you will not be able to use natural naming to access this object; using ``getattr()`` will still work, though\n",
      "  NaturalNameWarning)\n"
     ]
    },
    {
     "name": "stdout",
     "output_type": "stream",
     "text": [
      "(sim,lamb_da,p_rew,start,dose_quantity) =  (87, 0.01, 0.10000000000000002, 10, 0.1)\n",
      "{33, 39, 72, 60, 50, 59, 92, 93, 30, 63}\n",
      "sim_87_p_rew_0.1_start_10_dq_0.1\n"
     ]
    },
    {
     "name": "stderr",
     "output_type": "stream",
     "text": [
      "/home/aiyappa/anaconda3/lib/python3.7/site-packages/tables/path.py:112: NaturalNameWarning: object name is not a valid Python identifier: 'sim_87_p_rew_0.1_start_10_dq_0.1'; it does not match the pattern ``^[a-zA-Z_][a-zA-Z0-9_]*$``; you will not be able to use natural naming to access this object; using ``getattr()`` will still work, though\n",
      "  NaturalNameWarning)\n"
     ]
    },
    {
     "name": "stdout",
     "output_type": "stream",
     "text": [
      "(sim,lamb_da,p_rew,start,dose_quantity) =  (87, 0.01, 0.10000000000000002, 10, 2)\n",
      "{33, 40, 41, 9, 76, 81, 83, 88, 60, 94}\n",
      "sim_87_p_rew_0.1_start_10_dq_2\n"
     ]
    },
    {
     "name": "stderr",
     "output_type": "stream",
     "text": [
      "/home/aiyappa/anaconda3/lib/python3.7/site-packages/tables/path.py:112: NaturalNameWarning: object name is not a valid Python identifier: 'sim_87_p_rew_0.1_start_10_dq_2'; it does not match the pattern ``^[a-zA-Z_][a-zA-Z0-9_]*$``; you will not be able to use natural naming to access this object; using ``getattr()`` will still work, though\n",
      "  NaturalNameWarning)\n"
     ]
    },
    {
     "name": "stdout",
     "output_type": "stream",
     "text": [
      "(sim,lamb_da,p_rew,start,dose_quantity) =  (87, 0.10000000000000002, 1.0, 1, 0.1)\n",
      "{17}\n",
      "sim_87_p_rew_1_start_1_dq_0.1\n"
     ]
    },
    {
     "name": "stderr",
     "output_type": "stream",
     "text": [
      "/home/aiyappa/anaconda3/lib/python3.7/site-packages/tables/path.py:112: NaturalNameWarning: object name is not a valid Python identifier: 'sim_87_p_rew_1_start_1_dq_0.1'; it does not match the pattern ``^[a-zA-Z_][a-zA-Z0-9_]*$``; you will not be able to use natural naming to access this object; using ``getattr()`` will still work, though\n",
      "  NaturalNameWarning)\n"
     ]
    },
    {
     "name": "stdout",
     "output_type": "stream",
     "text": [
      "(sim,lamb_da,p_rew,start,dose_quantity) =  (87, 0.10000000000000002, 1.0, 1, 2)\n",
      "{51}\n",
      "sim_87_p_rew_1_start_1_dq_2\n",
      "(sim,lamb_da,p_rew,start,dose_quantity) =  (87, 0.10000000000000002, 1.0, 10, 0.1)\n",
      "{96, 0, 32, 36, 38, 77, 14, 15, 79, 26}\n",
      "sim_87_p_rew_1_start_10_dq_0.1\n"
     ]
    },
    {
     "name": "stderr",
     "output_type": "stream",
     "text": [
      "/home/aiyappa/anaconda3/lib/python3.7/site-packages/tables/path.py:112: NaturalNameWarning: object name is not a valid Python identifier: 'sim_87_p_rew_1_start_10_dq_0.1'; it does not match the pattern ``^[a-zA-Z_][a-zA-Z0-9_]*$``; you will not be able to use natural naming to access this object; using ``getattr()`` will still work, though\n",
      "  NaturalNameWarning)\n"
     ]
    },
    {
     "name": "stdout",
     "output_type": "stream",
     "text": [
      "(sim,lamb_da,p_rew,start,dose_quantity) =  (87, 0.10000000000000002, 1.0, 10, 2)\n",
      "{0, 34, 71, 41, 43, 78, 79, 15, 81, 87}\n",
      "sim_87_p_rew_1_start_10_dq_2\n",
      "(sim,lamb_da,p_rew,start,dose_quantity) =  (88, 0.001, 0.01, 1, 0.1)\n",
      "{27}\n",
      "sim_88_p_rew_0.01_start_1_dq_0.1\n"
     ]
    },
    {
     "name": "stderr",
     "output_type": "stream",
     "text": [
      "/home/aiyappa/anaconda3/lib/python3.7/site-packages/tables/path.py:112: NaturalNameWarning: object name is not a valid Python identifier: 'sim_88_p_rew_0.01_start_1_dq_0.1'; it does not match the pattern ``^[a-zA-Z_][a-zA-Z0-9_]*$``; you will not be able to use natural naming to access this object; using ``getattr()`` will still work, though\n",
      "  NaturalNameWarning)\n"
     ]
    },
    {
     "name": "stdout",
     "output_type": "stream",
     "text": [
      "(sim,lamb_da,p_rew,start,dose_quantity) =  (88, 0.001, 0.01, 1, 2)\n",
      "{62}\n",
      "sim_88_p_rew_0.01_start_1_dq_2\n"
     ]
    },
    {
     "name": "stderr",
     "output_type": "stream",
     "text": [
      "/home/aiyappa/anaconda3/lib/python3.7/site-packages/tables/path.py:112: NaturalNameWarning: object name is not a valid Python identifier: 'sim_88_p_rew_0.01_start_1_dq_2'; it does not match the pattern ``^[a-zA-Z_][a-zA-Z0-9_]*$``; you will not be able to use natural naming to access this object; using ``getattr()`` will still work, though\n",
      "  NaturalNameWarning)\n"
     ]
    },
    {
     "name": "stdout",
     "output_type": "stream",
     "text": [
      "(sim,lamb_da,p_rew,start,dose_quantity) =  (88, 0.001, 0.01, 10, 0.1)\n",
      "{96, 66, 38, 72, 14, 18, 52, 21, 23, 57}\n",
      "sim_88_p_rew_0.01_start_10_dq_0.1\n"
     ]
    },
    {
     "name": "stderr",
     "output_type": "stream",
     "text": [
      "/home/aiyappa/anaconda3/lib/python3.7/site-packages/tables/path.py:112: NaturalNameWarning: object name is not a valid Python identifier: 'sim_88_p_rew_0.01_start_10_dq_0.1'; it does not match the pattern ``^[a-zA-Z_][a-zA-Z0-9_]*$``; you will not be able to use natural naming to access this object; using ``getattr()`` will still work, though\n",
      "  NaturalNameWarning)\n"
     ]
    },
    {
     "name": "stdout",
     "output_type": "stream",
     "text": [
      "(sim,lamb_da,p_rew,start,dose_quantity) =  (88, 0.001, 0.01, 10, 2)\n",
      "{96, 33, 35, 72, 13, 87, 23, 58, 93, 63}\n",
      "sim_88_p_rew_0.01_start_10_dq_2\n"
     ]
    },
    {
     "name": "stderr",
     "output_type": "stream",
     "text": [
      "/home/aiyappa/anaconda3/lib/python3.7/site-packages/tables/path.py:112: NaturalNameWarning: object name is not a valid Python identifier: 'sim_88_p_rew_0.01_start_10_dq_2'; it does not match the pattern ``^[a-zA-Z_][a-zA-Z0-9_]*$``; you will not be able to use natural naming to access this object; using ``getattr()`` will still work, though\n",
      "  NaturalNameWarning)\n"
     ]
    },
    {
     "name": "stdout",
     "output_type": "stream",
     "text": [
      "(sim,lamb_da,p_rew,start,dose_quantity) =  (88, 0.01, 0.10000000000000002, 1, 0.1)\n",
      "{84}\n",
      "sim_88_p_rew_0.1_start_1_dq_0.1\n"
     ]
    },
    {
     "name": "stderr",
     "output_type": "stream",
     "text": [
      "/home/aiyappa/anaconda3/lib/python3.7/site-packages/tables/path.py:112: NaturalNameWarning: object name is not a valid Python identifier: 'sim_88_p_rew_0.1_start_1_dq_0.1'; it does not match the pattern ``^[a-zA-Z_][a-zA-Z0-9_]*$``; you will not be able to use natural naming to access this object; using ``getattr()`` will still work, though\n",
      "  NaturalNameWarning)\n"
     ]
    },
    {
     "name": "stdout",
     "output_type": "stream",
     "text": [
      "(sim,lamb_da,p_rew,start,dose_quantity) =  (88, 0.01, 0.10000000000000002, 1, 2)\n",
      "{38}\n",
      "sim_88_p_rew_0.1_start_1_dq_2\n"
     ]
    },
    {
     "name": "stderr",
     "output_type": "stream",
     "text": [
      "/home/aiyappa/anaconda3/lib/python3.7/site-packages/tables/path.py:112: NaturalNameWarning: object name is not a valid Python identifier: 'sim_88_p_rew_0.1_start_1_dq_2'; it does not match the pattern ``^[a-zA-Z_][a-zA-Z0-9_]*$``; you will not be able to use natural naming to access this object; using ``getattr()`` will still work, though\n",
      "  NaturalNameWarning)\n"
     ]
    },
    {
     "name": "stdout",
     "output_type": "stream",
     "text": [
      "(sim,lamb_da,p_rew,start,dose_quantity) =  (88, 0.01, 0.10000000000000002, 10, 0.1)\n",
      "{64, 67, 99, 45, 81, 50, 18, 20, 90, 29}\n",
      "sim_88_p_rew_0.1_start_10_dq_0.1\n"
     ]
    },
    {
     "name": "stderr",
     "output_type": "stream",
     "text": [
      "/home/aiyappa/anaconda3/lib/python3.7/site-packages/tables/path.py:112: NaturalNameWarning: object name is not a valid Python identifier: 'sim_88_p_rew_0.1_start_10_dq_0.1'; it does not match the pattern ``^[a-zA-Z_][a-zA-Z0-9_]*$``; you will not be able to use natural naming to access this object; using ``getattr()`` will still work, though\n",
      "  NaturalNameWarning)\n"
     ]
    },
    {
     "name": "stdout",
     "output_type": "stream",
     "text": [
      "(sim,lamb_da,p_rew,start,dose_quantity) =  (88, 0.01, 0.10000000000000002, 10, 2)\n",
      "{96, 35, 37, 73, 76, 13, 16, 50, 20, 28}\n",
      "sim_88_p_rew_0.1_start_10_dq_2\n"
     ]
    },
    {
     "name": "stderr",
     "output_type": "stream",
     "text": [
      "/home/aiyappa/anaconda3/lib/python3.7/site-packages/tables/path.py:112: NaturalNameWarning: object name is not a valid Python identifier: 'sim_88_p_rew_0.1_start_10_dq_2'; it does not match the pattern ``^[a-zA-Z_][a-zA-Z0-9_]*$``; you will not be able to use natural naming to access this object; using ``getattr()`` will still work, though\n",
      "  NaturalNameWarning)\n"
     ]
    },
    {
     "name": "stdout",
     "output_type": "stream",
     "text": [
      "(sim,lamb_da,p_rew,start,dose_quantity) =  (88, 0.10000000000000002, 1.0, 1, 0.1)\n",
      "{25}\n",
      "sim_88_p_rew_1_start_1_dq_0.1\n"
     ]
    },
    {
     "name": "stderr",
     "output_type": "stream",
     "text": [
      "/home/aiyappa/anaconda3/lib/python3.7/site-packages/tables/path.py:112: NaturalNameWarning: object name is not a valid Python identifier: 'sim_88_p_rew_1_start_1_dq_0.1'; it does not match the pattern ``^[a-zA-Z_][a-zA-Z0-9_]*$``; you will not be able to use natural naming to access this object; using ``getattr()`` will still work, though\n",
      "  NaturalNameWarning)\n"
     ]
    },
    {
     "name": "stdout",
     "output_type": "stream",
     "text": [
      "(sim,lamb_da,p_rew,start,dose_quantity) =  (88, 0.10000000000000002, 1.0, 1, 2)\n",
      "{90}\n",
      "sim_88_p_rew_1_start_1_dq_2\n",
      "(sim,lamb_da,p_rew,start,dose_quantity) =  (88, 0.10000000000000002, 1.0, 10, 0.1)\n",
      "Initial node infection step failed\n",
      "None\n",
      "{64, 65, 98, 35, 5, 39, 50, 83, 25, 31}\n",
      "sim_88_p_rew_1_start_10_dq_0.1\n"
     ]
    },
    {
     "name": "stderr",
     "output_type": "stream",
     "text": [
      "/home/aiyappa/anaconda3/lib/python3.7/site-packages/tables/path.py:112: NaturalNameWarning: object name is not a valid Python identifier: 'sim_88_p_rew_1_start_10_dq_0.1'; it does not match the pattern ``^[a-zA-Z_][a-zA-Z0-9_]*$``; you will not be able to use natural naming to access this object; using ``getattr()`` will still work, though\n",
      "  NaturalNameWarning)\n"
     ]
    },
    {
     "name": "stdout",
     "output_type": "stream",
     "text": [
      "(sim,lamb_da,p_rew,start,dose_quantity) =  (88, 0.10000000000000002, 1.0, 10, 2)\n",
      "{0, 34, 35, 38, 73, 11, 17, 51, 25, 31}\n",
      "sim_88_p_rew_1_start_10_dq_2\n",
      "(sim,lamb_da,p_rew,start,dose_quantity) =  (89, 0.001, 0.01, 1, 0.1)\n",
      "{22}\n",
      "sim_89_p_rew_0.01_start_1_dq_0.1\n"
     ]
    },
    {
     "name": "stderr",
     "output_type": "stream",
     "text": [
      "/home/aiyappa/anaconda3/lib/python3.7/site-packages/tables/path.py:112: NaturalNameWarning: object name is not a valid Python identifier: 'sim_89_p_rew_0.01_start_1_dq_0.1'; it does not match the pattern ``^[a-zA-Z_][a-zA-Z0-9_]*$``; you will not be able to use natural naming to access this object; using ``getattr()`` will still work, though\n",
      "  NaturalNameWarning)\n"
     ]
    },
    {
     "name": "stdout",
     "output_type": "stream",
     "text": [
      "(sim,lamb_da,p_rew,start,dose_quantity) =  (89, 0.001, 0.01, 1, 2)\n",
      "{29}\n",
      "sim_89_p_rew_0.01_start_1_dq_2\n"
     ]
    },
    {
     "name": "stderr",
     "output_type": "stream",
     "text": [
      "/home/aiyappa/anaconda3/lib/python3.7/site-packages/tables/path.py:112: NaturalNameWarning: object name is not a valid Python identifier: 'sim_89_p_rew_0.01_start_1_dq_2'; it does not match the pattern ``^[a-zA-Z_][a-zA-Z0-9_]*$``; you will not be able to use natural naming to access this object; using ``getattr()`` will still work, though\n",
      "  NaturalNameWarning)\n"
     ]
    },
    {
     "name": "stdout",
     "output_type": "stream",
     "text": [
      "(sim,lamb_da,p_rew,start,dose_quantity) =  (89, 0.001, 0.01, 10, 0.1)\n",
      "{96, 97, 35, 47, 79, 18, 56, 57, 27, 95}\n",
      "sim_89_p_rew_0.01_start_10_dq_0.1\n"
     ]
    },
    {
     "name": "stderr",
     "output_type": "stream",
     "text": [
      "/home/aiyappa/anaconda3/lib/python3.7/site-packages/tables/path.py:112: NaturalNameWarning: object name is not a valid Python identifier: 'sim_89_p_rew_0.01_start_10_dq_0.1'; it does not match the pattern ``^[a-zA-Z_][a-zA-Z0-9_]*$``; you will not be able to use natural naming to access this object; using ``getattr()`` will still work, though\n",
      "  NaturalNameWarning)\n"
     ]
    },
    {
     "name": "stdout",
     "output_type": "stream",
     "text": [
      "(sim,lamb_da,p_rew,start,dose_quantity) =  (89, 0.001, 0.01, 10, 2)\n",
      "{65, 67, 69, 38, 10, 74, 16, 24, 90, 88}\n",
      "sim_89_p_rew_0.01_start_10_dq_2\n"
     ]
    },
    {
     "name": "stderr",
     "output_type": "stream",
     "text": [
      "/home/aiyappa/anaconda3/lib/python3.7/site-packages/tables/path.py:112: NaturalNameWarning: object name is not a valid Python identifier: 'sim_89_p_rew_0.01_start_10_dq_2'; it does not match the pattern ``^[a-zA-Z_][a-zA-Z0-9_]*$``; you will not be able to use natural naming to access this object; using ``getattr()`` will still work, though\n",
      "  NaturalNameWarning)\n"
     ]
    },
    {
     "name": "stdout",
     "output_type": "stream",
     "text": [
      "(sim,lamb_da,p_rew,start,dose_quantity) =  (89, 0.01, 0.10000000000000002, 1, 0.1)\n",
      "{31}\n",
      "sim_89_p_rew_0.1_start_1_dq_0.1\n"
     ]
    },
    {
     "name": "stderr",
     "output_type": "stream",
     "text": [
      "/home/aiyappa/anaconda3/lib/python3.7/site-packages/tables/path.py:112: NaturalNameWarning: object name is not a valid Python identifier: 'sim_89_p_rew_0.1_start_1_dq_0.1'; it does not match the pattern ``^[a-zA-Z_][a-zA-Z0-9_]*$``; you will not be able to use natural naming to access this object; using ``getattr()`` will still work, though\n",
      "  NaturalNameWarning)\n"
     ]
    },
    {
     "name": "stdout",
     "output_type": "stream",
     "text": [
      "(sim,lamb_da,p_rew,start,dose_quantity) =  (89, 0.01, 0.10000000000000002, 1, 2)\n",
      "{3}\n",
      "sim_89_p_rew_0.1_start_1_dq_2\n"
     ]
    },
    {
     "name": "stderr",
     "output_type": "stream",
     "text": [
      "/home/aiyappa/anaconda3/lib/python3.7/site-packages/tables/path.py:112: NaturalNameWarning: object name is not a valid Python identifier: 'sim_89_p_rew_0.1_start_1_dq_2'; it does not match the pattern ``^[a-zA-Z_][a-zA-Z0-9_]*$``; you will not be able to use natural naming to access this object; using ``getattr()`` will still work, though\n",
      "  NaturalNameWarning)\n"
     ]
    },
    {
     "name": "stdout",
     "output_type": "stream",
     "text": [
      "(sim,lamb_da,p_rew,start,dose_quantity) =  (89, 0.01, 0.10000000000000002, 10, 0.1)\n",
      "{3, 4, 67, 41, 12, 81, 54, 23, 58, 91}\n",
      "sim_89_p_rew_0.1_start_10_dq_0.1\n"
     ]
    },
    {
     "name": "stderr",
     "output_type": "stream",
     "text": [
      "/home/aiyappa/anaconda3/lib/python3.7/site-packages/tables/path.py:112: NaturalNameWarning: object name is not a valid Python identifier: 'sim_89_p_rew_0.1_start_10_dq_0.1'; it does not match the pattern ``^[a-zA-Z_][a-zA-Z0-9_]*$``; you will not be able to use natural naming to access this object; using ``getattr()`` will still work, though\n",
      "  NaturalNameWarning)\n"
     ]
    },
    {
     "name": "stdout",
     "output_type": "stream",
     "text": [
      "(sim,lamb_da,p_rew,start,dose_quantity) =  (89, 0.01, 0.10000000000000002, 10, 2)\n",
      "{33, 40, 44, 78, 17, 50, 20, 85, 89, 57}\n",
      "sim_89_p_rew_0.1_start_10_dq_2\n"
     ]
    },
    {
     "name": "stderr",
     "output_type": "stream",
     "text": [
      "/home/aiyappa/anaconda3/lib/python3.7/site-packages/tables/path.py:112: NaturalNameWarning: object name is not a valid Python identifier: 'sim_89_p_rew_0.1_start_10_dq_2'; it does not match the pattern ``^[a-zA-Z_][a-zA-Z0-9_]*$``; you will not be able to use natural naming to access this object; using ``getattr()`` will still work, though\n",
      "  NaturalNameWarning)\n"
     ]
    },
    {
     "name": "stdout",
     "output_type": "stream",
     "text": [
      "(sim,lamb_da,p_rew,start,dose_quantity) =  (89, 0.10000000000000002, 1.0, 1, 0.1)\n",
      "{17}\n",
      "sim_89_p_rew_1_start_1_dq_0.1\n"
     ]
    },
    {
     "name": "stderr",
     "output_type": "stream",
     "text": [
      "/home/aiyappa/anaconda3/lib/python3.7/site-packages/tables/path.py:112: NaturalNameWarning: object name is not a valid Python identifier: 'sim_89_p_rew_1_start_1_dq_0.1'; it does not match the pattern ``^[a-zA-Z_][a-zA-Z0-9_]*$``; you will not be able to use natural naming to access this object; using ``getattr()`` will still work, though\n",
      "  NaturalNameWarning)\n"
     ]
    },
    {
     "name": "stdout",
     "output_type": "stream",
     "text": [
      "(sim,lamb_da,p_rew,start,dose_quantity) =  (89, 0.10000000000000002, 1.0, 1, 2)\n",
      "{11}\n",
      "sim_89_p_rew_1_start_1_dq_2\n",
      "(sim,lamb_da,p_rew,start,dose_quantity) =  (89, 0.10000000000000002, 1.0, 10, 0.1)\n",
      "{64, 2, 90, 76, 77, 18, 21, 26, 92, 62}\n",
      "sim_89_p_rew_1_start_10_dq_0.1\n"
     ]
    },
    {
     "name": "stderr",
     "output_type": "stream",
     "text": [
      "/home/aiyappa/anaconda3/lib/python3.7/site-packages/tables/path.py:112: NaturalNameWarning: object name is not a valid Python identifier: 'sim_89_p_rew_1_start_10_dq_0.1'; it does not match the pattern ``^[a-zA-Z_][a-zA-Z0-9_]*$``; you will not be able to use natural naming to access this object; using ``getattr()`` will still work, though\n",
      "  NaturalNameWarning)\n"
     ]
    },
    {
     "name": "stdout",
     "output_type": "stream",
     "text": [
      "(sim,lamb_da,p_rew,start,dose_quantity) =  (89, 0.10000000000000002, 1.0, 10, 2)\n",
      "{1, 5, 9, 15, 21, 54, 87, 60, 61, 31}\n",
      "sim_89_p_rew_1_start_10_dq_2\n",
      "(sim,lamb_da,p_rew,start,dose_quantity) =  (90, 0.001, 0.01, 1, 0.1)\n",
      "{23}\n",
      "sim_90_p_rew_0.01_start_1_dq_0.1\n"
     ]
    },
    {
     "name": "stderr",
     "output_type": "stream",
     "text": [
      "/home/aiyappa/anaconda3/lib/python3.7/site-packages/tables/path.py:112: NaturalNameWarning: object name is not a valid Python identifier: 'sim_90_p_rew_0.01_start_1_dq_0.1'; it does not match the pattern ``^[a-zA-Z_][a-zA-Z0-9_]*$``; you will not be able to use natural naming to access this object; using ``getattr()`` will still work, though\n",
      "  NaturalNameWarning)\n"
     ]
    },
    {
     "name": "stdout",
     "output_type": "stream",
     "text": [
      "(sim,lamb_da,p_rew,start,dose_quantity) =  (90, 0.001, 0.01, 1, 2)\n",
      "{25}\n",
      "sim_90_p_rew_0.01_start_1_dq_2\n"
     ]
    },
    {
     "name": "stderr",
     "output_type": "stream",
     "text": [
      "/home/aiyappa/anaconda3/lib/python3.7/site-packages/tables/path.py:112: NaturalNameWarning: object name is not a valid Python identifier: 'sim_90_p_rew_0.01_start_1_dq_2'; it does not match the pattern ``^[a-zA-Z_][a-zA-Z0-9_]*$``; you will not be able to use natural naming to access this object; using ``getattr()`` will still work, though\n",
      "  NaturalNameWarning)\n"
     ]
    },
    {
     "name": "stdout",
     "output_type": "stream",
     "text": [
      "(sim,lamb_da,p_rew,start,dose_quantity) =  (90, 0.001, 0.01, 10, 0.1)\n",
      "{38, 71, 46, 47, 19, 20, 57, 90, 29, 95}\n",
      "sim_90_p_rew_0.01_start_10_dq_0.1\n"
     ]
    },
    {
     "name": "stderr",
     "output_type": "stream",
     "text": [
      "/home/aiyappa/anaconda3/lib/python3.7/site-packages/tables/path.py:112: NaturalNameWarning: object name is not a valid Python identifier: 'sim_90_p_rew_0.01_start_10_dq_0.1'; it does not match the pattern ``^[a-zA-Z_][a-zA-Z0-9_]*$``; you will not be able to use natural naming to access this object; using ``getattr()`` will still work, though\n",
      "  NaturalNameWarning)\n"
     ]
    },
    {
     "name": "stdout",
     "output_type": "stream",
     "text": [
      "(sim,lamb_da,p_rew,start,dose_quantity) =  (90, 0.001, 0.01, 10, 2)\n",
      "{65, 66, 4, 48, 19, 20, 23, 56, 91, 29}\n",
      "sim_90_p_rew_0.01_start_10_dq_2\n"
     ]
    },
    {
     "name": "stderr",
     "output_type": "stream",
     "text": [
      "/home/aiyappa/anaconda3/lib/python3.7/site-packages/tables/path.py:112: NaturalNameWarning: object name is not a valid Python identifier: 'sim_90_p_rew_0.01_start_10_dq_2'; it does not match the pattern ``^[a-zA-Z_][a-zA-Z0-9_]*$``; you will not be able to use natural naming to access this object; using ``getattr()`` will still work, though\n",
      "  NaturalNameWarning)\n"
     ]
    },
    {
     "name": "stdout",
     "output_type": "stream",
     "text": [
      "(sim,lamb_da,p_rew,start,dose_quantity) =  (90, 0.01, 0.10000000000000002, 1, 0.1)\n",
      "{96}\n",
      "sim_90_p_rew_0.1_start_1_dq_0.1\n"
     ]
    },
    {
     "name": "stderr",
     "output_type": "stream",
     "text": [
      "/home/aiyappa/anaconda3/lib/python3.7/site-packages/tables/path.py:112: NaturalNameWarning: object name is not a valid Python identifier: 'sim_90_p_rew_0.1_start_1_dq_0.1'; it does not match the pattern ``^[a-zA-Z_][a-zA-Z0-9_]*$``; you will not be able to use natural naming to access this object; using ``getattr()`` will still work, though\n",
      "  NaturalNameWarning)\n"
     ]
    },
    {
     "name": "stdout",
     "output_type": "stream",
     "text": [
      "(sim,lamb_da,p_rew,start,dose_quantity) =  (90, 0.01, 0.10000000000000002, 1, 2)\n",
      "{18}\n",
      "sim_90_p_rew_0.1_start_1_dq_2\n"
     ]
    },
    {
     "name": "stderr",
     "output_type": "stream",
     "text": [
      "/home/aiyappa/anaconda3/lib/python3.7/site-packages/tables/path.py:112: NaturalNameWarning: object name is not a valid Python identifier: 'sim_90_p_rew_0.1_start_1_dq_2'; it does not match the pattern ``^[a-zA-Z_][a-zA-Z0-9_]*$``; you will not be able to use natural naming to access this object; using ``getattr()`` will still work, though\n",
      "  NaturalNameWarning)\n"
     ]
    },
    {
     "name": "stdout",
     "output_type": "stream",
     "text": [
      "(sim,lamb_da,p_rew,start,dose_quantity) =  (90, 0.01, 0.10000000000000002, 10, 0.1)\n",
      "{0, 68, 42, 77, 46, 21, 53, 23, 57, 29}\n",
      "sim_90_p_rew_0.1_start_10_dq_0.1\n"
     ]
    },
    {
     "name": "stderr",
     "output_type": "stream",
     "text": [
      "/home/aiyappa/anaconda3/lib/python3.7/site-packages/tables/path.py:112: NaturalNameWarning: object name is not a valid Python identifier: 'sim_90_p_rew_0.1_start_10_dq_0.1'; it does not match the pattern ``^[a-zA-Z_][a-zA-Z0-9_]*$``; you will not be able to use natural naming to access this object; using ``getattr()`` will still work, though\n",
      "  NaturalNameWarning)\n"
     ]
    },
    {
     "name": "stdout",
     "output_type": "stream",
     "text": [
      "(sim,lamb_da,p_rew,start,dose_quantity) =  (90, 0.01, 0.10000000000000002, 10, 2)\n",
      "{34, 37, 6, 40, 9, 42, 15, 26, 93, 62}\n",
      "sim_90_p_rew_0.1_start_10_dq_2\n"
     ]
    },
    {
     "name": "stderr",
     "output_type": "stream",
     "text": [
      "/home/aiyappa/anaconda3/lib/python3.7/site-packages/tables/path.py:112: NaturalNameWarning: object name is not a valid Python identifier: 'sim_90_p_rew_0.1_start_10_dq_2'; it does not match the pattern ``^[a-zA-Z_][a-zA-Z0-9_]*$``; you will not be able to use natural naming to access this object; using ``getattr()`` will still work, though\n",
      "  NaturalNameWarning)\n"
     ]
    },
    {
     "name": "stdout",
     "output_type": "stream",
     "text": [
      "(sim,lamb_da,p_rew,start,dose_quantity) =  (90, 0.10000000000000002, 1.0, 1, 0.1)\n",
      "{90}\n",
      "sim_90_p_rew_1_start_1_dq_0.1\n"
     ]
    },
    {
     "name": "stderr",
     "output_type": "stream",
     "text": [
      "/home/aiyappa/anaconda3/lib/python3.7/site-packages/tables/path.py:112: NaturalNameWarning: object name is not a valid Python identifier: 'sim_90_p_rew_1_start_1_dq_0.1'; it does not match the pattern ``^[a-zA-Z_][a-zA-Z0-9_]*$``; you will not be able to use natural naming to access this object; using ``getattr()`` will still work, though\n",
      "  NaturalNameWarning)\n"
     ]
    },
    {
     "name": "stdout",
     "output_type": "stream",
     "text": [
      "(sim,lamb_da,p_rew,start,dose_quantity) =  (90, 0.10000000000000002, 1.0, 1, 2)\n",
      "{70}\n",
      "sim_90_p_rew_1_start_1_dq_2\n",
      "(sim,lamb_da,p_rew,start,dose_quantity) =  (90, 0.10000000000000002, 1.0, 10, 0.1)\n",
      "{2, 69, 70, 6, 8, 40, 46, 78, 84, 90}\n",
      "sim_90_p_rew_1_start_10_dq_0.1\n"
     ]
    },
    {
     "name": "stderr",
     "output_type": "stream",
     "text": [
      "/home/aiyappa/anaconda3/lib/python3.7/site-packages/tables/path.py:112: NaturalNameWarning: object name is not a valid Python identifier: 'sim_90_p_rew_1_start_10_dq_0.1'; it does not match the pattern ``^[a-zA-Z_][a-zA-Z0-9_]*$``; you will not be able to use natural naming to access this object; using ``getattr()`` will still work, though\n",
      "  NaturalNameWarning)\n"
     ]
    },
    {
     "name": "stdout",
     "output_type": "stream",
     "text": [
      "(sim,lamb_da,p_rew,start,dose_quantity) =  (90, 0.10000000000000002, 1.0, 10, 2)\n",
      "{97, 98, 47, 17, 82, 84, 52, 87, 58, 91}\n",
      "sim_90_p_rew_1_start_10_dq_2\n",
      "(sim,lamb_da,p_rew,start,dose_quantity) =  (91, 0.001, 0.01, 1, 0.1)\n",
      "{10}\n",
      "sim_91_p_rew_0.01_start_1_dq_0.1\n"
     ]
    },
    {
     "name": "stderr",
     "output_type": "stream",
     "text": [
      "/home/aiyappa/anaconda3/lib/python3.7/site-packages/tables/path.py:112: NaturalNameWarning: object name is not a valid Python identifier: 'sim_91_p_rew_0.01_start_1_dq_0.1'; it does not match the pattern ``^[a-zA-Z_][a-zA-Z0-9_]*$``; you will not be able to use natural naming to access this object; using ``getattr()`` will still work, though\n",
      "  NaturalNameWarning)\n"
     ]
    },
    {
     "name": "stdout",
     "output_type": "stream",
     "text": [
      "(sim,lamb_da,p_rew,start,dose_quantity) =  (91, 0.001, 0.01, 1, 2)\n",
      "{72}\n",
      "sim_91_p_rew_0.01_start_1_dq_2\n"
     ]
    },
    {
     "name": "stderr",
     "output_type": "stream",
     "text": [
      "/home/aiyappa/anaconda3/lib/python3.7/site-packages/tables/path.py:112: NaturalNameWarning: object name is not a valid Python identifier: 'sim_91_p_rew_0.01_start_1_dq_2'; it does not match the pattern ``^[a-zA-Z_][a-zA-Z0-9_]*$``; you will not be able to use natural naming to access this object; using ``getattr()`` will still work, though\n",
      "  NaturalNameWarning)\n"
     ]
    },
    {
     "name": "stdout",
     "output_type": "stream",
     "text": [
      "(sim,lamb_da,p_rew,start,dose_quantity) =  (91, 0.001, 0.01, 10, 0.1)\n",
      "{64, 68, 70, 12, 44, 24, 56, 88, 61, 94}\n",
      "sim_91_p_rew_0.01_start_10_dq_0.1\n"
     ]
    },
    {
     "name": "stderr",
     "output_type": "stream",
     "text": [
      "/home/aiyappa/anaconda3/lib/python3.7/site-packages/tables/path.py:112: NaturalNameWarning: object name is not a valid Python identifier: 'sim_91_p_rew_0.01_start_10_dq_0.1'; it does not match the pattern ``^[a-zA-Z_][a-zA-Z0-9_]*$``; you will not be able to use natural naming to access this object; using ``getattr()`` will still work, though\n",
      "  NaturalNameWarning)\n"
     ]
    },
    {
     "name": "stdout",
     "output_type": "stream",
     "text": [
      "(sim,lamb_da,p_rew,start,dose_quantity) =  (91, 0.001, 0.01, 10, 2)\n",
      "{32, 73, 41, 14, 16, 80, 86, 90, 59, 93}\n",
      "sim_91_p_rew_0.01_start_10_dq_2\n"
     ]
    },
    {
     "name": "stderr",
     "output_type": "stream",
     "text": [
      "/home/aiyappa/anaconda3/lib/python3.7/site-packages/tables/path.py:112: NaturalNameWarning: object name is not a valid Python identifier: 'sim_91_p_rew_0.01_start_10_dq_2'; it does not match the pattern ``^[a-zA-Z_][a-zA-Z0-9_]*$``; you will not be able to use natural naming to access this object; using ``getattr()`` will still work, though\n",
      "  NaturalNameWarning)\n"
     ]
    },
    {
     "name": "stdout",
     "output_type": "stream",
     "text": [
      "(sim,lamb_da,p_rew,start,dose_quantity) =  (91, 0.01, 0.10000000000000002, 1, 0.1)\n",
      "{35}\n",
      "sim_91_p_rew_0.1_start_1_dq_0.1\n"
     ]
    },
    {
     "name": "stderr",
     "output_type": "stream",
     "text": [
      "/home/aiyappa/anaconda3/lib/python3.7/site-packages/tables/path.py:112: NaturalNameWarning: object name is not a valid Python identifier: 'sim_91_p_rew_0.1_start_1_dq_0.1'; it does not match the pattern ``^[a-zA-Z_][a-zA-Z0-9_]*$``; you will not be able to use natural naming to access this object; using ``getattr()`` will still work, though\n",
      "  NaturalNameWarning)\n"
     ]
    },
    {
     "name": "stdout",
     "output_type": "stream",
     "text": [
      "(sim,lamb_da,p_rew,start,dose_quantity) =  (91, 0.01, 0.10000000000000002, 1, 2)\n",
      "{38}\n",
      "sim_91_p_rew_0.1_start_1_dq_2\n"
     ]
    },
    {
     "name": "stderr",
     "output_type": "stream",
     "text": [
      "/home/aiyappa/anaconda3/lib/python3.7/site-packages/tables/path.py:112: NaturalNameWarning: object name is not a valid Python identifier: 'sim_91_p_rew_0.1_start_1_dq_2'; it does not match the pattern ``^[a-zA-Z_][a-zA-Z0-9_]*$``; you will not be able to use natural naming to access this object; using ``getattr()`` will still work, though\n",
      "  NaturalNameWarning)\n"
     ]
    },
    {
     "name": "stdout",
     "output_type": "stream",
     "text": [
      "(sim,lamb_da,p_rew,start,dose_quantity) =  (91, 0.01, 0.10000000000000002, 10, 0.1)\n",
      "{37, 69, 75, 12, 51, 85, 89, 90, 28, 61}\n",
      "sim_91_p_rew_0.1_start_10_dq_0.1\n"
     ]
    },
    {
     "name": "stderr",
     "output_type": "stream",
     "text": [
      "/home/aiyappa/anaconda3/lib/python3.7/site-packages/tables/path.py:112: NaturalNameWarning: object name is not a valid Python identifier: 'sim_91_p_rew_0.1_start_10_dq_0.1'; it does not match the pattern ``^[a-zA-Z_][a-zA-Z0-9_]*$``; you will not be able to use natural naming to access this object; using ``getattr()`` will still work, though\n",
      "  NaturalNameWarning)\n"
     ]
    },
    {
     "name": "stdout",
     "output_type": "stream",
     "text": [
      "(sim,lamb_da,p_rew,start,dose_quantity) =  (91, 0.01, 0.10000000000000002, 10, 2)\n",
      "{74, 44, 28, 17, 19, 20, 21, 25, 90, 92}\n",
      "sim_91_p_rew_0.1_start_10_dq_2\n"
     ]
    },
    {
     "name": "stderr",
     "output_type": "stream",
     "text": [
      "/home/aiyappa/anaconda3/lib/python3.7/site-packages/tables/path.py:112: NaturalNameWarning: object name is not a valid Python identifier: 'sim_91_p_rew_0.1_start_10_dq_2'; it does not match the pattern ``^[a-zA-Z_][a-zA-Z0-9_]*$``; you will not be able to use natural naming to access this object; using ``getattr()`` will still work, though\n",
      "  NaturalNameWarning)\n"
     ]
    },
    {
     "name": "stdout",
     "output_type": "stream",
     "text": [
      "(sim,lamb_da,p_rew,start,dose_quantity) =  (91, 0.10000000000000002, 1.0, 1, 0.1)\n",
      "{77}\n",
      "sim_91_p_rew_1_start_1_dq_0.1\n"
     ]
    },
    {
     "name": "stderr",
     "output_type": "stream",
     "text": [
      "/home/aiyappa/anaconda3/lib/python3.7/site-packages/tables/path.py:112: NaturalNameWarning: object name is not a valid Python identifier: 'sim_91_p_rew_1_start_1_dq_0.1'; it does not match the pattern ``^[a-zA-Z_][a-zA-Z0-9_]*$``; you will not be able to use natural naming to access this object; using ``getattr()`` will still work, though\n",
      "  NaturalNameWarning)\n"
     ]
    },
    {
     "name": "stdout",
     "output_type": "stream",
     "text": [
      "(sim,lamb_da,p_rew,start,dose_quantity) =  (91, 0.10000000000000002, 1.0, 1, 2)\n",
      "{65}\n",
      "sim_91_p_rew_1_start_1_dq_2\n",
      "(sim,lamb_da,p_rew,start,dose_quantity) =  (91, 0.10000000000000002, 1.0, 10, 0.1)\n",
      "Initial node infection step failed\n",
      "None\n",
      "Initial node infection step failed\n",
      "None\n",
      "{5, 47, 48, 51, 84, 23, 24, 90, 95, 63}\n",
      "sim_91_p_rew_1_start_10_dq_0.1\n"
     ]
    },
    {
     "name": "stderr",
     "output_type": "stream",
     "text": [
      "/home/aiyappa/anaconda3/lib/python3.7/site-packages/tables/path.py:112: NaturalNameWarning: object name is not a valid Python identifier: 'sim_91_p_rew_1_start_10_dq_0.1'; it does not match the pattern ``^[a-zA-Z_][a-zA-Z0-9_]*$``; you will not be able to use natural naming to access this object; using ``getattr()`` will still work, though\n",
      "  NaturalNameWarning)\n"
     ]
    },
    {
     "name": "stdout",
     "output_type": "stream",
     "text": [
      "(sim,lamb_da,p_rew,start,dose_quantity) =  (91, 0.10000000000000002, 1.0, 10, 2)\n",
      "{64, 34, 68, 7, 42, 83, 51, 24, 89, 27}\n",
      "sim_91_p_rew_1_start_10_dq_2\n",
      "(sim,lamb_da,p_rew,start,dose_quantity) =  (92, 0.001, 0.01, 1, 0.1)\n",
      "{12}\n",
      "sim_92_p_rew_0.01_start_1_dq_0.1\n"
     ]
    },
    {
     "name": "stderr",
     "output_type": "stream",
     "text": [
      "/home/aiyappa/anaconda3/lib/python3.7/site-packages/tables/path.py:112: NaturalNameWarning: object name is not a valid Python identifier: 'sim_92_p_rew_0.01_start_1_dq_0.1'; it does not match the pattern ``^[a-zA-Z_][a-zA-Z0-9_]*$``; you will not be able to use natural naming to access this object; using ``getattr()`` will still work, though\n",
      "  NaturalNameWarning)\n"
     ]
    },
    {
     "name": "stdout",
     "output_type": "stream",
     "text": [
      "(sim,lamb_da,p_rew,start,dose_quantity) =  (92, 0.001, 0.01, 1, 2)\n",
      "{8}\n",
      "sim_92_p_rew_0.01_start_1_dq_2\n"
     ]
    },
    {
     "name": "stderr",
     "output_type": "stream",
     "text": [
      "/home/aiyappa/anaconda3/lib/python3.7/site-packages/tables/path.py:112: NaturalNameWarning: object name is not a valid Python identifier: 'sim_92_p_rew_0.01_start_1_dq_2'; it does not match the pattern ``^[a-zA-Z_][a-zA-Z0-9_]*$``; you will not be able to use natural naming to access this object; using ``getattr()`` will still work, though\n",
      "  NaturalNameWarning)\n"
     ]
    },
    {
     "name": "stdout",
     "output_type": "stream",
     "text": [
      "(sim,lamb_da,p_rew,start,dose_quantity) =  (92, 0.001, 0.01, 10, 0.1)\n",
      "{0, 68, 72, 74, 43, 13, 22, 58, 95, 31}\n",
      "sim_92_p_rew_0.01_start_10_dq_0.1\n"
     ]
    },
    {
     "name": "stderr",
     "output_type": "stream",
     "text": [
      "/home/aiyappa/anaconda3/lib/python3.7/site-packages/tables/path.py:112: NaturalNameWarning: object name is not a valid Python identifier: 'sim_92_p_rew_0.01_start_10_dq_0.1'; it does not match the pattern ``^[a-zA-Z_][a-zA-Z0-9_]*$``; you will not be able to use natural naming to access this object; using ``getattr()`` will still work, though\n",
      "  NaturalNameWarning)\n"
     ]
    },
    {
     "name": "stdout",
     "output_type": "stream",
     "text": [
      "(sim,lamb_da,p_rew,start,dose_quantity) =  (92, 0.001, 0.01, 10, 2)\n",
      "{96, 65, 68, 37, 7, 11, 90, 59, 60, 62}\n",
      "sim_92_p_rew_0.01_start_10_dq_2\n"
     ]
    },
    {
     "name": "stderr",
     "output_type": "stream",
     "text": [
      "/home/aiyappa/anaconda3/lib/python3.7/site-packages/tables/path.py:112: NaturalNameWarning: object name is not a valid Python identifier: 'sim_92_p_rew_0.01_start_10_dq_2'; it does not match the pattern ``^[a-zA-Z_][a-zA-Z0-9_]*$``; you will not be able to use natural naming to access this object; using ``getattr()`` will still work, though\n",
      "  NaturalNameWarning)\n"
     ]
    },
    {
     "name": "stdout",
     "output_type": "stream",
     "text": [
      "(sim,lamb_da,p_rew,start,dose_quantity) =  (92, 0.01, 0.10000000000000002, 1, 0.1)\n",
      "{34}\n",
      "sim_92_p_rew_0.1_start_1_dq_0.1\n"
     ]
    },
    {
     "name": "stderr",
     "output_type": "stream",
     "text": [
      "/home/aiyappa/anaconda3/lib/python3.7/site-packages/tables/path.py:112: NaturalNameWarning: object name is not a valid Python identifier: 'sim_92_p_rew_0.1_start_1_dq_0.1'; it does not match the pattern ``^[a-zA-Z_][a-zA-Z0-9_]*$``; you will not be able to use natural naming to access this object; using ``getattr()`` will still work, though\n",
      "  NaturalNameWarning)\n"
     ]
    },
    {
     "name": "stdout",
     "output_type": "stream",
     "text": [
      "(sim,lamb_da,p_rew,start,dose_quantity) =  (92, 0.01, 0.10000000000000002, 1, 2)\n",
      "{90}\n",
      "sim_92_p_rew_0.1_start_1_dq_2\n"
     ]
    },
    {
     "name": "stderr",
     "output_type": "stream",
     "text": [
      "/home/aiyappa/anaconda3/lib/python3.7/site-packages/tables/path.py:112: NaturalNameWarning: object name is not a valid Python identifier: 'sim_92_p_rew_0.1_start_1_dq_2'; it does not match the pattern ``^[a-zA-Z_][a-zA-Z0-9_]*$``; you will not be able to use natural naming to access this object; using ``getattr()`` will still work, though\n",
      "  NaturalNameWarning)\n"
     ]
    },
    {
     "name": "stdout",
     "output_type": "stream",
     "text": [
      "(sim,lamb_da,p_rew,start,dose_quantity) =  (92, 0.01, 0.10000000000000002, 10, 0.1)\n",
      "{66, 98, 68, 37, 8, 72, 55, 29, 30, 31}\n",
      "sim_92_p_rew_0.1_start_10_dq_0.1\n"
     ]
    },
    {
     "name": "stderr",
     "output_type": "stream",
     "text": [
      "/home/aiyappa/anaconda3/lib/python3.7/site-packages/tables/path.py:112: NaturalNameWarning: object name is not a valid Python identifier: 'sim_92_p_rew_0.1_start_10_dq_0.1'; it does not match the pattern ``^[a-zA-Z_][a-zA-Z0-9_]*$``; you will not be able to use natural naming to access this object; using ``getattr()`` will still work, though\n",
      "  NaturalNameWarning)\n"
     ]
    },
    {
     "name": "stdout",
     "output_type": "stream",
     "text": [
      "(sim,lamb_da,p_rew,start,dose_quantity) =  (92, 0.01, 0.10000000000000002, 10, 2)\n",
      "{1, 98, 68, 12, 52, 84, 23, 88, 57, 30}\n",
      "sim_92_p_rew_0.1_start_10_dq_2\n"
     ]
    },
    {
     "name": "stderr",
     "output_type": "stream",
     "text": [
      "/home/aiyappa/anaconda3/lib/python3.7/site-packages/tables/path.py:112: NaturalNameWarning: object name is not a valid Python identifier: 'sim_92_p_rew_0.1_start_10_dq_2'; it does not match the pattern ``^[a-zA-Z_][a-zA-Z0-9_]*$``; you will not be able to use natural naming to access this object; using ``getattr()`` will still work, though\n",
      "  NaturalNameWarning)\n"
     ]
    },
    {
     "name": "stdout",
     "output_type": "stream",
     "text": [
      "(sim,lamb_da,p_rew,start,dose_quantity) =  (92, 0.10000000000000002, 1.0, 1, 0.1)\n",
      "{93}\n",
      "sim_92_p_rew_1_start_1_dq_0.1\n"
     ]
    },
    {
     "name": "stderr",
     "output_type": "stream",
     "text": [
      "/home/aiyappa/anaconda3/lib/python3.7/site-packages/tables/path.py:112: NaturalNameWarning: object name is not a valid Python identifier: 'sim_92_p_rew_1_start_1_dq_0.1'; it does not match the pattern ``^[a-zA-Z_][a-zA-Z0-9_]*$``; you will not be able to use natural naming to access this object; using ``getattr()`` will still work, though\n",
      "  NaturalNameWarning)\n"
     ]
    },
    {
     "name": "stdout",
     "output_type": "stream",
     "text": [
      "(sim,lamb_da,p_rew,start,dose_quantity) =  (92, 0.10000000000000002, 1.0, 1, 2)\n",
      "{15}\n",
      "sim_92_p_rew_1_start_1_dq_2\n",
      "(sim,lamb_da,p_rew,start,dose_quantity) =  (92, 0.10000000000000002, 1.0, 10, 0.1)\n",
      "{96, 37, 14, 80, 61, 52, 83, 24, 26, 93}\n",
      "sim_92_p_rew_1_start_10_dq_0.1\n"
     ]
    },
    {
     "name": "stderr",
     "output_type": "stream",
     "text": [
      "/home/aiyappa/anaconda3/lib/python3.7/site-packages/tables/path.py:112: NaturalNameWarning: object name is not a valid Python identifier: 'sim_92_p_rew_1_start_10_dq_0.1'; it does not match the pattern ``^[a-zA-Z_][a-zA-Z0-9_]*$``; you will not be able to use natural naming to access this object; using ``getattr()`` will still work, though\n",
      "  NaturalNameWarning)\n"
     ]
    },
    {
     "name": "stdout",
     "output_type": "stream",
     "text": [
      "(sim,lamb_da,p_rew,start,dose_quantity) =  (92, 0.10000000000000002, 1.0, 10, 2)\n",
      "{89, 1, 0, 2, 69, 78, 15, 54, 57, 58}\n",
      "sim_92_p_rew_1_start_10_dq_2\n",
      "(sim,lamb_da,p_rew,start,dose_quantity) =  (93, 0.001, 0.01, 1, 0.1)\n",
      "{84}\n",
      "sim_93_p_rew_0.01_start_1_dq_0.1\n"
     ]
    },
    {
     "name": "stderr",
     "output_type": "stream",
     "text": [
      "/home/aiyappa/anaconda3/lib/python3.7/site-packages/tables/path.py:112: NaturalNameWarning: object name is not a valid Python identifier: 'sim_93_p_rew_0.01_start_1_dq_0.1'; it does not match the pattern ``^[a-zA-Z_][a-zA-Z0-9_]*$``; you will not be able to use natural naming to access this object; using ``getattr()`` will still work, though\n",
      "  NaturalNameWarning)\n"
     ]
    },
    {
     "name": "stdout",
     "output_type": "stream",
     "text": [
      "(sim,lamb_da,p_rew,start,dose_quantity) =  (93, 0.001, 0.01, 1, 2)\n",
      "{36}\n",
      "sim_93_p_rew_0.01_start_1_dq_2\n"
     ]
    },
    {
     "name": "stderr",
     "output_type": "stream",
     "text": [
      "/home/aiyappa/anaconda3/lib/python3.7/site-packages/tables/path.py:112: NaturalNameWarning: object name is not a valid Python identifier: 'sim_93_p_rew_0.01_start_1_dq_2'; it does not match the pattern ``^[a-zA-Z_][a-zA-Z0-9_]*$``; you will not be able to use natural naming to access this object; using ``getattr()`` will still work, though\n",
      "  NaturalNameWarning)\n"
     ]
    },
    {
     "name": "stdout",
     "output_type": "stream",
     "text": [
      "(sim,lamb_da,p_rew,start,dose_quantity) =  (93, 0.001, 0.01, 10, 0.1)\n",
      "{0, 32, 43, 15, 17, 57, 26, 59, 92, 29}\n",
      "sim_93_p_rew_0.01_start_10_dq_0.1\n"
     ]
    },
    {
     "name": "stderr",
     "output_type": "stream",
     "text": [
      "/home/aiyappa/anaconda3/lib/python3.7/site-packages/tables/path.py:112: NaturalNameWarning: object name is not a valid Python identifier: 'sim_93_p_rew_0.01_start_10_dq_0.1'; it does not match the pattern ``^[a-zA-Z_][a-zA-Z0-9_]*$``; you will not be able to use natural naming to access this object; using ``getattr()`` will still work, though\n",
      "  NaturalNameWarning)\n"
     ]
    },
    {
     "name": "stdout",
     "output_type": "stream",
     "text": [
      "(sim,lamb_da,p_rew,start,dose_quantity) =  (93, 0.001, 0.01, 10, 2)\n",
      "{64, 65, 2, 37, 69, 13, 14, 88, 25, 57}\n",
      "sim_93_p_rew_0.01_start_10_dq_2\n"
     ]
    },
    {
     "name": "stderr",
     "output_type": "stream",
     "text": [
      "/home/aiyappa/anaconda3/lib/python3.7/site-packages/tables/path.py:112: NaturalNameWarning: object name is not a valid Python identifier: 'sim_93_p_rew_0.01_start_10_dq_2'; it does not match the pattern ``^[a-zA-Z_][a-zA-Z0-9_]*$``; you will not be able to use natural naming to access this object; using ``getattr()`` will still work, though\n",
      "  NaturalNameWarning)\n"
     ]
    },
    {
     "name": "stdout",
     "output_type": "stream",
     "text": [
      "(sim,lamb_da,p_rew,start,dose_quantity) =  (93, 0.01, 0.10000000000000002, 1, 0.1)\n",
      "{27}\n",
      "sim_93_p_rew_0.1_start_1_dq_0.1\n"
     ]
    },
    {
     "name": "stderr",
     "output_type": "stream",
     "text": [
      "/home/aiyappa/anaconda3/lib/python3.7/site-packages/tables/path.py:112: NaturalNameWarning: object name is not a valid Python identifier: 'sim_93_p_rew_0.1_start_1_dq_0.1'; it does not match the pattern ``^[a-zA-Z_][a-zA-Z0-9_]*$``; you will not be able to use natural naming to access this object; using ``getattr()`` will still work, though\n",
      "  NaturalNameWarning)\n"
     ]
    },
    {
     "name": "stdout",
     "output_type": "stream",
     "text": [
      "(sim,lamb_da,p_rew,start,dose_quantity) =  (93, 0.01, 0.10000000000000002, 1, 2)\n",
      "{36}\n",
      "sim_93_p_rew_0.1_start_1_dq_2\n"
     ]
    },
    {
     "name": "stderr",
     "output_type": "stream",
     "text": [
      "/home/aiyappa/anaconda3/lib/python3.7/site-packages/tables/path.py:112: NaturalNameWarning: object name is not a valid Python identifier: 'sim_93_p_rew_0.1_start_1_dq_2'; it does not match the pattern ``^[a-zA-Z_][a-zA-Z0-9_]*$``; you will not be able to use natural naming to access this object; using ``getattr()`` will still work, though\n",
      "  NaturalNameWarning)\n"
     ]
    },
    {
     "name": "stdout",
     "output_type": "stream",
     "text": [
      "(sim,lamb_da,p_rew,start,dose_quantity) =  (93, 0.01, 0.10000000000000002, 10, 0.1)\n",
      "{67, 6, 39, 40, 81, 23, 22, 55, 87, 94}\n",
      "sim_93_p_rew_0.1_start_10_dq_0.1\n"
     ]
    },
    {
     "name": "stderr",
     "output_type": "stream",
     "text": [
      "/home/aiyappa/anaconda3/lib/python3.7/site-packages/tables/path.py:112: NaturalNameWarning: object name is not a valid Python identifier: 'sim_93_p_rew_0.1_start_10_dq_0.1'; it does not match the pattern ``^[a-zA-Z_][a-zA-Z0-9_]*$``; you will not be able to use natural naming to access this object; using ``getattr()`` will still work, though\n",
      "  NaturalNameWarning)\n"
     ]
    },
    {
     "name": "stdout",
     "output_type": "stream",
     "text": [
      "(sim,lamb_da,p_rew,start,dose_quantity) =  (93, 0.01, 0.10000000000000002, 10, 2)\n",
      "{56, 35, 6, 7, 79, 17, 84, 24, 58, 61}\n",
      "sim_93_p_rew_0.1_start_10_dq_2\n"
     ]
    },
    {
     "name": "stderr",
     "output_type": "stream",
     "text": [
      "/home/aiyappa/anaconda3/lib/python3.7/site-packages/tables/path.py:112: NaturalNameWarning: object name is not a valid Python identifier: 'sim_93_p_rew_0.1_start_10_dq_2'; it does not match the pattern ``^[a-zA-Z_][a-zA-Z0-9_]*$``; you will not be able to use natural naming to access this object; using ``getattr()`` will still work, though\n",
      "  NaturalNameWarning)\n"
     ]
    },
    {
     "name": "stdout",
     "output_type": "stream",
     "text": [
      "(sim,lamb_da,p_rew,start,dose_quantity) =  (93, 0.10000000000000002, 1.0, 1, 0.1)\n",
      "{7}\n",
      "sim_93_p_rew_1_start_1_dq_0.1\n"
     ]
    },
    {
     "name": "stderr",
     "output_type": "stream",
     "text": [
      "/home/aiyappa/anaconda3/lib/python3.7/site-packages/tables/path.py:112: NaturalNameWarning: object name is not a valid Python identifier: 'sim_93_p_rew_1_start_1_dq_0.1'; it does not match the pattern ``^[a-zA-Z_][a-zA-Z0-9_]*$``; you will not be able to use natural naming to access this object; using ``getattr()`` will still work, though\n",
      "  NaturalNameWarning)\n"
     ]
    },
    {
     "name": "stdout",
     "output_type": "stream",
     "text": [
      "(sim,lamb_da,p_rew,start,dose_quantity) =  (93, 0.10000000000000002, 1.0, 1, 2)\n",
      "{59}\n",
      "sim_93_p_rew_1_start_1_dq_2\n",
      "(sim,lamb_da,p_rew,start,dose_quantity) =  (93, 0.10000000000000002, 1.0, 10, 0.1)\n",
      "Initial node infection step failed\n",
      "None\n",
      "Initial node infection step failed\n",
      "None\n",
      "Initial node infection step failed\n",
      "None\n",
      "Initial node infection step failed\n",
      "None\n",
      "{65, 98, 99, 67, 97, 46, 52, 89, 93, 94}\n",
      "sim_93_p_rew_1_start_10_dq_0.1\n"
     ]
    },
    {
     "name": "stderr",
     "output_type": "stream",
     "text": [
      "/home/aiyappa/anaconda3/lib/python3.7/site-packages/tables/path.py:112: NaturalNameWarning: object name is not a valid Python identifier: 'sim_93_p_rew_1_start_10_dq_0.1'; it does not match the pattern ``^[a-zA-Z_][a-zA-Z0-9_]*$``; you will not be able to use natural naming to access this object; using ``getattr()`` will still work, though\n",
      "  NaturalNameWarning)\n"
     ]
    },
    {
     "name": "stdout",
     "output_type": "stream",
     "text": [
      "(sim,lamb_da,p_rew,start,dose_quantity) =  (93, 0.10000000000000002, 1.0, 10, 2)\n",
      "{33, 68, 37, 41, 10, 73, 82, 22, 56, 60}\n",
      "sim_93_p_rew_1_start_10_dq_2\n",
      "(sim,lamb_da,p_rew,start,dose_quantity) =  (94, 0.001, 0.01, 1, 0.1)\n",
      "{6}\n",
      "sim_94_p_rew_0.01_start_1_dq_0.1\n"
     ]
    },
    {
     "name": "stderr",
     "output_type": "stream",
     "text": [
      "/home/aiyappa/anaconda3/lib/python3.7/site-packages/tables/path.py:112: NaturalNameWarning: object name is not a valid Python identifier: 'sim_94_p_rew_0.01_start_1_dq_0.1'; it does not match the pattern ``^[a-zA-Z_][a-zA-Z0-9_]*$``; you will not be able to use natural naming to access this object; using ``getattr()`` will still work, though\n",
      "  NaturalNameWarning)\n"
     ]
    },
    {
     "name": "stdout",
     "output_type": "stream",
     "text": [
      "(sim,lamb_da,p_rew,start,dose_quantity) =  (94, 0.001, 0.01, 1, 2)\n",
      "{76}\n",
      "sim_94_p_rew_0.01_start_1_dq_2\n"
     ]
    },
    {
     "name": "stderr",
     "output_type": "stream",
     "text": [
      "/home/aiyappa/anaconda3/lib/python3.7/site-packages/tables/path.py:112: NaturalNameWarning: object name is not a valid Python identifier: 'sim_94_p_rew_0.01_start_1_dq_2'; it does not match the pattern ``^[a-zA-Z_][a-zA-Z0-9_]*$``; you will not be able to use natural naming to access this object; using ``getattr()`` will still work, though\n",
      "  NaturalNameWarning)\n"
     ]
    },
    {
     "name": "stdout",
     "output_type": "stream",
     "text": [
      "(sim,lamb_da,p_rew,start,dose_quantity) =  (94, 0.001, 0.01, 10, 0.1)\n",
      "{7, 44, 77, 13, 47, 48, 19, 57, 93, 25}\n",
      "sim_94_p_rew_0.01_start_10_dq_0.1\n"
     ]
    },
    {
     "name": "stderr",
     "output_type": "stream",
     "text": [
      "/home/aiyappa/anaconda3/lib/python3.7/site-packages/tables/path.py:112: NaturalNameWarning: object name is not a valid Python identifier: 'sim_94_p_rew_0.01_start_10_dq_0.1'; it does not match the pattern ``^[a-zA-Z_][a-zA-Z0-9_]*$``; you will not be able to use natural naming to access this object; using ``getattr()`` will still work, though\n",
      "  NaturalNameWarning)\n"
     ]
    },
    {
     "name": "stdout",
     "output_type": "stream",
     "text": [
      "(sim,lamb_da,p_rew,start,dose_quantity) =  (94, 0.001, 0.01, 10, 2)\n",
      "{66, 5, 72, 41, 74, 44, 13, 88, 57, 60}\n",
      "sim_94_p_rew_0.01_start_10_dq_2\n"
     ]
    },
    {
     "name": "stderr",
     "output_type": "stream",
     "text": [
      "/home/aiyappa/anaconda3/lib/python3.7/site-packages/tables/path.py:112: NaturalNameWarning: object name is not a valid Python identifier: 'sim_94_p_rew_0.01_start_10_dq_2'; it does not match the pattern ``^[a-zA-Z_][a-zA-Z0-9_]*$``; you will not be able to use natural naming to access this object; using ``getattr()`` will still work, though\n",
      "  NaturalNameWarning)\n"
     ]
    },
    {
     "name": "stdout",
     "output_type": "stream",
     "text": [
      "(sim,lamb_da,p_rew,start,dose_quantity) =  (94, 0.01, 0.10000000000000002, 1, 0.1)\n",
      "{4}\n",
      "sim_94_p_rew_0.1_start_1_dq_0.1\n"
     ]
    },
    {
     "name": "stderr",
     "output_type": "stream",
     "text": [
      "/home/aiyappa/anaconda3/lib/python3.7/site-packages/tables/path.py:112: NaturalNameWarning: object name is not a valid Python identifier: 'sim_94_p_rew_0.1_start_1_dq_0.1'; it does not match the pattern ``^[a-zA-Z_][a-zA-Z0-9_]*$``; you will not be able to use natural naming to access this object; using ``getattr()`` will still work, though\n",
      "  NaturalNameWarning)\n"
     ]
    },
    {
     "name": "stdout",
     "output_type": "stream",
     "text": [
      "(sim,lamb_da,p_rew,start,dose_quantity) =  (94, 0.01, 0.10000000000000002, 1, 2)\n",
      "{48}\n",
      "sim_94_p_rew_0.1_start_1_dq_2\n"
     ]
    },
    {
     "name": "stderr",
     "output_type": "stream",
     "text": [
      "/home/aiyappa/anaconda3/lib/python3.7/site-packages/tables/path.py:112: NaturalNameWarning: object name is not a valid Python identifier: 'sim_94_p_rew_0.1_start_1_dq_2'; it does not match the pattern ``^[a-zA-Z_][a-zA-Z0-9_]*$``; you will not be able to use natural naming to access this object; using ``getattr()`` will still work, though\n",
      "  NaturalNameWarning)\n"
     ]
    },
    {
     "name": "stdout",
     "output_type": "stream",
     "text": [
      "(sim,lamb_da,p_rew,start,dose_quantity) =  (94, 0.01, 0.10000000000000002, 10, 0.1)\n",
      "{65, 66, 69, 60, 50, 82, 20, 22, 87, 28}\n",
      "sim_94_p_rew_0.1_start_10_dq_0.1\n"
     ]
    },
    {
     "name": "stderr",
     "output_type": "stream",
     "text": [
      "/home/aiyappa/anaconda3/lib/python3.7/site-packages/tables/path.py:112: NaturalNameWarning: object name is not a valid Python identifier: 'sim_94_p_rew_0.1_start_10_dq_0.1'; it does not match the pattern ``^[a-zA-Z_][a-zA-Z0-9_]*$``; you will not be able to use natural naming to access this object; using ``getattr()`` will still work, though\n",
      "  NaturalNameWarning)\n"
     ]
    },
    {
     "name": "stdout",
     "output_type": "stream",
     "text": [
      "(sim,lamb_da,p_rew,start,dose_quantity) =  (94, 0.01, 0.10000000000000002, 10, 2)\n",
      "{66, 39, 41, 42, 14, 47, 79, 54, 25, 30}\n",
      "sim_94_p_rew_0.1_start_10_dq_2\n"
     ]
    },
    {
     "name": "stderr",
     "output_type": "stream",
     "text": [
      "/home/aiyappa/anaconda3/lib/python3.7/site-packages/tables/path.py:112: NaturalNameWarning: object name is not a valid Python identifier: 'sim_94_p_rew_0.1_start_10_dq_2'; it does not match the pattern ``^[a-zA-Z_][a-zA-Z0-9_]*$``; you will not be able to use natural naming to access this object; using ``getattr()`` will still work, though\n",
      "  NaturalNameWarning)\n"
     ]
    },
    {
     "name": "stdout",
     "output_type": "stream",
     "text": [
      "(sim,lamb_da,p_rew,start,dose_quantity) =  (94, 0.10000000000000002, 1.0, 1, 0.1)\n",
      "{51}\n",
      "sim_94_p_rew_1_start_1_dq_0.1\n"
     ]
    },
    {
     "name": "stderr",
     "output_type": "stream",
     "text": [
      "/home/aiyappa/anaconda3/lib/python3.7/site-packages/tables/path.py:112: NaturalNameWarning: object name is not a valid Python identifier: 'sim_94_p_rew_1_start_1_dq_0.1'; it does not match the pattern ``^[a-zA-Z_][a-zA-Z0-9_]*$``; you will not be able to use natural naming to access this object; using ``getattr()`` will still work, though\n",
      "  NaturalNameWarning)\n"
     ]
    },
    {
     "name": "stdout",
     "output_type": "stream",
     "text": [
      "(sim,lamb_da,p_rew,start,dose_quantity) =  (94, 0.10000000000000002, 1.0, 1, 2)\n",
      "{15}\n",
      "sim_94_p_rew_1_start_1_dq_2\n",
      "(sim,lamb_da,p_rew,start,dose_quantity) =  (94, 0.10000000000000002, 1.0, 10, 0.1)\n",
      "Initial node infection step failed\n",
      "None\n",
      "{32, 8, 47, 18, 82, 19, 22, 91, 61, 63}\n",
      "sim_94_p_rew_1_start_10_dq_0.1\n"
     ]
    },
    {
     "name": "stderr",
     "output_type": "stream",
     "text": [
      "/home/aiyappa/anaconda3/lib/python3.7/site-packages/tables/path.py:112: NaturalNameWarning: object name is not a valid Python identifier: 'sim_94_p_rew_1_start_10_dq_0.1'; it does not match the pattern ``^[a-zA-Z_][a-zA-Z0-9_]*$``; you will not be able to use natural naming to access this object; using ``getattr()`` will still work, though\n",
      "  NaturalNameWarning)\n"
     ]
    },
    {
     "name": "stdout",
     "output_type": "stream",
     "text": [
      "(sim,lamb_da,p_rew,start,dose_quantity) =  (94, 0.10000000000000002, 1.0, 10, 2)\n",
      "{32, 65, 33, 67, 37, 71, 41, 81, 53, 60}\n",
      "sim_94_p_rew_1_start_10_dq_2\n",
      "(sim,lamb_da,p_rew,start,dose_quantity) =  (95, 0.001, 0.01, 1, 0.1)\n",
      "{23}\n",
      "sim_95_p_rew_0.01_start_1_dq_0.1\n"
     ]
    },
    {
     "name": "stderr",
     "output_type": "stream",
     "text": [
      "/home/aiyappa/anaconda3/lib/python3.7/site-packages/tables/path.py:112: NaturalNameWarning: object name is not a valid Python identifier: 'sim_95_p_rew_0.01_start_1_dq_0.1'; it does not match the pattern ``^[a-zA-Z_][a-zA-Z0-9_]*$``; you will not be able to use natural naming to access this object; using ``getattr()`` will still work, though\n",
      "  NaturalNameWarning)\n"
     ]
    },
    {
     "name": "stdout",
     "output_type": "stream",
     "text": [
      "(sim,lamb_da,p_rew,start,dose_quantity) =  (95, 0.001, 0.01, 1, 2)\n",
      "{32}\n",
      "sim_95_p_rew_0.01_start_1_dq_2\n"
     ]
    },
    {
     "name": "stderr",
     "output_type": "stream",
     "text": [
      "/home/aiyappa/anaconda3/lib/python3.7/site-packages/tables/path.py:112: NaturalNameWarning: object name is not a valid Python identifier: 'sim_95_p_rew_0.01_start_1_dq_2'; it does not match the pattern ``^[a-zA-Z_][a-zA-Z0-9_]*$``; you will not be able to use natural naming to access this object; using ``getattr()`` will still work, though\n",
      "  NaturalNameWarning)\n"
     ]
    },
    {
     "name": "stdout",
     "output_type": "stream",
     "text": [
      "(sim,lamb_da,p_rew,start,dose_quantity) =  (95, 0.001, 0.01, 10, 0.1)\n",
      "{69, 79, 50, 20, 85, 21, 55, 56, 26, 63}\n",
      "sim_95_p_rew_0.01_start_10_dq_0.1\n"
     ]
    },
    {
     "name": "stderr",
     "output_type": "stream",
     "text": [
      "/home/aiyappa/anaconda3/lib/python3.7/site-packages/tables/path.py:112: NaturalNameWarning: object name is not a valid Python identifier: 'sim_95_p_rew_0.01_start_10_dq_0.1'; it does not match the pattern ``^[a-zA-Z_][a-zA-Z0-9_]*$``; you will not be able to use natural naming to access this object; using ``getattr()`` will still work, though\n",
      "  NaturalNameWarning)\n"
     ]
    },
    {
     "name": "stdout",
     "output_type": "stream",
     "text": [
      "(sim,lamb_da,p_rew,start,dose_quantity) =  (95, 0.001, 0.01, 10, 2)\n",
      "{96, 35, 38, 11, 78, 84, 23, 88, 89, 60}\n",
      "sim_95_p_rew_0.01_start_10_dq_2\n"
     ]
    },
    {
     "name": "stderr",
     "output_type": "stream",
     "text": [
      "/home/aiyappa/anaconda3/lib/python3.7/site-packages/tables/path.py:112: NaturalNameWarning: object name is not a valid Python identifier: 'sim_95_p_rew_0.01_start_10_dq_2'; it does not match the pattern ``^[a-zA-Z_][a-zA-Z0-9_]*$``; you will not be able to use natural naming to access this object; using ``getattr()`` will still work, though\n",
      "  NaturalNameWarning)\n"
     ]
    },
    {
     "name": "stdout",
     "output_type": "stream",
     "text": [
      "(sim,lamb_da,p_rew,start,dose_quantity) =  (95, 0.01, 0.10000000000000002, 1, 0.1)\n",
      "{4}\n",
      "sim_95_p_rew_0.1_start_1_dq_0.1\n"
     ]
    },
    {
     "name": "stderr",
     "output_type": "stream",
     "text": [
      "/home/aiyappa/anaconda3/lib/python3.7/site-packages/tables/path.py:112: NaturalNameWarning: object name is not a valid Python identifier: 'sim_95_p_rew_0.1_start_1_dq_0.1'; it does not match the pattern ``^[a-zA-Z_][a-zA-Z0-9_]*$``; you will not be able to use natural naming to access this object; using ``getattr()`` will still work, though\n",
      "  NaturalNameWarning)\n"
     ]
    },
    {
     "name": "stdout",
     "output_type": "stream",
     "text": [
      "(sim,lamb_da,p_rew,start,dose_quantity) =  (95, 0.01, 0.10000000000000002, 1, 2)\n",
      "{96}\n",
      "sim_95_p_rew_0.1_start_1_dq_2\n"
     ]
    },
    {
     "name": "stderr",
     "output_type": "stream",
     "text": [
      "/home/aiyappa/anaconda3/lib/python3.7/site-packages/tables/path.py:112: NaturalNameWarning: object name is not a valid Python identifier: 'sim_95_p_rew_0.1_start_1_dq_2'; it does not match the pattern ``^[a-zA-Z_][a-zA-Z0-9_]*$``; you will not be able to use natural naming to access this object; using ``getattr()`` will still work, though\n",
      "  NaturalNameWarning)\n"
     ]
    },
    {
     "name": "stdout",
     "output_type": "stream",
     "text": [
      "(sim,lamb_da,p_rew,start,dose_quantity) =  (95, 0.01, 0.10000000000000002, 10, 0.1)\n",
      "{65, 37, 70, 5, 77, 17, 84, 22, 89, 63}\n",
      "sim_95_p_rew_0.1_start_10_dq_0.1\n"
     ]
    },
    {
     "name": "stderr",
     "output_type": "stream",
     "text": [
      "/home/aiyappa/anaconda3/lib/python3.7/site-packages/tables/path.py:112: NaturalNameWarning: object name is not a valid Python identifier: 'sim_95_p_rew_0.1_start_10_dq_0.1'; it does not match the pattern ``^[a-zA-Z_][a-zA-Z0-9_]*$``; you will not be able to use natural naming to access this object; using ``getattr()`` will still work, though\n",
      "  NaturalNameWarning)\n"
     ]
    },
    {
     "name": "stdout",
     "output_type": "stream",
     "text": [
      "(sim,lamb_da,p_rew,start,dose_quantity) =  (95, 0.01, 0.10000000000000002, 10, 2)\n",
      "{32, 9, 11, 81, 82, 54, 58, 91, 94, 95}\n",
      "sim_95_p_rew_0.1_start_10_dq_2\n"
     ]
    },
    {
     "name": "stderr",
     "output_type": "stream",
     "text": [
      "/home/aiyappa/anaconda3/lib/python3.7/site-packages/tables/path.py:112: NaturalNameWarning: object name is not a valid Python identifier: 'sim_95_p_rew_0.1_start_10_dq_2'; it does not match the pattern ``^[a-zA-Z_][a-zA-Z0-9_]*$``; you will not be able to use natural naming to access this object; using ``getattr()`` will still work, though\n",
      "  NaturalNameWarning)\n"
     ]
    },
    {
     "name": "stdout",
     "output_type": "stream",
     "text": [
      "(sim,lamb_da,p_rew,start,dose_quantity) =  (95, 0.10000000000000002, 1.0, 1, 0.1)\n",
      "{6}\n",
      "sim_95_p_rew_1_start_1_dq_0.1\n"
     ]
    },
    {
     "name": "stderr",
     "output_type": "stream",
     "text": [
      "/home/aiyappa/anaconda3/lib/python3.7/site-packages/tables/path.py:112: NaturalNameWarning: object name is not a valid Python identifier: 'sim_95_p_rew_1_start_1_dq_0.1'; it does not match the pattern ``^[a-zA-Z_][a-zA-Z0-9_]*$``; you will not be able to use natural naming to access this object; using ``getattr()`` will still work, though\n",
      "  NaturalNameWarning)\n"
     ]
    },
    {
     "name": "stdout",
     "output_type": "stream",
     "text": [
      "(sim,lamb_da,p_rew,start,dose_quantity) =  (95, 0.10000000000000002, 1.0, 1, 2)\n",
      "{49}\n",
      "sim_95_p_rew_1_start_1_dq_2\n",
      "(sim,lamb_da,p_rew,start,dose_quantity) =  (95, 0.10000000000000002, 1.0, 10, 0.1)\n",
      "{99, 70, 10, 46, 50, 83, 54, 28, 62, 95}\n",
      "sim_95_p_rew_1_start_10_dq_0.1\n"
     ]
    },
    {
     "name": "stderr",
     "output_type": "stream",
     "text": [
      "/home/aiyappa/anaconda3/lib/python3.7/site-packages/tables/path.py:112: NaturalNameWarning: object name is not a valid Python identifier: 'sim_95_p_rew_1_start_10_dq_0.1'; it does not match the pattern ``^[a-zA-Z_][a-zA-Z0-9_]*$``; you will not be able to use natural naming to access this object; using ``getattr()`` will still work, though\n",
      "  NaturalNameWarning)\n"
     ]
    },
    {
     "name": "stdout",
     "output_type": "stream",
     "text": [
      "(sim,lamb_da,p_rew,start,dose_quantity) =  (95, 0.10000000000000002, 1.0, 10, 2)\n",
      "{65, 97, 5, 70, 71, 43, 24, 26, 31, 95}\n",
      "sim_95_p_rew_1_start_10_dq_2\n",
      "(sim,lamb_da,p_rew,start,dose_quantity) =  (96, 0.001, 0.01, 1, 0.1)\n",
      "{91}\n",
      "sim_96_p_rew_0.01_start_1_dq_0.1\n"
     ]
    },
    {
     "name": "stderr",
     "output_type": "stream",
     "text": [
      "/home/aiyappa/anaconda3/lib/python3.7/site-packages/tables/path.py:112: NaturalNameWarning: object name is not a valid Python identifier: 'sim_96_p_rew_0.01_start_1_dq_0.1'; it does not match the pattern ``^[a-zA-Z_][a-zA-Z0-9_]*$``; you will not be able to use natural naming to access this object; using ``getattr()`` will still work, though\n",
      "  NaturalNameWarning)\n"
     ]
    },
    {
     "name": "stdout",
     "output_type": "stream",
     "text": [
      "(sim,lamb_da,p_rew,start,dose_quantity) =  (96, 0.001, 0.01, 1, 2)\n",
      "{75}\n",
      "sim_96_p_rew_0.01_start_1_dq_2\n"
     ]
    },
    {
     "name": "stderr",
     "output_type": "stream",
     "text": [
      "/home/aiyappa/anaconda3/lib/python3.7/site-packages/tables/path.py:112: NaturalNameWarning: object name is not a valid Python identifier: 'sim_96_p_rew_0.01_start_1_dq_2'; it does not match the pattern ``^[a-zA-Z_][a-zA-Z0-9_]*$``; you will not be able to use natural naming to access this object; using ``getattr()`` will still work, though\n",
      "  NaturalNameWarning)\n"
     ]
    },
    {
     "name": "stdout",
     "output_type": "stream",
     "text": [
      "(sim,lamb_da,p_rew,start,dose_quantity) =  (96, 0.001, 0.01, 10, 0.1)\n",
      "{34, 35, 4, 9, 74, 79, 22, 92, 94, 31}\n",
      "sim_96_p_rew_0.01_start_10_dq_0.1\n"
     ]
    },
    {
     "name": "stderr",
     "output_type": "stream",
     "text": [
      "/home/aiyappa/anaconda3/lib/python3.7/site-packages/tables/path.py:112: NaturalNameWarning: object name is not a valid Python identifier: 'sim_96_p_rew_0.01_start_10_dq_0.1'; it does not match the pattern ``^[a-zA-Z_][a-zA-Z0-9_]*$``; you will not be able to use natural naming to access this object; using ``getattr()`` will still work, though\n",
      "  NaturalNameWarning)\n"
     ]
    },
    {
     "name": "stdout",
     "output_type": "stream",
     "text": [
      "(sim,lamb_da,p_rew,start,dose_quantity) =  (96, 0.001, 0.01, 10, 2)\n",
      "{36, 69, 72, 76, 44, 15, 82, 55, 23, 89}\n",
      "sim_96_p_rew_0.01_start_10_dq_2\n"
     ]
    },
    {
     "name": "stderr",
     "output_type": "stream",
     "text": [
      "/home/aiyappa/anaconda3/lib/python3.7/site-packages/tables/path.py:112: NaturalNameWarning: object name is not a valid Python identifier: 'sim_96_p_rew_0.01_start_10_dq_2'; it does not match the pattern ``^[a-zA-Z_][a-zA-Z0-9_]*$``; you will not be able to use natural naming to access this object; using ``getattr()`` will still work, though\n",
      "  NaturalNameWarning)\n"
     ]
    },
    {
     "name": "stdout",
     "output_type": "stream",
     "text": [
      "(sim,lamb_da,p_rew,start,dose_quantity) =  (96, 0.01, 0.10000000000000002, 1, 0.1)\n",
      "{65}\n",
      "sim_96_p_rew_0.1_start_1_dq_0.1\n"
     ]
    },
    {
     "name": "stderr",
     "output_type": "stream",
     "text": [
      "/home/aiyappa/anaconda3/lib/python3.7/site-packages/tables/path.py:112: NaturalNameWarning: object name is not a valid Python identifier: 'sim_96_p_rew_0.1_start_1_dq_0.1'; it does not match the pattern ``^[a-zA-Z_][a-zA-Z0-9_]*$``; you will not be able to use natural naming to access this object; using ``getattr()`` will still work, though\n",
      "  NaturalNameWarning)\n"
     ]
    },
    {
     "name": "stdout",
     "output_type": "stream",
     "text": [
      "(sim,lamb_da,p_rew,start,dose_quantity) =  (96, 0.01, 0.10000000000000002, 1, 2)\n",
      "{68}\n",
      "sim_96_p_rew_0.1_start_1_dq_2\n"
     ]
    },
    {
     "name": "stderr",
     "output_type": "stream",
     "text": [
      "/home/aiyappa/anaconda3/lib/python3.7/site-packages/tables/path.py:112: NaturalNameWarning: object name is not a valid Python identifier: 'sim_96_p_rew_0.1_start_1_dq_2'; it does not match the pattern ``^[a-zA-Z_][a-zA-Z0-9_]*$``; you will not be able to use natural naming to access this object; using ``getattr()`` will still work, though\n",
      "  NaturalNameWarning)\n"
     ]
    },
    {
     "name": "stdout",
     "output_type": "stream",
     "text": [
      "(sim,lamb_da,p_rew,start,dose_quantity) =  (96, 0.01, 0.10000000000000002, 10, 0.1)\n",
      "{66, 39, 11, 77, 78, 15, 19, 53, 89, 26}\n",
      "sim_96_p_rew_0.1_start_10_dq_0.1\n"
     ]
    },
    {
     "name": "stderr",
     "output_type": "stream",
     "text": [
      "/home/aiyappa/anaconda3/lib/python3.7/site-packages/tables/path.py:112: NaturalNameWarning: object name is not a valid Python identifier: 'sim_96_p_rew_0.1_start_10_dq_0.1'; it does not match the pattern ``^[a-zA-Z_][a-zA-Z0-9_]*$``; you will not be able to use natural naming to access this object; using ``getattr()`` will still work, though\n",
      "  NaturalNameWarning)\n"
     ]
    },
    {
     "name": "stdout",
     "output_type": "stream",
     "text": [
      "(sim,lamb_da,p_rew,start,dose_quantity) =  (96, 0.01, 0.10000000000000002, 10, 2)\n",
      "{0, 70, 40, 8, 72, 11, 25, 59, 29, 63}\n",
      "sim_96_p_rew_0.1_start_10_dq_2\n"
     ]
    },
    {
     "name": "stderr",
     "output_type": "stream",
     "text": [
      "/home/aiyappa/anaconda3/lib/python3.7/site-packages/tables/path.py:112: NaturalNameWarning: object name is not a valid Python identifier: 'sim_96_p_rew_0.1_start_10_dq_2'; it does not match the pattern ``^[a-zA-Z_][a-zA-Z0-9_]*$``; you will not be able to use natural naming to access this object; using ``getattr()`` will still work, though\n",
      "  NaturalNameWarning)\n"
     ]
    },
    {
     "name": "stdout",
     "output_type": "stream",
     "text": [
      "(sim,lamb_da,p_rew,start,dose_quantity) =  (96, 0.10000000000000002, 1.0, 1, 0.1)\n",
      "{43}\n",
      "sim_96_p_rew_1_start_1_dq_0.1\n"
     ]
    },
    {
     "name": "stderr",
     "output_type": "stream",
     "text": [
      "/home/aiyappa/anaconda3/lib/python3.7/site-packages/tables/path.py:112: NaturalNameWarning: object name is not a valid Python identifier: 'sim_96_p_rew_1_start_1_dq_0.1'; it does not match the pattern ``^[a-zA-Z_][a-zA-Z0-9_]*$``; you will not be able to use natural naming to access this object; using ``getattr()`` will still work, though\n",
      "  NaturalNameWarning)\n"
     ]
    },
    {
     "name": "stdout",
     "output_type": "stream",
     "text": [
      "(sim,lamb_da,p_rew,start,dose_quantity) =  (96, 0.10000000000000002, 1.0, 1, 2)\n",
      "{59}\n",
      "sim_96_p_rew_1_start_1_dq_2\n",
      "(sim,lamb_da,p_rew,start,dose_quantity) =  (96, 0.10000000000000002, 1.0, 10, 0.1)\n",
      "Initial node infection step failed\n",
      "None\n",
      "{9, 46, 48, 23, 53, 87, 89, 61, 62, 63}\n",
      "sim_96_p_rew_1_start_10_dq_0.1\n"
     ]
    },
    {
     "name": "stderr",
     "output_type": "stream",
     "text": [
      "/home/aiyappa/anaconda3/lib/python3.7/site-packages/tables/path.py:112: NaturalNameWarning: object name is not a valid Python identifier: 'sim_96_p_rew_1_start_10_dq_0.1'; it does not match the pattern ``^[a-zA-Z_][a-zA-Z0-9_]*$``; you will not be able to use natural naming to access this object; using ``getattr()`` will still work, though\n",
      "  NaturalNameWarning)\n"
     ]
    },
    {
     "name": "stdout",
     "output_type": "stream",
     "text": [
      "(sim,lamb_da,p_rew,start,dose_quantity) =  (96, 0.10000000000000002, 1.0, 10, 2)\n",
      "{0, 98, 36, 40, 72, 48, 83, 85, 87, 31}\n",
      "sim_96_p_rew_1_start_10_dq_2\n",
      "(sim,lamb_da,p_rew,start,dose_quantity) =  (97, 0.001, 0.01, 1, 0.1)\n",
      "{8}\n",
      "sim_97_p_rew_0.01_start_1_dq_0.1\n"
     ]
    },
    {
     "name": "stderr",
     "output_type": "stream",
     "text": [
      "/home/aiyappa/anaconda3/lib/python3.7/site-packages/tables/path.py:112: NaturalNameWarning: object name is not a valid Python identifier: 'sim_97_p_rew_0.01_start_1_dq_0.1'; it does not match the pattern ``^[a-zA-Z_][a-zA-Z0-9_]*$``; you will not be able to use natural naming to access this object; using ``getattr()`` will still work, though\n",
      "  NaturalNameWarning)\n"
     ]
    },
    {
     "name": "stdout",
     "output_type": "stream",
     "text": [
      "(sim,lamb_da,p_rew,start,dose_quantity) =  (97, 0.001, 0.01, 1, 2)\n",
      "{5}\n",
      "sim_97_p_rew_0.01_start_1_dq_2\n"
     ]
    },
    {
     "name": "stderr",
     "output_type": "stream",
     "text": [
      "/home/aiyappa/anaconda3/lib/python3.7/site-packages/tables/path.py:112: NaturalNameWarning: object name is not a valid Python identifier: 'sim_97_p_rew_0.01_start_1_dq_2'; it does not match the pattern ``^[a-zA-Z_][a-zA-Z0-9_]*$``; you will not be able to use natural naming to access this object; using ``getattr()`` will still work, though\n",
      "  NaturalNameWarning)\n"
     ]
    },
    {
     "name": "stdout",
     "output_type": "stream",
     "text": [
      "(sim,lamb_da,p_rew,start,dose_quantity) =  (97, 0.001, 0.01, 10, 0.1)\n",
      "{3, 6, 14, 60, 51, 86, 23, 27, 92, 29}\n",
      "sim_97_p_rew_0.01_start_10_dq_0.1\n"
     ]
    },
    {
     "name": "stderr",
     "output_type": "stream",
     "text": [
      "/home/aiyappa/anaconda3/lib/python3.7/site-packages/tables/path.py:112: NaturalNameWarning: object name is not a valid Python identifier: 'sim_97_p_rew_0.01_start_10_dq_0.1'; it does not match the pattern ``^[a-zA-Z_][a-zA-Z0-9_]*$``; you will not be able to use natural naming to access this object; using ``getattr()`` will still work, though\n",
      "  NaturalNameWarning)\n"
     ]
    },
    {
     "name": "stdout",
     "output_type": "stream",
     "text": [
      "(sim,lamb_da,p_rew,start,dose_quantity) =  (97, 0.001, 0.01, 10, 2)\n",
      "{1, 99, 68, 37, 74, 75, 44, 55, 24, 92}\n",
      "sim_97_p_rew_0.01_start_10_dq_2\n"
     ]
    },
    {
     "name": "stderr",
     "output_type": "stream",
     "text": [
      "/home/aiyappa/anaconda3/lib/python3.7/site-packages/tables/path.py:112: NaturalNameWarning: object name is not a valid Python identifier: 'sim_97_p_rew_0.01_start_10_dq_2'; it does not match the pattern ``^[a-zA-Z_][a-zA-Z0-9_]*$``; you will not be able to use natural naming to access this object; using ``getattr()`` will still work, though\n",
      "  NaturalNameWarning)\n"
     ]
    },
    {
     "name": "stdout",
     "output_type": "stream",
     "text": [
      "(sim,lamb_da,p_rew,start,dose_quantity) =  (97, 0.01, 0.10000000000000002, 1, 0.1)\n",
      "{22}\n",
      "sim_97_p_rew_0.1_start_1_dq_0.1\n"
     ]
    },
    {
     "name": "stderr",
     "output_type": "stream",
     "text": [
      "/home/aiyappa/anaconda3/lib/python3.7/site-packages/tables/path.py:112: NaturalNameWarning: object name is not a valid Python identifier: 'sim_97_p_rew_0.1_start_1_dq_0.1'; it does not match the pattern ``^[a-zA-Z_][a-zA-Z0-9_]*$``; you will not be able to use natural naming to access this object; using ``getattr()`` will still work, though\n",
      "  NaturalNameWarning)\n"
     ]
    },
    {
     "name": "stdout",
     "output_type": "stream",
     "text": [
      "(sim,lamb_da,p_rew,start,dose_quantity) =  (97, 0.01, 0.10000000000000002, 1, 2)\n",
      "{4}\n",
      "sim_97_p_rew_0.1_start_1_dq_2\n"
     ]
    },
    {
     "name": "stderr",
     "output_type": "stream",
     "text": [
      "/home/aiyappa/anaconda3/lib/python3.7/site-packages/tables/path.py:112: NaturalNameWarning: object name is not a valid Python identifier: 'sim_97_p_rew_0.1_start_1_dq_2'; it does not match the pattern ``^[a-zA-Z_][a-zA-Z0-9_]*$``; you will not be able to use natural naming to access this object; using ``getattr()`` will still work, though\n",
      "  NaturalNameWarning)\n"
     ]
    },
    {
     "name": "stdout",
     "output_type": "stream",
     "text": [
      "(sim,lamb_da,p_rew,start,dose_quantity) =  (97, 0.01, 0.10000000000000002, 10, 0.1)\n",
      "{64, 97, 2, 33, 45, 47, 50, 54, 59, 29}\n",
      "sim_97_p_rew_0.1_start_10_dq_0.1\n"
     ]
    },
    {
     "name": "stderr",
     "output_type": "stream",
     "text": [
      "/home/aiyappa/anaconda3/lib/python3.7/site-packages/tables/path.py:112: NaturalNameWarning: object name is not a valid Python identifier: 'sim_97_p_rew_0.1_start_10_dq_0.1'; it does not match the pattern ``^[a-zA-Z_][a-zA-Z0-9_]*$``; you will not be able to use natural naming to access this object; using ``getattr()`` will still work, though\n",
      "  NaturalNameWarning)\n"
     ]
    },
    {
     "name": "stdout",
     "output_type": "stream",
     "text": [
      "(sim,lamb_da,p_rew,start,dose_quantity) =  (97, 0.01, 0.10000000000000002, 10, 2)\n",
      "{32, 64, 67, 49, 82, 50, 23, 25, 94, 57}\n",
      "sim_97_p_rew_0.1_start_10_dq_2\n"
     ]
    },
    {
     "name": "stderr",
     "output_type": "stream",
     "text": [
      "/home/aiyappa/anaconda3/lib/python3.7/site-packages/tables/path.py:112: NaturalNameWarning: object name is not a valid Python identifier: 'sim_97_p_rew_0.1_start_10_dq_2'; it does not match the pattern ``^[a-zA-Z_][a-zA-Z0-9_]*$``; you will not be able to use natural naming to access this object; using ``getattr()`` will still work, though\n",
      "  NaturalNameWarning)\n"
     ]
    },
    {
     "name": "stdout",
     "output_type": "stream",
     "text": [
      "(sim,lamb_da,p_rew,start,dose_quantity) =  (97, 0.10000000000000002, 1.0, 1, 0.1)\n",
      "{9}\n",
      "sim_97_p_rew_1_start_1_dq_0.1\n"
     ]
    },
    {
     "name": "stderr",
     "output_type": "stream",
     "text": [
      "/home/aiyappa/anaconda3/lib/python3.7/site-packages/tables/path.py:112: NaturalNameWarning: object name is not a valid Python identifier: 'sim_97_p_rew_1_start_1_dq_0.1'; it does not match the pattern ``^[a-zA-Z_][a-zA-Z0-9_]*$``; you will not be able to use natural naming to access this object; using ``getattr()`` will still work, though\n",
      "  NaturalNameWarning)\n"
     ]
    },
    {
     "name": "stdout",
     "output_type": "stream",
     "text": [
      "(sim,lamb_da,p_rew,start,dose_quantity) =  (97, 0.10000000000000002, 1.0, 1, 2)\n",
      "{11}\n",
      "sim_97_p_rew_1_start_1_dq_2\n",
      "(sim,lamb_da,p_rew,start,dose_quantity) =  (97, 0.10000000000000002, 1.0, 10, 0.1)\n",
      "{2, 99, 37, 69, 7, 46, 18, 85, 59, 94}\n",
      "sim_97_p_rew_1_start_10_dq_0.1\n"
     ]
    },
    {
     "name": "stderr",
     "output_type": "stream",
     "text": [
      "/home/aiyappa/anaconda3/lib/python3.7/site-packages/tables/path.py:112: NaturalNameWarning: object name is not a valid Python identifier: 'sim_97_p_rew_1_start_10_dq_0.1'; it does not match the pattern ``^[a-zA-Z_][a-zA-Z0-9_]*$``; you will not be able to use natural naming to access this object; using ``getattr()`` will still work, though\n",
      "  NaturalNameWarning)\n"
     ]
    },
    {
     "name": "stdout",
     "output_type": "stream",
     "text": [
      "(sim,lamb_da,p_rew,start,dose_quantity) =  (97, 0.10000000000000002, 1.0, 10, 2)\n",
      "{35, 70, 7, 71, 42, 75, 77, 29, 95, 31}\n",
      "sim_97_p_rew_1_start_10_dq_2\n",
      "(sim,lamb_da,p_rew,start,dose_quantity) =  (98, 0.001, 0.01, 1, 0.1)\n",
      "{13}\n",
      "sim_98_p_rew_0.01_start_1_dq_0.1\n"
     ]
    },
    {
     "name": "stderr",
     "output_type": "stream",
     "text": [
      "/home/aiyappa/anaconda3/lib/python3.7/site-packages/tables/path.py:112: NaturalNameWarning: object name is not a valid Python identifier: 'sim_98_p_rew_0.01_start_1_dq_0.1'; it does not match the pattern ``^[a-zA-Z_][a-zA-Z0-9_]*$``; you will not be able to use natural naming to access this object; using ``getattr()`` will still work, though\n",
      "  NaturalNameWarning)\n"
     ]
    },
    {
     "name": "stdout",
     "output_type": "stream",
     "text": [
      "(sim,lamb_da,p_rew,start,dose_quantity) =  (98, 0.001, 0.01, 1, 2)\n",
      "{44}\n",
      "sim_98_p_rew_0.01_start_1_dq_2\n"
     ]
    },
    {
     "name": "stderr",
     "output_type": "stream",
     "text": [
      "/home/aiyappa/anaconda3/lib/python3.7/site-packages/tables/path.py:112: NaturalNameWarning: object name is not a valid Python identifier: 'sim_98_p_rew_0.01_start_1_dq_2'; it does not match the pattern ``^[a-zA-Z_][a-zA-Z0-9_]*$``; you will not be able to use natural naming to access this object; using ``getattr()`` will still work, though\n",
      "  NaturalNameWarning)\n"
     ]
    },
    {
     "name": "stdout",
     "output_type": "stream",
     "text": [
      "(sim,lamb_da,p_rew,start,dose_quantity) =  (98, 0.001, 0.01, 10, 0.1)\n",
      "{97, 68, 7, 9, 17, 22, 87, 89, 90, 62}\n",
      "sim_98_p_rew_0.01_start_10_dq_0.1\n"
     ]
    },
    {
     "name": "stderr",
     "output_type": "stream",
     "text": [
      "/home/aiyappa/anaconda3/lib/python3.7/site-packages/tables/path.py:112: NaturalNameWarning: object name is not a valid Python identifier: 'sim_98_p_rew_0.01_start_10_dq_0.1'; it does not match the pattern ``^[a-zA-Z_][a-zA-Z0-9_]*$``; you will not be able to use natural naming to access this object; using ``getattr()`` will still work, though\n",
      "  NaturalNameWarning)\n"
     ]
    },
    {
     "name": "stdout",
     "output_type": "stream",
     "text": [
      "(sim,lamb_da,p_rew,start,dose_quantity) =  (98, 0.001, 0.01, 10, 2)\n",
      "{66, 35, 99, 37, 70, 81, 50, 20, 25, 95}\n",
      "sim_98_p_rew_0.01_start_10_dq_2\n"
     ]
    },
    {
     "name": "stderr",
     "output_type": "stream",
     "text": [
      "/home/aiyappa/anaconda3/lib/python3.7/site-packages/tables/path.py:112: NaturalNameWarning: object name is not a valid Python identifier: 'sim_98_p_rew_0.01_start_10_dq_2'; it does not match the pattern ``^[a-zA-Z_][a-zA-Z0-9_]*$``; you will not be able to use natural naming to access this object; using ``getattr()`` will still work, though\n",
      "  NaturalNameWarning)\n"
     ]
    },
    {
     "name": "stdout",
     "output_type": "stream",
     "text": [
      "(sim,lamb_da,p_rew,start,dose_quantity) =  (98, 0.01, 0.10000000000000002, 1, 0.1)\n",
      "{6}\n",
      "sim_98_p_rew_0.1_start_1_dq_0.1\n"
     ]
    },
    {
     "name": "stderr",
     "output_type": "stream",
     "text": [
      "/home/aiyappa/anaconda3/lib/python3.7/site-packages/tables/path.py:112: NaturalNameWarning: object name is not a valid Python identifier: 'sim_98_p_rew_0.1_start_1_dq_0.1'; it does not match the pattern ``^[a-zA-Z_][a-zA-Z0-9_]*$``; you will not be able to use natural naming to access this object; using ``getattr()`` will still work, though\n",
      "  NaturalNameWarning)\n"
     ]
    },
    {
     "name": "stdout",
     "output_type": "stream",
     "text": [
      "(sim,lamb_da,p_rew,start,dose_quantity) =  (98, 0.01, 0.10000000000000002, 1, 2)\n",
      "{33}\n",
      "sim_98_p_rew_0.1_start_1_dq_2\n"
     ]
    },
    {
     "name": "stderr",
     "output_type": "stream",
     "text": [
      "/home/aiyappa/anaconda3/lib/python3.7/site-packages/tables/path.py:112: NaturalNameWarning: object name is not a valid Python identifier: 'sim_98_p_rew_0.1_start_1_dq_2'; it does not match the pattern ``^[a-zA-Z_][a-zA-Z0-9_]*$``; you will not be able to use natural naming to access this object; using ``getattr()`` will still work, though\n",
      "  NaturalNameWarning)\n"
     ]
    },
    {
     "name": "stdout",
     "output_type": "stream",
     "text": [
      "(sim,lamb_da,p_rew,start,dose_quantity) =  (98, 0.01, 0.10000000000000002, 10, 0.1)\n",
      "{98, 37, 45, 48, 21, 22, 55, 26, 92, 29}\n",
      "sim_98_p_rew_0.1_start_10_dq_0.1\n"
     ]
    },
    {
     "name": "stderr",
     "output_type": "stream",
     "text": [
      "/home/aiyappa/anaconda3/lib/python3.7/site-packages/tables/path.py:112: NaturalNameWarning: object name is not a valid Python identifier: 'sim_98_p_rew_0.1_start_10_dq_0.1'; it does not match the pattern ``^[a-zA-Z_][a-zA-Z0-9_]*$``; you will not be able to use natural naming to access this object; using ``getattr()`` will still work, though\n",
      "  NaturalNameWarning)\n"
     ]
    },
    {
     "name": "stdout",
     "output_type": "stream",
     "text": [
      "(sim,lamb_da,p_rew,start,dose_quantity) =  (98, 0.01, 0.10000000000000002, 10, 2)\n",
      "{68, 69, 37, 75, 80, 17, 54, 55, 25, 58}\n",
      "sim_98_p_rew_0.1_start_10_dq_2\n"
     ]
    },
    {
     "name": "stderr",
     "output_type": "stream",
     "text": [
      "/home/aiyappa/anaconda3/lib/python3.7/site-packages/tables/path.py:112: NaturalNameWarning: object name is not a valid Python identifier: 'sim_98_p_rew_0.1_start_10_dq_2'; it does not match the pattern ``^[a-zA-Z_][a-zA-Z0-9_]*$``; you will not be able to use natural naming to access this object; using ``getattr()`` will still work, though\n",
      "  NaturalNameWarning)\n"
     ]
    },
    {
     "name": "stdout",
     "output_type": "stream",
     "text": [
      "(sim,lamb_da,p_rew,start,dose_quantity) =  (98, 0.10000000000000002, 1.0, 1, 0.1)\n",
      "{26}\n",
      "sim_98_p_rew_1_start_1_dq_0.1\n"
     ]
    },
    {
     "name": "stderr",
     "output_type": "stream",
     "text": [
      "/home/aiyappa/anaconda3/lib/python3.7/site-packages/tables/path.py:112: NaturalNameWarning: object name is not a valid Python identifier: 'sim_98_p_rew_1_start_1_dq_0.1'; it does not match the pattern ``^[a-zA-Z_][a-zA-Z0-9_]*$``; you will not be able to use natural naming to access this object; using ``getattr()`` will still work, though\n",
      "  NaturalNameWarning)\n"
     ]
    },
    {
     "name": "stdout",
     "output_type": "stream",
     "text": [
      "(sim,lamb_da,p_rew,start,dose_quantity) =  (98, 0.10000000000000002, 1.0, 1, 2)\n",
      "{92}\n",
      "sim_98_p_rew_1_start_1_dq_2\n",
      "(sim,lamb_da,p_rew,start,dose_quantity) =  (98, 0.10000000000000002, 1.0, 10, 0.1)\n",
      "{33, 65, 6, 41, 76, 46, 82, 52, 53, 85}\n",
      "sim_98_p_rew_1_start_10_dq_0.1\n"
     ]
    },
    {
     "name": "stderr",
     "output_type": "stream",
     "text": [
      "/home/aiyappa/anaconda3/lib/python3.7/site-packages/tables/path.py:112: NaturalNameWarning: object name is not a valid Python identifier: 'sim_98_p_rew_1_start_10_dq_0.1'; it does not match the pattern ``^[a-zA-Z_][a-zA-Z0-9_]*$``; you will not be able to use natural naming to access this object; using ``getattr()`` will still work, though\n",
      "  NaturalNameWarning)\n"
     ]
    },
    {
     "name": "stdout",
     "output_type": "stream",
     "text": [
      "(sim,lamb_da,p_rew,start,dose_quantity) =  (98, 0.10000000000000002, 1.0, 10, 2)\n",
      "{64, 33, 66, 2, 67, 11, 46, 47, 51, 31}\n",
      "sim_98_p_rew_1_start_10_dq_2\n",
      "(sim,lamb_da,p_rew,start,dose_quantity) =  (99, 0.001, 0.01, 1, 0.1)\n",
      "{96}\n",
      "sim_99_p_rew_0.01_start_1_dq_0.1\n"
     ]
    },
    {
     "name": "stderr",
     "output_type": "stream",
     "text": [
      "/home/aiyappa/anaconda3/lib/python3.7/site-packages/tables/path.py:112: NaturalNameWarning: object name is not a valid Python identifier: 'sim_99_p_rew_0.01_start_1_dq_0.1'; it does not match the pattern ``^[a-zA-Z_][a-zA-Z0-9_]*$``; you will not be able to use natural naming to access this object; using ``getattr()`` will still work, though\n",
      "  NaturalNameWarning)\n"
     ]
    },
    {
     "name": "stdout",
     "output_type": "stream",
     "text": [
      "(sim,lamb_da,p_rew,start,dose_quantity) =  (99, 0.001, 0.01, 1, 2)\n",
      "{51}\n",
      "sim_99_p_rew_0.01_start_1_dq_2\n"
     ]
    },
    {
     "name": "stderr",
     "output_type": "stream",
     "text": [
      "/home/aiyappa/anaconda3/lib/python3.7/site-packages/tables/path.py:112: NaturalNameWarning: object name is not a valid Python identifier: 'sim_99_p_rew_0.01_start_1_dq_2'; it does not match the pattern ``^[a-zA-Z_][a-zA-Z0-9_]*$``; you will not be able to use natural naming to access this object; using ``getattr()`` will still work, though\n",
      "  NaturalNameWarning)\n"
     ]
    },
    {
     "name": "stdout",
     "output_type": "stream",
     "text": [
      "(sim,lamb_da,p_rew,start,dose_quantity) =  (99, 0.001, 0.01, 10, 0.1)\n",
      "{98, 3, 4, 73, 76, 53, 23, 56, 91, 61}\n",
      "sim_99_p_rew_0.01_start_10_dq_0.1\n"
     ]
    },
    {
     "name": "stderr",
     "output_type": "stream",
     "text": [
      "/home/aiyappa/anaconda3/lib/python3.7/site-packages/tables/path.py:112: NaturalNameWarning: object name is not a valid Python identifier: 'sim_99_p_rew_0.01_start_10_dq_0.1'; it does not match the pattern ``^[a-zA-Z_][a-zA-Z0-9_]*$``; you will not be able to use natural naming to access this object; using ``getattr()`` will still work, though\n",
      "  NaturalNameWarning)\n"
     ]
    },
    {
     "name": "stdout",
     "output_type": "stream",
     "text": [
      "(sim,lamb_da,p_rew,start,dose_quantity) =  (99, 0.001, 0.01, 10, 2)\n",
      "{1, 66, 67, 99, 5, 19, 21, 87, 23, 90}\n",
      "sim_99_p_rew_0.01_start_10_dq_2\n"
     ]
    },
    {
     "name": "stderr",
     "output_type": "stream",
     "text": [
      "/home/aiyappa/anaconda3/lib/python3.7/site-packages/tables/path.py:112: NaturalNameWarning: object name is not a valid Python identifier: 'sim_99_p_rew_0.01_start_10_dq_2'; it does not match the pattern ``^[a-zA-Z_][a-zA-Z0-9_]*$``; you will not be able to use natural naming to access this object; using ``getattr()`` will still work, though\n",
      "  NaturalNameWarning)\n"
     ]
    },
    {
     "name": "stdout",
     "output_type": "stream",
     "text": [
      "(sim,lamb_da,p_rew,start,dose_quantity) =  (99, 0.01, 0.10000000000000002, 1, 0.1)\n",
      "{56}\n",
      "sim_99_p_rew_0.1_start_1_dq_0.1\n"
     ]
    },
    {
     "name": "stderr",
     "output_type": "stream",
     "text": [
      "/home/aiyappa/anaconda3/lib/python3.7/site-packages/tables/path.py:112: NaturalNameWarning: object name is not a valid Python identifier: 'sim_99_p_rew_0.1_start_1_dq_0.1'; it does not match the pattern ``^[a-zA-Z_][a-zA-Z0-9_]*$``; you will not be able to use natural naming to access this object; using ``getattr()`` will still work, though\n",
      "  NaturalNameWarning)\n"
     ]
    },
    {
     "name": "stdout",
     "output_type": "stream",
     "text": [
      "(sim,lamb_da,p_rew,start,dose_quantity) =  (99, 0.01, 0.10000000000000002, 1, 2)\n",
      "{98}\n",
      "sim_99_p_rew_0.1_start_1_dq_2\n"
     ]
    },
    {
     "name": "stderr",
     "output_type": "stream",
     "text": [
      "/home/aiyappa/anaconda3/lib/python3.7/site-packages/tables/path.py:112: NaturalNameWarning: object name is not a valid Python identifier: 'sim_99_p_rew_0.1_start_1_dq_2'; it does not match the pattern ``^[a-zA-Z_][a-zA-Z0-9_]*$``; you will not be able to use natural naming to access this object; using ``getattr()`` will still work, though\n",
      "  NaturalNameWarning)\n"
     ]
    },
    {
     "name": "stdout",
     "output_type": "stream",
     "text": [
      "(sim,lamb_da,p_rew,start,dose_quantity) =  (99, 0.01, 0.10000000000000002, 10, 0.1)\n",
      "{96, 64, 5, 76, 16, 53, 88, 89, 26, 95}\n",
      "sim_99_p_rew_0.1_start_10_dq_0.1\n"
     ]
    },
    {
     "name": "stderr",
     "output_type": "stream",
     "text": [
      "/home/aiyappa/anaconda3/lib/python3.7/site-packages/tables/path.py:112: NaturalNameWarning: object name is not a valid Python identifier: 'sim_99_p_rew_0.1_start_10_dq_0.1'; it does not match the pattern ``^[a-zA-Z_][a-zA-Z0-9_]*$``; you will not be able to use natural naming to access this object; using ``getattr()`` will still work, though\n",
      "  NaturalNameWarning)\n"
     ]
    },
    {
     "name": "stdout",
     "output_type": "stream",
     "text": [
      "(sim,lamb_da,p_rew,start,dose_quantity) =  (99, 0.01, 0.10000000000000002, 10, 2)\n",
      "{6, 71, 9, 78, 46, 18, 86, 89, 90, 27}\n",
      "sim_99_p_rew_0.1_start_10_dq_2\n"
     ]
    },
    {
     "name": "stderr",
     "output_type": "stream",
     "text": [
      "/home/aiyappa/anaconda3/lib/python3.7/site-packages/tables/path.py:112: NaturalNameWarning: object name is not a valid Python identifier: 'sim_99_p_rew_0.1_start_10_dq_2'; it does not match the pattern ``^[a-zA-Z_][a-zA-Z0-9_]*$``; you will not be able to use natural naming to access this object; using ``getattr()`` will still work, though\n",
      "  NaturalNameWarning)\n"
     ]
    },
    {
     "name": "stdout",
     "output_type": "stream",
     "text": [
      "(sim,lamb_da,p_rew,start,dose_quantity) =  (99, 0.10000000000000002, 1.0, 1, 0.1)\n",
      "{22}\n",
      "sim_99_p_rew_1_start_1_dq_0.1\n"
     ]
    },
    {
     "name": "stderr",
     "output_type": "stream",
     "text": [
      "/home/aiyappa/anaconda3/lib/python3.7/site-packages/tables/path.py:112: NaturalNameWarning: object name is not a valid Python identifier: 'sim_99_p_rew_1_start_1_dq_0.1'; it does not match the pattern ``^[a-zA-Z_][a-zA-Z0-9_]*$``; you will not be able to use natural naming to access this object; using ``getattr()`` will still work, though\n",
      "  NaturalNameWarning)\n"
     ]
    },
    {
     "name": "stdout",
     "output_type": "stream",
     "text": [
      "(sim,lamb_da,p_rew,start,dose_quantity) =  (99, 0.10000000000000002, 1.0, 1, 2)\n",
      "{64}\n",
      "sim_99_p_rew_1_start_1_dq_2\n",
      "(sim,lamb_da,p_rew,start,dose_quantity) =  (99, 0.10000000000000002, 1.0, 10, 0.1)\n",
      "{99, 69, 39, 40, 76, 16, 52, 57, 58, 59}\n",
      "sim_99_p_rew_1_start_10_dq_0.1\n"
     ]
    },
    {
     "name": "stderr",
     "output_type": "stream",
     "text": [
      "/home/aiyappa/anaconda3/lib/python3.7/site-packages/tables/path.py:112: NaturalNameWarning: object name is not a valid Python identifier: 'sim_99_p_rew_1_start_10_dq_0.1'; it does not match the pattern ``^[a-zA-Z_][a-zA-Z0-9_]*$``; you will not be able to use natural naming to access this object; using ``getattr()`` will still work, though\n",
      "  NaturalNameWarning)\n"
     ]
    },
    {
     "name": "stdout",
     "output_type": "stream",
     "text": [
      "(sim,lamb_da,p_rew,start,dose_quantity) =  (99, 0.10000000000000002, 1.0, 10, 2)\n",
      "{64, 34, 5, 70, 45, 50, 51, 19, 86, 91}\n",
      "sim_99_p_rew_1_start_10_dq_2\n",
      "(sim,lamb_da,p_rew,start,dose_quantity) =  (100, 0.001, 0.01, 1, 0.1)\n",
      "{92}\n",
      "sim_100_p_rew_0.01_start_1_dq_0.1\n"
     ]
    },
    {
     "name": "stderr",
     "output_type": "stream",
     "text": [
      "/home/aiyappa/anaconda3/lib/python3.7/site-packages/tables/path.py:112: NaturalNameWarning: object name is not a valid Python identifier: 'sim_100_p_rew_0.01_start_1_dq_0.1'; it does not match the pattern ``^[a-zA-Z_][a-zA-Z0-9_]*$``; you will not be able to use natural naming to access this object; using ``getattr()`` will still work, though\n",
      "  NaturalNameWarning)\n"
     ]
    },
    {
     "name": "stdout",
     "output_type": "stream",
     "text": [
      "(sim,lamb_da,p_rew,start,dose_quantity) =  (100, 0.001, 0.01, 1, 2)\n",
      "{42}\n",
      "sim_100_p_rew_0.01_start_1_dq_2\n"
     ]
    },
    {
     "name": "stderr",
     "output_type": "stream",
     "text": [
      "/home/aiyappa/anaconda3/lib/python3.7/site-packages/tables/path.py:112: NaturalNameWarning: object name is not a valid Python identifier: 'sim_100_p_rew_0.01_start_1_dq_2'; it does not match the pattern ``^[a-zA-Z_][a-zA-Z0-9_]*$``; you will not be able to use natural naming to access this object; using ``getattr()`` will still work, though\n",
      "  NaturalNameWarning)\n"
     ]
    },
    {
     "name": "stdout",
     "output_type": "stream",
     "text": [
      "(sim,lamb_da,p_rew,start,dose_quantity) =  (100, 0.001, 0.01, 10, 0.1)\n",
      "{97, 6, 27, 42, 76, 19, 54, 22, 59, 95}\n",
      "sim_100_p_rew_0.01_start_10_dq_0.1\n"
     ]
    },
    {
     "name": "stderr",
     "output_type": "stream",
     "text": [
      "/home/aiyappa/anaconda3/lib/python3.7/site-packages/tables/path.py:112: NaturalNameWarning: object name is not a valid Python identifier: 'sim_100_p_rew_0.01_start_10_dq_0.1'; it does not match the pattern ``^[a-zA-Z_][a-zA-Z0-9_]*$``; you will not be able to use natural naming to access this object; using ``getattr()`` will still work, though\n",
      "  NaturalNameWarning)\n"
     ]
    },
    {
     "name": "stdout",
     "output_type": "stream",
     "text": [
      "(sim,lamb_da,p_rew,start,dose_quantity) =  (100, 0.001, 0.01, 10, 2)\n",
      "{32, 33, 66, 74, 48, 17, 83, 52, 90, 94}\n",
      "sim_100_p_rew_0.01_start_10_dq_2\n"
     ]
    },
    {
     "name": "stderr",
     "output_type": "stream",
     "text": [
      "/home/aiyappa/anaconda3/lib/python3.7/site-packages/tables/path.py:112: NaturalNameWarning: object name is not a valid Python identifier: 'sim_100_p_rew_0.01_start_10_dq_2'; it does not match the pattern ``^[a-zA-Z_][a-zA-Z0-9_]*$``; you will not be able to use natural naming to access this object; using ``getattr()`` will still work, though\n",
      "  NaturalNameWarning)\n"
     ]
    },
    {
     "name": "stdout",
     "output_type": "stream",
     "text": [
      "(sim,lamb_da,p_rew,start,dose_quantity) =  (100, 0.01, 0.10000000000000002, 1, 0.1)\n",
      "{95}\n",
      "sim_100_p_rew_0.1_start_1_dq_0.1\n"
     ]
    },
    {
     "name": "stderr",
     "output_type": "stream",
     "text": [
      "/home/aiyappa/anaconda3/lib/python3.7/site-packages/tables/path.py:112: NaturalNameWarning: object name is not a valid Python identifier: 'sim_100_p_rew_0.1_start_1_dq_0.1'; it does not match the pattern ``^[a-zA-Z_][a-zA-Z0-9_]*$``; you will not be able to use natural naming to access this object; using ``getattr()`` will still work, though\n",
      "  NaturalNameWarning)\n"
     ]
    },
    {
     "name": "stdout",
     "output_type": "stream",
     "text": [
      "(sim,lamb_da,p_rew,start,dose_quantity) =  (100, 0.01, 0.10000000000000002, 1, 2)\n",
      "{81}\n",
      "sim_100_p_rew_0.1_start_1_dq_2\n"
     ]
    },
    {
     "name": "stderr",
     "output_type": "stream",
     "text": [
      "/home/aiyappa/anaconda3/lib/python3.7/site-packages/tables/path.py:112: NaturalNameWarning: object name is not a valid Python identifier: 'sim_100_p_rew_0.1_start_1_dq_2'; it does not match the pattern ``^[a-zA-Z_][a-zA-Z0-9_]*$``; you will not be able to use natural naming to access this object; using ``getattr()`` will still work, though\n",
      "  NaturalNameWarning)\n"
     ]
    },
    {
     "name": "stdout",
     "output_type": "stream",
     "text": [
      "(sim,lamb_da,p_rew,start,dose_quantity) =  (100, 0.01, 0.10000000000000002, 10, 0.1)\n",
      "{32, 68, 6, 39, 11, 44, 53, 54, 23, 28}\n",
      "sim_100_p_rew_0.1_start_10_dq_0.1\n"
     ]
    },
    {
     "name": "stderr",
     "output_type": "stream",
     "text": [
      "/home/aiyappa/anaconda3/lib/python3.7/site-packages/tables/path.py:112: NaturalNameWarning: object name is not a valid Python identifier: 'sim_100_p_rew_0.1_start_10_dq_0.1'; it does not match the pattern ``^[a-zA-Z_][a-zA-Z0-9_]*$``; you will not be able to use natural naming to access this object; using ``getattr()`` will still work, though\n",
      "  NaturalNameWarning)\n"
     ]
    },
    {
     "name": "stdout",
     "output_type": "stream",
     "text": [
      "(sim,lamb_da,p_rew,start,dose_quantity) =  (100, 0.01, 0.10000000000000002, 10, 2)\n",
      "{0, 1, 5, 70, 9, 74, 12, 77, 86, 29}\n",
      "sim_100_p_rew_0.1_start_10_dq_2\n"
     ]
    },
    {
     "name": "stderr",
     "output_type": "stream",
     "text": [
      "/home/aiyappa/anaconda3/lib/python3.7/site-packages/tables/path.py:112: NaturalNameWarning: object name is not a valid Python identifier: 'sim_100_p_rew_0.1_start_10_dq_2'; it does not match the pattern ``^[a-zA-Z_][a-zA-Z0-9_]*$``; you will not be able to use natural naming to access this object; using ``getattr()`` will still work, though\n",
      "  NaturalNameWarning)\n"
     ]
    },
    {
     "name": "stdout",
     "output_type": "stream",
     "text": [
      "(sim,lamb_da,p_rew,start,dose_quantity) =  (100, 0.10000000000000002, 1.0, 1, 0.1)\n",
      "{69}\n",
      "sim_100_p_rew_1_start_1_dq_0.1\n"
     ]
    },
    {
     "name": "stderr",
     "output_type": "stream",
     "text": [
      "/home/aiyappa/anaconda3/lib/python3.7/site-packages/tables/path.py:112: NaturalNameWarning: object name is not a valid Python identifier: 'sim_100_p_rew_1_start_1_dq_0.1'; it does not match the pattern ``^[a-zA-Z_][a-zA-Z0-9_]*$``; you will not be able to use natural naming to access this object; using ``getattr()`` will still work, though\n",
      "  NaturalNameWarning)\n"
     ]
    },
    {
     "name": "stdout",
     "output_type": "stream",
     "text": [
      "(sim,lamb_da,p_rew,start,dose_quantity) =  (100, 0.10000000000000002, 1.0, 1, 2)\n",
      "{7}\n",
      "sim_100_p_rew_1_start_1_dq_2\n",
      "(sim,lamb_da,p_rew,start,dose_quantity) =  (100, 0.10000000000000002, 1.0, 10, 0.1)\n",
      "{33, 99, 35, 5, 74, 77, 85, 54, 88, 59}\n",
      "sim_100_p_rew_1_start_10_dq_0.1\n"
     ]
    },
    {
     "name": "stderr",
     "output_type": "stream",
     "text": [
      "/home/aiyappa/anaconda3/lib/python3.7/site-packages/tables/path.py:112: NaturalNameWarning: object name is not a valid Python identifier: 'sim_100_p_rew_1_start_10_dq_0.1'; it does not match the pattern ``^[a-zA-Z_][a-zA-Z0-9_]*$``; you will not be able to use natural naming to access this object; using ``getattr()`` will still work, though\n",
      "  NaturalNameWarning)\n"
     ]
    },
    {
     "name": "stdout",
     "output_type": "stream",
     "text": [
      "(sim,lamb_da,p_rew,start,dose_quantity) =  (100, 0.10000000000000002, 1.0, 10, 2)\n",
      "{1, 70, 39, 71, 45, 20, 55, 24, 28, 93}\n",
      "sim_100_p_rew_1_start_10_dq_2\n",
      "(sim,lamb_da,p_rew,start,dose_quantity) =  (101, 0.001, 0.01, 1, 0.1)\n",
      "{40}\n",
      "sim_101_p_rew_0.01_start_1_dq_0.1\n"
     ]
    },
    {
     "name": "stderr",
     "output_type": "stream",
     "text": [
      "/home/aiyappa/anaconda3/lib/python3.7/site-packages/tables/path.py:112: NaturalNameWarning: object name is not a valid Python identifier: 'sim_101_p_rew_0.01_start_1_dq_0.1'; it does not match the pattern ``^[a-zA-Z_][a-zA-Z0-9_]*$``; you will not be able to use natural naming to access this object; using ``getattr()`` will still work, though\n",
      "  NaturalNameWarning)\n"
     ]
    },
    {
     "name": "stdout",
     "output_type": "stream",
     "text": [
      "(sim,lamb_da,p_rew,start,dose_quantity) =  (101, 0.001, 0.01, 1, 2)\n",
      "{6}\n",
      "sim_101_p_rew_0.01_start_1_dq_2\n"
     ]
    },
    {
     "name": "stderr",
     "output_type": "stream",
     "text": [
      "/home/aiyappa/anaconda3/lib/python3.7/site-packages/tables/path.py:112: NaturalNameWarning: object name is not a valid Python identifier: 'sim_101_p_rew_0.01_start_1_dq_2'; it does not match the pattern ``^[a-zA-Z_][a-zA-Z0-9_]*$``; you will not be able to use natural naming to access this object; using ``getattr()`` will still work, though\n",
      "  NaturalNameWarning)\n"
     ]
    },
    {
     "name": "stdout",
     "output_type": "stream",
     "text": [
      "(sim,lamb_da,p_rew,start,dose_quantity) =  (101, 0.001, 0.01, 10, 0.1)\n",
      "{65, 97, 41, 9, 14, 17, 50, 21, 53, 58}\n",
      "sim_101_p_rew_0.01_start_10_dq_0.1\n"
     ]
    },
    {
     "name": "stderr",
     "output_type": "stream",
     "text": [
      "/home/aiyappa/anaconda3/lib/python3.7/site-packages/tables/path.py:112: NaturalNameWarning: object name is not a valid Python identifier: 'sim_101_p_rew_0.01_start_10_dq_0.1'; it does not match the pattern ``^[a-zA-Z_][a-zA-Z0-9_]*$``; you will not be able to use natural naming to access this object; using ``getattr()`` will still work, though\n",
      "  NaturalNameWarning)\n"
     ]
    },
    {
     "name": "stdout",
     "output_type": "stream",
     "text": [
      "(sim,lamb_da,p_rew,start,dose_quantity) =  (101, 0.001, 0.01, 10, 2)\n",
      "{0, 3, 36, 69, 8, 43, 13, 89, 90, 29}\n",
      "sim_101_p_rew_0.01_start_10_dq_2\n"
     ]
    },
    {
     "name": "stderr",
     "output_type": "stream",
     "text": [
      "/home/aiyappa/anaconda3/lib/python3.7/site-packages/tables/path.py:112: NaturalNameWarning: object name is not a valid Python identifier: 'sim_101_p_rew_0.01_start_10_dq_2'; it does not match the pattern ``^[a-zA-Z_][a-zA-Z0-9_]*$``; you will not be able to use natural naming to access this object; using ``getattr()`` will still work, though\n",
      "  NaturalNameWarning)\n"
     ]
    },
    {
     "name": "stdout",
     "output_type": "stream",
     "text": [
      "(sim,lamb_da,p_rew,start,dose_quantity) =  (101, 0.01, 0.10000000000000002, 1, 0.1)\n",
      "{73}\n",
      "sim_101_p_rew_0.1_start_1_dq_0.1\n"
     ]
    },
    {
     "name": "stderr",
     "output_type": "stream",
     "text": [
      "/home/aiyappa/anaconda3/lib/python3.7/site-packages/tables/path.py:112: NaturalNameWarning: object name is not a valid Python identifier: 'sim_101_p_rew_0.1_start_1_dq_0.1'; it does not match the pattern ``^[a-zA-Z_][a-zA-Z0-9_]*$``; you will not be able to use natural naming to access this object; using ``getattr()`` will still work, though\n",
      "  NaturalNameWarning)\n"
     ]
    },
    {
     "name": "stdout",
     "output_type": "stream",
     "text": [
      "(sim,lamb_da,p_rew,start,dose_quantity) =  (101, 0.01, 0.10000000000000002, 1, 2)\n",
      "{64}\n",
      "sim_101_p_rew_0.1_start_1_dq_2\n"
     ]
    },
    {
     "name": "stderr",
     "output_type": "stream",
     "text": [
      "/home/aiyappa/anaconda3/lib/python3.7/site-packages/tables/path.py:112: NaturalNameWarning: object name is not a valid Python identifier: 'sim_101_p_rew_0.1_start_1_dq_2'; it does not match the pattern ``^[a-zA-Z_][a-zA-Z0-9_]*$``; you will not be able to use natural naming to access this object; using ``getattr()`` will still work, though\n",
      "  NaturalNameWarning)\n"
     ]
    },
    {
     "name": "stdout",
     "output_type": "stream",
     "text": [
      "(sim,lamb_da,p_rew,start,dose_quantity) =  (101, 0.01, 0.10000000000000002, 10, 0.1)\n",
      "{96, 67, 40, 10, 14, 78, 82, 25, 28, 94}\n",
      "sim_101_p_rew_0.1_start_10_dq_0.1\n"
     ]
    },
    {
     "name": "stderr",
     "output_type": "stream",
     "text": [
      "/home/aiyappa/anaconda3/lib/python3.7/site-packages/tables/path.py:112: NaturalNameWarning: object name is not a valid Python identifier: 'sim_101_p_rew_0.1_start_10_dq_0.1'; it does not match the pattern ``^[a-zA-Z_][a-zA-Z0-9_]*$``; you will not be able to use natural naming to access this object; using ``getattr()`` will still work, though\n",
      "  NaturalNameWarning)\n"
     ]
    },
    {
     "name": "stdout",
     "output_type": "stream",
     "text": [
      "(sim,lamb_da,p_rew,start,dose_quantity) =  (101, 0.01, 0.10000000000000002, 10, 2)\n",
      "{33, 45, 22, 87, 25, 90, 91, 92, 63, 57}\n",
      "sim_101_p_rew_0.1_start_10_dq_2\n"
     ]
    },
    {
     "name": "stderr",
     "output_type": "stream",
     "text": [
      "/home/aiyappa/anaconda3/lib/python3.7/site-packages/tables/path.py:112: NaturalNameWarning: object name is not a valid Python identifier: 'sim_101_p_rew_0.1_start_10_dq_2'; it does not match the pattern ``^[a-zA-Z_][a-zA-Z0-9_]*$``; you will not be able to use natural naming to access this object; using ``getattr()`` will still work, though\n",
      "  NaturalNameWarning)\n"
     ]
    },
    {
     "name": "stdout",
     "output_type": "stream",
     "text": [
      "(sim,lamb_da,p_rew,start,dose_quantity) =  (101, 0.10000000000000002, 1.0, 1, 0.1)\n",
      "{5}\n",
      "sim_101_p_rew_1_start_1_dq_0.1\n"
     ]
    },
    {
     "name": "stderr",
     "output_type": "stream",
     "text": [
      "/home/aiyappa/anaconda3/lib/python3.7/site-packages/tables/path.py:112: NaturalNameWarning: object name is not a valid Python identifier: 'sim_101_p_rew_1_start_1_dq_0.1'; it does not match the pattern ``^[a-zA-Z_][a-zA-Z0-9_]*$``; you will not be able to use natural naming to access this object; using ``getattr()`` will still work, though\n",
      "  NaturalNameWarning)\n"
     ]
    },
    {
     "name": "stdout",
     "output_type": "stream",
     "text": [
      "(sim,lamb_da,p_rew,start,dose_quantity) =  (101, 0.10000000000000002, 1.0, 1, 2)\n",
      "{68}\n",
      "sim_101_p_rew_1_start_1_dq_2\n",
      "(sim,lamb_da,p_rew,start,dose_quantity) =  (101, 0.10000000000000002, 1.0, 10, 0.1)\n",
      "{6, 39, 8, 11, 14, 79, 51, 88, 89, 94}\n",
      "sim_101_p_rew_1_start_10_dq_0.1\n"
     ]
    },
    {
     "name": "stderr",
     "output_type": "stream",
     "text": [
      "/home/aiyappa/anaconda3/lib/python3.7/site-packages/tables/path.py:112: NaturalNameWarning: object name is not a valid Python identifier: 'sim_101_p_rew_1_start_10_dq_0.1'; it does not match the pattern ``^[a-zA-Z_][a-zA-Z0-9_]*$``; you will not be able to use natural naming to access this object; using ``getattr()`` will still work, though\n",
      "  NaturalNameWarning)\n"
     ]
    },
    {
     "name": "stdout",
     "output_type": "stream",
     "text": [
      "(sim,lamb_da,p_rew,start,dose_quantity) =  (101, 0.10000000000000002, 1.0, 10, 2)\n",
      "{65, 5, 69, 41, 10, 13, 49, 52, 89, 31}\n",
      "sim_101_p_rew_1_start_10_dq_2\n",
      "(sim,lamb_da,p_rew,start,dose_quantity) =  (102, 0.001, 0.01, 1, 0.1)\n",
      "{76}\n",
      "sim_102_p_rew_0.01_start_1_dq_0.1\n"
     ]
    },
    {
     "name": "stderr",
     "output_type": "stream",
     "text": [
      "/home/aiyappa/anaconda3/lib/python3.7/site-packages/tables/path.py:112: NaturalNameWarning: object name is not a valid Python identifier: 'sim_102_p_rew_0.01_start_1_dq_0.1'; it does not match the pattern ``^[a-zA-Z_][a-zA-Z0-9_]*$``; you will not be able to use natural naming to access this object; using ``getattr()`` will still work, though\n",
      "  NaturalNameWarning)\n"
     ]
    },
    {
     "name": "stdout",
     "output_type": "stream",
     "text": [
      "(sim,lamb_da,p_rew,start,dose_quantity) =  (102, 0.001, 0.01, 1, 2)\n",
      "{50}\n",
      "sim_102_p_rew_0.01_start_1_dq_2\n"
     ]
    },
    {
     "name": "stderr",
     "output_type": "stream",
     "text": [
      "/home/aiyappa/anaconda3/lib/python3.7/site-packages/tables/path.py:112: NaturalNameWarning: object name is not a valid Python identifier: 'sim_102_p_rew_0.01_start_1_dq_2'; it does not match the pattern ``^[a-zA-Z_][a-zA-Z0-9_]*$``; you will not be able to use natural naming to access this object; using ``getattr()`` will still work, though\n",
      "  NaturalNameWarning)\n"
     ]
    },
    {
     "name": "stdout",
     "output_type": "stream",
     "text": [
      "(sim,lamb_da,p_rew,start,dose_quantity) =  (102, 0.001, 0.01, 10, 0.1)\n",
      "{1, 34, 67, 3, 33, 39, 73, 88, 57, 31}\n",
      "sim_102_p_rew_0.01_start_10_dq_0.1\n"
     ]
    },
    {
     "name": "stderr",
     "output_type": "stream",
     "text": [
      "/home/aiyappa/anaconda3/lib/python3.7/site-packages/tables/path.py:112: NaturalNameWarning: object name is not a valid Python identifier: 'sim_102_p_rew_0.01_start_10_dq_0.1'; it does not match the pattern ``^[a-zA-Z_][a-zA-Z0-9_]*$``; you will not be able to use natural naming to access this object; using ``getattr()`` will still work, though\n",
      "  NaturalNameWarning)\n"
     ]
    },
    {
     "name": "stdout",
     "output_type": "stream",
     "text": [
      "(sim,lamb_da,p_rew,start,dose_quantity) =  (102, 0.001, 0.01, 10, 2)\n",
      "{98, 99, 5, 71, 73, 42, 46, 20, 55, 90}\n",
      "sim_102_p_rew_0.01_start_10_dq_2\n"
     ]
    },
    {
     "name": "stderr",
     "output_type": "stream",
     "text": [
      "/home/aiyappa/anaconda3/lib/python3.7/site-packages/tables/path.py:112: NaturalNameWarning: object name is not a valid Python identifier: 'sim_102_p_rew_0.01_start_10_dq_2'; it does not match the pattern ``^[a-zA-Z_][a-zA-Z0-9_]*$``; you will not be able to use natural naming to access this object; using ``getattr()`` will still work, though\n",
      "  NaturalNameWarning)\n"
     ]
    },
    {
     "name": "stdout",
     "output_type": "stream",
     "text": [
      "(sim,lamb_da,p_rew,start,dose_quantity) =  (102, 0.01, 0.10000000000000002, 1, 0.1)\n",
      "{64}\n",
      "sim_102_p_rew_0.1_start_1_dq_0.1\n"
     ]
    },
    {
     "name": "stderr",
     "output_type": "stream",
     "text": [
      "/home/aiyappa/anaconda3/lib/python3.7/site-packages/tables/path.py:112: NaturalNameWarning: object name is not a valid Python identifier: 'sim_102_p_rew_0.1_start_1_dq_0.1'; it does not match the pattern ``^[a-zA-Z_][a-zA-Z0-9_]*$``; you will not be able to use natural naming to access this object; using ``getattr()`` will still work, though\n",
      "  NaturalNameWarning)\n"
     ]
    },
    {
     "name": "stdout",
     "output_type": "stream",
     "text": [
      "(sim,lamb_da,p_rew,start,dose_quantity) =  (102, 0.01, 0.10000000000000002, 1, 2)\n",
      "{40}\n",
      "sim_102_p_rew_0.1_start_1_dq_2\n"
     ]
    },
    {
     "name": "stderr",
     "output_type": "stream",
     "text": [
      "/home/aiyappa/anaconda3/lib/python3.7/site-packages/tables/path.py:112: NaturalNameWarning: object name is not a valid Python identifier: 'sim_102_p_rew_0.1_start_1_dq_2'; it does not match the pattern ``^[a-zA-Z_][a-zA-Z0-9_]*$``; you will not be able to use natural naming to access this object; using ``getattr()`` will still work, though\n",
      "  NaturalNameWarning)\n"
     ]
    },
    {
     "name": "stdout",
     "output_type": "stream",
     "text": [
      "(sim,lamb_da,p_rew,start,dose_quantity) =  (102, 0.01, 0.10000000000000002, 10, 0.1)\n",
      "{0, 2, 36, 7, 71, 45, 49, 84, 88, 63}\n",
      "sim_102_p_rew_0.1_start_10_dq_0.1\n"
     ]
    },
    {
     "name": "stderr",
     "output_type": "stream",
     "text": [
      "/home/aiyappa/anaconda3/lib/python3.7/site-packages/tables/path.py:112: NaturalNameWarning: object name is not a valid Python identifier: 'sim_102_p_rew_0.1_start_10_dq_0.1'; it does not match the pattern ``^[a-zA-Z_][a-zA-Z0-9_]*$``; you will not be able to use natural naming to access this object; using ``getattr()`` will still work, though\n",
      "  NaturalNameWarning)\n"
     ]
    },
    {
     "name": "stdout",
     "output_type": "stream",
     "text": [
      "(sim,lamb_da,p_rew,start,dose_quantity) =  (102, 0.01, 0.10000000000000002, 10, 2)\n",
      "{96, 66, 69, 5, 19, 53, 58, 60, 94, 31}\n",
      "sim_102_p_rew_0.1_start_10_dq_2\n"
     ]
    },
    {
     "name": "stderr",
     "output_type": "stream",
     "text": [
      "/home/aiyappa/anaconda3/lib/python3.7/site-packages/tables/path.py:112: NaturalNameWarning: object name is not a valid Python identifier: 'sim_102_p_rew_0.1_start_10_dq_2'; it does not match the pattern ``^[a-zA-Z_][a-zA-Z0-9_]*$``; you will not be able to use natural naming to access this object; using ``getattr()`` will still work, though\n",
      "  NaturalNameWarning)\n"
     ]
    },
    {
     "name": "stdout",
     "output_type": "stream",
     "text": [
      "(sim,lamb_da,p_rew,start,dose_quantity) =  (102, 0.10000000000000002, 1.0, 1, 0.1)\n",
      "{92}\n",
      "sim_102_p_rew_1_start_1_dq_0.1\n"
     ]
    },
    {
     "name": "stderr",
     "output_type": "stream",
     "text": [
      "/home/aiyappa/anaconda3/lib/python3.7/site-packages/tables/path.py:112: NaturalNameWarning: object name is not a valid Python identifier: 'sim_102_p_rew_1_start_1_dq_0.1'; it does not match the pattern ``^[a-zA-Z_][a-zA-Z0-9_]*$``; you will not be able to use natural naming to access this object; using ``getattr()`` will still work, though\n",
      "  NaturalNameWarning)\n"
     ]
    },
    {
     "name": "stdout",
     "output_type": "stream",
     "text": [
      "(sim,lamb_da,p_rew,start,dose_quantity) =  (102, 0.10000000000000002, 1.0, 1, 2)\n",
      "{54}\n",
      "sim_102_p_rew_1_start_1_dq_2\n",
      "(sim,lamb_da,p_rew,start,dose_quantity) =  (102, 0.10000000000000002, 1.0, 10, 0.1)\n",
      "{35, 4, 90, 9, 74, 80, 17, 51, 22, 26}\n",
      "sim_102_p_rew_1_start_10_dq_0.1\n"
     ]
    },
    {
     "name": "stderr",
     "output_type": "stream",
     "text": [
      "/home/aiyappa/anaconda3/lib/python3.7/site-packages/tables/path.py:112: NaturalNameWarning: object name is not a valid Python identifier: 'sim_102_p_rew_1_start_10_dq_0.1'; it does not match the pattern ``^[a-zA-Z_][a-zA-Z0-9_]*$``; you will not be able to use natural naming to access this object; using ``getattr()`` will still work, though\n",
      "  NaturalNameWarning)\n"
     ]
    },
    {
     "name": "stdout",
     "output_type": "stream",
     "text": [
      "(sim,lamb_da,p_rew,start,dose_quantity) =  (102, 0.10000000000000002, 1.0, 10, 2)\n",
      "{1, 98, 68, 74, 12, 45, 20, 85, 23, 29}\n",
      "sim_102_p_rew_1_start_10_dq_2\n",
      "(sim,lamb_da,p_rew,start,dose_quantity) =  (103, 0.001, 0.01, 1, 0.1)\n",
      "{98}\n",
      "sim_103_p_rew_0.01_start_1_dq_0.1\n"
     ]
    },
    {
     "name": "stderr",
     "output_type": "stream",
     "text": [
      "/home/aiyappa/anaconda3/lib/python3.7/site-packages/tables/path.py:112: NaturalNameWarning: object name is not a valid Python identifier: 'sim_103_p_rew_0.01_start_1_dq_0.1'; it does not match the pattern ``^[a-zA-Z_][a-zA-Z0-9_]*$``; you will not be able to use natural naming to access this object; using ``getattr()`` will still work, though\n",
      "  NaturalNameWarning)\n"
     ]
    },
    {
     "name": "stdout",
     "output_type": "stream",
     "text": [
      "(sim,lamb_da,p_rew,start,dose_quantity) =  (103, 0.001, 0.01, 1, 2)\n",
      "{35}\n",
      "sim_103_p_rew_0.01_start_1_dq_2\n"
     ]
    },
    {
     "name": "stderr",
     "output_type": "stream",
     "text": [
      "/home/aiyappa/anaconda3/lib/python3.7/site-packages/tables/path.py:112: NaturalNameWarning: object name is not a valid Python identifier: 'sim_103_p_rew_0.01_start_1_dq_2'; it does not match the pattern ``^[a-zA-Z_][a-zA-Z0-9_]*$``; you will not be able to use natural naming to access this object; using ``getattr()`` will still work, though\n",
      "  NaturalNameWarning)\n"
     ]
    },
    {
     "name": "stdout",
     "output_type": "stream",
     "text": [
      "(sim,lamb_da,p_rew,start,dose_quantity) =  (103, 0.001, 0.01, 10, 0.1)\n",
      "{99, 40, 72, 12, 52, 23, 88, 26, 91, 95}\n",
      "sim_103_p_rew_0.01_start_10_dq_0.1\n"
     ]
    },
    {
     "name": "stderr",
     "output_type": "stream",
     "text": [
      "/home/aiyappa/anaconda3/lib/python3.7/site-packages/tables/path.py:112: NaturalNameWarning: object name is not a valid Python identifier: 'sim_103_p_rew_0.01_start_10_dq_0.1'; it does not match the pattern ``^[a-zA-Z_][a-zA-Z0-9_]*$``; you will not be able to use natural naming to access this object; using ``getattr()`` will still work, though\n",
      "  NaturalNameWarning)\n"
     ]
    },
    {
     "name": "stdout",
     "output_type": "stream",
     "text": [
      "(sim,lamb_da,p_rew,start,dose_quantity) =  (103, 0.001, 0.01, 10, 2)\n",
      "{97, 66, 6, 73, 74, 48, 23, 87, 91, 30}\n",
      "sim_103_p_rew_0.01_start_10_dq_2\n"
     ]
    },
    {
     "name": "stderr",
     "output_type": "stream",
     "text": [
      "/home/aiyappa/anaconda3/lib/python3.7/site-packages/tables/path.py:112: NaturalNameWarning: object name is not a valid Python identifier: 'sim_103_p_rew_0.01_start_10_dq_2'; it does not match the pattern ``^[a-zA-Z_][a-zA-Z0-9_]*$``; you will not be able to use natural naming to access this object; using ``getattr()`` will still work, though\n",
      "  NaturalNameWarning)\n"
     ]
    },
    {
     "name": "stdout",
     "output_type": "stream",
     "text": [
      "(sim,lamb_da,p_rew,start,dose_quantity) =  (103, 0.01, 0.10000000000000002, 1, 0.1)\n",
      "{49}\n",
      "sim_103_p_rew_0.1_start_1_dq_0.1\n"
     ]
    },
    {
     "name": "stderr",
     "output_type": "stream",
     "text": [
      "/home/aiyappa/anaconda3/lib/python3.7/site-packages/tables/path.py:112: NaturalNameWarning: object name is not a valid Python identifier: 'sim_103_p_rew_0.1_start_1_dq_0.1'; it does not match the pattern ``^[a-zA-Z_][a-zA-Z0-9_]*$``; you will not be able to use natural naming to access this object; using ``getattr()`` will still work, though\n",
      "  NaturalNameWarning)\n"
     ]
    },
    {
     "name": "stdout",
     "output_type": "stream",
     "text": [
      "(sim,lamb_da,p_rew,start,dose_quantity) =  (103, 0.01, 0.10000000000000002, 1, 2)\n",
      "{86}\n",
      "sim_103_p_rew_0.1_start_1_dq_2\n"
     ]
    },
    {
     "name": "stderr",
     "output_type": "stream",
     "text": [
      "/home/aiyappa/anaconda3/lib/python3.7/site-packages/tables/path.py:112: NaturalNameWarning: object name is not a valid Python identifier: 'sim_103_p_rew_0.1_start_1_dq_2'; it does not match the pattern ``^[a-zA-Z_][a-zA-Z0-9_]*$``; you will not be able to use natural naming to access this object; using ``getattr()`` will still work, though\n",
      "  NaturalNameWarning)\n"
     ]
    },
    {
     "name": "stdout",
     "output_type": "stream",
     "text": [
      "(sim,lamb_da,p_rew,start,dose_quantity) =  (103, 0.01, 0.10000000000000002, 10, 0.1)\n",
      "{97, 2, 67, 38, 16, 80, 49, 21, 90, 28}\n",
      "sim_103_p_rew_0.1_start_10_dq_0.1\n"
     ]
    },
    {
     "name": "stderr",
     "output_type": "stream",
     "text": [
      "/home/aiyappa/anaconda3/lib/python3.7/site-packages/tables/path.py:112: NaturalNameWarning: object name is not a valid Python identifier: 'sim_103_p_rew_0.1_start_10_dq_0.1'; it does not match the pattern ``^[a-zA-Z_][a-zA-Z0-9_]*$``; you will not be able to use natural naming to access this object; using ``getattr()`` will still work, though\n",
      "  NaturalNameWarning)\n"
     ]
    },
    {
     "name": "stdout",
     "output_type": "stream",
     "text": [
      "(sim,lamb_da,p_rew,start,dose_quantity) =  (103, 0.01, 0.10000000000000002, 10, 2)\n",
      "{32, 34, 68, 5, 40, 87, 88, 59, 28, 94}\n",
      "sim_103_p_rew_0.1_start_10_dq_2\n"
     ]
    },
    {
     "name": "stderr",
     "output_type": "stream",
     "text": [
      "/home/aiyappa/anaconda3/lib/python3.7/site-packages/tables/path.py:112: NaturalNameWarning: object name is not a valid Python identifier: 'sim_103_p_rew_0.1_start_10_dq_2'; it does not match the pattern ``^[a-zA-Z_][a-zA-Z0-9_]*$``; you will not be able to use natural naming to access this object; using ``getattr()`` will still work, though\n",
      "  NaturalNameWarning)\n"
     ]
    },
    {
     "name": "stdout",
     "output_type": "stream",
     "text": [
      "(sim,lamb_da,p_rew,start,dose_quantity) =  (103, 0.10000000000000002, 1.0, 1, 0.1)\n",
      "{81}\n",
      "sim_103_p_rew_1_start_1_dq_0.1\n"
     ]
    },
    {
     "name": "stderr",
     "output_type": "stream",
     "text": [
      "/home/aiyappa/anaconda3/lib/python3.7/site-packages/tables/path.py:112: NaturalNameWarning: object name is not a valid Python identifier: 'sim_103_p_rew_1_start_1_dq_0.1'; it does not match the pattern ``^[a-zA-Z_][a-zA-Z0-9_]*$``; you will not be able to use natural naming to access this object; using ``getattr()`` will still work, though\n",
      "  NaturalNameWarning)\n"
     ]
    },
    {
     "name": "stdout",
     "output_type": "stream",
     "text": [
      "(sim,lamb_da,p_rew,start,dose_quantity) =  (103, 0.10000000000000002, 1.0, 1, 2)\n",
      "{11}\n",
      "sim_103_p_rew_1_start_1_dq_2\n",
      "(sim,lamb_da,p_rew,start,dose_quantity) =  (103, 0.10000000000000002, 1.0, 10, 0.1)\n",
      "Initial node infection step failed\n",
      "None\n",
      "{97, 2, 39, 10, 80, 48, 83, 29, 94, 95}\n",
      "sim_103_p_rew_1_start_10_dq_0.1\n"
     ]
    },
    {
     "name": "stderr",
     "output_type": "stream",
     "text": [
      "/home/aiyappa/anaconda3/lib/python3.7/site-packages/tables/path.py:112: NaturalNameWarning: object name is not a valid Python identifier: 'sim_103_p_rew_1_start_10_dq_0.1'; it does not match the pattern ``^[a-zA-Z_][a-zA-Z0-9_]*$``; you will not be able to use natural naming to access this object; using ``getattr()`` will still work, though\n",
      "  NaturalNameWarning)\n"
     ]
    },
    {
     "name": "stdout",
     "output_type": "stream",
     "text": [
      "(sim,lamb_da,p_rew,start,dose_quantity) =  (103, 0.10000000000000002, 1.0, 10, 2)\n",
      "{0, 4, 76, 60, 80, 50, 61, 22, 28, 93}\n",
      "sim_103_p_rew_1_start_10_dq_2\n",
      "(sim,lamb_da,p_rew,start,dose_quantity) =  (104, 0.001, 0.01, 1, 0.1)\n",
      "{99}\n",
      "sim_104_p_rew_0.01_start_1_dq_0.1\n"
     ]
    },
    {
     "name": "stderr",
     "output_type": "stream",
     "text": [
      "/home/aiyappa/anaconda3/lib/python3.7/site-packages/tables/path.py:112: NaturalNameWarning: object name is not a valid Python identifier: 'sim_104_p_rew_0.01_start_1_dq_0.1'; it does not match the pattern ``^[a-zA-Z_][a-zA-Z0-9_]*$``; you will not be able to use natural naming to access this object; using ``getattr()`` will still work, though\n",
      "  NaturalNameWarning)\n"
     ]
    },
    {
     "name": "stdout",
     "output_type": "stream",
     "text": [
      "(sim,lamb_da,p_rew,start,dose_quantity) =  (104, 0.001, 0.01, 1, 2)\n",
      "{69}\n",
      "sim_104_p_rew_0.01_start_1_dq_2\n"
     ]
    },
    {
     "name": "stderr",
     "output_type": "stream",
     "text": [
      "/home/aiyappa/anaconda3/lib/python3.7/site-packages/tables/path.py:112: NaturalNameWarning: object name is not a valid Python identifier: 'sim_104_p_rew_0.01_start_1_dq_2'; it does not match the pattern ``^[a-zA-Z_][a-zA-Z0-9_]*$``; you will not be able to use natural naming to access this object; using ``getattr()`` will still work, though\n",
      "  NaturalNameWarning)\n"
     ]
    },
    {
     "name": "stdout",
     "output_type": "stream",
     "text": [
      "(sim,lamb_da,p_rew,start,dose_quantity) =  (104, 0.001, 0.01, 10, 0.1)\n",
      "{66, 4, 40, 8, 11, 45, 48, 87, 59, 29}\n",
      "sim_104_p_rew_0.01_start_10_dq_0.1\n"
     ]
    },
    {
     "name": "stderr",
     "output_type": "stream",
     "text": [
      "/home/aiyappa/anaconda3/lib/python3.7/site-packages/tables/path.py:112: NaturalNameWarning: object name is not a valid Python identifier: 'sim_104_p_rew_0.01_start_10_dq_0.1'; it does not match the pattern ``^[a-zA-Z_][a-zA-Z0-9_]*$``; you will not be able to use natural naming to access this object; using ``getattr()`` will still work, though\n",
      "  NaturalNameWarning)\n"
     ]
    },
    {
     "name": "stdout",
     "output_type": "stream",
     "text": [
      "(sim,lamb_da,p_rew,start,dose_quantity) =  (104, 0.001, 0.01, 10, 2)\n",
      "{2, 67, 99, 7, 72, 76, 50, 83, 52, 89}\n",
      "sim_104_p_rew_0.01_start_10_dq_2\n"
     ]
    },
    {
     "name": "stderr",
     "output_type": "stream",
     "text": [
      "/home/aiyappa/anaconda3/lib/python3.7/site-packages/tables/path.py:112: NaturalNameWarning: object name is not a valid Python identifier: 'sim_104_p_rew_0.01_start_10_dq_2'; it does not match the pattern ``^[a-zA-Z_][a-zA-Z0-9_]*$``; you will not be able to use natural naming to access this object; using ``getattr()`` will still work, though\n",
      "  NaturalNameWarning)\n"
     ]
    },
    {
     "name": "stdout",
     "output_type": "stream",
     "text": [
      "(sim,lamb_da,p_rew,start,dose_quantity) =  (104, 0.01, 0.10000000000000002, 1, 0.1)\n",
      "{79}\n",
      "sim_104_p_rew_0.1_start_1_dq_0.1\n"
     ]
    },
    {
     "name": "stderr",
     "output_type": "stream",
     "text": [
      "/home/aiyappa/anaconda3/lib/python3.7/site-packages/tables/path.py:112: NaturalNameWarning: object name is not a valid Python identifier: 'sim_104_p_rew_0.1_start_1_dq_0.1'; it does not match the pattern ``^[a-zA-Z_][a-zA-Z0-9_]*$``; you will not be able to use natural naming to access this object; using ``getattr()`` will still work, though\n",
      "  NaturalNameWarning)\n"
     ]
    },
    {
     "name": "stdout",
     "output_type": "stream",
     "text": [
      "(sim,lamb_da,p_rew,start,dose_quantity) =  (104, 0.01, 0.10000000000000002, 1, 2)\n",
      "{93}\n",
      "sim_104_p_rew_0.1_start_1_dq_2\n"
     ]
    },
    {
     "name": "stderr",
     "output_type": "stream",
     "text": [
      "/home/aiyappa/anaconda3/lib/python3.7/site-packages/tables/path.py:112: NaturalNameWarning: object name is not a valid Python identifier: 'sim_104_p_rew_0.1_start_1_dq_2'; it does not match the pattern ``^[a-zA-Z_][a-zA-Z0-9_]*$``; you will not be able to use natural naming to access this object; using ``getattr()`` will still work, though\n",
      "  NaturalNameWarning)\n"
     ]
    },
    {
     "name": "stdout",
     "output_type": "stream",
     "text": [
      "(sim,lamb_da,p_rew,start,dose_quantity) =  (104, 0.01, 0.10000000000000002, 10, 0.1)\n",
      "{32, 98, 34, 36, 39, 10, 43, 91, 60, 94}\n",
      "sim_104_p_rew_0.1_start_10_dq_0.1\n"
     ]
    },
    {
     "name": "stderr",
     "output_type": "stream",
     "text": [
      "/home/aiyappa/anaconda3/lib/python3.7/site-packages/tables/path.py:112: NaturalNameWarning: object name is not a valid Python identifier: 'sim_104_p_rew_0.1_start_10_dq_0.1'; it does not match the pattern ``^[a-zA-Z_][a-zA-Z0-9_]*$``; you will not be able to use natural naming to access this object; using ``getattr()`` will still work, though\n",
      "  NaturalNameWarning)\n"
     ]
    },
    {
     "name": "stdout",
     "output_type": "stream",
     "text": [
      "(sim,lamb_da,p_rew,start,dose_quantity) =  (104, 0.01, 0.10000000000000002, 10, 2)\n",
      "{99, 39, 7, 42, 11, 14, 82, 50, 20, 94}\n",
      "sim_104_p_rew_0.1_start_10_dq_2\n"
     ]
    },
    {
     "name": "stderr",
     "output_type": "stream",
     "text": [
      "/home/aiyappa/anaconda3/lib/python3.7/site-packages/tables/path.py:112: NaturalNameWarning: object name is not a valid Python identifier: 'sim_104_p_rew_0.1_start_10_dq_2'; it does not match the pattern ``^[a-zA-Z_][a-zA-Z0-9_]*$``; you will not be able to use natural naming to access this object; using ``getattr()`` will still work, though\n",
      "  NaturalNameWarning)\n"
     ]
    },
    {
     "name": "stdout",
     "output_type": "stream",
     "text": [
      "(sim,lamb_da,p_rew,start,dose_quantity) =  (104, 0.10000000000000002, 1.0, 1, 0.1)\n",
      "{89}\n",
      "sim_104_p_rew_1_start_1_dq_0.1\n"
     ]
    },
    {
     "name": "stderr",
     "output_type": "stream",
     "text": [
      "/home/aiyappa/anaconda3/lib/python3.7/site-packages/tables/path.py:112: NaturalNameWarning: object name is not a valid Python identifier: 'sim_104_p_rew_1_start_1_dq_0.1'; it does not match the pattern ``^[a-zA-Z_][a-zA-Z0-9_]*$``; you will not be able to use natural naming to access this object; using ``getattr()`` will still work, though\n",
      "  NaturalNameWarning)\n"
     ]
    },
    {
     "name": "stdout",
     "output_type": "stream",
     "text": [
      "(sim,lamb_da,p_rew,start,dose_quantity) =  (104, 0.10000000000000002, 1.0, 1, 2)\n",
      "{28}\n",
      "sim_104_p_rew_1_start_1_dq_2\n",
      "(sim,lamb_da,p_rew,start,dose_quantity) =  (104, 0.10000000000000002, 1.0, 10, 0.1)\n",
      "Initial node infection step failed\n",
      "None\n",
      "Initial node infection step failed\n",
      "None\n",
      "Initial node infection step failed\n",
      "None\n",
      "{98, 35, 70, 74, 48, 82, 84, 23, 28, 95}\n",
      "sim_104_p_rew_1_start_10_dq_0.1\n"
     ]
    },
    {
     "name": "stderr",
     "output_type": "stream",
     "text": [
      "/home/aiyappa/anaconda3/lib/python3.7/site-packages/tables/path.py:112: NaturalNameWarning: object name is not a valid Python identifier: 'sim_104_p_rew_1_start_10_dq_0.1'; it does not match the pattern ``^[a-zA-Z_][a-zA-Z0-9_]*$``; you will not be able to use natural naming to access this object; using ``getattr()`` will still work, though\n",
      "  NaturalNameWarning)\n"
     ]
    },
    {
     "name": "stdout",
     "output_type": "stream",
     "text": [
      "(sim,lamb_da,p_rew,start,dose_quantity) =  (104, 0.10000000000000002, 1.0, 10, 2)\n",
      "{32, 38, 7, 9, 42, 46, 84, 88, 30, 63}\n",
      "sim_104_p_rew_1_start_10_dq_2\n",
      "(sim,lamb_da,p_rew,start,dose_quantity) =  (105, 0.001, 0.01, 1, 0.1)\n",
      "{62}\n",
      "sim_105_p_rew_0.01_start_1_dq_0.1\n"
     ]
    },
    {
     "name": "stderr",
     "output_type": "stream",
     "text": [
      "/home/aiyappa/anaconda3/lib/python3.7/site-packages/tables/path.py:112: NaturalNameWarning: object name is not a valid Python identifier: 'sim_105_p_rew_0.01_start_1_dq_0.1'; it does not match the pattern ``^[a-zA-Z_][a-zA-Z0-9_]*$``; you will not be able to use natural naming to access this object; using ``getattr()`` will still work, though\n",
      "  NaturalNameWarning)\n"
     ]
    },
    {
     "name": "stdout",
     "output_type": "stream",
     "text": [
      "(sim,lamb_da,p_rew,start,dose_quantity) =  (105, 0.001, 0.01, 1, 2)\n",
      "{92}\n",
      "sim_105_p_rew_0.01_start_1_dq_2\n"
     ]
    },
    {
     "name": "stderr",
     "output_type": "stream",
     "text": [
      "/home/aiyappa/anaconda3/lib/python3.7/site-packages/tables/path.py:112: NaturalNameWarning: object name is not a valid Python identifier: 'sim_105_p_rew_0.01_start_1_dq_2'; it does not match the pattern ``^[a-zA-Z_][a-zA-Z0-9_]*$``; you will not be able to use natural naming to access this object; using ``getattr()`` will still work, though\n",
      "  NaturalNameWarning)\n"
     ]
    },
    {
     "name": "stdout",
     "output_type": "stream",
     "text": [
      "(sim,lamb_da,p_rew,start,dose_quantity) =  (105, 0.001, 0.01, 10, 0.1)\n",
      "{97, 3, 68, 71, 72, 13, 55, 56, 24, 91}\n",
      "sim_105_p_rew_0.01_start_10_dq_0.1\n"
     ]
    },
    {
     "name": "stderr",
     "output_type": "stream",
     "text": [
      "/home/aiyappa/anaconda3/lib/python3.7/site-packages/tables/path.py:112: NaturalNameWarning: object name is not a valid Python identifier: 'sim_105_p_rew_0.01_start_10_dq_0.1'; it does not match the pattern ``^[a-zA-Z_][a-zA-Z0-9_]*$``; you will not be able to use natural naming to access this object; using ``getattr()`` will still work, though\n",
      "  NaturalNameWarning)\n"
     ]
    },
    {
     "name": "stdout",
     "output_type": "stream",
     "text": [
      "(sim,lamb_da,p_rew,start,dose_quantity) =  (105, 0.001, 0.01, 10, 2)\n",
      "{65, 97, 36, 70, 42, 76, 45, 14, 83, 29}\n",
      "sim_105_p_rew_0.01_start_10_dq_2\n"
     ]
    },
    {
     "name": "stderr",
     "output_type": "stream",
     "text": [
      "/home/aiyappa/anaconda3/lib/python3.7/site-packages/tables/path.py:112: NaturalNameWarning: object name is not a valid Python identifier: 'sim_105_p_rew_0.01_start_10_dq_2'; it does not match the pattern ``^[a-zA-Z_][a-zA-Z0-9_]*$``; you will not be able to use natural naming to access this object; using ``getattr()`` will still work, though\n",
      "  NaturalNameWarning)\n"
     ]
    },
    {
     "name": "stdout",
     "output_type": "stream",
     "text": [
      "(sim,lamb_da,p_rew,start,dose_quantity) =  (105, 0.01, 0.10000000000000002, 1, 0.1)\n",
      "{14}\n",
      "sim_105_p_rew_0.1_start_1_dq_0.1\n"
     ]
    },
    {
     "name": "stderr",
     "output_type": "stream",
     "text": [
      "/home/aiyappa/anaconda3/lib/python3.7/site-packages/tables/path.py:112: NaturalNameWarning: object name is not a valid Python identifier: 'sim_105_p_rew_0.1_start_1_dq_0.1'; it does not match the pattern ``^[a-zA-Z_][a-zA-Z0-9_]*$``; you will not be able to use natural naming to access this object; using ``getattr()`` will still work, though\n",
      "  NaturalNameWarning)\n"
     ]
    },
    {
     "name": "stdout",
     "output_type": "stream",
     "text": [
      "(sim,lamb_da,p_rew,start,dose_quantity) =  (105, 0.01, 0.10000000000000002, 1, 2)\n",
      "{19}\n",
      "sim_105_p_rew_0.1_start_1_dq_2\n"
     ]
    },
    {
     "name": "stderr",
     "output_type": "stream",
     "text": [
      "/home/aiyappa/anaconda3/lib/python3.7/site-packages/tables/path.py:112: NaturalNameWarning: object name is not a valid Python identifier: 'sim_105_p_rew_0.1_start_1_dq_2'; it does not match the pattern ``^[a-zA-Z_][a-zA-Z0-9_]*$``; you will not be able to use natural naming to access this object; using ``getattr()`` will still work, though\n",
      "  NaturalNameWarning)\n"
     ]
    },
    {
     "name": "stdout",
     "output_type": "stream",
     "text": [
      "(sim,lamb_da,p_rew,start,dose_quantity) =  (105, 0.01, 0.10000000000000002, 10, 0.1)\n",
      "Initial node infection step failed\n",
      "None\n",
      "{4, 37, 74, 42, 76, 79, 81, 84, 22, 60}\n",
      "sim_105_p_rew_0.1_start_10_dq_0.1\n"
     ]
    },
    {
     "name": "stderr",
     "output_type": "stream",
     "text": [
      "/home/aiyappa/anaconda3/lib/python3.7/site-packages/tables/path.py:112: NaturalNameWarning: object name is not a valid Python identifier: 'sim_105_p_rew_0.1_start_10_dq_0.1'; it does not match the pattern ``^[a-zA-Z_][a-zA-Z0-9_]*$``; you will not be able to use natural naming to access this object; using ``getattr()`` will still work, though\n",
      "  NaturalNameWarning)\n"
     ]
    },
    {
     "name": "stdout",
     "output_type": "stream",
     "text": [
      "(sim,lamb_da,p_rew,start,dose_quantity) =  (105, 0.01, 0.10000000000000002, 10, 2)\n",
      "{5, 69, 8, 46, 15, 23, 24, 57, 59, 31}\n",
      "sim_105_p_rew_0.1_start_10_dq_2\n"
     ]
    },
    {
     "name": "stderr",
     "output_type": "stream",
     "text": [
      "/home/aiyappa/anaconda3/lib/python3.7/site-packages/tables/path.py:112: NaturalNameWarning: object name is not a valid Python identifier: 'sim_105_p_rew_0.1_start_10_dq_2'; it does not match the pattern ``^[a-zA-Z_][a-zA-Z0-9_]*$``; you will not be able to use natural naming to access this object; using ``getattr()`` will still work, though\n",
      "  NaturalNameWarning)\n"
     ]
    },
    {
     "name": "stdout",
     "output_type": "stream",
     "text": [
      "(sim,lamb_da,p_rew,start,dose_quantity) =  (105, 0.10000000000000002, 1.0, 1, 0.1)\n",
      "{39}\n",
      "sim_105_p_rew_1_start_1_dq_0.1\n"
     ]
    },
    {
     "name": "stderr",
     "output_type": "stream",
     "text": [
      "/home/aiyappa/anaconda3/lib/python3.7/site-packages/tables/path.py:112: NaturalNameWarning: object name is not a valid Python identifier: 'sim_105_p_rew_1_start_1_dq_0.1'; it does not match the pattern ``^[a-zA-Z_][a-zA-Z0-9_]*$``; you will not be able to use natural naming to access this object; using ``getattr()`` will still work, though\n",
      "  NaturalNameWarning)\n"
     ]
    },
    {
     "name": "stdout",
     "output_type": "stream",
     "text": [
      "(sim,lamb_da,p_rew,start,dose_quantity) =  (105, 0.10000000000000002, 1.0, 1, 2)\n",
      "{71}\n",
      "sim_105_p_rew_1_start_1_dq_2\n",
      "(sim,lamb_da,p_rew,start,dose_quantity) =  (105, 0.10000000000000002, 1.0, 10, 0.1)\n",
      "{66, 99, 8, 15, 47, 81, 22, 54, 90, 29}\n",
      "sim_105_p_rew_1_start_10_dq_0.1\n"
     ]
    },
    {
     "name": "stderr",
     "output_type": "stream",
     "text": [
      "/home/aiyappa/anaconda3/lib/python3.7/site-packages/tables/path.py:112: NaturalNameWarning: object name is not a valid Python identifier: 'sim_105_p_rew_1_start_10_dq_0.1'; it does not match the pattern ``^[a-zA-Z_][a-zA-Z0-9_]*$``; you will not be able to use natural naming to access this object; using ``getattr()`` will still work, though\n",
      "  NaturalNameWarning)\n"
     ]
    },
    {
     "name": "stdout",
     "output_type": "stream",
     "text": [
      "(sim,lamb_da,p_rew,start,dose_quantity) =  (105, 0.10000000000000002, 1.0, 10, 2)\n",
      "{1, 70, 8, 79, 80, 16, 82, 19, 54, 31}\n",
      "sim_105_p_rew_1_start_10_dq_2\n",
      "(sim,lamb_da,p_rew,start,dose_quantity) =  (106, 0.001, 0.01, 1, 0.1)\n",
      "{49}\n",
      "sim_106_p_rew_0.01_start_1_dq_0.1\n"
     ]
    },
    {
     "name": "stderr",
     "output_type": "stream",
     "text": [
      "/home/aiyappa/anaconda3/lib/python3.7/site-packages/tables/path.py:112: NaturalNameWarning: object name is not a valid Python identifier: 'sim_106_p_rew_0.01_start_1_dq_0.1'; it does not match the pattern ``^[a-zA-Z_][a-zA-Z0-9_]*$``; you will not be able to use natural naming to access this object; using ``getattr()`` will still work, though\n",
      "  NaturalNameWarning)\n"
     ]
    },
    {
     "name": "stdout",
     "output_type": "stream",
     "text": [
      "(sim,lamb_da,p_rew,start,dose_quantity) =  (106, 0.001, 0.01, 1, 2)\n",
      "{15}\n",
      "sim_106_p_rew_0.01_start_1_dq_2\n"
     ]
    },
    {
     "name": "stderr",
     "output_type": "stream",
     "text": [
      "/home/aiyappa/anaconda3/lib/python3.7/site-packages/tables/path.py:112: NaturalNameWarning: object name is not a valid Python identifier: 'sim_106_p_rew_0.01_start_1_dq_2'; it does not match the pattern ``^[a-zA-Z_][a-zA-Z0-9_]*$``; you will not be able to use natural naming to access this object; using ``getattr()`` will still work, though\n",
      "  NaturalNameWarning)\n"
     ]
    },
    {
     "name": "stdout",
     "output_type": "stream",
     "text": [
      "(sim,lamb_da,p_rew,start,dose_quantity) =  (106, 0.001, 0.01, 10, 0.1)\n",
      "{34, 68, 8, 76, 80, 16, 23, 58, 93, 95}\n",
      "sim_106_p_rew_0.01_start_10_dq_0.1\n"
     ]
    },
    {
     "name": "stderr",
     "output_type": "stream",
     "text": [
      "/home/aiyappa/anaconda3/lib/python3.7/site-packages/tables/path.py:112: NaturalNameWarning: object name is not a valid Python identifier: 'sim_106_p_rew_0.01_start_10_dq_0.1'; it does not match the pattern ``^[a-zA-Z_][a-zA-Z0-9_]*$``; you will not be able to use natural naming to access this object; using ``getattr()`` will still work, though\n",
      "  NaturalNameWarning)\n"
     ]
    },
    {
     "name": "stdout",
     "output_type": "stream",
     "text": [
      "(sim,lamb_da,p_rew,start,dose_quantity) =  (106, 0.001, 0.01, 10, 2)\n",
      "{0, 97, 6, 82, 85, 54, 21, 88, 57, 62}\n",
      "sim_106_p_rew_0.01_start_10_dq_2\n"
     ]
    },
    {
     "name": "stderr",
     "output_type": "stream",
     "text": [
      "/home/aiyappa/anaconda3/lib/python3.7/site-packages/tables/path.py:112: NaturalNameWarning: object name is not a valid Python identifier: 'sim_106_p_rew_0.01_start_10_dq_2'; it does not match the pattern ``^[a-zA-Z_][a-zA-Z0-9_]*$``; you will not be able to use natural naming to access this object; using ``getattr()`` will still work, though\n",
      "  NaturalNameWarning)\n"
     ]
    },
    {
     "name": "stdout",
     "output_type": "stream",
     "text": [
      "(sim,lamb_da,p_rew,start,dose_quantity) =  (106, 0.01, 0.10000000000000002, 1, 0.1)\n",
      "{24}\n",
      "sim_106_p_rew_0.1_start_1_dq_0.1\n"
     ]
    },
    {
     "name": "stderr",
     "output_type": "stream",
     "text": [
      "/home/aiyappa/anaconda3/lib/python3.7/site-packages/tables/path.py:112: NaturalNameWarning: object name is not a valid Python identifier: 'sim_106_p_rew_0.1_start_1_dq_0.1'; it does not match the pattern ``^[a-zA-Z_][a-zA-Z0-9_]*$``; you will not be able to use natural naming to access this object; using ``getattr()`` will still work, though\n",
      "  NaturalNameWarning)\n"
     ]
    },
    {
     "name": "stdout",
     "output_type": "stream",
     "text": [
      "(sim,lamb_da,p_rew,start,dose_quantity) =  (106, 0.01, 0.10000000000000002, 1, 2)\n",
      "{92}\n",
      "sim_106_p_rew_0.1_start_1_dq_2\n"
     ]
    },
    {
     "name": "stderr",
     "output_type": "stream",
     "text": [
      "/home/aiyappa/anaconda3/lib/python3.7/site-packages/tables/path.py:112: NaturalNameWarning: object name is not a valid Python identifier: 'sim_106_p_rew_0.1_start_1_dq_2'; it does not match the pattern ``^[a-zA-Z_][a-zA-Z0-9_]*$``; you will not be able to use natural naming to access this object; using ``getattr()`` will still work, though\n",
      "  NaturalNameWarning)\n"
     ]
    },
    {
     "name": "stdout",
     "output_type": "stream",
     "text": [
      "(sim,lamb_da,p_rew,start,dose_quantity) =  (106, 0.01, 0.10000000000000002, 10, 0.1)\n",
      "{0, 7, 41, 76, 78, 80, 51, 57, 28, 62}\n",
      "sim_106_p_rew_0.1_start_10_dq_0.1\n"
     ]
    },
    {
     "name": "stderr",
     "output_type": "stream",
     "text": [
      "/home/aiyappa/anaconda3/lib/python3.7/site-packages/tables/path.py:112: NaturalNameWarning: object name is not a valid Python identifier: 'sim_106_p_rew_0.1_start_10_dq_0.1'; it does not match the pattern ``^[a-zA-Z_][a-zA-Z0-9_]*$``; you will not be able to use natural naming to access this object; using ``getattr()`` will still work, though\n",
      "  NaturalNameWarning)\n"
     ]
    },
    {
     "name": "stdout",
     "output_type": "stream",
     "text": [
      "(sim,lamb_da,p_rew,start,dose_quantity) =  (106, 0.01, 0.10000000000000002, 10, 2)\n",
      "{65, 74, 44, 51, 83, 54, 56, 26, 28, 95}\n",
      "sim_106_p_rew_0.1_start_10_dq_2\n"
     ]
    },
    {
     "name": "stderr",
     "output_type": "stream",
     "text": [
      "/home/aiyappa/anaconda3/lib/python3.7/site-packages/tables/path.py:112: NaturalNameWarning: object name is not a valid Python identifier: 'sim_106_p_rew_0.1_start_10_dq_2'; it does not match the pattern ``^[a-zA-Z_][a-zA-Z0-9_]*$``; you will not be able to use natural naming to access this object; using ``getattr()`` will still work, though\n",
      "  NaturalNameWarning)\n"
     ]
    },
    {
     "name": "stdout",
     "output_type": "stream",
     "text": [
      "(sim,lamb_da,p_rew,start,dose_quantity) =  (106, 0.10000000000000002, 1.0, 1, 0.1)\n",
      "{71}\n",
      "sim_106_p_rew_1_start_1_dq_0.1\n"
     ]
    },
    {
     "name": "stderr",
     "output_type": "stream",
     "text": [
      "/home/aiyappa/anaconda3/lib/python3.7/site-packages/tables/path.py:112: NaturalNameWarning: object name is not a valid Python identifier: 'sim_106_p_rew_1_start_1_dq_0.1'; it does not match the pattern ``^[a-zA-Z_][a-zA-Z0-9_]*$``; you will not be able to use natural naming to access this object; using ``getattr()`` will still work, though\n",
      "  NaturalNameWarning)\n"
     ]
    },
    {
     "name": "stdout",
     "output_type": "stream",
     "text": [
      "(sim,lamb_da,p_rew,start,dose_quantity) =  (106, 0.10000000000000002, 1.0, 1, 2)\n",
      "{36}\n",
      "sim_106_p_rew_1_start_1_dq_2\n",
      "(sim,lamb_da,p_rew,start,dose_quantity) =  (106, 0.10000000000000002, 1.0, 10, 0.1)\n",
      "Initial node infection step failed\n",
      "None\n",
      "Initial node infection step failed\n",
      "None\n",
      "{64, 32, 44, 77, 12, 18, 21, 86, 24, 27}\n",
      "sim_106_p_rew_1_start_10_dq_0.1\n"
     ]
    },
    {
     "name": "stderr",
     "output_type": "stream",
     "text": [
      "/home/aiyappa/anaconda3/lib/python3.7/site-packages/tables/path.py:112: NaturalNameWarning: object name is not a valid Python identifier: 'sim_106_p_rew_1_start_10_dq_0.1'; it does not match the pattern ``^[a-zA-Z_][a-zA-Z0-9_]*$``; you will not be able to use natural naming to access this object; using ``getattr()`` will still work, though\n",
      "  NaturalNameWarning)\n"
     ]
    },
    {
     "name": "stdout",
     "output_type": "stream",
     "text": [
      "(sim,lamb_da,p_rew,start,dose_quantity) =  (106, 0.10000000000000002, 1.0, 10, 2)\n",
      "{32, 98, 39, 74, 43, 13, 15, 82, 50, 84}\n",
      "sim_106_p_rew_1_start_10_dq_2\n",
      "(sim,lamb_da,p_rew,start,dose_quantity) =  (107, 0.001, 0.01, 1, 0.1)\n",
      "{5}\n",
      "sim_107_p_rew_0.01_start_1_dq_0.1\n"
     ]
    },
    {
     "name": "stderr",
     "output_type": "stream",
     "text": [
      "/home/aiyappa/anaconda3/lib/python3.7/site-packages/tables/path.py:112: NaturalNameWarning: object name is not a valid Python identifier: 'sim_107_p_rew_0.01_start_1_dq_0.1'; it does not match the pattern ``^[a-zA-Z_][a-zA-Z0-9_]*$``; you will not be able to use natural naming to access this object; using ``getattr()`` will still work, though\n",
      "  NaturalNameWarning)\n"
     ]
    },
    {
     "name": "stdout",
     "output_type": "stream",
     "text": [
      "(sim,lamb_da,p_rew,start,dose_quantity) =  (107, 0.001, 0.01, 1, 2)\n",
      "{40}\n",
      "sim_107_p_rew_0.01_start_1_dq_2\n"
     ]
    },
    {
     "name": "stderr",
     "output_type": "stream",
     "text": [
      "/home/aiyappa/anaconda3/lib/python3.7/site-packages/tables/path.py:112: NaturalNameWarning: object name is not a valid Python identifier: 'sim_107_p_rew_0.01_start_1_dq_2'; it does not match the pattern ``^[a-zA-Z_][a-zA-Z0-9_]*$``; you will not be able to use natural naming to access this object; using ``getattr()`` will still work, though\n",
      "  NaturalNameWarning)\n"
     ]
    },
    {
     "name": "stdout",
     "output_type": "stream",
     "text": [
      "(sim,lamb_da,p_rew,start,dose_quantity) =  (107, 0.001, 0.01, 10, 0.1)\n",
      "{32, 67, 36, 35, 72, 80, 21, 54, 89, 92}\n",
      "sim_107_p_rew_0.01_start_10_dq_0.1\n"
     ]
    },
    {
     "name": "stderr",
     "output_type": "stream",
     "text": [
      "/home/aiyappa/anaconda3/lib/python3.7/site-packages/tables/path.py:112: NaturalNameWarning: object name is not a valid Python identifier: 'sim_107_p_rew_0.01_start_10_dq_0.1'; it does not match the pattern ``^[a-zA-Z_][a-zA-Z0-9_]*$``; you will not be able to use natural naming to access this object; using ``getattr()`` will still work, though\n",
      "  NaturalNameWarning)\n"
     ]
    },
    {
     "name": "stdout",
     "output_type": "stream",
     "text": [
      "(sim,lamb_da,p_rew,start,dose_quantity) =  (107, 0.001, 0.01, 10, 2)\n",
      "{64, 89, 2, 0, 68, 70, 44, 77, 57, 26}\n",
      "sim_107_p_rew_0.01_start_10_dq_2\n"
     ]
    },
    {
     "name": "stderr",
     "output_type": "stream",
     "text": [
      "/home/aiyappa/anaconda3/lib/python3.7/site-packages/tables/path.py:112: NaturalNameWarning: object name is not a valid Python identifier: 'sim_107_p_rew_0.01_start_10_dq_2'; it does not match the pattern ``^[a-zA-Z_][a-zA-Z0-9_]*$``; you will not be able to use natural naming to access this object; using ``getattr()`` will still work, though\n",
      "  NaturalNameWarning)\n"
     ]
    },
    {
     "name": "stdout",
     "output_type": "stream",
     "text": [
      "(sim,lamb_da,p_rew,start,dose_quantity) =  (107, 0.01, 0.10000000000000002, 1, 0.1)\n",
      "{91}\n",
      "sim_107_p_rew_0.1_start_1_dq_0.1\n"
     ]
    },
    {
     "name": "stderr",
     "output_type": "stream",
     "text": [
      "/home/aiyappa/anaconda3/lib/python3.7/site-packages/tables/path.py:112: NaturalNameWarning: object name is not a valid Python identifier: 'sim_107_p_rew_0.1_start_1_dq_0.1'; it does not match the pattern ``^[a-zA-Z_][a-zA-Z0-9_]*$``; you will not be able to use natural naming to access this object; using ``getattr()`` will still work, though\n",
      "  NaturalNameWarning)\n"
     ]
    },
    {
     "name": "stdout",
     "output_type": "stream",
     "text": [
      "(sim,lamb_da,p_rew,start,dose_quantity) =  (107, 0.01, 0.10000000000000002, 1, 2)\n",
      "{88}\n",
      "sim_107_p_rew_0.1_start_1_dq_2\n"
     ]
    },
    {
     "name": "stderr",
     "output_type": "stream",
     "text": [
      "/home/aiyappa/anaconda3/lib/python3.7/site-packages/tables/path.py:112: NaturalNameWarning: object name is not a valid Python identifier: 'sim_107_p_rew_0.1_start_1_dq_2'; it does not match the pattern ``^[a-zA-Z_][a-zA-Z0-9_]*$``; you will not be able to use natural naming to access this object; using ``getattr()`` will still work, though\n",
      "  NaturalNameWarning)\n"
     ]
    },
    {
     "name": "stdout",
     "output_type": "stream",
     "text": [
      "(sim,lamb_da,p_rew,start,dose_quantity) =  (107, 0.01, 0.10000000000000002, 10, 0.1)\n",
      "Initial node infection step failed\n",
      "None\n",
      "{32, 35, 36, 44, 14, 48, 16, 51, 83, 54}\n",
      "sim_107_p_rew_0.1_start_10_dq_0.1\n"
     ]
    },
    {
     "name": "stderr",
     "output_type": "stream",
     "text": [
      "/home/aiyappa/anaconda3/lib/python3.7/site-packages/tables/path.py:112: NaturalNameWarning: object name is not a valid Python identifier: 'sim_107_p_rew_0.1_start_10_dq_0.1'; it does not match the pattern ``^[a-zA-Z_][a-zA-Z0-9_]*$``; you will not be able to use natural naming to access this object; using ``getattr()`` will still work, though\n",
      "  NaturalNameWarning)\n"
     ]
    },
    {
     "name": "stdout",
     "output_type": "stream",
     "text": [
      "(sim,lamb_da,p_rew,start,dose_quantity) =  (107, 0.01, 0.10000000000000002, 10, 2)\n",
      "{33, 1, 37, 7, 41, 49, 84, 25, 59, 94}\n",
      "sim_107_p_rew_0.1_start_10_dq_2\n"
     ]
    },
    {
     "name": "stderr",
     "output_type": "stream",
     "text": [
      "/home/aiyappa/anaconda3/lib/python3.7/site-packages/tables/path.py:112: NaturalNameWarning: object name is not a valid Python identifier: 'sim_107_p_rew_0.1_start_10_dq_2'; it does not match the pattern ``^[a-zA-Z_][a-zA-Z0-9_]*$``; you will not be able to use natural naming to access this object; using ``getattr()`` will still work, though\n",
      "  NaturalNameWarning)\n"
     ]
    },
    {
     "name": "stdout",
     "output_type": "stream",
     "text": [
      "(sim,lamb_da,p_rew,start,dose_quantity) =  (107, 0.10000000000000002, 1.0, 1, 0.1)\n",
      "{65}\n",
      "sim_107_p_rew_1_start_1_dq_0.1\n"
     ]
    },
    {
     "name": "stderr",
     "output_type": "stream",
     "text": [
      "/home/aiyappa/anaconda3/lib/python3.7/site-packages/tables/path.py:112: NaturalNameWarning: object name is not a valid Python identifier: 'sim_107_p_rew_1_start_1_dq_0.1'; it does not match the pattern ``^[a-zA-Z_][a-zA-Z0-9_]*$``; you will not be able to use natural naming to access this object; using ``getattr()`` will still work, though\n",
      "  NaturalNameWarning)\n"
     ]
    },
    {
     "name": "stdout",
     "output_type": "stream",
     "text": [
      "(sim,lamb_da,p_rew,start,dose_quantity) =  (107, 0.10000000000000002, 1.0, 1, 2)\n",
      "{3}\n",
      "sim_107_p_rew_1_start_1_dq_2\n",
      "(sim,lamb_da,p_rew,start,dose_quantity) =  (107, 0.10000000000000002, 1.0, 10, 0.1)\n",
      "Initial node infection step failed\n",
      "None\n",
      "Initial node infection step failed\n",
      "None\n",
      "{1, 41, 74, 77, 78, 15, 16, 49, 54, 89}\n",
      "sim_107_p_rew_1_start_10_dq_0.1\n"
     ]
    },
    {
     "name": "stderr",
     "output_type": "stream",
     "text": [
      "/home/aiyappa/anaconda3/lib/python3.7/site-packages/tables/path.py:112: NaturalNameWarning: object name is not a valid Python identifier: 'sim_107_p_rew_1_start_10_dq_0.1'; it does not match the pattern ``^[a-zA-Z_][a-zA-Z0-9_]*$``; you will not be able to use natural naming to access this object; using ``getattr()`` will still work, though\n",
      "  NaturalNameWarning)\n"
     ]
    },
    {
     "name": "stdout",
     "output_type": "stream",
     "text": [
      "(sim,lamb_da,p_rew,start,dose_quantity) =  (107, 0.10000000000000002, 1.0, 10, 2)\n",
      "{97, 68, 36, 6, 7, 40, 76, 21, 93, 94}\n",
      "sim_107_p_rew_1_start_10_dq_2\n",
      "(sim,lamb_da,p_rew,start,dose_quantity) =  (108, 0.001, 0.01, 1, 0.1)\n",
      "{86}\n",
      "sim_108_p_rew_0.01_start_1_dq_0.1\n"
     ]
    },
    {
     "name": "stderr",
     "output_type": "stream",
     "text": [
      "/home/aiyappa/anaconda3/lib/python3.7/site-packages/tables/path.py:112: NaturalNameWarning: object name is not a valid Python identifier: 'sim_108_p_rew_0.01_start_1_dq_0.1'; it does not match the pattern ``^[a-zA-Z_][a-zA-Z0-9_]*$``; you will not be able to use natural naming to access this object; using ``getattr()`` will still work, though\n",
      "  NaturalNameWarning)\n"
     ]
    },
    {
     "name": "stdout",
     "output_type": "stream",
     "text": [
      "(sim,lamb_da,p_rew,start,dose_quantity) =  (108, 0.001, 0.01, 1, 2)\n",
      "{83}\n",
      "sim_108_p_rew_0.01_start_1_dq_2\n"
     ]
    },
    {
     "name": "stderr",
     "output_type": "stream",
     "text": [
      "/home/aiyappa/anaconda3/lib/python3.7/site-packages/tables/path.py:112: NaturalNameWarning: object name is not a valid Python identifier: 'sim_108_p_rew_0.01_start_1_dq_2'; it does not match the pattern ``^[a-zA-Z_][a-zA-Z0-9_]*$``; you will not be able to use natural naming to access this object; using ``getattr()`` will still work, though\n",
      "  NaturalNameWarning)\n"
     ]
    },
    {
     "name": "stdout",
     "output_type": "stream",
     "text": [
      "(sim,lamb_da,p_rew,start,dose_quantity) =  (108, 0.001, 0.01, 10, 0.1)\n",
      "{71, 8, 41, 43, 76, 79, 17, 21, 58, 91}\n",
      "sim_108_p_rew_0.01_start_10_dq_0.1\n"
     ]
    },
    {
     "name": "stderr",
     "output_type": "stream",
     "text": [
      "/home/aiyappa/anaconda3/lib/python3.7/site-packages/tables/path.py:112: NaturalNameWarning: object name is not a valid Python identifier: 'sim_108_p_rew_0.01_start_10_dq_0.1'; it does not match the pattern ``^[a-zA-Z_][a-zA-Z0-9_]*$``; you will not be able to use natural naming to access this object; using ``getattr()`` will still work, though\n",
      "  NaturalNameWarning)\n"
     ]
    },
    {
     "name": "stdout",
     "output_type": "stream",
     "text": [
      "(sim,lamb_da,p_rew,start,dose_quantity) =  (108, 0.001, 0.01, 10, 2)\n",
      "{98, 99, 69, 46, 93, 85, 22, 24, 92, 61}\n",
      "sim_108_p_rew_0.01_start_10_dq_2\n"
     ]
    },
    {
     "name": "stderr",
     "output_type": "stream",
     "text": [
      "/home/aiyappa/anaconda3/lib/python3.7/site-packages/tables/path.py:112: NaturalNameWarning: object name is not a valid Python identifier: 'sim_108_p_rew_0.01_start_10_dq_2'; it does not match the pattern ``^[a-zA-Z_][a-zA-Z0-9_]*$``; you will not be able to use natural naming to access this object; using ``getattr()`` will still work, though\n",
      "  NaturalNameWarning)\n"
     ]
    },
    {
     "name": "stdout",
     "output_type": "stream",
     "text": [
      "(sim,lamb_da,p_rew,start,dose_quantity) =  (108, 0.01, 0.10000000000000002, 1, 0.1)\n",
      "{17}\n",
      "sim_108_p_rew_0.1_start_1_dq_0.1\n"
     ]
    },
    {
     "name": "stderr",
     "output_type": "stream",
     "text": [
      "/home/aiyappa/anaconda3/lib/python3.7/site-packages/tables/path.py:112: NaturalNameWarning: object name is not a valid Python identifier: 'sim_108_p_rew_0.1_start_1_dq_0.1'; it does not match the pattern ``^[a-zA-Z_][a-zA-Z0-9_]*$``; you will not be able to use natural naming to access this object; using ``getattr()`` will still work, though\n",
      "  NaturalNameWarning)\n"
     ]
    },
    {
     "name": "stdout",
     "output_type": "stream",
     "text": [
      "(sim,lamb_da,p_rew,start,dose_quantity) =  (108, 0.01, 0.10000000000000002, 1, 2)\n",
      "{74}\n",
      "sim_108_p_rew_0.1_start_1_dq_2\n"
     ]
    },
    {
     "name": "stderr",
     "output_type": "stream",
     "text": [
      "/home/aiyappa/anaconda3/lib/python3.7/site-packages/tables/path.py:112: NaturalNameWarning: object name is not a valid Python identifier: 'sim_108_p_rew_0.1_start_1_dq_2'; it does not match the pattern ``^[a-zA-Z_][a-zA-Z0-9_]*$``; you will not be able to use natural naming to access this object; using ``getattr()`` will still work, though\n",
      "  NaturalNameWarning)\n"
     ]
    },
    {
     "name": "stdout",
     "output_type": "stream",
     "text": [
      "(sim,lamb_da,p_rew,start,dose_quantity) =  (108, 0.01, 0.10000000000000002, 10, 0.1)\n",
      "{97, 66, 99, 10, 48, 49, 89, 26, 28, 25}\n",
      "sim_108_p_rew_0.1_start_10_dq_0.1\n"
     ]
    },
    {
     "name": "stderr",
     "output_type": "stream",
     "text": [
      "/home/aiyappa/anaconda3/lib/python3.7/site-packages/tables/path.py:112: NaturalNameWarning: object name is not a valid Python identifier: 'sim_108_p_rew_0.1_start_10_dq_0.1'; it does not match the pattern ``^[a-zA-Z_][a-zA-Z0-9_]*$``; you will not be able to use natural naming to access this object; using ``getattr()`` will still work, though\n",
      "  NaturalNameWarning)\n"
     ]
    },
    {
     "name": "stdout",
     "output_type": "stream",
     "text": [
      "(sim,lamb_da,p_rew,start,dose_quantity) =  (108, 0.01, 0.10000000000000002, 10, 2)\n",
      "{34, 98, 39, 7, 79, 55, 94, 27, 62, 63}\n",
      "sim_108_p_rew_0.1_start_10_dq_2\n"
     ]
    },
    {
     "name": "stderr",
     "output_type": "stream",
     "text": [
      "/home/aiyappa/anaconda3/lib/python3.7/site-packages/tables/path.py:112: NaturalNameWarning: object name is not a valid Python identifier: 'sim_108_p_rew_0.1_start_10_dq_2'; it does not match the pattern ``^[a-zA-Z_][a-zA-Z0-9_]*$``; you will not be able to use natural naming to access this object; using ``getattr()`` will still work, though\n",
      "  NaturalNameWarning)\n"
     ]
    },
    {
     "name": "stdout",
     "output_type": "stream",
     "text": [
      "(sim,lamb_da,p_rew,start,dose_quantity) =  (108, 0.10000000000000002, 1.0, 1, 0.1)\n",
      "{9}\n",
      "sim_108_p_rew_1_start_1_dq_0.1\n"
     ]
    },
    {
     "name": "stderr",
     "output_type": "stream",
     "text": [
      "/home/aiyappa/anaconda3/lib/python3.7/site-packages/tables/path.py:112: NaturalNameWarning: object name is not a valid Python identifier: 'sim_108_p_rew_1_start_1_dq_0.1'; it does not match the pattern ``^[a-zA-Z_][a-zA-Z0-9_]*$``; you will not be able to use natural naming to access this object; using ``getattr()`` will still work, though\n",
      "  NaturalNameWarning)\n"
     ]
    },
    {
     "name": "stdout",
     "output_type": "stream",
     "text": [
      "(sim,lamb_da,p_rew,start,dose_quantity) =  (108, 0.10000000000000002, 1.0, 1, 2)\n",
      "{79}\n",
      "sim_108_p_rew_1_start_1_dq_2\n",
      "(sim,lamb_da,p_rew,start,dose_quantity) =  (108, 0.10000000000000002, 1.0, 10, 0.1)\n",
      "{99, 68, 5, 72, 80, 48, 19, 21, 23, 29}\n",
      "sim_108_p_rew_1_start_10_dq_0.1\n"
     ]
    },
    {
     "name": "stderr",
     "output_type": "stream",
     "text": [
      "/home/aiyappa/anaconda3/lib/python3.7/site-packages/tables/path.py:112: NaturalNameWarning: object name is not a valid Python identifier: 'sim_108_p_rew_1_start_10_dq_0.1'; it does not match the pattern ``^[a-zA-Z_][a-zA-Z0-9_]*$``; you will not be able to use natural naming to access this object; using ``getattr()`` will still work, though\n",
      "  NaturalNameWarning)\n"
     ]
    },
    {
     "name": "stdout",
     "output_type": "stream",
     "text": [
      "(sim,lamb_da,p_rew,start,dose_quantity) =  (108, 0.10000000000000002, 1.0, 10, 2)\n",
      "{65, 73, 9, 45, 79, 49, 53, 25, 58, 63}\n",
      "sim_108_p_rew_1_start_10_dq_2\n",
      "(sim,lamb_da,p_rew,start,dose_quantity) =  (109, 0.001, 0.01, 1, 0.1)\n",
      "{52}\n",
      "sim_109_p_rew_0.01_start_1_dq_0.1\n"
     ]
    },
    {
     "name": "stderr",
     "output_type": "stream",
     "text": [
      "/home/aiyappa/anaconda3/lib/python3.7/site-packages/tables/path.py:112: NaturalNameWarning: object name is not a valid Python identifier: 'sim_109_p_rew_0.01_start_1_dq_0.1'; it does not match the pattern ``^[a-zA-Z_][a-zA-Z0-9_]*$``; you will not be able to use natural naming to access this object; using ``getattr()`` will still work, though\n",
      "  NaturalNameWarning)\n"
     ]
    },
    {
     "name": "stdout",
     "output_type": "stream",
     "text": [
      "(sim,lamb_da,p_rew,start,dose_quantity) =  (109, 0.001, 0.01, 1, 2)\n",
      "{23}\n",
      "sim_109_p_rew_0.01_start_1_dq_2\n"
     ]
    },
    {
     "name": "stderr",
     "output_type": "stream",
     "text": [
      "/home/aiyappa/anaconda3/lib/python3.7/site-packages/tables/path.py:112: NaturalNameWarning: object name is not a valid Python identifier: 'sim_109_p_rew_0.01_start_1_dq_2'; it does not match the pattern ``^[a-zA-Z_][a-zA-Z0-9_]*$``; you will not be able to use natural naming to access this object; using ``getattr()`` will still work, though\n",
      "  NaturalNameWarning)\n"
     ]
    },
    {
     "name": "stdout",
     "output_type": "stream",
     "text": [
      "(sim,lamb_da,p_rew,start,dose_quantity) =  (109, 0.001, 0.01, 10, 0.1)\n",
      "{32, 65, 70, 72, 73, 50, 21, 54, 89, 63}\n",
      "sim_109_p_rew_0.01_start_10_dq_0.1\n"
     ]
    },
    {
     "name": "stderr",
     "output_type": "stream",
     "text": [
      "/home/aiyappa/anaconda3/lib/python3.7/site-packages/tables/path.py:112: NaturalNameWarning: object name is not a valid Python identifier: 'sim_109_p_rew_0.01_start_10_dq_0.1'; it does not match the pattern ``^[a-zA-Z_][a-zA-Z0-9_]*$``; you will not be able to use natural naming to access this object; using ``getattr()`` will still work, though\n",
      "  NaturalNameWarning)\n"
     ]
    },
    {
     "name": "stdout",
     "output_type": "stream",
     "text": [
      "(sim,lamb_da,p_rew,start,dose_quantity) =  (109, 0.001, 0.01, 10, 2)\n",
      "{64, 33, 66, 99, 4, 97, 38, 6, 73, 25}\n",
      "sim_109_p_rew_0.01_start_10_dq_2\n"
     ]
    },
    {
     "name": "stderr",
     "output_type": "stream",
     "text": [
      "/home/aiyappa/anaconda3/lib/python3.7/site-packages/tables/path.py:112: NaturalNameWarning: object name is not a valid Python identifier: 'sim_109_p_rew_0.01_start_10_dq_2'; it does not match the pattern ``^[a-zA-Z_][a-zA-Z0-9_]*$``; you will not be able to use natural naming to access this object; using ``getattr()`` will still work, though\n",
      "  NaturalNameWarning)\n"
     ]
    },
    {
     "name": "stdout",
     "output_type": "stream",
     "text": [
      "(sim,lamb_da,p_rew,start,dose_quantity) =  (109, 0.01, 0.10000000000000002, 1, 0.1)\n",
      "{76}\n",
      "sim_109_p_rew_0.1_start_1_dq_0.1\n"
     ]
    },
    {
     "name": "stderr",
     "output_type": "stream",
     "text": [
      "/home/aiyappa/anaconda3/lib/python3.7/site-packages/tables/path.py:112: NaturalNameWarning: object name is not a valid Python identifier: 'sim_109_p_rew_0.1_start_1_dq_0.1'; it does not match the pattern ``^[a-zA-Z_][a-zA-Z0-9_]*$``; you will not be able to use natural naming to access this object; using ``getattr()`` will still work, though\n",
      "  NaturalNameWarning)\n"
     ]
    },
    {
     "name": "stdout",
     "output_type": "stream",
     "text": [
      "(sim,lamb_da,p_rew,start,dose_quantity) =  (109, 0.01, 0.10000000000000002, 1, 2)\n",
      "{60}\n",
      "sim_109_p_rew_0.1_start_1_dq_2\n"
     ]
    },
    {
     "name": "stderr",
     "output_type": "stream",
     "text": [
      "/home/aiyappa/anaconda3/lib/python3.7/site-packages/tables/path.py:112: NaturalNameWarning: object name is not a valid Python identifier: 'sim_109_p_rew_0.1_start_1_dq_2'; it does not match the pattern ``^[a-zA-Z_][a-zA-Z0-9_]*$``; you will not be able to use natural naming to access this object; using ``getattr()`` will still work, though\n",
      "  NaturalNameWarning)\n"
     ]
    },
    {
     "name": "stdout",
     "output_type": "stream",
     "text": [
      "(sim,lamb_da,p_rew,start,dose_quantity) =  (109, 0.01, 0.10000000000000002, 10, 0.1)\n",
      "{68, 36, 70, 77, 50, 21, 87, 56, 89, 91}\n",
      "sim_109_p_rew_0.1_start_10_dq_0.1\n"
     ]
    },
    {
     "name": "stderr",
     "output_type": "stream",
     "text": [
      "/home/aiyappa/anaconda3/lib/python3.7/site-packages/tables/path.py:112: NaturalNameWarning: object name is not a valid Python identifier: 'sim_109_p_rew_0.1_start_10_dq_0.1'; it does not match the pattern ``^[a-zA-Z_][a-zA-Z0-9_]*$``; you will not be able to use natural naming to access this object; using ``getattr()`` will still work, though\n",
      "  NaturalNameWarning)\n"
     ]
    },
    {
     "name": "stdout",
     "output_type": "stream",
     "text": [
      "(sim,lamb_da,p_rew,start,dose_quantity) =  (109, 0.01, 0.10000000000000002, 10, 2)\n",
      "{37, 7, 8, 78, 22, 55, 94, 58, 62, 63}\n",
      "sim_109_p_rew_0.1_start_10_dq_2\n"
     ]
    },
    {
     "name": "stderr",
     "output_type": "stream",
     "text": [
      "/home/aiyappa/anaconda3/lib/python3.7/site-packages/tables/path.py:112: NaturalNameWarning: object name is not a valid Python identifier: 'sim_109_p_rew_0.1_start_10_dq_2'; it does not match the pattern ``^[a-zA-Z_][a-zA-Z0-9_]*$``; you will not be able to use natural naming to access this object; using ``getattr()`` will still work, though\n",
      "  NaturalNameWarning)\n"
     ]
    },
    {
     "name": "stdout",
     "output_type": "stream",
     "text": [
      "(sim,lamb_da,p_rew,start,dose_quantity) =  (109, 0.10000000000000002, 1.0, 1, 0.1)\n",
      "{85}\n",
      "sim_109_p_rew_1_start_1_dq_0.1\n"
     ]
    },
    {
     "name": "stderr",
     "output_type": "stream",
     "text": [
      "/home/aiyappa/anaconda3/lib/python3.7/site-packages/tables/path.py:112: NaturalNameWarning: object name is not a valid Python identifier: 'sim_109_p_rew_1_start_1_dq_0.1'; it does not match the pattern ``^[a-zA-Z_][a-zA-Z0-9_]*$``; you will not be able to use natural naming to access this object; using ``getattr()`` will still work, though\n",
      "  NaturalNameWarning)\n"
     ]
    },
    {
     "name": "stdout",
     "output_type": "stream",
     "text": [
      "(sim,lamb_da,p_rew,start,dose_quantity) =  (109, 0.10000000000000002, 1.0, 1, 2)\n",
      "{75}\n",
      "sim_109_p_rew_1_start_1_dq_2\n",
      "(sim,lamb_da,p_rew,start,dose_quantity) =  (109, 0.10000000000000002, 1.0, 10, 0.1)\n",
      "Initial node infection step failed\n",
      "None\n",
      "{0, 35, 4, 68, 76, 45, 18, 82, 31, 63}\n",
      "sim_109_p_rew_1_start_10_dq_0.1\n"
     ]
    },
    {
     "name": "stderr",
     "output_type": "stream",
     "text": [
      "/home/aiyappa/anaconda3/lib/python3.7/site-packages/tables/path.py:112: NaturalNameWarning: object name is not a valid Python identifier: 'sim_109_p_rew_1_start_10_dq_0.1'; it does not match the pattern ``^[a-zA-Z_][a-zA-Z0-9_]*$``; you will not be able to use natural naming to access this object; using ``getattr()`` will still work, though\n",
      "  NaturalNameWarning)\n"
     ]
    },
    {
     "name": "stdout",
     "output_type": "stream",
     "text": [
      "(sim,lamb_da,p_rew,start,dose_quantity) =  (109, 0.10000000000000002, 1.0, 10, 2)\n",
      "{5, 71, 74, 76, 50, 83, 21, 55, 91, 62}\n",
      "sim_109_p_rew_1_start_10_dq_2\n",
      "(sim,lamb_da,p_rew,start,dose_quantity) =  (110, 0.001, 0.01, 1, 0.1)\n",
      "{81}\n",
      "sim_110_p_rew_0.01_start_1_dq_0.1\n"
     ]
    },
    {
     "name": "stderr",
     "output_type": "stream",
     "text": [
      "/home/aiyappa/anaconda3/lib/python3.7/site-packages/tables/path.py:112: NaturalNameWarning: object name is not a valid Python identifier: 'sim_110_p_rew_0.01_start_1_dq_0.1'; it does not match the pattern ``^[a-zA-Z_][a-zA-Z0-9_]*$``; you will not be able to use natural naming to access this object; using ``getattr()`` will still work, though\n",
      "  NaturalNameWarning)\n"
     ]
    },
    {
     "name": "stdout",
     "output_type": "stream",
     "text": [
      "(sim,lamb_da,p_rew,start,dose_quantity) =  (110, 0.001, 0.01, 1, 2)\n",
      "{72}\n",
      "sim_110_p_rew_0.01_start_1_dq_2\n"
     ]
    },
    {
     "name": "stderr",
     "output_type": "stream",
     "text": [
      "/home/aiyappa/anaconda3/lib/python3.7/site-packages/tables/path.py:112: NaturalNameWarning: object name is not a valid Python identifier: 'sim_110_p_rew_0.01_start_1_dq_2'; it does not match the pattern ``^[a-zA-Z_][a-zA-Z0-9_]*$``; you will not be able to use natural naming to access this object; using ``getattr()`` will still work, though\n",
      "  NaturalNameWarning)\n"
     ]
    },
    {
     "name": "stdout",
     "output_type": "stream",
     "text": [
      "(sim,lamb_da,p_rew,start,dose_quantity) =  (110, 0.001, 0.01, 10, 0.1)\n",
      "{34, 38, 12, 45, 16, 81, 49, 50, 62, 31}\n",
      "sim_110_p_rew_0.01_start_10_dq_0.1\n"
     ]
    },
    {
     "name": "stderr",
     "output_type": "stream",
     "text": [
      "/home/aiyappa/anaconda3/lib/python3.7/site-packages/tables/path.py:112: NaturalNameWarning: object name is not a valid Python identifier: 'sim_110_p_rew_0.01_start_10_dq_0.1'; it does not match the pattern ``^[a-zA-Z_][a-zA-Z0-9_]*$``; you will not be able to use natural naming to access this object; using ``getattr()`` will still work, though\n",
      "  NaturalNameWarning)\n"
     ]
    },
    {
     "name": "stdout",
     "output_type": "stream",
     "text": [
      "(sim,lamb_da,p_rew,start,dose_quantity) =  (110, 0.001, 0.01, 10, 2)\n",
      "{32, 1, 2, 6, 7, 40, 89, 58, 29, 62}\n",
      "sim_110_p_rew_0.01_start_10_dq_2\n"
     ]
    },
    {
     "name": "stderr",
     "output_type": "stream",
     "text": [
      "/home/aiyappa/anaconda3/lib/python3.7/site-packages/tables/path.py:112: NaturalNameWarning: object name is not a valid Python identifier: 'sim_110_p_rew_0.01_start_10_dq_2'; it does not match the pattern ``^[a-zA-Z_][a-zA-Z0-9_]*$``; you will not be able to use natural naming to access this object; using ``getattr()`` will still work, though\n",
      "  NaturalNameWarning)\n"
     ]
    },
    {
     "name": "stdout",
     "output_type": "stream",
     "text": [
      "(sim,lamb_da,p_rew,start,dose_quantity) =  (110, 0.01, 0.10000000000000002, 1, 0.1)\n",
      "{75}\n",
      "sim_110_p_rew_0.1_start_1_dq_0.1\n"
     ]
    },
    {
     "name": "stderr",
     "output_type": "stream",
     "text": [
      "/home/aiyappa/anaconda3/lib/python3.7/site-packages/tables/path.py:112: NaturalNameWarning: object name is not a valid Python identifier: 'sim_110_p_rew_0.1_start_1_dq_0.1'; it does not match the pattern ``^[a-zA-Z_][a-zA-Z0-9_]*$``; you will not be able to use natural naming to access this object; using ``getattr()`` will still work, though\n",
      "  NaturalNameWarning)\n"
     ]
    },
    {
     "name": "stdout",
     "output_type": "stream",
     "text": [
      "(sim,lamb_da,p_rew,start,dose_quantity) =  (110, 0.01, 0.10000000000000002, 1, 2)\n",
      "{37}\n",
      "sim_110_p_rew_0.1_start_1_dq_2\n"
     ]
    },
    {
     "name": "stderr",
     "output_type": "stream",
     "text": [
      "/home/aiyappa/anaconda3/lib/python3.7/site-packages/tables/path.py:112: NaturalNameWarning: object name is not a valid Python identifier: 'sim_110_p_rew_0.1_start_1_dq_2'; it does not match the pattern ``^[a-zA-Z_][a-zA-Z0-9_]*$``; you will not be able to use natural naming to access this object; using ``getattr()`` will still work, though\n",
      "  NaturalNameWarning)\n"
     ]
    },
    {
     "name": "stdout",
     "output_type": "stream",
     "text": [
      "(sim,lamb_da,p_rew,start,dose_quantity) =  (110, 0.01, 0.10000000000000002, 10, 0.1)\n",
      "{64, 33, 3, 99, 7, 72, 46, 15, 83, 26}\n",
      "sim_110_p_rew_0.1_start_10_dq_0.1\n"
     ]
    },
    {
     "name": "stderr",
     "output_type": "stream",
     "text": [
      "/home/aiyappa/anaconda3/lib/python3.7/site-packages/tables/path.py:112: NaturalNameWarning: object name is not a valid Python identifier: 'sim_110_p_rew_0.1_start_10_dq_0.1'; it does not match the pattern ``^[a-zA-Z_][a-zA-Z0-9_]*$``; you will not be able to use natural naming to access this object; using ``getattr()`` will still work, though\n",
      "  NaturalNameWarning)\n"
     ]
    },
    {
     "name": "stdout",
     "output_type": "stream",
     "text": [
      "(sim,lamb_da,p_rew,start,dose_quantity) =  (110, 0.01, 0.10000000000000002, 10, 2)\n",
      "{96, 65, 32, 3, 4, 70, 9, 77, 20, 30}\n",
      "sim_110_p_rew_0.1_start_10_dq_2\n"
     ]
    },
    {
     "name": "stderr",
     "output_type": "stream",
     "text": [
      "/home/aiyappa/anaconda3/lib/python3.7/site-packages/tables/path.py:112: NaturalNameWarning: object name is not a valid Python identifier: 'sim_110_p_rew_0.1_start_10_dq_2'; it does not match the pattern ``^[a-zA-Z_][a-zA-Z0-9_]*$``; you will not be able to use natural naming to access this object; using ``getattr()`` will still work, though\n",
      "  NaturalNameWarning)\n"
     ]
    },
    {
     "name": "stdout",
     "output_type": "stream",
     "text": [
      "(sim,lamb_da,p_rew,start,dose_quantity) =  (110, 0.10000000000000002, 1.0, 1, 0.1)\n",
      "{78}\n",
      "sim_110_p_rew_1_start_1_dq_0.1\n"
     ]
    },
    {
     "name": "stderr",
     "output_type": "stream",
     "text": [
      "/home/aiyappa/anaconda3/lib/python3.7/site-packages/tables/path.py:112: NaturalNameWarning: object name is not a valid Python identifier: 'sim_110_p_rew_1_start_1_dq_0.1'; it does not match the pattern ``^[a-zA-Z_][a-zA-Z0-9_]*$``; you will not be able to use natural naming to access this object; using ``getattr()`` will still work, though\n",
      "  NaturalNameWarning)\n"
     ]
    },
    {
     "name": "stdout",
     "output_type": "stream",
     "text": [
      "(sim,lamb_da,p_rew,start,dose_quantity) =  (110, 0.10000000000000002, 1.0, 1, 2)\n",
      "{29}\n",
      "sim_110_p_rew_1_start_1_dq_2\n",
      "(sim,lamb_da,p_rew,start,dose_quantity) =  (110, 0.10000000000000002, 1.0, 10, 0.1)\n",
      "Initial node infection step failed\n",
      "None\n",
      "{96, 71, 27, 16, 86, 23, 89, 58, 91, 25}\n",
      "sim_110_p_rew_1_start_10_dq_0.1\n"
     ]
    },
    {
     "name": "stderr",
     "output_type": "stream",
     "text": [
      "/home/aiyappa/anaconda3/lib/python3.7/site-packages/tables/path.py:112: NaturalNameWarning: object name is not a valid Python identifier: 'sim_110_p_rew_1_start_10_dq_0.1'; it does not match the pattern ``^[a-zA-Z_][a-zA-Z0-9_]*$``; you will not be able to use natural naming to access this object; using ``getattr()`` will still work, though\n",
      "  NaturalNameWarning)\n"
     ]
    },
    {
     "name": "stdout",
     "output_type": "stream",
     "text": [
      "(sim,lamb_da,p_rew,start,dose_quantity) =  (110, 0.10000000000000002, 1.0, 10, 2)\n",
      "{96, 35, 68, 38, 6, 75, 54, 55, 88, 58}\n",
      "sim_110_p_rew_1_start_10_dq_2\n",
      "(sim,lamb_da,p_rew,start,dose_quantity) =  (111, 0.001, 0.01, 1, 0.1)\n",
      "{43}\n",
      "sim_111_p_rew_0.01_start_1_dq_0.1\n"
     ]
    },
    {
     "name": "stderr",
     "output_type": "stream",
     "text": [
      "/home/aiyappa/anaconda3/lib/python3.7/site-packages/tables/path.py:112: NaturalNameWarning: object name is not a valid Python identifier: 'sim_111_p_rew_0.01_start_1_dq_0.1'; it does not match the pattern ``^[a-zA-Z_][a-zA-Z0-9_]*$``; you will not be able to use natural naming to access this object; using ``getattr()`` will still work, though\n",
      "  NaturalNameWarning)\n"
     ]
    },
    {
     "name": "stdout",
     "output_type": "stream",
     "text": [
      "(sim,lamb_da,p_rew,start,dose_quantity) =  (111, 0.001, 0.01, 1, 2)\n",
      "{92}\n",
      "sim_111_p_rew_0.01_start_1_dq_2\n"
     ]
    },
    {
     "name": "stderr",
     "output_type": "stream",
     "text": [
      "/home/aiyappa/anaconda3/lib/python3.7/site-packages/tables/path.py:112: NaturalNameWarning: object name is not a valid Python identifier: 'sim_111_p_rew_0.01_start_1_dq_2'; it does not match the pattern ``^[a-zA-Z_][a-zA-Z0-9_]*$``; you will not be able to use natural naming to access this object; using ``getattr()`` will still work, though\n",
      "  NaturalNameWarning)\n"
     ]
    },
    {
     "name": "stdout",
     "output_type": "stream",
     "text": [
      "(sim,lamb_da,p_rew,start,dose_quantity) =  (111, 0.001, 0.01, 10, 0.1)\n",
      "{66, 67, 36, 34, 71, 43, 44, 81, 30, 95}\n",
      "sim_111_p_rew_0.01_start_10_dq_0.1\n"
     ]
    },
    {
     "name": "stderr",
     "output_type": "stream",
     "text": [
      "/home/aiyappa/anaconda3/lib/python3.7/site-packages/tables/path.py:112: NaturalNameWarning: object name is not a valid Python identifier: 'sim_111_p_rew_0.01_start_10_dq_0.1'; it does not match the pattern ``^[a-zA-Z_][a-zA-Z0-9_]*$``; you will not be able to use natural naming to access this object; using ``getattr()`` will still work, though\n",
      "  NaturalNameWarning)\n"
     ]
    },
    {
     "name": "stdout",
     "output_type": "stream",
     "text": [
      "(sim,lamb_da,p_rew,start,dose_quantity) =  (111, 0.001, 0.01, 10, 2)\n",
      "{2, 9, 15, 49, 30, 21, 55, 60, 61, 62}\n",
      "sim_111_p_rew_0.01_start_10_dq_2\n"
     ]
    },
    {
     "name": "stderr",
     "output_type": "stream",
     "text": [
      "/home/aiyappa/anaconda3/lib/python3.7/site-packages/tables/path.py:112: NaturalNameWarning: object name is not a valid Python identifier: 'sim_111_p_rew_0.01_start_10_dq_2'; it does not match the pattern ``^[a-zA-Z_][a-zA-Z0-9_]*$``; you will not be able to use natural naming to access this object; using ``getattr()`` will still work, though\n",
      "  NaturalNameWarning)\n"
     ]
    },
    {
     "name": "stdout",
     "output_type": "stream",
     "text": [
      "(sim,lamb_da,p_rew,start,dose_quantity) =  (111, 0.01, 0.10000000000000002, 1, 0.1)\n",
      "{51}\n",
      "sim_111_p_rew_0.1_start_1_dq_0.1\n"
     ]
    },
    {
     "name": "stderr",
     "output_type": "stream",
     "text": [
      "/home/aiyappa/anaconda3/lib/python3.7/site-packages/tables/path.py:112: NaturalNameWarning: object name is not a valid Python identifier: 'sim_111_p_rew_0.1_start_1_dq_0.1'; it does not match the pattern ``^[a-zA-Z_][a-zA-Z0-9_]*$``; you will not be able to use natural naming to access this object; using ``getattr()`` will still work, though\n",
      "  NaturalNameWarning)\n"
     ]
    },
    {
     "name": "stdout",
     "output_type": "stream",
     "text": [
      "(sim,lamb_da,p_rew,start,dose_quantity) =  (111, 0.01, 0.10000000000000002, 1, 2)\n",
      "{20}\n",
      "sim_111_p_rew_0.1_start_1_dq_2\n"
     ]
    },
    {
     "name": "stderr",
     "output_type": "stream",
     "text": [
      "/home/aiyappa/anaconda3/lib/python3.7/site-packages/tables/path.py:112: NaturalNameWarning: object name is not a valid Python identifier: 'sim_111_p_rew_0.1_start_1_dq_2'; it does not match the pattern ``^[a-zA-Z_][a-zA-Z0-9_]*$``; you will not be able to use natural naming to access this object; using ``getattr()`` will still work, though\n",
      "  NaturalNameWarning)\n"
     ]
    },
    {
     "name": "stdout",
     "output_type": "stream",
     "text": [
      "(sim,lamb_da,p_rew,start,dose_quantity) =  (111, 0.01, 0.10000000000000002, 10, 0.1)\n",
      "{1, 98, 40, 75, 16, 52, 85, 54, 24, 90}\n",
      "sim_111_p_rew_0.1_start_10_dq_0.1\n"
     ]
    },
    {
     "name": "stderr",
     "output_type": "stream",
     "text": [
      "/home/aiyappa/anaconda3/lib/python3.7/site-packages/tables/path.py:112: NaturalNameWarning: object name is not a valid Python identifier: 'sim_111_p_rew_0.1_start_10_dq_0.1'; it does not match the pattern ``^[a-zA-Z_][a-zA-Z0-9_]*$``; you will not be able to use natural naming to access this object; using ``getattr()`` will still work, though\n",
      "  NaturalNameWarning)\n"
     ]
    },
    {
     "name": "stdout",
     "output_type": "stream",
     "text": [
      "(sim,lamb_da,p_rew,start,dose_quantity) =  (111, 0.01, 0.10000000000000002, 10, 2)\n",
      "{35, 36, 70, 38, 39, 46, 50, 19, 24, 58}\n",
      "sim_111_p_rew_0.1_start_10_dq_2\n"
     ]
    },
    {
     "name": "stderr",
     "output_type": "stream",
     "text": [
      "/home/aiyappa/anaconda3/lib/python3.7/site-packages/tables/path.py:112: NaturalNameWarning: object name is not a valid Python identifier: 'sim_111_p_rew_0.1_start_10_dq_2'; it does not match the pattern ``^[a-zA-Z_][a-zA-Z0-9_]*$``; you will not be able to use natural naming to access this object; using ``getattr()`` will still work, though\n",
      "  NaturalNameWarning)\n"
     ]
    },
    {
     "name": "stdout",
     "output_type": "stream",
     "text": [
      "(sim,lamb_da,p_rew,start,dose_quantity) =  (111, 0.10000000000000002, 1.0, 1, 0.1)\n",
      "{7}\n",
      "sim_111_p_rew_1_start_1_dq_0.1\n"
     ]
    },
    {
     "name": "stderr",
     "output_type": "stream",
     "text": [
      "/home/aiyappa/anaconda3/lib/python3.7/site-packages/tables/path.py:112: NaturalNameWarning: object name is not a valid Python identifier: 'sim_111_p_rew_1_start_1_dq_0.1'; it does not match the pattern ``^[a-zA-Z_][a-zA-Z0-9_]*$``; you will not be able to use natural naming to access this object; using ``getattr()`` will still work, though\n",
      "  NaturalNameWarning)\n"
     ]
    },
    {
     "name": "stdout",
     "output_type": "stream",
     "text": [
      "(sim,lamb_da,p_rew,start,dose_quantity) =  (111, 0.10000000000000002, 1.0, 1, 2)\n",
      "{45}\n",
      "sim_111_p_rew_1_start_1_dq_2\n",
      "(sim,lamb_da,p_rew,start,dose_quantity) =  (111, 0.10000000000000002, 1.0, 10, 0.1)\n",
      "{41, 76, 78, 14, 16, 17, 53, 56, 57, 30}\n",
      "sim_111_p_rew_1_start_10_dq_0.1\n"
     ]
    },
    {
     "name": "stderr",
     "output_type": "stream",
     "text": [
      "/home/aiyappa/anaconda3/lib/python3.7/site-packages/tables/path.py:112: NaturalNameWarning: object name is not a valid Python identifier: 'sim_111_p_rew_1_start_10_dq_0.1'; it does not match the pattern ``^[a-zA-Z_][a-zA-Z0-9_]*$``; you will not be able to use natural naming to access this object; using ``getattr()`` will still work, though\n",
      "  NaturalNameWarning)\n"
     ]
    },
    {
     "name": "stdout",
     "output_type": "stream",
     "text": [
      "(sim,lamb_da,p_rew,start,dose_quantity) =  (111, 0.10000000000000002, 1.0, 10, 2)\n",
      "{66, 67, 7, 60, 15, 20, 22, 92, 62, 63}\n",
      "sim_111_p_rew_1_start_10_dq_2\n",
      "(sim,lamb_da,p_rew,start,dose_quantity) =  (112, 0.001, 0.01, 1, 0.1)\n",
      "{41}\n",
      "sim_112_p_rew_0.01_start_1_dq_0.1\n"
     ]
    },
    {
     "name": "stderr",
     "output_type": "stream",
     "text": [
      "/home/aiyappa/anaconda3/lib/python3.7/site-packages/tables/path.py:112: NaturalNameWarning: object name is not a valid Python identifier: 'sim_112_p_rew_0.01_start_1_dq_0.1'; it does not match the pattern ``^[a-zA-Z_][a-zA-Z0-9_]*$``; you will not be able to use natural naming to access this object; using ``getattr()`` will still work, though\n",
      "  NaturalNameWarning)\n"
     ]
    },
    {
     "name": "stdout",
     "output_type": "stream",
     "text": [
      "(sim,lamb_da,p_rew,start,dose_quantity) =  (112, 0.001, 0.01, 1, 2)\n",
      "{31}\n",
      "sim_112_p_rew_0.01_start_1_dq_2\n"
     ]
    },
    {
     "name": "stderr",
     "output_type": "stream",
     "text": [
      "/home/aiyappa/anaconda3/lib/python3.7/site-packages/tables/path.py:112: NaturalNameWarning: object name is not a valid Python identifier: 'sim_112_p_rew_0.01_start_1_dq_2'; it does not match the pattern ``^[a-zA-Z_][a-zA-Z0-9_]*$``; you will not be able to use natural naming to access this object; using ``getattr()`` will still work, though\n",
      "  NaturalNameWarning)\n"
     ]
    },
    {
     "name": "stdout",
     "output_type": "stream",
     "text": [
      "(sim,lamb_da,p_rew,start,dose_quantity) =  (112, 0.001, 0.01, 10, 0.1)\n",
      "{39, 40, 41, 73, 76, 81, 50, 25, 31, 63}\n",
      "sim_112_p_rew_0.01_start_10_dq_0.1\n"
     ]
    },
    {
     "name": "stderr",
     "output_type": "stream",
     "text": [
      "/home/aiyappa/anaconda3/lib/python3.7/site-packages/tables/path.py:112: NaturalNameWarning: object name is not a valid Python identifier: 'sim_112_p_rew_0.01_start_10_dq_0.1'; it does not match the pattern ``^[a-zA-Z_][a-zA-Z0-9_]*$``; you will not be able to use natural naming to access this object; using ``getattr()`` will still work, though\n",
      "  NaturalNameWarning)\n"
     ]
    },
    {
     "name": "stdout",
     "output_type": "stream",
     "text": [
      "(sim,lamb_da,p_rew,start,dose_quantity) =  (112, 0.001, 0.01, 10, 2)\n",
      "{64, 98, 3, 4, 39, 72, 11, 13, 15, 53}\n",
      "sim_112_p_rew_0.01_start_10_dq_2\n"
     ]
    },
    {
     "name": "stderr",
     "output_type": "stream",
     "text": [
      "/home/aiyappa/anaconda3/lib/python3.7/site-packages/tables/path.py:112: NaturalNameWarning: object name is not a valid Python identifier: 'sim_112_p_rew_0.01_start_10_dq_2'; it does not match the pattern ``^[a-zA-Z_][a-zA-Z0-9_]*$``; you will not be able to use natural naming to access this object; using ``getattr()`` will still work, though\n",
      "  NaturalNameWarning)\n"
     ]
    },
    {
     "name": "stdout",
     "output_type": "stream",
     "text": [
      "(sim,lamb_da,p_rew,start,dose_quantity) =  (112, 0.01, 0.10000000000000002, 1, 0.1)\n",
      "{36}\n",
      "sim_112_p_rew_0.1_start_1_dq_0.1\n"
     ]
    },
    {
     "name": "stderr",
     "output_type": "stream",
     "text": [
      "/home/aiyappa/anaconda3/lib/python3.7/site-packages/tables/path.py:112: NaturalNameWarning: object name is not a valid Python identifier: 'sim_112_p_rew_0.1_start_1_dq_0.1'; it does not match the pattern ``^[a-zA-Z_][a-zA-Z0-9_]*$``; you will not be able to use natural naming to access this object; using ``getattr()`` will still work, though\n",
      "  NaturalNameWarning)\n"
     ]
    },
    {
     "name": "stdout",
     "output_type": "stream",
     "text": [
      "(sim,lamb_da,p_rew,start,dose_quantity) =  (112, 0.01, 0.10000000000000002, 1, 2)\n",
      "{86}\n",
      "sim_112_p_rew_0.1_start_1_dq_2\n"
     ]
    },
    {
     "name": "stderr",
     "output_type": "stream",
     "text": [
      "/home/aiyappa/anaconda3/lib/python3.7/site-packages/tables/path.py:112: NaturalNameWarning: object name is not a valid Python identifier: 'sim_112_p_rew_0.1_start_1_dq_2'; it does not match the pattern ``^[a-zA-Z_][a-zA-Z0-9_]*$``; you will not be able to use natural naming to access this object; using ``getattr()`` will still work, though\n",
      "  NaturalNameWarning)\n"
     ]
    },
    {
     "name": "stdout",
     "output_type": "stream",
     "text": [
      "(sim,lamb_da,p_rew,start,dose_quantity) =  (112, 0.01, 0.10000000000000002, 10, 0.1)\n",
      "{68, 74, 75, 43, 47, 61, 57, 26, 28, 93}\n",
      "sim_112_p_rew_0.1_start_10_dq_0.1\n"
     ]
    },
    {
     "name": "stderr",
     "output_type": "stream",
     "text": [
      "/home/aiyappa/anaconda3/lib/python3.7/site-packages/tables/path.py:112: NaturalNameWarning: object name is not a valid Python identifier: 'sim_112_p_rew_0.1_start_10_dq_0.1'; it does not match the pattern ``^[a-zA-Z_][a-zA-Z0-9_]*$``; you will not be able to use natural naming to access this object; using ``getattr()`` will still work, though\n",
      "  NaturalNameWarning)\n"
     ]
    },
    {
     "name": "stdout",
     "output_type": "stream",
     "text": [
      "(sim,lamb_da,p_rew,start,dose_quantity) =  (112, 0.01, 0.10000000000000002, 10, 2)\n",
      "{98, 68, 9, 47, 80, 49, 50, 20, 54, 94}\n",
      "sim_112_p_rew_0.1_start_10_dq_2\n"
     ]
    },
    {
     "name": "stderr",
     "output_type": "stream",
     "text": [
      "/home/aiyappa/anaconda3/lib/python3.7/site-packages/tables/path.py:112: NaturalNameWarning: object name is not a valid Python identifier: 'sim_112_p_rew_0.1_start_10_dq_2'; it does not match the pattern ``^[a-zA-Z_][a-zA-Z0-9_]*$``; you will not be able to use natural naming to access this object; using ``getattr()`` will still work, though\n",
      "  NaturalNameWarning)\n"
     ]
    },
    {
     "name": "stdout",
     "output_type": "stream",
     "text": [
      "(sim,lamb_da,p_rew,start,dose_quantity) =  (112, 0.10000000000000002, 1.0, 1, 0.1)\n",
      "{62}\n",
      "sim_112_p_rew_1_start_1_dq_0.1\n"
     ]
    },
    {
     "name": "stderr",
     "output_type": "stream",
     "text": [
      "/home/aiyappa/anaconda3/lib/python3.7/site-packages/tables/path.py:112: NaturalNameWarning: object name is not a valid Python identifier: 'sim_112_p_rew_1_start_1_dq_0.1'; it does not match the pattern ``^[a-zA-Z_][a-zA-Z0-9_]*$``; you will not be able to use natural naming to access this object; using ``getattr()`` will still work, though\n",
      "  NaturalNameWarning)\n"
     ]
    },
    {
     "name": "stdout",
     "output_type": "stream",
     "text": [
      "(sim,lamb_da,p_rew,start,dose_quantity) =  (112, 0.10000000000000002, 1.0, 1, 2)\n",
      "{36}\n",
      "sim_112_p_rew_1_start_1_dq_2\n",
      "(sim,lamb_da,p_rew,start,dose_quantity) =  (112, 0.10000000000000002, 1.0, 10, 0.1)\n",
      "Initial node infection step failed\n",
      "None\n",
      "{65, 7, 46, 79, 80, 49, 21, 25, 94, 95}\n",
      "sim_112_p_rew_1_start_10_dq_0.1\n"
     ]
    },
    {
     "name": "stderr",
     "output_type": "stream",
     "text": [
      "/home/aiyappa/anaconda3/lib/python3.7/site-packages/tables/path.py:112: NaturalNameWarning: object name is not a valid Python identifier: 'sim_112_p_rew_1_start_10_dq_0.1'; it does not match the pattern ``^[a-zA-Z_][a-zA-Z0-9_]*$``; you will not be able to use natural naming to access this object; using ``getattr()`` will still work, though\n",
      "  NaturalNameWarning)\n"
     ]
    },
    {
     "name": "stdout",
     "output_type": "stream",
     "text": [
      "(sim,lamb_da,p_rew,start,dose_quantity) =  (112, 0.10000000000000002, 1.0, 10, 2)\n",
      "{32, 66, 37, 43, 19, 22, 30, 56, 25, 94}\n",
      "sim_112_p_rew_1_start_10_dq_2\n",
      "(sim,lamb_da,p_rew,start,dose_quantity) =  (113, 0.001, 0.01, 1, 0.1)\n",
      "{97}\n",
      "sim_113_p_rew_0.01_start_1_dq_0.1\n"
     ]
    },
    {
     "name": "stderr",
     "output_type": "stream",
     "text": [
      "/home/aiyappa/anaconda3/lib/python3.7/site-packages/tables/path.py:112: NaturalNameWarning: object name is not a valid Python identifier: 'sim_113_p_rew_0.01_start_1_dq_0.1'; it does not match the pattern ``^[a-zA-Z_][a-zA-Z0-9_]*$``; you will not be able to use natural naming to access this object; using ``getattr()`` will still work, though\n",
      "  NaturalNameWarning)\n"
     ]
    },
    {
     "name": "stdout",
     "output_type": "stream",
     "text": [
      "(sim,lamb_da,p_rew,start,dose_quantity) =  (113, 0.001, 0.01, 1, 2)\n",
      "{20}\n",
      "sim_113_p_rew_0.01_start_1_dq_2\n"
     ]
    },
    {
     "name": "stderr",
     "output_type": "stream",
     "text": [
      "/home/aiyappa/anaconda3/lib/python3.7/site-packages/tables/path.py:112: NaturalNameWarning: object name is not a valid Python identifier: 'sim_113_p_rew_0.01_start_1_dq_2'; it does not match the pattern ``^[a-zA-Z_][a-zA-Z0-9_]*$``; you will not be able to use natural naming to access this object; using ``getattr()`` will still work, though\n",
      "  NaturalNameWarning)\n"
     ]
    },
    {
     "name": "stdout",
     "output_type": "stream",
     "text": [
      "(sim,lamb_da,p_rew,start,dose_quantity) =  (113, 0.001, 0.01, 10, 0.1)\n",
      "{37, 38, 8, 73, 11, 16, 50, 21, 26, 94}\n",
      "sim_113_p_rew_0.01_start_10_dq_0.1\n"
     ]
    },
    {
     "name": "stderr",
     "output_type": "stream",
     "text": [
      "/home/aiyappa/anaconda3/lib/python3.7/site-packages/tables/path.py:112: NaturalNameWarning: object name is not a valid Python identifier: 'sim_113_p_rew_0.01_start_10_dq_0.1'; it does not match the pattern ``^[a-zA-Z_][a-zA-Z0-9_]*$``; you will not be able to use natural naming to access this object; using ``getattr()`` will still work, though\n",
      "  NaturalNameWarning)\n"
     ]
    },
    {
     "name": "stdout",
     "output_type": "stream",
     "text": [
      "(sim,lamb_da,p_rew,start,dose_quantity) =  (113, 0.001, 0.01, 10, 2)\n",
      "{32, 65, 64, 96, 58, 37, 0, 84, 85, 90}\n",
      "sim_113_p_rew_0.01_start_10_dq_2\n"
     ]
    },
    {
     "name": "stderr",
     "output_type": "stream",
     "text": [
      "/home/aiyappa/anaconda3/lib/python3.7/site-packages/tables/path.py:112: NaturalNameWarning: object name is not a valid Python identifier: 'sim_113_p_rew_0.01_start_10_dq_2'; it does not match the pattern ``^[a-zA-Z_][a-zA-Z0-9_]*$``; you will not be able to use natural naming to access this object; using ``getattr()`` will still work, though\n",
      "  NaturalNameWarning)\n"
     ]
    },
    {
     "name": "stdout",
     "output_type": "stream",
     "text": [
      "(sim,lamb_da,p_rew,start,dose_quantity) =  (113, 0.01, 0.10000000000000002, 1, 0.1)\n",
      "{64}\n",
      "sim_113_p_rew_0.1_start_1_dq_0.1\n"
     ]
    },
    {
     "name": "stderr",
     "output_type": "stream",
     "text": [
      "/home/aiyappa/anaconda3/lib/python3.7/site-packages/tables/path.py:112: NaturalNameWarning: object name is not a valid Python identifier: 'sim_113_p_rew_0.1_start_1_dq_0.1'; it does not match the pattern ``^[a-zA-Z_][a-zA-Z0-9_]*$``; you will not be able to use natural naming to access this object; using ``getattr()`` will still work, though\n",
      "  NaturalNameWarning)\n"
     ]
    },
    {
     "name": "stdout",
     "output_type": "stream",
     "text": [
      "(sim,lamb_da,p_rew,start,dose_quantity) =  (113, 0.01, 0.10000000000000002, 1, 2)\n",
      "{17}\n",
      "sim_113_p_rew_0.1_start_1_dq_2\n"
     ]
    },
    {
     "name": "stderr",
     "output_type": "stream",
     "text": [
      "/home/aiyappa/anaconda3/lib/python3.7/site-packages/tables/path.py:112: NaturalNameWarning: object name is not a valid Python identifier: 'sim_113_p_rew_0.1_start_1_dq_2'; it does not match the pattern ``^[a-zA-Z_][a-zA-Z0-9_]*$``; you will not be able to use natural naming to access this object; using ``getattr()`` will still work, though\n",
      "  NaturalNameWarning)\n"
     ]
    },
    {
     "name": "stdout",
     "output_type": "stream",
     "text": [
      "(sim,lamb_da,p_rew,start,dose_quantity) =  (113, 0.01, 0.10000000000000002, 10, 0.1)\n",
      "{3, 99, 72, 13, 14, 18, 83, 55, 28, 93}\n",
      "sim_113_p_rew_0.1_start_10_dq_0.1\n"
     ]
    },
    {
     "name": "stderr",
     "output_type": "stream",
     "text": [
      "/home/aiyappa/anaconda3/lib/python3.7/site-packages/tables/path.py:112: NaturalNameWarning: object name is not a valid Python identifier: 'sim_113_p_rew_0.1_start_10_dq_0.1'; it does not match the pattern ``^[a-zA-Z_][a-zA-Z0-9_]*$``; you will not be able to use natural naming to access this object; using ``getattr()`` will still work, though\n",
      "  NaturalNameWarning)\n"
     ]
    },
    {
     "name": "stdout",
     "output_type": "stream",
     "text": [
      "(sim,lamb_da,p_rew,start,dose_quantity) =  (113, 0.01, 0.10000000000000002, 10, 2)\n",
      "{0, 1, 69, 13, 45, 15, 49, 82, 50, 29}\n",
      "sim_113_p_rew_0.1_start_10_dq_2\n"
     ]
    },
    {
     "name": "stderr",
     "output_type": "stream",
     "text": [
      "/home/aiyappa/anaconda3/lib/python3.7/site-packages/tables/path.py:112: NaturalNameWarning: object name is not a valid Python identifier: 'sim_113_p_rew_0.1_start_10_dq_2'; it does not match the pattern ``^[a-zA-Z_][a-zA-Z0-9_]*$``; you will not be able to use natural naming to access this object; using ``getattr()`` will still work, though\n",
      "  NaturalNameWarning)\n"
     ]
    },
    {
     "name": "stdout",
     "output_type": "stream",
     "text": [
      "(sim,lamb_da,p_rew,start,dose_quantity) =  (113, 0.10000000000000002, 1.0, 1, 0.1)\n",
      "{30}\n",
      "sim_113_p_rew_1_start_1_dq_0.1\n"
     ]
    },
    {
     "name": "stderr",
     "output_type": "stream",
     "text": [
      "/home/aiyappa/anaconda3/lib/python3.7/site-packages/tables/path.py:112: NaturalNameWarning: object name is not a valid Python identifier: 'sim_113_p_rew_1_start_1_dq_0.1'; it does not match the pattern ``^[a-zA-Z_][a-zA-Z0-9_]*$``; you will not be able to use natural naming to access this object; using ``getattr()`` will still work, though\n",
      "  NaturalNameWarning)\n"
     ]
    },
    {
     "name": "stdout",
     "output_type": "stream",
     "text": [
      "(sim,lamb_da,p_rew,start,dose_quantity) =  (113, 0.10000000000000002, 1.0, 1, 2)\n",
      "{60}\n",
      "sim_113_p_rew_1_start_1_dq_2\n",
      "(sim,lamb_da,p_rew,start,dose_quantity) =  (113, 0.10000000000000002, 1.0, 10, 0.1)\n",
      "{2, 67, 38, 51, 52, 22, 86, 56, 25, 59}\n",
      "sim_113_p_rew_1_start_10_dq_0.1\n"
     ]
    },
    {
     "name": "stderr",
     "output_type": "stream",
     "text": [
      "/home/aiyappa/anaconda3/lib/python3.7/site-packages/tables/path.py:112: NaturalNameWarning: object name is not a valid Python identifier: 'sim_113_p_rew_1_start_10_dq_0.1'; it does not match the pattern ``^[a-zA-Z_][a-zA-Z0-9_]*$``; you will not be able to use natural naming to access this object; using ``getattr()`` will still work, though\n",
      "  NaturalNameWarning)\n"
     ]
    },
    {
     "name": "stdout",
     "output_type": "stream",
     "text": [
      "(sim,lamb_da,p_rew,start,dose_quantity) =  (113, 0.10000000000000002, 1.0, 10, 2)\n",
      "{65, 40, 72, 73, 43, 83, 85, 28, 94, 95}\n",
      "sim_113_p_rew_1_start_10_dq_2\n",
      "(sim,lamb_da,p_rew,start,dose_quantity) =  (114, 0.001, 0.01, 1, 0.1)\n",
      "{44}\n",
      "sim_114_p_rew_0.01_start_1_dq_0.1\n"
     ]
    },
    {
     "name": "stderr",
     "output_type": "stream",
     "text": [
      "/home/aiyappa/anaconda3/lib/python3.7/site-packages/tables/path.py:112: NaturalNameWarning: object name is not a valid Python identifier: 'sim_114_p_rew_0.01_start_1_dq_0.1'; it does not match the pattern ``^[a-zA-Z_][a-zA-Z0-9_]*$``; you will not be able to use natural naming to access this object; using ``getattr()`` will still work, though\n",
      "  NaturalNameWarning)\n"
     ]
    },
    {
     "name": "stdout",
     "output_type": "stream",
     "text": [
      "(sim,lamb_da,p_rew,start,dose_quantity) =  (114, 0.001, 0.01, 1, 2)\n",
      "{52}\n",
      "sim_114_p_rew_0.01_start_1_dq_2\n"
     ]
    },
    {
     "name": "stderr",
     "output_type": "stream",
     "text": [
      "/home/aiyappa/anaconda3/lib/python3.7/site-packages/tables/path.py:112: NaturalNameWarning: object name is not a valid Python identifier: 'sim_114_p_rew_0.01_start_1_dq_2'; it does not match the pattern ``^[a-zA-Z_][a-zA-Z0-9_]*$``; you will not be able to use natural naming to access this object; using ``getattr()`` will still work, though\n",
      "  NaturalNameWarning)\n"
     ]
    },
    {
     "name": "stdout",
     "output_type": "stream",
     "text": [
      "(sim,lamb_da,p_rew,start,dose_quantity) =  (114, 0.001, 0.01, 10, 0.1)\n",
      "{64, 0, 66, 10, 28, 16, 84, 20, 21, 60}\n",
      "sim_114_p_rew_0.01_start_10_dq_0.1\n"
     ]
    },
    {
     "name": "stderr",
     "output_type": "stream",
     "text": [
      "/home/aiyappa/anaconda3/lib/python3.7/site-packages/tables/path.py:112: NaturalNameWarning: object name is not a valid Python identifier: 'sim_114_p_rew_0.01_start_10_dq_0.1'; it does not match the pattern ``^[a-zA-Z_][a-zA-Z0-9_]*$``; you will not be able to use natural naming to access this object; using ``getattr()`` will still work, though\n",
      "  NaturalNameWarning)\n"
     ]
    },
    {
     "name": "stdout",
     "output_type": "stream",
     "text": [
      "(sim,lamb_da,p_rew,start,dose_quantity) =  (114, 0.001, 0.01, 10, 2)\n",
      "{96, 2, 36, 75, 81, 18, 25, 58, 94, 57}\n",
      "sim_114_p_rew_0.01_start_10_dq_2\n"
     ]
    },
    {
     "name": "stderr",
     "output_type": "stream",
     "text": [
      "/home/aiyappa/anaconda3/lib/python3.7/site-packages/tables/path.py:112: NaturalNameWarning: object name is not a valid Python identifier: 'sim_114_p_rew_0.01_start_10_dq_2'; it does not match the pattern ``^[a-zA-Z_][a-zA-Z0-9_]*$``; you will not be able to use natural naming to access this object; using ``getattr()`` will still work, though\n",
      "  NaturalNameWarning)\n"
     ]
    },
    {
     "name": "stdout",
     "output_type": "stream",
     "text": [
      "(sim,lamb_da,p_rew,start,dose_quantity) =  (114, 0.01, 0.10000000000000002, 1, 0.1)\n",
      "{43}\n",
      "sim_114_p_rew_0.1_start_1_dq_0.1\n"
     ]
    },
    {
     "name": "stderr",
     "output_type": "stream",
     "text": [
      "/home/aiyappa/anaconda3/lib/python3.7/site-packages/tables/path.py:112: NaturalNameWarning: object name is not a valid Python identifier: 'sim_114_p_rew_0.1_start_1_dq_0.1'; it does not match the pattern ``^[a-zA-Z_][a-zA-Z0-9_]*$``; you will not be able to use natural naming to access this object; using ``getattr()`` will still work, though\n",
      "  NaturalNameWarning)\n"
     ]
    },
    {
     "name": "stdout",
     "output_type": "stream",
     "text": [
      "(sim,lamb_da,p_rew,start,dose_quantity) =  (114, 0.01, 0.10000000000000002, 1, 2)\n",
      "{69}\n",
      "sim_114_p_rew_0.1_start_1_dq_2\n"
     ]
    },
    {
     "name": "stderr",
     "output_type": "stream",
     "text": [
      "/home/aiyappa/anaconda3/lib/python3.7/site-packages/tables/path.py:112: NaturalNameWarning: object name is not a valid Python identifier: 'sim_114_p_rew_0.1_start_1_dq_2'; it does not match the pattern ``^[a-zA-Z_][a-zA-Z0-9_]*$``; you will not be able to use natural naming to access this object; using ``getattr()`` will still work, though\n",
      "  NaturalNameWarning)\n"
     ]
    },
    {
     "name": "stdout",
     "output_type": "stream",
     "text": [
      "(sim,lamb_da,p_rew,start,dose_quantity) =  (114, 0.01, 0.10000000000000002, 10, 0.1)\n",
      "{65, 68, 7, 74, 46, 81, 82, 86, 90, 61}\n",
      "sim_114_p_rew_0.1_start_10_dq_0.1\n"
     ]
    },
    {
     "name": "stderr",
     "output_type": "stream",
     "text": [
      "/home/aiyappa/anaconda3/lib/python3.7/site-packages/tables/path.py:112: NaturalNameWarning: object name is not a valid Python identifier: 'sim_114_p_rew_0.1_start_10_dq_0.1'; it does not match the pattern ``^[a-zA-Z_][a-zA-Z0-9_]*$``; you will not be able to use natural naming to access this object; using ``getattr()`` will still work, though\n",
      "  NaturalNameWarning)\n"
     ]
    },
    {
     "name": "stdout",
     "output_type": "stream",
     "text": [
      "(sim,lamb_da,p_rew,start,dose_quantity) =  (114, 0.01, 0.10000000000000002, 10, 2)\n",
      "{32, 65, 37, 92, 17, 53, 55, 57, 58, 28}\n",
      "sim_114_p_rew_0.1_start_10_dq_2\n"
     ]
    },
    {
     "name": "stderr",
     "output_type": "stream",
     "text": [
      "/home/aiyappa/anaconda3/lib/python3.7/site-packages/tables/path.py:112: NaturalNameWarning: object name is not a valid Python identifier: 'sim_114_p_rew_0.1_start_10_dq_2'; it does not match the pattern ``^[a-zA-Z_][a-zA-Z0-9_]*$``; you will not be able to use natural naming to access this object; using ``getattr()`` will still work, though\n",
      "  NaturalNameWarning)\n"
     ]
    },
    {
     "name": "stdout",
     "output_type": "stream",
     "text": [
      "(sim,lamb_da,p_rew,start,dose_quantity) =  (114, 0.10000000000000002, 1.0, 1, 0.1)\n",
      "{41}\n",
      "sim_114_p_rew_1_start_1_dq_0.1\n"
     ]
    },
    {
     "name": "stderr",
     "output_type": "stream",
     "text": [
      "/home/aiyappa/anaconda3/lib/python3.7/site-packages/tables/path.py:112: NaturalNameWarning: object name is not a valid Python identifier: 'sim_114_p_rew_1_start_1_dq_0.1'; it does not match the pattern ``^[a-zA-Z_][a-zA-Z0-9_]*$``; you will not be able to use natural naming to access this object; using ``getattr()`` will still work, though\n",
      "  NaturalNameWarning)\n"
     ]
    },
    {
     "name": "stdout",
     "output_type": "stream",
     "text": [
      "(sim,lamb_da,p_rew,start,dose_quantity) =  (114, 0.10000000000000002, 1.0, 1, 2)\n",
      "{18}\n",
      "sim_114_p_rew_1_start_1_dq_2\n",
      "(sim,lamb_da,p_rew,start,dose_quantity) =  (114, 0.10000000000000002, 1.0, 10, 0.1)\n",
      "Initial node infection step failed\n",
      "None\n",
      "Initial node infection step failed\n",
      "None\n",
      "{32, 68, 73, 77, 14, 83, 21, 54, 25, 59}\n",
      "sim_114_p_rew_1_start_10_dq_0.1\n"
     ]
    },
    {
     "name": "stderr",
     "output_type": "stream",
     "text": [
      "/home/aiyappa/anaconda3/lib/python3.7/site-packages/tables/path.py:112: NaturalNameWarning: object name is not a valid Python identifier: 'sim_114_p_rew_1_start_10_dq_0.1'; it does not match the pattern ``^[a-zA-Z_][a-zA-Z0-9_]*$``; you will not be able to use natural naming to access this object; using ``getattr()`` will still work, though\n",
      "  NaturalNameWarning)\n"
     ]
    },
    {
     "name": "stdout",
     "output_type": "stream",
     "text": [
      "(sim,lamb_da,p_rew,start,dose_quantity) =  (114, 0.10000000000000002, 1.0, 10, 2)\n",
      "{3, 37, 6, 5, 74, 15, 48, 49, 83, 92}\n",
      "sim_114_p_rew_1_start_10_dq_2\n",
      "(sim,lamb_da,p_rew,start,dose_quantity) =  (115, 0.001, 0.01, 1, 0.1)\n",
      "{26}\n",
      "sim_115_p_rew_0.01_start_1_dq_0.1\n"
     ]
    },
    {
     "name": "stderr",
     "output_type": "stream",
     "text": [
      "/home/aiyappa/anaconda3/lib/python3.7/site-packages/tables/path.py:112: NaturalNameWarning: object name is not a valid Python identifier: 'sim_115_p_rew_0.01_start_1_dq_0.1'; it does not match the pattern ``^[a-zA-Z_][a-zA-Z0-9_]*$``; you will not be able to use natural naming to access this object; using ``getattr()`` will still work, though\n",
      "  NaturalNameWarning)\n"
     ]
    },
    {
     "name": "stdout",
     "output_type": "stream",
     "text": [
      "(sim,lamb_da,p_rew,start,dose_quantity) =  (115, 0.001, 0.01, 1, 2)\n",
      "{63}\n",
      "sim_115_p_rew_0.01_start_1_dq_2\n"
     ]
    },
    {
     "name": "stderr",
     "output_type": "stream",
     "text": [
      "/home/aiyappa/anaconda3/lib/python3.7/site-packages/tables/path.py:112: NaturalNameWarning: object name is not a valid Python identifier: 'sim_115_p_rew_0.01_start_1_dq_2'; it does not match the pattern ``^[a-zA-Z_][a-zA-Z0-9_]*$``; you will not be able to use natural naming to access this object; using ``getattr()`` will still work, though\n",
      "  NaturalNameWarning)\n"
     ]
    },
    {
     "name": "stdout",
     "output_type": "stream",
     "text": [
      "(sim,lamb_da,p_rew,start,dose_quantity) =  (115, 0.001, 0.01, 10, 0.1)\n",
      "{99, 45, 13, 78, 49, 83, 21, 53, 23, 58}\n",
      "sim_115_p_rew_0.01_start_10_dq_0.1\n"
     ]
    },
    {
     "name": "stderr",
     "output_type": "stream",
     "text": [
      "/home/aiyappa/anaconda3/lib/python3.7/site-packages/tables/path.py:112: NaturalNameWarning: object name is not a valid Python identifier: 'sim_115_p_rew_0.01_start_10_dq_0.1'; it does not match the pattern ``^[a-zA-Z_][a-zA-Z0-9_]*$``; you will not be able to use natural naming to access this object; using ``getattr()`` will still work, though\n",
      "  NaturalNameWarning)\n"
     ]
    },
    {
     "name": "stdout",
     "output_type": "stream",
     "text": [
      "(sim,lamb_da,p_rew,start,dose_quantity) =  (115, 0.001, 0.01, 10, 2)\n",
      "{99, 3, 70, 7, 13, 46, 82, 84, 56, 94}\n",
      "sim_115_p_rew_0.01_start_10_dq_2\n"
     ]
    },
    {
     "name": "stderr",
     "output_type": "stream",
     "text": [
      "/home/aiyappa/anaconda3/lib/python3.7/site-packages/tables/path.py:112: NaturalNameWarning: object name is not a valid Python identifier: 'sim_115_p_rew_0.01_start_10_dq_2'; it does not match the pattern ``^[a-zA-Z_][a-zA-Z0-9_]*$``; you will not be able to use natural naming to access this object; using ``getattr()`` will still work, though\n",
      "  NaturalNameWarning)\n"
     ]
    },
    {
     "name": "stdout",
     "output_type": "stream",
     "text": [
      "(sim,lamb_da,p_rew,start,dose_quantity) =  (115, 0.01, 0.10000000000000002, 1, 0.1)\n",
      "{6}\n",
      "sim_115_p_rew_0.1_start_1_dq_0.1\n"
     ]
    },
    {
     "name": "stderr",
     "output_type": "stream",
     "text": [
      "/home/aiyappa/anaconda3/lib/python3.7/site-packages/tables/path.py:112: NaturalNameWarning: object name is not a valid Python identifier: 'sim_115_p_rew_0.1_start_1_dq_0.1'; it does not match the pattern ``^[a-zA-Z_][a-zA-Z0-9_]*$``; you will not be able to use natural naming to access this object; using ``getattr()`` will still work, though\n",
      "  NaturalNameWarning)\n"
     ]
    },
    {
     "name": "stdout",
     "output_type": "stream",
     "text": [
      "(sim,lamb_da,p_rew,start,dose_quantity) =  (115, 0.01, 0.10000000000000002, 1, 2)\n",
      "{46}\n",
      "sim_115_p_rew_0.1_start_1_dq_2\n"
     ]
    },
    {
     "name": "stderr",
     "output_type": "stream",
     "text": [
      "/home/aiyappa/anaconda3/lib/python3.7/site-packages/tables/path.py:112: NaturalNameWarning: object name is not a valid Python identifier: 'sim_115_p_rew_0.1_start_1_dq_2'; it does not match the pattern ``^[a-zA-Z_][a-zA-Z0-9_]*$``; you will not be able to use natural naming to access this object; using ``getattr()`` will still work, though\n",
      "  NaturalNameWarning)\n"
     ]
    },
    {
     "name": "stdout",
     "output_type": "stream",
     "text": [
      "(sim,lamb_da,p_rew,start,dose_quantity) =  (115, 0.01, 0.10000000000000002, 10, 0.1)\n",
      "{69, 71, 11, 78, 17, 83, 21, 87, 26, 95}\n",
      "sim_115_p_rew_0.1_start_10_dq_0.1\n"
     ]
    },
    {
     "name": "stderr",
     "output_type": "stream",
     "text": [
      "/home/aiyappa/anaconda3/lib/python3.7/site-packages/tables/path.py:112: NaturalNameWarning: object name is not a valid Python identifier: 'sim_115_p_rew_0.1_start_10_dq_0.1'; it does not match the pattern ``^[a-zA-Z_][a-zA-Z0-9_]*$``; you will not be able to use natural naming to access this object; using ``getattr()`` will still work, though\n",
      "  NaturalNameWarning)\n"
     ]
    },
    {
     "name": "stdout",
     "output_type": "stream",
     "text": [
      "(sim,lamb_da,p_rew,start,dose_quantity) =  (115, 0.01, 0.10000000000000002, 10, 2)\n",
      "{65, 68, 40, 44, 19, 21, 57, 26, 93, 94}\n",
      "sim_115_p_rew_0.1_start_10_dq_2\n"
     ]
    },
    {
     "name": "stderr",
     "output_type": "stream",
     "text": [
      "/home/aiyappa/anaconda3/lib/python3.7/site-packages/tables/path.py:112: NaturalNameWarning: object name is not a valid Python identifier: 'sim_115_p_rew_0.1_start_10_dq_2'; it does not match the pattern ``^[a-zA-Z_][a-zA-Z0-9_]*$``; you will not be able to use natural naming to access this object; using ``getattr()`` will still work, though\n",
      "  NaturalNameWarning)\n"
     ]
    },
    {
     "name": "stdout",
     "output_type": "stream",
     "text": [
      "(sim,lamb_da,p_rew,start,dose_quantity) =  (115, 0.10000000000000002, 1.0, 1, 0.1)\n",
      "{35}\n",
      "sim_115_p_rew_1_start_1_dq_0.1\n"
     ]
    },
    {
     "name": "stderr",
     "output_type": "stream",
     "text": [
      "/home/aiyappa/anaconda3/lib/python3.7/site-packages/tables/path.py:112: NaturalNameWarning: object name is not a valid Python identifier: 'sim_115_p_rew_1_start_1_dq_0.1'; it does not match the pattern ``^[a-zA-Z_][a-zA-Z0-9_]*$``; you will not be able to use natural naming to access this object; using ``getattr()`` will still work, though\n",
      "  NaturalNameWarning)\n"
     ]
    },
    {
     "name": "stdout",
     "output_type": "stream",
     "text": [
      "(sim,lamb_da,p_rew,start,dose_quantity) =  (115, 0.10000000000000002, 1.0, 1, 2)\n",
      "{54}\n",
      "sim_115_p_rew_1_start_1_dq_2\n",
      "(sim,lamb_da,p_rew,start,dose_quantity) =  (115, 0.10000000000000002, 1.0, 10, 0.1)\n",
      "{33, 66, 36, 5, 8, 42, 77, 48, 87, 29}\n",
      "sim_115_p_rew_1_start_10_dq_0.1\n"
     ]
    },
    {
     "name": "stderr",
     "output_type": "stream",
     "text": [
      "/home/aiyappa/anaconda3/lib/python3.7/site-packages/tables/path.py:112: NaturalNameWarning: object name is not a valid Python identifier: 'sim_115_p_rew_1_start_10_dq_0.1'; it does not match the pattern ``^[a-zA-Z_][a-zA-Z0-9_]*$``; you will not be able to use natural naming to access this object; using ``getattr()`` will still work, though\n",
      "  NaturalNameWarning)\n"
     ]
    },
    {
     "name": "stdout",
     "output_type": "stream",
     "text": [
      "(sim,lamb_da,p_rew,start,dose_quantity) =  (115, 0.10000000000000002, 1.0, 10, 2)\n",
      "{6, 74, 47, 16, 17, 15, 80, 22, 91, 31}\n",
      "sim_115_p_rew_1_start_10_dq_2\n",
      "(sim,lamb_da,p_rew,start,dose_quantity) =  (116, 0.001, 0.01, 1, 0.1)\n",
      "{78}\n",
      "sim_116_p_rew_0.01_start_1_dq_0.1\n"
     ]
    },
    {
     "name": "stderr",
     "output_type": "stream",
     "text": [
      "/home/aiyappa/anaconda3/lib/python3.7/site-packages/tables/path.py:112: NaturalNameWarning: object name is not a valid Python identifier: 'sim_116_p_rew_0.01_start_1_dq_0.1'; it does not match the pattern ``^[a-zA-Z_][a-zA-Z0-9_]*$``; you will not be able to use natural naming to access this object; using ``getattr()`` will still work, though\n",
      "  NaturalNameWarning)\n"
     ]
    },
    {
     "name": "stdout",
     "output_type": "stream",
     "text": [
      "(sim,lamb_da,p_rew,start,dose_quantity) =  (116, 0.001, 0.01, 1, 2)\n",
      "{21}\n",
      "sim_116_p_rew_0.01_start_1_dq_2\n"
     ]
    },
    {
     "name": "stderr",
     "output_type": "stream",
     "text": [
      "/home/aiyappa/anaconda3/lib/python3.7/site-packages/tables/path.py:112: NaturalNameWarning: object name is not a valid Python identifier: 'sim_116_p_rew_0.01_start_1_dq_2'; it does not match the pattern ``^[a-zA-Z_][a-zA-Z0-9_]*$``; you will not be able to use natural naming to access this object; using ``getattr()`` will still work, though\n",
      "  NaturalNameWarning)\n"
     ]
    },
    {
     "name": "stdout",
     "output_type": "stream",
     "text": [
      "(sim,lamb_da,p_rew,start,dose_quantity) =  (116, 0.001, 0.01, 10, 0.1)\n",
      "{1, 69, 7, 39, 11, 44, 19, 53, 91, 63}\n",
      "sim_116_p_rew_0.01_start_10_dq_0.1\n"
     ]
    },
    {
     "name": "stderr",
     "output_type": "stream",
     "text": [
      "/home/aiyappa/anaconda3/lib/python3.7/site-packages/tables/path.py:112: NaturalNameWarning: object name is not a valid Python identifier: 'sim_116_p_rew_0.01_start_10_dq_0.1'; it does not match the pattern ``^[a-zA-Z_][a-zA-Z0-9_]*$``; you will not be able to use natural naming to access this object; using ``getattr()`` will still work, though\n",
      "  NaturalNameWarning)\n"
     ]
    },
    {
     "name": "stdout",
     "output_type": "stream",
     "text": [
      "(sim,lamb_da,p_rew,start,dose_quantity) =  (116, 0.001, 0.01, 10, 2)\n",
      "{97, 3, 5, 40, 9, 10, 44, 51, 88, 26}\n",
      "sim_116_p_rew_0.01_start_10_dq_2\n"
     ]
    },
    {
     "name": "stderr",
     "output_type": "stream",
     "text": [
      "/home/aiyappa/anaconda3/lib/python3.7/site-packages/tables/path.py:112: NaturalNameWarning: object name is not a valid Python identifier: 'sim_116_p_rew_0.01_start_10_dq_2'; it does not match the pattern ``^[a-zA-Z_][a-zA-Z0-9_]*$``; you will not be able to use natural naming to access this object; using ``getattr()`` will still work, though\n",
      "  NaturalNameWarning)\n"
     ]
    },
    {
     "name": "stdout",
     "output_type": "stream",
     "text": [
      "(sim,lamb_da,p_rew,start,dose_quantity) =  (116, 0.01, 0.10000000000000002, 1, 0.1)\n",
      "{82}\n",
      "sim_116_p_rew_0.1_start_1_dq_0.1\n"
     ]
    },
    {
     "name": "stderr",
     "output_type": "stream",
     "text": [
      "/home/aiyappa/anaconda3/lib/python3.7/site-packages/tables/path.py:112: NaturalNameWarning: object name is not a valid Python identifier: 'sim_116_p_rew_0.1_start_1_dq_0.1'; it does not match the pattern ``^[a-zA-Z_][a-zA-Z0-9_]*$``; you will not be able to use natural naming to access this object; using ``getattr()`` will still work, though\n",
      "  NaturalNameWarning)\n"
     ]
    },
    {
     "name": "stdout",
     "output_type": "stream",
     "text": [
      "(sim,lamb_da,p_rew,start,dose_quantity) =  (116, 0.01, 0.10000000000000002, 1, 2)\n",
      "{22}\n",
      "sim_116_p_rew_0.1_start_1_dq_2\n"
     ]
    },
    {
     "name": "stderr",
     "output_type": "stream",
     "text": [
      "/home/aiyappa/anaconda3/lib/python3.7/site-packages/tables/path.py:112: NaturalNameWarning: object name is not a valid Python identifier: 'sim_116_p_rew_0.1_start_1_dq_2'; it does not match the pattern ``^[a-zA-Z_][a-zA-Z0-9_]*$``; you will not be able to use natural naming to access this object; using ``getattr()`` will still work, though\n",
      "  NaturalNameWarning)\n"
     ]
    },
    {
     "name": "stdout",
     "output_type": "stream",
     "text": [
      "(sim,lamb_da,p_rew,start,dose_quantity) =  (116, 0.01, 0.10000000000000002, 10, 0.1)\n",
      "Initial node infection step failed\n",
      "None\n",
      "{32, 35, 3, 7, 45, 77, 49, 82, 61, 30}\n",
      "sim_116_p_rew_0.1_start_10_dq_0.1\n"
     ]
    },
    {
     "name": "stderr",
     "output_type": "stream",
     "text": [
      "/home/aiyappa/anaconda3/lib/python3.7/site-packages/tables/path.py:112: NaturalNameWarning: object name is not a valid Python identifier: 'sim_116_p_rew_0.1_start_10_dq_0.1'; it does not match the pattern ``^[a-zA-Z_][a-zA-Z0-9_]*$``; you will not be able to use natural naming to access this object; using ``getattr()`` will still work, though\n",
      "  NaturalNameWarning)\n"
     ]
    },
    {
     "name": "stdout",
     "output_type": "stream",
     "text": [
      "(sim,lamb_da,p_rew,start,dose_quantity) =  (116, 0.01, 0.10000000000000002, 10, 2)\n",
      "{64, 33, 27, 28, 47, 52, 57, 59, 92, 30}\n",
      "sim_116_p_rew_0.1_start_10_dq_2\n"
     ]
    },
    {
     "name": "stderr",
     "output_type": "stream",
     "text": [
      "/home/aiyappa/anaconda3/lib/python3.7/site-packages/tables/path.py:112: NaturalNameWarning: object name is not a valid Python identifier: 'sim_116_p_rew_0.1_start_10_dq_2'; it does not match the pattern ``^[a-zA-Z_][a-zA-Z0-9_]*$``; you will not be able to use natural naming to access this object; using ``getattr()`` will still work, though\n",
      "  NaturalNameWarning)\n"
     ]
    },
    {
     "name": "stdout",
     "output_type": "stream",
     "text": [
      "(sim,lamb_da,p_rew,start,dose_quantity) =  (116, 0.10000000000000002, 1.0, 1, 0.1)\n",
      "{70}\n",
      "sim_116_p_rew_1_start_1_dq_0.1\n"
     ]
    },
    {
     "name": "stderr",
     "output_type": "stream",
     "text": [
      "/home/aiyappa/anaconda3/lib/python3.7/site-packages/tables/path.py:112: NaturalNameWarning: object name is not a valid Python identifier: 'sim_116_p_rew_1_start_1_dq_0.1'; it does not match the pattern ``^[a-zA-Z_][a-zA-Z0-9_]*$``; you will not be able to use natural naming to access this object; using ``getattr()`` will still work, though\n",
      "  NaturalNameWarning)\n"
     ]
    },
    {
     "name": "stdout",
     "output_type": "stream",
     "text": [
      "(sim,lamb_da,p_rew,start,dose_quantity) =  (116, 0.10000000000000002, 1.0, 1, 2)\n",
      "{38}\n",
      "sim_116_p_rew_1_start_1_dq_2\n",
      "(sim,lamb_da,p_rew,start,dose_quantity) =  (116, 0.10000000000000002, 1.0, 10, 0.1)\n",
      "{35, 7, 74, 45, 46, 81, 84, 55, 88, 61}\n",
      "sim_116_p_rew_1_start_10_dq_0.1\n"
     ]
    },
    {
     "name": "stderr",
     "output_type": "stream",
     "text": [
      "/home/aiyappa/anaconda3/lib/python3.7/site-packages/tables/path.py:112: NaturalNameWarning: object name is not a valid Python identifier: 'sim_116_p_rew_1_start_10_dq_0.1'; it does not match the pattern ``^[a-zA-Z_][a-zA-Z0-9_]*$``; you will not be able to use natural naming to access this object; using ``getattr()`` will still work, though\n",
      "  NaturalNameWarning)\n"
     ]
    },
    {
     "name": "stdout",
     "output_type": "stream",
     "text": [
      "(sim,lamb_da,p_rew,start,dose_quantity) =  (116, 0.10000000000000002, 1.0, 10, 2)\n",
      "{67, 7, 43, 44, 14, 83, 20, 85, 22, 31}\n",
      "sim_116_p_rew_1_start_10_dq_2\n",
      "(sim,lamb_da,p_rew,start,dose_quantity) =  (117, 0.001, 0.01, 1, 0.1)\n",
      "{96}\n",
      "sim_117_p_rew_0.01_start_1_dq_0.1\n"
     ]
    },
    {
     "name": "stderr",
     "output_type": "stream",
     "text": [
      "/home/aiyappa/anaconda3/lib/python3.7/site-packages/tables/path.py:112: NaturalNameWarning: object name is not a valid Python identifier: 'sim_117_p_rew_0.01_start_1_dq_0.1'; it does not match the pattern ``^[a-zA-Z_][a-zA-Z0-9_]*$``; you will not be able to use natural naming to access this object; using ``getattr()`` will still work, though\n",
      "  NaturalNameWarning)\n"
     ]
    },
    {
     "name": "stdout",
     "output_type": "stream",
     "text": [
      "(sim,lamb_da,p_rew,start,dose_quantity) =  (117, 0.001, 0.01, 1, 2)\n",
      "{68}\n",
      "sim_117_p_rew_0.01_start_1_dq_2\n"
     ]
    },
    {
     "name": "stderr",
     "output_type": "stream",
     "text": [
      "/home/aiyappa/anaconda3/lib/python3.7/site-packages/tables/path.py:112: NaturalNameWarning: object name is not a valid Python identifier: 'sim_117_p_rew_0.01_start_1_dq_2'; it does not match the pattern ``^[a-zA-Z_][a-zA-Z0-9_]*$``; you will not be able to use natural naming to access this object; using ``getattr()`` will still work, though\n",
      "  NaturalNameWarning)\n"
     ]
    },
    {
     "name": "stdout",
     "output_type": "stream",
     "text": [
      "(sim,lamb_da,p_rew,start,dose_quantity) =  (117, 0.001, 0.01, 10, 0.1)\n",
      "{32, 37, 7, 73, 12, 15, 16, 18, 19, 29}\n",
      "sim_117_p_rew_0.01_start_10_dq_0.1\n"
     ]
    },
    {
     "name": "stderr",
     "output_type": "stream",
     "text": [
      "/home/aiyappa/anaconda3/lib/python3.7/site-packages/tables/path.py:112: NaturalNameWarning: object name is not a valid Python identifier: 'sim_117_p_rew_0.01_start_10_dq_0.1'; it does not match the pattern ``^[a-zA-Z_][a-zA-Z0-9_]*$``; you will not be able to use natural naming to access this object; using ``getattr()`` will still work, though\n",
      "  NaturalNameWarning)\n"
     ]
    },
    {
     "name": "stdout",
     "output_type": "stream",
     "text": [
      "(sim,lamb_da,p_rew,start,dose_quantity) =  (117, 0.001, 0.01, 10, 2)\n",
      "{73, 92, 16, 49, 17, 86, 54, 57, 60, 63}\n",
      "sim_117_p_rew_0.01_start_10_dq_2\n"
     ]
    },
    {
     "name": "stderr",
     "output_type": "stream",
     "text": [
      "/home/aiyappa/anaconda3/lib/python3.7/site-packages/tables/path.py:112: NaturalNameWarning: object name is not a valid Python identifier: 'sim_117_p_rew_0.01_start_10_dq_2'; it does not match the pattern ``^[a-zA-Z_][a-zA-Z0-9_]*$``; you will not be able to use natural naming to access this object; using ``getattr()`` will still work, though\n",
      "  NaturalNameWarning)\n"
     ]
    },
    {
     "name": "stdout",
     "output_type": "stream",
     "text": [
      "(sim,lamb_da,p_rew,start,dose_quantity) =  (117, 0.01, 0.10000000000000002, 1, 0.1)\n",
      "{95}\n",
      "sim_117_p_rew_0.1_start_1_dq_0.1\n"
     ]
    },
    {
     "name": "stderr",
     "output_type": "stream",
     "text": [
      "/home/aiyappa/anaconda3/lib/python3.7/site-packages/tables/path.py:112: NaturalNameWarning: object name is not a valid Python identifier: 'sim_117_p_rew_0.1_start_1_dq_0.1'; it does not match the pattern ``^[a-zA-Z_][a-zA-Z0-9_]*$``; you will not be able to use natural naming to access this object; using ``getattr()`` will still work, though\n",
      "  NaturalNameWarning)\n"
     ]
    },
    {
     "name": "stdout",
     "output_type": "stream",
     "text": [
      "(sim,lamb_da,p_rew,start,dose_quantity) =  (117, 0.01, 0.10000000000000002, 1, 2)\n",
      "{43}\n",
      "sim_117_p_rew_0.1_start_1_dq_2\n"
     ]
    },
    {
     "name": "stderr",
     "output_type": "stream",
     "text": [
      "/home/aiyappa/anaconda3/lib/python3.7/site-packages/tables/path.py:112: NaturalNameWarning: object name is not a valid Python identifier: 'sim_117_p_rew_0.1_start_1_dq_2'; it does not match the pattern ``^[a-zA-Z_][a-zA-Z0-9_]*$``; you will not be able to use natural naming to access this object; using ``getattr()`` will still work, though\n",
      "  NaturalNameWarning)\n"
     ]
    },
    {
     "name": "stdout",
     "output_type": "stream",
     "text": [
      "(sim,lamb_da,p_rew,start,dose_quantity) =  (117, 0.01, 0.10000000000000002, 10, 0.1)\n",
      "{64, 97, 96, 40, 78, 17, 18, 86, 92, 95}\n",
      "sim_117_p_rew_0.1_start_10_dq_0.1\n"
     ]
    },
    {
     "name": "stderr",
     "output_type": "stream",
     "text": [
      "/home/aiyappa/anaconda3/lib/python3.7/site-packages/tables/path.py:112: NaturalNameWarning: object name is not a valid Python identifier: 'sim_117_p_rew_0.1_start_10_dq_0.1'; it does not match the pattern ``^[a-zA-Z_][a-zA-Z0-9_]*$``; you will not be able to use natural naming to access this object; using ``getattr()`` will still work, though\n",
      "  NaturalNameWarning)\n"
     ]
    },
    {
     "name": "stdout",
     "output_type": "stream",
     "text": [
      "(sim,lamb_da,p_rew,start,dose_quantity) =  (117, 0.01, 0.10000000000000002, 10, 2)\n",
      "{2, 67, 35, 6, 71, 39, 41, 58, 61, 30}\n",
      "sim_117_p_rew_0.1_start_10_dq_2\n"
     ]
    },
    {
     "name": "stderr",
     "output_type": "stream",
     "text": [
      "/home/aiyappa/anaconda3/lib/python3.7/site-packages/tables/path.py:112: NaturalNameWarning: object name is not a valid Python identifier: 'sim_117_p_rew_0.1_start_10_dq_2'; it does not match the pattern ``^[a-zA-Z_][a-zA-Z0-9_]*$``; you will not be able to use natural naming to access this object; using ``getattr()`` will still work, though\n",
      "  NaturalNameWarning)\n"
     ]
    },
    {
     "name": "stdout",
     "output_type": "stream",
     "text": [
      "(sim,lamb_da,p_rew,start,dose_quantity) =  (117, 0.10000000000000002, 1.0, 1, 0.1)\n",
      "{43}\n",
      "sim_117_p_rew_1_start_1_dq_0.1\n"
     ]
    },
    {
     "name": "stderr",
     "output_type": "stream",
     "text": [
      "/home/aiyappa/anaconda3/lib/python3.7/site-packages/tables/path.py:112: NaturalNameWarning: object name is not a valid Python identifier: 'sim_117_p_rew_1_start_1_dq_0.1'; it does not match the pattern ``^[a-zA-Z_][a-zA-Z0-9_]*$``; you will not be able to use natural naming to access this object; using ``getattr()`` will still work, though\n",
      "  NaturalNameWarning)\n"
     ]
    },
    {
     "name": "stdout",
     "output_type": "stream",
     "text": [
      "(sim,lamb_da,p_rew,start,dose_quantity) =  (117, 0.10000000000000002, 1.0, 1, 2)\n",
      "{39}\n",
      "sim_117_p_rew_1_start_1_dq_2\n",
      "(sim,lamb_da,p_rew,start,dose_quantity) =  (117, 0.10000000000000002, 1.0, 10, 0.1)\n",
      "Initial node infection step failed\n",
      "None\n",
      "Initial node infection step failed\n",
      "None\n",
      "Initial node infection step failed\n",
      "None\n",
      "{64, 34, 35, 68, 38, 6, 75, 81, 85, 60}\n",
      "sim_117_p_rew_1_start_10_dq_0.1\n"
     ]
    },
    {
     "name": "stderr",
     "output_type": "stream",
     "text": [
      "/home/aiyappa/anaconda3/lib/python3.7/site-packages/tables/path.py:112: NaturalNameWarning: object name is not a valid Python identifier: 'sim_117_p_rew_1_start_10_dq_0.1'; it does not match the pattern ``^[a-zA-Z_][a-zA-Z0-9_]*$``; you will not be able to use natural naming to access this object; using ``getattr()`` will still work, though\n",
      "  NaturalNameWarning)\n"
     ]
    },
    {
     "name": "stdout",
     "output_type": "stream",
     "text": [
      "(sim,lamb_da,p_rew,start,dose_quantity) =  (117, 0.10000000000000002, 1.0, 10, 2)\n",
      "{0, 65, 64, 67, 38, 76, 19, 23, 93, 63}\n",
      "sim_117_p_rew_1_start_10_dq_2\n",
      "(sim,lamb_da,p_rew,start,dose_quantity) =  (118, 0.001, 0.01, 1, 0.1)\n",
      "{25}\n",
      "sim_118_p_rew_0.01_start_1_dq_0.1\n"
     ]
    },
    {
     "name": "stderr",
     "output_type": "stream",
     "text": [
      "/home/aiyappa/anaconda3/lib/python3.7/site-packages/tables/path.py:112: NaturalNameWarning: object name is not a valid Python identifier: 'sim_118_p_rew_0.01_start_1_dq_0.1'; it does not match the pattern ``^[a-zA-Z_][a-zA-Z0-9_]*$``; you will not be able to use natural naming to access this object; using ``getattr()`` will still work, though\n",
      "  NaturalNameWarning)\n"
     ]
    },
    {
     "name": "stdout",
     "output_type": "stream",
     "text": [
      "(sim,lamb_da,p_rew,start,dose_quantity) =  (118, 0.001, 0.01, 1, 2)\n",
      "{38}\n",
      "sim_118_p_rew_0.01_start_1_dq_2\n"
     ]
    },
    {
     "name": "stderr",
     "output_type": "stream",
     "text": [
      "/home/aiyappa/anaconda3/lib/python3.7/site-packages/tables/path.py:112: NaturalNameWarning: object name is not a valid Python identifier: 'sim_118_p_rew_0.01_start_1_dq_2'; it does not match the pattern ``^[a-zA-Z_][a-zA-Z0-9_]*$``; you will not be able to use natural naming to access this object; using ``getattr()`` will still work, though\n",
      "  NaturalNameWarning)\n"
     ]
    },
    {
     "name": "stdout",
     "output_type": "stream",
     "text": [
      "(sim,lamb_da,p_rew,start,dose_quantity) =  (118, 0.001, 0.01, 10, 0.1)\n",
      "{96, 33, 1, 69, 6, 85, 54, 60, 30, 63}\n",
      "sim_118_p_rew_0.01_start_10_dq_0.1\n"
     ]
    },
    {
     "name": "stderr",
     "output_type": "stream",
     "text": [
      "/home/aiyappa/anaconda3/lib/python3.7/site-packages/tables/path.py:112: NaturalNameWarning: object name is not a valid Python identifier: 'sim_118_p_rew_0.01_start_10_dq_0.1'; it does not match the pattern ``^[a-zA-Z_][a-zA-Z0-9_]*$``; you will not be able to use natural naming to access this object; using ``getattr()`` will still work, though\n",
      "  NaturalNameWarning)\n"
     ]
    },
    {
     "name": "stdout",
     "output_type": "stream",
     "text": [
      "(sim,lamb_da,p_rew,start,dose_quantity) =  (118, 0.001, 0.01, 10, 2)\n",
      "{97, 5, 11, 77, 19, 52, 21, 24, 25, 90}\n",
      "sim_118_p_rew_0.01_start_10_dq_2\n"
     ]
    },
    {
     "name": "stderr",
     "output_type": "stream",
     "text": [
      "/home/aiyappa/anaconda3/lib/python3.7/site-packages/tables/path.py:112: NaturalNameWarning: object name is not a valid Python identifier: 'sim_118_p_rew_0.01_start_10_dq_2'; it does not match the pattern ``^[a-zA-Z_][a-zA-Z0-9_]*$``; you will not be able to use natural naming to access this object; using ``getattr()`` will still work, though\n",
      "  NaturalNameWarning)\n"
     ]
    },
    {
     "name": "stdout",
     "output_type": "stream",
     "text": [
      "(sim,lamb_da,p_rew,start,dose_quantity) =  (118, 0.01, 0.10000000000000002, 1, 0.1)\n",
      "{83}\n",
      "sim_118_p_rew_0.1_start_1_dq_0.1\n"
     ]
    },
    {
     "name": "stderr",
     "output_type": "stream",
     "text": [
      "/home/aiyappa/anaconda3/lib/python3.7/site-packages/tables/path.py:112: NaturalNameWarning: object name is not a valid Python identifier: 'sim_118_p_rew_0.1_start_1_dq_0.1'; it does not match the pattern ``^[a-zA-Z_][a-zA-Z0-9_]*$``; you will not be able to use natural naming to access this object; using ``getattr()`` will still work, though\n",
      "  NaturalNameWarning)\n"
     ]
    },
    {
     "name": "stdout",
     "output_type": "stream",
     "text": [
      "(sim,lamb_da,p_rew,start,dose_quantity) =  (118, 0.01, 0.10000000000000002, 1, 2)\n",
      "{55}\n",
      "sim_118_p_rew_0.1_start_1_dq_2\n"
     ]
    },
    {
     "name": "stderr",
     "output_type": "stream",
     "text": [
      "/home/aiyappa/anaconda3/lib/python3.7/site-packages/tables/path.py:112: NaturalNameWarning: object name is not a valid Python identifier: 'sim_118_p_rew_0.1_start_1_dq_2'; it does not match the pattern ``^[a-zA-Z_][a-zA-Z0-9_]*$``; you will not be able to use natural naming to access this object; using ``getattr()`` will still work, though\n",
      "  NaturalNameWarning)\n"
     ]
    },
    {
     "name": "stdout",
     "output_type": "stream",
     "text": [
      "(sim,lamb_da,p_rew,start,dose_quantity) =  (118, 0.01, 0.10000000000000002, 10, 0.1)\n",
      "{66, 39, 8, 71, 74, 75, 79, 48, 18, 95}\n",
      "sim_118_p_rew_0.1_start_10_dq_0.1\n"
     ]
    },
    {
     "name": "stderr",
     "output_type": "stream",
     "text": [
      "/home/aiyappa/anaconda3/lib/python3.7/site-packages/tables/path.py:112: NaturalNameWarning: object name is not a valid Python identifier: 'sim_118_p_rew_0.1_start_10_dq_0.1'; it does not match the pattern ``^[a-zA-Z_][a-zA-Z0-9_]*$``; you will not be able to use natural naming to access this object; using ``getattr()`` will still work, though\n",
      "  NaturalNameWarning)\n"
     ]
    },
    {
     "name": "stdout",
     "output_type": "stream",
     "text": [
      "(sim,lamb_da,p_rew,start,dose_quantity) =  (118, 0.01, 0.10000000000000002, 10, 2)\n",
      "{32, 2, 36, 37, 6, 38, 72, 44, 54, 89}\n",
      "sim_118_p_rew_0.1_start_10_dq_2\n"
     ]
    },
    {
     "name": "stderr",
     "output_type": "stream",
     "text": [
      "/home/aiyappa/anaconda3/lib/python3.7/site-packages/tables/path.py:112: NaturalNameWarning: object name is not a valid Python identifier: 'sim_118_p_rew_0.1_start_10_dq_2'; it does not match the pattern ``^[a-zA-Z_][a-zA-Z0-9_]*$``; you will not be able to use natural naming to access this object; using ``getattr()`` will still work, though\n",
      "  NaturalNameWarning)\n"
     ]
    },
    {
     "name": "stdout",
     "output_type": "stream",
     "text": [
      "(sim,lamb_da,p_rew,start,dose_quantity) =  (118, 0.10000000000000002, 1.0, 1, 0.1)\n",
      "{97}\n",
      "sim_118_p_rew_1_start_1_dq_0.1\n"
     ]
    },
    {
     "name": "stderr",
     "output_type": "stream",
     "text": [
      "/home/aiyappa/anaconda3/lib/python3.7/site-packages/tables/path.py:112: NaturalNameWarning: object name is not a valid Python identifier: 'sim_118_p_rew_1_start_1_dq_0.1'; it does not match the pattern ``^[a-zA-Z_][a-zA-Z0-9_]*$``; you will not be able to use natural naming to access this object; using ``getattr()`` will still work, though\n",
      "  NaturalNameWarning)\n"
     ]
    },
    {
     "name": "stdout",
     "output_type": "stream",
     "text": [
      "(sim,lamb_da,p_rew,start,dose_quantity) =  (118, 0.10000000000000002, 1.0, 1, 2)\n",
      "{28}\n",
      "sim_118_p_rew_1_start_1_dq_2\n",
      "(sim,lamb_da,p_rew,start,dose_quantity) =  (118, 0.10000000000000002, 1.0, 10, 0.1)\n",
      "{1, 35, 9, 75, 77, 48, 83, 24, 58, 28}\n",
      "sim_118_p_rew_1_start_10_dq_0.1\n"
     ]
    },
    {
     "name": "stderr",
     "output_type": "stream",
     "text": [
      "/home/aiyappa/anaconda3/lib/python3.7/site-packages/tables/path.py:112: NaturalNameWarning: object name is not a valid Python identifier: 'sim_118_p_rew_1_start_10_dq_0.1'; it does not match the pattern ``^[a-zA-Z_][a-zA-Z0-9_]*$``; you will not be able to use natural naming to access this object; using ``getattr()`` will still work, though\n",
      "  NaturalNameWarning)\n"
     ]
    },
    {
     "name": "stdout",
     "output_type": "stream",
     "text": [
      "(sim,lamb_da,p_rew,start,dose_quantity) =  (118, 0.10000000000000002, 1.0, 10, 2)\n",
      "{64, 33, 97, 6, 9, 12, 77, 20, 54, 23}\n",
      "sim_118_p_rew_1_start_10_dq_2\n",
      "(sim,lamb_da,p_rew,start,dose_quantity) =  (119, 0.001, 0.01, 1, 0.1)\n",
      "{26}\n",
      "sim_119_p_rew_0.01_start_1_dq_0.1\n"
     ]
    },
    {
     "name": "stderr",
     "output_type": "stream",
     "text": [
      "/home/aiyappa/anaconda3/lib/python3.7/site-packages/tables/path.py:112: NaturalNameWarning: object name is not a valid Python identifier: 'sim_119_p_rew_0.01_start_1_dq_0.1'; it does not match the pattern ``^[a-zA-Z_][a-zA-Z0-9_]*$``; you will not be able to use natural naming to access this object; using ``getattr()`` will still work, though\n",
      "  NaturalNameWarning)\n"
     ]
    },
    {
     "name": "stdout",
     "output_type": "stream",
     "text": [
      "(sim,lamb_da,p_rew,start,dose_quantity) =  (119, 0.001, 0.01, 1, 2)\n",
      "{10}\n",
      "sim_119_p_rew_0.01_start_1_dq_2\n"
     ]
    },
    {
     "name": "stderr",
     "output_type": "stream",
     "text": [
      "/home/aiyappa/anaconda3/lib/python3.7/site-packages/tables/path.py:112: NaturalNameWarning: object name is not a valid Python identifier: 'sim_119_p_rew_0.01_start_1_dq_2'; it does not match the pattern ``^[a-zA-Z_][a-zA-Z0-9_]*$``; you will not be able to use natural naming to access this object; using ``getattr()`` will still work, though\n",
      "  NaturalNameWarning)\n"
     ]
    },
    {
     "name": "stdout",
     "output_type": "stream",
     "text": [
      "(sim,lamb_da,p_rew,start,dose_quantity) =  (119, 0.001, 0.01, 10, 0.1)\n",
      "{65, 99, 68, 40, 12, 82, 51, 87, 26, 92}\n",
      "sim_119_p_rew_0.01_start_10_dq_0.1\n"
     ]
    },
    {
     "name": "stderr",
     "output_type": "stream",
     "text": [
      "/home/aiyappa/anaconda3/lib/python3.7/site-packages/tables/path.py:112: NaturalNameWarning: object name is not a valid Python identifier: 'sim_119_p_rew_0.01_start_10_dq_0.1'; it does not match the pattern ``^[a-zA-Z_][a-zA-Z0-9_]*$``; you will not be able to use natural naming to access this object; using ``getattr()`` will still work, though\n",
      "  NaturalNameWarning)\n"
     ]
    },
    {
     "name": "stdout",
     "output_type": "stream",
     "text": [
      "(sim,lamb_da,p_rew,start,dose_quantity) =  (119, 0.001, 0.01, 10, 2)\n",
      "{75, 11, 80, 81, 82, 18, 48, 23, 92, 29}\n",
      "sim_119_p_rew_0.01_start_10_dq_2\n"
     ]
    },
    {
     "name": "stderr",
     "output_type": "stream",
     "text": [
      "/home/aiyappa/anaconda3/lib/python3.7/site-packages/tables/path.py:112: NaturalNameWarning: object name is not a valid Python identifier: 'sim_119_p_rew_0.01_start_10_dq_2'; it does not match the pattern ``^[a-zA-Z_][a-zA-Z0-9_]*$``; you will not be able to use natural naming to access this object; using ``getattr()`` will still work, though\n",
      "  NaturalNameWarning)\n"
     ]
    },
    {
     "name": "stdout",
     "output_type": "stream",
     "text": [
      "(sim,lamb_da,p_rew,start,dose_quantity) =  (119, 0.01, 0.10000000000000002, 1, 0.1)\n",
      "{90}\n",
      "sim_119_p_rew_0.1_start_1_dq_0.1\n"
     ]
    },
    {
     "name": "stderr",
     "output_type": "stream",
     "text": [
      "/home/aiyappa/anaconda3/lib/python3.7/site-packages/tables/path.py:112: NaturalNameWarning: object name is not a valid Python identifier: 'sim_119_p_rew_0.1_start_1_dq_0.1'; it does not match the pattern ``^[a-zA-Z_][a-zA-Z0-9_]*$``; you will not be able to use natural naming to access this object; using ``getattr()`` will still work, though\n",
      "  NaturalNameWarning)\n"
     ]
    },
    {
     "name": "stdout",
     "output_type": "stream",
     "text": [
      "(sim,lamb_da,p_rew,start,dose_quantity) =  (119, 0.01, 0.10000000000000002, 1, 2)\n",
      "{28}\n",
      "sim_119_p_rew_0.1_start_1_dq_2\n"
     ]
    },
    {
     "name": "stderr",
     "output_type": "stream",
     "text": [
      "/home/aiyappa/anaconda3/lib/python3.7/site-packages/tables/path.py:112: NaturalNameWarning: object name is not a valid Python identifier: 'sim_119_p_rew_0.1_start_1_dq_2'; it does not match the pattern ``^[a-zA-Z_][a-zA-Z0-9_]*$``; you will not be able to use natural naming to access this object; using ``getattr()`` will still work, though\n",
      "  NaturalNameWarning)\n"
     ]
    },
    {
     "name": "stdout",
     "output_type": "stream",
     "text": [
      "(sim,lamb_da,p_rew,start,dose_quantity) =  (119, 0.01, 0.10000000000000002, 10, 0.1)\n",
      "{64, 0, 99, 35, 37, 42, 76, 49, 50, 25}\n",
      "sim_119_p_rew_0.1_start_10_dq_0.1\n"
     ]
    },
    {
     "name": "stderr",
     "output_type": "stream",
     "text": [
      "/home/aiyappa/anaconda3/lib/python3.7/site-packages/tables/path.py:112: NaturalNameWarning: object name is not a valid Python identifier: 'sim_119_p_rew_0.1_start_10_dq_0.1'; it does not match the pattern ``^[a-zA-Z_][a-zA-Z0-9_]*$``; you will not be able to use natural naming to access this object; using ``getattr()`` will still work, though\n",
      "  NaturalNameWarning)\n"
     ]
    },
    {
     "name": "stdout",
     "output_type": "stream",
     "text": [
      "(sim,lamb_da,p_rew,start,dose_quantity) =  (119, 0.01, 0.10000000000000002, 10, 2)\n",
      "{72, 41, 42, 79, 82, 83, 86, 22, 54, 93}\n",
      "sim_119_p_rew_0.1_start_10_dq_2\n"
     ]
    },
    {
     "name": "stderr",
     "output_type": "stream",
     "text": [
      "/home/aiyappa/anaconda3/lib/python3.7/site-packages/tables/path.py:112: NaturalNameWarning: object name is not a valid Python identifier: 'sim_119_p_rew_0.1_start_10_dq_2'; it does not match the pattern ``^[a-zA-Z_][a-zA-Z0-9_]*$``; you will not be able to use natural naming to access this object; using ``getattr()`` will still work, though\n",
      "  NaturalNameWarning)\n"
     ]
    },
    {
     "name": "stdout",
     "output_type": "stream",
     "text": [
      "(sim,lamb_da,p_rew,start,dose_quantity) =  (119, 0.10000000000000002, 1.0, 1, 0.1)\n",
      "{62}\n",
      "sim_119_p_rew_1_start_1_dq_0.1\n"
     ]
    },
    {
     "name": "stderr",
     "output_type": "stream",
     "text": [
      "/home/aiyappa/anaconda3/lib/python3.7/site-packages/tables/path.py:112: NaturalNameWarning: object name is not a valid Python identifier: 'sim_119_p_rew_1_start_1_dq_0.1'; it does not match the pattern ``^[a-zA-Z_][a-zA-Z0-9_]*$``; you will not be able to use natural naming to access this object; using ``getattr()`` will still work, though\n",
      "  NaturalNameWarning)\n"
     ]
    },
    {
     "name": "stdout",
     "output_type": "stream",
     "text": [
      "(sim,lamb_da,p_rew,start,dose_quantity) =  (119, 0.10000000000000002, 1.0, 1, 2)\n",
      "{51}\n",
      "sim_119_p_rew_1_start_1_dq_2\n",
      "(sim,lamb_da,p_rew,start,dose_quantity) =  (119, 0.10000000000000002, 1.0, 10, 0.1)\n",
      "Initial node infection step failed\n",
      "None\n",
      "{89, 33, 8, 41, 79, 20, 21, 22, 24, 25}\n",
      "sim_119_p_rew_1_start_10_dq_0.1\n"
     ]
    },
    {
     "name": "stderr",
     "output_type": "stream",
     "text": [
      "/home/aiyappa/anaconda3/lib/python3.7/site-packages/tables/path.py:112: NaturalNameWarning: object name is not a valid Python identifier: 'sim_119_p_rew_1_start_10_dq_0.1'; it does not match the pattern ``^[a-zA-Z_][a-zA-Z0-9_]*$``; you will not be able to use natural naming to access this object; using ``getattr()`` will still work, though\n",
      "  NaturalNameWarning)\n"
     ]
    },
    {
     "name": "stdout",
     "output_type": "stream",
     "text": [
      "(sim,lamb_da,p_rew,start,dose_quantity) =  (119, 0.10000000000000002, 1.0, 10, 2)\n",
      "{67, 90, 74, 43, 44, 48, 57, 26, 59, 31}\n",
      "sim_119_p_rew_1_start_10_dq_2\n",
      "(sim,lamb_da,p_rew,start,dose_quantity) =  (120, 0.001, 0.01, 1, 0.1)\n",
      "{58}\n",
      "sim_120_p_rew_0.01_start_1_dq_0.1\n"
     ]
    },
    {
     "name": "stderr",
     "output_type": "stream",
     "text": [
      "/home/aiyappa/anaconda3/lib/python3.7/site-packages/tables/path.py:112: NaturalNameWarning: object name is not a valid Python identifier: 'sim_120_p_rew_0.01_start_1_dq_0.1'; it does not match the pattern ``^[a-zA-Z_][a-zA-Z0-9_]*$``; you will not be able to use natural naming to access this object; using ``getattr()`` will still work, though\n",
      "  NaturalNameWarning)\n"
     ]
    },
    {
     "name": "stdout",
     "output_type": "stream",
     "text": [
      "(sim,lamb_da,p_rew,start,dose_quantity) =  (120, 0.001, 0.01, 1, 2)\n",
      "{54}\n",
      "sim_120_p_rew_0.01_start_1_dq_2\n"
     ]
    },
    {
     "name": "stderr",
     "output_type": "stream",
     "text": [
      "/home/aiyappa/anaconda3/lib/python3.7/site-packages/tables/path.py:112: NaturalNameWarning: object name is not a valid Python identifier: 'sim_120_p_rew_0.01_start_1_dq_2'; it does not match the pattern ``^[a-zA-Z_][a-zA-Z0-9_]*$``; you will not be able to use natural naming to access this object; using ``getattr()`` will still work, though\n",
      "  NaturalNameWarning)\n"
     ]
    },
    {
     "name": "stdout",
     "output_type": "stream",
     "text": [
      "(sim,lamb_da,p_rew,start,dose_quantity) =  (120, 0.001, 0.01, 10, 0.1)\n",
      "{0, 34, 66, 37, 43, 12, 46, 86, 56, 89}\n",
      "sim_120_p_rew_0.01_start_10_dq_0.1\n"
     ]
    },
    {
     "name": "stderr",
     "output_type": "stream",
     "text": [
      "/home/aiyappa/anaconda3/lib/python3.7/site-packages/tables/path.py:112: NaturalNameWarning: object name is not a valid Python identifier: 'sim_120_p_rew_0.01_start_10_dq_0.1'; it does not match the pattern ``^[a-zA-Z_][a-zA-Z0-9_]*$``; you will not be able to use natural naming to access this object; using ``getattr()`` will still work, though\n",
      "  NaturalNameWarning)\n"
     ]
    },
    {
     "name": "stdout",
     "output_type": "stream",
     "text": [
      "(sim,lamb_da,p_rew,start,dose_quantity) =  (120, 0.001, 0.01, 10, 2)\n",
      "{34, 3, 4, 69, 6, 36, 72, 19, 22, 93}\n",
      "sim_120_p_rew_0.01_start_10_dq_2\n"
     ]
    },
    {
     "name": "stderr",
     "output_type": "stream",
     "text": [
      "/home/aiyappa/anaconda3/lib/python3.7/site-packages/tables/path.py:112: NaturalNameWarning: object name is not a valid Python identifier: 'sim_120_p_rew_0.01_start_10_dq_2'; it does not match the pattern ``^[a-zA-Z_][a-zA-Z0-9_]*$``; you will not be able to use natural naming to access this object; using ``getattr()`` will still work, though\n",
      "  NaturalNameWarning)\n"
     ]
    },
    {
     "name": "stdout",
     "output_type": "stream",
     "text": [
      "(sim,lamb_da,p_rew,start,dose_quantity) =  (120, 0.01, 0.10000000000000002, 1, 0.1)\n",
      "{95}\n",
      "sim_120_p_rew_0.1_start_1_dq_0.1\n"
     ]
    },
    {
     "name": "stderr",
     "output_type": "stream",
     "text": [
      "/home/aiyappa/anaconda3/lib/python3.7/site-packages/tables/path.py:112: NaturalNameWarning: object name is not a valid Python identifier: 'sim_120_p_rew_0.1_start_1_dq_0.1'; it does not match the pattern ``^[a-zA-Z_][a-zA-Z0-9_]*$``; you will not be able to use natural naming to access this object; using ``getattr()`` will still work, though\n",
      "  NaturalNameWarning)\n"
     ]
    },
    {
     "name": "stdout",
     "output_type": "stream",
     "text": [
      "(sim,lamb_da,p_rew,start,dose_quantity) =  (120, 0.01, 0.10000000000000002, 1, 2)\n",
      "{40}\n",
      "sim_120_p_rew_0.1_start_1_dq_2\n"
     ]
    },
    {
     "name": "stderr",
     "output_type": "stream",
     "text": [
      "/home/aiyappa/anaconda3/lib/python3.7/site-packages/tables/path.py:112: NaturalNameWarning: object name is not a valid Python identifier: 'sim_120_p_rew_0.1_start_1_dq_2'; it does not match the pattern ``^[a-zA-Z_][a-zA-Z0-9_]*$``; you will not be able to use natural naming to access this object; using ``getattr()`` will still work, though\n",
      "  NaturalNameWarning)\n"
     ]
    },
    {
     "name": "stdout",
     "output_type": "stream",
     "text": [
      "(sim,lamb_da,p_rew,start,dose_quantity) =  (120, 0.01, 0.10000000000000002, 10, 0.1)\n",
      "{64, 65, 35, 4, 39, 79, 15, 86, 23, 91}\n",
      "sim_120_p_rew_0.1_start_10_dq_0.1\n"
     ]
    },
    {
     "name": "stderr",
     "output_type": "stream",
     "text": [
      "/home/aiyappa/anaconda3/lib/python3.7/site-packages/tables/path.py:112: NaturalNameWarning: object name is not a valid Python identifier: 'sim_120_p_rew_0.1_start_10_dq_0.1'; it does not match the pattern ``^[a-zA-Z_][a-zA-Z0-9_]*$``; you will not be able to use natural naming to access this object; using ``getattr()`` will still work, though\n",
      "  NaturalNameWarning)\n"
     ]
    },
    {
     "name": "stdout",
     "output_type": "stream",
     "text": [
      "(sim,lamb_da,p_rew,start,dose_quantity) =  (120, 0.01, 0.10000000000000002, 10, 2)\n",
      "{3, 37, 41, 42, 12, 83, 84, 53, 85, 31}\n",
      "sim_120_p_rew_0.1_start_10_dq_2\n"
     ]
    },
    {
     "name": "stderr",
     "output_type": "stream",
     "text": [
      "/home/aiyappa/anaconda3/lib/python3.7/site-packages/tables/path.py:112: NaturalNameWarning: object name is not a valid Python identifier: 'sim_120_p_rew_0.1_start_10_dq_2'; it does not match the pattern ``^[a-zA-Z_][a-zA-Z0-9_]*$``; you will not be able to use natural naming to access this object; using ``getattr()`` will still work, though\n",
      "  NaturalNameWarning)\n"
     ]
    },
    {
     "name": "stdout",
     "output_type": "stream",
     "text": [
      "(sim,lamb_da,p_rew,start,dose_quantity) =  (120, 0.10000000000000002, 1.0, 1, 0.1)\n",
      "{86}\n",
      "sim_120_p_rew_1_start_1_dq_0.1\n"
     ]
    },
    {
     "name": "stderr",
     "output_type": "stream",
     "text": [
      "/home/aiyappa/anaconda3/lib/python3.7/site-packages/tables/path.py:112: NaturalNameWarning: object name is not a valid Python identifier: 'sim_120_p_rew_1_start_1_dq_0.1'; it does not match the pattern ``^[a-zA-Z_][a-zA-Z0-9_]*$``; you will not be able to use natural naming to access this object; using ``getattr()`` will still work, though\n",
      "  NaturalNameWarning)\n"
     ]
    },
    {
     "name": "stdout",
     "output_type": "stream",
     "text": [
      "(sim,lamb_da,p_rew,start,dose_quantity) =  (120, 0.10000000000000002, 1.0, 1, 2)\n",
      "{74}\n",
      "sim_120_p_rew_1_start_1_dq_2\n",
      "(sim,lamb_da,p_rew,start,dose_quantity) =  (120, 0.10000000000000002, 1.0, 10, 0.1)\n",
      "{4, 72, 41, 74, 10, 46, 19, 84, 52, 23}\n",
      "sim_120_p_rew_1_start_10_dq_0.1\n"
     ]
    },
    {
     "name": "stderr",
     "output_type": "stream",
     "text": [
      "/home/aiyappa/anaconda3/lib/python3.7/site-packages/tables/path.py:112: NaturalNameWarning: object name is not a valid Python identifier: 'sim_120_p_rew_1_start_10_dq_0.1'; it does not match the pattern ``^[a-zA-Z_][a-zA-Z0-9_]*$``; you will not be able to use natural naming to access this object; using ``getattr()`` will still work, though\n",
      "  NaturalNameWarning)\n"
     ]
    },
    {
     "name": "stdout",
     "output_type": "stream",
     "text": [
      "(sim,lamb_da,p_rew,start,dose_quantity) =  (120, 0.10000000000000002, 1.0, 10, 2)\n",
      "{2, 35, 99, 37, 45, 23, 59, 92, 93, 30}\n",
      "sim_120_p_rew_1_start_10_dq_2\n",
      "(sim,lamb_da,p_rew,start,dose_quantity) =  (121, 0.001, 0.01, 1, 0.1)\n",
      "{69}\n",
      "sim_121_p_rew_0.01_start_1_dq_0.1\n"
     ]
    },
    {
     "name": "stderr",
     "output_type": "stream",
     "text": [
      "/home/aiyappa/anaconda3/lib/python3.7/site-packages/tables/path.py:112: NaturalNameWarning: object name is not a valid Python identifier: 'sim_121_p_rew_0.01_start_1_dq_0.1'; it does not match the pattern ``^[a-zA-Z_][a-zA-Z0-9_]*$``; you will not be able to use natural naming to access this object; using ``getattr()`` will still work, though\n",
      "  NaturalNameWarning)\n"
     ]
    },
    {
     "name": "stdout",
     "output_type": "stream",
     "text": [
      "(sim,lamb_da,p_rew,start,dose_quantity) =  (121, 0.001, 0.01, 1, 2)\n",
      "{43}\n",
      "sim_121_p_rew_0.01_start_1_dq_2\n"
     ]
    },
    {
     "name": "stderr",
     "output_type": "stream",
     "text": [
      "/home/aiyappa/anaconda3/lib/python3.7/site-packages/tables/path.py:112: NaturalNameWarning: object name is not a valid Python identifier: 'sim_121_p_rew_0.01_start_1_dq_2'; it does not match the pattern ``^[a-zA-Z_][a-zA-Z0-9_]*$``; you will not be able to use natural naming to access this object; using ``getattr()`` will still work, though\n",
      "  NaturalNameWarning)\n"
     ]
    },
    {
     "name": "stdout",
     "output_type": "stream",
     "text": [
      "(sim,lamb_da,p_rew,start,dose_quantity) =  (121, 0.001, 0.01, 10, 0.1)\n",
      "{96, 65, 2, 8, 74, 11, 15, 48, 83, 88}\n",
      "sim_121_p_rew_0.01_start_10_dq_0.1\n"
     ]
    },
    {
     "name": "stderr",
     "output_type": "stream",
     "text": [
      "/home/aiyappa/anaconda3/lib/python3.7/site-packages/tables/path.py:112: NaturalNameWarning: object name is not a valid Python identifier: 'sim_121_p_rew_0.01_start_10_dq_0.1'; it does not match the pattern ``^[a-zA-Z_][a-zA-Z0-9_]*$``; you will not be able to use natural naming to access this object; using ``getattr()`` will still work, though\n",
      "  NaturalNameWarning)\n"
     ]
    },
    {
     "name": "stdout",
     "output_type": "stream",
     "text": [
      "(sim,lamb_da,p_rew,start,dose_quantity) =  (121, 0.001, 0.01, 10, 2)\n",
      "{66, 4, 73, 10, 76, 15, 89, 27, 93, 30}\n",
      "sim_121_p_rew_0.01_start_10_dq_2\n"
     ]
    },
    {
     "name": "stderr",
     "output_type": "stream",
     "text": [
      "/home/aiyappa/anaconda3/lib/python3.7/site-packages/tables/path.py:112: NaturalNameWarning: object name is not a valid Python identifier: 'sim_121_p_rew_0.01_start_10_dq_2'; it does not match the pattern ``^[a-zA-Z_][a-zA-Z0-9_]*$``; you will not be able to use natural naming to access this object; using ``getattr()`` will still work, though\n",
      "  NaturalNameWarning)\n"
     ]
    },
    {
     "name": "stdout",
     "output_type": "stream",
     "text": [
      "(sim,lamb_da,p_rew,start,dose_quantity) =  (121, 0.01, 0.10000000000000002, 1, 0.1)\n",
      "{60}\n",
      "sim_121_p_rew_0.1_start_1_dq_0.1\n"
     ]
    },
    {
     "name": "stderr",
     "output_type": "stream",
     "text": [
      "/home/aiyappa/anaconda3/lib/python3.7/site-packages/tables/path.py:112: NaturalNameWarning: object name is not a valid Python identifier: 'sim_121_p_rew_0.1_start_1_dq_0.1'; it does not match the pattern ``^[a-zA-Z_][a-zA-Z0-9_]*$``; you will not be able to use natural naming to access this object; using ``getattr()`` will still work, though\n",
      "  NaturalNameWarning)\n"
     ]
    },
    {
     "name": "stdout",
     "output_type": "stream",
     "text": [
      "(sim,lamb_da,p_rew,start,dose_quantity) =  (121, 0.01, 0.10000000000000002, 1, 2)\n",
      "{16}\n",
      "sim_121_p_rew_0.1_start_1_dq_2\n"
     ]
    },
    {
     "name": "stderr",
     "output_type": "stream",
     "text": [
      "/home/aiyappa/anaconda3/lib/python3.7/site-packages/tables/path.py:112: NaturalNameWarning: object name is not a valid Python identifier: 'sim_121_p_rew_0.1_start_1_dq_2'; it does not match the pattern ``^[a-zA-Z_][a-zA-Z0-9_]*$``; you will not be able to use natural naming to access this object; using ``getattr()`` will still work, though\n",
      "  NaturalNameWarning)\n"
     ]
    },
    {
     "name": "stdout",
     "output_type": "stream",
     "text": [
      "(sim,lamb_da,p_rew,start,dose_quantity) =  (121, 0.01, 0.10000000000000002, 10, 0.1)\n",
      "{0, 4, 6, 7, 73, 77, 14, 49, 20, 61}\n",
      "sim_121_p_rew_0.1_start_10_dq_0.1\n"
     ]
    },
    {
     "name": "stderr",
     "output_type": "stream",
     "text": [
      "/home/aiyappa/anaconda3/lib/python3.7/site-packages/tables/path.py:112: NaturalNameWarning: object name is not a valid Python identifier: 'sim_121_p_rew_0.1_start_10_dq_0.1'; it does not match the pattern ``^[a-zA-Z_][a-zA-Z0-9_]*$``; you will not be able to use natural naming to access this object; using ``getattr()`` will still work, though\n",
      "  NaturalNameWarning)\n"
     ]
    },
    {
     "name": "stdout",
     "output_type": "stream",
     "text": [
      "(sim,lamb_da,p_rew,start,dose_quantity) =  (121, 0.01, 0.10000000000000002, 10, 2)\n",
      "{0, 40, 44, 45, 48, 17, 50, 86, 25, 31}\n",
      "sim_121_p_rew_0.1_start_10_dq_2\n"
     ]
    },
    {
     "name": "stderr",
     "output_type": "stream",
     "text": [
      "/home/aiyappa/anaconda3/lib/python3.7/site-packages/tables/path.py:112: NaturalNameWarning: object name is not a valid Python identifier: 'sim_121_p_rew_0.1_start_10_dq_2'; it does not match the pattern ``^[a-zA-Z_][a-zA-Z0-9_]*$``; you will not be able to use natural naming to access this object; using ``getattr()`` will still work, though\n",
      "  NaturalNameWarning)\n"
     ]
    },
    {
     "name": "stdout",
     "output_type": "stream",
     "text": [
      "(sim,lamb_da,p_rew,start,dose_quantity) =  (121, 0.10000000000000002, 1.0, 1, 0.1)\n",
      "{36}\n",
      "sim_121_p_rew_1_start_1_dq_0.1\n"
     ]
    },
    {
     "name": "stderr",
     "output_type": "stream",
     "text": [
      "/home/aiyappa/anaconda3/lib/python3.7/site-packages/tables/path.py:112: NaturalNameWarning: object name is not a valid Python identifier: 'sim_121_p_rew_1_start_1_dq_0.1'; it does not match the pattern ``^[a-zA-Z_][a-zA-Z0-9_]*$``; you will not be able to use natural naming to access this object; using ``getattr()`` will still work, though\n",
      "  NaturalNameWarning)\n"
     ]
    },
    {
     "name": "stdout",
     "output_type": "stream",
     "text": [
      "(sim,lamb_da,p_rew,start,dose_quantity) =  (121, 0.10000000000000002, 1.0, 1, 2)\n",
      "{13}\n",
      "sim_121_p_rew_1_start_1_dq_2\n",
      "(sim,lamb_da,p_rew,start,dose_quantity) =  (121, 0.10000000000000002, 1.0, 10, 0.1)\n",
      "{2, 66, 67, 10, 42, 14, 81, 52, 54, 58}\n",
      "sim_121_p_rew_1_start_10_dq_0.1\n"
     ]
    },
    {
     "name": "stderr",
     "output_type": "stream",
     "text": [
      "/home/aiyappa/anaconda3/lib/python3.7/site-packages/tables/path.py:112: NaturalNameWarning: object name is not a valid Python identifier: 'sim_121_p_rew_1_start_10_dq_0.1'; it does not match the pattern ``^[a-zA-Z_][a-zA-Z0-9_]*$``; you will not be able to use natural naming to access this object; using ``getattr()`` will still work, though\n",
      "  NaturalNameWarning)\n"
     ]
    },
    {
     "name": "stdout",
     "output_type": "stream",
     "text": [
      "(sim,lamb_da,p_rew,start,dose_quantity) =  (121, 0.10000000000000002, 1.0, 10, 2)\n",
      "{0, 1, 35, 36, 4, 19, 21, 24, 90, 93}\n",
      "sim_121_p_rew_1_start_10_dq_2\n",
      "(sim,lamb_da,p_rew,start,dose_quantity) =  (122, 0.001, 0.01, 1, 0.1)\n",
      "{97}\n",
      "sim_122_p_rew_0.01_start_1_dq_0.1\n"
     ]
    },
    {
     "name": "stderr",
     "output_type": "stream",
     "text": [
      "/home/aiyappa/anaconda3/lib/python3.7/site-packages/tables/path.py:112: NaturalNameWarning: object name is not a valid Python identifier: 'sim_122_p_rew_0.01_start_1_dq_0.1'; it does not match the pattern ``^[a-zA-Z_][a-zA-Z0-9_]*$``; you will not be able to use natural naming to access this object; using ``getattr()`` will still work, though\n",
      "  NaturalNameWarning)\n"
     ]
    },
    {
     "name": "stdout",
     "output_type": "stream",
     "text": [
      "(sim,lamb_da,p_rew,start,dose_quantity) =  (122, 0.001, 0.01, 1, 2)\n",
      "{56}\n",
      "sim_122_p_rew_0.01_start_1_dq_2\n"
     ]
    },
    {
     "name": "stderr",
     "output_type": "stream",
     "text": [
      "/home/aiyappa/anaconda3/lib/python3.7/site-packages/tables/path.py:112: NaturalNameWarning: object name is not a valid Python identifier: 'sim_122_p_rew_0.01_start_1_dq_2'; it does not match the pattern ``^[a-zA-Z_][a-zA-Z0-9_]*$``; you will not be able to use natural naming to access this object; using ``getattr()`` will still work, though\n",
      "  NaturalNameWarning)\n"
     ]
    },
    {
     "name": "stdout",
     "output_type": "stream",
     "text": [
      "(sim,lamb_da,p_rew,start,dose_quantity) =  (122, 0.001, 0.01, 10, 0.1)\n",
      "{97, 69, 44, 45, 15, 16, 21, 87, 91, 93}\n",
      "sim_122_p_rew_0.01_start_10_dq_0.1\n"
     ]
    },
    {
     "name": "stderr",
     "output_type": "stream",
     "text": [
      "/home/aiyappa/anaconda3/lib/python3.7/site-packages/tables/path.py:112: NaturalNameWarning: object name is not a valid Python identifier: 'sim_122_p_rew_0.01_start_10_dq_0.1'; it does not match the pattern ``^[a-zA-Z_][a-zA-Z0-9_]*$``; you will not be able to use natural naming to access this object; using ``getattr()`` will still work, though\n",
      "  NaturalNameWarning)\n"
     ]
    },
    {
     "name": "stdout",
     "output_type": "stream",
     "text": [
      "(sim,lamb_da,p_rew,start,dose_quantity) =  (122, 0.001, 0.01, 10, 2)\n",
      "{67, 5, 70, 38, 41, 73, 11, 13, 83, 61}\n",
      "sim_122_p_rew_0.01_start_10_dq_2\n"
     ]
    },
    {
     "name": "stderr",
     "output_type": "stream",
     "text": [
      "/home/aiyappa/anaconda3/lib/python3.7/site-packages/tables/path.py:112: NaturalNameWarning: object name is not a valid Python identifier: 'sim_122_p_rew_0.01_start_10_dq_2'; it does not match the pattern ``^[a-zA-Z_][a-zA-Z0-9_]*$``; you will not be able to use natural naming to access this object; using ``getattr()`` will still work, though\n",
      "  NaturalNameWarning)\n"
     ]
    },
    {
     "name": "stdout",
     "output_type": "stream",
     "text": [
      "(sim,lamb_da,p_rew,start,dose_quantity) =  (122, 0.01, 0.10000000000000002, 1, 0.1)\n",
      "{47}\n",
      "sim_122_p_rew_0.1_start_1_dq_0.1\n"
     ]
    },
    {
     "name": "stderr",
     "output_type": "stream",
     "text": [
      "/home/aiyappa/anaconda3/lib/python3.7/site-packages/tables/path.py:112: NaturalNameWarning: object name is not a valid Python identifier: 'sim_122_p_rew_0.1_start_1_dq_0.1'; it does not match the pattern ``^[a-zA-Z_][a-zA-Z0-9_]*$``; you will not be able to use natural naming to access this object; using ``getattr()`` will still work, though\n",
      "  NaturalNameWarning)\n"
     ]
    },
    {
     "name": "stdout",
     "output_type": "stream",
     "text": [
      "(sim,lamb_da,p_rew,start,dose_quantity) =  (122, 0.01, 0.10000000000000002, 1, 2)\n",
      "{57}\n",
      "sim_122_p_rew_0.1_start_1_dq_2\n"
     ]
    },
    {
     "name": "stderr",
     "output_type": "stream",
     "text": [
      "/home/aiyappa/anaconda3/lib/python3.7/site-packages/tables/path.py:112: NaturalNameWarning: object name is not a valid Python identifier: 'sim_122_p_rew_0.1_start_1_dq_2'; it does not match the pattern ``^[a-zA-Z_][a-zA-Z0-9_]*$``; you will not be able to use natural naming to access this object; using ``getattr()`` will still work, though\n",
      "  NaturalNameWarning)\n"
     ]
    },
    {
     "name": "stdout",
     "output_type": "stream",
     "text": [
      "(sim,lamb_da,p_rew,start,dose_quantity) =  (122, 0.01, 0.10000000000000002, 10, 0.1)\n",
      "{6, 74, 11, 44, 43, 15, 19, 20, 58, 29}\n",
      "sim_122_p_rew_0.1_start_10_dq_0.1\n"
     ]
    },
    {
     "name": "stderr",
     "output_type": "stream",
     "text": [
      "/home/aiyappa/anaconda3/lib/python3.7/site-packages/tables/path.py:112: NaturalNameWarning: object name is not a valid Python identifier: 'sim_122_p_rew_0.1_start_10_dq_0.1'; it does not match the pattern ``^[a-zA-Z_][a-zA-Z0-9_]*$``; you will not be able to use natural naming to access this object; using ``getattr()`` will still work, though\n",
      "  NaturalNameWarning)\n"
     ]
    },
    {
     "name": "stdout",
     "output_type": "stream",
     "text": [
      "(sim,lamb_da,p_rew,start,dose_quantity) =  (122, 0.01, 0.10000000000000002, 10, 2)\n",
      "{34, 99, 7, 8, 12, 85, 24, 89, 60, 62}\n",
      "sim_122_p_rew_0.1_start_10_dq_2\n"
     ]
    },
    {
     "name": "stderr",
     "output_type": "stream",
     "text": [
      "/home/aiyappa/anaconda3/lib/python3.7/site-packages/tables/path.py:112: NaturalNameWarning: object name is not a valid Python identifier: 'sim_122_p_rew_0.1_start_10_dq_2'; it does not match the pattern ``^[a-zA-Z_][a-zA-Z0-9_]*$``; you will not be able to use natural naming to access this object; using ``getattr()`` will still work, though\n",
      "  NaturalNameWarning)\n"
     ]
    },
    {
     "name": "stdout",
     "output_type": "stream",
     "text": [
      "(sim,lamb_da,p_rew,start,dose_quantity) =  (122, 0.10000000000000002, 1.0, 1, 0.1)\n",
      "{25}\n",
      "sim_122_p_rew_1_start_1_dq_0.1\n"
     ]
    },
    {
     "name": "stderr",
     "output_type": "stream",
     "text": [
      "/home/aiyappa/anaconda3/lib/python3.7/site-packages/tables/path.py:112: NaturalNameWarning: object name is not a valid Python identifier: 'sim_122_p_rew_1_start_1_dq_0.1'; it does not match the pattern ``^[a-zA-Z_][a-zA-Z0-9_]*$``; you will not be able to use natural naming to access this object; using ``getattr()`` will still work, though\n",
      "  NaturalNameWarning)\n"
     ]
    },
    {
     "name": "stdout",
     "output_type": "stream",
     "text": [
      "(sim,lamb_da,p_rew,start,dose_quantity) =  (122, 0.10000000000000002, 1.0, 1, 2)\n",
      "{45}\n",
      "sim_122_p_rew_1_start_1_dq_2\n",
      "(sim,lamb_da,p_rew,start,dose_quantity) =  (122, 0.10000000000000002, 1.0, 10, 0.1)\n",
      "Initial node infection step failed\n",
      "None\n",
      "{34, 3, 67, 37, 9, 19, 20, 54, 57, 91}\n",
      "sim_122_p_rew_1_start_10_dq_0.1\n"
     ]
    },
    {
     "name": "stderr",
     "output_type": "stream",
     "text": [
      "/home/aiyappa/anaconda3/lib/python3.7/site-packages/tables/path.py:112: NaturalNameWarning: object name is not a valid Python identifier: 'sim_122_p_rew_1_start_10_dq_0.1'; it does not match the pattern ``^[a-zA-Z_][a-zA-Z0-9_]*$``; you will not be able to use natural naming to access this object; using ``getattr()`` will still work, though\n",
      "  NaturalNameWarning)\n"
     ]
    },
    {
     "name": "stdout",
     "output_type": "stream",
     "text": [
      "(sim,lamb_da,p_rew,start,dose_quantity) =  (122, 0.10000000000000002, 1.0, 10, 2)\n",
      "{96, 2, 99, 67, 35, 77, 78, 16, 22, 27}\n",
      "sim_122_p_rew_1_start_10_dq_2\n",
      "(sim,lamb_da,p_rew,start,dose_quantity) =  (123, 0.001, 0.01, 1, 0.1)\n",
      "{17}\n",
      "sim_123_p_rew_0.01_start_1_dq_0.1\n"
     ]
    },
    {
     "name": "stderr",
     "output_type": "stream",
     "text": [
      "/home/aiyappa/anaconda3/lib/python3.7/site-packages/tables/path.py:112: NaturalNameWarning: object name is not a valid Python identifier: 'sim_123_p_rew_0.01_start_1_dq_0.1'; it does not match the pattern ``^[a-zA-Z_][a-zA-Z0-9_]*$``; you will not be able to use natural naming to access this object; using ``getattr()`` will still work, though\n",
      "  NaturalNameWarning)\n"
     ]
    },
    {
     "name": "stdout",
     "output_type": "stream",
     "text": [
      "(sim,lamb_da,p_rew,start,dose_quantity) =  (123, 0.001, 0.01, 1, 2)\n",
      "{27}\n",
      "sim_123_p_rew_0.01_start_1_dq_2\n"
     ]
    },
    {
     "name": "stderr",
     "output_type": "stream",
     "text": [
      "/home/aiyappa/anaconda3/lib/python3.7/site-packages/tables/path.py:112: NaturalNameWarning: object name is not a valid Python identifier: 'sim_123_p_rew_0.01_start_1_dq_2'; it does not match the pattern ``^[a-zA-Z_][a-zA-Z0-9_]*$``; you will not be able to use natural naming to access this object; using ``getattr()`` will still work, though\n",
      "  NaturalNameWarning)\n"
     ]
    },
    {
     "name": "stdout",
     "output_type": "stream",
     "text": [
      "(sim,lamb_da,p_rew,start,dose_quantity) =  (123, 0.001, 0.01, 10, 0.1)\n",
      "{0, 99, 78, 47, 17, 81, 19, 90, 27, 29}\n",
      "sim_123_p_rew_0.01_start_10_dq_0.1\n"
     ]
    },
    {
     "name": "stderr",
     "output_type": "stream",
     "text": [
      "/home/aiyappa/anaconda3/lib/python3.7/site-packages/tables/path.py:112: NaturalNameWarning: object name is not a valid Python identifier: 'sim_123_p_rew_0.01_start_10_dq_0.1'; it does not match the pattern ``^[a-zA-Z_][a-zA-Z0-9_]*$``; you will not be able to use natural naming to access this object; using ``getattr()`` will still work, though\n",
      "  NaturalNameWarning)\n"
     ]
    },
    {
     "name": "stdout",
     "output_type": "stream",
     "text": [
      "(sim,lamb_da,p_rew,start,dose_quantity) =  (123, 0.001, 0.01, 10, 2)\n",
      "{37, 8, 42, 74, 77, 47, 24, 89, 91, 62}\n",
      "sim_123_p_rew_0.01_start_10_dq_2\n"
     ]
    },
    {
     "name": "stderr",
     "output_type": "stream",
     "text": [
      "/home/aiyappa/anaconda3/lib/python3.7/site-packages/tables/path.py:112: NaturalNameWarning: object name is not a valid Python identifier: 'sim_123_p_rew_0.01_start_10_dq_2'; it does not match the pattern ``^[a-zA-Z_][a-zA-Z0-9_]*$``; you will not be able to use natural naming to access this object; using ``getattr()`` will still work, though\n",
      "  NaturalNameWarning)\n"
     ]
    },
    {
     "name": "stdout",
     "output_type": "stream",
     "text": [
      "(sim,lamb_da,p_rew,start,dose_quantity) =  (123, 0.01, 0.10000000000000002, 1, 0.1)\n",
      "{37}\n",
      "sim_123_p_rew_0.1_start_1_dq_0.1\n"
     ]
    },
    {
     "name": "stderr",
     "output_type": "stream",
     "text": [
      "/home/aiyappa/anaconda3/lib/python3.7/site-packages/tables/path.py:112: NaturalNameWarning: object name is not a valid Python identifier: 'sim_123_p_rew_0.1_start_1_dq_0.1'; it does not match the pattern ``^[a-zA-Z_][a-zA-Z0-9_]*$``; you will not be able to use natural naming to access this object; using ``getattr()`` will still work, though\n",
      "  NaturalNameWarning)\n"
     ]
    },
    {
     "name": "stdout",
     "output_type": "stream",
     "text": [
      "(sim,lamb_da,p_rew,start,dose_quantity) =  (123, 0.01, 0.10000000000000002, 1, 2)\n",
      "{72}\n",
      "sim_123_p_rew_0.1_start_1_dq_2\n"
     ]
    },
    {
     "name": "stderr",
     "output_type": "stream",
     "text": [
      "/home/aiyappa/anaconda3/lib/python3.7/site-packages/tables/path.py:112: NaturalNameWarning: object name is not a valid Python identifier: 'sim_123_p_rew_0.1_start_1_dq_2'; it does not match the pattern ``^[a-zA-Z_][a-zA-Z0-9_]*$``; you will not be able to use natural naming to access this object; using ``getattr()`` will still work, though\n",
      "  NaturalNameWarning)\n"
     ]
    },
    {
     "name": "stdout",
     "output_type": "stream",
     "text": [
      "(sim,lamb_da,p_rew,start,dose_quantity) =  (123, 0.01, 0.10000000000000002, 10, 0.1)\n",
      "{4, 73, 75, 45, 46, 15, 86, 58, 30, 63}\n",
      "sim_123_p_rew_0.1_start_10_dq_0.1\n"
     ]
    },
    {
     "name": "stderr",
     "output_type": "stream",
     "text": [
      "/home/aiyappa/anaconda3/lib/python3.7/site-packages/tables/path.py:112: NaturalNameWarning: object name is not a valid Python identifier: 'sim_123_p_rew_0.1_start_10_dq_0.1'; it does not match the pattern ``^[a-zA-Z_][a-zA-Z0-9_]*$``; you will not be able to use natural naming to access this object; using ``getattr()`` will still work, though\n",
      "  NaturalNameWarning)\n"
     ]
    },
    {
     "name": "stdout",
     "output_type": "stream",
     "text": [
      "(sim,lamb_da,p_rew,start,dose_quantity) =  (123, 0.01, 0.10000000000000002, 10, 2)\n",
      "{0, 65, 66, 40, 77, 16, 56, 58, 27, 63}\n",
      "sim_123_p_rew_0.1_start_10_dq_2\n"
     ]
    },
    {
     "name": "stderr",
     "output_type": "stream",
     "text": [
      "/home/aiyappa/anaconda3/lib/python3.7/site-packages/tables/path.py:112: NaturalNameWarning: object name is not a valid Python identifier: 'sim_123_p_rew_0.1_start_10_dq_2'; it does not match the pattern ``^[a-zA-Z_][a-zA-Z0-9_]*$``; you will not be able to use natural naming to access this object; using ``getattr()`` will still work, though\n",
      "  NaturalNameWarning)\n"
     ]
    },
    {
     "name": "stdout",
     "output_type": "stream",
     "text": [
      "(sim,lamb_da,p_rew,start,dose_quantity) =  (123, 0.10000000000000002, 1.0, 1, 0.1)\n",
      "{44}\n",
      "sim_123_p_rew_1_start_1_dq_0.1\n"
     ]
    },
    {
     "name": "stderr",
     "output_type": "stream",
     "text": [
      "/home/aiyappa/anaconda3/lib/python3.7/site-packages/tables/path.py:112: NaturalNameWarning: object name is not a valid Python identifier: 'sim_123_p_rew_1_start_1_dq_0.1'; it does not match the pattern ``^[a-zA-Z_][a-zA-Z0-9_]*$``; you will not be able to use natural naming to access this object; using ``getattr()`` will still work, though\n",
      "  NaturalNameWarning)\n"
     ]
    },
    {
     "name": "stdout",
     "output_type": "stream",
     "text": [
      "(sim,lamb_da,p_rew,start,dose_quantity) =  (123, 0.10000000000000002, 1.0, 1, 2)\n",
      "{58}\n",
      "sim_123_p_rew_1_start_1_dq_2\n",
      "(sim,lamb_da,p_rew,start,dose_quantity) =  (123, 0.10000000000000002, 1.0, 10, 0.1)\n",
      "Initial node infection step failed\n",
      "None\n",
      "{35, 39, 14, 47, 52, 56, 91, 28, 61, 62}\n",
      "sim_123_p_rew_1_start_10_dq_0.1\n"
     ]
    },
    {
     "name": "stderr",
     "output_type": "stream",
     "text": [
      "/home/aiyappa/anaconda3/lib/python3.7/site-packages/tables/path.py:112: NaturalNameWarning: object name is not a valid Python identifier: 'sim_123_p_rew_1_start_10_dq_0.1'; it does not match the pattern ``^[a-zA-Z_][a-zA-Z0-9_]*$``; you will not be able to use natural naming to access this object; using ``getattr()`` will still work, though\n",
      "  NaturalNameWarning)\n"
     ]
    },
    {
     "name": "stdout",
     "output_type": "stream",
     "text": [
      "(sim,lamb_da,p_rew,start,dose_quantity) =  (123, 0.10000000000000002, 1.0, 10, 2)\n",
      "{35, 4, 71, 12, 77, 81, 51, 58, 27, 29}\n",
      "sim_123_p_rew_1_start_10_dq_2\n",
      "(sim,lamb_da,p_rew,start,dose_quantity) =  (124, 0.001, 0.01, 1, 0.1)\n",
      "{78}\n",
      "sim_124_p_rew_0.01_start_1_dq_0.1\n"
     ]
    },
    {
     "name": "stderr",
     "output_type": "stream",
     "text": [
      "/home/aiyappa/anaconda3/lib/python3.7/site-packages/tables/path.py:112: NaturalNameWarning: object name is not a valid Python identifier: 'sim_124_p_rew_0.01_start_1_dq_0.1'; it does not match the pattern ``^[a-zA-Z_][a-zA-Z0-9_]*$``; you will not be able to use natural naming to access this object; using ``getattr()`` will still work, though\n",
      "  NaturalNameWarning)\n"
     ]
    },
    {
     "name": "stdout",
     "output_type": "stream",
     "text": [
      "(sim,lamb_da,p_rew,start,dose_quantity) =  (124, 0.001, 0.01, 1, 2)\n",
      "{64}\n",
      "sim_124_p_rew_0.01_start_1_dq_2\n"
     ]
    },
    {
     "name": "stderr",
     "output_type": "stream",
     "text": [
      "/home/aiyappa/anaconda3/lib/python3.7/site-packages/tables/path.py:112: NaturalNameWarning: object name is not a valid Python identifier: 'sim_124_p_rew_0.01_start_1_dq_2'; it does not match the pattern ``^[a-zA-Z_][a-zA-Z0-9_]*$``; you will not be able to use natural naming to access this object; using ``getattr()`` will still work, though\n",
      "  NaturalNameWarning)\n"
     ]
    },
    {
     "name": "stdout",
     "output_type": "stream",
     "text": [
      "(sim,lamb_da,p_rew,start,dose_quantity) =  (124, 0.001, 0.01, 10, 0.1)\n",
      "{1, 2, 34, 40, 44, 48, 16, 27, 61, 63}\n",
      "sim_124_p_rew_0.01_start_10_dq_0.1\n"
     ]
    },
    {
     "name": "stderr",
     "output_type": "stream",
     "text": [
      "/home/aiyappa/anaconda3/lib/python3.7/site-packages/tables/path.py:112: NaturalNameWarning: object name is not a valid Python identifier: 'sim_124_p_rew_0.01_start_10_dq_0.1'; it does not match the pattern ``^[a-zA-Z_][a-zA-Z0-9_]*$``; you will not be able to use natural naming to access this object; using ``getattr()`` will still work, though\n",
      "  NaturalNameWarning)\n"
     ]
    },
    {
     "name": "stdout",
     "output_type": "stream",
     "text": [
      "(sim,lamb_da,p_rew,start,dose_quantity) =  (124, 0.001, 0.01, 10, 2)\n",
      "{96, 65, 34, 0, 6, 41, 43, 83, 84, 85}\n",
      "sim_124_p_rew_0.01_start_10_dq_2\n"
     ]
    },
    {
     "name": "stderr",
     "output_type": "stream",
     "text": [
      "/home/aiyappa/anaconda3/lib/python3.7/site-packages/tables/path.py:112: NaturalNameWarning: object name is not a valid Python identifier: 'sim_124_p_rew_0.01_start_10_dq_2'; it does not match the pattern ``^[a-zA-Z_][a-zA-Z0-9_]*$``; you will not be able to use natural naming to access this object; using ``getattr()`` will still work, though\n",
      "  NaturalNameWarning)\n"
     ]
    },
    {
     "name": "stdout",
     "output_type": "stream",
     "text": [
      "(sim,lamb_da,p_rew,start,dose_quantity) =  (124, 0.01, 0.10000000000000002, 1, 0.1)\n",
      "{46}\n",
      "sim_124_p_rew_0.1_start_1_dq_0.1\n"
     ]
    },
    {
     "name": "stderr",
     "output_type": "stream",
     "text": [
      "/home/aiyappa/anaconda3/lib/python3.7/site-packages/tables/path.py:112: NaturalNameWarning: object name is not a valid Python identifier: 'sim_124_p_rew_0.1_start_1_dq_0.1'; it does not match the pattern ``^[a-zA-Z_][a-zA-Z0-9_]*$``; you will not be able to use natural naming to access this object; using ``getattr()`` will still work, though\n",
      "  NaturalNameWarning)\n"
     ]
    },
    {
     "name": "stdout",
     "output_type": "stream",
     "text": [
      "(sim,lamb_da,p_rew,start,dose_quantity) =  (124, 0.01, 0.10000000000000002, 1, 2)\n",
      "{92}\n",
      "sim_124_p_rew_0.1_start_1_dq_2\n"
     ]
    },
    {
     "name": "stderr",
     "output_type": "stream",
     "text": [
      "/home/aiyappa/anaconda3/lib/python3.7/site-packages/tables/path.py:112: NaturalNameWarning: object name is not a valid Python identifier: 'sim_124_p_rew_0.1_start_1_dq_2'; it does not match the pattern ``^[a-zA-Z_][a-zA-Z0-9_]*$``; you will not be able to use natural naming to access this object; using ``getattr()`` will still work, though\n",
      "  NaturalNameWarning)\n"
     ]
    },
    {
     "name": "stdout",
     "output_type": "stream",
     "text": [
      "(sim,lamb_da,p_rew,start,dose_quantity) =  (124, 0.01, 0.10000000000000002, 10, 0.1)\n",
      "{97, 98, 35, 38, 71, 9, 41, 18, 25, 61}\n",
      "sim_124_p_rew_0.1_start_10_dq_0.1\n"
     ]
    },
    {
     "name": "stderr",
     "output_type": "stream",
     "text": [
      "/home/aiyappa/anaconda3/lib/python3.7/site-packages/tables/path.py:112: NaturalNameWarning: object name is not a valid Python identifier: 'sim_124_p_rew_0.1_start_10_dq_0.1'; it does not match the pattern ``^[a-zA-Z_][a-zA-Z0-9_]*$``; you will not be able to use natural naming to access this object; using ``getattr()`` will still work, though\n",
      "  NaturalNameWarning)\n"
     ]
    },
    {
     "name": "stdout",
     "output_type": "stream",
     "text": [
      "(sim,lamb_da,p_rew,start,dose_quantity) =  (124, 0.01, 0.10000000000000002, 10, 2)\n",
      "{33, 34, 68, 74, 43, 50, 54, 91, 28, 95}\n",
      "sim_124_p_rew_0.1_start_10_dq_2\n"
     ]
    },
    {
     "name": "stderr",
     "output_type": "stream",
     "text": [
      "/home/aiyappa/anaconda3/lib/python3.7/site-packages/tables/path.py:112: NaturalNameWarning: object name is not a valid Python identifier: 'sim_124_p_rew_0.1_start_10_dq_2'; it does not match the pattern ``^[a-zA-Z_][a-zA-Z0-9_]*$``; you will not be able to use natural naming to access this object; using ``getattr()`` will still work, though\n",
      "  NaturalNameWarning)\n"
     ]
    },
    {
     "name": "stdout",
     "output_type": "stream",
     "text": [
      "(sim,lamb_da,p_rew,start,dose_quantity) =  (124, 0.10000000000000002, 1.0, 1, 0.1)\n",
      "{66}\n",
      "sim_124_p_rew_1_start_1_dq_0.1\n"
     ]
    },
    {
     "name": "stderr",
     "output_type": "stream",
     "text": [
      "/home/aiyappa/anaconda3/lib/python3.7/site-packages/tables/path.py:112: NaturalNameWarning: object name is not a valid Python identifier: 'sim_124_p_rew_1_start_1_dq_0.1'; it does not match the pattern ``^[a-zA-Z_][a-zA-Z0-9_]*$``; you will not be able to use natural naming to access this object; using ``getattr()`` will still work, though\n",
      "  NaturalNameWarning)\n"
     ]
    },
    {
     "name": "stdout",
     "output_type": "stream",
     "text": [
      "(sim,lamb_da,p_rew,start,dose_quantity) =  (124, 0.10000000000000002, 1.0, 1, 2)\n",
      "{90}\n",
      "sim_124_p_rew_1_start_1_dq_2\n",
      "(sim,lamb_da,p_rew,start,dose_quantity) =  (124, 0.10000000000000002, 1.0, 10, 0.1)\n",
      "Initial node infection step failed\n",
      "None\n",
      "Initial node infection step failed\n",
      "None\n",
      "{0, 97, 98, 36, 71, 13, 81, 17, 25, 60}\n",
      "sim_124_p_rew_1_start_10_dq_0.1\n"
     ]
    },
    {
     "name": "stderr",
     "output_type": "stream",
     "text": [
      "/home/aiyappa/anaconda3/lib/python3.7/site-packages/tables/path.py:112: NaturalNameWarning: object name is not a valid Python identifier: 'sim_124_p_rew_1_start_10_dq_0.1'; it does not match the pattern ``^[a-zA-Z_][a-zA-Z0-9_]*$``; you will not be able to use natural naming to access this object; using ``getattr()`` will still work, though\n",
      "  NaturalNameWarning)\n"
     ]
    },
    {
     "name": "stdout",
     "output_type": "stream",
     "text": [
      "(sim,lamb_da,p_rew,start,dose_quantity) =  (124, 0.10000000000000002, 1.0, 10, 2)\n",
      "{96, 3, 36, 41, 15, 81, 50, 89, 60, 31}\n",
      "sim_124_p_rew_1_start_10_dq_2\n",
      "(sim,lamb_da,p_rew,start,dose_quantity) =  (125, 0.001, 0.01, 1, 0.1)\n",
      "{27}\n",
      "sim_125_p_rew_0.01_start_1_dq_0.1\n"
     ]
    },
    {
     "name": "stderr",
     "output_type": "stream",
     "text": [
      "/home/aiyappa/anaconda3/lib/python3.7/site-packages/tables/path.py:112: NaturalNameWarning: object name is not a valid Python identifier: 'sim_125_p_rew_0.01_start_1_dq_0.1'; it does not match the pattern ``^[a-zA-Z_][a-zA-Z0-9_]*$``; you will not be able to use natural naming to access this object; using ``getattr()`` will still work, though\n",
      "  NaturalNameWarning)\n"
     ]
    },
    {
     "name": "stdout",
     "output_type": "stream",
     "text": [
      "(sim,lamb_da,p_rew,start,dose_quantity) =  (125, 0.001, 0.01, 1, 2)\n",
      "{58}\n",
      "sim_125_p_rew_0.01_start_1_dq_2\n"
     ]
    },
    {
     "name": "stderr",
     "output_type": "stream",
     "text": [
      "/home/aiyappa/anaconda3/lib/python3.7/site-packages/tables/path.py:112: NaturalNameWarning: object name is not a valid Python identifier: 'sim_125_p_rew_0.01_start_1_dq_2'; it does not match the pattern ``^[a-zA-Z_][a-zA-Z0-9_]*$``; you will not be able to use natural naming to access this object; using ``getattr()`` will still work, though\n",
      "  NaturalNameWarning)\n"
     ]
    },
    {
     "name": "stdout",
     "output_type": "stream",
     "text": [
      "(sim,lamb_da,p_rew,start,dose_quantity) =  (125, 0.001, 0.01, 10, 0.1)\n",
      "{1, 69, 73, 11, 15, 81, 17, 62, 94, 30}\n",
      "sim_125_p_rew_0.01_start_10_dq_0.1\n"
     ]
    },
    {
     "name": "stderr",
     "output_type": "stream",
     "text": [
      "/home/aiyappa/anaconda3/lib/python3.7/site-packages/tables/path.py:112: NaturalNameWarning: object name is not a valid Python identifier: 'sim_125_p_rew_0.01_start_10_dq_0.1'; it does not match the pattern ``^[a-zA-Z_][a-zA-Z0-9_]*$``; you will not be able to use natural naming to access this object; using ``getattr()`` will still work, though\n",
      "  NaturalNameWarning)\n"
     ]
    },
    {
     "name": "stdout",
     "output_type": "stream",
     "text": [
      "(sim,lamb_da,p_rew,start,dose_quantity) =  (125, 0.001, 0.01, 10, 2)\n",
      "{96, 10, 49, 17, 50, 20, 53, 86, 26, 60}\n",
      "sim_125_p_rew_0.01_start_10_dq_2\n"
     ]
    },
    {
     "name": "stderr",
     "output_type": "stream",
     "text": [
      "/home/aiyappa/anaconda3/lib/python3.7/site-packages/tables/path.py:112: NaturalNameWarning: object name is not a valid Python identifier: 'sim_125_p_rew_0.01_start_10_dq_2'; it does not match the pattern ``^[a-zA-Z_][a-zA-Z0-9_]*$``; you will not be able to use natural naming to access this object; using ``getattr()`` will still work, though\n",
      "  NaturalNameWarning)\n"
     ]
    },
    {
     "name": "stdout",
     "output_type": "stream",
     "text": [
      "(sim,lamb_da,p_rew,start,dose_quantity) =  (125, 0.01, 0.10000000000000002, 1, 0.1)\n",
      "{6}\n",
      "sim_125_p_rew_0.1_start_1_dq_0.1\n"
     ]
    },
    {
     "name": "stderr",
     "output_type": "stream",
     "text": [
      "/home/aiyappa/anaconda3/lib/python3.7/site-packages/tables/path.py:112: NaturalNameWarning: object name is not a valid Python identifier: 'sim_125_p_rew_0.1_start_1_dq_0.1'; it does not match the pattern ``^[a-zA-Z_][a-zA-Z0-9_]*$``; you will not be able to use natural naming to access this object; using ``getattr()`` will still work, though\n",
      "  NaturalNameWarning)\n"
     ]
    },
    {
     "name": "stdout",
     "output_type": "stream",
     "text": [
      "(sim,lamb_da,p_rew,start,dose_quantity) =  (125, 0.01, 0.10000000000000002, 1, 2)\n",
      "{49}\n",
      "sim_125_p_rew_0.1_start_1_dq_2\n"
     ]
    },
    {
     "name": "stderr",
     "output_type": "stream",
     "text": [
      "/home/aiyappa/anaconda3/lib/python3.7/site-packages/tables/path.py:112: NaturalNameWarning: object name is not a valid Python identifier: 'sim_125_p_rew_0.1_start_1_dq_2'; it does not match the pattern ``^[a-zA-Z_][a-zA-Z0-9_]*$``; you will not be able to use natural naming to access this object; using ``getattr()`` will still work, though\n",
      "  NaturalNameWarning)\n"
     ]
    },
    {
     "name": "stdout",
     "output_type": "stream",
     "text": [
      "(sim,lamb_da,p_rew,start,dose_quantity) =  (125, 0.01, 0.10000000000000002, 10, 0.1)\n",
      "{68, 41, 43, 77, 79, 48, 19, 57, 90, 93}\n",
      "sim_125_p_rew_0.1_start_10_dq_0.1\n"
     ]
    },
    {
     "name": "stderr",
     "output_type": "stream",
     "text": [
      "/home/aiyappa/anaconda3/lib/python3.7/site-packages/tables/path.py:112: NaturalNameWarning: object name is not a valid Python identifier: 'sim_125_p_rew_0.1_start_10_dq_0.1'; it does not match the pattern ``^[a-zA-Z_][a-zA-Z0-9_]*$``; you will not be able to use natural naming to access this object; using ``getattr()`` will still work, though\n",
      "  NaturalNameWarning)\n"
     ]
    },
    {
     "name": "stdout",
     "output_type": "stream",
     "text": [
      "(sim,lamb_da,p_rew,start,dose_quantity) =  (125, 0.01, 0.10000000000000002, 10, 2)\n",
      "{90, 7, 40, 12, 44, 78, 56, 26, 59, 60}\n",
      "sim_125_p_rew_0.1_start_10_dq_2\n"
     ]
    },
    {
     "name": "stderr",
     "output_type": "stream",
     "text": [
      "/home/aiyappa/anaconda3/lib/python3.7/site-packages/tables/path.py:112: NaturalNameWarning: object name is not a valid Python identifier: 'sim_125_p_rew_0.1_start_10_dq_2'; it does not match the pattern ``^[a-zA-Z_][a-zA-Z0-9_]*$``; you will not be able to use natural naming to access this object; using ``getattr()`` will still work, though\n",
      "  NaturalNameWarning)\n"
     ]
    },
    {
     "name": "stdout",
     "output_type": "stream",
     "text": [
      "(sim,lamb_da,p_rew,start,dose_quantity) =  (125, 0.10000000000000002, 1.0, 1, 0.1)\n",
      "{12}\n",
      "sim_125_p_rew_1_start_1_dq_0.1\n"
     ]
    },
    {
     "name": "stderr",
     "output_type": "stream",
     "text": [
      "/home/aiyappa/anaconda3/lib/python3.7/site-packages/tables/path.py:112: NaturalNameWarning: object name is not a valid Python identifier: 'sim_125_p_rew_1_start_1_dq_0.1'; it does not match the pattern ``^[a-zA-Z_][a-zA-Z0-9_]*$``; you will not be able to use natural naming to access this object; using ``getattr()`` will still work, though\n",
      "  NaturalNameWarning)\n"
     ]
    },
    {
     "name": "stdout",
     "output_type": "stream",
     "text": [
      "(sim,lamb_da,p_rew,start,dose_quantity) =  (125, 0.10000000000000002, 1.0, 1, 2)\n",
      "{56}\n",
      "sim_125_p_rew_1_start_1_dq_2\n",
      "(sim,lamb_da,p_rew,start,dose_quantity) =  (125, 0.10000000000000002, 1.0, 10, 0.1)\n",
      "Initial node infection step failed\n",
      "None\n",
      "{96, 99, 38, 72, 75, 79, 25, 59, 93, 30}\n",
      "sim_125_p_rew_1_start_10_dq_0.1\n"
     ]
    },
    {
     "name": "stderr",
     "output_type": "stream",
     "text": [
      "/home/aiyappa/anaconda3/lib/python3.7/site-packages/tables/path.py:112: NaturalNameWarning: object name is not a valid Python identifier: 'sim_125_p_rew_1_start_10_dq_0.1'; it does not match the pattern ``^[a-zA-Z_][a-zA-Z0-9_]*$``; you will not be able to use natural naming to access this object; using ``getattr()`` will still work, though\n",
      "  NaturalNameWarning)\n"
     ]
    },
    {
     "name": "stdout",
     "output_type": "stream",
     "text": [
      "(sim,lamb_da,p_rew,start,dose_quantity) =  (125, 0.10000000000000002, 1.0, 10, 2)\n",
      "{33, 35, 71, 42, 44, 82, 51, 20, 50, 92}\n",
      "sim_125_p_rew_1_start_10_dq_2\n",
      "(sim,lamb_da,p_rew,start,dose_quantity) =  (126, 0.001, 0.01, 1, 0.1)\n",
      "{38}\n",
      "sim_126_p_rew_0.01_start_1_dq_0.1\n"
     ]
    },
    {
     "name": "stderr",
     "output_type": "stream",
     "text": [
      "/home/aiyappa/anaconda3/lib/python3.7/site-packages/tables/path.py:112: NaturalNameWarning: object name is not a valid Python identifier: 'sim_126_p_rew_0.01_start_1_dq_0.1'; it does not match the pattern ``^[a-zA-Z_][a-zA-Z0-9_]*$``; you will not be able to use natural naming to access this object; using ``getattr()`` will still work, though\n",
      "  NaturalNameWarning)\n"
     ]
    },
    {
     "name": "stdout",
     "output_type": "stream",
     "text": [
      "(sim,lamb_da,p_rew,start,dose_quantity) =  (126, 0.001, 0.01, 1, 2)\n",
      "{57}\n",
      "sim_126_p_rew_0.01_start_1_dq_2\n"
     ]
    },
    {
     "name": "stderr",
     "output_type": "stream",
     "text": [
      "/home/aiyappa/anaconda3/lib/python3.7/site-packages/tables/path.py:112: NaturalNameWarning: object name is not a valid Python identifier: 'sim_126_p_rew_0.01_start_1_dq_2'; it does not match the pattern ``^[a-zA-Z_][a-zA-Z0-9_]*$``; you will not be able to use natural naming to access this object; using ``getattr()`` will still work, though\n",
      "  NaturalNameWarning)\n"
     ]
    },
    {
     "name": "stdout",
     "output_type": "stream",
     "text": [
      "(sim,lamb_da,p_rew,start,dose_quantity) =  (126, 0.001, 0.01, 10, 0.1)\n",
      "{40, 8, 44, 45, 46, 84, 20, 86, 21, 95}\n",
      "sim_126_p_rew_0.01_start_10_dq_0.1\n"
     ]
    },
    {
     "name": "stderr",
     "output_type": "stream",
     "text": [
      "/home/aiyappa/anaconda3/lib/python3.7/site-packages/tables/path.py:112: NaturalNameWarning: object name is not a valid Python identifier: 'sim_126_p_rew_0.01_start_10_dq_0.1'; it does not match the pattern ``^[a-zA-Z_][a-zA-Z0-9_]*$``; you will not be able to use natural naming to access this object; using ``getattr()`` will still work, though\n",
      "  NaturalNameWarning)\n"
     ]
    },
    {
     "name": "stdout",
     "output_type": "stream",
     "text": [
      "(sim,lamb_da,p_rew,start,dose_quantity) =  (126, 0.001, 0.01, 10, 2)\n",
      "{33, 99, 38, 44, 79, 80, 21, 55, 93, 95}\n",
      "sim_126_p_rew_0.01_start_10_dq_2\n"
     ]
    },
    {
     "name": "stderr",
     "output_type": "stream",
     "text": [
      "/home/aiyappa/anaconda3/lib/python3.7/site-packages/tables/path.py:112: NaturalNameWarning: object name is not a valid Python identifier: 'sim_126_p_rew_0.01_start_10_dq_2'; it does not match the pattern ``^[a-zA-Z_][a-zA-Z0-9_]*$``; you will not be able to use natural naming to access this object; using ``getattr()`` will still work, though\n",
      "  NaturalNameWarning)\n"
     ]
    },
    {
     "name": "stdout",
     "output_type": "stream",
     "text": [
      "(sim,lamb_da,p_rew,start,dose_quantity) =  (126, 0.01, 0.10000000000000002, 1, 0.1)\n",
      "{38}\n",
      "sim_126_p_rew_0.1_start_1_dq_0.1\n"
     ]
    },
    {
     "name": "stderr",
     "output_type": "stream",
     "text": [
      "/home/aiyappa/anaconda3/lib/python3.7/site-packages/tables/path.py:112: NaturalNameWarning: object name is not a valid Python identifier: 'sim_126_p_rew_0.1_start_1_dq_0.1'; it does not match the pattern ``^[a-zA-Z_][a-zA-Z0-9_]*$``; you will not be able to use natural naming to access this object; using ``getattr()`` will still work, though\n",
      "  NaturalNameWarning)\n"
     ]
    },
    {
     "name": "stdout",
     "output_type": "stream",
     "text": [
      "(sim,lamb_da,p_rew,start,dose_quantity) =  (126, 0.01, 0.10000000000000002, 1, 2)\n",
      "{76}\n",
      "sim_126_p_rew_0.1_start_1_dq_2\n"
     ]
    },
    {
     "name": "stderr",
     "output_type": "stream",
     "text": [
      "/home/aiyappa/anaconda3/lib/python3.7/site-packages/tables/path.py:112: NaturalNameWarning: object name is not a valid Python identifier: 'sim_126_p_rew_0.1_start_1_dq_2'; it does not match the pattern ``^[a-zA-Z_][a-zA-Z0-9_]*$``; you will not be able to use natural naming to access this object; using ``getattr()`` will still work, though\n",
      "  NaturalNameWarning)\n"
     ]
    },
    {
     "name": "stdout",
     "output_type": "stream",
     "text": [
      "(sim,lamb_da,p_rew,start,dose_quantity) =  (126, 0.01, 0.10000000000000002, 10, 0.1)\n",
      "{71, 72, 75, 78, 46, 21, 22, 56, 57, 94}\n",
      "sim_126_p_rew_0.1_start_10_dq_0.1\n"
     ]
    },
    {
     "name": "stderr",
     "output_type": "stream",
     "text": [
      "/home/aiyappa/anaconda3/lib/python3.7/site-packages/tables/path.py:112: NaturalNameWarning: object name is not a valid Python identifier: 'sim_126_p_rew_0.1_start_10_dq_0.1'; it does not match the pattern ``^[a-zA-Z_][a-zA-Z0-9_]*$``; you will not be able to use natural naming to access this object; using ``getattr()`` will still work, though\n",
      "  NaturalNameWarning)\n"
     ]
    },
    {
     "name": "stdout",
     "output_type": "stream",
     "text": [
      "(sim,lamb_da,p_rew,start,dose_quantity) =  (126, 0.01, 0.10000000000000002, 10, 2)\n",
      "{33, 98, 5, 69, 77, 15, 52, 85, 24, 63}\n",
      "sim_126_p_rew_0.1_start_10_dq_2\n"
     ]
    },
    {
     "name": "stderr",
     "output_type": "stream",
     "text": [
      "/home/aiyappa/anaconda3/lib/python3.7/site-packages/tables/path.py:112: NaturalNameWarning: object name is not a valid Python identifier: 'sim_126_p_rew_0.1_start_10_dq_2'; it does not match the pattern ``^[a-zA-Z_][a-zA-Z0-9_]*$``; you will not be able to use natural naming to access this object; using ``getattr()`` will still work, though\n",
      "  NaturalNameWarning)\n"
     ]
    },
    {
     "name": "stdout",
     "output_type": "stream",
     "text": [
      "(sim,lamb_da,p_rew,start,dose_quantity) =  (126, 0.10000000000000002, 1.0, 1, 0.1)\n",
      "{59}\n",
      "sim_126_p_rew_1_start_1_dq_0.1\n"
     ]
    },
    {
     "name": "stderr",
     "output_type": "stream",
     "text": [
      "/home/aiyappa/anaconda3/lib/python3.7/site-packages/tables/path.py:112: NaturalNameWarning: object name is not a valid Python identifier: 'sim_126_p_rew_1_start_1_dq_0.1'; it does not match the pattern ``^[a-zA-Z_][a-zA-Z0-9_]*$``; you will not be able to use natural naming to access this object; using ``getattr()`` will still work, though\n",
      "  NaturalNameWarning)\n"
     ]
    },
    {
     "name": "stdout",
     "output_type": "stream",
     "text": [
      "(sim,lamb_da,p_rew,start,dose_quantity) =  (126, 0.10000000000000002, 1.0, 1, 2)\n",
      "{61}\n",
      "sim_126_p_rew_1_start_1_dq_2\n",
      "(sim,lamb_da,p_rew,start,dose_quantity) =  (126, 0.10000000000000002, 1.0, 10, 0.1)\n",
      "Initial node infection step failed\n",
      "None\n",
      "{98, 58, 71, 41, 43, 75, 47, 87, 26, 28}\n",
      "sim_126_p_rew_1_start_10_dq_0.1\n"
     ]
    },
    {
     "name": "stderr",
     "output_type": "stream",
     "text": [
      "/home/aiyappa/anaconda3/lib/python3.7/site-packages/tables/path.py:112: NaturalNameWarning: object name is not a valid Python identifier: 'sim_126_p_rew_1_start_10_dq_0.1'; it does not match the pattern ``^[a-zA-Z_][a-zA-Z0-9_]*$``; you will not be able to use natural naming to access this object; using ``getattr()`` will still work, though\n",
      "  NaturalNameWarning)\n"
     ]
    },
    {
     "name": "stdout",
     "output_type": "stream",
     "text": [
      "(sim,lamb_da,p_rew,start,dose_quantity) =  (126, 0.10000000000000002, 1.0, 10, 2)\n",
      "{1, 2, 38, 7, 41, 44, 17, 51, 92, 93}\n",
      "sim_126_p_rew_1_start_10_dq_2\n",
      "(sim,lamb_da,p_rew,start,dose_quantity) =  (127, 0.001, 0.01, 1, 0.1)\n",
      "{96}\n",
      "sim_127_p_rew_0.01_start_1_dq_0.1\n"
     ]
    },
    {
     "name": "stderr",
     "output_type": "stream",
     "text": [
      "/home/aiyappa/anaconda3/lib/python3.7/site-packages/tables/path.py:112: NaturalNameWarning: object name is not a valid Python identifier: 'sim_127_p_rew_0.01_start_1_dq_0.1'; it does not match the pattern ``^[a-zA-Z_][a-zA-Z0-9_]*$``; you will not be able to use natural naming to access this object; using ``getattr()`` will still work, though\n",
      "  NaturalNameWarning)\n"
     ]
    },
    {
     "name": "stdout",
     "output_type": "stream",
     "text": [
      "(sim,lamb_da,p_rew,start,dose_quantity) =  (127, 0.001, 0.01, 1, 2)\n",
      "{51}\n",
      "sim_127_p_rew_0.01_start_1_dq_2\n"
     ]
    },
    {
     "name": "stderr",
     "output_type": "stream",
     "text": [
      "/home/aiyappa/anaconda3/lib/python3.7/site-packages/tables/path.py:112: NaturalNameWarning: object name is not a valid Python identifier: 'sim_127_p_rew_0.01_start_1_dq_2'; it does not match the pattern ``^[a-zA-Z_][a-zA-Z0-9_]*$``; you will not be able to use natural naming to access this object; using ``getattr()`` will still work, though\n",
      "  NaturalNameWarning)\n"
     ]
    },
    {
     "name": "stdout",
     "output_type": "stream",
     "text": [
      "(sim,lamb_da,p_rew,start,dose_quantity) =  (127, 0.001, 0.01, 10, 0.1)\n",
      "{33, 36, 39, 75, 12, 45, 49, 54, 58, 93}\n",
      "sim_127_p_rew_0.01_start_10_dq_0.1\n"
     ]
    },
    {
     "name": "stderr",
     "output_type": "stream",
     "text": [
      "/home/aiyappa/anaconda3/lib/python3.7/site-packages/tables/path.py:112: NaturalNameWarning: object name is not a valid Python identifier: 'sim_127_p_rew_0.01_start_10_dq_0.1'; it does not match the pattern ``^[a-zA-Z_][a-zA-Z0-9_]*$``; you will not be able to use natural naming to access this object; using ``getattr()`` will still work, though\n",
      "  NaturalNameWarning)\n"
     ]
    },
    {
     "name": "stdout",
     "output_type": "stream",
     "text": [
      "(sim,lamb_da,p_rew,start,dose_quantity) =  (127, 0.001, 0.01, 10, 2)\n",
      "{32, 67, 4, 36, 5, 71, 41, 11, 79, 16}\n",
      "sim_127_p_rew_0.01_start_10_dq_2\n"
     ]
    },
    {
     "name": "stderr",
     "output_type": "stream",
     "text": [
      "/home/aiyappa/anaconda3/lib/python3.7/site-packages/tables/path.py:112: NaturalNameWarning: object name is not a valid Python identifier: 'sim_127_p_rew_0.01_start_10_dq_2'; it does not match the pattern ``^[a-zA-Z_][a-zA-Z0-9_]*$``; you will not be able to use natural naming to access this object; using ``getattr()`` will still work, though\n",
      "  NaturalNameWarning)\n"
     ]
    },
    {
     "name": "stdout",
     "output_type": "stream",
     "text": [
      "(sim,lamb_da,p_rew,start,dose_quantity) =  (127, 0.01, 0.10000000000000002, 1, 0.1)\n",
      "{17}\n",
      "sim_127_p_rew_0.1_start_1_dq_0.1\n"
     ]
    },
    {
     "name": "stderr",
     "output_type": "stream",
     "text": [
      "/home/aiyappa/anaconda3/lib/python3.7/site-packages/tables/path.py:112: NaturalNameWarning: object name is not a valid Python identifier: 'sim_127_p_rew_0.1_start_1_dq_0.1'; it does not match the pattern ``^[a-zA-Z_][a-zA-Z0-9_]*$``; you will not be able to use natural naming to access this object; using ``getattr()`` will still work, though\n",
      "  NaturalNameWarning)\n"
     ]
    },
    {
     "name": "stdout",
     "output_type": "stream",
     "text": [
      "(sim,lamb_da,p_rew,start,dose_quantity) =  (127, 0.01, 0.10000000000000002, 1, 2)\n",
      "{35}\n",
      "sim_127_p_rew_0.1_start_1_dq_2\n"
     ]
    },
    {
     "name": "stderr",
     "output_type": "stream",
     "text": [
      "/home/aiyappa/anaconda3/lib/python3.7/site-packages/tables/path.py:112: NaturalNameWarning: object name is not a valid Python identifier: 'sim_127_p_rew_0.1_start_1_dq_2'; it does not match the pattern ``^[a-zA-Z_][a-zA-Z0-9_]*$``; you will not be able to use natural naming to access this object; using ``getattr()`` will still work, though\n",
      "  NaturalNameWarning)\n"
     ]
    },
    {
     "name": "stdout",
     "output_type": "stream",
     "text": [
      "(sim,lamb_da,p_rew,start,dose_quantity) =  (127, 0.01, 0.10000000000000002, 10, 0.1)\n",
      "{96, 2, 36, 68, 71, 7, 9, 89, 27, 94}\n",
      "sim_127_p_rew_0.1_start_10_dq_0.1\n"
     ]
    },
    {
     "name": "stderr",
     "output_type": "stream",
     "text": [
      "/home/aiyappa/anaconda3/lib/python3.7/site-packages/tables/path.py:112: NaturalNameWarning: object name is not a valid Python identifier: 'sim_127_p_rew_0.1_start_10_dq_0.1'; it does not match the pattern ``^[a-zA-Z_][a-zA-Z0-9_]*$``; you will not be able to use natural naming to access this object; using ``getattr()`` will still work, though\n",
      "  NaturalNameWarning)\n"
     ]
    },
    {
     "name": "stdout",
     "output_type": "stream",
     "text": [
      "(sim,lamb_da,p_rew,start,dose_quantity) =  (127, 0.01, 0.10000000000000002, 10, 2)\n",
      "{67, 69, 6, 40, 8, 14, 50, 55, 59, 94}\n",
      "sim_127_p_rew_0.1_start_10_dq_2\n"
     ]
    },
    {
     "name": "stderr",
     "output_type": "stream",
     "text": [
      "/home/aiyappa/anaconda3/lib/python3.7/site-packages/tables/path.py:112: NaturalNameWarning: object name is not a valid Python identifier: 'sim_127_p_rew_0.1_start_10_dq_2'; it does not match the pattern ``^[a-zA-Z_][a-zA-Z0-9_]*$``; you will not be able to use natural naming to access this object; using ``getattr()`` will still work, though\n",
      "  NaturalNameWarning)\n"
     ]
    },
    {
     "name": "stdout",
     "output_type": "stream",
     "text": [
      "(sim,lamb_da,p_rew,start,dose_quantity) =  (127, 0.10000000000000002, 1.0, 1, 0.1)\n",
      "{19}\n",
      "sim_127_p_rew_1_start_1_dq_0.1\n"
     ]
    },
    {
     "name": "stderr",
     "output_type": "stream",
     "text": [
      "/home/aiyappa/anaconda3/lib/python3.7/site-packages/tables/path.py:112: NaturalNameWarning: object name is not a valid Python identifier: 'sim_127_p_rew_1_start_1_dq_0.1'; it does not match the pattern ``^[a-zA-Z_][a-zA-Z0-9_]*$``; you will not be able to use natural naming to access this object; using ``getattr()`` will still work, though\n",
      "  NaturalNameWarning)\n"
     ]
    },
    {
     "name": "stdout",
     "output_type": "stream",
     "text": [
      "(sim,lamb_da,p_rew,start,dose_quantity) =  (127, 0.10000000000000002, 1.0, 1, 2)\n",
      "{22}\n",
      "sim_127_p_rew_1_start_1_dq_2\n",
      "(sim,lamb_da,p_rew,start,dose_quantity) =  (127, 0.10000000000000002, 1.0, 10, 0.1)\n",
      "{67, 36, 8, 44, 46, 52, 85, 86, 22, 31}\n",
      "sim_127_p_rew_1_start_10_dq_0.1\n"
     ]
    },
    {
     "name": "stderr",
     "output_type": "stream",
     "text": [
      "/home/aiyappa/anaconda3/lib/python3.7/site-packages/tables/path.py:112: NaturalNameWarning: object name is not a valid Python identifier: 'sim_127_p_rew_1_start_10_dq_0.1'; it does not match the pattern ``^[a-zA-Z_][a-zA-Z0-9_]*$``; you will not be able to use natural naming to access this object; using ``getattr()`` will still work, though\n",
      "  NaturalNameWarning)\n"
     ]
    },
    {
     "name": "stdout",
     "output_type": "stream",
     "text": [
      "(sim,lamb_da,p_rew,start,dose_quantity) =  (127, 0.10000000000000002, 1.0, 10, 2)\n",
      "{67, 4, 69, 10, 79, 15, 85, 58, 91, 94}\n",
      "sim_127_p_rew_1_start_10_dq_2\n",
      "(sim,lamb_da,p_rew,start,dose_quantity) =  (128, 0.001, 0.01, 1, 0.1)\n",
      "{38}\n",
      "sim_128_p_rew_0.01_start_1_dq_0.1\n"
     ]
    },
    {
     "name": "stderr",
     "output_type": "stream",
     "text": [
      "/home/aiyappa/anaconda3/lib/python3.7/site-packages/tables/path.py:112: NaturalNameWarning: object name is not a valid Python identifier: 'sim_128_p_rew_0.01_start_1_dq_0.1'; it does not match the pattern ``^[a-zA-Z_][a-zA-Z0-9_]*$``; you will not be able to use natural naming to access this object; using ``getattr()`` will still work, though\n",
      "  NaturalNameWarning)\n"
     ]
    },
    {
     "name": "stdout",
     "output_type": "stream",
     "text": [
      "(sim,lamb_da,p_rew,start,dose_quantity) =  (128, 0.001, 0.01, 1, 2)\n",
      "{72}\n",
      "sim_128_p_rew_0.01_start_1_dq_2\n"
     ]
    },
    {
     "name": "stderr",
     "output_type": "stream",
     "text": [
      "/home/aiyappa/anaconda3/lib/python3.7/site-packages/tables/path.py:112: NaturalNameWarning: object name is not a valid Python identifier: 'sim_128_p_rew_0.01_start_1_dq_2'; it does not match the pattern ``^[a-zA-Z_][a-zA-Z0-9_]*$``; you will not be able to use natural naming to access this object; using ``getattr()`` will still work, though\n",
      "  NaturalNameWarning)\n"
     ]
    },
    {
     "name": "stdout",
     "output_type": "stream",
     "text": [
      "(sim,lamb_da,p_rew,start,dose_quantity) =  (128, 0.001, 0.01, 10, 0.1)\n",
      "{97, 98, 36, 8, 13, 80, 50, 85, 27, 60}\n",
      "sim_128_p_rew_0.01_start_10_dq_0.1\n"
     ]
    },
    {
     "name": "stderr",
     "output_type": "stream",
     "text": [
      "/home/aiyappa/anaconda3/lib/python3.7/site-packages/tables/path.py:112: NaturalNameWarning: object name is not a valid Python identifier: 'sim_128_p_rew_0.01_start_10_dq_0.1'; it does not match the pattern ``^[a-zA-Z_][a-zA-Z0-9_]*$``; you will not be able to use natural naming to access this object; using ``getattr()`` will still work, though\n",
      "  NaturalNameWarning)\n"
     ]
    },
    {
     "name": "stdout",
     "output_type": "stream",
     "text": [
      "(sim,lamb_da,p_rew,start,dose_quantity) =  (128, 0.001, 0.01, 10, 2)\n",
      "{64, 34, 98, 8, 42, 14, 22, 89, 58, 63}\n",
      "sim_128_p_rew_0.01_start_10_dq_2\n"
     ]
    },
    {
     "name": "stderr",
     "output_type": "stream",
     "text": [
      "/home/aiyappa/anaconda3/lib/python3.7/site-packages/tables/path.py:112: NaturalNameWarning: object name is not a valid Python identifier: 'sim_128_p_rew_0.01_start_10_dq_2'; it does not match the pattern ``^[a-zA-Z_][a-zA-Z0-9_]*$``; you will not be able to use natural naming to access this object; using ``getattr()`` will still work, though\n",
      "  NaturalNameWarning)\n"
     ]
    },
    {
     "name": "stdout",
     "output_type": "stream",
     "text": [
      "(sim,lamb_da,p_rew,start,dose_quantity) =  (128, 0.01, 0.10000000000000002, 1, 0.1)\n",
      "{33}\n",
      "sim_128_p_rew_0.1_start_1_dq_0.1\n"
     ]
    },
    {
     "name": "stderr",
     "output_type": "stream",
     "text": [
      "/home/aiyappa/anaconda3/lib/python3.7/site-packages/tables/path.py:112: NaturalNameWarning: object name is not a valid Python identifier: 'sim_128_p_rew_0.1_start_1_dq_0.1'; it does not match the pattern ``^[a-zA-Z_][a-zA-Z0-9_]*$``; you will not be able to use natural naming to access this object; using ``getattr()`` will still work, though\n",
      "  NaturalNameWarning)\n"
     ]
    },
    {
     "name": "stdout",
     "output_type": "stream",
     "text": [
      "(sim,lamb_da,p_rew,start,dose_quantity) =  (128, 0.01, 0.10000000000000002, 1, 2)\n",
      "{93}\n",
      "sim_128_p_rew_0.1_start_1_dq_2\n"
     ]
    },
    {
     "name": "stderr",
     "output_type": "stream",
     "text": [
      "/home/aiyappa/anaconda3/lib/python3.7/site-packages/tables/path.py:112: NaturalNameWarning: object name is not a valid Python identifier: 'sim_128_p_rew_0.1_start_1_dq_2'; it does not match the pattern ``^[a-zA-Z_][a-zA-Z0-9_]*$``; you will not be able to use natural naming to access this object; using ``getattr()`` will still work, though\n",
      "  NaturalNameWarning)\n"
     ]
    },
    {
     "name": "stdout",
     "output_type": "stream",
     "text": [
      "(sim,lamb_da,p_rew,start,dose_quantity) =  (128, 0.01, 0.10000000000000002, 10, 0.1)\n",
      "{0, 5, 6, 71, 11, 46, 81, 51, 84, 87}\n",
      "sim_128_p_rew_0.1_start_10_dq_0.1\n"
     ]
    },
    {
     "name": "stderr",
     "output_type": "stream",
     "text": [
      "/home/aiyappa/anaconda3/lib/python3.7/site-packages/tables/path.py:112: NaturalNameWarning: object name is not a valid Python identifier: 'sim_128_p_rew_0.1_start_10_dq_0.1'; it does not match the pattern ``^[a-zA-Z_][a-zA-Z0-9_]*$``; you will not be able to use natural naming to access this object; using ``getattr()`` will still work, though\n",
      "  NaturalNameWarning)\n"
     ]
    },
    {
     "name": "stdout",
     "output_type": "stream",
     "text": [
      "(sim,lamb_da,p_rew,start,dose_quantity) =  (128, 0.01, 0.10000000000000002, 10, 2)\n",
      "{97, 4, 68, 71, 9, 43, 76, 85, 60, 93}\n",
      "sim_128_p_rew_0.1_start_10_dq_2\n"
     ]
    },
    {
     "name": "stderr",
     "output_type": "stream",
     "text": [
      "/home/aiyappa/anaconda3/lib/python3.7/site-packages/tables/path.py:112: NaturalNameWarning: object name is not a valid Python identifier: 'sim_128_p_rew_0.1_start_10_dq_2'; it does not match the pattern ``^[a-zA-Z_][a-zA-Z0-9_]*$``; you will not be able to use natural naming to access this object; using ``getattr()`` will still work, though\n",
      "  NaturalNameWarning)\n"
     ]
    },
    {
     "name": "stdout",
     "output_type": "stream",
     "text": [
      "(sim,lamb_da,p_rew,start,dose_quantity) =  (128, 0.10000000000000002, 1.0, 1, 0.1)\n",
      "{54}\n",
      "sim_128_p_rew_1_start_1_dq_0.1\n"
     ]
    },
    {
     "name": "stderr",
     "output_type": "stream",
     "text": [
      "/home/aiyappa/anaconda3/lib/python3.7/site-packages/tables/path.py:112: NaturalNameWarning: object name is not a valid Python identifier: 'sim_128_p_rew_1_start_1_dq_0.1'; it does not match the pattern ``^[a-zA-Z_][a-zA-Z0-9_]*$``; you will not be able to use natural naming to access this object; using ``getattr()`` will still work, though\n",
      "  NaturalNameWarning)\n"
     ]
    },
    {
     "name": "stdout",
     "output_type": "stream",
     "text": [
      "(sim,lamb_da,p_rew,start,dose_quantity) =  (128, 0.10000000000000002, 1.0, 1, 2)\n",
      "{64}\n",
      "sim_128_p_rew_1_start_1_dq_2\n",
      "(sim,lamb_da,p_rew,start,dose_quantity) =  (128, 0.10000000000000002, 1.0, 10, 0.1)\n",
      "Initial node infection step failed\n",
      "None\n",
      "{32, 97, 1, 7, 72, 10, 43, 47, 26, 28}\n",
      "sim_128_p_rew_1_start_10_dq_0.1\n"
     ]
    },
    {
     "name": "stderr",
     "output_type": "stream",
     "text": [
      "/home/aiyappa/anaconda3/lib/python3.7/site-packages/tables/path.py:112: NaturalNameWarning: object name is not a valid Python identifier: 'sim_128_p_rew_1_start_10_dq_0.1'; it does not match the pattern ``^[a-zA-Z_][a-zA-Z0-9_]*$``; you will not be able to use natural naming to access this object; using ``getattr()`` will still work, though\n",
      "  NaturalNameWarning)\n"
     ]
    },
    {
     "name": "stdout",
     "output_type": "stream",
     "text": [
      "(sim,lamb_da,p_rew,start,dose_quantity) =  (128, 0.10000000000000002, 1.0, 10, 2)\n",
      "{98, 36, 37, 8, 42, 74, 13, 83, 86, 56}\n",
      "sim_128_p_rew_1_start_10_dq_2\n",
      "(sim,lamb_da,p_rew,start,dose_quantity) =  (129, 0.001, 0.01, 1, 0.1)\n",
      "{75}\n",
      "sim_129_p_rew_0.01_start_1_dq_0.1\n"
     ]
    },
    {
     "name": "stderr",
     "output_type": "stream",
     "text": [
      "/home/aiyappa/anaconda3/lib/python3.7/site-packages/tables/path.py:112: NaturalNameWarning: object name is not a valid Python identifier: 'sim_129_p_rew_0.01_start_1_dq_0.1'; it does not match the pattern ``^[a-zA-Z_][a-zA-Z0-9_]*$``; you will not be able to use natural naming to access this object; using ``getattr()`` will still work, though\n",
      "  NaturalNameWarning)\n"
     ]
    },
    {
     "name": "stdout",
     "output_type": "stream",
     "text": [
      "(sim,lamb_da,p_rew,start,dose_quantity) =  (129, 0.001, 0.01, 1, 2)\n",
      "{80}\n",
      "sim_129_p_rew_0.01_start_1_dq_2\n"
     ]
    },
    {
     "name": "stderr",
     "output_type": "stream",
     "text": [
      "/home/aiyappa/anaconda3/lib/python3.7/site-packages/tables/path.py:112: NaturalNameWarning: object name is not a valid Python identifier: 'sim_129_p_rew_0.01_start_1_dq_2'; it does not match the pattern ``^[a-zA-Z_][a-zA-Z0-9_]*$``; you will not be able to use natural naming to access this object; using ``getattr()`` will still work, though\n",
      "  NaturalNameWarning)\n"
     ]
    },
    {
     "name": "stdout",
     "output_type": "stream",
     "text": [
      "(sim,lamb_da,p_rew,start,dose_quantity) =  (129, 0.001, 0.01, 10, 0.1)\n",
      "{98, 37, 11, 76, 16, 86, 23, 24, 29, 30}\n",
      "sim_129_p_rew_0.01_start_10_dq_0.1\n"
     ]
    },
    {
     "name": "stderr",
     "output_type": "stream",
     "text": [
      "/home/aiyappa/anaconda3/lib/python3.7/site-packages/tables/path.py:112: NaturalNameWarning: object name is not a valid Python identifier: 'sim_129_p_rew_0.01_start_10_dq_0.1'; it does not match the pattern ``^[a-zA-Z_][a-zA-Z0-9_]*$``; you will not be able to use natural naming to access this object; using ``getattr()`` will still work, though\n",
      "  NaturalNameWarning)\n"
     ]
    },
    {
     "name": "stdout",
     "output_type": "stream",
     "text": [
      "(sim,lamb_da,p_rew,start,dose_quantity) =  (129, 0.001, 0.01, 10, 2)\n",
      "{97, 5, 40, 73, 47, 16, 23, 88, 91, 31}\n",
      "sim_129_p_rew_0.01_start_10_dq_2\n"
     ]
    },
    {
     "name": "stderr",
     "output_type": "stream",
     "text": [
      "/home/aiyappa/anaconda3/lib/python3.7/site-packages/tables/path.py:112: NaturalNameWarning: object name is not a valid Python identifier: 'sim_129_p_rew_0.01_start_10_dq_2'; it does not match the pattern ``^[a-zA-Z_][a-zA-Z0-9_]*$``; you will not be able to use natural naming to access this object; using ``getattr()`` will still work, though\n",
      "  NaturalNameWarning)\n"
     ]
    },
    {
     "name": "stdout",
     "output_type": "stream",
     "text": [
      "(sim,lamb_da,p_rew,start,dose_quantity) =  (129, 0.01, 0.10000000000000002, 1, 0.1)\n",
      "{27}\n",
      "sim_129_p_rew_0.1_start_1_dq_0.1\n"
     ]
    },
    {
     "name": "stderr",
     "output_type": "stream",
     "text": [
      "/home/aiyappa/anaconda3/lib/python3.7/site-packages/tables/path.py:112: NaturalNameWarning: object name is not a valid Python identifier: 'sim_129_p_rew_0.1_start_1_dq_0.1'; it does not match the pattern ``^[a-zA-Z_][a-zA-Z0-9_]*$``; you will not be able to use natural naming to access this object; using ``getattr()`` will still work, though\n",
      "  NaturalNameWarning)\n"
     ]
    },
    {
     "name": "stdout",
     "output_type": "stream",
     "text": [
      "(sim,lamb_da,p_rew,start,dose_quantity) =  (129, 0.01, 0.10000000000000002, 1, 2)\n",
      "{40}\n",
      "sim_129_p_rew_0.1_start_1_dq_2\n"
     ]
    },
    {
     "name": "stderr",
     "output_type": "stream",
     "text": [
      "/home/aiyappa/anaconda3/lib/python3.7/site-packages/tables/path.py:112: NaturalNameWarning: object name is not a valid Python identifier: 'sim_129_p_rew_0.1_start_1_dq_2'; it does not match the pattern ``^[a-zA-Z_][a-zA-Z0-9_]*$``; you will not be able to use natural naming to access this object; using ``getattr()`` will still work, though\n",
      "  NaturalNameWarning)\n"
     ]
    },
    {
     "name": "stdout",
     "output_type": "stream",
     "text": [
      "(sim,lamb_da,p_rew,start,dose_quantity) =  (129, 0.01, 0.10000000000000002, 10, 0.1)\n",
      "{0, 33, 35, 10, 11, 77, 15, 51, 85, 92}\n",
      "sim_129_p_rew_0.1_start_10_dq_0.1\n"
     ]
    },
    {
     "name": "stderr",
     "output_type": "stream",
     "text": [
      "/home/aiyappa/anaconda3/lib/python3.7/site-packages/tables/path.py:112: NaturalNameWarning: object name is not a valid Python identifier: 'sim_129_p_rew_0.1_start_10_dq_0.1'; it does not match the pattern ``^[a-zA-Z_][a-zA-Z0-9_]*$``; you will not be able to use natural naming to access this object; using ``getattr()`` will still work, though\n",
      "  NaturalNameWarning)\n"
     ]
    },
    {
     "name": "stdout",
     "output_type": "stream",
     "text": [
      "(sim,lamb_da,p_rew,start,dose_quantity) =  (129, 0.01, 0.10000000000000002, 10, 2)\n",
      "{3, 36, 5, 68, 72, 45, 50, 83, 52, 25}\n",
      "sim_129_p_rew_0.1_start_10_dq_2\n"
     ]
    },
    {
     "name": "stderr",
     "output_type": "stream",
     "text": [
      "/home/aiyappa/anaconda3/lib/python3.7/site-packages/tables/path.py:112: NaturalNameWarning: object name is not a valid Python identifier: 'sim_129_p_rew_0.1_start_10_dq_2'; it does not match the pattern ``^[a-zA-Z_][a-zA-Z0-9_]*$``; you will not be able to use natural naming to access this object; using ``getattr()`` will still work, though\n",
      "  NaturalNameWarning)\n"
     ]
    },
    {
     "name": "stdout",
     "output_type": "stream",
     "text": [
      "(sim,lamb_da,p_rew,start,dose_quantity) =  (129, 0.10000000000000002, 1.0, 1, 0.1)\n",
      "{82}\n",
      "sim_129_p_rew_1_start_1_dq_0.1\n"
     ]
    },
    {
     "name": "stderr",
     "output_type": "stream",
     "text": [
      "/home/aiyappa/anaconda3/lib/python3.7/site-packages/tables/path.py:112: NaturalNameWarning: object name is not a valid Python identifier: 'sim_129_p_rew_1_start_1_dq_0.1'; it does not match the pattern ``^[a-zA-Z_][a-zA-Z0-9_]*$``; you will not be able to use natural naming to access this object; using ``getattr()`` will still work, though\n",
      "  NaturalNameWarning)\n"
     ]
    },
    {
     "name": "stdout",
     "output_type": "stream",
     "text": [
      "(sim,lamb_da,p_rew,start,dose_quantity) =  (129, 0.10000000000000002, 1.0, 1, 2)\n",
      "{29}\n",
      "sim_129_p_rew_1_start_1_dq_2\n",
      "(sim,lamb_da,p_rew,start,dose_quantity) =  (129, 0.10000000000000002, 1.0, 10, 0.1)\n",
      "Initial node infection step failed\n",
      "None\n",
      "{97, 5, 7, 71, 74, 17, 87, 23, 25, 60}\n",
      "sim_129_p_rew_1_start_10_dq_0.1\n"
     ]
    },
    {
     "name": "stderr",
     "output_type": "stream",
     "text": [
      "/home/aiyappa/anaconda3/lib/python3.7/site-packages/tables/path.py:112: NaturalNameWarning: object name is not a valid Python identifier: 'sim_129_p_rew_1_start_10_dq_0.1'; it does not match the pattern ``^[a-zA-Z_][a-zA-Z0-9_]*$``; you will not be able to use natural naming to access this object; using ``getattr()`` will still work, though\n",
      "  NaturalNameWarning)\n"
     ]
    },
    {
     "name": "stdout",
     "output_type": "stream",
     "text": [
      "(sim,lamb_da,p_rew,start,dose_quantity) =  (129, 0.10000000000000002, 1.0, 10, 2)\n",
      "{0, 1, 69, 8, 79, 49, 17, 20, 86, 26}\n",
      "sim_129_p_rew_1_start_10_dq_2\n",
      "(sim,lamb_da,p_rew,start,dose_quantity) =  (130, 0.001, 0.01, 1, 0.1)\n",
      "{60}\n",
      "sim_130_p_rew_0.01_start_1_dq_0.1\n"
     ]
    },
    {
     "name": "stderr",
     "output_type": "stream",
     "text": [
      "/home/aiyappa/anaconda3/lib/python3.7/site-packages/tables/path.py:112: NaturalNameWarning: object name is not a valid Python identifier: 'sim_130_p_rew_0.01_start_1_dq_0.1'; it does not match the pattern ``^[a-zA-Z_][a-zA-Z0-9_]*$``; you will not be able to use natural naming to access this object; using ``getattr()`` will still work, though\n",
      "  NaturalNameWarning)\n"
     ]
    },
    {
     "name": "stdout",
     "output_type": "stream",
     "text": [
      "(sim,lamb_da,p_rew,start,dose_quantity) =  (130, 0.001, 0.01, 1, 2)\n",
      "{19}\n",
      "sim_130_p_rew_0.01_start_1_dq_2\n"
     ]
    },
    {
     "name": "stderr",
     "output_type": "stream",
     "text": [
      "/home/aiyappa/anaconda3/lib/python3.7/site-packages/tables/path.py:112: NaturalNameWarning: object name is not a valid Python identifier: 'sim_130_p_rew_0.01_start_1_dq_2'; it does not match the pattern ``^[a-zA-Z_][a-zA-Z0-9_]*$``; you will not be able to use natural naming to access this object; using ``getattr()`` will still work, though\n",
      "  NaturalNameWarning)\n"
     ]
    },
    {
     "name": "stdout",
     "output_type": "stream",
     "text": [
      "(sim,lamb_da,p_rew,start,dose_quantity) =  (130, 0.001, 0.01, 10, 0.1)\n",
      "{65, 35, 40, 41, 73, 18, 84, 86, 89, 58}\n",
      "sim_130_p_rew_0.01_start_10_dq_0.1\n"
     ]
    },
    {
     "name": "stderr",
     "output_type": "stream",
     "text": [
      "/home/aiyappa/anaconda3/lib/python3.7/site-packages/tables/path.py:112: NaturalNameWarning: object name is not a valid Python identifier: 'sim_130_p_rew_0.01_start_10_dq_0.1'; it does not match the pattern ``^[a-zA-Z_][a-zA-Z0-9_]*$``; you will not be able to use natural naming to access this object; using ``getattr()`` will still work, though\n",
      "  NaturalNameWarning)\n"
     ]
    },
    {
     "name": "stdout",
     "output_type": "stream",
     "text": [
      "(sim,lamb_da,p_rew,start,dose_quantity) =  (130, 0.001, 0.01, 10, 2)\n",
      "{32, 39, 73, 74, 57, 58, 59, 92, 93, 94}\n",
      "sim_130_p_rew_0.01_start_10_dq_2\n"
     ]
    },
    {
     "name": "stderr",
     "output_type": "stream",
     "text": [
      "/home/aiyappa/anaconda3/lib/python3.7/site-packages/tables/path.py:112: NaturalNameWarning: object name is not a valid Python identifier: 'sim_130_p_rew_0.01_start_10_dq_2'; it does not match the pattern ``^[a-zA-Z_][a-zA-Z0-9_]*$``; you will not be able to use natural naming to access this object; using ``getattr()`` will still work, though\n",
      "  NaturalNameWarning)\n"
     ]
    },
    {
     "name": "stdout",
     "output_type": "stream",
     "text": [
      "(sim,lamb_da,p_rew,start,dose_quantity) =  (130, 0.01, 0.10000000000000002, 1, 0.1)\n",
      "{9}\n",
      "sim_130_p_rew_0.1_start_1_dq_0.1\n"
     ]
    },
    {
     "name": "stderr",
     "output_type": "stream",
     "text": [
      "/home/aiyappa/anaconda3/lib/python3.7/site-packages/tables/path.py:112: NaturalNameWarning: object name is not a valid Python identifier: 'sim_130_p_rew_0.1_start_1_dq_0.1'; it does not match the pattern ``^[a-zA-Z_][a-zA-Z0-9_]*$``; you will not be able to use natural naming to access this object; using ``getattr()`` will still work, though\n",
      "  NaturalNameWarning)\n"
     ]
    },
    {
     "name": "stdout",
     "output_type": "stream",
     "text": [
      "(sim,lamb_da,p_rew,start,dose_quantity) =  (130, 0.01, 0.10000000000000002, 1, 2)\n",
      "{57}\n",
      "sim_130_p_rew_0.1_start_1_dq_2\n"
     ]
    },
    {
     "name": "stderr",
     "output_type": "stream",
     "text": [
      "/home/aiyappa/anaconda3/lib/python3.7/site-packages/tables/path.py:112: NaturalNameWarning: object name is not a valid Python identifier: 'sim_130_p_rew_0.1_start_1_dq_2'; it does not match the pattern ``^[a-zA-Z_][a-zA-Z0-9_]*$``; you will not be able to use natural naming to access this object; using ``getattr()`` will still work, though\n",
      "  NaturalNameWarning)\n"
     ]
    },
    {
     "name": "stdout",
     "output_type": "stream",
     "text": [
      "(sim,lamb_da,p_rew,start,dose_quantity) =  (130, 0.01, 0.10000000000000002, 10, 0.1)\n",
      "{96, 2, 99, 34, 78, 84, 53, 52, 56, 29}\n",
      "sim_130_p_rew_0.1_start_10_dq_0.1\n"
     ]
    },
    {
     "name": "stderr",
     "output_type": "stream",
     "text": [
      "/home/aiyappa/anaconda3/lib/python3.7/site-packages/tables/path.py:112: NaturalNameWarning: object name is not a valid Python identifier: 'sim_130_p_rew_0.1_start_10_dq_0.1'; it does not match the pattern ``^[a-zA-Z_][a-zA-Z0-9_]*$``; you will not be able to use natural naming to access this object; using ``getattr()`` will still work, though\n",
      "  NaturalNameWarning)\n"
     ]
    },
    {
     "name": "stdout",
     "output_type": "stream",
     "text": [
      "(sim,lamb_da,p_rew,start,dose_quantity) =  (130, 0.01, 0.10000000000000002, 10, 2)\n",
      "{65, 1, 39, 10, 12, 79, 52, 20, 24, 89}\n",
      "sim_130_p_rew_0.1_start_10_dq_2\n"
     ]
    },
    {
     "name": "stderr",
     "output_type": "stream",
     "text": [
      "/home/aiyappa/anaconda3/lib/python3.7/site-packages/tables/path.py:112: NaturalNameWarning: object name is not a valid Python identifier: 'sim_130_p_rew_0.1_start_10_dq_2'; it does not match the pattern ``^[a-zA-Z_][a-zA-Z0-9_]*$``; you will not be able to use natural naming to access this object; using ``getattr()`` will still work, though\n",
      "  NaturalNameWarning)\n"
     ]
    },
    {
     "name": "stdout",
     "output_type": "stream",
     "text": [
      "(sim,lamb_da,p_rew,start,dose_quantity) =  (130, 0.10000000000000002, 1.0, 1, 0.1)\n",
      "{81}\n",
      "sim_130_p_rew_1_start_1_dq_0.1\n"
     ]
    },
    {
     "name": "stderr",
     "output_type": "stream",
     "text": [
      "/home/aiyappa/anaconda3/lib/python3.7/site-packages/tables/path.py:112: NaturalNameWarning: object name is not a valid Python identifier: 'sim_130_p_rew_1_start_1_dq_0.1'; it does not match the pattern ``^[a-zA-Z_][a-zA-Z0-9_]*$``; you will not be able to use natural naming to access this object; using ``getattr()`` will still work, though\n",
      "  NaturalNameWarning)\n"
     ]
    },
    {
     "name": "stdout",
     "output_type": "stream",
     "text": [
      "(sim,lamb_da,p_rew,start,dose_quantity) =  (130, 0.10000000000000002, 1.0, 1, 2)\n",
      "{14}\n",
      "sim_130_p_rew_1_start_1_dq_2\n",
      "(sim,lamb_da,p_rew,start,dose_quantity) =  (130, 0.10000000000000002, 1.0, 10, 0.1)\n",
      "{64, 2, 34, 27, 12, 78, 80, 49, 85, 59}\n",
      "sim_130_p_rew_1_start_10_dq_0.1\n"
     ]
    },
    {
     "name": "stderr",
     "output_type": "stream",
     "text": [
      "/home/aiyappa/anaconda3/lib/python3.7/site-packages/tables/path.py:112: NaturalNameWarning: object name is not a valid Python identifier: 'sim_130_p_rew_1_start_10_dq_0.1'; it does not match the pattern ``^[a-zA-Z_][a-zA-Z0-9_]*$``; you will not be able to use natural naming to access this object; using ``getattr()`` will still work, though\n",
      "  NaturalNameWarning)\n"
     ]
    },
    {
     "name": "stdout",
     "output_type": "stream",
     "text": [
      "(sim,lamb_da,p_rew,start,dose_quantity) =  (130, 0.10000000000000002, 1.0, 10, 2)\n",
      "{96, 40, 59, 46, 48, 50, 85, 87, 91, 62}\n",
      "sim_130_p_rew_1_start_10_dq_2\n",
      "(sim,lamb_da,p_rew,start,dose_quantity) =  (131, 0.001, 0.01, 1, 0.1)\n",
      "{34}\n",
      "sim_131_p_rew_0.01_start_1_dq_0.1\n"
     ]
    },
    {
     "name": "stderr",
     "output_type": "stream",
     "text": [
      "/home/aiyappa/anaconda3/lib/python3.7/site-packages/tables/path.py:112: NaturalNameWarning: object name is not a valid Python identifier: 'sim_131_p_rew_0.01_start_1_dq_0.1'; it does not match the pattern ``^[a-zA-Z_][a-zA-Z0-9_]*$``; you will not be able to use natural naming to access this object; using ``getattr()`` will still work, though\n",
      "  NaturalNameWarning)\n"
     ]
    },
    {
     "name": "stdout",
     "output_type": "stream",
     "text": [
      "(sim,lamb_da,p_rew,start,dose_quantity) =  (131, 0.001, 0.01, 1, 2)\n",
      "{26}\n",
      "sim_131_p_rew_0.01_start_1_dq_2\n"
     ]
    },
    {
     "name": "stderr",
     "output_type": "stream",
     "text": [
      "/home/aiyappa/anaconda3/lib/python3.7/site-packages/tables/path.py:112: NaturalNameWarning: object name is not a valid Python identifier: 'sim_131_p_rew_0.01_start_1_dq_2'; it does not match the pattern ``^[a-zA-Z_][a-zA-Z0-9_]*$``; you will not be able to use natural naming to access this object; using ``getattr()`` will still work, though\n",
      "  NaturalNameWarning)\n"
     ]
    },
    {
     "name": "stdout",
     "output_type": "stream",
     "text": [
      "(sim,lamb_da,p_rew,start,dose_quantity) =  (131, 0.001, 0.01, 10, 0.1)\n",
      "{0, 96, 33, 99, 72, 8, 45, 23, 26, 62}\n",
      "sim_131_p_rew_0.01_start_10_dq_0.1\n"
     ]
    },
    {
     "name": "stderr",
     "output_type": "stream",
     "text": [
      "/home/aiyappa/anaconda3/lib/python3.7/site-packages/tables/path.py:112: NaturalNameWarning: object name is not a valid Python identifier: 'sim_131_p_rew_0.01_start_10_dq_0.1'; it does not match the pattern ``^[a-zA-Z_][a-zA-Z0-9_]*$``; you will not be able to use natural naming to access this object; using ``getattr()`` will still work, though\n",
      "  NaturalNameWarning)\n"
     ]
    },
    {
     "name": "stdout",
     "output_type": "stream",
     "text": [
      "(sim,lamb_da,p_rew,start,dose_quantity) =  (131, 0.001, 0.01, 10, 2)\n",
      "{98, 7, 10, 78, 47, 20, 21, 90, 30, 31}\n",
      "sim_131_p_rew_0.01_start_10_dq_2\n"
     ]
    },
    {
     "name": "stderr",
     "output_type": "stream",
     "text": [
      "/home/aiyappa/anaconda3/lib/python3.7/site-packages/tables/path.py:112: NaturalNameWarning: object name is not a valid Python identifier: 'sim_131_p_rew_0.01_start_10_dq_2'; it does not match the pattern ``^[a-zA-Z_][a-zA-Z0-9_]*$``; you will not be able to use natural naming to access this object; using ``getattr()`` will still work, though\n",
      "  NaturalNameWarning)\n"
     ]
    },
    {
     "name": "stdout",
     "output_type": "stream",
     "text": [
      "(sim,lamb_da,p_rew,start,dose_quantity) =  (131, 0.01, 0.10000000000000002, 1, 0.1)\n",
      "{80}\n",
      "sim_131_p_rew_0.1_start_1_dq_0.1\n"
     ]
    },
    {
     "name": "stderr",
     "output_type": "stream",
     "text": [
      "/home/aiyappa/anaconda3/lib/python3.7/site-packages/tables/path.py:112: NaturalNameWarning: object name is not a valid Python identifier: 'sim_131_p_rew_0.1_start_1_dq_0.1'; it does not match the pattern ``^[a-zA-Z_][a-zA-Z0-9_]*$``; you will not be able to use natural naming to access this object; using ``getattr()`` will still work, though\n",
      "  NaturalNameWarning)\n"
     ]
    },
    {
     "name": "stdout",
     "output_type": "stream",
     "text": [
      "(sim,lamb_da,p_rew,start,dose_quantity) =  (131, 0.01, 0.10000000000000002, 1, 2)\n",
      "{9}\n",
      "sim_131_p_rew_0.1_start_1_dq_2\n"
     ]
    },
    {
     "name": "stderr",
     "output_type": "stream",
     "text": [
      "/home/aiyappa/anaconda3/lib/python3.7/site-packages/tables/path.py:112: NaturalNameWarning: object name is not a valid Python identifier: 'sim_131_p_rew_0.1_start_1_dq_2'; it does not match the pattern ``^[a-zA-Z_][a-zA-Z0-9_]*$``; you will not be able to use natural naming to access this object; using ``getattr()`` will still work, though\n",
      "  NaturalNameWarning)\n"
     ]
    },
    {
     "name": "stdout",
     "output_type": "stream",
     "text": [
      "(sim,lamb_da,p_rew,start,dose_quantity) =  (131, 0.01, 0.10000000000000002, 10, 0.1)\n",
      "{32, 1, 8, 44, 15, 79, 81, 47, 86, 60}\n",
      "sim_131_p_rew_0.1_start_10_dq_0.1\n"
     ]
    },
    {
     "name": "stderr",
     "output_type": "stream",
     "text": [
      "/home/aiyappa/anaconda3/lib/python3.7/site-packages/tables/path.py:112: NaturalNameWarning: object name is not a valid Python identifier: 'sim_131_p_rew_0.1_start_10_dq_0.1'; it does not match the pattern ``^[a-zA-Z_][a-zA-Z0-9_]*$``; you will not be able to use natural naming to access this object; using ``getattr()`` will still work, though\n",
      "  NaturalNameWarning)\n"
     ]
    },
    {
     "name": "stdout",
     "output_type": "stream",
     "text": [
      "(sim,lamb_da,p_rew,start,dose_quantity) =  (131, 0.01, 0.10000000000000002, 10, 2)\n",
      "{67, 68, 5, 38, 72, 76, 81, 56, 90, 93}\n",
      "sim_131_p_rew_0.1_start_10_dq_2\n"
     ]
    },
    {
     "name": "stderr",
     "output_type": "stream",
     "text": [
      "/home/aiyappa/anaconda3/lib/python3.7/site-packages/tables/path.py:112: NaturalNameWarning: object name is not a valid Python identifier: 'sim_131_p_rew_0.1_start_10_dq_2'; it does not match the pattern ``^[a-zA-Z_][a-zA-Z0-9_]*$``; you will not be able to use natural naming to access this object; using ``getattr()`` will still work, though\n",
      "  NaturalNameWarning)\n"
     ]
    },
    {
     "name": "stdout",
     "output_type": "stream",
     "text": [
      "(sim,lamb_da,p_rew,start,dose_quantity) =  (131, 0.10000000000000002, 1.0, 1, 0.1)\n",
      "{72}\n",
      "sim_131_p_rew_1_start_1_dq_0.1\n"
     ]
    },
    {
     "name": "stderr",
     "output_type": "stream",
     "text": [
      "/home/aiyappa/anaconda3/lib/python3.7/site-packages/tables/path.py:112: NaturalNameWarning: object name is not a valid Python identifier: 'sim_131_p_rew_1_start_1_dq_0.1'; it does not match the pattern ``^[a-zA-Z_][a-zA-Z0-9_]*$``; you will not be able to use natural naming to access this object; using ``getattr()`` will still work, though\n",
      "  NaturalNameWarning)\n"
     ]
    },
    {
     "name": "stdout",
     "output_type": "stream",
     "text": [
      "(sim,lamb_da,p_rew,start,dose_quantity) =  (131, 0.10000000000000002, 1.0, 1, 2)\n",
      "{73}\n",
      "sim_131_p_rew_1_start_1_dq_2\n",
      "(sim,lamb_da,p_rew,start,dose_quantity) =  (131, 0.10000000000000002, 1.0, 10, 0.1)\n",
      "{1, 35, 74, 43, 79, 16, 83, 52, 55, 56}\n",
      "sim_131_p_rew_1_start_10_dq_0.1\n"
     ]
    },
    {
     "name": "stderr",
     "output_type": "stream",
     "text": [
      "/home/aiyappa/anaconda3/lib/python3.7/site-packages/tables/path.py:112: NaturalNameWarning: object name is not a valid Python identifier: 'sim_131_p_rew_1_start_10_dq_0.1'; it does not match the pattern ``^[a-zA-Z_][a-zA-Z0-9_]*$``; you will not be able to use natural naming to access this object; using ``getattr()`` will still work, though\n",
      "  NaturalNameWarning)\n"
     ]
    },
    {
     "name": "stdout",
     "output_type": "stream",
     "text": [
      "(sim,lamb_da,p_rew,start,dose_quantity) =  (131, 0.10000000000000002, 1.0, 10, 2)\n",
      "{32, 2, 11, 48, 81, 83, 26, 59, 30, 31}\n",
      "sim_131_p_rew_1_start_10_dq_2\n",
      "(sim,lamb_da,p_rew,start,dose_quantity) =  (132, 0.001, 0.01, 1, 0.1)\n",
      "{93}\n",
      "sim_132_p_rew_0.01_start_1_dq_0.1\n"
     ]
    },
    {
     "name": "stderr",
     "output_type": "stream",
     "text": [
      "/home/aiyappa/anaconda3/lib/python3.7/site-packages/tables/path.py:112: NaturalNameWarning: object name is not a valid Python identifier: 'sim_132_p_rew_0.01_start_1_dq_0.1'; it does not match the pattern ``^[a-zA-Z_][a-zA-Z0-9_]*$``; you will not be able to use natural naming to access this object; using ``getattr()`` will still work, though\n",
      "  NaturalNameWarning)\n"
     ]
    },
    {
     "name": "stdout",
     "output_type": "stream",
     "text": [
      "(sim,lamb_da,p_rew,start,dose_quantity) =  (132, 0.001, 0.01, 1, 2)\n",
      "{42}\n",
      "sim_132_p_rew_0.01_start_1_dq_2\n"
     ]
    },
    {
     "name": "stderr",
     "output_type": "stream",
     "text": [
      "/home/aiyappa/anaconda3/lib/python3.7/site-packages/tables/path.py:112: NaturalNameWarning: object name is not a valid Python identifier: 'sim_132_p_rew_0.01_start_1_dq_2'; it does not match the pattern ``^[a-zA-Z_][a-zA-Z0-9_]*$``; you will not be able to use natural naming to access this object; using ``getattr()`` will still work, though\n",
      "  NaturalNameWarning)\n"
     ]
    },
    {
     "name": "stdout",
     "output_type": "stream",
     "text": [
      "(sim,lamb_da,p_rew,start,dose_quantity) =  (132, 0.001, 0.01, 10, 0.1)\n",
      "{4, 5, 7, 73, 74, 77, 17, 84, 22, 89}\n",
      "sim_132_p_rew_0.01_start_10_dq_0.1\n"
     ]
    },
    {
     "name": "stderr",
     "output_type": "stream",
     "text": [
      "/home/aiyappa/anaconda3/lib/python3.7/site-packages/tables/path.py:112: NaturalNameWarning: object name is not a valid Python identifier: 'sim_132_p_rew_0.01_start_10_dq_0.1'; it does not match the pattern ``^[a-zA-Z_][a-zA-Z0-9_]*$``; you will not be able to use natural naming to access this object; using ``getattr()`` will still work, though\n",
      "  NaturalNameWarning)\n"
     ]
    },
    {
     "name": "stdout",
     "output_type": "stream",
     "text": [
      "(sim,lamb_da,p_rew,start,dose_quantity) =  (132, 0.001, 0.01, 10, 2)\n",
      "{0, 69, 14, 16, 83, 86, 23, 25, 27, 94}\n",
      "sim_132_p_rew_0.01_start_10_dq_2\n"
     ]
    },
    {
     "name": "stderr",
     "output_type": "stream",
     "text": [
      "/home/aiyappa/anaconda3/lib/python3.7/site-packages/tables/path.py:112: NaturalNameWarning: object name is not a valid Python identifier: 'sim_132_p_rew_0.01_start_10_dq_2'; it does not match the pattern ``^[a-zA-Z_][a-zA-Z0-9_]*$``; you will not be able to use natural naming to access this object; using ``getattr()`` will still work, though\n",
      "  NaturalNameWarning)\n"
     ]
    },
    {
     "name": "stdout",
     "output_type": "stream",
     "text": [
      "(sim,lamb_da,p_rew,start,dose_quantity) =  (132, 0.01, 0.10000000000000002, 1, 0.1)\n",
      "{40}\n",
      "sim_132_p_rew_0.1_start_1_dq_0.1\n"
     ]
    },
    {
     "name": "stderr",
     "output_type": "stream",
     "text": [
      "/home/aiyappa/anaconda3/lib/python3.7/site-packages/tables/path.py:112: NaturalNameWarning: object name is not a valid Python identifier: 'sim_132_p_rew_0.1_start_1_dq_0.1'; it does not match the pattern ``^[a-zA-Z_][a-zA-Z0-9_]*$``; you will not be able to use natural naming to access this object; using ``getattr()`` will still work, though\n",
      "  NaturalNameWarning)\n"
     ]
    },
    {
     "name": "stdout",
     "output_type": "stream",
     "text": [
      "(sim,lamb_da,p_rew,start,dose_quantity) =  (132, 0.01, 0.10000000000000002, 1, 2)\n",
      "{1}\n",
      "sim_132_p_rew_0.1_start_1_dq_2\n"
     ]
    },
    {
     "name": "stderr",
     "output_type": "stream",
     "text": [
      "/home/aiyappa/anaconda3/lib/python3.7/site-packages/tables/path.py:112: NaturalNameWarning: object name is not a valid Python identifier: 'sim_132_p_rew_0.1_start_1_dq_2'; it does not match the pattern ``^[a-zA-Z_][a-zA-Z0-9_]*$``; you will not be able to use natural naming to access this object; using ``getattr()`` will still work, though\n",
      "  NaturalNameWarning)\n"
     ]
    },
    {
     "name": "stdout",
     "output_type": "stream",
     "text": [
      "(sim,lamb_da,p_rew,start,dose_quantity) =  (132, 0.01, 0.10000000000000002, 10, 0.1)\n",
      "{96, 64, 98, 39, 43, 44, 76, 50, 18, 24}\n",
      "sim_132_p_rew_0.1_start_10_dq_0.1\n"
     ]
    },
    {
     "name": "stderr",
     "output_type": "stream",
     "text": [
      "/home/aiyappa/anaconda3/lib/python3.7/site-packages/tables/path.py:112: NaturalNameWarning: object name is not a valid Python identifier: 'sim_132_p_rew_0.1_start_10_dq_0.1'; it does not match the pattern ``^[a-zA-Z_][a-zA-Z0-9_]*$``; you will not be able to use natural naming to access this object; using ``getattr()`` will still work, though\n",
      "  NaturalNameWarning)\n"
     ]
    },
    {
     "name": "stdout",
     "output_type": "stream",
     "text": [
      "(sim,lamb_da,p_rew,start,dose_quantity) =  (132, 0.01, 0.10000000000000002, 10, 2)\n",
      "{2, 98, 7, 72, 12, 63, 54, 92, 93, 95}\n",
      "sim_132_p_rew_0.1_start_10_dq_2\n"
     ]
    },
    {
     "name": "stderr",
     "output_type": "stream",
     "text": [
      "/home/aiyappa/anaconda3/lib/python3.7/site-packages/tables/path.py:112: NaturalNameWarning: object name is not a valid Python identifier: 'sim_132_p_rew_0.1_start_10_dq_2'; it does not match the pattern ``^[a-zA-Z_][a-zA-Z0-9_]*$``; you will not be able to use natural naming to access this object; using ``getattr()`` will still work, though\n",
      "  NaturalNameWarning)\n"
     ]
    },
    {
     "name": "stdout",
     "output_type": "stream",
     "text": [
      "(sim,lamb_da,p_rew,start,dose_quantity) =  (132, 0.10000000000000002, 1.0, 1, 0.1)\n",
      "{25}\n",
      "sim_132_p_rew_1_start_1_dq_0.1\n"
     ]
    },
    {
     "name": "stderr",
     "output_type": "stream",
     "text": [
      "/home/aiyappa/anaconda3/lib/python3.7/site-packages/tables/path.py:112: NaturalNameWarning: object name is not a valid Python identifier: 'sim_132_p_rew_1_start_1_dq_0.1'; it does not match the pattern ``^[a-zA-Z_][a-zA-Z0-9_]*$``; you will not be able to use natural naming to access this object; using ``getattr()`` will still work, though\n",
      "  NaturalNameWarning)\n"
     ]
    },
    {
     "name": "stdout",
     "output_type": "stream",
     "text": [
      "(sim,lamb_da,p_rew,start,dose_quantity) =  (132, 0.10000000000000002, 1.0, 1, 2)\n",
      "{58}\n",
      "sim_132_p_rew_1_start_1_dq_2\n",
      "(sim,lamb_da,p_rew,start,dose_quantity) =  (132, 0.10000000000000002, 1.0, 10, 0.1)\n",
      "{66, 36, 9, 76, 15, 81, 86, 88, 58, 94}\n",
      "sim_132_p_rew_1_start_10_dq_0.1\n"
     ]
    },
    {
     "name": "stderr",
     "output_type": "stream",
     "text": [
      "/home/aiyappa/anaconda3/lib/python3.7/site-packages/tables/path.py:112: NaturalNameWarning: object name is not a valid Python identifier: 'sim_132_p_rew_1_start_10_dq_0.1'; it does not match the pattern ``^[a-zA-Z_][a-zA-Z0-9_]*$``; you will not be able to use natural naming to access this object; using ``getattr()`` will still work, though\n",
      "  NaturalNameWarning)\n"
     ]
    },
    {
     "name": "stdout",
     "output_type": "stream",
     "text": [
      "(sim,lamb_da,p_rew,start,dose_quantity) =  (132, 0.10000000000000002, 1.0, 10, 2)\n",
      "{32, 10, 13, 18, 84, 54, 22, 25, 59, 30}\n",
      "sim_132_p_rew_1_start_10_dq_2\n",
      "(sim,lamb_da,p_rew,start,dose_quantity) =  (133, 0.001, 0.01, 1, 0.1)\n",
      "{92}\n",
      "sim_133_p_rew_0.01_start_1_dq_0.1\n"
     ]
    },
    {
     "name": "stderr",
     "output_type": "stream",
     "text": [
      "/home/aiyappa/anaconda3/lib/python3.7/site-packages/tables/path.py:112: NaturalNameWarning: object name is not a valid Python identifier: 'sim_133_p_rew_0.01_start_1_dq_0.1'; it does not match the pattern ``^[a-zA-Z_][a-zA-Z0-9_]*$``; you will not be able to use natural naming to access this object; using ``getattr()`` will still work, though\n",
      "  NaturalNameWarning)\n"
     ]
    },
    {
     "name": "stdout",
     "output_type": "stream",
     "text": [
      "(sim,lamb_da,p_rew,start,dose_quantity) =  (133, 0.001, 0.01, 1, 2)\n",
      "{66}\n",
      "sim_133_p_rew_0.01_start_1_dq_2\n"
     ]
    },
    {
     "name": "stderr",
     "output_type": "stream",
     "text": [
      "/home/aiyappa/anaconda3/lib/python3.7/site-packages/tables/path.py:112: NaturalNameWarning: object name is not a valid Python identifier: 'sim_133_p_rew_0.01_start_1_dq_2'; it does not match the pattern ``^[a-zA-Z_][a-zA-Z0-9_]*$``; you will not be able to use natural naming to access this object; using ``getattr()`` will still work, though\n",
      "  NaturalNameWarning)\n"
     ]
    },
    {
     "name": "stdout",
     "output_type": "stream",
     "text": [
      "(sim,lamb_da,p_rew,start,dose_quantity) =  (133, 0.001, 0.01, 10, 0.1)\n",
      "{64, 97, 39, 73, 74, 10, 9, 81, 53, 92}\n",
      "sim_133_p_rew_0.01_start_10_dq_0.1\n"
     ]
    },
    {
     "name": "stderr",
     "output_type": "stream",
     "text": [
      "/home/aiyappa/anaconda3/lib/python3.7/site-packages/tables/path.py:112: NaturalNameWarning: object name is not a valid Python identifier: 'sim_133_p_rew_0.01_start_10_dq_0.1'; it does not match the pattern ``^[a-zA-Z_][a-zA-Z0-9_]*$``; you will not be able to use natural naming to access this object; using ``getattr()`` will still work, though\n",
      "  NaturalNameWarning)\n"
     ]
    },
    {
     "name": "stdout",
     "output_type": "stream",
     "text": [
      "(sim,lamb_da,p_rew,start,dose_quantity) =  (133, 0.001, 0.01, 10, 2)\n",
      "{96, 3, 80, 81, 49, 85, 21, 55, 87, 93}\n",
      "sim_133_p_rew_0.01_start_10_dq_2\n"
     ]
    },
    {
     "name": "stderr",
     "output_type": "stream",
     "text": [
      "/home/aiyappa/anaconda3/lib/python3.7/site-packages/tables/path.py:112: NaturalNameWarning: object name is not a valid Python identifier: 'sim_133_p_rew_0.01_start_10_dq_2'; it does not match the pattern ``^[a-zA-Z_][a-zA-Z0-9_]*$``; you will not be able to use natural naming to access this object; using ``getattr()`` will still work, though\n",
      "  NaturalNameWarning)\n"
     ]
    },
    {
     "name": "stdout",
     "output_type": "stream",
     "text": [
      "(sim,lamb_da,p_rew,start,dose_quantity) =  (133, 0.01, 0.10000000000000002, 1, 0.1)\n",
      "{69}\n",
      "sim_133_p_rew_0.1_start_1_dq_0.1\n"
     ]
    },
    {
     "name": "stderr",
     "output_type": "stream",
     "text": [
      "/home/aiyappa/anaconda3/lib/python3.7/site-packages/tables/path.py:112: NaturalNameWarning: object name is not a valid Python identifier: 'sim_133_p_rew_0.1_start_1_dq_0.1'; it does not match the pattern ``^[a-zA-Z_][a-zA-Z0-9_]*$``; you will not be able to use natural naming to access this object; using ``getattr()`` will still work, though\n",
      "  NaturalNameWarning)\n"
     ]
    },
    {
     "name": "stdout",
     "output_type": "stream",
     "text": [
      "(sim,lamb_da,p_rew,start,dose_quantity) =  (133, 0.01, 0.10000000000000002, 1, 2)\n",
      "{87}\n",
      "sim_133_p_rew_0.1_start_1_dq_2\n"
     ]
    },
    {
     "name": "stderr",
     "output_type": "stream",
     "text": [
      "/home/aiyappa/anaconda3/lib/python3.7/site-packages/tables/path.py:112: NaturalNameWarning: object name is not a valid Python identifier: 'sim_133_p_rew_0.1_start_1_dq_2'; it does not match the pattern ``^[a-zA-Z_][a-zA-Z0-9_]*$``; you will not be able to use natural naming to access this object; using ``getattr()`` will still work, though\n",
      "  NaturalNameWarning)\n"
     ]
    },
    {
     "name": "stdout",
     "output_type": "stream",
     "text": [
      "(sim,lamb_da,p_rew,start,dose_quantity) =  (133, 0.01, 0.10000000000000002, 10, 0.1)\n",
      "{73, 12, 45, 78, 16, 20, 21, 22, 27, 60}\n",
      "sim_133_p_rew_0.1_start_10_dq_0.1\n"
     ]
    },
    {
     "name": "stderr",
     "output_type": "stream",
     "text": [
      "/home/aiyappa/anaconda3/lib/python3.7/site-packages/tables/path.py:112: NaturalNameWarning: object name is not a valid Python identifier: 'sim_133_p_rew_0.1_start_10_dq_0.1'; it does not match the pattern ``^[a-zA-Z_][a-zA-Z0-9_]*$``; you will not be able to use natural naming to access this object; using ``getattr()`` will still work, though\n",
      "  NaturalNameWarning)\n"
     ]
    },
    {
     "name": "stdout",
     "output_type": "stream",
     "text": [
      "(sim,lamb_da,p_rew,start,dose_quantity) =  (133, 0.01, 0.10000000000000002, 10, 2)\n",
      "{0, 97, 65, 36, 37, 74, 14, 15, 50, 84}\n",
      "sim_133_p_rew_0.1_start_10_dq_2\n"
     ]
    },
    {
     "name": "stderr",
     "output_type": "stream",
     "text": [
      "/home/aiyappa/anaconda3/lib/python3.7/site-packages/tables/path.py:112: NaturalNameWarning: object name is not a valid Python identifier: 'sim_133_p_rew_0.1_start_10_dq_2'; it does not match the pattern ``^[a-zA-Z_][a-zA-Z0-9_]*$``; you will not be able to use natural naming to access this object; using ``getattr()`` will still work, though\n",
      "  NaturalNameWarning)\n"
     ]
    },
    {
     "name": "stdout",
     "output_type": "stream",
     "text": [
      "(sim,lamb_da,p_rew,start,dose_quantity) =  (133, 0.10000000000000002, 1.0, 1, 0.1)\n",
      "{98}\n",
      "sim_133_p_rew_1_start_1_dq_0.1\n"
     ]
    },
    {
     "name": "stderr",
     "output_type": "stream",
     "text": [
      "/home/aiyappa/anaconda3/lib/python3.7/site-packages/tables/path.py:112: NaturalNameWarning: object name is not a valid Python identifier: 'sim_133_p_rew_1_start_1_dq_0.1'; it does not match the pattern ``^[a-zA-Z_][a-zA-Z0-9_]*$``; you will not be able to use natural naming to access this object; using ``getattr()`` will still work, though\n",
      "  NaturalNameWarning)\n"
     ]
    },
    {
     "name": "stdout",
     "output_type": "stream",
     "text": [
      "(sim,lamb_da,p_rew,start,dose_quantity) =  (133, 0.10000000000000002, 1.0, 1, 2)\n",
      "{39}\n",
      "sim_133_p_rew_1_start_1_dq_2\n",
      "(sim,lamb_da,p_rew,start,dose_quantity) =  (133, 0.10000000000000002, 1.0, 10, 0.1)\n",
      "Initial node infection step failed\n",
      "None\n",
      "Initial node infection step failed\n",
      "None\n",
      "{97, 34, 6, 27, 10, 55, 24, 91, 60, 94}\n",
      "sim_133_p_rew_1_start_10_dq_0.1\n"
     ]
    },
    {
     "name": "stderr",
     "output_type": "stream",
     "text": [
      "/home/aiyappa/anaconda3/lib/python3.7/site-packages/tables/path.py:112: NaturalNameWarning: object name is not a valid Python identifier: 'sim_133_p_rew_1_start_10_dq_0.1'; it does not match the pattern ``^[a-zA-Z_][a-zA-Z0-9_]*$``; you will not be able to use natural naming to access this object; using ``getattr()`` will still work, though\n",
      "  NaturalNameWarning)\n"
     ]
    },
    {
     "name": "stdout",
     "output_type": "stream",
     "text": [
      "(sim,lamb_da,p_rew,start,dose_quantity) =  (133, 0.10000000000000002, 1.0, 10, 2)\n",
      "{32, 65, 0, 37, 6, 46, 19, 51, 91, 60}\n",
      "sim_133_p_rew_1_start_10_dq_2\n",
      "(sim,lamb_da,p_rew,start,dose_quantity) =  (134, 0.001, 0.01, 1, 0.1)\n",
      "{82}\n",
      "sim_134_p_rew_0.01_start_1_dq_0.1\n"
     ]
    },
    {
     "name": "stderr",
     "output_type": "stream",
     "text": [
      "/home/aiyappa/anaconda3/lib/python3.7/site-packages/tables/path.py:112: NaturalNameWarning: object name is not a valid Python identifier: 'sim_134_p_rew_0.01_start_1_dq_0.1'; it does not match the pattern ``^[a-zA-Z_][a-zA-Z0-9_]*$``; you will not be able to use natural naming to access this object; using ``getattr()`` will still work, though\n",
      "  NaturalNameWarning)\n"
     ]
    },
    {
     "name": "stdout",
     "output_type": "stream",
     "text": [
      "(sim,lamb_da,p_rew,start,dose_quantity) =  (134, 0.001, 0.01, 1, 2)\n",
      "{51}\n",
      "sim_134_p_rew_0.01_start_1_dq_2\n"
     ]
    },
    {
     "name": "stderr",
     "output_type": "stream",
     "text": [
      "/home/aiyappa/anaconda3/lib/python3.7/site-packages/tables/path.py:112: NaturalNameWarning: object name is not a valid Python identifier: 'sim_134_p_rew_0.01_start_1_dq_2'; it does not match the pattern ``^[a-zA-Z_][a-zA-Z0-9_]*$``; you will not be able to use natural naming to access this object; using ``getattr()`` will still work, though\n",
      "  NaturalNameWarning)\n"
     ]
    },
    {
     "name": "stdout",
     "output_type": "stream",
     "text": [
      "(sim,lamb_da,p_rew,start,dose_quantity) =  (134, 0.001, 0.01, 10, 0.1)\n",
      "{64, 1, 2, 5, 39, 43, 44, 46, 81, 30}\n",
      "sim_134_p_rew_0.01_start_10_dq_0.1\n"
     ]
    },
    {
     "name": "stderr",
     "output_type": "stream",
     "text": [
      "/home/aiyappa/anaconda3/lib/python3.7/site-packages/tables/path.py:112: NaturalNameWarning: object name is not a valid Python identifier: 'sim_134_p_rew_0.01_start_10_dq_0.1'; it does not match the pattern ``^[a-zA-Z_][a-zA-Z0-9_]*$``; you will not be able to use natural naming to access this object; using ``getattr()`` will still work, though\n",
      "  NaturalNameWarning)\n"
     ]
    },
    {
     "name": "stdout",
     "output_type": "stream",
     "text": [
      "(sim,lamb_da,p_rew,start,dose_quantity) =  (134, 0.001, 0.01, 10, 2)\n",
      "{1, 35, 7, 76, 49, 52, 20, 85, 91, 30}\n",
      "sim_134_p_rew_0.01_start_10_dq_2\n"
     ]
    },
    {
     "name": "stderr",
     "output_type": "stream",
     "text": [
      "/home/aiyappa/anaconda3/lib/python3.7/site-packages/tables/path.py:112: NaturalNameWarning: object name is not a valid Python identifier: 'sim_134_p_rew_0.01_start_10_dq_2'; it does not match the pattern ``^[a-zA-Z_][a-zA-Z0-9_]*$``; you will not be able to use natural naming to access this object; using ``getattr()`` will still work, though\n",
      "  NaturalNameWarning)\n"
     ]
    },
    {
     "name": "stdout",
     "output_type": "stream",
     "text": [
      "(sim,lamb_da,p_rew,start,dose_quantity) =  (134, 0.01, 0.10000000000000002, 1, 0.1)\n",
      "{2}\n",
      "sim_134_p_rew_0.1_start_1_dq_0.1\n"
     ]
    },
    {
     "name": "stderr",
     "output_type": "stream",
     "text": [
      "/home/aiyappa/anaconda3/lib/python3.7/site-packages/tables/path.py:112: NaturalNameWarning: object name is not a valid Python identifier: 'sim_134_p_rew_0.1_start_1_dq_0.1'; it does not match the pattern ``^[a-zA-Z_][a-zA-Z0-9_]*$``; you will not be able to use natural naming to access this object; using ``getattr()`` will still work, though\n",
      "  NaturalNameWarning)\n"
     ]
    },
    {
     "name": "stdout",
     "output_type": "stream",
     "text": [
      "(sim,lamb_da,p_rew,start,dose_quantity) =  (134, 0.01, 0.10000000000000002, 1, 2)\n",
      "{76}\n",
      "sim_134_p_rew_0.1_start_1_dq_2\n"
     ]
    },
    {
     "name": "stderr",
     "output_type": "stream",
     "text": [
      "/home/aiyappa/anaconda3/lib/python3.7/site-packages/tables/path.py:112: NaturalNameWarning: object name is not a valid Python identifier: 'sim_134_p_rew_0.1_start_1_dq_2'; it does not match the pattern ``^[a-zA-Z_][a-zA-Z0-9_]*$``; you will not be able to use natural naming to access this object; using ``getattr()`` will still work, though\n",
      "  NaturalNameWarning)\n"
     ]
    },
    {
     "name": "stdout",
     "output_type": "stream",
     "text": [
      "(sim,lamb_da,p_rew,start,dose_quantity) =  (134, 0.01, 0.10000000000000002, 10, 0.1)\n",
      "{97, 67, 37, 70, 9, 44, 12, 49, 50, 91}\n",
      "sim_134_p_rew_0.1_start_10_dq_0.1\n"
     ]
    },
    {
     "name": "stderr",
     "output_type": "stream",
     "text": [
      "/home/aiyappa/anaconda3/lib/python3.7/site-packages/tables/path.py:112: NaturalNameWarning: object name is not a valid Python identifier: 'sim_134_p_rew_0.1_start_10_dq_0.1'; it does not match the pattern ``^[a-zA-Z_][a-zA-Z0-9_]*$``; you will not be able to use natural naming to access this object; using ``getattr()`` will still work, though\n",
      "  NaturalNameWarning)\n"
     ]
    },
    {
     "name": "stdout",
     "output_type": "stream",
     "text": [
      "(sim,lamb_da,p_rew,start,dose_quantity) =  (134, 0.01, 0.10000000000000002, 10, 2)\n",
      "{96, 39, 73, 80, 48, 81, 57, 26, 59, 95}\n",
      "sim_134_p_rew_0.1_start_10_dq_2\n"
     ]
    },
    {
     "name": "stderr",
     "output_type": "stream",
     "text": [
      "/home/aiyappa/anaconda3/lib/python3.7/site-packages/tables/path.py:112: NaturalNameWarning: object name is not a valid Python identifier: 'sim_134_p_rew_0.1_start_10_dq_2'; it does not match the pattern ``^[a-zA-Z_][a-zA-Z0-9_]*$``; you will not be able to use natural naming to access this object; using ``getattr()`` will still work, though\n",
      "  NaturalNameWarning)\n"
     ]
    },
    {
     "name": "stdout",
     "output_type": "stream",
     "text": [
      "(sim,lamb_da,p_rew,start,dose_quantity) =  (134, 0.10000000000000002, 1.0, 1, 0.1)\n",
      "{81}\n",
      "sim_134_p_rew_1_start_1_dq_0.1\n"
     ]
    },
    {
     "name": "stderr",
     "output_type": "stream",
     "text": [
      "/home/aiyappa/anaconda3/lib/python3.7/site-packages/tables/path.py:112: NaturalNameWarning: object name is not a valid Python identifier: 'sim_134_p_rew_1_start_1_dq_0.1'; it does not match the pattern ``^[a-zA-Z_][a-zA-Z0-9_]*$``; you will not be able to use natural naming to access this object; using ``getattr()`` will still work, though\n",
      "  NaturalNameWarning)\n"
     ]
    },
    {
     "name": "stdout",
     "output_type": "stream",
     "text": [
      "(sim,lamb_da,p_rew,start,dose_quantity) =  (134, 0.10000000000000002, 1.0, 1, 2)\n",
      "{17}\n",
      "sim_134_p_rew_1_start_1_dq_2\n",
      "(sim,lamb_da,p_rew,start,dose_quantity) =  (134, 0.10000000000000002, 1.0, 10, 0.1)\n",
      "Initial node infection step failed\n",
      "None\n",
      "Initial node infection step failed\n",
      "None\n",
      "{36, 76, 12, 17, 20, 53, 54, 29, 94, 31}\n",
      "sim_134_p_rew_1_start_10_dq_0.1\n"
     ]
    },
    {
     "name": "stderr",
     "output_type": "stream",
     "text": [
      "/home/aiyappa/anaconda3/lib/python3.7/site-packages/tables/path.py:112: NaturalNameWarning: object name is not a valid Python identifier: 'sim_134_p_rew_1_start_10_dq_0.1'; it does not match the pattern ``^[a-zA-Z_][a-zA-Z0-9_]*$``; you will not be able to use natural naming to access this object; using ``getattr()`` will still work, though\n",
      "  NaturalNameWarning)\n"
     ]
    },
    {
     "name": "stdout",
     "output_type": "stream",
     "text": [
      "(sim,lamb_da,p_rew,start,dose_quantity) =  (134, 0.10000000000000002, 1.0, 10, 2)\n",
      "{32, 4, 37, 39, 12, 80, 23, 56, 90, 60}\n",
      "sim_134_p_rew_1_start_10_dq_2\n",
      "(sim,lamb_da,p_rew,start,dose_quantity) =  (135, 0.001, 0.01, 1, 0.1)\n",
      "{55}\n",
      "sim_135_p_rew_0.01_start_1_dq_0.1\n"
     ]
    },
    {
     "name": "stderr",
     "output_type": "stream",
     "text": [
      "/home/aiyappa/anaconda3/lib/python3.7/site-packages/tables/path.py:112: NaturalNameWarning: object name is not a valid Python identifier: 'sim_135_p_rew_0.01_start_1_dq_0.1'; it does not match the pattern ``^[a-zA-Z_][a-zA-Z0-9_]*$``; you will not be able to use natural naming to access this object; using ``getattr()`` will still work, though\n",
      "  NaturalNameWarning)\n"
     ]
    },
    {
     "name": "stdout",
     "output_type": "stream",
     "text": [
      "(sim,lamb_da,p_rew,start,dose_quantity) =  (135, 0.001, 0.01, 1, 2)\n",
      "{0}\n",
      "sim_135_p_rew_0.01_start_1_dq_2\n"
     ]
    },
    {
     "name": "stderr",
     "output_type": "stream",
     "text": [
      "/home/aiyappa/anaconda3/lib/python3.7/site-packages/tables/path.py:112: NaturalNameWarning: object name is not a valid Python identifier: 'sim_135_p_rew_0.01_start_1_dq_2'; it does not match the pattern ``^[a-zA-Z_][a-zA-Z0-9_]*$``; you will not be able to use natural naming to access this object; using ``getattr()`` will still work, though\n",
      "  NaturalNameWarning)\n"
     ]
    },
    {
     "name": "stdout",
     "output_type": "stream",
     "text": [
      "(sim,lamb_da,p_rew,start,dose_quantity) =  (135, 0.001, 0.01, 10, 0.1)\n",
      "{96, 6, 41, 43, 11, 14, 49, 81, 60, 29}\n",
      "sim_135_p_rew_0.01_start_10_dq_0.1\n"
     ]
    },
    {
     "name": "stderr",
     "output_type": "stream",
     "text": [
      "/home/aiyappa/anaconda3/lib/python3.7/site-packages/tables/path.py:112: NaturalNameWarning: object name is not a valid Python identifier: 'sim_135_p_rew_0.01_start_10_dq_0.1'; it does not match the pattern ``^[a-zA-Z_][a-zA-Z0-9_]*$``; you will not be able to use natural naming to access this object; using ``getattr()`` will still work, though\n",
      "  NaturalNameWarning)\n"
     ]
    },
    {
     "name": "stdout",
     "output_type": "stream",
     "text": [
      "(sim,lamb_da,p_rew,start,dose_quantity) =  (135, 0.001, 0.01, 10, 2)\n",
      "{3, 37, 38, 71, 7, 9, 42, 45, 49, 31}\n",
      "sim_135_p_rew_0.01_start_10_dq_2\n"
     ]
    },
    {
     "name": "stderr",
     "output_type": "stream",
     "text": [
      "/home/aiyappa/anaconda3/lib/python3.7/site-packages/tables/path.py:112: NaturalNameWarning: object name is not a valid Python identifier: 'sim_135_p_rew_0.01_start_10_dq_2'; it does not match the pattern ``^[a-zA-Z_][a-zA-Z0-9_]*$``; you will not be able to use natural naming to access this object; using ``getattr()`` will still work, though\n",
      "  NaturalNameWarning)\n"
     ]
    },
    {
     "name": "stdout",
     "output_type": "stream",
     "text": [
      "(sim,lamb_da,p_rew,start,dose_quantity) =  (135, 0.01, 0.10000000000000002, 1, 0.1)\n",
      "{79}\n",
      "sim_135_p_rew_0.1_start_1_dq_0.1\n"
     ]
    },
    {
     "name": "stderr",
     "output_type": "stream",
     "text": [
      "/home/aiyappa/anaconda3/lib/python3.7/site-packages/tables/path.py:112: NaturalNameWarning: object name is not a valid Python identifier: 'sim_135_p_rew_0.1_start_1_dq_0.1'; it does not match the pattern ``^[a-zA-Z_][a-zA-Z0-9_]*$``; you will not be able to use natural naming to access this object; using ``getattr()`` will still work, though\n",
      "  NaturalNameWarning)\n"
     ]
    },
    {
     "name": "stdout",
     "output_type": "stream",
     "text": [
      "(sim,lamb_da,p_rew,start,dose_quantity) =  (135, 0.01, 0.10000000000000002, 1, 2)\n",
      "{0}\n",
      "sim_135_p_rew_0.1_start_1_dq_2\n"
     ]
    },
    {
     "name": "stderr",
     "output_type": "stream",
     "text": [
      "/home/aiyappa/anaconda3/lib/python3.7/site-packages/tables/path.py:112: NaturalNameWarning: object name is not a valid Python identifier: 'sim_135_p_rew_0.1_start_1_dq_2'; it does not match the pattern ``^[a-zA-Z_][a-zA-Z0-9_]*$``; you will not be able to use natural naming to access this object; using ``getattr()`` will still work, though\n",
      "  NaturalNameWarning)\n"
     ]
    },
    {
     "name": "stdout",
     "output_type": "stream",
     "text": [
      "(sim,lamb_da,p_rew,start,dose_quantity) =  (135, 0.01, 0.10000000000000002, 10, 0.1)\n",
      "{38, 29, 18, 86, 23, 88, 89, 59, 28, 93}\n",
      "sim_135_p_rew_0.1_start_10_dq_0.1\n"
     ]
    },
    {
     "name": "stderr",
     "output_type": "stream",
     "text": [
      "/home/aiyappa/anaconda3/lib/python3.7/site-packages/tables/path.py:112: NaturalNameWarning: object name is not a valid Python identifier: 'sim_135_p_rew_0.1_start_10_dq_0.1'; it does not match the pattern ``^[a-zA-Z_][a-zA-Z0-9_]*$``; you will not be able to use natural naming to access this object; using ``getattr()`` will still work, though\n",
      "  NaturalNameWarning)\n"
     ]
    },
    {
     "name": "stdout",
     "output_type": "stream",
     "text": [
      "(sim,lamb_da,p_rew,start,dose_quantity) =  (135, 0.01, 0.10000000000000002, 10, 2)\n",
      "{6, 40, 44, 45, 18, 54, 91, 92, 29, 31}\n",
      "sim_135_p_rew_0.1_start_10_dq_2\n"
     ]
    },
    {
     "name": "stderr",
     "output_type": "stream",
     "text": [
      "/home/aiyappa/anaconda3/lib/python3.7/site-packages/tables/path.py:112: NaturalNameWarning: object name is not a valid Python identifier: 'sim_135_p_rew_0.1_start_10_dq_2'; it does not match the pattern ``^[a-zA-Z_][a-zA-Z0-9_]*$``; you will not be able to use natural naming to access this object; using ``getattr()`` will still work, though\n",
      "  NaturalNameWarning)\n"
     ]
    },
    {
     "name": "stdout",
     "output_type": "stream",
     "text": [
      "(sim,lamb_da,p_rew,start,dose_quantity) =  (135, 0.10000000000000002, 1.0, 1, 0.1)\n",
      "{54}\n",
      "sim_135_p_rew_1_start_1_dq_0.1\n"
     ]
    },
    {
     "name": "stderr",
     "output_type": "stream",
     "text": [
      "/home/aiyappa/anaconda3/lib/python3.7/site-packages/tables/path.py:112: NaturalNameWarning: object name is not a valid Python identifier: 'sim_135_p_rew_1_start_1_dq_0.1'; it does not match the pattern ``^[a-zA-Z_][a-zA-Z0-9_]*$``; you will not be able to use natural naming to access this object; using ``getattr()`` will still work, though\n",
      "  NaturalNameWarning)\n"
     ]
    },
    {
     "name": "stdout",
     "output_type": "stream",
     "text": [
      "(sim,lamb_da,p_rew,start,dose_quantity) =  (135, 0.10000000000000002, 1.0, 1, 2)\n",
      "{87}\n",
      "sim_135_p_rew_1_start_1_dq_2\n",
      "(sim,lamb_da,p_rew,start,dose_quantity) =  (135, 0.10000000000000002, 1.0, 10, 0.1)\n",
      "{66, 70, 39, 43, 19, 84, 24, 25, 27, 60}\n",
      "sim_135_p_rew_1_start_10_dq_0.1\n"
     ]
    },
    {
     "name": "stderr",
     "output_type": "stream",
     "text": [
      "/home/aiyappa/anaconda3/lib/python3.7/site-packages/tables/path.py:112: NaturalNameWarning: object name is not a valid Python identifier: 'sim_135_p_rew_1_start_10_dq_0.1'; it does not match the pattern ``^[a-zA-Z_][a-zA-Z0-9_]*$``; you will not be able to use natural naming to access this object; using ``getattr()`` will still work, though\n",
      "  NaturalNameWarning)\n"
     ]
    },
    {
     "name": "stdout",
     "output_type": "stream",
     "text": [
      "(sim,lamb_da,p_rew,start,dose_quantity) =  (135, 0.10000000000000002, 1.0, 10, 2)\n",
      "{36, 27, 47, 82, 84, 87, 88, 57, 26, 91}\n",
      "sim_135_p_rew_1_start_10_dq_2\n",
      "(sim,lamb_da,p_rew,start,dose_quantity) =  (136, 0.001, 0.01, 1, 0.1)\n",
      "{8}\n",
      "sim_136_p_rew_0.01_start_1_dq_0.1\n"
     ]
    },
    {
     "name": "stderr",
     "output_type": "stream",
     "text": [
      "/home/aiyappa/anaconda3/lib/python3.7/site-packages/tables/path.py:112: NaturalNameWarning: object name is not a valid Python identifier: 'sim_136_p_rew_0.01_start_1_dq_0.1'; it does not match the pattern ``^[a-zA-Z_][a-zA-Z0-9_]*$``; you will not be able to use natural naming to access this object; using ``getattr()`` will still work, though\n",
      "  NaturalNameWarning)\n"
     ]
    },
    {
     "name": "stdout",
     "output_type": "stream",
     "text": [
      "(sim,lamb_da,p_rew,start,dose_quantity) =  (136, 0.001, 0.01, 1, 2)\n",
      "{11}\n",
      "sim_136_p_rew_0.01_start_1_dq_2\n"
     ]
    },
    {
     "name": "stderr",
     "output_type": "stream",
     "text": [
      "/home/aiyappa/anaconda3/lib/python3.7/site-packages/tables/path.py:112: NaturalNameWarning: object name is not a valid Python identifier: 'sim_136_p_rew_0.01_start_1_dq_2'; it does not match the pattern ``^[a-zA-Z_][a-zA-Z0-9_]*$``; you will not be able to use natural naming to access this object; using ``getattr()`` will still work, though\n",
      "  NaturalNameWarning)\n"
     ]
    },
    {
     "name": "stdout",
     "output_type": "stream",
     "text": [
      "(sim,lamb_da,p_rew,start,dose_quantity) =  (136, 0.001, 0.01, 10, 0.1)\n",
      "{96, 70, 40, 75, 76, 51, 54, 91, 62, 95}\n",
      "sim_136_p_rew_0.01_start_10_dq_0.1\n"
     ]
    },
    {
     "name": "stderr",
     "output_type": "stream",
     "text": [
      "/home/aiyappa/anaconda3/lib/python3.7/site-packages/tables/path.py:112: NaturalNameWarning: object name is not a valid Python identifier: 'sim_136_p_rew_0.01_start_10_dq_0.1'; it does not match the pattern ``^[a-zA-Z_][a-zA-Z0-9_]*$``; you will not be able to use natural naming to access this object; using ``getattr()`` will still work, though\n",
      "  NaturalNameWarning)\n"
     ]
    },
    {
     "name": "stdout",
     "output_type": "stream",
     "text": [
      "(sim,lamb_da,p_rew,start,dose_quantity) =  (136, 0.001, 0.01, 10, 2)\n",
      "{97, 73, 75, 48, 81, 21, 23, 56, 89, 94}\n",
      "sim_136_p_rew_0.01_start_10_dq_2\n"
     ]
    },
    {
     "name": "stderr",
     "output_type": "stream",
     "text": [
      "/home/aiyappa/anaconda3/lib/python3.7/site-packages/tables/path.py:112: NaturalNameWarning: object name is not a valid Python identifier: 'sim_136_p_rew_0.01_start_10_dq_2'; it does not match the pattern ``^[a-zA-Z_][a-zA-Z0-9_]*$``; you will not be able to use natural naming to access this object; using ``getattr()`` will still work, though\n",
      "  NaturalNameWarning)\n"
     ]
    },
    {
     "name": "stdout",
     "output_type": "stream",
     "text": [
      "(sim,lamb_da,p_rew,start,dose_quantity) =  (136, 0.01, 0.10000000000000002, 1, 0.1)\n",
      "{58}\n",
      "sim_136_p_rew_0.1_start_1_dq_0.1\n"
     ]
    },
    {
     "name": "stderr",
     "output_type": "stream",
     "text": [
      "/home/aiyappa/anaconda3/lib/python3.7/site-packages/tables/path.py:112: NaturalNameWarning: object name is not a valid Python identifier: 'sim_136_p_rew_0.1_start_1_dq_0.1'; it does not match the pattern ``^[a-zA-Z_][a-zA-Z0-9_]*$``; you will not be able to use natural naming to access this object; using ``getattr()`` will still work, though\n",
      "  NaturalNameWarning)\n"
     ]
    },
    {
     "name": "stdout",
     "output_type": "stream",
     "text": [
      "(sim,lamb_da,p_rew,start,dose_quantity) =  (136, 0.01, 0.10000000000000002, 1, 2)\n",
      "{0}\n",
      "sim_136_p_rew_0.1_start_1_dq_2\n"
     ]
    },
    {
     "name": "stderr",
     "output_type": "stream",
     "text": [
      "/home/aiyappa/anaconda3/lib/python3.7/site-packages/tables/path.py:112: NaturalNameWarning: object name is not a valid Python identifier: 'sim_136_p_rew_0.1_start_1_dq_2'; it does not match the pattern ``^[a-zA-Z_][a-zA-Z0-9_]*$``; you will not be able to use natural naming to access this object; using ``getattr()`` will still work, though\n",
      "  NaturalNameWarning)\n"
     ]
    },
    {
     "name": "stdout",
     "output_type": "stream",
     "text": [
      "(sim,lamb_da,p_rew,start,dose_quantity) =  (136, 0.01, 0.10000000000000002, 10, 0.1)\n",
      "{72, 59, 10, 44, 16, 87, 25, 91, 92, 61}\n",
      "sim_136_p_rew_0.1_start_10_dq_0.1\n"
     ]
    },
    {
     "name": "stderr",
     "output_type": "stream",
     "text": [
      "/home/aiyappa/anaconda3/lib/python3.7/site-packages/tables/path.py:112: NaturalNameWarning: object name is not a valid Python identifier: 'sim_136_p_rew_0.1_start_10_dq_0.1'; it does not match the pattern ``^[a-zA-Z_][a-zA-Z0-9_]*$``; you will not be able to use natural naming to access this object; using ``getattr()`` will still work, though\n",
      "  NaturalNameWarning)\n"
     ]
    },
    {
     "name": "stdout",
     "output_type": "stream",
     "text": [
      "(sim,lamb_da,p_rew,start,dose_quantity) =  (136, 0.01, 0.10000000000000002, 10, 2)\n",
      "{32, 2, 69, 72, 8, 75, 48, 53, 86, 87}\n",
      "sim_136_p_rew_0.1_start_10_dq_2\n"
     ]
    },
    {
     "name": "stderr",
     "output_type": "stream",
     "text": [
      "/home/aiyappa/anaconda3/lib/python3.7/site-packages/tables/path.py:112: NaturalNameWarning: object name is not a valid Python identifier: 'sim_136_p_rew_0.1_start_10_dq_2'; it does not match the pattern ``^[a-zA-Z_][a-zA-Z0-9_]*$``; you will not be able to use natural naming to access this object; using ``getattr()`` will still work, though\n",
      "  NaturalNameWarning)\n"
     ]
    },
    {
     "name": "stdout",
     "output_type": "stream",
     "text": [
      "(sim,lamb_da,p_rew,start,dose_quantity) =  (136, 0.10000000000000002, 1.0, 1, 0.1)\n",
      "{89}\n",
      "sim_136_p_rew_1_start_1_dq_0.1\n"
     ]
    },
    {
     "name": "stderr",
     "output_type": "stream",
     "text": [
      "/home/aiyappa/anaconda3/lib/python3.7/site-packages/tables/path.py:112: NaturalNameWarning: object name is not a valid Python identifier: 'sim_136_p_rew_1_start_1_dq_0.1'; it does not match the pattern ``^[a-zA-Z_][a-zA-Z0-9_]*$``; you will not be able to use natural naming to access this object; using ``getattr()`` will still work, though\n",
      "  NaturalNameWarning)\n"
     ]
    },
    {
     "name": "stdout",
     "output_type": "stream",
     "text": [
      "(sim,lamb_da,p_rew,start,dose_quantity) =  (136, 0.10000000000000002, 1.0, 1, 2)\n",
      "{29}\n",
      "sim_136_p_rew_1_start_1_dq_2\n",
      "(sim,lamb_da,p_rew,start,dose_quantity) =  (136, 0.10000000000000002, 1.0, 10, 0.1)\n",
      "{0, 97, 34, 37, 9, 42, 14, 48, 57, 29}\n",
      "sim_136_p_rew_1_start_10_dq_0.1\n"
     ]
    },
    {
     "name": "stderr",
     "output_type": "stream",
     "text": [
      "/home/aiyappa/anaconda3/lib/python3.7/site-packages/tables/path.py:112: NaturalNameWarning: object name is not a valid Python identifier: 'sim_136_p_rew_1_start_10_dq_0.1'; it does not match the pattern ``^[a-zA-Z_][a-zA-Z0-9_]*$``; you will not be able to use natural naming to access this object; using ``getattr()`` will still work, though\n",
      "  NaturalNameWarning)\n"
     ]
    },
    {
     "name": "stdout",
     "output_type": "stream",
     "text": [
      "(sim,lamb_da,p_rew,start,dose_quantity) =  (136, 0.10000000000000002, 1.0, 10, 2)\n",
      "{37, 8, 73, 48, 19, 22, 55, 26, 27, 60}\n",
      "sim_136_p_rew_1_start_10_dq_2\n",
      "(sim,lamb_da,p_rew,start,dose_quantity) =  (137, 0.001, 0.01, 1, 0.1)\n",
      "{16}\n",
      "sim_137_p_rew_0.01_start_1_dq_0.1\n"
     ]
    },
    {
     "name": "stderr",
     "output_type": "stream",
     "text": [
      "/home/aiyappa/anaconda3/lib/python3.7/site-packages/tables/path.py:112: NaturalNameWarning: object name is not a valid Python identifier: 'sim_137_p_rew_0.01_start_1_dq_0.1'; it does not match the pattern ``^[a-zA-Z_][a-zA-Z0-9_]*$``; you will not be able to use natural naming to access this object; using ``getattr()`` will still work, though\n",
      "  NaturalNameWarning)\n"
     ]
    },
    {
     "name": "stdout",
     "output_type": "stream",
     "text": [
      "(sim,lamb_da,p_rew,start,dose_quantity) =  (137, 0.001, 0.01, 1, 2)\n",
      "{94}\n",
      "sim_137_p_rew_0.01_start_1_dq_2\n"
     ]
    },
    {
     "name": "stderr",
     "output_type": "stream",
     "text": [
      "/home/aiyappa/anaconda3/lib/python3.7/site-packages/tables/path.py:112: NaturalNameWarning: object name is not a valid Python identifier: 'sim_137_p_rew_0.01_start_1_dq_2'; it does not match the pattern ``^[a-zA-Z_][a-zA-Z0-9_]*$``; you will not be able to use natural naming to access this object; using ``getattr()`` will still work, though\n",
      "  NaturalNameWarning)\n"
     ]
    },
    {
     "name": "stdout",
     "output_type": "stream",
     "text": [
      "(sim,lamb_da,p_rew,start,dose_quantity) =  (137, 0.001, 0.01, 10, 0.1)\n",
      "{98, 99, 10, 17, 49, 51, 18, 21, 27, 30}\n",
      "sim_137_p_rew_0.01_start_10_dq_0.1\n"
     ]
    },
    {
     "name": "stderr",
     "output_type": "stream",
     "text": [
      "/home/aiyappa/anaconda3/lib/python3.7/site-packages/tables/path.py:112: NaturalNameWarning: object name is not a valid Python identifier: 'sim_137_p_rew_0.01_start_10_dq_0.1'; it does not match the pattern ``^[a-zA-Z_][a-zA-Z0-9_]*$``; you will not be able to use natural naming to access this object; using ``getattr()`` will still work, though\n",
      "  NaturalNameWarning)\n"
     ]
    },
    {
     "name": "stdout",
     "output_type": "stream",
     "text": [
      "(sim,lamb_da,p_rew,start,dose_quantity) =  (137, 0.001, 0.01, 10, 2)\n",
      "{66, 67, 4, 68, 39, 15, 52, 21, 86, 89}\n",
      "sim_137_p_rew_0.01_start_10_dq_2\n"
     ]
    },
    {
     "name": "stderr",
     "output_type": "stream",
     "text": [
      "/home/aiyappa/anaconda3/lib/python3.7/site-packages/tables/path.py:112: NaturalNameWarning: object name is not a valid Python identifier: 'sim_137_p_rew_0.01_start_10_dq_2'; it does not match the pattern ``^[a-zA-Z_][a-zA-Z0-9_]*$``; you will not be able to use natural naming to access this object; using ``getattr()`` will still work, though\n",
      "  NaturalNameWarning)\n"
     ]
    },
    {
     "name": "stdout",
     "output_type": "stream",
     "text": [
      "(sim,lamb_da,p_rew,start,dose_quantity) =  (137, 0.01, 0.10000000000000002, 1, 0.1)\n",
      "{14}\n",
      "sim_137_p_rew_0.1_start_1_dq_0.1\n"
     ]
    },
    {
     "name": "stderr",
     "output_type": "stream",
     "text": [
      "/home/aiyappa/anaconda3/lib/python3.7/site-packages/tables/path.py:112: NaturalNameWarning: object name is not a valid Python identifier: 'sim_137_p_rew_0.1_start_1_dq_0.1'; it does not match the pattern ``^[a-zA-Z_][a-zA-Z0-9_]*$``; you will not be able to use natural naming to access this object; using ``getattr()`` will still work, though\n",
      "  NaturalNameWarning)\n"
     ]
    },
    {
     "name": "stdout",
     "output_type": "stream",
     "text": [
      "(sim,lamb_da,p_rew,start,dose_quantity) =  (137, 0.01, 0.10000000000000002, 1, 2)\n",
      "{84}\n",
      "sim_137_p_rew_0.1_start_1_dq_2\n"
     ]
    },
    {
     "name": "stderr",
     "output_type": "stream",
     "text": [
      "/home/aiyappa/anaconda3/lib/python3.7/site-packages/tables/path.py:112: NaturalNameWarning: object name is not a valid Python identifier: 'sim_137_p_rew_0.1_start_1_dq_2'; it does not match the pattern ``^[a-zA-Z_][a-zA-Z0-9_]*$``; you will not be able to use natural naming to access this object; using ``getattr()`` will still work, though\n",
      "  NaturalNameWarning)\n"
     ]
    },
    {
     "name": "stdout",
     "output_type": "stream",
     "text": [
      "(sim,lamb_da,p_rew,start,dose_quantity) =  (137, 0.01, 0.10000000000000002, 10, 0.1)\n",
      "{67, 76, 13, 47, 80, 17, 86, 58, 93, 62}\n",
      "sim_137_p_rew_0.1_start_10_dq_0.1\n"
     ]
    },
    {
     "name": "stderr",
     "output_type": "stream",
     "text": [
      "/home/aiyappa/anaconda3/lib/python3.7/site-packages/tables/path.py:112: NaturalNameWarning: object name is not a valid Python identifier: 'sim_137_p_rew_0.1_start_10_dq_0.1'; it does not match the pattern ``^[a-zA-Z_][a-zA-Z0-9_]*$``; you will not be able to use natural naming to access this object; using ``getattr()`` will still work, though\n",
      "  NaturalNameWarning)\n"
     ]
    },
    {
     "name": "stdout",
     "output_type": "stream",
     "text": [
      "(sim,lamb_da,p_rew,start,dose_quantity) =  (137, 0.01, 0.10000000000000002, 10, 2)\n",
      "{67, 71, 42, 75, 45, 83, 85, 55, 90, 92}\n",
      "sim_137_p_rew_0.1_start_10_dq_2\n"
     ]
    },
    {
     "name": "stderr",
     "output_type": "stream",
     "text": [
      "/home/aiyappa/anaconda3/lib/python3.7/site-packages/tables/path.py:112: NaturalNameWarning: object name is not a valid Python identifier: 'sim_137_p_rew_0.1_start_10_dq_2'; it does not match the pattern ``^[a-zA-Z_][a-zA-Z0-9_]*$``; you will not be able to use natural naming to access this object; using ``getattr()`` will still work, though\n",
      "  NaturalNameWarning)\n"
     ]
    },
    {
     "name": "stdout",
     "output_type": "stream",
     "text": [
      "(sim,lamb_da,p_rew,start,dose_quantity) =  (137, 0.10000000000000002, 1.0, 1, 0.1)\n",
      "{49}\n",
      "sim_137_p_rew_1_start_1_dq_0.1\n"
     ]
    },
    {
     "name": "stderr",
     "output_type": "stream",
     "text": [
      "/home/aiyappa/anaconda3/lib/python3.7/site-packages/tables/path.py:112: NaturalNameWarning: object name is not a valid Python identifier: 'sim_137_p_rew_1_start_1_dq_0.1'; it does not match the pattern ``^[a-zA-Z_][a-zA-Z0-9_]*$``; you will not be able to use natural naming to access this object; using ``getattr()`` will still work, though\n",
      "  NaturalNameWarning)\n"
     ]
    },
    {
     "name": "stdout",
     "output_type": "stream",
     "text": [
      "(sim,lamb_da,p_rew,start,dose_quantity) =  (137, 0.10000000000000002, 1.0, 1, 2)\n",
      "{78}\n",
      "sim_137_p_rew_1_start_1_dq_2\n",
      "(sim,lamb_da,p_rew,start,dose_quantity) =  (137, 0.10000000000000002, 1.0, 10, 0.1)\n",
      "Initial node infection step failed\n",
      "None\n",
      "{99, 3, 44, 15, 48, 81, 51, 54, 25, 27}\n",
      "sim_137_p_rew_1_start_10_dq_0.1\n"
     ]
    },
    {
     "name": "stderr",
     "output_type": "stream",
     "text": [
      "/home/aiyappa/anaconda3/lib/python3.7/site-packages/tables/path.py:112: NaturalNameWarning: object name is not a valid Python identifier: 'sim_137_p_rew_1_start_10_dq_0.1'; it does not match the pattern ``^[a-zA-Z_][a-zA-Z0-9_]*$``; you will not be able to use natural naming to access this object; using ``getattr()`` will still work, though\n",
      "  NaturalNameWarning)\n"
     ]
    },
    {
     "name": "stdout",
     "output_type": "stream",
     "text": [
      "(sim,lamb_da,p_rew,start,dose_quantity) =  (137, 0.10000000000000002, 1.0, 10, 2)\n",
      "{1, 35, 36, 38, 7, 71, 13, 20, 93, 94}\n",
      "sim_137_p_rew_1_start_10_dq_2\n",
      "(sim,lamb_da,p_rew,start,dose_quantity) =  (138, 0.001, 0.01, 1, 0.1)\n",
      "{5}\n",
      "sim_138_p_rew_0.01_start_1_dq_0.1\n"
     ]
    },
    {
     "name": "stderr",
     "output_type": "stream",
     "text": [
      "/home/aiyappa/anaconda3/lib/python3.7/site-packages/tables/path.py:112: NaturalNameWarning: object name is not a valid Python identifier: 'sim_138_p_rew_0.01_start_1_dq_0.1'; it does not match the pattern ``^[a-zA-Z_][a-zA-Z0-9_]*$``; you will not be able to use natural naming to access this object; using ``getattr()`` will still work, though\n",
      "  NaturalNameWarning)\n"
     ]
    },
    {
     "name": "stdout",
     "output_type": "stream",
     "text": [
      "(sim,lamb_da,p_rew,start,dose_quantity) =  (138, 0.001, 0.01, 1, 2)\n",
      "{46}\n",
      "sim_138_p_rew_0.01_start_1_dq_2\n"
     ]
    },
    {
     "name": "stderr",
     "output_type": "stream",
     "text": [
      "/home/aiyappa/anaconda3/lib/python3.7/site-packages/tables/path.py:112: NaturalNameWarning: object name is not a valid Python identifier: 'sim_138_p_rew_0.01_start_1_dq_2'; it does not match the pattern ``^[a-zA-Z_][a-zA-Z0-9_]*$``; you will not be able to use natural naming to access this object; using ``getattr()`` will still work, though\n",
      "  NaturalNameWarning)\n"
     ]
    },
    {
     "name": "stdout",
     "output_type": "stream",
     "text": [
      "(sim,lamb_da,p_rew,start,dose_quantity) =  (138, 0.001, 0.01, 10, 0.1)\n",
      "{64, 67, 99, 10, 75, 77, 18, 23, 93, 94}\n",
      "sim_138_p_rew_0.01_start_10_dq_0.1\n"
     ]
    },
    {
     "name": "stderr",
     "output_type": "stream",
     "text": [
      "/home/aiyappa/anaconda3/lib/python3.7/site-packages/tables/path.py:112: NaturalNameWarning: object name is not a valid Python identifier: 'sim_138_p_rew_0.01_start_10_dq_0.1'; it does not match the pattern ``^[a-zA-Z_][a-zA-Z0-9_]*$``; you will not be able to use natural naming to access this object; using ``getattr()`` will still work, though\n",
      "  NaturalNameWarning)\n"
     ]
    },
    {
     "name": "stdout",
     "output_type": "stream",
     "text": [
      "(sim,lamb_da,p_rew,start,dose_quantity) =  (138, 0.001, 0.01, 10, 2)\n",
      "{64, 33, 96, 35, 4, 43, 76, 77, 20, 87}\n",
      "sim_138_p_rew_0.01_start_10_dq_2\n"
     ]
    },
    {
     "name": "stderr",
     "output_type": "stream",
     "text": [
      "/home/aiyappa/anaconda3/lib/python3.7/site-packages/tables/path.py:112: NaturalNameWarning: object name is not a valid Python identifier: 'sim_138_p_rew_0.01_start_10_dq_2'; it does not match the pattern ``^[a-zA-Z_][a-zA-Z0-9_]*$``; you will not be able to use natural naming to access this object; using ``getattr()`` will still work, though\n",
      "  NaturalNameWarning)\n"
     ]
    },
    {
     "name": "stdout",
     "output_type": "stream",
     "text": [
      "(sim,lamb_da,p_rew,start,dose_quantity) =  (138, 0.01, 0.10000000000000002, 1, 0.1)\n",
      "{59}\n",
      "sim_138_p_rew_0.1_start_1_dq_0.1\n"
     ]
    },
    {
     "name": "stderr",
     "output_type": "stream",
     "text": [
      "/home/aiyappa/anaconda3/lib/python3.7/site-packages/tables/path.py:112: NaturalNameWarning: object name is not a valid Python identifier: 'sim_138_p_rew_0.1_start_1_dq_0.1'; it does not match the pattern ``^[a-zA-Z_][a-zA-Z0-9_]*$``; you will not be able to use natural naming to access this object; using ``getattr()`` will still work, though\n",
      "  NaturalNameWarning)\n"
     ]
    },
    {
     "name": "stdout",
     "output_type": "stream",
     "text": [
      "(sim,lamb_da,p_rew,start,dose_quantity) =  (138, 0.01, 0.10000000000000002, 1, 2)\n",
      "{18}\n",
      "sim_138_p_rew_0.1_start_1_dq_2\n"
     ]
    },
    {
     "name": "stderr",
     "output_type": "stream",
     "text": [
      "/home/aiyappa/anaconda3/lib/python3.7/site-packages/tables/path.py:112: NaturalNameWarning: object name is not a valid Python identifier: 'sim_138_p_rew_0.1_start_1_dq_2'; it does not match the pattern ``^[a-zA-Z_][a-zA-Z0-9_]*$``; you will not be able to use natural naming to access this object; using ``getattr()`` will still work, though\n",
      "  NaturalNameWarning)\n"
     ]
    },
    {
     "name": "stdout",
     "output_type": "stream",
     "text": [
      "(sim,lamb_da,p_rew,start,dose_quantity) =  (138, 0.01, 0.10000000000000002, 10, 0.1)\n",
      "{33, 67, 69, 39, 43, 16, 18, 57, 26, 60}\n",
      "sim_138_p_rew_0.1_start_10_dq_0.1\n"
     ]
    },
    {
     "name": "stderr",
     "output_type": "stream",
     "text": [
      "/home/aiyappa/anaconda3/lib/python3.7/site-packages/tables/path.py:112: NaturalNameWarning: object name is not a valid Python identifier: 'sim_138_p_rew_0.1_start_10_dq_0.1'; it does not match the pattern ``^[a-zA-Z_][a-zA-Z0-9_]*$``; you will not be able to use natural naming to access this object; using ``getattr()`` will still work, though\n",
      "  NaturalNameWarning)\n"
     ]
    },
    {
     "name": "stdout",
     "output_type": "stream",
     "text": [
      "(sim,lamb_da,p_rew,start,dose_quantity) =  (138, 0.01, 0.10000000000000002, 10, 2)\n",
      "{32, 5, 70, 77, 48, 20, 55, 27, 94, 63}\n",
      "sim_138_p_rew_0.1_start_10_dq_2\n"
     ]
    },
    {
     "name": "stderr",
     "output_type": "stream",
     "text": [
      "/home/aiyappa/anaconda3/lib/python3.7/site-packages/tables/path.py:112: NaturalNameWarning: object name is not a valid Python identifier: 'sim_138_p_rew_0.1_start_10_dq_2'; it does not match the pattern ``^[a-zA-Z_][a-zA-Z0-9_]*$``; you will not be able to use natural naming to access this object; using ``getattr()`` will still work, though\n",
      "  NaturalNameWarning)\n"
     ]
    },
    {
     "name": "stdout",
     "output_type": "stream",
     "text": [
      "(sim,lamb_da,p_rew,start,dose_quantity) =  (138, 0.10000000000000002, 1.0, 1, 0.1)\n",
      "{82}\n",
      "sim_138_p_rew_1_start_1_dq_0.1\n"
     ]
    },
    {
     "name": "stderr",
     "output_type": "stream",
     "text": [
      "/home/aiyappa/anaconda3/lib/python3.7/site-packages/tables/path.py:112: NaturalNameWarning: object name is not a valid Python identifier: 'sim_138_p_rew_1_start_1_dq_0.1'; it does not match the pattern ``^[a-zA-Z_][a-zA-Z0-9_]*$``; you will not be able to use natural naming to access this object; using ``getattr()`` will still work, though\n",
      "  NaturalNameWarning)\n"
     ]
    },
    {
     "name": "stdout",
     "output_type": "stream",
     "text": [
      "(sim,lamb_da,p_rew,start,dose_quantity) =  (138, 0.10000000000000002, 1.0, 1, 2)\n",
      "{14}\n",
      "sim_138_p_rew_1_start_1_dq_2\n",
      "(sim,lamb_da,p_rew,start,dose_quantity) =  (138, 0.10000000000000002, 1.0, 10, 0.1)\n",
      "{64, 35, 74, 43, 78, 49, 50, 87, 24, 95}\n",
      "sim_138_p_rew_1_start_10_dq_0.1\n"
     ]
    },
    {
     "name": "stderr",
     "output_type": "stream",
     "text": [
      "/home/aiyappa/anaconda3/lib/python3.7/site-packages/tables/path.py:112: NaturalNameWarning: object name is not a valid Python identifier: 'sim_138_p_rew_1_start_10_dq_0.1'; it does not match the pattern ``^[a-zA-Z_][a-zA-Z0-9_]*$``; you will not be able to use natural naming to access this object; using ``getattr()`` will still work, though\n",
      "  NaturalNameWarning)\n"
     ]
    },
    {
     "name": "stdout",
     "output_type": "stream",
     "text": [
      "(sim,lamb_da,p_rew,start,dose_quantity) =  (138, 0.10000000000000002, 1.0, 10, 2)\n",
      "{98, 37, 70, 74, 43, 76, 14, 84, 53, 27}\n",
      "sim_138_p_rew_1_start_10_dq_2\n",
      "(sim,lamb_da,p_rew,start,dose_quantity) =  (139, 0.001, 0.01, 1, 0.1)\n",
      "{97}\n",
      "sim_139_p_rew_0.01_start_1_dq_0.1\n"
     ]
    },
    {
     "name": "stderr",
     "output_type": "stream",
     "text": [
      "/home/aiyappa/anaconda3/lib/python3.7/site-packages/tables/path.py:112: NaturalNameWarning: object name is not a valid Python identifier: 'sim_139_p_rew_0.01_start_1_dq_0.1'; it does not match the pattern ``^[a-zA-Z_][a-zA-Z0-9_]*$``; you will not be able to use natural naming to access this object; using ``getattr()`` will still work, though\n",
      "  NaturalNameWarning)\n"
     ]
    },
    {
     "name": "stdout",
     "output_type": "stream",
     "text": [
      "(sim,lamb_da,p_rew,start,dose_quantity) =  (139, 0.001, 0.01, 1, 2)\n",
      "{50}\n",
      "sim_139_p_rew_0.01_start_1_dq_2\n"
     ]
    },
    {
     "name": "stderr",
     "output_type": "stream",
     "text": [
      "/home/aiyappa/anaconda3/lib/python3.7/site-packages/tables/path.py:112: NaturalNameWarning: object name is not a valid Python identifier: 'sim_139_p_rew_0.01_start_1_dq_2'; it does not match the pattern ``^[a-zA-Z_][a-zA-Z0-9_]*$``; you will not be able to use natural naming to access this object; using ``getattr()`` will still work, though\n",
      "  NaturalNameWarning)\n"
     ]
    },
    {
     "name": "stdout",
     "output_type": "stream",
     "text": [
      "(sim,lamb_da,p_rew,start,dose_quantity) =  (139, 0.001, 0.01, 10, 0.1)\n",
      "{97, 70, 12, 77, 45, 81, 82, 85, 23, 27}\n",
      "sim_139_p_rew_0.01_start_10_dq_0.1\n"
     ]
    },
    {
     "name": "stderr",
     "output_type": "stream",
     "text": [
      "/home/aiyappa/anaconda3/lib/python3.7/site-packages/tables/path.py:112: NaturalNameWarning: object name is not a valid Python identifier: 'sim_139_p_rew_0.01_start_10_dq_0.1'; it does not match the pattern ``^[a-zA-Z_][a-zA-Z0-9_]*$``; you will not be able to use natural naming to access this object; using ``getattr()`` will still work, though\n",
      "  NaturalNameWarning)\n"
     ]
    },
    {
     "name": "stdout",
     "output_type": "stream",
     "text": [
      "(sim,lamb_da,p_rew,start,dose_quantity) =  (139, 0.001, 0.01, 10, 2)\n",
      "{64, 35, 42, 12, 47, 82, 21, 23, 90, 60}\n",
      "sim_139_p_rew_0.01_start_10_dq_2\n"
     ]
    },
    {
     "name": "stderr",
     "output_type": "stream",
     "text": [
      "/home/aiyappa/anaconda3/lib/python3.7/site-packages/tables/path.py:112: NaturalNameWarning: object name is not a valid Python identifier: 'sim_139_p_rew_0.01_start_10_dq_2'; it does not match the pattern ``^[a-zA-Z_][a-zA-Z0-9_]*$``; you will not be able to use natural naming to access this object; using ``getattr()`` will still work, though\n",
      "  NaturalNameWarning)\n"
     ]
    },
    {
     "name": "stdout",
     "output_type": "stream",
     "text": [
      "(sim,lamb_da,p_rew,start,dose_quantity) =  (139, 0.01, 0.10000000000000002, 1, 0.1)\n",
      "{86}\n",
      "sim_139_p_rew_0.1_start_1_dq_0.1\n"
     ]
    },
    {
     "name": "stderr",
     "output_type": "stream",
     "text": [
      "/home/aiyappa/anaconda3/lib/python3.7/site-packages/tables/path.py:112: NaturalNameWarning: object name is not a valid Python identifier: 'sim_139_p_rew_0.1_start_1_dq_0.1'; it does not match the pattern ``^[a-zA-Z_][a-zA-Z0-9_]*$``; you will not be able to use natural naming to access this object; using ``getattr()`` will still work, though\n",
      "  NaturalNameWarning)\n"
     ]
    },
    {
     "name": "stdout",
     "output_type": "stream",
     "text": [
      "(sim,lamb_da,p_rew,start,dose_quantity) =  (139, 0.01, 0.10000000000000002, 1, 2)\n",
      "{21}\n",
      "sim_139_p_rew_0.1_start_1_dq_2\n"
     ]
    },
    {
     "name": "stderr",
     "output_type": "stream",
     "text": [
      "/home/aiyappa/anaconda3/lib/python3.7/site-packages/tables/path.py:112: NaturalNameWarning: object name is not a valid Python identifier: 'sim_139_p_rew_0.1_start_1_dq_2'; it does not match the pattern ``^[a-zA-Z_][a-zA-Z0-9_]*$``; you will not be able to use natural naming to access this object; using ``getattr()`` will still work, though\n",
      "  NaturalNameWarning)\n"
     ]
    },
    {
     "name": "stdout",
     "output_type": "stream",
     "text": [
      "(sim,lamb_da,p_rew,start,dose_quantity) =  (139, 0.01, 0.10000000000000002, 10, 0.1)\n",
      "{64, 36, 40, 9, 74, 11, 82, 85, 26, 61}\n",
      "sim_139_p_rew_0.1_start_10_dq_0.1\n"
     ]
    },
    {
     "name": "stderr",
     "output_type": "stream",
     "text": [
      "/home/aiyappa/anaconda3/lib/python3.7/site-packages/tables/path.py:112: NaturalNameWarning: object name is not a valid Python identifier: 'sim_139_p_rew_0.1_start_10_dq_0.1'; it does not match the pattern ``^[a-zA-Z_][a-zA-Z0-9_]*$``; you will not be able to use natural naming to access this object; using ``getattr()`` will still work, though\n",
      "  NaturalNameWarning)\n"
     ]
    },
    {
     "name": "stdout",
     "output_type": "stream",
     "text": [
      "(sim,lamb_da,p_rew,start,dose_quantity) =  (139, 0.01, 0.10000000000000002, 10, 2)\n",
      "{2, 35, 5, 8, 73, 91, 88, 27, 93, 94}\n",
      "sim_139_p_rew_0.1_start_10_dq_2\n"
     ]
    },
    {
     "name": "stderr",
     "output_type": "stream",
     "text": [
      "/home/aiyappa/anaconda3/lib/python3.7/site-packages/tables/path.py:112: NaturalNameWarning: object name is not a valid Python identifier: 'sim_139_p_rew_0.1_start_10_dq_2'; it does not match the pattern ``^[a-zA-Z_][a-zA-Z0-9_]*$``; you will not be able to use natural naming to access this object; using ``getattr()`` will still work, though\n",
      "  NaturalNameWarning)\n"
     ]
    },
    {
     "name": "stdout",
     "output_type": "stream",
     "text": [
      "(sim,lamb_da,p_rew,start,dose_quantity) =  (139, 0.10000000000000002, 1.0, 1, 0.1)\n",
      "{20}\n",
      "sim_139_p_rew_1_start_1_dq_0.1\n"
     ]
    },
    {
     "name": "stderr",
     "output_type": "stream",
     "text": [
      "/home/aiyappa/anaconda3/lib/python3.7/site-packages/tables/path.py:112: NaturalNameWarning: object name is not a valid Python identifier: 'sim_139_p_rew_1_start_1_dq_0.1'; it does not match the pattern ``^[a-zA-Z_][a-zA-Z0-9_]*$``; you will not be able to use natural naming to access this object; using ``getattr()`` will still work, though\n",
      "  NaturalNameWarning)\n"
     ]
    },
    {
     "name": "stdout",
     "output_type": "stream",
     "text": [
      "(sim,lamb_da,p_rew,start,dose_quantity) =  (139, 0.10000000000000002, 1.0, 1, 2)\n",
      "{16}\n",
      "sim_139_p_rew_1_start_1_dq_2\n",
      "(sim,lamb_da,p_rew,start,dose_quantity) =  (139, 0.10000000000000002, 1.0, 10, 0.1)\n",
      "Initial node infection step failed\n",
      "None\n",
      "Initial node infection step failed\n",
      "None\n",
      "{65, 37, 39, 71, 43, 76, 52, 25, 61, 62}\n",
      "sim_139_p_rew_1_start_10_dq_0.1\n"
     ]
    },
    {
     "name": "stderr",
     "output_type": "stream",
     "text": [
      "/home/aiyappa/anaconda3/lib/python3.7/site-packages/tables/path.py:112: NaturalNameWarning: object name is not a valid Python identifier: 'sim_139_p_rew_1_start_10_dq_0.1'; it does not match the pattern ``^[a-zA-Z_][a-zA-Z0-9_]*$``; you will not be able to use natural naming to access this object; using ``getattr()`` will still work, though\n",
      "  NaturalNameWarning)\n"
     ]
    },
    {
     "name": "stdout",
     "output_type": "stream",
     "text": [
      "(sim,lamb_da,p_rew,start,dose_quantity) =  (139, 0.10000000000000002, 1.0, 10, 2)\n",
      "{96, 99, 71, 73, 16, 20, 56, 88, 93, 63}\n",
      "sim_139_p_rew_1_start_10_dq_2\n",
      "(sim,lamb_da,p_rew,start,dose_quantity) =  (140, 0.001, 0.01, 1, 0.1)\n",
      "{35}\n",
      "sim_140_p_rew_0.01_start_1_dq_0.1\n"
     ]
    },
    {
     "name": "stderr",
     "output_type": "stream",
     "text": [
      "/home/aiyappa/anaconda3/lib/python3.7/site-packages/tables/path.py:112: NaturalNameWarning: object name is not a valid Python identifier: 'sim_140_p_rew_0.01_start_1_dq_0.1'; it does not match the pattern ``^[a-zA-Z_][a-zA-Z0-9_]*$``; you will not be able to use natural naming to access this object; using ``getattr()`` will still work, though\n",
      "  NaturalNameWarning)\n"
     ]
    },
    {
     "name": "stdout",
     "output_type": "stream",
     "text": [
      "(sim,lamb_da,p_rew,start,dose_quantity) =  (140, 0.001, 0.01, 1, 2)\n",
      "{56}\n",
      "sim_140_p_rew_0.01_start_1_dq_2\n"
     ]
    },
    {
     "name": "stderr",
     "output_type": "stream",
     "text": [
      "/home/aiyappa/anaconda3/lib/python3.7/site-packages/tables/path.py:112: NaturalNameWarning: object name is not a valid Python identifier: 'sim_140_p_rew_0.01_start_1_dq_2'; it does not match the pattern ``^[a-zA-Z_][a-zA-Z0-9_]*$``; you will not be able to use natural naming to access this object; using ``getattr()`` will still work, though\n",
      "  NaturalNameWarning)\n"
     ]
    },
    {
     "name": "stdout",
     "output_type": "stream",
     "text": [
      "(sim,lamb_da,p_rew,start,dose_quantity) =  (140, 0.001, 0.01, 10, 0.1)\n",
      "{2, 67, 39, 8, 79, 81, 22, 55, 27, 92}\n",
      "sim_140_p_rew_0.01_start_10_dq_0.1\n"
     ]
    },
    {
     "name": "stderr",
     "output_type": "stream",
     "text": [
      "/home/aiyappa/anaconda3/lib/python3.7/site-packages/tables/path.py:112: NaturalNameWarning: object name is not a valid Python identifier: 'sim_140_p_rew_0.01_start_10_dq_0.1'; it does not match the pattern ``^[a-zA-Z_][a-zA-Z0-9_]*$``; you will not be able to use natural naming to access this object; using ``getattr()`` will still work, though\n",
      "  NaturalNameWarning)\n"
     ]
    },
    {
     "name": "stdout",
     "output_type": "stream",
     "text": [
      "(sim,lamb_da,p_rew,start,dose_quantity) =  (140, 0.001, 0.01, 10, 2)\n",
      "{3, 42, 74, 16, 82, 21, 89, 92, 30, 63}\n",
      "sim_140_p_rew_0.01_start_10_dq_2\n"
     ]
    },
    {
     "name": "stderr",
     "output_type": "stream",
     "text": [
      "/home/aiyappa/anaconda3/lib/python3.7/site-packages/tables/path.py:112: NaturalNameWarning: object name is not a valid Python identifier: 'sim_140_p_rew_0.01_start_10_dq_2'; it does not match the pattern ``^[a-zA-Z_][a-zA-Z0-9_]*$``; you will not be able to use natural naming to access this object; using ``getattr()`` will still work, though\n",
      "  NaturalNameWarning)\n"
     ]
    },
    {
     "name": "stdout",
     "output_type": "stream",
     "text": [
      "(sim,lamb_da,p_rew,start,dose_quantity) =  (140, 0.01, 0.10000000000000002, 1, 0.1)\n",
      "{96}\n",
      "sim_140_p_rew_0.1_start_1_dq_0.1\n"
     ]
    },
    {
     "name": "stderr",
     "output_type": "stream",
     "text": [
      "/home/aiyappa/anaconda3/lib/python3.7/site-packages/tables/path.py:112: NaturalNameWarning: object name is not a valid Python identifier: 'sim_140_p_rew_0.1_start_1_dq_0.1'; it does not match the pattern ``^[a-zA-Z_][a-zA-Z0-9_]*$``; you will not be able to use natural naming to access this object; using ``getattr()`` will still work, though\n",
      "  NaturalNameWarning)\n"
     ]
    },
    {
     "name": "stdout",
     "output_type": "stream",
     "text": [
      "(sim,lamb_da,p_rew,start,dose_quantity) =  (140, 0.01, 0.10000000000000002, 1, 2)\n",
      "{84}\n",
      "sim_140_p_rew_0.1_start_1_dq_2\n"
     ]
    },
    {
     "name": "stderr",
     "output_type": "stream",
     "text": [
      "/home/aiyappa/anaconda3/lib/python3.7/site-packages/tables/path.py:112: NaturalNameWarning: object name is not a valid Python identifier: 'sim_140_p_rew_0.1_start_1_dq_2'; it does not match the pattern ``^[a-zA-Z_][a-zA-Z0-9_]*$``; you will not be able to use natural naming to access this object; using ``getattr()`` will still work, though\n",
      "  NaturalNameWarning)\n"
     ]
    },
    {
     "name": "stdout",
     "output_type": "stream",
     "text": [
      "(sim,lamb_da,p_rew,start,dose_quantity) =  (140, 0.01, 0.10000000000000002, 10, 0.1)\n",
      "{34, 59, 9, 13, 49, 84, 21, 86, 91, 94}\n",
      "sim_140_p_rew_0.1_start_10_dq_0.1\n"
     ]
    },
    {
     "name": "stderr",
     "output_type": "stream",
     "text": [
      "/home/aiyappa/anaconda3/lib/python3.7/site-packages/tables/path.py:112: NaturalNameWarning: object name is not a valid Python identifier: 'sim_140_p_rew_0.1_start_10_dq_0.1'; it does not match the pattern ``^[a-zA-Z_][a-zA-Z0-9_]*$``; you will not be able to use natural naming to access this object; using ``getattr()`` will still work, though\n",
      "  NaturalNameWarning)\n"
     ]
    },
    {
     "name": "stdout",
     "output_type": "stream",
     "text": [
      "(sim,lamb_da,p_rew,start,dose_quantity) =  (140, 0.01, 0.10000000000000002, 10, 2)\n",
      "{67, 90, 10, 13, 28, 19, 83, 23, 58, 92}\n",
      "sim_140_p_rew_0.1_start_10_dq_2\n"
     ]
    },
    {
     "name": "stderr",
     "output_type": "stream",
     "text": [
      "/home/aiyappa/anaconda3/lib/python3.7/site-packages/tables/path.py:112: NaturalNameWarning: object name is not a valid Python identifier: 'sim_140_p_rew_0.1_start_10_dq_2'; it does not match the pattern ``^[a-zA-Z_][a-zA-Z0-9_]*$``; you will not be able to use natural naming to access this object; using ``getattr()`` will still work, though\n",
      "  NaturalNameWarning)\n"
     ]
    },
    {
     "name": "stdout",
     "output_type": "stream",
     "text": [
      "(sim,lamb_da,p_rew,start,dose_quantity) =  (140, 0.10000000000000002, 1.0, 1, 0.1)\n",
      "{2}\n",
      "sim_140_p_rew_1_start_1_dq_0.1\n"
     ]
    },
    {
     "name": "stderr",
     "output_type": "stream",
     "text": [
      "/home/aiyappa/anaconda3/lib/python3.7/site-packages/tables/path.py:112: NaturalNameWarning: object name is not a valid Python identifier: 'sim_140_p_rew_1_start_1_dq_0.1'; it does not match the pattern ``^[a-zA-Z_][a-zA-Z0-9_]*$``; you will not be able to use natural naming to access this object; using ``getattr()`` will still work, though\n",
      "  NaturalNameWarning)\n"
     ]
    },
    {
     "name": "stdout",
     "output_type": "stream",
     "text": [
      "(sim,lamb_da,p_rew,start,dose_quantity) =  (140, 0.10000000000000002, 1.0, 1, 2)\n",
      "{33}\n",
      "sim_140_p_rew_1_start_1_dq_2\n",
      "(sim,lamb_da,p_rew,start,dose_quantity) =  (140, 0.10000000000000002, 1.0, 10, 0.1)\n",
      "{64, 65, 33, 43, 15, 48, 51, 85, 54, 55}\n",
      "sim_140_p_rew_1_start_10_dq_0.1\n"
     ]
    },
    {
     "name": "stderr",
     "output_type": "stream",
     "text": [
      "/home/aiyappa/anaconda3/lib/python3.7/site-packages/tables/path.py:112: NaturalNameWarning: object name is not a valid Python identifier: 'sim_140_p_rew_1_start_10_dq_0.1'; it does not match the pattern ``^[a-zA-Z_][a-zA-Z0-9_]*$``; you will not be able to use natural naming to access this object; using ``getattr()`` will still work, though\n",
      "  NaturalNameWarning)\n"
     ]
    },
    {
     "name": "stdout",
     "output_type": "stream",
     "text": [
      "(sim,lamb_da,p_rew,start,dose_quantity) =  (140, 0.10000000000000002, 1.0, 10, 2)\n",
      "{34, 2, 8, 10, 51, 52, 57, 91, 61, 63}\n",
      "sim_140_p_rew_1_start_10_dq_2\n",
      "(sim,lamb_da,p_rew,start,dose_quantity) =  (141, 0.001, 0.01, 1, 0.1)\n",
      "{67}\n",
      "sim_141_p_rew_0.01_start_1_dq_0.1\n"
     ]
    },
    {
     "name": "stderr",
     "output_type": "stream",
     "text": [
      "/home/aiyappa/anaconda3/lib/python3.7/site-packages/tables/path.py:112: NaturalNameWarning: object name is not a valid Python identifier: 'sim_141_p_rew_0.01_start_1_dq_0.1'; it does not match the pattern ``^[a-zA-Z_][a-zA-Z0-9_]*$``; you will not be able to use natural naming to access this object; using ``getattr()`` will still work, though\n",
      "  NaturalNameWarning)\n"
     ]
    },
    {
     "name": "stdout",
     "output_type": "stream",
     "text": [
      "(sim,lamb_da,p_rew,start,dose_quantity) =  (141, 0.001, 0.01, 1, 2)\n",
      "{47}\n",
      "sim_141_p_rew_0.01_start_1_dq_2\n"
     ]
    },
    {
     "name": "stderr",
     "output_type": "stream",
     "text": [
      "/home/aiyappa/anaconda3/lib/python3.7/site-packages/tables/path.py:112: NaturalNameWarning: object name is not a valid Python identifier: 'sim_141_p_rew_0.01_start_1_dq_2'; it does not match the pattern ``^[a-zA-Z_][a-zA-Z0-9_]*$``; you will not be able to use natural naming to access this object; using ``getattr()`` will still work, though\n",
      "  NaturalNameWarning)\n"
     ]
    },
    {
     "name": "stdout",
     "output_type": "stream",
     "text": [
      "(sim,lamb_da,p_rew,start,dose_quantity) =  (141, 0.001, 0.01, 10, 0.1)\n",
      "{42, 11, 76, 21, 86, 53, 56, 26, 60, 94}\n",
      "sim_141_p_rew_0.01_start_10_dq_0.1\n"
     ]
    },
    {
     "name": "stderr",
     "output_type": "stream",
     "text": [
      "/home/aiyappa/anaconda3/lib/python3.7/site-packages/tables/path.py:112: NaturalNameWarning: object name is not a valid Python identifier: 'sim_141_p_rew_0.01_start_10_dq_0.1'; it does not match the pattern ``^[a-zA-Z_][a-zA-Z0-9_]*$``; you will not be able to use natural naming to access this object; using ``getattr()`` will still work, though\n",
      "  NaturalNameWarning)\n"
     ]
    },
    {
     "name": "stdout",
     "output_type": "stream",
     "text": [
      "(sim,lamb_da,p_rew,start,dose_quantity) =  (141, 0.001, 0.01, 10, 2)\n",
      "{0, 98, 35, 4, 13, 79, 48, 83, 26, 28}\n",
      "sim_141_p_rew_0.01_start_10_dq_2\n"
     ]
    },
    {
     "name": "stderr",
     "output_type": "stream",
     "text": [
      "/home/aiyappa/anaconda3/lib/python3.7/site-packages/tables/path.py:112: NaturalNameWarning: object name is not a valid Python identifier: 'sim_141_p_rew_0.01_start_10_dq_2'; it does not match the pattern ``^[a-zA-Z_][a-zA-Z0-9_]*$``; you will not be able to use natural naming to access this object; using ``getattr()`` will still work, though\n",
      "  NaturalNameWarning)\n"
     ]
    },
    {
     "name": "stdout",
     "output_type": "stream",
     "text": [
      "(sim,lamb_da,p_rew,start,dose_quantity) =  (141, 0.01, 0.10000000000000002, 1, 0.1)\n",
      "{31}\n",
      "sim_141_p_rew_0.1_start_1_dq_0.1\n"
     ]
    },
    {
     "name": "stderr",
     "output_type": "stream",
     "text": [
      "/home/aiyappa/anaconda3/lib/python3.7/site-packages/tables/path.py:112: NaturalNameWarning: object name is not a valid Python identifier: 'sim_141_p_rew_0.1_start_1_dq_0.1'; it does not match the pattern ``^[a-zA-Z_][a-zA-Z0-9_]*$``; you will not be able to use natural naming to access this object; using ``getattr()`` will still work, though\n",
      "  NaturalNameWarning)\n"
     ]
    },
    {
     "name": "stdout",
     "output_type": "stream",
     "text": [
      "(sim,lamb_da,p_rew,start,dose_quantity) =  (141, 0.01, 0.10000000000000002, 1, 2)\n",
      "{21}\n",
      "sim_141_p_rew_0.1_start_1_dq_2\n"
     ]
    },
    {
     "name": "stderr",
     "output_type": "stream",
     "text": [
      "/home/aiyappa/anaconda3/lib/python3.7/site-packages/tables/path.py:112: NaturalNameWarning: object name is not a valid Python identifier: 'sim_141_p_rew_0.1_start_1_dq_2'; it does not match the pattern ``^[a-zA-Z_][a-zA-Z0-9_]*$``; you will not be able to use natural naming to access this object; using ``getattr()`` will still work, though\n",
      "  NaturalNameWarning)\n"
     ]
    },
    {
     "name": "stdout",
     "output_type": "stream",
     "text": [
      "(sim,lamb_da,p_rew,start,dose_quantity) =  (141, 0.01, 0.10000000000000002, 10, 0.1)\n",
      "{34, 99, 41, 47, 17, 21, 85, 56, 94, 31}\n",
      "sim_141_p_rew_0.1_start_10_dq_0.1\n"
     ]
    },
    {
     "name": "stderr",
     "output_type": "stream",
     "text": [
      "/home/aiyappa/anaconda3/lib/python3.7/site-packages/tables/path.py:112: NaturalNameWarning: object name is not a valid Python identifier: 'sim_141_p_rew_0.1_start_10_dq_0.1'; it does not match the pattern ``^[a-zA-Z_][a-zA-Z0-9_]*$``; you will not be able to use natural naming to access this object; using ``getattr()`` will still work, though\n",
      "  NaturalNameWarning)\n"
     ]
    },
    {
     "name": "stdout",
     "output_type": "stream",
     "text": [
      "(sim,lamb_da,p_rew,start,dose_quantity) =  (141, 0.01, 0.10000000000000002, 10, 2)\n",
      "{64, 98, 69, 74, 15, 48, 89, 26, 60, 57}\n",
      "sim_141_p_rew_0.1_start_10_dq_2\n"
     ]
    },
    {
     "name": "stderr",
     "output_type": "stream",
     "text": [
      "/home/aiyappa/anaconda3/lib/python3.7/site-packages/tables/path.py:112: NaturalNameWarning: object name is not a valid Python identifier: 'sim_141_p_rew_0.1_start_10_dq_2'; it does not match the pattern ``^[a-zA-Z_][a-zA-Z0-9_]*$``; you will not be able to use natural naming to access this object; using ``getattr()`` will still work, though\n",
      "  NaturalNameWarning)\n"
     ]
    },
    {
     "name": "stdout",
     "output_type": "stream",
     "text": [
      "(sim,lamb_da,p_rew,start,dose_quantity) =  (141, 0.10000000000000002, 1.0, 1, 0.1)\n",
      "{14}\n",
      "sim_141_p_rew_1_start_1_dq_0.1\n"
     ]
    },
    {
     "name": "stderr",
     "output_type": "stream",
     "text": [
      "/home/aiyappa/anaconda3/lib/python3.7/site-packages/tables/path.py:112: NaturalNameWarning: object name is not a valid Python identifier: 'sim_141_p_rew_1_start_1_dq_0.1'; it does not match the pattern ``^[a-zA-Z_][a-zA-Z0-9_]*$``; you will not be able to use natural naming to access this object; using ``getattr()`` will still work, though\n",
      "  NaturalNameWarning)\n"
     ]
    },
    {
     "name": "stdout",
     "output_type": "stream",
     "text": [
      "(sim,lamb_da,p_rew,start,dose_quantity) =  (141, 0.10000000000000002, 1.0, 1, 2)\n",
      "{26}\n",
      "sim_141_p_rew_1_start_1_dq_2\n",
      "(sim,lamb_da,p_rew,start,dose_quantity) =  (141, 0.10000000000000002, 1.0, 10, 0.1)\n",
      "Initial node infection step failed\n",
      "None\n",
      "Initial node infection step failed\n",
      "None\n",
      "{1, 69, 70, 39, 43, 44, 50, 51, 22, 59}\n",
      "sim_141_p_rew_1_start_10_dq_0.1\n"
     ]
    },
    {
     "name": "stderr",
     "output_type": "stream",
     "text": [
      "/home/aiyappa/anaconda3/lib/python3.7/site-packages/tables/path.py:112: NaturalNameWarning: object name is not a valid Python identifier: 'sim_141_p_rew_1_start_10_dq_0.1'; it does not match the pattern ``^[a-zA-Z_][a-zA-Z0-9_]*$``; you will not be able to use natural naming to access this object; using ``getattr()`` will still work, though\n",
      "  NaturalNameWarning)\n"
     ]
    },
    {
     "name": "stdout",
     "output_type": "stream",
     "text": [
      "(sim,lamb_da,p_rew,start,dose_quantity) =  (141, 0.10000000000000002, 1.0, 10, 2)\n",
      "{0, 36, 72, 27, 10, 77, 45, 53, 91, 94}\n",
      "sim_141_p_rew_1_start_10_dq_2\n",
      "(sim,lamb_da,p_rew,start,dose_quantity) =  (142, 0.001, 0.01, 1, 0.1)\n",
      "{10}\n",
      "sim_142_p_rew_0.01_start_1_dq_0.1\n"
     ]
    },
    {
     "name": "stderr",
     "output_type": "stream",
     "text": [
      "/home/aiyappa/anaconda3/lib/python3.7/site-packages/tables/path.py:112: NaturalNameWarning: object name is not a valid Python identifier: 'sim_142_p_rew_0.01_start_1_dq_0.1'; it does not match the pattern ``^[a-zA-Z_][a-zA-Z0-9_]*$``; you will not be able to use natural naming to access this object; using ``getattr()`` will still work, though\n",
      "  NaturalNameWarning)\n"
     ]
    },
    {
     "name": "stdout",
     "output_type": "stream",
     "text": [
      "(sim,lamb_da,p_rew,start,dose_quantity) =  (142, 0.001, 0.01, 1, 2)\n",
      "{4}\n",
      "sim_142_p_rew_0.01_start_1_dq_2\n"
     ]
    },
    {
     "name": "stderr",
     "output_type": "stream",
     "text": [
      "/home/aiyappa/anaconda3/lib/python3.7/site-packages/tables/path.py:112: NaturalNameWarning: object name is not a valid Python identifier: 'sim_142_p_rew_0.01_start_1_dq_2'; it does not match the pattern ``^[a-zA-Z_][a-zA-Z0-9_]*$``; you will not be able to use natural naming to access this object; using ``getattr()`` will still work, though\n",
      "  NaturalNameWarning)\n"
     ]
    },
    {
     "name": "stdout",
     "output_type": "stream",
     "text": [
      "(sim,lamb_da,p_rew,start,dose_quantity) =  (142, 0.001, 0.01, 10, 0.1)\n",
      "{66, 40, 43, 76, 12, 14, 50, 51, 58, 92}\n",
      "sim_142_p_rew_0.01_start_10_dq_0.1\n"
     ]
    },
    {
     "name": "stderr",
     "output_type": "stream",
     "text": [
      "/home/aiyappa/anaconda3/lib/python3.7/site-packages/tables/path.py:112: NaturalNameWarning: object name is not a valid Python identifier: 'sim_142_p_rew_0.01_start_10_dq_0.1'; it does not match the pattern ``^[a-zA-Z_][a-zA-Z0-9_]*$``; you will not be able to use natural naming to access this object; using ``getattr()`` will still work, though\n",
      "  NaturalNameWarning)\n"
     ]
    },
    {
     "name": "stdout",
     "output_type": "stream",
     "text": [
      "(sim,lamb_da,p_rew,start,dose_quantity) =  (142, 0.001, 0.01, 10, 2)\n",
      "{98, 99, 8, 73, 45, 54, 24, 90, 92, 94}\n",
      "sim_142_p_rew_0.01_start_10_dq_2\n"
     ]
    },
    {
     "name": "stderr",
     "output_type": "stream",
     "text": [
      "/home/aiyappa/anaconda3/lib/python3.7/site-packages/tables/path.py:112: NaturalNameWarning: object name is not a valid Python identifier: 'sim_142_p_rew_0.01_start_10_dq_2'; it does not match the pattern ``^[a-zA-Z_][a-zA-Z0-9_]*$``; you will not be able to use natural naming to access this object; using ``getattr()`` will still work, though\n",
      "  NaturalNameWarning)\n"
     ]
    },
    {
     "name": "stdout",
     "output_type": "stream",
     "text": [
      "(sim,lamb_da,p_rew,start,dose_quantity) =  (142, 0.01, 0.10000000000000002, 1, 0.1)\n",
      "{36}\n",
      "sim_142_p_rew_0.1_start_1_dq_0.1\n"
     ]
    },
    {
     "name": "stderr",
     "output_type": "stream",
     "text": [
      "/home/aiyappa/anaconda3/lib/python3.7/site-packages/tables/path.py:112: NaturalNameWarning: object name is not a valid Python identifier: 'sim_142_p_rew_0.1_start_1_dq_0.1'; it does not match the pattern ``^[a-zA-Z_][a-zA-Z0-9_]*$``; you will not be able to use natural naming to access this object; using ``getattr()`` will still work, though\n",
      "  NaturalNameWarning)\n"
     ]
    },
    {
     "name": "stdout",
     "output_type": "stream",
     "text": [
      "(sim,lamb_da,p_rew,start,dose_quantity) =  (142, 0.01, 0.10000000000000002, 1, 2)\n",
      "{13}\n",
      "sim_142_p_rew_0.1_start_1_dq_2\n"
     ]
    },
    {
     "name": "stderr",
     "output_type": "stream",
     "text": [
      "/home/aiyappa/anaconda3/lib/python3.7/site-packages/tables/path.py:112: NaturalNameWarning: object name is not a valid Python identifier: 'sim_142_p_rew_0.1_start_1_dq_2'; it does not match the pattern ``^[a-zA-Z_][a-zA-Z0-9_]*$``; you will not be able to use natural naming to access this object; using ``getattr()`` will still work, though\n",
      "  NaturalNameWarning)\n"
     ]
    },
    {
     "name": "stdout",
     "output_type": "stream",
     "text": [
      "(sim,lamb_da,p_rew,start,dose_quantity) =  (142, 0.01, 0.10000000000000002, 10, 0.1)\n",
      "{32, 73, 45, 15, 48, 84, 89, 27, 61, 31}\n",
      "sim_142_p_rew_0.1_start_10_dq_0.1\n"
     ]
    },
    {
     "name": "stderr",
     "output_type": "stream",
     "text": [
      "/home/aiyappa/anaconda3/lib/python3.7/site-packages/tables/path.py:112: NaturalNameWarning: object name is not a valid Python identifier: 'sim_142_p_rew_0.1_start_10_dq_0.1'; it does not match the pattern ``^[a-zA-Z_][a-zA-Z0-9_]*$``; you will not be able to use natural naming to access this object; using ``getattr()`` will still work, though\n",
      "  NaturalNameWarning)\n"
     ]
    },
    {
     "name": "stdout",
     "output_type": "stream",
     "text": [
      "(sim,lamb_da,p_rew,start,dose_quantity) =  (142, 0.01, 0.10000000000000002, 10, 2)\n",
      "{96, 0, 98, 97, 72, 82, 53, 88, 60, 29}\n",
      "sim_142_p_rew_0.1_start_10_dq_2\n"
     ]
    },
    {
     "name": "stderr",
     "output_type": "stream",
     "text": [
      "/home/aiyappa/anaconda3/lib/python3.7/site-packages/tables/path.py:112: NaturalNameWarning: object name is not a valid Python identifier: 'sim_142_p_rew_0.1_start_10_dq_2'; it does not match the pattern ``^[a-zA-Z_][a-zA-Z0-9_]*$``; you will not be able to use natural naming to access this object; using ``getattr()`` will still work, though\n",
      "  NaturalNameWarning)\n"
     ]
    },
    {
     "name": "stdout",
     "output_type": "stream",
     "text": [
      "(sim,lamb_da,p_rew,start,dose_quantity) =  (142, 0.10000000000000002, 1.0, 1, 0.1)\n",
      "{81}\n",
      "sim_142_p_rew_1_start_1_dq_0.1\n"
     ]
    },
    {
     "name": "stderr",
     "output_type": "stream",
     "text": [
      "/home/aiyappa/anaconda3/lib/python3.7/site-packages/tables/path.py:112: NaturalNameWarning: object name is not a valid Python identifier: 'sim_142_p_rew_1_start_1_dq_0.1'; it does not match the pattern ``^[a-zA-Z_][a-zA-Z0-9_]*$``; you will not be able to use natural naming to access this object; using ``getattr()`` will still work, though\n",
      "  NaturalNameWarning)\n"
     ]
    },
    {
     "name": "stdout",
     "output_type": "stream",
     "text": [
      "(sim,lamb_da,p_rew,start,dose_quantity) =  (142, 0.10000000000000002, 1.0, 1, 2)\n",
      "{29}\n",
      "sim_142_p_rew_1_start_1_dq_2\n",
      "(sim,lamb_da,p_rew,start,dose_quantity) =  (142, 0.10000000000000002, 1.0, 10, 0.1)\n",
      "Initial node infection step failed\n",
      "None\n",
      "{66, 36, 5, 6, 71, 75, 12, 45, 14, 79}\n",
      "sim_142_p_rew_1_start_10_dq_0.1\n"
     ]
    },
    {
     "name": "stderr",
     "output_type": "stream",
     "text": [
      "/home/aiyappa/anaconda3/lib/python3.7/site-packages/tables/path.py:112: NaturalNameWarning: object name is not a valid Python identifier: 'sim_142_p_rew_1_start_10_dq_0.1'; it does not match the pattern ``^[a-zA-Z_][a-zA-Z0-9_]*$``; you will not be able to use natural naming to access this object; using ``getattr()`` will still work, though\n",
      "  NaturalNameWarning)\n"
     ]
    },
    {
     "name": "stdout",
     "output_type": "stream",
     "text": [
      "(sim,lamb_da,p_rew,start,dose_quantity) =  (142, 0.10000000000000002, 1.0, 10, 2)\n",
      "{66, 2, 71, 8, 43, 83, 85, 22, 59, 29}\n",
      "sim_142_p_rew_1_start_10_dq_2\n",
      "(sim,lamb_da,p_rew,start,dose_quantity) =  (143, 0.001, 0.01, 1, 0.1)\n",
      "{79}\n",
      "sim_143_p_rew_0.01_start_1_dq_0.1\n"
     ]
    },
    {
     "name": "stderr",
     "output_type": "stream",
     "text": [
      "/home/aiyappa/anaconda3/lib/python3.7/site-packages/tables/path.py:112: NaturalNameWarning: object name is not a valid Python identifier: 'sim_143_p_rew_0.01_start_1_dq_0.1'; it does not match the pattern ``^[a-zA-Z_][a-zA-Z0-9_]*$``; you will not be able to use natural naming to access this object; using ``getattr()`` will still work, though\n",
      "  NaturalNameWarning)\n"
     ]
    },
    {
     "name": "stdout",
     "output_type": "stream",
     "text": [
      "(sim,lamb_da,p_rew,start,dose_quantity) =  (143, 0.001, 0.01, 1, 2)\n",
      "{42}\n",
      "sim_143_p_rew_0.01_start_1_dq_2\n"
     ]
    },
    {
     "name": "stderr",
     "output_type": "stream",
     "text": [
      "/home/aiyappa/anaconda3/lib/python3.7/site-packages/tables/path.py:112: NaturalNameWarning: object name is not a valid Python identifier: 'sim_143_p_rew_0.01_start_1_dq_2'; it does not match the pattern ``^[a-zA-Z_][a-zA-Z0-9_]*$``; you will not be able to use natural naming to access this object; using ``getattr()`` will still work, though\n",
      "  NaturalNameWarning)\n"
     ]
    },
    {
     "name": "stdout",
     "output_type": "stream",
     "text": [
      "(sim,lamb_da,p_rew,start,dose_quantity) =  (143, 0.001, 0.01, 10, 0.1)\n",
      "{32, 33, 97, 99, 8, 13, 78, 25, 94, 63}\n",
      "sim_143_p_rew_0.01_start_10_dq_0.1\n"
     ]
    },
    {
     "name": "stderr",
     "output_type": "stream",
     "text": [
      "/home/aiyappa/anaconda3/lib/python3.7/site-packages/tables/path.py:112: NaturalNameWarning: object name is not a valid Python identifier: 'sim_143_p_rew_0.01_start_10_dq_0.1'; it does not match the pattern ``^[a-zA-Z_][a-zA-Z0-9_]*$``; you will not be able to use natural naming to access this object; using ``getattr()`` will still work, though\n",
      "  NaturalNameWarning)\n"
     ]
    },
    {
     "name": "stdout",
     "output_type": "stream",
     "text": [
      "(sim,lamb_da,p_rew,start,dose_quantity) =  (143, 0.001, 0.01, 10, 2)\n",
      "{65, 98, 66, 68, 5, 15, 83, 51, 84, 86}\n",
      "sim_143_p_rew_0.01_start_10_dq_2\n"
     ]
    },
    {
     "name": "stderr",
     "output_type": "stream",
     "text": [
      "/home/aiyappa/anaconda3/lib/python3.7/site-packages/tables/path.py:112: NaturalNameWarning: object name is not a valid Python identifier: 'sim_143_p_rew_0.01_start_10_dq_2'; it does not match the pattern ``^[a-zA-Z_][a-zA-Z0-9_]*$``; you will not be able to use natural naming to access this object; using ``getattr()`` will still work, though\n",
      "  NaturalNameWarning)\n"
     ]
    },
    {
     "name": "stdout",
     "output_type": "stream",
     "text": [
      "(sim,lamb_da,p_rew,start,dose_quantity) =  (143, 0.01, 0.10000000000000002, 1, 0.1)\n",
      "{21}\n",
      "sim_143_p_rew_0.1_start_1_dq_0.1\n"
     ]
    },
    {
     "name": "stderr",
     "output_type": "stream",
     "text": [
      "/home/aiyappa/anaconda3/lib/python3.7/site-packages/tables/path.py:112: NaturalNameWarning: object name is not a valid Python identifier: 'sim_143_p_rew_0.1_start_1_dq_0.1'; it does not match the pattern ``^[a-zA-Z_][a-zA-Z0-9_]*$``; you will not be able to use natural naming to access this object; using ``getattr()`` will still work, though\n",
      "  NaturalNameWarning)\n"
     ]
    },
    {
     "name": "stdout",
     "output_type": "stream",
     "text": [
      "(sim,lamb_da,p_rew,start,dose_quantity) =  (143, 0.01, 0.10000000000000002, 1, 2)\n",
      "{63}\n",
      "sim_143_p_rew_0.1_start_1_dq_2\n"
     ]
    },
    {
     "name": "stderr",
     "output_type": "stream",
     "text": [
      "/home/aiyappa/anaconda3/lib/python3.7/site-packages/tables/path.py:112: NaturalNameWarning: object name is not a valid Python identifier: 'sim_143_p_rew_0.1_start_1_dq_2'; it does not match the pattern ``^[a-zA-Z_][a-zA-Z0-9_]*$``; you will not be able to use natural naming to access this object; using ``getattr()`` will still work, though\n",
      "  NaturalNameWarning)\n"
     ]
    },
    {
     "name": "stdout",
     "output_type": "stream",
     "text": [
      "(sim,lamb_da,p_rew,start,dose_quantity) =  (143, 0.01, 0.10000000000000002, 10, 0.1)\n",
      "{2, 67, 42, 45, 15, 17, 82, 83, 28, 31}\n",
      "sim_143_p_rew_0.1_start_10_dq_0.1\n"
     ]
    },
    {
     "name": "stderr",
     "output_type": "stream",
     "text": [
      "/home/aiyappa/anaconda3/lib/python3.7/site-packages/tables/path.py:112: NaturalNameWarning: object name is not a valid Python identifier: 'sim_143_p_rew_0.1_start_10_dq_0.1'; it does not match the pattern ``^[a-zA-Z_][a-zA-Z0-9_]*$``; you will not be able to use natural naming to access this object; using ``getattr()`` will still work, though\n",
      "  NaturalNameWarning)\n"
     ]
    },
    {
     "name": "stdout",
     "output_type": "stream",
     "text": [
      "(sim,lamb_da,p_rew,start,dose_quantity) =  (143, 0.01, 0.10000000000000002, 10, 2)\n",
      "{36, 38, 73, 9, 13, 80, 81, 20, 54, 94}\n",
      "sim_143_p_rew_0.1_start_10_dq_2\n"
     ]
    },
    {
     "name": "stderr",
     "output_type": "stream",
     "text": [
      "/home/aiyappa/anaconda3/lib/python3.7/site-packages/tables/path.py:112: NaturalNameWarning: object name is not a valid Python identifier: 'sim_143_p_rew_0.1_start_10_dq_2'; it does not match the pattern ``^[a-zA-Z_][a-zA-Z0-9_]*$``; you will not be able to use natural naming to access this object; using ``getattr()`` will still work, though\n",
      "  NaturalNameWarning)\n"
     ]
    },
    {
     "name": "stdout",
     "output_type": "stream",
     "text": [
      "(sim,lamb_da,p_rew,start,dose_quantity) =  (143, 0.10000000000000002, 1.0, 1, 0.1)\n",
      "{81}\n",
      "sim_143_p_rew_1_start_1_dq_0.1\n"
     ]
    },
    {
     "name": "stderr",
     "output_type": "stream",
     "text": [
      "/home/aiyappa/anaconda3/lib/python3.7/site-packages/tables/path.py:112: NaturalNameWarning: object name is not a valid Python identifier: 'sim_143_p_rew_1_start_1_dq_0.1'; it does not match the pattern ``^[a-zA-Z_][a-zA-Z0-9_]*$``; you will not be able to use natural naming to access this object; using ``getattr()`` will still work, though\n",
      "  NaturalNameWarning)\n"
     ]
    },
    {
     "name": "stdout",
     "output_type": "stream",
     "text": [
      "(sim,lamb_da,p_rew,start,dose_quantity) =  (143, 0.10000000000000002, 1.0, 1, 2)\n",
      "{6}\n",
      "sim_143_p_rew_1_start_1_dq_2\n",
      "(sim,lamb_da,p_rew,start,dose_quantity) =  (143, 0.10000000000000002, 1.0, 10, 0.1)\n",
      "{32, 70, 8, 10, 46, 48, 49, 55, 91, 94}\n",
      "sim_143_p_rew_1_start_10_dq_0.1\n"
     ]
    },
    {
     "name": "stderr",
     "output_type": "stream",
     "text": [
      "/home/aiyappa/anaconda3/lib/python3.7/site-packages/tables/path.py:112: NaturalNameWarning: object name is not a valid Python identifier: 'sim_143_p_rew_1_start_10_dq_0.1'; it does not match the pattern ``^[a-zA-Z_][a-zA-Z0-9_]*$``; you will not be able to use natural naming to access this object; using ``getattr()`` will still work, though\n",
      "  NaturalNameWarning)\n"
     ]
    },
    {
     "name": "stdout",
     "output_type": "stream",
     "text": [
      "(sim,lamb_da,p_rew,start,dose_quantity) =  (143, 0.10000000000000002, 1.0, 10, 2)\n",
      "{97, 7, 73, 10, 79, 83, 87, 88, 25, 92}\n",
      "sim_143_p_rew_1_start_10_dq_2\n",
      "(sim,lamb_da,p_rew,start,dose_quantity) =  (144, 0.001, 0.01, 1, 0.1)\n",
      "{63}\n",
      "sim_144_p_rew_0.01_start_1_dq_0.1\n"
     ]
    },
    {
     "name": "stderr",
     "output_type": "stream",
     "text": [
      "/home/aiyappa/anaconda3/lib/python3.7/site-packages/tables/path.py:112: NaturalNameWarning: object name is not a valid Python identifier: 'sim_144_p_rew_0.01_start_1_dq_0.1'; it does not match the pattern ``^[a-zA-Z_][a-zA-Z0-9_]*$``; you will not be able to use natural naming to access this object; using ``getattr()`` will still work, though\n",
      "  NaturalNameWarning)\n"
     ]
    },
    {
     "name": "stdout",
     "output_type": "stream",
     "text": [
      "(sim,lamb_da,p_rew,start,dose_quantity) =  (144, 0.001, 0.01, 1, 2)\n",
      "{87}\n",
      "sim_144_p_rew_0.01_start_1_dq_2\n"
     ]
    },
    {
     "name": "stderr",
     "output_type": "stream",
     "text": [
      "/home/aiyappa/anaconda3/lib/python3.7/site-packages/tables/path.py:112: NaturalNameWarning: object name is not a valid Python identifier: 'sim_144_p_rew_0.01_start_1_dq_2'; it does not match the pattern ``^[a-zA-Z_][a-zA-Z0-9_]*$``; you will not be able to use natural naming to access this object; using ``getattr()`` will still work, though\n",
      "  NaturalNameWarning)\n"
     ]
    },
    {
     "name": "stdout",
     "output_type": "stream",
     "text": [
      "(sim,lamb_da,p_rew,start,dose_quantity) =  (144, 0.001, 0.01, 10, 0.1)\n",
      "{64, 65, 32, 3, 69, 39, 72, 14, 58, 61}\n",
      "sim_144_p_rew_0.01_start_10_dq_0.1\n"
     ]
    },
    {
     "name": "stderr",
     "output_type": "stream",
     "text": [
      "/home/aiyappa/anaconda3/lib/python3.7/site-packages/tables/path.py:112: NaturalNameWarning: object name is not a valid Python identifier: 'sim_144_p_rew_0.01_start_10_dq_0.1'; it does not match the pattern ``^[a-zA-Z_][a-zA-Z0-9_]*$``; you will not be able to use natural naming to access this object; using ``getattr()`` will still work, though\n",
      "  NaturalNameWarning)\n"
     ]
    },
    {
     "name": "stdout",
     "output_type": "stream",
     "text": [
      "(sim,lamb_da,p_rew,start,dose_quantity) =  (144, 0.001, 0.01, 10, 2)\n",
      "{70, 71, 76, 48, 81, 18, 53, 89, 58, 29}\n",
      "sim_144_p_rew_0.01_start_10_dq_2\n"
     ]
    },
    {
     "name": "stderr",
     "output_type": "stream",
     "text": [
      "/home/aiyappa/anaconda3/lib/python3.7/site-packages/tables/path.py:112: NaturalNameWarning: object name is not a valid Python identifier: 'sim_144_p_rew_0.01_start_10_dq_2'; it does not match the pattern ``^[a-zA-Z_][a-zA-Z0-9_]*$``; you will not be able to use natural naming to access this object; using ``getattr()`` will still work, though\n",
      "  NaturalNameWarning)\n"
     ]
    },
    {
     "name": "stdout",
     "output_type": "stream",
     "text": [
      "(sim,lamb_da,p_rew,start,dose_quantity) =  (144, 0.01, 0.10000000000000002, 1, 0.1)\n",
      "{40}\n",
      "sim_144_p_rew_0.1_start_1_dq_0.1\n"
     ]
    },
    {
     "name": "stderr",
     "output_type": "stream",
     "text": [
      "/home/aiyappa/anaconda3/lib/python3.7/site-packages/tables/path.py:112: NaturalNameWarning: object name is not a valid Python identifier: 'sim_144_p_rew_0.1_start_1_dq_0.1'; it does not match the pattern ``^[a-zA-Z_][a-zA-Z0-9_]*$``; you will not be able to use natural naming to access this object; using ``getattr()`` will still work, though\n",
      "  NaturalNameWarning)\n"
     ]
    },
    {
     "name": "stdout",
     "output_type": "stream",
     "text": [
      "(sim,lamb_da,p_rew,start,dose_quantity) =  (144, 0.01, 0.10000000000000002, 1, 2)\n",
      "{50}\n",
      "sim_144_p_rew_0.1_start_1_dq_2\n"
     ]
    },
    {
     "name": "stderr",
     "output_type": "stream",
     "text": [
      "/home/aiyappa/anaconda3/lib/python3.7/site-packages/tables/path.py:112: NaturalNameWarning: object name is not a valid Python identifier: 'sim_144_p_rew_0.1_start_1_dq_2'; it does not match the pattern ``^[a-zA-Z_][a-zA-Z0-9_]*$``; you will not be able to use natural naming to access this object; using ``getattr()`` will still work, though\n",
      "  NaturalNameWarning)\n"
     ]
    },
    {
     "name": "stdout",
     "output_type": "stream",
     "text": [
      "(sim,lamb_da,p_rew,start,dose_quantity) =  (144, 0.01, 0.10000000000000002, 10, 0.1)\n",
      "{96, 37, 9, 42, 43, 78, 22, 55, 56, 57}\n",
      "sim_144_p_rew_0.1_start_10_dq_0.1\n"
     ]
    },
    {
     "name": "stderr",
     "output_type": "stream",
     "text": [
      "/home/aiyappa/anaconda3/lib/python3.7/site-packages/tables/path.py:112: NaturalNameWarning: object name is not a valid Python identifier: 'sim_144_p_rew_0.1_start_10_dq_0.1'; it does not match the pattern ``^[a-zA-Z_][a-zA-Z0-9_]*$``; you will not be able to use natural naming to access this object; using ``getattr()`` will still work, though\n",
      "  NaturalNameWarning)\n"
     ]
    },
    {
     "name": "stdout",
     "output_type": "stream",
     "text": [
      "(sim,lamb_da,p_rew,start,dose_quantity) =  (144, 0.01, 0.10000000000000002, 10, 2)\n",
      "{66, 42, 75, 45, 18, 52, 25, 26, 30, 95}\n",
      "sim_144_p_rew_0.1_start_10_dq_2\n"
     ]
    },
    {
     "name": "stderr",
     "output_type": "stream",
     "text": [
      "/home/aiyappa/anaconda3/lib/python3.7/site-packages/tables/path.py:112: NaturalNameWarning: object name is not a valid Python identifier: 'sim_144_p_rew_0.1_start_10_dq_2'; it does not match the pattern ``^[a-zA-Z_][a-zA-Z0-9_]*$``; you will not be able to use natural naming to access this object; using ``getattr()`` will still work, though\n",
      "  NaturalNameWarning)\n"
     ]
    },
    {
     "name": "stdout",
     "output_type": "stream",
     "text": [
      "(sim,lamb_da,p_rew,start,dose_quantity) =  (144, 0.10000000000000002, 1.0, 1, 0.1)\n",
      "{94}\n",
      "sim_144_p_rew_1_start_1_dq_0.1\n"
     ]
    },
    {
     "name": "stderr",
     "output_type": "stream",
     "text": [
      "/home/aiyappa/anaconda3/lib/python3.7/site-packages/tables/path.py:112: NaturalNameWarning: object name is not a valid Python identifier: 'sim_144_p_rew_1_start_1_dq_0.1'; it does not match the pattern ``^[a-zA-Z_][a-zA-Z0-9_]*$``; you will not be able to use natural naming to access this object; using ``getattr()`` will still work, though\n",
      "  NaturalNameWarning)\n"
     ]
    },
    {
     "name": "stdout",
     "output_type": "stream",
     "text": [
      "(sim,lamb_da,p_rew,start,dose_quantity) =  (144, 0.10000000000000002, 1.0, 1, 2)\n",
      "{69}\n",
      "sim_144_p_rew_1_start_1_dq_2\n",
      "(sim,lamb_da,p_rew,start,dose_quantity) =  (144, 0.10000000000000002, 1.0, 10, 0.1)\n",
      "Initial node infection step failed\n",
      "None\n",
      "Initial node infection step failed\n",
      "None\n",
      "{32, 1, 98, 36, 13, 80, 17, 84, 29, 31}\n",
      "sim_144_p_rew_1_start_10_dq_0.1\n"
     ]
    },
    {
     "name": "stderr",
     "output_type": "stream",
     "text": [
      "/home/aiyappa/anaconda3/lib/python3.7/site-packages/tables/path.py:112: NaturalNameWarning: object name is not a valid Python identifier: 'sim_144_p_rew_1_start_10_dq_0.1'; it does not match the pattern ``^[a-zA-Z_][a-zA-Z0-9_]*$``; you will not be able to use natural naming to access this object; using ``getattr()`` will still work, though\n",
      "  NaturalNameWarning)\n"
     ]
    },
    {
     "name": "stdout",
     "output_type": "stream",
     "text": [
      "(sim,lamb_da,p_rew,start,dose_quantity) =  (144, 0.10000000000000002, 1.0, 10, 2)\n",
      "{97, 67, 75, 77, 15, 79, 17, 18, 87, 55}\n",
      "sim_144_p_rew_1_start_10_dq_2\n",
      "(sim,lamb_da,p_rew,start,dose_quantity) =  (145, 0.001, 0.01, 1, 0.1)\n",
      "{56}\n",
      "sim_145_p_rew_0.01_start_1_dq_0.1\n"
     ]
    },
    {
     "name": "stderr",
     "output_type": "stream",
     "text": [
      "/home/aiyappa/anaconda3/lib/python3.7/site-packages/tables/path.py:112: NaturalNameWarning: object name is not a valid Python identifier: 'sim_145_p_rew_0.01_start_1_dq_0.1'; it does not match the pattern ``^[a-zA-Z_][a-zA-Z0-9_]*$``; you will not be able to use natural naming to access this object; using ``getattr()`` will still work, though\n",
      "  NaturalNameWarning)\n"
     ]
    },
    {
     "name": "stdout",
     "output_type": "stream",
     "text": [
      "(sim,lamb_da,p_rew,start,dose_quantity) =  (145, 0.001, 0.01, 1, 2)\n",
      "{84}\n",
      "sim_145_p_rew_0.01_start_1_dq_2\n"
     ]
    },
    {
     "name": "stderr",
     "output_type": "stream",
     "text": [
      "/home/aiyappa/anaconda3/lib/python3.7/site-packages/tables/path.py:112: NaturalNameWarning: object name is not a valid Python identifier: 'sim_145_p_rew_0.01_start_1_dq_2'; it does not match the pattern ``^[a-zA-Z_][a-zA-Z0-9_]*$``; you will not be able to use natural naming to access this object; using ``getattr()`` will still work, though\n",
      "  NaturalNameWarning)\n"
     ]
    },
    {
     "name": "stdout",
     "output_type": "stream",
     "text": [
      "(sim,lamb_da,p_rew,start,dose_quantity) =  (145, 0.001, 0.01, 10, 0.1)\n",
      "{0, 65, 69, 6, 40, 73, 80, 18, 51, 25}\n",
      "sim_145_p_rew_0.01_start_10_dq_0.1\n"
     ]
    },
    {
     "name": "stderr",
     "output_type": "stream",
     "text": [
      "/home/aiyappa/anaconda3/lib/python3.7/site-packages/tables/path.py:112: NaturalNameWarning: object name is not a valid Python identifier: 'sim_145_p_rew_0.01_start_10_dq_0.1'; it does not match the pattern ``^[a-zA-Z_][a-zA-Z0-9_]*$``; you will not be able to use natural naming to access this object; using ``getattr()`` will still work, though\n",
      "  NaturalNameWarning)\n"
     ]
    },
    {
     "name": "stdout",
     "output_type": "stream",
     "text": [
      "(sim,lamb_da,p_rew,start,dose_quantity) =  (145, 0.001, 0.01, 10, 2)\n",
      "{66, 6, 72, 91, 80, 84, 23, 25, 58, 59}\n",
      "sim_145_p_rew_0.01_start_10_dq_2\n"
     ]
    },
    {
     "name": "stderr",
     "output_type": "stream",
     "text": [
      "/home/aiyappa/anaconda3/lib/python3.7/site-packages/tables/path.py:112: NaturalNameWarning: object name is not a valid Python identifier: 'sim_145_p_rew_0.01_start_10_dq_2'; it does not match the pattern ``^[a-zA-Z_][a-zA-Z0-9_]*$``; you will not be able to use natural naming to access this object; using ``getattr()`` will still work, though\n",
      "  NaturalNameWarning)\n"
     ]
    },
    {
     "name": "stdout",
     "output_type": "stream",
     "text": [
      "(sim,lamb_da,p_rew,start,dose_quantity) =  (145, 0.01, 0.10000000000000002, 1, 0.1)\n",
      "{67}\n",
      "sim_145_p_rew_0.1_start_1_dq_0.1\n"
     ]
    },
    {
     "name": "stderr",
     "output_type": "stream",
     "text": [
      "/home/aiyappa/anaconda3/lib/python3.7/site-packages/tables/path.py:112: NaturalNameWarning: object name is not a valid Python identifier: 'sim_145_p_rew_0.1_start_1_dq_0.1'; it does not match the pattern ``^[a-zA-Z_][a-zA-Z0-9_]*$``; you will not be able to use natural naming to access this object; using ``getattr()`` will still work, though\n",
      "  NaturalNameWarning)\n"
     ]
    },
    {
     "name": "stdout",
     "output_type": "stream",
     "text": [
      "(sim,lamb_da,p_rew,start,dose_quantity) =  (145, 0.01, 0.10000000000000002, 1, 2)\n",
      "{93}\n",
      "sim_145_p_rew_0.1_start_1_dq_2\n"
     ]
    },
    {
     "name": "stderr",
     "output_type": "stream",
     "text": [
      "/home/aiyappa/anaconda3/lib/python3.7/site-packages/tables/path.py:112: NaturalNameWarning: object name is not a valid Python identifier: 'sim_145_p_rew_0.1_start_1_dq_2'; it does not match the pattern ``^[a-zA-Z_][a-zA-Z0-9_]*$``; you will not be able to use natural naming to access this object; using ``getattr()`` will still work, though\n",
      "  NaturalNameWarning)\n"
     ]
    },
    {
     "name": "stdout",
     "output_type": "stream",
     "text": [
      "(sim,lamb_da,p_rew,start,dose_quantity) =  (145, 0.01, 0.10000000000000002, 10, 0.1)\n",
      "{89, 34, 98, 5, 13, 49, 18, 20, 57, 30}\n",
      "sim_145_p_rew_0.1_start_10_dq_0.1\n"
     ]
    },
    {
     "name": "stderr",
     "output_type": "stream",
     "text": [
      "/home/aiyappa/anaconda3/lib/python3.7/site-packages/tables/path.py:112: NaturalNameWarning: object name is not a valid Python identifier: 'sim_145_p_rew_0.1_start_10_dq_0.1'; it does not match the pattern ``^[a-zA-Z_][a-zA-Z0-9_]*$``; you will not be able to use natural naming to access this object; using ``getattr()`` will still work, though\n",
      "  NaturalNameWarning)\n"
     ]
    },
    {
     "name": "stdout",
     "output_type": "stream",
     "text": [
      "(sim,lamb_da,p_rew,start,dose_quantity) =  (145, 0.01, 0.10000000000000002, 10, 2)\n",
      "{96, 97, 70, 38, 74, 51, 85, 26, 61, 94}\n",
      "sim_145_p_rew_0.1_start_10_dq_2\n"
     ]
    },
    {
     "name": "stderr",
     "output_type": "stream",
     "text": [
      "/home/aiyappa/anaconda3/lib/python3.7/site-packages/tables/path.py:112: NaturalNameWarning: object name is not a valid Python identifier: 'sim_145_p_rew_0.1_start_10_dq_2'; it does not match the pattern ``^[a-zA-Z_][a-zA-Z0-9_]*$``; you will not be able to use natural naming to access this object; using ``getattr()`` will still work, though\n",
      "  NaturalNameWarning)\n"
     ]
    },
    {
     "name": "stdout",
     "output_type": "stream",
     "text": [
      "(sim,lamb_da,p_rew,start,dose_quantity) =  (145, 0.10000000000000002, 1.0, 1, 0.1)\n",
      "{38}\n",
      "sim_145_p_rew_1_start_1_dq_0.1\n"
     ]
    },
    {
     "name": "stderr",
     "output_type": "stream",
     "text": [
      "/home/aiyappa/anaconda3/lib/python3.7/site-packages/tables/path.py:112: NaturalNameWarning: object name is not a valid Python identifier: 'sim_145_p_rew_1_start_1_dq_0.1'; it does not match the pattern ``^[a-zA-Z_][a-zA-Z0-9_]*$``; you will not be able to use natural naming to access this object; using ``getattr()`` will still work, though\n",
      "  NaturalNameWarning)\n"
     ]
    },
    {
     "name": "stdout",
     "output_type": "stream",
     "text": [
      "(sim,lamb_da,p_rew,start,dose_quantity) =  (145, 0.10000000000000002, 1.0, 1, 2)\n",
      "{70}\n",
      "sim_145_p_rew_1_start_1_dq_2\n",
      "(sim,lamb_da,p_rew,start,dose_quantity) =  (145, 0.10000000000000002, 1.0, 10, 0.1)\n",
      "Initial node infection step failed\n",
      "None\n",
      "Initial node infection step failed\n",
      "None\n",
      "{34, 27, 77, 13, 79, 18, 88, 56, 91, 28}\n",
      "sim_145_p_rew_1_start_10_dq_0.1\n"
     ]
    },
    {
     "name": "stderr",
     "output_type": "stream",
     "text": [
      "/home/aiyappa/anaconda3/lib/python3.7/site-packages/tables/path.py:112: NaturalNameWarning: object name is not a valid Python identifier: 'sim_145_p_rew_1_start_10_dq_0.1'; it does not match the pattern ``^[a-zA-Z_][a-zA-Z0-9_]*$``; you will not be able to use natural naming to access this object; using ``getattr()`` will still work, though\n",
      "  NaturalNameWarning)\n"
     ]
    },
    {
     "name": "stdout",
     "output_type": "stream",
     "text": [
      "(sim,lamb_da,p_rew,start,dose_quantity) =  (145, 0.10000000000000002, 1.0, 10, 2)\n",
      "{98, 2, 68, 75, 15, 19, 86, 87, 88, 58}\n",
      "sim_145_p_rew_1_start_10_dq_2\n",
      "(sim,lamb_da,p_rew,start,dose_quantity) =  (146, 0.001, 0.01, 1, 0.1)\n",
      "{12}\n",
      "sim_146_p_rew_0.01_start_1_dq_0.1\n"
     ]
    },
    {
     "name": "stderr",
     "output_type": "stream",
     "text": [
      "/home/aiyappa/anaconda3/lib/python3.7/site-packages/tables/path.py:112: NaturalNameWarning: object name is not a valid Python identifier: 'sim_146_p_rew_0.01_start_1_dq_0.1'; it does not match the pattern ``^[a-zA-Z_][a-zA-Z0-9_]*$``; you will not be able to use natural naming to access this object; using ``getattr()`` will still work, though\n",
      "  NaturalNameWarning)\n"
     ]
    },
    {
     "name": "stdout",
     "output_type": "stream",
     "text": [
      "(sim,lamb_da,p_rew,start,dose_quantity) =  (146, 0.001, 0.01, 1, 2)\n",
      "{98}\n",
      "sim_146_p_rew_0.01_start_1_dq_2\n"
     ]
    },
    {
     "name": "stderr",
     "output_type": "stream",
     "text": [
      "/home/aiyappa/anaconda3/lib/python3.7/site-packages/tables/path.py:112: NaturalNameWarning: object name is not a valid Python identifier: 'sim_146_p_rew_0.01_start_1_dq_2'; it does not match the pattern ``^[a-zA-Z_][a-zA-Z0-9_]*$``; you will not be able to use natural naming to access this object; using ``getattr()`` will still work, though\n",
      "  NaturalNameWarning)\n"
     ]
    },
    {
     "name": "stdout",
     "output_type": "stream",
     "text": [
      "(sim,lamb_da,p_rew,start,dose_quantity) =  (146, 0.001, 0.01, 10, 0.1)\n",
      "{0, 2, 7, 72, 74, 19, 20, 85, 24, 25}\n",
      "sim_146_p_rew_0.01_start_10_dq_0.1\n"
     ]
    },
    {
     "name": "stderr",
     "output_type": "stream",
     "text": [
      "/home/aiyappa/anaconda3/lib/python3.7/site-packages/tables/path.py:112: NaturalNameWarning: object name is not a valid Python identifier: 'sim_146_p_rew_0.01_start_10_dq_0.1'; it does not match the pattern ``^[a-zA-Z_][a-zA-Z0-9_]*$``; you will not be able to use natural naming to access this object; using ``getattr()`` will still work, though\n",
      "  NaturalNameWarning)\n"
     ]
    },
    {
     "name": "stdout",
     "output_type": "stream",
     "text": [
      "(sim,lamb_da,p_rew,start,dose_quantity) =  (146, 0.001, 0.01, 10, 2)\n",
      "{7, 71, 9, 48, 19, 52, 57, 90, 28, 29}\n",
      "sim_146_p_rew_0.01_start_10_dq_2\n"
     ]
    },
    {
     "name": "stderr",
     "output_type": "stream",
     "text": [
      "/home/aiyappa/anaconda3/lib/python3.7/site-packages/tables/path.py:112: NaturalNameWarning: object name is not a valid Python identifier: 'sim_146_p_rew_0.01_start_10_dq_2'; it does not match the pattern ``^[a-zA-Z_][a-zA-Z0-9_]*$``; you will not be able to use natural naming to access this object; using ``getattr()`` will still work, though\n",
      "  NaturalNameWarning)\n"
     ]
    },
    {
     "name": "stdout",
     "output_type": "stream",
     "text": [
      "(sim,lamb_da,p_rew,start,dose_quantity) =  (146, 0.01, 0.10000000000000002, 1, 0.1)\n",
      "{24}\n",
      "sim_146_p_rew_0.1_start_1_dq_0.1\n"
     ]
    },
    {
     "name": "stderr",
     "output_type": "stream",
     "text": [
      "/home/aiyappa/anaconda3/lib/python3.7/site-packages/tables/path.py:112: NaturalNameWarning: object name is not a valid Python identifier: 'sim_146_p_rew_0.1_start_1_dq_0.1'; it does not match the pattern ``^[a-zA-Z_][a-zA-Z0-9_]*$``; you will not be able to use natural naming to access this object; using ``getattr()`` will still work, though\n",
      "  NaturalNameWarning)\n"
     ]
    },
    {
     "name": "stdout",
     "output_type": "stream",
     "text": [
      "(sim,lamb_da,p_rew,start,dose_quantity) =  (146, 0.01, 0.10000000000000002, 1, 2)\n",
      "{98}\n",
      "sim_146_p_rew_0.1_start_1_dq_2\n"
     ]
    },
    {
     "name": "stderr",
     "output_type": "stream",
     "text": [
      "/home/aiyappa/anaconda3/lib/python3.7/site-packages/tables/path.py:112: NaturalNameWarning: object name is not a valid Python identifier: 'sim_146_p_rew_0.1_start_1_dq_2'; it does not match the pattern ``^[a-zA-Z_][a-zA-Z0-9_]*$``; you will not be able to use natural naming to access this object; using ``getattr()`` will still work, though\n",
      "  NaturalNameWarning)\n"
     ]
    },
    {
     "name": "stdout",
     "output_type": "stream",
     "text": [
      "(sim,lamb_da,p_rew,start,dose_quantity) =  (146, 0.01, 0.10000000000000002, 10, 0.1)\n",
      "{43, 79, 18, 83, 51, 20, 86, 87, 54, 27}\n",
      "sim_146_p_rew_0.1_start_10_dq_0.1\n"
     ]
    },
    {
     "name": "stderr",
     "output_type": "stream",
     "text": [
      "/home/aiyappa/anaconda3/lib/python3.7/site-packages/tables/path.py:112: NaturalNameWarning: object name is not a valid Python identifier: 'sim_146_p_rew_0.1_start_10_dq_0.1'; it does not match the pattern ``^[a-zA-Z_][a-zA-Z0-9_]*$``; you will not be able to use natural naming to access this object; using ``getattr()`` will still work, though\n",
      "  NaturalNameWarning)\n"
     ]
    },
    {
     "name": "stdout",
     "output_type": "stream",
     "text": [
      "(sim,lamb_da,p_rew,start,dose_quantity) =  (146, 0.01, 0.10000000000000002, 10, 2)\n",
      "{64, 1, 8, 75, 77, 15, 79, 20, 21, 54}\n",
      "sim_146_p_rew_0.1_start_10_dq_2\n"
     ]
    },
    {
     "name": "stderr",
     "output_type": "stream",
     "text": [
      "/home/aiyappa/anaconda3/lib/python3.7/site-packages/tables/path.py:112: NaturalNameWarning: object name is not a valid Python identifier: 'sim_146_p_rew_0.1_start_10_dq_2'; it does not match the pattern ``^[a-zA-Z_][a-zA-Z0-9_]*$``; you will not be able to use natural naming to access this object; using ``getattr()`` will still work, though\n",
      "  NaturalNameWarning)\n"
     ]
    },
    {
     "name": "stdout",
     "output_type": "stream",
     "text": [
      "(sim,lamb_da,p_rew,start,dose_quantity) =  (146, 0.10000000000000002, 1.0, 1, 0.1)\n",
      "{54}\n",
      "sim_146_p_rew_1_start_1_dq_0.1\n"
     ]
    },
    {
     "name": "stderr",
     "output_type": "stream",
     "text": [
      "/home/aiyappa/anaconda3/lib/python3.7/site-packages/tables/path.py:112: NaturalNameWarning: object name is not a valid Python identifier: 'sim_146_p_rew_1_start_1_dq_0.1'; it does not match the pattern ``^[a-zA-Z_][a-zA-Z0-9_]*$``; you will not be able to use natural naming to access this object; using ``getattr()`` will still work, though\n",
      "  NaturalNameWarning)\n"
     ]
    },
    {
     "name": "stdout",
     "output_type": "stream",
     "text": [
      "(sim,lamb_da,p_rew,start,dose_quantity) =  (146, 0.10000000000000002, 1.0, 1, 2)\n",
      "{75}\n",
      "sim_146_p_rew_1_start_1_dq_2\n",
      "(sim,lamb_da,p_rew,start,dose_quantity) =  (146, 0.10000000000000002, 1.0, 10, 0.1)\n",
      "{33, 36, 12, 18, 20, 86, 55, 91, 61, 30}\n",
      "sim_146_p_rew_1_start_10_dq_0.1\n"
     ]
    },
    {
     "name": "stderr",
     "output_type": "stream",
     "text": [
      "/home/aiyappa/anaconda3/lib/python3.7/site-packages/tables/path.py:112: NaturalNameWarning: object name is not a valid Python identifier: 'sim_146_p_rew_1_start_10_dq_0.1'; it does not match the pattern ``^[a-zA-Z_][a-zA-Z0-9_]*$``; you will not be able to use natural naming to access this object; using ``getattr()`` will still work, though\n",
      "  NaturalNameWarning)\n"
     ]
    },
    {
     "name": "stdout",
     "output_type": "stream",
     "text": [
      "(sim,lamb_da,p_rew,start,dose_quantity) =  (146, 0.10000000000000002, 1.0, 10, 2)\n",
      "{34, 14, 15, 80, 49, 17, 20, 88, 89, 94}\n",
      "sim_146_p_rew_1_start_10_dq_2\n",
      "(sim,lamb_da,p_rew,start,dose_quantity) =  (147, 0.001, 0.01, 1, 0.1)\n",
      "{90}\n",
      "sim_147_p_rew_0.01_start_1_dq_0.1\n"
     ]
    },
    {
     "name": "stderr",
     "output_type": "stream",
     "text": [
      "/home/aiyappa/anaconda3/lib/python3.7/site-packages/tables/path.py:112: NaturalNameWarning: object name is not a valid Python identifier: 'sim_147_p_rew_0.01_start_1_dq_0.1'; it does not match the pattern ``^[a-zA-Z_][a-zA-Z0-9_]*$``; you will not be able to use natural naming to access this object; using ``getattr()`` will still work, though\n",
      "  NaturalNameWarning)\n"
     ]
    },
    {
     "name": "stdout",
     "output_type": "stream",
     "text": [
      "(sim,lamb_da,p_rew,start,dose_quantity) =  (147, 0.001, 0.01, 1, 2)\n",
      "{60}\n",
      "sim_147_p_rew_0.01_start_1_dq_2\n"
     ]
    },
    {
     "name": "stderr",
     "output_type": "stream",
     "text": [
      "/home/aiyappa/anaconda3/lib/python3.7/site-packages/tables/path.py:112: NaturalNameWarning: object name is not a valid Python identifier: 'sim_147_p_rew_0.01_start_1_dq_2'; it does not match the pattern ``^[a-zA-Z_][a-zA-Z0-9_]*$``; you will not be able to use natural naming to access this object; using ``getattr()`` will still work, though\n",
      "  NaturalNameWarning)\n"
     ]
    },
    {
     "name": "stdout",
     "output_type": "stream",
     "text": [
      "(sim,lamb_da,p_rew,start,dose_quantity) =  (147, 0.001, 0.01, 10, 0.1)\n",
      "{33, 98, 67, 6, 8, 40, 42, 15, 47, 48}\n",
      "sim_147_p_rew_0.01_start_10_dq_0.1\n"
     ]
    },
    {
     "name": "stderr",
     "output_type": "stream",
     "text": [
      "/home/aiyappa/anaconda3/lib/python3.7/site-packages/tables/path.py:112: NaturalNameWarning: object name is not a valid Python identifier: 'sim_147_p_rew_0.01_start_10_dq_0.1'; it does not match the pattern ``^[a-zA-Z_][a-zA-Z0-9_]*$``; you will not be able to use natural naming to access this object; using ``getattr()`` will still work, though\n",
      "  NaturalNameWarning)\n"
     ]
    },
    {
     "name": "stdout",
     "output_type": "stream",
     "text": [
      "(sim,lamb_da,p_rew,start,dose_quantity) =  (147, 0.001, 0.01, 10, 2)\n",
      "{32, 97, 71, 9, 44, 78, 82, 85, 55, 91}\n",
      "sim_147_p_rew_0.01_start_10_dq_2\n"
     ]
    },
    {
     "name": "stderr",
     "output_type": "stream",
     "text": [
      "/home/aiyappa/anaconda3/lib/python3.7/site-packages/tables/path.py:112: NaturalNameWarning: object name is not a valid Python identifier: 'sim_147_p_rew_0.01_start_10_dq_2'; it does not match the pattern ``^[a-zA-Z_][a-zA-Z0-9_]*$``; you will not be able to use natural naming to access this object; using ``getattr()`` will still work, though\n",
      "  NaturalNameWarning)\n"
     ]
    },
    {
     "name": "stdout",
     "output_type": "stream",
     "text": [
      "(sim,lamb_da,p_rew,start,dose_quantity) =  (147, 0.01, 0.10000000000000002, 1, 0.1)\n",
      "{38}\n",
      "sim_147_p_rew_0.1_start_1_dq_0.1\n"
     ]
    },
    {
     "name": "stderr",
     "output_type": "stream",
     "text": [
      "/home/aiyappa/anaconda3/lib/python3.7/site-packages/tables/path.py:112: NaturalNameWarning: object name is not a valid Python identifier: 'sim_147_p_rew_0.1_start_1_dq_0.1'; it does not match the pattern ``^[a-zA-Z_][a-zA-Z0-9_]*$``; you will not be able to use natural naming to access this object; using ``getattr()`` will still work, though\n",
      "  NaturalNameWarning)\n"
     ]
    },
    {
     "name": "stdout",
     "output_type": "stream",
     "text": [
      "(sim,lamb_da,p_rew,start,dose_quantity) =  (147, 0.01, 0.10000000000000002, 1, 2)\n",
      "{79}\n",
      "sim_147_p_rew_0.1_start_1_dq_2\n"
     ]
    },
    {
     "name": "stderr",
     "output_type": "stream",
     "text": [
      "/home/aiyappa/anaconda3/lib/python3.7/site-packages/tables/path.py:112: NaturalNameWarning: object name is not a valid Python identifier: 'sim_147_p_rew_0.1_start_1_dq_2'; it does not match the pattern ``^[a-zA-Z_][a-zA-Z0-9_]*$``; you will not be able to use natural naming to access this object; using ``getattr()`` will still work, though\n",
      "  NaturalNameWarning)\n"
     ]
    },
    {
     "name": "stdout",
     "output_type": "stream",
     "text": [
      "(sim,lamb_da,p_rew,start,dose_quantity) =  (147, 0.01, 0.10000000000000002, 10, 0.1)\n",
      "Initial node infection step failed\n",
      "None\n",
      "{68, 39, 27, 12, 44, 78, 81, 89, 90, 59}\n",
      "sim_147_p_rew_0.1_start_10_dq_0.1\n"
     ]
    },
    {
     "name": "stderr",
     "output_type": "stream",
     "text": [
      "/home/aiyappa/anaconda3/lib/python3.7/site-packages/tables/path.py:112: NaturalNameWarning: object name is not a valid Python identifier: 'sim_147_p_rew_0.1_start_10_dq_0.1'; it does not match the pattern ``^[a-zA-Z_][a-zA-Z0-9_]*$``; you will not be able to use natural naming to access this object; using ``getattr()`` will still work, though\n",
      "  NaturalNameWarning)\n"
     ]
    },
    {
     "name": "stdout",
     "output_type": "stream",
     "text": [
      "(sim,lamb_da,p_rew,start,dose_quantity) =  (147, 0.01, 0.10000000000000002, 10, 2)\n",
      "{97, 66, 99, 38, 73, 74, 16, 49, 61, 63}\n",
      "sim_147_p_rew_0.1_start_10_dq_2\n"
     ]
    },
    {
     "name": "stderr",
     "output_type": "stream",
     "text": [
      "/home/aiyappa/anaconda3/lib/python3.7/site-packages/tables/path.py:112: NaturalNameWarning: object name is not a valid Python identifier: 'sim_147_p_rew_0.1_start_10_dq_2'; it does not match the pattern ``^[a-zA-Z_][a-zA-Z0-9_]*$``; you will not be able to use natural naming to access this object; using ``getattr()`` will still work, though\n",
      "  NaturalNameWarning)\n"
     ]
    },
    {
     "name": "stdout",
     "output_type": "stream",
     "text": [
      "(sim,lamb_da,p_rew,start,dose_quantity) =  (147, 0.10000000000000002, 1.0, 1, 0.1)\n",
      "{59}\n",
      "sim_147_p_rew_1_start_1_dq_0.1\n"
     ]
    },
    {
     "name": "stderr",
     "output_type": "stream",
     "text": [
      "/home/aiyappa/anaconda3/lib/python3.7/site-packages/tables/path.py:112: NaturalNameWarning: object name is not a valid Python identifier: 'sim_147_p_rew_1_start_1_dq_0.1'; it does not match the pattern ``^[a-zA-Z_][a-zA-Z0-9_]*$``; you will not be able to use natural naming to access this object; using ``getattr()`` will still work, though\n",
      "  NaturalNameWarning)\n"
     ]
    },
    {
     "name": "stdout",
     "output_type": "stream",
     "text": [
      "(sim,lamb_da,p_rew,start,dose_quantity) =  (147, 0.10000000000000002, 1.0, 1, 2)\n",
      "{18}\n",
      "sim_147_p_rew_1_start_1_dq_2\n",
      "(sim,lamb_da,p_rew,start,dose_quantity) =  (147, 0.10000000000000002, 1.0, 10, 0.1)\n",
      "Initial node infection step failed\n",
      "None\n",
      "Initial node infection step failed\n",
      "None\n",
      "{0, 3, 99, 43, 78, 79, 24, 57, 93, 30}\n",
      "sim_147_p_rew_1_start_10_dq_0.1\n"
     ]
    },
    {
     "name": "stderr",
     "output_type": "stream",
     "text": [
      "/home/aiyappa/anaconda3/lib/python3.7/site-packages/tables/path.py:112: NaturalNameWarning: object name is not a valid Python identifier: 'sim_147_p_rew_1_start_10_dq_0.1'; it does not match the pattern ``^[a-zA-Z_][a-zA-Z0-9_]*$``; you will not be able to use natural naming to access this object; using ``getattr()`` will still work, though\n",
      "  NaturalNameWarning)\n"
     ]
    },
    {
     "name": "stdout",
     "output_type": "stream",
     "text": [
      "(sim,lamb_da,p_rew,start,dose_quantity) =  (147, 0.10000000000000002, 1.0, 10, 2)\n",
      "{97, 67, 99, 9, 48, 87, 89, 91, 93, 62}\n",
      "sim_147_p_rew_1_start_10_dq_2\n",
      "(sim,lamb_da,p_rew,start,dose_quantity) =  (148, 0.001, 0.01, 1, 0.1)\n",
      "{32}\n",
      "sim_148_p_rew_0.01_start_1_dq_0.1\n"
     ]
    },
    {
     "name": "stderr",
     "output_type": "stream",
     "text": [
      "/home/aiyappa/anaconda3/lib/python3.7/site-packages/tables/path.py:112: NaturalNameWarning: object name is not a valid Python identifier: 'sim_148_p_rew_0.01_start_1_dq_0.1'; it does not match the pattern ``^[a-zA-Z_][a-zA-Z0-9_]*$``; you will not be able to use natural naming to access this object; using ``getattr()`` will still work, though\n",
      "  NaturalNameWarning)\n"
     ]
    },
    {
     "name": "stdout",
     "output_type": "stream",
     "text": [
      "(sim,lamb_da,p_rew,start,dose_quantity) =  (148, 0.001, 0.01, 1, 2)\n",
      "{19}\n",
      "sim_148_p_rew_0.01_start_1_dq_2\n"
     ]
    },
    {
     "name": "stderr",
     "output_type": "stream",
     "text": [
      "/home/aiyappa/anaconda3/lib/python3.7/site-packages/tables/path.py:112: NaturalNameWarning: object name is not a valid Python identifier: 'sim_148_p_rew_0.01_start_1_dq_2'; it does not match the pattern ``^[a-zA-Z_][a-zA-Z0-9_]*$``; you will not be able to use natural naming to access this object; using ``getattr()`` will still work, though\n",
      "  NaturalNameWarning)\n"
     ]
    },
    {
     "name": "stdout",
     "output_type": "stream",
     "text": [
      "(sim,lamb_da,p_rew,start,dose_quantity) =  (148, 0.001, 0.01, 10, 0.1)\n",
      "{65, 66, 3, 68, 4, 40, 81, 49, 87, 31}\n",
      "sim_148_p_rew_0.01_start_10_dq_0.1\n"
     ]
    },
    {
     "name": "stderr",
     "output_type": "stream",
     "text": [
      "/home/aiyappa/anaconda3/lib/python3.7/site-packages/tables/path.py:112: NaturalNameWarning: object name is not a valid Python identifier: 'sim_148_p_rew_0.01_start_10_dq_0.1'; it does not match the pattern ``^[a-zA-Z_][a-zA-Z0-9_]*$``; you will not be able to use natural naming to access this object; using ``getattr()`` will still work, though\n",
      "  NaturalNameWarning)\n"
     ]
    },
    {
     "name": "stdout",
     "output_type": "stream",
     "text": [
      "(sim,lamb_da,p_rew,start,dose_quantity) =  (148, 0.001, 0.01, 10, 2)\n",
      "{64, 32, 33, 39, 76, 52, 55, 27, 63, 95}\n",
      "sim_148_p_rew_0.01_start_10_dq_2\n"
     ]
    },
    {
     "name": "stderr",
     "output_type": "stream",
     "text": [
      "/home/aiyappa/anaconda3/lib/python3.7/site-packages/tables/path.py:112: NaturalNameWarning: object name is not a valid Python identifier: 'sim_148_p_rew_0.01_start_10_dq_2'; it does not match the pattern ``^[a-zA-Z_][a-zA-Z0-9_]*$``; you will not be able to use natural naming to access this object; using ``getattr()`` will still work, though\n",
      "  NaturalNameWarning)\n"
     ]
    },
    {
     "name": "stdout",
     "output_type": "stream",
     "text": [
      "(sim,lamb_da,p_rew,start,dose_quantity) =  (148, 0.01, 0.10000000000000002, 1, 0.1)\n",
      "{79}\n",
      "sim_148_p_rew_0.1_start_1_dq_0.1\n"
     ]
    },
    {
     "name": "stderr",
     "output_type": "stream",
     "text": [
      "/home/aiyappa/anaconda3/lib/python3.7/site-packages/tables/path.py:112: NaturalNameWarning: object name is not a valid Python identifier: 'sim_148_p_rew_0.1_start_1_dq_0.1'; it does not match the pattern ``^[a-zA-Z_][a-zA-Z0-9_]*$``; you will not be able to use natural naming to access this object; using ``getattr()`` will still work, though\n",
      "  NaturalNameWarning)\n"
     ]
    },
    {
     "name": "stdout",
     "output_type": "stream",
     "text": [
      "(sim,lamb_da,p_rew,start,dose_quantity) =  (148, 0.01, 0.10000000000000002, 1, 2)\n",
      "{57}\n",
      "sim_148_p_rew_0.1_start_1_dq_2\n"
     ]
    },
    {
     "name": "stderr",
     "output_type": "stream",
     "text": [
      "/home/aiyappa/anaconda3/lib/python3.7/site-packages/tables/path.py:112: NaturalNameWarning: object name is not a valid Python identifier: 'sim_148_p_rew_0.1_start_1_dq_2'; it does not match the pattern ``^[a-zA-Z_][a-zA-Z0-9_]*$``; you will not be able to use natural naming to access this object; using ``getattr()`` will still work, though\n",
      "  NaturalNameWarning)\n"
     ]
    },
    {
     "name": "stdout",
     "output_type": "stream",
     "text": [
      "(sim,lamb_da,p_rew,start,dose_quantity) =  (148, 0.01, 0.10000000000000002, 10, 0.1)\n",
      "{1, 5, 7, 73, 14, 81, 54, 55, 61, 30}\n",
      "sim_148_p_rew_0.1_start_10_dq_0.1\n"
     ]
    },
    {
     "name": "stderr",
     "output_type": "stream",
     "text": [
      "/home/aiyappa/anaconda3/lib/python3.7/site-packages/tables/path.py:112: NaturalNameWarning: object name is not a valid Python identifier: 'sim_148_p_rew_0.1_start_10_dq_0.1'; it does not match the pattern ``^[a-zA-Z_][a-zA-Z0-9_]*$``; you will not be able to use natural naming to access this object; using ``getattr()`` will still work, though\n",
      "  NaturalNameWarning)\n"
     ]
    },
    {
     "name": "stdout",
     "output_type": "stream",
     "text": [
      "(sim,lamb_da,p_rew,start,dose_quantity) =  (148, 0.01, 0.10000000000000002, 10, 2)\n",
      "{32, 35, 41, 43, 78, 82, 88, 26, 28, 93}\n",
      "sim_148_p_rew_0.1_start_10_dq_2\n"
     ]
    },
    {
     "name": "stderr",
     "output_type": "stream",
     "text": [
      "/home/aiyappa/anaconda3/lib/python3.7/site-packages/tables/path.py:112: NaturalNameWarning: object name is not a valid Python identifier: 'sim_148_p_rew_0.1_start_10_dq_2'; it does not match the pattern ``^[a-zA-Z_][a-zA-Z0-9_]*$``; you will not be able to use natural naming to access this object; using ``getattr()`` will still work, though\n",
      "  NaturalNameWarning)\n"
     ]
    },
    {
     "name": "stdout",
     "output_type": "stream",
     "text": [
      "(sim,lamb_da,p_rew,start,dose_quantity) =  (148, 0.10000000000000002, 1.0, 1, 0.1)\n",
      "{48}\n",
      "sim_148_p_rew_1_start_1_dq_0.1\n"
     ]
    },
    {
     "name": "stderr",
     "output_type": "stream",
     "text": [
      "/home/aiyappa/anaconda3/lib/python3.7/site-packages/tables/path.py:112: NaturalNameWarning: object name is not a valid Python identifier: 'sim_148_p_rew_1_start_1_dq_0.1'; it does not match the pattern ``^[a-zA-Z_][a-zA-Z0-9_]*$``; you will not be able to use natural naming to access this object; using ``getattr()`` will still work, though\n",
      "  NaturalNameWarning)\n"
     ]
    },
    {
     "name": "stdout",
     "output_type": "stream",
     "text": [
      "(sim,lamb_da,p_rew,start,dose_quantity) =  (148, 0.10000000000000002, 1.0, 1, 2)\n",
      "{89}\n",
      "sim_148_p_rew_1_start_1_dq_2\n",
      "(sim,lamb_da,p_rew,start,dose_quantity) =  (148, 0.10000000000000002, 1.0, 10, 0.1)\n",
      "Initial node infection step failed\n",
      "None\n",
      "{0, 34, 36, 5, 70, 40, 10, 13, 51, 54}\n",
      "sim_148_p_rew_1_start_10_dq_0.1\n"
     ]
    },
    {
     "name": "stderr",
     "output_type": "stream",
     "text": [
      "/home/aiyappa/anaconda3/lib/python3.7/site-packages/tables/path.py:112: NaturalNameWarning: object name is not a valid Python identifier: 'sim_148_p_rew_1_start_10_dq_0.1'; it does not match the pattern ``^[a-zA-Z_][a-zA-Z0-9_]*$``; you will not be able to use natural naming to access this object; using ``getattr()`` will still work, though\n",
      "  NaturalNameWarning)\n"
     ]
    },
    {
     "name": "stdout",
     "output_type": "stream",
     "text": [
      "(sim,lamb_da,p_rew,start,dose_quantity) =  (148, 0.10000000000000002, 1.0, 10, 2)\n",
      "{96, 3, 5, 40, 14, 50, 53, 24, 59, 28}\n",
      "sim_148_p_rew_1_start_10_dq_2\n",
      "(sim,lamb_da,p_rew,start,dose_quantity) =  (149, 0.001, 0.01, 1, 0.1)\n",
      "{58}\n",
      "sim_149_p_rew_0.01_start_1_dq_0.1\n"
     ]
    },
    {
     "name": "stderr",
     "output_type": "stream",
     "text": [
      "/home/aiyappa/anaconda3/lib/python3.7/site-packages/tables/path.py:112: NaturalNameWarning: object name is not a valid Python identifier: 'sim_149_p_rew_0.01_start_1_dq_0.1'; it does not match the pattern ``^[a-zA-Z_][a-zA-Z0-9_]*$``; you will not be able to use natural naming to access this object; using ``getattr()`` will still work, though\n",
      "  NaturalNameWarning)\n"
     ]
    },
    {
     "name": "stdout",
     "output_type": "stream",
     "text": [
      "(sim,lamb_da,p_rew,start,dose_quantity) =  (149, 0.001, 0.01, 1, 2)\n",
      "{82}\n",
      "sim_149_p_rew_0.01_start_1_dq_2\n"
     ]
    },
    {
     "name": "stderr",
     "output_type": "stream",
     "text": [
      "/home/aiyappa/anaconda3/lib/python3.7/site-packages/tables/path.py:112: NaturalNameWarning: object name is not a valid Python identifier: 'sim_149_p_rew_0.01_start_1_dq_2'; it does not match the pattern ``^[a-zA-Z_][a-zA-Z0-9_]*$``; you will not be able to use natural naming to access this object; using ``getattr()`` will still work, though\n",
      "  NaturalNameWarning)\n"
     ]
    },
    {
     "name": "stdout",
     "output_type": "stream",
     "text": [
      "(sim,lamb_da,p_rew,start,dose_quantity) =  (149, 0.001, 0.01, 10, 0.1)\n",
      "{4, 38, 40, 8, 74, 16, 49, 53, 57, 30}\n",
      "sim_149_p_rew_0.01_start_10_dq_0.1\n"
     ]
    },
    {
     "name": "stderr",
     "output_type": "stream",
     "text": [
      "/home/aiyappa/anaconda3/lib/python3.7/site-packages/tables/path.py:112: NaturalNameWarning: object name is not a valid Python identifier: 'sim_149_p_rew_0.01_start_10_dq_0.1'; it does not match the pattern ``^[a-zA-Z_][a-zA-Z0-9_]*$``; you will not be able to use natural naming to access this object; using ``getattr()`` will still work, though\n",
      "  NaturalNameWarning)\n"
     ]
    },
    {
     "name": "stdout",
     "output_type": "stream",
     "text": [
      "(sim,lamb_da,p_rew,start,dose_quantity) =  (149, 0.001, 0.01, 10, 2)\n",
      "{0, 6, 10, 80, 81, 16, 84, 86, 24, 62}\n",
      "sim_149_p_rew_0.01_start_10_dq_2\n"
     ]
    },
    {
     "name": "stderr",
     "output_type": "stream",
     "text": [
      "/home/aiyappa/anaconda3/lib/python3.7/site-packages/tables/path.py:112: NaturalNameWarning: object name is not a valid Python identifier: 'sim_149_p_rew_0.01_start_10_dq_2'; it does not match the pattern ``^[a-zA-Z_][a-zA-Z0-9_]*$``; you will not be able to use natural naming to access this object; using ``getattr()`` will still work, though\n",
      "  NaturalNameWarning)\n"
     ]
    },
    {
     "name": "stdout",
     "output_type": "stream",
     "text": [
      "(sim,lamb_da,p_rew,start,dose_quantity) =  (149, 0.01, 0.10000000000000002, 1, 0.1)\n",
      "{51}\n",
      "sim_149_p_rew_0.1_start_1_dq_0.1\n"
     ]
    },
    {
     "name": "stderr",
     "output_type": "stream",
     "text": [
      "/home/aiyappa/anaconda3/lib/python3.7/site-packages/tables/path.py:112: NaturalNameWarning: object name is not a valid Python identifier: 'sim_149_p_rew_0.1_start_1_dq_0.1'; it does not match the pattern ``^[a-zA-Z_][a-zA-Z0-9_]*$``; you will not be able to use natural naming to access this object; using ``getattr()`` will still work, though\n",
      "  NaturalNameWarning)\n"
     ]
    },
    {
     "name": "stdout",
     "output_type": "stream",
     "text": [
      "(sim,lamb_da,p_rew,start,dose_quantity) =  (149, 0.01, 0.10000000000000002, 1, 2)\n",
      "{47}\n",
      "sim_149_p_rew_0.1_start_1_dq_2\n"
     ]
    },
    {
     "name": "stderr",
     "output_type": "stream",
     "text": [
      "/home/aiyappa/anaconda3/lib/python3.7/site-packages/tables/path.py:112: NaturalNameWarning: object name is not a valid Python identifier: 'sim_149_p_rew_0.1_start_1_dq_2'; it does not match the pattern ``^[a-zA-Z_][a-zA-Z0-9_]*$``; you will not be able to use natural naming to access this object; using ``getattr()`` will still work, though\n",
      "  NaturalNameWarning)\n"
     ]
    },
    {
     "name": "stdout",
     "output_type": "stream",
     "text": [
      "(sim,lamb_da,p_rew,start,dose_quantity) =  (149, 0.01, 0.10000000000000002, 10, 0.1)\n",
      "{65, 98, 7, 8, 9, 12, 89, 90, 93, 94}\n",
      "sim_149_p_rew_0.1_start_10_dq_0.1\n"
     ]
    },
    {
     "name": "stderr",
     "output_type": "stream",
     "text": [
      "/home/aiyappa/anaconda3/lib/python3.7/site-packages/tables/path.py:112: NaturalNameWarning: object name is not a valid Python identifier: 'sim_149_p_rew_0.1_start_10_dq_0.1'; it does not match the pattern ``^[a-zA-Z_][a-zA-Z0-9_]*$``; you will not be able to use natural naming to access this object; using ``getattr()`` will still work, though\n",
      "  NaturalNameWarning)\n"
     ]
    },
    {
     "name": "stdout",
     "output_type": "stream",
     "text": [
      "(sim,lamb_da,p_rew,start,dose_quantity) =  (149, 0.01, 0.10000000000000002, 10, 2)\n",
      "{32, 98, 3, 67, 9, 76, 46, 50, 56, 88}\n",
      "sim_149_p_rew_0.1_start_10_dq_2\n"
     ]
    },
    {
     "name": "stderr",
     "output_type": "stream",
     "text": [
      "/home/aiyappa/anaconda3/lib/python3.7/site-packages/tables/path.py:112: NaturalNameWarning: object name is not a valid Python identifier: 'sim_149_p_rew_0.1_start_10_dq_2'; it does not match the pattern ``^[a-zA-Z_][a-zA-Z0-9_]*$``; you will not be able to use natural naming to access this object; using ``getattr()`` will still work, though\n",
      "  NaturalNameWarning)\n"
     ]
    },
    {
     "name": "stdout",
     "output_type": "stream",
     "text": [
      "(sim,lamb_da,p_rew,start,dose_quantity) =  (149, 0.10000000000000002, 1.0, 1, 0.1)\n",
      "{66}\n",
      "sim_149_p_rew_1_start_1_dq_0.1\n"
     ]
    },
    {
     "name": "stderr",
     "output_type": "stream",
     "text": [
      "/home/aiyappa/anaconda3/lib/python3.7/site-packages/tables/path.py:112: NaturalNameWarning: object name is not a valid Python identifier: 'sim_149_p_rew_1_start_1_dq_0.1'; it does not match the pattern ``^[a-zA-Z_][a-zA-Z0-9_]*$``; you will not be able to use natural naming to access this object; using ``getattr()`` will still work, though\n",
      "  NaturalNameWarning)\n"
     ]
    },
    {
     "name": "stdout",
     "output_type": "stream",
     "text": [
      "(sim,lamb_da,p_rew,start,dose_quantity) =  (149, 0.10000000000000002, 1.0, 1, 2)\n",
      "{79}\n",
      "sim_149_p_rew_1_start_1_dq_2\n",
      "(sim,lamb_da,p_rew,start,dose_quantity) =  (149, 0.10000000000000002, 1.0, 10, 0.1)\n",
      "Initial node infection step failed\n",
      "None\n",
      "{99, 3, 75, 12, 79, 80, 49, 15, 24, 30}\n",
      "sim_149_p_rew_1_start_10_dq_0.1\n"
     ]
    },
    {
     "name": "stderr",
     "output_type": "stream",
     "text": [
      "/home/aiyappa/anaconda3/lib/python3.7/site-packages/tables/path.py:112: NaturalNameWarning: object name is not a valid Python identifier: 'sim_149_p_rew_1_start_10_dq_0.1'; it does not match the pattern ``^[a-zA-Z_][a-zA-Z0-9_]*$``; you will not be able to use natural naming to access this object; using ``getattr()`` will still work, though\n",
      "  NaturalNameWarning)\n"
     ]
    },
    {
     "name": "stdout",
     "output_type": "stream",
     "text": [
      "(sim,lamb_da,p_rew,start,dose_quantity) =  (149, 0.10000000000000002, 1.0, 10, 2)\n",
      "{33, 97, 69, 39, 27, 13, 17, 82, 57, 59}\n",
      "sim_149_p_rew_1_start_10_dq_2\n",
      "(sim,lamb_da,p_rew,start,dose_quantity) =  (150, 0.001, 0.01, 1, 0.1)\n",
      "{12}\n",
      "sim_150_p_rew_0.01_start_1_dq_0.1\n"
     ]
    },
    {
     "name": "stderr",
     "output_type": "stream",
     "text": [
      "/home/aiyappa/anaconda3/lib/python3.7/site-packages/tables/path.py:112: NaturalNameWarning: object name is not a valid Python identifier: 'sim_150_p_rew_0.01_start_1_dq_0.1'; it does not match the pattern ``^[a-zA-Z_][a-zA-Z0-9_]*$``; you will not be able to use natural naming to access this object; using ``getattr()`` will still work, though\n",
      "  NaturalNameWarning)\n"
     ]
    },
    {
     "name": "stdout",
     "output_type": "stream",
     "text": [
      "(sim,lamb_da,p_rew,start,dose_quantity) =  (150, 0.001, 0.01, 1, 2)\n",
      "{8}\n",
      "sim_150_p_rew_0.01_start_1_dq_2\n"
     ]
    },
    {
     "name": "stderr",
     "output_type": "stream",
     "text": [
      "/home/aiyappa/anaconda3/lib/python3.7/site-packages/tables/path.py:112: NaturalNameWarning: object name is not a valid Python identifier: 'sim_150_p_rew_0.01_start_1_dq_2'; it does not match the pattern ``^[a-zA-Z_][a-zA-Z0-9_]*$``; you will not be able to use natural naming to access this object; using ``getattr()`` will still work, though\n",
      "  NaturalNameWarning)\n"
     ]
    },
    {
     "name": "stdout",
     "output_type": "stream",
     "text": [
      "(sim,lamb_da,p_rew,start,dose_quantity) =  (150, 0.001, 0.01, 10, 0.1)\n",
      "{67, 36, 13, 16, 82, 54, 27, 61, 95, 63}\n",
      "sim_150_p_rew_0.01_start_10_dq_0.1\n"
     ]
    },
    {
     "name": "stderr",
     "output_type": "stream",
     "text": [
      "/home/aiyappa/anaconda3/lib/python3.7/site-packages/tables/path.py:112: NaturalNameWarning: object name is not a valid Python identifier: 'sim_150_p_rew_0.01_start_10_dq_0.1'; it does not match the pattern ``^[a-zA-Z_][a-zA-Z0-9_]*$``; you will not be able to use natural naming to access this object; using ``getattr()`` will still work, though\n",
      "  NaturalNameWarning)\n"
     ]
    },
    {
     "name": "stdout",
     "output_type": "stream",
     "text": [
      "(sim,lamb_da,p_rew,start,dose_quantity) =  (150, 0.001, 0.01, 10, 2)\n",
      "{65, 69, 44, 77, 14, 51, 88, 90, 60, 61}\n",
      "sim_150_p_rew_0.01_start_10_dq_2\n"
     ]
    },
    {
     "name": "stderr",
     "output_type": "stream",
     "text": [
      "/home/aiyappa/anaconda3/lib/python3.7/site-packages/tables/path.py:112: NaturalNameWarning: object name is not a valid Python identifier: 'sim_150_p_rew_0.01_start_10_dq_2'; it does not match the pattern ``^[a-zA-Z_][a-zA-Z0-9_]*$``; you will not be able to use natural naming to access this object; using ``getattr()`` will still work, though\n",
      "  NaturalNameWarning)\n"
     ]
    },
    {
     "name": "stdout",
     "output_type": "stream",
     "text": [
      "(sim,lamb_da,p_rew,start,dose_quantity) =  (150, 0.01, 0.10000000000000002, 1, 0.1)\n",
      "{44}\n",
      "sim_150_p_rew_0.1_start_1_dq_0.1\n"
     ]
    },
    {
     "name": "stderr",
     "output_type": "stream",
     "text": [
      "/home/aiyappa/anaconda3/lib/python3.7/site-packages/tables/path.py:112: NaturalNameWarning: object name is not a valid Python identifier: 'sim_150_p_rew_0.1_start_1_dq_0.1'; it does not match the pattern ``^[a-zA-Z_][a-zA-Z0-9_]*$``; you will not be able to use natural naming to access this object; using ``getattr()`` will still work, though\n",
      "  NaturalNameWarning)\n"
     ]
    },
    {
     "name": "stdout",
     "output_type": "stream",
     "text": [
      "(sim,lamb_da,p_rew,start,dose_quantity) =  (150, 0.01, 0.10000000000000002, 1, 2)\n",
      "{45}\n",
      "sim_150_p_rew_0.1_start_1_dq_2\n"
     ]
    },
    {
     "name": "stderr",
     "output_type": "stream",
     "text": [
      "/home/aiyappa/anaconda3/lib/python3.7/site-packages/tables/path.py:112: NaturalNameWarning: object name is not a valid Python identifier: 'sim_150_p_rew_0.1_start_1_dq_2'; it does not match the pattern ``^[a-zA-Z_][a-zA-Z0-9_]*$``; you will not be able to use natural naming to access this object; using ``getattr()`` will still work, though\n",
      "  NaturalNameWarning)\n"
     ]
    },
    {
     "name": "stdout",
     "output_type": "stream",
     "text": [
      "(sim,lamb_da,p_rew,start,dose_quantity) =  (150, 0.01, 0.10000000000000002, 10, 0.1)\n",
      "{65, 68, 69, 77, 60, 82, 83, 24, 56, 92}\n",
      "sim_150_p_rew_0.1_start_10_dq_0.1\n"
     ]
    },
    {
     "name": "stderr",
     "output_type": "stream",
     "text": [
      "/home/aiyappa/anaconda3/lib/python3.7/site-packages/tables/path.py:112: NaturalNameWarning: object name is not a valid Python identifier: 'sim_150_p_rew_0.1_start_10_dq_0.1'; it does not match the pattern ``^[a-zA-Z_][a-zA-Z0-9_]*$``; you will not be able to use natural naming to access this object; using ``getattr()`` will still work, though\n",
      "  NaturalNameWarning)\n"
     ]
    },
    {
     "name": "stdout",
     "output_type": "stream",
     "text": [
      "(sim,lamb_da,p_rew,start,dose_quantity) =  (150, 0.01, 0.10000000000000002, 10, 2)\n",
      "{96, 2, 66, 3, 5, 39, 80, 86, 87, 56}\n",
      "sim_150_p_rew_0.1_start_10_dq_2\n"
     ]
    },
    {
     "name": "stderr",
     "output_type": "stream",
     "text": [
      "/home/aiyappa/anaconda3/lib/python3.7/site-packages/tables/path.py:112: NaturalNameWarning: object name is not a valid Python identifier: 'sim_150_p_rew_0.1_start_10_dq_2'; it does not match the pattern ``^[a-zA-Z_][a-zA-Z0-9_]*$``; you will not be able to use natural naming to access this object; using ``getattr()`` will still work, though\n",
      "  NaturalNameWarning)\n"
     ]
    },
    {
     "name": "stdout",
     "output_type": "stream",
     "text": [
      "(sim,lamb_da,p_rew,start,dose_quantity) =  (150, 0.10000000000000002, 1.0, 1, 0.1)\n",
      "{39}\n",
      "sim_150_p_rew_1_start_1_dq_0.1\n"
     ]
    },
    {
     "name": "stderr",
     "output_type": "stream",
     "text": [
      "/home/aiyappa/anaconda3/lib/python3.7/site-packages/tables/path.py:112: NaturalNameWarning: object name is not a valid Python identifier: 'sim_150_p_rew_1_start_1_dq_0.1'; it does not match the pattern ``^[a-zA-Z_][a-zA-Z0-9_]*$``; you will not be able to use natural naming to access this object; using ``getattr()`` will still work, though\n",
      "  NaturalNameWarning)\n"
     ]
    },
    {
     "name": "stdout",
     "output_type": "stream",
     "text": [
      "(sim,lamb_da,p_rew,start,dose_quantity) =  (150, 0.10000000000000002, 1.0, 1, 2)\n",
      "{49}\n",
      "sim_150_p_rew_1_start_1_dq_2\n",
      "(sim,lamb_da,p_rew,start,dose_quantity) =  (150, 0.10000000000000002, 1.0, 10, 0.1)\n",
      "Initial node infection step failed\n",
      "None\n",
      "Initial node infection step failed\n",
      "None\n",
      "{32, 1, 36, 37, 6, 8, 20, 85, 27, 94}\n",
      "sim_150_p_rew_1_start_10_dq_0.1\n"
     ]
    },
    {
     "name": "stderr",
     "output_type": "stream",
     "text": [
      "/home/aiyappa/anaconda3/lib/python3.7/site-packages/tables/path.py:112: NaturalNameWarning: object name is not a valid Python identifier: 'sim_150_p_rew_1_start_10_dq_0.1'; it does not match the pattern ``^[a-zA-Z_][a-zA-Z0-9_]*$``; you will not be able to use natural naming to access this object; using ``getattr()`` will still work, though\n",
      "  NaturalNameWarning)\n"
     ]
    },
    {
     "name": "stdout",
     "output_type": "stream",
     "text": [
      "(sim,lamb_da,p_rew,start,dose_quantity) =  (150, 0.10000000000000002, 1.0, 10, 2)\n",
      "{0, 67, 8, 43, 45, 47, 52, 53, 59, 61}\n",
      "sim_150_p_rew_1_start_10_dq_2\n",
      "(sim,lamb_da,p_rew,start,dose_quantity) =  (151, 0.001, 0.01, 1, 0.1)\n",
      "{6}\n",
      "sim_151_p_rew_0.01_start_1_dq_0.1\n"
     ]
    },
    {
     "name": "stderr",
     "output_type": "stream",
     "text": [
      "/home/aiyappa/anaconda3/lib/python3.7/site-packages/tables/path.py:112: NaturalNameWarning: object name is not a valid Python identifier: 'sim_151_p_rew_0.01_start_1_dq_0.1'; it does not match the pattern ``^[a-zA-Z_][a-zA-Z0-9_]*$``; you will not be able to use natural naming to access this object; using ``getattr()`` will still work, though\n",
      "  NaturalNameWarning)\n"
     ]
    },
    {
     "name": "stdout",
     "output_type": "stream",
     "text": [
      "(sim,lamb_da,p_rew,start,dose_quantity) =  (151, 0.001, 0.01, 1, 2)\n",
      "{81}\n",
      "sim_151_p_rew_0.01_start_1_dq_2\n"
     ]
    },
    {
     "name": "stderr",
     "output_type": "stream",
     "text": [
      "/home/aiyappa/anaconda3/lib/python3.7/site-packages/tables/path.py:112: NaturalNameWarning: object name is not a valid Python identifier: 'sim_151_p_rew_0.01_start_1_dq_2'; it does not match the pattern ``^[a-zA-Z_][a-zA-Z0-9_]*$``; you will not be able to use natural naming to access this object; using ``getattr()`` will still work, though\n",
      "  NaturalNameWarning)\n"
     ]
    },
    {
     "name": "stdout",
     "output_type": "stream",
     "text": [
      "(sim,lamb_da,p_rew,start,dose_quantity) =  (151, 0.001, 0.01, 10, 0.1)\n",
      "{97, 34, 12, 46, 17, 24, 58, 59, 60, 63}\n",
      "sim_151_p_rew_0.01_start_10_dq_0.1\n"
     ]
    },
    {
     "name": "stderr",
     "output_type": "stream",
     "text": [
      "/home/aiyappa/anaconda3/lib/python3.7/site-packages/tables/path.py:112: NaturalNameWarning: object name is not a valid Python identifier: 'sim_151_p_rew_0.01_start_10_dq_0.1'; it does not match the pattern ``^[a-zA-Z_][a-zA-Z0-9_]*$``; you will not be able to use natural naming to access this object; using ``getattr()`` will still work, though\n",
      "  NaturalNameWarning)\n"
     ]
    },
    {
     "name": "stdout",
     "output_type": "stream",
     "text": [
      "(sim,lamb_da,p_rew,start,dose_quantity) =  (151, 0.001, 0.01, 10, 2)\n",
      "{99, 37, 7, 10, 75, 87, 56, 93, 30, 95}\n",
      "sim_151_p_rew_0.01_start_10_dq_2\n"
     ]
    },
    {
     "name": "stderr",
     "output_type": "stream",
     "text": [
      "/home/aiyappa/anaconda3/lib/python3.7/site-packages/tables/path.py:112: NaturalNameWarning: object name is not a valid Python identifier: 'sim_151_p_rew_0.01_start_10_dq_2'; it does not match the pattern ``^[a-zA-Z_][a-zA-Z0-9_]*$``; you will not be able to use natural naming to access this object; using ``getattr()`` will still work, though\n",
      "  NaturalNameWarning)\n"
     ]
    },
    {
     "name": "stdout",
     "output_type": "stream",
     "text": [
      "(sim,lamb_da,p_rew,start,dose_quantity) =  (151, 0.01, 0.10000000000000002, 1, 0.1)\n",
      "{5}\n",
      "sim_151_p_rew_0.1_start_1_dq_0.1\n"
     ]
    },
    {
     "name": "stderr",
     "output_type": "stream",
     "text": [
      "/home/aiyappa/anaconda3/lib/python3.7/site-packages/tables/path.py:112: NaturalNameWarning: object name is not a valid Python identifier: 'sim_151_p_rew_0.1_start_1_dq_0.1'; it does not match the pattern ``^[a-zA-Z_][a-zA-Z0-9_]*$``; you will not be able to use natural naming to access this object; using ``getattr()`` will still work, though\n",
      "  NaturalNameWarning)\n"
     ]
    },
    {
     "name": "stdout",
     "output_type": "stream",
     "text": [
      "(sim,lamb_da,p_rew,start,dose_quantity) =  (151, 0.01, 0.10000000000000002, 1, 2)\n",
      "{11}\n",
      "sim_151_p_rew_0.1_start_1_dq_2\n"
     ]
    },
    {
     "name": "stderr",
     "output_type": "stream",
     "text": [
      "/home/aiyappa/anaconda3/lib/python3.7/site-packages/tables/path.py:112: NaturalNameWarning: object name is not a valid Python identifier: 'sim_151_p_rew_0.1_start_1_dq_2'; it does not match the pattern ``^[a-zA-Z_][a-zA-Z0-9_]*$``; you will not be able to use natural naming to access this object; using ``getattr()`` will still work, though\n",
      "  NaturalNameWarning)\n"
     ]
    },
    {
     "name": "stdout",
     "output_type": "stream",
     "text": [
      "(sim,lamb_da,p_rew,start,dose_quantity) =  (151, 0.01, 0.10000000000000002, 10, 0.1)\n",
      "{32, 96, 65, 3, 77, 15, 51, 20, 25, 92}\n",
      "sim_151_p_rew_0.1_start_10_dq_0.1\n"
     ]
    },
    {
     "name": "stderr",
     "output_type": "stream",
     "text": [
      "/home/aiyappa/anaconda3/lib/python3.7/site-packages/tables/path.py:112: NaturalNameWarning: object name is not a valid Python identifier: 'sim_151_p_rew_0.1_start_10_dq_0.1'; it does not match the pattern ``^[a-zA-Z_][a-zA-Z0-9_]*$``; you will not be able to use natural naming to access this object; using ``getattr()`` will still work, though\n",
      "  NaturalNameWarning)\n"
     ]
    },
    {
     "name": "stdout",
     "output_type": "stream",
     "text": [
      "(sim,lamb_da,p_rew,start,dose_quantity) =  (151, 0.01, 0.10000000000000002, 10, 2)\n",
      "{98, 3, 67, 36, 35, 40, 42, 76, 24, 59}\n",
      "sim_151_p_rew_0.1_start_10_dq_2\n"
     ]
    },
    {
     "name": "stderr",
     "output_type": "stream",
     "text": [
      "/home/aiyappa/anaconda3/lib/python3.7/site-packages/tables/path.py:112: NaturalNameWarning: object name is not a valid Python identifier: 'sim_151_p_rew_0.1_start_10_dq_2'; it does not match the pattern ``^[a-zA-Z_][a-zA-Z0-9_]*$``; you will not be able to use natural naming to access this object; using ``getattr()`` will still work, though\n",
      "  NaturalNameWarning)\n"
     ]
    },
    {
     "name": "stdout",
     "output_type": "stream",
     "text": [
      "(sim,lamb_da,p_rew,start,dose_quantity) =  (151, 0.10000000000000002, 1.0, 1, 0.1)\n",
      "{41}\n",
      "sim_151_p_rew_1_start_1_dq_0.1\n"
     ]
    },
    {
     "name": "stderr",
     "output_type": "stream",
     "text": [
      "/home/aiyappa/anaconda3/lib/python3.7/site-packages/tables/path.py:112: NaturalNameWarning: object name is not a valid Python identifier: 'sim_151_p_rew_1_start_1_dq_0.1'; it does not match the pattern ``^[a-zA-Z_][a-zA-Z0-9_]*$``; you will not be able to use natural naming to access this object; using ``getattr()`` will still work, though\n",
      "  NaturalNameWarning)\n"
     ]
    },
    {
     "name": "stdout",
     "output_type": "stream",
     "text": [
      "(sim,lamb_da,p_rew,start,dose_quantity) =  (151, 0.10000000000000002, 1.0, 1, 2)\n",
      "{41}\n",
      "sim_151_p_rew_1_start_1_dq_2\n",
      "(sim,lamb_da,p_rew,start,dose_quantity) =  (151, 0.10000000000000002, 1.0, 10, 0.1)\n",
      "{37, 71, 41, 44, 17, 82, 49, 56, 61, 63}\n",
      "sim_151_p_rew_1_start_10_dq_0.1\n"
     ]
    },
    {
     "name": "stderr",
     "output_type": "stream",
     "text": [
      "/home/aiyappa/anaconda3/lib/python3.7/site-packages/tables/path.py:112: NaturalNameWarning: object name is not a valid Python identifier: 'sim_151_p_rew_1_start_10_dq_0.1'; it does not match the pattern ``^[a-zA-Z_][a-zA-Z0-9_]*$``; you will not be able to use natural naming to access this object; using ``getattr()`` will still work, though\n",
      "  NaturalNameWarning)\n"
     ]
    },
    {
     "name": "stdout",
     "output_type": "stream",
     "text": [
      "(sim,lamb_da,p_rew,start,dose_quantity) =  (151, 0.10000000000000002, 1.0, 10, 2)\n",
      "{35, 99, 91, 46, 17, 19, 87, 90, 27, 62}\n",
      "sim_151_p_rew_1_start_10_dq_2\n",
      "(sim,lamb_da,p_rew,start,dose_quantity) =  (152, 0.001, 0.01, 1, 0.1)\n",
      "{72}\n",
      "sim_152_p_rew_0.01_start_1_dq_0.1\n"
     ]
    },
    {
     "name": "stderr",
     "output_type": "stream",
     "text": [
      "/home/aiyappa/anaconda3/lib/python3.7/site-packages/tables/path.py:112: NaturalNameWarning: object name is not a valid Python identifier: 'sim_152_p_rew_0.01_start_1_dq_0.1'; it does not match the pattern ``^[a-zA-Z_][a-zA-Z0-9_]*$``; you will not be able to use natural naming to access this object; using ``getattr()`` will still work, though\n",
      "  NaturalNameWarning)\n"
     ]
    },
    {
     "name": "stdout",
     "output_type": "stream",
     "text": [
      "(sim,lamb_da,p_rew,start,dose_quantity) =  (152, 0.001, 0.01, 1, 2)\n",
      "{74}\n",
      "sim_152_p_rew_0.01_start_1_dq_2\n"
     ]
    },
    {
     "name": "stderr",
     "output_type": "stream",
     "text": [
      "/home/aiyappa/anaconda3/lib/python3.7/site-packages/tables/path.py:112: NaturalNameWarning: object name is not a valid Python identifier: 'sim_152_p_rew_0.01_start_1_dq_2'; it does not match the pattern ``^[a-zA-Z_][a-zA-Z0-9_]*$``; you will not be able to use natural naming to access this object; using ``getattr()`` will still work, though\n",
      "  NaturalNameWarning)\n"
     ]
    },
    {
     "name": "stdout",
     "output_type": "stream",
     "text": [
      "(sim,lamb_da,p_rew,start,dose_quantity) =  (152, 0.001, 0.01, 10, 0.1)\n",
      "{66, 71, 10, 46, 17, 49, 51, 85, 86, 63}\n",
      "sim_152_p_rew_0.01_start_10_dq_0.1\n"
     ]
    },
    {
     "name": "stderr",
     "output_type": "stream",
     "text": [
      "/home/aiyappa/anaconda3/lib/python3.7/site-packages/tables/path.py:112: NaturalNameWarning: object name is not a valid Python identifier: 'sim_152_p_rew_0.01_start_10_dq_0.1'; it does not match the pattern ``^[a-zA-Z_][a-zA-Z0-9_]*$``; you will not be able to use natural naming to access this object; using ``getattr()`` will still work, though\n",
      "  NaturalNameWarning)\n"
     ]
    },
    {
     "name": "stdout",
     "output_type": "stream",
     "text": [
      "(sim,lamb_da,p_rew,start,dose_quantity) =  (152, 0.001, 0.01, 10, 2)\n",
      "{66, 99, 37, 48, 49, 50, 51, 87, 24, 94}\n",
      "sim_152_p_rew_0.01_start_10_dq_2\n"
     ]
    },
    {
     "name": "stderr",
     "output_type": "stream",
     "text": [
      "/home/aiyappa/anaconda3/lib/python3.7/site-packages/tables/path.py:112: NaturalNameWarning: object name is not a valid Python identifier: 'sim_152_p_rew_0.01_start_10_dq_2'; it does not match the pattern ``^[a-zA-Z_][a-zA-Z0-9_]*$``; you will not be able to use natural naming to access this object; using ``getattr()`` will still work, though\n",
      "  NaturalNameWarning)\n"
     ]
    },
    {
     "name": "stdout",
     "output_type": "stream",
     "text": [
      "(sim,lamb_da,p_rew,start,dose_quantity) =  (152, 0.01, 0.10000000000000002, 1, 0.1)\n",
      "{22}\n",
      "sim_152_p_rew_0.1_start_1_dq_0.1\n"
     ]
    },
    {
     "name": "stderr",
     "output_type": "stream",
     "text": [
      "/home/aiyappa/anaconda3/lib/python3.7/site-packages/tables/path.py:112: NaturalNameWarning: object name is not a valid Python identifier: 'sim_152_p_rew_0.1_start_1_dq_0.1'; it does not match the pattern ``^[a-zA-Z_][a-zA-Z0-9_]*$``; you will not be able to use natural naming to access this object; using ``getattr()`` will still work, though\n",
      "  NaturalNameWarning)\n"
     ]
    },
    {
     "name": "stdout",
     "output_type": "stream",
     "text": [
      "(sim,lamb_da,p_rew,start,dose_quantity) =  (152, 0.01, 0.10000000000000002, 1, 2)\n",
      "{33}\n",
      "sim_152_p_rew_0.1_start_1_dq_2\n"
     ]
    },
    {
     "name": "stderr",
     "output_type": "stream",
     "text": [
      "/home/aiyappa/anaconda3/lib/python3.7/site-packages/tables/path.py:112: NaturalNameWarning: object name is not a valid Python identifier: 'sim_152_p_rew_0.1_start_1_dq_2'; it does not match the pattern ``^[a-zA-Z_][a-zA-Z0-9_]*$``; you will not be able to use natural naming to access this object; using ``getattr()`` will still work, though\n",
      "  NaturalNameWarning)\n"
     ]
    },
    {
     "name": "stdout",
     "output_type": "stream",
     "text": [
      "(sim,lamb_da,p_rew,start,dose_quantity) =  (152, 0.01, 0.10000000000000002, 10, 0.1)\n",
      "{66, 2, 5, 38, 71, 7, 53, 22, 57, 31}\n",
      "sim_152_p_rew_0.1_start_10_dq_0.1\n"
     ]
    },
    {
     "name": "stderr",
     "output_type": "stream",
     "text": [
      "/home/aiyappa/anaconda3/lib/python3.7/site-packages/tables/path.py:112: NaturalNameWarning: object name is not a valid Python identifier: 'sim_152_p_rew_0.1_start_10_dq_0.1'; it does not match the pattern ``^[a-zA-Z_][a-zA-Z0-9_]*$``; you will not be able to use natural naming to access this object; using ``getattr()`` will still work, though\n",
      "  NaturalNameWarning)\n"
     ]
    },
    {
     "name": "stdout",
     "output_type": "stream",
     "text": [
      "(sim,lamb_da,p_rew,start,dose_quantity) =  (152, 0.01, 0.10000000000000002, 10, 2)\n",
      "{2, 36, 42, 15, 52, 85, 86, 22, 24, 57}\n",
      "sim_152_p_rew_0.1_start_10_dq_2\n"
     ]
    },
    {
     "name": "stderr",
     "output_type": "stream",
     "text": [
      "/home/aiyappa/anaconda3/lib/python3.7/site-packages/tables/path.py:112: NaturalNameWarning: object name is not a valid Python identifier: 'sim_152_p_rew_0.1_start_10_dq_2'; it does not match the pattern ``^[a-zA-Z_][a-zA-Z0-9_]*$``; you will not be able to use natural naming to access this object; using ``getattr()`` will still work, though\n",
      "  NaturalNameWarning)\n"
     ]
    },
    {
     "name": "stdout",
     "output_type": "stream",
     "text": [
      "(sim,lamb_da,p_rew,start,dose_quantity) =  (152, 0.10000000000000002, 1.0, 1, 0.1)\n",
      "{42}\n",
      "sim_152_p_rew_1_start_1_dq_0.1\n"
     ]
    },
    {
     "name": "stderr",
     "output_type": "stream",
     "text": [
      "/home/aiyappa/anaconda3/lib/python3.7/site-packages/tables/path.py:112: NaturalNameWarning: object name is not a valid Python identifier: 'sim_152_p_rew_1_start_1_dq_0.1'; it does not match the pattern ``^[a-zA-Z_][a-zA-Z0-9_]*$``; you will not be able to use natural naming to access this object; using ``getattr()`` will still work, though\n",
      "  NaturalNameWarning)\n"
     ]
    },
    {
     "name": "stdout",
     "output_type": "stream",
     "text": [
      "(sim,lamb_da,p_rew,start,dose_quantity) =  (152, 0.10000000000000002, 1.0, 1, 2)\n",
      "{86}\n",
      "sim_152_p_rew_1_start_1_dq_2\n",
      "(sim,lamb_da,p_rew,start,dose_quantity) =  (152, 0.10000000000000002, 1.0, 10, 0.1)\n",
      "{99, 67, 6, 8, 51, 83, 21, 54, 87, 90}\n",
      "sim_152_p_rew_1_start_10_dq_0.1\n"
     ]
    },
    {
     "name": "stderr",
     "output_type": "stream",
     "text": [
      "/home/aiyappa/anaconda3/lib/python3.7/site-packages/tables/path.py:112: NaturalNameWarning: object name is not a valid Python identifier: 'sim_152_p_rew_1_start_10_dq_0.1'; it does not match the pattern ``^[a-zA-Z_][a-zA-Z0-9_]*$``; you will not be able to use natural naming to access this object; using ``getattr()`` will still work, though\n",
      "  NaturalNameWarning)\n"
     ]
    },
    {
     "name": "stdout",
     "output_type": "stream",
     "text": [
      "(sim,lamb_da,p_rew,start,dose_quantity) =  (152, 0.10000000000000002, 1.0, 10, 2)\n",
      "{98, 38, 9, 42, 47, 18, 84, 53, 91, 94}\n",
      "sim_152_p_rew_1_start_10_dq_2\n",
      "(sim,lamb_da,p_rew,start,dose_quantity) =  (153, 0.001, 0.01, 1, 0.1)\n",
      "{41}\n",
      "sim_153_p_rew_0.01_start_1_dq_0.1\n"
     ]
    },
    {
     "name": "stderr",
     "output_type": "stream",
     "text": [
      "/home/aiyappa/anaconda3/lib/python3.7/site-packages/tables/path.py:112: NaturalNameWarning: object name is not a valid Python identifier: 'sim_153_p_rew_0.01_start_1_dq_0.1'; it does not match the pattern ``^[a-zA-Z_][a-zA-Z0-9_]*$``; you will not be able to use natural naming to access this object; using ``getattr()`` will still work, though\n",
      "  NaturalNameWarning)\n"
     ]
    },
    {
     "name": "stdout",
     "output_type": "stream",
     "text": [
      "(sim,lamb_da,p_rew,start,dose_quantity) =  (153, 0.001, 0.01, 1, 2)\n",
      "{35}\n",
      "sim_153_p_rew_0.01_start_1_dq_2\n"
     ]
    },
    {
     "name": "stderr",
     "output_type": "stream",
     "text": [
      "/home/aiyappa/anaconda3/lib/python3.7/site-packages/tables/path.py:112: NaturalNameWarning: object name is not a valid Python identifier: 'sim_153_p_rew_0.01_start_1_dq_2'; it does not match the pattern ``^[a-zA-Z_][a-zA-Z0-9_]*$``; you will not be able to use natural naming to access this object; using ``getattr()`` will still work, though\n",
      "  NaturalNameWarning)\n"
     ]
    },
    {
     "name": "stdout",
     "output_type": "stream",
     "text": [
      "(sim,lamb_da,p_rew,start,dose_quantity) =  (153, 0.001, 0.01, 10, 0.1)\n",
      "{33, 97, 69, 73, 76, 13, 81, 83, 88, 61}\n",
      "sim_153_p_rew_0.01_start_10_dq_0.1\n"
     ]
    },
    {
     "name": "stderr",
     "output_type": "stream",
     "text": [
      "/home/aiyappa/anaconda3/lib/python3.7/site-packages/tables/path.py:112: NaturalNameWarning: object name is not a valid Python identifier: 'sim_153_p_rew_0.01_start_10_dq_0.1'; it does not match the pattern ``^[a-zA-Z_][a-zA-Z0-9_]*$``; you will not be able to use natural naming to access this object; using ``getattr()`` will still work, though\n",
      "  NaturalNameWarning)\n"
     ]
    },
    {
     "name": "stdout",
     "output_type": "stream",
     "text": [
      "(sim,lamb_da,p_rew,start,dose_quantity) =  (153, 0.001, 0.01, 10, 2)\n",
      "{1, 66, 2, 3, 6, 40, 54, 24, 58, 92}\n",
      "sim_153_p_rew_0.01_start_10_dq_2\n"
     ]
    },
    {
     "name": "stderr",
     "output_type": "stream",
     "text": [
      "/home/aiyappa/anaconda3/lib/python3.7/site-packages/tables/path.py:112: NaturalNameWarning: object name is not a valid Python identifier: 'sim_153_p_rew_0.01_start_10_dq_2'; it does not match the pattern ``^[a-zA-Z_][a-zA-Z0-9_]*$``; you will not be able to use natural naming to access this object; using ``getattr()`` will still work, though\n",
      "  NaturalNameWarning)\n"
     ]
    },
    {
     "name": "stdout",
     "output_type": "stream",
     "text": [
      "(sim,lamb_da,p_rew,start,dose_quantity) =  (153, 0.01, 0.10000000000000002, 1, 0.1)\n",
      "{12}\n",
      "sim_153_p_rew_0.1_start_1_dq_0.1\n"
     ]
    },
    {
     "name": "stderr",
     "output_type": "stream",
     "text": [
      "/home/aiyappa/anaconda3/lib/python3.7/site-packages/tables/path.py:112: NaturalNameWarning: object name is not a valid Python identifier: 'sim_153_p_rew_0.1_start_1_dq_0.1'; it does not match the pattern ``^[a-zA-Z_][a-zA-Z0-9_]*$``; you will not be able to use natural naming to access this object; using ``getattr()`` will still work, though\n",
      "  NaturalNameWarning)\n"
     ]
    },
    {
     "name": "stdout",
     "output_type": "stream",
     "text": [
      "(sim,lamb_da,p_rew,start,dose_quantity) =  (153, 0.01, 0.10000000000000002, 1, 2)\n",
      "{77}\n",
      "sim_153_p_rew_0.1_start_1_dq_2\n"
     ]
    },
    {
     "name": "stderr",
     "output_type": "stream",
     "text": [
      "/home/aiyappa/anaconda3/lib/python3.7/site-packages/tables/path.py:112: NaturalNameWarning: object name is not a valid Python identifier: 'sim_153_p_rew_0.1_start_1_dq_2'; it does not match the pattern ``^[a-zA-Z_][a-zA-Z0-9_]*$``; you will not be able to use natural naming to access this object; using ``getattr()`` will still work, though\n",
      "  NaturalNameWarning)\n"
     ]
    },
    {
     "name": "stdout",
     "output_type": "stream",
     "text": [
      "(sim,lamb_da,p_rew,start,dose_quantity) =  (153, 0.01, 0.10000000000000002, 10, 0.1)\n",
      "{96, 40, 44, 78, 15, 80, 86, 89, 26, 93}\n",
      "sim_153_p_rew_0.1_start_10_dq_0.1\n"
     ]
    },
    {
     "name": "stderr",
     "output_type": "stream",
     "text": [
      "/home/aiyappa/anaconda3/lib/python3.7/site-packages/tables/path.py:112: NaturalNameWarning: object name is not a valid Python identifier: 'sim_153_p_rew_0.1_start_10_dq_0.1'; it does not match the pattern ``^[a-zA-Z_][a-zA-Z0-9_]*$``; you will not be able to use natural naming to access this object; using ``getattr()`` will still work, though\n",
      "  NaturalNameWarning)\n"
     ]
    },
    {
     "name": "stdout",
     "output_type": "stream",
     "text": [
      "(sim,lamb_da,p_rew,start,dose_quantity) =  (153, 0.01, 0.10000000000000002, 10, 2)\n",
      "{64, 36, 78, 82, 84, 26, 60, 29, 95, 31}\n",
      "sim_153_p_rew_0.1_start_10_dq_2\n"
     ]
    },
    {
     "name": "stderr",
     "output_type": "stream",
     "text": [
      "/home/aiyappa/anaconda3/lib/python3.7/site-packages/tables/path.py:112: NaturalNameWarning: object name is not a valid Python identifier: 'sim_153_p_rew_0.1_start_10_dq_2'; it does not match the pattern ``^[a-zA-Z_][a-zA-Z0-9_]*$``; you will not be able to use natural naming to access this object; using ``getattr()`` will still work, though\n",
      "  NaturalNameWarning)\n"
     ]
    },
    {
     "name": "stdout",
     "output_type": "stream",
     "text": [
      "(sim,lamb_da,p_rew,start,dose_quantity) =  (153, 0.10000000000000002, 1.0, 1, 0.1)\n",
      "{65}\n",
      "sim_153_p_rew_1_start_1_dq_0.1\n"
     ]
    },
    {
     "name": "stderr",
     "output_type": "stream",
     "text": [
      "/home/aiyappa/anaconda3/lib/python3.7/site-packages/tables/path.py:112: NaturalNameWarning: object name is not a valid Python identifier: 'sim_153_p_rew_1_start_1_dq_0.1'; it does not match the pattern ``^[a-zA-Z_][a-zA-Z0-9_]*$``; you will not be able to use natural naming to access this object; using ``getattr()`` will still work, though\n",
      "  NaturalNameWarning)\n"
     ]
    },
    {
     "name": "stdout",
     "output_type": "stream",
     "text": [
      "(sim,lamb_da,p_rew,start,dose_quantity) =  (153, 0.10000000000000002, 1.0, 1, 2)\n",
      "{83}\n",
      "sim_153_p_rew_1_start_1_dq_2\n",
      "(sim,lamb_da,p_rew,start,dose_quantity) =  (153, 0.10000000000000002, 1.0, 10, 0.1)\n",
      "Initial node infection step failed\n",
      "None\n",
      "Initial node infection step failed\n",
      "None\n",
      "Initial node infection step failed\n",
      "None\n",
      "Initial node infection step failed\n",
      "None\n",
      "{70, 73, 45, 19, 84, 83, 22, 91, 63, 95}\n",
      "sim_153_p_rew_1_start_10_dq_0.1\n"
     ]
    },
    {
     "name": "stderr",
     "output_type": "stream",
     "text": [
      "/home/aiyappa/anaconda3/lib/python3.7/site-packages/tables/path.py:112: NaturalNameWarning: object name is not a valid Python identifier: 'sim_153_p_rew_1_start_10_dq_0.1'; it does not match the pattern ``^[a-zA-Z_][a-zA-Z0-9_]*$``; you will not be able to use natural naming to access this object; using ``getattr()`` will still work, though\n",
      "  NaturalNameWarning)\n"
     ]
    },
    {
     "name": "stdout",
     "output_type": "stream",
     "text": [
      "(sim,lamb_da,p_rew,start,dose_quantity) =  (153, 0.10000000000000002, 1.0, 10, 2)\n",
      "{65, 67, 68, 37, 74, 44, 21, 24, 58, 60}\n",
      "sim_153_p_rew_1_start_10_dq_2\n",
      "(sim,lamb_da,p_rew,start,dose_quantity) =  (154, 0.001, 0.01, 1, 0.1)\n",
      "{76}\n",
      "sim_154_p_rew_0.01_start_1_dq_0.1\n"
     ]
    },
    {
     "name": "stderr",
     "output_type": "stream",
     "text": [
      "/home/aiyappa/anaconda3/lib/python3.7/site-packages/tables/path.py:112: NaturalNameWarning: object name is not a valid Python identifier: 'sim_154_p_rew_0.01_start_1_dq_0.1'; it does not match the pattern ``^[a-zA-Z_][a-zA-Z0-9_]*$``; you will not be able to use natural naming to access this object; using ``getattr()`` will still work, though\n",
      "  NaturalNameWarning)\n"
     ]
    },
    {
     "name": "stdout",
     "output_type": "stream",
     "text": [
      "(sim,lamb_da,p_rew,start,dose_quantity) =  (154, 0.001, 0.01, 1, 2)\n",
      "{95}\n",
      "sim_154_p_rew_0.01_start_1_dq_2\n"
     ]
    },
    {
     "name": "stderr",
     "output_type": "stream",
     "text": [
      "/home/aiyappa/anaconda3/lib/python3.7/site-packages/tables/path.py:112: NaturalNameWarning: object name is not a valid Python identifier: 'sim_154_p_rew_0.01_start_1_dq_2'; it does not match the pattern ``^[a-zA-Z_][a-zA-Z0-9_]*$``; you will not be able to use natural naming to access this object; using ``getattr()`` will still work, though\n",
      "  NaturalNameWarning)\n"
     ]
    },
    {
     "name": "stdout",
     "output_type": "stream",
     "text": [
      "(sim,lamb_da,p_rew,start,dose_quantity) =  (154, 0.001, 0.01, 10, 0.1)\n",
      "{64, 98, 2, 7, 73, 76, 49, 18, 28, 93}\n",
      "sim_154_p_rew_0.01_start_10_dq_0.1\n"
     ]
    },
    {
     "name": "stderr",
     "output_type": "stream",
     "text": [
      "/home/aiyappa/anaconda3/lib/python3.7/site-packages/tables/path.py:112: NaturalNameWarning: object name is not a valid Python identifier: 'sim_154_p_rew_0.01_start_10_dq_0.1'; it does not match the pattern ``^[a-zA-Z_][a-zA-Z0-9_]*$``; you will not be able to use natural naming to access this object; using ``getattr()`` will still work, though\n",
      "  NaturalNameWarning)\n"
     ]
    },
    {
     "name": "stdout",
     "output_type": "stream",
     "text": [
      "(sim,lamb_da,p_rew,start,dose_quantity) =  (154, 0.001, 0.01, 10, 2)\n",
      "{97, 67, 43, 75, 18, 85, 86, 90, 60, 63}\n",
      "sim_154_p_rew_0.01_start_10_dq_2\n"
     ]
    },
    {
     "name": "stderr",
     "output_type": "stream",
     "text": [
      "/home/aiyappa/anaconda3/lib/python3.7/site-packages/tables/path.py:112: NaturalNameWarning: object name is not a valid Python identifier: 'sim_154_p_rew_0.01_start_10_dq_2'; it does not match the pattern ``^[a-zA-Z_][a-zA-Z0-9_]*$``; you will not be able to use natural naming to access this object; using ``getattr()`` will still work, though\n",
      "  NaturalNameWarning)\n"
     ]
    },
    {
     "name": "stdout",
     "output_type": "stream",
     "text": [
      "(sim,lamb_da,p_rew,start,dose_quantity) =  (154, 0.01, 0.10000000000000002, 1, 0.1)\n",
      "{96}\n",
      "sim_154_p_rew_0.1_start_1_dq_0.1\n"
     ]
    },
    {
     "name": "stderr",
     "output_type": "stream",
     "text": [
      "/home/aiyappa/anaconda3/lib/python3.7/site-packages/tables/path.py:112: NaturalNameWarning: object name is not a valid Python identifier: 'sim_154_p_rew_0.1_start_1_dq_0.1'; it does not match the pattern ``^[a-zA-Z_][a-zA-Z0-9_]*$``; you will not be able to use natural naming to access this object; using ``getattr()`` will still work, though\n",
      "  NaturalNameWarning)\n"
     ]
    },
    {
     "name": "stdout",
     "output_type": "stream",
     "text": [
      "(sim,lamb_da,p_rew,start,dose_quantity) =  (154, 0.01, 0.10000000000000002, 1, 2)\n",
      "{4}\n",
      "sim_154_p_rew_0.1_start_1_dq_2\n"
     ]
    },
    {
     "name": "stderr",
     "output_type": "stream",
     "text": [
      "/home/aiyappa/anaconda3/lib/python3.7/site-packages/tables/path.py:112: NaturalNameWarning: object name is not a valid Python identifier: 'sim_154_p_rew_0.1_start_1_dq_2'; it does not match the pattern ``^[a-zA-Z_][a-zA-Z0-9_]*$``; you will not be able to use natural naming to access this object; using ``getattr()`` will still work, though\n",
      "  NaturalNameWarning)\n"
     ]
    },
    {
     "name": "stdout",
     "output_type": "stream",
     "text": [
      "(sim,lamb_da,p_rew,start,dose_quantity) =  (154, 0.01, 0.10000000000000002, 10, 0.1)\n",
      "{5, 41, 75, 44, 43, 77, 50, 22, 94, 95}\n",
      "sim_154_p_rew_0.1_start_10_dq_0.1\n"
     ]
    },
    {
     "name": "stderr",
     "output_type": "stream",
     "text": [
      "/home/aiyappa/anaconda3/lib/python3.7/site-packages/tables/path.py:112: NaturalNameWarning: object name is not a valid Python identifier: 'sim_154_p_rew_0.1_start_10_dq_0.1'; it does not match the pattern ``^[a-zA-Z_][a-zA-Z0-9_]*$``; you will not be able to use natural naming to access this object; using ``getattr()`` will still work, though\n",
      "  NaturalNameWarning)\n"
     ]
    },
    {
     "name": "stdout",
     "output_type": "stream",
     "text": [
      "(sim,lamb_da,p_rew,start,dose_quantity) =  (154, 0.01, 0.10000000000000002, 10, 2)\n",
      "{32, 65, 97, 33, 74, 12, 49, 22, 26, 62}\n",
      "sim_154_p_rew_0.1_start_10_dq_2\n"
     ]
    },
    {
     "name": "stderr",
     "output_type": "stream",
     "text": [
      "/home/aiyappa/anaconda3/lib/python3.7/site-packages/tables/path.py:112: NaturalNameWarning: object name is not a valid Python identifier: 'sim_154_p_rew_0.1_start_10_dq_2'; it does not match the pattern ``^[a-zA-Z_][a-zA-Z0-9_]*$``; you will not be able to use natural naming to access this object; using ``getattr()`` will still work, though\n",
      "  NaturalNameWarning)\n"
     ]
    },
    {
     "name": "stdout",
     "output_type": "stream",
     "text": [
      "(sim,lamb_da,p_rew,start,dose_quantity) =  (154, 0.10000000000000002, 1.0, 1, 0.1)\n",
      "{11}\n",
      "sim_154_p_rew_1_start_1_dq_0.1\n"
     ]
    },
    {
     "name": "stderr",
     "output_type": "stream",
     "text": [
      "/home/aiyappa/anaconda3/lib/python3.7/site-packages/tables/path.py:112: NaturalNameWarning: object name is not a valid Python identifier: 'sim_154_p_rew_1_start_1_dq_0.1'; it does not match the pattern ``^[a-zA-Z_][a-zA-Z0-9_]*$``; you will not be able to use natural naming to access this object; using ``getattr()`` will still work, though\n",
      "  NaturalNameWarning)\n"
     ]
    },
    {
     "name": "stdout",
     "output_type": "stream",
     "text": [
      "(sim,lamb_da,p_rew,start,dose_quantity) =  (154, 0.10000000000000002, 1.0, 1, 2)\n",
      "{36}\n",
      "sim_154_p_rew_1_start_1_dq_2\n",
      "(sim,lamb_da,p_rew,start,dose_quantity) =  (154, 0.10000000000000002, 1.0, 10, 0.1)\n",
      "{70, 7, 40, 46, 47, 79, 81, 24, 59, 63}\n",
      "sim_154_p_rew_1_start_10_dq_0.1\n"
     ]
    },
    {
     "name": "stderr",
     "output_type": "stream",
     "text": [
      "/home/aiyappa/anaconda3/lib/python3.7/site-packages/tables/path.py:112: NaturalNameWarning: object name is not a valid Python identifier: 'sim_154_p_rew_1_start_10_dq_0.1'; it does not match the pattern ``^[a-zA-Z_][a-zA-Z0-9_]*$``; you will not be able to use natural naming to access this object; using ``getattr()`` will still work, though\n",
      "  NaturalNameWarning)\n"
     ]
    },
    {
     "name": "stdout",
     "output_type": "stream",
     "text": [
      "(sim,lamb_da,p_rew,start,dose_quantity) =  (154, 0.10000000000000002, 1.0, 10, 2)\n",
      "{0, 35, 37, 72, 15, 18, 54, 24, 26, 61}\n",
      "sim_154_p_rew_1_start_10_dq_2\n",
      "(sim,lamb_da,p_rew,start,dose_quantity) =  (155, 0.001, 0.01, 1, 0.1)\n",
      "{98}\n",
      "sim_155_p_rew_0.01_start_1_dq_0.1\n"
     ]
    },
    {
     "name": "stderr",
     "output_type": "stream",
     "text": [
      "/home/aiyappa/anaconda3/lib/python3.7/site-packages/tables/path.py:112: NaturalNameWarning: object name is not a valid Python identifier: 'sim_155_p_rew_0.01_start_1_dq_0.1'; it does not match the pattern ``^[a-zA-Z_][a-zA-Z0-9_]*$``; you will not be able to use natural naming to access this object; using ``getattr()`` will still work, though\n",
      "  NaturalNameWarning)\n"
     ]
    },
    {
     "name": "stdout",
     "output_type": "stream",
     "text": [
      "(sim,lamb_da,p_rew,start,dose_quantity) =  (155, 0.001, 0.01, 1, 2)\n",
      "{73}\n",
      "sim_155_p_rew_0.01_start_1_dq_2\n"
     ]
    },
    {
     "name": "stderr",
     "output_type": "stream",
     "text": [
      "/home/aiyappa/anaconda3/lib/python3.7/site-packages/tables/path.py:112: NaturalNameWarning: object name is not a valid Python identifier: 'sim_155_p_rew_0.01_start_1_dq_2'; it does not match the pattern ``^[a-zA-Z_][a-zA-Z0-9_]*$``; you will not be able to use natural naming to access this object; using ``getattr()`` will still work, though\n",
      "  NaturalNameWarning)\n"
     ]
    },
    {
     "name": "stdout",
     "output_type": "stream",
     "text": [
      "(sim,lamb_da,p_rew,start,dose_quantity) =  (155, 0.001, 0.01, 10, 0.1)\n",
      "{99, 36, 41, 17, 83, 54, 94, 89, 26, 30}\n",
      "sim_155_p_rew_0.01_start_10_dq_0.1\n"
     ]
    },
    {
     "name": "stderr",
     "output_type": "stream",
     "text": [
      "/home/aiyappa/anaconda3/lib/python3.7/site-packages/tables/path.py:112: NaturalNameWarning: object name is not a valid Python identifier: 'sim_155_p_rew_0.01_start_10_dq_0.1'; it does not match the pattern ``^[a-zA-Z_][a-zA-Z0-9_]*$``; you will not be able to use natural naming to access this object; using ``getattr()`` will still work, though\n",
      "  NaturalNameWarning)\n"
     ]
    },
    {
     "name": "stdout",
     "output_type": "stream",
     "text": [
      "(sim,lamb_da,p_rew,start,dose_quantity) =  (155, 0.001, 0.01, 10, 2)\n",
      "{97, 71, 8, 16, 49, 50, 56, 90, 59, 95}\n",
      "sim_155_p_rew_0.01_start_10_dq_2\n"
     ]
    },
    {
     "name": "stderr",
     "output_type": "stream",
     "text": [
      "/home/aiyappa/anaconda3/lib/python3.7/site-packages/tables/path.py:112: NaturalNameWarning: object name is not a valid Python identifier: 'sim_155_p_rew_0.01_start_10_dq_2'; it does not match the pattern ``^[a-zA-Z_][a-zA-Z0-9_]*$``; you will not be able to use natural naming to access this object; using ``getattr()`` will still work, though\n",
      "  NaturalNameWarning)\n"
     ]
    },
    {
     "name": "stdout",
     "output_type": "stream",
     "text": [
      "(sim,lamb_da,p_rew,start,dose_quantity) =  (155, 0.01, 0.10000000000000002, 1, 0.1)\n",
      "{67}\n",
      "sim_155_p_rew_0.1_start_1_dq_0.1\n"
     ]
    },
    {
     "name": "stderr",
     "output_type": "stream",
     "text": [
      "/home/aiyappa/anaconda3/lib/python3.7/site-packages/tables/path.py:112: NaturalNameWarning: object name is not a valid Python identifier: 'sim_155_p_rew_0.1_start_1_dq_0.1'; it does not match the pattern ``^[a-zA-Z_][a-zA-Z0-9_]*$``; you will not be able to use natural naming to access this object; using ``getattr()`` will still work, though\n",
      "  NaturalNameWarning)\n"
     ]
    },
    {
     "name": "stdout",
     "output_type": "stream",
     "text": [
      "(sim,lamb_da,p_rew,start,dose_quantity) =  (155, 0.01, 0.10000000000000002, 1, 2)\n",
      "{3}\n",
      "sim_155_p_rew_0.1_start_1_dq_2\n"
     ]
    },
    {
     "name": "stderr",
     "output_type": "stream",
     "text": [
      "/home/aiyappa/anaconda3/lib/python3.7/site-packages/tables/path.py:112: NaturalNameWarning: object name is not a valid Python identifier: 'sim_155_p_rew_0.1_start_1_dq_2'; it does not match the pattern ``^[a-zA-Z_][a-zA-Z0-9_]*$``; you will not be able to use natural naming to access this object; using ``getattr()`` will still work, though\n",
      "  NaturalNameWarning)\n"
     ]
    },
    {
     "name": "stdout",
     "output_type": "stream",
     "text": [
      "(sim,lamb_da,p_rew,start,dose_quantity) =  (155, 0.01, 0.10000000000000002, 10, 0.1)\n",
      "{0, 6, 8, 12, 79, 50, 52, 24, 88, 92}\n",
      "sim_155_p_rew_0.1_start_10_dq_0.1\n"
     ]
    },
    {
     "name": "stderr",
     "output_type": "stream",
     "text": [
      "/home/aiyappa/anaconda3/lib/python3.7/site-packages/tables/path.py:112: NaturalNameWarning: object name is not a valid Python identifier: 'sim_155_p_rew_0.1_start_10_dq_0.1'; it does not match the pattern ``^[a-zA-Z_][a-zA-Z0-9_]*$``; you will not be able to use natural naming to access this object; using ``getattr()`` will still work, though\n",
      "  NaturalNameWarning)\n"
     ]
    },
    {
     "name": "stdout",
     "output_type": "stream",
     "text": [
      "(sim,lamb_da,p_rew,start,dose_quantity) =  (155, 0.01, 0.10000000000000002, 10, 2)\n",
      "{35, 4, 72, 9, 42, 8, 13, 48, 20, 58}\n",
      "sim_155_p_rew_0.1_start_10_dq_2\n"
     ]
    },
    {
     "name": "stderr",
     "output_type": "stream",
     "text": [
      "/home/aiyappa/anaconda3/lib/python3.7/site-packages/tables/path.py:112: NaturalNameWarning: object name is not a valid Python identifier: 'sim_155_p_rew_0.1_start_10_dq_2'; it does not match the pattern ``^[a-zA-Z_][a-zA-Z0-9_]*$``; you will not be able to use natural naming to access this object; using ``getattr()`` will still work, though\n",
      "  NaturalNameWarning)\n"
     ]
    },
    {
     "name": "stdout",
     "output_type": "stream",
     "text": [
      "(sim,lamb_da,p_rew,start,dose_quantity) =  (155, 0.10000000000000002, 1.0, 1, 0.1)\n",
      "{99}\n",
      "sim_155_p_rew_1_start_1_dq_0.1\n"
     ]
    },
    {
     "name": "stderr",
     "output_type": "stream",
     "text": [
      "/home/aiyappa/anaconda3/lib/python3.7/site-packages/tables/path.py:112: NaturalNameWarning: object name is not a valid Python identifier: 'sim_155_p_rew_1_start_1_dq_0.1'; it does not match the pattern ``^[a-zA-Z_][a-zA-Z0-9_]*$``; you will not be able to use natural naming to access this object; using ``getattr()`` will still work, though\n",
      "  NaturalNameWarning)\n"
     ]
    },
    {
     "name": "stdout",
     "output_type": "stream",
     "text": [
      "(sim,lamb_da,p_rew,start,dose_quantity) =  (155, 0.10000000000000002, 1.0, 1, 2)\n",
      "{69}\n",
      "sim_155_p_rew_1_start_1_dq_2\n",
      "(sim,lamb_da,p_rew,start,dose_quantity) =  (155, 0.10000000000000002, 1.0, 10, 0.1)\n",
      "Initial node infection step failed\n",
      "None\n",
      "Initial node infection step failed\n",
      "None\n",
      "{1, 3, 67, 10, 76, 45, 12, 82, 51, 94}\n",
      "sim_155_p_rew_1_start_10_dq_0.1\n"
     ]
    },
    {
     "name": "stderr",
     "output_type": "stream",
     "text": [
      "/home/aiyappa/anaconda3/lib/python3.7/site-packages/tables/path.py:112: NaturalNameWarning: object name is not a valid Python identifier: 'sim_155_p_rew_1_start_10_dq_0.1'; it does not match the pattern ``^[a-zA-Z_][a-zA-Z0-9_]*$``; you will not be able to use natural naming to access this object; using ``getattr()`` will still work, though\n",
      "  NaturalNameWarning)\n"
     ]
    },
    {
     "name": "stdout",
     "output_type": "stream",
     "text": [
      "(sim,lamb_da,p_rew,start,dose_quantity) =  (155, 0.10000000000000002, 1.0, 10, 2)\n",
      "{6, 71, 39, 15, 19, 52, 94, 27, 28, 30}\n",
      "sim_155_p_rew_1_start_10_dq_2\n",
      "(sim,lamb_da,p_rew,start,dose_quantity) =  (156, 0.001, 0.01, 1, 0.1)\n",
      "{83}\n",
      "sim_156_p_rew_0.01_start_1_dq_0.1\n"
     ]
    },
    {
     "name": "stderr",
     "output_type": "stream",
     "text": [
      "/home/aiyappa/anaconda3/lib/python3.7/site-packages/tables/path.py:112: NaturalNameWarning: object name is not a valid Python identifier: 'sim_156_p_rew_0.01_start_1_dq_0.1'; it does not match the pattern ``^[a-zA-Z_][a-zA-Z0-9_]*$``; you will not be able to use natural naming to access this object; using ``getattr()`` will still work, though\n",
      "  NaturalNameWarning)\n"
     ]
    },
    {
     "name": "stdout",
     "output_type": "stream",
     "text": [
      "(sim,lamb_da,p_rew,start,dose_quantity) =  (156, 0.001, 0.01, 1, 2)\n",
      "{62}\n",
      "sim_156_p_rew_0.01_start_1_dq_2\n"
     ]
    },
    {
     "name": "stderr",
     "output_type": "stream",
     "text": [
      "/home/aiyappa/anaconda3/lib/python3.7/site-packages/tables/path.py:112: NaturalNameWarning: object name is not a valid Python identifier: 'sim_156_p_rew_0.01_start_1_dq_2'; it does not match the pattern ``^[a-zA-Z_][a-zA-Z0-9_]*$``; you will not be able to use natural naming to access this object; using ``getattr()`` will still work, though\n",
      "  NaturalNameWarning)\n"
     ]
    },
    {
     "name": "stdout",
     "output_type": "stream",
     "text": [
      "(sim,lamb_da,p_rew,start,dose_quantity) =  (156, 0.001, 0.01, 10, 0.1)\n",
      "{65, 66, 68, 8, 42, 46, 79, 16, 52, 27}\n",
      "sim_156_p_rew_0.01_start_10_dq_0.1\n"
     ]
    },
    {
     "name": "stderr",
     "output_type": "stream",
     "text": [
      "/home/aiyappa/anaconda3/lib/python3.7/site-packages/tables/path.py:112: NaturalNameWarning: object name is not a valid Python identifier: 'sim_156_p_rew_0.01_start_10_dq_0.1'; it does not match the pattern ``^[a-zA-Z_][a-zA-Z0-9_]*$``; you will not be able to use natural naming to access this object; using ``getattr()`` will still work, though\n",
      "  NaturalNameWarning)\n"
     ]
    },
    {
     "name": "stdout",
     "output_type": "stream",
     "text": [
      "(sim,lamb_da,p_rew,start,dose_quantity) =  (156, 0.001, 0.01, 10, 2)\n",
      "{2, 73, 16, 18, 30, 21, 22, 55, 91, 94}\n",
      "sim_156_p_rew_0.01_start_10_dq_2\n"
     ]
    },
    {
     "name": "stderr",
     "output_type": "stream",
     "text": [
      "/home/aiyappa/anaconda3/lib/python3.7/site-packages/tables/path.py:112: NaturalNameWarning: object name is not a valid Python identifier: 'sim_156_p_rew_0.01_start_10_dq_2'; it does not match the pattern ``^[a-zA-Z_][a-zA-Z0-9_]*$``; you will not be able to use natural naming to access this object; using ``getattr()`` will still work, though\n",
      "  NaturalNameWarning)\n"
     ]
    },
    {
     "name": "stdout",
     "output_type": "stream",
     "text": [
      "(sim,lamb_da,p_rew,start,dose_quantity) =  (156, 0.01, 0.10000000000000002, 1, 0.1)\n",
      "{89}\n",
      "sim_156_p_rew_0.1_start_1_dq_0.1\n"
     ]
    },
    {
     "name": "stderr",
     "output_type": "stream",
     "text": [
      "/home/aiyappa/anaconda3/lib/python3.7/site-packages/tables/path.py:112: NaturalNameWarning: object name is not a valid Python identifier: 'sim_156_p_rew_0.1_start_1_dq_0.1'; it does not match the pattern ``^[a-zA-Z_][a-zA-Z0-9_]*$``; you will not be able to use natural naming to access this object; using ``getattr()`` will still work, though\n",
      "  NaturalNameWarning)\n"
     ]
    },
    {
     "name": "stdout",
     "output_type": "stream",
     "text": [
      "(sim,lamb_da,p_rew,start,dose_quantity) =  (156, 0.01, 0.10000000000000002, 1, 2)\n",
      "{0}\n",
      "sim_156_p_rew_0.1_start_1_dq_2\n"
     ]
    },
    {
     "name": "stderr",
     "output_type": "stream",
     "text": [
      "/home/aiyappa/anaconda3/lib/python3.7/site-packages/tables/path.py:112: NaturalNameWarning: object name is not a valid Python identifier: 'sim_156_p_rew_0.1_start_1_dq_2'; it does not match the pattern ``^[a-zA-Z_][a-zA-Z0-9_]*$``; you will not be able to use natural naming to access this object; using ``getattr()`` will still work, though\n",
      "  NaturalNameWarning)\n"
     ]
    },
    {
     "name": "stdout",
     "output_type": "stream",
     "text": [
      "(sim,lamb_da,p_rew,start,dose_quantity) =  (156, 0.01, 0.10000000000000002, 10, 0.1)\n",
      "{1, 98, 4, 77, 47, 79, 82, 21, 62, 63}\n",
      "sim_156_p_rew_0.1_start_10_dq_0.1\n"
     ]
    },
    {
     "name": "stderr",
     "output_type": "stream",
     "text": [
      "/home/aiyappa/anaconda3/lib/python3.7/site-packages/tables/path.py:112: NaturalNameWarning: object name is not a valid Python identifier: 'sim_156_p_rew_0.1_start_10_dq_0.1'; it does not match the pattern ``^[a-zA-Z_][a-zA-Z0-9_]*$``; you will not be able to use natural naming to access this object; using ``getattr()`` will still work, though\n",
      "  NaturalNameWarning)\n"
     ]
    },
    {
     "name": "stdout",
     "output_type": "stream",
     "text": [
      "(sim,lamb_da,p_rew,start,dose_quantity) =  (156, 0.01, 0.10000000000000002, 10, 2)\n",
      "{2, 68, 36, 11, 15, 84, 21, 22, 87, 88}\n",
      "sim_156_p_rew_0.1_start_10_dq_2\n"
     ]
    },
    {
     "name": "stderr",
     "output_type": "stream",
     "text": [
      "/home/aiyappa/anaconda3/lib/python3.7/site-packages/tables/path.py:112: NaturalNameWarning: object name is not a valid Python identifier: 'sim_156_p_rew_0.1_start_10_dq_2'; it does not match the pattern ``^[a-zA-Z_][a-zA-Z0-9_]*$``; you will not be able to use natural naming to access this object; using ``getattr()`` will still work, though\n",
      "  NaturalNameWarning)\n"
     ]
    },
    {
     "name": "stdout",
     "output_type": "stream",
     "text": [
      "(sim,lamb_da,p_rew,start,dose_quantity) =  (156, 0.10000000000000002, 1.0, 1, 0.1)\n",
      "{53}\n",
      "sim_156_p_rew_1_start_1_dq_0.1\n"
     ]
    },
    {
     "name": "stderr",
     "output_type": "stream",
     "text": [
      "/home/aiyappa/anaconda3/lib/python3.7/site-packages/tables/path.py:112: NaturalNameWarning: object name is not a valid Python identifier: 'sim_156_p_rew_1_start_1_dq_0.1'; it does not match the pattern ``^[a-zA-Z_][a-zA-Z0-9_]*$``; you will not be able to use natural naming to access this object; using ``getattr()`` will still work, though\n",
      "  NaturalNameWarning)\n"
     ]
    },
    {
     "name": "stdout",
     "output_type": "stream",
     "text": [
      "(sim,lamb_da,p_rew,start,dose_quantity) =  (156, 0.10000000000000002, 1.0, 1, 2)\n",
      "{25}\n",
      "sim_156_p_rew_1_start_1_dq_2\n",
      "(sim,lamb_da,p_rew,start,dose_quantity) =  (156, 0.10000000000000002, 1.0, 10, 0.1)\n",
      "{64, 4, 69, 70, 79, 47, 84, 85, 57, 90}\n",
      "sim_156_p_rew_1_start_10_dq_0.1\n"
     ]
    },
    {
     "name": "stderr",
     "output_type": "stream",
     "text": [
      "/home/aiyappa/anaconda3/lib/python3.7/site-packages/tables/path.py:112: NaturalNameWarning: object name is not a valid Python identifier: 'sim_156_p_rew_1_start_10_dq_0.1'; it does not match the pattern ``^[a-zA-Z_][a-zA-Z0-9_]*$``; you will not be able to use natural naming to access this object; using ``getattr()`` will still work, though\n",
      "  NaturalNameWarning)\n"
     ]
    },
    {
     "name": "stdout",
     "output_type": "stream",
     "text": [
      "(sim,lamb_da,p_rew,start,dose_quantity) =  (156, 0.10000000000000002, 1.0, 10, 2)\n",
      "{0, 33, 99, 72, 55, 56, 62, 26, 88, 94}\n",
      "sim_156_p_rew_1_start_10_dq_2\n",
      "(sim,lamb_da,p_rew,start,dose_quantity) =  (157, 0.001, 0.01, 1, 0.1)\n",
      "{25}\n",
      "sim_157_p_rew_0.01_start_1_dq_0.1\n"
     ]
    },
    {
     "name": "stderr",
     "output_type": "stream",
     "text": [
      "/home/aiyappa/anaconda3/lib/python3.7/site-packages/tables/path.py:112: NaturalNameWarning: object name is not a valid Python identifier: 'sim_157_p_rew_0.01_start_1_dq_0.1'; it does not match the pattern ``^[a-zA-Z_][a-zA-Z0-9_]*$``; you will not be able to use natural naming to access this object; using ``getattr()`` will still work, though\n",
      "  NaturalNameWarning)\n"
     ]
    },
    {
     "name": "stdout",
     "output_type": "stream",
     "text": [
      "(sim,lamb_da,p_rew,start,dose_quantity) =  (157, 0.001, 0.01, 1, 2)\n",
      "{1}\n",
      "sim_157_p_rew_0.01_start_1_dq_2\n"
     ]
    },
    {
     "name": "stderr",
     "output_type": "stream",
     "text": [
      "/home/aiyappa/anaconda3/lib/python3.7/site-packages/tables/path.py:112: NaturalNameWarning: object name is not a valid Python identifier: 'sim_157_p_rew_0.01_start_1_dq_2'; it does not match the pattern ``^[a-zA-Z_][a-zA-Z0-9_]*$``; you will not be able to use natural naming to access this object; using ``getattr()`` will still work, though\n",
      "  NaturalNameWarning)\n"
     ]
    },
    {
     "name": "stdout",
     "output_type": "stream",
     "text": [
      "(sim,lamb_da,p_rew,start,dose_quantity) =  (157, 0.001, 0.01, 10, 0.1)\n",
      "{36, 37, 74, 43, 77, 79, 19, 84, 23, 58}\n",
      "sim_157_p_rew_0.01_start_10_dq_0.1\n"
     ]
    },
    {
     "name": "stderr",
     "output_type": "stream",
     "text": [
      "/home/aiyappa/anaconda3/lib/python3.7/site-packages/tables/path.py:112: NaturalNameWarning: object name is not a valid Python identifier: 'sim_157_p_rew_0.01_start_10_dq_0.1'; it does not match the pattern ``^[a-zA-Z_][a-zA-Z0-9_]*$``; you will not be able to use natural naming to access this object; using ``getattr()`` will still work, though\n",
      "  NaturalNameWarning)\n"
     ]
    },
    {
     "name": "stdout",
     "output_type": "stream",
     "text": [
      "(sim,lamb_da,p_rew,start,dose_quantity) =  (157, 0.001, 0.01, 10, 2)\n",
      "{0, 32, 67, 5, 70, 13, 78, 20, 86, 25}\n",
      "sim_157_p_rew_0.01_start_10_dq_2\n"
     ]
    },
    {
     "name": "stderr",
     "output_type": "stream",
     "text": [
      "/home/aiyappa/anaconda3/lib/python3.7/site-packages/tables/path.py:112: NaturalNameWarning: object name is not a valid Python identifier: 'sim_157_p_rew_0.01_start_10_dq_2'; it does not match the pattern ``^[a-zA-Z_][a-zA-Z0-9_]*$``; you will not be able to use natural naming to access this object; using ``getattr()`` will still work, though\n",
      "  NaturalNameWarning)\n"
     ]
    },
    {
     "name": "stdout",
     "output_type": "stream",
     "text": [
      "(sim,lamb_da,p_rew,start,dose_quantity) =  (157, 0.01, 0.10000000000000002, 1, 0.1)\n",
      "{29}\n",
      "sim_157_p_rew_0.1_start_1_dq_0.1\n"
     ]
    },
    {
     "name": "stderr",
     "output_type": "stream",
     "text": [
      "/home/aiyappa/anaconda3/lib/python3.7/site-packages/tables/path.py:112: NaturalNameWarning: object name is not a valid Python identifier: 'sim_157_p_rew_0.1_start_1_dq_0.1'; it does not match the pattern ``^[a-zA-Z_][a-zA-Z0-9_]*$``; you will not be able to use natural naming to access this object; using ``getattr()`` will still work, though\n",
      "  NaturalNameWarning)\n"
     ]
    },
    {
     "name": "stdout",
     "output_type": "stream",
     "text": [
      "(sim,lamb_da,p_rew,start,dose_quantity) =  (157, 0.01, 0.10000000000000002, 1, 2)\n",
      "{96}\n",
      "sim_157_p_rew_0.1_start_1_dq_2\n"
     ]
    },
    {
     "name": "stderr",
     "output_type": "stream",
     "text": [
      "/home/aiyappa/anaconda3/lib/python3.7/site-packages/tables/path.py:112: NaturalNameWarning: object name is not a valid Python identifier: 'sim_157_p_rew_0.1_start_1_dq_2'; it does not match the pattern ``^[a-zA-Z_][a-zA-Z0-9_]*$``; you will not be able to use natural naming to access this object; using ``getattr()`` will still work, though\n",
      "  NaturalNameWarning)\n"
     ]
    },
    {
     "name": "stdout",
     "output_type": "stream",
     "text": [
      "(sim,lamb_da,p_rew,start,dose_quantity) =  (157, 0.01, 0.10000000000000002, 10, 0.1)\n",
      "{32, 3, 4, 74, 11, 78, 51, 52, 30, 31}\n",
      "sim_157_p_rew_0.1_start_10_dq_0.1\n"
     ]
    },
    {
     "name": "stderr",
     "output_type": "stream",
     "text": [
      "/home/aiyappa/anaconda3/lib/python3.7/site-packages/tables/path.py:112: NaturalNameWarning: object name is not a valid Python identifier: 'sim_157_p_rew_0.1_start_10_dq_0.1'; it does not match the pattern ``^[a-zA-Z_][a-zA-Z0-9_]*$``; you will not be able to use natural naming to access this object; using ``getattr()`` will still work, though\n",
      "  NaturalNameWarning)\n"
     ]
    },
    {
     "name": "stdout",
     "output_type": "stream",
     "text": [
      "(sim,lamb_da,p_rew,start,dose_quantity) =  (157, 0.01, 0.10000000000000002, 10, 2)\n",
      "{97, 3, 71, 77, 48, 51, 23, 22, 54, 89}\n",
      "sim_157_p_rew_0.1_start_10_dq_2\n"
     ]
    },
    {
     "name": "stderr",
     "output_type": "stream",
     "text": [
      "/home/aiyappa/anaconda3/lib/python3.7/site-packages/tables/path.py:112: NaturalNameWarning: object name is not a valid Python identifier: 'sim_157_p_rew_0.1_start_10_dq_2'; it does not match the pattern ``^[a-zA-Z_][a-zA-Z0-9_]*$``; you will not be able to use natural naming to access this object; using ``getattr()`` will still work, though\n",
      "  NaturalNameWarning)\n"
     ]
    },
    {
     "name": "stdout",
     "output_type": "stream",
     "text": [
      "(sim,lamb_da,p_rew,start,dose_quantity) =  (157, 0.10000000000000002, 1.0, 1, 0.1)\n",
      "{20}\n",
      "sim_157_p_rew_1_start_1_dq_0.1\n"
     ]
    },
    {
     "name": "stderr",
     "output_type": "stream",
     "text": [
      "/home/aiyappa/anaconda3/lib/python3.7/site-packages/tables/path.py:112: NaturalNameWarning: object name is not a valid Python identifier: 'sim_157_p_rew_1_start_1_dq_0.1'; it does not match the pattern ``^[a-zA-Z_][a-zA-Z0-9_]*$``; you will not be able to use natural naming to access this object; using ``getattr()`` will still work, though\n",
      "  NaturalNameWarning)\n"
     ]
    },
    {
     "name": "stdout",
     "output_type": "stream",
     "text": [
      "(sim,lamb_da,p_rew,start,dose_quantity) =  (157, 0.10000000000000002, 1.0, 1, 2)\n",
      "{89}\n",
      "sim_157_p_rew_1_start_1_dq_2\n",
      "(sim,lamb_da,p_rew,start,dose_quantity) =  (157, 0.10000000000000002, 1.0, 10, 0.1)\n",
      "Initial node infection step failed\n",
      "None\n",
      "Initial node infection step failed\n",
      "None\n",
      "Initial node infection step failed\n",
      "None\n",
      "Initial node infection step failed\n",
      "None\n",
      "{3, 6, 8, 43, 77, 22, 86, 89, 28, 30}\n",
      "sim_157_p_rew_1_start_10_dq_0.1\n"
     ]
    },
    {
     "name": "stderr",
     "output_type": "stream",
     "text": [
      "/home/aiyappa/anaconda3/lib/python3.7/site-packages/tables/path.py:112: NaturalNameWarning: object name is not a valid Python identifier: 'sim_157_p_rew_1_start_10_dq_0.1'; it does not match the pattern ``^[a-zA-Z_][a-zA-Z0-9_]*$``; you will not be able to use natural naming to access this object; using ``getattr()`` will still work, though\n",
      "  NaturalNameWarning)\n"
     ]
    },
    {
     "name": "stdout",
     "output_type": "stream",
     "text": [
      "(sim,lamb_da,p_rew,start,dose_quantity) =  (157, 0.10000000000000002, 1.0, 10, 2)\n",
      "{65, 98, 68, 13, 16, 17, 50, 82, 91, 62}\n",
      "sim_157_p_rew_1_start_10_dq_2\n",
      "(sim,lamb_da,p_rew,start,dose_quantity) =  (158, 0.001, 0.01, 1, 0.1)\n",
      "{19}\n",
      "sim_158_p_rew_0.01_start_1_dq_0.1\n"
     ]
    },
    {
     "name": "stderr",
     "output_type": "stream",
     "text": [
      "/home/aiyappa/anaconda3/lib/python3.7/site-packages/tables/path.py:112: NaturalNameWarning: object name is not a valid Python identifier: 'sim_158_p_rew_0.01_start_1_dq_0.1'; it does not match the pattern ``^[a-zA-Z_][a-zA-Z0-9_]*$``; you will not be able to use natural naming to access this object; using ``getattr()`` will still work, though\n",
      "  NaturalNameWarning)\n"
     ]
    },
    {
     "name": "stdout",
     "output_type": "stream",
     "text": [
      "(sim,lamb_da,p_rew,start,dose_quantity) =  (158, 0.001, 0.01, 1, 2)\n",
      "{60}\n",
      "sim_158_p_rew_0.01_start_1_dq_2\n"
     ]
    },
    {
     "name": "stderr",
     "output_type": "stream",
     "text": [
      "/home/aiyappa/anaconda3/lib/python3.7/site-packages/tables/path.py:112: NaturalNameWarning: object name is not a valid Python identifier: 'sim_158_p_rew_0.01_start_1_dq_2'; it does not match the pattern ``^[a-zA-Z_][a-zA-Z0-9_]*$``; you will not be able to use natural naming to access this object; using ``getattr()`` will still work, though\n",
      "  NaturalNameWarning)\n"
     ]
    },
    {
     "name": "stdout",
     "output_type": "stream",
     "text": [
      "(sim,lamb_da,p_rew,start,dose_quantity) =  (158, 0.001, 0.01, 10, 0.1)\n",
      "{44, 18, 61, 83, 21, 54, 85, 88, 93, 63}\n",
      "sim_158_p_rew_0.01_start_10_dq_0.1\n"
     ]
    },
    {
     "name": "stderr",
     "output_type": "stream",
     "text": [
      "/home/aiyappa/anaconda3/lib/python3.7/site-packages/tables/path.py:112: NaturalNameWarning: object name is not a valid Python identifier: 'sim_158_p_rew_0.01_start_10_dq_0.1'; it does not match the pattern ``^[a-zA-Z_][a-zA-Z0-9_]*$``; you will not be able to use natural naming to access this object; using ``getattr()`` will still work, though\n",
      "  NaturalNameWarning)\n"
     ]
    },
    {
     "name": "stdout",
     "output_type": "stream",
     "text": [
      "(sim,lamb_da,p_rew,start,dose_quantity) =  (158, 0.001, 0.01, 10, 2)\n",
      "{99, 38, 71, 6, 42, 43, 45, 78, 57, 58}\n",
      "sim_158_p_rew_0.01_start_10_dq_2\n"
     ]
    },
    {
     "name": "stderr",
     "output_type": "stream",
     "text": [
      "/home/aiyappa/anaconda3/lib/python3.7/site-packages/tables/path.py:112: NaturalNameWarning: object name is not a valid Python identifier: 'sim_158_p_rew_0.01_start_10_dq_2'; it does not match the pattern ``^[a-zA-Z_][a-zA-Z0-9_]*$``; you will not be able to use natural naming to access this object; using ``getattr()`` will still work, though\n",
      "  NaturalNameWarning)\n"
     ]
    },
    {
     "name": "stdout",
     "output_type": "stream",
     "text": [
      "(sim,lamb_da,p_rew,start,dose_quantity) =  (158, 0.01, 0.10000000000000002, 1, 0.1)\n",
      "{69}\n",
      "sim_158_p_rew_0.1_start_1_dq_0.1\n"
     ]
    },
    {
     "name": "stderr",
     "output_type": "stream",
     "text": [
      "/home/aiyappa/anaconda3/lib/python3.7/site-packages/tables/path.py:112: NaturalNameWarning: object name is not a valid Python identifier: 'sim_158_p_rew_0.1_start_1_dq_0.1'; it does not match the pattern ``^[a-zA-Z_][a-zA-Z0-9_]*$``; you will not be able to use natural naming to access this object; using ``getattr()`` will still work, though\n",
      "  NaturalNameWarning)\n"
     ]
    },
    {
     "name": "stdout",
     "output_type": "stream",
     "text": [
      "(sim,lamb_da,p_rew,start,dose_quantity) =  (158, 0.01, 0.10000000000000002, 1, 2)\n",
      "{20}\n",
      "sim_158_p_rew_0.1_start_1_dq_2\n"
     ]
    },
    {
     "name": "stderr",
     "output_type": "stream",
     "text": [
      "/home/aiyappa/anaconda3/lib/python3.7/site-packages/tables/path.py:112: NaturalNameWarning: object name is not a valid Python identifier: 'sim_158_p_rew_0.1_start_1_dq_2'; it does not match the pattern ``^[a-zA-Z_][a-zA-Z0-9_]*$``; you will not be able to use natural naming to access this object; using ``getattr()`` will still work, though\n",
      "  NaturalNameWarning)\n"
     ]
    },
    {
     "name": "stdout",
     "output_type": "stream",
     "text": [
      "(sim,lamb_da,p_rew,start,dose_quantity) =  (158, 0.01, 0.10000000000000002, 10, 0.1)\n",
      "Initial node infection step failed\n",
      "None\n",
      "{0, 67, 4, 5, 38, 47, 19, 21, 89, 92}\n",
      "sim_158_p_rew_0.1_start_10_dq_0.1\n"
     ]
    },
    {
     "name": "stderr",
     "output_type": "stream",
     "text": [
      "/home/aiyappa/anaconda3/lib/python3.7/site-packages/tables/path.py:112: NaturalNameWarning: object name is not a valid Python identifier: 'sim_158_p_rew_0.1_start_10_dq_0.1'; it does not match the pattern ``^[a-zA-Z_][a-zA-Z0-9_]*$``; you will not be able to use natural naming to access this object; using ``getattr()`` will still work, though\n",
      "  NaturalNameWarning)\n"
     ]
    },
    {
     "name": "stdout",
     "output_type": "stream",
     "text": [
      "(sim,lamb_da,p_rew,start,dose_quantity) =  (158, 0.01, 0.10000000000000002, 10, 2)\n",
      "{2, 99, 45, 78, 47, 80, 81, 20, 27, 94}\n",
      "sim_158_p_rew_0.1_start_10_dq_2\n"
     ]
    },
    {
     "name": "stderr",
     "output_type": "stream",
     "text": [
      "/home/aiyappa/anaconda3/lib/python3.7/site-packages/tables/path.py:112: NaturalNameWarning: object name is not a valid Python identifier: 'sim_158_p_rew_0.1_start_10_dq_2'; it does not match the pattern ``^[a-zA-Z_][a-zA-Z0-9_]*$``; you will not be able to use natural naming to access this object; using ``getattr()`` will still work, though\n",
      "  NaturalNameWarning)\n"
     ]
    },
    {
     "name": "stdout",
     "output_type": "stream",
     "text": [
      "(sim,lamb_da,p_rew,start,dose_quantity) =  (158, 0.10000000000000002, 1.0, 1, 0.1)\n",
      "{74}\n",
      "sim_158_p_rew_1_start_1_dq_0.1\n"
     ]
    },
    {
     "name": "stderr",
     "output_type": "stream",
     "text": [
      "/home/aiyappa/anaconda3/lib/python3.7/site-packages/tables/path.py:112: NaturalNameWarning: object name is not a valid Python identifier: 'sim_158_p_rew_1_start_1_dq_0.1'; it does not match the pattern ``^[a-zA-Z_][a-zA-Z0-9_]*$``; you will not be able to use natural naming to access this object; using ``getattr()`` will still work, though\n",
      "  NaturalNameWarning)\n"
     ]
    },
    {
     "name": "stdout",
     "output_type": "stream",
     "text": [
      "(sim,lamb_da,p_rew,start,dose_quantity) =  (158, 0.10000000000000002, 1.0, 1, 2)\n",
      "{80}\n",
      "sim_158_p_rew_1_start_1_dq_2\n",
      "(sim,lamb_da,p_rew,start,dose_quantity) =  (158, 0.10000000000000002, 1.0, 10, 0.1)\n",
      "{0, 98, 6, 8, 76, 52, 21, 54, 87, 63}\n",
      "sim_158_p_rew_1_start_10_dq_0.1\n"
     ]
    },
    {
     "name": "stderr",
     "output_type": "stream",
     "text": [
      "/home/aiyappa/anaconda3/lib/python3.7/site-packages/tables/path.py:112: NaturalNameWarning: object name is not a valid Python identifier: 'sim_158_p_rew_1_start_10_dq_0.1'; it does not match the pattern ``^[a-zA-Z_][a-zA-Z0-9_]*$``; you will not be able to use natural naming to access this object; using ``getattr()`` will still work, though\n",
      "  NaturalNameWarning)\n"
     ]
    },
    {
     "name": "stdout",
     "output_type": "stream",
     "text": [
      "(sim,lamb_da,p_rew,start,dose_quantity) =  (158, 0.10000000000000002, 1.0, 10, 2)\n",
      "{1, 69, 7, 42, 10, 47, 80, 84, 90, 29}\n",
      "sim_158_p_rew_1_start_10_dq_2\n",
      "(sim,lamb_da,p_rew,start,dose_quantity) =  (159, 0.001, 0.01, 1, 0.1)\n",
      "{12}\n",
      "sim_159_p_rew_0.01_start_1_dq_0.1\n"
     ]
    },
    {
     "name": "stderr",
     "output_type": "stream",
     "text": [
      "/home/aiyappa/anaconda3/lib/python3.7/site-packages/tables/path.py:112: NaturalNameWarning: object name is not a valid Python identifier: 'sim_159_p_rew_0.01_start_1_dq_0.1'; it does not match the pattern ``^[a-zA-Z_][a-zA-Z0-9_]*$``; you will not be able to use natural naming to access this object; using ``getattr()`` will still work, though\n",
      "  NaturalNameWarning)\n"
     ]
    },
    {
     "name": "stdout",
     "output_type": "stream",
     "text": [
      "(sim,lamb_da,p_rew,start,dose_quantity) =  (159, 0.001, 0.01, 1, 2)\n",
      "{98}\n",
      "sim_159_p_rew_0.01_start_1_dq_2\n"
     ]
    },
    {
     "name": "stderr",
     "output_type": "stream",
     "text": [
      "/home/aiyappa/anaconda3/lib/python3.7/site-packages/tables/path.py:112: NaturalNameWarning: object name is not a valid Python identifier: 'sim_159_p_rew_0.01_start_1_dq_2'; it does not match the pattern ``^[a-zA-Z_][a-zA-Z0-9_]*$``; you will not be able to use natural naming to access this object; using ``getattr()`` will still work, though\n",
      "  NaturalNameWarning)\n"
     ]
    },
    {
     "name": "stdout",
     "output_type": "stream",
     "text": [
      "(sim,lamb_da,p_rew,start,dose_quantity) =  (159, 0.001, 0.01, 10, 0.1)\n",
      "{9, 42, 74, 47, 16, 83, 52, 24, 62, 31}\n",
      "sim_159_p_rew_0.01_start_10_dq_0.1\n"
     ]
    },
    {
     "name": "stderr",
     "output_type": "stream",
     "text": [
      "/home/aiyappa/anaconda3/lib/python3.7/site-packages/tables/path.py:112: NaturalNameWarning: object name is not a valid Python identifier: 'sim_159_p_rew_0.01_start_10_dq_0.1'; it does not match the pattern ``^[a-zA-Z_][a-zA-Z0-9_]*$``; you will not be able to use natural naming to access this object; using ``getattr()`` will still work, though\n",
      "  NaturalNameWarning)\n"
     ]
    },
    {
     "name": "stdout",
     "output_type": "stream",
     "text": [
      "(sim,lamb_da,p_rew,start,dose_quantity) =  (159, 0.001, 0.01, 10, 2)\n",
      "{96, 65, 64, 99, 10, 44, 13, 83, 86, 90}\n",
      "sim_159_p_rew_0.01_start_10_dq_2\n"
     ]
    },
    {
     "name": "stderr",
     "output_type": "stream",
     "text": [
      "/home/aiyappa/anaconda3/lib/python3.7/site-packages/tables/path.py:112: NaturalNameWarning: object name is not a valid Python identifier: 'sim_159_p_rew_0.01_start_10_dq_2'; it does not match the pattern ``^[a-zA-Z_][a-zA-Z0-9_]*$``; you will not be able to use natural naming to access this object; using ``getattr()`` will still work, though\n",
      "  NaturalNameWarning)\n"
     ]
    },
    {
     "name": "stdout",
     "output_type": "stream",
     "text": [
      "(sim,lamb_da,p_rew,start,dose_quantity) =  (159, 0.01, 0.10000000000000002, 1, 0.1)\n",
      "{91}\n",
      "sim_159_p_rew_0.1_start_1_dq_0.1\n"
     ]
    },
    {
     "name": "stderr",
     "output_type": "stream",
     "text": [
      "/home/aiyappa/anaconda3/lib/python3.7/site-packages/tables/path.py:112: NaturalNameWarning: object name is not a valid Python identifier: 'sim_159_p_rew_0.1_start_1_dq_0.1'; it does not match the pattern ``^[a-zA-Z_][a-zA-Z0-9_]*$``; you will not be able to use natural naming to access this object; using ``getattr()`` will still work, though\n",
      "  NaturalNameWarning)\n"
     ]
    },
    {
     "name": "stdout",
     "output_type": "stream",
     "text": [
      "(sim,lamb_da,p_rew,start,dose_quantity) =  (159, 0.01, 0.10000000000000002, 1, 2)\n",
      "{41}\n",
      "sim_159_p_rew_0.1_start_1_dq_2\n"
     ]
    },
    {
     "name": "stderr",
     "output_type": "stream",
     "text": [
      "/home/aiyappa/anaconda3/lib/python3.7/site-packages/tables/path.py:112: NaturalNameWarning: object name is not a valid Python identifier: 'sim_159_p_rew_0.1_start_1_dq_2'; it does not match the pattern ``^[a-zA-Z_][a-zA-Z0-9_]*$``; you will not be able to use natural naming to access this object; using ``getattr()`` will still work, though\n",
      "  NaturalNameWarning)\n"
     ]
    },
    {
     "name": "stdout",
     "output_type": "stream",
     "text": [
      "(sim,lamb_da,p_rew,start,dose_quantity) =  (159, 0.01, 0.10000000000000002, 10, 0.1)\n",
      "{7, 73, 76, 15, 52, 20, 56, 58, 27, 95}\n",
      "sim_159_p_rew_0.1_start_10_dq_0.1\n"
     ]
    },
    {
     "name": "stderr",
     "output_type": "stream",
     "text": [
      "/home/aiyappa/anaconda3/lib/python3.7/site-packages/tables/path.py:112: NaturalNameWarning: object name is not a valid Python identifier: 'sim_159_p_rew_0.1_start_10_dq_0.1'; it does not match the pattern ``^[a-zA-Z_][a-zA-Z0-9_]*$``; you will not be able to use natural naming to access this object; using ``getattr()`` will still work, though\n",
      "  NaturalNameWarning)\n"
     ]
    },
    {
     "name": "stdout",
     "output_type": "stream",
     "text": [
      "(sim,lamb_da,p_rew,start,dose_quantity) =  (159, 0.01, 0.10000000000000002, 10, 2)\n",
      "{97, 66, 35, 72, 9, 43, 13, 14, 55, 26}\n",
      "sim_159_p_rew_0.1_start_10_dq_2\n"
     ]
    },
    {
     "name": "stderr",
     "output_type": "stream",
     "text": [
      "/home/aiyappa/anaconda3/lib/python3.7/site-packages/tables/path.py:112: NaturalNameWarning: object name is not a valid Python identifier: 'sim_159_p_rew_0.1_start_10_dq_2'; it does not match the pattern ``^[a-zA-Z_][a-zA-Z0-9_]*$``; you will not be able to use natural naming to access this object; using ``getattr()`` will still work, though\n",
      "  NaturalNameWarning)\n"
     ]
    },
    {
     "name": "stdout",
     "output_type": "stream",
     "text": [
      "(sim,lamb_da,p_rew,start,dose_quantity) =  (159, 0.10000000000000002, 1.0, 1, 0.1)\n",
      "{96}\n",
      "sim_159_p_rew_1_start_1_dq_0.1\n"
     ]
    },
    {
     "name": "stderr",
     "output_type": "stream",
     "text": [
      "/home/aiyappa/anaconda3/lib/python3.7/site-packages/tables/path.py:112: NaturalNameWarning: object name is not a valid Python identifier: 'sim_159_p_rew_1_start_1_dq_0.1'; it does not match the pattern ``^[a-zA-Z_][a-zA-Z0-9_]*$``; you will not be able to use natural naming to access this object; using ``getattr()`` will still work, though\n",
      "  NaturalNameWarning)\n"
     ]
    },
    {
     "name": "stdout",
     "output_type": "stream",
     "text": [
      "(sim,lamb_da,p_rew,start,dose_quantity) =  (159, 0.10000000000000002, 1.0, 1, 2)\n",
      "{6}\n",
      "sim_159_p_rew_1_start_1_dq_2\n",
      "(sim,lamb_da,p_rew,start,dose_quantity) =  (159, 0.10000000000000002, 1.0, 10, 0.1)\n",
      "Initial node infection step failed\n",
      "None\n",
      "Initial node infection step failed\n",
      "None\n",
      "Initial node infection step failed\n",
      "None\n",
      "{68, 36, 37, 40, 43, 75, 50, 54, 26, 28}\n",
      "sim_159_p_rew_1_start_10_dq_0.1\n"
     ]
    },
    {
     "name": "stderr",
     "output_type": "stream",
     "text": [
      "/home/aiyappa/anaconda3/lib/python3.7/site-packages/tables/path.py:112: NaturalNameWarning: object name is not a valid Python identifier: 'sim_159_p_rew_1_start_10_dq_0.1'; it does not match the pattern ``^[a-zA-Z_][a-zA-Z0-9_]*$``; you will not be able to use natural naming to access this object; using ``getattr()`` will still work, though\n",
      "  NaturalNameWarning)\n"
     ]
    },
    {
     "name": "stdout",
     "output_type": "stream",
     "text": [
      "(sim,lamb_da,p_rew,start,dose_quantity) =  (159, 0.10000000000000002, 1.0, 10, 2)\n",
      "{1, 3, 69, 39, 9, 76, 14, 78, 86, 92}\n",
      "sim_159_p_rew_1_start_10_dq_2\n",
      "(sim,lamb_da,p_rew,start,dose_quantity) =  (160, 0.001, 0.01, 1, 0.1)\n",
      "{56}\n",
      "sim_160_p_rew_0.01_start_1_dq_0.1\n"
     ]
    },
    {
     "name": "stderr",
     "output_type": "stream",
     "text": [
      "/home/aiyappa/anaconda3/lib/python3.7/site-packages/tables/path.py:112: NaturalNameWarning: object name is not a valid Python identifier: 'sim_160_p_rew_0.01_start_1_dq_0.1'; it does not match the pattern ``^[a-zA-Z_][a-zA-Z0-9_]*$``; you will not be able to use natural naming to access this object; using ``getattr()`` will still work, though\n",
      "  NaturalNameWarning)\n"
     ]
    },
    {
     "name": "stdout",
     "output_type": "stream",
     "text": [
      "(sim,lamb_da,p_rew,start,dose_quantity) =  (160, 0.001, 0.01, 1, 2)\n",
      "{77}\n",
      "sim_160_p_rew_0.01_start_1_dq_2\n"
     ]
    },
    {
     "name": "stderr",
     "output_type": "stream",
     "text": [
      "/home/aiyappa/anaconda3/lib/python3.7/site-packages/tables/path.py:112: NaturalNameWarning: object name is not a valid Python identifier: 'sim_160_p_rew_0.01_start_1_dq_2'; it does not match the pattern ``^[a-zA-Z_][a-zA-Z0-9_]*$``; you will not be able to use natural naming to access this object; using ``getattr()`` will still work, though\n",
      "  NaturalNameWarning)\n"
     ]
    },
    {
     "name": "stdout",
     "output_type": "stream",
     "text": [
      "(sim,lamb_da,p_rew,start,dose_quantity) =  (160, 0.001, 0.01, 10, 0.1)\n",
      "{97, 35, 45, 16, 17, 20, 22, 88, 93, 62}\n",
      "sim_160_p_rew_0.01_start_10_dq_0.1\n"
     ]
    },
    {
     "name": "stderr",
     "output_type": "stream",
     "text": [
      "/home/aiyappa/anaconda3/lib/python3.7/site-packages/tables/path.py:112: NaturalNameWarning: object name is not a valid Python identifier: 'sim_160_p_rew_0.01_start_10_dq_0.1'; it does not match the pattern ``^[a-zA-Z_][a-zA-Z0-9_]*$``; you will not be able to use natural naming to access this object; using ``getattr()`` will still work, though\n",
      "  NaturalNameWarning)\n"
     ]
    },
    {
     "name": "stdout",
     "output_type": "stream",
     "text": [
      "(sim,lamb_da,p_rew,start,dose_quantity) =  (160, 0.001, 0.01, 10, 2)\n",
      "{99, 13, 80, 81, 82, 83, 94, 90, 62, 31}\n",
      "sim_160_p_rew_0.01_start_10_dq_2\n"
     ]
    },
    {
     "name": "stderr",
     "output_type": "stream",
     "text": [
      "/home/aiyappa/anaconda3/lib/python3.7/site-packages/tables/path.py:112: NaturalNameWarning: object name is not a valid Python identifier: 'sim_160_p_rew_0.01_start_10_dq_2'; it does not match the pattern ``^[a-zA-Z_][a-zA-Z0-9_]*$``; you will not be able to use natural naming to access this object; using ``getattr()`` will still work, though\n",
      "  NaturalNameWarning)\n"
     ]
    },
    {
     "name": "stdout",
     "output_type": "stream",
     "text": [
      "(sim,lamb_da,p_rew,start,dose_quantity) =  (160, 0.01, 0.10000000000000002, 1, 0.1)\n",
      "{45}\n",
      "sim_160_p_rew_0.1_start_1_dq_0.1\n"
     ]
    },
    {
     "name": "stderr",
     "output_type": "stream",
     "text": [
      "/home/aiyappa/anaconda3/lib/python3.7/site-packages/tables/path.py:112: NaturalNameWarning: object name is not a valid Python identifier: 'sim_160_p_rew_0.1_start_1_dq_0.1'; it does not match the pattern ``^[a-zA-Z_][a-zA-Z0-9_]*$``; you will not be able to use natural naming to access this object; using ``getattr()`` will still work, though\n",
      "  NaturalNameWarning)\n"
     ]
    },
    {
     "name": "stdout",
     "output_type": "stream",
     "text": [
      "(sim,lamb_da,p_rew,start,dose_quantity) =  (160, 0.01, 0.10000000000000002, 1, 2)\n",
      "{77}\n",
      "sim_160_p_rew_0.1_start_1_dq_2\n"
     ]
    },
    {
     "name": "stderr",
     "output_type": "stream",
     "text": [
      "/home/aiyappa/anaconda3/lib/python3.7/site-packages/tables/path.py:112: NaturalNameWarning: object name is not a valid Python identifier: 'sim_160_p_rew_0.1_start_1_dq_2'; it does not match the pattern ``^[a-zA-Z_][a-zA-Z0-9_]*$``; you will not be able to use natural naming to access this object; using ``getattr()`` will still work, though\n",
      "  NaturalNameWarning)\n"
     ]
    },
    {
     "name": "stdout",
     "output_type": "stream",
     "text": [
      "(sim,lamb_da,p_rew,start,dose_quantity) =  (160, 0.01, 0.10000000000000002, 10, 0.1)\n",
      "{38, 41, 46, 78, 49, 53, 54, 55, 25, 91}\n",
      "sim_160_p_rew_0.1_start_10_dq_0.1\n"
     ]
    },
    {
     "name": "stderr",
     "output_type": "stream",
     "text": [
      "/home/aiyappa/anaconda3/lib/python3.7/site-packages/tables/path.py:112: NaturalNameWarning: object name is not a valid Python identifier: 'sim_160_p_rew_0.1_start_10_dq_0.1'; it does not match the pattern ``^[a-zA-Z_][a-zA-Z0-9_]*$``; you will not be able to use natural naming to access this object; using ``getattr()`` will still work, though\n",
      "  NaturalNameWarning)\n"
     ]
    },
    {
     "name": "stdout",
     "output_type": "stream",
     "text": [
      "(sim,lamb_da,p_rew,start,dose_quantity) =  (160, 0.01, 0.10000000000000002, 10, 2)\n",
      "{98, 37, 70, 71, 45, 17, 81, 86, 93, 95}\n",
      "sim_160_p_rew_0.1_start_10_dq_2\n"
     ]
    },
    {
     "name": "stderr",
     "output_type": "stream",
     "text": [
      "/home/aiyappa/anaconda3/lib/python3.7/site-packages/tables/path.py:112: NaturalNameWarning: object name is not a valid Python identifier: 'sim_160_p_rew_0.1_start_10_dq_2'; it does not match the pattern ``^[a-zA-Z_][a-zA-Z0-9_]*$``; you will not be able to use natural naming to access this object; using ``getattr()`` will still work, though\n",
      "  NaturalNameWarning)\n"
     ]
    },
    {
     "name": "stdout",
     "output_type": "stream",
     "text": [
      "(sim,lamb_da,p_rew,start,dose_quantity) =  (160, 0.10000000000000002, 1.0, 1, 0.1)\n",
      "{90}\n",
      "sim_160_p_rew_1_start_1_dq_0.1\n"
     ]
    },
    {
     "name": "stderr",
     "output_type": "stream",
     "text": [
      "/home/aiyappa/anaconda3/lib/python3.7/site-packages/tables/path.py:112: NaturalNameWarning: object name is not a valid Python identifier: 'sim_160_p_rew_1_start_1_dq_0.1'; it does not match the pattern ``^[a-zA-Z_][a-zA-Z0-9_]*$``; you will not be able to use natural naming to access this object; using ``getattr()`` will still work, though\n",
      "  NaturalNameWarning)\n"
     ]
    },
    {
     "name": "stdout",
     "output_type": "stream",
     "text": [
      "(sim,lamb_da,p_rew,start,dose_quantity) =  (160, 0.10000000000000002, 1.0, 1, 2)\n",
      "{17}\n",
      "sim_160_p_rew_1_start_1_dq_2\n",
      "(sim,lamb_da,p_rew,start,dose_quantity) =  (160, 0.10000000000000002, 1.0, 10, 0.1)\n",
      "{0, 5, 72, 76, 78, 79, 17, 81, 51, 84}\n",
      "sim_160_p_rew_1_start_10_dq_0.1\n"
     ]
    },
    {
     "name": "stderr",
     "output_type": "stream",
     "text": [
      "/home/aiyappa/anaconda3/lib/python3.7/site-packages/tables/path.py:112: NaturalNameWarning: object name is not a valid Python identifier: 'sim_160_p_rew_1_start_10_dq_0.1'; it does not match the pattern ``^[a-zA-Z_][a-zA-Z0-9_]*$``; you will not be able to use natural naming to access this object; using ``getattr()`` will still work, though\n",
      "  NaturalNameWarning)\n"
     ]
    },
    {
     "name": "stdout",
     "output_type": "stream",
     "text": [
      "(sim,lamb_da,p_rew,start,dose_quantity) =  (160, 0.10000000000000002, 1.0, 10, 2)\n",
      "{40, 41, 11, 46, 20, 85, 22, 84, 23, 26}\n",
      "sim_160_p_rew_1_start_10_dq_2\n",
      "(sim,lamb_da,p_rew,start,dose_quantity) =  (161, 0.001, 0.01, 1, 0.1)\n",
      "{31}\n",
      "sim_161_p_rew_0.01_start_1_dq_0.1\n"
     ]
    },
    {
     "name": "stderr",
     "output_type": "stream",
     "text": [
      "/home/aiyappa/anaconda3/lib/python3.7/site-packages/tables/path.py:112: NaturalNameWarning: object name is not a valid Python identifier: 'sim_161_p_rew_0.01_start_1_dq_0.1'; it does not match the pattern ``^[a-zA-Z_][a-zA-Z0-9_]*$``; you will not be able to use natural naming to access this object; using ``getattr()`` will still work, though\n",
      "  NaturalNameWarning)\n"
     ]
    },
    {
     "name": "stdout",
     "output_type": "stream",
     "text": [
      "(sim,lamb_da,p_rew,start,dose_quantity) =  (161, 0.001, 0.01, 1, 2)\n",
      "{84}\n",
      "sim_161_p_rew_0.01_start_1_dq_2\n"
     ]
    },
    {
     "name": "stderr",
     "output_type": "stream",
     "text": [
      "/home/aiyappa/anaconda3/lib/python3.7/site-packages/tables/path.py:112: NaturalNameWarning: object name is not a valid Python identifier: 'sim_161_p_rew_0.01_start_1_dq_2'; it does not match the pattern ``^[a-zA-Z_][a-zA-Z0-9_]*$``; you will not be able to use natural naming to access this object; using ``getattr()`` will still work, though\n",
      "  NaturalNameWarning)\n"
     ]
    },
    {
     "name": "stdout",
     "output_type": "stream",
     "text": [
      "(sim,lamb_da,p_rew,start,dose_quantity) =  (161, 0.001, 0.01, 10, 0.1)\n",
      "{96, 34, 35, 37, 7, 77, 60, 46, 84, 92}\n",
      "sim_161_p_rew_0.01_start_10_dq_0.1\n"
     ]
    },
    {
     "name": "stderr",
     "output_type": "stream",
     "text": [
      "/home/aiyappa/anaconda3/lib/python3.7/site-packages/tables/path.py:112: NaturalNameWarning: object name is not a valid Python identifier: 'sim_161_p_rew_0.01_start_10_dq_0.1'; it does not match the pattern ``^[a-zA-Z_][a-zA-Z0-9_]*$``; you will not be able to use natural naming to access this object; using ``getattr()`` will still work, though\n",
      "  NaturalNameWarning)\n"
     ]
    },
    {
     "name": "stdout",
     "output_type": "stream",
     "text": [
      "(sim,lamb_da,p_rew,start,dose_quantity) =  (161, 0.001, 0.01, 10, 2)\n",
      "{1, 97, 68, 39, 73, 42, 75, 26, 91, 63}\n",
      "sim_161_p_rew_0.01_start_10_dq_2\n"
     ]
    },
    {
     "name": "stderr",
     "output_type": "stream",
     "text": [
      "/home/aiyappa/anaconda3/lib/python3.7/site-packages/tables/path.py:112: NaturalNameWarning: object name is not a valid Python identifier: 'sim_161_p_rew_0.01_start_10_dq_2'; it does not match the pattern ``^[a-zA-Z_][a-zA-Z0-9_]*$``; you will not be able to use natural naming to access this object; using ``getattr()`` will still work, though\n",
      "  NaturalNameWarning)\n"
     ]
    },
    {
     "name": "stdout",
     "output_type": "stream",
     "text": [
      "(sim,lamb_da,p_rew,start,dose_quantity) =  (161, 0.01, 0.10000000000000002, 1, 0.1)\n",
      "{70}\n",
      "sim_161_p_rew_0.1_start_1_dq_0.1\n"
     ]
    },
    {
     "name": "stderr",
     "output_type": "stream",
     "text": [
      "/home/aiyappa/anaconda3/lib/python3.7/site-packages/tables/path.py:112: NaturalNameWarning: object name is not a valid Python identifier: 'sim_161_p_rew_0.1_start_1_dq_0.1'; it does not match the pattern ``^[a-zA-Z_][a-zA-Z0-9_]*$``; you will not be able to use natural naming to access this object; using ``getattr()`` will still work, though\n",
      "  NaturalNameWarning)\n"
     ]
    },
    {
     "name": "stdout",
     "output_type": "stream",
     "text": [
      "(sim,lamb_da,p_rew,start,dose_quantity) =  (161, 0.01, 0.10000000000000002, 1, 2)\n",
      "{73}\n",
      "sim_161_p_rew_0.1_start_1_dq_2\n"
     ]
    },
    {
     "name": "stderr",
     "output_type": "stream",
     "text": [
      "/home/aiyappa/anaconda3/lib/python3.7/site-packages/tables/path.py:112: NaturalNameWarning: object name is not a valid Python identifier: 'sim_161_p_rew_0.1_start_1_dq_2'; it does not match the pattern ``^[a-zA-Z_][a-zA-Z0-9_]*$``; you will not be able to use natural naming to access this object; using ``getattr()`` will still work, though\n",
      "  NaturalNameWarning)\n"
     ]
    },
    {
     "name": "stdout",
     "output_type": "stream",
     "text": [
      "(sim,lamb_da,p_rew,start,dose_quantity) =  (161, 0.01, 0.10000000000000002, 10, 0.1)\n",
      "{34, 4, 6, 8, 40, 45, 79, 53, 22, 86}\n",
      "sim_161_p_rew_0.1_start_10_dq_0.1\n"
     ]
    },
    {
     "name": "stderr",
     "output_type": "stream",
     "text": [
      "/home/aiyappa/anaconda3/lib/python3.7/site-packages/tables/path.py:112: NaturalNameWarning: object name is not a valid Python identifier: 'sim_161_p_rew_0.1_start_10_dq_0.1'; it does not match the pattern ``^[a-zA-Z_][a-zA-Z0-9_]*$``; you will not be able to use natural naming to access this object; using ``getattr()`` will still work, though\n",
      "  NaturalNameWarning)\n"
     ]
    },
    {
     "name": "stdout",
     "output_type": "stream",
     "text": [
      "(sim,lamb_da,p_rew,start,dose_quantity) =  (161, 0.01, 0.10000000000000002, 10, 2)\n",
      "{33, 6, 72, 76, 80, 19, 23, 89, 30, 31}\n",
      "sim_161_p_rew_0.1_start_10_dq_2\n"
     ]
    },
    {
     "name": "stderr",
     "output_type": "stream",
     "text": [
      "/home/aiyappa/anaconda3/lib/python3.7/site-packages/tables/path.py:112: NaturalNameWarning: object name is not a valid Python identifier: 'sim_161_p_rew_0.1_start_10_dq_2'; it does not match the pattern ``^[a-zA-Z_][a-zA-Z0-9_]*$``; you will not be able to use natural naming to access this object; using ``getattr()`` will still work, though\n",
      "  NaturalNameWarning)\n"
     ]
    },
    {
     "name": "stdout",
     "output_type": "stream",
     "text": [
      "(sim,lamb_da,p_rew,start,dose_quantity) =  (161, 0.10000000000000002, 1.0, 1, 0.1)\n",
      "{25}\n",
      "sim_161_p_rew_1_start_1_dq_0.1\n"
     ]
    },
    {
     "name": "stderr",
     "output_type": "stream",
     "text": [
      "/home/aiyappa/anaconda3/lib/python3.7/site-packages/tables/path.py:112: NaturalNameWarning: object name is not a valid Python identifier: 'sim_161_p_rew_1_start_1_dq_0.1'; it does not match the pattern ``^[a-zA-Z_][a-zA-Z0-9_]*$``; you will not be able to use natural naming to access this object; using ``getattr()`` will still work, though\n",
      "  NaturalNameWarning)\n"
     ]
    },
    {
     "name": "stdout",
     "output_type": "stream",
     "text": [
      "(sim,lamb_da,p_rew,start,dose_quantity) =  (161, 0.10000000000000002, 1.0, 1, 2)\n",
      "{34}\n",
      "sim_161_p_rew_1_start_1_dq_2\n",
      "(sim,lamb_da,p_rew,start,dose_quantity) =  (161, 0.10000000000000002, 1.0, 10, 0.1)\n",
      "Initial node infection step failed\n",
      "None\n",
      "Initial node infection step failed\n",
      "None\n",
      "{96, 97, 5, 74, 48, 50, 83, 86, 87, 91}\n",
      "sim_161_p_rew_1_start_10_dq_0.1\n"
     ]
    },
    {
     "name": "stderr",
     "output_type": "stream",
     "text": [
      "/home/aiyappa/anaconda3/lib/python3.7/site-packages/tables/path.py:112: NaturalNameWarning: object name is not a valid Python identifier: 'sim_161_p_rew_1_start_10_dq_0.1'; it does not match the pattern ``^[a-zA-Z_][a-zA-Z0-9_]*$``; you will not be able to use natural naming to access this object; using ``getattr()`` will still work, though\n",
      "  NaturalNameWarning)\n"
     ]
    },
    {
     "name": "stdout",
     "output_type": "stream",
     "text": [
      "(sim,lamb_da,p_rew,start,dose_quantity) =  (161, 0.10000000000000002, 1.0, 10, 2)\n",
      "{35, 7, 9, 43, 48, 80, 86, 25, 90, 91}\n",
      "sim_161_p_rew_1_start_10_dq_2\n",
      "(sim,lamb_da,p_rew,start,dose_quantity) =  (162, 0.001, 0.01, 1, 0.1)\n",
      "{92}\n",
      "sim_162_p_rew_0.01_start_1_dq_0.1\n"
     ]
    },
    {
     "name": "stderr",
     "output_type": "stream",
     "text": [
      "/home/aiyappa/anaconda3/lib/python3.7/site-packages/tables/path.py:112: NaturalNameWarning: object name is not a valid Python identifier: 'sim_162_p_rew_0.01_start_1_dq_0.1'; it does not match the pattern ``^[a-zA-Z_][a-zA-Z0-9_]*$``; you will not be able to use natural naming to access this object; using ``getattr()`` will still work, though\n",
      "  NaturalNameWarning)\n"
     ]
    },
    {
     "name": "stdout",
     "output_type": "stream",
     "text": [
      "(sim,lamb_da,p_rew,start,dose_quantity) =  (162, 0.001, 0.01, 1, 2)\n",
      "{25}\n",
      "sim_162_p_rew_0.01_start_1_dq_2\n"
     ]
    },
    {
     "name": "stderr",
     "output_type": "stream",
     "text": [
      "/home/aiyappa/anaconda3/lib/python3.7/site-packages/tables/path.py:112: NaturalNameWarning: object name is not a valid Python identifier: 'sim_162_p_rew_0.01_start_1_dq_2'; it does not match the pattern ``^[a-zA-Z_][a-zA-Z0-9_]*$``; you will not be able to use natural naming to access this object; using ``getattr()`` will still work, though\n",
      "  NaturalNameWarning)\n"
     ]
    },
    {
     "name": "stdout",
     "output_type": "stream",
     "text": [
      "(sim,lamb_da,p_rew,start,dose_quantity) =  (162, 0.001, 0.01, 10, 0.1)\n",
      "{33, 2, 99, 71, 14, 19, 52, 85, 56, 62}\n",
      "sim_162_p_rew_0.01_start_10_dq_0.1\n"
     ]
    },
    {
     "name": "stderr",
     "output_type": "stream",
     "text": [
      "/home/aiyappa/anaconda3/lib/python3.7/site-packages/tables/path.py:112: NaturalNameWarning: object name is not a valid Python identifier: 'sim_162_p_rew_0.01_start_10_dq_0.1'; it does not match the pattern ``^[a-zA-Z_][a-zA-Z0-9_]*$``; you will not be able to use natural naming to access this object; using ``getattr()`` will still work, though\n",
      "  NaturalNameWarning)\n"
     ]
    },
    {
     "name": "stdout",
     "output_type": "stream",
     "text": [
      "(sim,lamb_da,p_rew,start,dose_quantity) =  (162, 0.001, 0.01, 10, 2)\n",
      "{96, 32, 4, 69, 43, 76, 46, 80, 57, 61}\n",
      "sim_162_p_rew_0.01_start_10_dq_2\n"
     ]
    },
    {
     "name": "stderr",
     "output_type": "stream",
     "text": [
      "/home/aiyappa/anaconda3/lib/python3.7/site-packages/tables/path.py:112: NaturalNameWarning: object name is not a valid Python identifier: 'sim_162_p_rew_0.01_start_10_dq_2'; it does not match the pattern ``^[a-zA-Z_][a-zA-Z0-9_]*$``; you will not be able to use natural naming to access this object; using ``getattr()`` will still work, though\n",
      "  NaturalNameWarning)\n"
     ]
    },
    {
     "name": "stdout",
     "output_type": "stream",
     "text": [
      "(sim,lamb_da,p_rew,start,dose_quantity) =  (162, 0.01, 0.10000000000000002, 1, 0.1)\n",
      "{0}\n",
      "sim_162_p_rew_0.1_start_1_dq_0.1\n"
     ]
    },
    {
     "name": "stderr",
     "output_type": "stream",
     "text": [
      "/home/aiyappa/anaconda3/lib/python3.7/site-packages/tables/path.py:112: NaturalNameWarning: object name is not a valid Python identifier: 'sim_162_p_rew_0.1_start_1_dq_0.1'; it does not match the pattern ``^[a-zA-Z_][a-zA-Z0-9_]*$``; you will not be able to use natural naming to access this object; using ``getattr()`` will still work, though\n",
      "  NaturalNameWarning)\n"
     ]
    },
    {
     "name": "stdout",
     "output_type": "stream",
     "text": [
      "(sim,lamb_da,p_rew,start,dose_quantity) =  (162, 0.01, 0.10000000000000002, 1, 2)\n",
      "{71}\n",
      "sim_162_p_rew_0.1_start_1_dq_2\n"
     ]
    },
    {
     "name": "stderr",
     "output_type": "stream",
     "text": [
      "/home/aiyappa/anaconda3/lib/python3.7/site-packages/tables/path.py:112: NaturalNameWarning: object name is not a valid Python identifier: 'sim_162_p_rew_0.1_start_1_dq_2'; it does not match the pattern ``^[a-zA-Z_][a-zA-Z0-9_]*$``; you will not be able to use natural naming to access this object; using ``getattr()`` will still work, though\n",
      "  NaturalNameWarning)\n"
     ]
    },
    {
     "name": "stdout",
     "output_type": "stream",
     "text": [
      "(sim,lamb_da,p_rew,start,dose_quantity) =  (162, 0.01, 0.10000000000000002, 10, 0.1)\n",
      "{64, 2, 99, 35, 69, 42, 19, 22, 25, 90}\n",
      "sim_162_p_rew_0.1_start_10_dq_0.1\n"
     ]
    },
    {
     "name": "stderr",
     "output_type": "stream",
     "text": [
      "/home/aiyappa/anaconda3/lib/python3.7/site-packages/tables/path.py:112: NaturalNameWarning: object name is not a valid Python identifier: 'sim_162_p_rew_0.1_start_10_dq_0.1'; it does not match the pattern ``^[a-zA-Z_][a-zA-Z0-9_]*$``; you will not be able to use natural naming to access this object; using ``getattr()`` will still work, though\n",
      "  NaturalNameWarning)\n"
     ]
    },
    {
     "name": "stdout",
     "output_type": "stream",
     "text": [
      "(sim,lamb_da,p_rew,start,dose_quantity) =  (162, 0.01, 0.10000000000000002, 10, 2)\n",
      "{96, 67, 68, 70, 73, 13, 17, 21, 85, 92}\n",
      "sim_162_p_rew_0.1_start_10_dq_2\n"
     ]
    },
    {
     "name": "stderr",
     "output_type": "stream",
     "text": [
      "/home/aiyappa/anaconda3/lib/python3.7/site-packages/tables/path.py:112: NaturalNameWarning: object name is not a valid Python identifier: 'sim_162_p_rew_0.1_start_10_dq_2'; it does not match the pattern ``^[a-zA-Z_][a-zA-Z0-9_]*$``; you will not be able to use natural naming to access this object; using ``getattr()`` will still work, though\n",
      "  NaturalNameWarning)\n"
     ]
    },
    {
     "name": "stdout",
     "output_type": "stream",
     "text": [
      "(sim,lamb_da,p_rew,start,dose_quantity) =  (162, 0.10000000000000002, 1.0, 1, 0.1)\n",
      "{95}\n",
      "sim_162_p_rew_1_start_1_dq_0.1\n"
     ]
    },
    {
     "name": "stderr",
     "output_type": "stream",
     "text": [
      "/home/aiyappa/anaconda3/lib/python3.7/site-packages/tables/path.py:112: NaturalNameWarning: object name is not a valid Python identifier: 'sim_162_p_rew_1_start_1_dq_0.1'; it does not match the pattern ``^[a-zA-Z_][a-zA-Z0-9_]*$``; you will not be able to use natural naming to access this object; using ``getattr()`` will still work, though\n",
      "  NaturalNameWarning)\n"
     ]
    },
    {
     "name": "stdout",
     "output_type": "stream",
     "text": [
      "(sim,lamb_da,p_rew,start,dose_quantity) =  (162, 0.10000000000000002, 1.0, 1, 2)\n",
      "{98}\n",
      "sim_162_p_rew_1_start_1_dq_2\n",
      "(sim,lamb_da,p_rew,start,dose_quantity) =  (162, 0.10000000000000002, 1.0, 10, 0.1)\n",
      "{0, 7, 8, 43, 16, 82, 50, 87, 88, 89}\n",
      "sim_162_p_rew_1_start_10_dq_0.1\n"
     ]
    },
    {
     "name": "stderr",
     "output_type": "stream",
     "text": [
      "/home/aiyappa/anaconda3/lib/python3.7/site-packages/tables/path.py:112: NaturalNameWarning: object name is not a valid Python identifier: 'sim_162_p_rew_1_start_10_dq_0.1'; it does not match the pattern ``^[a-zA-Z_][a-zA-Z0-9_]*$``; you will not be able to use natural naming to access this object; using ``getattr()`` will still work, though\n",
      "  NaturalNameWarning)\n"
     ]
    },
    {
     "name": "stdout",
     "output_type": "stream",
     "text": [
      "(sim,lamb_da,p_rew,start,dose_quantity) =  (162, 0.10000000000000002, 1.0, 10, 2)\n",
      "{32, 33, 4, 8, 40, 17, 82, 51, 85, 21}\n",
      "sim_162_p_rew_1_start_10_dq_2\n",
      "(sim,lamb_da,p_rew,start,dose_quantity) =  (163, 0.001, 0.01, 1, 0.1)\n",
      "{52}\n",
      "sim_163_p_rew_0.01_start_1_dq_0.1\n"
     ]
    },
    {
     "name": "stderr",
     "output_type": "stream",
     "text": [
      "/home/aiyappa/anaconda3/lib/python3.7/site-packages/tables/path.py:112: NaturalNameWarning: object name is not a valid Python identifier: 'sim_163_p_rew_0.01_start_1_dq_0.1'; it does not match the pattern ``^[a-zA-Z_][a-zA-Z0-9_]*$``; you will not be able to use natural naming to access this object; using ``getattr()`` will still work, though\n",
      "  NaturalNameWarning)\n"
     ]
    },
    {
     "name": "stdout",
     "output_type": "stream",
     "text": [
      "(sim,lamb_da,p_rew,start,dose_quantity) =  (163, 0.001, 0.01, 1, 2)\n",
      "{46}\n",
      "sim_163_p_rew_0.01_start_1_dq_2\n"
     ]
    },
    {
     "name": "stderr",
     "output_type": "stream",
     "text": [
      "/home/aiyappa/anaconda3/lib/python3.7/site-packages/tables/path.py:112: NaturalNameWarning: object name is not a valid Python identifier: 'sim_163_p_rew_0.01_start_1_dq_2'; it does not match the pattern ``^[a-zA-Z_][a-zA-Z0-9_]*$``; you will not be able to use natural naming to access this object; using ``getattr()`` will still work, though\n",
      "  NaturalNameWarning)\n"
     ]
    },
    {
     "name": "stdout",
     "output_type": "stream",
     "text": [
      "(sim,lamb_da,p_rew,start,dose_quantity) =  (163, 0.001, 0.01, 10, 0.1)\n",
      "{0, 41, 75, 44, 45, 16, 50, 60, 29, 95}\n",
      "sim_163_p_rew_0.01_start_10_dq_0.1\n"
     ]
    },
    {
     "name": "stderr",
     "output_type": "stream",
     "text": [
      "/home/aiyappa/anaconda3/lib/python3.7/site-packages/tables/path.py:112: NaturalNameWarning: object name is not a valid Python identifier: 'sim_163_p_rew_0.01_start_10_dq_0.1'; it does not match the pattern ``^[a-zA-Z_][a-zA-Z0-9_]*$``; you will not be able to use natural naming to access this object; using ``getattr()`` will still work, though\n",
      "  NaturalNameWarning)\n"
     ]
    },
    {
     "name": "stdout",
     "output_type": "stream",
     "text": [
      "(sim,lamb_da,p_rew,start,dose_quantity) =  (163, 0.001, 0.01, 10, 2)\n",
      "{98, 27, 13, 46, 18, 20, 53, 57, 90, 91}\n",
      "sim_163_p_rew_0.01_start_10_dq_2\n"
     ]
    },
    {
     "name": "stderr",
     "output_type": "stream",
     "text": [
      "/home/aiyappa/anaconda3/lib/python3.7/site-packages/tables/path.py:112: NaturalNameWarning: object name is not a valid Python identifier: 'sim_163_p_rew_0.01_start_10_dq_2'; it does not match the pattern ``^[a-zA-Z_][a-zA-Z0-9_]*$``; you will not be able to use natural naming to access this object; using ``getattr()`` will still work, though\n",
      "  NaturalNameWarning)\n"
     ]
    },
    {
     "name": "stdout",
     "output_type": "stream",
     "text": [
      "(sim,lamb_da,p_rew,start,dose_quantity) =  (163, 0.01, 0.10000000000000002, 1, 0.1)\n",
      "{0}\n",
      "sim_163_p_rew_0.1_start_1_dq_0.1\n"
     ]
    },
    {
     "name": "stderr",
     "output_type": "stream",
     "text": [
      "/home/aiyappa/anaconda3/lib/python3.7/site-packages/tables/path.py:112: NaturalNameWarning: object name is not a valid Python identifier: 'sim_163_p_rew_0.1_start_1_dq_0.1'; it does not match the pattern ``^[a-zA-Z_][a-zA-Z0-9_]*$``; you will not be able to use natural naming to access this object; using ``getattr()`` will still work, though\n",
      "  NaturalNameWarning)\n"
     ]
    },
    {
     "name": "stdout",
     "output_type": "stream",
     "text": [
      "(sim,lamb_da,p_rew,start,dose_quantity) =  (163, 0.01, 0.10000000000000002, 1, 2)\n",
      "{28}\n",
      "sim_163_p_rew_0.1_start_1_dq_2\n"
     ]
    },
    {
     "name": "stderr",
     "output_type": "stream",
     "text": [
      "/home/aiyappa/anaconda3/lib/python3.7/site-packages/tables/path.py:112: NaturalNameWarning: object name is not a valid Python identifier: 'sim_163_p_rew_0.1_start_1_dq_2'; it does not match the pattern ``^[a-zA-Z_][a-zA-Z0-9_]*$``; you will not be able to use natural naming to access this object; using ``getattr()`` will still work, though\n",
      "  NaturalNameWarning)\n"
     ]
    },
    {
     "name": "stdout",
     "output_type": "stream",
     "text": [
      "(sim,lamb_da,p_rew,start,dose_quantity) =  (163, 0.01, 0.10000000000000002, 10, 0.1)\n",
      "{33, 68, 69, 73, 49, 19, 51, 54, 26, 93}\n",
      "sim_163_p_rew_0.1_start_10_dq_0.1\n"
     ]
    },
    {
     "name": "stderr",
     "output_type": "stream",
     "text": [
      "/home/aiyappa/anaconda3/lib/python3.7/site-packages/tables/path.py:112: NaturalNameWarning: object name is not a valid Python identifier: 'sim_163_p_rew_0.1_start_10_dq_0.1'; it does not match the pattern ``^[a-zA-Z_][a-zA-Z0-9_]*$``; you will not be able to use natural naming to access this object; using ``getattr()`` will still work, though\n",
      "  NaturalNameWarning)\n"
     ]
    },
    {
     "name": "stdout",
     "output_type": "stream",
     "text": [
      "(sim,lamb_da,p_rew,start,dose_quantity) =  (163, 0.01, 0.10000000000000002, 10, 2)\n",
      "{8, 41, 74, 76, 49, 83, 21, 23, 57, 90}\n",
      "sim_163_p_rew_0.1_start_10_dq_2\n"
     ]
    },
    {
     "name": "stderr",
     "output_type": "stream",
     "text": [
      "/home/aiyappa/anaconda3/lib/python3.7/site-packages/tables/path.py:112: NaturalNameWarning: object name is not a valid Python identifier: 'sim_163_p_rew_0.1_start_10_dq_2'; it does not match the pattern ``^[a-zA-Z_][a-zA-Z0-9_]*$``; you will not be able to use natural naming to access this object; using ``getattr()`` will still work, though\n",
      "  NaturalNameWarning)\n"
     ]
    },
    {
     "name": "stdout",
     "output_type": "stream",
     "text": [
      "(sim,lamb_da,p_rew,start,dose_quantity) =  (163, 0.10000000000000002, 1.0, 1, 0.1)\n",
      "{8}\n",
      "sim_163_p_rew_1_start_1_dq_0.1\n"
     ]
    },
    {
     "name": "stderr",
     "output_type": "stream",
     "text": [
      "/home/aiyappa/anaconda3/lib/python3.7/site-packages/tables/path.py:112: NaturalNameWarning: object name is not a valid Python identifier: 'sim_163_p_rew_1_start_1_dq_0.1'; it does not match the pattern ``^[a-zA-Z_][a-zA-Z0-9_]*$``; you will not be able to use natural naming to access this object; using ``getattr()`` will still work, though\n",
      "  NaturalNameWarning)\n"
     ]
    },
    {
     "name": "stdout",
     "output_type": "stream",
     "text": [
      "(sim,lamb_da,p_rew,start,dose_quantity) =  (163, 0.10000000000000002, 1.0, 1, 2)\n",
      "{11}\n",
      "sim_163_p_rew_1_start_1_dq_2\n",
      "(sim,lamb_da,p_rew,start,dose_quantity) =  (163, 0.10000000000000002, 1.0, 10, 0.1)\n",
      "Initial node infection step failed\n",
      "None\n",
      "Initial node infection step failed\n",
      "None\n",
      "{35, 3, 38, 40, 10, 11, 82, 86, 88, 30}\n",
      "sim_163_p_rew_1_start_10_dq_0.1\n"
     ]
    },
    {
     "name": "stderr",
     "output_type": "stream",
     "text": [
      "/home/aiyappa/anaconda3/lib/python3.7/site-packages/tables/path.py:112: NaturalNameWarning: object name is not a valid Python identifier: 'sim_163_p_rew_1_start_10_dq_0.1'; it does not match the pattern ``^[a-zA-Z_][a-zA-Z0-9_]*$``; you will not be able to use natural naming to access this object; using ``getattr()`` will still work, though\n",
      "  NaturalNameWarning)\n"
     ]
    },
    {
     "name": "stdout",
     "output_type": "stream",
     "text": [
      "(sim,lamb_da,p_rew,start,dose_quantity) =  (163, 0.10000000000000002, 1.0, 10, 2)\n",
      "{99, 40, 9, 8, 77, 52, 21, 86, 23, 29}\n",
      "sim_163_p_rew_1_start_10_dq_2\n",
      "(sim,lamb_da,p_rew,start,dose_quantity) =  (164, 0.001, 0.01, 1, 0.1)\n",
      "{30}\n",
      "sim_164_p_rew_0.01_start_1_dq_0.1\n"
     ]
    },
    {
     "name": "stderr",
     "output_type": "stream",
     "text": [
      "/home/aiyappa/anaconda3/lib/python3.7/site-packages/tables/path.py:112: NaturalNameWarning: object name is not a valid Python identifier: 'sim_164_p_rew_0.01_start_1_dq_0.1'; it does not match the pattern ``^[a-zA-Z_][a-zA-Z0-9_]*$``; you will not be able to use natural naming to access this object; using ``getattr()`` will still work, though\n",
      "  NaturalNameWarning)\n"
     ]
    },
    {
     "name": "stdout",
     "output_type": "stream",
     "text": [
      "(sim,lamb_da,p_rew,start,dose_quantity) =  (164, 0.001, 0.01, 1, 2)\n",
      "{34}\n",
      "sim_164_p_rew_0.01_start_1_dq_2\n"
     ]
    },
    {
     "name": "stderr",
     "output_type": "stream",
     "text": [
      "/home/aiyappa/anaconda3/lib/python3.7/site-packages/tables/path.py:112: NaturalNameWarning: object name is not a valid Python identifier: 'sim_164_p_rew_0.01_start_1_dq_2'; it does not match the pattern ``^[a-zA-Z_][a-zA-Z0-9_]*$``; you will not be able to use natural naming to access this object; using ``getattr()`` will still work, though\n",
      "  NaturalNameWarning)\n"
     ]
    },
    {
     "name": "stdout",
     "output_type": "stream",
     "text": [
      "(sim,lamb_da,p_rew,start,dose_quantity) =  (164, 0.001, 0.01, 10, 0.1)\n",
      "{65, 66, 39, 9, 74, 44, 21, 91, 94, 95}\n",
      "sim_164_p_rew_0.01_start_10_dq_0.1\n"
     ]
    },
    {
     "name": "stderr",
     "output_type": "stream",
     "text": [
      "/home/aiyappa/anaconda3/lib/python3.7/site-packages/tables/path.py:112: NaturalNameWarning: object name is not a valid Python identifier: 'sim_164_p_rew_0.01_start_10_dq_0.1'; it does not match the pattern ``^[a-zA-Z_][a-zA-Z0-9_]*$``; you will not be able to use natural naming to access this object; using ``getattr()`` will still work, though\n",
      "  NaturalNameWarning)\n"
     ]
    },
    {
     "name": "stdout",
     "output_type": "stream",
     "text": [
      "(sim,lamb_da,p_rew,start,dose_quantity) =  (164, 0.001, 0.01, 10, 2)\n",
      "{1, 34, 36, 13, 81, 83, 84, 89, 90, 28}\n",
      "sim_164_p_rew_0.01_start_10_dq_2\n"
     ]
    },
    {
     "name": "stderr",
     "output_type": "stream",
     "text": [
      "/home/aiyappa/anaconda3/lib/python3.7/site-packages/tables/path.py:112: NaturalNameWarning: object name is not a valid Python identifier: 'sim_164_p_rew_0.01_start_10_dq_2'; it does not match the pattern ``^[a-zA-Z_][a-zA-Z0-9_]*$``; you will not be able to use natural naming to access this object; using ``getattr()`` will still work, though\n",
      "  NaturalNameWarning)\n"
     ]
    },
    {
     "name": "stdout",
     "output_type": "stream",
     "text": [
      "(sim,lamb_da,p_rew,start,dose_quantity) =  (164, 0.01, 0.10000000000000002, 1, 0.1)\n",
      "{45}\n",
      "sim_164_p_rew_0.1_start_1_dq_0.1\n"
     ]
    },
    {
     "name": "stderr",
     "output_type": "stream",
     "text": [
      "/home/aiyappa/anaconda3/lib/python3.7/site-packages/tables/path.py:112: NaturalNameWarning: object name is not a valid Python identifier: 'sim_164_p_rew_0.1_start_1_dq_0.1'; it does not match the pattern ``^[a-zA-Z_][a-zA-Z0-9_]*$``; you will not be able to use natural naming to access this object; using ``getattr()`` will still work, though\n",
      "  NaturalNameWarning)\n"
     ]
    },
    {
     "name": "stdout",
     "output_type": "stream",
     "text": [
      "(sim,lamb_da,p_rew,start,dose_quantity) =  (164, 0.01, 0.10000000000000002, 1, 2)\n",
      "{15}\n",
      "sim_164_p_rew_0.1_start_1_dq_2\n"
     ]
    },
    {
     "name": "stderr",
     "output_type": "stream",
     "text": [
      "/home/aiyappa/anaconda3/lib/python3.7/site-packages/tables/path.py:112: NaturalNameWarning: object name is not a valid Python identifier: 'sim_164_p_rew_0.1_start_1_dq_2'; it does not match the pattern ``^[a-zA-Z_][a-zA-Z0-9_]*$``; you will not be able to use natural naming to access this object; using ``getattr()`` will still work, though\n",
      "  NaturalNameWarning)\n"
     ]
    },
    {
     "name": "stdout",
     "output_type": "stream",
     "text": [
      "(sim,lamb_da,p_rew,start,dose_quantity) =  (164, 0.01, 0.10000000000000002, 10, 0.1)\n",
      "Initial node infection step failed\n",
      "None\n",
      "{64, 3, 99, 74, 44, 45, 46, 23, 91, 95}\n",
      "sim_164_p_rew_0.1_start_10_dq_0.1\n"
     ]
    },
    {
     "name": "stderr",
     "output_type": "stream",
     "text": [
      "/home/aiyappa/anaconda3/lib/python3.7/site-packages/tables/path.py:112: NaturalNameWarning: object name is not a valid Python identifier: 'sim_164_p_rew_0.1_start_10_dq_0.1'; it does not match the pattern ``^[a-zA-Z_][a-zA-Z0-9_]*$``; you will not be able to use natural naming to access this object; using ``getattr()`` will still work, though\n",
      "  NaturalNameWarning)\n"
     ]
    },
    {
     "name": "stdout",
     "output_type": "stream",
     "text": [
      "(sim,lamb_da,p_rew,start,dose_quantity) =  (164, 0.01, 0.10000000000000002, 10, 2)\n",
      "{32, 33, 5, 41, 10, 44, 83, 19, 56, 29}\n",
      "sim_164_p_rew_0.1_start_10_dq_2\n"
     ]
    },
    {
     "name": "stderr",
     "output_type": "stream",
     "text": [
      "/home/aiyappa/anaconda3/lib/python3.7/site-packages/tables/path.py:112: NaturalNameWarning: object name is not a valid Python identifier: 'sim_164_p_rew_0.1_start_10_dq_2'; it does not match the pattern ``^[a-zA-Z_][a-zA-Z0-9_]*$``; you will not be able to use natural naming to access this object; using ``getattr()`` will still work, though\n",
      "  NaturalNameWarning)\n"
     ]
    },
    {
     "name": "stdout",
     "output_type": "stream",
     "text": [
      "(sim,lamb_da,p_rew,start,dose_quantity) =  (164, 0.10000000000000002, 1.0, 1, 0.1)\n",
      "{0}\n",
      "sim_164_p_rew_1_start_1_dq_0.1\n"
     ]
    },
    {
     "name": "stderr",
     "output_type": "stream",
     "text": [
      "/home/aiyappa/anaconda3/lib/python3.7/site-packages/tables/path.py:112: NaturalNameWarning: object name is not a valid Python identifier: 'sim_164_p_rew_1_start_1_dq_0.1'; it does not match the pattern ``^[a-zA-Z_][a-zA-Z0-9_]*$``; you will not be able to use natural naming to access this object; using ``getattr()`` will still work, though\n",
      "  NaturalNameWarning)\n"
     ]
    },
    {
     "name": "stdout",
     "output_type": "stream",
     "text": [
      "(sim,lamb_da,p_rew,start,dose_quantity) =  (164, 0.10000000000000002, 1.0, 1, 2)\n",
      "{60}\n",
      "sim_164_p_rew_1_start_1_dq_2\n",
      "(sim,lamb_da,p_rew,start,dose_quantity) =  (164, 0.10000000000000002, 1.0, 10, 0.1)\n",
      "{1, 66, 2, 97, 5, 8, 9, 81, 85, 95}\n",
      "sim_164_p_rew_1_start_10_dq_0.1\n"
     ]
    },
    {
     "name": "stderr",
     "output_type": "stream",
     "text": [
      "/home/aiyappa/anaconda3/lib/python3.7/site-packages/tables/path.py:112: NaturalNameWarning: object name is not a valid Python identifier: 'sim_164_p_rew_1_start_10_dq_0.1'; it does not match the pattern ``^[a-zA-Z_][a-zA-Z0-9_]*$``; you will not be able to use natural naming to access this object; using ``getattr()`` will still work, though\n",
      "  NaturalNameWarning)\n"
     ]
    },
    {
     "name": "stdout",
     "output_type": "stream",
     "text": [
      "(sim,lamb_da,p_rew,start,dose_quantity) =  (164, 0.10000000000000002, 1.0, 10, 2)\n",
      "{66, 34, 36, 42, 44, 80, 49, 48, 88, 58}\n",
      "sim_164_p_rew_1_start_10_dq_2\n",
      "(sim,lamb_da,p_rew,start,dose_quantity) =  (165, 0.001, 0.01, 1, 0.1)\n",
      "{19}\n",
      "sim_165_p_rew_0.01_start_1_dq_0.1\n"
     ]
    },
    {
     "name": "stderr",
     "output_type": "stream",
     "text": [
      "/home/aiyappa/anaconda3/lib/python3.7/site-packages/tables/path.py:112: NaturalNameWarning: object name is not a valid Python identifier: 'sim_165_p_rew_0.01_start_1_dq_0.1'; it does not match the pattern ``^[a-zA-Z_][a-zA-Z0-9_]*$``; you will not be able to use natural naming to access this object; using ``getattr()`` will still work, though\n",
      "  NaturalNameWarning)\n"
     ]
    },
    {
     "name": "stdout",
     "output_type": "stream",
     "text": [
      "(sim,lamb_da,p_rew,start,dose_quantity) =  (165, 0.001, 0.01, 1, 2)\n",
      "{57}\n",
      "sim_165_p_rew_0.01_start_1_dq_2\n"
     ]
    },
    {
     "name": "stderr",
     "output_type": "stream",
     "text": [
      "/home/aiyappa/anaconda3/lib/python3.7/site-packages/tables/path.py:112: NaturalNameWarning: object name is not a valid Python identifier: 'sim_165_p_rew_0.01_start_1_dq_2'; it does not match the pattern ``^[a-zA-Z_][a-zA-Z0-9_]*$``; you will not be able to use natural naming to access this object; using ``getattr()`` will still work, though\n",
      "  NaturalNameWarning)\n"
     ]
    },
    {
     "name": "stdout",
     "output_type": "stream",
     "text": [
      "(sim,lamb_da,p_rew,start,dose_quantity) =  (165, 0.001, 0.01, 10, 0.1)\n",
      "{96, 6, 72, 14, 78, 48, 84, 53, 93, 62}\n",
      "sim_165_p_rew_0.01_start_10_dq_0.1\n"
     ]
    },
    {
     "name": "stderr",
     "output_type": "stream",
     "text": [
      "/home/aiyappa/anaconda3/lib/python3.7/site-packages/tables/path.py:112: NaturalNameWarning: object name is not a valid Python identifier: 'sim_165_p_rew_0.01_start_10_dq_0.1'; it does not match the pattern ``^[a-zA-Z_][a-zA-Z0-9_]*$``; you will not be able to use natural naming to access this object; using ``getattr()`` will still work, though\n",
      "  NaturalNameWarning)\n"
     ]
    },
    {
     "name": "stdout",
     "output_type": "stream",
     "text": [
      "(sim,lamb_da,p_rew,start,dose_quantity) =  (165, 0.001, 0.01, 10, 2)\n",
      "{97, 66, 36, 69, 42, 76, 12, 19, 91, 60}\n",
      "sim_165_p_rew_0.01_start_10_dq_2\n"
     ]
    },
    {
     "name": "stderr",
     "output_type": "stream",
     "text": [
      "/home/aiyappa/anaconda3/lib/python3.7/site-packages/tables/path.py:112: NaturalNameWarning: object name is not a valid Python identifier: 'sim_165_p_rew_0.01_start_10_dq_2'; it does not match the pattern ``^[a-zA-Z_][a-zA-Z0-9_]*$``; you will not be able to use natural naming to access this object; using ``getattr()`` will still work, though\n",
      "  NaturalNameWarning)\n"
     ]
    },
    {
     "name": "stdout",
     "output_type": "stream",
     "text": [
      "(sim,lamb_da,p_rew,start,dose_quantity) =  (165, 0.01, 0.10000000000000002, 1, 0.1)\n",
      "{15}\n",
      "sim_165_p_rew_0.1_start_1_dq_0.1\n"
     ]
    },
    {
     "name": "stderr",
     "output_type": "stream",
     "text": [
      "/home/aiyappa/anaconda3/lib/python3.7/site-packages/tables/path.py:112: NaturalNameWarning: object name is not a valid Python identifier: 'sim_165_p_rew_0.1_start_1_dq_0.1'; it does not match the pattern ``^[a-zA-Z_][a-zA-Z0-9_]*$``; you will not be able to use natural naming to access this object; using ``getattr()`` will still work, though\n",
      "  NaturalNameWarning)\n"
     ]
    },
    {
     "name": "stdout",
     "output_type": "stream",
     "text": [
      "(sim,lamb_da,p_rew,start,dose_quantity) =  (165, 0.01, 0.10000000000000002, 1, 2)\n",
      "{59}\n",
      "sim_165_p_rew_0.1_start_1_dq_2\n"
     ]
    },
    {
     "name": "stderr",
     "output_type": "stream",
     "text": [
      "/home/aiyappa/anaconda3/lib/python3.7/site-packages/tables/path.py:112: NaturalNameWarning: object name is not a valid Python identifier: 'sim_165_p_rew_0.1_start_1_dq_2'; it does not match the pattern ``^[a-zA-Z_][a-zA-Z0-9_]*$``; you will not be able to use natural naming to access this object; using ``getattr()`` will still work, though\n",
      "  NaturalNameWarning)\n"
     ]
    },
    {
     "name": "stdout",
     "output_type": "stream",
     "text": [
      "(sim,lamb_da,p_rew,start,dose_quantity) =  (165, 0.01, 0.10000000000000002, 10, 0.1)\n",
      "{35, 37, 69, 9, 14, 47, 81, 57, 26, 31}\n",
      "sim_165_p_rew_0.1_start_10_dq_0.1\n"
     ]
    },
    {
     "name": "stderr",
     "output_type": "stream",
     "text": [
      "/home/aiyappa/anaconda3/lib/python3.7/site-packages/tables/path.py:112: NaturalNameWarning: object name is not a valid Python identifier: 'sim_165_p_rew_0.1_start_10_dq_0.1'; it does not match the pattern ``^[a-zA-Z_][a-zA-Z0-9_]*$``; you will not be able to use natural naming to access this object; using ``getattr()`` will still work, though\n",
      "  NaturalNameWarning)\n"
     ]
    },
    {
     "name": "stdout",
     "output_type": "stream",
     "text": [
      "(sim,lamb_da,p_rew,start,dose_quantity) =  (165, 0.01, 0.10000000000000002, 10, 2)\n",
      "{5, 38, 9, 10, 48, 83, 93, 24, 29, 94}\n",
      "sim_165_p_rew_0.1_start_10_dq_2\n"
     ]
    },
    {
     "name": "stderr",
     "output_type": "stream",
     "text": [
      "/home/aiyappa/anaconda3/lib/python3.7/site-packages/tables/path.py:112: NaturalNameWarning: object name is not a valid Python identifier: 'sim_165_p_rew_0.1_start_10_dq_2'; it does not match the pattern ``^[a-zA-Z_][a-zA-Z0-9_]*$``; you will not be able to use natural naming to access this object; using ``getattr()`` will still work, though\n",
      "  NaturalNameWarning)\n"
     ]
    },
    {
     "name": "stdout",
     "output_type": "stream",
     "text": [
      "(sim,lamb_da,p_rew,start,dose_quantity) =  (165, 0.10000000000000002, 1.0, 1, 0.1)\n",
      "{95}\n",
      "sim_165_p_rew_1_start_1_dq_0.1\n"
     ]
    },
    {
     "name": "stderr",
     "output_type": "stream",
     "text": [
      "/home/aiyappa/anaconda3/lib/python3.7/site-packages/tables/path.py:112: NaturalNameWarning: object name is not a valid Python identifier: 'sim_165_p_rew_1_start_1_dq_0.1'; it does not match the pattern ``^[a-zA-Z_][a-zA-Z0-9_]*$``; you will not be able to use natural naming to access this object; using ``getattr()`` will still work, though\n",
      "  NaturalNameWarning)\n"
     ]
    },
    {
     "name": "stdout",
     "output_type": "stream",
     "text": [
      "(sim,lamb_da,p_rew,start,dose_quantity) =  (165, 0.10000000000000002, 1.0, 1, 2)\n",
      "{88}\n",
      "sim_165_p_rew_1_start_1_dq_2\n",
      "(sim,lamb_da,p_rew,start,dose_quantity) =  (165, 0.10000000000000002, 1.0, 10, 0.1)\n",
      "{0, 9, 74, 46, 17, 18, 20, 86, 23, 22}\n",
      "sim_165_p_rew_1_start_10_dq_0.1\n"
     ]
    },
    {
     "name": "stderr",
     "output_type": "stream",
     "text": [
      "/home/aiyappa/anaconda3/lib/python3.7/site-packages/tables/path.py:112: NaturalNameWarning: object name is not a valid Python identifier: 'sim_165_p_rew_1_start_10_dq_0.1'; it does not match the pattern ``^[a-zA-Z_][a-zA-Z0-9_]*$``; you will not be able to use natural naming to access this object; using ``getattr()`` will still work, though\n",
      "  NaturalNameWarning)\n"
     ]
    },
    {
     "name": "stdout",
     "output_type": "stream",
     "text": [
      "(sim,lamb_da,p_rew,start,dose_quantity) =  (165, 0.10000000000000002, 1.0, 10, 2)\n",
      "{0, 33, 97, 5, 37, 83, 54, 87, 56, 28}\n",
      "sim_165_p_rew_1_start_10_dq_2\n",
      "(sim,lamb_da,p_rew,start,dose_quantity) =  (166, 0.001, 0.01, 1, 0.1)\n",
      "{6}\n",
      "sim_166_p_rew_0.01_start_1_dq_0.1\n"
     ]
    },
    {
     "name": "stderr",
     "output_type": "stream",
     "text": [
      "/home/aiyappa/anaconda3/lib/python3.7/site-packages/tables/path.py:112: NaturalNameWarning: object name is not a valid Python identifier: 'sim_166_p_rew_0.01_start_1_dq_0.1'; it does not match the pattern ``^[a-zA-Z_][a-zA-Z0-9_]*$``; you will not be able to use natural naming to access this object; using ``getattr()`` will still work, though\n",
      "  NaturalNameWarning)\n"
     ]
    },
    {
     "name": "stdout",
     "output_type": "stream",
     "text": [
      "(sim,lamb_da,p_rew,start,dose_quantity) =  (166, 0.001, 0.01, 1, 2)\n",
      "{9}\n",
      "sim_166_p_rew_0.01_start_1_dq_2\n"
     ]
    },
    {
     "name": "stderr",
     "output_type": "stream",
     "text": [
      "/home/aiyappa/anaconda3/lib/python3.7/site-packages/tables/path.py:112: NaturalNameWarning: object name is not a valid Python identifier: 'sim_166_p_rew_0.01_start_1_dq_2'; it does not match the pattern ``^[a-zA-Z_][a-zA-Z0-9_]*$``; you will not be able to use natural naming to access this object; using ``getattr()`` will still work, though\n",
      "  NaturalNameWarning)\n"
     ]
    },
    {
     "name": "stdout",
     "output_type": "stream",
     "text": [
      "(sim,lamb_da,p_rew,start,dose_quantity) =  (166, 0.001, 0.01, 10, 0.1)\n",
      "{0, 65, 96, 39, 10, 75, 42, 19, 27, 29}\n",
      "sim_166_p_rew_0.01_start_10_dq_0.1\n"
     ]
    },
    {
     "name": "stderr",
     "output_type": "stream",
     "text": [
      "/home/aiyappa/anaconda3/lib/python3.7/site-packages/tables/path.py:112: NaturalNameWarning: object name is not a valid Python identifier: 'sim_166_p_rew_0.01_start_10_dq_0.1'; it does not match the pattern ``^[a-zA-Z_][a-zA-Z0-9_]*$``; you will not be able to use natural naming to access this object; using ``getattr()`` will still work, though\n",
      "  NaturalNameWarning)\n"
     ]
    },
    {
     "name": "stdout",
     "output_type": "stream",
     "text": [
      "(sim,lamb_da,p_rew,start,dose_quantity) =  (166, 0.001, 0.01, 10, 2)\n",
      "{1, 97, 11, 77, 81, 55, 94, 26, 30, 95}\n",
      "sim_166_p_rew_0.01_start_10_dq_2\n"
     ]
    },
    {
     "name": "stderr",
     "output_type": "stream",
     "text": [
      "/home/aiyappa/anaconda3/lib/python3.7/site-packages/tables/path.py:112: NaturalNameWarning: object name is not a valid Python identifier: 'sim_166_p_rew_0.01_start_10_dq_2'; it does not match the pattern ``^[a-zA-Z_][a-zA-Z0-9_]*$``; you will not be able to use natural naming to access this object; using ``getattr()`` will still work, though\n",
      "  NaturalNameWarning)\n"
     ]
    },
    {
     "name": "stdout",
     "output_type": "stream",
     "text": [
      "(sim,lamb_da,p_rew,start,dose_quantity) =  (166, 0.01, 0.10000000000000002, 1, 0.1)\n",
      "{34}\n",
      "sim_166_p_rew_0.1_start_1_dq_0.1\n"
     ]
    },
    {
     "name": "stderr",
     "output_type": "stream",
     "text": [
      "/home/aiyappa/anaconda3/lib/python3.7/site-packages/tables/path.py:112: NaturalNameWarning: object name is not a valid Python identifier: 'sim_166_p_rew_0.1_start_1_dq_0.1'; it does not match the pattern ``^[a-zA-Z_][a-zA-Z0-9_]*$``; you will not be able to use natural naming to access this object; using ``getattr()`` will still work, though\n",
      "  NaturalNameWarning)\n"
     ]
    },
    {
     "name": "stdout",
     "output_type": "stream",
     "text": [
      "(sim,lamb_da,p_rew,start,dose_quantity) =  (166, 0.01, 0.10000000000000002, 1, 2)\n",
      "{86}\n",
      "sim_166_p_rew_0.1_start_1_dq_2\n"
     ]
    },
    {
     "name": "stderr",
     "output_type": "stream",
     "text": [
      "/home/aiyappa/anaconda3/lib/python3.7/site-packages/tables/path.py:112: NaturalNameWarning: object name is not a valid Python identifier: 'sim_166_p_rew_0.1_start_1_dq_2'; it does not match the pattern ``^[a-zA-Z_][a-zA-Z0-9_]*$``; you will not be able to use natural naming to access this object; using ``getattr()`` will still work, though\n",
      "  NaturalNameWarning)\n"
     ]
    },
    {
     "name": "stdout",
     "output_type": "stream",
     "text": [
      "(sim,lamb_da,p_rew,start,dose_quantity) =  (166, 0.01, 0.10000000000000002, 10, 0.1)\n",
      "{32, 99, 70, 74, 50, 19, 84, 54, 90, 60}\n",
      "sim_166_p_rew_0.1_start_10_dq_0.1\n"
     ]
    },
    {
     "name": "stderr",
     "output_type": "stream",
     "text": [
      "/home/aiyappa/anaconda3/lib/python3.7/site-packages/tables/path.py:112: NaturalNameWarning: object name is not a valid Python identifier: 'sim_166_p_rew_0.1_start_10_dq_0.1'; it does not match the pattern ``^[a-zA-Z_][a-zA-Z0-9_]*$``; you will not be able to use natural naming to access this object; using ``getattr()`` will still work, though\n",
      "  NaturalNameWarning)\n"
     ]
    },
    {
     "name": "stdout",
     "output_type": "stream",
     "text": [
      "(sim,lamb_da,p_rew,start,dose_quantity) =  (166, 0.01, 0.10000000000000002, 10, 2)\n",
      "{96, 34, 99, 11, 82, 19, 59, 92, 93, 30}\n",
      "sim_166_p_rew_0.1_start_10_dq_2\n"
     ]
    },
    {
     "name": "stderr",
     "output_type": "stream",
     "text": [
      "/home/aiyappa/anaconda3/lib/python3.7/site-packages/tables/path.py:112: NaturalNameWarning: object name is not a valid Python identifier: 'sim_166_p_rew_0.1_start_10_dq_2'; it does not match the pattern ``^[a-zA-Z_][a-zA-Z0-9_]*$``; you will not be able to use natural naming to access this object; using ``getattr()`` will still work, though\n",
      "  NaturalNameWarning)\n"
     ]
    },
    {
     "name": "stdout",
     "output_type": "stream",
     "text": [
      "(sim,lamb_da,p_rew,start,dose_quantity) =  (166, 0.10000000000000002, 1.0, 1, 0.1)\n",
      "{71}\n",
      "sim_166_p_rew_1_start_1_dq_0.1\n"
     ]
    },
    {
     "name": "stderr",
     "output_type": "stream",
     "text": [
      "/home/aiyappa/anaconda3/lib/python3.7/site-packages/tables/path.py:112: NaturalNameWarning: object name is not a valid Python identifier: 'sim_166_p_rew_1_start_1_dq_0.1'; it does not match the pattern ``^[a-zA-Z_][a-zA-Z0-9_]*$``; you will not be able to use natural naming to access this object; using ``getattr()`` will still work, though\n",
      "  NaturalNameWarning)\n"
     ]
    },
    {
     "name": "stdout",
     "output_type": "stream",
     "text": [
      "(sim,lamb_da,p_rew,start,dose_quantity) =  (166, 0.10000000000000002, 1.0, 1, 2)\n",
      "{53}\n",
      "sim_166_p_rew_1_start_1_dq_2\n",
      "(sim,lamb_da,p_rew,start,dose_quantity) =  (166, 0.10000000000000002, 1.0, 10, 0.1)\n",
      "{89, 33, 67, 13, 20, 85, 87, 57, 59, 28}\n",
      "sim_166_p_rew_1_start_10_dq_0.1\n"
     ]
    },
    {
     "name": "stderr",
     "output_type": "stream",
     "text": [
      "/home/aiyappa/anaconda3/lib/python3.7/site-packages/tables/path.py:112: NaturalNameWarning: object name is not a valid Python identifier: 'sim_166_p_rew_1_start_10_dq_0.1'; it does not match the pattern ``^[a-zA-Z_][a-zA-Z0-9_]*$``; you will not be able to use natural naming to access this object; using ``getattr()`` will still work, though\n",
      "  NaturalNameWarning)\n"
     ]
    },
    {
     "name": "stdout",
     "output_type": "stream",
     "text": [
      "(sim,lamb_da,p_rew,start,dose_quantity) =  (166, 0.10000000000000002, 1.0, 10, 2)\n",
      "{33, 4, 74, 77, 79, 16, 53, 88, 27, 92}\n",
      "sim_166_p_rew_1_start_10_dq_2\n",
      "(sim,lamb_da,p_rew,start,dose_quantity) =  (167, 0.001, 0.01, 1, 0.1)\n",
      "{30}\n",
      "sim_167_p_rew_0.01_start_1_dq_0.1\n"
     ]
    },
    {
     "name": "stderr",
     "output_type": "stream",
     "text": [
      "/home/aiyappa/anaconda3/lib/python3.7/site-packages/tables/path.py:112: NaturalNameWarning: object name is not a valid Python identifier: 'sim_167_p_rew_0.01_start_1_dq_0.1'; it does not match the pattern ``^[a-zA-Z_][a-zA-Z0-9_]*$``; you will not be able to use natural naming to access this object; using ``getattr()`` will still work, though\n",
      "  NaturalNameWarning)\n"
     ]
    },
    {
     "name": "stdout",
     "output_type": "stream",
     "text": [
      "(sim,lamb_da,p_rew,start,dose_quantity) =  (167, 0.001, 0.01, 1, 2)\n",
      "{63}\n",
      "sim_167_p_rew_0.01_start_1_dq_2\n"
     ]
    },
    {
     "name": "stderr",
     "output_type": "stream",
     "text": [
      "/home/aiyappa/anaconda3/lib/python3.7/site-packages/tables/path.py:112: NaturalNameWarning: object name is not a valid Python identifier: 'sim_167_p_rew_0.01_start_1_dq_2'; it does not match the pattern ``^[a-zA-Z_][a-zA-Z0-9_]*$``; you will not be able to use natural naming to access this object; using ``getattr()`` will still work, though\n",
      "  NaturalNameWarning)\n"
     ]
    },
    {
     "name": "stdout",
     "output_type": "stream",
     "text": [
      "(sim,lamb_da,p_rew,start,dose_quantity) =  (167, 0.001, 0.01, 10, 0.1)\n",
      "{69, 41, 44, 47, 48, 51, 21, 62, 61, 94}\n",
      "sim_167_p_rew_0.01_start_10_dq_0.1\n"
     ]
    },
    {
     "name": "stderr",
     "output_type": "stream",
     "text": [
      "/home/aiyappa/anaconda3/lib/python3.7/site-packages/tables/path.py:112: NaturalNameWarning: object name is not a valid Python identifier: 'sim_167_p_rew_0.01_start_10_dq_0.1'; it does not match the pattern ``^[a-zA-Z_][a-zA-Z0-9_]*$``; you will not be able to use natural naming to access this object; using ``getattr()`` will still work, though\n",
      "  NaturalNameWarning)\n"
     ]
    },
    {
     "name": "stdout",
     "output_type": "stream",
     "text": [
      "(sim,lamb_da,p_rew,start,dose_quantity) =  (167, 0.001, 0.01, 10, 2)\n",
      "{97, 98, 35, 34, 37, 7, 81, 49, 88, 60}\n",
      "sim_167_p_rew_0.01_start_10_dq_2\n"
     ]
    },
    {
     "name": "stderr",
     "output_type": "stream",
     "text": [
      "/home/aiyappa/anaconda3/lib/python3.7/site-packages/tables/path.py:112: NaturalNameWarning: object name is not a valid Python identifier: 'sim_167_p_rew_0.01_start_10_dq_2'; it does not match the pattern ``^[a-zA-Z_][a-zA-Z0-9_]*$``; you will not be able to use natural naming to access this object; using ``getattr()`` will still work, though\n",
      "  NaturalNameWarning)\n"
     ]
    },
    {
     "name": "stdout",
     "output_type": "stream",
     "text": [
      "(sim,lamb_da,p_rew,start,dose_quantity) =  (167, 0.01, 0.10000000000000002, 1, 0.1)\n",
      "{33}\n",
      "sim_167_p_rew_0.1_start_1_dq_0.1\n"
     ]
    },
    {
     "name": "stderr",
     "output_type": "stream",
     "text": [
      "/home/aiyappa/anaconda3/lib/python3.7/site-packages/tables/path.py:112: NaturalNameWarning: object name is not a valid Python identifier: 'sim_167_p_rew_0.1_start_1_dq_0.1'; it does not match the pattern ``^[a-zA-Z_][a-zA-Z0-9_]*$``; you will not be able to use natural naming to access this object; using ``getattr()`` will still work, though\n",
      "  NaturalNameWarning)\n"
     ]
    },
    {
     "name": "stdout",
     "output_type": "stream",
     "text": [
      "(sim,lamb_da,p_rew,start,dose_quantity) =  (167, 0.01, 0.10000000000000002, 1, 2)\n",
      "{69}\n",
      "sim_167_p_rew_0.1_start_1_dq_2\n"
     ]
    },
    {
     "name": "stderr",
     "output_type": "stream",
     "text": [
      "/home/aiyappa/anaconda3/lib/python3.7/site-packages/tables/path.py:112: NaturalNameWarning: object name is not a valid Python identifier: 'sim_167_p_rew_0.1_start_1_dq_2'; it does not match the pattern ``^[a-zA-Z_][a-zA-Z0-9_]*$``; you will not be able to use natural naming to access this object; using ``getattr()`` will still work, though\n",
      "  NaturalNameWarning)\n"
     ]
    },
    {
     "name": "stdout",
     "output_type": "stream",
     "text": [
      "(sim,lamb_da,p_rew,start,dose_quantity) =  (167, 0.01, 0.10000000000000002, 10, 0.1)\n",
      "{64, 1, 40, 41, 77, 45, 81, 22, 58, 28}\n",
      "sim_167_p_rew_0.1_start_10_dq_0.1\n"
     ]
    },
    {
     "name": "stderr",
     "output_type": "stream",
     "text": [
      "/home/aiyappa/anaconda3/lib/python3.7/site-packages/tables/path.py:112: NaturalNameWarning: object name is not a valid Python identifier: 'sim_167_p_rew_0.1_start_10_dq_0.1'; it does not match the pattern ``^[a-zA-Z_][a-zA-Z0-9_]*$``; you will not be able to use natural naming to access this object; using ``getattr()`` will still work, though\n",
      "  NaturalNameWarning)\n"
     ]
    },
    {
     "name": "stdout",
     "output_type": "stream",
     "text": [
      "(sim,lamb_da,p_rew,start,dose_quantity) =  (167, 0.01, 0.10000000000000002, 10, 2)\n",
      "{66, 99, 40, 12, 83, 52, 22, 57, 91, 62}\n",
      "sim_167_p_rew_0.1_start_10_dq_2\n"
     ]
    },
    {
     "name": "stderr",
     "output_type": "stream",
     "text": [
      "/home/aiyappa/anaconda3/lib/python3.7/site-packages/tables/path.py:112: NaturalNameWarning: object name is not a valid Python identifier: 'sim_167_p_rew_0.1_start_10_dq_2'; it does not match the pattern ``^[a-zA-Z_][a-zA-Z0-9_]*$``; you will not be able to use natural naming to access this object; using ``getattr()`` will still work, though\n",
      "  NaturalNameWarning)\n"
     ]
    },
    {
     "name": "stdout",
     "output_type": "stream",
     "text": [
      "(sim,lamb_da,p_rew,start,dose_quantity) =  (167, 0.10000000000000002, 1.0, 1, 0.1)\n",
      "{13}\n",
      "sim_167_p_rew_1_start_1_dq_0.1\n"
     ]
    },
    {
     "name": "stderr",
     "output_type": "stream",
     "text": [
      "/home/aiyappa/anaconda3/lib/python3.7/site-packages/tables/path.py:112: NaturalNameWarning: object name is not a valid Python identifier: 'sim_167_p_rew_1_start_1_dq_0.1'; it does not match the pattern ``^[a-zA-Z_][a-zA-Z0-9_]*$``; you will not be able to use natural naming to access this object; using ``getattr()`` will still work, though\n",
      "  NaturalNameWarning)\n"
     ]
    },
    {
     "name": "stdout",
     "output_type": "stream",
     "text": [
      "(sim,lamb_da,p_rew,start,dose_quantity) =  (167, 0.10000000000000002, 1.0, 1, 2)\n",
      "{29}\n",
      "sim_167_p_rew_1_start_1_dq_2\n",
      "(sim,lamb_da,p_rew,start,dose_quantity) =  (167, 0.10000000000000002, 1.0, 10, 0.1)\n",
      "{99, 40, 13, 46, 29, 52, 22, 61, 94, 31}\n",
      "sim_167_p_rew_1_start_10_dq_0.1\n"
     ]
    },
    {
     "name": "stderr",
     "output_type": "stream",
     "text": [
      "/home/aiyappa/anaconda3/lib/python3.7/site-packages/tables/path.py:112: NaturalNameWarning: object name is not a valid Python identifier: 'sim_167_p_rew_1_start_10_dq_0.1'; it does not match the pattern ``^[a-zA-Z_][a-zA-Z0-9_]*$``; you will not be able to use natural naming to access this object; using ``getattr()`` will still work, though\n",
      "  NaturalNameWarning)\n"
     ]
    },
    {
     "name": "stdout",
     "output_type": "stream",
     "text": [
      "(sim,lamb_da,p_rew,start,dose_quantity) =  (167, 0.10000000000000002, 1.0, 10, 2)\n",
      "{96, 1, 70, 15, 51, 84, 85, 52, 22, 25}\n",
      "sim_167_p_rew_1_start_10_dq_2\n",
      "(sim,lamb_da,p_rew,start,dose_quantity) =  (168, 0.001, 0.01, 1, 0.1)\n",
      "{36}\n",
      "sim_168_p_rew_0.01_start_1_dq_0.1\n"
     ]
    },
    {
     "name": "stderr",
     "output_type": "stream",
     "text": [
      "/home/aiyappa/anaconda3/lib/python3.7/site-packages/tables/path.py:112: NaturalNameWarning: object name is not a valid Python identifier: 'sim_168_p_rew_0.01_start_1_dq_0.1'; it does not match the pattern ``^[a-zA-Z_][a-zA-Z0-9_]*$``; you will not be able to use natural naming to access this object; using ``getattr()`` will still work, though\n",
      "  NaturalNameWarning)\n"
     ]
    },
    {
     "name": "stdout",
     "output_type": "stream",
     "text": [
      "(sim,lamb_da,p_rew,start,dose_quantity) =  (168, 0.001, 0.01, 1, 2)\n",
      "{37}\n",
      "sim_168_p_rew_0.01_start_1_dq_2\n"
     ]
    },
    {
     "name": "stderr",
     "output_type": "stream",
     "text": [
      "/home/aiyappa/anaconda3/lib/python3.7/site-packages/tables/path.py:112: NaturalNameWarning: object name is not a valid Python identifier: 'sim_168_p_rew_0.01_start_1_dq_2'; it does not match the pattern ``^[a-zA-Z_][a-zA-Z0-9_]*$``; you will not be able to use natural naming to access this object; using ``getattr()`` will still work, though\n",
      "  NaturalNameWarning)\n"
     ]
    },
    {
     "name": "stdout",
     "output_type": "stream",
     "text": [
      "(sim,lamb_da,p_rew,start,dose_quantity) =  (168, 0.001, 0.01, 10, 0.1)\n",
      "{67, 8, 45, 77, 49, 20, 93, 59, 61, 63}\n",
      "sim_168_p_rew_0.01_start_10_dq_0.1\n"
     ]
    },
    {
     "name": "stderr",
     "output_type": "stream",
     "text": [
      "/home/aiyappa/anaconda3/lib/python3.7/site-packages/tables/path.py:112: NaturalNameWarning: object name is not a valid Python identifier: 'sim_168_p_rew_0.01_start_10_dq_0.1'; it does not match the pattern ``^[a-zA-Z_][a-zA-Z0-9_]*$``; you will not be able to use natural naming to access this object; using ``getattr()`` will still work, though\n",
      "  NaturalNameWarning)\n"
     ]
    },
    {
     "name": "stdout",
     "output_type": "stream",
     "text": [
      "(sim,lamb_da,p_rew,start,dose_quantity) =  (168, 0.001, 0.01, 10, 2)\n",
      "{0, 64, 67, 7, 78, 79, 20, 93, 94, 63}\n",
      "sim_168_p_rew_0.01_start_10_dq_2\n"
     ]
    },
    {
     "name": "stderr",
     "output_type": "stream",
     "text": [
      "/home/aiyappa/anaconda3/lib/python3.7/site-packages/tables/path.py:112: NaturalNameWarning: object name is not a valid Python identifier: 'sim_168_p_rew_0.01_start_10_dq_2'; it does not match the pattern ``^[a-zA-Z_][a-zA-Z0-9_]*$``; you will not be able to use natural naming to access this object; using ``getattr()`` will still work, though\n",
      "  NaturalNameWarning)\n"
     ]
    },
    {
     "name": "stdout",
     "output_type": "stream",
     "text": [
      "(sim,lamb_da,p_rew,start,dose_quantity) =  (168, 0.01, 0.10000000000000002, 1, 0.1)\n",
      "{69}\n",
      "sim_168_p_rew_0.1_start_1_dq_0.1\n"
     ]
    },
    {
     "name": "stderr",
     "output_type": "stream",
     "text": [
      "/home/aiyappa/anaconda3/lib/python3.7/site-packages/tables/path.py:112: NaturalNameWarning: object name is not a valid Python identifier: 'sim_168_p_rew_0.1_start_1_dq_0.1'; it does not match the pattern ``^[a-zA-Z_][a-zA-Z0-9_]*$``; you will not be able to use natural naming to access this object; using ``getattr()`` will still work, though\n",
      "  NaturalNameWarning)\n"
     ]
    },
    {
     "name": "stdout",
     "output_type": "stream",
     "text": [
      "(sim,lamb_da,p_rew,start,dose_quantity) =  (168, 0.01, 0.10000000000000002, 1, 2)\n",
      "{88}\n",
      "sim_168_p_rew_0.1_start_1_dq_2\n"
     ]
    },
    {
     "name": "stderr",
     "output_type": "stream",
     "text": [
      "/home/aiyappa/anaconda3/lib/python3.7/site-packages/tables/path.py:112: NaturalNameWarning: object name is not a valid Python identifier: 'sim_168_p_rew_0.1_start_1_dq_2'; it does not match the pattern ``^[a-zA-Z_][a-zA-Z0-9_]*$``; you will not be able to use natural naming to access this object; using ``getattr()`` will still work, though\n",
      "  NaturalNameWarning)\n"
     ]
    },
    {
     "name": "stdout",
     "output_type": "stream",
     "text": [
      "(sim,lamb_da,p_rew,start,dose_quantity) =  (168, 0.01, 0.10000000000000002, 10, 0.1)\n",
      "{66, 8, 73, 13, 18, 19, 84, 20, 59, 63}\n",
      "sim_168_p_rew_0.1_start_10_dq_0.1\n"
     ]
    },
    {
     "name": "stderr",
     "output_type": "stream",
     "text": [
      "/home/aiyappa/anaconda3/lib/python3.7/site-packages/tables/path.py:112: NaturalNameWarning: object name is not a valid Python identifier: 'sim_168_p_rew_0.1_start_10_dq_0.1'; it does not match the pattern ``^[a-zA-Z_][a-zA-Z0-9_]*$``; you will not be able to use natural naming to access this object; using ``getattr()`` will still work, though\n",
      "  NaturalNameWarning)\n"
     ]
    },
    {
     "name": "stdout",
     "output_type": "stream",
     "text": [
      "(sim,lamb_da,p_rew,start,dose_quantity) =  (168, 0.01, 0.10000000000000002, 10, 2)\n",
      "{65, 2, 67, 7, 73, 49, 51, 85, 59, 61}\n",
      "sim_168_p_rew_0.1_start_10_dq_2\n"
     ]
    },
    {
     "name": "stderr",
     "output_type": "stream",
     "text": [
      "/home/aiyappa/anaconda3/lib/python3.7/site-packages/tables/path.py:112: NaturalNameWarning: object name is not a valid Python identifier: 'sim_168_p_rew_0.1_start_10_dq_2'; it does not match the pattern ``^[a-zA-Z_][a-zA-Z0-9_]*$``; you will not be able to use natural naming to access this object; using ``getattr()`` will still work, though\n",
      "  NaturalNameWarning)\n"
     ]
    },
    {
     "name": "stdout",
     "output_type": "stream",
     "text": [
      "(sim,lamb_da,p_rew,start,dose_quantity) =  (168, 0.10000000000000002, 1.0, 1, 0.1)\n",
      "{10}\n",
      "sim_168_p_rew_1_start_1_dq_0.1\n"
     ]
    },
    {
     "name": "stderr",
     "output_type": "stream",
     "text": [
      "/home/aiyappa/anaconda3/lib/python3.7/site-packages/tables/path.py:112: NaturalNameWarning: object name is not a valid Python identifier: 'sim_168_p_rew_1_start_1_dq_0.1'; it does not match the pattern ``^[a-zA-Z_][a-zA-Z0-9_]*$``; you will not be able to use natural naming to access this object; using ``getattr()`` will still work, though\n",
      "  NaturalNameWarning)\n"
     ]
    },
    {
     "name": "stdout",
     "output_type": "stream",
     "text": [
      "(sim,lamb_da,p_rew,start,dose_quantity) =  (168, 0.10000000000000002, 1.0, 1, 2)\n",
      "{73}\n",
      "sim_168_p_rew_1_start_1_dq_2\n",
      "(sim,lamb_da,p_rew,start,dose_quantity) =  (168, 0.10000000000000002, 1.0, 10, 0.1)\n",
      "Initial node infection step failed\n",
      "None\n",
      "{64, 97, 2, 3, 98, 17, 49, 19, 85, 22}\n",
      "sim_168_p_rew_1_start_10_dq_0.1\n"
     ]
    },
    {
     "name": "stderr",
     "output_type": "stream",
     "text": [
      "/home/aiyappa/anaconda3/lib/python3.7/site-packages/tables/path.py:112: NaturalNameWarning: object name is not a valid Python identifier: 'sim_168_p_rew_1_start_10_dq_0.1'; it does not match the pattern ``^[a-zA-Z_][a-zA-Z0-9_]*$``; you will not be able to use natural naming to access this object; using ``getattr()`` will still work, though\n",
      "  NaturalNameWarning)\n"
     ]
    },
    {
     "name": "stdout",
     "output_type": "stream",
     "text": [
      "(sim,lamb_da,p_rew,start,dose_quantity) =  (168, 0.10000000000000002, 1.0, 10, 2)\n",
      "{0, 32, 98, 97, 41, 73, 47, 84, 55, 89}\n",
      "sim_168_p_rew_1_start_10_dq_2\n",
      "(sim,lamb_da,p_rew,start,dose_quantity) =  (169, 0.001, 0.01, 1, 0.1)\n",
      "{12}\n",
      "sim_169_p_rew_0.01_start_1_dq_0.1\n"
     ]
    },
    {
     "name": "stderr",
     "output_type": "stream",
     "text": [
      "/home/aiyappa/anaconda3/lib/python3.7/site-packages/tables/path.py:112: NaturalNameWarning: object name is not a valid Python identifier: 'sim_169_p_rew_0.01_start_1_dq_0.1'; it does not match the pattern ``^[a-zA-Z_][a-zA-Z0-9_]*$``; you will not be able to use natural naming to access this object; using ``getattr()`` will still work, though\n",
      "  NaturalNameWarning)\n"
     ]
    },
    {
     "name": "stdout",
     "output_type": "stream",
     "text": [
      "(sim,lamb_da,p_rew,start,dose_quantity) =  (169, 0.001, 0.01, 1, 2)\n",
      "{24}\n",
      "sim_169_p_rew_0.01_start_1_dq_2\n"
     ]
    },
    {
     "name": "stderr",
     "output_type": "stream",
     "text": [
      "/home/aiyappa/anaconda3/lib/python3.7/site-packages/tables/path.py:112: NaturalNameWarning: object name is not a valid Python identifier: 'sim_169_p_rew_0.01_start_1_dq_2'; it does not match the pattern ``^[a-zA-Z_][a-zA-Z0-9_]*$``; you will not be able to use natural naming to access this object; using ``getattr()`` will still work, though\n",
      "  NaturalNameWarning)\n"
     ]
    },
    {
     "name": "stdout",
     "output_type": "stream",
     "text": [
      "(sim,lamb_da,p_rew,start,dose_quantity) =  (169, 0.001, 0.01, 10, 0.1)\n",
      "{33, 97, 66, 36, 75, 47, 80, 49, 81, 31}\n",
      "sim_169_p_rew_0.01_start_10_dq_0.1\n"
     ]
    },
    {
     "name": "stderr",
     "output_type": "stream",
     "text": [
      "/home/aiyappa/anaconda3/lib/python3.7/site-packages/tables/path.py:112: NaturalNameWarning: object name is not a valid Python identifier: 'sim_169_p_rew_0.01_start_10_dq_0.1'; it does not match the pattern ``^[a-zA-Z_][a-zA-Z0-9_]*$``; you will not be able to use natural naming to access this object; using ``getattr()`` will still work, though\n",
      "  NaturalNameWarning)\n"
     ]
    },
    {
     "name": "stdout",
     "output_type": "stream",
     "text": [
      "(sim,lamb_da,p_rew,start,dose_quantity) =  (169, 0.001, 0.01, 10, 2)\n",
      "{33, 1, 41, 17, 18, 20, 84, 25, 90, 91}\n",
      "sim_169_p_rew_0.01_start_10_dq_2\n"
     ]
    },
    {
     "name": "stderr",
     "output_type": "stream",
     "text": [
      "/home/aiyappa/anaconda3/lib/python3.7/site-packages/tables/path.py:112: NaturalNameWarning: object name is not a valid Python identifier: 'sim_169_p_rew_0.01_start_10_dq_2'; it does not match the pattern ``^[a-zA-Z_][a-zA-Z0-9_]*$``; you will not be able to use natural naming to access this object; using ``getattr()`` will still work, though\n",
      "  NaturalNameWarning)\n"
     ]
    },
    {
     "name": "stdout",
     "output_type": "stream",
     "text": [
      "(sim,lamb_da,p_rew,start,dose_quantity) =  (169, 0.01, 0.10000000000000002, 1, 0.1)\n",
      "{1}\n",
      "sim_169_p_rew_0.1_start_1_dq_0.1\n"
     ]
    },
    {
     "name": "stderr",
     "output_type": "stream",
     "text": [
      "/home/aiyappa/anaconda3/lib/python3.7/site-packages/tables/path.py:112: NaturalNameWarning: object name is not a valid Python identifier: 'sim_169_p_rew_0.1_start_1_dq_0.1'; it does not match the pattern ``^[a-zA-Z_][a-zA-Z0-9_]*$``; you will not be able to use natural naming to access this object; using ``getattr()`` will still work, though\n",
      "  NaturalNameWarning)\n"
     ]
    },
    {
     "name": "stdout",
     "output_type": "stream",
     "text": [
      "(sim,lamb_da,p_rew,start,dose_quantity) =  (169, 0.01, 0.10000000000000002, 1, 2)\n",
      "{25}\n",
      "sim_169_p_rew_0.1_start_1_dq_2\n"
     ]
    },
    {
     "name": "stderr",
     "output_type": "stream",
     "text": [
      "/home/aiyappa/anaconda3/lib/python3.7/site-packages/tables/path.py:112: NaturalNameWarning: object name is not a valid Python identifier: 'sim_169_p_rew_0.1_start_1_dq_2'; it does not match the pattern ``^[a-zA-Z_][a-zA-Z0-9_]*$``; you will not be able to use natural naming to access this object; using ``getattr()`` will still work, though\n",
      "  NaturalNameWarning)\n"
     ]
    },
    {
     "name": "stdout",
     "output_type": "stream",
     "text": [
      "(sim,lamb_da,p_rew,start,dose_quantity) =  (169, 0.01, 0.10000000000000002, 10, 0.1)\n",
      "{98, 11, 13, 83, 86, 24, 25, 61, 62, 95}\n",
      "sim_169_p_rew_0.1_start_10_dq_0.1\n"
     ]
    },
    {
     "name": "stderr",
     "output_type": "stream",
     "text": [
      "/home/aiyappa/anaconda3/lib/python3.7/site-packages/tables/path.py:112: NaturalNameWarning: object name is not a valid Python identifier: 'sim_169_p_rew_0.1_start_10_dq_0.1'; it does not match the pattern ``^[a-zA-Z_][a-zA-Z0-9_]*$``; you will not be able to use natural naming to access this object; using ``getattr()`` will still work, though\n",
      "  NaturalNameWarning)\n"
     ]
    },
    {
     "name": "stdout",
     "output_type": "stream",
     "text": [
      "(sim,lamb_da,p_rew,start,dose_quantity) =  (169, 0.01, 0.10000000000000002, 10, 2)\n",
      "{98, 67, 37, 7, 73, 83, 59, 28, 95, 31}\n",
      "sim_169_p_rew_0.1_start_10_dq_2\n"
     ]
    },
    {
     "name": "stderr",
     "output_type": "stream",
     "text": [
      "/home/aiyappa/anaconda3/lib/python3.7/site-packages/tables/path.py:112: NaturalNameWarning: object name is not a valid Python identifier: 'sim_169_p_rew_0.1_start_10_dq_2'; it does not match the pattern ``^[a-zA-Z_][a-zA-Z0-9_]*$``; you will not be able to use natural naming to access this object; using ``getattr()`` will still work, though\n",
      "  NaturalNameWarning)\n"
     ]
    },
    {
     "name": "stdout",
     "output_type": "stream",
     "text": [
      "(sim,lamb_da,p_rew,start,dose_quantity) =  (169, 0.10000000000000002, 1.0, 1, 0.1)\n",
      "{50}\n",
      "sim_169_p_rew_1_start_1_dq_0.1\n"
     ]
    },
    {
     "name": "stderr",
     "output_type": "stream",
     "text": [
      "/home/aiyappa/anaconda3/lib/python3.7/site-packages/tables/path.py:112: NaturalNameWarning: object name is not a valid Python identifier: 'sim_169_p_rew_1_start_1_dq_0.1'; it does not match the pattern ``^[a-zA-Z_][a-zA-Z0-9_]*$``; you will not be able to use natural naming to access this object; using ``getattr()`` will still work, though\n",
      "  NaturalNameWarning)\n"
     ]
    },
    {
     "name": "stdout",
     "output_type": "stream",
     "text": [
      "(sim,lamb_da,p_rew,start,dose_quantity) =  (169, 0.10000000000000002, 1.0, 1, 2)\n",
      "{20}\n",
      "sim_169_p_rew_1_start_1_dq_2\n",
      "(sim,lamb_da,p_rew,start,dose_quantity) =  (169, 0.10000000000000002, 1.0, 10, 0.1)\n",
      "{6, 71, 40, 39, 42, 13, 80, 58, 61, 63}\n",
      "sim_169_p_rew_1_start_10_dq_0.1\n"
     ]
    },
    {
     "name": "stderr",
     "output_type": "stream",
     "text": [
      "/home/aiyappa/anaconda3/lib/python3.7/site-packages/tables/path.py:112: NaturalNameWarning: object name is not a valid Python identifier: 'sim_169_p_rew_1_start_10_dq_0.1'; it does not match the pattern ``^[a-zA-Z_][a-zA-Z0-9_]*$``; you will not be able to use natural naming to access this object; using ``getattr()`` will still work, though\n",
      "  NaturalNameWarning)\n"
     ]
    },
    {
     "name": "stdout",
     "output_type": "stream",
     "text": [
      "(sim,lamb_da,p_rew,start,dose_quantity) =  (169, 0.10000000000000002, 1.0, 10, 2)\n",
      "{66, 98, 36, 72, 59, 14, 83, 86, 55, 27}\n",
      "sim_169_p_rew_1_start_10_dq_2\n"
     ]
    }
   ],
   "source": [
    "for sim in range(70,70+100) :\n",
    "    '''returns coordinates, distance matrix, edge_list and the adjacency matrix'''\n",
    "    dist_mat,coords = calc_dist(N) #node placement\n",
    "    edge_list = rand_net_gnm(total_edges,N)\n",
    "    org_adj_mat = np.int64(np.zeros((N,N)))\n",
    "    for i in range(len(edge_list)):\n",
    "        org_adj_mat[edge_list[i][0],edge_list[i][1]] = np.int64(1)\n",
    "        \n",
    "    df_row = 0\n",
    "    for p_rew in p_rew_vals : #rate of rewiring (per unit time (second))\n",
    "        lamb_da = p_rew/10\n",
    "        lamb_da = lamb_da*dt\n",
    "        p_rew = p_rew*dt\n",
    "        for start in start_vals : #rate of dose transfer (per unit time (second))\n",
    "            for dose_quantity in dose_quantity_vals : #number of nodes to infect initially\n",
    "                print('(sim,lamb_da,p_rew,start,dose_quantity) = ', (sim,lamb_da/dt,p_rew/dt,start,dose_quantity))\n",
    "\n",
    "                '''clearing exsiting data frames and creating new ones '''\n",
    "                timeseries_infec_frac = pd.DataFrame()\n",
    "                timeseries_in_degree = pd.DataFrame()\n",
    "                timeseries_out_degree = pd.DataFrame()\n",
    "                timeseries_connec_comps = pd.DataFrame()\n",
    "\n",
    "                q = 0 #to generate new edge_list from the new adjacency matrix \n",
    "                t = np.arange(0,T,dt)\n",
    "\n",
    "    #             numpy_array = np.zeros((N,len(t)),dtype = np.int64) #stores the states of the nodes. Rows are nodes and columns are time steps\n",
    "                D_array = np.zeros((N,len(t))) #stores the cumulative doses. Rows are nodes and columns are time steps\n",
    "\n",
    "                adj_mat_list = []\n",
    "                adj_mat = org_adj_mat\n",
    "                adj_mat_new = copy.deepcopy(adj_mat)\n",
    "                adj_mat_list.append(adj_mat_new) #list of arrays which shows the time series of the adjacency matrix\n",
    "\n",
    "                #coords remain the same. Get new edge_list from the latest adjacency matrix\n",
    "                edge_list = edge_from_adj_mat(adj_mat_list,q)\n",
    "                G = networkx_graph(coords,edge_list) #networkx graph\n",
    "\n",
    "                '''from G, obtain the in degree and the out degree'''\n",
    "                timeseries_in_degree.loc[:,0] = np.asarray([val for (node, val) in G.in_degree()])\n",
    "                timeseries_out_degree.loc[:,0] = np.asarray([val for (node, val) in G.out_degree()])\n",
    "\n",
    "                '''strongly and weekely connected components'''\n",
    "                timeseries_connec_comps.loc[0,0] = nx.number_connected_components(G.to_undirected())\n",
    "\n",
    "                '''choosing initially infected nodes'''\n",
    "                indi_state = np.random.randint(1,2,size=(N,1))\n",
    "                infected_nodes = None\n",
    "                while infected_nodes is None : #infecting 'start' number of network neighbours\n",
    "                    infected_nodes = InfectNetworkNeighbors(G,np.random.randint(N),start)\n",
    "                    print(infected_nodes)\n",
    "                infected_nodes = np.asarray(list(infected_nodes)).reshape(len(infected_nodes),1)\n",
    "                indi_state[infected_nodes[:,0],0] = 2\n",
    "\n",
    "                A,B = np.meshgrid(indi_state,indi_state) \n",
    "                partner_state = A\n",
    "                indi_state_for_rew = B\n",
    "\n",
    "    #             numpy_array [:,0] = indi_state[:,0]\n",
    "\n",
    "                indi_state_prev = indi_state\n",
    "                partner_state_prev = partner_state\n",
    "                indi_state_for_rew_prev = indi_state_for_rew\n",
    "\n",
    "                d = np.zeros((len(adj_mat),len(adj_mat[0])))\n",
    "\n",
    "                D = np.zeros((N,1))\n",
    "                D[np.where(indi_state==2)] = D_ini\n",
    "                D_array[:,0] = D[:,0]\n",
    "                D_prev = D\n",
    "\n",
    "                infec_frac = np.count_nonzero(indi_state == 2)/N\n",
    "                timeseries_infec_frac.loc[df_row,0] = infec_frac\n",
    "                '''the main part of the simulation'''\n",
    "                counter = 0\n",
    "                df_col = 1\n",
    "                for t in np.arange(dt,T,dt) :\n",
    "                    q = q + 1 \n",
    "                    counter = counter + 1\n",
    "                    infec_indi = []\n",
    "                    suscep_indi = []\n",
    "                    d = np.zeros((len(adj_mat),len(adj_mat[0])))\n",
    "                    d = dose(adj_mat,p,partner_state_prev,d)\n",
    "\n",
    "                    OD_array = np.asarray([val for (node, val) in G.out_degree()])\n",
    "                    OD_mesh1,OD_mesh2 = np.meshgrid(OD_array,OD_array)\n",
    "                    adj_mat = rew(p_rew,adj_mat,indi_state_for_rew_prev,OD_mesh2,lamb_da)\n",
    "                    adj_mat_new = copy.deepcopy(adj_mat)\n",
    "                    adj_mat_list.append(adj_mat_new)\n",
    "\n",
    "                    #coords remain the same. Get new edge_list from the latest adjacency matrix\n",
    "                    edge_list = edge_from_adj_mat(adj_mat_list,q)\n",
    "                    G = networkx_graph(coords,edge_list) #networkx graph\n",
    "\n",
    "                    '''from G, obtain the in degree and the out degree'''\n",
    "                    timeseries_in_degree.loc[:,df_col] = np.asarray([val for (node, val) in G.in_degree()])\n",
    "                    timeseries_out_degree.loc[:,df_col] = np.asarray([val for (node, val) in G.out_degree()])\n",
    "\n",
    "                    '''strongly and weekely connected components'''\n",
    "                    timeseries_connec_comps.loc[df_row,df_col] = nx.number_connected_components(G.to_undirected())\n",
    "\n",
    "                    D = cumu_dose(d,D_prev,gamma)\n",
    "                    D_array[:,counter] = D[:,0]\n",
    "\n",
    "                    indi_state = upd_indi_state(D,d_star,indi_state_prev)\n",
    "                    infec_frac = np.count_nonzero(indi_state == 2)/N\n",
    "                    timeseries_infec_frac.loc[df_row,df_col] = infec_frac\n",
    "\n",
    "    #                 numpy_array[:,counter] = indi_state[:,0]\n",
    "                    A,B = np.meshgrid(indi_state,indi_state)\n",
    "\n",
    "                    infec_indi, suscep_indi = states(indi_state)\n",
    "\n",
    "                    partner_state = A\n",
    "                    indi_state_for_rew = B\n",
    "                    indi_state_prev = indi_state\n",
    "                    partner_state_prev = partner_state\n",
    "                    indi_state_for_rew_prev = indi_state_for_rew\n",
    "\n",
    "                    D_prev = D\n",
    "                    D = np.zeros((N,1))\n",
    "                    df_col = df_col + 1 \n",
    "\n",
    "    #             df_row = df_row + 1 #going to the next row of the df to store timeseries of next (p,start)\n",
    "\n",
    "                filename_infec_frac = 'infec_frac.h5'\n",
    "                filename_in_deg = 'in_deg.h5'\n",
    "                filename_out_deg = 'out_deg.h5'\n",
    "                filename_connec_comps = 'connec_comps.h5'\n",
    "                p_rew_val = '%g'%(p_rew/dt)\n",
    "                key_val = 'sim_'+str(sim)+'_p_rew_'+str(p_rew_val)+'_start_'+str(start)+'_dq_'+str(dose_quantity)\n",
    "                print(key_val)\n",
    "                timeseries_infec_frac.to_hdf(filename_infec_frac, key = key_val, mode='a')\n",
    "                timeseries_in_degree.to_hdf(filename_in_deg, key = key_val, mode='a')\n",
    "                timeseries_out_degree.to_hdf(filename_out_deg, key = key_val, mode='a')\n",
    "                timeseries_connec_comps.to_hdf(filename_connec_comps, key = key_val, mode='a')\n",
    "                df_row = 0"
   ]
  },
  {
   "cell_type": "code",
   "execution_count": 72,
   "metadata": {},
   "outputs": [],
   "source": [
    "# filename = 'file_avdeg_'+str(average_degree)+'_ini_'+str(np.int64(X[0,0]*N))+'_'+str(np.int64(X[p_len-1,start_len-1]*N))+'.h5'\n",
    "# key \n",
    "# timeseries_infec_frac.to_hdf(filename, key='timeseries_infec_frac', mode='w')"
   ]
  },
  {
   "cell_type": "code",
   "execution_count": 73,
   "metadata": {},
   "outputs": [],
   "source": [
    "# import h5py\n",
    "# f = h5py.File('in_deg.h5', 'r')\n",
    "# [key for key in f.keys()]\n",
    "# # pd.read_hdf('file_avdeg_6_ini_0_11_firstattemp.h5','p_rew_2')"
   ]
  },
  {
   "cell_type": "code",
   "execution_count": 74,
   "metadata": {},
   "outputs": [],
   "source": [
    "A = np.random.randint(5,size=(5,5))"
   ]
  },
  {
   "cell_type": "code",
   "execution_count": 75,
   "metadata": {},
   "outputs": [
    {
     "name": "stdout",
     "output_type": "stream",
     "text": [
      "[[1 3 2 3 1]\n",
      " [3 1 1 0 1]\n",
      " [2 2 1 2 2]\n",
      " [2 0 1 3 2]\n",
      " [2 3 3 4 2]]\n",
      "[[6 8 7 8 6]\n",
      " [8 6 6 5 6]\n",
      " [7 7 6 7 7]\n",
      " [7 5 6 8 7]\n",
      " [7 8 8 9 7]]\n"
     ]
    }
   ],
   "source": [
    "print(A)\n",
    "print(A+5)"
   ]
  }
 ],
 "metadata": {
  "kernelspec": {
   "display_name": "Python 3",
   "language": "python",
   "name": "python3"
  },
  "language_info": {
   "codemirror_mode": {
    "name": "ipython",
    "version": 3
   },
   "file_extension": ".py",
   "mimetype": "text/x-python",
   "name": "python",
   "nbconvert_exporter": "python",
   "pygments_lexer": "ipython3",
   "version": "3.7.1"
  }
 },
 "nbformat": 4,
 "nbformat_minor": 2
}
