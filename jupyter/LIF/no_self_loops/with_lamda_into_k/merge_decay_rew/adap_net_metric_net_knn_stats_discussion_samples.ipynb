{
 "cells": [
  {
   "cell_type": "markdown",
   "metadata": {},
   "source": [
    "## Leaky integrated firing neuron model  \n",
    "## Few feautures :\n",
    "### Spatial network, no memory term but exponential decay of cumulative dose\n",
    "\n",
    "This is a minor change of the Dodds and Watts model  \n",
    "Implement adaptive rewiring and generate statistics"
   ]
  },
  {
   "cell_type": "code",
   "execution_count": 1,
   "metadata": {},
   "outputs": [],
   "source": [
    "#importing the required libraries\n",
    "\n",
    "import networkx as nx\n",
    "import matplotlib.pyplot as plt #for plotting\n",
    "import numpy as np #for using arrays and vectorising the code wherever possible\n",
    "import scipy\n",
    "import random\n",
    "# from numba import jit #numba precomplier to make the code faster\n",
    "import pandas as pd\n",
    "import copy"
   ]
  },
  {
   "cell_type": "markdown",
   "metadata": {},
   "source": [
    "# Variables used in the simulation"
   ]
  },
  {
   "cell_type": "code",
   "execution_count": 65,
   "metadata": {},
   "outputs": [
    {
     "data": {
      "text/plain": [
       "'rewiring parameters'"
      ]
     },
     "execution_count": 65,
     "metadata": {},
     "output_type": "execute_result"
    }
   ],
   "source": [
    "N = 100\n",
    "gamma = 1 #decay of cumulative dose per unit time (second)\n",
    "T = 100 #total number of seconds\n",
    "dt = 0.05 #seconds\n",
    "'''number of simulation steps is T/dt'''\n",
    "\n",
    "'''Dodds watts parameters'''\n",
    "p = 1 #rate of dose transfer (per unit time (second))\n",
    "p = p*dt #rate of dose transfer per unit simulation step\n",
    "r = 1/dt\n",
    "r = r*dt\n",
    "rho = 1/dt\n",
    "rho = rho*dt\n",
    "# r = 0.5\n",
    "# r = r*dt\n",
    "\n",
    "d_star = 1\n",
    "# dose_quantity = 1\n",
    "D_ini = 3\n",
    "\n",
    "'''network parameters'''\n",
    "circ_rad = 100 #for a network in which each node is connected to other nodes withing a circle of radius circ_rad\n",
    "nn = 7 #the number of nearest neighbours(i.e. k) in knn\n",
    "average_degree = 6\n",
    "total_edges = N*2\n",
    "\n",
    "'''rewiring parameters'''\n",
    "# p_rew = 5 #rate of rewiring(per unit time(second))\n",
    "# p_rew = p_rew*dt"
   ]
  },
  {
   "cell_type": "markdown",
   "metadata": {},
   "source": [
    "# Creating the network. \n",
    "### The network outputs coordinates, distance matrix, edge_list and adjacency matrix"
   ]
  },
  {
   "cell_type": "code",
   "execution_count": 66,
   "metadata": {},
   "outputs": [],
   "source": [
    "'''\n",
    "obtains the number of nodes N\n",
    "generates N points\n",
    "calculates euclidean distance between each pair of points\n",
    "returns the coordinates of the points and the distance matrix which is N*N\n",
    "'''\n",
    "def calc_dist(N) :\n",
    "    coords = []\n",
    "    for counter in range(N) :\n",
    "        coords.append((N*np.random.random(),N*np.random.random()))\n",
    "\n",
    "    dist_mat = scipy.spatial.distance.cdist(coords,coords)\n",
    "    return dist_mat,coords"
   ]
  },
  {
   "cell_type": "markdown",
   "metadata": {},
   "source": [
    "### 1. metric network"
   ]
  },
  {
   "cell_type": "code",
   "execution_count": 67,
   "metadata": {},
   "outputs": [],
   "source": [
    "'''network = connect to points withing a circle of radius'''\n",
    "#creates a link between points/nodes which satisfies the conditions of the network\n",
    "def coupling(dist_mat,circ_rad) :\n",
    "    edge_list = []\n",
    "    edge_mask = (dist_mat<circ_rad) & (dist_mat>0)\n",
    "    edge_list.extend(np.ndarray.tolist(np.transpose(np.where(edge_mask))))\n",
    "#     print(type(np.ndarray.tolist(np.transpose(np.where(edge_mask)))))\n",
    "    return edge_list"
   ]
  },
  {
   "cell_type": "markdown",
   "metadata": {},
   "source": [
    "### 2. K nearest neighbour network"
   ]
  },
  {
   "cell_type": "code",
   "execution_count": 68,
   "metadata": {},
   "outputs": [],
   "source": [
    "'''network = knn'''\n",
    "def knn(dist_mat,nn,N) :\n",
    "    near_neigh = np.argsort(dist_mat)\n",
    "    selec_near_neigh = np.zeros((N,nn))\n",
    "    selec_near_neigh = near_neigh[:,0:nn+1]\n",
    "\n",
    "    edge_list = []\n",
    "    for i in range(N) :\n",
    "        for j in range(1,nn+1) :\n",
    "            link = [i,selec_near_neigh[i,j]]\n",
    "            edge_list.append(link)\n",
    "\n",
    "    return edge_list"
   ]
  },
  {
   "cell_type": "markdown",
   "metadata": {},
   "source": [
    "### 3. Random Network : GNP type"
   ]
  },
  {
   "cell_type": "code",
   "execution_count": 69,
   "metadata": {},
   "outputs": [],
   "source": [
    "'''random network'''\n",
    "def rand_network(average_degree,N) :\n",
    "    z1 = np.random.uniform(size = (N,N))\n",
    "    E,F = np.meshgrid(np.arange(0,N),np.arange(0,N))\n",
    "    mask = ((average_degree/N) > z1) & (E!=F)\n",
    "    adjacency_matrix = np.int64(np.zeros(shape=(N,N)))\n",
    "    adjacency_matrix[mask] = np.int64(1)\n",
    "    edge_list = []\n",
    "    edge_list.extend(np.ndarray.tolist(np.transpose(np.where(adjacency_matrix==1))))\n",
    "    return edge_list,adjacency_matrix"
   ]
  },
  {
   "cell_type": "markdown",
   "metadata": {},
   "source": [
    "### 4. Random Network : GNM type"
   ]
  },
  {
   "cell_type": "code",
   "execution_count": 70,
   "metadata": {},
   "outputs": [],
   "source": [
    "def rand_net_gnm(total_edges,N) :\n",
    "    the_graph = nx.gnm_random_graph(N, total_edges,directed=True)\n",
    "    adjacency_matrix = nx.adjacency_matrix(the_graph)\n",
    "    adjacency_matrix = np.asarray(adjacency_matrix.todense())\n",
    "    np.fill_diagonal(adjacency_matrix,0)\n",
    "    edge_list = []\n",
    "    edge_list.extend(np.ndarray.tolist(np.transpose(np.where(adjacency_matrix==1))))\n",
    "    return edge_list"
   ]
  },
  {
   "cell_type": "markdown",
   "metadata": {},
   "source": [
    "# Function defintions required for the main part of the script"
   ]
  },
  {
   "cell_type": "code",
   "execution_count": 71,
   "metadata": {},
   "outputs": [],
   "source": [
    "# # @jit(nopython=True)\n",
    "# '''infecting the left part of space.'''\n",
    "# def left_part_infec(N) :\n",
    "#     x_coord = []\n",
    "#     y_coord = []\n",
    "#     for j in range(len(coords)) :\n",
    "#         x_coord.append(coords[j][0])\n",
    "#         y_coord.append(coords[j][1])\n",
    "#     x_coord = np.asarray(x_coord)\n",
    "#     y_coord = np.asarray(y_coord)\n",
    "#     points = np.asarray(np.where(x_coord<(N/5))) \n",
    "#     indi_state[points.T] = 2\n",
    "\n",
    "#     return indi_state"
   ]
  },
  {
   "cell_type": "code",
   "execution_count": 72,
   "metadata": {},
   "outputs": [],
   "source": [
    "'''infecting connected nodes'''\n",
    "def InfectNetworkNeighbors(net,seed_node,init_infected_nodes):\n",
    "     # if in bulk find one node randomly, and infect its neighbours\n",
    "    infected_nodes = set()\n",
    "    candidate_nodes = set()\n",
    "    explored_nodes = set()\n",
    "\n",
    "    #pick the seed node\n",
    "    infected_nodes.add(seed_node)\n",
    "    explored_nodes.add(seed_node)\n",
    "\n",
    "    curr_node=seed_node\n",
    "\n",
    "    #add its neighbors to the list of candidates\n",
    "    for n in net.neighbors(curr_node):\n",
    "        candidate_nodes.add(int(n))\n",
    "    #print( curr_node)\n",
    "    #print( candidate_nodes)\n",
    "\n",
    "    #while we need to select more nodes...\n",
    "    while len(infected_nodes) < init_infected_nodes:\n",
    "\n",
    "        #if there are candidate nodes, select one of them\n",
    "        if(len(candidate_nodes) > 0):\n",
    "            new_node = np.random.choice(list(candidate_nodes),1)[0]\n",
    "            infected_nodes.add(new_node)\n",
    "            candidate_nodes.remove(new_node)\n",
    "\n",
    "        elif len(infected_nodes - explored_nodes) > 0:\n",
    "            curr_node = np.random.choice(list(infected_nodes -\n",
    "            explored_nodes),1)[0]\n",
    "            explored_nodes.add(curr_node)\n",
    "            for n in set(net.neighbors(curr_node)) - infected_nodes:\n",
    "                candidate_nodes.add(n)\n",
    "\n",
    "        else:\n",
    "            print('Initial node infection step failed')\n",
    "            return None\n",
    "    return infected_nodes"
   ]
  },
  {
   "cell_type": "code",
   "execution_count": null,
   "metadata": {},
   "outputs": [],
   "source": [
    "''' function to transfer doses'''\n",
    "# @jit(nopython=True)\n",
    "def dose(adj_mat,p,partner_state_prev,d) :\n",
    "\n",
    "    z1 = np.random.uniform(size=(len(adj_mat),len(adj_mat[0])))\n",
    "    \n",
    "    dose_transfer_mask = p > z1\n",
    "    mod_adj_mat = np.multiply(adj_mat,z1) #modifying adjacency matrix to include the proability of dose transfer\n",
    "    dose_mask = (p>mod_adj_mat) & (adj_mat!=0) & (partner_state_prev == 2)\n",
    "    d[dose_mask] = dose_quantity #whenever it is proabable, dose transfer occurs\n",
    "    \n",
    "    return d"
   ]
  },
  {
   "cell_type": "code",
   "execution_count": null,
   "metadata": {},
   "outputs": [],
   "source": [
    "'''rewiring function which returns a new adjacency matrix'''\n",
    "\n",
    "def rew(p_rew,adjacency_matrix,indi_state_for_rew_prev,OD_mesh2,lamb_da) :\n",
    "    \n",
    "    z1_rew = np.random.uniform(size=(len(adj_mat),len(adj_mat[0])))\n",
    "    \n",
    "    rew_mask_plus = (p_rew > z1_rew)  & (indi_state_for_rew_prev == 1)\n",
    "    #create links. Dont break any.\n",
    "    adjacency_matrix[rew_mask_plus] = 1\n",
    "    rew_mask_minus1 = ((p_rew + lamb_da*OD_mesh2) > z1_rew) & (indi_state_for_rew_prev == 2)\n",
    "    #break links. Dont create any.\n",
    "    adjacency_matrix[rew_mask_minus1] = 0\n",
    "    rew_mask_minus2 = (lamb_da*OD_mesh2 > z1_rew) & (indi_state_for_rew_prev == 1)\n",
    "    adjacency_matrix[rew_mask_minus2] = 0\n",
    "    \n",
    "    np.fill_diagonal(adjacency_matrix,0)\n",
    "    \n",
    "    return adjacency_matrix"
   ]
  },
  {
   "cell_type": "code",
   "execution_count": null,
   "metadata": {},
   "outputs": [],
   "source": [
    "'''function to update cumulative doses'''\n",
    "def cumu_dose(d,D_prev,gamma) :\n",
    "    I = d.sum(axis=1).reshape(N,1)\n",
    "#     I = 0\n",
    "    D = (D_prev - (gamma*D_prev*dt)) + I\n",
    "    return D"
   ]
  },
  {
   "cell_type": "code",
   "execution_count": null,
   "metadata": {},
   "outputs": [],
   "source": [
    "'''function to update the states of the nodes of the system'''\n",
    "def upd_indi_state(D,d_star,indi_state_prev) :\n",
    "    \n",
    "    z2 = np.random.uniform(size=(N,1))\n",
    "    z3 = np.random.uniform(size=(N,1))\n",
    "    \n",
    "    indi_state = indi_state_prev\n",
    "    \n",
    "    indi_state_mask1 = (D>=d_star) & (indi_state_prev==1)\n",
    "    indi_state[indi_state_mask1] = 2\n",
    "    \n",
    "    indi_state_mask21 = (D<d_star) & (indi_state_prev==2) & (r>=z2) & (rho>=z3)\n",
    "    indi_state[indi_state_mask21] = 1\n",
    "    \n",
    "    indi_state_mask22 = (D<d_star) & (indi_state_prev==2) & (r>=z2) & (rho<z3)\n",
    "    indi_state[indi_state_mask22] = 3\n",
    "    \n",
    "    indi_state_mask23 = (D<d_star) & (indi_state_prev==2) & (r<z2)\n",
    "    indi_state[indi_state_mask23] = 2\n",
    "    \n",
    "    return indi_state"
   ]
  },
  {
   "cell_type": "code",
   "execution_count": null,
   "metadata": {},
   "outputs": [],
   "source": [
    "'''function to get/identify the infected nodes and the suceptible nodes'''\n",
    "def states(indi_state) :\n",
    "    infec_indi = []\n",
    "    suscep_indi = []\n",
    "    infec_indi = np.transpose(np.where(indi_state==2))\n",
    "    suscep_indi = np.transpose(np.where(indi_state==1))\n",
    "    return infec_indi,suscep_indi"
   ]
  },
  {
   "cell_type": "code",
   "execution_count": null,
   "metadata": {},
   "outputs": [],
   "source": [
    "def networkx_graph(coords,edge_list) :\n",
    "    G = nx.DiGraph()\n",
    "    pos = {(i): (coords[i][0],coords[i][1]) for i in range(N)}\n",
    "    G.add_nodes_from(pos.keys())\n",
    "    G.add_edges_from(edge_list)\n",
    "    return G"
   ]
  },
  {
   "cell_type": "code",
   "execution_count": null,
   "metadata": {},
   "outputs": [],
   "source": [
    "def edge_from_adj_mat(adj_mat_list,q):\n",
    "    edge_list = []\n",
    "    edge_list.extend(np.ndarray.tolist(np.transpose(np.where(adj_mat_list[q]==1))))\n",
    "    return edge_list"
   ]
  },
  {
   "cell_type": "markdown",
   "metadata": {},
   "source": [
    "# Choose which network you want in the program\n",
    "### Coupling network of knn network?"
   ]
  },
  {
   "cell_type": "code",
   "execution_count": null,
   "metadata": {},
   "outputs": [],
   "source": [
    "'''returns coordinates, distance matrix, edge_list and the adjacency matrix'''\n",
    "\n",
    "dist_mat,coords = calc_dist(N) #node placement\n",
    "\n",
    "# edge_list = coupling(dist_mat,circ_rad)\n",
    "# edge_list = knn(dist_mat,nn,N)\n",
    "# edge_list = rand_network(average_degree,N)\n",
    "edge_list = rand_net_gnm(total_edges,N)\n",
    "\n",
    "org_adj_mat = np.int64(np.zeros((N,N)))\n",
    "for i in range(len(edge_list)):\n",
    "    org_adj_mat[edge_list[i][0],edge_list[i][1]] = np.int64(1)"
   ]
  },
  {
   "cell_type": "markdown",
   "metadata": {},
   "source": [
    "# The main part of the script"
   ]
  },
  {
   "cell_type": "code",
   "execution_count": null,
   "metadata": {},
   "outputs": [],
   "source": [
    "#infected state time series data frame\n",
    "#columns indicate the time steps\n",
    "timeseries_infec_frac = pd.DataFrame()\n",
    "\n",
    "#in degree as columns and rows as nodes\n",
    "timeseries_in_degree = pd.DataFrame() \n",
    "\n",
    "#out degree as columns and rows as nodes\n",
    "timeseries_out_degree = pd.DataFrame()\n",
    "\n",
    "#strongly connected components as columns\n",
    "timeseries_connec_comps = pd.DataFrame()"
   ]
  },
  {
   "cell_type": "code",
   "execution_count": null,
   "metadata": {},
   "outputs": [],
   "source": [
    "p_rew_vals = [0.01,0.1,1]\n",
    "start_vals = [1,10]\n",
    "dose_quantity_vals = [0.1,2]"
   ]
  },
  {
   "cell_type": "code",
   "execution_count": null,
   "metadata": {},
   "outputs": [
    {
     "name": "stdout",
     "output_type": "stream",
     "text": [
      "(sim,lamb_da,p_rew,start,dose_quantity) =  (70, 0.001, 0.01, 1, 0.1)\n",
      "{92}\n",
      "sim_70_p_rew_0.01_start_1_dq_0.1\n",
      "(sim,lamb_da,p_rew,start,dose_quantity) =  (70, 0.001, 0.01, 1, 2)\n",
      "{35}\n",
      "sim_70_p_rew_0.01_start_1_dq_2\n",
      "(sim,lamb_da,p_rew,start,dose_quantity) =  (70, 0.001, 0.01, 10, 0.1)\n",
      "{4, 9, 14, 47, 16, 51, 20, 26, 59, 94}\n",
      "sim_70_p_rew_0.01_start_10_dq_0.1\n",
      "(sim,lamb_da,p_rew,start,dose_quantity) =  (70, 0.001, 0.01, 10, 2)\n",
      "{35, 69, 40, 42, 11, 43, 79, 16, 83, 57}\n",
      "sim_70_p_rew_0.01_start_10_dq_2\n",
      "(sim,lamb_da,p_rew,start,dose_quantity) =  (70, 0.01, 0.10000000000000002, 1, 0.1)\n",
      "{63}\n",
      "sim_70_p_rew_0.1_start_1_dq_0.1\n",
      "(sim,lamb_da,p_rew,start,dose_quantity) =  (70, 0.01, 0.10000000000000002, 1, 2)\n",
      "{9}\n",
      "sim_70_p_rew_0.1_start_1_dq_2\n",
      "(sim,lamb_da,p_rew,start,dose_quantity) =  (70, 0.01, 0.10000000000000002, 10, 0.1)\n",
      "{35, 70, 6, 42, 11, 47, 80, 49, 54, 90}\n",
      "sim_70_p_rew_0.1_start_10_dq_0.1\n",
      "(sim,lamb_da,p_rew,start,dose_quantity) =  (70, 0.01, 0.10000000000000002, 10, 2)\n",
      "{97, 99, 14, 80, 16, 62, 94, 59, 60, 30}\n",
      "sim_70_p_rew_0.1_start_10_dq_2\n",
      "(sim,lamb_da,p_rew,start,dose_quantity) =  (70, 0.10000000000000002, 1.0, 1, 0.1)\n",
      "{52}\n",
      "sim_70_p_rew_1_start_1_dq_0.1\n",
      "(sim,lamb_da,p_rew,start,dose_quantity) =  (70, 0.10000000000000002, 1.0, 1, 2)\n",
      "{38}\n",
      "sim_70_p_rew_1_start_1_dq_2\n",
      "(sim,lamb_da,p_rew,start,dose_quantity) =  (70, 0.10000000000000002, 1.0, 10, 0.1)\n",
      "{0, 7, 40, 9, 42, 43, 44, 80, 28, 62}\n",
      "sim_70_p_rew_1_start_10_dq_0.1\n",
      "(sim,lamb_da,p_rew,start,dose_quantity) =  (70, 0.10000000000000002, 1.0, 10, 2)\n",
      "{99, 38, 7, 42, 11, 17, 21, 53, 89, 29}\n",
      "sim_70_p_rew_1_start_10_dq_2\n",
      "(sim,lamb_da,p_rew,start,dose_quantity) =  (71, 0.001, 0.01, 1, 0.1)\n",
      "{15}\n",
      "sim_71_p_rew_0.01_start_1_dq_0.1\n",
      "(sim,lamb_da,p_rew,start,dose_quantity) =  (71, 0.001, 0.01, 1, 2)\n",
      "{0}\n",
      "sim_71_p_rew_0.01_start_1_dq_2\n",
      "(sim,lamb_da,p_rew,start,dose_quantity) =  (71, 0.001, 0.01, 10, 0.1)\n",
      "{6, 72, 11, 43, 77, 80, 84, 85, 23, 28}\n",
      "sim_71_p_rew_0.01_start_10_dq_0.1\n",
      "(sim,lamb_da,p_rew,start,dose_quantity) =  (71, 0.001, 0.01, 10, 2)\n",
      "{64, 68, 38, 39, 17, 82, 84, 53, 52, 30}\n",
      "sim_71_p_rew_0.01_start_10_dq_2\n",
      "(sim,lamb_da,p_rew,start,dose_quantity) =  (71, 0.01, 0.10000000000000002, 1, 0.1)\n",
      "{23}\n",
      "sim_71_p_rew_0.1_start_1_dq_0.1\n",
      "(sim,lamb_da,p_rew,start,dose_quantity) =  (71, 0.01, 0.10000000000000002, 1, 2)\n",
      "{80}\n",
      "sim_71_p_rew_0.1_start_1_dq_2\n",
      "(sim,lamb_da,p_rew,start,dose_quantity) =  (71, 0.01, 0.10000000000000002, 10, 0.1)\n",
      "{73, 43, 13, 78, 46, 49, 51, 52, 84, 86}\n",
      "sim_71_p_rew_0.1_start_10_dq_0.1\n",
      "(sim,lamb_da,p_rew,start,dose_quantity) =  (71, 0.01, 0.10000000000000002, 10, 2)\n",
      "{0, 65, 2, 3, 68, 36, 73, 45, 93, 62}\n",
      "sim_71_p_rew_0.1_start_10_dq_2\n",
      "(sim,lamb_da,p_rew,start,dose_quantity) =  (71, 0.10000000000000002, 1.0, 1, 0.1)\n",
      "{30}\n",
      "sim_71_p_rew_1_start_1_dq_0.1\n",
      "(sim,lamb_da,p_rew,start,dose_quantity) =  (71, 0.10000000000000002, 1.0, 1, 2)\n",
      "{76}\n",
      "sim_71_p_rew_1_start_1_dq_2\n",
      "(sim,lamb_da,p_rew,start,dose_quantity) =  (71, 0.10000000000000002, 1.0, 10, 0.1)\n",
      "Initial node infection step failed\n",
      "None\n",
      "Initial node infection step failed\n",
      "None\n",
      "{33, 34, 35, 99, 6, 44, 77, 46, 15, 88}\n",
      "sim_71_p_rew_1_start_10_dq_0.1\n",
      "(sim,lamb_da,p_rew,start,dose_quantity) =  (71, 0.10000000000000002, 1.0, 10, 2)\n",
      "{65, 8, 11, 12, 45, 46, 48, 20, 88, 57}\n",
      "sim_71_p_rew_1_start_10_dq_2\n",
      "(sim,lamb_da,p_rew,start,dose_quantity) =  (72, 0.001, 0.01, 1, 0.1)\n",
      "{53}\n",
      "sim_72_p_rew_0.01_start_1_dq_0.1\n",
      "(sim,lamb_da,p_rew,start,dose_quantity) =  (72, 0.001, 0.01, 1, 2)\n",
      "{74}\n",
      "sim_72_p_rew_0.01_start_1_dq_2\n",
      "(sim,lamb_da,p_rew,start,dose_quantity) =  (72, 0.001, 0.01, 10, 0.1)\n",
      "{32, 66, 35, 41, 49, 19, 84, 88, 24, 92}\n",
      "sim_72_p_rew_0.01_start_10_dq_0.1\n",
      "(sim,lamb_da,p_rew,start,dose_quantity) =  (72, 0.001, 0.01, 10, 2)\n",
      "{0, 2, 66, 68, 70, 49, 20, 56, 58, 30}\n",
      "sim_72_p_rew_0.01_start_10_dq_2\n",
      "(sim,lamb_da,p_rew,start,dose_quantity) =  (72, 0.01, 0.10000000000000002, 1, 0.1)\n",
      "{36}\n",
      "sim_72_p_rew_0.1_start_1_dq_0.1\n",
      "(sim,lamb_da,p_rew,start,dose_quantity) =  (72, 0.01, 0.10000000000000002, 1, 2)\n",
      "{90}\n",
      "sim_72_p_rew_0.1_start_1_dq_2\n",
      "(sim,lamb_da,p_rew,start,dose_quantity) =  (72, 0.01, 0.10000000000000002, 10, 0.1)\n",
      "{5, 77, 48, 49, 54, 22, 88, 25, 91, 57}\n",
      "sim_72_p_rew_0.1_start_10_dq_0.1\n",
      "(sim,lamb_da,p_rew,start,dose_quantity) =  (72, 0.01, 0.10000000000000002, 10, 2)\n",
      "{65, 39, 71, 11, 12, 81, 88, 91, 60, 62}\n",
      "sim_72_p_rew_0.1_start_10_dq_2\n",
      "(sim,lamb_da,p_rew,start,dose_quantity) =  (72, 0.10000000000000002, 1.0, 1, 0.1)\n",
      "{42}\n",
      "sim_72_p_rew_1_start_1_dq_0.1\n",
      "(sim,lamb_da,p_rew,start,dose_quantity) =  (72, 0.10000000000000002, 1.0, 1, 2)\n",
      "{44}\n",
      "sim_72_p_rew_1_start_1_dq_2\n",
      "(sim,lamb_da,p_rew,start,dose_quantity) =  (72, 0.10000000000000002, 1.0, 10, 0.1)\n",
      "Initial node infection step failed\n",
      "None\n",
      "Initial node infection step failed\n",
      "None\n",
      "Initial node infection step failed\n",
      "None\n",
      "{2, 66, 37, 38, 41, 79, 16, 19, 25, 30}\n",
      "sim_72_p_rew_1_start_10_dq_0.1\n",
      "(sim,lamb_da,p_rew,start,dose_quantity) =  (72, 0.10000000000000002, 1.0, 10, 2)\n",
      "{1, 66, 72, 41, 43, 44, 87, 88, 57, 60}\n",
      "sim_72_p_rew_1_start_10_dq_2\n",
      "(sim,lamb_da,p_rew,start,dose_quantity) =  (73, 0.001, 0.01, 1, 0.1)\n",
      "{78}\n",
      "sim_73_p_rew_0.01_start_1_dq_0.1\n",
      "(sim,lamb_da,p_rew,start,dose_quantity) =  (73, 0.001, 0.01, 1, 2)\n",
      "{21}\n",
      "sim_73_p_rew_0.01_start_1_dq_2\n",
      "(sim,lamb_da,p_rew,start,dose_quantity) =  (73, 0.001, 0.01, 10, 0.1)\n",
      "{64, 33, 9, 41, 11, 43, 45, 14, 19, 85}\n",
      "sim_73_p_rew_0.01_start_10_dq_0.1\n",
      "(sim,lamb_da,p_rew,start,dose_quantity) =  (73, 0.001, 0.01, 10, 2)\n",
      "{33, 90, 11, 12, 19, 52, 58, 60, 61, 94}\n",
      "sim_73_p_rew_0.01_start_10_dq_2\n",
      "(sim,lamb_da,p_rew,start,dose_quantity) =  (73, 0.01, 0.10000000000000002, 1, 0.1)\n",
      "{35}\n",
      "sim_73_p_rew_0.1_start_1_dq_0.1\n",
      "(sim,lamb_da,p_rew,start,dose_quantity) =  (73, 0.01, 0.10000000000000002, 1, 2)\n",
      "{72}\n",
      "sim_73_p_rew_0.1_start_1_dq_2\n",
      "(sim,lamb_da,p_rew,start,dose_quantity) =  (73, 0.01, 0.10000000000000002, 10, 0.1)\n",
      "{67, 4, 37, 70, 38, 14, 21, 29, 95, 63}\n",
      "sim_73_p_rew_0.1_start_10_dq_0.1\n",
      "(sim,lamb_da,p_rew,start,dose_quantity) =  (73, 0.01, 0.10000000000000002, 10, 2)\n",
      "{4, 71, 8, 45, 14, 92, 80, 81, 23, 60}\n",
      "sim_73_p_rew_0.1_start_10_dq_2\n",
      "(sim,lamb_da,p_rew,start,dose_quantity) =  (73, 0.10000000000000002, 1.0, 1, 0.1)\n",
      "{15}\n",
      "sim_73_p_rew_1_start_1_dq_0.1\n",
      "(sim,lamb_da,p_rew,start,dose_quantity) =  (73, 0.10000000000000002, 1.0, 1, 2)\n",
      "{77}\n",
      "sim_73_p_rew_1_start_1_dq_2\n",
      "(sim,lamb_da,p_rew,start,dose_quantity) =  (73, 0.10000000000000002, 1.0, 10, 0.1)\n",
      "{66, 36, 69, 71, 41, 42, 82, 89, 59, 92}\n",
      "sim_73_p_rew_1_start_10_dq_0.1\n",
      "(sim,lamb_da,p_rew,start,dose_quantity) =  (73, 0.10000000000000002, 1.0, 10, 2)\n",
      "{3, 37, 8, 15, 81, 85, 55, 25, 58, 29}\n",
      "sim_73_p_rew_1_start_10_dq_2\n",
      "(sim,lamb_da,p_rew,start,dose_quantity) =  (74, 0.001, 0.01, 1, 0.1)\n",
      "{2}\n",
      "sim_74_p_rew_0.01_start_1_dq_0.1\n",
      "(sim,lamb_da,p_rew,start,dose_quantity) =  (74, 0.001, 0.01, 1, 2)\n",
      "{52}\n",
      "sim_74_p_rew_0.01_start_1_dq_2\n",
      "(sim,lamb_da,p_rew,start,dose_quantity) =  (74, 0.001, 0.01, 10, 0.1)\n",
      "{36, 5, 69, 39, 71, 76, 47, 57, 61, 31}\n",
      "sim_74_p_rew_0.01_start_10_dq_0.1\n",
      "(sim,lamb_da,p_rew,start,dose_quantity) =  (74, 0.001, 0.01, 10, 2)\n",
      "{65, 36, 5, 46, 47, 52, 24, 57, 59, 61}\n",
      "sim_74_p_rew_0.01_start_10_dq_2\n",
      "(sim,lamb_da,p_rew,start,dose_quantity) =  (74, 0.01, 0.10000000000000002, 1, 0.1)\n",
      "{89}\n",
      "sim_74_p_rew_0.1_start_1_dq_0.1\n",
      "(sim,lamb_da,p_rew,start,dose_quantity) =  (74, 0.01, 0.10000000000000002, 1, 2)\n",
      "{19}\n",
      "sim_74_p_rew_0.1_start_1_dq_2\n",
      "(sim,lamb_da,p_rew,start,dose_quantity) =  (74, 0.01, 0.10000000000000002, 10, 0.1)\n",
      "{96, 67, 3, 12, 17, 84, 20, 26, 93, 62}\n",
      "sim_74_p_rew_0.1_start_10_dq_0.1\n",
      "(sim,lamb_da,p_rew,start,dose_quantity) =  (74, 0.01, 0.10000000000000002, 10, 2)\n",
      "{34, 99, 69, 39, 41, 73, 17, 21, 57, 60}\n",
      "sim_74_p_rew_0.1_start_10_dq_2\n",
      "(sim,lamb_da,p_rew,start,dose_quantity) =  (74, 0.10000000000000002, 1.0, 1, 0.1)\n",
      "{78}\n",
      "sim_74_p_rew_1_start_1_dq_0.1\n",
      "(sim,lamb_da,p_rew,start,dose_quantity) =  (74, 0.10000000000000002, 1.0, 1, 2)\n",
      "{18}\n",
      "sim_74_p_rew_1_start_1_dq_2\n",
      "(sim,lamb_da,p_rew,start,dose_quantity) =  (74, 0.10000000000000002, 1.0, 10, 0.1)\n",
      "{97, 5, 38, 72, 73, 76, 53, 61, 62, 95}\n",
      "sim_74_p_rew_1_start_10_dq_0.1\n"
     ]
    },
    {
     "name": "stderr",
     "output_type": "stream",
     "text": [
      "/home/aiyappa/anaconda3/lib/python3.7/site-packages/tables/path.py:112: NaturalNameWarning: object name is not a valid Python identifier: 'sim_74_p_rew_1_start_10_dq_0.1'; it does not match the pattern ``^[a-zA-Z_][a-zA-Z0-9_]*$``; you will not be able to use natural naming to access this object; using ``getattr()`` will still work, though\n",
      "  NaturalNameWarning)\n"
     ]
    },
    {
     "name": "stdout",
     "output_type": "stream",
     "text": [
      "(sim,lamb_da,p_rew,start,dose_quantity) =  (74, 0.10000000000000002, 1.0, 10, 2)\n",
      "{64, 98, 9, 12, 13, 46, 50, 55, 87, 88}\n",
      "sim_74_p_rew_1_start_10_dq_2\n",
      "(sim,lamb_da,p_rew,start,dose_quantity) =  (75, 0.001, 0.01, 1, 0.1)\n",
      "{73}\n",
      "sim_75_p_rew_0.01_start_1_dq_0.1\n"
     ]
    },
    {
     "name": "stderr",
     "output_type": "stream",
     "text": [
      "/home/aiyappa/anaconda3/lib/python3.7/site-packages/tables/path.py:112: NaturalNameWarning: object name is not a valid Python identifier: 'sim_75_p_rew_0.01_start_1_dq_0.1'; it does not match the pattern ``^[a-zA-Z_][a-zA-Z0-9_]*$``; you will not be able to use natural naming to access this object; using ``getattr()`` will still work, though\n",
      "  NaturalNameWarning)\n"
     ]
    },
    {
     "name": "stdout",
     "output_type": "stream",
     "text": [
      "(sim,lamb_da,p_rew,start,dose_quantity) =  (75, 0.001, 0.01, 1, 2)\n",
      "{2}\n",
      "sim_75_p_rew_0.01_start_1_dq_2\n"
     ]
    },
    {
     "name": "stderr",
     "output_type": "stream",
     "text": [
      "/home/aiyappa/anaconda3/lib/python3.7/site-packages/tables/path.py:112: NaturalNameWarning: object name is not a valid Python identifier: 'sim_75_p_rew_0.01_start_1_dq_2'; it does not match the pattern ``^[a-zA-Z_][a-zA-Z0-9_]*$``; you will not be able to use natural naming to access this object; using ``getattr()`` will still work, though\n",
      "  NaturalNameWarning)\n"
     ]
    },
    {
     "name": "stdout",
     "output_type": "stream",
     "text": [
      "(sim,lamb_da,p_rew,start,dose_quantity) =  (75, 0.001, 0.01, 10, 0.1)\n",
      "{70, 10, 42, 46, 50, 21, 54, 24, 58, 30}\n",
      "sim_75_p_rew_0.01_start_10_dq_0.1\n"
     ]
    },
    {
     "name": "stderr",
     "output_type": "stream",
     "text": [
      "/home/aiyappa/anaconda3/lib/python3.7/site-packages/tables/path.py:112: NaturalNameWarning: object name is not a valid Python identifier: 'sim_75_p_rew_0.01_start_10_dq_0.1'; it does not match the pattern ``^[a-zA-Z_][a-zA-Z0-9_]*$``; you will not be able to use natural naming to access this object; using ``getattr()`` will still work, though\n",
      "  NaturalNameWarning)\n"
     ]
    },
    {
     "name": "stdout",
     "output_type": "stream",
     "text": [
      "(sim,lamb_da,p_rew,start,dose_quantity) =  (75, 0.001, 0.01, 10, 2)\n",
      "{65, 3, 68, 46, 19, 20, 53, 55, 89, 59}\n",
      "sim_75_p_rew_0.01_start_10_dq_2\n"
     ]
    },
    {
     "name": "stderr",
     "output_type": "stream",
     "text": [
      "/home/aiyappa/anaconda3/lib/python3.7/site-packages/tables/path.py:112: NaturalNameWarning: object name is not a valid Python identifier: 'sim_75_p_rew_0.01_start_10_dq_2'; it does not match the pattern ``^[a-zA-Z_][a-zA-Z0-9_]*$``; you will not be able to use natural naming to access this object; using ``getattr()`` will still work, though\n",
      "  NaturalNameWarning)\n"
     ]
    },
    {
     "name": "stdout",
     "output_type": "stream",
     "text": [
      "(sim,lamb_da,p_rew,start,dose_quantity) =  (75, 0.01, 0.10000000000000002, 1, 0.1)\n",
      "{48}\n",
      "sim_75_p_rew_0.1_start_1_dq_0.1\n"
     ]
    },
    {
     "name": "stderr",
     "output_type": "stream",
     "text": [
      "/home/aiyappa/anaconda3/lib/python3.7/site-packages/tables/path.py:112: NaturalNameWarning: object name is not a valid Python identifier: 'sim_75_p_rew_0.1_start_1_dq_0.1'; it does not match the pattern ``^[a-zA-Z_][a-zA-Z0-9_]*$``; you will not be able to use natural naming to access this object; using ``getattr()`` will still work, though\n",
      "  NaturalNameWarning)\n"
     ]
    },
    {
     "name": "stdout",
     "output_type": "stream",
     "text": [
      "(sim,lamb_da,p_rew,start,dose_quantity) =  (75, 0.01, 0.10000000000000002, 1, 2)\n",
      "{55}\n",
      "sim_75_p_rew_0.1_start_1_dq_2\n"
     ]
    },
    {
     "name": "stderr",
     "output_type": "stream",
     "text": [
      "/home/aiyappa/anaconda3/lib/python3.7/site-packages/tables/path.py:112: NaturalNameWarning: object name is not a valid Python identifier: 'sim_75_p_rew_0.1_start_1_dq_2'; it does not match the pattern ``^[a-zA-Z_][a-zA-Z0-9_]*$``; you will not be able to use natural naming to access this object; using ``getattr()`` will still work, though\n",
      "  NaturalNameWarning)\n"
     ]
    },
    {
     "name": "stdout",
     "output_type": "stream",
     "text": [
      "(sim,lamb_da,p_rew,start,dose_quantity) =  (75, 0.01, 0.10000000000000002, 10, 0.1)\n",
      "{33, 66, 38, 10, 43, 12, 16, 87, 28, 62}\n",
      "sim_75_p_rew_0.1_start_10_dq_0.1\n"
     ]
    },
    {
     "name": "stderr",
     "output_type": "stream",
     "text": [
      "/home/aiyappa/anaconda3/lib/python3.7/site-packages/tables/path.py:112: NaturalNameWarning: object name is not a valid Python identifier: 'sim_75_p_rew_0.1_start_10_dq_0.1'; it does not match the pattern ``^[a-zA-Z_][a-zA-Z0-9_]*$``; you will not be able to use natural naming to access this object; using ``getattr()`` will still work, though\n",
      "  NaturalNameWarning)\n"
     ]
    },
    {
     "name": "stdout",
     "output_type": "stream",
     "text": [
      "(sim,lamb_da,p_rew,start,dose_quantity) =  (75, 0.01, 0.10000000000000002, 10, 2)\n",
      "{65, 66, 41, 18, 84, 86, 55, 88, 57, 30}\n",
      "sim_75_p_rew_0.1_start_10_dq_2\n"
     ]
    },
    {
     "name": "stderr",
     "output_type": "stream",
     "text": [
      "/home/aiyappa/anaconda3/lib/python3.7/site-packages/tables/path.py:112: NaturalNameWarning: object name is not a valid Python identifier: 'sim_75_p_rew_0.1_start_10_dq_2'; it does not match the pattern ``^[a-zA-Z_][a-zA-Z0-9_]*$``; you will not be able to use natural naming to access this object; using ``getattr()`` will still work, though\n",
      "  NaturalNameWarning)\n"
     ]
    },
    {
     "name": "stdout",
     "output_type": "stream",
     "text": [
      "(sim,lamb_da,p_rew,start,dose_quantity) =  (75, 0.10000000000000002, 1.0, 1, 0.1)\n",
      "{15}\n",
      "sim_75_p_rew_1_start_1_dq_0.1\n"
     ]
    },
    {
     "name": "stderr",
     "output_type": "stream",
     "text": [
      "/home/aiyappa/anaconda3/lib/python3.7/site-packages/tables/path.py:112: NaturalNameWarning: object name is not a valid Python identifier: 'sim_75_p_rew_1_start_1_dq_0.1'; it does not match the pattern ``^[a-zA-Z_][a-zA-Z0-9_]*$``; you will not be able to use natural naming to access this object; using ``getattr()`` will still work, though\n",
      "  NaturalNameWarning)\n"
     ]
    },
    {
     "name": "stdout",
     "output_type": "stream",
     "text": [
      "(sim,lamb_da,p_rew,start,dose_quantity) =  (75, 0.10000000000000002, 1.0, 1, 2)\n",
      "{33}\n",
      "sim_75_p_rew_1_start_1_dq_2\n",
      "(sim,lamb_da,p_rew,start,dose_quantity) =  (75, 0.10000000000000002, 1.0, 10, 0.1)\n",
      "Initial node infection step failed\n",
      "None\n",
      "{66, 34, 71, 12, 46, 29, 53, 88, 60, 61}\n",
      "sim_75_p_rew_1_start_10_dq_0.1\n"
     ]
    },
    {
     "name": "stderr",
     "output_type": "stream",
     "text": [
      "/home/aiyappa/anaconda3/lib/python3.7/site-packages/tables/path.py:112: NaturalNameWarning: object name is not a valid Python identifier: 'sim_75_p_rew_1_start_10_dq_0.1'; it does not match the pattern ``^[a-zA-Z_][a-zA-Z0-9_]*$``; you will not be able to use natural naming to access this object; using ``getattr()`` will still work, though\n",
      "  NaturalNameWarning)\n"
     ]
    },
    {
     "name": "stdout",
     "output_type": "stream",
     "text": [
      "(sim,lamb_da,p_rew,start,dose_quantity) =  (75, 0.10000000000000002, 1.0, 10, 2)\n",
      "{66, 34, 39, 75, 16, 20, 21, 90, 91, 60}\n",
      "sim_75_p_rew_1_start_10_dq_2\n",
      "(sim,lamb_da,p_rew,start,dose_quantity) =  (76, 0.001, 0.01, 1, 0.1)\n",
      "{38}\n",
      "sim_76_p_rew_0.01_start_1_dq_0.1\n"
     ]
    },
    {
     "name": "stderr",
     "output_type": "stream",
     "text": [
      "/home/aiyappa/anaconda3/lib/python3.7/site-packages/tables/path.py:112: NaturalNameWarning: object name is not a valid Python identifier: 'sim_76_p_rew_0.01_start_1_dq_0.1'; it does not match the pattern ``^[a-zA-Z_][a-zA-Z0-9_]*$``; you will not be able to use natural naming to access this object; using ``getattr()`` will still work, though\n",
      "  NaturalNameWarning)\n"
     ]
    },
    {
     "name": "stdout",
     "output_type": "stream",
     "text": [
      "(sim,lamb_da,p_rew,start,dose_quantity) =  (76, 0.001, 0.01, 1, 2)\n",
      "{72}\n",
      "sim_76_p_rew_0.01_start_1_dq_2\n"
     ]
    },
    {
     "name": "stderr",
     "output_type": "stream",
     "text": [
      "/home/aiyappa/anaconda3/lib/python3.7/site-packages/tables/path.py:112: NaturalNameWarning: object name is not a valid Python identifier: 'sim_76_p_rew_0.01_start_1_dq_2'; it does not match the pattern ``^[a-zA-Z_][a-zA-Z0-9_]*$``; you will not be able to use natural naming to access this object; using ``getattr()`` will still work, though\n",
      "  NaturalNameWarning)\n"
     ]
    },
    {
     "name": "stdout",
     "output_type": "stream",
     "text": [
      "(sim,lamb_da,p_rew,start,dose_quantity) =  (76, 0.001, 0.01, 10, 0.1)\n",
      "{2, 68, 39, 41, 42, 77, 83, 85, 53, 30}\n",
      "sim_76_p_rew_0.01_start_10_dq_0.1\n"
     ]
    },
    {
     "name": "stderr",
     "output_type": "stream",
     "text": [
      "/home/aiyappa/anaconda3/lib/python3.7/site-packages/tables/path.py:112: NaturalNameWarning: object name is not a valid Python identifier: 'sim_76_p_rew_0.01_start_10_dq_0.1'; it does not match the pattern ``^[a-zA-Z_][a-zA-Z0-9_]*$``; you will not be able to use natural naming to access this object; using ``getattr()`` will still work, though\n",
      "  NaturalNameWarning)\n"
     ]
    },
    {
     "name": "stdout",
     "output_type": "stream",
     "text": [
      "(sim,lamb_da,p_rew,start,dose_quantity) =  (76, 0.001, 0.01, 10, 2)\n",
      "{32, 1, 67, 36, 6, 9, 15, 80, 56, 95}\n",
      "sim_76_p_rew_0.01_start_10_dq_2\n"
     ]
    },
    {
     "name": "stderr",
     "output_type": "stream",
     "text": [
      "/home/aiyappa/anaconda3/lib/python3.7/site-packages/tables/path.py:112: NaturalNameWarning: object name is not a valid Python identifier: 'sim_76_p_rew_0.01_start_10_dq_2'; it does not match the pattern ``^[a-zA-Z_][a-zA-Z0-9_]*$``; you will not be able to use natural naming to access this object; using ``getattr()`` will still work, though\n",
      "  NaturalNameWarning)\n"
     ]
    },
    {
     "name": "stdout",
     "output_type": "stream",
     "text": [
      "(sim,lamb_da,p_rew,start,dose_quantity) =  (76, 0.01, 0.10000000000000002, 1, 0.1)\n",
      "{19}\n",
      "sim_76_p_rew_0.1_start_1_dq_0.1\n"
     ]
    },
    {
     "name": "stderr",
     "output_type": "stream",
     "text": [
      "/home/aiyappa/anaconda3/lib/python3.7/site-packages/tables/path.py:112: NaturalNameWarning: object name is not a valid Python identifier: 'sim_76_p_rew_0.1_start_1_dq_0.1'; it does not match the pattern ``^[a-zA-Z_][a-zA-Z0-9_]*$``; you will not be able to use natural naming to access this object; using ``getattr()`` will still work, though\n",
      "  NaturalNameWarning)\n"
     ]
    },
    {
     "name": "stdout",
     "output_type": "stream",
     "text": [
      "(sim,lamb_da,p_rew,start,dose_quantity) =  (76, 0.01, 0.10000000000000002, 1, 2)\n",
      "{23}\n",
      "sim_76_p_rew_0.1_start_1_dq_2\n"
     ]
    },
    {
     "name": "stderr",
     "output_type": "stream",
     "text": [
      "/home/aiyappa/anaconda3/lib/python3.7/site-packages/tables/path.py:112: NaturalNameWarning: object name is not a valid Python identifier: 'sim_76_p_rew_0.1_start_1_dq_2'; it does not match the pattern ``^[a-zA-Z_][a-zA-Z0-9_]*$``; you will not be able to use natural naming to access this object; using ``getattr()`` will still work, though\n",
      "  NaturalNameWarning)\n"
     ]
    },
    {
     "name": "stdout",
     "output_type": "stream",
     "text": [
      "(sim,lamb_da,p_rew,start,dose_quantity) =  (76, 0.01, 0.10000000000000002, 10, 0.1)\n",
      "{64, 36, 39, 10, 48, 17, 19, 57, 60, 29}\n",
      "sim_76_p_rew_0.1_start_10_dq_0.1\n"
     ]
    },
    {
     "name": "stderr",
     "output_type": "stream",
     "text": [
      "/home/aiyappa/anaconda3/lib/python3.7/site-packages/tables/path.py:112: NaturalNameWarning: object name is not a valid Python identifier: 'sim_76_p_rew_0.1_start_10_dq_0.1'; it does not match the pattern ``^[a-zA-Z_][a-zA-Z0-9_]*$``; you will not be able to use natural naming to access this object; using ``getattr()`` will still work, though\n",
      "  NaturalNameWarning)\n"
     ]
    },
    {
     "name": "stdout",
     "output_type": "stream",
     "text": [
      "(sim,lamb_da,p_rew,start,dose_quantity) =  (76, 0.01, 0.10000000000000002, 10, 2)\n",
      "{66, 99, 37, 38, 8, 73, 52, 22, 29, 31}\n",
      "sim_76_p_rew_0.1_start_10_dq_2\n"
     ]
    },
    {
     "name": "stderr",
     "output_type": "stream",
     "text": [
      "/home/aiyappa/anaconda3/lib/python3.7/site-packages/tables/path.py:112: NaturalNameWarning: object name is not a valid Python identifier: 'sim_76_p_rew_0.1_start_10_dq_2'; it does not match the pattern ``^[a-zA-Z_][a-zA-Z0-9_]*$``; you will not be able to use natural naming to access this object; using ``getattr()`` will still work, though\n",
      "  NaturalNameWarning)\n"
     ]
    },
    {
     "name": "stdout",
     "output_type": "stream",
     "text": [
      "(sim,lamb_da,p_rew,start,dose_quantity) =  (76, 0.10000000000000002, 1.0, 1, 0.1)\n",
      "{80}\n",
      "sim_76_p_rew_1_start_1_dq_0.1\n"
     ]
    },
    {
     "name": "stderr",
     "output_type": "stream",
     "text": [
      "/home/aiyappa/anaconda3/lib/python3.7/site-packages/tables/path.py:112: NaturalNameWarning: object name is not a valid Python identifier: 'sim_76_p_rew_1_start_1_dq_0.1'; it does not match the pattern ``^[a-zA-Z_][a-zA-Z0-9_]*$``; you will not be able to use natural naming to access this object; using ``getattr()`` will still work, though\n",
      "  NaturalNameWarning)\n"
     ]
    },
    {
     "name": "stdout",
     "output_type": "stream",
     "text": [
      "(sim,lamb_da,p_rew,start,dose_quantity) =  (76, 0.10000000000000002, 1.0, 1, 2)\n",
      "{85}\n",
      "sim_76_p_rew_1_start_1_dq_2\n",
      "(sim,lamb_da,p_rew,start,dose_quantity) =  (76, 0.10000000000000002, 1.0, 10, 0.1)\n",
      "Initial node infection step failed\n",
      "None\n",
      "{65, 71, 72, 10, 49, 52, 86, 56, 24, 60}\n",
      "sim_76_p_rew_1_start_10_dq_0.1\n"
     ]
    },
    {
     "name": "stderr",
     "output_type": "stream",
     "text": [
      "/home/aiyappa/anaconda3/lib/python3.7/site-packages/tables/path.py:112: NaturalNameWarning: object name is not a valid Python identifier: 'sim_76_p_rew_1_start_10_dq_0.1'; it does not match the pattern ``^[a-zA-Z_][a-zA-Z0-9_]*$``; you will not be able to use natural naming to access this object; using ``getattr()`` will still work, though\n",
      "  NaturalNameWarning)\n"
     ]
    },
    {
     "name": "stdout",
     "output_type": "stream",
     "text": [
      "(sim,lamb_da,p_rew,start,dose_quantity) =  (76, 0.10000000000000002, 1.0, 10, 2)\n",
      "{0, 67, 99, 72, 40, 41, 75, 47, 27, 94}\n",
      "sim_76_p_rew_1_start_10_dq_2\n",
      "(sim,lamb_da,p_rew,start,dose_quantity) =  (77, 0.001, 0.01, 1, 0.1)\n",
      "{51}\n",
      "sim_77_p_rew_0.01_start_1_dq_0.1\n"
     ]
    },
    {
     "name": "stderr",
     "output_type": "stream",
     "text": [
      "/home/aiyappa/anaconda3/lib/python3.7/site-packages/tables/path.py:112: NaturalNameWarning: object name is not a valid Python identifier: 'sim_77_p_rew_0.01_start_1_dq_0.1'; it does not match the pattern ``^[a-zA-Z_][a-zA-Z0-9_]*$``; you will not be able to use natural naming to access this object; using ``getattr()`` will still work, though\n",
      "  NaturalNameWarning)\n"
     ]
    },
    {
     "name": "stdout",
     "output_type": "stream",
     "text": [
      "(sim,lamb_da,p_rew,start,dose_quantity) =  (77, 0.001, 0.01, 1, 2)\n",
      "{26}\n",
      "sim_77_p_rew_0.01_start_1_dq_2\n"
     ]
    },
    {
     "name": "stderr",
     "output_type": "stream",
     "text": [
      "/home/aiyappa/anaconda3/lib/python3.7/site-packages/tables/path.py:112: NaturalNameWarning: object name is not a valid Python identifier: 'sim_77_p_rew_0.01_start_1_dq_2'; it does not match the pattern ``^[a-zA-Z_][a-zA-Z0-9_]*$``; you will not be able to use natural naming to access this object; using ``getattr()`` will still work, though\n",
      "  NaturalNameWarning)\n"
     ]
    },
    {
     "name": "stdout",
     "output_type": "stream",
     "text": [
      "(sim,lamb_da,p_rew,start,dose_quantity) =  (77, 0.001, 0.01, 10, 0.1)\n",
      "{34, 5, 43, 75, 12, 77, 18, 21, 94, 31}\n",
      "sim_77_p_rew_0.01_start_10_dq_0.1\n"
     ]
    },
    {
     "name": "stderr",
     "output_type": "stream",
     "text": [
      "/home/aiyappa/anaconda3/lib/python3.7/site-packages/tables/path.py:112: NaturalNameWarning: object name is not a valid Python identifier: 'sim_77_p_rew_0.01_start_10_dq_0.1'; it does not match the pattern ``^[a-zA-Z_][a-zA-Z0-9_]*$``; you will not be able to use natural naming to access this object; using ``getattr()`` will still work, though\n",
      "  NaturalNameWarning)\n"
     ]
    },
    {
     "name": "stdout",
     "output_type": "stream",
     "text": [
      "(sim,lamb_da,p_rew,start,dose_quantity) =  (77, 0.001, 0.01, 10, 2)\n",
      "{97, 66, 1, 37, 9, 81, 54, 26, 95, 63}\n",
      "sim_77_p_rew_0.01_start_10_dq_2\n"
     ]
    },
    {
     "name": "stderr",
     "output_type": "stream",
     "text": [
      "/home/aiyappa/anaconda3/lib/python3.7/site-packages/tables/path.py:112: NaturalNameWarning: object name is not a valid Python identifier: 'sim_77_p_rew_0.01_start_10_dq_2'; it does not match the pattern ``^[a-zA-Z_][a-zA-Z0-9_]*$``; you will not be able to use natural naming to access this object; using ``getattr()`` will still work, though\n",
      "  NaturalNameWarning)\n"
     ]
    },
    {
     "name": "stdout",
     "output_type": "stream",
     "text": [
      "(sim,lamb_da,p_rew,start,dose_quantity) =  (77, 0.01, 0.10000000000000002, 1, 0.1)\n",
      "{74}\n",
      "sim_77_p_rew_0.1_start_1_dq_0.1\n"
     ]
    },
    {
     "name": "stderr",
     "output_type": "stream",
     "text": [
      "/home/aiyappa/anaconda3/lib/python3.7/site-packages/tables/path.py:112: NaturalNameWarning: object name is not a valid Python identifier: 'sim_77_p_rew_0.1_start_1_dq_0.1'; it does not match the pattern ``^[a-zA-Z_][a-zA-Z0-9_]*$``; you will not be able to use natural naming to access this object; using ``getattr()`` will still work, though\n",
      "  NaturalNameWarning)\n"
     ]
    },
    {
     "name": "stdout",
     "output_type": "stream",
     "text": [
      "(sim,lamb_da,p_rew,start,dose_quantity) =  (77, 0.01, 0.10000000000000002, 1, 2)\n",
      "{40}\n",
      "sim_77_p_rew_0.1_start_1_dq_2\n"
     ]
    },
    {
     "name": "stderr",
     "output_type": "stream",
     "text": [
      "/home/aiyappa/anaconda3/lib/python3.7/site-packages/tables/path.py:112: NaturalNameWarning: object name is not a valid Python identifier: 'sim_77_p_rew_0.1_start_1_dq_2'; it does not match the pattern ``^[a-zA-Z_][a-zA-Z0-9_]*$``; you will not be able to use natural naming to access this object; using ``getattr()`` will still work, though\n",
      "  NaturalNameWarning)\n"
     ]
    },
    {
     "name": "stdout",
     "output_type": "stream",
     "text": [
      "(sim,lamb_da,p_rew,start,dose_quantity) =  (77, 0.01, 0.10000000000000002, 10, 0.1)\n",
      "{66, 7, 48, 21, 22, 55, 90, 61, 62, 95}\n",
      "sim_77_p_rew_0.1_start_10_dq_0.1\n"
     ]
    },
    {
     "name": "stderr",
     "output_type": "stream",
     "text": [
      "/home/aiyappa/anaconda3/lib/python3.7/site-packages/tables/path.py:112: NaturalNameWarning: object name is not a valid Python identifier: 'sim_77_p_rew_0.1_start_10_dq_0.1'; it does not match the pattern ``^[a-zA-Z_][a-zA-Z0-9_]*$``; you will not be able to use natural naming to access this object; using ``getattr()`` will still work, though\n",
      "  NaturalNameWarning)\n"
     ]
    },
    {
     "name": "stdout",
     "output_type": "stream",
     "text": [
      "(sim,lamb_da,p_rew,start,dose_quantity) =  (77, 0.01, 0.10000000000000002, 10, 2)\n",
      "{96, 64, 67, 75, 15, 18, 83, 86, 24, 89}\n",
      "sim_77_p_rew_0.1_start_10_dq_2\n"
     ]
    },
    {
     "name": "stderr",
     "output_type": "stream",
     "text": [
      "/home/aiyappa/anaconda3/lib/python3.7/site-packages/tables/path.py:112: NaturalNameWarning: object name is not a valid Python identifier: 'sim_77_p_rew_0.1_start_10_dq_2'; it does not match the pattern ``^[a-zA-Z_][a-zA-Z0-9_]*$``; you will not be able to use natural naming to access this object; using ``getattr()`` will still work, though\n",
      "  NaturalNameWarning)\n"
     ]
    },
    {
     "name": "stdout",
     "output_type": "stream",
     "text": [
      "(sim,lamb_da,p_rew,start,dose_quantity) =  (77, 0.10000000000000002, 1.0, 1, 0.1)\n",
      "{14}\n",
      "sim_77_p_rew_1_start_1_dq_0.1\n"
     ]
    },
    {
     "name": "stderr",
     "output_type": "stream",
     "text": [
      "/home/aiyappa/anaconda3/lib/python3.7/site-packages/tables/path.py:112: NaturalNameWarning: object name is not a valid Python identifier: 'sim_77_p_rew_1_start_1_dq_0.1'; it does not match the pattern ``^[a-zA-Z_][a-zA-Z0-9_]*$``; you will not be able to use natural naming to access this object; using ``getattr()`` will still work, though\n",
      "  NaturalNameWarning)\n"
     ]
    },
    {
     "name": "stdout",
     "output_type": "stream",
     "text": [
      "(sim,lamb_da,p_rew,start,dose_quantity) =  (77, 0.10000000000000002, 1.0, 1, 2)\n",
      "{9}\n",
      "sim_77_p_rew_1_start_1_dq_2\n",
      "(sim,lamb_da,p_rew,start,dose_quantity) =  (77, 0.10000000000000002, 1.0, 10, 0.1)\n",
      "Initial node infection step failed\n",
      "None\n",
      "Initial node infection step failed\n",
      "None\n",
      "Initial node infection step failed\n",
      "None\n",
      "{3, 36, 7, 40, 76, 14, 19, 90, 60, 31}\n",
      "sim_77_p_rew_1_start_10_dq_0.1\n"
     ]
    },
    {
     "name": "stderr",
     "output_type": "stream",
     "text": [
      "/home/aiyappa/anaconda3/lib/python3.7/site-packages/tables/path.py:112: NaturalNameWarning: object name is not a valid Python identifier: 'sim_77_p_rew_1_start_10_dq_0.1'; it does not match the pattern ``^[a-zA-Z_][a-zA-Z0-9_]*$``; you will not be able to use natural naming to access this object; using ``getattr()`` will still work, though\n",
      "  NaturalNameWarning)\n"
     ]
    },
    {
     "name": "stdout",
     "output_type": "stream",
     "text": [
      "(sim,lamb_da,p_rew,start,dose_quantity) =  (77, 0.10000000000000002, 1.0, 10, 2)\n",
      "{67, 4, 76, 45, 14, 48, 85, 59, 61, 95}\n",
      "sim_77_p_rew_1_start_10_dq_2\n",
      "(sim,lamb_da,p_rew,start,dose_quantity) =  (78, 0.001, 0.01, 1, 0.1)\n",
      "{16}\n",
      "sim_78_p_rew_0.01_start_1_dq_0.1\n"
     ]
    },
    {
     "name": "stderr",
     "output_type": "stream",
     "text": [
      "/home/aiyappa/anaconda3/lib/python3.7/site-packages/tables/path.py:112: NaturalNameWarning: object name is not a valid Python identifier: 'sim_78_p_rew_0.01_start_1_dq_0.1'; it does not match the pattern ``^[a-zA-Z_][a-zA-Z0-9_]*$``; you will not be able to use natural naming to access this object; using ``getattr()`` will still work, though\n",
      "  NaturalNameWarning)\n"
     ]
    },
    {
     "name": "stdout",
     "output_type": "stream",
     "text": [
      "(sim,lamb_da,p_rew,start,dose_quantity) =  (78, 0.001, 0.01, 1, 2)\n",
      "{7}\n",
      "sim_78_p_rew_0.01_start_1_dq_2\n"
     ]
    },
    {
     "name": "stderr",
     "output_type": "stream",
     "text": [
      "/home/aiyappa/anaconda3/lib/python3.7/site-packages/tables/path.py:112: NaturalNameWarning: object name is not a valid Python identifier: 'sim_78_p_rew_0.01_start_1_dq_2'; it does not match the pattern ``^[a-zA-Z_][a-zA-Z0-9_]*$``; you will not be able to use natural naming to access this object; using ``getattr()`` will still work, though\n",
      "  NaturalNameWarning)\n"
     ]
    },
    {
     "name": "stdout",
     "output_type": "stream",
     "text": [
      "(sim,lamb_da,p_rew,start,dose_quantity) =  (78, 0.001, 0.01, 10, 0.1)\n",
      "{97, 26, 5, 8, 43, 54, 25, 90, 59, 31}\n",
      "sim_78_p_rew_0.01_start_10_dq_0.1\n"
     ]
    },
    {
     "name": "stderr",
     "output_type": "stream",
     "text": [
      "/home/aiyappa/anaconda3/lib/python3.7/site-packages/tables/path.py:112: NaturalNameWarning: object name is not a valid Python identifier: 'sim_78_p_rew_0.01_start_10_dq_0.1'; it does not match the pattern ``^[a-zA-Z_][a-zA-Z0-9_]*$``; you will not be able to use natural naming to access this object; using ``getattr()`` will still work, though\n",
      "  NaturalNameWarning)\n"
     ]
    },
    {
     "name": "stdout",
     "output_type": "stream",
     "text": [
      "(sim,lamb_da,p_rew,start,dose_quantity) =  (78, 0.001, 0.01, 10, 2)\n",
      "{96, 34, 2, 68, 42, 45, 46, 49, 84, 21}\n",
      "sim_78_p_rew_0.01_start_10_dq_2\n"
     ]
    },
    {
     "name": "stderr",
     "output_type": "stream",
     "text": [
      "/home/aiyappa/anaconda3/lib/python3.7/site-packages/tables/path.py:112: NaturalNameWarning: object name is not a valid Python identifier: 'sim_78_p_rew_0.01_start_10_dq_2'; it does not match the pattern ``^[a-zA-Z_][a-zA-Z0-9_]*$``; you will not be able to use natural naming to access this object; using ``getattr()`` will still work, though\n",
      "  NaturalNameWarning)\n"
     ]
    },
    {
     "name": "stdout",
     "output_type": "stream",
     "text": [
      "(sim,lamb_da,p_rew,start,dose_quantity) =  (78, 0.01, 0.10000000000000002, 1, 0.1)\n",
      "{14}\n",
      "sim_78_p_rew_0.1_start_1_dq_0.1\n"
     ]
    },
    {
     "name": "stderr",
     "output_type": "stream",
     "text": [
      "/home/aiyappa/anaconda3/lib/python3.7/site-packages/tables/path.py:112: NaturalNameWarning: object name is not a valid Python identifier: 'sim_78_p_rew_0.1_start_1_dq_0.1'; it does not match the pattern ``^[a-zA-Z_][a-zA-Z0-9_]*$``; you will not be able to use natural naming to access this object; using ``getattr()`` will still work, though\n",
      "  NaturalNameWarning)\n"
     ]
    },
    {
     "name": "stdout",
     "output_type": "stream",
     "text": [
      "(sim,lamb_da,p_rew,start,dose_quantity) =  (78, 0.01, 0.10000000000000002, 1, 2)\n",
      "{9}\n",
      "sim_78_p_rew_0.1_start_1_dq_2\n"
     ]
    },
    {
     "name": "stderr",
     "output_type": "stream",
     "text": [
      "/home/aiyappa/anaconda3/lib/python3.7/site-packages/tables/path.py:112: NaturalNameWarning: object name is not a valid Python identifier: 'sim_78_p_rew_0.1_start_1_dq_2'; it does not match the pattern ``^[a-zA-Z_][a-zA-Z0-9_]*$``; you will not be able to use natural naming to access this object; using ``getattr()`` will still work, though\n",
      "  NaturalNameWarning)\n"
     ]
    },
    {
     "name": "stdout",
     "output_type": "stream",
     "text": [
      "(sim,lamb_da,p_rew,start,dose_quantity) =  (78, 0.01, 0.10000000000000002, 10, 0.1)\n",
      "{64, 97, 69, 39, 71, 45, 13, 14, 50, 19}\n",
      "sim_78_p_rew_0.1_start_10_dq_0.1\n"
     ]
    },
    {
     "name": "stderr",
     "output_type": "stream",
     "text": [
      "/home/aiyappa/anaconda3/lib/python3.7/site-packages/tables/path.py:112: NaturalNameWarning: object name is not a valid Python identifier: 'sim_78_p_rew_0.1_start_10_dq_0.1'; it does not match the pattern ``^[a-zA-Z_][a-zA-Z0-9_]*$``; you will not be able to use natural naming to access this object; using ``getattr()`` will still work, though\n",
      "  NaturalNameWarning)\n"
     ]
    },
    {
     "name": "stdout",
     "output_type": "stream",
     "text": [
      "(sim,lamb_da,p_rew,start,dose_quantity) =  (78, 0.01, 0.10000000000000002, 10, 2)\n",
      "{89, 66, 34, 36, 74, 15, 49, 22, 86, 25}\n",
      "sim_78_p_rew_0.1_start_10_dq_2\n"
     ]
    },
    {
     "name": "stderr",
     "output_type": "stream",
     "text": [
      "/home/aiyappa/anaconda3/lib/python3.7/site-packages/tables/path.py:112: NaturalNameWarning: object name is not a valid Python identifier: 'sim_78_p_rew_0.1_start_10_dq_2'; it does not match the pattern ``^[a-zA-Z_][a-zA-Z0-9_]*$``; you will not be able to use natural naming to access this object; using ``getattr()`` will still work, though\n",
      "  NaturalNameWarning)\n"
     ]
    },
    {
     "name": "stdout",
     "output_type": "stream",
     "text": [
      "(sim,lamb_da,p_rew,start,dose_quantity) =  (78, 0.10000000000000002, 1.0, 1, 0.1)\n",
      "{47}\n",
      "sim_78_p_rew_1_start_1_dq_0.1\n"
     ]
    },
    {
     "name": "stderr",
     "output_type": "stream",
     "text": [
      "/home/aiyappa/anaconda3/lib/python3.7/site-packages/tables/path.py:112: NaturalNameWarning: object name is not a valid Python identifier: 'sim_78_p_rew_1_start_1_dq_0.1'; it does not match the pattern ``^[a-zA-Z_][a-zA-Z0-9_]*$``; you will not be able to use natural naming to access this object; using ``getattr()`` will still work, though\n",
      "  NaturalNameWarning)\n"
     ]
    },
    {
     "name": "stdout",
     "output_type": "stream",
     "text": [
      "(sim,lamb_da,p_rew,start,dose_quantity) =  (78, 0.10000000000000002, 1.0, 1, 2)\n",
      "{0}\n",
      "sim_78_p_rew_1_start_1_dq_2\n",
      "(sim,lamb_da,p_rew,start,dose_quantity) =  (78, 0.10000000000000002, 1.0, 10, 0.1)\n",
      "Initial node infection step failed\n",
      "None\n",
      "{64, 34, 68, 38, 9, 46, 47, 54, 55, 22}\n",
      "sim_78_p_rew_1_start_10_dq_0.1\n"
     ]
    },
    {
     "name": "stderr",
     "output_type": "stream",
     "text": [
      "/home/aiyappa/anaconda3/lib/python3.7/site-packages/tables/path.py:112: NaturalNameWarning: object name is not a valid Python identifier: 'sim_78_p_rew_1_start_10_dq_0.1'; it does not match the pattern ``^[a-zA-Z_][a-zA-Z0-9_]*$``; you will not be able to use natural naming to access this object; using ``getattr()`` will still work, though\n",
      "  NaturalNameWarning)\n"
     ]
    },
    {
     "name": "stdout",
     "output_type": "stream",
     "text": [
      "(sim,lamb_da,p_rew,start,dose_quantity) =  (78, 0.10000000000000002, 1.0, 10, 2)\n",
      "{33, 67, 4, 37, 11, 12, 13, 46, 88, 29}\n",
      "sim_78_p_rew_1_start_10_dq_2\n",
      "(sim,lamb_da,p_rew,start,dose_quantity) =  (79, 0.001, 0.01, 1, 0.1)\n",
      "{7}\n",
      "sim_79_p_rew_0.01_start_1_dq_0.1\n"
     ]
    },
    {
     "name": "stderr",
     "output_type": "stream",
     "text": [
      "/home/aiyappa/anaconda3/lib/python3.7/site-packages/tables/path.py:112: NaturalNameWarning: object name is not a valid Python identifier: 'sim_79_p_rew_0.01_start_1_dq_0.1'; it does not match the pattern ``^[a-zA-Z_][a-zA-Z0-9_]*$``; you will not be able to use natural naming to access this object; using ``getattr()`` will still work, though\n",
      "  NaturalNameWarning)\n"
     ]
    },
    {
     "name": "stdout",
     "output_type": "stream",
     "text": [
      "(sim,lamb_da,p_rew,start,dose_quantity) =  (79, 0.001, 0.01, 1, 2)\n",
      "{74}\n",
      "sim_79_p_rew_0.01_start_1_dq_2\n"
     ]
    },
    {
     "name": "stderr",
     "output_type": "stream",
     "text": [
      "/home/aiyappa/anaconda3/lib/python3.7/site-packages/tables/path.py:112: NaturalNameWarning: object name is not a valid Python identifier: 'sim_79_p_rew_0.01_start_1_dq_2'; it does not match the pattern ``^[a-zA-Z_][a-zA-Z0-9_]*$``; you will not be able to use natural naming to access this object; using ``getattr()`` will still work, though\n",
      "  NaturalNameWarning)\n"
     ]
    },
    {
     "name": "stdout",
     "output_type": "stream",
     "text": [
      "(sim,lamb_da,p_rew,start,dose_quantity) =  (79, 0.001, 0.01, 10, 0.1)\n",
      "{35, 9, 43, 77, 79, 84, 53, 88, 90, 28}\n",
      "sim_79_p_rew_0.01_start_10_dq_0.1\n"
     ]
    },
    {
     "name": "stderr",
     "output_type": "stream",
     "text": [
      "/home/aiyappa/anaconda3/lib/python3.7/site-packages/tables/path.py:112: NaturalNameWarning: object name is not a valid Python identifier: 'sim_79_p_rew_0.01_start_10_dq_0.1'; it does not match the pattern ``^[a-zA-Z_][a-zA-Z0-9_]*$``; you will not be able to use natural naming to access this object; using ``getattr()`` will still work, though\n",
      "  NaturalNameWarning)\n"
     ]
    },
    {
     "name": "stdout",
     "output_type": "stream",
     "text": [
      "(sim,lamb_da,p_rew,start,dose_quantity) =  (79, 0.001, 0.01, 10, 2)\n",
      "{32, 98, 66, 42, 43, 75, 80, 86, 60, 94}\n",
      "sim_79_p_rew_0.01_start_10_dq_2\n"
     ]
    },
    {
     "name": "stderr",
     "output_type": "stream",
     "text": [
      "/home/aiyappa/anaconda3/lib/python3.7/site-packages/tables/path.py:112: NaturalNameWarning: object name is not a valid Python identifier: 'sim_79_p_rew_0.01_start_10_dq_2'; it does not match the pattern ``^[a-zA-Z_][a-zA-Z0-9_]*$``; you will not be able to use natural naming to access this object; using ``getattr()`` will still work, though\n",
      "  NaturalNameWarning)\n"
     ]
    },
    {
     "name": "stdout",
     "output_type": "stream",
     "text": [
      "(sim,lamb_da,p_rew,start,dose_quantity) =  (79, 0.01, 0.10000000000000002, 1, 0.1)\n",
      "{29}\n",
      "sim_79_p_rew_0.1_start_1_dq_0.1\n"
     ]
    },
    {
     "name": "stderr",
     "output_type": "stream",
     "text": [
      "/home/aiyappa/anaconda3/lib/python3.7/site-packages/tables/path.py:112: NaturalNameWarning: object name is not a valid Python identifier: 'sim_79_p_rew_0.1_start_1_dq_0.1'; it does not match the pattern ``^[a-zA-Z_][a-zA-Z0-9_]*$``; you will not be able to use natural naming to access this object; using ``getattr()`` will still work, though\n",
      "  NaturalNameWarning)\n"
     ]
    },
    {
     "name": "stdout",
     "output_type": "stream",
     "text": [
      "(sim,lamb_da,p_rew,start,dose_quantity) =  (79, 0.01, 0.10000000000000002, 1, 2)\n",
      "{68}\n",
      "sim_79_p_rew_0.1_start_1_dq_2\n"
     ]
    },
    {
     "name": "stderr",
     "output_type": "stream",
     "text": [
      "/home/aiyappa/anaconda3/lib/python3.7/site-packages/tables/path.py:112: NaturalNameWarning: object name is not a valid Python identifier: 'sim_79_p_rew_0.1_start_1_dq_2'; it does not match the pattern ``^[a-zA-Z_][a-zA-Z0-9_]*$``; you will not be able to use natural naming to access this object; using ``getattr()`` will still work, though\n",
      "  NaturalNameWarning)\n"
     ]
    },
    {
     "name": "stdout",
     "output_type": "stream",
     "text": [
      "(sim,lamb_da,p_rew,start,dose_quantity) =  (79, 0.01, 0.10000000000000002, 10, 0.1)\n",
      "{68, 70, 9, 49, 51, 19, 83, 87, 56, 28}\n",
      "sim_79_p_rew_0.1_start_10_dq_0.1\n"
     ]
    },
    {
     "name": "stderr",
     "output_type": "stream",
     "text": [
      "/home/aiyappa/anaconda3/lib/python3.7/site-packages/tables/path.py:112: NaturalNameWarning: object name is not a valid Python identifier: 'sim_79_p_rew_0.1_start_10_dq_0.1'; it does not match the pattern ``^[a-zA-Z_][a-zA-Z0-9_]*$``; you will not be able to use natural naming to access this object; using ``getattr()`` will still work, though\n",
      "  NaturalNameWarning)\n"
     ]
    },
    {
     "name": "stdout",
     "output_type": "stream",
     "text": [
      "(sim,lamb_da,p_rew,start,dose_quantity) =  (79, 0.01, 0.10000000000000002, 10, 2)\n",
      "{36, 5, 6, 45, 46, 19, 20, 53, 92, 94}\n",
      "sim_79_p_rew_0.1_start_10_dq_2\n"
     ]
    },
    {
     "name": "stderr",
     "output_type": "stream",
     "text": [
      "/home/aiyappa/anaconda3/lib/python3.7/site-packages/tables/path.py:112: NaturalNameWarning: object name is not a valid Python identifier: 'sim_79_p_rew_0.1_start_10_dq_2'; it does not match the pattern ``^[a-zA-Z_][a-zA-Z0-9_]*$``; you will not be able to use natural naming to access this object; using ``getattr()`` will still work, though\n",
      "  NaturalNameWarning)\n"
     ]
    },
    {
     "name": "stdout",
     "output_type": "stream",
     "text": [
      "(sim,lamb_da,p_rew,start,dose_quantity) =  (79, 0.10000000000000002, 1.0, 1, 0.1)\n",
      "{19}\n",
      "sim_79_p_rew_1_start_1_dq_0.1\n"
     ]
    },
    {
     "name": "stderr",
     "output_type": "stream",
     "text": [
      "/home/aiyappa/anaconda3/lib/python3.7/site-packages/tables/path.py:112: NaturalNameWarning: object name is not a valid Python identifier: 'sim_79_p_rew_1_start_1_dq_0.1'; it does not match the pattern ``^[a-zA-Z_][a-zA-Z0-9_]*$``; you will not be able to use natural naming to access this object; using ``getattr()`` will still work, though\n",
      "  NaturalNameWarning)\n"
     ]
    },
    {
     "name": "stdout",
     "output_type": "stream",
     "text": [
      "(sim,lamb_da,p_rew,start,dose_quantity) =  (79, 0.10000000000000002, 1.0, 1, 2)\n",
      "{37}\n",
      "sim_79_p_rew_1_start_1_dq_2\n",
      "(sim,lamb_da,p_rew,start,dose_quantity) =  (79, 0.10000000000000002, 1.0, 10, 0.1)\n",
      "Initial node infection step failed\n",
      "None\n",
      "Initial node infection step failed\n",
      "None\n",
      "Initial node infection step failed\n",
      "None\n",
      "Initial node infection step failed\n",
      "None\n",
      "Initial node infection step failed\n",
      "None\n",
      "Initial node infection step failed\n",
      "None\n",
      "{37, 43, 75, 77, 48, 22, 24, 26, 94, 63}\n",
      "sim_79_p_rew_1_start_10_dq_0.1\n"
     ]
    },
    {
     "name": "stderr",
     "output_type": "stream",
     "text": [
      "/home/aiyappa/anaconda3/lib/python3.7/site-packages/tables/path.py:112: NaturalNameWarning: object name is not a valid Python identifier: 'sim_79_p_rew_1_start_10_dq_0.1'; it does not match the pattern ``^[a-zA-Z_][a-zA-Z0-9_]*$``; you will not be able to use natural naming to access this object; using ``getattr()`` will still work, though\n",
      "  NaturalNameWarning)\n"
     ]
    },
    {
     "name": "stdout",
     "output_type": "stream",
     "text": [
      "(sim,lamb_da,p_rew,start,dose_quantity) =  (79, 0.10000000000000002, 1.0, 10, 2)\n",
      "{32, 6, 40, 41, 13, 48, 82, 51, 84, 54}\n",
      "sim_79_p_rew_1_start_10_dq_2\n",
      "(sim,lamb_da,p_rew,start,dose_quantity) =  (80, 0.001, 0.01, 1, 0.1)\n",
      "{91}\n",
      "sim_80_p_rew_0.01_start_1_dq_0.1\n"
     ]
    },
    {
     "name": "stderr",
     "output_type": "stream",
     "text": [
      "/home/aiyappa/anaconda3/lib/python3.7/site-packages/tables/path.py:112: NaturalNameWarning: object name is not a valid Python identifier: 'sim_80_p_rew_0.01_start_1_dq_0.1'; it does not match the pattern ``^[a-zA-Z_][a-zA-Z0-9_]*$``; you will not be able to use natural naming to access this object; using ``getattr()`` will still work, though\n",
      "  NaturalNameWarning)\n"
     ]
    },
    {
     "name": "stdout",
     "output_type": "stream",
     "text": [
      "(sim,lamb_da,p_rew,start,dose_quantity) =  (80, 0.001, 0.01, 1, 2)\n",
      "{37}\n",
      "sim_80_p_rew_0.01_start_1_dq_2\n"
     ]
    },
    {
     "name": "stderr",
     "output_type": "stream",
     "text": [
      "/home/aiyappa/anaconda3/lib/python3.7/site-packages/tables/path.py:112: NaturalNameWarning: object name is not a valid Python identifier: 'sim_80_p_rew_0.01_start_1_dq_2'; it does not match the pattern ``^[a-zA-Z_][a-zA-Z0-9_]*$``; you will not be able to use natural naming to access this object; using ``getattr()`` will still work, though\n",
      "  NaturalNameWarning)\n"
     ]
    },
    {
     "name": "stdout",
     "output_type": "stream",
     "text": [
      "(sim,lamb_da,p_rew,start,dose_quantity) =  (80, 0.001, 0.01, 10, 0.1)\n",
      "{3, 71, 39, 76, 19, 87, 28, 29, 94, 31}\n",
      "sim_80_p_rew_0.01_start_10_dq_0.1\n"
     ]
    },
    {
     "name": "stderr",
     "output_type": "stream",
     "text": [
      "/home/aiyappa/anaconda3/lib/python3.7/site-packages/tables/path.py:112: NaturalNameWarning: object name is not a valid Python identifier: 'sim_80_p_rew_0.01_start_10_dq_0.1'; it does not match the pattern ``^[a-zA-Z_][a-zA-Z0-9_]*$``; you will not be able to use natural naming to access this object; using ``getattr()`` will still work, though\n",
      "  NaturalNameWarning)\n"
     ]
    },
    {
     "name": "stdout",
     "output_type": "stream",
     "text": [
      "(sim,lamb_da,p_rew,start,dose_quantity) =  (80, 0.001, 0.01, 10, 2)\n",
      "{99, 68, 69, 73, 42, 10, 18, 51, 92, 93}\n",
      "sim_80_p_rew_0.01_start_10_dq_2\n"
     ]
    },
    {
     "name": "stderr",
     "output_type": "stream",
     "text": [
      "/home/aiyappa/anaconda3/lib/python3.7/site-packages/tables/path.py:112: NaturalNameWarning: object name is not a valid Python identifier: 'sim_80_p_rew_0.01_start_10_dq_2'; it does not match the pattern ``^[a-zA-Z_][a-zA-Z0-9_]*$``; you will not be able to use natural naming to access this object; using ``getattr()`` will still work, though\n",
      "  NaturalNameWarning)\n"
     ]
    },
    {
     "name": "stdout",
     "output_type": "stream",
     "text": [
      "(sim,lamb_da,p_rew,start,dose_quantity) =  (80, 0.01, 0.10000000000000002, 1, 0.1)\n",
      "{29}\n",
      "sim_80_p_rew_0.1_start_1_dq_0.1\n"
     ]
    },
    {
     "name": "stderr",
     "output_type": "stream",
     "text": [
      "/home/aiyappa/anaconda3/lib/python3.7/site-packages/tables/path.py:112: NaturalNameWarning: object name is not a valid Python identifier: 'sim_80_p_rew_0.1_start_1_dq_0.1'; it does not match the pattern ``^[a-zA-Z_][a-zA-Z0-9_]*$``; you will not be able to use natural naming to access this object; using ``getattr()`` will still work, though\n",
      "  NaturalNameWarning)\n"
     ]
    },
    {
     "name": "stdout",
     "output_type": "stream",
     "text": [
      "(sim,lamb_da,p_rew,start,dose_quantity) =  (80, 0.01, 0.10000000000000002, 1, 2)\n",
      "{20}\n",
      "sim_80_p_rew_0.1_start_1_dq_2\n"
     ]
    },
    {
     "name": "stderr",
     "output_type": "stream",
     "text": [
      "/home/aiyappa/anaconda3/lib/python3.7/site-packages/tables/path.py:112: NaturalNameWarning: object name is not a valid Python identifier: 'sim_80_p_rew_0.1_start_1_dq_2'; it does not match the pattern ``^[a-zA-Z_][a-zA-Z0-9_]*$``; you will not be able to use natural naming to access this object; using ``getattr()`` will still work, though\n",
      "  NaturalNameWarning)\n"
     ]
    },
    {
     "name": "stdout",
     "output_type": "stream",
     "text": [
      "(sim,lamb_da,p_rew,start,dose_quantity) =  (80, 0.01, 0.10000000000000002, 10, 0.1)\n",
      "{90, 69, 7, 47, 48, 54, 23, 22, 57, 26}\n",
      "sim_80_p_rew_0.1_start_10_dq_0.1\n"
     ]
    },
    {
     "name": "stderr",
     "output_type": "stream",
     "text": [
      "/home/aiyappa/anaconda3/lib/python3.7/site-packages/tables/path.py:112: NaturalNameWarning: object name is not a valid Python identifier: 'sim_80_p_rew_0.1_start_10_dq_0.1'; it does not match the pattern ``^[a-zA-Z_][a-zA-Z0-9_]*$``; you will not be able to use natural naming to access this object; using ``getattr()`` will still work, though\n",
      "  NaturalNameWarning)\n"
     ]
    },
    {
     "name": "stdout",
     "output_type": "stream",
     "text": [
      "(sim,lamb_da,p_rew,start,dose_quantity) =  (80, 0.01, 0.10000000000000002, 10, 2)\n",
      "{32, 1, 98, 70, 39, 75, 43, 85, 25, 26}\n",
      "sim_80_p_rew_0.1_start_10_dq_2\n"
     ]
    },
    {
     "name": "stderr",
     "output_type": "stream",
     "text": [
      "/home/aiyappa/anaconda3/lib/python3.7/site-packages/tables/path.py:112: NaturalNameWarning: object name is not a valid Python identifier: 'sim_80_p_rew_0.1_start_10_dq_2'; it does not match the pattern ``^[a-zA-Z_][a-zA-Z0-9_]*$``; you will not be able to use natural naming to access this object; using ``getattr()`` will still work, though\n",
      "  NaturalNameWarning)\n"
     ]
    },
    {
     "name": "stdout",
     "output_type": "stream",
     "text": [
      "(sim,lamb_da,p_rew,start,dose_quantity) =  (80, 0.10000000000000002, 1.0, 1, 0.1)\n",
      "{6}\n",
      "sim_80_p_rew_1_start_1_dq_0.1\n"
     ]
    },
    {
     "name": "stderr",
     "output_type": "stream",
     "text": [
      "/home/aiyappa/anaconda3/lib/python3.7/site-packages/tables/path.py:112: NaturalNameWarning: object name is not a valid Python identifier: 'sim_80_p_rew_1_start_1_dq_0.1'; it does not match the pattern ``^[a-zA-Z_][a-zA-Z0-9_]*$``; you will not be able to use natural naming to access this object; using ``getattr()`` will still work, though\n",
      "  NaturalNameWarning)\n"
     ]
    },
    {
     "name": "stdout",
     "output_type": "stream",
     "text": [
      "(sim,lamb_da,p_rew,start,dose_quantity) =  (80, 0.10000000000000002, 1.0, 1, 2)\n",
      "{31}\n",
      "sim_80_p_rew_1_start_1_dq_2\n",
      "(sim,lamb_da,p_rew,start,dose_quantity) =  (80, 0.10000000000000002, 1.0, 10, 0.1)\n",
      "{65, 98, 69, 38, 75, 45, 78, 50, 83, 25}\n",
      "sim_80_p_rew_1_start_10_dq_0.1\n"
     ]
    },
    {
     "name": "stderr",
     "output_type": "stream",
     "text": [
      "/home/aiyappa/anaconda3/lib/python3.7/site-packages/tables/path.py:112: NaturalNameWarning: object name is not a valid Python identifier: 'sim_80_p_rew_1_start_10_dq_0.1'; it does not match the pattern ``^[a-zA-Z_][a-zA-Z0-9_]*$``; you will not be able to use natural naming to access this object; using ``getattr()`` will still work, though\n",
      "  NaturalNameWarning)\n"
     ]
    },
    {
     "name": "stdout",
     "output_type": "stream",
     "text": [
      "(sim,lamb_da,p_rew,start,dose_quantity) =  (80, 0.10000000000000002, 1.0, 10, 2)\n",
      "{2, 69, 72, 16, 18, 21, 55, 23, 59, 31}\n",
      "sim_80_p_rew_1_start_10_dq_2\n",
      "(sim,lamb_da,p_rew,start,dose_quantity) =  (81, 0.001, 0.01, 1, 0.1)\n",
      "{92}\n",
      "sim_81_p_rew_0.01_start_1_dq_0.1\n"
     ]
    },
    {
     "name": "stderr",
     "output_type": "stream",
     "text": [
      "/home/aiyappa/anaconda3/lib/python3.7/site-packages/tables/path.py:112: NaturalNameWarning: object name is not a valid Python identifier: 'sim_81_p_rew_0.01_start_1_dq_0.1'; it does not match the pattern ``^[a-zA-Z_][a-zA-Z0-9_]*$``; you will not be able to use natural naming to access this object; using ``getattr()`` will still work, though\n",
      "  NaturalNameWarning)\n"
     ]
    },
    {
     "name": "stdout",
     "output_type": "stream",
     "text": [
      "(sim,lamb_da,p_rew,start,dose_quantity) =  (81, 0.001, 0.01, 1, 2)\n",
      "{94}\n",
      "sim_81_p_rew_0.01_start_1_dq_2\n"
     ]
    },
    {
     "name": "stderr",
     "output_type": "stream",
     "text": [
      "/home/aiyappa/anaconda3/lib/python3.7/site-packages/tables/path.py:112: NaturalNameWarning: object name is not a valid Python identifier: 'sim_81_p_rew_0.01_start_1_dq_2'; it does not match the pattern ``^[a-zA-Z_][a-zA-Z0-9_]*$``; you will not be able to use natural naming to access this object; using ``getattr()`` will still work, though\n",
      "  NaturalNameWarning)\n"
     ]
    },
    {
     "name": "stdout",
     "output_type": "stream",
     "text": [
      "(sim,lamb_da,p_rew,start,dose_quantity) =  (81, 0.001, 0.01, 10, 0.1)\n",
      "{64, 33, 35, 5, 43, 78, 83, 24, 28, 93}\n",
      "sim_81_p_rew_0.01_start_10_dq_0.1\n"
     ]
    },
    {
     "name": "stderr",
     "output_type": "stream",
     "text": [
      "/home/aiyappa/anaconda3/lib/python3.7/site-packages/tables/path.py:112: NaturalNameWarning: object name is not a valid Python identifier: 'sim_81_p_rew_0.01_start_10_dq_0.1'; it does not match the pattern ``^[a-zA-Z_][a-zA-Z0-9_]*$``; you will not be able to use natural naming to access this object; using ``getattr()`` will still work, though\n",
      "  NaturalNameWarning)\n"
     ]
    },
    {
     "name": "stdout",
     "output_type": "stream",
     "text": [
      "(sim,lamb_da,p_rew,start,dose_quantity) =  (81, 0.001, 0.01, 10, 2)\n",
      "{7, 45, 47, 80, 16, 22, 89, 59, 30, 63}\n",
      "sim_81_p_rew_0.01_start_10_dq_2\n"
     ]
    },
    {
     "name": "stderr",
     "output_type": "stream",
     "text": [
      "/home/aiyappa/anaconda3/lib/python3.7/site-packages/tables/path.py:112: NaturalNameWarning: object name is not a valid Python identifier: 'sim_81_p_rew_0.01_start_10_dq_2'; it does not match the pattern ``^[a-zA-Z_][a-zA-Z0-9_]*$``; you will not be able to use natural naming to access this object; using ``getattr()`` will still work, though\n",
      "  NaturalNameWarning)\n"
     ]
    },
    {
     "name": "stdout",
     "output_type": "stream",
     "text": [
      "(sim,lamb_da,p_rew,start,dose_quantity) =  (81, 0.01, 0.10000000000000002, 1, 0.1)\n",
      "{95}\n",
      "sim_81_p_rew_0.1_start_1_dq_0.1\n"
     ]
    },
    {
     "name": "stderr",
     "output_type": "stream",
     "text": [
      "/home/aiyappa/anaconda3/lib/python3.7/site-packages/tables/path.py:112: NaturalNameWarning: object name is not a valid Python identifier: 'sim_81_p_rew_0.1_start_1_dq_0.1'; it does not match the pattern ``^[a-zA-Z_][a-zA-Z0-9_]*$``; you will not be able to use natural naming to access this object; using ``getattr()`` will still work, though\n",
      "  NaturalNameWarning)\n"
     ]
    },
    {
     "name": "stdout",
     "output_type": "stream",
     "text": [
      "(sim,lamb_da,p_rew,start,dose_quantity) =  (81, 0.01, 0.10000000000000002, 1, 2)\n",
      "{24}\n",
      "sim_81_p_rew_0.1_start_1_dq_2\n"
     ]
    },
    {
     "name": "stderr",
     "output_type": "stream",
     "text": [
      "/home/aiyappa/anaconda3/lib/python3.7/site-packages/tables/path.py:112: NaturalNameWarning: object name is not a valid Python identifier: 'sim_81_p_rew_0.1_start_1_dq_2'; it does not match the pattern ``^[a-zA-Z_][a-zA-Z0-9_]*$``; you will not be able to use natural naming to access this object; using ``getattr()`` will still work, though\n",
      "  NaturalNameWarning)\n"
     ]
    },
    {
     "name": "stdout",
     "output_type": "stream",
     "text": [
      "(sim,lamb_da,p_rew,start,dose_quantity) =  (81, 0.01, 0.10000000000000002, 10, 0.1)\n",
      "{64, 3, 69, 71, 9, 74, 14, 51, 52, 27}\n",
      "sim_81_p_rew_0.1_start_10_dq_0.1\n"
     ]
    },
    {
     "name": "stderr",
     "output_type": "stream",
     "text": [
      "/home/aiyappa/anaconda3/lib/python3.7/site-packages/tables/path.py:112: NaturalNameWarning: object name is not a valid Python identifier: 'sim_81_p_rew_0.1_start_10_dq_0.1'; it does not match the pattern ``^[a-zA-Z_][a-zA-Z0-9_]*$``; you will not be able to use natural naming to access this object; using ``getattr()`` will still work, though\n",
      "  NaturalNameWarning)\n"
     ]
    },
    {
     "name": "stdout",
     "output_type": "stream",
     "text": [
      "(sim,lamb_da,p_rew,start,dose_quantity) =  (81, 0.01, 0.10000000000000002, 10, 2)\n",
      "{0, 1, 69, 37, 76, 81, 20, 26, 60, 95}\n",
      "sim_81_p_rew_0.1_start_10_dq_2\n"
     ]
    },
    {
     "name": "stderr",
     "output_type": "stream",
     "text": [
      "/home/aiyappa/anaconda3/lib/python3.7/site-packages/tables/path.py:112: NaturalNameWarning: object name is not a valid Python identifier: 'sim_81_p_rew_0.1_start_10_dq_2'; it does not match the pattern ``^[a-zA-Z_][a-zA-Z0-9_]*$``; you will not be able to use natural naming to access this object; using ``getattr()`` will still work, though\n",
      "  NaturalNameWarning)\n"
     ]
    },
    {
     "name": "stdout",
     "output_type": "stream",
     "text": [
      "(sim,lamb_da,p_rew,start,dose_quantity) =  (81, 0.10000000000000002, 1.0, 1, 0.1)\n",
      "{4}\n",
      "sim_81_p_rew_1_start_1_dq_0.1\n"
     ]
    },
    {
     "name": "stderr",
     "output_type": "stream",
     "text": [
      "/home/aiyappa/anaconda3/lib/python3.7/site-packages/tables/path.py:112: NaturalNameWarning: object name is not a valid Python identifier: 'sim_81_p_rew_1_start_1_dq_0.1'; it does not match the pattern ``^[a-zA-Z_][a-zA-Z0-9_]*$``; you will not be able to use natural naming to access this object; using ``getattr()`` will still work, though\n",
      "  NaturalNameWarning)\n"
     ]
    },
    {
     "name": "stdout",
     "output_type": "stream",
     "text": [
      "(sim,lamb_da,p_rew,start,dose_quantity) =  (81, 0.10000000000000002, 1.0, 1, 2)\n",
      "{35}\n",
      "sim_81_p_rew_1_start_1_dq_2\n",
      "(sim,lamb_da,p_rew,start,dose_quantity) =  (81, 0.10000000000000002, 1.0, 10, 0.1)\n",
      "{72, 74, 77, 79, 16, 54, 87, 24, 57, 27}\n",
      "sim_81_p_rew_1_start_10_dq_0.1\n"
     ]
    },
    {
     "name": "stderr",
     "output_type": "stream",
     "text": [
      "/home/aiyappa/anaconda3/lib/python3.7/site-packages/tables/path.py:112: NaturalNameWarning: object name is not a valid Python identifier: 'sim_81_p_rew_1_start_10_dq_0.1'; it does not match the pattern ``^[a-zA-Z_][a-zA-Z0-9_]*$``; you will not be able to use natural naming to access this object; using ``getattr()`` will still work, though\n",
      "  NaturalNameWarning)\n"
     ]
    },
    {
     "name": "stdout",
     "output_type": "stream",
     "text": [
      "(sim,lamb_da,p_rew,start,dose_quantity) =  (81, 0.10000000000000002, 1.0, 10, 2)\n",
      "{66, 67, 71, 72, 41, 42, 47, 24, 62, 63}\n",
      "sim_81_p_rew_1_start_10_dq_2\n",
      "(sim,lamb_da,p_rew,start,dose_quantity) =  (82, 0.001, 0.01, 1, 0.1)\n",
      "{16}\n",
      "sim_82_p_rew_0.01_start_1_dq_0.1\n"
     ]
    },
    {
     "name": "stderr",
     "output_type": "stream",
     "text": [
      "/home/aiyappa/anaconda3/lib/python3.7/site-packages/tables/path.py:112: NaturalNameWarning: object name is not a valid Python identifier: 'sim_82_p_rew_0.01_start_1_dq_0.1'; it does not match the pattern ``^[a-zA-Z_][a-zA-Z0-9_]*$``; you will not be able to use natural naming to access this object; using ``getattr()`` will still work, though\n",
      "  NaturalNameWarning)\n"
     ]
    },
    {
     "name": "stdout",
     "output_type": "stream",
     "text": [
      "(sim,lamb_da,p_rew,start,dose_quantity) =  (82, 0.001, 0.01, 1, 2)\n",
      "{90}\n",
      "sim_82_p_rew_0.01_start_1_dq_2\n"
     ]
    },
    {
     "name": "stderr",
     "output_type": "stream",
     "text": [
      "/home/aiyappa/anaconda3/lib/python3.7/site-packages/tables/path.py:112: NaturalNameWarning: object name is not a valid Python identifier: 'sim_82_p_rew_0.01_start_1_dq_2'; it does not match the pattern ``^[a-zA-Z_][a-zA-Z0-9_]*$``; you will not be able to use natural naming to access this object; using ``getattr()`` will still work, though\n",
      "  NaturalNameWarning)\n"
     ]
    },
    {
     "name": "stdout",
     "output_type": "stream",
     "text": [
      "(sim,lamb_da,p_rew,start,dose_quantity) =  (82, 0.001, 0.01, 10, 0.1)\n",
      "{7, 44, 51, 84, 93, 22, 90, 61, 94, 63}\n",
      "sim_82_p_rew_0.01_start_10_dq_0.1\n"
     ]
    },
    {
     "name": "stderr",
     "output_type": "stream",
     "text": [
      "/home/aiyappa/anaconda3/lib/python3.7/site-packages/tables/path.py:112: NaturalNameWarning: object name is not a valid Python identifier: 'sim_82_p_rew_0.01_start_10_dq_0.1'; it does not match the pattern ``^[a-zA-Z_][a-zA-Z0-9_]*$``; you will not be able to use natural naming to access this object; using ``getattr()`` will still work, though\n",
      "  NaturalNameWarning)\n"
     ]
    },
    {
     "name": "stdout",
     "output_type": "stream",
     "text": [
      "(sim,lamb_da,p_rew,start,dose_quantity) =  (82, 0.001, 0.01, 10, 2)\n",
      "{70, 9, 11, 77, 46, 79, 80, 53, 90, 91}\n",
      "sim_82_p_rew_0.01_start_10_dq_2\n"
     ]
    },
    {
     "name": "stderr",
     "output_type": "stream",
     "text": [
      "/home/aiyappa/anaconda3/lib/python3.7/site-packages/tables/path.py:112: NaturalNameWarning: object name is not a valid Python identifier: 'sim_82_p_rew_0.01_start_10_dq_2'; it does not match the pattern ``^[a-zA-Z_][a-zA-Z0-9_]*$``; you will not be able to use natural naming to access this object; using ``getattr()`` will still work, though\n",
      "  NaturalNameWarning)\n"
     ]
    },
    {
     "name": "stdout",
     "output_type": "stream",
     "text": [
      "(sim,lamb_da,p_rew,start,dose_quantity) =  (82, 0.01, 0.10000000000000002, 1, 0.1)\n",
      "{17}\n",
      "sim_82_p_rew_0.1_start_1_dq_0.1\n"
     ]
    },
    {
     "name": "stderr",
     "output_type": "stream",
     "text": [
      "/home/aiyappa/anaconda3/lib/python3.7/site-packages/tables/path.py:112: NaturalNameWarning: object name is not a valid Python identifier: 'sim_82_p_rew_0.1_start_1_dq_0.1'; it does not match the pattern ``^[a-zA-Z_][a-zA-Z0-9_]*$``; you will not be able to use natural naming to access this object; using ``getattr()`` will still work, though\n",
      "  NaturalNameWarning)\n"
     ]
    },
    {
     "name": "stdout",
     "output_type": "stream",
     "text": [
      "(sim,lamb_da,p_rew,start,dose_quantity) =  (82, 0.01, 0.10000000000000002, 1, 2)\n",
      "{35}\n",
      "sim_82_p_rew_0.1_start_1_dq_2\n"
     ]
    },
    {
     "name": "stderr",
     "output_type": "stream",
     "text": [
      "/home/aiyappa/anaconda3/lib/python3.7/site-packages/tables/path.py:112: NaturalNameWarning: object name is not a valid Python identifier: 'sim_82_p_rew_0.1_start_1_dq_2'; it does not match the pattern ``^[a-zA-Z_][a-zA-Z0-9_]*$``; you will not be able to use natural naming to access this object; using ``getattr()`` will still work, though\n",
      "  NaturalNameWarning)\n"
     ]
    },
    {
     "name": "stdout",
     "output_type": "stream",
     "text": [
      "(sim,lamb_da,p_rew,start,dose_quantity) =  (82, 0.01, 0.10000000000000002, 10, 0.1)\n",
      "{64, 66, 6, 10, 78, 79, 48, 83, 25, 29}\n",
      "sim_82_p_rew_0.1_start_10_dq_0.1\n"
     ]
    },
    {
     "name": "stderr",
     "output_type": "stream",
     "text": [
      "/home/aiyappa/anaconda3/lib/python3.7/site-packages/tables/path.py:112: NaturalNameWarning: object name is not a valid Python identifier: 'sim_82_p_rew_0.1_start_10_dq_0.1'; it does not match the pattern ``^[a-zA-Z_][a-zA-Z0-9_]*$``; you will not be able to use natural naming to access this object; using ``getattr()`` will still work, though\n",
      "  NaturalNameWarning)\n"
     ]
    },
    {
     "name": "stdout",
     "output_type": "stream",
     "text": [
      "(sim,lamb_da,p_rew,start,dose_quantity) =  (82, 0.01, 0.10000000000000002, 10, 2)\n",
      "{35, 36, 3, 71, 39, 74, 43, 42, 28, 63}\n",
      "sim_82_p_rew_0.1_start_10_dq_2\n"
     ]
    },
    {
     "name": "stderr",
     "output_type": "stream",
     "text": [
      "/home/aiyappa/anaconda3/lib/python3.7/site-packages/tables/path.py:112: NaturalNameWarning: object name is not a valid Python identifier: 'sim_82_p_rew_0.1_start_10_dq_2'; it does not match the pattern ``^[a-zA-Z_][a-zA-Z0-9_]*$``; you will not be able to use natural naming to access this object; using ``getattr()`` will still work, though\n",
      "  NaturalNameWarning)\n"
     ]
    },
    {
     "name": "stdout",
     "output_type": "stream",
     "text": [
      "(sim,lamb_da,p_rew,start,dose_quantity) =  (82, 0.10000000000000002, 1.0, 1, 0.1)\n",
      "{84}\n",
      "sim_82_p_rew_1_start_1_dq_0.1\n"
     ]
    },
    {
     "name": "stderr",
     "output_type": "stream",
     "text": [
      "/home/aiyappa/anaconda3/lib/python3.7/site-packages/tables/path.py:112: NaturalNameWarning: object name is not a valid Python identifier: 'sim_82_p_rew_1_start_1_dq_0.1'; it does not match the pattern ``^[a-zA-Z_][a-zA-Z0-9_]*$``; you will not be able to use natural naming to access this object; using ``getattr()`` will still work, though\n",
      "  NaturalNameWarning)\n"
     ]
    },
    {
     "name": "stdout",
     "output_type": "stream",
     "text": [
      "(sim,lamb_da,p_rew,start,dose_quantity) =  (82, 0.10000000000000002, 1.0, 1, 2)\n",
      "{17}\n",
      "sim_82_p_rew_1_start_1_dq_2\n",
      "(sim,lamb_da,p_rew,start,dose_quantity) =  (82, 0.10000000000000002, 1.0, 10, 0.1)\n",
      "{32, 34, 3, 42, 16, 17, 49, 62, 91, 30}\n",
      "sim_82_p_rew_1_start_10_dq_0.1\n"
     ]
    },
    {
     "name": "stderr",
     "output_type": "stream",
     "text": [
      "/home/aiyappa/anaconda3/lib/python3.7/site-packages/tables/path.py:112: NaturalNameWarning: object name is not a valid Python identifier: 'sim_82_p_rew_1_start_10_dq_0.1'; it does not match the pattern ``^[a-zA-Z_][a-zA-Z0-9_]*$``; you will not be able to use natural naming to access this object; using ``getattr()`` will still work, though\n",
      "  NaturalNameWarning)\n"
     ]
    },
    {
     "name": "stdout",
     "output_type": "stream",
     "text": [
      "(sim,lamb_da,p_rew,start,dose_quantity) =  (82, 0.10000000000000002, 1.0, 10, 2)\n",
      "{32, 98, 78, 16, 18, 19, 88, 89, 61, 30}\n",
      "sim_82_p_rew_1_start_10_dq_2\n",
      "(sim,lamb_da,p_rew,start,dose_quantity) =  (83, 0.001, 0.01, 1, 0.1)\n",
      "{6}\n",
      "sim_83_p_rew_0.01_start_1_dq_0.1\n"
     ]
    },
    {
     "name": "stderr",
     "output_type": "stream",
     "text": [
      "/home/aiyappa/anaconda3/lib/python3.7/site-packages/tables/path.py:112: NaturalNameWarning: object name is not a valid Python identifier: 'sim_83_p_rew_0.01_start_1_dq_0.1'; it does not match the pattern ``^[a-zA-Z_][a-zA-Z0-9_]*$``; you will not be able to use natural naming to access this object; using ``getattr()`` will still work, though\n",
      "  NaturalNameWarning)\n"
     ]
    },
    {
     "name": "stdout",
     "output_type": "stream",
     "text": [
      "(sim,lamb_da,p_rew,start,dose_quantity) =  (83, 0.001, 0.01, 1, 2)\n",
      "{55}\n",
      "sim_83_p_rew_0.01_start_1_dq_2\n"
     ]
    },
    {
     "name": "stderr",
     "output_type": "stream",
     "text": [
      "/home/aiyappa/anaconda3/lib/python3.7/site-packages/tables/path.py:112: NaturalNameWarning: object name is not a valid Python identifier: 'sim_83_p_rew_0.01_start_1_dq_2'; it does not match the pattern ``^[a-zA-Z_][a-zA-Z0-9_]*$``; you will not be able to use natural naming to access this object; using ``getattr()`` will still work, though\n",
      "  NaturalNameWarning)\n"
     ]
    },
    {
     "name": "stdout",
     "output_type": "stream",
     "text": [
      "(sim,lamb_da,p_rew,start,dose_quantity) =  (83, 0.001, 0.01, 10, 0.1)\n",
      "{96, 4, 70, 73, 43, 12, 82, 53, 25, 92}\n",
      "sim_83_p_rew_0.01_start_10_dq_0.1\n"
     ]
    },
    {
     "name": "stderr",
     "output_type": "stream",
     "text": [
      "/home/aiyappa/anaconda3/lib/python3.7/site-packages/tables/path.py:112: NaturalNameWarning: object name is not a valid Python identifier: 'sim_83_p_rew_0.01_start_10_dq_0.1'; it does not match the pattern ``^[a-zA-Z_][a-zA-Z0-9_]*$``; you will not be able to use natural naming to access this object; using ``getattr()`` will still work, though\n",
      "  NaturalNameWarning)\n"
     ]
    },
    {
     "name": "stdout",
     "output_type": "stream",
     "text": [
      "(sim,lamb_da,p_rew,start,dose_quantity) =  (83, 0.001, 0.01, 10, 2)\n",
      "{65, 11, 76, 60, 16, 84, 55, 90, 59, 92}\n",
      "sim_83_p_rew_0.01_start_10_dq_2\n"
     ]
    },
    {
     "name": "stderr",
     "output_type": "stream",
     "text": [
      "/home/aiyappa/anaconda3/lib/python3.7/site-packages/tables/path.py:112: NaturalNameWarning: object name is not a valid Python identifier: 'sim_83_p_rew_0.01_start_10_dq_2'; it does not match the pattern ``^[a-zA-Z_][a-zA-Z0-9_]*$``; you will not be able to use natural naming to access this object; using ``getattr()`` will still work, though\n",
      "  NaturalNameWarning)\n"
     ]
    },
    {
     "name": "stdout",
     "output_type": "stream",
     "text": [
      "(sim,lamb_da,p_rew,start,dose_quantity) =  (83, 0.01, 0.10000000000000002, 1, 0.1)\n",
      "{87}\n",
      "sim_83_p_rew_0.1_start_1_dq_0.1\n"
     ]
    },
    {
     "name": "stderr",
     "output_type": "stream",
     "text": [
      "/home/aiyappa/anaconda3/lib/python3.7/site-packages/tables/path.py:112: NaturalNameWarning: object name is not a valid Python identifier: 'sim_83_p_rew_0.1_start_1_dq_0.1'; it does not match the pattern ``^[a-zA-Z_][a-zA-Z0-9_]*$``; you will not be able to use natural naming to access this object; using ``getattr()`` will still work, though\n",
      "  NaturalNameWarning)\n"
     ]
    },
    {
     "name": "stdout",
     "output_type": "stream",
     "text": [
      "(sim,lamb_da,p_rew,start,dose_quantity) =  (83, 0.01, 0.10000000000000002, 1, 2)\n",
      "{8}\n",
      "sim_83_p_rew_0.1_start_1_dq_2\n"
     ]
    },
    {
     "name": "stderr",
     "output_type": "stream",
     "text": [
      "/home/aiyappa/anaconda3/lib/python3.7/site-packages/tables/path.py:112: NaturalNameWarning: object name is not a valid Python identifier: 'sim_83_p_rew_0.1_start_1_dq_2'; it does not match the pattern ``^[a-zA-Z_][a-zA-Z0-9_]*$``; you will not be able to use natural naming to access this object; using ``getattr()`` will still work, though\n",
      "  NaturalNameWarning)\n"
     ]
    },
    {
     "name": "stdout",
     "output_type": "stream",
     "text": [
      "(sim,lamb_da,p_rew,start,dose_quantity) =  (83, 0.01, 0.10000000000000002, 10, 0.1)\n",
      "{64, 70, 73, 11, 47, 49, 50, 83, 84, 52}\n",
      "sim_83_p_rew_0.1_start_10_dq_0.1\n"
     ]
    },
    {
     "name": "stderr",
     "output_type": "stream",
     "text": [
      "/home/aiyappa/anaconda3/lib/python3.7/site-packages/tables/path.py:112: NaturalNameWarning: object name is not a valid Python identifier: 'sim_83_p_rew_0.1_start_10_dq_0.1'; it does not match the pattern ``^[a-zA-Z_][a-zA-Z0-9_]*$``; you will not be able to use natural naming to access this object; using ``getattr()`` will still work, though\n",
      "  NaturalNameWarning)\n"
     ]
    },
    {
     "name": "stdout",
     "output_type": "stream",
     "text": [
      "(sim,lamb_da,p_rew,start,dose_quantity) =  (83, 0.01, 0.10000000000000002, 10, 2)\n",
      "{38, 6, 73, 44, 50, 61, 85, 57, 60, 93}\n",
      "sim_83_p_rew_0.1_start_10_dq_2\n"
     ]
    },
    {
     "name": "stderr",
     "output_type": "stream",
     "text": [
      "/home/aiyappa/anaconda3/lib/python3.7/site-packages/tables/path.py:112: NaturalNameWarning: object name is not a valid Python identifier: 'sim_83_p_rew_0.1_start_10_dq_2'; it does not match the pattern ``^[a-zA-Z_][a-zA-Z0-9_]*$``; you will not be able to use natural naming to access this object; using ``getattr()`` will still work, though\n",
      "  NaturalNameWarning)\n"
     ]
    },
    {
     "name": "stdout",
     "output_type": "stream",
     "text": [
      "(sim,lamb_da,p_rew,start,dose_quantity) =  (83, 0.10000000000000002, 1.0, 1, 0.1)\n",
      "{48}\n",
      "sim_83_p_rew_1_start_1_dq_0.1\n"
     ]
    },
    {
     "name": "stderr",
     "output_type": "stream",
     "text": [
      "/home/aiyappa/anaconda3/lib/python3.7/site-packages/tables/path.py:112: NaturalNameWarning: object name is not a valid Python identifier: 'sim_83_p_rew_1_start_1_dq_0.1'; it does not match the pattern ``^[a-zA-Z_][a-zA-Z0-9_]*$``; you will not be able to use natural naming to access this object; using ``getattr()`` will still work, though\n",
      "  NaturalNameWarning)\n"
     ]
    },
    {
     "name": "stdout",
     "output_type": "stream",
     "text": [
      "(sim,lamb_da,p_rew,start,dose_quantity) =  (83, 0.10000000000000002, 1.0, 1, 2)\n",
      "{62}\n",
      "sim_83_p_rew_1_start_1_dq_2\n",
      "(sim,lamb_da,p_rew,start,dose_quantity) =  (83, 0.10000000000000002, 1.0, 10, 0.1)\n",
      "{96, 65, 2, 73, 12, 50, 54, 57, 26, 30}\n",
      "sim_83_p_rew_1_start_10_dq_0.1\n"
     ]
    },
    {
     "name": "stderr",
     "output_type": "stream",
     "text": [
      "/home/aiyappa/anaconda3/lib/python3.7/site-packages/tables/path.py:112: NaturalNameWarning: object name is not a valid Python identifier: 'sim_83_p_rew_1_start_10_dq_0.1'; it does not match the pattern ``^[a-zA-Z_][a-zA-Z0-9_]*$``; you will not be able to use natural naming to access this object; using ``getattr()`` will still work, though\n",
      "  NaturalNameWarning)\n"
     ]
    },
    {
     "name": "stdout",
     "output_type": "stream",
     "text": [
      "(sim,lamb_da,p_rew,start,dose_quantity) =  (83, 0.10000000000000002, 1.0, 10, 2)\n",
      "{34, 68, 39, 41, 11, 45, 79, 18, 85, 95}\n",
      "sim_83_p_rew_1_start_10_dq_2\n",
      "(sim,lamb_da,p_rew,start,dose_quantity) =  (84, 0.001, 0.01, 1, 0.1)\n",
      "{28}\n",
      "sim_84_p_rew_0.01_start_1_dq_0.1\n"
     ]
    },
    {
     "name": "stderr",
     "output_type": "stream",
     "text": [
      "/home/aiyappa/anaconda3/lib/python3.7/site-packages/tables/path.py:112: NaturalNameWarning: object name is not a valid Python identifier: 'sim_84_p_rew_0.01_start_1_dq_0.1'; it does not match the pattern ``^[a-zA-Z_][a-zA-Z0-9_]*$``; you will not be able to use natural naming to access this object; using ``getattr()`` will still work, though\n",
      "  NaturalNameWarning)\n"
     ]
    },
    {
     "name": "stdout",
     "output_type": "stream",
     "text": [
      "(sim,lamb_da,p_rew,start,dose_quantity) =  (84, 0.001, 0.01, 1, 2)\n",
      "{63}\n",
      "sim_84_p_rew_0.01_start_1_dq_2\n"
     ]
    },
    {
     "name": "stderr",
     "output_type": "stream",
     "text": [
      "/home/aiyappa/anaconda3/lib/python3.7/site-packages/tables/path.py:112: NaturalNameWarning: object name is not a valid Python identifier: 'sim_84_p_rew_0.01_start_1_dq_2'; it does not match the pattern ``^[a-zA-Z_][a-zA-Z0-9_]*$``; you will not be able to use natural naming to access this object; using ``getattr()`` will still work, though\n",
      "  NaturalNameWarning)\n"
     ]
    },
    {
     "name": "stdout",
     "output_type": "stream",
     "text": [
      "(sim,lamb_da,p_rew,start,dose_quantity) =  (84, 0.001, 0.01, 10, 0.1)\n",
      "{1, 36, 11, 75, 12, 79, 51, 84, 92, 95}\n",
      "sim_84_p_rew_0.01_start_10_dq_0.1\n"
     ]
    },
    {
     "name": "stderr",
     "output_type": "stream",
     "text": [
      "/home/aiyappa/anaconda3/lib/python3.7/site-packages/tables/path.py:112: NaturalNameWarning: object name is not a valid Python identifier: 'sim_84_p_rew_0.01_start_10_dq_0.1'; it does not match the pattern ``^[a-zA-Z_][a-zA-Z0-9_]*$``; you will not be able to use natural naming to access this object; using ``getattr()`` will still work, though\n",
      "  NaturalNameWarning)\n"
     ]
    },
    {
     "name": "stdout",
     "output_type": "stream",
     "text": [
      "(sim,lamb_da,p_rew,start,dose_quantity) =  (84, 0.001, 0.01, 10, 2)\n",
      "{0, 89, 99, 68, 5, 39, 42, 78, 23, 25}\n",
      "sim_84_p_rew_0.01_start_10_dq_2\n"
     ]
    },
    {
     "name": "stderr",
     "output_type": "stream",
     "text": [
      "/home/aiyappa/anaconda3/lib/python3.7/site-packages/tables/path.py:112: NaturalNameWarning: object name is not a valid Python identifier: 'sim_84_p_rew_0.01_start_10_dq_2'; it does not match the pattern ``^[a-zA-Z_][a-zA-Z0-9_]*$``; you will not be able to use natural naming to access this object; using ``getattr()`` will still work, though\n",
      "  NaturalNameWarning)\n"
     ]
    },
    {
     "name": "stdout",
     "output_type": "stream",
     "text": [
      "(sim,lamb_da,p_rew,start,dose_quantity) =  (84, 0.01, 0.10000000000000002, 1, 0.1)\n",
      "{76}\n",
      "sim_84_p_rew_0.1_start_1_dq_0.1\n"
     ]
    },
    {
     "name": "stderr",
     "output_type": "stream",
     "text": [
      "/home/aiyappa/anaconda3/lib/python3.7/site-packages/tables/path.py:112: NaturalNameWarning: object name is not a valid Python identifier: 'sim_84_p_rew_0.1_start_1_dq_0.1'; it does not match the pattern ``^[a-zA-Z_][a-zA-Z0-9_]*$``; you will not be able to use natural naming to access this object; using ``getattr()`` will still work, though\n",
      "  NaturalNameWarning)\n"
     ]
    },
    {
     "name": "stdout",
     "output_type": "stream",
     "text": [
      "(sim,lamb_da,p_rew,start,dose_quantity) =  (84, 0.01, 0.10000000000000002, 1, 2)\n",
      "{77}\n",
      "sim_84_p_rew_0.1_start_1_dq_2\n"
     ]
    },
    {
     "name": "stderr",
     "output_type": "stream",
     "text": [
      "/home/aiyappa/anaconda3/lib/python3.7/site-packages/tables/path.py:112: NaturalNameWarning: object name is not a valid Python identifier: 'sim_84_p_rew_0.1_start_1_dq_2'; it does not match the pattern ``^[a-zA-Z_][a-zA-Z0-9_]*$``; you will not be able to use natural naming to access this object; using ``getattr()`` will still work, though\n",
      "  NaturalNameWarning)\n"
     ]
    },
    {
     "name": "stdout",
     "output_type": "stream",
     "text": [
      "(sim,lamb_da,p_rew,start,dose_quantity) =  (84, 0.01, 0.10000000000000002, 10, 0.1)\n",
      "{18, 83, 21, 85, 55, 88, 25, 59, 61, 62}\n",
      "sim_84_p_rew_0.1_start_10_dq_0.1\n"
     ]
    },
    {
     "name": "stderr",
     "output_type": "stream",
     "text": [
      "/home/aiyappa/anaconda3/lib/python3.7/site-packages/tables/path.py:112: NaturalNameWarning: object name is not a valid Python identifier: 'sim_84_p_rew_0.1_start_10_dq_0.1'; it does not match the pattern ``^[a-zA-Z_][a-zA-Z0-9_]*$``; you will not be able to use natural naming to access this object; using ``getattr()`` will still work, though\n",
      "  NaturalNameWarning)\n"
     ]
    },
    {
     "name": "stdout",
     "output_type": "stream",
     "text": [
      "(sim,lamb_da,p_rew,start,dose_quantity) =  (84, 0.01, 0.10000000000000002, 10, 2)\n",
      "{66, 67, 35, 5, 98, 42, 13, 87, 24, 57}\n",
      "sim_84_p_rew_0.1_start_10_dq_2\n"
     ]
    },
    {
     "name": "stderr",
     "output_type": "stream",
     "text": [
      "/home/aiyappa/anaconda3/lib/python3.7/site-packages/tables/path.py:112: NaturalNameWarning: object name is not a valid Python identifier: 'sim_84_p_rew_0.1_start_10_dq_2'; it does not match the pattern ``^[a-zA-Z_][a-zA-Z0-9_]*$``; you will not be able to use natural naming to access this object; using ``getattr()`` will still work, though\n",
      "  NaturalNameWarning)\n"
     ]
    },
    {
     "name": "stdout",
     "output_type": "stream",
     "text": [
      "(sim,lamb_da,p_rew,start,dose_quantity) =  (84, 0.10000000000000002, 1.0, 1, 0.1)\n",
      "{40}\n",
      "sim_84_p_rew_1_start_1_dq_0.1\n"
     ]
    },
    {
     "name": "stderr",
     "output_type": "stream",
     "text": [
      "/home/aiyappa/anaconda3/lib/python3.7/site-packages/tables/path.py:112: NaturalNameWarning: object name is not a valid Python identifier: 'sim_84_p_rew_1_start_1_dq_0.1'; it does not match the pattern ``^[a-zA-Z_][a-zA-Z0-9_]*$``; you will not be able to use natural naming to access this object; using ``getattr()`` will still work, though\n",
      "  NaturalNameWarning)\n"
     ]
    },
    {
     "name": "stdout",
     "output_type": "stream",
     "text": [
      "(sim,lamb_da,p_rew,start,dose_quantity) =  (84, 0.10000000000000002, 1.0, 1, 2)\n",
      "{91}\n",
      "sim_84_p_rew_1_start_1_dq_2\n",
      "(sim,lamb_da,p_rew,start,dose_quantity) =  (84, 0.10000000000000002, 1.0, 10, 0.1)\n",
      "{98, 67, 68, 38, 43, 12, 16, 54, 27, 95}\n",
      "sim_84_p_rew_1_start_10_dq_0.1\n"
     ]
    },
    {
     "name": "stderr",
     "output_type": "stream",
     "text": [
      "/home/aiyappa/anaconda3/lib/python3.7/site-packages/tables/path.py:112: NaturalNameWarning: object name is not a valid Python identifier: 'sim_84_p_rew_1_start_10_dq_0.1'; it does not match the pattern ``^[a-zA-Z_][a-zA-Z0-9_]*$``; you will not be able to use natural naming to access this object; using ``getattr()`` will still work, though\n",
      "  NaturalNameWarning)\n"
     ]
    },
    {
     "name": "stdout",
     "output_type": "stream",
     "text": [
      "(sim,lamb_da,p_rew,start,dose_quantity) =  (84, 0.10000000000000002, 1.0, 10, 2)\n",
      "{73, 9, 14, 79, 48, 52, 56, 25, 31, 63}\n",
      "sim_84_p_rew_1_start_10_dq_2\n",
      "(sim,lamb_da,p_rew,start,dose_quantity) =  (85, 0.001, 0.01, 1, 0.1)\n",
      "{33}\n",
      "sim_85_p_rew_0.01_start_1_dq_0.1\n"
     ]
    },
    {
     "name": "stderr",
     "output_type": "stream",
     "text": [
      "/home/aiyappa/anaconda3/lib/python3.7/site-packages/tables/path.py:112: NaturalNameWarning: object name is not a valid Python identifier: 'sim_85_p_rew_0.01_start_1_dq_0.1'; it does not match the pattern ``^[a-zA-Z_][a-zA-Z0-9_]*$``; you will not be able to use natural naming to access this object; using ``getattr()`` will still work, though\n",
      "  NaturalNameWarning)\n"
     ]
    },
    {
     "name": "stdout",
     "output_type": "stream",
     "text": [
      "(sim,lamb_da,p_rew,start,dose_quantity) =  (85, 0.001, 0.01, 1, 2)\n",
      "{83}\n",
      "sim_85_p_rew_0.01_start_1_dq_2\n"
     ]
    },
    {
     "name": "stderr",
     "output_type": "stream",
     "text": [
      "/home/aiyappa/anaconda3/lib/python3.7/site-packages/tables/path.py:112: NaturalNameWarning: object name is not a valid Python identifier: 'sim_85_p_rew_0.01_start_1_dq_2'; it does not match the pattern ``^[a-zA-Z_][a-zA-Z0-9_]*$``; you will not be able to use natural naming to access this object; using ``getattr()`` will still work, though\n",
      "  NaturalNameWarning)\n"
     ]
    },
    {
     "name": "stdout",
     "output_type": "stream",
     "text": [
      "(sim,lamb_da,p_rew,start,dose_quantity) =  (85, 0.001, 0.01, 10, 0.1)\n",
      "{35, 99, 9, 43, 77, 47, 51, 83, 85, 63}\n",
      "sim_85_p_rew_0.01_start_10_dq_0.1\n"
     ]
    },
    {
     "name": "stderr",
     "output_type": "stream",
     "text": [
      "/home/aiyappa/anaconda3/lib/python3.7/site-packages/tables/path.py:112: NaturalNameWarning: object name is not a valid Python identifier: 'sim_85_p_rew_0.01_start_10_dq_0.1'; it does not match the pattern ``^[a-zA-Z_][a-zA-Z0-9_]*$``; you will not be able to use natural naming to access this object; using ``getattr()`` will still work, though\n",
      "  NaturalNameWarning)\n"
     ]
    },
    {
     "name": "stdout",
     "output_type": "stream",
     "text": [
      "(sim,lamb_da,p_rew,start,dose_quantity) =  (85, 0.001, 0.01, 10, 2)\n",
      "{3, 5, 38, 47, 49, 51, 20, 19, 30, 95}\n",
      "sim_85_p_rew_0.01_start_10_dq_2\n"
     ]
    },
    {
     "name": "stderr",
     "output_type": "stream",
     "text": [
      "/home/aiyappa/anaconda3/lib/python3.7/site-packages/tables/path.py:112: NaturalNameWarning: object name is not a valid Python identifier: 'sim_85_p_rew_0.01_start_10_dq_2'; it does not match the pattern ``^[a-zA-Z_][a-zA-Z0-9_]*$``; you will not be able to use natural naming to access this object; using ``getattr()`` will still work, though\n",
      "  NaturalNameWarning)\n"
     ]
    },
    {
     "name": "stdout",
     "output_type": "stream",
     "text": [
      "(sim,lamb_da,p_rew,start,dose_quantity) =  (85, 0.01, 0.10000000000000002, 1, 0.1)\n",
      "{53}\n"
     ]
    }
   ],
   "source": [
    "for sim in range(70,70+100) :\n",
    "    '''returns coordinates, distance matrix, edge_list and the adjacency matrix'''\n",
    "    dist_mat,coords = calc_dist(N) #node placement\n",
    "    edge_list = rand_net_gnm(total_edges,N)\n",
    "    org_adj_mat = np.int64(np.zeros((N,N)))\n",
    "    for i in range(len(edge_list)):\n",
    "        org_adj_mat[edge_list[i][0],edge_list[i][1]] = np.int64(1)\n",
    "        \n",
    "    df_row = 0\n",
    "    for p_rew in p_rew_vals : #rate of rewiring (per unit time (second))\n",
    "        lamb_da = p_rew/10\n",
    "        lamb_da = lamb_da*dt\n",
    "        p_rew = p_rew*dt\n",
    "        for start in start_vals : #rate of dose transfer (per unit time (second))\n",
    "            for dose_quantity in dose_quantity_vals : #number of nodes to infect initially\n",
    "                print('(sim,lamb_da,p_rew,start,dose_quantity) = ', (sim,lamb_da/dt,p_rew/dt,start,dose_quantity))\n",
    "\n",
    "                '''clearing exsiting data frames and creating new ones '''\n",
    "                timeseries_infec_frac = pd.DataFrame()\n",
    "                timeseries_in_degree = pd.DataFrame()\n",
    "                timeseries_out_degree = pd.DataFrame()\n",
    "                timeseries_connec_comps = pd.DataFrame()\n",
    "\n",
    "                q = 0 #to generate new edge_list from the new adjacency matrix \n",
    "                t = np.arange(0,T,dt)\n",
    "\n",
    "    #             numpy_array = np.zeros((N,len(t)),dtype = np.int64) #stores the states of the nodes. Rows are nodes and columns are time steps\n",
    "                D_array = np.zeros((N,len(t))) #stores the cumulative doses. Rows are nodes and columns are time steps\n",
    "\n",
    "                adj_mat_list = []\n",
    "                adj_mat = org_adj_mat\n",
    "                adj_mat_new = copy.deepcopy(adj_mat)\n",
    "                adj_mat_list.append(adj_mat_new) #list of arrays which shows the time series of the adjacency matrix\n",
    "\n",
    "                #coords remain the same. Get new edge_list from the latest adjacency matrix\n",
    "                edge_list = edge_from_adj_mat(adj_mat_list,q)\n",
    "                G = networkx_graph(coords,edge_list) #networkx graph\n",
    "\n",
    "                '''from G, obtain the in degree and the out degree'''\n",
    "                timeseries_in_degree.loc[:,0] = np.asarray([val for (node, val) in G.in_degree()])\n",
    "                timeseries_out_degree.loc[:,0] = np.asarray([val for (node, val) in G.out_degree()])\n",
    "\n",
    "                '''strongly and weekely connected components'''\n",
    "                timeseries_connec_comps.loc[0,0] = nx.number_connected_components(G.to_undirected())\n",
    "\n",
    "                '''choosing initially infected nodes'''\n",
    "                indi_state = np.random.randint(1,2,size=(N,1))\n",
    "                infected_nodes = None\n",
    "                while infected_nodes is None : #infecting 'start' number of network neighbours\n",
    "                    infected_nodes = InfectNetworkNeighbors(G,np.random.randint(N),start)\n",
    "                    print(infected_nodes)\n",
    "                infected_nodes = np.asarray(list(infected_nodes)).reshape(len(infected_nodes),1)\n",
    "                indi_state[infected_nodes[:,0],0] = 2\n",
    "\n",
    "                A,B = np.meshgrid(indi_state,indi_state) \n",
    "                partner_state = A\n",
    "                indi_state_for_rew = B\n",
    "\n",
    "    #             numpy_array [:,0] = indi_state[:,0]\n",
    "\n",
    "                indi_state_prev = indi_state\n",
    "                partner_state_prev = partner_state\n",
    "                indi_state_for_rew_prev = indi_state_for_rew\n",
    "\n",
    "                d = np.zeros((len(adj_mat),len(adj_mat[0])))\n",
    "\n",
    "                D = np.zeros((N,1))\n",
    "                D[np.where(indi_state==2)] = D_ini\n",
    "                D_array[:,0] = D[:,0]\n",
    "                D_prev = D\n",
    "\n",
    "                infec_frac = np.count_nonzero(indi_state == 2)/N\n",
    "                timeseries_infec_frac.loc[df_row,0] = infec_frac\n",
    "                '''the main part of the simulation'''\n",
    "                counter = 0\n",
    "                df_col = 1\n",
    "                for t in np.arange(dt,T,dt) :\n",
    "                    q = q + 1 \n",
    "                    counter = counter + 1\n",
    "                    infec_indi = []\n",
    "                    suscep_indi = []\n",
    "                    d = np.zeros((len(adj_mat),len(adj_mat[0])))\n",
    "                    d = dose(adj_mat,p,partner_state_prev,d)\n",
    "\n",
    "                    OD_array = np.asarray([val for (node, val) in G.out_degree()])\n",
    "                    OD_mesh1,OD_mesh2 = np.meshgrid(OD_array,OD_array)\n",
    "                    adj_mat = rew(p_rew,adj_mat,indi_state_for_rew_prev,OD_mesh2)\n",
    "                    adj_mat_new = copy.deepcopy(adj_mat)\n",
    "                    adj_mat_list.append(adj_mat_new)\n",
    "\n",
    "                    #coords remain the same. Get new edge_list from the latest adjacency matrix\n",
    "                    edge_list = edge_from_adj_mat(adj_mat_list,q)\n",
    "                    G = networkx_graph(coords,edge_list) #networkx graph\n",
    "\n",
    "                    '''from G, obtain the in degree and the out degree'''\n",
    "                    timeseries_in_degree.loc[:,df_col] = np.asarray([val for (node, val) in G.in_degree()])\n",
    "                    timeseries_out_degree.loc[:,df_col] = np.asarray([val for (node, val) in G.out_degree()])\n",
    "\n",
    "                    '''strongly and weekely connected components'''\n",
    "                    timeseries_connec_comps.loc[df_row,df_col] = nx.number_connected_components(G.to_undirected())\n",
    "\n",
    "                    D = cumu_dose(d,D_prev,gamma)\n",
    "                    D_array[:,counter] = D[:,0]\n",
    "\n",
    "                    indi_state = upd_indi_state(D,d_star,indi_state_prev)\n",
    "                    infec_frac = np.count_nonzero(indi_state == 2)/N\n",
    "                    timeseries_infec_frac.loc[df_row,df_col] = infec_frac\n",
    "\n",
    "    #                 numpy_array[:,counter] = indi_state[:,0]\n",
    "                    A,B = np.meshgrid(indi_state,indi_state)\n",
    "\n",
    "                    infec_indi, suscep_indi = states(indi_state)\n",
    "\n",
    "                    partner_state = A\n",
    "                    indi_state_for_rew = B\n",
    "                    indi_state_prev = indi_state\n",
    "                    partner_state_prev = partner_state\n",
    "                    indi_state_for_rew_prev = indi_state_for_rew\n",
    "\n",
    "                    D_prev = D\n",
    "                    D = np.zeros((N,1))\n",
    "                    df_col = df_col + 1 \n",
    "\n",
    "    #             df_row = df_row + 1 #going to the next row of the df to store timeseries of next (p,start)\n",
    "\n",
    "                filename_infec_frac = 'infec_frac.h5'\n",
    "                filename_in_deg = 'in_deg.h5'\n",
    "                filename_out_deg = 'out_deg.h5'\n",
    "                filename_connec_comps = 'connec_comps.h5'\n",
    "                p_rew_val = '%g'%(p_rew/dt)\n",
    "                key_val = 'sim_'+str(sim)+'_p_rew_'+str(p_rew_val)+'_start_'+str(start)+'_dq_'+str(dose_quantity)\n",
    "                print(key_val)\n",
    "                timeseries_infec_frac.to_hdf(filename_infec_frac, key = key_val, mode='a')\n",
    "                timeseries_in_degree.to_hdf(filename_in_deg, key = key_val, mode='a')\n",
    "                timeseries_out_degree.to_hdf(filename_out_deg, key = key_val, mode='a')\n",
    "                timeseries_connec_comps.to_hdf(filename_connec_comps, key = key_val, mode='a')\n",
    "                df_row = 0"
   ]
  },
  {
   "cell_type": "code",
   "execution_count": null,
   "metadata": {},
   "outputs": [],
   "source": [
    "# filename = 'file_avdeg_'+str(average_degree)+'_ini_'+str(np.int64(X[0,0]*N))+'_'+str(np.int64(X[p_len-1,start_len-1]*N))+'.h5'\n",
    "# key \n",
    "# timeseries_infec_frac.to_hdf(filename, key='timeseries_infec_frac', mode='w')"
   ]
  },
  {
   "cell_type": "code",
   "execution_count": null,
   "metadata": {},
   "outputs": [],
   "source": [
    "# import h5py\n",
    "# f = h5py.File('in_deg.h5', 'r')\n",
    "# [key for key in f.keys()]\n",
    "# # pd.read_hdf('file_avdeg_6_ini_0_11_firstattemp.h5','p_rew_2')"
   ]
  },
  {
   "cell_type": "code",
   "execution_count": 6,
   "metadata": {},
   "outputs": [],
   "source": [
    "A = np.random.randint(5,size=(5,5))"
   ]
  },
  {
   "cell_type": "code",
   "execution_count": 7,
   "metadata": {},
   "outputs": [
    {
     "name": "stdout",
     "output_type": "stream",
     "text": [
      "[[4 1 4 4 1]\n",
      " [3 2 1 2 3]\n",
      " [3 3 4 4 2]\n",
      " [3 1 0 2 2]\n",
      " [0 4 3 3 3]]\n",
      "[[9 6 9 9 6]\n",
      " [8 7 6 7 8]\n",
      " [8 8 9 9 7]\n",
      " [8 6 5 7 7]\n",
      " [5 9 8 8 8]]\n"
     ]
    }
   ],
   "source": [
    "print(A)\n",
    "print(A+5)"
   ]
  }
 ],
 "metadata": {
  "kernelspec": {
   "display_name": "Python 3",
   "language": "python",
   "name": "python3"
  },
  "language_info": {
   "codemirror_mode": {
    "name": "ipython",
    "version": 3
   },
   "file_extension": ".py",
   "mimetype": "text/x-python",
   "name": "python",
   "nbconvert_exporter": "python",
   "pygments_lexer": "ipython3",
   "version": "3.7.1"
  }
 },
 "nbformat": 4,
 "nbformat_minor": 2
}
