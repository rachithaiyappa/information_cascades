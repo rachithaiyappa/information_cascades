{
 "cells": [
  {
   "cell_type": "code",
   "execution_count": 37,
   "metadata": {},
   "outputs": [],
   "source": [
    "#commented uncessary print statements\n",
    "#merged blocks of code inorder to run loops and generate statistics"
   ]
  },
  {
   "cell_type": "code",
   "execution_count": 3,
   "metadata": {},
   "outputs": [],
   "source": [
    "#importing the required libraries\n",
    "\n",
    "import networkx as nx\n",
    "import matplotlib.pyplot as plt\n",
    "import numpy as np\n",
    "import random\n",
    "import cProfile\n",
    "from numba import jit"
   ]
  },
  {
   "cell_type": "code",
   "execution_count": 39,
   "metadata": {},
   "outputs": [],
   "source": [
    "#opening a file to store data\n",
    "f = open(\"phi_star_data.txt\",\"w+\") "
   ]
  },
  {
   "cell_type": "code",
   "execution_count": 40,
   "metadata": {},
   "outputs": [
    {
     "name": "stdout",
     "output_type": "stream",
     "text": [
      "0.0\n",
      "0.0\n",
      "0.1\n",
      "0.0\n",
      "0.2\n",
      "0.0\n",
      "0.30000000000000004\n",
      "0.0\n",
      "0.4\n",
      "0.0\n",
      "0.5\n",
      "0.0\n",
      "0.6000000000000001\n",
      "0.0\n",
      "0.7000000000000001\n",
      "0.0\n",
      "0.8\n",
      "0.0\n",
      "0.9\n",
      "0.0\n",
      "1.0\n",
      "0.0\n"
     ]
    }
   ],
   "source": [
    "#user controlled variables\n",
    "\n",
    "# with open(\"phi_star_data.txt\",\"w+\")  as f :\n",
    "for p_rew in range (0,11) :\n",
    "    p_rew = p_rew*0.1\n",
    "    print (p_rew)\n",
    "    \n",
    "    # p_rew = 1 #probability of rewiring in the watts-strogatz network\n",
    "    nn = 2 #each node is connected to nn number of nearest neighbours, nn-1 neighbors if nn is odd\n",
    "\n",
    "    start = 1 #initial condition : fraction of infected individuals\n",
    "\n",
    "    p = 1  #probability of dose transfer upon interaction\n",
    "    rho = 1   #probability of becoming susceptible after recovery\n",
    "    r = 1    #probability of recovery when dose level drops below threshold\n",
    "\n",
    "    N = 100   #number of individuals\n",
    "    T = 1000  #number of time steps\n",
    "\n",
    "    mem_time_steps = 12 #the number of previous time steps which the individual remembers about \n",
    "\n",
    "    d_star = 3*np.ones((N,1),dtype=np.int32)\n",
    "    # print('d_star')\n",
    "    # print(d_star)\n",
    "    # print(type(d_star))\n",
    "    # print(d_star.shape)\n",
    "\n",
    "    #initialising variables and arrays to store information\n",
    "\n",
    "    kount = 0\n",
    "\n",
    "#     phi_star = 999*np.ones([11,2]) #fraction of steady state infected\n",
    "    # print('phi_star')\n",
    "    # print(phi_star)\n",
    "    # print(phi_star.shape)\n",
    "\n",
    "    phi = 999*np.ones([1,T]) #fraction of steady state infected\n",
    "    # print('phi')\n",
    "    # print(phi)\n",
    "    # print(phi.shape)\n",
    "\n",
    "    t = np.arange(0,T) #time steps\n",
    "    t = np.asarray(t).reshape(1,T)\n",
    "    # print('t')\n",
    "    # print(t)\n",
    "    # print(t.shape)\n",
    "    # print(type(t))\n",
    "\n",
    "    partner = 999*np.ones((N,T),dtype=np.int32) #partners used to form pairs in every time step\n",
    "    partner = np.asarray(partner)\n",
    "    # print('partner')\n",
    "    # print(partner.shape)\n",
    "    # print(type(partner))\n",
    "    indi_state = np.zeros((N,T),dtype=np.int32) #stores the state of eahc individual\n",
    "    indi_state[:,0] = 1\n",
    "    # print('indi_state')\n",
    "    # print(indi_state)\n",
    "    # print(type(indi_state))\n",
    "\n",
    "    d_ini = np.zeros((N,mem_time_steps))\n",
    "    # print('d_ini')\n",
    "    # print(type(d_ini))\n",
    "    # print(d_ini.shape)\n",
    "    # print(d_ini)\n",
    "    d = 999*np.ones((N,T)) #doses\n",
    "    # print('d')\n",
    "    # print(d)\n",
    "    # print(type(d))\n",
    "    D = 999*np.ones((N,T)) #cumulative doses\n",
    "    # print('D')\n",
    "    # print(D)\n",
    "    # print(type(D))\n",
    "\n",
    "    z1 = 2*np.ones((N,T)) #stores the random numbers for deciding the dose transfer\n",
    "    z2 = 2*np.ones((N,T)) #stores the random numbers for deciding resusceptibility upon recovery\n",
    "    z3 = 2*np.ones((N,T)) #stores the random numbers for deciding immunity upon recovery\n",
    "    # print('z1')\n",
    "    # print(z1)\n",
    "    # print(type(z1))\n",
    "\n",
    "    #initial state of individuals\n",
    "    #randomly grouping into i, s or r\n",
    "\n",
    "    infec = random.sample(range(0, N), np.int32(start*N)) #radnomly infecting few individuals as initial condition\n",
    "    # np.random.shuffle(infec)\n",
    "    infec = np.asarray(infec).reshape(np.int32(start*N),1)\n",
    "    if start != 0 :\n",
    "        indi_state[infec[:,0],0] = 2\n",
    "    # print('infec')\n",
    "    # print(type(infec))\n",
    "    # print(infec)\n",
    "    # print('indi_state')\n",
    "    # print(indi_state)\n",
    "\n",
    "    phi[0,0] = np.count_nonzero(indi_state[:,0] == 2)/N\n",
    "    # print('phi')\n",
    "    # print(phi)\n",
    "\n",
    "    #implementing marc's initial condition\n",
    "    I = np.where(indi_state[:,0]==2)\n",
    "    I = np.transpose(np.asarray(I))\n",
    "    # print('I')\n",
    "    # print(type(I))\n",
    "    # print(I.shape)\n",
    "    # print(I)\n",
    "\n",
    "    if len(I) != 0 :\n",
    "        for i in range(0,len(I)) : \n",
    "            d_ini[I[i],0:] = p\n",
    "    else :\n",
    "        d_ini[:,0:] = 0\n",
    "\n",
    "    # print('d_ini')\n",
    "    # print(d_ini)\n",
    "\n",
    "    #creating the static Watts-Strogatz network\n",
    "\n",
    "    G = nx.watts_strogatz_graph(N,nn,p_rew) #no rewiring for now\n",
    "\n",
    "    # #relabelling the nodes to start with 1\n",
    "    # G = nx.convert_node_labels_to_integers(G,first_label=1,ordering='default',label_attribute=None)\n",
    "\n",
    "    #getting the nodes as a list\n",
    "    node_list = [G.nodes]\n",
    "\n",
    "    #and converting it into an array(column vector)\n",
    "\n",
    "    node_array = np.asarray(node_list).reshape(N,1)\n",
    "    # print('node_array')\n",
    "    # print(node_array)\n",
    "    # print(node_array.shape)\n",
    "    # print(type(node_array))\n",
    "\n",
    "    #obtaining the edges via the adjancency matrix\n",
    "    adj_mat = nx.adjacency_matrix(G)\n",
    "    # print('adjacency matrix')\n",
    "    # print(adj_mat.shape)\n",
    "    # print(type(adj_mat))\n",
    "    # print(adj_mat)\n",
    "\n",
    "#     nx.draw_networkx(G,pos=nx.circular_layout(G),with_labels=True,nodecolor='r',edge_color='b')\n",
    "\n",
    "    kount = 0\n",
    "    # val = np.int32(N/2)\n",
    "    for k in range(1,T): #loop for time\n",
    "    #     print('k = ',k)\n",
    "\n",
    "        for n in range(0,N): #loop for nodes\n",
    "    #         print('n = ',n)\n",
    "            partner[n,k] = np.random.randint(0,N)\n",
    "    #         print(partner[n,k])\n",
    "            z1[n,k] = np.random.uniform()\n",
    "\n",
    "            #if one is infected and the other is susceptible and they are connected \n",
    "            if (adj_mat[n,partner[n,k]] == 1) and (indi_state[n,k-1] == 1) and (indi_state[partner[n,k],k-1] == 2) :\n",
    "                if p >= z1[n,k] :\n",
    "    #                 print('postive dose to the one')\n",
    "                    d[n,k] = 1 #the one receives constant dose\n",
    "                    d[partner[n,k],k] = 0 #the other receives no dose\n",
    "                else :\n",
    "    #                 'interaction but no dose'\n",
    "                    d[n,k] = 0\n",
    "                    d[partner[n,k],k] = 0\n",
    "            #if both are infected and they are connected\n",
    "            elif (adj_mat[n,partner[n,k]] == 1) and (indi_state[n,k-1] == 2) and (indi_state[partner[n,k],k-1] == 2) :\n",
    "                if p >= z1[n,k] :\n",
    "    #                 'postive dose for both'\n",
    "                    d[n,k] = 1 #the other receives constant dose\n",
    "                    d[partner[n,k],k] = 0 #the one STILL receives NO DOSE\n",
    "                else :\n",
    "    #                 'interaction but no dose'\n",
    "                    d[n,k] = 0\n",
    "                    d[partner[n,k],k] = 0\n",
    "            else :\n",
    "    #             'no interaction at all'\n",
    "                    d[n,k] = 0\n",
    "                    d[partner[n,k],k] = 0\n",
    "\n",
    "\n",
    "    #     updating cumulative dose\n",
    "        D[:,k] = 0\n",
    "        m = k - (mem_time_steps)\n",
    "        if m > 0 :\n",
    "            D[:,k] = np.sum(d[:,m:k+1:1],1)\n",
    "        if m <= 0 :\n",
    "            while m <= 0 :\n",
    "                m = m + 1\n",
    "        D[:,k] = np.sum(d[:,m:k+1:1],1) + np.sum(d_ini[:,1:((mem_time_steps-(k-m)))+1:1],1)\n",
    "\n",
    "        for n in range(0,N):\n",
    "    #         print(n)\n",
    "    #         print(k)\n",
    "    #         if threshold is met and is susceptible\n",
    "            if (D[n,k] >= d_star[n,0]) and (indi_state[n,k-1] == 1) :\n",
    "    #             'above thresh becomes infected'\n",
    "                indi_state[n,k] = 2 #susceptible becomes infected\n",
    "            elif (D[n,k] < d_star[n,0]) and (indi_state[n,k-1] == 2) :\n",
    "    #         recovery : if drops bel threshold and is infected\n",
    "                z2[n,k] = np.random.uniform()\n",
    "                if r >= z2[n,k] :\n",
    "    #                 'below thresh'\n",
    "                    z3[n,k] = np.random.uniform()\n",
    "                    if rho >= z3[n,k] :\n",
    "    #                     'below thresh becomes susceptible'\n",
    "                        indi_state[n,k] = 1\n",
    "                    else :\n",
    "    #                     'below thresh becomes immune'\n",
    "                        indi_state[n,k] = 3\n",
    "                else :\n",
    "    #                 'below thresh stays infected'\n",
    "                    indi_state[n,k] = 2\n",
    "            else :\n",
    "    #             'retains previous state'\n",
    "                indi_state[n,k] = indi_state[n,k-1]\n",
    "\n",
    "        phi[0,k] = np.count_nonzero(indi_state[:,k] == 2)/N\n",
    "    #     kount = kount + 1\n",
    "\n",
    "    phi_star = sum(phi[0,k-100:k])/100 #obtaining average phi_star of the last 100 time steps\n",
    "    print(phi_star)\n",
    "\n",
    "    f.write(\"%f\\t%f\\n\" % (p_rew,phi_star))\n",
    "    f.flush()"
   ]
  },
  {
   "cell_type": "code",
   "execution_count": 41,
   "metadata": {},
   "outputs": [
    {
     "data": {
      "image/png": "[encoded data removed]",
      "text/plain": [
       "<Figure size 432x288 with 1 Axes>"
      ]
     },
     "metadata": {
      "needs_background": "light"
     },
     "output_type": "display_data"
    }
   ],
   "source": [
    "#printing out the necessary variables\n",
    "# print(d)\n",
    "# print(D)\n",
    "# print(z1)\n",
    "# print(phi)\n",
    "\n",
    "plt.plot(t[0,:],phi[0,:])\n",
    "plt.show()"
   ]
  },
  {
   "cell_type": "code",
   "execution_count": 2,
   "metadata": {},
   "outputs": [
    {
     "name": "stdout",
     "output_type": "stream",
     "text": [
      "2.37 µs ± 17.8 ns per loop (mean ± std. dev. of 7 runs, 100000 loops each)\n"
     ]
    }
   ],
   "source": [
    "%timeit np.random.random(100)"
   ]
  },
  {
   "cell_type": "code",
   "execution_count": 4,
   "metadata": {},
   "outputs": [],
   "source": [
    "def simpleLoop(N=1000):\n",
    "    for i in range(N):\n",
    "        \n",
    "        p=np.random.random()\n",
    "        a=np.power(p,3)\n",
    "        \n",
    "    return\n",
    "\n",
    "@jit(nopython=True)\n",
    "def numbaLoop(N=1000):\n",
    "    \n",
    "    for i in range(N):\n",
    "        \n",
    "        p=np.random.random()\n",
    "        a=np.power(p,3)\n",
    "        \n",
    "    return"
   ]
  },
  {
   "cell_type": "code",
   "execution_count": 5,
   "metadata": {},
   "outputs": [
    {
     "name": "stdout",
     "output_type": "stream",
     "text": [
      "3.54 ms ± 28.9 µs per loop (mean ± std. dev. of 7 runs, 100 loops each)\n"
     ]
    }
   ],
   "source": [
    "timeit simpleLoop()"
   ]
  },
  {
   "cell_type": "code",
   "execution_count": 15,
   "metadata": {},
   "outputs": [
    {
     "name": "stdout",
     "output_type": "stream",
     "text": [
      "15.4 µs ± 91.3 ns per loop (mean ± std. dev. of 7 runs, 100000 loops each)\n"
     ]
    }
   ],
   "source": [
    "%timeit numbaLoop()"
   ]
  },
  {
   "cell_type": "code",
   "execution_count": 16,
   "metadata": {},
   "outputs": [
    {
     "data": {
      "text/plain": [
       "200.00000000000003"
      ]
     },
     "execution_count": 16,
     "metadata": {},
     "output_type": "execute_result"
    }
   ],
   "source": [
    "3*10**(-3)/(15*10**(-6))"
   ]
  },
  {
   "cell_type": "code",
   "execution_count": null,
   "metadata": {},
   "outputs": [],
   "source": []
  }
 ],
 "metadata": {
  "kernelspec": {
   "display_name": "Python 3",
   "language": "python",
   "name": "python3"
  },
  "language_info": {
   "codemirror_mode": {
    "name": "ipython",
    "version": 3
   },
   "file_extension": ".py",
   "mimetype": "text/x-python",
   "name": "python",
   "nbconvert_exporter": "python",
   "pygments_lexer": "ipython3",
   "version": "3.7.1"
  }
 },
 "nbformat": 4,
 "nbformat_minor": 2
}
