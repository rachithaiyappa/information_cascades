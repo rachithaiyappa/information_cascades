{
 "cells": [
  {
   "cell_type": "markdown",
   "metadata": {},
   "source": [
    "## Leaky integrated firing neuron model  \n",
    "## Few feautures :\n",
    "### Spatial network, no memory term but exponential decay of cumulative dose\n",
    "\n",
    "This is a minor change of the Dodds and Watts model  \n",
    "Implement adaptive rewiring and generate statistics"
   ]
  },
  {
   "cell_type": "code",
   "execution_count": 1,
   "metadata": {},
   "outputs": [
    {
     "name": "stdout",
     "output_type": "stream",
     "text": [
      "The history saving thread hit an unexpected error (OperationalError('disk I/O error')).History will not be written to the database.\n"
     ]
    }
   ],
   "source": [
    "#importing the required libraries\n",
    "\n",
    "import networkx as nx\n",
    "import matplotlib.pyplot as plt #for plotting\n",
    "import numpy as np #for using arrays and vectorising the code wherever possible\n",
    "import scipy\n",
    "import random\n",
    "# from numba import jit #numba precomplier to make the code faster\n",
    "import pandas as pd\n",
    "import copy"
   ]
  },
  {
   "cell_type": "markdown",
   "metadata": {},
   "source": [
    "# Variables used in the simulation"
   ]
  },
  {
   "cell_type": "code",
   "execution_count": 2,
   "metadata": {},
   "outputs": [],
   "source": [
    "N = 100\n",
    "gamma = 1 #decay of cumulative dose per unit time (second)\n",
    "T = 100 #total number of seconds\n",
    "dt = 0.05 #seconds\n",
    "'''number of simulation steps is T/dt'''\n",
    "\n",
    "'''Dodds watts parameters'''\n",
    "p = 1 #rate of dose transfer (per unit time (second))\n",
    "p = p*dt #rate of dose transfer per unit simulation step\n",
    "r = 1/dt\n",
    "r = r*dt\n",
    "rho = 1/dt\n",
    "rho = rho*dt\n",
    "# r = 0.5\n",
    "# r = r*dt\n",
    "\n",
    "d_star = 1\n",
    "# dose_quantity = 1\n",
    "D_ini = 3\n",
    "\n",
    "'''network parameters'''\n",
    "circ_rad = 100 #for a network in which each node is connected to other nodes withing a circle of radius circ_rad\n",
    "nn = 7 #the number of nearest neighbours(i.e. k) in knn\n",
    "average_degree = 6\n",
    "total_edges = N*2\n",
    "\n",
    "'''rewiring parameters'''\n",
    "w_minus = 1\n",
    "w_minus = w_minus*dt\n",
    "# p_rew = 5 #rate of rewiring(per unit time(second))\n",
    "# p_rew = p_rew*dt"
   ]
  },
  {
   "cell_type": "markdown",
   "metadata": {},
   "source": [
    "# Creating the network. \n",
    "### The network outputs coordinates, distance matrix, edge_list and adjacency matrix"
   ]
  },
  {
   "cell_type": "code",
   "execution_count": 3,
   "metadata": {},
   "outputs": [],
   "source": [
    "'''\n",
    "obtains the number of nodes N\n",
    "generates N points\n",
    "calculates euclidean distance between each pair of points\n",
    "returns the coordinates of the points and the distance matrix which is N*N\n",
    "'''\n",
    "def calc_dist(N) :\n",
    "    coords = []\n",
    "    for counter in range(N) :\n",
    "        coords.append((N*np.random.random(),N*np.random.random()))\n",
    "\n",
    "    dist_mat = scipy.spatial.distance.cdist(coords,coords)\n",
    "    return dist_mat,coords"
   ]
  },
  {
   "cell_type": "markdown",
   "metadata": {},
   "source": [
    "### 1. metric network"
   ]
  },
  {
   "cell_type": "code",
   "execution_count": 4,
   "metadata": {},
   "outputs": [],
   "source": [
    "'''network = connect to points withing a circle of radius'''\n",
    "#creates a link between points/nodes which satisfies the conditions of the network\n",
    "def coupling(dist_mat,circ_rad) :\n",
    "    edge_list = []\n",
    "    edge_mask = (dist_mat<circ_rad) & (dist_mat>0)\n",
    "    edge_list.extend(np.ndarray.tolist(np.transpose(np.where(edge_mask))))\n",
    "#     print(type(np.ndarray.tolist(np.transpose(np.where(edge_mask)))))\n",
    "    return edge_list"
   ]
  },
  {
   "cell_type": "markdown",
   "metadata": {},
   "source": [
    "### 2. K nearest neighbour network"
   ]
  },
  {
   "cell_type": "code",
   "execution_count": 5,
   "metadata": {},
   "outputs": [],
   "source": [
    "'''network = knn'''\n",
    "def knn(dist_mat,nn,N) :\n",
    "    near_neigh = np.argsort(dist_mat)\n",
    "    selec_near_neigh = np.zeros((N,nn))\n",
    "    selec_near_neigh = near_neigh[:,0:nn+1]\n",
    "\n",
    "    edge_list = []\n",
    "    for i in range(N) :\n",
    "        for j in range(1,nn+1) :\n",
    "            link = [i,selec_near_neigh[i,j]]\n",
    "            edge_list.append(link)\n",
    "\n",
    "    return edge_list"
   ]
  },
  {
   "cell_type": "markdown",
   "metadata": {},
   "source": [
    "### 3. Random Network : GNP type"
   ]
  },
  {
   "cell_type": "code",
   "execution_count": 6,
   "metadata": {},
   "outputs": [],
   "source": [
    "'''random network'''\n",
    "def rand_network(average_degree,N) :\n",
    "    z1 = np.random.uniform(size = (N,N))\n",
    "    E,F = np.meshgrid(np.arange(0,N),np.arange(0,N))\n",
    "    mask = ((average_degree/N) > z1) & (E!=F)\n",
    "    adjacency_matrix = np.int64(np.zeros(shape=(N,N)))\n",
    "    adjacency_matrix[mask] = np.int64(1)\n",
    "    edge_list = []\n",
    "    edge_list.extend(np.ndarray.tolist(np.transpose(np.where(adjacency_matrix==1))))\n",
    "    return edge_list,adjacency_matrix"
   ]
  },
  {
   "cell_type": "markdown",
   "metadata": {},
   "source": [
    "### 4. Random Network : GNM type"
   ]
  },
  {
   "cell_type": "code",
   "execution_count": 7,
   "metadata": {},
   "outputs": [],
   "source": [
    "def rand_net_gnm(total_edges,N) :\n",
    "    the_graph = nx.gnm_random_graph(N, total_edges,directed=True)\n",
    "    adjacency_matrix = nx.adjacency_matrix(the_graph)\n",
    "    adjacency_matrix = np.asarray(adjacency_matrix.todense())\n",
    "    np.fill_diagonal(adjacency_matrix,0)\n",
    "    edge_list = []\n",
    "    edge_list.extend(np.ndarray.tolist(np.transpose(np.where(adjacency_matrix==1))))\n",
    "    return edge_list"
   ]
  },
  {
   "cell_type": "markdown",
   "metadata": {},
   "source": [
    "# Function defintions required for the main part of the script"
   ]
  },
  {
   "cell_type": "code",
   "execution_count": 8,
   "metadata": {},
   "outputs": [],
   "source": [
    "# # @jit(nopython=True)\n",
    "# '''infecting the left part of space.'''\n",
    "# def left_part_infec(N) :\n",
    "#     x_coord = []\n",
    "#     y_coord = []\n",
    "#     for j in range(len(coords)) :\n",
    "#         x_coord.append(coords[j][0])\n",
    "#         y_coord.append(coords[j][1])\n",
    "#     x_coord = np.asarray(x_coord)\n",
    "#     y_coord = np.asarray(y_coord)\n",
    "#     points = np.asarray(np.where(x_coord<(N/5))) \n",
    "#     indi_state[points.T] = 2\n",
    "\n",
    "#     return indi_state"
   ]
  },
  {
   "cell_type": "code",
   "execution_count": 9,
   "metadata": {},
   "outputs": [],
   "source": [
    "'''infecting connected nodes'''\n",
    "def InfectNetworkNeighbors(net,seed_node,init_infected_nodes):\n",
    "     # if in bulk find one node randomly, and infect its neighbours\n",
    "    infected_nodes = set()\n",
    "    candidate_nodes = set()\n",
    "    explored_nodes = set()\n",
    "\n",
    "    #pick the seed node\n",
    "    infected_nodes.add(seed_node)\n",
    "    explored_nodes.add(seed_node)\n",
    "\n",
    "    curr_node=seed_node\n",
    "\n",
    "    #add its neighbors to the list of candidates\n",
    "    for n in net.neighbors(curr_node):\n",
    "        candidate_nodes.add(int(n))\n",
    "    #print( curr_node)\n",
    "    #print( candidate_nodes)\n",
    "\n",
    "    #while we need to select more nodes...\n",
    "    while len(infected_nodes) < init_infected_nodes:\n",
    "\n",
    "        #if there are candidate nodes, select one of them\n",
    "        if(len(candidate_nodes) > 0):\n",
    "            new_node = np.random.choice(list(candidate_nodes),1)[0]\n",
    "            infected_nodes.add(new_node)\n",
    "            candidate_nodes.remove(new_node)\n",
    "\n",
    "        elif len(infected_nodes - explored_nodes) > 0:\n",
    "            curr_node = np.random.choice(list(infected_nodes -\n",
    "            explored_nodes),1)[0]\n",
    "            explored_nodes.add(curr_node)\n",
    "            for n in set(net.neighbors(curr_node)) - infected_nodes:\n",
    "                candidate_nodes.add(n)\n",
    "\n",
    "        else:\n",
    "            print('Initial node infection step failed')\n",
    "            return None\n",
    "    return infected_nodes"
   ]
  },
  {
   "cell_type": "code",
   "execution_count": 10,
   "metadata": {},
   "outputs": [],
   "source": [
    "''' function to transfer doses'''\n",
    "# @jit(nopython=True)\n",
    "def dose(adj_mat,p,partner_state_prev,d) :\n",
    "\n",
    "    z1 = np.random.uniform(size=(len(adj_mat),len(adj_mat[0])))\n",
    "    \n",
    "    dose_transfer_mask = p > z1\n",
    "    mod_adj_mat = np.multiply(adj_mat,z1) #modifying adjacency matrix to include the proability of dose transfer\n",
    "    dose_mask = (p>mod_adj_mat) & (adj_mat!=0) & (partner_state_prev == 2)\n",
    "    d[dose_mask] = dose_quantity #whenever it is proabable, dose transfer occurs\n",
    "    \n",
    "    return d"
   ]
  },
  {
   "cell_type": "code",
   "execution_count": 11,
   "metadata": {},
   "outputs": [],
   "source": [
    "'''rewiring function which returns a new adjacency matrix'''\n",
    "\n",
    "def rew(p_rew,adjacency_matrix,indi_state_for_rew_prev,OD_mesh2,lamb_da) :\n",
    "    \n",
    "    z1_plus = np.random.uniform(size=(len(adj_mat),len(adj_mat[0])))\n",
    "    z1_minus = np.random.uniform(size=(len(adj_mat),len(adj_mat[0])))\n",
    "    rew_mask_plus = (p_rew > z1_plus)  & (indi_state_for_rew_prev == 1)\n",
    "    #create links. Dont break any.\n",
    "    adjacency_matrix[rew_mask_plus] = 1\n",
    "    rew_mask_minus = ((w_minus+lamb_da*OD_mesh2) > z1_minus) & (indi_state_for_rew_prev == 2)\n",
    "    #break links. Dont create any.\n",
    "    adjacency_matrix[rew_mask_minus] = 0\n",
    "    rew_mask_minus2 = (lamb_da*OD_mesh2 > z1_minus) & (indi_state_for_rew_prev == 1)\n",
    "    adjacency_matrix[rew_mask_minus2] = 0\n",
    "    \n",
    "    np.fill_diagonal(adjacency_matrix,0)\n",
    "    \n",
    "    return adjacency_matrix"
   ]
  },
  {
   "cell_type": "code",
   "execution_count": 13,
   "metadata": {},
   "outputs": [],
   "source": [
    "'''function to update cumulative doses'''\n",
    "def cumu_dose(d,D_prev,gamma) :\n",
    "    I = d.sum(axis=1).reshape(N,1)\n",
    "#     I = 0\n",
    "    D = (D_prev - (gamma*D_prev*dt)) + I\n",
    "    return D"
   ]
  },
  {
   "cell_type": "code",
   "execution_count": 14,
   "metadata": {},
   "outputs": [],
   "source": [
    "'''function to update the states of the nodes of the system'''\n",
    "def upd_indi_state(D,d_star,indi_state_prev) :\n",
    "    \n",
    "    z2 = np.random.uniform(size=(N,1))\n",
    "    z3 = np.random.uniform(size=(N,1))\n",
    "    \n",
    "    indi_state = indi_state_prev\n",
    "    \n",
    "    indi_state_mask1 = (D>=d_star) & (indi_state_prev==1)\n",
    "    indi_state[indi_state_mask1] = 2\n",
    "    \n",
    "    indi_state_mask21 = (D<d_star) & (indi_state_prev==2) & (r>=z2) & (rho>=z3)\n",
    "    indi_state[indi_state_mask21] = 1\n",
    "    \n",
    "    indi_state_mask22 = (D<d_star) & (indi_state_prev==2) & (r>=z2) & (rho<z3)\n",
    "    indi_state[indi_state_mask22] = 3\n",
    "    \n",
    "    indi_state_mask23 = (D<d_star) & (indi_state_prev==2) & (r<z2)\n",
    "    indi_state[indi_state_mask23] = 2\n",
    "    \n",
    "    return indi_state"
   ]
  },
  {
   "cell_type": "code",
   "execution_count": 15,
   "metadata": {},
   "outputs": [],
   "source": [
    "'''function to get/identify the infected nodes and the suceptible nodes'''\n",
    "def states(indi_state) :\n",
    "    infec_indi = []\n",
    "    suscep_indi = []\n",
    "    infec_indi = np.transpose(np.where(indi_state==2))\n",
    "    suscep_indi = np.transpose(np.where(indi_state==1))\n",
    "    return infec_indi,suscep_indi"
   ]
  },
  {
   "cell_type": "code",
   "execution_count": 16,
   "metadata": {},
   "outputs": [],
   "source": [
    "def networkx_graph(coords,edge_list) :\n",
    "    G = nx.DiGraph()\n",
    "    pos = {(i): (coords[i][0],coords[i][1]) for i in range(N)}\n",
    "    G.add_nodes_from(pos.keys())\n",
    "    G.add_edges_from(edge_list)\n",
    "    return G"
   ]
  },
  {
   "cell_type": "code",
   "execution_count": 17,
   "metadata": {},
   "outputs": [],
   "source": [
    "def edge_from_adj_mat(adj_mat_list,q):\n",
    "    edge_list = []\n",
    "    edge_list.extend(np.ndarray.tolist(np.transpose(np.where(adj_mat_list[q]==1))))\n",
    "    return edge_list"
   ]
  },
  {
   "cell_type": "markdown",
   "metadata": {},
   "source": [
    "# Choose which network you want in the program\n",
    "### Coupling network of knn network?"
   ]
  },
  {
   "cell_type": "code",
   "execution_count": 18,
   "metadata": {},
   "outputs": [],
   "source": [
    "'''returns coordinates, distance matrix, edge_list and the adjacency matrix'''\n",
    "\n",
    "dist_mat,coords = calc_dist(N) #node placement\n",
    "\n",
    "# edge_list = coupling(dist_mat,circ_rad)\n",
    "# edge_list = knn(dist_mat,nn,N)\n",
    "# edge_list = rand_network(average_degree,N)\n",
    "edge_list = rand_net_gnm(total_edges,N)\n",
    "\n",
    "org_adj_mat = np.int64(np.zeros((N,N)))\n",
    "for i in range(len(edge_list)):\n",
    "    org_adj_mat[edge_list[i][0],edge_list[i][1]] = np.int64(1)"
   ]
  },
  {
   "cell_type": "markdown",
   "metadata": {},
   "source": [
    "# The main part of the script"
   ]
  },
  {
   "cell_type": "code",
   "execution_count": null,
   "metadata": {},
   "outputs": [],
   "source": [
    "#infected state time series data frame\n",
    "#columns indicate the time steps\n",
    "timeseries_infec_frac = pd.DataFrame()\n",
    "\n",
    "#in degree as columns and rows as nodes\n",
    "timeseries_in_degree = pd.DataFrame() \n",
    "\n",
    "#out degree as columns and rows as nodes\n",
    "timeseries_out_degree = pd.DataFrame()\n",
    "\n",
    "#strongly connected components as columns\n",
    "timeseries_connec_comps = pd.DataFrame()"
   ]
  },
  {
   "cell_type": "code",
   "execution_count": null,
   "metadata": {},
   "outputs": [],
   "source": [
    "p_rew_vals = [0.01,0.1,1,10]\n",
    "start_vals = [1,10]\n",
    "dose_quantity_vals = [0.1,2]"
   ]
  },
  {
   "cell_type": "code",
   "execution_count": null,
   "metadata": {},
   "outputs": [
    {
     "name": "stdout",
     "output_type": "stream",
     "text": [
      "(sim,lamb_da,p_rew,w_minus,start,dose_quantity) =  (70, 0.001, 0.01, 1.0, 1, 0.1)\n",
      "{11}\n",
      "sim_70_p_rew_0.01_start_1_dq_0.1\n"
     ]
    },
    {
     "name": "stderr",
     "output_type": "stream",
     "text": [
      "/home/aiyappa/anaconda3/lib/python3.7/site-packages/tables/path.py:112: NaturalNameWarning: object name is not a valid Python identifier: 'sim_70_p_rew_0.01_start_1_dq_0.1'; it does not match the pattern ``^[a-zA-Z_][a-zA-Z0-9_]*$``; you will not be able to use natural naming to access this object; using ``getattr()`` will still work, though\n",
      "  NaturalNameWarning)\n"
     ]
    },
    {
     "name": "stdout",
     "output_type": "stream",
     "text": [
      "(sim,lamb_da,p_rew,w_minus,start,dose_quantity) =  (70, 0.001, 0.01, 1.0, 1, 2)\n",
      "{92}\n",
      "sim_70_p_rew_0.01_start_1_dq_2\n",
      "(sim,lamb_da,p_rew,w_minus,start,dose_quantity) =  (70, 0.001, 0.01, 1.0, 10, 0.1)\n",
      "{35, 42, 76, 15, 79, 83, 52, 84, 23, 25}\n"
     ]
    },
    {
     "name": "stderr",
     "output_type": "stream",
     "text": [
      "/home/aiyappa/anaconda3/lib/python3.7/site-packages/tables/path.py:112: NaturalNameWarning: object name is not a valid Python identifier: 'sim_70_p_rew_0.01_start_1_dq_2'; it does not match the pattern ``^[a-zA-Z_][a-zA-Z0-9_]*$``; you will not be able to use natural naming to access this object; using ``getattr()`` will still work, though\n",
      "  NaturalNameWarning)\n"
     ]
    },
    {
     "name": "stdout",
     "output_type": "stream",
     "text": [
      "sim_70_p_rew_0.01_start_10_dq_0.1\n",
      "(sim,lamb_da,p_rew,w_minus,start,dose_quantity) =  (70, 0.001, 0.01, 1.0, 10, 2)\n",
      "{96, 66, 37, 42, 18, 84, 21, 23, 55, 25}\n"
     ]
    },
    {
     "name": "stderr",
     "output_type": "stream",
     "text": [
      "/home/aiyappa/anaconda3/lib/python3.7/site-packages/tables/path.py:112: NaturalNameWarning: object name is not a valid Python identifier: 'sim_70_p_rew_0.01_start_10_dq_0.1'; it does not match the pattern ``^[a-zA-Z_][a-zA-Z0-9_]*$``; you will not be able to use natural naming to access this object; using ``getattr()`` will still work, though\n",
      "  NaturalNameWarning)\n"
     ]
    },
    {
     "name": "stdout",
     "output_type": "stream",
     "text": [
      "sim_70_p_rew_0.01_start_10_dq_2\n",
      "(sim,lamb_da,p_rew,w_minus,start,dose_quantity) =  (70, 0.01, 0.10000000000000002, 1.0, 1, 0.1)\n",
      "{87}\n"
     ]
    },
    {
     "name": "stderr",
     "output_type": "stream",
     "text": [
      "/home/aiyappa/anaconda3/lib/python3.7/site-packages/tables/path.py:112: NaturalNameWarning: object name is not a valid Python identifier: 'sim_70_p_rew_0.01_start_10_dq_2'; it does not match the pattern ``^[a-zA-Z_][a-zA-Z0-9_]*$``; you will not be able to use natural naming to access this object; using ``getattr()`` will still work, though\n",
      "  NaturalNameWarning)\n"
     ]
    },
    {
     "name": "stdout",
     "output_type": "stream",
     "text": [
      "sim_70_p_rew_0.1_start_1_dq_0.1\n",
      "(sim,lamb_da,p_rew,w_minus,start,dose_quantity) =  (70, 0.01, 0.10000000000000002, 1.0, 1, 2)\n",
      "{49}\n"
     ]
    },
    {
     "name": "stderr",
     "output_type": "stream",
     "text": [
      "/home/aiyappa/anaconda3/lib/python3.7/site-packages/tables/path.py:112: NaturalNameWarning: object name is not a valid Python identifier: 'sim_70_p_rew_0.1_start_1_dq_0.1'; it does not match the pattern ``^[a-zA-Z_][a-zA-Z0-9_]*$``; you will not be able to use natural naming to access this object; using ``getattr()`` will still work, though\n",
      "  NaturalNameWarning)\n"
     ]
    },
    {
     "name": "stdout",
     "output_type": "stream",
     "text": [
      "sim_70_p_rew_0.1_start_1_dq_2\n",
      "(sim,lamb_da,p_rew,w_minus,start,dose_quantity) =  (70, 0.01, 0.10000000000000002, 1.0, 10, 0.1)\n",
      "{32, 35, 68, 42, 76, 80, 88, 59, 31, 63}\n"
     ]
    },
    {
     "name": "stderr",
     "output_type": "stream",
     "text": [
      "/home/aiyappa/anaconda3/lib/python3.7/site-packages/tables/path.py:112: NaturalNameWarning: object name is not a valid Python identifier: 'sim_70_p_rew_0.1_start_1_dq_2'; it does not match the pattern ``^[a-zA-Z_][a-zA-Z0-9_]*$``; you will not be able to use natural naming to access this object; using ``getattr()`` will still work, though\n",
      "  NaturalNameWarning)\n"
     ]
    },
    {
     "name": "stdout",
     "output_type": "stream",
     "text": [
      "sim_70_p_rew_0.1_start_10_dq_0.1\n",
      "(sim,lamb_da,p_rew,w_minus,start,dose_quantity) =  (70, 0.01, 0.10000000000000002, 1.0, 10, 2)\n"
     ]
    },
    {
     "name": "stderr",
     "output_type": "stream",
     "text": [
      "/home/aiyappa/anaconda3/lib/python3.7/site-packages/tables/path.py:112: NaturalNameWarning: object name is not a valid Python identifier: 'sim_70_p_rew_0.1_start_10_dq_0.1'; it does not match the pattern ``^[a-zA-Z_][a-zA-Z0-9_]*$``; you will not be able to use natural naming to access this object; using ``getattr()`` will still work, though\n",
      "  NaturalNameWarning)\n"
     ]
    },
    {
     "name": "stdout",
     "output_type": "stream",
     "text": [
      "{32, 9, 74, 59, 11, 78, 50, 24, 88, 94}\n",
      "sim_70_p_rew_0.1_start_10_dq_2\n",
      "(sim,lamb_da,p_rew,w_minus,start,dose_quantity) =  (70, 0.10000000000000002, 1.0, 1.0, 1, 0.1)\n",
      "{76}\n"
     ]
    },
    {
     "name": "stderr",
     "output_type": "stream",
     "text": [
      "/home/aiyappa/anaconda3/lib/python3.7/site-packages/tables/path.py:112: NaturalNameWarning: object name is not a valid Python identifier: 'sim_70_p_rew_0.1_start_10_dq_2'; it does not match the pattern ``^[a-zA-Z_][a-zA-Z0-9_]*$``; you will not be able to use natural naming to access this object; using ``getattr()`` will still work, though\n",
      "  NaturalNameWarning)\n"
     ]
    },
    {
     "name": "stdout",
     "output_type": "stream",
     "text": [
      "sim_70_p_rew_1_start_1_dq_0.1\n",
      "(sim,lamb_da,p_rew,w_minus,start,dose_quantity) =  (70, 0.10000000000000002, 1.0, 1.0, 1, 2)\n",
      "{11}\n"
     ]
    },
    {
     "name": "stderr",
     "output_type": "stream",
     "text": [
      "/home/aiyappa/anaconda3/lib/python3.7/site-packages/tables/path.py:112: NaturalNameWarning: object name is not a valid Python identifier: 'sim_70_p_rew_1_start_1_dq_0.1'; it does not match the pattern ``^[a-zA-Z_][a-zA-Z0-9_]*$``; you will not be able to use natural naming to access this object; using ``getattr()`` will still work, though\n",
      "  NaturalNameWarning)\n"
     ]
    },
    {
     "name": "stdout",
     "output_type": "stream",
     "text": [
      "sim_70_p_rew_1_start_1_dq_2\n",
      "(sim,lamb_da,p_rew,w_minus,start,dose_quantity) =  (70, 0.10000000000000002, 1.0, 1.0, 10, 0.1)\n",
      "{0, 2, 67, 70, 39, 13, 83, 20, 88, 89}\n",
      "sim_70_p_rew_1_start_10_dq_0.1\n",
      "(sim,lamb_da,p_rew,w_minus,start,dose_quantity) =  (70, 0.10000000000000002, 1.0, 1.0, 10, 2)\n",
      "{64, 34, 98, 39, 77, 81, 18, 23, 89, 28}\n"
     ]
    },
    {
     "name": "stderr",
     "output_type": "stream",
     "text": [
      "/home/aiyappa/anaconda3/lib/python3.7/site-packages/tables/path.py:112: NaturalNameWarning: object name is not a valid Python identifier: 'sim_70_p_rew_1_start_10_dq_0.1'; it does not match the pattern ``^[a-zA-Z_][a-zA-Z0-9_]*$``; you will not be able to use natural naming to access this object; using ``getattr()`` will still work, though\n",
      "  NaturalNameWarning)\n"
     ]
    },
    {
     "name": "stdout",
     "output_type": "stream",
     "text": [
      "sim_70_p_rew_1_start_10_dq_2\n",
      "(sim,lamb_da,p_rew,w_minus,start,dose_quantity) =  (70, 1.0, 10.0, 1.0, 1, 0.1)\n",
      "{0}\n",
      "sim_70_p_rew_10_start_1_dq_0.1\n",
      "(sim,lamb_da,p_rew,w_minus,start,dose_quantity) =  (70, 1.0, 10.0, 1.0, 1, 2)\n"
     ]
    },
    {
     "name": "stderr",
     "output_type": "stream",
     "text": [
      "/home/aiyappa/anaconda3/lib/python3.7/site-packages/tables/path.py:112: NaturalNameWarning: object name is not a valid Python identifier: 'sim_70_p_rew_10_start_1_dq_0.1'; it does not match the pattern ``^[a-zA-Z_][a-zA-Z0-9_]*$``; you will not be able to use natural naming to access this object; using ``getattr()`` will still work, though\n",
      "  NaturalNameWarning)\n"
     ]
    },
    {
     "name": "stdout",
     "output_type": "stream",
     "text": [
      "{47}\n",
      "sim_70_p_rew_10_start_1_dq_2\n",
      "(sim,lamb_da,p_rew,w_minus,start,dose_quantity) =  (70, 1.0, 10.0, 1.0, 10, 0.1)\n",
      "Initial node infection step failed\n",
      "None\n",
      "Initial node infection step failed\n",
      "None\n",
      "Initial node infection step failed\n",
      "None\n",
      "Initial node infection step failed\n",
      "None\n",
      "Initial node infection step failed\n",
      "None\n",
      "Initial node infection step failed\n",
      "None\n",
      "Initial node infection step failed\n",
      "None\n",
      "Initial node infection step failed\n",
      "None\n",
      "Initial node infection step failed\n",
      "None\n",
      "Initial node infection step failed\n",
      "None\n",
      "Initial node infection step failed\n",
      "None\n",
      "Initial node infection step failed\n",
      "None\n",
      "Initial node infection step failed\n",
      "None\n",
      "{33, 66, 99, 35, 3, 72, 79, 18, 87, 61}\n",
      "sim_70_p_rew_10_start_10_dq_0.1\n",
      "(sim,lamb_da,p_rew,w_minus,start,dose_quantity) =  (70, 1.0, 10.0, 1.0, 10, 2)\n",
      "{66, 99, 35, 38, 39, 55, 88, 89, 58, 60}\n"
     ]
    },
    {
     "name": "stderr",
     "output_type": "stream",
     "text": [
      "/home/aiyappa/anaconda3/lib/python3.7/site-packages/tables/path.py:112: NaturalNameWarning: object name is not a valid Python identifier: 'sim_70_p_rew_10_start_10_dq_0.1'; it does not match the pattern ``^[a-zA-Z_][a-zA-Z0-9_]*$``; you will not be able to use natural naming to access this object; using ``getattr()`` will still work, though\n",
      "  NaturalNameWarning)\n"
     ]
    },
    {
     "name": "stdout",
     "output_type": "stream",
     "text": [
      "sim_70_p_rew_10_start_10_dq_2\n",
      "(sim,lamb_da,p_rew,w_minus,start,dose_quantity) =  (71, 0.001, 0.01, 1.0, 1, 0.1)\n",
      "{5}\n",
      "sim_71_p_rew_0.01_start_1_dq_0.1\n",
      "(sim,lamb_da,p_rew,w_minus,start,dose_quantity) =  (71, 0.001, 0.01, 1.0, 1, 2)\n"
     ]
    },
    {
     "name": "stderr",
     "output_type": "stream",
     "text": [
      "/home/aiyappa/anaconda3/lib/python3.7/site-packages/tables/path.py:112: NaturalNameWarning: object name is not a valid Python identifier: 'sim_71_p_rew_0.01_start_1_dq_0.1'; it does not match the pattern ``^[a-zA-Z_][a-zA-Z0-9_]*$``; you will not be able to use natural naming to access this object; using ``getattr()`` will still work, though\n",
      "  NaturalNameWarning)\n"
     ]
    },
    {
     "name": "stdout",
     "output_type": "stream",
     "text": [
      "{11}\n",
      "sim_71_p_rew_0.01_start_1_dq_2\n"
     ]
    },
    {
     "name": "stderr",
     "output_type": "stream",
     "text": [
      "/home/aiyappa/anaconda3/lib/python3.7/site-packages/tables/path.py:112: NaturalNameWarning: object name is not a valid Python identifier: 'sim_71_p_rew_0.01_start_1_dq_2'; it does not match the pattern ``^[a-zA-Z_][a-zA-Z0-9_]*$``; you will not be able to use natural naming to access this object; using ``getattr()`` will still work, though\n",
      "  NaturalNameWarning)\n"
     ]
    },
    {
     "name": "stdout",
     "output_type": "stream",
     "text": [
      "(sim,lamb_da,p_rew,w_minus,start,dose_quantity) =  (71, 0.001, 0.01, 1.0, 10, 0.1)\n",
      "{33, 36, 38, 42, 44, 52, 22, 55, 59, 60}\n",
      "sim_71_p_rew_0.01_start_10_dq_0.1\n"
     ]
    },
    {
     "name": "stderr",
     "output_type": "stream",
     "text": [
      "/home/aiyappa/anaconda3/lib/python3.7/site-packages/tables/path.py:112: NaturalNameWarning: object name is not a valid Python identifier: 'sim_71_p_rew_0.01_start_10_dq_0.1'; it does not match the pattern ``^[a-zA-Z_][a-zA-Z0-9_]*$``; you will not be able to use natural naming to access this object; using ``getattr()`` will still work, though\n",
      "  NaturalNameWarning)\n"
     ]
    },
    {
     "name": "stdout",
     "output_type": "stream",
     "text": [
      "(sim,lamb_da,p_rew,w_minus,start,dose_quantity) =  (71, 0.001, 0.01, 1.0, 10, 2)\n",
      "{33, 69, 14, 29, 19, 83, 51, 89, 91, 61}\n",
      "sim_71_p_rew_0.01_start_10_dq_2\n"
     ]
    },
    {
     "name": "stderr",
     "output_type": "stream",
     "text": [
      "/home/aiyappa/anaconda3/lib/python3.7/site-packages/tables/path.py:112: NaturalNameWarning: object name is not a valid Python identifier: 'sim_71_p_rew_0.01_start_10_dq_2'; it does not match the pattern ``^[a-zA-Z_][a-zA-Z0-9_]*$``; you will not be able to use natural naming to access this object; using ``getattr()`` will still work, though\n",
      "  NaturalNameWarning)\n"
     ]
    },
    {
     "name": "stdout",
     "output_type": "stream",
     "text": [
      "(sim,lamb_da,p_rew,w_minus,start,dose_quantity) =  (71, 0.01, 0.10000000000000002, 1.0, 1, 0.1)\n",
      "{94}\n",
      "sim_71_p_rew_0.1_start_1_dq_0.1\n"
     ]
    },
    {
     "name": "stderr",
     "output_type": "stream",
     "text": [
      "/home/aiyappa/anaconda3/lib/python3.7/site-packages/tables/path.py:112: NaturalNameWarning: object name is not a valid Python identifier: 'sim_71_p_rew_0.1_start_1_dq_0.1'; it does not match the pattern ``^[a-zA-Z_][a-zA-Z0-9_]*$``; you will not be able to use natural naming to access this object; using ``getattr()`` will still work, though\n",
      "  NaturalNameWarning)\n"
     ]
    },
    {
     "name": "stdout",
     "output_type": "stream",
     "text": [
      "(sim,lamb_da,p_rew,w_minus,start,dose_quantity) =  (71, 0.01, 0.10000000000000002, 1.0, 1, 2)\n",
      "{92}\n",
      "sim_71_p_rew_0.1_start_1_dq_2\n"
     ]
    },
    {
     "name": "stderr",
     "output_type": "stream",
     "text": [
      "/home/aiyappa/anaconda3/lib/python3.7/site-packages/tables/path.py:112: NaturalNameWarning: object name is not a valid Python identifier: 'sim_71_p_rew_0.1_start_1_dq_2'; it does not match the pattern ``^[a-zA-Z_][a-zA-Z0-9_]*$``; you will not be able to use natural naming to access this object; using ``getattr()`` will still work, though\n",
      "  NaturalNameWarning)\n"
     ]
    },
    {
     "name": "stdout",
     "output_type": "stream",
     "text": [
      "(sim,lamb_da,p_rew,w_minus,start,dose_quantity) =  (71, 0.01, 0.10000000000000002, 1.0, 10, 0.1)\n",
      "Initial node infection step failed\n",
      "None\n",
      "Initial node infection step failed\n",
      "None\n",
      "Initial node infection step failed\n",
      "None\n",
      "Initial node infection step failed\n",
      "None\n",
      "{5, 71, 42, 11, 22, 87, 88, 86, 93, 94}\n",
      "sim_71_p_rew_0.1_start_10_dq_0.1\n"
     ]
    },
    {
     "name": "stderr",
     "output_type": "stream",
     "text": [
      "/home/aiyappa/anaconda3/lib/python3.7/site-packages/tables/path.py:112: NaturalNameWarning: object name is not a valid Python identifier: 'sim_71_p_rew_0.1_start_10_dq_0.1'; it does not match the pattern ``^[a-zA-Z_][a-zA-Z0-9_]*$``; you will not be able to use natural naming to access this object; using ``getattr()`` will still work, though\n",
      "  NaturalNameWarning)\n"
     ]
    },
    {
     "name": "stdout",
     "output_type": "stream",
     "text": [
      "(sim,lamb_da,p_rew,w_minus,start,dose_quantity) =  (71, 0.01, 0.10000000000000002, 1.0, 10, 2)\n",
      "{36, 70, 11, 12, 77, 48, 82, 53, 60, 63}\n",
      "sim_71_p_rew_0.1_start_10_dq_2\n"
     ]
    },
    {
     "name": "stderr",
     "output_type": "stream",
     "text": [
      "/home/aiyappa/anaconda3/lib/python3.7/site-packages/tables/path.py:112: NaturalNameWarning: object name is not a valid Python identifier: 'sim_71_p_rew_0.1_start_10_dq_2'; it does not match the pattern ``^[a-zA-Z_][a-zA-Z0-9_]*$``; you will not be able to use natural naming to access this object; using ``getattr()`` will still work, though\n",
      "  NaturalNameWarning)\n"
     ]
    },
    {
     "name": "stdout",
     "output_type": "stream",
     "text": [
      "(sim,lamb_da,p_rew,w_minus,start,dose_quantity) =  (71, 0.10000000000000002, 1.0, 1.0, 1, 0.1)\n",
      "{50}\n",
      "sim_71_p_rew_1_start_1_dq_0.1\n"
     ]
    },
    {
     "name": "stderr",
     "output_type": "stream",
     "text": [
      "/home/aiyappa/anaconda3/lib/python3.7/site-packages/tables/path.py:112: NaturalNameWarning: object name is not a valid Python identifier: 'sim_71_p_rew_1_start_1_dq_0.1'; it does not match the pattern ``^[a-zA-Z_][a-zA-Z0-9_]*$``; you will not be able to use natural naming to access this object; using ``getattr()`` will still work, though\n",
      "  NaturalNameWarning)\n"
     ]
    },
    {
     "name": "stdout",
     "output_type": "stream",
     "text": [
      "(sim,lamb_da,p_rew,w_minus,start,dose_quantity) =  (71, 0.10000000000000002, 1.0, 1.0, 1, 2)\n",
      "{16}\n",
      "sim_71_p_rew_1_start_1_dq_2\n",
      "(sim,lamb_da,p_rew,w_minus,start,dose_quantity) =  (71, 0.10000000000000002, 1.0, 1.0, 10, 0.1)\n",
      "{32, 72, 10, 51, 52, 88, 89, 59, 92, 93}\n",
      "sim_71_p_rew_1_start_10_dq_0.1\n"
     ]
    },
    {
     "name": "stderr",
     "output_type": "stream",
     "text": [
      "/home/aiyappa/anaconda3/lib/python3.7/site-packages/tables/path.py:112: NaturalNameWarning: object name is not a valid Python identifier: 'sim_71_p_rew_1_start_10_dq_0.1'; it does not match the pattern ``^[a-zA-Z_][a-zA-Z0-9_]*$``; you will not be able to use natural naming to access this object; using ``getattr()`` will still work, though\n",
      "  NaturalNameWarning)\n"
     ]
    },
    {
     "name": "stdout",
     "output_type": "stream",
     "text": [
      "(sim,lamb_da,p_rew,w_minus,start,dose_quantity) =  (71, 0.10000000000000002, 1.0, 1.0, 10, 2)\n",
      "{1, 71, 9, 45, 29, 18, 54, 88, 58, 61}\n",
      "sim_71_p_rew_1_start_10_dq_2\n",
      "(sim,lamb_da,p_rew,w_minus,start,dose_quantity) =  (71, 1.0, 10.0, 1.0, 1, 0.1)\n",
      "{30}\n",
      "sim_71_p_rew_10_start_1_dq_0.1\n"
     ]
    },
    {
     "name": "stderr",
     "output_type": "stream",
     "text": [
      "/home/aiyappa/anaconda3/lib/python3.7/site-packages/tables/path.py:112: NaturalNameWarning: object name is not a valid Python identifier: 'sim_71_p_rew_10_start_1_dq_0.1'; it does not match the pattern ``^[a-zA-Z_][a-zA-Z0-9_]*$``; you will not be able to use natural naming to access this object; using ``getattr()`` will still work, though\n",
      "  NaturalNameWarning)\n"
     ]
    },
    {
     "name": "stdout",
     "output_type": "stream",
     "text": [
      "(sim,lamb_da,p_rew,w_minus,start,dose_quantity) =  (71, 1.0, 10.0, 1.0, 1, 2)\n",
      "{21}\n",
      "sim_71_p_rew_10_start_1_dq_2\n",
      "(sim,lamb_da,p_rew,w_minus,start,dose_quantity) =  (71, 1.0, 10.0, 1.0, 10, 0.1)\n",
      "Initial node infection step failed\n",
      "None\n",
      "Initial node infection step failed\n",
      "None\n",
      "Initial node infection step failed\n",
      "None\n",
      "Initial node infection step failed\n",
      "None\n",
      "Initial node infection step failed\n",
      "None\n",
      "Initial node infection step failed\n",
      "None\n",
      "Initial node infection step failed\n",
      "None\n",
      "Initial node infection step failed\n",
      "None\n",
      "Initial node infection step failed\n",
      "None\n",
      "Initial node infection step failed\n",
      "None\n",
      "Initial node infection step failed\n",
      "None\n",
      "Initial node infection step failed\n",
      "None\n",
      "Initial node infection step failed\n",
      "None\n",
      "Initial node infection step failed\n",
      "None\n",
      "Initial node infection step failed\n",
      "None\n",
      "Initial node infection step failed\n",
      "None\n",
      "Initial node infection step failed\n",
      "None\n",
      "Initial node infection step failed\n",
      "None\n",
      "Initial node infection step failed\n",
      "None\n",
      "Initial node infection step failed\n",
      "None\n",
      "Initial node infection step failed\n",
      "None\n",
      "Initial node infection step failed\n",
      "None\n",
      "Initial node infection step failed\n",
      "None\n",
      "Initial node infection step failed\n",
      "None\n",
      "Initial node infection step failed\n",
      "None\n",
      "Initial node infection step failed\n",
      "None\n",
      "Initial node infection step failed\n",
      "None\n",
      "Initial node infection step failed\n",
      "None\n",
      "Initial node infection step failed\n",
      "None\n",
      "Initial node infection step failed\n",
      "None\n",
      "{1, 33, 10, 11, 48, 82, 84, 22, 55, 63}\n",
      "sim_71_p_rew_10_start_10_dq_0.1\n"
     ]
    },
    {
     "name": "stderr",
     "output_type": "stream",
     "text": [
      "/home/aiyappa/anaconda3/lib/python3.7/site-packages/tables/path.py:112: NaturalNameWarning: object name is not a valid Python identifier: 'sim_71_p_rew_10_start_10_dq_0.1'; it does not match the pattern ``^[a-zA-Z_][a-zA-Z0-9_]*$``; you will not be able to use natural naming to access this object; using ``getattr()`` will still work, though\n",
      "  NaturalNameWarning)\n"
     ]
    },
    {
     "name": "stdout",
     "output_type": "stream",
     "text": [
      "(sim,lamb_da,p_rew,w_minus,start,dose_quantity) =  (71, 1.0, 10.0, 1.0, 10, 2)\n",
      "{33, 65, 73, 12, 78, 50, 21, 57, 94, 31}\n",
      "sim_71_p_rew_10_start_10_dq_2\n",
      "(sim,lamb_da,p_rew,w_minus,start,dose_quantity) =  (72, 0.001, 0.01, 1.0, 1, 0.1)\n",
      "{99}\n",
      "sim_72_p_rew_0.01_start_1_dq_0.1\n"
     ]
    },
    {
     "name": "stderr",
     "output_type": "stream",
     "text": [
      "/home/aiyappa/anaconda3/lib/python3.7/site-packages/tables/path.py:112: NaturalNameWarning: object name is not a valid Python identifier: 'sim_72_p_rew_0.01_start_1_dq_0.1'; it does not match the pattern ``^[a-zA-Z_][a-zA-Z0-9_]*$``; you will not be able to use natural naming to access this object; using ``getattr()`` will still work, though\n",
      "  NaturalNameWarning)\n"
     ]
    },
    {
     "name": "stdout",
     "output_type": "stream",
     "text": [
      "(sim,lamb_da,p_rew,w_minus,start,dose_quantity) =  (72, 0.001, 0.01, 1.0, 1, 2)\n",
      "{9}\n",
      "sim_72_p_rew_0.01_start_1_dq_2\n"
     ]
    },
    {
     "name": "stderr",
     "output_type": "stream",
     "text": [
      "/home/aiyappa/anaconda3/lib/python3.7/site-packages/tables/path.py:112: NaturalNameWarning: object name is not a valid Python identifier: 'sim_72_p_rew_0.01_start_1_dq_2'; it does not match the pattern ``^[a-zA-Z_][a-zA-Z0-9_]*$``; you will not be able to use natural naming to access this object; using ``getattr()`` will still work, though\n",
      "  NaturalNameWarning)\n"
     ]
    },
    {
     "name": "stdout",
     "output_type": "stream",
     "text": [
      "(sim,lamb_da,p_rew,w_minus,start,dose_quantity) =  (72, 0.001, 0.01, 1.0, 10, 0.1)\n",
      "Initial node infection step failed\n",
      "None\n",
      "{33, 2, 99, 36, 80, 18, 57, 26, 91, 94}\n",
      "sim_72_p_rew_0.01_start_10_dq_0.1\n"
     ]
    },
    {
     "name": "stderr",
     "output_type": "stream",
     "text": [
      "/home/aiyappa/anaconda3/lib/python3.7/site-packages/tables/path.py:112: NaturalNameWarning: object name is not a valid Python identifier: 'sim_72_p_rew_0.01_start_10_dq_0.1'; it does not match the pattern ``^[a-zA-Z_][a-zA-Z0-9_]*$``; you will not be able to use natural naming to access this object; using ``getattr()`` will still work, though\n",
      "  NaturalNameWarning)\n"
     ]
    },
    {
     "name": "stdout",
     "output_type": "stream",
     "text": [
      "(sim,lamb_da,p_rew,w_minus,start,dose_quantity) =  (72, 0.001, 0.01, 1.0, 10, 2)\n",
      "{97, 6, 12, 14, 79, 48, 53, 26, 29, 95}\n",
      "sim_72_p_rew_0.01_start_10_dq_2\n"
     ]
    },
    {
     "name": "stderr",
     "output_type": "stream",
     "text": [
      "/home/aiyappa/anaconda3/lib/python3.7/site-packages/tables/path.py:112: NaturalNameWarning: object name is not a valid Python identifier: 'sim_72_p_rew_0.01_start_10_dq_2'; it does not match the pattern ``^[a-zA-Z_][a-zA-Z0-9_]*$``; you will not be able to use natural naming to access this object; using ``getattr()`` will still work, though\n",
      "  NaturalNameWarning)\n"
     ]
    },
    {
     "name": "stdout",
     "output_type": "stream",
     "text": [
      "(sim,lamb_da,p_rew,w_minus,start,dose_quantity) =  (72, 0.01, 0.10000000000000002, 1.0, 1, 0.1)\n",
      "{88}\n",
      "sim_72_p_rew_0.1_start_1_dq_0.1\n"
     ]
    },
    {
     "name": "stderr",
     "output_type": "stream",
     "text": [
      "/home/aiyappa/anaconda3/lib/python3.7/site-packages/tables/path.py:112: NaturalNameWarning: object name is not a valid Python identifier: 'sim_72_p_rew_0.1_start_1_dq_0.1'; it does not match the pattern ``^[a-zA-Z_][a-zA-Z0-9_]*$``; you will not be able to use natural naming to access this object; using ``getattr()`` will still work, though\n",
      "  NaturalNameWarning)\n"
     ]
    },
    {
     "name": "stdout",
     "output_type": "stream",
     "text": [
      "(sim,lamb_da,p_rew,w_minus,start,dose_quantity) =  (72, 0.01, 0.10000000000000002, 1.0, 1, 2)\n",
      "{58}\n",
      "sim_72_p_rew_0.1_start_1_dq_2\n"
     ]
    },
    {
     "name": "stderr",
     "output_type": "stream",
     "text": [
      "/home/aiyappa/anaconda3/lib/python3.7/site-packages/tables/path.py:112: NaturalNameWarning: object name is not a valid Python identifier: 'sim_72_p_rew_0.1_start_1_dq_2'; it does not match the pattern ``^[a-zA-Z_][a-zA-Z0-9_]*$``; you will not be able to use natural naming to access this object; using ``getattr()`` will still work, though\n",
      "  NaturalNameWarning)\n"
     ]
    },
    {
     "name": "stdout",
     "output_type": "stream",
     "text": [
      "(sim,lamb_da,p_rew,w_minus,start,dose_quantity) =  (72, 0.01, 0.10000000000000002, 1.0, 10, 0.1)\n",
      "Initial node infection step failed\n",
      "None\n",
      "{5, 38, 70, 47, 16, 17, 80, 19, 26, 63}\n",
      "sim_72_p_rew_0.1_start_10_dq_0.1\n"
     ]
    },
    {
     "name": "stderr",
     "output_type": "stream",
     "text": [
      "/home/aiyappa/anaconda3/lib/python3.7/site-packages/tables/path.py:112: NaturalNameWarning: object name is not a valid Python identifier: 'sim_72_p_rew_0.1_start_10_dq_0.1'; it does not match the pattern ``^[a-zA-Z_][a-zA-Z0-9_]*$``; you will not be able to use natural naming to access this object; using ``getattr()`` will still work, though\n",
      "  NaturalNameWarning)\n"
     ]
    },
    {
     "name": "stdout",
     "output_type": "stream",
     "text": [
      "(sim,lamb_da,p_rew,w_minus,start,dose_quantity) =  (72, 0.01, 0.10000000000000002, 1.0, 10, 2)\n",
      "{99, 41, 76, 77, 47, 15, 17, 82, 83, 28}\n",
      "sim_72_p_rew_0.1_start_10_dq_2\n"
     ]
    },
    {
     "name": "stderr",
     "output_type": "stream",
     "text": [
      "/home/aiyappa/anaconda3/lib/python3.7/site-packages/tables/path.py:112: NaturalNameWarning: object name is not a valid Python identifier: 'sim_72_p_rew_0.1_start_10_dq_2'; it does not match the pattern ``^[a-zA-Z_][a-zA-Z0-9_]*$``; you will not be able to use natural naming to access this object; using ``getattr()`` will still work, though\n",
      "  NaturalNameWarning)\n"
     ]
    },
    {
     "name": "stdout",
     "output_type": "stream",
     "text": [
      "(sim,lamb_da,p_rew,w_minus,start,dose_quantity) =  (72, 0.10000000000000002, 1.0, 1.0, 1, 0.1)\n",
      "{97}\n",
      "sim_72_p_rew_1_start_1_dq_0.1\n"
     ]
    },
    {
     "name": "stderr",
     "output_type": "stream",
     "text": [
      "/home/aiyappa/anaconda3/lib/python3.7/site-packages/tables/path.py:112: NaturalNameWarning: object name is not a valid Python identifier: 'sim_72_p_rew_1_start_1_dq_0.1'; it does not match the pattern ``^[a-zA-Z_][a-zA-Z0-9_]*$``; you will not be able to use natural naming to access this object; using ``getattr()`` will still work, though\n",
      "  NaturalNameWarning)\n"
     ]
    },
    {
     "name": "stdout",
     "output_type": "stream",
     "text": [
      "(sim,lamb_da,p_rew,w_minus,start,dose_quantity) =  (72, 0.10000000000000002, 1.0, 1.0, 1, 2)\n",
      "{90}\n",
      "sim_72_p_rew_1_start_1_dq_2\n",
      "(sim,lamb_da,p_rew,w_minus,start,dose_quantity) =  (72, 0.10000000000000002, 1.0, 1.0, 10, 0.1)\n",
      "{33, 2, 71, 14, 84, 55, 62, 58, 91, 30}\n",
      "sim_72_p_rew_1_start_10_dq_0.1\n"
     ]
    },
    {
     "name": "stderr",
     "output_type": "stream",
     "text": [
      "/home/aiyappa/anaconda3/lib/python3.7/site-packages/tables/path.py:112: NaturalNameWarning: object name is not a valid Python identifier: 'sim_72_p_rew_1_start_10_dq_0.1'; it does not match the pattern ``^[a-zA-Z_][a-zA-Z0-9_]*$``; you will not be able to use natural naming to access this object; using ``getattr()`` will still work, though\n",
      "  NaturalNameWarning)\n"
     ]
    },
    {
     "name": "stdout",
     "output_type": "stream",
     "text": [
      "(sim,lamb_da,p_rew,w_minus,start,dose_quantity) =  (72, 0.10000000000000002, 1.0, 1.0, 10, 2)\n",
      "{65, 4, 72, 73, 46, 78, 20, 86, 91, 92}\n",
      "sim_72_p_rew_1_start_10_dq_2\n",
      "(sim,lamb_da,p_rew,w_minus,start,dose_quantity) =  (72, 1.0, 10.0, 1.0, 1, 0.1)\n",
      "{63}\n",
      "sim_72_p_rew_10_start_1_dq_0.1\n"
     ]
    },
    {
     "name": "stderr",
     "output_type": "stream",
     "text": [
      "/home/aiyappa/anaconda3/lib/python3.7/site-packages/tables/path.py:112: NaturalNameWarning: object name is not a valid Python identifier: 'sim_72_p_rew_10_start_1_dq_0.1'; it does not match the pattern ``^[a-zA-Z_][a-zA-Z0-9_]*$``; you will not be able to use natural naming to access this object; using ``getattr()`` will still work, though\n",
      "  NaturalNameWarning)\n"
     ]
    },
    {
     "name": "stdout",
     "output_type": "stream",
     "text": [
      "(sim,lamb_da,p_rew,w_minus,start,dose_quantity) =  (72, 1.0, 10.0, 1.0, 1, 2)\n",
      "{58}\n",
      "sim_72_p_rew_10_start_1_dq_2\n",
      "(sim,lamb_da,p_rew,w_minus,start,dose_quantity) =  (72, 1.0, 10.0, 1.0, 10, 0.1)\n",
      "Initial node infection step failed\n",
      "None\n",
      "Initial node infection step failed\n",
      "None\n",
      "Initial node infection step failed\n",
      "None\n",
      "{65, 69, 40, 21, 87, 55, 54, 25, 90, 95}\n",
      "sim_72_p_rew_10_start_10_dq_0.1\n"
     ]
    },
    {
     "name": "stderr",
     "output_type": "stream",
     "text": [
      "/home/aiyappa/anaconda3/lib/python3.7/site-packages/tables/path.py:112: NaturalNameWarning: object name is not a valid Python identifier: 'sim_72_p_rew_10_start_10_dq_0.1'; it does not match the pattern ``^[a-zA-Z_][a-zA-Z0-9_]*$``; you will not be able to use natural naming to access this object; using ``getattr()`` will still work, though\n",
      "  NaturalNameWarning)\n"
     ]
    },
    {
     "name": "stdout",
     "output_type": "stream",
     "text": [
      "(sim,lamb_da,p_rew,w_minus,start,dose_quantity) =  (72, 1.0, 10.0, 1.0, 10, 2)\n",
      "{34, 66, 4, 71, 9, 28, 84, 26, 60, 62}\n",
      "sim_72_p_rew_10_start_10_dq_2\n",
      "(sim,lamb_da,p_rew,w_minus,start,dose_quantity) =  (73, 0.001, 0.01, 1.0, 1, 0.1)\n",
      "{71}\n",
      "sim_73_p_rew_0.01_start_1_dq_0.1\n"
     ]
    },
    {
     "name": "stderr",
     "output_type": "stream",
     "text": [
      "/home/aiyappa/anaconda3/lib/python3.7/site-packages/tables/path.py:112: NaturalNameWarning: object name is not a valid Python identifier: 'sim_73_p_rew_0.01_start_1_dq_0.1'; it does not match the pattern ``^[a-zA-Z_][a-zA-Z0-9_]*$``; you will not be able to use natural naming to access this object; using ``getattr()`` will still work, though\n",
      "  NaturalNameWarning)\n"
     ]
    },
    {
     "name": "stdout",
     "output_type": "stream",
     "text": [
      "(sim,lamb_da,p_rew,w_minus,start,dose_quantity) =  (73, 0.001, 0.01, 1.0, 1, 2)\n",
      "{83}\n",
      "sim_73_p_rew_0.01_start_1_dq_2\n"
     ]
    },
    {
     "name": "stderr",
     "output_type": "stream",
     "text": [
      "/home/aiyappa/anaconda3/lib/python3.7/site-packages/tables/path.py:112: NaturalNameWarning: object name is not a valid Python identifier: 'sim_73_p_rew_0.01_start_1_dq_2'; it does not match the pattern ``^[a-zA-Z_][a-zA-Z0-9_]*$``; you will not be able to use natural naming to access this object; using ``getattr()`` will still work, though\n",
      "  NaturalNameWarning)\n"
     ]
    },
    {
     "name": "stdout",
     "output_type": "stream",
     "text": [
      "(sim,lamb_da,p_rew,w_minus,start,dose_quantity) =  (73, 0.001, 0.01, 1.0, 10, 0.1)\n",
      "{66, 38, 71, 6, 42, 14, 51, 88, 27, 93}\n",
      "sim_73_p_rew_0.01_start_10_dq_0.1\n"
     ]
    },
    {
     "name": "stderr",
     "output_type": "stream",
     "text": [
      "/home/aiyappa/anaconda3/lib/python3.7/site-packages/tables/path.py:112: NaturalNameWarning: object name is not a valid Python identifier: 'sim_73_p_rew_0.01_start_10_dq_0.1'; it does not match the pattern ``^[a-zA-Z_][a-zA-Z0-9_]*$``; you will not be able to use natural naming to access this object; using ``getattr()`` will still work, though\n",
      "  NaturalNameWarning)\n"
     ]
    },
    {
     "name": "stdout",
     "output_type": "stream",
     "text": [
      "(sim,lamb_da,p_rew,w_minus,start,dose_quantity) =  (73, 0.001, 0.01, 1.0, 10, 2)\n",
      "{67, 3, 5, 71, 43, 77, 17, 19, 61, 93}\n",
      "sim_73_p_rew_0.01_start_10_dq_2\n"
     ]
    },
    {
     "name": "stderr",
     "output_type": "stream",
     "text": [
      "/home/aiyappa/anaconda3/lib/python3.7/site-packages/tables/path.py:112: NaturalNameWarning: object name is not a valid Python identifier: 'sim_73_p_rew_0.01_start_10_dq_2'; it does not match the pattern ``^[a-zA-Z_][a-zA-Z0-9_]*$``; you will not be able to use natural naming to access this object; using ``getattr()`` will still work, though\n",
      "  NaturalNameWarning)\n"
     ]
    },
    {
     "name": "stdout",
     "output_type": "stream",
     "text": [
      "(sim,lamb_da,p_rew,w_minus,start,dose_quantity) =  (73, 0.01, 0.10000000000000002, 1.0, 1, 0.1)\n",
      "{87}\n",
      "sim_73_p_rew_0.1_start_1_dq_0.1\n"
     ]
    },
    {
     "name": "stderr",
     "output_type": "stream",
     "text": [
      "/home/aiyappa/anaconda3/lib/python3.7/site-packages/tables/path.py:112: NaturalNameWarning: object name is not a valid Python identifier: 'sim_73_p_rew_0.1_start_1_dq_0.1'; it does not match the pattern ``^[a-zA-Z_][a-zA-Z0-9_]*$``; you will not be able to use natural naming to access this object; using ``getattr()`` will still work, though\n",
      "  NaturalNameWarning)\n"
     ]
    },
    {
     "name": "stdout",
     "output_type": "stream",
     "text": [
      "(sim,lamb_da,p_rew,w_minus,start,dose_quantity) =  (73, 0.01, 0.10000000000000002, 1.0, 1, 2)\n",
      "{70}\n",
      "sim_73_p_rew_0.1_start_1_dq_2\n"
     ]
    },
    {
     "name": "stderr",
     "output_type": "stream",
     "text": [
      "/home/aiyappa/anaconda3/lib/python3.7/site-packages/tables/path.py:112: NaturalNameWarning: object name is not a valid Python identifier: 'sim_73_p_rew_0.1_start_1_dq_2'; it does not match the pattern ``^[a-zA-Z_][a-zA-Z0-9_]*$``; you will not be able to use natural naming to access this object; using ``getattr()`` will still work, though\n",
      "  NaturalNameWarning)\n"
     ]
    },
    {
     "name": "stdout",
     "output_type": "stream",
     "text": [
      "(sim,lamb_da,p_rew,w_minus,start,dose_quantity) =  (73, 0.01, 0.10000000000000002, 1.0, 10, 0.1)\n",
      "Initial node infection step failed\n",
      "None\n",
      "{98, 36, 13, 14, 77, 16, 18, 50, 19, 27}\n",
      "sim_73_p_rew_0.1_start_10_dq_0.1\n"
     ]
    },
    {
     "name": "stderr",
     "output_type": "stream",
     "text": [
      "/home/aiyappa/anaconda3/lib/python3.7/site-packages/tables/path.py:112: NaturalNameWarning: object name is not a valid Python identifier: 'sim_73_p_rew_0.1_start_10_dq_0.1'; it does not match the pattern ``^[a-zA-Z_][a-zA-Z0-9_]*$``; you will not be able to use natural naming to access this object; using ``getattr()`` will still work, though\n",
      "  NaturalNameWarning)\n"
     ]
    },
    {
     "name": "stdout",
     "output_type": "stream",
     "text": [
      "(sim,lamb_da,p_rew,w_minus,start,dose_quantity) =  (73, 0.01, 0.10000000000000002, 1.0, 10, 2)\n",
      "{0, 5, 40, 74, 46, 78, 90, 91, 61, 31}\n",
      "sim_73_p_rew_0.1_start_10_dq_2\n"
     ]
    },
    {
     "name": "stderr",
     "output_type": "stream",
     "text": [
      "/home/aiyappa/anaconda3/lib/python3.7/site-packages/tables/path.py:112: NaturalNameWarning: object name is not a valid Python identifier: 'sim_73_p_rew_0.1_start_10_dq_2'; it does not match the pattern ``^[a-zA-Z_][a-zA-Z0-9_]*$``; you will not be able to use natural naming to access this object; using ``getattr()`` will still work, though\n",
      "  NaturalNameWarning)\n"
     ]
    },
    {
     "name": "stdout",
     "output_type": "stream",
     "text": [
      "(sim,lamb_da,p_rew,w_minus,start,dose_quantity) =  (73, 0.10000000000000002, 1.0, 1.0, 1, 0.1)\n",
      "{27}\n",
      "sim_73_p_rew_1_start_1_dq_0.1\n"
     ]
    },
    {
     "name": "stderr",
     "output_type": "stream",
     "text": [
      "/home/aiyappa/anaconda3/lib/python3.7/site-packages/tables/path.py:112: NaturalNameWarning: object name is not a valid Python identifier: 'sim_73_p_rew_1_start_1_dq_0.1'; it does not match the pattern ``^[a-zA-Z_][a-zA-Z0-9_]*$``; you will not be able to use natural naming to access this object; using ``getattr()`` will still work, though\n",
      "  NaturalNameWarning)\n"
     ]
    },
    {
     "name": "stdout",
     "output_type": "stream",
     "text": [
      "(sim,lamb_da,p_rew,w_minus,start,dose_quantity) =  (73, 0.10000000000000002, 1.0, 1.0, 1, 2)\n",
      "{46}\n",
      "sim_73_p_rew_1_start_1_dq_2\n",
      "(sim,lamb_da,p_rew,w_minus,start,dose_quantity) =  (73, 0.10000000000000002, 1.0, 1.0, 10, 0.1)\n",
      "Initial node infection step failed\n",
      "None\n",
      "Initial node infection step failed\n",
      "None\n",
      "Initial node infection step failed\n",
      "None\n",
      "Initial node infection step failed\n",
      "None\n",
      "Initial node infection step failed\n",
      "None\n",
      "{98, 39, 71, 43, 46, 16, 18, 19, 27, 93}\n",
      "sim_73_p_rew_1_start_10_dq_0.1\n"
     ]
    },
    {
     "name": "stderr",
     "output_type": "stream",
     "text": [
      "/home/aiyappa/anaconda3/lib/python3.7/site-packages/tables/path.py:112: NaturalNameWarning: object name is not a valid Python identifier: 'sim_73_p_rew_1_start_10_dq_0.1'; it does not match the pattern ``^[a-zA-Z_][a-zA-Z0-9_]*$``; you will not be able to use natural naming to access this object; using ``getattr()`` will still work, though\n",
      "  NaturalNameWarning)\n"
     ]
    },
    {
     "name": "stdout",
     "output_type": "stream",
     "text": [
      "(sim,lamb_da,p_rew,w_minus,start,dose_quantity) =  (73, 0.10000000000000002, 1.0, 1.0, 10, 2)\n",
      "{66, 4, 37, 5, 72, 41, 12, 82, 85, 89}\n",
      "sim_73_p_rew_1_start_10_dq_2\n",
      "(sim,lamb_da,p_rew,w_minus,start,dose_quantity) =  (73, 1.0, 10.0, 1.0, 1, 0.1)\n",
      "{22}\n",
      "sim_73_p_rew_10_start_1_dq_0.1\n"
     ]
    },
    {
     "name": "stderr",
     "output_type": "stream",
     "text": [
      "/home/aiyappa/anaconda3/lib/python3.7/site-packages/tables/path.py:112: NaturalNameWarning: object name is not a valid Python identifier: 'sim_73_p_rew_10_start_1_dq_0.1'; it does not match the pattern ``^[a-zA-Z_][a-zA-Z0-9_]*$``; you will not be able to use natural naming to access this object; using ``getattr()`` will still work, though\n",
      "  NaturalNameWarning)\n"
     ]
    },
    {
     "name": "stdout",
     "output_type": "stream",
     "text": [
      "(sim,lamb_da,p_rew,w_minus,start,dose_quantity) =  (73, 1.0, 10.0, 1.0, 1, 2)\n",
      "{3}\n",
      "sim_73_p_rew_10_start_1_dq_2\n",
      "(sim,lamb_da,p_rew,w_minus,start,dose_quantity) =  (73, 1.0, 10.0, 1.0, 10, 0.1)\n",
      "Initial node infection step failed\n",
      "None\n",
      "Initial node infection step failed\n",
      "None\n",
      "Initial node infection step failed\n",
      "None\n",
      "Initial node infection step failed\n",
      "None\n",
      "Initial node infection step failed\n",
      "None\n",
      "Initial node infection step failed\n",
      "None\n",
      "Initial node infection step failed\n",
      "None\n",
      "Initial node infection step failed\n",
      "None\n",
      "Initial node infection step failed\n",
      "None\n",
      "Initial node infection step failed\n",
      "None\n",
      "Initial node infection step failed\n",
      "None\n",
      "Initial node infection step failed\n",
      "None\n",
      "Initial node infection step failed\n",
      "None\n",
      "{98, 68, 38, 12, 81, 50, 23, 25, 58, 31}\n",
      "sim_73_p_rew_10_start_10_dq_0.1\n"
     ]
    },
    {
     "name": "stderr",
     "output_type": "stream",
     "text": [
      "/home/aiyappa/anaconda3/lib/python3.7/site-packages/tables/path.py:112: NaturalNameWarning: object name is not a valid Python identifier: 'sim_73_p_rew_10_start_10_dq_0.1'; it does not match the pattern ``^[a-zA-Z_][a-zA-Z0-9_]*$``; you will not be able to use natural naming to access this object; using ``getattr()`` will still work, though\n",
      "  NaturalNameWarning)\n"
     ]
    },
    {
     "name": "stdout",
     "output_type": "stream",
     "text": [
      "(sim,lamb_da,p_rew,w_minus,start,dose_quantity) =  (73, 1.0, 10.0, 1.0, 10, 2)\n",
      "{64, 36, 44, 46, 47, 85, 23, 24, 58, 63}\n",
      "sim_73_p_rew_10_start_10_dq_2\n",
      "(sim,lamb_da,p_rew,w_minus,start,dose_quantity) =  (74, 0.001, 0.01, 1.0, 1, 0.1)\n",
      "{52}\n",
      "sim_74_p_rew_0.01_start_1_dq_0.1\n"
     ]
    },
    {
     "name": "stderr",
     "output_type": "stream",
     "text": [
      "/home/aiyappa/anaconda3/lib/python3.7/site-packages/tables/path.py:112: NaturalNameWarning: object name is not a valid Python identifier: 'sim_74_p_rew_0.01_start_1_dq_0.1'; it does not match the pattern ``^[a-zA-Z_][a-zA-Z0-9_]*$``; you will not be able to use natural naming to access this object; using ``getattr()`` will still work, though\n",
      "  NaturalNameWarning)\n"
     ]
    },
    {
     "name": "stdout",
     "output_type": "stream",
     "text": [
      "(sim,lamb_da,p_rew,w_minus,start,dose_quantity) =  (74, 0.001, 0.01, 1.0, 1, 2)\n",
      "{51}\n",
      "sim_74_p_rew_0.01_start_1_dq_2\n"
     ]
    },
    {
     "name": "stderr",
     "output_type": "stream",
     "text": [
      "/home/aiyappa/anaconda3/lib/python3.7/site-packages/tables/path.py:112: NaturalNameWarning: object name is not a valid Python identifier: 'sim_74_p_rew_0.01_start_1_dq_2'; it does not match the pattern ``^[a-zA-Z_][a-zA-Z0-9_]*$``; you will not be able to use natural naming to access this object; using ``getattr()`` will still work, though\n",
      "  NaturalNameWarning)\n"
     ]
    },
    {
     "name": "stdout",
     "output_type": "stream",
     "text": [
      "(sim,lamb_da,p_rew,w_minus,start,dose_quantity) =  (74, 0.001, 0.01, 1.0, 10, 0.1)\n",
      "{34, 67, 6, 45, 46, 52, 85, 55, 89, 59}\n",
      "sim_74_p_rew_0.01_start_10_dq_0.1\n"
     ]
    },
    {
     "name": "stderr",
     "output_type": "stream",
     "text": [
      "/home/aiyappa/anaconda3/lib/python3.7/site-packages/tables/path.py:112: NaturalNameWarning: object name is not a valid Python identifier: 'sim_74_p_rew_0.01_start_10_dq_0.1'; it does not match the pattern ``^[a-zA-Z_][a-zA-Z0-9_]*$``; you will not be able to use natural naming to access this object; using ``getattr()`` will still work, though\n",
      "  NaturalNameWarning)\n"
     ]
    },
    {
     "name": "stdout",
     "output_type": "stream",
     "text": [
      "(sim,lamb_da,p_rew,w_minus,start,dose_quantity) =  (74, 0.001, 0.01, 1.0, 10, 2)\n",
      "{0, 67, 9, 76, 81, 18, 87, 58, 91, 63}\n",
      "sim_74_p_rew_0.01_start_10_dq_2\n"
     ]
    },
    {
     "name": "stderr",
     "output_type": "stream",
     "text": [
      "/home/aiyappa/anaconda3/lib/python3.7/site-packages/tables/path.py:112: NaturalNameWarning: object name is not a valid Python identifier: 'sim_74_p_rew_0.01_start_10_dq_2'; it does not match the pattern ``^[a-zA-Z_][a-zA-Z0-9_]*$``; you will not be able to use natural naming to access this object; using ``getattr()`` will still work, though\n",
      "  NaturalNameWarning)\n"
     ]
    },
    {
     "name": "stdout",
     "output_type": "stream",
     "text": [
      "(sim,lamb_da,p_rew,w_minus,start,dose_quantity) =  (74, 0.01, 0.10000000000000002, 1.0, 1, 0.1)\n",
      "{79}\n",
      "sim_74_p_rew_0.1_start_1_dq_0.1\n"
     ]
    },
    {
     "name": "stderr",
     "output_type": "stream",
     "text": [
      "/home/aiyappa/anaconda3/lib/python3.7/site-packages/tables/path.py:112: NaturalNameWarning: object name is not a valid Python identifier: 'sim_74_p_rew_0.1_start_1_dq_0.1'; it does not match the pattern ``^[a-zA-Z_][a-zA-Z0-9_]*$``; you will not be able to use natural naming to access this object; using ``getattr()`` will still work, though\n",
      "  NaturalNameWarning)\n"
     ]
    },
    {
     "name": "stdout",
     "output_type": "stream",
     "text": [
      "(sim,lamb_da,p_rew,w_minus,start,dose_quantity) =  (74, 0.01, 0.10000000000000002, 1.0, 1, 2)\n",
      "{9}\n",
      "sim_74_p_rew_0.1_start_1_dq_2\n"
     ]
    },
    {
     "name": "stderr",
     "output_type": "stream",
     "text": [
      "/home/aiyappa/anaconda3/lib/python3.7/site-packages/tables/path.py:112: NaturalNameWarning: object name is not a valid Python identifier: 'sim_74_p_rew_0.1_start_1_dq_2'; it does not match the pattern ``^[a-zA-Z_][a-zA-Z0-9_]*$``; you will not be able to use natural naming to access this object; using ``getattr()`` will still work, though\n",
      "  NaturalNameWarning)\n"
     ]
    },
    {
     "name": "stdout",
     "output_type": "stream",
     "text": [
      "(sim,lamb_da,p_rew,w_minus,start,dose_quantity) =  (74, 0.01, 0.10000000000000002, 1.0, 10, 0.1)\n",
      "{0, 64, 37, 5, 7, 70, 58, 59, 95, 31}\n",
      "sim_74_p_rew_0.1_start_10_dq_0.1\n"
     ]
    },
    {
     "name": "stderr",
     "output_type": "stream",
     "text": [
      "/home/aiyappa/anaconda3/lib/python3.7/site-packages/tables/path.py:112: NaturalNameWarning: object name is not a valid Python identifier: 'sim_74_p_rew_0.1_start_10_dq_0.1'; it does not match the pattern ``^[a-zA-Z_][a-zA-Z0-9_]*$``; you will not be able to use natural naming to access this object; using ``getattr()`` will still work, though\n",
      "  NaturalNameWarning)\n"
     ]
    },
    {
     "name": "stdout",
     "output_type": "stream",
     "text": [
      "(sim,lamb_da,p_rew,w_minus,start,dose_quantity) =  (74, 0.01, 0.10000000000000002, 1.0, 10, 2)\n",
      "{96, 0, 8, 11, 50, 21, 87, 23, 26, 61}\n",
      "sim_74_p_rew_0.1_start_10_dq_2\n"
     ]
    },
    {
     "name": "stderr",
     "output_type": "stream",
     "text": [
      "/home/aiyappa/anaconda3/lib/python3.7/site-packages/tables/path.py:112: NaturalNameWarning: object name is not a valid Python identifier: 'sim_74_p_rew_0.1_start_10_dq_2'; it does not match the pattern ``^[a-zA-Z_][a-zA-Z0-9_]*$``; you will not be able to use natural naming to access this object; using ``getattr()`` will still work, though\n",
      "  NaturalNameWarning)\n"
     ]
    },
    {
     "name": "stdout",
     "output_type": "stream",
     "text": [
      "(sim,lamb_da,p_rew,w_minus,start,dose_quantity) =  (74, 0.10000000000000002, 1.0, 1.0, 1, 0.1)\n",
      "{91}\n",
      "sim_74_p_rew_1_start_1_dq_0.1\n"
     ]
    },
    {
     "name": "stderr",
     "output_type": "stream",
     "text": [
      "/home/aiyappa/anaconda3/lib/python3.7/site-packages/tables/path.py:112: NaturalNameWarning: object name is not a valid Python identifier: 'sim_74_p_rew_1_start_1_dq_0.1'; it does not match the pattern ``^[a-zA-Z_][a-zA-Z0-9_]*$``; you will not be able to use natural naming to access this object; using ``getattr()`` will still work, though\n",
      "  NaturalNameWarning)\n"
     ]
    },
    {
     "name": "stdout",
     "output_type": "stream",
     "text": [
      "(sim,lamb_da,p_rew,w_minus,start,dose_quantity) =  (74, 0.10000000000000002, 1.0, 1.0, 1, 2)\n",
      "{78}\n",
      "sim_74_p_rew_1_start_1_dq_2\n",
      "(sim,lamb_da,p_rew,w_minus,start,dose_quantity) =  (74, 0.10000000000000002, 1.0, 1.0, 10, 0.1)\n",
      "{35, 67, 10, 13, 15, 48, 52, 86, 55, 26}\n",
      "sim_74_p_rew_1_start_10_dq_0.1\n"
     ]
    },
    {
     "name": "stderr",
     "output_type": "stream",
     "text": [
      "/home/aiyappa/anaconda3/lib/python3.7/site-packages/tables/path.py:112: NaturalNameWarning: object name is not a valid Python identifier: 'sim_74_p_rew_1_start_10_dq_0.1'; it does not match the pattern ``^[a-zA-Z_][a-zA-Z0-9_]*$``; you will not be able to use natural naming to access this object; using ``getattr()`` will still work, though\n",
      "  NaturalNameWarning)\n"
     ]
    },
    {
     "name": "stdout",
     "output_type": "stream",
     "text": [
      "(sim,lamb_da,p_rew,w_minus,start,dose_quantity) =  (74, 0.10000000000000002, 1.0, 1.0, 10, 2)\n",
      "{65, 2, 68, 4, 70, 73, 76, 78, 51, 86}\n",
      "sim_74_p_rew_1_start_10_dq_2\n",
      "(sim,lamb_da,p_rew,w_minus,start,dose_quantity) =  (74, 1.0, 10.0, 1.0, 1, 0.1)\n",
      "{83}\n",
      "sim_74_p_rew_10_start_1_dq_0.1\n"
     ]
    },
    {
     "name": "stderr",
     "output_type": "stream",
     "text": [
      "/home/aiyappa/anaconda3/lib/python3.7/site-packages/tables/path.py:112: NaturalNameWarning: object name is not a valid Python identifier: 'sim_74_p_rew_10_start_1_dq_0.1'; it does not match the pattern ``^[a-zA-Z_][a-zA-Z0-9_]*$``; you will not be able to use natural naming to access this object; using ``getattr()`` will still work, though\n",
      "  NaturalNameWarning)\n"
     ]
    },
    {
     "name": "stdout",
     "output_type": "stream",
     "text": [
      "(sim,lamb_da,p_rew,w_minus,start,dose_quantity) =  (74, 1.0, 10.0, 1.0, 1, 2)\n",
      "{80}\n",
      "sim_74_p_rew_10_start_1_dq_2\n",
      "(sim,lamb_da,p_rew,w_minus,start,dose_quantity) =  (74, 1.0, 10.0, 1.0, 10, 0.1)\n",
      "Initial node infection step failed\n",
      "None\n",
      "Initial node infection step failed\n",
      "None\n",
      "Initial node infection step failed\n",
      "None\n",
      "Initial node infection step failed\n",
      "None\n",
      "Initial node infection step failed\n",
      "None\n",
      "Initial node infection step failed\n",
      "None\n",
      "Initial node infection step failed\n",
      "None\n",
      "Initial node infection step failed\n",
      "None\n",
      "Initial node infection step failed\n",
      "None\n",
      "Initial node infection step failed\n",
      "None\n",
      "Initial node infection step failed\n",
      "None\n",
      "Initial node infection step failed\n",
      "None\n",
      "Initial node infection step failed\n",
      "None\n",
      "Initial node infection step failed\n",
      "None\n",
      "Initial node infection step failed\n",
      "None\n",
      "Initial node infection step failed\n",
      "None\n",
      "Initial node infection step failed\n",
      "None\n",
      "Initial node infection step failed\n",
      "None\n",
      "Initial node infection step failed\n",
      "None\n",
      "Initial node infection step failed\n",
      "None\n",
      "Initial node infection step failed\n",
      "None\n",
      "Initial node infection step failed\n",
      "None\n",
      "Initial node infection step failed\n",
      "None\n",
      "Initial node infection step failed\n",
      "None\n",
      "Initial node infection step failed\n",
      "None\n",
      "Initial node infection step failed\n",
      "None\n",
      "Initial node infection step failed\n",
      "None\n",
      "Initial node infection step failed\n",
      "None\n",
      "Initial node infection step failed\n",
      "None\n",
      "Initial node infection step failed\n",
      "None\n",
      "Initial node infection step failed\n",
      "None\n",
      "Initial node infection step failed\n",
      "None\n",
      "Initial node infection step failed\n",
      "None\n",
      "Initial node infection step failed\n",
      "None\n",
      "Initial node infection step failed\n",
      "None\n",
      "Initial node infection step failed\n",
      "None\n",
      "Initial node infection step failed\n",
      "None\n",
      "Initial node infection step failed\n",
      "None\n",
      "Initial node infection step failed\n",
      "None\n",
      "Initial node infection step failed\n",
      "None\n",
      "Initial node infection step failed\n",
      "None\n",
      "Initial node infection step failed\n",
      "None\n",
      "Initial node infection step failed\n",
      "None\n",
      "Initial node infection step failed\n",
      "None\n",
      "Initial node infection step failed\n",
      "None\n",
      "Initial node infection step failed\n",
      "None\n",
      "Initial node infection step failed\n",
      "None\n",
      "{70, 41, 80, 49, 84, 85, 60, 93, 62, 31}\n",
      "sim_74_p_rew_10_start_10_dq_0.1\n"
     ]
    },
    {
     "name": "stderr",
     "output_type": "stream",
     "text": [
      "/home/aiyappa/anaconda3/lib/python3.7/site-packages/tables/path.py:112: NaturalNameWarning: object name is not a valid Python identifier: 'sim_74_p_rew_10_start_10_dq_0.1'; it does not match the pattern ``^[a-zA-Z_][a-zA-Z0-9_]*$``; you will not be able to use natural naming to access this object; using ``getattr()`` will still work, though\n",
      "  NaturalNameWarning)\n"
     ]
    },
    {
     "name": "stdout",
     "output_type": "stream",
     "text": [
      "(sim,lamb_da,p_rew,w_minus,start,dose_quantity) =  (74, 1.0, 10.0, 1.0, 10, 2)\n",
      "{32, 97, 69, 38, 10, 80, 48, 20, 55, 23}\n",
      "sim_74_p_rew_10_start_10_dq_2\n",
      "(sim,lamb_da,p_rew,w_minus,start,dose_quantity) =  (75, 0.001, 0.01, 1.0, 1, 0.1)\n",
      "{8}\n",
      "sim_75_p_rew_0.01_start_1_dq_0.1\n"
     ]
    },
    {
     "name": "stderr",
     "output_type": "stream",
     "text": [
      "/home/aiyappa/anaconda3/lib/python3.7/site-packages/tables/path.py:112: NaturalNameWarning: object name is not a valid Python identifier: 'sim_75_p_rew_0.01_start_1_dq_0.1'; it does not match the pattern ``^[a-zA-Z_][a-zA-Z0-9_]*$``; you will not be able to use natural naming to access this object; using ``getattr()`` will still work, though\n",
      "  NaturalNameWarning)\n"
     ]
    },
    {
     "name": "stdout",
     "output_type": "stream",
     "text": [
      "(sim,lamb_da,p_rew,w_minus,start,dose_quantity) =  (75, 0.001, 0.01, 1.0, 1, 2)\n",
      "{75}\n",
      "sim_75_p_rew_0.01_start_1_dq_2\n"
     ]
    },
    {
     "name": "stderr",
     "output_type": "stream",
     "text": [
      "/home/aiyappa/anaconda3/lib/python3.7/site-packages/tables/path.py:112: NaturalNameWarning: object name is not a valid Python identifier: 'sim_75_p_rew_0.01_start_1_dq_2'; it does not match the pattern ``^[a-zA-Z_][a-zA-Z0-9_]*$``; you will not be able to use natural naming to access this object; using ``getattr()`` will still work, though\n",
      "  NaturalNameWarning)\n"
     ]
    },
    {
     "name": "stdout",
     "output_type": "stream",
     "text": [
      "(sim,lamb_da,p_rew,w_minus,start,dose_quantity) =  (75, 0.001, 0.01, 1.0, 10, 0.1)\n",
      "{98, 67, 4, 41, 42, 81, 83, 84, 51, 31}\n",
      "sim_75_p_rew_0.01_start_10_dq_0.1\n"
     ]
    },
    {
     "name": "stderr",
     "output_type": "stream",
     "text": [
      "/home/aiyappa/anaconda3/lib/python3.7/site-packages/tables/path.py:112: NaturalNameWarning: object name is not a valid Python identifier: 'sim_75_p_rew_0.01_start_10_dq_0.1'; it does not match the pattern ``^[a-zA-Z_][a-zA-Z0-9_]*$``; you will not be able to use natural naming to access this object; using ``getattr()`` will still work, though\n",
      "  NaturalNameWarning)\n"
     ]
    },
    {
     "name": "stdout",
     "output_type": "stream",
     "text": [
      "(sim,lamb_da,p_rew,w_minus,start,dose_quantity) =  (75, 0.001, 0.01, 1.0, 10, 2)\n",
      "{32, 76, 45, 44, 16, 18, 51, 57, 26, 91}\n",
      "sim_75_p_rew_0.01_start_10_dq_2\n"
     ]
    },
    {
     "name": "stderr",
     "output_type": "stream",
     "text": [
      "/home/aiyappa/anaconda3/lib/python3.7/site-packages/tables/path.py:112: NaturalNameWarning: object name is not a valid Python identifier: 'sim_75_p_rew_0.01_start_10_dq_2'; it does not match the pattern ``^[a-zA-Z_][a-zA-Z0-9_]*$``; you will not be able to use natural naming to access this object; using ``getattr()`` will still work, though\n",
      "  NaturalNameWarning)\n"
     ]
    },
    {
     "name": "stdout",
     "output_type": "stream",
     "text": [
      "(sim,lamb_da,p_rew,w_minus,start,dose_quantity) =  (75, 0.01, 0.10000000000000002, 1.0, 1, 0.1)\n",
      "{73}\n",
      "sim_75_p_rew_0.1_start_1_dq_0.1\n"
     ]
    },
    {
     "name": "stderr",
     "output_type": "stream",
     "text": [
      "/home/aiyappa/anaconda3/lib/python3.7/site-packages/tables/path.py:112: NaturalNameWarning: object name is not a valid Python identifier: 'sim_75_p_rew_0.1_start_1_dq_0.1'; it does not match the pattern ``^[a-zA-Z_][a-zA-Z0-9_]*$``; you will not be able to use natural naming to access this object; using ``getattr()`` will still work, though\n",
      "  NaturalNameWarning)\n"
     ]
    },
    {
     "name": "stdout",
     "output_type": "stream",
     "text": [
      "(sim,lamb_da,p_rew,w_minus,start,dose_quantity) =  (75, 0.01, 0.10000000000000002, 1.0, 1, 2)\n",
      "{91}\n",
      "sim_75_p_rew_0.1_start_1_dq_2\n"
     ]
    },
    {
     "name": "stderr",
     "output_type": "stream",
     "text": [
      "/home/aiyappa/anaconda3/lib/python3.7/site-packages/tables/path.py:112: NaturalNameWarning: object name is not a valid Python identifier: 'sim_75_p_rew_0.1_start_1_dq_2'; it does not match the pattern ``^[a-zA-Z_][a-zA-Z0-9_]*$``; you will not be able to use natural naming to access this object; using ``getattr()`` will still work, though\n",
      "  NaturalNameWarning)\n"
     ]
    },
    {
     "name": "stdout",
     "output_type": "stream",
     "text": [
      "(sim,lamb_da,p_rew,w_minus,start,dose_quantity) =  (75, 0.01, 0.10000000000000002, 1.0, 10, 0.1)\n",
      "{1, 98, 34, 13, 48, 81, 19, 52, 55, 88}\n",
      "sim_75_p_rew_0.1_start_10_dq_0.1\n"
     ]
    },
    {
     "name": "stderr",
     "output_type": "stream",
     "text": [
      "/home/aiyappa/anaconda3/lib/python3.7/site-packages/tables/path.py:112: NaturalNameWarning: object name is not a valid Python identifier: 'sim_75_p_rew_0.1_start_10_dq_0.1'; it does not match the pattern ``^[a-zA-Z_][a-zA-Z0-9_]*$``; you will not be able to use natural naming to access this object; using ``getattr()`` will still work, though\n",
      "  NaturalNameWarning)\n"
     ]
    },
    {
     "name": "stdout",
     "output_type": "stream",
     "text": [
      "(sim,lamb_da,p_rew,w_minus,start,dose_quantity) =  (75, 0.01, 0.10000000000000002, 1.0, 10, 2)\n",
      "{77, 47, 81, 82, 18, 84, 52, 87, 62, 94}\n",
      "sim_75_p_rew_0.1_start_10_dq_2\n"
     ]
    },
    {
     "name": "stderr",
     "output_type": "stream",
     "text": [
      "/home/aiyappa/anaconda3/lib/python3.7/site-packages/tables/path.py:112: NaturalNameWarning: object name is not a valid Python identifier: 'sim_75_p_rew_0.1_start_10_dq_2'; it does not match the pattern ``^[a-zA-Z_][a-zA-Z0-9_]*$``; you will not be able to use natural naming to access this object; using ``getattr()`` will still work, though\n",
      "  NaturalNameWarning)\n"
     ]
    },
    {
     "name": "stdout",
     "output_type": "stream",
     "text": [
      "(sim,lamb_da,p_rew,w_minus,start,dose_quantity) =  (75, 0.10000000000000002, 1.0, 1.0, 1, 0.1)\n",
      "{35}\n",
      "sim_75_p_rew_1_start_1_dq_0.1\n"
     ]
    },
    {
     "name": "stderr",
     "output_type": "stream",
     "text": [
      "/home/aiyappa/anaconda3/lib/python3.7/site-packages/tables/path.py:112: NaturalNameWarning: object name is not a valid Python identifier: 'sim_75_p_rew_1_start_1_dq_0.1'; it does not match the pattern ``^[a-zA-Z_][a-zA-Z0-9_]*$``; you will not be able to use natural naming to access this object; using ``getattr()`` will still work, though\n",
      "  NaturalNameWarning)\n"
     ]
    },
    {
     "name": "stdout",
     "output_type": "stream",
     "text": [
      "(sim,lamb_da,p_rew,w_minus,start,dose_quantity) =  (75, 0.10000000000000002, 1.0, 1.0, 1, 2)\n",
      "{39}\n",
      "sim_75_p_rew_1_start_1_dq_2\n",
      "(sim,lamb_da,p_rew,w_minus,start,dose_quantity) =  (75, 0.10000000000000002, 1.0, 1.0, 10, 0.1)\n",
      "Initial node infection step failed\n",
      "None\n",
      "Initial node infection step failed\n",
      "None\n",
      "Initial node infection step failed\n",
      "None\n",
      "Initial node infection step failed\n",
      "None\n",
      "{0, 33, 45, 81, 83, 93, 54, 88, 90, 61}\n",
      "sim_75_p_rew_1_start_10_dq_0.1\n"
     ]
    },
    {
     "name": "stderr",
     "output_type": "stream",
     "text": [
      "/home/aiyappa/anaconda3/lib/python3.7/site-packages/tables/path.py:112: NaturalNameWarning: object name is not a valid Python identifier: 'sim_75_p_rew_1_start_10_dq_0.1'; it does not match the pattern ``^[a-zA-Z_][a-zA-Z0-9_]*$``; you will not be able to use natural naming to access this object; using ``getattr()`` will still work, though\n",
      "  NaturalNameWarning)\n"
     ]
    },
    {
     "name": "stdout",
     "output_type": "stream",
     "text": [
      "(sim,lamb_da,p_rew,w_minus,start,dose_quantity) =  (75, 0.10000000000000002, 1.0, 1.0, 10, 2)\n",
      "{65, 2, 70, 72, 10, 46, 15, 80, 55, 90}\n",
      "sim_75_p_rew_1_start_10_dq_2\n",
      "(sim,lamb_da,p_rew,w_minus,start,dose_quantity) =  (75, 1.0, 10.0, 1.0, 1, 0.1)\n",
      "{41}\n",
      "sim_75_p_rew_10_start_1_dq_0.1\n"
     ]
    },
    {
     "name": "stderr",
     "output_type": "stream",
     "text": [
      "/home/aiyappa/anaconda3/lib/python3.7/site-packages/tables/path.py:112: NaturalNameWarning: object name is not a valid Python identifier: 'sim_75_p_rew_10_start_1_dq_0.1'; it does not match the pattern ``^[a-zA-Z_][a-zA-Z0-9_]*$``; you will not be able to use natural naming to access this object; using ``getattr()`` will still work, though\n",
      "  NaturalNameWarning)\n"
     ]
    },
    {
     "name": "stdout",
     "output_type": "stream",
     "text": [
      "(sim,lamb_da,p_rew,w_minus,start,dose_quantity) =  (75, 1.0, 10.0, 1.0, 1, 2)\n",
      "{10}\n",
      "sim_75_p_rew_10_start_1_dq_2\n",
      "(sim,lamb_da,p_rew,w_minus,start,dose_quantity) =  (75, 1.0, 10.0, 1.0, 10, 0.1)\n",
      "Initial node infection step failed\n",
      "None\n",
      "Initial node infection step failed\n",
      "None\n",
      "Initial node infection step failed\n",
      "None\n",
      "Initial node infection step failed\n",
      "None\n",
      "Initial node infection step failed\n",
      "None\n",
      "Initial node infection step failed\n",
      "None\n",
      "Initial node infection step failed\n",
      "None\n",
      "Initial node infection step failed\n",
      "None\n",
      "Initial node infection step failed\n",
      "None\n",
      "Initial node infection step failed\n",
      "None\n",
      "Initial node infection step failed\n",
      "None\n",
      "Initial node infection step failed\n",
      "None\n",
      "Initial node infection step failed\n",
      "None\n",
      "Initial node infection step failed\n",
      "None\n",
      "Initial node infection step failed\n",
      "None\n",
      "Initial node infection step failed\n",
      "None\n",
      "Initial node infection step failed\n",
      "None\n",
      "Initial node infection step failed\n",
      "None\n",
      "Initial node infection step failed\n",
      "None\n",
      "Initial node infection step failed\n",
      "None\n",
      "Initial node infection step failed\n",
      "None\n",
      "Initial node infection step failed\n",
      "None\n",
      "Initial node infection step failed\n",
      "None\n",
      "Initial node infection step failed\n",
      "None\n",
      "Initial node infection step failed\n",
      "None\n",
      "Initial node infection step failed\n",
      "None\n",
      "Initial node infection step failed\n",
      "None\n",
      "Initial node infection step failed\n",
      "None\n",
      "Initial node infection step failed\n",
      "None\n",
      "Initial node infection step failed\n",
      "None\n",
      "Initial node infection step failed\n",
      "None\n",
      "{68, 8, 12, 77, 79, 50, 83, 84, 52, 89}\n",
      "sim_75_p_rew_10_start_10_dq_0.1\n"
     ]
    },
    {
     "name": "stderr",
     "output_type": "stream",
     "text": [
      "/home/aiyappa/anaconda3/lib/python3.7/site-packages/tables/path.py:112: NaturalNameWarning: object name is not a valid Python identifier: 'sim_75_p_rew_10_start_10_dq_0.1'; it does not match the pattern ``^[a-zA-Z_][a-zA-Z0-9_]*$``; you will not be able to use natural naming to access this object; using ``getattr()`` will still work, though\n",
      "  NaturalNameWarning)\n"
     ]
    },
    {
     "name": "stdout",
     "output_type": "stream",
     "text": [
      "(sim,lamb_da,p_rew,w_minus,start,dose_quantity) =  (75, 1.0, 10.0, 1.0, 10, 2)\n",
      "{1, 70, 72, 73, 42, 91, 84, 21, 27, 61}\n",
      "sim_75_p_rew_10_start_10_dq_2\n",
      "(sim,lamb_da,p_rew,w_minus,start,dose_quantity) =  (76, 0.001, 0.01, 1.0, 1, 0.1)\n",
      "{3}\n",
      "sim_76_p_rew_0.01_start_1_dq_0.1\n"
     ]
    },
    {
     "name": "stderr",
     "output_type": "stream",
     "text": [
      "/home/aiyappa/anaconda3/lib/python3.7/site-packages/tables/path.py:112: NaturalNameWarning: object name is not a valid Python identifier: 'sim_76_p_rew_0.01_start_1_dq_0.1'; it does not match the pattern ``^[a-zA-Z_][a-zA-Z0-9_]*$``; you will not be able to use natural naming to access this object; using ``getattr()`` will still work, though\n",
      "  NaturalNameWarning)\n"
     ]
    },
    {
     "name": "stdout",
     "output_type": "stream",
     "text": [
      "(sim,lamb_da,p_rew,w_minus,start,dose_quantity) =  (76, 0.001, 0.01, 1.0, 1, 2)\n",
      "{15}\n",
      "sim_76_p_rew_0.01_start_1_dq_2\n"
     ]
    },
    {
     "name": "stderr",
     "output_type": "stream",
     "text": [
      "/home/aiyappa/anaconda3/lib/python3.7/site-packages/tables/path.py:112: NaturalNameWarning: object name is not a valid Python identifier: 'sim_76_p_rew_0.01_start_1_dq_2'; it does not match the pattern ``^[a-zA-Z_][a-zA-Z0-9_]*$``; you will not be able to use natural naming to access this object; using ``getattr()`` will still work, though\n",
      "  NaturalNameWarning)\n"
     ]
    },
    {
     "name": "stdout",
     "output_type": "stream",
     "text": [
      "(sim,lamb_da,p_rew,w_minus,start,dose_quantity) =  (76, 0.001, 0.01, 1.0, 10, 0.1)\n",
      "{32, 64, 79, 48, 51, 52, 21, 56, 25, 91}\n",
      "sim_76_p_rew_0.01_start_10_dq_0.1\n"
     ]
    },
    {
     "name": "stderr",
     "output_type": "stream",
     "text": [
      "/home/aiyappa/anaconda3/lib/python3.7/site-packages/tables/path.py:112: NaturalNameWarning: object name is not a valid Python identifier: 'sim_76_p_rew_0.01_start_10_dq_0.1'; it does not match the pattern ``^[a-zA-Z_][a-zA-Z0-9_]*$``; you will not be able to use natural naming to access this object; using ``getattr()`` will still work, though\n",
      "  NaturalNameWarning)\n"
     ]
    },
    {
     "name": "stdout",
     "output_type": "stream",
     "text": [
      "(sim,lamb_da,p_rew,w_minus,start,dose_quantity) =  (76, 0.001, 0.01, 1.0, 10, 2)\n",
      "{97, 1, 67, 4, 72, 48, 80, 19, 51, 89}\n",
      "sim_76_p_rew_0.01_start_10_dq_2\n"
     ]
    },
    {
     "name": "stderr",
     "output_type": "stream",
     "text": [
      "/home/aiyappa/anaconda3/lib/python3.7/site-packages/tables/path.py:112: NaturalNameWarning: object name is not a valid Python identifier: 'sim_76_p_rew_0.01_start_10_dq_2'; it does not match the pattern ``^[a-zA-Z_][a-zA-Z0-9_]*$``; you will not be able to use natural naming to access this object; using ``getattr()`` will still work, though\n",
      "  NaturalNameWarning)\n"
     ]
    },
    {
     "name": "stdout",
     "output_type": "stream",
     "text": [
      "(sim,lamb_da,p_rew,w_minus,start,dose_quantity) =  (76, 0.01, 0.10000000000000002, 1.0, 1, 0.1)\n",
      "{85}\n",
      "sim_76_p_rew_0.1_start_1_dq_0.1\n"
     ]
    },
    {
     "name": "stderr",
     "output_type": "stream",
     "text": [
      "/home/aiyappa/anaconda3/lib/python3.7/site-packages/tables/path.py:112: NaturalNameWarning: object name is not a valid Python identifier: 'sim_76_p_rew_0.1_start_1_dq_0.1'; it does not match the pattern ``^[a-zA-Z_][a-zA-Z0-9_]*$``; you will not be able to use natural naming to access this object; using ``getattr()`` will still work, though\n",
      "  NaturalNameWarning)\n"
     ]
    },
    {
     "name": "stdout",
     "output_type": "stream",
     "text": [
      "(sim,lamb_da,p_rew,w_minus,start,dose_quantity) =  (76, 0.01, 0.10000000000000002, 1.0, 1, 2)\n",
      "{50}\n",
      "sim_76_p_rew_0.1_start_1_dq_2\n"
     ]
    },
    {
     "name": "stderr",
     "output_type": "stream",
     "text": [
      "/home/aiyappa/anaconda3/lib/python3.7/site-packages/tables/path.py:112: NaturalNameWarning: object name is not a valid Python identifier: 'sim_76_p_rew_0.1_start_1_dq_2'; it does not match the pattern ``^[a-zA-Z_][a-zA-Z0-9_]*$``; you will not be able to use natural naming to access this object; using ``getattr()`` will still work, though\n",
      "  NaturalNameWarning)\n"
     ]
    },
    {
     "name": "stdout",
     "output_type": "stream",
     "text": [
      "(sim,lamb_da,p_rew,w_minus,start,dose_quantity) =  (76, 0.01, 0.10000000000000002, 1.0, 10, 0.1)\n",
      "{96, 2, 6, 43, 45, 81, 19, 55, 91, 31}\n",
      "sim_76_p_rew_0.1_start_10_dq_0.1\n"
     ]
    },
    {
     "name": "stderr",
     "output_type": "stream",
     "text": [
      "/home/aiyappa/anaconda3/lib/python3.7/site-packages/tables/path.py:112: NaturalNameWarning: object name is not a valid Python identifier: 'sim_76_p_rew_0.1_start_10_dq_0.1'; it does not match the pattern ``^[a-zA-Z_][a-zA-Z0-9_]*$``; you will not be able to use natural naming to access this object; using ``getattr()`` will still work, though\n",
      "  NaturalNameWarning)\n"
     ]
    },
    {
     "name": "stdout",
     "output_type": "stream",
     "text": [
      "(sim,lamb_da,p_rew,w_minus,start,dose_quantity) =  (76, 0.01, 0.10000000000000002, 1.0, 10, 2)\n",
      "{99, 72, 14, 47, 21, 85, 87, 53, 62, 63}\n",
      "sim_76_p_rew_0.1_start_10_dq_2\n"
     ]
    },
    {
     "name": "stderr",
     "output_type": "stream",
     "text": [
      "/home/aiyappa/anaconda3/lib/python3.7/site-packages/tables/path.py:112: NaturalNameWarning: object name is not a valid Python identifier: 'sim_76_p_rew_0.1_start_10_dq_2'; it does not match the pattern ``^[a-zA-Z_][a-zA-Z0-9_]*$``; you will not be able to use natural naming to access this object; using ``getattr()`` will still work, though\n",
      "  NaturalNameWarning)\n"
     ]
    },
    {
     "name": "stdout",
     "output_type": "stream",
     "text": [
      "(sim,lamb_da,p_rew,w_minus,start,dose_quantity) =  (76, 0.10000000000000002, 1.0, 1.0, 1, 0.1)\n",
      "{83}\n",
      "sim_76_p_rew_1_start_1_dq_0.1\n"
     ]
    },
    {
     "name": "stderr",
     "output_type": "stream",
     "text": [
      "/home/aiyappa/anaconda3/lib/python3.7/site-packages/tables/path.py:112: NaturalNameWarning: object name is not a valid Python identifier: 'sim_76_p_rew_1_start_1_dq_0.1'; it does not match the pattern ``^[a-zA-Z_][a-zA-Z0-9_]*$``; you will not be able to use natural naming to access this object; using ``getattr()`` will still work, though\n",
      "  NaturalNameWarning)\n"
     ]
    },
    {
     "name": "stdout",
     "output_type": "stream",
     "text": [
      "(sim,lamb_da,p_rew,w_minus,start,dose_quantity) =  (76, 0.10000000000000002, 1.0, 1.0, 1, 2)\n",
      "{65}\n",
      "sim_76_p_rew_1_start_1_dq_2\n",
      "(sim,lamb_da,p_rew,w_minus,start,dose_quantity) =  (76, 0.10000000000000002, 1.0, 1.0, 10, 0.1)\n",
      "Initial node infection step failed\n",
      "None\n",
      "{2, 37, 8, 76, 46, 85, 23, 25, 58, 31}\n",
      "sim_76_p_rew_1_start_10_dq_0.1\n"
     ]
    },
    {
     "name": "stderr",
     "output_type": "stream",
     "text": [
      "/home/aiyappa/anaconda3/lib/python3.7/site-packages/tables/path.py:112: NaturalNameWarning: object name is not a valid Python identifier: 'sim_76_p_rew_1_start_10_dq_0.1'; it does not match the pattern ``^[a-zA-Z_][a-zA-Z0-9_]*$``; you will not be able to use natural naming to access this object; using ``getattr()`` will still work, though\n",
      "  NaturalNameWarning)\n"
     ]
    },
    {
     "name": "stdout",
     "output_type": "stream",
     "text": [
      "(sim,lamb_da,p_rew,w_minus,start,dose_quantity) =  (76, 0.10000000000000002, 1.0, 1.0, 10, 2)\n",
      "{35, 37, 72, 11, 77, 19, 22, 55, 88, 30}\n",
      "sim_76_p_rew_1_start_10_dq_2\n",
      "(sim,lamb_da,p_rew,w_minus,start,dose_quantity) =  (76, 1.0, 10.0, 1.0, 1, 0.1)\n",
      "{24}\n",
      "sim_76_p_rew_10_start_1_dq_0.1\n"
     ]
    },
    {
     "name": "stderr",
     "output_type": "stream",
     "text": [
      "/home/aiyappa/anaconda3/lib/python3.7/site-packages/tables/path.py:112: NaturalNameWarning: object name is not a valid Python identifier: 'sim_76_p_rew_10_start_1_dq_0.1'; it does not match the pattern ``^[a-zA-Z_][a-zA-Z0-9_]*$``; you will not be able to use natural naming to access this object; using ``getattr()`` will still work, though\n",
      "  NaturalNameWarning)\n"
     ]
    },
    {
     "name": "stdout",
     "output_type": "stream",
     "text": [
      "(sim,lamb_da,p_rew,w_minus,start,dose_quantity) =  (76, 1.0, 10.0, 1.0, 1, 2)\n",
      "{90}\n",
      "sim_76_p_rew_10_start_1_dq_2\n",
      "(sim,lamb_da,p_rew,w_minus,start,dose_quantity) =  (76, 1.0, 10.0, 1.0, 10, 0.1)\n",
      "Initial node infection step failed\n",
      "None\n",
      "Initial node infection step failed\n",
      "None\n",
      "Initial node infection step failed\n",
      "None\n",
      "Initial node infection step failed\n",
      "None\n",
      "Initial node infection step failed\n",
      "None\n",
      "Initial node infection step failed\n",
      "None\n",
      "Initial node infection step failed\n",
      "None\n",
      "Initial node infection step failed\n",
      "None\n",
      "Initial node infection step failed\n",
      "None\n",
      "Initial node infection step failed\n",
      "None\n",
      "Initial node infection step failed\n",
      "None\n",
      "Initial node infection step failed\n",
      "None\n",
      "Initial node infection step failed\n",
      "None\n",
      "Initial node infection step failed\n",
      "None\n",
      "Initial node infection step failed\n",
      "None\n",
      "Initial node infection step failed\n",
      "None\n",
      "{64, 99, 36, 8, 13, 81, 22, 56, 25, 59}\n",
      "sim_76_p_rew_10_start_10_dq_0.1\n"
     ]
    },
    {
     "name": "stderr",
     "output_type": "stream",
     "text": [
      "/home/aiyappa/anaconda3/lib/python3.7/site-packages/tables/path.py:112: NaturalNameWarning: object name is not a valid Python identifier: 'sim_76_p_rew_10_start_10_dq_0.1'; it does not match the pattern ``^[a-zA-Z_][a-zA-Z0-9_]*$``; you will not be able to use natural naming to access this object; using ``getattr()`` will still work, though\n",
      "  NaturalNameWarning)\n"
     ]
    },
    {
     "name": "stdout",
     "output_type": "stream",
     "text": [
      "(sim,lamb_da,p_rew,w_minus,start,dose_quantity) =  (76, 1.0, 10.0, 1.0, 10, 2)\n",
      "{96, 97, 72, 74, 14, 50, 54, 87, 91, 60}\n",
      "sim_76_p_rew_10_start_10_dq_2\n",
      "(sim,lamb_da,p_rew,w_minus,start,dose_quantity) =  (77, 0.001, 0.01, 1.0, 1, 0.1)\n",
      "{91}\n",
      "sim_77_p_rew_0.01_start_1_dq_0.1\n"
     ]
    },
    {
     "name": "stderr",
     "output_type": "stream",
     "text": [
      "/home/aiyappa/anaconda3/lib/python3.7/site-packages/tables/path.py:112: NaturalNameWarning: object name is not a valid Python identifier: 'sim_77_p_rew_0.01_start_1_dq_0.1'; it does not match the pattern ``^[a-zA-Z_][a-zA-Z0-9_]*$``; you will not be able to use natural naming to access this object; using ``getattr()`` will still work, though\n",
      "  NaturalNameWarning)\n"
     ]
    },
    {
     "name": "stdout",
     "output_type": "stream",
     "text": [
      "(sim,lamb_da,p_rew,w_minus,start,dose_quantity) =  (77, 0.001, 0.01, 1.0, 1, 2)\n",
      "{54}\n",
      "sim_77_p_rew_0.01_start_1_dq_2\n"
     ]
    },
    {
     "name": "stderr",
     "output_type": "stream",
     "text": [
      "/home/aiyappa/anaconda3/lib/python3.7/site-packages/tables/path.py:112: NaturalNameWarning: object name is not a valid Python identifier: 'sim_77_p_rew_0.01_start_1_dq_2'; it does not match the pattern ``^[a-zA-Z_][a-zA-Z0-9_]*$``; you will not be able to use natural naming to access this object; using ``getattr()`` will still work, though\n",
      "  NaturalNameWarning)\n"
     ]
    },
    {
     "name": "stdout",
     "output_type": "stream",
     "text": [
      "(sim,lamb_da,p_rew,w_minus,start,dose_quantity) =  (77, 0.001, 0.01, 1.0, 10, 0.1)\n",
      "{0, 33, 34, 67, 38, 73, 23, 25, 28, 62}\n",
      "sim_77_p_rew_0.01_start_10_dq_0.1\n"
     ]
    },
    {
     "name": "stderr",
     "output_type": "stream",
     "text": [
      "/home/aiyappa/anaconda3/lib/python3.7/site-packages/tables/path.py:112: NaturalNameWarning: object name is not a valid Python identifier: 'sim_77_p_rew_0.01_start_10_dq_0.1'; it does not match the pattern ``^[a-zA-Z_][a-zA-Z0-9_]*$``; you will not be able to use natural naming to access this object; using ``getattr()`` will still work, though\n",
      "  NaturalNameWarning)\n"
     ]
    },
    {
     "name": "stdout",
     "output_type": "stream",
     "text": [
      "(sim,lamb_da,p_rew,w_minus,start,dose_quantity) =  (77, 0.001, 0.01, 1.0, 10, 2)\n",
      "{97, 2, 1, 43, 82, 51, 52, 23, 90, 95}\n",
      "sim_77_p_rew_0.01_start_10_dq_2\n"
     ]
    },
    {
     "name": "stderr",
     "output_type": "stream",
     "text": [
      "/home/aiyappa/anaconda3/lib/python3.7/site-packages/tables/path.py:112: NaturalNameWarning: object name is not a valid Python identifier: 'sim_77_p_rew_0.01_start_10_dq_2'; it does not match the pattern ``^[a-zA-Z_][a-zA-Z0-9_]*$``; you will not be able to use natural naming to access this object; using ``getattr()`` will still work, though\n",
      "  NaturalNameWarning)\n"
     ]
    },
    {
     "name": "stdout",
     "output_type": "stream",
     "text": [
      "(sim,lamb_da,p_rew,w_minus,start,dose_quantity) =  (77, 0.01, 0.10000000000000002, 1.0, 1, 0.1)\n",
      "{16}\n",
      "sim_77_p_rew_0.1_start_1_dq_0.1\n"
     ]
    },
    {
     "name": "stderr",
     "output_type": "stream",
     "text": [
      "/home/aiyappa/anaconda3/lib/python3.7/site-packages/tables/path.py:112: NaturalNameWarning: object name is not a valid Python identifier: 'sim_77_p_rew_0.1_start_1_dq_0.1'; it does not match the pattern ``^[a-zA-Z_][a-zA-Z0-9_]*$``; you will not be able to use natural naming to access this object; using ``getattr()`` will still work, though\n",
      "  NaturalNameWarning)\n"
     ]
    },
    {
     "name": "stdout",
     "output_type": "stream",
     "text": [
      "(sim,lamb_da,p_rew,w_minus,start,dose_quantity) =  (77, 0.01, 0.10000000000000002, 1.0, 1, 2)\n",
      "{54}\n",
      "sim_77_p_rew_0.1_start_1_dq_2\n"
     ]
    },
    {
     "name": "stderr",
     "output_type": "stream",
     "text": [
      "/home/aiyappa/anaconda3/lib/python3.7/site-packages/tables/path.py:112: NaturalNameWarning: object name is not a valid Python identifier: 'sim_77_p_rew_0.1_start_1_dq_2'; it does not match the pattern ``^[a-zA-Z_][a-zA-Z0-9_]*$``; you will not be able to use natural naming to access this object; using ``getattr()`` will still work, though\n",
      "  NaturalNameWarning)\n"
     ]
    },
    {
     "name": "stdout",
     "output_type": "stream",
     "text": [
      "(sim,lamb_da,p_rew,w_minus,start,dose_quantity) =  (77, 0.01, 0.10000000000000002, 1.0, 10, 0.1)\n",
      "{71, 8, 75, 12, 44, 50, 53, 54, 87, 86}\n",
      "sim_77_p_rew_0.1_start_10_dq_0.1\n"
     ]
    },
    {
     "name": "stderr",
     "output_type": "stream",
     "text": [
      "/home/aiyappa/anaconda3/lib/python3.7/site-packages/tables/path.py:112: NaturalNameWarning: object name is not a valid Python identifier: 'sim_77_p_rew_0.1_start_10_dq_0.1'; it does not match the pattern ``^[a-zA-Z_][a-zA-Z0-9_]*$``; you will not be able to use natural naming to access this object; using ``getattr()`` will still work, though\n",
      "  NaturalNameWarning)\n"
     ]
    },
    {
     "name": "stdout",
     "output_type": "stream",
     "text": [
      "(sim,lamb_da,p_rew,w_minus,start,dose_quantity) =  (77, 0.01, 0.10000000000000002, 1.0, 10, 2)\n",
      "{96, 1, 4, 69, 9, 13, 47, 22, 62, 31}\n",
      "sim_77_p_rew_0.1_start_10_dq_2\n"
     ]
    },
    {
     "name": "stderr",
     "output_type": "stream",
     "text": [
      "/home/aiyappa/anaconda3/lib/python3.7/site-packages/tables/path.py:112: NaturalNameWarning: object name is not a valid Python identifier: 'sim_77_p_rew_0.1_start_10_dq_2'; it does not match the pattern ``^[a-zA-Z_][a-zA-Z0-9_]*$``; you will not be able to use natural naming to access this object; using ``getattr()`` will still work, though\n",
      "  NaturalNameWarning)\n"
     ]
    },
    {
     "name": "stdout",
     "output_type": "stream",
     "text": [
      "(sim,lamb_da,p_rew,w_minus,start,dose_quantity) =  (77, 0.10000000000000002, 1.0, 1.0, 1, 0.1)\n",
      "{92}\n",
      "sim_77_p_rew_1_start_1_dq_0.1\n"
     ]
    },
    {
     "name": "stderr",
     "output_type": "stream",
     "text": [
      "/home/aiyappa/anaconda3/lib/python3.7/site-packages/tables/path.py:112: NaturalNameWarning: object name is not a valid Python identifier: 'sim_77_p_rew_1_start_1_dq_0.1'; it does not match the pattern ``^[a-zA-Z_][a-zA-Z0-9_]*$``; you will not be able to use natural naming to access this object; using ``getattr()`` will still work, though\n",
      "  NaturalNameWarning)\n"
     ]
    },
    {
     "name": "stdout",
     "output_type": "stream",
     "text": [
      "(sim,lamb_da,p_rew,w_minus,start,dose_quantity) =  (77, 0.10000000000000002, 1.0, 1.0, 1, 2)\n",
      "{88}\n",
      "sim_77_p_rew_1_start_1_dq_2\n",
      "(sim,lamb_da,p_rew,w_minus,start,dose_quantity) =  (77, 0.10000000000000002, 1.0, 1.0, 10, 0.1)\n",
      "Initial node infection step failed\n",
      "None\n",
      "Initial node infection step failed\n",
      "None\n",
      "{1, 67, 45, 15, 61, 21, 56, 26, 29, 94}\n",
      "sim_77_p_rew_1_start_10_dq_0.1\n"
     ]
    },
    {
     "name": "stderr",
     "output_type": "stream",
     "text": [
      "/home/aiyappa/anaconda3/lib/python3.7/site-packages/tables/path.py:112: NaturalNameWarning: object name is not a valid Python identifier: 'sim_77_p_rew_1_start_10_dq_0.1'; it does not match the pattern ``^[a-zA-Z_][a-zA-Z0-9_]*$``; you will not be able to use natural naming to access this object; using ``getattr()`` will still work, though\n",
      "  NaturalNameWarning)\n"
     ]
    },
    {
     "name": "stdout",
     "output_type": "stream",
     "text": [
      "(sim,lamb_da,p_rew,w_minus,start,dose_quantity) =  (77, 0.10000000000000002, 1.0, 1.0, 10, 2)\n",
      "{98, 68, 69, 4, 39, 77, 23, 57, 27, 31}\n",
      "sim_77_p_rew_1_start_10_dq_2\n",
      "(sim,lamb_da,p_rew,w_minus,start,dose_quantity) =  (77, 1.0, 10.0, 1.0, 1, 0.1)\n",
      "{48}\n",
      "sim_77_p_rew_10_start_1_dq_0.1\n"
     ]
    },
    {
     "name": "stderr",
     "output_type": "stream",
     "text": [
      "/home/aiyappa/anaconda3/lib/python3.7/site-packages/tables/path.py:112: NaturalNameWarning: object name is not a valid Python identifier: 'sim_77_p_rew_10_start_1_dq_0.1'; it does not match the pattern ``^[a-zA-Z_][a-zA-Z0-9_]*$``; you will not be able to use natural naming to access this object; using ``getattr()`` will still work, though\n",
      "  NaturalNameWarning)\n"
     ]
    },
    {
     "name": "stdout",
     "output_type": "stream",
     "text": [
      "(sim,lamb_da,p_rew,w_minus,start,dose_quantity) =  (77, 1.0, 10.0, 1.0, 1, 2)\n",
      "{16}\n",
      "sim_77_p_rew_10_start_1_dq_2\n",
      "(sim,lamb_da,p_rew,w_minus,start,dose_quantity) =  (77, 1.0, 10.0, 1.0, 10, 0.1)\n",
      "Initial node infection step failed\n",
      "None\n",
      "Initial node infection step failed\n",
      "None\n",
      "Initial node infection step failed\n",
      "None\n",
      "Initial node infection step failed\n",
      "None\n",
      "Initial node infection step failed\n",
      "None\n",
      "Initial node infection step failed\n",
      "None\n",
      "Initial node infection step failed\n",
      "None\n",
      "Initial node infection step failed\n",
      "None\n",
      "Initial node infection step failed\n",
      "None\n",
      "Initial node infection step failed\n",
      "None\n",
      "Initial node infection step failed\n",
      "None\n",
      "Initial node infection step failed\n",
      "None\n",
      "Initial node infection step failed\n",
      "None\n",
      "Initial node infection step failed\n",
      "None\n",
      "Initial node infection step failed\n",
      "None\n",
      "Initial node infection step failed\n",
      "None\n",
      "Initial node infection step failed\n",
      "None\n",
      "Initial node infection step failed\n",
      "None\n",
      "Initial node infection step failed\n",
      "None\n",
      "Initial node infection step failed\n",
      "None\n",
      "Initial node infection step failed\n",
      "None\n",
      "Initial node infection step failed\n",
      "None\n",
      "Initial node infection step failed\n",
      "None\n",
      "Initial node infection step failed\n",
      "None\n",
      "{99, 4, 68, 41, 44, 45, 79, 22, 56, 92}\n",
      "sim_77_p_rew_10_start_10_dq_0.1\n"
     ]
    },
    {
     "name": "stderr",
     "output_type": "stream",
     "text": [
      "/home/aiyappa/anaconda3/lib/python3.7/site-packages/tables/path.py:112: NaturalNameWarning: object name is not a valid Python identifier: 'sim_77_p_rew_10_start_10_dq_0.1'; it does not match the pattern ``^[a-zA-Z_][a-zA-Z0-9_]*$``; you will not be able to use natural naming to access this object; using ``getattr()`` will still work, though\n",
      "  NaturalNameWarning)\n"
     ]
    },
    {
     "name": "stdout",
     "output_type": "stream",
     "text": [
      "(sim,lamb_da,p_rew,w_minus,start,dose_quantity) =  (77, 1.0, 10.0, 1.0, 10, 2)\n",
      "{97, 2, 66, 34, 70, 76, 78, 82, 57, 26}\n",
      "sim_77_p_rew_10_start_10_dq_2\n",
      "(sim,lamb_da,p_rew,w_minus,start,dose_quantity) =  (78, 0.001, 0.01, 1.0, 1, 0.1)\n",
      "{18}\n",
      "sim_78_p_rew_0.01_start_1_dq_0.1\n"
     ]
    },
    {
     "name": "stderr",
     "output_type": "stream",
     "text": [
      "/home/aiyappa/anaconda3/lib/python3.7/site-packages/tables/path.py:112: NaturalNameWarning: object name is not a valid Python identifier: 'sim_78_p_rew_0.01_start_1_dq_0.1'; it does not match the pattern ``^[a-zA-Z_][a-zA-Z0-9_]*$``; you will not be able to use natural naming to access this object; using ``getattr()`` will still work, though\n",
      "  NaturalNameWarning)\n"
     ]
    },
    {
     "name": "stdout",
     "output_type": "stream",
     "text": [
      "(sim,lamb_da,p_rew,w_minus,start,dose_quantity) =  (78, 0.001, 0.01, 1.0, 1, 2)\n",
      "{13}\n",
      "sim_78_p_rew_0.01_start_1_dq_2\n"
     ]
    },
    {
     "name": "stderr",
     "output_type": "stream",
     "text": [
      "/home/aiyappa/anaconda3/lib/python3.7/site-packages/tables/path.py:112: NaturalNameWarning: object name is not a valid Python identifier: 'sim_78_p_rew_0.01_start_1_dq_2'; it does not match the pattern ``^[a-zA-Z_][a-zA-Z0-9_]*$``; you will not be able to use natural naming to access this object; using ``getattr()`` will still work, though\n",
      "  NaturalNameWarning)\n"
     ]
    },
    {
     "name": "stdout",
     "output_type": "stream",
     "text": [
      "(sim,lamb_da,p_rew,w_minus,start,dose_quantity) =  (78, 0.001, 0.01, 1.0, 10, 0.1)\n",
      "{32, 89, 4, 68, 72, 9, 41, 53, 57, 90}\n",
      "sim_78_p_rew_0.01_start_10_dq_0.1\n"
     ]
    },
    {
     "name": "stderr",
     "output_type": "stream",
     "text": [
      "/home/aiyappa/anaconda3/lib/python3.7/site-packages/tables/path.py:112: NaturalNameWarning: object name is not a valid Python identifier: 'sim_78_p_rew_0.01_start_10_dq_0.1'; it does not match the pattern ``^[a-zA-Z_][a-zA-Z0-9_]*$``; you will not be able to use natural naming to access this object; using ``getattr()`` will still work, though\n",
      "  NaturalNameWarning)\n"
     ]
    },
    {
     "name": "stdout",
     "output_type": "stream",
     "text": [
      "(sim,lamb_da,p_rew,w_minus,start,dose_quantity) =  (78, 0.001, 0.01, 1.0, 10, 2)\n",
      "{1, 28, 15, 80, 49, 50, 58, 59, 92, 31}\n",
      "sim_78_p_rew_0.01_start_10_dq_2\n"
     ]
    },
    {
     "name": "stderr",
     "output_type": "stream",
     "text": [
      "/home/aiyappa/anaconda3/lib/python3.7/site-packages/tables/path.py:112: NaturalNameWarning: object name is not a valid Python identifier: 'sim_78_p_rew_0.01_start_10_dq_2'; it does not match the pattern ``^[a-zA-Z_][a-zA-Z0-9_]*$``; you will not be able to use natural naming to access this object; using ``getattr()`` will still work, though\n",
      "  NaturalNameWarning)\n"
     ]
    },
    {
     "name": "stdout",
     "output_type": "stream",
     "text": [
      "(sim,lamb_da,p_rew,w_minus,start,dose_quantity) =  (78, 0.01, 0.10000000000000002, 1.0, 1, 0.1)\n",
      "{42}\n",
      "sim_78_p_rew_0.1_start_1_dq_0.1\n"
     ]
    },
    {
     "name": "stderr",
     "output_type": "stream",
     "text": [
      "/home/aiyappa/anaconda3/lib/python3.7/site-packages/tables/path.py:112: NaturalNameWarning: object name is not a valid Python identifier: 'sim_78_p_rew_0.1_start_1_dq_0.1'; it does not match the pattern ``^[a-zA-Z_][a-zA-Z0-9_]*$``; you will not be able to use natural naming to access this object; using ``getattr()`` will still work, though\n",
      "  NaturalNameWarning)\n"
     ]
    },
    {
     "name": "stdout",
     "output_type": "stream",
     "text": [
      "(sim,lamb_da,p_rew,w_minus,start,dose_quantity) =  (78, 0.01, 0.10000000000000002, 1.0, 1, 2)\n",
      "{56}\n",
      "sim_78_p_rew_0.1_start_1_dq_2\n"
     ]
    },
    {
     "name": "stderr",
     "output_type": "stream",
     "text": [
      "/home/aiyappa/anaconda3/lib/python3.7/site-packages/tables/path.py:112: NaturalNameWarning: object name is not a valid Python identifier: 'sim_78_p_rew_0.1_start_1_dq_2'; it does not match the pattern ``^[a-zA-Z_][a-zA-Z0-9_]*$``; you will not be able to use natural naming to access this object; using ``getattr()`` will still work, though\n",
      "  NaturalNameWarning)\n"
     ]
    },
    {
     "name": "stdout",
     "output_type": "stream",
     "text": [
      "(sim,lamb_da,p_rew,w_minus,start,dose_quantity) =  (78, 0.01, 0.10000000000000002, 1.0, 10, 0.1)\n",
      "{99, 6, 13, 16, 25, 56, 89, 90, 93, 62}\n",
      "sim_78_p_rew_0.1_start_10_dq_0.1\n"
     ]
    },
    {
     "name": "stderr",
     "output_type": "stream",
     "text": [
      "/home/aiyappa/anaconda3/lib/python3.7/site-packages/tables/path.py:112: NaturalNameWarning: object name is not a valid Python identifier: 'sim_78_p_rew_0.1_start_10_dq_0.1'; it does not match the pattern ``^[a-zA-Z_][a-zA-Z0-9_]*$``; you will not be able to use natural naming to access this object; using ``getattr()`` will still work, though\n",
      "  NaturalNameWarning)\n"
     ]
    },
    {
     "name": "stdout",
     "output_type": "stream",
     "text": [
      "(sim,lamb_da,p_rew,w_minus,start,dose_quantity) =  (78, 0.01, 0.10000000000000002, 1.0, 10, 2)\n",
      "{97, 69, 6, 14, 82, 53, 23, 56, 60, 63}\n",
      "sim_78_p_rew_0.1_start_10_dq_2\n"
     ]
    },
    {
     "name": "stderr",
     "output_type": "stream",
     "text": [
      "/home/aiyappa/anaconda3/lib/python3.7/site-packages/tables/path.py:112: NaturalNameWarning: object name is not a valid Python identifier: 'sim_78_p_rew_0.1_start_10_dq_2'; it does not match the pattern ``^[a-zA-Z_][a-zA-Z0-9_]*$``; you will not be able to use natural naming to access this object; using ``getattr()`` will still work, though\n",
      "  NaturalNameWarning)\n"
     ]
    },
    {
     "name": "stdout",
     "output_type": "stream",
     "text": [
      "(sim,lamb_da,p_rew,w_minus,start,dose_quantity) =  (78, 0.10000000000000002, 1.0, 1.0, 1, 0.1)\n",
      "{18}\n",
      "sim_78_p_rew_1_start_1_dq_0.1\n"
     ]
    },
    {
     "name": "stderr",
     "output_type": "stream",
     "text": [
      "/home/aiyappa/anaconda3/lib/python3.7/site-packages/tables/path.py:112: NaturalNameWarning: object name is not a valid Python identifier: 'sim_78_p_rew_1_start_1_dq_0.1'; it does not match the pattern ``^[a-zA-Z_][a-zA-Z0-9_]*$``; you will not be able to use natural naming to access this object; using ``getattr()`` will still work, though\n",
      "  NaturalNameWarning)\n"
     ]
    },
    {
     "name": "stdout",
     "output_type": "stream",
     "text": [
      "(sim,lamb_da,p_rew,w_minus,start,dose_quantity) =  (78, 0.10000000000000002, 1.0, 1.0, 1, 2)\n",
      "{12}\n",
      "sim_78_p_rew_1_start_1_dq_2\n",
      "(sim,lamb_da,p_rew,w_minus,start,dose_quantity) =  (78, 0.10000000000000002, 1.0, 1.0, 10, 0.1)\n",
      "Initial node infection step failed\n",
      "None\n",
      "{65, 6, 44, 14, 29, 23, 53, 87, 88, 61}\n",
      "sim_78_p_rew_1_start_10_dq_0.1\n"
     ]
    },
    {
     "name": "stderr",
     "output_type": "stream",
     "text": [
      "/home/aiyappa/anaconda3/lib/python3.7/site-packages/tables/path.py:112: NaturalNameWarning: object name is not a valid Python identifier: 'sim_78_p_rew_1_start_10_dq_0.1'; it does not match the pattern ``^[a-zA-Z_][a-zA-Z0-9_]*$``; you will not be able to use natural naming to access this object; using ``getattr()`` will still work, though\n",
      "  NaturalNameWarning)\n"
     ]
    },
    {
     "name": "stdout",
     "output_type": "stream",
     "text": [
      "(sim,lamb_da,p_rew,w_minus,start,dose_quantity) =  (78, 0.10000000000000002, 1.0, 1.0, 10, 2)\n",
      "{33, 4, 69, 12, 45, 51, 90, 92, 61, 95}\n",
      "sim_78_p_rew_1_start_10_dq_2\n",
      "(sim,lamb_da,p_rew,w_minus,start,dose_quantity) =  (78, 1.0, 10.0, 1.0, 1, 0.1)\n",
      "{58}\n",
      "sim_78_p_rew_10_start_1_dq_0.1\n"
     ]
    },
    {
     "name": "stderr",
     "output_type": "stream",
     "text": [
      "/home/aiyappa/anaconda3/lib/python3.7/site-packages/tables/path.py:112: NaturalNameWarning: object name is not a valid Python identifier: 'sim_78_p_rew_10_start_1_dq_0.1'; it does not match the pattern ``^[a-zA-Z_][a-zA-Z0-9_]*$``; you will not be able to use natural naming to access this object; using ``getattr()`` will still work, though\n",
      "  NaturalNameWarning)\n"
     ]
    },
    {
     "name": "stdout",
     "output_type": "stream",
     "text": [
      "(sim,lamb_da,p_rew,w_minus,start,dose_quantity) =  (78, 1.0, 10.0, 1.0, 1, 2)\n",
      "{36}\n",
      "sim_78_p_rew_10_start_1_dq_2\n",
      "(sim,lamb_da,p_rew,w_minus,start,dose_quantity) =  (78, 1.0, 10.0, 1.0, 10, 0.1)\n",
      "Initial node infection step failed\n",
      "None\n",
      "Initial node infection step failed\n",
      "None\n",
      "Initial node infection step failed\n",
      "None\n",
      "Initial node infection step failed\n",
      "None\n",
      "{97, 34, 36, 41, 74, 14, 15, 60, 63, 31}\n",
      "sim_78_p_rew_10_start_10_dq_0.1\n"
     ]
    },
    {
     "name": "stderr",
     "output_type": "stream",
     "text": [
      "/home/aiyappa/anaconda3/lib/python3.7/site-packages/tables/path.py:112: NaturalNameWarning: object name is not a valid Python identifier: 'sim_78_p_rew_10_start_10_dq_0.1'; it does not match the pattern ``^[a-zA-Z_][a-zA-Z0-9_]*$``; you will not be able to use natural naming to access this object; using ``getattr()`` will still work, though\n",
      "  NaturalNameWarning)\n"
     ]
    },
    {
     "name": "stdout",
     "output_type": "stream",
     "text": [
      "(sim,lamb_da,p_rew,w_minus,start,dose_quantity) =  (78, 1.0, 10.0, 1.0, 10, 2)\n",
      "{4, 36, 8, 74, 42, 17, 21, 56, 91, 29}\n",
      "sim_78_p_rew_10_start_10_dq_2\n",
      "(sim,lamb_da,p_rew,w_minus,start,dose_quantity) =  (79, 0.001, 0.01, 1.0, 1, 0.1)\n",
      "{22}\n",
      "sim_79_p_rew_0.01_start_1_dq_0.1\n"
     ]
    },
    {
     "name": "stderr",
     "output_type": "stream",
     "text": [
      "/home/aiyappa/anaconda3/lib/python3.7/site-packages/tables/path.py:112: NaturalNameWarning: object name is not a valid Python identifier: 'sim_79_p_rew_0.01_start_1_dq_0.1'; it does not match the pattern ``^[a-zA-Z_][a-zA-Z0-9_]*$``; you will not be able to use natural naming to access this object; using ``getattr()`` will still work, though\n",
      "  NaturalNameWarning)\n"
     ]
    },
    {
     "name": "stdout",
     "output_type": "stream",
     "text": [
      "(sim,lamb_da,p_rew,w_minus,start,dose_quantity) =  (79, 0.001, 0.01, 1.0, 1, 2)\n",
      "{9}\n",
      "sim_79_p_rew_0.01_start_1_dq_2\n"
     ]
    },
    {
     "name": "stderr",
     "output_type": "stream",
     "text": [
      "/home/aiyappa/anaconda3/lib/python3.7/site-packages/tables/path.py:112: NaturalNameWarning: object name is not a valid Python identifier: 'sim_79_p_rew_0.01_start_1_dq_2'; it does not match the pattern ``^[a-zA-Z_][a-zA-Z0-9_]*$``; you will not be able to use natural naming to access this object; using ``getattr()`` will still work, though\n",
      "  NaturalNameWarning)\n"
     ]
    },
    {
     "name": "stdout",
     "output_type": "stream",
     "text": [
      "(sim,lamb_da,p_rew,w_minus,start,dose_quantity) =  (79, 0.001, 0.01, 1.0, 10, 0.1)\n",
      "{64, 98, 5, 51, 20, 53, 54, 25, 94, 63}\n",
      "sim_79_p_rew_0.01_start_10_dq_0.1\n"
     ]
    },
    {
     "name": "stderr",
     "output_type": "stream",
     "text": [
      "/home/aiyappa/anaconda3/lib/python3.7/site-packages/tables/path.py:112: NaturalNameWarning: object name is not a valid Python identifier: 'sim_79_p_rew_0.01_start_10_dq_0.1'; it does not match the pattern ``^[a-zA-Z_][a-zA-Z0-9_]*$``; you will not be able to use natural naming to access this object; using ``getattr()`` will still work, though\n",
      "  NaturalNameWarning)\n"
     ]
    },
    {
     "name": "stdout",
     "output_type": "stream",
     "text": [
      "(sim,lamb_da,p_rew,w_minus,start,dose_quantity) =  (79, 0.001, 0.01, 1.0, 10, 2)\n",
      "{1, 97, 99, 72, 41, 11, 45, 80, 18, 84}\n",
      "sim_79_p_rew_0.01_start_10_dq_2\n"
     ]
    },
    {
     "name": "stderr",
     "output_type": "stream",
     "text": [
      "/home/aiyappa/anaconda3/lib/python3.7/site-packages/tables/path.py:112: NaturalNameWarning: object name is not a valid Python identifier: 'sim_79_p_rew_0.01_start_10_dq_2'; it does not match the pattern ``^[a-zA-Z_][a-zA-Z0-9_]*$``; you will not be able to use natural naming to access this object; using ``getattr()`` will still work, though\n",
      "  NaturalNameWarning)\n"
     ]
    },
    {
     "name": "stdout",
     "output_type": "stream",
     "text": [
      "(sim,lamb_da,p_rew,w_minus,start,dose_quantity) =  (79, 0.01, 0.10000000000000002, 1.0, 1, 0.1)\n",
      "{37}\n",
      "sim_79_p_rew_0.1_start_1_dq_0.1\n"
     ]
    },
    {
     "name": "stderr",
     "output_type": "stream",
     "text": [
      "/home/aiyappa/anaconda3/lib/python3.7/site-packages/tables/path.py:112: NaturalNameWarning: object name is not a valid Python identifier: 'sim_79_p_rew_0.1_start_1_dq_0.1'; it does not match the pattern ``^[a-zA-Z_][a-zA-Z0-9_]*$``; you will not be able to use natural naming to access this object; using ``getattr()`` will still work, though\n",
      "  NaturalNameWarning)\n"
     ]
    },
    {
     "name": "stdout",
     "output_type": "stream",
     "text": [
      "(sim,lamb_da,p_rew,w_minus,start,dose_quantity) =  (79, 0.01, 0.10000000000000002, 1.0, 1, 2)\n",
      "{47}\n",
      "sim_79_p_rew_0.1_start_1_dq_2\n"
     ]
    },
    {
     "name": "stderr",
     "output_type": "stream",
     "text": [
      "/home/aiyappa/anaconda3/lib/python3.7/site-packages/tables/path.py:112: NaturalNameWarning: object name is not a valid Python identifier: 'sim_79_p_rew_0.1_start_1_dq_2'; it does not match the pattern ``^[a-zA-Z_][a-zA-Z0-9_]*$``; you will not be able to use natural naming to access this object; using ``getattr()`` will still work, though\n",
      "  NaturalNameWarning)\n"
     ]
    },
    {
     "name": "stdout",
     "output_type": "stream",
     "text": [
      "(sim,lamb_da,p_rew,w_minus,start,dose_quantity) =  (79, 0.01, 0.10000000000000002, 1.0, 10, 0.1)\n",
      "Initial node infection step failed\n",
      "None\n",
      "Initial node infection step failed\n",
      "None\n",
      "{37, 39, 11, 45, 28, 50, 57, 59, 92, 61}\n",
      "sim_79_p_rew_0.1_start_10_dq_0.1\n"
     ]
    },
    {
     "name": "stderr",
     "output_type": "stream",
     "text": [
      "/home/aiyappa/anaconda3/lib/python3.7/site-packages/tables/path.py:112: NaturalNameWarning: object name is not a valid Python identifier: 'sim_79_p_rew_0.1_start_10_dq_0.1'; it does not match the pattern ``^[a-zA-Z_][a-zA-Z0-9_]*$``; you will not be able to use natural naming to access this object; using ``getattr()`` will still work, though\n",
      "  NaturalNameWarning)\n"
     ]
    },
    {
     "name": "stdout",
     "output_type": "stream",
     "text": [
      "(sim,lamb_da,p_rew,w_minus,start,dose_quantity) =  (79, 0.01, 0.10000000000000002, 1.0, 10, 2)\n",
      "{64, 1, 33, 3, 49, 52, 20, 26, 59, 29}\n",
      "sim_79_p_rew_0.1_start_10_dq_2\n"
     ]
    },
    {
     "name": "stderr",
     "output_type": "stream",
     "text": [
      "/home/aiyappa/anaconda3/lib/python3.7/site-packages/tables/path.py:112: NaturalNameWarning: object name is not a valid Python identifier: 'sim_79_p_rew_0.1_start_10_dq_2'; it does not match the pattern ``^[a-zA-Z_][a-zA-Z0-9_]*$``; you will not be able to use natural naming to access this object; using ``getattr()`` will still work, though\n",
      "  NaturalNameWarning)\n"
     ]
    },
    {
     "name": "stdout",
     "output_type": "stream",
     "text": [
      "(sim,lamb_da,p_rew,w_minus,start,dose_quantity) =  (79, 0.10000000000000002, 1.0, 1.0, 1, 0.1)\n",
      "{86}\n",
      "sim_79_p_rew_1_start_1_dq_0.1\n"
     ]
    },
    {
     "name": "stderr",
     "output_type": "stream",
     "text": [
      "/home/aiyappa/anaconda3/lib/python3.7/site-packages/tables/path.py:112: NaturalNameWarning: object name is not a valid Python identifier: 'sim_79_p_rew_1_start_1_dq_0.1'; it does not match the pattern ``^[a-zA-Z_][a-zA-Z0-9_]*$``; you will not be able to use natural naming to access this object; using ``getattr()`` will still work, though\n",
      "  NaturalNameWarning)\n"
     ]
    },
    {
     "name": "stdout",
     "output_type": "stream",
     "text": [
      "(sim,lamb_da,p_rew,w_minus,start,dose_quantity) =  (79, 0.10000000000000002, 1.0, 1.0, 1, 2)\n",
      "{49}\n",
      "sim_79_p_rew_1_start_1_dq_2\n",
      "(sim,lamb_da,p_rew,w_minus,start,dose_quantity) =  (79, 0.10000000000000002, 1.0, 1.0, 10, 0.1)\n",
      "{33, 4, 9, 76, 78, 48, 17, 53, 28, 29}\n",
      "sim_79_p_rew_1_start_10_dq_0.1\n"
     ]
    },
    {
     "name": "stderr",
     "output_type": "stream",
     "text": [
      "/home/aiyappa/anaconda3/lib/python3.7/site-packages/tables/path.py:112: NaturalNameWarning: object name is not a valid Python identifier: 'sim_79_p_rew_1_start_10_dq_0.1'; it does not match the pattern ``^[a-zA-Z_][a-zA-Z0-9_]*$``; you will not be able to use natural naming to access this object; using ``getattr()`` will still work, though\n",
      "  NaturalNameWarning)\n"
     ]
    },
    {
     "name": "stdout",
     "output_type": "stream",
     "text": [
      "(sim,lamb_da,p_rew,w_minus,start,dose_quantity) =  (79, 0.10000000000000002, 1.0, 1.0, 10, 2)\n",
      "{0, 33, 98, 3, 5, 38, 11, 76, 53, 27}\n",
      "sim_79_p_rew_1_start_10_dq_2\n",
      "(sim,lamb_da,p_rew,w_minus,start,dose_quantity) =  (79, 1.0, 10.0, 1.0, 1, 0.1)\n",
      "{25}\n",
      "sim_79_p_rew_10_start_1_dq_0.1\n"
     ]
    },
    {
     "name": "stderr",
     "output_type": "stream",
     "text": [
      "/home/aiyappa/anaconda3/lib/python3.7/site-packages/tables/path.py:112: NaturalNameWarning: object name is not a valid Python identifier: 'sim_79_p_rew_10_start_1_dq_0.1'; it does not match the pattern ``^[a-zA-Z_][a-zA-Z0-9_]*$``; you will not be able to use natural naming to access this object; using ``getattr()`` will still work, though\n",
      "  NaturalNameWarning)\n"
     ]
    },
    {
     "name": "stdout",
     "output_type": "stream",
     "text": [
      "(sim,lamb_da,p_rew,w_minus,start,dose_quantity) =  (79, 1.0, 10.0, 1.0, 1, 2)\n",
      "{68}\n",
      "sim_79_p_rew_10_start_1_dq_2\n",
      "(sim,lamb_da,p_rew,w_minus,start,dose_quantity) =  (79, 1.0, 10.0, 1.0, 10, 0.1)\n",
      "{66, 74, 76, 77, 46, 53, 86, 30, 88, 94}\n",
      "sim_79_p_rew_10_start_10_dq_0.1\n"
     ]
    },
    {
     "name": "stderr",
     "output_type": "stream",
     "text": [
      "/home/aiyappa/anaconda3/lib/python3.7/site-packages/tables/path.py:112: NaturalNameWarning: object name is not a valid Python identifier: 'sim_79_p_rew_10_start_10_dq_0.1'; it does not match the pattern ``^[a-zA-Z_][a-zA-Z0-9_]*$``; you will not be able to use natural naming to access this object; using ``getattr()`` will still work, though\n",
      "  NaturalNameWarning)\n"
     ]
    },
    {
     "name": "stdout",
     "output_type": "stream",
     "text": [
      "(sim,lamb_da,p_rew,w_minus,start,dose_quantity) =  (79, 1.0, 10.0, 1.0, 10, 2)\n",
      "{33, 2, 36, 7, 40, 8, 12, 13, 77, 49}\n",
      "sim_79_p_rew_10_start_10_dq_2\n",
      "(sim,lamb_da,p_rew,w_minus,start,dose_quantity) =  (80, 0.001, 0.01, 1.0, 1, 0.1)\n",
      "{79}\n",
      "sim_80_p_rew_0.01_start_1_dq_0.1\n"
     ]
    },
    {
     "name": "stderr",
     "output_type": "stream",
     "text": [
      "/home/aiyappa/anaconda3/lib/python3.7/site-packages/tables/path.py:112: NaturalNameWarning: object name is not a valid Python identifier: 'sim_80_p_rew_0.01_start_1_dq_0.1'; it does not match the pattern ``^[a-zA-Z_][a-zA-Z0-9_]*$``; you will not be able to use natural naming to access this object; using ``getattr()`` will still work, though\n",
      "  NaturalNameWarning)\n"
     ]
    },
    {
     "name": "stdout",
     "output_type": "stream",
     "text": [
      "(sim,lamb_da,p_rew,w_minus,start,dose_quantity) =  (80, 0.001, 0.01, 1.0, 1, 2)\n",
      "{66}\n",
      "sim_80_p_rew_0.01_start_1_dq_2\n"
     ]
    },
    {
     "name": "stderr",
     "output_type": "stream",
     "text": [
      "/home/aiyappa/anaconda3/lib/python3.7/site-packages/tables/path.py:112: NaturalNameWarning: object name is not a valid Python identifier: 'sim_80_p_rew_0.01_start_1_dq_2'; it does not match the pattern ``^[a-zA-Z_][a-zA-Z0-9_]*$``; you will not be able to use natural naming to access this object; using ``getattr()`` will still work, though\n",
      "  NaturalNameWarning)\n"
     ]
    },
    {
     "name": "stdout",
     "output_type": "stream",
     "text": [
      "(sim,lamb_da,p_rew,w_minus,start,dose_quantity) =  (80, 0.001, 0.01, 1.0, 10, 0.1)\n",
      "{33, 38, 42, 44, 46, 61, 87, 55, 89, 93}\n",
      "sim_80_p_rew_0.01_start_10_dq_0.1\n"
     ]
    },
    {
     "name": "stderr",
     "output_type": "stream",
     "text": [
      "/home/aiyappa/anaconda3/lib/python3.7/site-packages/tables/path.py:112: NaturalNameWarning: object name is not a valid Python identifier: 'sim_80_p_rew_0.01_start_10_dq_0.1'; it does not match the pattern ``^[a-zA-Z_][a-zA-Z0-9_]*$``; you will not be able to use natural naming to access this object; using ``getattr()`` will still work, though\n",
      "  NaturalNameWarning)\n"
     ]
    },
    {
     "name": "stdout",
     "output_type": "stream",
     "text": [
      "(sim,lamb_da,p_rew,w_minus,start,dose_quantity) =  (80, 0.001, 0.01, 1.0, 10, 2)\n",
      "{58, 40, 73, 75, 45, 78, 48, 49, 90, 60}\n",
      "sim_80_p_rew_0.01_start_10_dq_2\n"
     ]
    },
    {
     "name": "stderr",
     "output_type": "stream",
     "text": [
      "/home/aiyappa/anaconda3/lib/python3.7/site-packages/tables/path.py:112: NaturalNameWarning: object name is not a valid Python identifier: 'sim_80_p_rew_0.01_start_10_dq_2'; it does not match the pattern ``^[a-zA-Z_][a-zA-Z0-9_]*$``; you will not be able to use natural naming to access this object; using ``getattr()`` will still work, though\n",
      "  NaturalNameWarning)\n"
     ]
    },
    {
     "name": "stdout",
     "output_type": "stream",
     "text": [
      "(sim,lamb_da,p_rew,w_minus,start,dose_quantity) =  (80, 0.01, 0.10000000000000002, 1.0, 1, 0.1)\n",
      "{6}\n",
      "sim_80_p_rew_0.1_start_1_dq_0.1\n"
     ]
    },
    {
     "name": "stderr",
     "output_type": "stream",
     "text": [
      "/home/aiyappa/anaconda3/lib/python3.7/site-packages/tables/path.py:112: NaturalNameWarning: object name is not a valid Python identifier: 'sim_80_p_rew_0.1_start_1_dq_0.1'; it does not match the pattern ``^[a-zA-Z_][a-zA-Z0-9_]*$``; you will not be able to use natural naming to access this object; using ``getattr()`` will still work, though\n",
      "  NaturalNameWarning)\n"
     ]
    },
    {
     "name": "stdout",
     "output_type": "stream",
     "text": [
      "(sim,lamb_da,p_rew,w_minus,start,dose_quantity) =  (80, 0.01, 0.10000000000000002, 1.0, 1, 2)\n",
      "{88}\n",
      "sim_80_p_rew_0.1_start_1_dq_2\n"
     ]
    },
    {
     "name": "stderr",
     "output_type": "stream",
     "text": [
      "/home/aiyappa/anaconda3/lib/python3.7/site-packages/tables/path.py:112: NaturalNameWarning: object name is not a valid Python identifier: 'sim_80_p_rew_0.1_start_1_dq_2'; it does not match the pattern ``^[a-zA-Z_][a-zA-Z0-9_]*$``; you will not be able to use natural naming to access this object; using ``getattr()`` will still work, though\n",
      "  NaturalNameWarning)\n"
     ]
    },
    {
     "name": "stdout",
     "output_type": "stream",
     "text": [
      "(sim,lamb_da,p_rew,w_minus,start,dose_quantity) =  (80, 0.01, 0.10000000000000002, 1.0, 10, 0.1)\n",
      "Initial node infection step failed\n",
      "None\n",
      "{65, 97, 40, 74, 10, 12, 77, 19, 53, 86}\n",
      "sim_80_p_rew_0.1_start_10_dq_0.1\n"
     ]
    },
    {
     "name": "stderr",
     "output_type": "stream",
     "text": [
      "/home/aiyappa/anaconda3/lib/python3.7/site-packages/tables/path.py:112: NaturalNameWarning: object name is not a valid Python identifier: 'sim_80_p_rew_0.1_start_10_dq_0.1'; it does not match the pattern ``^[a-zA-Z_][a-zA-Z0-9_]*$``; you will not be able to use natural naming to access this object; using ``getattr()`` will still work, though\n",
      "  NaturalNameWarning)\n"
     ]
    },
    {
     "name": "stdout",
     "output_type": "stream",
     "text": [
      "(sim,lamb_da,p_rew,w_minus,start,dose_quantity) =  (80, 0.01, 0.10000000000000002, 1.0, 10, 2)\n",
      "{98, 91, 28, 79, 49, 24, 88, 92, 30, 95}\n",
      "sim_80_p_rew_0.1_start_10_dq_2\n"
     ]
    },
    {
     "name": "stderr",
     "output_type": "stream",
     "text": [
      "/home/aiyappa/anaconda3/lib/python3.7/site-packages/tables/path.py:112: NaturalNameWarning: object name is not a valid Python identifier: 'sim_80_p_rew_0.1_start_10_dq_2'; it does not match the pattern ``^[a-zA-Z_][a-zA-Z0-9_]*$``; you will not be able to use natural naming to access this object; using ``getattr()`` will still work, though\n",
      "  NaturalNameWarning)\n"
     ]
    },
    {
     "name": "stdout",
     "output_type": "stream",
     "text": [
      "(sim,lamb_da,p_rew,w_minus,start,dose_quantity) =  (80, 0.10000000000000002, 1.0, 1.0, 1, 0.1)\n",
      "{5}\n",
      "sim_80_p_rew_1_start_1_dq_0.1\n"
     ]
    },
    {
     "name": "stderr",
     "output_type": "stream",
     "text": [
      "/home/aiyappa/anaconda3/lib/python3.7/site-packages/tables/path.py:112: NaturalNameWarning: object name is not a valid Python identifier: 'sim_80_p_rew_1_start_1_dq_0.1'; it does not match the pattern ``^[a-zA-Z_][a-zA-Z0-9_]*$``; you will not be able to use natural naming to access this object; using ``getattr()`` will still work, though\n",
      "  NaturalNameWarning)\n"
     ]
    },
    {
     "name": "stdout",
     "output_type": "stream",
     "text": [
      "(sim,lamb_da,p_rew,w_minus,start,dose_quantity) =  (80, 0.10000000000000002, 1.0, 1.0, 1, 2)\n",
      "{82}\n",
      "sim_80_p_rew_1_start_1_dq_2\n",
      "(sim,lamb_da,p_rew,w_minus,start,dose_quantity) =  (80, 0.10000000000000002, 1.0, 1.0, 10, 0.1)\n",
      "{97, 37, 38, 44, 76, 46, 54, 59, 61, 95}\n",
      "sim_80_p_rew_1_start_10_dq_0.1\n"
     ]
    },
    {
     "name": "stderr",
     "output_type": "stream",
     "text": [
      "/home/aiyappa/anaconda3/lib/python3.7/site-packages/tables/path.py:112: NaturalNameWarning: object name is not a valid Python identifier: 'sim_80_p_rew_1_start_10_dq_0.1'; it does not match the pattern ``^[a-zA-Z_][a-zA-Z0-9_]*$``; you will not be able to use natural naming to access this object; using ``getattr()`` will still work, though\n",
      "  NaturalNameWarning)\n"
     ]
    },
    {
     "name": "stdout",
     "output_type": "stream",
     "text": [
      "(sim,lamb_da,p_rew,w_minus,start,dose_quantity) =  (80, 0.10000000000000002, 1.0, 1.0, 10, 2)\n",
      "{2, 71, 10, 12, 47, 82, 22, 54, 86, 87}\n",
      "sim_80_p_rew_1_start_10_dq_2\n",
      "(sim,lamb_da,p_rew,w_minus,start,dose_quantity) =  (80, 1.0, 10.0, 1.0, 1, 0.1)\n",
      "{76}\n",
      "sim_80_p_rew_10_start_1_dq_0.1\n"
     ]
    },
    {
     "name": "stderr",
     "output_type": "stream",
     "text": [
      "/home/aiyappa/anaconda3/lib/python3.7/site-packages/tables/path.py:112: NaturalNameWarning: object name is not a valid Python identifier: 'sim_80_p_rew_10_start_1_dq_0.1'; it does not match the pattern ``^[a-zA-Z_][a-zA-Z0-9_]*$``; you will not be able to use natural naming to access this object; using ``getattr()`` will still work, though\n",
      "  NaturalNameWarning)\n"
     ]
    },
    {
     "name": "stdout",
     "output_type": "stream",
     "text": [
      "(sim,lamb_da,p_rew,w_minus,start,dose_quantity) =  (80, 1.0, 10.0, 1.0, 1, 2)\n",
      "{75}\n",
      "sim_80_p_rew_10_start_1_dq_2\n",
      "(sim,lamb_da,p_rew,w_minus,start,dose_quantity) =  (80, 1.0, 10.0, 1.0, 10, 0.1)\n",
      "Initial node infection step failed\n",
      "None\n",
      "Initial node infection step failed\n",
      "None\n",
      "Initial node infection step failed\n",
      "None\n",
      "Initial node infection step failed\n",
      "None\n",
      "Initial node infection step failed\n",
      "None\n",
      "Initial node infection step failed\n",
      "None\n",
      "Initial node infection step failed\n",
      "None\n",
      "Initial node infection step failed\n",
      "None\n",
      "Initial node infection step failed\n",
      "None\n",
      "Initial node infection step failed\n",
      "None\n",
      "Initial node infection step failed\n",
      "None\n",
      "Initial node infection step failed\n",
      "None\n",
      "Initial node infection step failed\n",
      "None\n",
      "Initial node infection step failed\n",
      "None\n",
      "Initial node infection step failed\n",
      "None\n",
      "Initial node infection step failed\n",
      "None\n",
      "Initial node infection step failed\n",
      "None\n",
      "Initial node infection step failed\n",
      "None\n",
      "Initial node infection step failed\n",
      "None\n",
      "Initial node infection step failed\n",
      "None\n",
      "Initial node infection step failed\n",
      "None\n",
      "Initial node infection step failed\n",
      "None\n",
      "Initial node infection step failed\n",
      "None\n",
      "Initial node infection step failed\n",
      "None\n",
      "Initial node infection step failed\n",
      "None\n",
      "Initial node infection step failed\n",
      "None\n",
      "Initial node infection step failed\n",
      "None\n",
      "Initial node infection step failed\n",
      "None\n",
      "Initial node infection step failed\n",
      "None\n",
      "Initial node infection step failed\n",
      "None\n",
      "Initial node infection step failed\n",
      "None\n",
      "Initial node infection step failed\n",
      "None\n",
      "Initial node infection step failed\n",
      "None\n",
      "Initial node infection step failed\n",
      "None\n",
      "Initial node infection step failed\n",
      "None\n",
      "Initial node infection step failed\n",
      "None\n",
      "Initial node infection step failed\n",
      "None\n",
      "Initial node infection step failed\n",
      "None\n",
      "Initial node infection step failed\n",
      "None\n",
      "Initial node infection step failed\n",
      "None\n",
      "Initial node infection step failed\n",
      "None\n",
      "Initial node infection step failed\n",
      "None\n",
      "Initial node infection step failed\n",
      "None\n",
      "Initial node infection step failed\n",
      "None\n",
      "Initial node infection step failed\n",
      "None\n",
      "Initial node infection step failed\n",
      "None\n",
      "Initial node infection step failed\n",
      "None\n",
      "Initial node infection step failed\n",
      "None\n",
      "Initial node infection step failed\n",
      "None\n",
      "Initial node infection step failed\n",
      "None\n",
      "Initial node infection step failed\n",
      "None\n",
      "Initial node infection step failed\n",
      "None\n",
      "Initial node infection step failed\n",
      "None\n",
      "Initial node infection step failed\n",
      "None\n",
      "Initial node infection step failed\n",
      "None\n",
      "Initial node infection step failed\n",
      "None\n",
      "Initial node infection step failed\n",
      "None\n",
      "Initial node infection step failed\n",
      "None\n",
      "Initial node infection step failed\n",
      "None\n",
      "Initial node infection step failed\n",
      "None\n",
      "Initial node infection step failed\n",
      "None\n",
      "Initial node infection step failed\n",
      "None\n",
      "Initial node infection step failed\n",
      "None\n",
      "Initial node infection step failed\n",
      "None\n",
      "Initial node infection step failed\n",
      "None\n",
      "Initial node infection step failed\n",
      "None\n",
      "Initial node infection step failed\n",
      "None\n",
      "Initial node infection step failed\n",
      "None\n",
      "Initial node infection step failed\n",
      "None\n",
      "Initial node infection step failed\n",
      "None\n",
      "Initial node infection step failed\n",
      "None\n",
      "Initial node infection step failed\n",
      "None\n",
      "Initial node infection step failed\n",
      "None\n",
      "Initial node infection step failed\n",
      "None\n",
      "Initial node infection step failed\n",
      "None\n",
      "Initial node infection step failed\n",
      "None\n",
      "Initial node infection step failed\n",
      "None\n",
      "Initial node infection step failed\n",
      "None\n",
      "Initial node infection step failed\n",
      "None\n",
      "Initial node infection step failed\n",
      "None\n",
      "Initial node infection step failed\n",
      "None\n",
      "Initial node infection step failed\n",
      "None\n",
      "Initial node infection step failed\n",
      "None\n",
      "Initial node infection step failed\n",
      "None\n",
      "Initial node infection step failed\n",
      "None\n",
      "Initial node infection step failed\n",
      "None\n",
      "Initial node infection step failed\n",
      "None\n",
      "Initial node infection step failed\n",
      "None\n",
      "Initial node infection step failed\n",
      "None\n",
      "Initial node infection step failed\n",
      "None\n",
      "Initial node infection step failed\n",
      "None\n",
      "Initial node infection step failed\n",
      "None\n",
      "Initial node infection step failed\n",
      "None\n",
      "Initial node infection step failed\n",
      "None\n",
      "Initial node infection step failed\n",
      "None\n",
      "Initial node infection step failed\n",
      "None\n",
      "Initial node infection step failed\n",
      "None\n",
      "Initial node infection step failed\n",
      "None\n",
      "Initial node infection step failed\n",
      "None\n",
      "Initial node infection step failed\n",
      "None\n",
      "Initial node infection step failed\n",
      "None\n",
      "Initial node infection step failed\n",
      "None\n",
      "Initial node infection step failed\n",
      "None\n",
      "Initial node infection step failed\n",
      "None\n",
      "Initial node infection step failed\n",
      "None\n",
      "Initial node infection step failed\n",
      "None\n",
      "Initial node infection step failed\n",
      "None\n",
      "Initial node infection step failed\n",
      "None\n",
      "Initial node infection step failed\n",
      "None\n",
      "Initial node infection step failed\n",
      "None\n",
      "Initial node infection step failed\n",
      "None\n",
      "Initial node infection step failed\n",
      "None\n",
      "Initial node infection step failed\n",
      "None\n",
      "{33, 3, 68, 90, 70, 8, 17, 25, 58, 28}\n",
      "sim_80_p_rew_10_start_10_dq_0.1\n"
     ]
    },
    {
     "name": "stderr",
     "output_type": "stream",
     "text": [
      "/home/aiyappa/anaconda3/lib/python3.7/site-packages/tables/path.py:112: NaturalNameWarning: object name is not a valid Python identifier: 'sim_80_p_rew_10_start_10_dq_0.1'; it does not match the pattern ``^[a-zA-Z_][a-zA-Z0-9_]*$``; you will not be able to use natural naming to access this object; using ``getattr()`` will still work, though\n",
      "  NaturalNameWarning)\n"
     ]
    },
    {
     "name": "stdout",
     "output_type": "stream",
     "text": [
      "(sim,lamb_da,p_rew,w_minus,start,dose_quantity) =  (80, 1.0, 10.0, 1.0, 10, 2)\n",
      "{66, 5, 71, 40, 77, 78, 80, 18, 52, 60}\n",
      "sim_80_p_rew_10_start_10_dq_2\n",
      "(sim,lamb_da,p_rew,w_minus,start,dose_quantity) =  (81, 0.001, 0.01, 1.0, 1, 0.1)\n",
      "{61}\n",
      "sim_81_p_rew_0.01_start_1_dq_0.1\n"
     ]
    },
    {
     "name": "stderr",
     "output_type": "stream",
     "text": [
      "/home/aiyappa/anaconda3/lib/python3.7/site-packages/tables/path.py:112: NaturalNameWarning: object name is not a valid Python identifier: 'sim_81_p_rew_0.01_start_1_dq_0.1'; it does not match the pattern ``^[a-zA-Z_][a-zA-Z0-9_]*$``; you will not be able to use natural naming to access this object; using ``getattr()`` will still work, though\n",
      "  NaturalNameWarning)\n"
     ]
    },
    {
     "name": "stdout",
     "output_type": "stream",
     "text": [
      "(sim,lamb_da,p_rew,w_minus,start,dose_quantity) =  (81, 0.001, 0.01, 1.0, 1, 2)\n",
      "{59}\n",
      "sim_81_p_rew_0.01_start_1_dq_2\n"
     ]
    },
    {
     "name": "stderr",
     "output_type": "stream",
     "text": [
      "/home/aiyappa/anaconda3/lib/python3.7/site-packages/tables/path.py:112: NaturalNameWarning: object name is not a valid Python identifier: 'sim_81_p_rew_0.01_start_1_dq_2'; it does not match the pattern ``^[a-zA-Z_][a-zA-Z0-9_]*$``; you will not be able to use natural naming to access this object; using ``getattr()`` will still work, though\n",
      "  NaturalNameWarning)\n"
     ]
    },
    {
     "name": "stdout",
     "output_type": "stream",
     "text": [
      "(sim,lamb_da,p_rew,w_minus,start,dose_quantity) =  (81, 0.001, 0.01, 1.0, 10, 0.1)\n",
      "{70, 74, 16, 17, 19, 20, 57, 58, 27, 60}\n",
      "sim_81_p_rew_0.01_start_10_dq_0.1\n"
     ]
    },
    {
     "name": "stderr",
     "output_type": "stream",
     "text": [
      "/home/aiyappa/anaconda3/lib/python3.7/site-packages/tables/path.py:112: NaturalNameWarning: object name is not a valid Python identifier: 'sim_81_p_rew_0.01_start_10_dq_0.1'; it does not match the pattern ``^[a-zA-Z_][a-zA-Z0-9_]*$``; you will not be able to use natural naming to access this object; using ``getattr()`` will still work, though\n",
      "  NaturalNameWarning)\n"
     ]
    },
    {
     "name": "stdout",
     "output_type": "stream",
     "text": [
      "(sim,lamb_da,p_rew,w_minus,start,dose_quantity) =  (81, 0.001, 0.01, 1.0, 10, 2)\n",
      "{32, 65, 5, 80, 48, 21, 54, 55, 58, 27}\n",
      "sim_81_p_rew_0.01_start_10_dq_2\n"
     ]
    },
    {
     "name": "stderr",
     "output_type": "stream",
     "text": [
      "/home/aiyappa/anaconda3/lib/python3.7/site-packages/tables/path.py:112: NaturalNameWarning: object name is not a valid Python identifier: 'sim_81_p_rew_0.01_start_10_dq_2'; it does not match the pattern ``^[a-zA-Z_][a-zA-Z0-9_]*$``; you will not be able to use natural naming to access this object; using ``getattr()`` will still work, though\n",
      "  NaturalNameWarning)\n"
     ]
    },
    {
     "name": "stdout",
     "output_type": "stream",
     "text": [
      "(sim,lamb_da,p_rew,w_minus,start,dose_quantity) =  (81, 0.01, 0.10000000000000002, 1.0, 1, 0.1)\n",
      "{35}\n",
      "sim_81_p_rew_0.1_start_1_dq_0.1\n"
     ]
    },
    {
     "name": "stderr",
     "output_type": "stream",
     "text": [
      "/home/aiyappa/anaconda3/lib/python3.7/site-packages/tables/path.py:112: NaturalNameWarning: object name is not a valid Python identifier: 'sim_81_p_rew_0.1_start_1_dq_0.1'; it does not match the pattern ``^[a-zA-Z_][a-zA-Z0-9_]*$``; you will not be able to use natural naming to access this object; using ``getattr()`` will still work, though\n",
      "  NaturalNameWarning)\n"
     ]
    },
    {
     "name": "stdout",
     "output_type": "stream",
     "text": [
      "(sim,lamb_da,p_rew,w_minus,start,dose_quantity) =  (81, 0.01, 0.10000000000000002, 1.0, 1, 2)\n",
      "{28}\n",
      "sim_81_p_rew_0.1_start_1_dq_2\n"
     ]
    },
    {
     "name": "stderr",
     "output_type": "stream",
     "text": [
      "/home/aiyappa/anaconda3/lib/python3.7/site-packages/tables/path.py:112: NaturalNameWarning: object name is not a valid Python identifier: 'sim_81_p_rew_0.1_start_1_dq_2'; it does not match the pattern ``^[a-zA-Z_][a-zA-Z0-9_]*$``; you will not be able to use natural naming to access this object; using ``getattr()`` will still work, though\n",
      "  NaturalNameWarning)\n"
     ]
    },
    {
     "name": "stdout",
     "output_type": "stream",
     "text": [
      "(sim,lamb_da,p_rew,w_minus,start,dose_quantity) =  (81, 0.01, 0.10000000000000002, 1.0, 10, 0.1)\n",
      "Initial node infection step failed\n",
      "None\n",
      "Initial node infection step failed\n",
      "None\n",
      "Initial node infection step failed\n",
      "None\n",
      "Initial node infection step failed\n",
      "None\n",
      "Initial node infection step failed\n",
      "None\n",
      "{4, 39, 44, 47, 18, 61, 88, 89, 93, 94}\n",
      "sim_81_p_rew_0.1_start_10_dq_0.1\n"
     ]
    },
    {
     "name": "stderr",
     "output_type": "stream",
     "text": [
      "/home/aiyappa/anaconda3/lib/python3.7/site-packages/tables/path.py:112: NaturalNameWarning: object name is not a valid Python identifier: 'sim_81_p_rew_0.1_start_10_dq_0.1'; it does not match the pattern ``^[a-zA-Z_][a-zA-Z0-9_]*$``; you will not be able to use natural naming to access this object; using ``getattr()`` will still work, though\n",
      "  NaturalNameWarning)\n"
     ]
    },
    {
     "name": "stdout",
     "output_type": "stream",
     "text": [
      "(sim,lamb_da,p_rew,w_minus,start,dose_quantity) =  (81, 0.01, 0.10000000000000002, 1.0, 10, 2)\n",
      "{99, 5, 69, 74, 48, 49, 83, 53, 89, 90}\n",
      "sim_81_p_rew_0.1_start_10_dq_2\n"
     ]
    },
    {
     "name": "stderr",
     "output_type": "stream",
     "text": [
      "/home/aiyappa/anaconda3/lib/python3.7/site-packages/tables/path.py:112: NaturalNameWarning: object name is not a valid Python identifier: 'sim_81_p_rew_0.1_start_10_dq_2'; it does not match the pattern ``^[a-zA-Z_][a-zA-Z0-9_]*$``; you will not be able to use natural naming to access this object; using ``getattr()`` will still work, though\n",
      "  NaturalNameWarning)\n"
     ]
    },
    {
     "name": "stdout",
     "output_type": "stream",
     "text": [
      "(sim,lamb_da,p_rew,w_minus,start,dose_quantity) =  (81, 0.10000000000000002, 1.0, 1.0, 1, 0.1)\n",
      "{10}\n",
      "sim_81_p_rew_1_start_1_dq_0.1\n"
     ]
    },
    {
     "name": "stderr",
     "output_type": "stream",
     "text": [
      "/home/aiyappa/anaconda3/lib/python3.7/site-packages/tables/path.py:112: NaturalNameWarning: object name is not a valid Python identifier: 'sim_81_p_rew_1_start_1_dq_0.1'; it does not match the pattern ``^[a-zA-Z_][a-zA-Z0-9_]*$``; you will not be able to use natural naming to access this object; using ``getattr()`` will still work, though\n",
      "  NaturalNameWarning)\n"
     ]
    },
    {
     "name": "stdout",
     "output_type": "stream",
     "text": [
      "(sim,lamb_da,p_rew,w_minus,start,dose_quantity) =  (81, 0.10000000000000002, 1.0, 1.0, 1, 2)\n",
      "{63}\n",
      "sim_81_p_rew_1_start_1_dq_2\n",
      "(sim,lamb_da,p_rew,w_minus,start,dose_quantity) =  (81, 0.10000000000000002, 1.0, 1.0, 10, 0.1)\n",
      "Initial node infection step failed\n",
      "None\n",
      "{4, 71, 75, 45, 49, 84, 89, 90, 91, 94}\n",
      "sim_81_p_rew_1_start_10_dq_0.1\n"
     ]
    },
    {
     "name": "stderr",
     "output_type": "stream",
     "text": [
      "/home/aiyappa/anaconda3/lib/python3.7/site-packages/tables/path.py:112: NaturalNameWarning: object name is not a valid Python identifier: 'sim_81_p_rew_1_start_10_dq_0.1'; it does not match the pattern ``^[a-zA-Z_][a-zA-Z0-9_]*$``; you will not be able to use natural naming to access this object; using ``getattr()`` will still work, though\n",
      "  NaturalNameWarning)\n"
     ]
    },
    {
     "name": "stdout",
     "output_type": "stream",
     "text": [
      "(sim,lamb_da,p_rew,w_minus,start,dose_quantity) =  (81, 0.10000000000000002, 1.0, 1.0, 10, 2)\n",
      "{36, 5, 41, 77, 14, 15, 16, 21, 60, 95}\n",
      "sim_81_p_rew_1_start_10_dq_2\n",
      "(sim,lamb_da,p_rew,w_minus,start,dose_quantity) =  (81, 1.0, 10.0, 1.0, 1, 0.1)\n",
      "{32}\n",
      "sim_81_p_rew_10_start_1_dq_0.1\n"
     ]
    },
    {
     "name": "stderr",
     "output_type": "stream",
     "text": [
      "/home/aiyappa/anaconda3/lib/python3.7/site-packages/tables/path.py:112: NaturalNameWarning: object name is not a valid Python identifier: 'sim_81_p_rew_10_start_1_dq_0.1'; it does not match the pattern ``^[a-zA-Z_][a-zA-Z0-9_]*$``; you will not be able to use natural naming to access this object; using ``getattr()`` will still work, though\n",
      "  NaturalNameWarning)\n"
     ]
    },
    {
     "name": "stdout",
     "output_type": "stream",
     "text": [
      "(sim,lamb_da,p_rew,w_minus,start,dose_quantity) =  (81, 1.0, 10.0, 1.0, 1, 2)\n",
      "{82}\n",
      "sim_81_p_rew_10_start_1_dq_2\n",
      "(sim,lamb_da,p_rew,w_minus,start,dose_quantity) =  (81, 1.0, 10.0, 1.0, 10, 0.1)\n",
      "Initial node infection step failed\n",
      "None\n",
      "Initial node infection step failed\n",
      "None\n",
      "Initial node infection step failed\n",
      "None\n",
      "Initial node infection step failed\n",
      "None\n",
      "Initial node infection step failed\n",
      "None\n",
      "Initial node infection step failed\n",
      "None\n",
      "{97, 14, 46, 16, 18, 51, 52, 61, 29, 62}\n",
      "sim_81_p_rew_10_start_10_dq_0.1\n"
     ]
    },
    {
     "name": "stderr",
     "output_type": "stream",
     "text": [
      "/home/aiyappa/anaconda3/lib/python3.7/site-packages/tables/path.py:112: NaturalNameWarning: object name is not a valid Python identifier: 'sim_81_p_rew_10_start_10_dq_0.1'; it does not match the pattern ``^[a-zA-Z_][a-zA-Z0-9_]*$``; you will not be able to use natural naming to access this object; using ``getattr()`` will still work, though\n",
      "  NaturalNameWarning)\n"
     ]
    },
    {
     "name": "stdout",
     "output_type": "stream",
     "text": [
      "(sim,lamb_da,p_rew,w_minus,start,dose_quantity) =  (81, 1.0, 10.0, 1.0, 10, 2)\n",
      "{9, 79, 48, 49, 80, 84, 20, 22, 56, 95}\n",
      "sim_81_p_rew_10_start_10_dq_2\n",
      "(sim,lamb_da,p_rew,w_minus,start,dose_quantity) =  (82, 0.001, 0.01, 1.0, 1, 0.1)\n",
      "{57}\n",
      "sim_82_p_rew_0.01_start_1_dq_0.1\n"
     ]
    },
    {
     "name": "stderr",
     "output_type": "stream",
     "text": [
      "/home/aiyappa/anaconda3/lib/python3.7/site-packages/tables/path.py:112: NaturalNameWarning: object name is not a valid Python identifier: 'sim_82_p_rew_0.01_start_1_dq_0.1'; it does not match the pattern ``^[a-zA-Z_][a-zA-Z0-9_]*$``; you will not be able to use natural naming to access this object; using ``getattr()`` will still work, though\n",
      "  NaturalNameWarning)\n"
     ]
    },
    {
     "name": "stdout",
     "output_type": "stream",
     "text": [
      "(sim,lamb_da,p_rew,w_minus,start,dose_quantity) =  (82, 0.001, 0.01, 1.0, 1, 2)\n",
      "{39}\n",
      "sim_82_p_rew_0.01_start_1_dq_2\n"
     ]
    },
    {
     "name": "stderr",
     "output_type": "stream",
     "text": [
      "/home/aiyappa/anaconda3/lib/python3.7/site-packages/tables/path.py:112: NaturalNameWarning: object name is not a valid Python identifier: 'sim_82_p_rew_0.01_start_1_dq_2'; it does not match the pattern ``^[a-zA-Z_][a-zA-Z0-9_]*$``; you will not be able to use natural naming to access this object; using ``getattr()`` will still work, though\n",
      "  NaturalNameWarning)\n"
     ]
    },
    {
     "name": "stdout",
     "output_type": "stream",
     "text": [
      "(sim,lamb_da,p_rew,w_minus,start,dose_quantity) =  (82, 0.001, 0.01, 1.0, 10, 0.1)\n",
      "Initial node infection step failed\n",
      "None\n",
      "{34, 91, 81, 51, 20, 84, 86, 27, 28, 93}\n",
      "sim_82_p_rew_0.01_start_10_dq_0.1\n"
     ]
    },
    {
     "name": "stderr",
     "output_type": "stream",
     "text": [
      "/home/aiyappa/anaconda3/lib/python3.7/site-packages/tables/path.py:112: NaturalNameWarning: object name is not a valid Python identifier: 'sim_82_p_rew_0.01_start_10_dq_0.1'; it does not match the pattern ``^[a-zA-Z_][a-zA-Z0-9_]*$``; you will not be able to use natural naming to access this object; using ``getattr()`` will still work, though\n",
      "  NaturalNameWarning)\n"
     ]
    },
    {
     "name": "stdout",
     "output_type": "stream",
     "text": [
      "(sim,lamb_da,p_rew,w_minus,start,dose_quantity) =  (82, 0.001, 0.01, 1.0, 10, 2)\n",
      "{0, 34, 66, 5, 41, 43, 77, 13, 21, 27}\n",
      "sim_82_p_rew_0.01_start_10_dq_2\n"
     ]
    },
    {
     "name": "stderr",
     "output_type": "stream",
     "text": [
      "/home/aiyappa/anaconda3/lib/python3.7/site-packages/tables/path.py:112: NaturalNameWarning: object name is not a valid Python identifier: 'sim_82_p_rew_0.01_start_10_dq_2'; it does not match the pattern ``^[a-zA-Z_][a-zA-Z0-9_]*$``; you will not be able to use natural naming to access this object; using ``getattr()`` will still work, though\n",
      "  NaturalNameWarning)\n"
     ]
    },
    {
     "name": "stdout",
     "output_type": "stream",
     "text": [
      "(sim,lamb_da,p_rew,w_minus,start,dose_quantity) =  (82, 0.01, 0.10000000000000002, 1.0, 1, 0.1)\n",
      "{32}\n",
      "sim_82_p_rew_0.1_start_1_dq_0.1\n"
     ]
    },
    {
     "name": "stderr",
     "output_type": "stream",
     "text": [
      "/home/aiyappa/anaconda3/lib/python3.7/site-packages/tables/path.py:112: NaturalNameWarning: object name is not a valid Python identifier: 'sim_82_p_rew_0.1_start_1_dq_0.1'; it does not match the pattern ``^[a-zA-Z_][a-zA-Z0-9_]*$``; you will not be able to use natural naming to access this object; using ``getattr()`` will still work, though\n",
      "  NaturalNameWarning)\n"
     ]
    },
    {
     "name": "stdout",
     "output_type": "stream",
     "text": [
      "(sim,lamb_da,p_rew,w_minus,start,dose_quantity) =  (82, 0.01, 0.10000000000000002, 1.0, 1, 2)\n",
      "{99}\n",
      "sim_82_p_rew_0.1_start_1_dq_2\n"
     ]
    },
    {
     "name": "stderr",
     "output_type": "stream",
     "text": [
      "/home/aiyappa/anaconda3/lib/python3.7/site-packages/tables/path.py:112: NaturalNameWarning: object name is not a valid Python identifier: 'sim_82_p_rew_0.1_start_1_dq_2'; it does not match the pattern ``^[a-zA-Z_][a-zA-Z0-9_]*$``; you will not be able to use natural naming to access this object; using ``getattr()`` will still work, though\n",
      "  NaturalNameWarning)\n"
     ]
    },
    {
     "name": "stdout",
     "output_type": "stream",
     "text": [
      "(sim,lamb_da,p_rew,w_minus,start,dose_quantity) =  (82, 0.01, 0.10000000000000002, 1.0, 10, 0.1)\n",
      "{66, 44, 60, 92, 83, 59, 28, 63, 94, 31}\n",
      "sim_82_p_rew_0.1_start_10_dq_0.1\n"
     ]
    },
    {
     "name": "stderr",
     "output_type": "stream",
     "text": [
      "/home/aiyappa/anaconda3/lib/python3.7/site-packages/tables/path.py:112: NaturalNameWarning: object name is not a valid Python identifier: 'sim_82_p_rew_0.1_start_10_dq_0.1'; it does not match the pattern ``^[a-zA-Z_][a-zA-Z0-9_]*$``; you will not be able to use natural naming to access this object; using ``getattr()`` will still work, though\n",
      "  NaturalNameWarning)\n"
     ]
    },
    {
     "name": "stdout",
     "output_type": "stream",
     "text": [
      "(sim,lamb_da,p_rew,w_minus,start,dose_quantity) =  (82, 0.01, 0.10000000000000002, 1.0, 10, 2)\n",
      "{97, 41, 81, 82, 51, 20, 22, 56, 25, 58}\n",
      "sim_82_p_rew_0.1_start_10_dq_2\n"
     ]
    },
    {
     "name": "stderr",
     "output_type": "stream",
     "text": [
      "/home/aiyappa/anaconda3/lib/python3.7/site-packages/tables/path.py:112: NaturalNameWarning: object name is not a valid Python identifier: 'sim_82_p_rew_0.1_start_10_dq_2'; it does not match the pattern ``^[a-zA-Z_][a-zA-Z0-9_]*$``; you will not be able to use natural naming to access this object; using ``getattr()`` will still work, though\n",
      "  NaturalNameWarning)\n"
     ]
    },
    {
     "name": "stdout",
     "output_type": "stream",
     "text": [
      "(sim,lamb_da,p_rew,w_minus,start,dose_quantity) =  (82, 0.10000000000000002, 1.0, 1.0, 1, 0.1)\n",
      "{90}\n",
      "sim_82_p_rew_1_start_1_dq_0.1\n"
     ]
    },
    {
     "name": "stderr",
     "output_type": "stream",
     "text": [
      "/home/aiyappa/anaconda3/lib/python3.7/site-packages/tables/path.py:112: NaturalNameWarning: object name is not a valid Python identifier: 'sim_82_p_rew_1_start_1_dq_0.1'; it does not match the pattern ``^[a-zA-Z_][a-zA-Z0-9_]*$``; you will not be able to use natural naming to access this object; using ``getattr()`` will still work, though\n",
      "  NaturalNameWarning)\n"
     ]
    },
    {
     "name": "stdout",
     "output_type": "stream",
     "text": [
      "(sim,lamb_da,p_rew,w_minus,start,dose_quantity) =  (82, 0.10000000000000002, 1.0, 1.0, 1, 2)\n",
      "{68}\n",
      "sim_82_p_rew_1_start_1_dq_2\n",
      "(sim,lamb_da,p_rew,w_minus,start,dose_quantity) =  (82, 0.10000000000000002, 1.0, 1.0, 10, 0.1)\n",
      "Initial node infection step failed\n",
      "None\n",
      "{64, 33, 8, 41, 9, 79, 47, 50, 84, 30}\n",
      "sim_82_p_rew_1_start_10_dq_0.1\n"
     ]
    },
    {
     "name": "stderr",
     "output_type": "stream",
     "text": [
      "/home/aiyappa/anaconda3/lib/python3.7/site-packages/tables/path.py:112: NaturalNameWarning: object name is not a valid Python identifier: 'sim_82_p_rew_1_start_10_dq_0.1'; it does not match the pattern ``^[a-zA-Z_][a-zA-Z0-9_]*$``; you will not be able to use natural naming to access this object; using ``getattr()`` will still work, though\n",
      "  NaturalNameWarning)\n"
     ]
    },
    {
     "name": "stdout",
     "output_type": "stream",
     "text": [
      "(sim,lamb_da,p_rew,w_minus,start,dose_quantity) =  (82, 0.10000000000000002, 1.0, 1.0, 10, 2)\n",
      "{65, 3, 69, 45, 46, 82, 51, 22, 87, 59}\n",
      "sim_82_p_rew_1_start_10_dq_2\n",
      "(sim,lamb_da,p_rew,w_minus,start,dose_quantity) =  (82, 1.0, 10.0, 1.0, 1, 0.1)\n",
      "{47}\n",
      "sim_82_p_rew_10_start_1_dq_0.1\n"
     ]
    },
    {
     "name": "stderr",
     "output_type": "stream",
     "text": [
      "/home/aiyappa/anaconda3/lib/python3.7/site-packages/tables/path.py:112: NaturalNameWarning: object name is not a valid Python identifier: 'sim_82_p_rew_10_start_1_dq_0.1'; it does not match the pattern ``^[a-zA-Z_][a-zA-Z0-9_]*$``; you will not be able to use natural naming to access this object; using ``getattr()`` will still work, though\n",
      "  NaturalNameWarning)\n"
     ]
    },
    {
     "name": "stdout",
     "output_type": "stream",
     "text": [
      "(sim,lamb_da,p_rew,w_minus,start,dose_quantity) =  (82, 1.0, 10.0, 1.0, 1, 2)\n",
      "{28}\n",
      "sim_82_p_rew_10_start_1_dq_2\n",
      "(sim,lamb_da,p_rew,w_minus,start,dose_quantity) =  (82, 1.0, 10.0, 1.0, 10, 0.1)\n",
      "Initial node infection step failed\n",
      "None\n",
      "Initial node infection step failed\n",
      "None\n",
      "Initial node infection step failed\n",
      "None\n",
      "Initial node infection step failed\n",
      "None\n",
      "Initial node infection step failed\n",
      "None\n",
      "Initial node infection step failed\n",
      "None\n",
      "Initial node infection step failed\n",
      "None\n",
      "Initial node infection step failed\n",
      "None\n",
      "Initial node infection step failed\n",
      "None\n",
      "Initial node infection step failed\n",
      "None\n",
      "Initial node infection step failed\n",
      "None\n",
      "Initial node infection step failed\n",
      "None\n",
      "Initial node infection step failed\n",
      "None\n",
      "{1, 37, 75, 77, 14, 45, 80, 16, 49, 57}\n",
      "sim_82_p_rew_10_start_10_dq_0.1\n"
     ]
    },
    {
     "name": "stderr",
     "output_type": "stream",
     "text": [
      "/home/aiyappa/anaconda3/lib/python3.7/site-packages/tables/path.py:112: NaturalNameWarning: object name is not a valid Python identifier: 'sim_82_p_rew_10_start_10_dq_0.1'; it does not match the pattern ``^[a-zA-Z_][a-zA-Z0-9_]*$``; you will not be able to use natural naming to access this object; using ``getattr()`` will still work, though\n",
      "  NaturalNameWarning)\n"
     ]
    },
    {
     "name": "stdout",
     "output_type": "stream",
     "text": [
      "(sim,lamb_da,p_rew,w_minus,start,dose_quantity) =  (82, 1.0, 10.0, 1.0, 10, 2)\n",
      "{64, 33, 76, 17, 20, 86, 22, 59, 60, 94}\n",
      "sim_82_p_rew_10_start_10_dq_2\n",
      "(sim,lamb_da,p_rew,w_minus,start,dose_quantity) =  (83, 0.001, 0.01, 1.0, 1, 0.1)\n",
      "{93}\n",
      "sim_83_p_rew_0.01_start_1_dq_0.1\n"
     ]
    },
    {
     "name": "stderr",
     "output_type": "stream",
     "text": [
      "/home/aiyappa/anaconda3/lib/python3.7/site-packages/tables/path.py:112: NaturalNameWarning: object name is not a valid Python identifier: 'sim_83_p_rew_0.01_start_1_dq_0.1'; it does not match the pattern ``^[a-zA-Z_][a-zA-Z0-9_]*$``; you will not be able to use natural naming to access this object; using ``getattr()`` will still work, though\n",
      "  NaturalNameWarning)\n"
     ]
    },
    {
     "name": "stdout",
     "output_type": "stream",
     "text": [
      "(sim,lamb_da,p_rew,w_minus,start,dose_quantity) =  (83, 0.001, 0.01, 1.0, 1, 2)\n",
      "{59}\n",
      "sim_83_p_rew_0.01_start_1_dq_2\n"
     ]
    },
    {
     "name": "stderr",
     "output_type": "stream",
     "text": [
      "/home/aiyappa/anaconda3/lib/python3.7/site-packages/tables/path.py:112: NaturalNameWarning: object name is not a valid Python identifier: 'sim_83_p_rew_0.01_start_1_dq_2'; it does not match the pattern ``^[a-zA-Z_][a-zA-Z0-9_]*$``; you will not be able to use natural naming to access this object; using ``getattr()`` will still work, though\n",
      "  NaturalNameWarning)\n"
     ]
    },
    {
     "name": "stdout",
     "output_type": "stream",
     "text": [
      "(sim,lamb_da,p_rew,w_minus,start,dose_quantity) =  (83, 0.001, 0.01, 1.0, 10, 0.1)\n",
      "Initial node infection step failed\n",
      "None\n",
      "{68, 58, 10, 78, 81, 52, 20, 26, 94, 63}\n",
      "sim_83_p_rew_0.01_start_10_dq_0.1\n"
     ]
    },
    {
     "name": "stderr",
     "output_type": "stream",
     "text": [
      "/home/aiyappa/anaconda3/lib/python3.7/site-packages/tables/path.py:112: NaturalNameWarning: object name is not a valid Python identifier: 'sim_83_p_rew_0.01_start_10_dq_0.1'; it does not match the pattern ``^[a-zA-Z_][a-zA-Z0-9_]*$``; you will not be able to use natural naming to access this object; using ``getattr()`` will still work, though\n",
      "  NaturalNameWarning)\n"
     ]
    },
    {
     "name": "stdout",
     "output_type": "stream",
     "text": [
      "(sim,lamb_da,p_rew,w_minus,start,dose_quantity) =  (83, 0.001, 0.01, 1.0, 10, 2)\n",
      "{72, 78, 15, 49, 17, 51, 20, 26, 60, 95}\n",
      "sim_83_p_rew_0.01_start_10_dq_2\n"
     ]
    },
    {
     "name": "stderr",
     "output_type": "stream",
     "text": [
      "/home/aiyappa/anaconda3/lib/python3.7/site-packages/tables/path.py:112: NaturalNameWarning: object name is not a valid Python identifier: 'sim_83_p_rew_0.01_start_10_dq_2'; it does not match the pattern ``^[a-zA-Z_][a-zA-Z0-9_]*$``; you will not be able to use natural naming to access this object; using ``getattr()`` will still work, though\n",
      "  NaturalNameWarning)\n"
     ]
    },
    {
     "name": "stdout",
     "output_type": "stream",
     "text": [
      "(sim,lamb_da,p_rew,w_minus,start,dose_quantity) =  (83, 0.01, 0.10000000000000002, 1.0, 1, 0.1)\n",
      "{75}\n",
      "sim_83_p_rew_0.1_start_1_dq_0.1\n"
     ]
    },
    {
     "name": "stderr",
     "output_type": "stream",
     "text": [
      "/home/aiyappa/anaconda3/lib/python3.7/site-packages/tables/path.py:112: NaturalNameWarning: object name is not a valid Python identifier: 'sim_83_p_rew_0.1_start_1_dq_0.1'; it does not match the pattern ``^[a-zA-Z_][a-zA-Z0-9_]*$``; you will not be able to use natural naming to access this object; using ``getattr()`` will still work, though\n",
      "  NaturalNameWarning)\n"
     ]
    },
    {
     "name": "stdout",
     "output_type": "stream",
     "text": [
      "(sim,lamb_da,p_rew,w_minus,start,dose_quantity) =  (83, 0.01, 0.10000000000000002, 1.0, 1, 2)\n",
      "{80}\n",
      "sim_83_p_rew_0.1_start_1_dq_2\n"
     ]
    },
    {
     "name": "stderr",
     "output_type": "stream",
     "text": [
      "/home/aiyappa/anaconda3/lib/python3.7/site-packages/tables/path.py:112: NaturalNameWarning: object name is not a valid Python identifier: 'sim_83_p_rew_0.1_start_1_dq_2'; it does not match the pattern ``^[a-zA-Z_][a-zA-Z0-9_]*$``; you will not be able to use natural naming to access this object; using ``getattr()`` will still work, though\n",
      "  NaturalNameWarning)\n"
     ]
    },
    {
     "name": "stdout",
     "output_type": "stream",
     "text": [
      "(sim,lamb_da,p_rew,w_minus,start,dose_quantity) =  (83, 0.01, 0.10000000000000002, 1.0, 10, 0.1)\n",
      "{1, 38, 45, 84, 21, 54, 24, 57, 26, 94}\n",
      "sim_83_p_rew_0.1_start_10_dq_0.1\n"
     ]
    },
    {
     "name": "stderr",
     "output_type": "stream",
     "text": [
      "/home/aiyappa/anaconda3/lib/python3.7/site-packages/tables/path.py:112: NaturalNameWarning: object name is not a valid Python identifier: 'sim_83_p_rew_0.1_start_10_dq_0.1'; it does not match the pattern ``^[a-zA-Z_][a-zA-Z0-9_]*$``; you will not be able to use natural naming to access this object; using ``getattr()`` will still work, though\n",
      "  NaturalNameWarning)\n"
     ]
    },
    {
     "name": "stdout",
     "output_type": "stream",
     "text": [
      "(sim,lamb_da,p_rew,w_minus,start,dose_quantity) =  (83, 0.01, 0.10000000000000002, 1.0, 10, 2)\n",
      "{64, 67, 58, 7, 73, 47, 17, 18, 90, 91}\n",
      "sim_83_p_rew_0.1_start_10_dq_2\n"
     ]
    },
    {
     "name": "stderr",
     "output_type": "stream",
     "text": [
      "/home/aiyappa/anaconda3/lib/python3.7/site-packages/tables/path.py:112: NaturalNameWarning: object name is not a valid Python identifier: 'sim_83_p_rew_0.1_start_10_dq_2'; it does not match the pattern ``^[a-zA-Z_][a-zA-Z0-9_]*$``; you will not be able to use natural naming to access this object; using ``getattr()`` will still work, though\n",
      "  NaturalNameWarning)\n"
     ]
    },
    {
     "name": "stdout",
     "output_type": "stream",
     "text": [
      "(sim,lamb_da,p_rew,w_minus,start,dose_quantity) =  (83, 0.10000000000000002, 1.0, 1.0, 1, 0.1)\n",
      "{18}\n",
      "sim_83_p_rew_1_start_1_dq_0.1\n"
     ]
    },
    {
     "name": "stderr",
     "output_type": "stream",
     "text": [
      "/home/aiyappa/anaconda3/lib/python3.7/site-packages/tables/path.py:112: NaturalNameWarning: object name is not a valid Python identifier: 'sim_83_p_rew_1_start_1_dq_0.1'; it does not match the pattern ``^[a-zA-Z_][a-zA-Z0-9_]*$``; you will not be able to use natural naming to access this object; using ``getattr()`` will still work, though\n",
      "  NaturalNameWarning)\n"
     ]
    },
    {
     "name": "stdout",
     "output_type": "stream",
     "text": [
      "(sim,lamb_da,p_rew,w_minus,start,dose_quantity) =  (83, 0.10000000000000002, 1.0, 1.0, 1, 2)\n",
      "{5}\n",
      "sim_83_p_rew_1_start_1_dq_2\n",
      "(sim,lamb_da,p_rew,w_minus,start,dose_quantity) =  (83, 0.10000000000000002, 1.0, 1.0, 10, 0.1)\n",
      "{0, 2, 99, 74, 13, 45, 47, 51, 86, 88}\n",
      "sim_83_p_rew_1_start_10_dq_0.1\n"
     ]
    },
    {
     "name": "stderr",
     "output_type": "stream",
     "text": [
      "/home/aiyappa/anaconda3/lib/python3.7/site-packages/tables/path.py:112: NaturalNameWarning: object name is not a valid Python identifier: 'sim_83_p_rew_1_start_10_dq_0.1'; it does not match the pattern ``^[a-zA-Z_][a-zA-Z0-9_]*$``; you will not be able to use natural naming to access this object; using ``getattr()`` will still work, though\n",
      "  NaturalNameWarning)\n"
     ]
    },
    {
     "name": "stdout",
     "output_type": "stream",
     "text": [
      "(sim,lamb_da,p_rew,w_minus,start,dose_quantity) =  (83, 0.10000000000000002, 1.0, 1.0, 10, 2)\n",
      "{32, 66, 68, 39, 42, 77, 82, 52, 85, 62}\n",
      "sim_83_p_rew_1_start_10_dq_2\n",
      "(sim,lamb_da,p_rew,w_minus,start,dose_quantity) =  (83, 1.0, 10.0, 1.0, 1, 0.1)\n",
      "{2}\n",
      "sim_83_p_rew_10_start_1_dq_0.1\n"
     ]
    },
    {
     "name": "stderr",
     "output_type": "stream",
     "text": [
      "/home/aiyappa/anaconda3/lib/python3.7/site-packages/tables/path.py:112: NaturalNameWarning: object name is not a valid Python identifier: 'sim_83_p_rew_10_start_1_dq_0.1'; it does not match the pattern ``^[a-zA-Z_][a-zA-Z0-9_]*$``; you will not be able to use natural naming to access this object; using ``getattr()`` will still work, though\n",
      "  NaturalNameWarning)\n"
     ]
    },
    {
     "name": "stdout",
     "output_type": "stream",
     "text": [
      "(sim,lamb_da,p_rew,w_minus,start,dose_quantity) =  (83, 1.0, 10.0, 1.0, 1, 2)\n",
      "{53}\n",
      "sim_83_p_rew_10_start_1_dq_2\n",
      "(sim,lamb_da,p_rew,w_minus,start,dose_quantity) =  (83, 1.0, 10.0, 1.0, 10, 0.1)\n",
      "Initial node infection step failed\n",
      "None\n",
      "Initial node infection step failed\n",
      "None\n",
      "Initial node infection step failed\n",
      "None\n",
      "Initial node infection step failed\n",
      "None\n",
      "Initial node infection step failed\n",
      "None\n",
      "Initial node infection step failed\n",
      "None\n",
      "Initial node infection step failed\n",
      "None\n",
      "Initial node infection step failed\n",
      "None\n",
      "Initial node infection step failed\n",
      "None\n",
      "Initial node infection step failed\n",
      "None\n",
      "Initial node infection step failed\n",
      "None\n",
      "Initial node infection step failed\n",
      "None\n",
      "Initial node infection step failed\n",
      "None\n",
      "Initial node infection step failed\n",
      "None\n",
      "Initial node infection step failed\n",
      "None\n",
      "Initial node infection step failed\n",
      "None\n",
      "Initial node infection step failed\n",
      "None\n",
      "Initial node infection step failed\n",
      "None\n",
      "Initial node infection step failed\n",
      "None\n",
      "Initial node infection step failed\n",
      "None\n",
      "Initial node infection step failed\n",
      "None\n",
      "Initial node infection step failed\n",
      "None\n",
      "Initial node infection step failed\n",
      "None\n",
      "Initial node infection step failed\n",
      "None\n",
      "Initial node infection step failed\n",
      "None\n",
      "Initial node infection step failed\n",
      "None\n",
      "{97, 99, 4, 76, 49, 20, 86, 57, 90, 94}\n",
      "sim_83_p_rew_10_start_10_dq_0.1\n"
     ]
    },
    {
     "name": "stderr",
     "output_type": "stream",
     "text": [
      "/home/aiyappa/anaconda3/lib/python3.7/site-packages/tables/path.py:112: NaturalNameWarning: object name is not a valid Python identifier: 'sim_83_p_rew_10_start_10_dq_0.1'; it does not match the pattern ``^[a-zA-Z_][a-zA-Z0-9_]*$``; you will not be able to use natural naming to access this object; using ``getattr()`` will still work, though\n",
      "  NaturalNameWarning)\n"
     ]
    },
    {
     "name": "stdout",
     "output_type": "stream",
     "text": [
      "(sim,lamb_da,p_rew,w_minus,start,dose_quantity) =  (83, 1.0, 10.0, 1.0, 10, 2)\n",
      "{33, 99, 76, 13, 78, 48, 52, 86, 23, 57}\n",
      "sim_83_p_rew_10_start_10_dq_2\n",
      "(sim,lamb_da,p_rew,w_minus,start,dose_quantity) =  (84, 0.001, 0.01, 1.0, 1, 0.1)\n",
      "{35}\n",
      "sim_84_p_rew_0.01_start_1_dq_0.1\n"
     ]
    },
    {
     "name": "stderr",
     "output_type": "stream",
     "text": [
      "/home/aiyappa/anaconda3/lib/python3.7/site-packages/tables/path.py:112: NaturalNameWarning: object name is not a valid Python identifier: 'sim_84_p_rew_0.01_start_1_dq_0.1'; it does not match the pattern ``^[a-zA-Z_][a-zA-Z0-9_]*$``; you will not be able to use natural naming to access this object; using ``getattr()`` will still work, though\n",
      "  NaturalNameWarning)\n"
     ]
    },
    {
     "name": "stdout",
     "output_type": "stream",
     "text": [
      "(sim,lamb_da,p_rew,w_minus,start,dose_quantity) =  (84, 0.001, 0.01, 1.0, 1, 2)\n",
      "{11}\n",
      "sim_84_p_rew_0.01_start_1_dq_2\n"
     ]
    },
    {
     "name": "stderr",
     "output_type": "stream",
     "text": [
      "/home/aiyappa/anaconda3/lib/python3.7/site-packages/tables/path.py:112: NaturalNameWarning: object name is not a valid Python identifier: 'sim_84_p_rew_0.01_start_1_dq_2'; it does not match the pattern ``^[a-zA-Z_][a-zA-Z0-9_]*$``; you will not be able to use natural naming to access this object; using ``getattr()`` will still work, though\n",
      "  NaturalNameWarning)\n"
     ]
    },
    {
     "name": "stdout",
     "output_type": "stream",
     "text": [
      "(sim,lamb_da,p_rew,w_minus,start,dose_quantity) =  (84, 0.001, 0.01, 1.0, 10, 0.1)\n",
      "{65, 2, 39, 74, 80, 52, 55, 57, 27, 28}\n",
      "sim_84_p_rew_0.01_start_10_dq_0.1\n"
     ]
    },
    {
     "name": "stderr",
     "output_type": "stream",
     "text": [
      "/home/aiyappa/anaconda3/lib/python3.7/site-packages/tables/path.py:112: NaturalNameWarning: object name is not a valid Python identifier: 'sim_84_p_rew_0.01_start_10_dq_0.1'; it does not match the pattern ``^[a-zA-Z_][a-zA-Z0-9_]*$``; you will not be able to use natural naming to access this object; using ``getattr()`` will still work, though\n",
      "  NaturalNameWarning)\n"
     ]
    },
    {
     "name": "stdout",
     "output_type": "stream",
     "text": [
      "(sim,lamb_da,p_rew,w_minus,start,dose_quantity) =  (84, 0.001, 0.01, 1.0, 10, 2)\n",
      "{34, 69, 38, 6, 71, 79, 21, 55, 60, 30}\n",
      "sim_84_p_rew_0.01_start_10_dq_2\n"
     ]
    },
    {
     "name": "stderr",
     "output_type": "stream",
     "text": [
      "/home/aiyappa/anaconda3/lib/python3.7/site-packages/tables/path.py:112: NaturalNameWarning: object name is not a valid Python identifier: 'sim_84_p_rew_0.01_start_10_dq_2'; it does not match the pattern ``^[a-zA-Z_][a-zA-Z0-9_]*$``; you will not be able to use natural naming to access this object; using ``getattr()`` will still work, though\n",
      "  NaturalNameWarning)\n"
     ]
    },
    {
     "name": "stdout",
     "output_type": "stream",
     "text": [
      "(sim,lamb_da,p_rew,w_minus,start,dose_quantity) =  (84, 0.01, 0.10000000000000002, 1.0, 1, 0.1)\n",
      "{6}\n",
      "sim_84_p_rew_0.1_start_1_dq_0.1\n"
     ]
    },
    {
     "name": "stderr",
     "output_type": "stream",
     "text": [
      "/home/aiyappa/anaconda3/lib/python3.7/site-packages/tables/path.py:112: NaturalNameWarning: object name is not a valid Python identifier: 'sim_84_p_rew_0.1_start_1_dq_0.1'; it does not match the pattern ``^[a-zA-Z_][a-zA-Z0-9_]*$``; you will not be able to use natural naming to access this object; using ``getattr()`` will still work, though\n",
      "  NaturalNameWarning)\n"
     ]
    },
    {
     "name": "stdout",
     "output_type": "stream",
     "text": [
      "(sim,lamb_da,p_rew,w_minus,start,dose_quantity) =  (84, 0.01, 0.10000000000000002, 1.0, 1, 2)\n",
      "{67}\n",
      "sim_84_p_rew_0.1_start_1_dq_2\n"
     ]
    },
    {
     "name": "stderr",
     "output_type": "stream",
     "text": [
      "/home/aiyappa/anaconda3/lib/python3.7/site-packages/tables/path.py:112: NaturalNameWarning: object name is not a valid Python identifier: 'sim_84_p_rew_0.1_start_1_dq_2'; it does not match the pattern ``^[a-zA-Z_][a-zA-Z0-9_]*$``; you will not be able to use natural naming to access this object; using ``getattr()`` will still work, though\n",
      "  NaturalNameWarning)\n"
     ]
    },
    {
     "name": "stdout",
     "output_type": "stream",
     "text": [
      "(sim,lamb_da,p_rew,w_minus,start,dose_quantity) =  (84, 0.01, 0.10000000000000002, 1.0, 10, 0.1)\n",
      "Initial node infection step failed\n",
      "None\n",
      "Initial node infection step failed\n",
      "None\n",
      "{68, 37, 6, 41, 10, 9, 79, 85, 86, 27}\n",
      "sim_84_p_rew_0.1_start_10_dq_0.1\n"
     ]
    },
    {
     "name": "stderr",
     "output_type": "stream",
     "text": [
      "/home/aiyappa/anaconda3/lib/python3.7/site-packages/tables/path.py:112: NaturalNameWarning: object name is not a valid Python identifier: 'sim_84_p_rew_0.1_start_10_dq_0.1'; it does not match the pattern ``^[a-zA-Z_][a-zA-Z0-9_]*$``; you will not be able to use natural naming to access this object; using ``getattr()`` will still work, though\n",
      "  NaturalNameWarning)\n"
     ]
    },
    {
     "name": "stdout",
     "output_type": "stream",
     "text": [
      "(sim,lamb_da,p_rew,w_minus,start,dose_quantity) =  (84, 0.01, 0.10000000000000002, 1.0, 10, 2)\n",
      "{33, 66, 3, 6, 73, 12, 48, 83, 84, 94}\n",
      "sim_84_p_rew_0.1_start_10_dq_2\n"
     ]
    },
    {
     "name": "stderr",
     "output_type": "stream",
     "text": [
      "/home/aiyappa/anaconda3/lib/python3.7/site-packages/tables/path.py:112: NaturalNameWarning: object name is not a valid Python identifier: 'sim_84_p_rew_0.1_start_10_dq_2'; it does not match the pattern ``^[a-zA-Z_][a-zA-Z0-9_]*$``; you will not be able to use natural naming to access this object; using ``getattr()`` will still work, though\n",
      "  NaturalNameWarning)\n"
     ]
    },
    {
     "name": "stdout",
     "output_type": "stream",
     "text": [
      "(sim,lamb_da,p_rew,w_minus,start,dose_quantity) =  (84, 0.10000000000000002, 1.0, 1.0, 1, 0.1)\n",
      "{80}\n",
      "sim_84_p_rew_1_start_1_dq_0.1\n"
     ]
    },
    {
     "name": "stderr",
     "output_type": "stream",
     "text": [
      "/home/aiyappa/anaconda3/lib/python3.7/site-packages/tables/path.py:112: NaturalNameWarning: object name is not a valid Python identifier: 'sim_84_p_rew_1_start_1_dq_0.1'; it does not match the pattern ``^[a-zA-Z_][a-zA-Z0-9_]*$``; you will not be able to use natural naming to access this object; using ``getattr()`` will still work, though\n",
      "  NaturalNameWarning)\n"
     ]
    },
    {
     "name": "stdout",
     "output_type": "stream",
     "text": [
      "(sim,lamb_da,p_rew,w_minus,start,dose_quantity) =  (84, 0.10000000000000002, 1.0, 1.0, 1, 2)\n",
      "{83}\n",
      "sim_84_p_rew_1_start_1_dq_2\n",
      "(sim,lamb_da,p_rew,w_minus,start,dose_quantity) =  (84, 0.10000000000000002, 1.0, 1.0, 10, 0.1)\n",
      "Initial node infection step failed\n",
      "None\n",
      "{72, 74, 76, 16, 19, 85, 55, 57, 27, 29}\n",
      "sim_84_p_rew_1_start_10_dq_0.1\n"
     ]
    },
    {
     "name": "stderr",
     "output_type": "stream",
     "text": [
      "/home/aiyappa/anaconda3/lib/python3.7/site-packages/tables/path.py:112: NaturalNameWarning: object name is not a valid Python identifier: 'sim_84_p_rew_1_start_10_dq_0.1'; it does not match the pattern ``^[a-zA-Z_][a-zA-Z0-9_]*$``; you will not be able to use natural naming to access this object; using ``getattr()`` will still work, though\n",
      "  NaturalNameWarning)\n"
     ]
    },
    {
     "name": "stdout",
     "output_type": "stream",
     "text": [
      "(sim,lamb_da,p_rew,w_minus,start,dose_quantity) =  (84, 0.10000000000000002, 1.0, 1.0, 10, 2)\n",
      "{32, 2, 9, 42, 76, 50, 57, 58, 95, 63}\n",
      "sim_84_p_rew_1_start_10_dq_2\n",
      "(sim,lamb_da,p_rew,w_minus,start,dose_quantity) =  (84, 1.0, 10.0, 1.0, 1, 0.1)\n",
      "{19}\n",
      "sim_84_p_rew_10_start_1_dq_0.1\n"
     ]
    },
    {
     "name": "stderr",
     "output_type": "stream",
     "text": [
      "/home/aiyappa/anaconda3/lib/python3.7/site-packages/tables/path.py:112: NaturalNameWarning: object name is not a valid Python identifier: 'sim_84_p_rew_10_start_1_dq_0.1'; it does not match the pattern ``^[a-zA-Z_][a-zA-Z0-9_]*$``; you will not be able to use natural naming to access this object; using ``getattr()`` will still work, though\n",
      "  NaturalNameWarning)\n"
     ]
    },
    {
     "name": "stdout",
     "output_type": "stream",
     "text": [
      "(sim,lamb_da,p_rew,w_minus,start,dose_quantity) =  (84, 1.0, 10.0, 1.0, 1, 2)\n",
      "{3}\n",
      "sim_84_p_rew_10_start_1_dq_2\n",
      "(sim,lamb_da,p_rew,w_minus,start,dose_quantity) =  (84, 1.0, 10.0, 1.0, 10, 0.1)\n",
      "Initial node infection step failed\n",
      "None\n",
      "Initial node infection step failed\n",
      "None\n",
      "Initial node infection step failed\n",
      "None\n",
      "Initial node infection step failed\n",
      "None\n",
      "Initial node infection step failed\n",
      "None\n",
      "Initial node infection step failed\n",
      "None\n",
      "Initial node infection step failed\n",
      "None\n",
      "Initial node infection step failed\n",
      "None\n",
      "Initial node infection step failed\n",
      "None\n",
      "Initial node infection step failed\n",
      "None\n",
      "Initial node infection step failed\n",
      "None\n",
      "Initial node infection step failed\n",
      "None\n",
      "Initial node infection step failed\n",
      "None\n",
      "Initial node infection step failed\n",
      "None\n",
      "Initial node infection step failed\n",
      "None\n",
      "Initial node infection step failed\n",
      "None\n",
      "Initial node infection step failed\n",
      "None\n",
      "Initial node infection step failed\n",
      "None\n",
      "Initial node infection step failed\n",
      "None\n",
      "Initial node infection step failed\n",
      "None\n",
      "Initial node infection step failed\n",
      "None\n",
      "Initial node infection step failed\n",
      "None\n",
      "Initial node infection step failed\n",
      "None\n",
      "Initial node infection step failed\n",
      "None\n",
      "Initial node infection step failed\n",
      "None\n",
      "Initial node infection step failed\n",
      "None\n",
      "Initial node infection step failed\n",
      "None\n",
      "Initial node infection step failed\n",
      "None\n",
      "Initial node infection step failed\n",
      "None\n",
      "Initial node infection step failed\n",
      "None\n",
      "Initial node infection step failed\n",
      "None\n",
      "Initial node infection step failed\n",
      "None\n",
      "Initial node infection step failed\n",
      "None\n",
      "Initial node infection step failed\n",
      "None\n",
      "Initial node infection step failed\n",
      "None\n",
      "{65, 5, 70, 59, 84, 53, 23, 27, 62, 31}\n",
      "sim_84_p_rew_10_start_10_dq_0.1\n"
     ]
    },
    {
     "name": "stderr",
     "output_type": "stream",
     "text": [
      "/home/aiyappa/anaconda3/lib/python3.7/site-packages/tables/path.py:112: NaturalNameWarning: object name is not a valid Python identifier: 'sim_84_p_rew_10_start_10_dq_0.1'; it does not match the pattern ``^[a-zA-Z_][a-zA-Z0-9_]*$``; you will not be able to use natural naming to access this object; using ``getattr()`` will still work, though\n",
      "  NaturalNameWarning)\n"
     ]
    },
    {
     "name": "stdout",
     "output_type": "stream",
     "text": [
      "(sim,lamb_da,p_rew,w_minus,start,dose_quantity) =  (84, 1.0, 10.0, 1.0, 10, 2)\n",
      "{66, 69, 38, 39, 80, 82, 19, 25, 61, 95}\n",
      "sim_84_p_rew_10_start_10_dq_2\n",
      "(sim,lamb_da,p_rew,w_minus,start,dose_quantity) =  (85, 0.001, 0.01, 1.0, 1, 0.1)\n",
      "{2}\n",
      "sim_85_p_rew_0.01_start_1_dq_0.1\n"
     ]
    },
    {
     "name": "stderr",
     "output_type": "stream",
     "text": [
      "/home/aiyappa/anaconda3/lib/python3.7/site-packages/tables/path.py:112: NaturalNameWarning: object name is not a valid Python identifier: 'sim_85_p_rew_0.01_start_1_dq_0.1'; it does not match the pattern ``^[a-zA-Z_][a-zA-Z0-9_]*$``; you will not be able to use natural naming to access this object; using ``getattr()`` will still work, though\n",
      "  NaturalNameWarning)\n"
     ]
    },
    {
     "name": "stdout",
     "output_type": "stream",
     "text": [
      "(sim,lamb_da,p_rew,w_minus,start,dose_quantity) =  (85, 0.001, 0.01, 1.0, 1, 2)\n",
      "{5}\n",
      "sim_85_p_rew_0.01_start_1_dq_2\n"
     ]
    },
    {
     "name": "stderr",
     "output_type": "stream",
     "text": [
      "/home/aiyappa/anaconda3/lib/python3.7/site-packages/tables/path.py:112: NaturalNameWarning: object name is not a valid Python identifier: 'sim_85_p_rew_0.01_start_1_dq_2'; it does not match the pattern ``^[a-zA-Z_][a-zA-Z0-9_]*$``; you will not be able to use natural naming to access this object; using ``getattr()`` will still work, though\n",
      "  NaturalNameWarning)\n"
     ]
    },
    {
     "name": "stdout",
     "output_type": "stream",
     "text": [
      "(sim,lamb_da,p_rew,w_minus,start,dose_quantity) =  (85, 0.001, 0.01, 1.0, 10, 0.1)\n",
      "Initial node infection step failed\n",
      "None\n",
      "Initial node infection step failed\n",
      "None\n",
      "Initial node infection step failed\n",
      "None\n",
      "{35, 7, 73, 11, 47, 80, 16, 89, 59, 94}\n",
      "sim_85_p_rew_0.01_start_10_dq_0.1\n"
     ]
    },
    {
     "name": "stderr",
     "output_type": "stream",
     "text": [
      "/home/aiyappa/anaconda3/lib/python3.7/site-packages/tables/path.py:112: NaturalNameWarning: object name is not a valid Python identifier: 'sim_85_p_rew_0.01_start_10_dq_0.1'; it does not match the pattern ``^[a-zA-Z_][a-zA-Z0-9_]*$``; you will not be able to use natural naming to access this object; using ``getattr()`` will still work, though\n",
      "  NaturalNameWarning)\n"
     ]
    },
    {
     "name": "stdout",
     "output_type": "stream",
     "text": [
      "(sim,lamb_da,p_rew,w_minus,start,dose_quantity) =  (85, 0.001, 0.01, 1.0, 10, 2)\n",
      "{1, 40, 79, 48, 80, 82, 23, 89, 26, 95}\n",
      "sim_85_p_rew_0.01_start_10_dq_2\n"
     ]
    },
    {
     "name": "stderr",
     "output_type": "stream",
     "text": [
      "/home/aiyappa/anaconda3/lib/python3.7/site-packages/tables/path.py:112: NaturalNameWarning: object name is not a valid Python identifier: 'sim_85_p_rew_0.01_start_10_dq_2'; it does not match the pattern ``^[a-zA-Z_][a-zA-Z0-9_]*$``; you will not be able to use natural naming to access this object; using ``getattr()`` will still work, though\n",
      "  NaturalNameWarning)\n"
     ]
    },
    {
     "name": "stdout",
     "output_type": "stream",
     "text": [
      "(sim,lamb_da,p_rew,w_minus,start,dose_quantity) =  (85, 0.01, 0.10000000000000002, 1.0, 1, 0.1)\n",
      "{86}\n",
      "sim_85_p_rew_0.1_start_1_dq_0.1\n"
     ]
    },
    {
     "name": "stderr",
     "output_type": "stream",
     "text": [
      "/home/aiyappa/anaconda3/lib/python3.7/site-packages/tables/path.py:112: NaturalNameWarning: object name is not a valid Python identifier: 'sim_85_p_rew_0.1_start_1_dq_0.1'; it does not match the pattern ``^[a-zA-Z_][a-zA-Z0-9_]*$``; you will not be able to use natural naming to access this object; using ``getattr()`` will still work, though\n",
      "  NaturalNameWarning)\n"
     ]
    },
    {
     "name": "stdout",
     "output_type": "stream",
     "text": [
      "(sim,lamb_da,p_rew,w_minus,start,dose_quantity) =  (85, 0.01, 0.10000000000000002, 1.0, 1, 2)\n",
      "{74}\n",
      "sim_85_p_rew_0.1_start_1_dq_2\n"
     ]
    },
    {
     "name": "stderr",
     "output_type": "stream",
     "text": [
      "/home/aiyappa/anaconda3/lib/python3.7/site-packages/tables/path.py:112: NaturalNameWarning: object name is not a valid Python identifier: 'sim_85_p_rew_0.1_start_1_dq_2'; it does not match the pattern ``^[a-zA-Z_][a-zA-Z0-9_]*$``; you will not be able to use natural naming to access this object; using ``getattr()`` will still work, though\n",
      "  NaturalNameWarning)\n"
     ]
    },
    {
     "name": "stdout",
     "output_type": "stream",
     "text": [
      "(sim,lamb_da,p_rew,w_minus,start,dose_quantity) =  (85, 0.01, 0.10000000000000002, 1.0, 10, 0.1)\n",
      "{6, 7, 71, 39, 46, 79, 49, 83, 89, 30}\n",
      "sim_85_p_rew_0.1_start_10_dq_0.1\n"
     ]
    },
    {
     "name": "stderr",
     "output_type": "stream",
     "text": [
      "/home/aiyappa/anaconda3/lib/python3.7/site-packages/tables/path.py:112: NaturalNameWarning: object name is not a valid Python identifier: 'sim_85_p_rew_0.1_start_10_dq_0.1'; it does not match the pattern ``^[a-zA-Z_][a-zA-Z0-9_]*$``; you will not be able to use natural naming to access this object; using ``getattr()`` will still work, though\n",
      "  NaturalNameWarning)\n"
     ]
    },
    {
     "name": "stdout",
     "output_type": "stream",
     "text": [
      "(sim,lamb_da,p_rew,w_minus,start,dose_quantity) =  (85, 0.01, 0.10000000000000002, 1.0, 10, 2)\n",
      "{96, 39, 8, 72, 75, 48, 17, 54, 62, 94}\n",
      "sim_85_p_rew_0.1_start_10_dq_2\n"
     ]
    },
    {
     "name": "stderr",
     "output_type": "stream",
     "text": [
      "/home/aiyappa/anaconda3/lib/python3.7/site-packages/tables/path.py:112: NaturalNameWarning: object name is not a valid Python identifier: 'sim_85_p_rew_0.1_start_10_dq_2'; it does not match the pattern ``^[a-zA-Z_][a-zA-Z0-9_]*$``; you will not be able to use natural naming to access this object; using ``getattr()`` will still work, though\n",
      "  NaturalNameWarning)\n"
     ]
    },
    {
     "name": "stdout",
     "output_type": "stream",
     "text": [
      "(sim,lamb_da,p_rew,w_minus,start,dose_quantity) =  (85, 0.10000000000000002, 1.0, 1.0, 1, 0.1)\n",
      "{43}\n",
      "sim_85_p_rew_1_start_1_dq_0.1\n"
     ]
    },
    {
     "name": "stderr",
     "output_type": "stream",
     "text": [
      "/home/aiyappa/anaconda3/lib/python3.7/site-packages/tables/path.py:112: NaturalNameWarning: object name is not a valid Python identifier: 'sim_85_p_rew_1_start_1_dq_0.1'; it does not match the pattern ``^[a-zA-Z_][a-zA-Z0-9_]*$``; you will not be able to use natural naming to access this object; using ``getattr()`` will still work, though\n",
      "  NaturalNameWarning)\n"
     ]
    },
    {
     "name": "stdout",
     "output_type": "stream",
     "text": [
      "(sim,lamb_da,p_rew,w_minus,start,dose_quantity) =  (85, 0.10000000000000002, 1.0, 1.0, 1, 2)\n",
      "{37}\n",
      "sim_85_p_rew_1_start_1_dq_2\n",
      "(sim,lamb_da,p_rew,w_minus,start,dose_quantity) =  (85, 0.10000000000000002, 1.0, 1.0, 10, 0.1)\n",
      "Initial node infection step failed\n",
      "None\n",
      "{33, 38, 73, 13, 49, 20, 54, 88, 94, 62}\n",
      "sim_85_p_rew_1_start_10_dq_0.1\n"
     ]
    },
    {
     "name": "stderr",
     "output_type": "stream",
     "text": [
      "/home/aiyappa/anaconda3/lib/python3.7/site-packages/tables/path.py:112: NaturalNameWarning: object name is not a valid Python identifier: 'sim_85_p_rew_1_start_10_dq_0.1'; it does not match the pattern ``^[a-zA-Z_][a-zA-Z0-9_]*$``; you will not be able to use natural naming to access this object; using ``getattr()`` will still work, though\n",
      "  NaturalNameWarning)\n"
     ]
    },
    {
     "name": "stdout",
     "output_type": "stream",
     "text": [
      "(sim,lamb_da,p_rew,w_minus,start,dose_quantity) =  (85, 0.10000000000000002, 1.0, 1.0, 10, 2)\n",
      "{98, 99, 34, 70, 12, 82, 22, 88, 90, 61}\n",
      "sim_85_p_rew_1_start_10_dq_2\n",
      "(sim,lamb_da,p_rew,w_minus,start,dose_quantity) =  (85, 1.0, 10.0, 1.0, 1, 0.1)\n",
      "{80}\n",
      "sim_85_p_rew_10_start_1_dq_0.1\n"
     ]
    },
    {
     "name": "stderr",
     "output_type": "stream",
     "text": [
      "/home/aiyappa/anaconda3/lib/python3.7/site-packages/tables/path.py:112: NaturalNameWarning: object name is not a valid Python identifier: 'sim_85_p_rew_10_start_1_dq_0.1'; it does not match the pattern ``^[a-zA-Z_][a-zA-Z0-9_]*$``; you will not be able to use natural naming to access this object; using ``getattr()`` will still work, though\n",
      "  NaturalNameWarning)\n"
     ]
    },
    {
     "name": "stdout",
     "output_type": "stream",
     "text": [
      "(sim,lamb_da,p_rew,w_minus,start,dose_quantity) =  (85, 1.0, 10.0, 1.0, 1, 2)\n",
      "{98}\n",
      "sim_85_p_rew_10_start_1_dq_2\n",
      "(sim,lamb_da,p_rew,w_minus,start,dose_quantity) =  (85, 1.0, 10.0, 1.0, 10, 0.1)\n",
      "Initial node infection step failed\n",
      "None\n",
      "Initial node infection step failed\n",
      "None\n",
      "Initial node infection step failed\n",
      "None\n",
      "Initial node infection step failed\n",
      "None\n",
      "Initial node infection step failed\n",
      "None\n",
      "Initial node infection step failed\n",
      "None\n",
      "Initial node infection step failed\n",
      "None\n",
      "Initial node infection step failed\n",
      "None\n",
      "Initial node infection step failed\n",
      "None\n",
      "Initial node infection step failed\n",
      "None\n",
      "Initial node infection step failed\n",
      "None\n",
      "Initial node infection step failed\n",
      "None\n",
      "Initial node infection step failed\n",
      "None\n",
      "Initial node infection step failed\n",
      "None\n",
      "Initial node infection step failed\n",
      "None\n",
      "Initial node infection step failed\n",
      "None\n",
      "Initial node infection step failed\n",
      "None\n",
      "Initial node infection step failed\n",
      "None\n",
      "Initial node infection step failed\n",
      "None\n",
      "Initial node infection step failed\n",
      "None\n",
      "Initial node infection step failed\n",
      "None\n",
      "Initial node infection step failed\n",
      "None\n",
      "Initial node infection step failed\n",
      "None\n",
      "Initial node infection step failed\n",
      "None\n",
      "Initial node infection step failed\n",
      "None\n",
      "Initial node infection step failed\n",
      "None\n",
      "Initial node infection step failed\n",
      "None\n",
      "Initial node infection step failed\n",
      "None\n",
      "Initial node infection step failed\n",
      "None\n",
      "Initial node infection step failed\n",
      "None\n",
      "Initial node infection step failed\n",
      "None\n",
      "Initial node infection step failed\n",
      "None\n",
      "Initial node infection step failed\n",
      "None\n",
      "Initial node infection step failed\n",
      "None\n",
      "Initial node infection step failed\n",
      "None\n",
      "Initial node infection step failed\n",
      "None\n",
      "Initial node infection step failed\n",
      "None\n",
      "Initial node infection step failed\n",
      "None\n",
      "Initial node infection step failed\n",
      "None\n",
      "Initial node infection step failed\n",
      "None\n",
      "Initial node infection step failed\n",
      "None\n",
      "{64, 33, 65, 36, 7, 76, 16, 81, 84, 91}\n",
      "sim_85_p_rew_10_start_10_dq_0.1\n"
     ]
    },
    {
     "name": "stderr",
     "output_type": "stream",
     "text": [
      "/home/aiyappa/anaconda3/lib/python3.7/site-packages/tables/path.py:112: NaturalNameWarning: object name is not a valid Python identifier: 'sim_85_p_rew_10_start_10_dq_0.1'; it does not match the pattern ``^[a-zA-Z_][a-zA-Z0-9_]*$``; you will not be able to use natural naming to access this object; using ``getattr()`` will still work, though\n",
      "  NaturalNameWarning)\n"
     ]
    },
    {
     "name": "stdout",
     "output_type": "stream",
     "text": [
      "(sim,lamb_da,p_rew,w_minus,start,dose_quantity) =  (85, 1.0, 10.0, 1.0, 10, 2)\n",
      "{1, 70, 41, 76, 47, 52, 21, 54, 28, 31}\n",
      "sim_85_p_rew_10_start_10_dq_2\n",
      "(sim,lamb_da,p_rew,w_minus,start,dose_quantity) =  (86, 0.001, 0.01, 1.0, 1, 0.1)\n",
      "{24}\n",
      "sim_86_p_rew_0.01_start_1_dq_0.1\n"
     ]
    },
    {
     "name": "stderr",
     "output_type": "stream",
     "text": [
      "/home/aiyappa/anaconda3/lib/python3.7/site-packages/tables/path.py:112: NaturalNameWarning: object name is not a valid Python identifier: 'sim_86_p_rew_0.01_start_1_dq_0.1'; it does not match the pattern ``^[a-zA-Z_][a-zA-Z0-9_]*$``; you will not be able to use natural naming to access this object; using ``getattr()`` will still work, though\n",
      "  NaturalNameWarning)\n"
     ]
    },
    {
     "name": "stdout",
     "output_type": "stream",
     "text": [
      "(sim,lamb_da,p_rew,w_minus,start,dose_quantity) =  (86, 0.001, 0.01, 1.0, 1, 2)\n",
      "{58}\n",
      "sim_86_p_rew_0.01_start_1_dq_2\n"
     ]
    },
    {
     "name": "stderr",
     "output_type": "stream",
     "text": [
      "/home/aiyappa/anaconda3/lib/python3.7/site-packages/tables/path.py:112: NaturalNameWarning: object name is not a valid Python identifier: 'sim_86_p_rew_0.01_start_1_dq_2'; it does not match the pattern ``^[a-zA-Z_][a-zA-Z0-9_]*$``; you will not be able to use natural naming to access this object; using ``getattr()`` will still work, though\n",
      "  NaturalNameWarning)\n"
     ]
    },
    {
     "name": "stdout",
     "output_type": "stream",
     "text": [
      "(sim,lamb_da,p_rew,w_minus,start,dose_quantity) =  (86, 0.001, 0.01, 1.0, 10, 0.1)\n",
      "{67, 35, 36, 5, 70, 38, 43, 87, 25, 58}\n",
      "sim_86_p_rew_0.01_start_10_dq_0.1\n"
     ]
    },
    {
     "name": "stderr",
     "output_type": "stream",
     "text": [
      "/home/aiyappa/anaconda3/lib/python3.7/site-packages/tables/path.py:112: NaturalNameWarning: object name is not a valid Python identifier: 'sim_86_p_rew_0.01_start_10_dq_0.1'; it does not match the pattern ``^[a-zA-Z_][a-zA-Z0-9_]*$``; you will not be able to use natural naming to access this object; using ``getattr()`` will still work, though\n",
      "  NaturalNameWarning)\n"
     ]
    },
    {
     "name": "stdout",
     "output_type": "stream",
     "text": [
      "(sim,lamb_da,p_rew,w_minus,start,dose_quantity) =  (86, 0.001, 0.01, 1.0, 10, 2)\n",
      "{33, 73, 75, 13, 77, 19, 24, 60, 30, 95}\n",
      "sim_86_p_rew_0.01_start_10_dq_2\n"
     ]
    },
    {
     "name": "stderr",
     "output_type": "stream",
     "text": [
      "/home/aiyappa/anaconda3/lib/python3.7/site-packages/tables/path.py:112: NaturalNameWarning: object name is not a valid Python identifier: 'sim_86_p_rew_0.01_start_10_dq_2'; it does not match the pattern ``^[a-zA-Z_][a-zA-Z0-9_]*$``; you will not be able to use natural naming to access this object; using ``getattr()`` will still work, though\n",
      "  NaturalNameWarning)\n"
     ]
    },
    {
     "name": "stdout",
     "output_type": "stream",
     "text": [
      "(sim,lamb_da,p_rew,w_minus,start,dose_quantity) =  (86, 0.01, 0.10000000000000002, 1.0, 1, 0.1)\n",
      "{20}\n",
      "sim_86_p_rew_0.1_start_1_dq_0.1\n"
     ]
    },
    {
     "name": "stderr",
     "output_type": "stream",
     "text": [
      "/home/aiyappa/anaconda3/lib/python3.7/site-packages/tables/path.py:112: NaturalNameWarning: object name is not a valid Python identifier: 'sim_86_p_rew_0.1_start_1_dq_0.1'; it does not match the pattern ``^[a-zA-Z_][a-zA-Z0-9_]*$``; you will not be able to use natural naming to access this object; using ``getattr()`` will still work, though\n",
      "  NaturalNameWarning)\n"
     ]
    },
    {
     "name": "stdout",
     "output_type": "stream",
     "text": [
      "(sim,lamb_da,p_rew,w_minus,start,dose_quantity) =  (86, 0.01, 0.10000000000000002, 1.0, 1, 2)\n",
      "{98}\n",
      "sim_86_p_rew_0.1_start_1_dq_2\n"
     ]
    },
    {
     "name": "stderr",
     "output_type": "stream",
     "text": [
      "/home/aiyappa/anaconda3/lib/python3.7/site-packages/tables/path.py:112: NaturalNameWarning: object name is not a valid Python identifier: 'sim_86_p_rew_0.1_start_1_dq_2'; it does not match the pattern ``^[a-zA-Z_][a-zA-Z0-9_]*$``; you will not be able to use natural naming to access this object; using ``getattr()`` will still work, though\n",
      "  NaturalNameWarning)\n"
     ]
    },
    {
     "name": "stdout",
     "output_type": "stream",
     "text": [
      "(sim,lamb_da,p_rew,w_minus,start,dose_quantity) =  (86, 0.01, 0.10000000000000002, 1.0, 10, 0.1)\n",
      "{0, 2, 4, 7, 40, 85, 89, 26, 94, 31}\n",
      "sim_86_p_rew_0.1_start_10_dq_0.1\n"
     ]
    },
    {
     "name": "stderr",
     "output_type": "stream",
     "text": [
      "/home/aiyappa/anaconda3/lib/python3.7/site-packages/tables/path.py:112: NaturalNameWarning: object name is not a valid Python identifier: 'sim_86_p_rew_0.1_start_10_dq_0.1'; it does not match the pattern ``^[a-zA-Z_][a-zA-Z0-9_]*$``; you will not be able to use natural naming to access this object; using ``getattr()`` will still work, though\n",
      "  NaturalNameWarning)\n"
     ]
    },
    {
     "name": "stdout",
     "output_type": "stream",
     "text": [
      "(sim,lamb_da,p_rew,w_minus,start,dose_quantity) =  (86, 0.01, 0.10000000000000002, 1.0, 10, 2)\n",
      "{6, 38, 70, 15, 16, 49, 53, 22, 25, 63}\n",
      "sim_86_p_rew_0.1_start_10_dq_2\n"
     ]
    },
    {
     "name": "stderr",
     "output_type": "stream",
     "text": [
      "/home/aiyappa/anaconda3/lib/python3.7/site-packages/tables/path.py:112: NaturalNameWarning: object name is not a valid Python identifier: 'sim_86_p_rew_0.1_start_10_dq_2'; it does not match the pattern ``^[a-zA-Z_][a-zA-Z0-9_]*$``; you will not be able to use natural naming to access this object; using ``getattr()`` will still work, though\n",
      "  NaturalNameWarning)\n"
     ]
    },
    {
     "name": "stdout",
     "output_type": "stream",
     "text": [
      "(sim,lamb_da,p_rew,w_minus,start,dose_quantity) =  (86, 0.10000000000000002, 1.0, 1.0, 1, 0.1)\n",
      "{99}\n",
      "sim_86_p_rew_1_start_1_dq_0.1\n"
     ]
    },
    {
     "name": "stderr",
     "output_type": "stream",
     "text": [
      "/home/aiyappa/anaconda3/lib/python3.7/site-packages/tables/path.py:112: NaturalNameWarning: object name is not a valid Python identifier: 'sim_86_p_rew_1_start_1_dq_0.1'; it does not match the pattern ``^[a-zA-Z_][a-zA-Z0-9_]*$``; you will not be able to use natural naming to access this object; using ``getattr()`` will still work, though\n",
      "  NaturalNameWarning)\n"
     ]
    },
    {
     "name": "stdout",
     "output_type": "stream",
     "text": [
      "(sim,lamb_da,p_rew,w_minus,start,dose_quantity) =  (86, 0.10000000000000002, 1.0, 1.0, 1, 2)\n",
      "{13}\n",
      "sim_86_p_rew_1_start_1_dq_2\n",
      "(sim,lamb_da,p_rew,w_minus,start,dose_quantity) =  (86, 0.10000000000000002, 1.0, 1.0, 10, 0.1)\n",
      "Initial node infection step failed\n",
      "None\n",
      "{32, 34, 67, 99, 72, 81, 87, 25, 59, 63}\n",
      "sim_86_p_rew_1_start_10_dq_0.1\n"
     ]
    },
    {
     "name": "stderr",
     "output_type": "stream",
     "text": [
      "/home/aiyappa/anaconda3/lib/python3.7/site-packages/tables/path.py:112: NaturalNameWarning: object name is not a valid Python identifier: 'sim_86_p_rew_1_start_10_dq_0.1'; it does not match the pattern ``^[a-zA-Z_][a-zA-Z0-9_]*$``; you will not be able to use natural naming to access this object; using ``getattr()`` will still work, though\n",
      "  NaturalNameWarning)\n"
     ]
    },
    {
     "name": "stdout",
     "output_type": "stream",
     "text": [
      "(sim,lamb_da,p_rew,w_minus,start,dose_quantity) =  (86, 0.10000000000000002, 1.0, 1.0, 10, 2)\n",
      "{2, 38, 43, 15, 49, 82, 17, 55, 89, 27}\n",
      "sim_86_p_rew_1_start_10_dq_2\n",
      "(sim,lamb_da,p_rew,w_minus,start,dose_quantity) =  (86, 1.0, 10.0, 1.0, 1, 0.1)\n",
      "{16}\n",
      "sim_86_p_rew_10_start_1_dq_0.1\n"
     ]
    },
    {
     "name": "stderr",
     "output_type": "stream",
     "text": [
      "/home/aiyappa/anaconda3/lib/python3.7/site-packages/tables/path.py:112: NaturalNameWarning: object name is not a valid Python identifier: 'sim_86_p_rew_10_start_1_dq_0.1'; it does not match the pattern ``^[a-zA-Z_][a-zA-Z0-9_]*$``; you will not be able to use natural naming to access this object; using ``getattr()`` will still work, though\n",
      "  NaturalNameWarning)\n"
     ]
    },
    {
     "name": "stdout",
     "output_type": "stream",
     "text": [
      "(sim,lamb_da,p_rew,w_minus,start,dose_quantity) =  (86, 1.0, 10.0, 1.0, 1, 2)\n",
      "{63}\n",
      "sim_86_p_rew_10_start_1_dq_2\n",
      "(sim,lamb_da,p_rew,w_minus,start,dose_quantity) =  (86, 1.0, 10.0, 1.0, 10, 0.1)\n",
      "Initial node infection step failed\n",
      "None\n",
      "Initial node infection step failed\n",
      "None\n",
      "Initial node infection step failed\n",
      "None\n",
      "Initial node infection step failed\n",
      "None\n",
      "Initial node infection step failed\n",
      "None\n",
      "Initial node infection step failed\n",
      "None\n",
      "Initial node infection step failed\n",
      "None\n",
      "Initial node infection step failed\n",
      "None\n",
      "Initial node infection step failed\n",
      "None\n",
      "Initial node infection step failed\n",
      "None\n",
      "Initial node infection step failed\n",
      "None\n",
      "Initial node infection step failed\n",
      "None\n",
      "Initial node infection step failed\n",
      "None\n",
      "Initial node infection step failed\n",
      "None\n",
      "Initial node infection step failed\n",
      "None\n",
      "Initial node infection step failed\n",
      "None\n",
      "Initial node infection step failed\n",
      "None\n",
      "Initial node infection step failed\n",
      "None\n",
      "Initial node infection step failed\n",
      "None\n",
      "Initial node infection step failed\n",
      "None\n",
      "Initial node infection step failed\n",
      "None\n",
      "Initial node infection step failed\n",
      "None\n",
      "Initial node infection step failed\n",
      "None\n",
      "Initial node infection step failed\n",
      "None\n",
      "Initial node infection step failed\n",
      "None\n",
      "Initial node infection step failed\n",
      "None\n",
      "Initial node infection step failed\n",
      "None\n",
      "Initial node infection step failed\n",
      "None\n",
      "Initial node infection step failed\n",
      "None\n",
      "Initial node infection step failed\n",
      "None\n",
      "Initial node infection step failed\n",
      "None\n",
      "Initial node infection step failed\n",
      "None\n",
      "Initial node infection step failed\n",
      "None\n",
      "Initial node infection step failed\n",
      "None\n",
      "Initial node infection step failed\n",
      "None\n",
      "Initial node infection step failed\n",
      "None\n",
      "Initial node infection step failed\n",
      "None\n",
      "Initial node infection step failed\n",
      "None\n",
      "Initial node infection step failed\n",
      "None\n",
      "Initial node infection step failed\n",
      "None\n",
      "Initial node infection step failed\n",
      "None\n",
      "Initial node infection step failed\n",
      "None\n",
      "Initial node infection step failed\n",
      "None\n",
      "Initial node infection step failed\n",
      "None\n",
      "Initial node infection step failed\n",
      "None\n",
      "Initial node infection step failed\n",
      "None\n",
      "Initial node infection step failed\n",
      "None\n",
      "Initial node infection step failed\n",
      "None\n",
      "Initial node infection step failed\n",
      "None\n",
      "Initial node infection step failed\n",
      "None\n",
      "Initial node infection step failed\n",
      "None\n",
      "Initial node infection step failed\n",
      "None\n",
      "Initial node infection step failed\n",
      "None\n",
      "Initial node infection step failed\n",
      "None\n",
      "Initial node infection step failed\n",
      "None\n",
      "Initial node infection step failed\n",
      "None\n",
      "Initial node infection step failed\n",
      "None\n",
      "Initial node infection step failed\n",
      "None\n",
      "Initial node infection step failed\n",
      "None\n",
      "Initial node infection step failed\n",
      "None\n",
      "Initial node infection step failed\n",
      "None\n",
      "Initial node infection step failed\n",
      "None\n",
      "Initial node infection step failed\n",
      "None\n",
      "Initial node infection step failed\n",
      "None\n",
      "Initial node infection step failed\n",
      "None\n",
      "Initial node infection step failed\n",
      "None\n",
      "Initial node infection step failed\n",
      "None\n",
      "Initial node infection step failed\n",
      "None\n",
      "Initial node infection step failed\n",
      "None\n",
      "Initial node infection step failed\n",
      "None\n",
      "Initial node infection step failed\n",
      "None\n",
      "Initial node infection step failed\n",
      "None\n",
      "Initial node infection step failed\n",
      "None\n",
      "Initial node infection step failed\n",
      "None\n",
      "Initial node infection step failed\n",
      "None\n",
      "Initial node infection step failed\n",
      "None\n",
      "Initial node infection step failed\n",
      "None\n",
      "Initial node infection step failed\n",
      "None\n",
      "Initial node infection step failed\n",
      "None\n",
      "Initial node infection step failed\n",
      "None\n",
      "Initial node infection step failed\n",
      "None\n",
      "Initial node infection step failed\n",
      "None\n",
      "Initial node infection step failed\n",
      "None\n",
      "Initial node infection step failed\n",
      "None\n",
      "Initial node infection step failed\n",
      "None\n",
      "Initial node infection step failed\n",
      "None\n",
      "Initial node infection step failed\n",
      "None\n",
      "Initial node infection step failed\n",
      "None\n",
      "Initial node infection step failed\n",
      "None\n",
      "Initial node infection step failed\n",
      "None\n",
      "Initial node infection step failed\n",
      "None\n",
      "Initial node infection step failed\n",
      "None\n",
      "Initial node infection step failed\n",
      "None\n",
      "Initial node infection step failed\n",
      "None\n",
      "Initial node infection step failed\n",
      "None\n",
      "Initial node infection step failed\n",
      "None\n",
      "Initial node infection step failed\n",
      "None\n",
      "Initial node infection step failed\n",
      "None\n",
      "Initial node infection step failed\n",
      "None\n",
      "Initial node infection step failed\n",
      "None\n",
      "Initial node infection step failed\n",
      "None\n",
      "Initial node infection step failed\n",
      "None\n",
      "Initial node infection step failed\n",
      "None\n",
      "Initial node infection step failed\n",
      "None\n",
      "Initial node infection step failed\n",
      "None\n",
      "Initial node infection step failed\n",
      "None\n",
      "Initial node infection step failed\n",
      "None\n",
      "Initial node infection step failed\n",
      "None\n",
      "Initial node infection step failed\n",
      "None\n",
      "Initial node infection step failed\n",
      "None\n",
      "{98, 35, 72, 41, 44, 76, 14, 79, 62, 31}\n",
      "sim_86_p_rew_10_start_10_dq_0.1\n"
     ]
    },
    {
     "name": "stderr",
     "output_type": "stream",
     "text": [
      "/home/aiyappa/anaconda3/lib/python3.7/site-packages/tables/path.py:112: NaturalNameWarning: object name is not a valid Python identifier: 'sim_86_p_rew_10_start_10_dq_0.1'; it does not match the pattern ``^[a-zA-Z_][a-zA-Z0-9_]*$``; you will not be able to use natural naming to access this object; using ``getattr()`` will still work, though\n",
      "  NaturalNameWarning)\n"
     ]
    },
    {
     "name": "stdout",
     "output_type": "stream",
     "text": [
      "(sim,lamb_da,p_rew,w_minus,start,dose_quantity) =  (86, 1.0, 10.0, 1.0, 10, 2)\n",
      "{97, 69, 40, 91, 15, 80, 84, 24, 27, 94}\n",
      "sim_86_p_rew_10_start_10_dq_2\n",
      "(sim,lamb_da,p_rew,w_minus,start,dose_quantity) =  (87, 0.001, 0.01, 1.0, 1, 0.1)\n",
      "{29}\n",
      "sim_87_p_rew_0.01_start_1_dq_0.1\n"
     ]
    },
    {
     "name": "stderr",
     "output_type": "stream",
     "text": [
      "/home/aiyappa/anaconda3/lib/python3.7/site-packages/tables/path.py:112: NaturalNameWarning: object name is not a valid Python identifier: 'sim_87_p_rew_0.01_start_1_dq_0.1'; it does not match the pattern ``^[a-zA-Z_][a-zA-Z0-9_]*$``; you will not be able to use natural naming to access this object; using ``getattr()`` will still work, though\n",
      "  NaturalNameWarning)\n"
     ]
    },
    {
     "name": "stdout",
     "output_type": "stream",
     "text": [
      "(sim,lamb_da,p_rew,w_minus,start,dose_quantity) =  (87, 0.001, 0.01, 1.0, 1, 2)\n",
      "{68}\n",
      "sim_87_p_rew_0.01_start_1_dq_2\n"
     ]
    },
    {
     "name": "stderr",
     "output_type": "stream",
     "text": [
      "/home/aiyappa/anaconda3/lib/python3.7/site-packages/tables/path.py:112: NaturalNameWarning: object name is not a valid Python identifier: 'sim_87_p_rew_0.01_start_1_dq_2'; it does not match the pattern ``^[a-zA-Z_][a-zA-Z0-9_]*$``; you will not be able to use natural naming to access this object; using ``getattr()`` will still work, though\n",
      "  NaturalNameWarning)\n"
     ]
    },
    {
     "name": "stdout",
     "output_type": "stream",
     "text": [
      "(sim,lamb_da,p_rew,w_minus,start,dose_quantity) =  (87, 0.001, 0.01, 1.0, 10, 0.1)\n",
      "Initial node infection step failed\n",
      "None\n",
      "Initial node infection step failed\n",
      "None\n",
      "Initial node infection step failed\n",
      "None\n",
      "Initial node infection step failed\n",
      "None\n",
      "{37, 6, 7, 71, 78, 49, 20, 53, 24, 63}\n",
      "sim_87_p_rew_0.01_start_10_dq_0.1\n"
     ]
    },
    {
     "name": "stderr",
     "output_type": "stream",
     "text": [
      "/home/aiyappa/anaconda3/lib/python3.7/site-packages/tables/path.py:112: NaturalNameWarning: object name is not a valid Python identifier: 'sim_87_p_rew_0.01_start_10_dq_0.1'; it does not match the pattern ``^[a-zA-Z_][a-zA-Z0-9_]*$``; you will not be able to use natural naming to access this object; using ``getattr()`` will still work, though\n",
      "  NaturalNameWarning)\n"
     ]
    },
    {
     "name": "stdout",
     "output_type": "stream",
     "text": [
      "(sim,lamb_da,p_rew,w_minus,start,dose_quantity) =  (87, 0.001, 0.01, 1.0, 10, 2)\n",
      "{68, 14, 16, 23, 53, 22, 85, 86, 57, 31}\n",
      "sim_87_p_rew_0.01_start_10_dq_2\n"
     ]
    },
    {
     "name": "stderr",
     "output_type": "stream",
     "text": [
      "/home/aiyappa/anaconda3/lib/python3.7/site-packages/tables/path.py:112: NaturalNameWarning: object name is not a valid Python identifier: 'sim_87_p_rew_0.01_start_10_dq_2'; it does not match the pattern ``^[a-zA-Z_][a-zA-Z0-9_]*$``; you will not be able to use natural naming to access this object; using ``getattr()`` will still work, though\n",
      "  NaturalNameWarning)\n"
     ]
    },
    {
     "name": "stdout",
     "output_type": "stream",
     "text": [
      "(sim,lamb_da,p_rew,w_minus,start,dose_quantity) =  (87, 0.01, 0.10000000000000002, 1.0, 1, 0.1)\n",
      "{14}\n",
      "sim_87_p_rew_0.1_start_1_dq_0.1\n"
     ]
    },
    {
     "name": "stderr",
     "output_type": "stream",
     "text": [
      "/home/aiyappa/anaconda3/lib/python3.7/site-packages/tables/path.py:112: NaturalNameWarning: object name is not a valid Python identifier: 'sim_87_p_rew_0.1_start_1_dq_0.1'; it does not match the pattern ``^[a-zA-Z_][a-zA-Z0-9_]*$``; you will not be able to use natural naming to access this object; using ``getattr()`` will still work, though\n",
      "  NaturalNameWarning)\n"
     ]
    },
    {
     "name": "stdout",
     "output_type": "stream",
     "text": [
      "(sim,lamb_da,p_rew,w_minus,start,dose_quantity) =  (87, 0.01, 0.10000000000000002, 1.0, 1, 2)\n",
      "{16}\n",
      "sim_87_p_rew_0.1_start_1_dq_2\n"
     ]
    },
    {
     "name": "stderr",
     "output_type": "stream",
     "text": [
      "/home/aiyappa/anaconda3/lib/python3.7/site-packages/tables/path.py:112: NaturalNameWarning: object name is not a valid Python identifier: 'sim_87_p_rew_0.1_start_1_dq_2'; it does not match the pattern ``^[a-zA-Z_][a-zA-Z0-9_]*$``; you will not be able to use natural naming to access this object; using ``getattr()`` will still work, though\n",
      "  NaturalNameWarning)\n"
     ]
    },
    {
     "name": "stdout",
     "output_type": "stream",
     "text": [
      "(sim,lamb_da,p_rew,w_minus,start,dose_quantity) =  (87, 0.01, 0.10000000000000002, 1.0, 10, 0.1)\n",
      "Initial node infection step failed\n",
      "None\n",
      "Initial node infection step failed\n",
      "None\n",
      "{4, 70, 44, 13, 83, 21, 86, 88, 26, 30}\n",
      "sim_87_p_rew_0.1_start_10_dq_0.1\n"
     ]
    },
    {
     "name": "stderr",
     "output_type": "stream",
     "text": [
      "/home/aiyappa/anaconda3/lib/python3.7/site-packages/tables/path.py:112: NaturalNameWarning: object name is not a valid Python identifier: 'sim_87_p_rew_0.1_start_10_dq_0.1'; it does not match the pattern ``^[a-zA-Z_][a-zA-Z0-9_]*$``; you will not be able to use natural naming to access this object; using ``getattr()`` will still work, though\n",
      "  NaturalNameWarning)\n"
     ]
    },
    {
     "name": "stdout",
     "output_type": "stream",
     "text": [
      "(sim,lamb_da,p_rew,w_minus,start,dose_quantity) =  (87, 0.01, 0.10000000000000002, 1.0, 10, 2)\n",
      "{41, 76, 45, 77, 52, 55, 24, 90, 28, 61}\n",
      "sim_87_p_rew_0.1_start_10_dq_2\n"
     ]
    },
    {
     "name": "stderr",
     "output_type": "stream",
     "text": [
      "/home/aiyappa/anaconda3/lib/python3.7/site-packages/tables/path.py:112: NaturalNameWarning: object name is not a valid Python identifier: 'sim_87_p_rew_0.1_start_10_dq_2'; it does not match the pattern ``^[a-zA-Z_][a-zA-Z0-9_]*$``; you will not be able to use natural naming to access this object; using ``getattr()`` will still work, though\n",
      "  NaturalNameWarning)\n"
     ]
    },
    {
     "name": "stdout",
     "output_type": "stream",
     "text": [
      "(sim,lamb_da,p_rew,w_minus,start,dose_quantity) =  (87, 0.10000000000000002, 1.0, 1.0, 1, 0.1)\n",
      "{25}\n",
      "sim_87_p_rew_1_start_1_dq_0.1\n"
     ]
    },
    {
     "name": "stderr",
     "output_type": "stream",
     "text": [
      "/home/aiyappa/anaconda3/lib/python3.7/site-packages/tables/path.py:112: NaturalNameWarning: object name is not a valid Python identifier: 'sim_87_p_rew_1_start_1_dq_0.1'; it does not match the pattern ``^[a-zA-Z_][a-zA-Z0-9_]*$``; you will not be able to use natural naming to access this object; using ``getattr()`` will still work, though\n",
      "  NaturalNameWarning)\n"
     ]
    },
    {
     "name": "stdout",
     "output_type": "stream",
     "text": [
      "(sim,lamb_da,p_rew,w_minus,start,dose_quantity) =  (87, 0.10000000000000002, 1.0, 1.0, 1, 2)\n",
      "{36}\n",
      "sim_87_p_rew_1_start_1_dq_2\n",
      "(sim,lamb_da,p_rew,w_minus,start,dose_quantity) =  (87, 0.10000000000000002, 1.0, 1.0, 10, 0.1)\n",
      "{96, 4, 43, 47, 85, 22, 88, 89, 92, 95}\n",
      "sim_87_p_rew_1_start_10_dq_0.1\n"
     ]
    },
    {
     "name": "stderr",
     "output_type": "stream",
     "text": [
      "/home/aiyappa/anaconda3/lib/python3.7/site-packages/tables/path.py:112: NaturalNameWarning: object name is not a valid Python identifier: 'sim_87_p_rew_1_start_10_dq_0.1'; it does not match the pattern ``^[a-zA-Z_][a-zA-Z0-9_]*$``; you will not be able to use natural naming to access this object; using ``getattr()`` will still work, though\n",
      "  NaturalNameWarning)\n"
     ]
    },
    {
     "name": "stdout",
     "output_type": "stream",
     "text": [
      "(sim,lamb_da,p_rew,w_minus,start,dose_quantity) =  (87, 0.10000000000000002, 1.0, 1.0, 10, 2)\n",
      "{0, 96, 35, 6, 9, 12, 47, 21, 89, 27}\n",
      "sim_87_p_rew_1_start_10_dq_2\n",
      "(sim,lamb_da,p_rew,w_minus,start,dose_quantity) =  (87, 1.0, 10.0, 1.0, 1, 0.1)\n",
      "{62}\n",
      "sim_87_p_rew_10_start_1_dq_0.1\n"
     ]
    },
    {
     "name": "stderr",
     "output_type": "stream",
     "text": [
      "/home/aiyappa/anaconda3/lib/python3.7/site-packages/tables/path.py:112: NaturalNameWarning: object name is not a valid Python identifier: 'sim_87_p_rew_10_start_1_dq_0.1'; it does not match the pattern ``^[a-zA-Z_][a-zA-Z0-9_]*$``; you will not be able to use natural naming to access this object; using ``getattr()`` will still work, though\n",
      "  NaturalNameWarning)\n"
     ]
    },
    {
     "name": "stdout",
     "output_type": "stream",
     "text": [
      "(sim,lamb_da,p_rew,w_minus,start,dose_quantity) =  (87, 1.0, 10.0, 1.0, 1, 2)\n",
      "{14}\n",
      "sim_87_p_rew_10_start_1_dq_2\n",
      "(sim,lamb_da,p_rew,w_minus,start,dose_quantity) =  (87, 1.0, 10.0, 1.0, 10, 0.1)\n",
      "Initial node infection step failed\n",
      "None\n",
      "Initial node infection step failed\n",
      "None\n",
      "Initial node infection step failed\n",
      "None\n",
      "Initial node infection step failed\n",
      "None\n",
      "Initial node infection step failed\n",
      "None\n",
      "Initial node infection step failed\n",
      "None\n",
      "Initial node infection step failed\n",
      "None\n",
      "Initial node infection step failed\n",
      "None\n",
      "Initial node infection step failed\n",
      "None\n",
      "Initial node infection step failed\n",
      "None\n",
      "Initial node infection step failed\n",
      "None\n",
      "Initial node infection step failed\n",
      "None\n",
      "Initial node infection step failed\n",
      "None\n",
      "Initial node infection step failed\n",
      "None\n",
      "Initial node infection step failed\n",
      "None\n",
      "Initial node infection step failed\n",
      "None\n",
      "Initial node infection step failed\n",
      "None\n",
      "Initial node infection step failed\n",
      "None\n",
      "Initial node infection step failed\n",
      "None\n",
      "Initial node infection step failed\n",
      "None\n",
      "Initial node infection step failed\n",
      "None\n",
      "Initial node infection step failed\n",
      "None\n",
      "Initial node infection step failed\n",
      "None\n",
      "Initial node infection step failed\n",
      "None\n",
      "Initial node infection step failed\n",
      "None\n",
      "Initial node infection step failed\n",
      "None\n",
      "Initial node infection step failed\n",
      "None\n",
      "Initial node infection step failed\n",
      "None\n",
      "Initial node infection step failed\n",
      "None\n",
      "Initial node infection step failed\n",
      "None\n",
      "Initial node infection step failed\n",
      "None\n",
      "Initial node infection step failed\n",
      "None\n",
      "Initial node infection step failed\n",
      "None\n",
      "Initial node infection step failed\n",
      "None\n",
      "Initial node infection step failed\n",
      "None\n",
      "Initial node infection step failed\n",
      "None\n",
      "Initial node infection step failed\n",
      "None\n",
      "Initial node infection step failed\n",
      "None\n",
      "Initial node infection step failed\n",
      "None\n",
      "Initial node infection step failed\n",
      "None\n",
      "{0, 97, 66, 68, 10, 50, 54, 25, 59, 61}\n",
      "sim_87_p_rew_10_start_10_dq_0.1\n"
     ]
    },
    {
     "name": "stderr",
     "output_type": "stream",
     "text": [
      "/home/aiyappa/anaconda3/lib/python3.7/site-packages/tables/path.py:112: NaturalNameWarning: object name is not a valid Python identifier: 'sim_87_p_rew_10_start_10_dq_0.1'; it does not match the pattern ``^[a-zA-Z_][a-zA-Z0-9_]*$``; you will not be able to use natural naming to access this object; using ``getattr()`` will still work, though\n",
      "  NaturalNameWarning)\n"
     ]
    },
    {
     "name": "stdout",
     "output_type": "stream",
     "text": [
      "(sim,lamb_da,p_rew,w_minus,start,dose_quantity) =  (87, 1.0, 10.0, 1.0, 10, 2)\n",
      "{69, 70, 10, 42, 14, 19, 55, 89, 90, 93}\n",
      "sim_87_p_rew_10_start_10_dq_2\n",
      "(sim,lamb_da,p_rew,w_minus,start,dose_quantity) =  (88, 0.001, 0.01, 1.0, 1, 0.1)\n",
      "{73}\n",
      "sim_88_p_rew_0.01_start_1_dq_0.1\n"
     ]
    },
    {
     "name": "stderr",
     "output_type": "stream",
     "text": [
      "/home/aiyappa/anaconda3/lib/python3.7/site-packages/tables/path.py:112: NaturalNameWarning: object name is not a valid Python identifier: 'sim_88_p_rew_0.01_start_1_dq_0.1'; it does not match the pattern ``^[a-zA-Z_][a-zA-Z0-9_]*$``; you will not be able to use natural naming to access this object; using ``getattr()`` will still work, though\n",
      "  NaturalNameWarning)\n"
     ]
    },
    {
     "name": "stdout",
     "output_type": "stream",
     "text": [
      "(sim,lamb_da,p_rew,w_minus,start,dose_quantity) =  (88, 0.001, 0.01, 1.0, 1, 2)\n",
      "{45}\n",
      "sim_88_p_rew_0.01_start_1_dq_2\n"
     ]
    },
    {
     "name": "stderr",
     "output_type": "stream",
     "text": [
      "/home/aiyappa/anaconda3/lib/python3.7/site-packages/tables/path.py:112: NaturalNameWarning: object name is not a valid Python identifier: 'sim_88_p_rew_0.01_start_1_dq_2'; it does not match the pattern ``^[a-zA-Z_][a-zA-Z0-9_]*$``; you will not be able to use natural naming to access this object; using ``getattr()`` will still work, though\n",
      "  NaturalNameWarning)\n"
     ]
    },
    {
     "name": "stdout",
     "output_type": "stream",
     "text": [
      "(sim,lamb_da,p_rew,w_minus,start,dose_quantity) =  (88, 0.001, 0.01, 1.0, 10, 0.1)\n",
      "Initial node infection step failed\n",
      "None\n",
      "{32, 1, 66, 65, 10, 16, 80, 81, 22, 31}\n",
      "sim_88_p_rew_0.01_start_10_dq_0.1\n"
     ]
    },
    {
     "name": "stderr",
     "output_type": "stream",
     "text": [
      "/home/aiyappa/anaconda3/lib/python3.7/site-packages/tables/path.py:112: NaturalNameWarning: object name is not a valid Python identifier: 'sim_88_p_rew_0.01_start_10_dq_0.1'; it does not match the pattern ``^[a-zA-Z_][a-zA-Z0-9_]*$``; you will not be able to use natural naming to access this object; using ``getattr()`` will still work, though\n",
      "  NaturalNameWarning)\n"
     ]
    },
    {
     "name": "stdout",
     "output_type": "stream",
     "text": [
      "(sim,lamb_da,p_rew,w_minus,start,dose_quantity) =  (88, 0.001, 0.01, 1.0, 10, 2)\n",
      "{1, 34, 3, 5, 7, 10, 11, 14, 57, 31}\n",
      "sim_88_p_rew_0.01_start_10_dq_2\n"
     ]
    },
    {
     "name": "stderr",
     "output_type": "stream",
     "text": [
      "/home/aiyappa/anaconda3/lib/python3.7/site-packages/tables/path.py:112: NaturalNameWarning: object name is not a valid Python identifier: 'sim_88_p_rew_0.01_start_10_dq_2'; it does not match the pattern ``^[a-zA-Z_][a-zA-Z0-9_]*$``; you will not be able to use natural naming to access this object; using ``getattr()`` will still work, though\n",
      "  NaturalNameWarning)\n"
     ]
    },
    {
     "name": "stdout",
     "output_type": "stream",
     "text": [
      "(sim,lamb_da,p_rew,w_minus,start,dose_quantity) =  (88, 0.01, 0.10000000000000002, 1.0, 1, 0.1)\n",
      "{87}\n",
      "sim_88_p_rew_0.1_start_1_dq_0.1\n"
     ]
    },
    {
     "name": "stderr",
     "output_type": "stream",
     "text": [
      "/home/aiyappa/anaconda3/lib/python3.7/site-packages/tables/path.py:112: NaturalNameWarning: object name is not a valid Python identifier: 'sim_88_p_rew_0.1_start_1_dq_0.1'; it does not match the pattern ``^[a-zA-Z_][a-zA-Z0-9_]*$``; you will not be able to use natural naming to access this object; using ``getattr()`` will still work, though\n",
      "  NaturalNameWarning)\n"
     ]
    },
    {
     "name": "stdout",
     "output_type": "stream",
     "text": [
      "(sim,lamb_da,p_rew,w_minus,start,dose_quantity) =  (88, 0.01, 0.10000000000000002, 1.0, 1, 2)\n",
      "{80}\n",
      "sim_88_p_rew_0.1_start_1_dq_2\n"
     ]
    },
    {
     "name": "stderr",
     "output_type": "stream",
     "text": [
      "/home/aiyappa/anaconda3/lib/python3.7/site-packages/tables/path.py:112: NaturalNameWarning: object name is not a valid Python identifier: 'sim_88_p_rew_0.1_start_1_dq_2'; it does not match the pattern ``^[a-zA-Z_][a-zA-Z0-9_]*$``; you will not be able to use natural naming to access this object; using ``getattr()`` will still work, though\n",
      "  NaturalNameWarning)\n"
     ]
    },
    {
     "name": "stdout",
     "output_type": "stream",
     "text": [
      "(sim,lamb_da,p_rew,w_minus,start,dose_quantity) =  (88, 0.01, 0.10000000000000002, 1.0, 10, 0.1)\n",
      "{64, 96, 68, 6, 49, 51, 55, 58, 59, 31}\n",
      "sim_88_p_rew_0.1_start_10_dq_0.1\n"
     ]
    },
    {
     "name": "stderr",
     "output_type": "stream",
     "text": [
      "/home/aiyappa/anaconda3/lib/python3.7/site-packages/tables/path.py:112: NaturalNameWarning: object name is not a valid Python identifier: 'sim_88_p_rew_0.1_start_10_dq_0.1'; it does not match the pattern ``^[a-zA-Z_][a-zA-Z0-9_]*$``; you will not be able to use natural naming to access this object; using ``getattr()`` will still work, though\n",
      "  NaturalNameWarning)\n"
     ]
    },
    {
     "name": "stdout",
     "output_type": "stream",
     "text": [
      "(sim,lamb_da,p_rew,w_minus,start,dose_quantity) =  (88, 0.01, 0.10000000000000002, 1.0, 10, 2)\n",
      "{64, 97, 99, 38, 39, 9, 80, 19, 24, 57}\n",
      "sim_88_p_rew_0.1_start_10_dq_2\n"
     ]
    },
    {
     "name": "stderr",
     "output_type": "stream",
     "text": [
      "/home/aiyappa/anaconda3/lib/python3.7/site-packages/tables/path.py:112: NaturalNameWarning: object name is not a valid Python identifier: 'sim_88_p_rew_0.1_start_10_dq_2'; it does not match the pattern ``^[a-zA-Z_][a-zA-Z0-9_]*$``; you will not be able to use natural naming to access this object; using ``getattr()`` will still work, though\n",
      "  NaturalNameWarning)\n"
     ]
    },
    {
     "name": "stdout",
     "output_type": "stream",
     "text": [
      "(sim,lamb_da,p_rew,w_minus,start,dose_quantity) =  (88, 0.10000000000000002, 1.0, 1.0, 1, 0.1)\n",
      "{40}\n",
      "sim_88_p_rew_1_start_1_dq_0.1\n"
     ]
    },
    {
     "name": "stderr",
     "output_type": "stream",
     "text": [
      "/home/aiyappa/anaconda3/lib/python3.7/site-packages/tables/path.py:112: NaturalNameWarning: object name is not a valid Python identifier: 'sim_88_p_rew_1_start_1_dq_0.1'; it does not match the pattern ``^[a-zA-Z_][a-zA-Z0-9_]*$``; you will not be able to use natural naming to access this object; using ``getattr()`` will still work, though\n",
      "  NaturalNameWarning)\n"
     ]
    },
    {
     "name": "stdout",
     "output_type": "stream",
     "text": [
      "(sim,lamb_da,p_rew,w_minus,start,dose_quantity) =  (88, 0.10000000000000002, 1.0, 1.0, 1, 2)\n",
      "{13}\n",
      "sim_88_p_rew_1_start_1_dq_2\n",
      "(sim,lamb_da,p_rew,w_minus,start,dose_quantity) =  (88, 0.10000000000000002, 1.0, 1.0, 10, 0.1)\n",
      "Initial node infection step failed\n",
      "None\n",
      "{32, 0, 4, 69, 10, 12, 19, 54, 56, 57}\n",
      "sim_88_p_rew_1_start_10_dq_0.1\n"
     ]
    },
    {
     "name": "stderr",
     "output_type": "stream",
     "text": [
      "/home/aiyappa/anaconda3/lib/python3.7/site-packages/tables/path.py:112: NaturalNameWarning: object name is not a valid Python identifier: 'sim_88_p_rew_1_start_10_dq_0.1'; it does not match the pattern ``^[a-zA-Z_][a-zA-Z0-9_]*$``; you will not be able to use natural naming to access this object; using ``getattr()`` will still work, though\n",
      "  NaturalNameWarning)\n"
     ]
    },
    {
     "name": "stdout",
     "output_type": "stream",
     "text": [
      "(sim,lamb_da,p_rew,w_minus,start,dose_quantity) =  (88, 0.10000000000000002, 1.0, 1.0, 10, 2)\n",
      "{64, 32, 5, 41, 12, 76, 45, 20, 24, 92}\n",
      "sim_88_p_rew_1_start_10_dq_2\n",
      "(sim,lamb_da,p_rew,w_minus,start,dose_quantity) =  (88, 1.0, 10.0, 1.0, 1, 0.1)\n",
      "{45}\n",
      "sim_88_p_rew_10_start_1_dq_0.1\n"
     ]
    },
    {
     "name": "stderr",
     "output_type": "stream",
     "text": [
      "/home/aiyappa/anaconda3/lib/python3.7/site-packages/tables/path.py:112: NaturalNameWarning: object name is not a valid Python identifier: 'sim_88_p_rew_10_start_1_dq_0.1'; it does not match the pattern ``^[a-zA-Z_][a-zA-Z0-9_]*$``; you will not be able to use natural naming to access this object; using ``getattr()`` will still work, though\n",
      "  NaturalNameWarning)\n"
     ]
    },
    {
     "name": "stdout",
     "output_type": "stream",
     "text": [
      "(sim,lamb_da,p_rew,w_minus,start,dose_quantity) =  (88, 1.0, 10.0, 1.0, 1, 2)\n",
      "{45}\n",
      "sim_88_p_rew_10_start_1_dq_2\n",
      "(sim,lamb_da,p_rew,w_minus,start,dose_quantity) =  (88, 1.0, 10.0, 1.0, 10, 0.1)\n",
      "Initial node infection step failed\n",
      "None\n",
      "Initial node infection step failed\n",
      "None\n",
      "Initial node infection step failed\n",
      "None\n",
      "Initial node infection step failed\n",
      "None\n",
      "Initial node infection step failed\n",
      "None\n",
      "Initial node infection step failed\n",
      "None\n",
      "Initial node infection step failed\n",
      "None\n",
      "Initial node infection step failed\n",
      "None\n",
      "Initial node infection step failed\n",
      "None\n",
      "Initial node infection step failed\n",
      "None\n",
      "Initial node infection step failed\n",
      "None\n",
      "Initial node infection step failed\n",
      "None\n",
      "Initial node infection step failed\n",
      "None\n",
      "Initial node infection step failed\n",
      "None\n",
      "Initial node infection step failed\n",
      "None\n",
      "Initial node infection step failed\n",
      "None\n",
      "Initial node infection step failed\n",
      "None\n",
      "Initial node infection step failed\n",
      "None\n",
      "Initial node infection step failed\n",
      "None\n",
      "Initial node infection step failed\n",
      "None\n",
      "Initial node infection step failed\n",
      "None\n",
      "Initial node infection step failed\n",
      "None\n",
      "Initial node infection step failed\n",
      "None\n",
      "Initial node infection step failed\n",
      "None\n",
      "Initial node infection step failed\n",
      "None\n",
      "Initial node infection step failed\n",
      "None\n",
      "Initial node infection step failed\n",
      "None\n",
      "Initial node infection step failed\n",
      "None\n",
      "Initial node infection step failed\n",
      "None\n",
      "Initial node infection step failed\n",
      "None\n",
      "Initial node infection step failed\n",
      "None\n",
      "Initial node infection step failed\n",
      "None\n",
      "Initial node infection step failed\n",
      "None\n",
      "Initial node infection step failed\n",
      "None\n",
      "Initial node infection step failed\n",
      "None\n",
      "Initial node infection step failed\n",
      "None\n",
      "Initial node infection step failed\n",
      "None\n",
      "Initial node infection step failed\n",
      "None\n",
      "Initial node infection step failed\n",
      "None\n",
      "Initial node infection step failed\n",
      "None\n",
      "Initial node infection step failed\n",
      "None\n",
      "Initial node infection step failed\n",
      "None\n",
      "Initial node infection step failed\n",
      "None\n",
      "Initial node infection step failed\n",
      "None\n",
      "Initial node infection step failed\n",
      "None\n",
      "Initial node infection step failed\n",
      "None\n",
      "Initial node infection step failed\n",
      "None\n",
      "Initial node infection step failed\n",
      "None\n",
      "Initial node infection step failed\n",
      "None\n",
      "Initial node infection step failed\n",
      "None\n",
      "Initial node infection step failed\n",
      "None\n",
      "Initial node infection step failed\n",
      "None\n",
      "Initial node infection step failed\n",
      "None\n",
      "Initial node infection step failed\n",
      "None\n",
      "Initial node infection step failed\n",
      "None\n",
      "Initial node infection step failed\n",
      "None\n",
      "Initial node infection step failed\n",
      "None\n",
      "Initial node infection step failed\n",
      "None\n",
      "Initial node infection step failed\n",
      "None\n",
      "Initial node infection step failed\n",
      "None\n",
      "Initial node infection step failed\n",
      "None\n",
      "Initial node infection step failed\n",
      "None\n",
      "Initial node infection step failed\n",
      "None\n",
      "Initial node infection step failed\n",
      "None\n",
      "Initial node infection step failed\n",
      "None\n",
      "Initial node infection step failed\n",
      "None\n",
      "Initial node infection step failed\n",
      "None\n",
      "Initial node infection step failed\n",
      "None\n",
      "Initial node infection step failed\n",
      "None\n",
      "Initial node infection step failed\n",
      "None\n",
      "Initial node infection step failed\n",
      "None\n",
      "Initial node infection step failed\n",
      "None\n",
      "Initial node infection step failed\n",
      "None\n",
      "Initial node infection step failed\n",
      "None\n",
      "{66, 2, 40, 41, 74, 75, 83, 54, 24, 91}\n",
      "sim_88_p_rew_10_start_10_dq_0.1\n"
     ]
    },
    {
     "name": "stderr",
     "output_type": "stream",
     "text": [
      "/home/aiyappa/anaconda3/lib/python3.7/site-packages/tables/path.py:112: NaturalNameWarning: object name is not a valid Python identifier: 'sim_88_p_rew_10_start_10_dq_0.1'; it does not match the pattern ``^[a-zA-Z_][a-zA-Z0-9_]*$``; you will not be able to use natural naming to access this object; using ``getattr()`` will still work, though\n",
      "  NaturalNameWarning)\n"
     ]
    },
    {
     "name": "stdout",
     "output_type": "stream",
     "text": [
      "(sim,lamb_da,p_rew,w_minus,start,dose_quantity) =  (88, 1.0, 10.0, 1.0, 10, 2)\n",
      "{5, 45, 14, 78, 19, 51, 53, 21, 56, 63}\n",
      "sim_88_p_rew_10_start_10_dq_2\n",
      "(sim,lamb_da,p_rew,w_minus,start,dose_quantity) =  (89, 0.001, 0.01, 1.0, 1, 0.1)\n",
      "{51}\n",
      "sim_89_p_rew_0.01_start_1_dq_0.1\n"
     ]
    },
    {
     "name": "stderr",
     "output_type": "stream",
     "text": [
      "/home/aiyappa/anaconda3/lib/python3.7/site-packages/tables/path.py:112: NaturalNameWarning: object name is not a valid Python identifier: 'sim_89_p_rew_0.01_start_1_dq_0.1'; it does not match the pattern ``^[a-zA-Z_][a-zA-Z0-9_]*$``; you will not be able to use natural naming to access this object; using ``getattr()`` will still work, though\n",
      "  NaturalNameWarning)\n"
     ]
    },
    {
     "name": "stdout",
     "output_type": "stream",
     "text": [
      "(sim,lamb_da,p_rew,w_minus,start,dose_quantity) =  (89, 0.001, 0.01, 1.0, 1, 2)\n",
      "{43}\n",
      "sim_89_p_rew_0.01_start_1_dq_2\n"
     ]
    },
    {
     "name": "stderr",
     "output_type": "stream",
     "text": [
      "/home/aiyappa/anaconda3/lib/python3.7/site-packages/tables/path.py:112: NaturalNameWarning: object name is not a valid Python identifier: 'sim_89_p_rew_0.01_start_1_dq_2'; it does not match the pattern ``^[a-zA-Z_][a-zA-Z0-9_]*$``; you will not be able to use natural naming to access this object; using ``getattr()`` will still work, though\n",
      "  NaturalNameWarning)\n"
     ]
    },
    {
     "name": "stdout",
     "output_type": "stream",
     "text": [
      "(sim,lamb_da,p_rew,w_minus,start,dose_quantity) =  (89, 0.001, 0.01, 1.0, 10, 0.1)\n",
      "{64, 34, 73, 12, 45, 44, 15, 79, 18, 89}\n",
      "sim_89_p_rew_0.01_start_10_dq_0.1\n"
     ]
    },
    {
     "name": "stderr",
     "output_type": "stream",
     "text": [
      "/home/aiyappa/anaconda3/lib/python3.7/site-packages/tables/path.py:112: NaturalNameWarning: object name is not a valid Python identifier: 'sim_89_p_rew_0.01_start_10_dq_0.1'; it does not match the pattern ``^[a-zA-Z_][a-zA-Z0-9_]*$``; you will not be able to use natural naming to access this object; using ``getattr()`` will still work, though\n",
      "  NaturalNameWarning)\n"
     ]
    },
    {
     "name": "stdout",
     "output_type": "stream",
     "text": [
      "(sim,lamb_da,p_rew,w_minus,start,dose_quantity) =  (89, 0.001, 0.01, 1.0, 10, 2)\n",
      "{33, 2, 67, 71, 39, 41, 42, 19, 88, 92}\n",
      "sim_89_p_rew_0.01_start_10_dq_2\n"
     ]
    },
    {
     "name": "stderr",
     "output_type": "stream",
     "text": [
      "/home/aiyappa/anaconda3/lib/python3.7/site-packages/tables/path.py:112: NaturalNameWarning: object name is not a valid Python identifier: 'sim_89_p_rew_0.01_start_10_dq_2'; it does not match the pattern ``^[a-zA-Z_][a-zA-Z0-9_]*$``; you will not be able to use natural naming to access this object; using ``getattr()`` will still work, though\n",
      "  NaturalNameWarning)\n"
     ]
    },
    {
     "name": "stdout",
     "output_type": "stream",
     "text": [
      "(sim,lamb_da,p_rew,w_minus,start,dose_quantity) =  (89, 0.01, 0.10000000000000002, 1.0, 1, 0.1)\n",
      "{87}\n",
      "sim_89_p_rew_0.1_start_1_dq_0.1\n"
     ]
    },
    {
     "name": "stderr",
     "output_type": "stream",
     "text": [
      "/home/aiyappa/anaconda3/lib/python3.7/site-packages/tables/path.py:112: NaturalNameWarning: object name is not a valid Python identifier: 'sim_89_p_rew_0.1_start_1_dq_0.1'; it does not match the pattern ``^[a-zA-Z_][a-zA-Z0-9_]*$``; you will not be able to use natural naming to access this object; using ``getattr()`` will still work, though\n",
      "  NaturalNameWarning)\n"
     ]
    },
    {
     "name": "stdout",
     "output_type": "stream",
     "text": [
      "(sim,lamb_da,p_rew,w_minus,start,dose_quantity) =  (89, 0.01, 0.10000000000000002, 1.0, 1, 2)\n",
      "{47}\n",
      "sim_89_p_rew_0.1_start_1_dq_2\n"
     ]
    },
    {
     "name": "stderr",
     "output_type": "stream",
     "text": [
      "/home/aiyappa/anaconda3/lib/python3.7/site-packages/tables/path.py:112: NaturalNameWarning: object name is not a valid Python identifier: 'sim_89_p_rew_0.1_start_1_dq_2'; it does not match the pattern ``^[a-zA-Z_][a-zA-Z0-9_]*$``; you will not be able to use natural naming to access this object; using ``getattr()`` will still work, though\n",
      "  NaturalNameWarning)\n"
     ]
    },
    {
     "name": "stdout",
     "output_type": "stream",
     "text": [
      "(sim,lamb_da,p_rew,w_minus,start,dose_quantity) =  (89, 0.01, 0.10000000000000002, 1.0, 10, 0.1)\n",
      "Initial node infection step failed\n",
      "None\n",
      "Initial node infection step failed\n",
      "None\n",
      "{1, 99, 35, 69, 68, 72, 80, 19, 52, 26}\n",
      "sim_89_p_rew_0.1_start_10_dq_0.1\n"
     ]
    },
    {
     "name": "stderr",
     "output_type": "stream",
     "text": [
      "/home/aiyappa/anaconda3/lib/python3.7/site-packages/tables/path.py:112: NaturalNameWarning: object name is not a valid Python identifier: 'sim_89_p_rew_0.1_start_10_dq_0.1'; it does not match the pattern ``^[a-zA-Z_][a-zA-Z0-9_]*$``; you will not be able to use natural naming to access this object; using ``getattr()`` will still work, though\n",
      "  NaturalNameWarning)\n"
     ]
    },
    {
     "name": "stdout",
     "output_type": "stream",
     "text": [
      "(sim,lamb_da,p_rew,w_minus,start,dose_quantity) =  (89, 0.01, 0.10000000000000002, 1.0, 10, 2)\n",
      "{32, 98, 38, 8, 45, 46, 21, 22, 56, 92}\n",
      "sim_89_p_rew_0.1_start_10_dq_2\n"
     ]
    },
    {
     "name": "stderr",
     "output_type": "stream",
     "text": [
      "/home/aiyappa/anaconda3/lib/python3.7/site-packages/tables/path.py:112: NaturalNameWarning: object name is not a valid Python identifier: 'sim_89_p_rew_0.1_start_10_dq_2'; it does not match the pattern ``^[a-zA-Z_][a-zA-Z0-9_]*$``; you will not be able to use natural naming to access this object; using ``getattr()`` will still work, though\n",
      "  NaturalNameWarning)\n"
     ]
    },
    {
     "name": "stdout",
     "output_type": "stream",
     "text": [
      "(sim,lamb_da,p_rew,w_minus,start,dose_quantity) =  (89, 0.10000000000000002, 1.0, 1.0, 1, 0.1)\n",
      "{4}\n",
      "sim_89_p_rew_1_start_1_dq_0.1\n"
     ]
    },
    {
     "name": "stderr",
     "output_type": "stream",
     "text": [
      "/home/aiyappa/anaconda3/lib/python3.7/site-packages/tables/path.py:112: NaturalNameWarning: object name is not a valid Python identifier: 'sim_89_p_rew_1_start_1_dq_0.1'; it does not match the pattern ``^[a-zA-Z_][a-zA-Z0-9_]*$``; you will not be able to use natural naming to access this object; using ``getattr()`` will still work, though\n",
      "  NaturalNameWarning)\n"
     ]
    },
    {
     "name": "stdout",
     "output_type": "stream",
     "text": [
      "(sim,lamb_da,p_rew,w_minus,start,dose_quantity) =  (89, 0.10000000000000002, 1.0, 1.0, 1, 2)\n",
      "{72}\n",
      "sim_89_p_rew_1_start_1_dq_2\n",
      "(sim,lamb_da,p_rew,w_minus,start,dose_quantity) =  (89, 0.10000000000000002, 1.0, 1.0, 10, 0.1)\n",
      "Initial node infection step failed\n",
      "None\n",
      "{33, 43, 78, 55, 54, 87, 88, 92, 93, 62}\n",
      "sim_89_p_rew_1_start_10_dq_0.1\n"
     ]
    },
    {
     "name": "stderr",
     "output_type": "stream",
     "text": [
      "/home/aiyappa/anaconda3/lib/python3.7/site-packages/tables/path.py:112: NaturalNameWarning: object name is not a valid Python identifier: 'sim_89_p_rew_1_start_10_dq_0.1'; it does not match the pattern ``^[a-zA-Z_][a-zA-Z0-9_]*$``; you will not be able to use natural naming to access this object; using ``getattr()`` will still work, though\n",
      "  NaturalNameWarning)\n"
     ]
    },
    {
     "name": "stdout",
     "output_type": "stream",
     "text": [
      "(sim,lamb_da,p_rew,w_minus,start,dose_quantity) =  (89, 0.10000000000000002, 1.0, 1.0, 10, 2)\n",
      "{1, 35, 38, 73, 76, 45, 78, 80, 48, 54}\n",
      "sim_89_p_rew_1_start_10_dq_2\n",
      "(sim,lamb_da,p_rew,w_minus,start,dose_quantity) =  (89, 1.0, 10.0, 1.0, 1, 0.1)\n",
      "{4}\n",
      "sim_89_p_rew_10_start_1_dq_0.1\n"
     ]
    },
    {
     "name": "stderr",
     "output_type": "stream",
     "text": [
      "/home/aiyappa/anaconda3/lib/python3.7/site-packages/tables/path.py:112: NaturalNameWarning: object name is not a valid Python identifier: 'sim_89_p_rew_10_start_1_dq_0.1'; it does not match the pattern ``^[a-zA-Z_][a-zA-Z0-9_]*$``; you will not be able to use natural naming to access this object; using ``getattr()`` will still work, though\n",
      "  NaturalNameWarning)\n"
     ]
    },
    {
     "name": "stdout",
     "output_type": "stream",
     "text": [
      "(sim,lamb_da,p_rew,w_minus,start,dose_quantity) =  (89, 1.0, 10.0, 1.0, 1, 2)\n",
      "{56}\n",
      "sim_89_p_rew_10_start_1_dq_2\n",
      "(sim,lamb_da,p_rew,w_minus,start,dose_quantity) =  (89, 1.0, 10.0, 1.0, 10, 0.1)\n",
      "Initial node infection step failed\n",
      "None\n",
      "Initial node infection step failed\n",
      "None\n",
      "Initial node infection step failed\n",
      "None\n",
      "Initial node infection step failed\n",
      "None\n",
      "{98, 35, 6, 9, 44, 12, 79, 48, 17, 87}\n",
      "sim_89_p_rew_10_start_10_dq_0.1\n"
     ]
    },
    {
     "name": "stderr",
     "output_type": "stream",
     "text": [
      "/home/aiyappa/anaconda3/lib/python3.7/site-packages/tables/path.py:112: NaturalNameWarning: object name is not a valid Python identifier: 'sim_89_p_rew_10_start_10_dq_0.1'; it does not match the pattern ``^[a-zA-Z_][a-zA-Z0-9_]*$``; you will not be able to use natural naming to access this object; using ``getattr()`` will still work, though\n",
      "  NaturalNameWarning)\n"
     ]
    },
    {
     "name": "stdout",
     "output_type": "stream",
     "text": [
      "(sim,lamb_da,p_rew,w_minus,start,dose_quantity) =  (89, 1.0, 10.0, 1.0, 10, 2)\n",
      "{0, 34, 71, 72, 42, 75, 83, 22, 55, 62}\n",
      "sim_89_p_rew_10_start_10_dq_2\n",
      "(sim,lamb_da,p_rew,w_minus,start,dose_quantity) =  (90, 0.001, 0.01, 1.0, 1, 0.1)\n",
      "{28}\n",
      "sim_90_p_rew_0.01_start_1_dq_0.1\n"
     ]
    },
    {
     "name": "stderr",
     "output_type": "stream",
     "text": [
      "/home/aiyappa/anaconda3/lib/python3.7/site-packages/tables/path.py:112: NaturalNameWarning: object name is not a valid Python identifier: 'sim_90_p_rew_0.01_start_1_dq_0.1'; it does not match the pattern ``^[a-zA-Z_][a-zA-Z0-9_]*$``; you will not be able to use natural naming to access this object; using ``getattr()`` will still work, though\n",
      "  NaturalNameWarning)\n"
     ]
    },
    {
     "name": "stdout",
     "output_type": "stream",
     "text": [
      "(sim,lamb_da,p_rew,w_minus,start,dose_quantity) =  (90, 0.001, 0.01, 1.0, 1, 2)\n",
      "{97}\n",
      "sim_90_p_rew_0.01_start_1_dq_2\n"
     ]
    },
    {
     "name": "stderr",
     "output_type": "stream",
     "text": [
      "/home/aiyappa/anaconda3/lib/python3.7/site-packages/tables/path.py:112: NaturalNameWarning: object name is not a valid Python identifier: 'sim_90_p_rew_0.01_start_1_dq_2'; it does not match the pattern ``^[a-zA-Z_][a-zA-Z0-9_]*$``; you will not be able to use natural naming to access this object; using ``getattr()`` will still work, though\n",
      "  NaturalNameWarning)\n"
     ]
    },
    {
     "name": "stdout",
     "output_type": "stream",
     "text": [
      "(sim,lamb_da,p_rew,w_minus,start,dose_quantity) =  (90, 0.001, 0.01, 1.0, 10, 0.1)\n",
      "{97, 34, 37, 8, 43, 15, 17, 84, 86, 28}\n",
      "sim_90_p_rew_0.01_start_10_dq_0.1\n"
     ]
    },
    {
     "name": "stderr",
     "output_type": "stream",
     "text": [
      "/home/aiyappa/anaconda3/lib/python3.7/site-packages/tables/path.py:112: NaturalNameWarning: object name is not a valid Python identifier: 'sim_90_p_rew_0.01_start_10_dq_0.1'; it does not match the pattern ``^[a-zA-Z_][a-zA-Z0-9_]*$``; you will not be able to use natural naming to access this object; using ``getattr()`` will still work, though\n",
      "  NaturalNameWarning)\n"
     ]
    },
    {
     "name": "stdout",
     "output_type": "stream",
     "text": [
      "(sim,lamb_da,p_rew,w_minus,start,dose_quantity) =  (90, 0.001, 0.01, 1.0, 10, 2)\n",
      "{6, 40, 73, 46, 14, 80, 81, 52, 21, 26}\n",
      "sim_90_p_rew_0.01_start_10_dq_2\n"
     ]
    },
    {
     "name": "stderr",
     "output_type": "stream",
     "text": [
      "/home/aiyappa/anaconda3/lib/python3.7/site-packages/tables/path.py:112: NaturalNameWarning: object name is not a valid Python identifier: 'sim_90_p_rew_0.01_start_10_dq_2'; it does not match the pattern ``^[a-zA-Z_][a-zA-Z0-9_]*$``; you will not be able to use natural naming to access this object; using ``getattr()`` will still work, though\n",
      "  NaturalNameWarning)\n"
     ]
    },
    {
     "name": "stdout",
     "output_type": "stream",
     "text": [
      "(sim,lamb_da,p_rew,w_minus,start,dose_quantity) =  (90, 0.01, 0.10000000000000002, 1.0, 1, 0.1)\n",
      "{93}\n",
      "sim_90_p_rew_0.1_start_1_dq_0.1\n"
     ]
    },
    {
     "name": "stderr",
     "output_type": "stream",
     "text": [
      "/home/aiyappa/anaconda3/lib/python3.7/site-packages/tables/path.py:112: NaturalNameWarning: object name is not a valid Python identifier: 'sim_90_p_rew_0.1_start_1_dq_0.1'; it does not match the pattern ``^[a-zA-Z_][a-zA-Z0-9_]*$``; you will not be able to use natural naming to access this object; using ``getattr()`` will still work, though\n",
      "  NaturalNameWarning)\n"
     ]
    },
    {
     "name": "stdout",
     "output_type": "stream",
     "text": [
      "(sim,lamb_da,p_rew,w_minus,start,dose_quantity) =  (90, 0.01, 0.10000000000000002, 1.0, 1, 2)\n",
      "{5}\n",
      "sim_90_p_rew_0.1_start_1_dq_2\n"
     ]
    },
    {
     "name": "stderr",
     "output_type": "stream",
     "text": [
      "/home/aiyappa/anaconda3/lib/python3.7/site-packages/tables/path.py:112: NaturalNameWarning: object name is not a valid Python identifier: 'sim_90_p_rew_0.1_start_1_dq_2'; it does not match the pattern ``^[a-zA-Z_][a-zA-Z0-9_]*$``; you will not be able to use natural naming to access this object; using ``getattr()`` will still work, though\n",
      "  NaturalNameWarning)\n"
     ]
    },
    {
     "name": "stdout",
     "output_type": "stream",
     "text": [
      "(sim,lamb_da,p_rew,w_minus,start,dose_quantity) =  (90, 0.01, 0.10000000000000002, 1.0, 10, 0.1)\n",
      "{97, 79, 80, 19, 52, 53, 86, 87, 24, 25}\n",
      "sim_90_p_rew_0.1_start_10_dq_0.1\n"
     ]
    },
    {
     "name": "stderr",
     "output_type": "stream",
     "text": [
      "/home/aiyappa/anaconda3/lib/python3.7/site-packages/tables/path.py:112: NaturalNameWarning: object name is not a valid Python identifier: 'sim_90_p_rew_0.1_start_10_dq_0.1'; it does not match the pattern ``^[a-zA-Z_][a-zA-Z0-9_]*$``; you will not be able to use natural naming to access this object; using ``getattr()`` will still work, though\n",
      "  NaturalNameWarning)\n"
     ]
    },
    {
     "name": "stdout",
     "output_type": "stream",
     "text": [
      "(sim,lamb_da,p_rew,w_minus,start,dose_quantity) =  (90, 0.01, 0.10000000000000002, 1.0, 10, 2)\n",
      "{35, 68, 6, 8, 11, 55, 91, 28, 94, 63}\n",
      "sim_90_p_rew_0.1_start_10_dq_2\n"
     ]
    },
    {
     "name": "stderr",
     "output_type": "stream",
     "text": [
      "/home/aiyappa/anaconda3/lib/python3.7/site-packages/tables/path.py:112: NaturalNameWarning: object name is not a valid Python identifier: 'sim_90_p_rew_0.1_start_10_dq_2'; it does not match the pattern ``^[a-zA-Z_][a-zA-Z0-9_]*$``; you will not be able to use natural naming to access this object; using ``getattr()`` will still work, though\n",
      "  NaturalNameWarning)\n"
     ]
    },
    {
     "name": "stdout",
     "output_type": "stream",
     "text": [
      "(sim,lamb_da,p_rew,w_minus,start,dose_quantity) =  (90, 0.10000000000000002, 1.0, 1.0, 1, 0.1)\n",
      "{94}\n",
      "sim_90_p_rew_1_start_1_dq_0.1\n"
     ]
    },
    {
     "name": "stderr",
     "output_type": "stream",
     "text": [
      "/home/aiyappa/anaconda3/lib/python3.7/site-packages/tables/path.py:112: NaturalNameWarning: object name is not a valid Python identifier: 'sim_90_p_rew_1_start_1_dq_0.1'; it does not match the pattern ``^[a-zA-Z_][a-zA-Z0-9_]*$``; you will not be able to use natural naming to access this object; using ``getattr()`` will still work, though\n",
      "  NaturalNameWarning)\n"
     ]
    },
    {
     "name": "stdout",
     "output_type": "stream",
     "text": [
      "(sim,lamb_da,p_rew,w_minus,start,dose_quantity) =  (90, 0.10000000000000002, 1.0, 1.0, 1, 2)\n",
      "{43}\n",
      "sim_90_p_rew_1_start_1_dq_2\n",
      "(sim,lamb_da,p_rew,w_minus,start,dose_quantity) =  (90, 0.10000000000000002, 1.0, 1.0, 10, 0.1)\n",
      "{1, 5, 72, 74, 43, 78, 81, 29, 21, 61}\n",
      "sim_90_p_rew_1_start_10_dq_0.1\n"
     ]
    },
    {
     "name": "stderr",
     "output_type": "stream",
     "text": [
      "/home/aiyappa/anaconda3/lib/python3.7/site-packages/tables/path.py:112: NaturalNameWarning: object name is not a valid Python identifier: 'sim_90_p_rew_1_start_10_dq_0.1'; it does not match the pattern ``^[a-zA-Z_][a-zA-Z0-9_]*$``; you will not be able to use natural naming to access this object; using ``getattr()`` will still work, though\n",
      "  NaturalNameWarning)\n"
     ]
    },
    {
     "name": "stdout",
     "output_type": "stream",
     "text": [
      "(sim,lamb_da,p_rew,w_minus,start,dose_quantity) =  (90, 0.10000000000000002, 1.0, 1.0, 10, 2)\n",
      "{40, 76, 77, 47, 82, 51, 53, 86, 27, 63}\n",
      "sim_90_p_rew_1_start_10_dq_2\n",
      "(sim,lamb_da,p_rew,w_minus,start,dose_quantity) =  (90, 1.0, 10.0, 1.0, 1, 0.1)\n",
      "{17}\n",
      "sim_90_p_rew_10_start_1_dq_0.1\n"
     ]
    },
    {
     "name": "stderr",
     "output_type": "stream",
     "text": [
      "/home/aiyappa/anaconda3/lib/python3.7/site-packages/tables/path.py:112: NaturalNameWarning: object name is not a valid Python identifier: 'sim_90_p_rew_10_start_1_dq_0.1'; it does not match the pattern ``^[a-zA-Z_][a-zA-Z0-9_]*$``; you will not be able to use natural naming to access this object; using ``getattr()`` will still work, though\n",
      "  NaturalNameWarning)\n"
     ]
    },
    {
     "name": "stdout",
     "output_type": "stream",
     "text": [
      "(sim,lamb_da,p_rew,w_minus,start,dose_quantity) =  (90, 1.0, 10.0, 1.0, 1, 2)\n",
      "{28}\n",
      "sim_90_p_rew_10_start_1_dq_2\n",
      "(sim,lamb_da,p_rew,w_minus,start,dose_quantity) =  (90, 1.0, 10.0, 1.0, 10, 0.1)\n",
      "Initial node infection step failed\n",
      "None\n",
      "Initial node infection step failed\n",
      "None\n",
      "Initial node infection step failed\n",
      "None\n",
      "Initial node infection step failed\n",
      "None\n",
      "Initial node infection step failed\n",
      "None\n",
      "Initial node infection step failed\n",
      "None\n",
      "Initial node infection step failed\n",
      "None\n",
      "Initial node infection step failed\n",
      "None\n",
      "Initial node infection step failed\n",
      "None\n",
      "Initial node infection step failed\n",
      "None\n",
      "Initial node infection step failed\n",
      "None\n",
      "Initial node infection step failed\n",
      "None\n",
      "Initial node infection step failed\n",
      "None\n",
      "Initial node infection step failed\n",
      "None\n",
      "Initial node infection step failed\n",
      "None\n",
      "Initial node infection step failed\n",
      "None\n",
      "Initial node infection step failed\n",
      "None\n",
      "{98, 40, 73, 13, 77, 82, 52, 20, 54, 56}\n",
      "sim_90_p_rew_10_start_10_dq_0.1\n"
     ]
    },
    {
     "name": "stderr",
     "output_type": "stream",
     "text": [
      "/home/aiyappa/anaconda3/lib/python3.7/site-packages/tables/path.py:112: NaturalNameWarning: object name is not a valid Python identifier: 'sim_90_p_rew_10_start_10_dq_0.1'; it does not match the pattern ``^[a-zA-Z_][a-zA-Z0-9_]*$``; you will not be able to use natural naming to access this object; using ``getattr()`` will still work, though\n",
      "  NaturalNameWarning)\n"
     ]
    },
    {
     "name": "stdout",
     "output_type": "stream",
     "text": [
      "(sim,lamb_da,p_rew,w_minus,start,dose_quantity) =  (90, 1.0, 10.0, 1.0, 10, 2)\n",
      "{33, 1, 35, 75, 19, 20, 57, 93, 62, 95}\n",
      "sim_90_p_rew_10_start_10_dq_2\n",
      "(sim,lamb_da,p_rew,w_minus,start,dose_quantity) =  (91, 0.001, 0.01, 1.0, 1, 0.1)\n",
      "{32}\n",
      "sim_91_p_rew_0.01_start_1_dq_0.1\n"
     ]
    },
    {
     "name": "stderr",
     "output_type": "stream",
     "text": [
      "/home/aiyappa/anaconda3/lib/python3.7/site-packages/tables/path.py:112: NaturalNameWarning: object name is not a valid Python identifier: 'sim_91_p_rew_0.01_start_1_dq_0.1'; it does not match the pattern ``^[a-zA-Z_][a-zA-Z0-9_]*$``; you will not be able to use natural naming to access this object; using ``getattr()`` will still work, though\n",
      "  NaturalNameWarning)\n"
     ]
    },
    {
     "name": "stdout",
     "output_type": "stream",
     "text": [
      "(sim,lamb_da,p_rew,w_minus,start,dose_quantity) =  (91, 0.001, 0.01, 1.0, 1, 2)\n",
      "{73}\n",
      "sim_91_p_rew_0.01_start_1_dq_2\n"
     ]
    },
    {
     "name": "stderr",
     "output_type": "stream",
     "text": [
      "/home/aiyappa/anaconda3/lib/python3.7/site-packages/tables/path.py:112: NaturalNameWarning: object name is not a valid Python identifier: 'sim_91_p_rew_0.01_start_1_dq_2'; it does not match the pattern ``^[a-zA-Z_][a-zA-Z0-9_]*$``; you will not be able to use natural naming to access this object; using ``getattr()`` will still work, though\n",
      "  NaturalNameWarning)\n"
     ]
    },
    {
     "name": "stdout",
     "output_type": "stream",
     "text": [
      "(sim,lamb_da,p_rew,w_minus,start,dose_quantity) =  (91, 0.001, 0.01, 1.0, 10, 0.1)\n",
      "{65, 99, 37, 39, 13, 28, 79, 16, 56, 92}\n",
      "sim_91_p_rew_0.01_start_10_dq_0.1\n"
     ]
    },
    {
     "name": "stderr",
     "output_type": "stream",
     "text": [
      "/home/aiyappa/anaconda3/lib/python3.7/site-packages/tables/path.py:112: NaturalNameWarning: object name is not a valid Python identifier: 'sim_91_p_rew_0.01_start_10_dq_0.1'; it does not match the pattern ``^[a-zA-Z_][a-zA-Z0-9_]*$``; you will not be able to use natural naming to access this object; using ``getattr()`` will still work, though\n",
      "  NaturalNameWarning)\n"
     ]
    },
    {
     "name": "stdout",
     "output_type": "stream",
     "text": [
      "(sim,lamb_da,p_rew,w_minus,start,dose_quantity) =  (91, 0.001, 0.01, 1.0, 10, 2)\n",
      "{33, 3, 6, 41, 15, 82, 53, 87, 57, 28}\n",
      "sim_91_p_rew_0.01_start_10_dq_2\n"
     ]
    },
    {
     "name": "stderr",
     "output_type": "stream",
     "text": [
      "/home/aiyappa/anaconda3/lib/python3.7/site-packages/tables/path.py:112: NaturalNameWarning: object name is not a valid Python identifier: 'sim_91_p_rew_0.01_start_10_dq_2'; it does not match the pattern ``^[a-zA-Z_][a-zA-Z0-9_]*$``; you will not be able to use natural naming to access this object; using ``getattr()`` will still work, though\n",
      "  NaturalNameWarning)\n"
     ]
    },
    {
     "name": "stdout",
     "output_type": "stream",
     "text": [
      "(sim,lamb_da,p_rew,w_minus,start,dose_quantity) =  (91, 0.01, 0.10000000000000002, 1.0, 1, 0.1)\n",
      "{97}\n",
      "sim_91_p_rew_0.1_start_1_dq_0.1\n"
     ]
    },
    {
     "name": "stderr",
     "output_type": "stream",
     "text": [
      "/home/aiyappa/anaconda3/lib/python3.7/site-packages/tables/path.py:112: NaturalNameWarning: object name is not a valid Python identifier: 'sim_91_p_rew_0.1_start_1_dq_0.1'; it does not match the pattern ``^[a-zA-Z_][a-zA-Z0-9_]*$``; you will not be able to use natural naming to access this object; using ``getattr()`` will still work, though\n",
      "  NaturalNameWarning)\n"
     ]
    },
    {
     "name": "stdout",
     "output_type": "stream",
     "text": [
      "(sim,lamb_da,p_rew,w_minus,start,dose_quantity) =  (91, 0.01, 0.10000000000000002, 1.0, 1, 2)\n",
      "{72}\n",
      "sim_91_p_rew_0.1_start_1_dq_2\n"
     ]
    },
    {
     "name": "stderr",
     "output_type": "stream",
     "text": [
      "/home/aiyappa/anaconda3/lib/python3.7/site-packages/tables/path.py:112: NaturalNameWarning: object name is not a valid Python identifier: 'sim_91_p_rew_0.1_start_1_dq_2'; it does not match the pattern ``^[a-zA-Z_][a-zA-Z0-9_]*$``; you will not be able to use natural naming to access this object; using ``getattr()`` will still work, though\n",
      "  NaturalNameWarning)\n"
     ]
    },
    {
     "name": "stdout",
     "output_type": "stream",
     "text": [
      "(sim,lamb_da,p_rew,w_minus,start,dose_quantity) =  (91, 0.01, 0.10000000000000002, 1.0, 10, 0.1)\n",
      "{64, 37, 47, 16, 81, 49, 83, 52, 25, 62}\n",
      "sim_91_p_rew_0.1_start_10_dq_0.1\n"
     ]
    },
    {
     "name": "stderr",
     "output_type": "stream",
     "text": [
      "/home/aiyappa/anaconda3/lib/python3.7/site-packages/tables/path.py:112: NaturalNameWarning: object name is not a valid Python identifier: 'sim_91_p_rew_0.1_start_10_dq_0.1'; it does not match the pattern ``^[a-zA-Z_][a-zA-Z0-9_]*$``; you will not be able to use natural naming to access this object; using ``getattr()`` will still work, though\n",
      "  NaturalNameWarning)\n"
     ]
    },
    {
     "name": "stdout",
     "output_type": "stream",
     "text": [
      "(sim,lamb_da,p_rew,w_minus,start,dose_quantity) =  (91, 0.01, 0.10000000000000002, 1.0, 10, 2)\n",
      "{6, 40, 78, 83, 84, 53, 52, 85, 88, 92}\n",
      "sim_91_p_rew_0.1_start_10_dq_2\n"
     ]
    },
    {
     "name": "stderr",
     "output_type": "stream",
     "text": [
      "/home/aiyappa/anaconda3/lib/python3.7/site-packages/tables/path.py:112: NaturalNameWarning: object name is not a valid Python identifier: 'sim_91_p_rew_0.1_start_10_dq_2'; it does not match the pattern ``^[a-zA-Z_][a-zA-Z0-9_]*$``; you will not be able to use natural naming to access this object; using ``getattr()`` will still work, though\n",
      "  NaturalNameWarning)\n"
     ]
    },
    {
     "name": "stdout",
     "output_type": "stream",
     "text": [
      "(sim,lamb_da,p_rew,w_minus,start,dose_quantity) =  (91, 0.10000000000000002, 1.0, 1.0, 1, 0.1)\n",
      "{76}\n",
      "sim_91_p_rew_1_start_1_dq_0.1\n"
     ]
    },
    {
     "name": "stderr",
     "output_type": "stream",
     "text": [
      "/home/aiyappa/anaconda3/lib/python3.7/site-packages/tables/path.py:112: NaturalNameWarning: object name is not a valid Python identifier: 'sim_91_p_rew_1_start_1_dq_0.1'; it does not match the pattern ``^[a-zA-Z_][a-zA-Z0-9_]*$``; you will not be able to use natural naming to access this object; using ``getattr()`` will still work, though\n",
      "  NaturalNameWarning)\n"
     ]
    },
    {
     "name": "stdout",
     "output_type": "stream",
     "text": [
      "(sim,lamb_da,p_rew,w_minus,start,dose_quantity) =  (91, 0.10000000000000002, 1.0, 1.0, 1, 2)\n",
      "{61}\n",
      "sim_91_p_rew_1_start_1_dq_2\n",
      "(sim,lamb_da,p_rew,w_minus,start,dose_quantity) =  (91, 0.10000000000000002, 1.0, 1.0, 10, 0.1)\n",
      "Initial node infection step failed\n",
      "None\n",
      "Initial node infection step failed\n",
      "None\n",
      "Initial node infection step failed\n",
      "None\n",
      "Initial node infection step failed\n",
      "None\n",
      "{64, 6, 15, 16, 51, 83, 54, 26, 28, 61}\n",
      "sim_91_p_rew_1_start_10_dq_0.1\n"
     ]
    },
    {
     "name": "stderr",
     "output_type": "stream",
     "text": [
      "/home/aiyappa/anaconda3/lib/python3.7/site-packages/tables/path.py:112: NaturalNameWarning: object name is not a valid Python identifier: 'sim_91_p_rew_1_start_10_dq_0.1'; it does not match the pattern ``^[a-zA-Z_][a-zA-Z0-9_]*$``; you will not be able to use natural naming to access this object; using ``getattr()`` will still work, though\n",
      "  NaturalNameWarning)\n"
     ]
    },
    {
     "name": "stdout",
     "output_type": "stream",
     "text": [
      "(sim,lamb_da,p_rew,w_minus,start,dose_quantity) =  (91, 0.10000000000000002, 1.0, 1.0, 10, 2)\n",
      "{98, 5, 42, 13, 77, 21, 24, 91, 28, 93}\n",
      "sim_91_p_rew_1_start_10_dq_2\n",
      "(sim,lamb_da,p_rew,w_minus,start,dose_quantity) =  (91, 1.0, 10.0, 1.0, 1, 0.1)\n",
      "{4}\n",
      "sim_91_p_rew_10_start_1_dq_0.1\n"
     ]
    },
    {
     "name": "stderr",
     "output_type": "stream",
     "text": [
      "/home/aiyappa/anaconda3/lib/python3.7/site-packages/tables/path.py:112: NaturalNameWarning: object name is not a valid Python identifier: 'sim_91_p_rew_10_start_1_dq_0.1'; it does not match the pattern ``^[a-zA-Z_][a-zA-Z0-9_]*$``; you will not be able to use natural naming to access this object; using ``getattr()`` will still work, though\n",
      "  NaturalNameWarning)\n"
     ]
    },
    {
     "name": "stdout",
     "output_type": "stream",
     "text": [
      "(sim,lamb_da,p_rew,w_minus,start,dose_quantity) =  (91, 1.0, 10.0, 1.0, 1, 2)\n",
      "{44}\n",
      "sim_91_p_rew_10_start_1_dq_2\n",
      "(sim,lamb_da,p_rew,w_minus,start,dose_quantity) =  (91, 1.0, 10.0, 1.0, 10, 0.1)\n",
      "Initial node infection step failed\n",
      "None\n",
      "Initial node infection step failed\n",
      "None\n",
      "Initial node infection step failed\n",
      "None\n",
      "Initial node infection step failed\n",
      "None\n",
      "Initial node infection step failed\n",
      "None\n",
      "Initial node infection step failed\n",
      "None\n",
      "Initial node infection step failed\n",
      "None\n",
      "Initial node infection step failed\n",
      "None\n",
      "{66, 69, 41, 42, 12, 79, 22, 58, 93, 62}\n",
      "sim_91_p_rew_10_start_10_dq_0.1\n"
     ]
    },
    {
     "name": "stderr",
     "output_type": "stream",
     "text": [
      "/home/aiyappa/anaconda3/lib/python3.7/site-packages/tables/path.py:112: NaturalNameWarning: object name is not a valid Python identifier: 'sim_91_p_rew_10_start_10_dq_0.1'; it does not match the pattern ``^[a-zA-Z_][a-zA-Z0-9_]*$``; you will not be able to use natural naming to access this object; using ``getattr()`` will still work, though\n",
      "  NaturalNameWarning)\n"
     ]
    },
    {
     "name": "stdout",
     "output_type": "stream",
     "text": [
      "(sim,lamb_da,p_rew,w_minus,start,dose_quantity) =  (91, 1.0, 10.0, 1.0, 10, 2)\n",
      "{96, 66, 5, 69, 75, 78, 79, 81, 54, 28}\n",
      "sim_91_p_rew_10_start_10_dq_2\n",
      "(sim,lamb_da,p_rew,w_minus,start,dose_quantity) =  (92, 0.001, 0.01, 1.0, 1, 0.1)\n",
      "{20}\n",
      "sim_92_p_rew_0.01_start_1_dq_0.1\n"
     ]
    },
    {
     "name": "stderr",
     "output_type": "stream",
     "text": [
      "/home/aiyappa/anaconda3/lib/python3.7/site-packages/tables/path.py:112: NaturalNameWarning: object name is not a valid Python identifier: 'sim_92_p_rew_0.01_start_1_dq_0.1'; it does not match the pattern ``^[a-zA-Z_][a-zA-Z0-9_]*$``; you will not be able to use natural naming to access this object; using ``getattr()`` will still work, though\n",
      "  NaturalNameWarning)\n"
     ]
    },
    {
     "name": "stdout",
     "output_type": "stream",
     "text": [
      "(sim,lamb_da,p_rew,w_minus,start,dose_quantity) =  (92, 0.001, 0.01, 1.0, 1, 2)\n",
      "{51}\n",
      "sim_92_p_rew_0.01_start_1_dq_2\n"
     ]
    },
    {
     "name": "stderr",
     "output_type": "stream",
     "text": [
      "/home/aiyappa/anaconda3/lib/python3.7/site-packages/tables/path.py:112: NaturalNameWarning: object name is not a valid Python identifier: 'sim_92_p_rew_0.01_start_1_dq_2'; it does not match the pattern ``^[a-zA-Z_][a-zA-Z0-9_]*$``; you will not be able to use natural naming to access this object; using ``getattr()`` will still work, though\n",
      "  NaturalNameWarning)\n"
     ]
    },
    {
     "name": "stdout",
     "output_type": "stream",
     "text": [
      "(sim,lamb_da,p_rew,w_minus,start,dose_quantity) =  (92, 0.001, 0.01, 1.0, 10, 0.1)\n",
      "{64, 32, 99, 71, 72, 75, 79, 55, 88, 94}\n",
      "sim_92_p_rew_0.01_start_10_dq_0.1\n"
     ]
    },
    {
     "name": "stderr",
     "output_type": "stream",
     "text": [
      "/home/aiyappa/anaconda3/lib/python3.7/site-packages/tables/path.py:112: NaturalNameWarning: object name is not a valid Python identifier: 'sim_92_p_rew_0.01_start_10_dq_0.1'; it does not match the pattern ``^[a-zA-Z_][a-zA-Z0-9_]*$``; you will not be able to use natural naming to access this object; using ``getattr()`` will still work, though\n",
      "  NaturalNameWarning)\n"
     ]
    },
    {
     "name": "stdout",
     "output_type": "stream",
     "text": [
      "(sim,lamb_da,p_rew,w_minus,start,dose_quantity) =  (92, 0.001, 0.01, 1.0, 10, 2)\n",
      "{34, 2, 12, 44, 46, 48, 21, 25, 61, 63}\n",
      "sim_92_p_rew_0.01_start_10_dq_2\n"
     ]
    },
    {
     "name": "stderr",
     "output_type": "stream",
     "text": [
      "/home/aiyappa/anaconda3/lib/python3.7/site-packages/tables/path.py:112: NaturalNameWarning: object name is not a valid Python identifier: 'sim_92_p_rew_0.01_start_10_dq_2'; it does not match the pattern ``^[a-zA-Z_][a-zA-Z0-9_]*$``; you will not be able to use natural naming to access this object; using ``getattr()`` will still work, though\n",
      "  NaturalNameWarning)\n"
     ]
    },
    {
     "name": "stdout",
     "output_type": "stream",
     "text": [
      "(sim,lamb_da,p_rew,w_minus,start,dose_quantity) =  (92, 0.01, 0.10000000000000002, 1.0, 1, 0.1)\n",
      "{52}\n",
      "sim_92_p_rew_0.1_start_1_dq_0.1\n"
     ]
    },
    {
     "name": "stderr",
     "output_type": "stream",
     "text": [
      "/home/aiyappa/anaconda3/lib/python3.7/site-packages/tables/path.py:112: NaturalNameWarning: object name is not a valid Python identifier: 'sim_92_p_rew_0.1_start_1_dq_0.1'; it does not match the pattern ``^[a-zA-Z_][a-zA-Z0-9_]*$``; you will not be able to use natural naming to access this object; using ``getattr()`` will still work, though\n",
      "  NaturalNameWarning)\n"
     ]
    },
    {
     "name": "stdout",
     "output_type": "stream",
     "text": [
      "(sim,lamb_da,p_rew,w_minus,start,dose_quantity) =  (92, 0.01, 0.10000000000000002, 1.0, 1, 2)\n",
      "{6}\n",
      "sim_92_p_rew_0.1_start_1_dq_2\n"
     ]
    },
    {
     "name": "stderr",
     "output_type": "stream",
     "text": [
      "/home/aiyappa/anaconda3/lib/python3.7/site-packages/tables/path.py:112: NaturalNameWarning: object name is not a valid Python identifier: 'sim_92_p_rew_0.1_start_1_dq_2'; it does not match the pattern ``^[a-zA-Z_][a-zA-Z0-9_]*$``; you will not be able to use natural naming to access this object; using ``getattr()`` will still work, though\n",
      "  NaturalNameWarning)\n"
     ]
    },
    {
     "name": "stdout",
     "output_type": "stream",
     "text": [
      "(sim,lamb_da,p_rew,w_minus,start,dose_quantity) =  (92, 0.01, 0.10000000000000002, 1.0, 10, 0.1)\n",
      "{33, 66, 4, 37, 10, 84, 53, 26, 31, 63}\n",
      "sim_92_p_rew_0.1_start_10_dq_0.1\n"
     ]
    },
    {
     "name": "stderr",
     "output_type": "stream",
     "text": [
      "/home/aiyappa/anaconda3/lib/python3.7/site-packages/tables/path.py:112: NaturalNameWarning: object name is not a valid Python identifier: 'sim_92_p_rew_0.1_start_10_dq_0.1'; it does not match the pattern ``^[a-zA-Z_][a-zA-Z0-9_]*$``; you will not be able to use natural naming to access this object; using ``getattr()`` will still work, though\n",
      "  NaturalNameWarning)\n"
     ]
    },
    {
     "name": "stdout",
     "output_type": "stream",
     "text": [
      "(sim,lamb_da,p_rew,w_minus,start,dose_quantity) =  (92, 0.01, 0.10000000000000002, 1.0, 10, 2)\n",
      "{64, 65, 2, 68, 5, 37, 7, 73, 42, 28}\n",
      "sim_92_p_rew_0.1_start_10_dq_2\n"
     ]
    },
    {
     "name": "stderr",
     "output_type": "stream",
     "text": [
      "/home/aiyappa/anaconda3/lib/python3.7/site-packages/tables/path.py:112: NaturalNameWarning: object name is not a valid Python identifier: 'sim_92_p_rew_0.1_start_10_dq_2'; it does not match the pattern ``^[a-zA-Z_][a-zA-Z0-9_]*$``; you will not be able to use natural naming to access this object; using ``getattr()`` will still work, though\n",
      "  NaturalNameWarning)\n"
     ]
    },
    {
     "name": "stdout",
     "output_type": "stream",
     "text": [
      "(sim,lamb_da,p_rew,w_minus,start,dose_quantity) =  (92, 0.10000000000000002, 1.0, 1.0, 1, 0.1)\n",
      "{76}\n",
      "sim_92_p_rew_1_start_1_dq_0.1\n"
     ]
    },
    {
     "name": "stderr",
     "output_type": "stream",
     "text": [
      "/home/aiyappa/anaconda3/lib/python3.7/site-packages/tables/path.py:112: NaturalNameWarning: object name is not a valid Python identifier: 'sim_92_p_rew_1_start_1_dq_0.1'; it does not match the pattern ``^[a-zA-Z_][a-zA-Z0-9_]*$``; you will not be able to use natural naming to access this object; using ``getattr()`` will still work, though\n",
      "  NaturalNameWarning)\n"
     ]
    },
    {
     "name": "stdout",
     "output_type": "stream",
     "text": [
      "(sim,lamb_da,p_rew,w_minus,start,dose_quantity) =  (92, 0.10000000000000002, 1.0, 1.0, 1, 2)\n",
      "{82}\n",
      "sim_92_p_rew_1_start_1_dq_2\n",
      "(sim,lamb_da,p_rew,w_minus,start,dose_quantity) =  (92, 0.10000000000000002, 1.0, 1.0, 10, 0.1)\n",
      "Initial node infection step failed\n",
      "None\n",
      "Initial node infection step failed\n",
      "None\n",
      "{96, 65, 34, 36, 79, 17, 21, 86, 25, 94}\n",
      "sim_92_p_rew_1_start_10_dq_0.1\n"
     ]
    },
    {
     "name": "stderr",
     "output_type": "stream",
     "text": [
      "/home/aiyappa/anaconda3/lib/python3.7/site-packages/tables/path.py:112: NaturalNameWarning: object name is not a valid Python identifier: 'sim_92_p_rew_1_start_10_dq_0.1'; it does not match the pattern ``^[a-zA-Z_][a-zA-Z0-9_]*$``; you will not be able to use natural naming to access this object; using ``getattr()`` will still work, though\n",
      "  NaturalNameWarning)\n"
     ]
    },
    {
     "name": "stdout",
     "output_type": "stream",
     "text": [
      "(sim,lamb_da,p_rew,w_minus,start,dose_quantity) =  (92, 0.10000000000000002, 1.0, 1.0, 10, 2)\n",
      "{40, 44, 13, 15, 49, 56, 25, 26, 24, 63}\n",
      "sim_92_p_rew_1_start_10_dq_2\n",
      "(sim,lamb_da,p_rew,w_minus,start,dose_quantity) =  (92, 1.0, 10.0, 1.0, 1, 0.1)\n",
      "{20}\n",
      "sim_92_p_rew_10_start_1_dq_0.1\n"
     ]
    },
    {
     "name": "stderr",
     "output_type": "stream",
     "text": [
      "/home/aiyappa/anaconda3/lib/python3.7/site-packages/tables/path.py:112: NaturalNameWarning: object name is not a valid Python identifier: 'sim_92_p_rew_10_start_1_dq_0.1'; it does not match the pattern ``^[a-zA-Z_][a-zA-Z0-9_]*$``; you will not be able to use natural naming to access this object; using ``getattr()`` will still work, though\n",
      "  NaturalNameWarning)\n"
     ]
    },
    {
     "name": "stdout",
     "output_type": "stream",
     "text": [
      "(sim,lamb_da,p_rew,w_minus,start,dose_quantity) =  (92, 1.0, 10.0, 1.0, 1, 2)\n",
      "{91}\n",
      "sim_92_p_rew_10_start_1_dq_2\n",
      "(sim,lamb_da,p_rew,w_minus,start,dose_quantity) =  (92, 1.0, 10.0, 1.0, 10, 0.1)\n",
      "Initial node infection step failed\n",
      "None\n",
      "Initial node infection step failed\n",
      "None\n",
      "Initial node infection step failed\n",
      "None\n",
      "Initial node infection step failed\n",
      "None\n",
      "Initial node infection step failed\n",
      "None\n",
      "Initial node infection step failed\n",
      "None\n",
      "Initial node infection step failed\n",
      "None\n",
      "Initial node infection step failed\n",
      "None\n",
      "Initial node infection step failed\n",
      "None\n",
      "Initial node infection step failed\n",
      "None\n",
      "Initial node infection step failed\n",
      "None\n",
      "Initial node infection step failed\n",
      "None\n",
      "Initial node infection step failed\n",
      "None\n",
      "Initial node infection step failed\n",
      "None\n",
      "Initial node infection step failed\n",
      "None\n",
      "Initial node infection step failed\n",
      "None\n",
      "Initial node infection step failed\n",
      "None\n",
      "Initial node infection step failed\n",
      "None\n",
      "Initial node infection step failed\n",
      "None\n",
      "Initial node infection step failed\n",
      "None\n",
      "Initial node infection step failed\n",
      "None\n",
      "Initial node infection step failed\n",
      "None\n",
      "Initial node infection step failed\n",
      "None\n",
      "Initial node infection step failed\n",
      "None\n",
      "Initial node infection step failed\n",
      "None\n",
      "Initial node infection step failed\n",
      "None\n",
      "Initial node infection step failed\n",
      "None\n",
      "Initial node infection step failed\n",
      "None\n",
      "Initial node infection step failed\n",
      "None\n",
      "Initial node infection step failed\n",
      "None\n",
      "Initial node infection step failed\n",
      "None\n",
      "Initial node infection step failed\n",
      "None\n",
      "Initial node infection step failed\n",
      "None\n",
      "Initial node infection step failed\n",
      "None\n",
      "Initial node infection step failed\n",
      "None\n",
      "Initial node infection step failed\n",
      "None\n",
      "Initial node infection step failed\n",
      "None\n",
      "Initial node infection step failed\n",
      "None\n",
      "Initial node infection step failed\n",
      "None\n",
      "Initial node infection step failed\n",
      "None\n",
      "Initial node infection step failed\n",
      "None\n",
      "Initial node infection step failed\n",
      "None\n",
      "Initial node infection step failed\n",
      "None\n",
      "Initial node infection step failed\n",
      "None\n",
      "Initial node infection step failed\n",
      "None\n",
      "Initial node infection step failed\n",
      "None\n",
      "Initial node infection step failed\n",
      "None\n",
      "Initial node infection step failed\n",
      "None\n",
      "Initial node infection step failed\n",
      "None\n",
      "Initial node infection step failed\n",
      "None\n",
      "Initial node infection step failed\n",
      "None\n",
      "Initial node infection step failed\n",
      "None\n",
      "Initial node infection step failed\n",
      "None\n",
      "Initial node infection step failed\n",
      "None\n",
      "Initial node infection step failed\n",
      "None\n",
      "Initial node infection step failed\n",
      "None\n",
      "Initial node infection step failed\n",
      "None\n",
      "Initial node infection step failed\n",
      "None\n",
      "Initial node infection step failed\n",
      "None\n",
      "Initial node infection step failed\n",
      "None\n",
      "Initial node infection step failed\n",
      "None\n",
      "Initial node infection step failed\n",
      "None\n",
      "Initial node infection step failed\n",
      "None\n",
      "Initial node infection step failed\n",
      "None\n",
      "Initial node infection step failed\n",
      "None\n",
      "Initial node infection step failed\n",
      "None\n",
      "Initial node infection step failed\n",
      "None\n",
      "Initial node infection step failed\n",
      "None\n",
      "Initial node infection step failed\n",
      "None\n",
      "Initial node infection step failed\n",
      "None\n",
      "Initial node infection step failed\n",
      "None\n",
      "Initial node infection step failed\n",
      "None\n",
      "Initial node infection step failed\n",
      "None\n",
      "Initial node infection step failed\n",
      "None\n",
      "Initial node infection step failed\n",
      "None\n",
      "Initial node infection step failed\n",
      "None\n",
      "Initial node infection step failed\n",
      "None\n",
      "Initial node infection step failed\n",
      "None\n",
      "Initial node infection step failed\n",
      "None\n",
      "Initial node infection step failed\n",
      "None\n",
      "Initial node infection step failed\n",
      "None\n",
      "Initial node infection step failed\n",
      "None\n",
      "Initial node infection step failed\n",
      "None\n",
      "Initial node infection step failed\n",
      "None\n",
      "Initial node infection step failed\n",
      "None\n",
      "Initial node infection step failed\n",
      "None\n",
      "Initial node infection step failed\n",
      "None\n",
      "Initial node infection step failed\n",
      "None\n",
      "Initial node infection step failed\n",
      "None\n",
      "Initial node infection step failed\n",
      "None\n",
      "Initial node infection step failed\n",
      "None\n",
      "Initial node infection step failed\n",
      "None\n",
      "Initial node infection step failed\n",
      "None\n",
      "Initial node infection step failed\n",
      "None\n",
      "Initial node infection step failed\n",
      "None\n",
      "Initial node infection step failed\n",
      "None\n",
      "Initial node infection step failed\n",
      "None\n",
      "Initial node infection step failed\n",
      "None\n",
      "Initial node infection step failed\n",
      "None\n",
      "Initial node infection step failed\n",
      "None\n",
      "Initial node infection step failed\n",
      "None\n",
      "Initial node infection step failed\n",
      "None\n",
      "Initial node infection step failed\n",
      "None\n",
      "Initial node infection step failed\n",
      "None\n",
      "Initial node infection step failed\n",
      "None\n",
      "Initial node infection step failed\n",
      "None\n",
      "Initial node infection step failed\n",
      "None\n",
      "Initial node infection step failed\n",
      "None\n",
      "Initial node infection step failed\n",
      "None\n",
      "Initial node infection step failed\n",
      "None\n",
      "Initial node infection step failed\n",
      "None\n",
      "Initial node infection step failed\n",
      "None\n",
      "Initial node infection step failed\n",
      "None\n",
      "Initial node infection step failed\n",
      "None\n",
      "Initial node infection step failed\n",
      "None\n",
      "Initial node infection step failed\n",
      "None\n",
      "Initial node infection step failed\n",
      "None\n",
      "Initial node infection step failed\n",
      "None\n",
      "Initial node infection step failed\n",
      "None\n",
      "Initial node infection step failed\n",
      "None\n",
      "Initial node infection step failed\n",
      "None\n",
      "Initial node infection step failed\n",
      "None\n",
      "Initial node infection step failed\n",
      "None\n",
      "Initial node infection step failed\n",
      "None\n",
      "Initial node infection step failed\n",
      "None\n",
      "Initial node infection step failed\n",
      "None\n",
      "Initial node infection step failed\n",
      "None\n",
      "Initial node infection step failed\n",
      "None\n",
      "Initial node infection step failed\n",
      "None\n",
      "Initial node infection step failed\n",
      "None\n",
      "Initial node infection step failed\n",
      "None\n",
      "Initial node infection step failed\n",
      "None\n",
      "Initial node infection step failed\n",
      "None\n",
      "Initial node infection step failed\n",
      "None\n",
      "Initial node infection step failed\n",
      "None\n",
      "Initial node infection step failed\n",
      "None\n",
      "Initial node infection step failed\n",
      "None\n",
      "Initial node infection step failed\n",
      "None\n",
      "Initial node infection step failed\n",
      "None\n",
      "Initial node infection step failed\n",
      "None\n",
      "Initial node infection step failed\n",
      "None\n",
      "Initial node infection step failed\n",
      "None\n",
      "Initial node infection step failed\n",
      "None\n",
      "Initial node infection step failed\n",
      "None\n",
      "Initial node infection step failed\n",
      "None\n",
      "Initial node infection step failed\n",
      "None\n",
      "Initial node infection step failed\n",
      "None\n",
      "Initial node infection step failed\n",
      "None\n",
      "Initial node infection step failed\n",
      "None\n",
      "Initial node infection step failed\n",
      "None\n",
      "Initial node infection step failed\n",
      "None\n",
      "Initial node infection step failed\n",
      "None\n",
      "Initial node infection step failed\n",
      "None\n",
      "Initial node infection step failed\n",
      "None\n",
      "Initial node infection step failed\n",
      "None\n",
      "Initial node infection step failed\n",
      "None\n",
      "Initial node infection step failed\n",
      "None\n",
      "Initial node infection step failed\n",
      "None\n",
      "Initial node infection step failed\n",
      "None\n",
      "Initial node infection step failed\n",
      "None\n",
      "Initial node infection step failed\n",
      "None\n",
      "Initial node infection step failed\n",
      "None\n",
      "Initial node infection step failed\n",
      "None\n",
      "Initial node infection step failed\n",
      "None\n",
      "Initial node infection step failed\n",
      "None\n",
      "Initial node infection step failed\n",
      "None\n",
      "Initial node infection step failed\n",
      "None\n",
      "Initial node infection step failed\n",
      "None\n",
      "Initial node infection step failed\n",
      "None\n",
      "Initial node infection step failed\n",
      "None\n",
      "Initial node infection step failed\n",
      "None\n",
      "Initial node infection step failed\n",
      "None\n",
      "Initial node infection step failed\n",
      "None\n",
      "Initial node infection step failed\n",
      "None\n",
      "Initial node infection step failed\n",
      "None\n",
      "Initial node infection step failed\n",
      "None\n",
      "Initial node infection step failed\n",
      "None\n",
      "Initial node infection step failed\n",
      "None\n",
      "Initial node infection step failed\n",
      "None\n",
      "Initial node infection step failed\n",
      "None\n",
      "Initial node infection step failed\n",
      "None\n",
      "Initial node infection step failed\n",
      "None\n",
      "Initial node infection step failed\n",
      "None\n",
      "Initial node infection step failed\n",
      "None\n",
      "Initial node infection step failed\n",
      "None\n",
      "Initial node infection step failed\n",
      "None\n",
      "Initial node infection step failed\n",
      "None\n",
      "Initial node infection step failed\n",
      "None\n",
      "{98, 67, 39, 74, 30, 87, 25, 27, 92, 94}\n",
      "sim_92_p_rew_10_start_10_dq_0.1\n"
     ]
    },
    {
     "name": "stderr",
     "output_type": "stream",
     "text": [
      "/home/aiyappa/anaconda3/lib/python3.7/site-packages/tables/path.py:112: NaturalNameWarning: object name is not a valid Python identifier: 'sim_92_p_rew_10_start_10_dq_0.1'; it does not match the pattern ``^[a-zA-Z_][a-zA-Z0-9_]*$``; you will not be able to use natural naming to access this object; using ``getattr()`` will still work, though\n",
      "  NaturalNameWarning)\n"
     ]
    },
    {
     "name": "stdout",
     "output_type": "stream",
     "text": [
      "(sim,lamb_da,p_rew,w_minus,start,dose_quantity) =  (92, 1.0, 10.0, 1.0, 10, 2)\n",
      "{4, 5, 70, 58, 41, 52, 24, 89, 26, 63}\n",
      "sim_92_p_rew_10_start_10_dq_2\n",
      "(sim,lamb_da,p_rew,w_minus,start,dose_quantity) =  (93, 0.001, 0.01, 1.0, 1, 0.1)\n",
      "{26}\n",
      "sim_93_p_rew_0.01_start_1_dq_0.1\n"
     ]
    },
    {
     "name": "stderr",
     "output_type": "stream",
     "text": [
      "/home/aiyappa/anaconda3/lib/python3.7/site-packages/tables/path.py:112: NaturalNameWarning: object name is not a valid Python identifier: 'sim_93_p_rew_0.01_start_1_dq_0.1'; it does not match the pattern ``^[a-zA-Z_][a-zA-Z0-9_]*$``; you will not be able to use natural naming to access this object; using ``getattr()`` will still work, though\n",
      "  NaturalNameWarning)\n"
     ]
    },
    {
     "name": "stdout",
     "output_type": "stream",
     "text": [
      "(sim,lamb_da,p_rew,w_minus,start,dose_quantity) =  (93, 0.001, 0.01, 1.0, 1, 2)\n",
      "{27}\n",
      "sim_93_p_rew_0.01_start_1_dq_2\n"
     ]
    },
    {
     "name": "stderr",
     "output_type": "stream",
     "text": [
      "/home/aiyappa/anaconda3/lib/python3.7/site-packages/tables/path.py:112: NaturalNameWarning: object name is not a valid Python identifier: 'sim_93_p_rew_0.01_start_1_dq_2'; it does not match the pattern ``^[a-zA-Z_][a-zA-Z0-9_]*$``; you will not be able to use natural naming to access this object; using ``getattr()`` will still work, though\n",
      "  NaturalNameWarning)\n"
     ]
    },
    {
     "name": "stdout",
     "output_type": "stream",
     "text": [
      "(sim,lamb_da,p_rew,w_minus,start,dose_quantity) =  (93, 0.001, 0.01, 1.0, 10, 0.1)\n",
      "Initial node infection step failed\n",
      "None\n",
      "Initial node infection step failed\n",
      "None\n",
      "Initial node infection step failed\n",
      "None\n",
      "{0, 1, 73, 12, 13, 47, 16, 50, 83, 86}\n",
      "sim_93_p_rew_0.01_start_10_dq_0.1\n"
     ]
    },
    {
     "name": "stderr",
     "output_type": "stream",
     "text": [
      "/home/aiyappa/anaconda3/lib/python3.7/site-packages/tables/path.py:112: NaturalNameWarning: object name is not a valid Python identifier: 'sim_93_p_rew_0.01_start_10_dq_0.1'; it does not match the pattern ``^[a-zA-Z_][a-zA-Z0-9_]*$``; you will not be able to use natural naming to access this object; using ``getattr()`` will still work, though\n",
      "  NaturalNameWarning)\n"
     ]
    },
    {
     "name": "stdout",
     "output_type": "stream",
     "text": [
      "(sim,lamb_da,p_rew,w_minus,start,dose_quantity) =  (93, 0.001, 0.01, 1.0, 10, 2)\n",
      "{96, 65, 38, 40, 41, 83, 85, 88, 94, 63}\n",
      "sim_93_p_rew_0.01_start_10_dq_2\n"
     ]
    },
    {
     "name": "stderr",
     "output_type": "stream",
     "text": [
      "/home/aiyappa/anaconda3/lib/python3.7/site-packages/tables/path.py:112: NaturalNameWarning: object name is not a valid Python identifier: 'sim_93_p_rew_0.01_start_10_dq_2'; it does not match the pattern ``^[a-zA-Z_][a-zA-Z0-9_]*$``; you will not be able to use natural naming to access this object; using ``getattr()`` will still work, though\n",
      "  NaturalNameWarning)\n"
     ]
    },
    {
     "name": "stdout",
     "output_type": "stream",
     "text": [
      "(sim,lamb_da,p_rew,w_minus,start,dose_quantity) =  (93, 0.01, 0.10000000000000002, 1.0, 1, 0.1)\n",
      "{88}\n",
      "sim_93_p_rew_0.1_start_1_dq_0.1\n"
     ]
    },
    {
     "name": "stderr",
     "output_type": "stream",
     "text": [
      "/home/aiyappa/anaconda3/lib/python3.7/site-packages/tables/path.py:112: NaturalNameWarning: object name is not a valid Python identifier: 'sim_93_p_rew_0.1_start_1_dq_0.1'; it does not match the pattern ``^[a-zA-Z_][a-zA-Z0-9_]*$``; you will not be able to use natural naming to access this object; using ``getattr()`` will still work, though\n",
      "  NaturalNameWarning)\n"
     ]
    },
    {
     "name": "stdout",
     "output_type": "stream",
     "text": [
      "(sim,lamb_da,p_rew,w_minus,start,dose_quantity) =  (93, 0.01, 0.10000000000000002, 1.0, 1, 2)\n",
      "{45}\n",
      "sim_93_p_rew_0.1_start_1_dq_2\n"
     ]
    },
    {
     "name": "stderr",
     "output_type": "stream",
     "text": [
      "/home/aiyappa/anaconda3/lib/python3.7/site-packages/tables/path.py:112: NaturalNameWarning: object name is not a valid Python identifier: 'sim_93_p_rew_0.1_start_1_dq_2'; it does not match the pattern ``^[a-zA-Z_][a-zA-Z0-9_]*$``; you will not be able to use natural naming to access this object; using ``getattr()`` will still work, though\n",
      "  NaturalNameWarning)\n"
     ]
    },
    {
     "name": "stdout",
     "output_type": "stream",
     "text": [
      "(sim,lamb_da,p_rew,w_minus,start,dose_quantity) =  (93, 0.01, 0.10000000000000002, 1.0, 10, 0.1)\n",
      "{64, 0, 1, 3, 38, 79, 20, 52, 86, 88}\n",
      "sim_93_p_rew_0.1_start_10_dq_0.1\n"
     ]
    },
    {
     "name": "stderr",
     "output_type": "stream",
     "text": [
      "/home/aiyappa/anaconda3/lib/python3.7/site-packages/tables/path.py:112: NaturalNameWarning: object name is not a valid Python identifier: 'sim_93_p_rew_0.1_start_10_dq_0.1'; it does not match the pattern ``^[a-zA-Z_][a-zA-Z0-9_]*$``; you will not be able to use natural naming to access this object; using ``getattr()`` will still work, though\n",
      "  NaturalNameWarning)\n"
     ]
    },
    {
     "name": "stdout",
     "output_type": "stream",
     "text": [
      "(sim,lamb_da,p_rew,w_minus,start,dose_quantity) =  (93, 0.01, 0.10000000000000002, 1.0, 10, 2)\n",
      "{97, 58, 10, 74, 83, 21, 24, 26, 91, 94}\n",
      "sim_93_p_rew_0.1_start_10_dq_2\n"
     ]
    },
    {
     "name": "stderr",
     "output_type": "stream",
     "text": [
      "/home/aiyappa/anaconda3/lib/python3.7/site-packages/tables/path.py:112: NaturalNameWarning: object name is not a valid Python identifier: 'sim_93_p_rew_0.1_start_10_dq_2'; it does not match the pattern ``^[a-zA-Z_][a-zA-Z0-9_]*$``; you will not be able to use natural naming to access this object; using ``getattr()`` will still work, though\n",
      "  NaturalNameWarning)\n"
     ]
    },
    {
     "name": "stdout",
     "output_type": "stream",
     "text": [
      "(sim,lamb_da,p_rew,w_minus,start,dose_quantity) =  (93, 0.10000000000000002, 1.0, 1.0, 1, 0.1)\n",
      "{58}\n",
      "sim_93_p_rew_1_start_1_dq_0.1\n"
     ]
    },
    {
     "name": "stderr",
     "output_type": "stream",
     "text": [
      "/home/aiyappa/anaconda3/lib/python3.7/site-packages/tables/path.py:112: NaturalNameWarning: object name is not a valid Python identifier: 'sim_93_p_rew_1_start_1_dq_0.1'; it does not match the pattern ``^[a-zA-Z_][a-zA-Z0-9_]*$``; you will not be able to use natural naming to access this object; using ``getattr()`` will still work, though\n",
      "  NaturalNameWarning)\n"
     ]
    },
    {
     "name": "stdout",
     "output_type": "stream",
     "text": [
      "(sim,lamb_da,p_rew,w_minus,start,dose_quantity) =  (93, 0.10000000000000002, 1.0, 1.0, 1, 2)\n",
      "{51}\n",
      "sim_93_p_rew_1_start_1_dq_2\n",
      "(sim,lamb_da,p_rew,w_minus,start,dose_quantity) =  (93, 0.10000000000000002, 1.0, 1.0, 10, 0.1)\n",
      "Initial node infection step failed\n",
      "None\n",
      "{33, 38, 8, 15, 85, 22, 55, 88, 57, 59}\n",
      "sim_93_p_rew_1_start_10_dq_0.1\n"
     ]
    },
    {
     "name": "stderr",
     "output_type": "stream",
     "text": [
      "/home/aiyappa/anaconda3/lib/python3.7/site-packages/tables/path.py:112: NaturalNameWarning: object name is not a valid Python identifier: 'sim_93_p_rew_1_start_10_dq_0.1'; it does not match the pattern ``^[a-zA-Z_][a-zA-Z0-9_]*$``; you will not be able to use natural naming to access this object; using ``getattr()`` will still work, though\n",
      "  NaturalNameWarning)\n"
     ]
    },
    {
     "name": "stdout",
     "output_type": "stream",
     "text": [
      "(sim,lamb_da,p_rew,w_minus,start,dose_quantity) =  (93, 0.10000000000000002, 1.0, 1.0, 10, 2)\n",
      "{66, 3, 36, 8, 78, 15, 55, 57, 58, 94}\n",
      "sim_93_p_rew_1_start_10_dq_2\n",
      "(sim,lamb_da,p_rew,w_minus,start,dose_quantity) =  (93, 1.0, 10.0, 1.0, 1, 0.1)\n",
      "{31}\n",
      "sim_93_p_rew_10_start_1_dq_0.1\n"
     ]
    },
    {
     "name": "stderr",
     "output_type": "stream",
     "text": [
      "/home/aiyappa/anaconda3/lib/python3.7/site-packages/tables/path.py:112: NaturalNameWarning: object name is not a valid Python identifier: 'sim_93_p_rew_10_start_1_dq_0.1'; it does not match the pattern ``^[a-zA-Z_][a-zA-Z0-9_]*$``; you will not be able to use natural naming to access this object; using ``getattr()`` will still work, though\n",
      "  NaturalNameWarning)\n"
     ]
    },
    {
     "name": "stdout",
     "output_type": "stream",
     "text": [
      "(sim,lamb_da,p_rew,w_minus,start,dose_quantity) =  (93, 1.0, 10.0, 1.0, 1, 2)\n",
      "{69}\n",
      "sim_93_p_rew_10_start_1_dq_2\n",
      "(sim,lamb_da,p_rew,w_minus,start,dose_quantity) =  (93, 1.0, 10.0, 1.0, 10, 0.1)\n",
      "Initial node infection step failed\n",
      "None\n",
      "{66, 99, 72, 75, 47, 80, 83, 55, 60, 61}\n",
      "sim_93_p_rew_10_start_10_dq_0.1\n"
     ]
    },
    {
     "name": "stderr",
     "output_type": "stream",
     "text": [
      "/home/aiyappa/anaconda3/lib/python3.7/site-packages/tables/path.py:112: NaturalNameWarning: object name is not a valid Python identifier: 'sim_93_p_rew_10_start_10_dq_0.1'; it does not match the pattern ``^[a-zA-Z_][a-zA-Z0-9_]*$``; you will not be able to use natural naming to access this object; using ``getattr()`` will still work, though\n",
      "  NaturalNameWarning)\n"
     ]
    },
    {
     "name": "stdout",
     "output_type": "stream",
     "text": [
      "(sim,lamb_da,p_rew,w_minus,start,dose_quantity) =  (93, 1.0, 10.0, 1.0, 10, 2)\n",
      "{64, 33, 35, 67, 7, 74, 44, 45, 21, 25}\n",
      "sim_93_p_rew_10_start_10_dq_2\n",
      "(sim,lamb_da,p_rew,w_minus,start,dose_quantity) =  (94, 0.001, 0.01, 1.0, 1, 0.1)\n",
      "{26}\n",
      "sim_94_p_rew_0.01_start_1_dq_0.1\n"
     ]
    },
    {
     "name": "stderr",
     "output_type": "stream",
     "text": [
      "/home/aiyappa/anaconda3/lib/python3.7/site-packages/tables/path.py:112: NaturalNameWarning: object name is not a valid Python identifier: 'sim_94_p_rew_0.01_start_1_dq_0.1'; it does not match the pattern ``^[a-zA-Z_][a-zA-Z0-9_]*$``; you will not be able to use natural naming to access this object; using ``getattr()`` will still work, though\n",
      "  NaturalNameWarning)\n"
     ]
    },
    {
     "name": "stdout",
     "output_type": "stream",
     "text": [
      "(sim,lamb_da,p_rew,w_minus,start,dose_quantity) =  (94, 0.001, 0.01, 1.0, 1, 2)\n",
      "{85}\n",
      "sim_94_p_rew_0.01_start_1_dq_2\n"
     ]
    },
    {
     "name": "stderr",
     "output_type": "stream",
     "text": [
      "/home/aiyappa/anaconda3/lib/python3.7/site-packages/tables/path.py:112: NaturalNameWarning: object name is not a valid Python identifier: 'sim_94_p_rew_0.01_start_1_dq_2'; it does not match the pattern ``^[a-zA-Z_][a-zA-Z0-9_]*$``; you will not be able to use natural naming to access this object; using ``getattr()`` will still work, though\n",
      "  NaturalNameWarning)\n"
     ]
    },
    {
     "name": "stdout",
     "output_type": "stream",
     "text": [
      "(sim,lamb_da,p_rew,w_minus,start,dose_quantity) =  (94, 0.001, 0.01, 1.0, 10, 0.1)\n",
      "{32, 97, 3, 72, 9, 14, 79, 80, 20, 54}\n",
      "sim_94_p_rew_0.01_start_10_dq_0.1\n"
     ]
    },
    {
     "name": "stderr",
     "output_type": "stream",
     "text": [
      "/home/aiyappa/anaconda3/lib/python3.7/site-packages/tables/path.py:112: NaturalNameWarning: object name is not a valid Python identifier: 'sim_94_p_rew_0.01_start_10_dq_0.1'; it does not match the pattern ``^[a-zA-Z_][a-zA-Z0-9_]*$``; you will not be able to use natural naming to access this object; using ``getattr()`` will still work, though\n",
      "  NaturalNameWarning)\n"
     ]
    },
    {
     "name": "stdout",
     "output_type": "stream",
     "text": [
      "(sim,lamb_da,p_rew,w_minus,start,dose_quantity) =  (94, 0.001, 0.01, 1.0, 10, 2)\n",
      "{99, 5, 7, 43, 47, 87, 24, 90, 29, 31}\n",
      "sim_94_p_rew_0.01_start_10_dq_2\n"
     ]
    },
    {
     "name": "stderr",
     "output_type": "stream",
     "text": [
      "/home/aiyappa/anaconda3/lib/python3.7/site-packages/tables/path.py:112: NaturalNameWarning: object name is not a valid Python identifier: 'sim_94_p_rew_0.01_start_10_dq_2'; it does not match the pattern ``^[a-zA-Z_][a-zA-Z0-9_]*$``; you will not be able to use natural naming to access this object; using ``getattr()`` will still work, though\n",
      "  NaturalNameWarning)\n"
     ]
    },
    {
     "name": "stdout",
     "output_type": "stream",
     "text": [
      "(sim,lamb_da,p_rew,w_minus,start,dose_quantity) =  (94, 0.01, 0.10000000000000002, 1.0, 1, 0.1)\n",
      "{12}\n",
      "sim_94_p_rew_0.1_start_1_dq_0.1\n"
     ]
    },
    {
     "name": "stderr",
     "output_type": "stream",
     "text": [
      "/home/aiyappa/anaconda3/lib/python3.7/site-packages/tables/path.py:112: NaturalNameWarning: object name is not a valid Python identifier: 'sim_94_p_rew_0.1_start_1_dq_0.1'; it does not match the pattern ``^[a-zA-Z_][a-zA-Z0-9_]*$``; you will not be able to use natural naming to access this object; using ``getattr()`` will still work, though\n",
      "  NaturalNameWarning)\n"
     ]
    },
    {
     "name": "stdout",
     "output_type": "stream",
     "text": [
      "(sim,lamb_da,p_rew,w_minus,start,dose_quantity) =  (94, 0.01, 0.10000000000000002, 1.0, 1, 2)\n",
      "{60}\n",
      "sim_94_p_rew_0.1_start_1_dq_2\n"
     ]
    },
    {
     "name": "stderr",
     "output_type": "stream",
     "text": [
      "/home/aiyappa/anaconda3/lib/python3.7/site-packages/tables/path.py:112: NaturalNameWarning: object name is not a valid Python identifier: 'sim_94_p_rew_0.1_start_1_dq_2'; it does not match the pattern ``^[a-zA-Z_][a-zA-Z0-9_]*$``; you will not be able to use natural naming to access this object; using ``getattr()`` will still work, though\n",
      "  NaturalNameWarning)\n"
     ]
    },
    {
     "name": "stdout",
     "output_type": "stream",
     "text": [
      "(sim,lamb_da,p_rew,w_minus,start,dose_quantity) =  (94, 0.01, 0.10000000000000002, 1.0, 10, 0.1)\n",
      "{96, 98, 14, 15, 52, 85, 55, 27, 63, 31}\n",
      "sim_94_p_rew_0.1_start_10_dq_0.1\n"
     ]
    },
    {
     "name": "stderr",
     "output_type": "stream",
     "text": [
      "/home/aiyappa/anaconda3/lib/python3.7/site-packages/tables/path.py:112: NaturalNameWarning: object name is not a valid Python identifier: 'sim_94_p_rew_0.1_start_10_dq_0.1'; it does not match the pattern ``^[a-zA-Z_][a-zA-Z0-9_]*$``; you will not be able to use natural naming to access this object; using ``getattr()`` will still work, though\n",
      "  NaturalNameWarning)\n"
     ]
    },
    {
     "name": "stdout",
     "output_type": "stream",
     "text": [
      "(sim,lamb_da,p_rew,w_minus,start,dose_quantity) =  (94, 0.01, 0.10000000000000002, 1.0, 10, 2)\n",
      "{32, 67, 99, 37, 6, 40, 17, 57, 58, 59}\n",
      "sim_94_p_rew_0.1_start_10_dq_2\n"
     ]
    },
    {
     "name": "stderr",
     "output_type": "stream",
     "text": [
      "/home/aiyappa/anaconda3/lib/python3.7/site-packages/tables/path.py:112: NaturalNameWarning: object name is not a valid Python identifier: 'sim_94_p_rew_0.1_start_10_dq_2'; it does not match the pattern ``^[a-zA-Z_][a-zA-Z0-9_]*$``; you will not be able to use natural naming to access this object; using ``getattr()`` will still work, though\n",
      "  NaturalNameWarning)\n"
     ]
    },
    {
     "name": "stdout",
     "output_type": "stream",
     "text": [
      "(sim,lamb_da,p_rew,w_minus,start,dose_quantity) =  (94, 0.10000000000000002, 1.0, 1.0, 1, 0.1)\n",
      "{48}\n",
      "sim_94_p_rew_1_start_1_dq_0.1\n"
     ]
    },
    {
     "name": "stderr",
     "output_type": "stream",
     "text": [
      "/home/aiyappa/anaconda3/lib/python3.7/site-packages/tables/path.py:112: NaturalNameWarning: object name is not a valid Python identifier: 'sim_94_p_rew_1_start_1_dq_0.1'; it does not match the pattern ``^[a-zA-Z_][a-zA-Z0-9_]*$``; you will not be able to use natural naming to access this object; using ``getattr()`` will still work, though\n",
      "  NaturalNameWarning)\n"
     ]
    },
    {
     "name": "stdout",
     "output_type": "stream",
     "text": [
      "(sim,lamb_da,p_rew,w_minus,start,dose_quantity) =  (94, 0.10000000000000002, 1.0, 1.0, 1, 2)\n",
      "{87}\n",
      "sim_94_p_rew_1_start_1_dq_2\n",
      "(sim,lamb_da,p_rew,w_minus,start,dose_quantity) =  (94, 0.10000000000000002, 1.0, 1.0, 10, 0.1)\n",
      "{34, 4, 5, 7, 47, 92, 50, 52, 87, 28}\n",
      "sim_94_p_rew_1_start_10_dq_0.1\n"
     ]
    },
    {
     "name": "stderr",
     "output_type": "stream",
     "text": [
      "/home/aiyappa/anaconda3/lib/python3.7/site-packages/tables/path.py:112: NaturalNameWarning: object name is not a valid Python identifier: 'sim_94_p_rew_1_start_10_dq_0.1'; it does not match the pattern ``^[a-zA-Z_][a-zA-Z0-9_]*$``; you will not be able to use natural naming to access this object; using ``getattr()`` will still work, though\n",
      "  NaturalNameWarning)\n"
     ]
    },
    {
     "name": "stdout",
     "output_type": "stream",
     "text": [
      "(sim,lamb_da,p_rew,w_minus,start,dose_quantity) =  (94, 0.10000000000000002, 1.0, 1.0, 10, 2)\n",
      "{2, 40, 79, 80, 53, 54, 21, 24, 92, 94}\n",
      "sim_94_p_rew_1_start_10_dq_2\n",
      "(sim,lamb_da,p_rew,w_minus,start,dose_quantity) =  (94, 1.0, 10.0, 1.0, 1, 0.1)\n",
      "{73}\n",
      "sim_94_p_rew_10_start_1_dq_0.1\n"
     ]
    },
    {
     "name": "stderr",
     "output_type": "stream",
     "text": [
      "/home/aiyappa/anaconda3/lib/python3.7/site-packages/tables/path.py:112: NaturalNameWarning: object name is not a valid Python identifier: 'sim_94_p_rew_10_start_1_dq_0.1'; it does not match the pattern ``^[a-zA-Z_][a-zA-Z0-9_]*$``; you will not be able to use natural naming to access this object; using ``getattr()`` will still work, though\n",
      "  NaturalNameWarning)\n"
     ]
    },
    {
     "name": "stdout",
     "output_type": "stream",
     "text": [
      "(sim,lamb_da,p_rew,w_minus,start,dose_quantity) =  (94, 1.0, 10.0, 1.0, 1, 2)\n",
      "{82}\n",
      "sim_94_p_rew_10_start_1_dq_2\n",
      "(sim,lamb_da,p_rew,w_minus,start,dose_quantity) =  (94, 1.0, 10.0, 1.0, 10, 0.1)\n",
      "Initial node infection step failed\n",
      "None\n",
      "Initial node infection step failed\n",
      "None\n",
      "Initial node infection step failed\n",
      "None\n",
      "Initial node infection step failed\n",
      "None\n",
      "Initial node infection step failed\n",
      "None\n",
      "Initial node infection step failed\n",
      "None\n",
      "Initial node infection step failed\n",
      "None\n",
      "Initial node infection step failed\n",
      "None\n",
      "Initial node infection step failed\n",
      "None\n",
      "Initial node infection step failed\n",
      "None\n",
      "Initial node infection step failed\n",
      "None\n",
      "Initial node infection step failed\n",
      "None\n",
      "Initial node infection step failed\n",
      "None\n",
      "Initial node infection step failed\n",
      "None\n",
      "Initial node infection step failed\n",
      "None\n",
      "Initial node infection step failed\n",
      "None\n",
      "Initial node infection step failed\n",
      "None\n",
      "Initial node infection step failed\n",
      "None\n",
      "Initial node infection step failed\n",
      "None\n",
      "Initial node infection step failed\n",
      "None\n",
      "Initial node infection step failed\n",
      "None\n",
      "Initial node infection step failed\n",
      "None\n",
      "Initial node infection step failed\n",
      "None\n",
      "Initial node infection step failed\n",
      "None\n",
      "Initial node infection step failed\n",
      "None\n",
      "Initial node infection step failed\n",
      "None\n",
      "Initial node infection step failed\n",
      "None\n",
      "Initial node infection step failed\n",
      "None\n",
      "Initial node infection step failed\n",
      "None\n",
      "Initial node infection step failed\n",
      "None\n",
      "Initial node infection step failed\n",
      "None\n",
      "Initial node infection step failed\n",
      "None\n",
      "Initial node infection step failed\n",
      "None\n",
      "Initial node infection step failed\n",
      "None\n",
      "Initial node infection step failed\n",
      "None\n",
      "Initial node infection step failed\n",
      "None\n",
      "Initial node infection step failed\n",
      "None\n",
      "Initial node infection step failed\n",
      "None\n",
      "Initial node infection step failed\n",
      "None\n",
      "Initial node infection step failed\n",
      "None\n",
      "Initial node infection step failed\n",
      "None\n",
      "Initial node infection step failed\n",
      "None\n",
      "Initial node infection step failed\n",
      "None\n",
      "Initial node infection step failed\n",
      "None\n",
      "Initial node infection step failed\n",
      "None\n",
      "Initial node infection step failed\n",
      "None\n",
      "Initial node infection step failed\n",
      "None\n",
      "Initial node infection step failed\n",
      "None\n",
      "Initial node infection step failed\n",
      "None\n",
      "Initial node infection step failed\n",
      "None\n",
      "Initial node infection step failed\n",
      "None\n",
      "Initial node infection step failed\n",
      "None\n",
      "Initial node infection step failed\n",
      "None\n",
      "Initial node infection step failed\n",
      "None\n",
      "Initial node infection step failed\n",
      "None\n",
      "Initial node infection step failed\n",
      "None\n",
      "Initial node infection step failed\n",
      "None\n",
      "Initial node infection step failed\n",
      "None\n",
      "Initial node infection step failed\n",
      "None\n",
      "Initial node infection step failed\n",
      "None\n",
      "Initial node infection step failed\n",
      "None\n",
      "Initial node infection step failed\n",
      "None\n",
      "Initial node infection step failed\n",
      "None\n",
      "Initial node infection step failed\n",
      "None\n",
      "Initial node infection step failed\n",
      "None\n",
      "Initial node infection step failed\n",
      "None\n",
      "Initial node infection step failed\n",
      "None\n",
      "Initial node infection step failed\n",
      "None\n",
      "Initial node infection step failed\n",
      "None\n",
      "Initial node infection step failed\n",
      "None\n",
      "Initial node infection step failed\n",
      "None\n",
      "Initial node infection step failed\n",
      "None\n",
      "Initial node infection step failed\n",
      "None\n",
      "Initial node infection step failed\n",
      "None\n",
      "Initial node infection step failed\n",
      "None\n",
      "{32, 2, 72, 44, 83, 87, 26, 27, 62, 31}\n",
      "sim_94_p_rew_10_start_10_dq_0.1\n"
     ]
    },
    {
     "name": "stderr",
     "output_type": "stream",
     "text": [
      "/home/aiyappa/anaconda3/lib/python3.7/site-packages/tables/path.py:112: NaturalNameWarning: object name is not a valid Python identifier: 'sim_94_p_rew_10_start_10_dq_0.1'; it does not match the pattern ``^[a-zA-Z_][a-zA-Z0-9_]*$``; you will not be able to use natural naming to access this object; using ``getattr()`` will still work, though\n",
      "  NaturalNameWarning)\n"
     ]
    },
    {
     "name": "stdout",
     "output_type": "stream",
     "text": [
      "(sim,lamb_da,p_rew,w_minus,start,dose_quantity) =  (94, 1.0, 10.0, 1.0, 10, 2)\n",
      "{96, 34, 58, 37, 74, 48, 22, 26, 28, 93}\n",
      "sim_94_p_rew_10_start_10_dq_2\n",
      "(sim,lamb_da,p_rew,w_minus,start,dose_quantity) =  (95, 0.001, 0.01, 1.0, 1, 0.1)\n",
      "{70}\n",
      "sim_95_p_rew_0.01_start_1_dq_0.1\n"
     ]
    },
    {
     "name": "stderr",
     "output_type": "stream",
     "text": [
      "/home/aiyappa/anaconda3/lib/python3.7/site-packages/tables/path.py:112: NaturalNameWarning: object name is not a valid Python identifier: 'sim_95_p_rew_0.01_start_1_dq_0.1'; it does not match the pattern ``^[a-zA-Z_][a-zA-Z0-9_]*$``; you will not be able to use natural naming to access this object; using ``getattr()`` will still work, though\n",
      "  NaturalNameWarning)\n"
     ]
    },
    {
     "name": "stdout",
     "output_type": "stream",
     "text": [
      "(sim,lamb_da,p_rew,w_minus,start,dose_quantity) =  (95, 0.001, 0.01, 1.0, 1, 2)\n",
      "{87}\n",
      "sim_95_p_rew_0.01_start_1_dq_2\n"
     ]
    },
    {
     "name": "stderr",
     "output_type": "stream",
     "text": [
      "/home/aiyappa/anaconda3/lib/python3.7/site-packages/tables/path.py:112: NaturalNameWarning: object name is not a valid Python identifier: 'sim_95_p_rew_0.01_start_1_dq_2'; it does not match the pattern ``^[a-zA-Z_][a-zA-Z0-9_]*$``; you will not be able to use natural naming to access this object; using ``getattr()`` will still work, though\n",
      "  NaturalNameWarning)\n"
     ]
    },
    {
     "name": "stdout",
     "output_type": "stream",
     "text": [
      "(sim,lamb_da,p_rew,w_minus,start,dose_quantity) =  (95, 0.001, 0.01, 1.0, 10, 0.1)\n",
      "Initial node infection step failed\n",
      "None\n",
      "{97, 4, 43, 50, 83, 85, 87, 55, 58, 31}\n",
      "sim_95_p_rew_0.01_start_10_dq_0.1\n"
     ]
    },
    {
     "name": "stderr",
     "output_type": "stream",
     "text": [
      "/home/aiyappa/anaconda3/lib/python3.7/site-packages/tables/path.py:112: NaturalNameWarning: object name is not a valid Python identifier: 'sim_95_p_rew_0.01_start_10_dq_0.1'; it does not match the pattern ``^[a-zA-Z_][a-zA-Z0-9_]*$``; you will not be able to use natural naming to access this object; using ``getattr()`` will still work, though\n",
      "  NaturalNameWarning)\n"
     ]
    },
    {
     "name": "stdout",
     "output_type": "stream",
     "text": [
      "(sim,lamb_da,p_rew,w_minus,start,dose_quantity) =  (95, 0.001, 0.01, 1.0, 10, 2)\n",
      "{64, 97, 40, 9, 42, 46, 15, 85, 25, 28}\n",
      "sim_95_p_rew_0.01_start_10_dq_2\n"
     ]
    },
    {
     "name": "stderr",
     "output_type": "stream",
     "text": [
      "/home/aiyappa/anaconda3/lib/python3.7/site-packages/tables/path.py:112: NaturalNameWarning: object name is not a valid Python identifier: 'sim_95_p_rew_0.01_start_10_dq_2'; it does not match the pattern ``^[a-zA-Z_][a-zA-Z0-9_]*$``; you will not be able to use natural naming to access this object; using ``getattr()`` will still work, though\n",
      "  NaturalNameWarning)\n"
     ]
    },
    {
     "name": "stdout",
     "output_type": "stream",
     "text": [
      "(sim,lamb_da,p_rew,w_minus,start,dose_quantity) =  (95, 0.01, 0.10000000000000002, 1.0, 1, 0.1)\n",
      "{49}\n",
      "sim_95_p_rew_0.1_start_1_dq_0.1\n"
     ]
    },
    {
     "name": "stderr",
     "output_type": "stream",
     "text": [
      "/home/aiyappa/anaconda3/lib/python3.7/site-packages/tables/path.py:112: NaturalNameWarning: object name is not a valid Python identifier: 'sim_95_p_rew_0.1_start_1_dq_0.1'; it does not match the pattern ``^[a-zA-Z_][a-zA-Z0-9_]*$``; you will not be able to use natural naming to access this object; using ``getattr()`` will still work, though\n",
      "  NaturalNameWarning)\n"
     ]
    },
    {
     "name": "stdout",
     "output_type": "stream",
     "text": [
      "(sim,lamb_da,p_rew,w_minus,start,dose_quantity) =  (95, 0.01, 0.10000000000000002, 1.0, 1, 2)\n",
      "{20}\n",
      "sim_95_p_rew_0.1_start_1_dq_2\n"
     ]
    },
    {
     "name": "stderr",
     "output_type": "stream",
     "text": [
      "/home/aiyappa/anaconda3/lib/python3.7/site-packages/tables/path.py:112: NaturalNameWarning: object name is not a valid Python identifier: 'sim_95_p_rew_0.1_start_1_dq_2'; it does not match the pattern ``^[a-zA-Z_][a-zA-Z0-9_]*$``; you will not be able to use natural naming to access this object; using ``getattr()`` will still work, though\n",
      "  NaturalNameWarning)\n"
     ]
    },
    {
     "name": "stdout",
     "output_type": "stream",
     "text": [
      "(sim,lamb_da,p_rew,w_minus,start,dose_quantity) =  (95, 0.01, 0.10000000000000002, 1.0, 10, 0.1)\n",
      "{1, 35, 40, 46, 55, 56, 90, 28, 30, 63}\n",
      "sim_95_p_rew_0.1_start_10_dq_0.1\n"
     ]
    },
    {
     "name": "stderr",
     "output_type": "stream",
     "text": [
      "/home/aiyappa/anaconda3/lib/python3.7/site-packages/tables/path.py:112: NaturalNameWarning: object name is not a valid Python identifier: 'sim_95_p_rew_0.1_start_10_dq_0.1'; it does not match the pattern ``^[a-zA-Z_][a-zA-Z0-9_]*$``; you will not be able to use natural naming to access this object; using ``getattr()`` will still work, though\n",
      "  NaturalNameWarning)\n"
     ]
    },
    {
     "name": "stdout",
     "output_type": "stream",
     "text": [
      "(sim,lamb_da,p_rew,w_minus,start,dose_quantity) =  (95, 0.01, 0.10000000000000002, 1.0, 10, 2)\n",
      "{1, 34, 4, 5, 74, 44, 50, 52, 24, 93}\n",
      "sim_95_p_rew_0.1_start_10_dq_2\n"
     ]
    },
    {
     "name": "stderr",
     "output_type": "stream",
     "text": [
      "/home/aiyappa/anaconda3/lib/python3.7/site-packages/tables/path.py:112: NaturalNameWarning: object name is not a valid Python identifier: 'sim_95_p_rew_0.1_start_10_dq_2'; it does not match the pattern ``^[a-zA-Z_][a-zA-Z0-9_]*$``; you will not be able to use natural naming to access this object; using ``getattr()`` will still work, though\n",
      "  NaturalNameWarning)\n"
     ]
    },
    {
     "name": "stdout",
     "output_type": "stream",
     "text": [
      "(sim,lamb_da,p_rew,w_minus,start,dose_quantity) =  (95, 0.10000000000000002, 1.0, 1.0, 1, 0.1)\n",
      "{49}\n",
      "sim_95_p_rew_1_start_1_dq_0.1\n"
     ]
    },
    {
     "name": "stderr",
     "output_type": "stream",
     "text": [
      "/home/aiyappa/anaconda3/lib/python3.7/site-packages/tables/path.py:112: NaturalNameWarning: object name is not a valid Python identifier: 'sim_95_p_rew_1_start_1_dq_0.1'; it does not match the pattern ``^[a-zA-Z_][a-zA-Z0-9_]*$``; you will not be able to use natural naming to access this object; using ``getattr()`` will still work, though\n",
      "  NaturalNameWarning)\n"
     ]
    },
    {
     "name": "stdout",
     "output_type": "stream",
     "text": [
      "(sim,lamb_da,p_rew,w_minus,start,dose_quantity) =  (95, 0.10000000000000002, 1.0, 1.0, 1, 2)\n",
      "{59}\n",
      "sim_95_p_rew_1_start_1_dq_2\n",
      "(sim,lamb_da,p_rew,w_minus,start,dose_quantity) =  (95, 0.10000000000000002, 1.0, 1.0, 10, 0.1)\n",
      "Initial node infection step failed\n",
      "None\n",
      "{96, 99, 69, 7, 8, 74, 79, 80, 24, 25}\n",
      "sim_95_p_rew_1_start_10_dq_0.1\n"
     ]
    },
    {
     "name": "stderr",
     "output_type": "stream",
     "text": [
      "/home/aiyappa/anaconda3/lib/python3.7/site-packages/tables/path.py:112: NaturalNameWarning: object name is not a valid Python identifier: 'sim_95_p_rew_1_start_10_dq_0.1'; it does not match the pattern ``^[a-zA-Z_][a-zA-Z0-9_]*$``; you will not be able to use natural naming to access this object; using ``getattr()`` will still work, though\n",
      "  NaturalNameWarning)\n"
     ]
    },
    {
     "name": "stdout",
     "output_type": "stream",
     "text": [
      "(sim,lamb_da,p_rew,w_minus,start,dose_quantity) =  (95, 0.10000000000000002, 1.0, 1.0, 10, 2)\n",
      "{96, 3, 40, 11, 78, 14, 80, 17, 83, 58}\n",
      "sim_95_p_rew_1_start_10_dq_2\n",
      "(sim,lamb_da,p_rew,w_minus,start,dose_quantity) =  (95, 1.0, 10.0, 1.0, 1, 0.1)\n",
      "{27}\n",
      "sim_95_p_rew_10_start_1_dq_0.1\n"
     ]
    },
    {
     "name": "stderr",
     "output_type": "stream",
     "text": [
      "/home/aiyappa/anaconda3/lib/python3.7/site-packages/tables/path.py:112: NaturalNameWarning: object name is not a valid Python identifier: 'sim_95_p_rew_10_start_1_dq_0.1'; it does not match the pattern ``^[a-zA-Z_][a-zA-Z0-9_]*$``; you will not be able to use natural naming to access this object; using ``getattr()`` will still work, though\n",
      "  NaturalNameWarning)\n"
     ]
    },
    {
     "name": "stdout",
     "output_type": "stream",
     "text": [
      "(sim,lamb_da,p_rew,w_minus,start,dose_quantity) =  (95, 1.0, 10.0, 1.0, 1, 2)\n",
      "{14}\n",
      "sim_95_p_rew_10_start_1_dq_2\n",
      "(sim,lamb_da,p_rew,w_minus,start,dose_quantity) =  (95, 1.0, 10.0, 1.0, 10, 0.1)\n",
      "Initial node infection step failed\n",
      "None\n",
      "Initial node infection step failed\n",
      "None\n",
      "Initial node infection step failed\n",
      "None\n",
      "Initial node infection step failed\n",
      "None\n",
      "Initial node infection step failed\n",
      "None\n",
      "Initial node infection step failed\n",
      "None\n",
      "Initial node infection step failed\n",
      "None\n",
      "Initial node infection step failed\n",
      "None\n",
      "Initial node infection step failed\n",
      "None\n",
      "Initial node infection step failed\n",
      "None\n",
      "Initial node infection step failed\n",
      "None\n",
      "Initial node infection step failed\n",
      "None\n",
      "Initial node infection step failed\n",
      "None\n",
      "Initial node infection step failed\n",
      "None\n",
      "Initial node infection step failed\n",
      "None\n",
      "Initial node infection step failed\n",
      "None\n",
      "Initial node infection step failed\n",
      "None\n",
      "Initial node infection step failed\n",
      "None\n",
      "Initial node infection step failed\n",
      "None\n",
      "Initial node infection step failed\n",
      "None\n",
      "Initial node infection step failed\n",
      "None\n",
      "Initial node infection step failed\n",
      "None\n",
      "Initial node infection step failed\n",
      "None\n",
      "Initial node infection step failed\n",
      "None\n",
      "Initial node infection step failed\n",
      "None\n",
      "Initial node infection step failed\n",
      "None\n",
      "Initial node infection step failed\n",
      "None\n",
      "Initial node infection step failed\n",
      "None\n",
      "Initial node infection step failed\n",
      "None\n",
      "Initial node infection step failed\n",
      "None\n",
      "Initial node infection step failed\n",
      "None\n",
      "Initial node infection step failed\n",
      "None\n",
      "Initial node infection step failed\n",
      "None\n",
      "Initial node infection step failed\n",
      "None\n",
      "{2, 66, 5, 8, 76, 16, 88, 94, 30, 63}\n",
      "sim_95_p_rew_10_start_10_dq_0.1\n"
     ]
    },
    {
     "name": "stderr",
     "output_type": "stream",
     "text": [
      "/home/aiyappa/anaconda3/lib/python3.7/site-packages/tables/path.py:112: NaturalNameWarning: object name is not a valid Python identifier: 'sim_95_p_rew_10_start_10_dq_0.1'; it does not match the pattern ``^[a-zA-Z_][a-zA-Z0-9_]*$``; you will not be able to use natural naming to access this object; using ``getattr()`` will still work, though\n",
      "  NaturalNameWarning)\n"
     ]
    },
    {
     "name": "stdout",
     "output_type": "stream",
     "text": [
      "(sim,lamb_da,p_rew,w_minus,start,dose_quantity) =  (95, 1.0, 10.0, 1.0, 10, 2)\n",
      "{65, 2, 99, 37, 42, 20, 52, 23, 26, 29}\n",
      "sim_95_p_rew_10_start_10_dq_2\n",
      "(sim,lamb_da,p_rew,w_minus,start,dose_quantity) =  (96, 0.001, 0.01, 1.0, 1, 0.1)\n",
      "{41}\n",
      "sim_96_p_rew_0.01_start_1_dq_0.1\n"
     ]
    },
    {
     "name": "stderr",
     "output_type": "stream",
     "text": [
      "/home/aiyappa/anaconda3/lib/python3.7/site-packages/tables/path.py:112: NaturalNameWarning: object name is not a valid Python identifier: 'sim_96_p_rew_0.01_start_1_dq_0.1'; it does not match the pattern ``^[a-zA-Z_][a-zA-Z0-9_]*$``; you will not be able to use natural naming to access this object; using ``getattr()`` will still work, though\n",
      "  NaturalNameWarning)\n"
     ]
    },
    {
     "name": "stdout",
     "output_type": "stream",
     "text": [
      "(sim,lamb_da,p_rew,w_minus,start,dose_quantity) =  (96, 0.001, 0.01, 1.0, 1, 2)\n",
      "{26}\n",
      "sim_96_p_rew_0.01_start_1_dq_2\n"
     ]
    },
    {
     "name": "stderr",
     "output_type": "stream",
     "text": [
      "/home/aiyappa/anaconda3/lib/python3.7/site-packages/tables/path.py:112: NaturalNameWarning: object name is not a valid Python identifier: 'sim_96_p_rew_0.01_start_1_dq_2'; it does not match the pattern ``^[a-zA-Z_][a-zA-Z0-9_]*$``; you will not be able to use natural naming to access this object; using ``getattr()`` will still work, though\n",
      "  NaturalNameWarning)\n"
     ]
    },
    {
     "name": "stdout",
     "output_type": "stream",
     "text": [
      "(sim,lamb_da,p_rew,w_minus,start,dose_quantity) =  (96, 0.001, 0.01, 1.0, 10, 0.1)\n",
      "{35, 9, 11, 14, 47, 19, 85, 25, 94, 31}\n",
      "sim_96_p_rew_0.01_start_10_dq_0.1\n"
     ]
    },
    {
     "name": "stderr",
     "output_type": "stream",
     "text": [
      "/home/aiyappa/anaconda3/lib/python3.7/site-packages/tables/path.py:112: NaturalNameWarning: object name is not a valid Python identifier: 'sim_96_p_rew_0.01_start_10_dq_0.1'; it does not match the pattern ``^[a-zA-Z_][a-zA-Z0-9_]*$``; you will not be able to use natural naming to access this object; using ``getattr()`` will still work, though\n",
      "  NaturalNameWarning)\n"
     ]
    },
    {
     "name": "stdout",
     "output_type": "stream",
     "text": [
      "(sim,lamb_da,p_rew,w_minus,start,dose_quantity) =  (96, 0.001, 0.01, 1.0, 10, 2)\n",
      "{64, 6, 41, 77, 78, 83, 22, 24, 89, 88}\n",
      "sim_96_p_rew_0.01_start_10_dq_2\n"
     ]
    },
    {
     "name": "stderr",
     "output_type": "stream",
     "text": [
      "/home/aiyappa/anaconda3/lib/python3.7/site-packages/tables/path.py:112: NaturalNameWarning: object name is not a valid Python identifier: 'sim_96_p_rew_0.01_start_10_dq_2'; it does not match the pattern ``^[a-zA-Z_][a-zA-Z0-9_]*$``; you will not be able to use natural naming to access this object; using ``getattr()`` will still work, though\n",
      "  NaturalNameWarning)\n"
     ]
    },
    {
     "name": "stdout",
     "output_type": "stream",
     "text": [
      "(sim,lamb_da,p_rew,w_minus,start,dose_quantity) =  (96, 0.01, 0.10000000000000002, 1.0, 1, 0.1)\n",
      "{2}\n",
      "sim_96_p_rew_0.1_start_1_dq_0.1\n"
     ]
    },
    {
     "name": "stderr",
     "output_type": "stream",
     "text": [
      "/home/aiyappa/anaconda3/lib/python3.7/site-packages/tables/path.py:112: NaturalNameWarning: object name is not a valid Python identifier: 'sim_96_p_rew_0.1_start_1_dq_0.1'; it does not match the pattern ``^[a-zA-Z_][a-zA-Z0-9_]*$``; you will not be able to use natural naming to access this object; using ``getattr()`` will still work, though\n",
      "  NaturalNameWarning)\n"
     ]
    },
    {
     "name": "stdout",
     "output_type": "stream",
     "text": [
      "(sim,lamb_da,p_rew,w_minus,start,dose_quantity) =  (96, 0.01, 0.10000000000000002, 1.0, 1, 2)\n",
      "{15}\n",
      "sim_96_p_rew_0.1_start_1_dq_2\n"
     ]
    },
    {
     "name": "stderr",
     "output_type": "stream",
     "text": [
      "/home/aiyappa/anaconda3/lib/python3.7/site-packages/tables/path.py:112: NaturalNameWarning: object name is not a valid Python identifier: 'sim_96_p_rew_0.1_start_1_dq_2'; it does not match the pattern ``^[a-zA-Z_][a-zA-Z0-9_]*$``; you will not be able to use natural naming to access this object; using ``getattr()`` will still work, though\n",
      "  NaturalNameWarning)\n"
     ]
    },
    {
     "name": "stdout",
     "output_type": "stream",
     "text": [
      "(sim,lamb_da,p_rew,w_minus,start,dose_quantity) =  (96, 0.01, 0.10000000000000002, 1.0, 10, 0.1)\n",
      "{97, 2, 8, 41, 42, 81, 54, 30, 62, 31}\n",
      "sim_96_p_rew_0.1_start_10_dq_0.1\n"
     ]
    },
    {
     "name": "stderr",
     "output_type": "stream",
     "text": [
      "/home/aiyappa/anaconda3/lib/python3.7/site-packages/tables/path.py:112: NaturalNameWarning: object name is not a valid Python identifier: 'sim_96_p_rew_0.1_start_10_dq_0.1'; it does not match the pattern ``^[a-zA-Z_][a-zA-Z0-9_]*$``; you will not be able to use natural naming to access this object; using ``getattr()`` will still work, though\n",
      "  NaturalNameWarning)\n"
     ]
    },
    {
     "name": "stdout",
     "output_type": "stream",
     "text": [
      "(sim,lamb_da,p_rew,w_minus,start,dose_quantity) =  (96, 0.01, 0.10000000000000002, 1.0, 10, 2)\n",
      "{4, 72, 10, 79, 50, 51, 85, 22, 25, 58}\n",
      "sim_96_p_rew_0.1_start_10_dq_2\n"
     ]
    },
    {
     "name": "stderr",
     "output_type": "stream",
     "text": [
      "/home/aiyappa/anaconda3/lib/python3.7/site-packages/tables/path.py:112: NaturalNameWarning: object name is not a valid Python identifier: 'sim_96_p_rew_0.1_start_10_dq_2'; it does not match the pattern ``^[a-zA-Z_][a-zA-Z0-9_]*$``; you will not be able to use natural naming to access this object; using ``getattr()`` will still work, though\n",
      "  NaturalNameWarning)\n"
     ]
    },
    {
     "name": "stdout",
     "output_type": "stream",
     "text": [
      "(sim,lamb_da,p_rew,w_minus,start,dose_quantity) =  (96, 0.10000000000000002, 1.0, 1.0, 1, 0.1)\n",
      "{2}\n",
      "sim_96_p_rew_1_start_1_dq_0.1\n"
     ]
    },
    {
     "name": "stderr",
     "output_type": "stream",
     "text": [
      "/home/aiyappa/anaconda3/lib/python3.7/site-packages/tables/path.py:112: NaturalNameWarning: object name is not a valid Python identifier: 'sim_96_p_rew_1_start_1_dq_0.1'; it does not match the pattern ``^[a-zA-Z_][a-zA-Z0-9_]*$``; you will not be able to use natural naming to access this object; using ``getattr()`` will still work, though\n",
      "  NaturalNameWarning)\n"
     ]
    },
    {
     "name": "stdout",
     "output_type": "stream",
     "text": [
      "(sim,lamb_da,p_rew,w_minus,start,dose_quantity) =  (96, 0.10000000000000002, 1.0, 1.0, 1, 2)\n",
      "{5}\n",
      "sim_96_p_rew_1_start_1_dq_2\n",
      "(sim,lamb_da,p_rew,w_minus,start,dose_quantity) =  (96, 0.10000000000000002, 1.0, 1.0, 10, 0.1)\n",
      "Initial node infection step failed\n",
      "None\n",
      "{96, 35, 7, 76, 14, 18, 19, 21, 54, 24}\n",
      "sim_96_p_rew_1_start_10_dq_0.1\n"
     ]
    },
    {
     "name": "stderr",
     "output_type": "stream",
     "text": [
      "/home/aiyappa/anaconda3/lib/python3.7/site-packages/tables/path.py:112: NaturalNameWarning: object name is not a valid Python identifier: 'sim_96_p_rew_1_start_10_dq_0.1'; it does not match the pattern ``^[a-zA-Z_][a-zA-Z0-9_]*$``; you will not be able to use natural naming to access this object; using ``getattr()`` will still work, though\n",
      "  NaturalNameWarning)\n"
     ]
    },
    {
     "name": "stdout",
     "output_type": "stream",
     "text": [
      "(sim,lamb_da,p_rew,w_minus,start,dose_quantity) =  (96, 0.10000000000000002, 1.0, 1.0, 10, 2)\n",
      "{0, 33, 32, 70, 11, 77, 15, 50, 82, 63}\n",
      "sim_96_p_rew_1_start_10_dq_2\n",
      "(sim,lamb_da,p_rew,w_minus,start,dose_quantity) =  (96, 1.0, 10.0, 1.0, 1, 0.1)\n",
      "{45}\n",
      "sim_96_p_rew_10_start_1_dq_0.1\n"
     ]
    },
    {
     "name": "stderr",
     "output_type": "stream",
     "text": [
      "/home/aiyappa/anaconda3/lib/python3.7/site-packages/tables/path.py:112: NaturalNameWarning: object name is not a valid Python identifier: 'sim_96_p_rew_10_start_1_dq_0.1'; it does not match the pattern ``^[a-zA-Z_][a-zA-Z0-9_]*$``; you will not be able to use natural naming to access this object; using ``getattr()`` will still work, though\n",
      "  NaturalNameWarning)\n"
     ]
    },
    {
     "name": "stdout",
     "output_type": "stream",
     "text": [
      "(sim,lamb_da,p_rew,w_minus,start,dose_quantity) =  (96, 1.0, 10.0, 1.0, 1, 2)\n",
      "{8}\n",
      "sim_96_p_rew_10_start_1_dq_2\n",
      "(sim,lamb_da,p_rew,w_minus,start,dose_quantity) =  (96, 1.0, 10.0, 1.0, 10, 0.1)\n",
      "Initial node infection step failed\n",
      "None\n",
      "Initial node infection step failed\n",
      "None\n",
      "Initial node infection step failed\n",
      "None\n",
      "Initial node infection step failed\n",
      "None\n",
      "Initial node infection step failed\n",
      "None\n",
      "Initial node infection step failed\n",
      "None\n",
      "Initial node infection step failed\n",
      "None\n",
      "Initial node infection step failed\n",
      "None\n",
      "Initial node infection step failed\n",
      "None\n",
      "Initial node infection step failed\n",
      "None\n",
      "Initial node infection step failed\n",
      "None\n",
      "Initial node infection step failed\n",
      "None\n",
      "Initial node infection step failed\n",
      "None\n",
      "Initial node infection step failed\n",
      "None\n",
      "Initial node infection step failed\n",
      "None\n",
      "Initial node infection step failed\n",
      "None\n",
      "Initial node infection step failed\n",
      "None\n",
      "Initial node infection step failed\n",
      "None\n",
      "Initial node infection step failed\n",
      "None\n",
      "Initial node infection step failed\n",
      "None\n",
      "Initial node infection step failed\n",
      "None\n",
      "Initial node infection step failed\n",
      "None\n",
      "Initial node infection step failed\n",
      "None\n",
      "Initial node infection step failed\n",
      "None\n",
      "Initial node infection step failed\n",
      "None\n",
      "Initial node infection step failed\n",
      "None\n",
      "Initial node infection step failed\n",
      "None\n",
      "Initial node infection step failed\n",
      "None\n",
      "Initial node infection step failed\n",
      "None\n",
      "Initial node infection step failed\n",
      "None\n",
      "Initial node infection step failed\n",
      "None\n",
      "Initial node infection step failed\n",
      "None\n",
      "Initial node infection step failed\n",
      "None\n",
      "Initial node infection step failed\n",
      "None\n",
      "Initial node infection step failed\n",
      "None\n",
      "Initial node infection step failed\n",
      "None\n",
      "Initial node infection step failed\n",
      "None\n",
      "Initial node infection step failed\n",
      "None\n",
      "Initial node infection step failed\n",
      "None\n",
      "Initial node infection step failed\n",
      "None\n",
      "Initial node infection step failed\n",
      "None\n",
      "Initial node infection step failed\n",
      "None\n",
      "Initial node infection step failed\n",
      "None\n",
      "Initial node infection step failed\n",
      "None\n",
      "Initial node infection step failed\n",
      "None\n",
      "Initial node infection step failed\n",
      "None\n",
      "Initial node infection step failed\n",
      "None\n",
      "Initial node infection step failed\n",
      "None\n",
      "Initial node infection step failed\n",
      "None\n",
      "Initial node infection step failed\n",
      "None\n",
      "Initial node infection step failed\n",
      "None\n",
      "Initial node infection step failed\n",
      "None\n",
      "Initial node infection step failed\n",
      "None\n",
      "{3, 71, 7, 73, 74, 47, 54, 56, 92, 61}\n",
      "sim_96_p_rew_10_start_10_dq_0.1\n"
     ]
    },
    {
     "name": "stderr",
     "output_type": "stream",
     "text": [
      "/home/aiyappa/anaconda3/lib/python3.7/site-packages/tables/path.py:112: NaturalNameWarning: object name is not a valid Python identifier: 'sim_96_p_rew_10_start_10_dq_0.1'; it does not match the pattern ``^[a-zA-Z_][a-zA-Z0-9_]*$``; you will not be able to use natural naming to access this object; using ``getattr()`` will still work, though\n",
      "  NaturalNameWarning)\n"
     ]
    },
    {
     "name": "stdout",
     "output_type": "stream",
     "text": [
      "(sim,lamb_da,p_rew,w_minus,start,dose_quantity) =  (96, 1.0, 10.0, 1.0, 10, 2)\n",
      "{96, 71, 72, 11, 44, 78, 79, 16, 52, 60}\n",
      "sim_96_p_rew_10_start_10_dq_2\n",
      "(sim,lamb_da,p_rew,w_minus,start,dose_quantity) =  (97, 0.001, 0.01, 1.0, 1, 0.1)\n",
      "{40}\n",
      "sim_97_p_rew_0.01_start_1_dq_0.1\n"
     ]
    },
    {
     "name": "stderr",
     "output_type": "stream",
     "text": [
      "/home/aiyappa/anaconda3/lib/python3.7/site-packages/tables/path.py:112: NaturalNameWarning: object name is not a valid Python identifier: 'sim_97_p_rew_0.01_start_1_dq_0.1'; it does not match the pattern ``^[a-zA-Z_][a-zA-Z0-9_]*$``; you will not be able to use natural naming to access this object; using ``getattr()`` will still work, though\n",
      "  NaturalNameWarning)\n"
     ]
    },
    {
     "name": "stdout",
     "output_type": "stream",
     "text": [
      "(sim,lamb_da,p_rew,w_minus,start,dose_quantity) =  (97, 0.001, 0.01, 1.0, 1, 2)\n",
      "{75}\n",
      "sim_97_p_rew_0.01_start_1_dq_2\n"
     ]
    },
    {
     "name": "stderr",
     "output_type": "stream",
     "text": [
      "/home/aiyappa/anaconda3/lib/python3.7/site-packages/tables/path.py:112: NaturalNameWarning: object name is not a valid Python identifier: 'sim_97_p_rew_0.01_start_1_dq_2'; it does not match the pattern ``^[a-zA-Z_][a-zA-Z0-9_]*$``; you will not be able to use natural naming to access this object; using ``getattr()`` will still work, though\n",
      "  NaturalNameWarning)\n"
     ]
    },
    {
     "name": "stdout",
     "output_type": "stream",
     "text": [
      "(sim,lamb_da,p_rew,w_minus,start,dose_quantity) =  (97, 0.001, 0.01, 1.0, 10, 0.1)\n",
      "Initial node infection step failed\n",
      "None\n",
      "Initial node infection step failed\n",
      "None\n",
      "{34, 37, 70, 8, 46, 80, 20, 27, 28, 63}\n",
      "sim_97_p_rew_0.01_start_10_dq_0.1\n"
     ]
    },
    {
     "name": "stderr",
     "output_type": "stream",
     "text": [
      "/home/aiyappa/anaconda3/lib/python3.7/site-packages/tables/path.py:112: NaturalNameWarning: object name is not a valid Python identifier: 'sim_97_p_rew_0.01_start_10_dq_0.1'; it does not match the pattern ``^[a-zA-Z_][a-zA-Z0-9_]*$``; you will not be able to use natural naming to access this object; using ``getattr()`` will still work, though\n",
      "  NaturalNameWarning)\n"
     ]
    },
    {
     "name": "stdout",
     "output_type": "stream",
     "text": [
      "(sim,lamb_da,p_rew,w_minus,start,dose_quantity) =  (97, 0.001, 0.01, 1.0, 10, 2)\n",
      "{1, 65, 70, 10, 11, 18, 84, 86, 54, 29}\n",
      "sim_97_p_rew_0.01_start_10_dq_2\n"
     ]
    },
    {
     "name": "stderr",
     "output_type": "stream",
     "text": [
      "/home/aiyappa/anaconda3/lib/python3.7/site-packages/tables/path.py:112: NaturalNameWarning: object name is not a valid Python identifier: 'sim_97_p_rew_0.01_start_10_dq_2'; it does not match the pattern ``^[a-zA-Z_][a-zA-Z0-9_]*$``; you will not be able to use natural naming to access this object; using ``getattr()`` will still work, though\n",
      "  NaturalNameWarning)\n"
     ]
    },
    {
     "name": "stdout",
     "output_type": "stream",
     "text": [
      "(sim,lamb_da,p_rew,w_minus,start,dose_quantity) =  (97, 0.01, 0.10000000000000002, 1.0, 1, 0.1)\n",
      "{10}\n",
      "sim_97_p_rew_0.1_start_1_dq_0.1\n"
     ]
    },
    {
     "name": "stderr",
     "output_type": "stream",
     "text": [
      "/home/aiyappa/anaconda3/lib/python3.7/site-packages/tables/path.py:112: NaturalNameWarning: object name is not a valid Python identifier: 'sim_97_p_rew_0.1_start_1_dq_0.1'; it does not match the pattern ``^[a-zA-Z_][a-zA-Z0-9_]*$``; you will not be able to use natural naming to access this object; using ``getattr()`` will still work, though\n",
      "  NaturalNameWarning)\n"
     ]
    },
    {
     "name": "stdout",
     "output_type": "stream",
     "text": [
      "(sim,lamb_da,p_rew,w_minus,start,dose_quantity) =  (97, 0.01, 0.10000000000000002, 1.0, 1, 2)\n",
      "{90}\n",
      "sim_97_p_rew_0.1_start_1_dq_2\n"
     ]
    },
    {
     "name": "stderr",
     "output_type": "stream",
     "text": [
      "/home/aiyappa/anaconda3/lib/python3.7/site-packages/tables/path.py:112: NaturalNameWarning: object name is not a valid Python identifier: 'sim_97_p_rew_0.1_start_1_dq_2'; it does not match the pattern ``^[a-zA-Z_][a-zA-Z0-9_]*$``; you will not be able to use natural naming to access this object; using ``getattr()`` will still work, though\n",
      "  NaturalNameWarning)\n"
     ]
    },
    {
     "name": "stdout",
     "output_type": "stream",
     "text": [
      "(sim,lamb_da,p_rew,w_minus,start,dose_quantity) =  (97, 0.01, 0.10000000000000002, 1.0, 10, 0.1)\n",
      "Initial node infection step failed\n",
      "None\n",
      "{65, 97, 67, 66, 41, 76, 45, 77, 50, 53}\n",
      "sim_97_p_rew_0.1_start_10_dq_0.1\n"
     ]
    },
    {
     "name": "stderr",
     "output_type": "stream",
     "text": [
      "/home/aiyappa/anaconda3/lib/python3.7/site-packages/tables/path.py:112: NaturalNameWarning: object name is not a valid Python identifier: 'sim_97_p_rew_0.1_start_10_dq_0.1'; it does not match the pattern ``^[a-zA-Z_][a-zA-Z0-9_]*$``; you will not be able to use natural naming to access this object; using ``getattr()`` will still work, though\n",
      "  NaturalNameWarning)\n"
     ]
    },
    {
     "name": "stdout",
     "output_type": "stream",
     "text": [
      "(sim,lamb_da,p_rew,w_minus,start,dose_quantity) =  (97, 0.01, 0.10000000000000002, 1.0, 10, 2)\n",
      "{33, 26, 38, 73, 46, 81, 21, 86, 58, 27}\n",
      "sim_97_p_rew_0.1_start_10_dq_2\n"
     ]
    },
    {
     "name": "stderr",
     "output_type": "stream",
     "text": [
      "/home/aiyappa/anaconda3/lib/python3.7/site-packages/tables/path.py:112: NaturalNameWarning: object name is not a valid Python identifier: 'sim_97_p_rew_0.1_start_10_dq_2'; it does not match the pattern ``^[a-zA-Z_][a-zA-Z0-9_]*$``; you will not be able to use natural naming to access this object; using ``getattr()`` will still work, though\n",
      "  NaturalNameWarning)\n"
     ]
    },
    {
     "name": "stdout",
     "output_type": "stream",
     "text": [
      "(sim,lamb_da,p_rew,w_minus,start,dose_quantity) =  (97, 0.10000000000000002, 1.0, 1.0, 1, 0.1)\n",
      "{51}\n",
      "sim_97_p_rew_1_start_1_dq_0.1\n"
     ]
    },
    {
     "name": "stderr",
     "output_type": "stream",
     "text": [
      "/home/aiyappa/anaconda3/lib/python3.7/site-packages/tables/path.py:112: NaturalNameWarning: object name is not a valid Python identifier: 'sim_97_p_rew_1_start_1_dq_0.1'; it does not match the pattern ``^[a-zA-Z_][a-zA-Z0-9_]*$``; you will not be able to use natural naming to access this object; using ``getattr()`` will still work, though\n",
      "  NaturalNameWarning)\n"
     ]
    },
    {
     "name": "stdout",
     "output_type": "stream",
     "text": [
      "(sim,lamb_da,p_rew,w_minus,start,dose_quantity) =  (97, 0.10000000000000002, 1.0, 1.0, 1, 2)\n",
      "{13}\n",
      "sim_97_p_rew_1_start_1_dq_2\n",
      "(sim,lamb_da,p_rew,w_minus,start,dose_quantity) =  (97, 0.10000000000000002, 1.0, 1.0, 10, 0.1)\n",
      "Initial node infection step failed\n",
      "None\n",
      "{33, 35, 36, 42, 44, 15, 20, 85, 21, 61}\n",
      "sim_97_p_rew_1_start_10_dq_0.1\n"
     ]
    },
    {
     "name": "stderr",
     "output_type": "stream",
     "text": [
      "/home/aiyappa/anaconda3/lib/python3.7/site-packages/tables/path.py:112: NaturalNameWarning: object name is not a valid Python identifier: 'sim_97_p_rew_1_start_10_dq_0.1'; it does not match the pattern ``^[a-zA-Z_][a-zA-Z0-9_]*$``; you will not be able to use natural naming to access this object; using ``getattr()`` will still work, though\n",
      "  NaturalNameWarning)\n"
     ]
    },
    {
     "name": "stdout",
     "output_type": "stream",
     "text": [
      "(sim,lamb_da,p_rew,w_minus,start,dose_quantity) =  (97, 0.10000000000000002, 1.0, 1.0, 10, 2)\n",
      "{97, 1, 35, 69, 37, 13, 14, 81, 94, 31}\n",
      "sim_97_p_rew_1_start_10_dq_2\n",
      "(sim,lamb_da,p_rew,w_minus,start,dose_quantity) =  (97, 1.0, 10.0, 1.0, 1, 0.1)\n",
      "{0}\n",
      "sim_97_p_rew_10_start_1_dq_0.1\n"
     ]
    },
    {
     "name": "stderr",
     "output_type": "stream",
     "text": [
      "/home/aiyappa/anaconda3/lib/python3.7/site-packages/tables/path.py:112: NaturalNameWarning: object name is not a valid Python identifier: 'sim_97_p_rew_10_start_1_dq_0.1'; it does not match the pattern ``^[a-zA-Z_][a-zA-Z0-9_]*$``; you will not be able to use natural naming to access this object; using ``getattr()`` will still work, though\n",
      "  NaturalNameWarning)\n"
     ]
    },
    {
     "name": "stdout",
     "output_type": "stream",
     "text": [
      "(sim,lamb_da,p_rew,w_minus,start,dose_quantity) =  (97, 1.0, 10.0, 1.0, 1, 2)\n",
      "{15}\n",
      "sim_97_p_rew_10_start_1_dq_2\n",
      "(sim,lamb_da,p_rew,w_minus,start,dose_quantity) =  (97, 1.0, 10.0, 1.0, 10, 0.1)\n",
      "{96, 67, 68, 8, 41, 48, 81, 18, 60, 94}\n",
      "sim_97_p_rew_10_start_10_dq_0.1\n"
     ]
    },
    {
     "name": "stderr",
     "output_type": "stream",
     "text": [
      "/home/aiyappa/anaconda3/lib/python3.7/site-packages/tables/path.py:112: NaturalNameWarning: object name is not a valid Python identifier: 'sim_97_p_rew_10_start_10_dq_0.1'; it does not match the pattern ``^[a-zA-Z_][a-zA-Z0-9_]*$``; you will not be able to use natural naming to access this object; using ``getattr()`` will still work, though\n",
      "  NaturalNameWarning)\n"
     ]
    },
    {
     "name": "stdout",
     "output_type": "stream",
     "text": [
      "(sim,lamb_da,p_rew,w_minus,start,dose_quantity) =  (97, 1.0, 10.0, 1.0, 10, 2)\n",
      "{32, 64, 36, 40, 75, 46, 60, 17, 58, 28}\n",
      "sim_97_p_rew_10_start_10_dq_2\n",
      "(sim,lamb_da,p_rew,w_minus,start,dose_quantity) =  (98, 0.001, 0.01, 1.0, 1, 0.1)\n",
      "{76}\n",
      "sim_98_p_rew_0.01_start_1_dq_0.1\n"
     ]
    },
    {
     "name": "stderr",
     "output_type": "stream",
     "text": [
      "/home/aiyappa/anaconda3/lib/python3.7/site-packages/tables/path.py:112: NaturalNameWarning: object name is not a valid Python identifier: 'sim_98_p_rew_0.01_start_1_dq_0.1'; it does not match the pattern ``^[a-zA-Z_][a-zA-Z0-9_]*$``; you will not be able to use natural naming to access this object; using ``getattr()`` will still work, though\n",
      "  NaturalNameWarning)\n"
     ]
    },
    {
     "name": "stdout",
     "output_type": "stream",
     "text": [
      "(sim,lamb_da,p_rew,w_minus,start,dose_quantity) =  (98, 0.001, 0.01, 1.0, 1, 2)\n",
      "{31}\n",
      "sim_98_p_rew_0.01_start_1_dq_2\n"
     ]
    },
    {
     "name": "stderr",
     "output_type": "stream",
     "text": [
      "/home/aiyappa/anaconda3/lib/python3.7/site-packages/tables/path.py:112: NaturalNameWarning: object name is not a valid Python identifier: 'sim_98_p_rew_0.01_start_1_dq_2'; it does not match the pattern ``^[a-zA-Z_][a-zA-Z0-9_]*$``; you will not be able to use natural naming to access this object; using ``getattr()`` will still work, though\n",
      "  NaturalNameWarning)\n"
     ]
    },
    {
     "name": "stdout",
     "output_type": "stream",
     "text": [
      "(sim,lamb_da,p_rew,w_minus,start,dose_quantity) =  (98, 0.001, 0.01, 1.0, 10, 0.1)\n",
      "{65, 35, 41, 10, 48, 49, 86, 57, 26, 27}\n",
      "sim_98_p_rew_0.01_start_10_dq_0.1\n"
     ]
    },
    {
     "name": "stderr",
     "output_type": "stream",
     "text": [
      "/home/aiyappa/anaconda3/lib/python3.7/site-packages/tables/path.py:112: NaturalNameWarning: object name is not a valid Python identifier: 'sim_98_p_rew_0.01_start_10_dq_0.1'; it does not match the pattern ``^[a-zA-Z_][a-zA-Z0-9_]*$``; you will not be able to use natural naming to access this object; using ``getattr()`` will still work, though\n",
      "  NaturalNameWarning)\n"
     ]
    },
    {
     "name": "stdout",
     "output_type": "stream",
     "text": [
      "(sim,lamb_da,p_rew,w_minus,start,dose_quantity) =  (98, 0.001, 0.01, 1.0, 10, 2)\n",
      "{98, 40, 74, 10, 15, 82, 18, 85, 55, 29}\n",
      "sim_98_p_rew_0.01_start_10_dq_2\n"
     ]
    },
    {
     "name": "stderr",
     "output_type": "stream",
     "text": [
      "/home/aiyappa/anaconda3/lib/python3.7/site-packages/tables/path.py:112: NaturalNameWarning: object name is not a valid Python identifier: 'sim_98_p_rew_0.01_start_10_dq_2'; it does not match the pattern ``^[a-zA-Z_][a-zA-Z0-9_]*$``; you will not be able to use natural naming to access this object; using ``getattr()`` will still work, though\n",
      "  NaturalNameWarning)\n"
     ]
    },
    {
     "name": "stdout",
     "output_type": "stream",
     "text": [
      "(sim,lamb_da,p_rew,w_minus,start,dose_quantity) =  (98, 0.01, 0.10000000000000002, 1.0, 1, 0.1)\n",
      "{73}\n",
      "sim_98_p_rew_0.1_start_1_dq_0.1\n"
     ]
    },
    {
     "name": "stderr",
     "output_type": "stream",
     "text": [
      "/home/aiyappa/anaconda3/lib/python3.7/site-packages/tables/path.py:112: NaturalNameWarning: object name is not a valid Python identifier: 'sim_98_p_rew_0.1_start_1_dq_0.1'; it does not match the pattern ``^[a-zA-Z_][a-zA-Z0-9_]*$``; you will not be able to use natural naming to access this object; using ``getattr()`` will still work, though\n",
      "  NaturalNameWarning)\n"
     ]
    },
    {
     "name": "stdout",
     "output_type": "stream",
     "text": [
      "(sim,lamb_da,p_rew,w_minus,start,dose_quantity) =  (98, 0.01, 0.10000000000000002, 1.0, 1, 2)\n",
      "{62}\n",
      "sim_98_p_rew_0.1_start_1_dq_2\n"
     ]
    },
    {
     "name": "stderr",
     "output_type": "stream",
     "text": [
      "/home/aiyappa/anaconda3/lib/python3.7/site-packages/tables/path.py:112: NaturalNameWarning: object name is not a valid Python identifier: 'sim_98_p_rew_0.1_start_1_dq_2'; it does not match the pattern ``^[a-zA-Z_][a-zA-Z0-9_]*$``; you will not be able to use natural naming to access this object; using ``getattr()`` will still work, though\n",
      "  NaturalNameWarning)\n"
     ]
    },
    {
     "name": "stdout",
     "output_type": "stream",
     "text": [
      "(sim,lamb_da,p_rew,w_minus,start,dose_quantity) =  (98, 0.01, 0.10000000000000002, 1.0, 10, 0.1)\n",
      "{98, 66, 99, 2, 16, 81, 83, 22, 61, 95}\n",
      "sim_98_p_rew_0.1_start_10_dq_0.1\n"
     ]
    },
    {
     "name": "stderr",
     "output_type": "stream",
     "text": [
      "/home/aiyappa/anaconda3/lib/python3.7/site-packages/tables/path.py:112: NaturalNameWarning: object name is not a valid Python identifier: 'sim_98_p_rew_0.1_start_10_dq_0.1'; it does not match the pattern ``^[a-zA-Z_][a-zA-Z0-9_]*$``; you will not be able to use natural naming to access this object; using ``getattr()`` will still work, though\n",
      "  NaturalNameWarning)\n"
     ]
    },
    {
     "name": "stdout",
     "output_type": "stream",
     "text": [
      "(sim,lamb_da,p_rew,w_minus,start,dose_quantity) =  (98, 0.01, 0.10000000000000002, 1.0, 10, 2)\n",
      "{0, 64, 72, 79, 19, 85, 88, 24, 92, 29}\n",
      "sim_98_p_rew_0.1_start_10_dq_2\n"
     ]
    },
    {
     "name": "stderr",
     "output_type": "stream",
     "text": [
      "/home/aiyappa/anaconda3/lib/python3.7/site-packages/tables/path.py:112: NaturalNameWarning: object name is not a valid Python identifier: 'sim_98_p_rew_0.1_start_10_dq_2'; it does not match the pattern ``^[a-zA-Z_][a-zA-Z0-9_]*$``; you will not be able to use natural naming to access this object; using ``getattr()`` will still work, though\n",
      "  NaturalNameWarning)\n"
     ]
    },
    {
     "name": "stdout",
     "output_type": "stream",
     "text": [
      "(sim,lamb_da,p_rew,w_minus,start,dose_quantity) =  (98, 0.10000000000000002, 1.0, 1.0, 1, 0.1)\n",
      "{86}\n",
      "sim_98_p_rew_1_start_1_dq_0.1\n"
     ]
    },
    {
     "name": "stderr",
     "output_type": "stream",
     "text": [
      "/home/aiyappa/anaconda3/lib/python3.7/site-packages/tables/path.py:112: NaturalNameWarning: object name is not a valid Python identifier: 'sim_98_p_rew_1_start_1_dq_0.1'; it does not match the pattern ``^[a-zA-Z_][a-zA-Z0-9_]*$``; you will not be able to use natural naming to access this object; using ``getattr()`` will still work, though\n",
      "  NaturalNameWarning)\n"
     ]
    },
    {
     "name": "stdout",
     "output_type": "stream",
     "text": [
      "(sim,lamb_da,p_rew,w_minus,start,dose_quantity) =  (98, 0.10000000000000002, 1.0, 1.0, 1, 2)\n",
      "{65}\n",
      "sim_98_p_rew_1_start_1_dq_2\n",
      "(sim,lamb_da,p_rew,w_minus,start,dose_quantity) =  (98, 0.10000000000000002, 1.0, 1.0, 10, 0.1)\n",
      "{6, 42, 10, 14, 18, 51, 52, 84, 55, 60}\n",
      "sim_98_p_rew_1_start_10_dq_0.1\n"
     ]
    },
    {
     "name": "stderr",
     "output_type": "stream",
     "text": [
      "/home/aiyappa/anaconda3/lib/python3.7/site-packages/tables/path.py:112: NaturalNameWarning: object name is not a valid Python identifier: 'sim_98_p_rew_1_start_10_dq_0.1'; it does not match the pattern ``^[a-zA-Z_][a-zA-Z0-9_]*$``; you will not be able to use natural naming to access this object; using ``getattr()`` will still work, though\n",
      "  NaturalNameWarning)\n"
     ]
    },
    {
     "name": "stdout",
     "output_type": "stream",
     "text": [
      "(sim,lamb_da,p_rew,w_minus,start,dose_quantity) =  (98, 0.10000000000000002, 1.0, 1.0, 10, 2)\n",
      "{96, 67, 38, 14, 16, 19, 22, 25, 92, 29}\n",
      "sim_98_p_rew_1_start_10_dq_2\n",
      "(sim,lamb_da,p_rew,w_minus,start,dose_quantity) =  (98, 1.0, 10.0, 1.0, 1, 0.1)\n",
      "{26}\n",
      "sim_98_p_rew_10_start_1_dq_0.1\n"
     ]
    },
    {
     "name": "stderr",
     "output_type": "stream",
     "text": [
      "/home/aiyappa/anaconda3/lib/python3.7/site-packages/tables/path.py:112: NaturalNameWarning: object name is not a valid Python identifier: 'sim_98_p_rew_10_start_1_dq_0.1'; it does not match the pattern ``^[a-zA-Z_][a-zA-Z0-9_]*$``; you will not be able to use natural naming to access this object; using ``getattr()`` will still work, though\n",
      "  NaturalNameWarning)\n"
     ]
    },
    {
     "name": "stdout",
     "output_type": "stream",
     "text": [
      "(sim,lamb_da,p_rew,w_minus,start,dose_quantity) =  (98, 1.0, 10.0, 1.0, 1, 2)\n",
      "{18}\n",
      "sim_98_p_rew_10_start_1_dq_2\n",
      "(sim,lamb_da,p_rew,w_minus,start,dose_quantity) =  (98, 1.0, 10.0, 1.0, 10, 0.1)\n",
      "Initial node infection step failed\n",
      "None\n",
      "Initial node infection step failed\n",
      "None\n",
      "Initial node infection step failed\n",
      "None\n",
      "Initial node infection step failed\n",
      "None\n",
      "Initial node infection step failed\n",
      "None\n",
      "Initial node infection step failed\n",
      "None\n",
      "{0, 6, 7, 81, 50, 83, 52, 94, 30, 95}\n",
      "sim_98_p_rew_10_start_10_dq_0.1\n"
     ]
    },
    {
     "name": "stderr",
     "output_type": "stream",
     "text": [
      "/home/aiyappa/anaconda3/lib/python3.7/site-packages/tables/path.py:112: NaturalNameWarning: object name is not a valid Python identifier: 'sim_98_p_rew_10_start_10_dq_0.1'; it does not match the pattern ``^[a-zA-Z_][a-zA-Z0-9_]*$``; you will not be able to use natural naming to access this object; using ``getattr()`` will still work, though\n",
      "  NaturalNameWarning)\n"
     ]
    },
    {
     "name": "stdout",
     "output_type": "stream",
     "text": [
      "(sim,lamb_da,p_rew,w_minus,start,dose_quantity) =  (98, 1.0, 10.0, 1.0, 10, 2)\n",
      "{4, 7, 78, 48, 17, 19, 86, 24, 56, 61}\n",
      "sim_98_p_rew_10_start_10_dq_2\n",
      "(sim,lamb_da,p_rew,w_minus,start,dose_quantity) =  (99, 0.001, 0.01, 1.0, 1, 0.1)\n",
      "{61}\n",
      "sim_99_p_rew_0.01_start_1_dq_0.1\n"
     ]
    },
    {
     "name": "stderr",
     "output_type": "stream",
     "text": [
      "/home/aiyappa/anaconda3/lib/python3.7/site-packages/tables/path.py:112: NaturalNameWarning: object name is not a valid Python identifier: 'sim_99_p_rew_0.01_start_1_dq_0.1'; it does not match the pattern ``^[a-zA-Z_][a-zA-Z0-9_]*$``; you will not be able to use natural naming to access this object; using ``getattr()`` will still work, though\n",
      "  NaturalNameWarning)\n"
     ]
    },
    {
     "name": "stdout",
     "output_type": "stream",
     "text": [
      "(sim,lamb_da,p_rew,w_minus,start,dose_quantity) =  (99, 0.001, 0.01, 1.0, 1, 2)\n",
      "{8}\n",
      "sim_99_p_rew_0.01_start_1_dq_2\n"
     ]
    },
    {
     "name": "stderr",
     "output_type": "stream",
     "text": [
      "/home/aiyappa/anaconda3/lib/python3.7/site-packages/tables/path.py:112: NaturalNameWarning: object name is not a valid Python identifier: 'sim_99_p_rew_0.01_start_1_dq_2'; it does not match the pattern ``^[a-zA-Z_][a-zA-Z0-9_]*$``; you will not be able to use natural naming to access this object; using ``getattr()`` will still work, though\n",
      "  NaturalNameWarning)\n"
     ]
    },
    {
     "name": "stdout",
     "output_type": "stream",
     "text": [
      "(sim,lamb_da,p_rew,w_minus,start,dose_quantity) =  (99, 0.001, 0.01, 1.0, 10, 0.1)\n",
      "{66, 5, 69, 72, 43, 13, 55, 24, 26, 59}\n",
      "sim_99_p_rew_0.01_start_10_dq_0.1\n"
     ]
    },
    {
     "name": "stderr",
     "output_type": "stream",
     "text": [
      "/home/aiyappa/anaconda3/lib/python3.7/site-packages/tables/path.py:112: NaturalNameWarning: object name is not a valid Python identifier: 'sim_99_p_rew_0.01_start_10_dq_0.1'; it does not match the pattern ``^[a-zA-Z_][a-zA-Z0-9_]*$``; you will not be able to use natural naming to access this object; using ``getattr()`` will still work, though\n",
      "  NaturalNameWarning)\n"
     ]
    },
    {
     "name": "stdout",
     "output_type": "stream",
     "text": [
      "(sim,lamb_da,p_rew,w_minus,start,dose_quantity) =  (99, 0.001, 0.01, 1.0, 10, 2)\n",
      "{36, 6, 38, 10, 43, 12, 79, 82, 27, 63}\n",
      "sim_99_p_rew_0.01_start_10_dq_2\n"
     ]
    },
    {
     "name": "stderr",
     "output_type": "stream",
     "text": [
      "/home/aiyappa/anaconda3/lib/python3.7/site-packages/tables/path.py:112: NaturalNameWarning: object name is not a valid Python identifier: 'sim_99_p_rew_0.01_start_10_dq_2'; it does not match the pattern ``^[a-zA-Z_][a-zA-Z0-9_]*$``; you will not be able to use natural naming to access this object; using ``getattr()`` will still work, though\n",
      "  NaturalNameWarning)\n"
     ]
    },
    {
     "name": "stdout",
     "output_type": "stream",
     "text": [
      "(sim,lamb_da,p_rew,w_minus,start,dose_quantity) =  (99, 0.01, 0.10000000000000002, 1.0, 1, 0.1)\n",
      "{33}\n",
      "sim_99_p_rew_0.1_start_1_dq_0.1\n"
     ]
    },
    {
     "name": "stderr",
     "output_type": "stream",
     "text": [
      "/home/aiyappa/anaconda3/lib/python3.7/site-packages/tables/path.py:112: NaturalNameWarning: object name is not a valid Python identifier: 'sim_99_p_rew_0.1_start_1_dq_0.1'; it does not match the pattern ``^[a-zA-Z_][a-zA-Z0-9_]*$``; you will not be able to use natural naming to access this object; using ``getattr()`` will still work, though\n",
      "  NaturalNameWarning)\n"
     ]
    },
    {
     "name": "stdout",
     "output_type": "stream",
     "text": [
      "(sim,lamb_da,p_rew,w_minus,start,dose_quantity) =  (99, 0.01, 0.10000000000000002, 1.0, 1, 2)\n",
      "{34}\n",
      "sim_99_p_rew_0.1_start_1_dq_2\n"
     ]
    },
    {
     "name": "stderr",
     "output_type": "stream",
     "text": [
      "/home/aiyappa/anaconda3/lib/python3.7/site-packages/tables/path.py:112: NaturalNameWarning: object name is not a valid Python identifier: 'sim_99_p_rew_0.1_start_1_dq_2'; it does not match the pattern ``^[a-zA-Z_][a-zA-Z0-9_]*$``; you will not be able to use natural naming to access this object; using ``getattr()`` will still work, though\n",
      "  NaturalNameWarning)\n"
     ]
    },
    {
     "name": "stdout",
     "output_type": "stream",
     "text": [
      "(sim,lamb_da,p_rew,w_minus,start,dose_quantity) =  (99, 0.01, 0.10000000000000002, 1.0, 10, 0.1)\n",
      "Initial node infection step failed\n",
      "None\n",
      "{65, 67, 68, 8, 73, 46, 48, 56, 28, 30}\n",
      "sim_99_p_rew_0.1_start_10_dq_0.1\n"
     ]
    },
    {
     "name": "stderr",
     "output_type": "stream",
     "text": [
      "/home/aiyappa/anaconda3/lib/python3.7/site-packages/tables/path.py:112: NaturalNameWarning: object name is not a valid Python identifier: 'sim_99_p_rew_0.1_start_10_dq_0.1'; it does not match the pattern ``^[a-zA-Z_][a-zA-Z0-9_]*$``; you will not be able to use natural naming to access this object; using ``getattr()`` will still work, though\n",
      "  NaturalNameWarning)\n"
     ]
    },
    {
     "name": "stdout",
     "output_type": "stream",
     "text": [
      "(sim,lamb_da,p_rew,w_minus,start,dose_quantity) =  (99, 0.01, 0.10000000000000002, 1.0, 10, 2)\n",
      "{32, 96, 37, 9, 14, 51, 53, 23, 58, 59}\n",
      "sim_99_p_rew_0.1_start_10_dq_2\n"
     ]
    },
    {
     "name": "stderr",
     "output_type": "stream",
     "text": [
      "/home/aiyappa/anaconda3/lib/python3.7/site-packages/tables/path.py:112: NaturalNameWarning: object name is not a valid Python identifier: 'sim_99_p_rew_0.1_start_10_dq_2'; it does not match the pattern ``^[a-zA-Z_][a-zA-Z0-9_]*$``; you will not be able to use natural naming to access this object; using ``getattr()`` will still work, though\n",
      "  NaturalNameWarning)\n"
     ]
    },
    {
     "name": "stdout",
     "output_type": "stream",
     "text": [
      "(sim,lamb_da,p_rew,w_minus,start,dose_quantity) =  (99, 0.10000000000000002, 1.0, 1.0, 1, 0.1)\n",
      "{70}\n",
      "sim_99_p_rew_1_start_1_dq_0.1\n"
     ]
    },
    {
     "name": "stderr",
     "output_type": "stream",
     "text": [
      "/home/aiyappa/anaconda3/lib/python3.7/site-packages/tables/path.py:112: NaturalNameWarning: object name is not a valid Python identifier: 'sim_99_p_rew_1_start_1_dq_0.1'; it does not match the pattern ``^[a-zA-Z_][a-zA-Z0-9_]*$``; you will not be able to use natural naming to access this object; using ``getattr()`` will still work, though\n",
      "  NaturalNameWarning)\n"
     ]
    },
    {
     "name": "stdout",
     "output_type": "stream",
     "text": [
      "(sim,lamb_da,p_rew,w_minus,start,dose_quantity) =  (99, 0.10000000000000002, 1.0, 1.0, 1, 2)\n",
      "{82}\n",
      "sim_99_p_rew_1_start_1_dq_2\n",
      "(sim,lamb_da,p_rew,w_minus,start,dose_quantity) =  (99, 0.10000000000000002, 1.0, 1.0, 10, 0.1)\n",
      "Initial node infection step failed\n",
      "None\n",
      "Initial node infection step failed\n",
      "None\n",
      "{2, 3, 37, 73, 15, 19, 20, 25, 90, 30}\n",
      "sim_99_p_rew_1_start_10_dq_0.1\n"
     ]
    },
    {
     "name": "stderr",
     "output_type": "stream",
     "text": [
      "/home/aiyappa/anaconda3/lib/python3.7/site-packages/tables/path.py:112: NaturalNameWarning: object name is not a valid Python identifier: 'sim_99_p_rew_1_start_10_dq_0.1'; it does not match the pattern ``^[a-zA-Z_][a-zA-Z0-9_]*$``; you will not be able to use natural naming to access this object; using ``getattr()`` will still work, though\n",
      "  NaturalNameWarning)\n"
     ]
    },
    {
     "name": "stdout",
     "output_type": "stream",
     "text": [
      "(sim,lamb_da,p_rew,w_minus,start,dose_quantity) =  (99, 0.10000000000000002, 1.0, 1.0, 10, 2)\n",
      "{1, 8, 44, 12, 47, 16, 23, 90, 27, 95}\n",
      "sim_99_p_rew_1_start_10_dq_2\n",
      "(sim,lamb_da,p_rew,w_minus,start,dose_quantity) =  (99, 1.0, 10.0, 1.0, 1, 0.1)\n",
      "{77}\n",
      "sim_99_p_rew_10_start_1_dq_0.1\n"
     ]
    },
    {
     "name": "stderr",
     "output_type": "stream",
     "text": [
      "/home/aiyappa/anaconda3/lib/python3.7/site-packages/tables/path.py:112: NaturalNameWarning: object name is not a valid Python identifier: 'sim_99_p_rew_10_start_1_dq_0.1'; it does not match the pattern ``^[a-zA-Z_][a-zA-Z0-9_]*$``; you will not be able to use natural naming to access this object; using ``getattr()`` will still work, though\n",
      "  NaturalNameWarning)\n"
     ]
    },
    {
     "name": "stdout",
     "output_type": "stream",
     "text": [
      "(sim,lamb_da,p_rew,w_minus,start,dose_quantity) =  (99, 1.0, 10.0, 1.0, 1, 2)\n",
      "{5}\n",
      "sim_99_p_rew_10_start_1_dq_2\n",
      "(sim,lamb_da,p_rew,w_minus,start,dose_quantity) =  (99, 1.0, 10.0, 1.0, 10, 0.1)\n",
      "Initial node infection step failed\n",
      "None\n",
      "Initial node infection step failed\n",
      "None\n",
      "Initial node infection step failed\n",
      "None\n",
      "Initial node infection step failed\n",
      "None\n",
      "Initial node infection step failed\n",
      "None\n",
      "Initial node infection step failed\n",
      "None\n",
      "Initial node infection step failed\n",
      "None\n",
      "Initial node infection step failed\n",
      "None\n",
      "Initial node infection step failed\n",
      "None\n",
      "Initial node infection step failed\n",
      "None\n",
      "Initial node infection step failed\n",
      "None\n",
      "Initial node infection step failed\n",
      "None\n",
      "Initial node infection step failed\n",
      "None\n",
      "Initial node infection step failed\n",
      "None\n",
      "Initial node infection step failed\n",
      "None\n",
      "Initial node infection step failed\n",
      "None\n",
      "Initial node infection step failed\n",
      "None\n",
      "Initial node infection step failed\n",
      "None\n",
      "Initial node infection step failed\n",
      "None\n",
      "Initial node infection step failed\n",
      "None\n",
      "Initial node infection step failed\n",
      "None\n",
      "Initial node infection step failed\n",
      "None\n",
      "Initial node infection step failed\n",
      "None\n",
      "Initial node infection step failed\n",
      "None\n",
      "Initial node infection step failed\n",
      "None\n",
      "Initial node infection step failed\n",
      "None\n",
      "Initial node infection step failed\n",
      "None\n",
      "Initial node infection step failed\n",
      "None\n",
      "Initial node infection step failed\n",
      "None\n",
      "Initial node infection step failed\n",
      "None\n",
      "Initial node infection step failed\n",
      "None\n",
      "Initial node infection step failed\n",
      "None\n",
      "Initial node infection step failed\n",
      "None\n",
      "Initial node infection step failed\n",
      "None\n",
      "Initial node infection step failed\n",
      "None\n",
      "Initial node infection step failed\n",
      "None\n",
      "Initial node infection step failed\n",
      "None\n",
      "Initial node infection step failed\n",
      "None\n",
      "Initial node infection step failed\n",
      "None\n",
      "Initial node infection step failed\n",
      "None\n",
      "Initial node infection step failed\n",
      "None\n",
      "Initial node infection step failed\n",
      "None\n",
      "Initial node infection step failed\n",
      "None\n",
      "Initial node infection step failed\n",
      "None\n",
      "Initial node infection step failed\n",
      "None\n",
      "Initial node infection step failed\n",
      "None\n",
      "Initial node infection step failed\n",
      "None\n",
      "Initial node infection step failed\n",
      "None\n",
      "Initial node infection step failed\n",
      "None\n",
      "Initial node infection step failed\n",
      "None\n",
      "Initial node infection step failed\n",
      "None\n",
      "Initial node infection step failed\n",
      "None\n",
      "Initial node infection step failed\n",
      "None\n",
      "Initial node infection step failed\n",
      "None\n",
      "Initial node infection step failed\n",
      "None\n",
      "Initial node infection step failed\n",
      "None\n",
      "Initial node infection step failed\n",
      "None\n",
      "Initial node infection step failed\n",
      "None\n",
      "Initial node infection step failed\n",
      "None\n",
      "Initial node infection step failed\n",
      "None\n",
      "Initial node infection step failed\n",
      "None\n",
      "Initial node infection step failed\n",
      "None\n",
      "Initial node infection step failed\n",
      "None\n",
      "Initial node infection step failed\n",
      "None\n",
      "Initial node infection step failed\n",
      "None\n",
      "Initial node infection step failed\n",
      "None\n",
      "Initial node infection step failed\n",
      "None\n",
      "Initial node infection step failed\n",
      "None\n",
      "Initial node infection step failed\n",
      "None\n",
      "Initial node infection step failed\n",
      "None\n",
      "Initial node infection step failed\n",
      "None\n",
      "Initial node infection step failed\n",
      "None\n",
      "Initial node infection step failed\n",
      "None\n",
      "Initial node infection step failed\n",
      "None\n",
      "Initial node infection step failed\n",
      "None\n",
      "Initial node infection step failed\n",
      "None\n",
      "{98, 3, 36, 45, 16, 50, 21, 23, 25, 92}\n",
      "sim_99_p_rew_10_start_10_dq_0.1\n"
     ]
    },
    {
     "name": "stderr",
     "output_type": "stream",
     "text": [
      "/home/aiyappa/anaconda3/lib/python3.7/site-packages/tables/path.py:112: NaturalNameWarning: object name is not a valid Python identifier: 'sim_99_p_rew_10_start_10_dq_0.1'; it does not match the pattern ``^[a-zA-Z_][a-zA-Z0-9_]*$``; you will not be able to use natural naming to access this object; using ``getattr()`` will still work, though\n",
      "  NaturalNameWarning)\n"
     ]
    },
    {
     "name": "stdout",
     "output_type": "stream",
     "text": [
      "(sim,lamb_da,p_rew,w_minus,start,dose_quantity) =  (99, 1.0, 10.0, 1.0, 10, 2)\n",
      "{32, 97, 0, 1, 44, 46, 80, 20, 84, 31}\n",
      "sim_99_p_rew_10_start_10_dq_2\n",
      "(sim,lamb_da,p_rew,w_minus,start,dose_quantity) =  (100, 0.001, 0.01, 1.0, 1, 0.1)\n",
      "{37}\n",
      "sim_100_p_rew_0.01_start_1_dq_0.1\n"
     ]
    },
    {
     "name": "stderr",
     "output_type": "stream",
     "text": [
      "/home/aiyappa/anaconda3/lib/python3.7/site-packages/tables/path.py:112: NaturalNameWarning: object name is not a valid Python identifier: 'sim_100_p_rew_0.01_start_1_dq_0.1'; it does not match the pattern ``^[a-zA-Z_][a-zA-Z0-9_]*$``; you will not be able to use natural naming to access this object; using ``getattr()`` will still work, though\n",
      "  NaturalNameWarning)\n"
     ]
    },
    {
     "name": "stdout",
     "output_type": "stream",
     "text": [
      "(sim,lamb_da,p_rew,w_minus,start,dose_quantity) =  (100, 0.001, 0.01, 1.0, 1, 2)\n",
      "{61}\n",
      "sim_100_p_rew_0.01_start_1_dq_2\n"
     ]
    },
    {
     "name": "stderr",
     "output_type": "stream",
     "text": [
      "/home/aiyappa/anaconda3/lib/python3.7/site-packages/tables/path.py:112: NaturalNameWarning: object name is not a valid Python identifier: 'sim_100_p_rew_0.01_start_1_dq_2'; it does not match the pattern ``^[a-zA-Z_][a-zA-Z0-9_]*$``; you will not be able to use natural naming to access this object; using ``getattr()`` will still work, though\n",
      "  NaturalNameWarning)\n"
     ]
    },
    {
     "name": "stdout",
     "output_type": "stream",
     "text": [
      "(sim,lamb_da,p_rew,w_minus,start,dose_quantity) =  (100, 0.001, 0.01, 1.0, 10, 0.1)\n",
      "{64, 68, 8, 11, 15, 79, 49, 52, 26, 59}\n",
      "sim_100_p_rew_0.01_start_10_dq_0.1\n"
     ]
    },
    {
     "name": "stderr",
     "output_type": "stream",
     "text": [
      "/home/aiyappa/anaconda3/lib/python3.7/site-packages/tables/path.py:112: NaturalNameWarning: object name is not a valid Python identifier: 'sim_100_p_rew_0.01_start_10_dq_0.1'; it does not match the pattern ``^[a-zA-Z_][a-zA-Z0-9_]*$``; you will not be able to use natural naming to access this object; using ``getattr()`` will still work, though\n",
      "  NaturalNameWarning)\n"
     ]
    },
    {
     "name": "stdout",
     "output_type": "stream",
     "text": [
      "(sim,lamb_da,p_rew,w_minus,start,dose_quantity) =  (100, 0.001, 0.01, 1.0, 10, 2)\n",
      "{99, 4, 7, 48, 17, 49, 55, 90, 28, 61}\n",
      "sim_100_p_rew_0.01_start_10_dq_2\n"
     ]
    },
    {
     "name": "stderr",
     "output_type": "stream",
     "text": [
      "/home/aiyappa/anaconda3/lib/python3.7/site-packages/tables/path.py:112: NaturalNameWarning: object name is not a valid Python identifier: 'sim_100_p_rew_0.01_start_10_dq_2'; it does not match the pattern ``^[a-zA-Z_][a-zA-Z0-9_]*$``; you will not be able to use natural naming to access this object; using ``getattr()`` will still work, though\n",
      "  NaturalNameWarning)\n"
     ]
    },
    {
     "name": "stdout",
     "output_type": "stream",
     "text": [
      "(sim,lamb_da,p_rew,w_minus,start,dose_quantity) =  (100, 0.01, 0.10000000000000002, 1.0, 1, 0.1)\n",
      "{36}\n",
      "sim_100_p_rew_0.1_start_1_dq_0.1\n"
     ]
    },
    {
     "name": "stderr",
     "output_type": "stream",
     "text": [
      "/home/aiyappa/anaconda3/lib/python3.7/site-packages/tables/path.py:112: NaturalNameWarning: object name is not a valid Python identifier: 'sim_100_p_rew_0.1_start_1_dq_0.1'; it does not match the pattern ``^[a-zA-Z_][a-zA-Z0-9_]*$``; you will not be able to use natural naming to access this object; using ``getattr()`` will still work, though\n",
      "  NaturalNameWarning)\n"
     ]
    },
    {
     "name": "stdout",
     "output_type": "stream",
     "text": [
      "(sim,lamb_da,p_rew,w_minus,start,dose_quantity) =  (100, 0.01, 0.10000000000000002, 1.0, 1, 2)\n",
      "{38}\n",
      "sim_100_p_rew_0.1_start_1_dq_2\n"
     ]
    },
    {
     "name": "stderr",
     "output_type": "stream",
     "text": [
      "/home/aiyappa/anaconda3/lib/python3.7/site-packages/tables/path.py:112: NaturalNameWarning: object name is not a valid Python identifier: 'sim_100_p_rew_0.1_start_1_dq_2'; it does not match the pattern ``^[a-zA-Z_][a-zA-Z0-9_]*$``; you will not be able to use natural naming to access this object; using ``getattr()`` will still work, though\n",
      "  NaturalNameWarning)\n"
     ]
    },
    {
     "name": "stdout",
     "output_type": "stream",
     "text": [
      "(sim,lamb_da,p_rew,w_minus,start,dose_quantity) =  (100, 0.01, 0.10000000000000002, 1.0, 10, 0.1)\n",
      "{68, 40, 73, 43, 13, 78, 19, 27, 95, 63}\n",
      "sim_100_p_rew_0.1_start_10_dq_0.1\n"
     ]
    },
    {
     "name": "stderr",
     "output_type": "stream",
     "text": [
      "/home/aiyappa/anaconda3/lib/python3.7/site-packages/tables/path.py:112: NaturalNameWarning: object name is not a valid Python identifier: 'sim_100_p_rew_0.1_start_10_dq_0.1'; it does not match the pattern ``^[a-zA-Z_][a-zA-Z0-9_]*$``; you will not be able to use natural naming to access this object; using ``getattr()`` will still work, though\n",
      "  NaturalNameWarning)\n"
     ]
    },
    {
     "name": "stdout",
     "output_type": "stream",
     "text": [
      "(sim,lamb_da,p_rew,w_minus,start,dose_quantity) =  (100, 0.01, 0.10000000000000002, 1.0, 10, 2)\n",
      "{65, 97, 59, 41, 14, 48, 27, 92, 93, 31}\n",
      "sim_100_p_rew_0.1_start_10_dq_2\n"
     ]
    },
    {
     "name": "stderr",
     "output_type": "stream",
     "text": [
      "/home/aiyappa/anaconda3/lib/python3.7/site-packages/tables/path.py:112: NaturalNameWarning: object name is not a valid Python identifier: 'sim_100_p_rew_0.1_start_10_dq_2'; it does not match the pattern ``^[a-zA-Z_][a-zA-Z0-9_]*$``; you will not be able to use natural naming to access this object; using ``getattr()`` will still work, though\n",
      "  NaturalNameWarning)\n"
     ]
    },
    {
     "name": "stdout",
     "output_type": "stream",
     "text": [
      "(sim,lamb_da,p_rew,w_minus,start,dose_quantity) =  (100, 0.10000000000000002, 1.0, 1.0, 1, 0.1)\n",
      "{98}\n",
      "sim_100_p_rew_1_start_1_dq_0.1\n"
     ]
    },
    {
     "name": "stderr",
     "output_type": "stream",
     "text": [
      "/home/aiyappa/anaconda3/lib/python3.7/site-packages/tables/path.py:112: NaturalNameWarning: object name is not a valid Python identifier: 'sim_100_p_rew_1_start_1_dq_0.1'; it does not match the pattern ``^[a-zA-Z_][a-zA-Z0-9_]*$``; you will not be able to use natural naming to access this object; using ``getattr()`` will still work, though\n",
      "  NaturalNameWarning)\n"
     ]
    },
    {
     "name": "stdout",
     "output_type": "stream",
     "text": [
      "(sim,lamb_da,p_rew,w_minus,start,dose_quantity) =  (100, 0.10000000000000002, 1.0, 1.0, 1, 2)\n",
      "{78}\n",
      "sim_100_p_rew_1_start_1_dq_2\n",
      "(sim,lamb_da,p_rew,w_minus,start,dose_quantity) =  (100, 0.10000000000000002, 1.0, 1.0, 10, 0.1)\n",
      "{32, 99, 68, 8, 9, 80, 53, 87, 91, 31}\n",
      "sim_100_p_rew_1_start_10_dq_0.1\n"
     ]
    },
    {
     "name": "stderr",
     "output_type": "stream",
     "text": [
      "/home/aiyappa/anaconda3/lib/python3.7/site-packages/tables/path.py:112: NaturalNameWarning: object name is not a valid Python identifier: 'sim_100_p_rew_1_start_10_dq_0.1'; it does not match the pattern ``^[a-zA-Z_][a-zA-Z0-9_]*$``; you will not be able to use natural naming to access this object; using ``getattr()`` will still work, though\n",
      "  NaturalNameWarning)\n"
     ]
    },
    {
     "name": "stdout",
     "output_type": "stream",
     "text": [
      "(sim,lamb_da,p_rew,w_minus,start,dose_quantity) =  (100, 0.10000000000000002, 1.0, 1.0, 10, 2)\n",
      "{32, 2, 46, 79, 16, 20, 53, 88, 91, 62}\n",
      "sim_100_p_rew_1_start_10_dq_2\n",
      "(sim,lamb_da,p_rew,w_minus,start,dose_quantity) =  (100, 1.0, 10.0, 1.0, 1, 0.1)\n",
      "{57}\n",
      "sim_100_p_rew_10_start_1_dq_0.1\n"
     ]
    },
    {
     "name": "stderr",
     "output_type": "stream",
     "text": [
      "/home/aiyappa/anaconda3/lib/python3.7/site-packages/tables/path.py:112: NaturalNameWarning: object name is not a valid Python identifier: 'sim_100_p_rew_10_start_1_dq_0.1'; it does not match the pattern ``^[a-zA-Z_][a-zA-Z0-9_]*$``; you will not be able to use natural naming to access this object; using ``getattr()`` will still work, though\n",
      "  NaturalNameWarning)\n"
     ]
    },
    {
     "name": "stdout",
     "output_type": "stream",
     "text": [
      "(sim,lamb_da,p_rew,w_minus,start,dose_quantity) =  (100, 1.0, 10.0, 1.0, 1, 2)\n",
      "{14}\n",
      "sim_100_p_rew_10_start_1_dq_2\n",
      "(sim,lamb_da,p_rew,w_minus,start,dose_quantity) =  (100, 1.0, 10.0, 1.0, 10, 0.1)\n",
      "Initial node infection step failed\n",
      "None\n",
      "Initial node infection step failed\n",
      "None\n",
      "Initial node infection step failed\n",
      "None\n",
      "Initial node infection step failed\n",
      "None\n",
      "Initial node infection step failed\n",
      "None\n",
      "Initial node infection step failed\n",
      "None\n",
      "Initial node infection step failed\n",
      "None\n",
      "Initial node infection step failed\n",
      "None\n",
      "Initial node infection step failed\n",
      "None\n",
      "Initial node infection step failed\n",
      "None\n",
      "Initial node infection step failed\n",
      "None\n",
      "{4, 70, 42, 81, 19, 55, 24, 90, 95, 63}\n",
      "sim_100_p_rew_10_start_10_dq_0.1\n"
     ]
    },
    {
     "name": "stderr",
     "output_type": "stream",
     "text": [
      "/home/aiyappa/anaconda3/lib/python3.7/site-packages/tables/path.py:112: NaturalNameWarning: object name is not a valid Python identifier: 'sim_100_p_rew_10_start_10_dq_0.1'; it does not match the pattern ``^[a-zA-Z_][a-zA-Z0-9_]*$``; you will not be able to use natural naming to access this object; using ``getattr()`` will still work, though\n",
      "  NaturalNameWarning)\n"
     ]
    },
    {
     "name": "stdout",
     "output_type": "stream",
     "text": [
      "(sim,lamb_da,p_rew,w_minus,start,dose_quantity) =  (100, 1.0, 10.0, 1.0, 10, 2)\n",
      "{32, 3, 37, 69, 74, 77, 82, 87, 62, 63}\n",
      "sim_100_p_rew_10_start_10_dq_2\n",
      "(sim,lamb_da,p_rew,w_minus,start,dose_quantity) =  (101, 0.001, 0.01, 1.0, 1, 0.1)\n",
      "{28}\n",
      "sim_101_p_rew_0.01_start_1_dq_0.1\n"
     ]
    },
    {
     "name": "stderr",
     "output_type": "stream",
     "text": [
      "/home/aiyappa/anaconda3/lib/python3.7/site-packages/tables/path.py:112: NaturalNameWarning: object name is not a valid Python identifier: 'sim_101_p_rew_0.01_start_1_dq_0.1'; it does not match the pattern ``^[a-zA-Z_][a-zA-Z0-9_]*$``; you will not be able to use natural naming to access this object; using ``getattr()`` will still work, though\n",
      "  NaturalNameWarning)\n"
     ]
    },
    {
     "name": "stdout",
     "output_type": "stream",
     "text": [
      "(sim,lamb_da,p_rew,w_minus,start,dose_quantity) =  (101, 0.001, 0.01, 1.0, 1, 2)\n",
      "{12}\n",
      "sim_101_p_rew_0.01_start_1_dq_2\n"
     ]
    },
    {
     "name": "stderr",
     "output_type": "stream",
     "text": [
      "/home/aiyappa/anaconda3/lib/python3.7/site-packages/tables/path.py:112: NaturalNameWarning: object name is not a valid Python identifier: 'sim_101_p_rew_0.01_start_1_dq_2'; it does not match the pattern ``^[a-zA-Z_][a-zA-Z0-9_]*$``; you will not be able to use natural naming to access this object; using ``getattr()`` will still work, though\n",
      "  NaturalNameWarning)\n"
     ]
    },
    {
     "name": "stdout",
     "output_type": "stream",
     "text": [
      "(sim,lamb_da,p_rew,w_minus,start,dose_quantity) =  (101, 0.001, 0.01, 1.0, 10, 0.1)\n",
      "Initial node infection step failed\n",
      "None\n",
      "{96, 32, 97, 4, 8, 10, 18, 86, 62, 31}\n",
      "sim_101_p_rew_0.01_start_10_dq_0.1\n"
     ]
    },
    {
     "name": "stderr",
     "output_type": "stream",
     "text": [
      "/home/aiyappa/anaconda3/lib/python3.7/site-packages/tables/path.py:112: NaturalNameWarning: object name is not a valid Python identifier: 'sim_101_p_rew_0.01_start_10_dq_0.1'; it does not match the pattern ``^[a-zA-Z_][a-zA-Z0-9_]*$``; you will not be able to use natural naming to access this object; using ``getattr()`` will still work, though\n",
      "  NaturalNameWarning)\n"
     ]
    },
    {
     "name": "stdout",
     "output_type": "stream",
     "text": [
      "(sim,lamb_da,p_rew,w_minus,start,dose_quantity) =  (101, 0.001, 0.01, 1.0, 10, 2)\n",
      "{68, 27, 73, 77, 78, 83, 56, 26, 91, 61}\n",
      "sim_101_p_rew_0.01_start_10_dq_2\n"
     ]
    },
    {
     "name": "stderr",
     "output_type": "stream",
     "text": [
      "/home/aiyappa/anaconda3/lib/python3.7/site-packages/tables/path.py:112: NaturalNameWarning: object name is not a valid Python identifier: 'sim_101_p_rew_0.01_start_10_dq_2'; it does not match the pattern ``^[a-zA-Z_][a-zA-Z0-9_]*$``; you will not be able to use natural naming to access this object; using ``getattr()`` will still work, though\n",
      "  NaturalNameWarning)\n"
     ]
    },
    {
     "name": "stdout",
     "output_type": "stream",
     "text": [
      "(sim,lamb_da,p_rew,w_minus,start,dose_quantity) =  (101, 0.01, 0.10000000000000002, 1.0, 1, 0.1)\n",
      "{80}\n",
      "sim_101_p_rew_0.1_start_1_dq_0.1\n"
     ]
    },
    {
     "name": "stderr",
     "output_type": "stream",
     "text": [
      "/home/aiyappa/anaconda3/lib/python3.7/site-packages/tables/path.py:112: NaturalNameWarning: object name is not a valid Python identifier: 'sim_101_p_rew_0.1_start_1_dq_0.1'; it does not match the pattern ``^[a-zA-Z_][a-zA-Z0-9_]*$``; you will not be able to use natural naming to access this object; using ``getattr()`` will still work, though\n",
      "  NaturalNameWarning)\n"
     ]
    },
    {
     "name": "stdout",
     "output_type": "stream",
     "text": [
      "(sim,lamb_da,p_rew,w_minus,start,dose_quantity) =  (101, 0.01, 0.10000000000000002, 1.0, 1, 2)\n",
      "{85}\n",
      "sim_101_p_rew_0.1_start_1_dq_2\n"
     ]
    },
    {
     "name": "stderr",
     "output_type": "stream",
     "text": [
      "/home/aiyappa/anaconda3/lib/python3.7/site-packages/tables/path.py:112: NaturalNameWarning: object name is not a valid Python identifier: 'sim_101_p_rew_0.1_start_1_dq_2'; it does not match the pattern ``^[a-zA-Z_][a-zA-Z0-9_]*$``; you will not be able to use natural naming to access this object; using ``getattr()`` will still work, though\n",
      "  NaturalNameWarning)\n"
     ]
    },
    {
     "name": "stdout",
     "output_type": "stream",
     "text": [
      "(sim,lamb_da,p_rew,w_minus,start,dose_quantity) =  (101, 0.01, 0.10000000000000002, 1.0, 10, 0.1)\n",
      "{70, 11, 12, 13, 14, 16, 19, 22, 62, 63}\n",
      "sim_101_p_rew_0.1_start_10_dq_0.1\n"
     ]
    },
    {
     "name": "stderr",
     "output_type": "stream",
     "text": [
      "/home/aiyappa/anaconda3/lib/python3.7/site-packages/tables/path.py:112: NaturalNameWarning: object name is not a valid Python identifier: 'sim_101_p_rew_0.1_start_10_dq_0.1'; it does not match the pattern ``^[a-zA-Z_][a-zA-Z0-9_]*$``; you will not be able to use natural naming to access this object; using ``getattr()`` will still work, though\n",
      "  NaturalNameWarning)\n"
     ]
    },
    {
     "name": "stdout",
     "output_type": "stream",
     "text": [
      "(sim,lamb_da,p_rew,w_minus,start,dose_quantity) =  (101, 0.01, 0.10000000000000002, 1.0, 10, 2)\n",
      "{32, 33, 4, 40, 41, 44, 83, 59, 92, 61}\n",
      "sim_101_p_rew_0.1_start_10_dq_2\n"
     ]
    },
    {
     "name": "stderr",
     "output_type": "stream",
     "text": [
      "/home/aiyappa/anaconda3/lib/python3.7/site-packages/tables/path.py:112: NaturalNameWarning: object name is not a valid Python identifier: 'sim_101_p_rew_0.1_start_10_dq_2'; it does not match the pattern ``^[a-zA-Z_][a-zA-Z0-9_]*$``; you will not be able to use natural naming to access this object; using ``getattr()`` will still work, though\n",
      "  NaturalNameWarning)\n"
     ]
    },
    {
     "name": "stdout",
     "output_type": "stream",
     "text": [
      "(sim,lamb_da,p_rew,w_minus,start,dose_quantity) =  (101, 0.10000000000000002, 1.0, 1.0, 1, 0.1)\n",
      "{95}\n",
      "sim_101_p_rew_1_start_1_dq_0.1\n"
     ]
    },
    {
     "name": "stderr",
     "output_type": "stream",
     "text": [
      "/home/aiyappa/anaconda3/lib/python3.7/site-packages/tables/path.py:112: NaturalNameWarning: object name is not a valid Python identifier: 'sim_101_p_rew_1_start_1_dq_0.1'; it does not match the pattern ``^[a-zA-Z_][a-zA-Z0-9_]*$``; you will not be able to use natural naming to access this object; using ``getattr()`` will still work, though\n",
      "  NaturalNameWarning)\n"
     ]
    },
    {
     "name": "stdout",
     "output_type": "stream",
     "text": [
      "(sim,lamb_da,p_rew,w_minus,start,dose_quantity) =  (101, 0.10000000000000002, 1.0, 1.0, 1, 2)\n",
      "{2}\n",
      "sim_101_p_rew_1_start_1_dq_2\n",
      "(sim,lamb_da,p_rew,w_minus,start,dose_quantity) =  (101, 0.10000000000000002, 1.0, 1.0, 10, 0.1)\n",
      "Initial node infection step failed\n",
      "None\n",
      "Initial node infection step failed\n",
      "None\n",
      "Initial node infection step failed\n",
      "None\n",
      "Initial node infection step failed\n",
      "None\n",
      "{0, 34, 35, 36, 16, 83, 84, 20, 53, 92}\n",
      "sim_101_p_rew_1_start_10_dq_0.1\n"
     ]
    },
    {
     "name": "stderr",
     "output_type": "stream",
     "text": [
      "/home/aiyappa/anaconda3/lib/python3.7/site-packages/tables/path.py:112: NaturalNameWarning: object name is not a valid Python identifier: 'sim_101_p_rew_1_start_10_dq_0.1'; it does not match the pattern ``^[a-zA-Z_][a-zA-Z0-9_]*$``; you will not be able to use natural naming to access this object; using ``getattr()`` will still work, though\n",
      "  NaturalNameWarning)\n"
     ]
    },
    {
     "name": "stdout",
     "output_type": "stream",
     "text": [
      "(sim,lamb_da,p_rew,w_minus,start,dose_quantity) =  (101, 0.10000000000000002, 1.0, 1.0, 10, 2)\n",
      "{66, 73, 77, 46, 78, 49, 18, 54, 87, 92}\n",
      "sim_101_p_rew_1_start_10_dq_2\n",
      "(sim,lamb_da,p_rew,w_minus,start,dose_quantity) =  (101, 1.0, 10.0, 1.0, 1, 0.1)\n",
      "{79}\n",
      "sim_101_p_rew_10_start_1_dq_0.1\n"
     ]
    },
    {
     "name": "stderr",
     "output_type": "stream",
     "text": [
      "/home/aiyappa/anaconda3/lib/python3.7/site-packages/tables/path.py:112: NaturalNameWarning: object name is not a valid Python identifier: 'sim_101_p_rew_10_start_1_dq_0.1'; it does not match the pattern ``^[a-zA-Z_][a-zA-Z0-9_]*$``; you will not be able to use natural naming to access this object; using ``getattr()`` will still work, though\n",
      "  NaturalNameWarning)\n"
     ]
    },
    {
     "name": "stdout",
     "output_type": "stream",
     "text": [
      "(sim,lamb_da,p_rew,w_minus,start,dose_quantity) =  (101, 1.0, 10.0, 1.0, 1, 2)\n",
      "{40}\n",
      "sim_101_p_rew_10_start_1_dq_2\n",
      "(sim,lamb_da,p_rew,w_minus,start,dose_quantity) =  (101, 1.0, 10.0, 1.0, 10, 0.1)\n",
      "Initial node infection step failed\n",
      "None\n",
      "Initial node infection step failed\n",
      "None\n",
      "Initial node infection step failed\n",
      "None\n",
      "Initial node infection step failed\n",
      "None\n",
      "Initial node infection step failed\n",
      "None\n",
      "Initial node infection step failed\n",
      "None\n",
      "Initial node infection step failed\n",
      "None\n",
      "{34, 39, 13, 78, 14, 18, 83, 53, 21, 63}\n",
      "sim_101_p_rew_10_start_10_dq_0.1\n"
     ]
    },
    {
     "name": "stderr",
     "output_type": "stream",
     "text": [
      "/home/aiyappa/anaconda3/lib/python3.7/site-packages/tables/path.py:112: NaturalNameWarning: object name is not a valid Python identifier: 'sim_101_p_rew_10_start_10_dq_0.1'; it does not match the pattern ``^[a-zA-Z_][a-zA-Z0-9_]*$``; you will not be able to use natural naming to access this object; using ``getattr()`` will still work, though\n",
      "  NaturalNameWarning)\n"
     ]
    },
    {
     "name": "stdout",
     "output_type": "stream",
     "text": [
      "(sim,lamb_da,p_rew,w_minus,start,dose_quantity) =  (101, 1.0, 10.0, 1.0, 10, 2)\n",
      "{34, 66, 39, 73, 45, 15, 51, 83, 59, 92}\n",
      "sim_101_p_rew_10_start_10_dq_2\n",
      "(sim,lamb_da,p_rew,w_minus,start,dose_quantity) =  (102, 0.001, 0.01, 1.0, 1, 0.1)\n",
      "{6}\n",
      "sim_102_p_rew_0.01_start_1_dq_0.1\n"
     ]
    },
    {
     "name": "stderr",
     "output_type": "stream",
     "text": [
      "/home/aiyappa/anaconda3/lib/python3.7/site-packages/tables/path.py:112: NaturalNameWarning: object name is not a valid Python identifier: 'sim_102_p_rew_0.01_start_1_dq_0.1'; it does not match the pattern ``^[a-zA-Z_][a-zA-Z0-9_]*$``; you will not be able to use natural naming to access this object; using ``getattr()`` will still work, though\n",
      "  NaturalNameWarning)\n"
     ]
    },
    {
     "name": "stdout",
     "output_type": "stream",
     "text": [
      "(sim,lamb_da,p_rew,w_minus,start,dose_quantity) =  (102, 0.001, 0.01, 1.0, 1, 2)\n",
      "{69}\n",
      "sim_102_p_rew_0.01_start_1_dq_2\n"
     ]
    },
    {
     "name": "stderr",
     "output_type": "stream",
     "text": [
      "/home/aiyappa/anaconda3/lib/python3.7/site-packages/tables/path.py:112: NaturalNameWarning: object name is not a valid Python identifier: 'sim_102_p_rew_0.01_start_1_dq_2'; it does not match the pattern ``^[a-zA-Z_][a-zA-Z0-9_]*$``; you will not be able to use natural naming to access this object; using ``getattr()`` will still work, though\n",
      "  NaturalNameWarning)\n"
     ]
    },
    {
     "name": "stdout",
     "output_type": "stream",
     "text": [
      "(sim,lamb_da,p_rew,w_minus,start,dose_quantity) =  (102, 0.001, 0.01, 1.0, 10, 0.1)\n",
      "Initial node infection step failed\n",
      "None\n",
      "Initial node infection step failed\n",
      "None\n",
      "Initial node infection step failed\n",
      "None\n",
      "{33, 71, 40, 9, 77, 79, 80, 51, 87, 30}\n",
      "sim_102_p_rew_0.01_start_10_dq_0.1\n"
     ]
    },
    {
     "name": "stderr",
     "output_type": "stream",
     "text": [
      "/home/aiyappa/anaconda3/lib/python3.7/site-packages/tables/path.py:112: NaturalNameWarning: object name is not a valid Python identifier: 'sim_102_p_rew_0.01_start_10_dq_0.1'; it does not match the pattern ``^[a-zA-Z_][a-zA-Z0-9_]*$``; you will not be able to use natural naming to access this object; using ``getattr()`` will still work, though\n",
      "  NaturalNameWarning)\n"
     ]
    },
    {
     "name": "stdout",
     "output_type": "stream",
     "text": [
      "(sim,lamb_da,p_rew,w_minus,start,dose_quantity) =  (102, 0.001, 0.01, 1.0, 10, 2)\n",
      "{97, 66, 38, 72, 74, 44, 12, 80, 50, 93}\n",
      "sim_102_p_rew_0.01_start_10_dq_2\n"
     ]
    },
    {
     "name": "stderr",
     "output_type": "stream",
     "text": [
      "/home/aiyappa/anaconda3/lib/python3.7/site-packages/tables/path.py:112: NaturalNameWarning: object name is not a valid Python identifier: 'sim_102_p_rew_0.01_start_10_dq_2'; it does not match the pattern ``^[a-zA-Z_][a-zA-Z0-9_]*$``; you will not be able to use natural naming to access this object; using ``getattr()`` will still work, though\n",
      "  NaturalNameWarning)\n"
     ]
    },
    {
     "name": "stdout",
     "output_type": "stream",
     "text": [
      "(sim,lamb_da,p_rew,w_minus,start,dose_quantity) =  (102, 0.01, 0.10000000000000002, 1.0, 1, 0.1)\n",
      "{78}\n",
      "sim_102_p_rew_0.1_start_1_dq_0.1\n"
     ]
    },
    {
     "name": "stderr",
     "output_type": "stream",
     "text": [
      "/home/aiyappa/anaconda3/lib/python3.7/site-packages/tables/path.py:112: NaturalNameWarning: object name is not a valid Python identifier: 'sim_102_p_rew_0.1_start_1_dq_0.1'; it does not match the pattern ``^[a-zA-Z_][a-zA-Z0-9_]*$``; you will not be able to use natural naming to access this object; using ``getattr()`` will still work, though\n",
      "  NaturalNameWarning)\n"
     ]
    },
    {
     "name": "stdout",
     "output_type": "stream",
     "text": [
      "(sim,lamb_da,p_rew,w_minus,start,dose_quantity) =  (102, 0.01, 0.10000000000000002, 1.0, 1, 2)\n",
      "{26}\n",
      "sim_102_p_rew_0.1_start_1_dq_2\n"
     ]
    },
    {
     "name": "stderr",
     "output_type": "stream",
     "text": [
      "/home/aiyappa/anaconda3/lib/python3.7/site-packages/tables/path.py:112: NaturalNameWarning: object name is not a valid Python identifier: 'sim_102_p_rew_0.1_start_1_dq_2'; it does not match the pattern ``^[a-zA-Z_][a-zA-Z0-9_]*$``; you will not be able to use natural naming to access this object; using ``getattr()`` will still work, though\n",
      "  NaturalNameWarning)\n"
     ]
    },
    {
     "name": "stdout",
     "output_type": "stream",
     "text": [
      "(sim,lamb_da,p_rew,w_minus,start,dose_quantity) =  (102, 0.01, 0.10000000000000002, 1.0, 10, 0.1)\n",
      "Initial node infection step failed\n",
      "None\n",
      "Initial node infection step failed\n",
      "None\n",
      "{96, 67, 99, 5, 38, 9, 75, 76, 77, 90}\n",
      "sim_102_p_rew_0.1_start_10_dq_0.1\n"
     ]
    },
    {
     "name": "stderr",
     "output_type": "stream",
     "text": [
      "/home/aiyappa/anaconda3/lib/python3.7/site-packages/tables/path.py:112: NaturalNameWarning: object name is not a valid Python identifier: 'sim_102_p_rew_0.1_start_10_dq_0.1'; it does not match the pattern ``^[a-zA-Z_][a-zA-Z0-9_]*$``; you will not be able to use natural naming to access this object; using ``getattr()`` will still work, though\n",
      "  NaturalNameWarning)\n"
     ]
    },
    {
     "name": "stdout",
     "output_type": "stream",
     "text": [
      "(sim,lamb_da,p_rew,w_minus,start,dose_quantity) =  (102, 0.01, 0.10000000000000002, 1.0, 10, 2)\n",
      "{66, 36, 43, 47, 83, 20, 86, 87, 93, 62}\n",
      "sim_102_p_rew_0.1_start_10_dq_2\n"
     ]
    },
    {
     "name": "stderr",
     "output_type": "stream",
     "text": [
      "/home/aiyappa/anaconda3/lib/python3.7/site-packages/tables/path.py:112: NaturalNameWarning: object name is not a valid Python identifier: 'sim_102_p_rew_0.1_start_10_dq_2'; it does not match the pattern ``^[a-zA-Z_][a-zA-Z0-9_]*$``; you will not be able to use natural naming to access this object; using ``getattr()`` will still work, though\n",
      "  NaturalNameWarning)\n"
     ]
    },
    {
     "name": "stdout",
     "output_type": "stream",
     "text": [
      "(sim,lamb_da,p_rew,w_minus,start,dose_quantity) =  (102, 0.10000000000000002, 1.0, 1.0, 1, 0.1)\n",
      "{8}\n",
      "sim_102_p_rew_1_start_1_dq_0.1\n"
     ]
    },
    {
     "name": "stderr",
     "output_type": "stream",
     "text": [
      "/home/aiyappa/anaconda3/lib/python3.7/site-packages/tables/path.py:112: NaturalNameWarning: object name is not a valid Python identifier: 'sim_102_p_rew_1_start_1_dq_0.1'; it does not match the pattern ``^[a-zA-Z_][a-zA-Z0-9_]*$``; you will not be able to use natural naming to access this object; using ``getattr()`` will still work, though\n",
      "  NaturalNameWarning)\n"
     ]
    },
    {
     "name": "stdout",
     "output_type": "stream",
     "text": [
      "(sim,lamb_da,p_rew,w_minus,start,dose_quantity) =  (102, 0.10000000000000002, 1.0, 1.0, 1, 2)\n",
      "{91}\n",
      "sim_102_p_rew_1_start_1_dq_2\n",
      "(sim,lamb_da,p_rew,w_minus,start,dose_quantity) =  (102, 0.10000000000000002, 1.0, 1.0, 10, 0.1)\n",
      "{65, 2, 79, 80, 49, 18, 83, 53, 87, 91}\n",
      "sim_102_p_rew_1_start_10_dq_0.1\n"
     ]
    },
    {
     "name": "stderr",
     "output_type": "stream",
     "text": [
      "/home/aiyappa/anaconda3/lib/python3.7/site-packages/tables/path.py:112: NaturalNameWarning: object name is not a valid Python identifier: 'sim_102_p_rew_1_start_10_dq_0.1'; it does not match the pattern ``^[a-zA-Z_][a-zA-Z0-9_]*$``; you will not be able to use natural naming to access this object; using ``getattr()`` will still work, though\n",
      "  NaturalNameWarning)\n"
     ]
    },
    {
     "name": "stdout",
     "output_type": "stream",
     "text": [
      "(sim,lamb_da,p_rew,w_minus,start,dose_quantity) =  (102, 0.10000000000000002, 1.0, 1.0, 10, 2)\n",
      "{65, 97, 35, 68, 39, 73, 44, 56, 89, 29}\n",
      "sim_102_p_rew_1_start_10_dq_2\n",
      "(sim,lamb_da,p_rew,w_minus,start,dose_quantity) =  (102, 1.0, 10.0, 1.0, 1, 0.1)\n",
      "{25}\n",
      "sim_102_p_rew_10_start_1_dq_0.1\n"
     ]
    },
    {
     "name": "stderr",
     "output_type": "stream",
     "text": [
      "/home/aiyappa/anaconda3/lib/python3.7/site-packages/tables/path.py:112: NaturalNameWarning: object name is not a valid Python identifier: 'sim_102_p_rew_10_start_1_dq_0.1'; it does not match the pattern ``^[a-zA-Z_][a-zA-Z0-9_]*$``; you will not be able to use natural naming to access this object; using ``getattr()`` will still work, though\n",
      "  NaturalNameWarning)\n"
     ]
    },
    {
     "name": "stdout",
     "output_type": "stream",
     "text": [
      "(sim,lamb_da,p_rew,w_minus,start,dose_quantity) =  (102, 1.0, 10.0, 1.0, 1, 2)\n",
      "{1}\n",
      "sim_102_p_rew_10_start_1_dq_2\n",
      "(sim,lamb_da,p_rew,w_minus,start,dose_quantity) =  (102, 1.0, 10.0, 1.0, 10, 0.1)\n",
      "Initial node infection step failed\n",
      "None\n",
      "Initial node infection step failed\n",
      "None\n",
      "Initial node infection step failed\n",
      "None\n",
      "Initial node infection step failed\n",
      "None\n",
      "Initial node infection step failed\n",
      "None\n",
      "Initial node infection step failed\n",
      "None\n",
      "{0, 33, 34, 5, 40, 44, 20, 89, 61, 62}\n",
      "sim_102_p_rew_10_start_10_dq_0.1\n"
     ]
    },
    {
     "name": "stderr",
     "output_type": "stream",
     "text": [
      "/home/aiyappa/anaconda3/lib/python3.7/site-packages/tables/path.py:112: NaturalNameWarning: object name is not a valid Python identifier: 'sim_102_p_rew_10_start_10_dq_0.1'; it does not match the pattern ``^[a-zA-Z_][a-zA-Z0-9_]*$``; you will not be able to use natural naming to access this object; using ``getattr()`` will still work, though\n",
      "  NaturalNameWarning)\n"
     ]
    },
    {
     "name": "stdout",
     "output_type": "stream",
     "text": [
      "(sim,lamb_da,p_rew,w_minus,start,dose_quantity) =  (102, 1.0, 10.0, 1.0, 10, 2)\n",
      "{3, 67, 11, 77, 16, 81, 21, 56, 90, 28}\n",
      "sim_102_p_rew_10_start_10_dq_2\n",
      "(sim,lamb_da,p_rew,w_minus,start,dose_quantity) =  (103, 0.001, 0.01, 1.0, 1, 0.1)\n",
      "{43}\n",
      "sim_103_p_rew_0.01_start_1_dq_0.1\n"
     ]
    },
    {
     "name": "stderr",
     "output_type": "stream",
     "text": [
      "/home/aiyappa/anaconda3/lib/python3.7/site-packages/tables/path.py:112: NaturalNameWarning: object name is not a valid Python identifier: 'sim_103_p_rew_0.01_start_1_dq_0.1'; it does not match the pattern ``^[a-zA-Z_][a-zA-Z0-9_]*$``; you will not be able to use natural naming to access this object; using ``getattr()`` will still work, though\n",
      "  NaturalNameWarning)\n"
     ]
    },
    {
     "name": "stdout",
     "output_type": "stream",
     "text": [
      "(sim,lamb_da,p_rew,w_minus,start,dose_quantity) =  (103, 0.001, 0.01, 1.0, 1, 2)\n",
      "{66}\n",
      "sim_103_p_rew_0.01_start_1_dq_2\n"
     ]
    },
    {
     "name": "stderr",
     "output_type": "stream",
     "text": [
      "/home/aiyappa/anaconda3/lib/python3.7/site-packages/tables/path.py:112: NaturalNameWarning: object name is not a valid Python identifier: 'sim_103_p_rew_0.01_start_1_dq_2'; it does not match the pattern ``^[a-zA-Z_][a-zA-Z0-9_]*$``; you will not be able to use natural naming to access this object; using ``getattr()`` will still work, though\n",
      "  NaturalNameWarning)\n"
     ]
    },
    {
     "name": "stdout",
     "output_type": "stream",
     "text": [
      "(sim,lamb_da,p_rew,w_minus,start,dose_quantity) =  (103, 0.001, 0.01, 1.0, 10, 0.1)\n",
      "Initial node infection step failed\n",
      "None\n",
      "Initial node infection step failed\n",
      "None\n",
      "{0, 66, 72, 41, 45, 48, 54, 58, 59, 60}\n",
      "sim_103_p_rew_0.01_start_10_dq_0.1\n"
     ]
    },
    {
     "name": "stderr",
     "output_type": "stream",
     "text": [
      "/home/aiyappa/anaconda3/lib/python3.7/site-packages/tables/path.py:112: NaturalNameWarning: object name is not a valid Python identifier: 'sim_103_p_rew_0.01_start_10_dq_0.1'; it does not match the pattern ``^[a-zA-Z_][a-zA-Z0-9_]*$``; you will not be able to use natural naming to access this object; using ``getattr()`` will still work, though\n",
      "  NaturalNameWarning)\n"
     ]
    },
    {
     "name": "stdout",
     "output_type": "stream",
     "text": [
      "(sim,lamb_da,p_rew,w_minus,start,dose_quantity) =  (103, 0.001, 0.01, 1.0, 10, 2)\n",
      "{33, 5, 69, 8, 42, 45, 16, 23, 63, 31}\n",
      "sim_103_p_rew_0.01_start_10_dq_2\n"
     ]
    },
    {
     "name": "stderr",
     "output_type": "stream",
     "text": [
      "/home/aiyappa/anaconda3/lib/python3.7/site-packages/tables/path.py:112: NaturalNameWarning: object name is not a valid Python identifier: 'sim_103_p_rew_0.01_start_10_dq_2'; it does not match the pattern ``^[a-zA-Z_][a-zA-Z0-9_]*$``; you will not be able to use natural naming to access this object; using ``getattr()`` will still work, though\n",
      "  NaturalNameWarning)\n"
     ]
    },
    {
     "name": "stdout",
     "output_type": "stream",
     "text": [
      "(sim,lamb_da,p_rew,w_minus,start,dose_quantity) =  (103, 0.01, 0.10000000000000002, 1.0, 1, 0.1)\n",
      "{37}\n",
      "sim_103_p_rew_0.1_start_1_dq_0.1\n"
     ]
    },
    {
     "name": "stderr",
     "output_type": "stream",
     "text": [
      "/home/aiyappa/anaconda3/lib/python3.7/site-packages/tables/path.py:112: NaturalNameWarning: object name is not a valid Python identifier: 'sim_103_p_rew_0.1_start_1_dq_0.1'; it does not match the pattern ``^[a-zA-Z_][a-zA-Z0-9_]*$``; you will not be able to use natural naming to access this object; using ``getattr()`` will still work, though\n",
      "  NaturalNameWarning)\n"
     ]
    },
    {
     "name": "stdout",
     "output_type": "stream",
     "text": [
      "(sim,lamb_da,p_rew,w_minus,start,dose_quantity) =  (103, 0.01, 0.10000000000000002, 1.0, 1, 2)\n",
      "{68}\n",
      "sim_103_p_rew_0.1_start_1_dq_2\n"
     ]
    },
    {
     "name": "stderr",
     "output_type": "stream",
     "text": [
      "/home/aiyappa/anaconda3/lib/python3.7/site-packages/tables/path.py:112: NaturalNameWarning: object name is not a valid Python identifier: 'sim_103_p_rew_0.1_start_1_dq_2'; it does not match the pattern ``^[a-zA-Z_][a-zA-Z0-9_]*$``; you will not be able to use natural naming to access this object; using ``getattr()`` will still work, though\n",
      "  NaturalNameWarning)\n"
     ]
    },
    {
     "name": "stdout",
     "output_type": "stream",
     "text": [
      "(sim,lamb_da,p_rew,w_minus,start,dose_quantity) =  (103, 0.01, 0.10000000000000002, 1.0, 10, 0.1)\n",
      "{2, 27, 42, 75, 47, 53, 26, 91, 93, 62}\n",
      "sim_103_p_rew_0.1_start_10_dq_0.1\n"
     ]
    },
    {
     "name": "stderr",
     "output_type": "stream",
     "text": [
      "/home/aiyappa/anaconda3/lib/python3.7/site-packages/tables/path.py:112: NaturalNameWarning: object name is not a valid Python identifier: 'sim_103_p_rew_0.1_start_10_dq_0.1'; it does not match the pattern ``^[a-zA-Z_][a-zA-Z0-9_]*$``; you will not be able to use natural naming to access this object; using ``getattr()`` will still work, though\n",
      "  NaturalNameWarning)\n"
     ]
    },
    {
     "name": "stdout",
     "output_type": "stream",
     "text": [
      "(sim,lamb_da,p_rew,w_minus,start,dose_quantity) =  (103, 0.01, 0.10000000000000002, 1.0, 10, 2)\n",
      "{68, 36, 38, 39, 73, 42, 17, 50, 52, 90}\n",
      "sim_103_p_rew_0.1_start_10_dq_2\n"
     ]
    },
    {
     "name": "stderr",
     "output_type": "stream",
     "text": [
      "/home/aiyappa/anaconda3/lib/python3.7/site-packages/tables/path.py:112: NaturalNameWarning: object name is not a valid Python identifier: 'sim_103_p_rew_0.1_start_10_dq_2'; it does not match the pattern ``^[a-zA-Z_][a-zA-Z0-9_]*$``; you will not be able to use natural naming to access this object; using ``getattr()`` will still work, though\n",
      "  NaturalNameWarning)\n"
     ]
    },
    {
     "name": "stdout",
     "output_type": "stream",
     "text": [
      "(sim,lamb_da,p_rew,w_minus,start,dose_quantity) =  (103, 0.10000000000000002, 1.0, 1.0, 1, 0.1)\n",
      "{46}\n",
      "sim_103_p_rew_1_start_1_dq_0.1\n"
     ]
    },
    {
     "name": "stderr",
     "output_type": "stream",
     "text": [
      "/home/aiyappa/anaconda3/lib/python3.7/site-packages/tables/path.py:112: NaturalNameWarning: object name is not a valid Python identifier: 'sim_103_p_rew_1_start_1_dq_0.1'; it does not match the pattern ``^[a-zA-Z_][a-zA-Z0-9_]*$``; you will not be able to use natural naming to access this object; using ``getattr()`` will still work, though\n",
      "  NaturalNameWarning)\n"
     ]
    },
    {
     "name": "stdout",
     "output_type": "stream",
     "text": [
      "(sim,lamb_da,p_rew,w_minus,start,dose_quantity) =  (103, 0.10000000000000002, 1.0, 1.0, 1, 2)\n",
      "{6}\n",
      "sim_103_p_rew_1_start_1_dq_2\n",
      "(sim,lamb_da,p_rew,w_minus,start,dose_quantity) =  (103, 0.10000000000000002, 1.0, 1.0, 10, 0.1)\n",
      "Initial node infection step failed\n",
      "None\n",
      "Initial node infection step failed\n",
      "None\n",
      "Initial node infection step failed\n",
      "None\n",
      "Initial node infection step failed\n",
      "None\n",
      "{2, 3, 70, 72, 44, 47, 18, 53, 85, 21}\n",
      "sim_103_p_rew_1_start_10_dq_0.1\n"
     ]
    },
    {
     "name": "stderr",
     "output_type": "stream",
     "text": [
      "/home/aiyappa/anaconda3/lib/python3.7/site-packages/tables/path.py:112: NaturalNameWarning: object name is not a valid Python identifier: 'sim_103_p_rew_1_start_10_dq_0.1'; it does not match the pattern ``^[a-zA-Z_][a-zA-Z0-9_]*$``; you will not be able to use natural naming to access this object; using ``getattr()`` will still work, though\n",
      "  NaturalNameWarning)\n"
     ]
    },
    {
     "name": "stdout",
     "output_type": "stream",
     "text": [
      "(sim,lamb_da,p_rew,w_minus,start,dose_quantity) =  (103, 0.10000000000000002, 1.0, 1.0, 10, 2)\n",
      "{65, 2, 35, 69, 39, 78, 51, 54, 90, 28}\n",
      "sim_103_p_rew_1_start_10_dq_2\n",
      "(sim,lamb_da,p_rew,w_minus,start,dose_quantity) =  (103, 1.0, 10.0, 1.0, 1, 0.1)\n",
      "{8}\n",
      "sim_103_p_rew_10_start_1_dq_0.1\n"
     ]
    },
    {
     "name": "stderr",
     "output_type": "stream",
     "text": [
      "/home/aiyappa/anaconda3/lib/python3.7/site-packages/tables/path.py:112: NaturalNameWarning: object name is not a valid Python identifier: 'sim_103_p_rew_10_start_1_dq_0.1'; it does not match the pattern ``^[a-zA-Z_][a-zA-Z0-9_]*$``; you will not be able to use natural naming to access this object; using ``getattr()`` will still work, though\n",
      "  NaturalNameWarning)\n"
     ]
    },
    {
     "name": "stdout",
     "output_type": "stream",
     "text": [
      "(sim,lamb_da,p_rew,w_minus,start,dose_quantity) =  (103, 1.0, 10.0, 1.0, 1, 2)\n",
      "{10}\n",
      "sim_103_p_rew_10_start_1_dq_2\n",
      "(sim,lamb_da,p_rew,w_minus,start,dose_quantity) =  (103, 1.0, 10.0, 1.0, 10, 0.1)\n",
      "Initial node infection step failed\n",
      "None\n",
      "Initial node infection step failed\n",
      "None\n",
      "Initial node infection step failed\n",
      "None\n",
      "Initial node infection step failed\n",
      "None\n",
      "Initial node infection step failed\n",
      "None\n",
      "Initial node infection step failed\n",
      "None\n",
      "Initial node infection step failed\n",
      "None\n",
      "Initial node infection step failed\n",
      "None\n",
      "Initial node infection step failed\n",
      "None\n",
      "Initial node infection step failed\n",
      "None\n",
      "Initial node infection step failed\n",
      "None\n",
      "Initial node infection step failed\n",
      "None\n",
      "Initial node infection step failed\n",
      "None\n",
      "Initial node infection step failed\n",
      "None\n",
      "Initial node infection step failed\n",
      "None\n",
      "Initial node infection step failed\n",
      "None\n",
      "Initial node infection step failed\n",
      "None\n",
      "Initial node infection step failed\n",
      "None\n",
      "Initial node infection step failed\n",
      "None\n",
      "Initial node infection step failed\n",
      "None\n",
      "Initial node infection step failed\n",
      "None\n",
      "Initial node infection step failed\n",
      "None\n",
      "Initial node infection step failed\n",
      "None\n",
      "Initial node infection step failed\n",
      "None\n",
      "Initial node infection step failed\n",
      "None\n",
      "Initial node infection step failed\n",
      "None\n",
      "Initial node infection step failed\n",
      "None\n",
      "Initial node infection step failed\n",
      "None\n",
      "Initial node infection step failed\n",
      "None\n",
      "Initial node infection step failed\n",
      "None\n",
      "Initial node infection step failed\n",
      "None\n",
      "Initial node infection step failed\n",
      "None\n",
      "Initial node infection step failed\n",
      "None\n",
      "Initial node infection step failed\n",
      "None\n",
      "Initial node infection step failed\n",
      "None\n",
      "Initial node infection step failed\n",
      "None\n",
      "Initial node infection step failed\n",
      "None\n",
      "Initial node infection step failed\n",
      "None\n",
      "Initial node infection step failed\n",
      "None\n",
      "Initial node infection step failed\n",
      "None\n",
      "Initial node infection step failed\n",
      "None\n",
      "Initial node infection step failed\n",
      "None\n",
      "Initial node infection step failed\n",
      "None\n",
      "Initial node infection step failed\n",
      "None\n",
      "Initial node infection step failed\n",
      "None\n",
      "Initial node infection step failed\n",
      "None\n",
      "Initial node infection step failed\n",
      "None\n",
      "Initial node infection step failed\n",
      "None\n",
      "Initial node infection step failed\n",
      "None\n",
      "Initial node infection step failed\n",
      "None\n",
      "Initial node infection step failed\n",
      "None\n",
      "Initial node infection step failed\n",
      "None\n",
      "Initial node infection step failed\n",
      "None\n",
      "Initial node infection step failed\n",
      "None\n",
      "Initial node infection step failed\n",
      "None\n",
      "Initial node infection step failed\n",
      "None\n",
      "Initial node infection step failed\n",
      "None\n",
      "Initial node infection step failed\n",
      "None\n",
      "Initial node infection step failed\n",
      "None\n",
      "Initial node infection step failed\n",
      "None\n",
      "Initial node infection step failed\n",
      "None\n",
      "Initial node infection step failed\n",
      "None\n",
      "Initial node infection step failed\n",
      "None\n",
      "Initial node infection step failed\n",
      "None\n",
      "Initial node infection step failed\n",
      "None\n",
      "Initial node infection step failed\n",
      "None\n",
      "Initial node infection step failed\n",
      "None\n",
      "Initial node infection step failed\n",
      "None\n",
      "Initial node infection step failed\n",
      "None\n",
      "Initial node infection step failed\n",
      "None\n",
      "Initial node infection step failed\n",
      "None\n",
      "Initial node infection step failed\n",
      "None\n",
      "Initial node infection step failed\n",
      "None\n",
      "Initial node infection step failed\n",
      "None\n",
      "Initial node infection step failed\n",
      "None\n",
      "Initial node infection step failed\n",
      "None\n",
      "Initial node infection step failed\n",
      "None\n",
      "Initial node infection step failed\n",
      "None\n",
      "Initial node infection step failed\n",
      "None\n",
      "Initial node infection step failed\n",
      "None\n",
      "Initial node infection step failed\n",
      "None\n",
      "Initial node infection step failed\n",
      "None\n",
      "Initial node infection step failed\n",
      "None\n",
      "{65, 34, 69, 76, 78, 14, 16, 18, 88, 25}\n",
      "sim_103_p_rew_10_start_10_dq_0.1\n"
     ]
    },
    {
     "name": "stderr",
     "output_type": "stream",
     "text": [
      "/home/aiyappa/anaconda3/lib/python3.7/site-packages/tables/path.py:112: NaturalNameWarning: object name is not a valid Python identifier: 'sim_103_p_rew_10_start_10_dq_0.1'; it does not match the pattern ``^[a-zA-Z_][a-zA-Z0-9_]*$``; you will not be able to use natural naming to access this object; using ``getattr()`` will still work, though\n",
      "  NaturalNameWarning)\n"
     ]
    },
    {
     "name": "stdout",
     "output_type": "stream",
     "text": [
      "(sim,lamb_da,p_rew,w_minus,start,dose_quantity) =  (103, 1.0, 10.0, 1.0, 10, 2)\n",
      "{97, 3, 37, 6, 72, 13, 46, 81, 84, 24}\n",
      "sim_103_p_rew_10_start_10_dq_2\n",
      "(sim,lamb_da,p_rew,w_minus,start,dose_quantity) =  (104, 0.001, 0.01, 1.0, 1, 0.1)\n",
      "{83}\n",
      "sim_104_p_rew_0.01_start_1_dq_0.1\n"
     ]
    },
    {
     "name": "stderr",
     "output_type": "stream",
     "text": [
      "/home/aiyappa/anaconda3/lib/python3.7/site-packages/tables/path.py:112: NaturalNameWarning: object name is not a valid Python identifier: 'sim_104_p_rew_0.01_start_1_dq_0.1'; it does not match the pattern ``^[a-zA-Z_][a-zA-Z0-9_]*$``; you will not be able to use natural naming to access this object; using ``getattr()`` will still work, though\n",
      "  NaturalNameWarning)\n"
     ]
    },
    {
     "name": "stdout",
     "output_type": "stream",
     "text": [
      "(sim,lamb_da,p_rew,w_minus,start,dose_quantity) =  (104, 0.001, 0.01, 1.0, 1, 2)\n",
      "{69}\n",
      "sim_104_p_rew_0.01_start_1_dq_2\n"
     ]
    },
    {
     "name": "stderr",
     "output_type": "stream",
     "text": [
      "/home/aiyappa/anaconda3/lib/python3.7/site-packages/tables/path.py:112: NaturalNameWarning: object name is not a valid Python identifier: 'sim_104_p_rew_0.01_start_1_dq_2'; it does not match the pattern ``^[a-zA-Z_][a-zA-Z0-9_]*$``; you will not be able to use natural naming to access this object; using ``getattr()`` will still work, though\n",
      "  NaturalNameWarning)\n"
     ]
    },
    {
     "name": "stdout",
     "output_type": "stream",
     "text": [
      "(sim,lamb_da,p_rew,w_minus,start,dose_quantity) =  (104, 0.001, 0.01, 1.0, 10, 0.1)\n",
      "{66, 3, 98, 8, 76, 77, 78, 59, 93, 94}\n",
      "sim_104_p_rew_0.01_start_10_dq_0.1\n"
     ]
    },
    {
     "name": "stderr",
     "output_type": "stream",
     "text": [
      "/home/aiyappa/anaconda3/lib/python3.7/site-packages/tables/path.py:112: NaturalNameWarning: object name is not a valid Python identifier: 'sim_104_p_rew_0.01_start_10_dq_0.1'; it does not match the pattern ``^[a-zA-Z_][a-zA-Z0-9_]*$``; you will not be able to use natural naming to access this object; using ``getattr()`` will still work, though\n",
      "  NaturalNameWarning)\n"
     ]
    },
    {
     "name": "stdout",
     "output_type": "stream",
     "text": [
      "(sim,lamb_da,p_rew,w_minus,start,dose_quantity) =  (104, 0.001, 0.01, 1.0, 10, 2)\n",
      "{8, 44, 77, 17, 81, 50, 85, 22, 56, 60}\n",
      "sim_104_p_rew_0.01_start_10_dq_2\n"
     ]
    },
    {
     "name": "stderr",
     "output_type": "stream",
     "text": [
      "/home/aiyappa/anaconda3/lib/python3.7/site-packages/tables/path.py:112: NaturalNameWarning: object name is not a valid Python identifier: 'sim_104_p_rew_0.01_start_10_dq_2'; it does not match the pattern ``^[a-zA-Z_][a-zA-Z0-9_]*$``; you will not be able to use natural naming to access this object; using ``getattr()`` will still work, though\n",
      "  NaturalNameWarning)\n"
     ]
    },
    {
     "name": "stdout",
     "output_type": "stream",
     "text": [
      "(sim,lamb_da,p_rew,w_minus,start,dose_quantity) =  (104, 0.01, 0.10000000000000002, 1.0, 1, 0.1)\n",
      "{99}\n",
      "sim_104_p_rew_0.1_start_1_dq_0.1\n"
     ]
    },
    {
     "name": "stderr",
     "output_type": "stream",
     "text": [
      "/home/aiyappa/anaconda3/lib/python3.7/site-packages/tables/path.py:112: NaturalNameWarning: object name is not a valid Python identifier: 'sim_104_p_rew_0.1_start_1_dq_0.1'; it does not match the pattern ``^[a-zA-Z_][a-zA-Z0-9_]*$``; you will not be able to use natural naming to access this object; using ``getattr()`` will still work, though\n",
      "  NaturalNameWarning)\n"
     ]
    },
    {
     "name": "stdout",
     "output_type": "stream",
     "text": [
      "(sim,lamb_da,p_rew,w_minus,start,dose_quantity) =  (104, 0.01, 0.10000000000000002, 1.0, 1, 2)\n",
      "{82}\n",
      "sim_104_p_rew_0.1_start_1_dq_2\n"
     ]
    },
    {
     "name": "stderr",
     "output_type": "stream",
     "text": [
      "/home/aiyappa/anaconda3/lib/python3.7/site-packages/tables/path.py:112: NaturalNameWarning: object name is not a valid Python identifier: 'sim_104_p_rew_0.1_start_1_dq_2'; it does not match the pattern ``^[a-zA-Z_][a-zA-Z0-9_]*$``; you will not be able to use natural naming to access this object; using ``getattr()`` will still work, though\n",
      "  NaturalNameWarning)\n"
     ]
    },
    {
     "name": "stdout",
     "output_type": "stream",
     "text": [
      "(sim,lamb_da,p_rew,w_minus,start,dose_quantity) =  (104, 0.01, 0.10000000000000002, 1.0, 10, 0.1)\n",
      "Initial node infection step failed\n",
      "None\n",
      "{97, 65, 68, 4, 41, 44, 47, 50, 19, 29}\n",
      "sim_104_p_rew_0.1_start_10_dq_0.1\n"
     ]
    },
    {
     "name": "stderr",
     "output_type": "stream",
     "text": [
      "/home/aiyappa/anaconda3/lib/python3.7/site-packages/tables/path.py:112: NaturalNameWarning: object name is not a valid Python identifier: 'sim_104_p_rew_0.1_start_10_dq_0.1'; it does not match the pattern ``^[a-zA-Z_][a-zA-Z0-9_]*$``; you will not be able to use natural naming to access this object; using ``getattr()`` will still work, though\n",
      "  NaturalNameWarning)\n"
     ]
    },
    {
     "name": "stdout",
     "output_type": "stream",
     "text": [
      "(sim,lamb_da,p_rew,w_minus,start,dose_quantity) =  (104, 0.01, 0.10000000000000002, 1.0, 10, 2)\n",
      "{0, 2, 73, 12, 60, 54, 22, 90, 28, 61}\n",
      "sim_104_p_rew_0.1_start_10_dq_2\n"
     ]
    },
    {
     "name": "stderr",
     "output_type": "stream",
     "text": [
      "/home/aiyappa/anaconda3/lib/python3.7/site-packages/tables/path.py:112: NaturalNameWarning: object name is not a valid Python identifier: 'sim_104_p_rew_0.1_start_10_dq_2'; it does not match the pattern ``^[a-zA-Z_][a-zA-Z0-9_]*$``; you will not be able to use natural naming to access this object; using ``getattr()`` will still work, though\n",
      "  NaturalNameWarning)\n"
     ]
    },
    {
     "name": "stdout",
     "output_type": "stream",
     "text": [
      "(sim,lamb_da,p_rew,w_minus,start,dose_quantity) =  (104, 0.10000000000000002, 1.0, 1.0, 1, 0.1)\n",
      "{31}\n",
      "sim_104_p_rew_1_start_1_dq_0.1\n"
     ]
    },
    {
     "name": "stderr",
     "output_type": "stream",
     "text": [
      "/home/aiyappa/anaconda3/lib/python3.7/site-packages/tables/path.py:112: NaturalNameWarning: object name is not a valid Python identifier: 'sim_104_p_rew_1_start_1_dq_0.1'; it does not match the pattern ``^[a-zA-Z_][a-zA-Z0-9_]*$``; you will not be able to use natural naming to access this object; using ``getattr()`` will still work, though\n",
      "  NaturalNameWarning)\n"
     ]
    },
    {
     "name": "stdout",
     "output_type": "stream",
     "text": [
      "(sim,lamb_da,p_rew,w_minus,start,dose_quantity) =  (104, 0.10000000000000002, 1.0, 1.0, 1, 2)\n",
      "{68}\n",
      "sim_104_p_rew_1_start_1_dq_2\n",
      "(sim,lamb_da,p_rew,w_minus,start,dose_quantity) =  (104, 0.10000000000000002, 1.0, 1.0, 10, 0.1)\n",
      "Initial node infection step failed\n",
      "None\n",
      "{96, 65, 9, 59, 45, 47, 81, 18, 56, 91}\n",
      "sim_104_p_rew_1_start_10_dq_0.1\n"
     ]
    },
    {
     "name": "stderr",
     "output_type": "stream",
     "text": [
      "/home/aiyappa/anaconda3/lib/python3.7/site-packages/tables/path.py:112: NaturalNameWarning: object name is not a valid Python identifier: 'sim_104_p_rew_1_start_10_dq_0.1'; it does not match the pattern ``^[a-zA-Z_][a-zA-Z0-9_]*$``; you will not be able to use natural naming to access this object; using ``getattr()`` will still work, though\n",
      "  NaturalNameWarning)\n"
     ]
    },
    {
     "name": "stdout",
     "output_type": "stream",
     "text": [
      "(sim,lamb_da,p_rew,w_minus,start,dose_quantity) =  (104, 0.10000000000000002, 1.0, 1.0, 10, 2)\n",
      "{32, 4, 38, 75, 84, 21, 88, 59, 92, 94}\n",
      "sim_104_p_rew_1_start_10_dq_2\n",
      "(sim,lamb_da,p_rew,w_minus,start,dose_quantity) =  (104, 1.0, 10.0, 1.0, 1, 0.1)\n",
      "{68}\n",
      "sim_104_p_rew_10_start_1_dq_0.1\n"
     ]
    },
    {
     "name": "stderr",
     "output_type": "stream",
     "text": [
      "/home/aiyappa/anaconda3/lib/python3.7/site-packages/tables/path.py:112: NaturalNameWarning: object name is not a valid Python identifier: 'sim_104_p_rew_10_start_1_dq_0.1'; it does not match the pattern ``^[a-zA-Z_][a-zA-Z0-9_]*$``; you will not be able to use natural naming to access this object; using ``getattr()`` will still work, though\n",
      "  NaturalNameWarning)\n"
     ]
    },
    {
     "name": "stdout",
     "output_type": "stream",
     "text": [
      "(sim,lamb_da,p_rew,w_minus,start,dose_quantity) =  (104, 1.0, 10.0, 1.0, 1, 2)\n",
      "{52}\n",
      "sim_104_p_rew_10_start_1_dq_2\n",
      "(sim,lamb_da,p_rew,w_minus,start,dose_quantity) =  (104, 1.0, 10.0, 1.0, 10, 0.1)\n",
      "Initial node infection step failed\n",
      "None\n",
      "Initial node infection step failed\n",
      "None\n",
      "Initial node infection step failed\n",
      "None\n",
      "Initial node infection step failed\n",
      "None\n",
      "Initial node infection step failed\n",
      "None\n",
      "Initial node infection step failed\n",
      "None\n",
      "{0, 3, 69, 41, 43, 44, 78, 23, 58, 30}\n",
      "sim_104_p_rew_10_start_10_dq_0.1\n"
     ]
    },
    {
     "name": "stderr",
     "output_type": "stream",
     "text": [
      "/home/aiyappa/anaconda3/lib/python3.7/site-packages/tables/path.py:112: NaturalNameWarning: object name is not a valid Python identifier: 'sim_104_p_rew_10_start_10_dq_0.1'; it does not match the pattern ``^[a-zA-Z_][a-zA-Z0-9_]*$``; you will not be able to use natural naming to access this object; using ``getattr()`` will still work, though\n",
      "  NaturalNameWarning)\n"
     ]
    },
    {
     "name": "stdout",
     "output_type": "stream",
     "text": [
      "(sim,lamb_da,p_rew,w_minus,start,dose_quantity) =  (104, 1.0, 10.0, 1.0, 10, 2)\n",
      "{96, 33, 35, 36, 67, 6, 12, 58, 60, 95}\n",
      "sim_104_p_rew_10_start_10_dq_2\n",
      "(sim,lamb_da,p_rew,w_minus,start,dose_quantity) =  (105, 0.001, 0.01, 1.0, 1, 0.1)\n",
      "{57}\n",
      "sim_105_p_rew_0.01_start_1_dq_0.1\n"
     ]
    },
    {
     "name": "stderr",
     "output_type": "stream",
     "text": [
      "/home/aiyappa/anaconda3/lib/python3.7/site-packages/tables/path.py:112: NaturalNameWarning: object name is not a valid Python identifier: 'sim_105_p_rew_0.01_start_1_dq_0.1'; it does not match the pattern ``^[a-zA-Z_][a-zA-Z0-9_]*$``; you will not be able to use natural naming to access this object; using ``getattr()`` will still work, though\n",
      "  NaturalNameWarning)\n"
     ]
    },
    {
     "name": "stdout",
     "output_type": "stream",
     "text": [
      "(sim,lamb_da,p_rew,w_minus,start,dose_quantity) =  (105, 0.001, 0.01, 1.0, 1, 2)\n",
      "{98}\n",
      "sim_105_p_rew_0.01_start_1_dq_2\n"
     ]
    },
    {
     "name": "stderr",
     "output_type": "stream",
     "text": [
      "/home/aiyappa/anaconda3/lib/python3.7/site-packages/tables/path.py:112: NaturalNameWarning: object name is not a valid Python identifier: 'sim_105_p_rew_0.01_start_1_dq_2'; it does not match the pattern ``^[a-zA-Z_][a-zA-Z0-9_]*$``; you will not be able to use natural naming to access this object; using ``getattr()`` will still work, though\n",
      "  NaturalNameWarning)\n"
     ]
    },
    {
     "name": "stdout",
     "output_type": "stream",
     "text": [
      "(sim,lamb_da,p_rew,w_minus,start,dose_quantity) =  (105, 0.001, 0.01, 1.0, 10, 0.1)\n",
      "{67, 68, 71, 41, 43, 47, 53, 27, 92, 29}\n",
      "sim_105_p_rew_0.01_start_10_dq_0.1\n"
     ]
    },
    {
     "name": "stderr",
     "output_type": "stream",
     "text": [
      "/home/aiyappa/anaconda3/lib/python3.7/site-packages/tables/path.py:112: NaturalNameWarning: object name is not a valid Python identifier: 'sim_105_p_rew_0.01_start_10_dq_0.1'; it does not match the pattern ``^[a-zA-Z_][a-zA-Z0-9_]*$``; you will not be able to use natural naming to access this object; using ``getattr()`` will still work, though\n",
      "  NaturalNameWarning)\n"
     ]
    },
    {
     "name": "stdout",
     "output_type": "stream",
     "text": [
      "(sim,lamb_da,p_rew,w_minus,start,dose_quantity) =  (105, 0.001, 0.01, 1.0, 10, 2)\n",
      "{33, 66, 38, 39, 9, 78, 14, 49, 18, 94}\n",
      "sim_105_p_rew_0.01_start_10_dq_2\n"
     ]
    },
    {
     "name": "stderr",
     "output_type": "stream",
     "text": [
      "/home/aiyappa/anaconda3/lib/python3.7/site-packages/tables/path.py:112: NaturalNameWarning: object name is not a valid Python identifier: 'sim_105_p_rew_0.01_start_10_dq_2'; it does not match the pattern ``^[a-zA-Z_][a-zA-Z0-9_]*$``; you will not be able to use natural naming to access this object; using ``getattr()`` will still work, though\n",
      "  NaturalNameWarning)\n"
     ]
    },
    {
     "name": "stdout",
     "output_type": "stream",
     "text": [
      "(sim,lamb_da,p_rew,w_minus,start,dose_quantity) =  (105, 0.01, 0.10000000000000002, 1.0, 1, 0.1)\n",
      "{29}\n",
      "sim_105_p_rew_0.1_start_1_dq_0.1\n"
     ]
    },
    {
     "name": "stderr",
     "output_type": "stream",
     "text": [
      "/home/aiyappa/anaconda3/lib/python3.7/site-packages/tables/path.py:112: NaturalNameWarning: object name is not a valid Python identifier: 'sim_105_p_rew_0.1_start_1_dq_0.1'; it does not match the pattern ``^[a-zA-Z_][a-zA-Z0-9_]*$``; you will not be able to use natural naming to access this object; using ``getattr()`` will still work, though\n",
      "  NaturalNameWarning)\n"
     ]
    },
    {
     "name": "stdout",
     "output_type": "stream",
     "text": [
      "(sim,lamb_da,p_rew,w_minus,start,dose_quantity) =  (105, 0.01, 0.10000000000000002, 1.0, 1, 2)\n",
      "{29}\n",
      "sim_105_p_rew_0.1_start_1_dq_2\n"
     ]
    },
    {
     "name": "stderr",
     "output_type": "stream",
     "text": [
      "/home/aiyappa/anaconda3/lib/python3.7/site-packages/tables/path.py:112: NaturalNameWarning: object name is not a valid Python identifier: 'sim_105_p_rew_0.1_start_1_dq_2'; it does not match the pattern ``^[a-zA-Z_][a-zA-Z0-9_]*$``; you will not be able to use natural naming to access this object; using ``getattr()`` will still work, though\n",
      "  NaturalNameWarning)\n"
     ]
    },
    {
     "name": "stdout",
     "output_type": "stream",
     "text": [
      "(sim,lamb_da,p_rew,w_minus,start,dose_quantity) =  (105, 0.01, 0.10000000000000002, 1.0, 10, 0.1)\n",
      "Initial node infection step failed\n",
      "None\n",
      "Initial node infection step failed\n",
      "None\n",
      "Initial node infection step failed\n",
      "None\n",
      "{70, 7, 72, 8, 10, 41, 44, 47, 49, 91}\n",
      "sim_105_p_rew_0.1_start_10_dq_0.1\n"
     ]
    },
    {
     "name": "stderr",
     "output_type": "stream",
     "text": [
      "/home/aiyappa/anaconda3/lib/python3.7/site-packages/tables/path.py:112: NaturalNameWarning: object name is not a valid Python identifier: 'sim_105_p_rew_0.1_start_10_dq_0.1'; it does not match the pattern ``^[a-zA-Z_][a-zA-Z0-9_]*$``; you will not be able to use natural naming to access this object; using ``getattr()`` will still work, though\n",
      "  NaturalNameWarning)\n"
     ]
    },
    {
     "name": "stdout",
     "output_type": "stream",
     "text": [
      "(sim,lamb_da,p_rew,w_minus,start,dose_quantity) =  (105, 0.01, 0.10000000000000002, 1.0, 10, 2)\n",
      "{0, 35, 38, 39, 76, 46, 82, 28, 61, 95}\n",
      "sim_105_p_rew_0.1_start_10_dq_2\n"
     ]
    },
    {
     "name": "stderr",
     "output_type": "stream",
     "text": [
      "/home/aiyappa/anaconda3/lib/python3.7/site-packages/tables/path.py:112: NaturalNameWarning: object name is not a valid Python identifier: 'sim_105_p_rew_0.1_start_10_dq_2'; it does not match the pattern ``^[a-zA-Z_][a-zA-Z0-9_]*$``; you will not be able to use natural naming to access this object; using ``getattr()`` will still work, though\n",
      "  NaturalNameWarning)\n"
     ]
    },
    {
     "name": "stdout",
     "output_type": "stream",
     "text": [
      "(sim,lamb_da,p_rew,w_minus,start,dose_quantity) =  (105, 0.10000000000000002, 1.0, 1.0, 1, 0.1)\n",
      "{43}\n",
      "sim_105_p_rew_1_start_1_dq_0.1\n"
     ]
    },
    {
     "name": "stderr",
     "output_type": "stream",
     "text": [
      "/home/aiyappa/anaconda3/lib/python3.7/site-packages/tables/path.py:112: NaturalNameWarning: object name is not a valid Python identifier: 'sim_105_p_rew_1_start_1_dq_0.1'; it does not match the pattern ``^[a-zA-Z_][a-zA-Z0-9_]*$``; you will not be able to use natural naming to access this object; using ``getattr()`` will still work, though\n",
      "  NaturalNameWarning)\n"
     ]
    },
    {
     "name": "stdout",
     "output_type": "stream",
     "text": [
      "(sim,lamb_da,p_rew,w_minus,start,dose_quantity) =  (105, 0.10000000000000002, 1.0, 1.0, 1, 2)\n",
      "{42}\n",
      "sim_105_p_rew_1_start_1_dq_2\n",
      "(sim,lamb_da,p_rew,w_minus,start,dose_quantity) =  (105, 0.10000000000000002, 1.0, 1.0, 10, 0.1)\n",
      "Initial node infection step failed\n",
      "None\n",
      "{0, 98, 74, 75, 10, 49, 20, 58, 91, 94}\n",
      "sim_105_p_rew_1_start_10_dq_0.1\n"
     ]
    },
    {
     "name": "stderr",
     "output_type": "stream",
     "text": [
      "/home/aiyappa/anaconda3/lib/python3.7/site-packages/tables/path.py:112: NaturalNameWarning: object name is not a valid Python identifier: 'sim_105_p_rew_1_start_10_dq_0.1'; it does not match the pattern ``^[a-zA-Z_][a-zA-Z0-9_]*$``; you will not be able to use natural naming to access this object; using ``getattr()`` will still work, though\n",
      "  NaturalNameWarning)\n"
     ]
    },
    {
     "name": "stdout",
     "output_type": "stream",
     "text": [
      "(sim,lamb_da,p_rew,w_minus,start,dose_quantity) =  (105, 0.10000000000000002, 1.0, 1.0, 10, 2)\n",
      "{32, 97, 66, 9, 44, 15, 85, 22, 87, 88}\n",
      "sim_105_p_rew_1_start_10_dq_2\n",
      "(sim,lamb_da,p_rew,w_minus,start,dose_quantity) =  (105, 1.0, 10.0, 1.0, 1, 0.1)\n",
      "{65}\n",
      "sim_105_p_rew_10_start_1_dq_0.1\n"
     ]
    },
    {
     "name": "stderr",
     "output_type": "stream",
     "text": [
      "/home/aiyappa/anaconda3/lib/python3.7/site-packages/tables/path.py:112: NaturalNameWarning: object name is not a valid Python identifier: 'sim_105_p_rew_10_start_1_dq_0.1'; it does not match the pattern ``^[a-zA-Z_][a-zA-Z0-9_]*$``; you will not be able to use natural naming to access this object; using ``getattr()`` will still work, though\n",
      "  NaturalNameWarning)\n"
     ]
    },
    {
     "name": "stdout",
     "output_type": "stream",
     "text": [
      "(sim,lamb_da,p_rew,w_minus,start,dose_quantity) =  (105, 1.0, 10.0, 1.0, 1, 2)\n",
      "{10}\n",
      "sim_105_p_rew_10_start_1_dq_2\n",
      "(sim,lamb_da,p_rew,w_minus,start,dose_quantity) =  (105, 1.0, 10.0, 1.0, 10, 0.1)\n",
      "Initial node infection step failed\n",
      "None\n",
      "Initial node infection step failed\n",
      "None\n",
      "Initial node infection step failed\n",
      "None\n",
      "Initial node infection step failed\n",
      "None\n",
      "Initial node infection step failed\n",
      "None\n",
      "Initial node infection step failed\n",
      "None\n",
      "Initial node infection step failed\n",
      "None\n",
      "Initial node infection step failed\n",
      "None\n",
      "Initial node infection step failed\n",
      "None\n",
      "Initial node infection step failed\n",
      "None\n",
      "Initial node infection step failed\n",
      "None\n",
      "Initial node infection step failed\n",
      "None\n",
      "{98, 99, 34, 69, 6, 41, 12, 44, 14, 88}\n",
      "sim_105_p_rew_10_start_10_dq_0.1\n"
     ]
    },
    {
     "name": "stderr",
     "output_type": "stream",
     "text": [
      "/home/aiyappa/anaconda3/lib/python3.7/site-packages/tables/path.py:112: NaturalNameWarning: object name is not a valid Python identifier: 'sim_105_p_rew_10_start_10_dq_0.1'; it does not match the pattern ``^[a-zA-Z_][a-zA-Z0-9_]*$``; you will not be able to use natural naming to access this object; using ``getattr()`` will still work, though\n",
      "  NaturalNameWarning)\n"
     ]
    },
    {
     "name": "stdout",
     "output_type": "stream",
     "text": [
      "(sim,lamb_da,p_rew,w_minus,start,dose_quantity) =  (105, 1.0, 10.0, 1.0, 10, 2)\n",
      "{1, 2, 11, 81, 49, 20, 84, 86, 93, 95}\n",
      "sim_105_p_rew_10_start_10_dq_2\n",
      "(sim,lamb_da,p_rew,w_minus,start,dose_quantity) =  (106, 0.001, 0.01, 1.0, 1, 0.1)\n",
      "{88}\n",
      "sim_106_p_rew_0.01_start_1_dq_0.1\n"
     ]
    },
    {
     "name": "stderr",
     "output_type": "stream",
     "text": [
      "/home/aiyappa/anaconda3/lib/python3.7/site-packages/tables/path.py:112: NaturalNameWarning: object name is not a valid Python identifier: 'sim_106_p_rew_0.01_start_1_dq_0.1'; it does not match the pattern ``^[a-zA-Z_][a-zA-Z0-9_]*$``; you will not be able to use natural naming to access this object; using ``getattr()`` will still work, though\n",
      "  NaturalNameWarning)\n"
     ]
    },
    {
     "name": "stdout",
     "output_type": "stream",
     "text": [
      "(sim,lamb_da,p_rew,w_minus,start,dose_quantity) =  (106, 0.001, 0.01, 1.0, 1, 2)\n",
      "{55}\n",
      "sim_106_p_rew_0.01_start_1_dq_2\n"
     ]
    },
    {
     "name": "stderr",
     "output_type": "stream",
     "text": [
      "/home/aiyappa/anaconda3/lib/python3.7/site-packages/tables/path.py:112: NaturalNameWarning: object name is not a valid Python identifier: 'sim_106_p_rew_0.01_start_1_dq_2'; it does not match the pattern ``^[a-zA-Z_][a-zA-Z0-9_]*$``; you will not be able to use natural naming to access this object; using ``getattr()`` will still work, though\n",
      "  NaturalNameWarning)\n"
     ]
    },
    {
     "name": "stdout",
     "output_type": "stream",
     "text": [
      "(sim,lamb_da,p_rew,w_minus,start,dose_quantity) =  (106, 0.001, 0.01, 1.0, 10, 0.1)\n",
      "{65, 3, 36, 10, 79, 50, 85, 54, 87, 92}\n",
      "sim_106_p_rew_0.01_start_10_dq_0.1\n"
     ]
    },
    {
     "name": "stderr",
     "output_type": "stream",
     "text": [
      "/home/aiyappa/anaconda3/lib/python3.7/site-packages/tables/path.py:112: NaturalNameWarning: object name is not a valid Python identifier: 'sim_106_p_rew_0.01_start_10_dq_0.1'; it does not match the pattern ``^[a-zA-Z_][a-zA-Z0-9_]*$``; you will not be able to use natural naming to access this object; using ``getattr()`` will still work, though\n",
      "  NaturalNameWarning)\n"
     ]
    },
    {
     "name": "stdout",
     "output_type": "stream",
     "text": [
      "(sim,lamb_da,p_rew,w_minus,start,dose_quantity) =  (106, 0.001, 0.01, 1.0, 10, 2)\n",
      "{66, 69, 37, 73, 78, 79, 16, 53, 58, 62}\n",
      "sim_106_p_rew_0.01_start_10_dq_2\n"
     ]
    },
    {
     "name": "stderr",
     "output_type": "stream",
     "text": [
      "/home/aiyappa/anaconda3/lib/python3.7/site-packages/tables/path.py:112: NaturalNameWarning: object name is not a valid Python identifier: 'sim_106_p_rew_0.01_start_10_dq_2'; it does not match the pattern ``^[a-zA-Z_][a-zA-Z0-9_]*$``; you will not be able to use natural naming to access this object; using ``getattr()`` will still work, though\n",
      "  NaturalNameWarning)\n"
     ]
    },
    {
     "name": "stdout",
     "output_type": "stream",
     "text": [
      "(sim,lamb_da,p_rew,w_minus,start,dose_quantity) =  (106, 0.01, 0.10000000000000002, 1.0, 1, 0.1)\n",
      "{78}\n",
      "sim_106_p_rew_0.1_start_1_dq_0.1\n"
     ]
    },
    {
     "name": "stderr",
     "output_type": "stream",
     "text": [
      "/home/aiyappa/anaconda3/lib/python3.7/site-packages/tables/path.py:112: NaturalNameWarning: object name is not a valid Python identifier: 'sim_106_p_rew_0.1_start_1_dq_0.1'; it does not match the pattern ``^[a-zA-Z_][a-zA-Z0-9_]*$``; you will not be able to use natural naming to access this object; using ``getattr()`` will still work, though\n",
      "  NaturalNameWarning)\n"
     ]
    },
    {
     "name": "stdout",
     "output_type": "stream",
     "text": [
      "(sim,lamb_da,p_rew,w_minus,start,dose_quantity) =  (106, 0.01, 0.10000000000000002, 1.0, 1, 2)\n",
      "{33}\n",
      "sim_106_p_rew_0.1_start_1_dq_2\n"
     ]
    },
    {
     "name": "stderr",
     "output_type": "stream",
     "text": [
      "/home/aiyappa/anaconda3/lib/python3.7/site-packages/tables/path.py:112: NaturalNameWarning: object name is not a valid Python identifier: 'sim_106_p_rew_0.1_start_1_dq_2'; it does not match the pattern ``^[a-zA-Z_][a-zA-Z0-9_]*$``; you will not be able to use natural naming to access this object; using ``getattr()`` will still work, though\n",
      "  NaturalNameWarning)\n"
     ]
    },
    {
     "name": "stdout",
     "output_type": "stream",
     "text": [
      "(sim,lamb_da,p_rew,w_minus,start,dose_quantity) =  (106, 0.01, 0.10000000000000002, 1.0, 10, 0.1)\n",
      "Initial node infection step failed\n",
      "None\n",
      "{35, 68, 9, 10, 76, 13, 82, 59, 30, 31}\n",
      "sim_106_p_rew_0.1_start_10_dq_0.1\n"
     ]
    },
    {
     "name": "stderr",
     "output_type": "stream",
     "text": [
      "/home/aiyappa/anaconda3/lib/python3.7/site-packages/tables/path.py:112: NaturalNameWarning: object name is not a valid Python identifier: 'sim_106_p_rew_0.1_start_10_dq_0.1'; it does not match the pattern ``^[a-zA-Z_][a-zA-Z0-9_]*$``; you will not be able to use natural naming to access this object; using ``getattr()`` will still work, though\n",
      "  NaturalNameWarning)\n"
     ]
    },
    {
     "name": "stdout",
     "output_type": "stream",
     "text": [
      "(sim,lamb_da,p_rew,w_minus,start,dose_quantity) =  (106, 0.01, 0.10000000000000002, 1.0, 10, 2)\n",
      "{65, 37, 72, 75, 46, 50, 86, 89, 60, 63}\n",
      "sim_106_p_rew_0.1_start_10_dq_2\n"
     ]
    },
    {
     "name": "stderr",
     "output_type": "stream",
     "text": [
      "/home/aiyappa/anaconda3/lib/python3.7/site-packages/tables/path.py:112: NaturalNameWarning: object name is not a valid Python identifier: 'sim_106_p_rew_0.1_start_10_dq_2'; it does not match the pattern ``^[a-zA-Z_][a-zA-Z0-9_]*$``; you will not be able to use natural naming to access this object; using ``getattr()`` will still work, though\n",
      "  NaturalNameWarning)\n"
     ]
    },
    {
     "name": "stdout",
     "output_type": "stream",
     "text": [
      "(sim,lamb_da,p_rew,w_minus,start,dose_quantity) =  (106, 0.10000000000000002, 1.0, 1.0, 1, 0.1)\n",
      "{52}\n",
      "sim_106_p_rew_1_start_1_dq_0.1\n"
     ]
    },
    {
     "name": "stderr",
     "output_type": "stream",
     "text": [
      "/home/aiyappa/anaconda3/lib/python3.7/site-packages/tables/path.py:112: NaturalNameWarning: object name is not a valid Python identifier: 'sim_106_p_rew_1_start_1_dq_0.1'; it does not match the pattern ``^[a-zA-Z_][a-zA-Z0-9_]*$``; you will not be able to use natural naming to access this object; using ``getattr()`` will still work, though\n",
      "  NaturalNameWarning)\n"
     ]
    },
    {
     "name": "stdout",
     "output_type": "stream",
     "text": [
      "(sim,lamb_da,p_rew,w_minus,start,dose_quantity) =  (106, 0.10000000000000002, 1.0, 1.0, 1, 2)\n",
      "{53}\n",
      "sim_106_p_rew_1_start_1_dq_2\n",
      "(sim,lamb_da,p_rew,w_minus,start,dose_quantity) =  (106, 0.10000000000000002, 1.0, 1.0, 10, 0.1)\n",
      "Initial node infection step failed\n",
      "None\n",
      "Initial node infection step failed\n",
      "None\n",
      "Initial node infection step failed\n",
      "None\n",
      "{64, 4, 11, 45, 78, 80, 54, 91, 29, 94}\n",
      "sim_106_p_rew_1_start_10_dq_0.1\n"
     ]
    },
    {
     "name": "stderr",
     "output_type": "stream",
     "text": [
      "/home/aiyappa/anaconda3/lib/python3.7/site-packages/tables/path.py:112: NaturalNameWarning: object name is not a valid Python identifier: 'sim_106_p_rew_1_start_10_dq_0.1'; it does not match the pattern ``^[a-zA-Z_][a-zA-Z0-9_]*$``; you will not be able to use natural naming to access this object; using ``getattr()`` will still work, though\n",
      "  NaturalNameWarning)\n"
     ]
    },
    {
     "name": "stdout",
     "output_type": "stream",
     "text": [
      "(sim,lamb_da,p_rew,w_minus,start,dose_quantity) =  (106, 0.10000000000000002, 1.0, 1.0, 10, 2)\n",
      "{64, 32, 69, 7, 72, 43, 83, 57, 90, 29}\n",
      "sim_106_p_rew_1_start_10_dq_2\n",
      "(sim,lamb_da,p_rew,w_minus,start,dose_quantity) =  (106, 1.0, 10.0, 1.0, 1, 0.1)\n",
      "{49}\n",
      "sim_106_p_rew_10_start_1_dq_0.1\n"
     ]
    },
    {
     "name": "stderr",
     "output_type": "stream",
     "text": [
      "/home/aiyappa/anaconda3/lib/python3.7/site-packages/tables/path.py:112: NaturalNameWarning: object name is not a valid Python identifier: 'sim_106_p_rew_10_start_1_dq_0.1'; it does not match the pattern ``^[a-zA-Z_][a-zA-Z0-9_]*$``; you will not be able to use natural naming to access this object; using ``getattr()`` will still work, though\n",
      "  NaturalNameWarning)\n"
     ]
    },
    {
     "name": "stdout",
     "output_type": "stream",
     "text": [
      "(sim,lamb_da,p_rew,w_minus,start,dose_quantity) =  (106, 1.0, 10.0, 1.0, 1, 2)\n",
      "{42}\n",
      "sim_106_p_rew_10_start_1_dq_2\n",
      "(sim,lamb_da,p_rew,w_minus,start,dose_quantity) =  (106, 1.0, 10.0, 1.0, 10, 0.1)\n",
      "Initial node infection step failed\n",
      "None\n",
      "Initial node infection step failed\n",
      "None\n",
      "Initial node infection step failed\n",
      "None\n",
      "Initial node infection step failed\n",
      "None\n",
      "Initial node infection step failed\n",
      "None\n",
      "Initial node infection step failed\n",
      "None\n",
      "Initial node infection step failed\n",
      "None\n",
      "Initial node infection step failed\n",
      "None\n",
      "Initial node infection step failed\n",
      "None\n",
      "Initial node infection step failed\n",
      "None\n",
      "Initial node infection step failed\n",
      "None\n",
      "Initial node infection step failed\n",
      "None\n",
      "Initial node infection step failed\n",
      "None\n",
      "Initial node infection step failed\n",
      "None\n",
      "Initial node infection step failed\n",
      "None\n",
      "Initial node infection step failed\n",
      "None\n",
      "Initial node infection step failed\n",
      "None\n",
      "Initial node infection step failed\n",
      "None\n",
      "Initial node infection step failed\n",
      "None\n",
      "Initial node infection step failed\n",
      "None\n",
      "Initial node infection step failed\n",
      "None\n",
      "Initial node infection step failed\n",
      "None\n",
      "Initial node infection step failed\n",
      "None\n",
      "Initial node infection step failed\n",
      "None\n",
      "Initial node infection step failed\n",
      "None\n",
      "Initial node infection step failed\n",
      "None\n",
      "{32, 66, 35, 80, 19, 83, 53, 87, 57, 90}\n",
      "sim_106_p_rew_10_start_10_dq_0.1\n"
     ]
    },
    {
     "name": "stderr",
     "output_type": "stream",
     "text": [
      "/home/aiyappa/anaconda3/lib/python3.7/site-packages/tables/path.py:112: NaturalNameWarning: object name is not a valid Python identifier: 'sim_106_p_rew_10_start_10_dq_0.1'; it does not match the pattern ``^[a-zA-Z_][a-zA-Z0-9_]*$``; you will not be able to use natural naming to access this object; using ``getattr()`` will still work, though\n",
      "  NaturalNameWarning)\n"
     ]
    },
    {
     "name": "stdout",
     "output_type": "stream",
     "text": [
      "(sim,lamb_da,p_rew,w_minus,start,dose_quantity) =  (106, 1.0, 10.0, 1.0, 10, 2)\n",
      "{33, 1, 38, 9, 45, 15, 81, 88, 26, 94}\n",
      "sim_106_p_rew_10_start_10_dq_2\n",
      "(sim,lamb_da,p_rew,w_minus,start,dose_quantity) =  (107, 0.001, 0.01, 1.0, 1, 0.1)\n",
      "{68}\n",
      "sim_107_p_rew_0.01_start_1_dq_0.1\n"
     ]
    },
    {
     "name": "stderr",
     "output_type": "stream",
     "text": [
      "/home/aiyappa/anaconda3/lib/python3.7/site-packages/tables/path.py:112: NaturalNameWarning: object name is not a valid Python identifier: 'sim_107_p_rew_0.01_start_1_dq_0.1'; it does not match the pattern ``^[a-zA-Z_][a-zA-Z0-9_]*$``; you will not be able to use natural naming to access this object; using ``getattr()`` will still work, though\n",
      "  NaturalNameWarning)\n"
     ]
    },
    {
     "name": "stdout",
     "output_type": "stream",
     "text": [
      "(sim,lamb_da,p_rew,w_minus,start,dose_quantity) =  (107, 0.001, 0.01, 1.0, 1, 2)\n",
      "{47}\n",
      "sim_107_p_rew_0.01_start_1_dq_2\n"
     ]
    },
    {
     "name": "stderr",
     "output_type": "stream",
     "text": [
      "/home/aiyappa/anaconda3/lib/python3.7/site-packages/tables/path.py:112: NaturalNameWarning: object name is not a valid Python identifier: 'sim_107_p_rew_0.01_start_1_dq_2'; it does not match the pattern ``^[a-zA-Z_][a-zA-Z0-9_]*$``; you will not be able to use natural naming to access this object; using ``getattr()`` will still work, though\n",
      "  NaturalNameWarning)\n"
     ]
    },
    {
     "name": "stdout",
     "output_type": "stream",
     "text": [
      "(sim,lamb_da,p_rew,w_minus,start,dose_quantity) =  (107, 0.001, 0.01, 1.0, 10, 0.1)\n",
      "Initial node infection step failed\n",
      "None\n",
      "Initial node infection step failed\n",
      "None\n",
      "Initial node infection step failed\n",
      "None\n",
      "{33, 69, 6, 39, 37, 78, 14, 49, 29, 94}\n",
      "sim_107_p_rew_0.01_start_10_dq_0.1\n"
     ]
    },
    {
     "name": "stderr",
     "output_type": "stream",
     "text": [
      "/home/aiyappa/anaconda3/lib/python3.7/site-packages/tables/path.py:112: NaturalNameWarning: object name is not a valid Python identifier: 'sim_107_p_rew_0.01_start_10_dq_0.1'; it does not match the pattern ``^[a-zA-Z_][a-zA-Z0-9_]*$``; you will not be able to use natural naming to access this object; using ``getattr()`` will still work, though\n",
      "  NaturalNameWarning)\n"
     ]
    },
    {
     "name": "stdout",
     "output_type": "stream",
     "text": [
      "(sim,lamb_da,p_rew,w_minus,start,dose_quantity) =  (107, 0.001, 0.01, 1.0, 10, 2)\n",
      "{65, 6, 41, 42, 43, 73, 51, 52, 23, 25}\n",
      "sim_107_p_rew_0.01_start_10_dq_2\n"
     ]
    },
    {
     "name": "stderr",
     "output_type": "stream",
     "text": [
      "/home/aiyappa/anaconda3/lib/python3.7/site-packages/tables/path.py:112: NaturalNameWarning: object name is not a valid Python identifier: 'sim_107_p_rew_0.01_start_10_dq_2'; it does not match the pattern ``^[a-zA-Z_][a-zA-Z0-9_]*$``; you will not be able to use natural naming to access this object; using ``getattr()`` will still work, though\n",
      "  NaturalNameWarning)\n"
     ]
    },
    {
     "name": "stdout",
     "output_type": "stream",
     "text": [
      "(sim,lamb_da,p_rew,w_minus,start,dose_quantity) =  (107, 0.01, 0.10000000000000002, 1.0, 1, 0.1)\n",
      "{34}\n",
      "sim_107_p_rew_0.1_start_1_dq_0.1\n"
     ]
    },
    {
     "name": "stderr",
     "output_type": "stream",
     "text": [
      "/home/aiyappa/anaconda3/lib/python3.7/site-packages/tables/path.py:112: NaturalNameWarning: object name is not a valid Python identifier: 'sim_107_p_rew_0.1_start_1_dq_0.1'; it does not match the pattern ``^[a-zA-Z_][a-zA-Z0-9_]*$``; you will not be able to use natural naming to access this object; using ``getattr()`` will still work, though\n",
      "  NaturalNameWarning)\n"
     ]
    },
    {
     "name": "stdout",
     "output_type": "stream",
     "text": [
      "(sim,lamb_da,p_rew,w_minus,start,dose_quantity) =  (107, 0.01, 0.10000000000000002, 1.0, 1, 2)\n",
      "{17}\n",
      "sim_107_p_rew_0.1_start_1_dq_2\n"
     ]
    },
    {
     "name": "stderr",
     "output_type": "stream",
     "text": [
      "/home/aiyappa/anaconda3/lib/python3.7/site-packages/tables/path.py:112: NaturalNameWarning: object name is not a valid Python identifier: 'sim_107_p_rew_0.1_start_1_dq_2'; it does not match the pattern ``^[a-zA-Z_][a-zA-Z0-9_]*$``; you will not be able to use natural naming to access this object; using ``getattr()`` will still work, though\n",
      "  NaturalNameWarning)\n"
     ]
    },
    {
     "name": "stdout",
     "output_type": "stream",
     "text": [
      "(sim,lamb_da,p_rew,w_minus,start,dose_quantity) =  (107, 0.01, 0.10000000000000002, 1.0, 10, 0.1)\n",
      "{96, 38, 9, 74, 43, 78, 80, 94, 58, 62}\n",
      "sim_107_p_rew_0.1_start_10_dq_0.1\n"
     ]
    },
    {
     "name": "stderr",
     "output_type": "stream",
     "text": [
      "/home/aiyappa/anaconda3/lib/python3.7/site-packages/tables/path.py:112: NaturalNameWarning: object name is not a valid Python identifier: 'sim_107_p_rew_0.1_start_10_dq_0.1'; it does not match the pattern ``^[a-zA-Z_][a-zA-Z0-9_]*$``; you will not be able to use natural naming to access this object; using ``getattr()`` will still work, though\n",
      "  NaturalNameWarning)\n"
     ]
    },
    {
     "name": "stdout",
     "output_type": "stream",
     "text": [
      "(sim,lamb_da,p_rew,w_minus,start,dose_quantity) =  (107, 0.01, 0.10000000000000002, 1.0, 10, 2)\n",
      "{67, 37, 70, 69, 7, 43, 81, 20, 85, 55}\n",
      "sim_107_p_rew_0.1_start_10_dq_2\n"
     ]
    },
    {
     "name": "stderr",
     "output_type": "stream",
     "text": [
      "/home/aiyappa/anaconda3/lib/python3.7/site-packages/tables/path.py:112: NaturalNameWarning: object name is not a valid Python identifier: 'sim_107_p_rew_0.1_start_10_dq_2'; it does not match the pattern ``^[a-zA-Z_][a-zA-Z0-9_]*$``; you will not be able to use natural naming to access this object; using ``getattr()`` will still work, though\n",
      "  NaturalNameWarning)\n"
     ]
    },
    {
     "name": "stdout",
     "output_type": "stream",
     "text": [
      "(sim,lamb_da,p_rew,w_minus,start,dose_quantity) =  (107, 0.10000000000000002, 1.0, 1.0, 1, 0.1)\n",
      "{80}\n",
      "sim_107_p_rew_1_start_1_dq_0.1\n"
     ]
    },
    {
     "name": "stderr",
     "output_type": "stream",
     "text": [
      "/home/aiyappa/anaconda3/lib/python3.7/site-packages/tables/path.py:112: NaturalNameWarning: object name is not a valid Python identifier: 'sim_107_p_rew_1_start_1_dq_0.1'; it does not match the pattern ``^[a-zA-Z_][a-zA-Z0-9_]*$``; you will not be able to use natural naming to access this object; using ``getattr()`` will still work, though\n",
      "  NaturalNameWarning)\n"
     ]
    }
   ],
   "source": [
    "for sim in range(70,70+50) :\n",
    "    '''returns coordinates, distance matrix, edge_list and the adjacency matrix'''\n",
    "    dist_mat,coords = calc_dist(N) #node placement\n",
    "    edge_list = rand_net_gnm(total_edges,N)\n",
    "    org_adj_mat = np.int64(np.zeros((N,N)))\n",
    "    for i in range(len(edge_list)):\n",
    "        org_adj_mat[edge_list[i][0],edge_list[i][1]] = np.int64(1)\n",
    "        \n",
    "    df_row = 0\n",
    "    for p_rew in p_rew_vals : #rate of rewiring (per unit time (second))\n",
    "        lamb_da = p_rew/10\n",
    "        lamb_da = lamb_da*dt\n",
    "        p_rew = p_rew*dt\n",
    "        for start in start_vals : #rate of dose transfer (per unit time (second))\n",
    "            for dose_quantity in dose_quantity_vals : #number of nodes to infect initially\n",
    "                print('(sim,lamb_da,p_rew,w_minus,start,dose_quantity) = ', (sim,lamb_da/dt,p_rew/dt,w_minus/dt,start,dose_quantity))\n",
    "\n",
    "                '''clearing exsiting data frames and creating new ones '''\n",
    "                timeseries_infec_frac = pd.DataFrame()\n",
    "                timeseries_in_degree = pd.DataFrame()\n",
    "                timeseries_out_degree = pd.DataFrame()\n",
    "                timeseries_connec_comps = pd.DataFrame()\n",
    "\n",
    "                q = 0 #to generate new edge_list from the new adjacency matrix \n",
    "                t = np.arange(0,T,dt)\n",
    "\n",
    "    #             numpy_array = np.zeros((N,len(t)),dtype = np.int64) #stores the states of the nodes. Rows are nodes and columns are time steps\n",
    "                D_array = np.zeros((N,len(t))) #stores the cumulative doses. Rows are nodes and columns are time steps\n",
    "\n",
    "                adj_mat_list = []\n",
    "                adj_mat = org_adj_mat\n",
    "                adj_mat_new = copy.deepcopy(adj_mat)\n",
    "                adj_mat_list.append(adj_mat_new) #list of arrays which shows the time series of the adjacency matrix\n",
    "\n",
    "                #coords remain the same. Get new edge_list from the latest adjacency matrix\n",
    "                edge_list = edge_from_adj_mat(adj_mat_list,q)\n",
    "                G = networkx_graph(coords,edge_list) #networkx graph\n",
    "\n",
    "                '''from G, obtain the in degree and the out degree'''\n",
    "                timeseries_in_degree.loc[:,0] = np.asarray([val for (node, val) in G.in_degree()])\n",
    "                timeseries_out_degree.loc[:,0] = np.asarray([val for (node, val) in G.out_degree()])\n",
    "\n",
    "                '''strongly and weekely connected components'''\n",
    "                timeseries_connec_comps.loc[0,0] = nx.number_connected_components(G.to_undirected())\n",
    "\n",
    "                '''choosing initially infected nodes'''\n",
    "                indi_state = np.random.randint(1,2,size=(N,1))\n",
    "                infected_nodes = None\n",
    "                while infected_nodes is None : #infecting 'start' number of network neighbours\n",
    "                    infected_nodes = InfectNetworkNeighbors(G,np.random.randint(N),start)\n",
    "                    print(infected_nodes)\n",
    "                infected_nodes = np.asarray(list(infected_nodes)).reshape(len(infected_nodes),1)\n",
    "                indi_state[infected_nodes[:,0],0] = 2\n",
    "\n",
    "                A,B = np.meshgrid(indi_state,indi_state) \n",
    "                partner_state = A\n",
    "                indi_state_for_rew = B\n",
    "\n",
    "    #             numpy_array [:,0] = indi_state[:,0]\n",
    "\n",
    "                indi_state_prev = indi_state\n",
    "                partner_state_prev = partner_state\n",
    "                indi_state_for_rew_prev = indi_state_for_rew\n",
    "\n",
    "                d = np.zeros((len(adj_mat),len(adj_mat[0])))\n",
    "\n",
    "                D = np.zeros((N,1))\n",
    "                D[np.where(indi_state==2)] = D_ini\n",
    "                D_array[:,0] = D[:,0]\n",
    "                D_prev = D\n",
    "\n",
    "                infec_frac = np.count_nonzero(indi_state == 2)/N\n",
    "                timeseries_infec_frac.loc[df_row,0] = infec_frac\n",
    "                '''the main part of the simulation'''\n",
    "                counter = 0\n",
    "                df_col = 1\n",
    "                for t in np.arange(dt,T,dt) :\n",
    "                    q = q + 1 \n",
    "                    counter = counter + 1\n",
    "                    infec_indi = []\n",
    "                    suscep_indi = []\n",
    "                    d = np.zeros((len(adj_mat),len(adj_mat[0])))\n",
    "                    d = dose(adj_mat,p,partner_state_prev,d)\n",
    "\n",
    "                    OD_array = np.asarray([val for (node, val) in G.out_degree()])\n",
    "                    OD_mesh1,OD_mesh2 = np.meshgrid(OD_array,OD_array)\n",
    "                    adj_mat = rew(p_rew,adjacency_matrix,indi_state_for_rew_prev,OD_mesh2,lamb_da)\n",
    "                    adj_mat_new = copy.deepcopy(adj_mat)\n",
    "                    adj_mat_list.append(adj_mat_new)\n",
    "\n",
    "                    #coords remain the same. Get new edge_list from the latest adjacency matrix\n",
    "                    edge_list = edge_from_adj_mat(adj_mat_list,q)\n",
    "                    G = networkx_graph(coords,edge_list) #networkx graph\n",
    "\n",
    "                    '''from G, obtain the in degree and the out degree'''\n",
    "                    timeseries_in_degree.loc[:,df_col] = np.asarray([val for (node, val) in G.in_degree()])\n",
    "                    timeseries_out_degree.loc[:,df_col] = np.asarray([val for (node, val) in G.out_degree()])\n",
    "\n",
    "                    '''strongly and weekely connected components'''\n",
    "                    timeseries_connec_comps.loc[df_row,df_col] = nx.number_connected_components(G.to_undirected())\n",
    "\n",
    "                    D = cumu_dose(d,D_prev,gamma)\n",
    "                    D_array[:,counter] = D[:,0]\n",
    "\n",
    "                    indi_state = upd_indi_state(D,d_star,indi_state_prev)\n",
    "                    infec_frac = np.count_nonzero(indi_state == 2)/N\n",
    "                    timeseries_infec_frac.loc[df_row,df_col] = infec_frac\n",
    "\n",
    "    #                 numpy_array[:,counter] = indi_state[:,0]\n",
    "                    A,B = np.meshgrid(indi_state,indi_state)\n",
    "\n",
    "                    infec_indi, suscep_indi = states(indi_state)\n",
    "\n",
    "                    partner_state = A\n",
    "                    indi_state_for_rew = B\n",
    "                    indi_state_prev = indi_state\n",
    "                    partner_state_prev = partner_state\n",
    "                    indi_state_for_rew_prev = indi_state_for_rew\n",
    "\n",
    "                    D_prev = D\n",
    "                    D = np.zeros((N,1))\n",
    "                    df_col = df_col + 1 \n",
    "\n",
    "    #             df_row = df_row + 1 #going to the next row of the df to store timeseries of next (p,start)\n",
    "\n",
    "                filename_infec_frac = 'infec_frac.h5'\n",
    "                filename_in_deg = 'in_deg.h5'\n",
    "                filename_out_deg = 'out_deg.h5'\n",
    "                filename_connec_comps = 'connec_comps.h5'\n",
    "                p_rew_val = '%g'%(p_rew/dt)\n",
    "                key_val = 'sim_'+str(sim)+'_p_rew_'+str(p_rew_val)+'_start_'+str(start)+'_dq_'+str(dose_quantity)\n",
    "                print(key_val)\n",
    "                timeseries_infec_frac.to_hdf(filename_infec_frac, key = key_val, mode='a')\n",
    "                timeseries_in_degree.to_hdf(filename_in_deg, key = key_val, mode='a')\n",
    "                timeseries_out_degree.to_hdf(filename_out_deg, key = key_val, mode='a')\n",
    "                timeseries_connec_comps.to_hdf(filename_connec_comps, key = key_val, mode='a')\n",
    "                df_row = 0"
   ]
  },
  {
   "cell_type": "code",
   "execution_count": null,
   "metadata": {},
   "outputs": [],
   "source": [
    "# '''time series plot of a fixed start but varying p'''\n",
    "# a = 4 #this is the value of p-1\n",
    "# for i in np.arange(0,110,10) : \n",
    "#     print(a+i)\n",
    "#     timeseries_infec_frac.loc[a+i,:].plot()\n",
    "# plt.ylim(-0.1,1.1)\n",
    "# # plt.xlim(0,10)\n",
    "# plt.legend(loc=(1,1))\n",
    "# plt.show()"
   ]
  },
  {
   "cell_type": "code",
   "execution_count": null,
   "metadata": {},
   "outputs": [],
   "source": [
    "# plt.clf()\n",
    "# '''time series plot of a fixed p but varying start'''\n",
    "# a = 40 # this is the value of p\n",
    "# for i in range(0,11) :\n",
    "#     timeseries_infec_frac.loc[a+i,:].plot()\n",
    "# plt.ylim(-0.1,1.1)\n",
    "# # plt.ylim(-0.01,0.11)\n",
    "# # plt.xlim(0,2.5)\n",
    "# plt.legend(loc=(1,1))\n",
    "# plt.show()"
   ]
  },
  {
   "cell_type": "code",
   "execution_count": null,
   "metadata": {},
   "outputs": [],
   "source": [
    "# start_len = 10\n",
    "# p_len = 11\n",
    "# X,Y = np.meshgrid([i*0.01 for i in range(11,21)],[i*0.1 for i in range(0,11)])\n",
    "# print('X = ', X)\n",
    "# print('Y = ', Y)\n",
    "# phi = 999*np.ones((p_len,start_len))\n",
    "# counter = 0\n",
    "# last_col = np.int64((T/dt)-1)\n",
    "# for i in range(p_len) :\n",
    "#     for j in range(start_len) :\n",
    "#         phi[i,j] = timeseries_infec_frac.loc[counter,(last_col-100)+1:last_col].mean()\n",
    "#         counter = counter + 1\n",
    "# # print(counter)\n",
    "# print(phi)\n",
    "# fig = plt.gcf()\n",
    "# fig.set_size_inches(10, 9)\n",
    "# plt.scatter(X, Y,s=500,c=phi,vmin=0,vmax=1)\n",
    "# plt.colorbar()\n",
    "# plt.xlabel(r'$\\phi_{ini}$', fontsize = 20)\n",
    "# plt.ylabel(r'$p\\times dt$', fontsize = 20)\n",
    "# plt.xlim(0.10,0.21)\n",
    "# plt.title(r'$\\phi^*,p_{rew}=0.5,av_{deg}=9,d=1,d^*=3,\\gamma=5,T=N=100,dt=0.1,r=1$',fontsize = 15)\n",
    "# plt.savefig('static_avdeg_9_ini_0_11.svg',format='svg')\n",
    "# plt.show()"
   ]
  },
  {
   "cell_type": "code",
   "execution_count": null,
   "metadata": {},
   "outputs": [],
   "source": [
    "# filename = 'file_avdeg_'+str(average_degree)+'_ini_'+str(np.int64(X[0,0]*N))+'_'+str(np.int64(X[p_len-1,start_len-1]*N))+'.h5'\n",
    "# key \n",
    "# timeseries_infec_frac.to_hdf(filename, key='timeseries_infec_frac', mode='w')"
   ]
  },
  {
   "cell_type": "code",
   "execution_count": null,
   "metadata": {},
   "outputs": [],
   "source": [
    "# import h5py\n",
    "# f = h5py.File('in_deg.h5', 'r')\n",
    "# [key for key in f.keys()]\n",
    "# # pd.read_hdf('file_avdeg_6_ini_0_11_firstattemp.h5','p_rew_2')"
   ]
  }
 ],
 "metadata": {
  "kernelspec": {
   "display_name": "Python 3",
   "language": "python",
   "name": "python3"
  },
  "language_info": {
   "codemirror_mode": {
    "name": "ipython",
    "version": 3
   },
   "file_extension": ".py",
   "mimetype": "text/x-python",
   "name": "python",
   "nbconvert_exporter": "python",
   "pygments_lexer": "ipython3",
   "version": "3.7.1"
  }
 },
 "nbformat": 4,
 "nbformat_minor": 2
}
