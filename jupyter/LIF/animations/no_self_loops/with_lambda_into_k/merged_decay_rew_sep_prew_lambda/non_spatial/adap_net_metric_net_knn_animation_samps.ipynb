{
 "cells": [
  {
   "cell_type": "markdown",
   "metadata": {},
   "source": [
    "## Leaky integrated firing neuron model  \n",
    "## Few feautures :\n",
    "### Spatial network, no memory term but exponential decay of cumulative dose\n",
    "\n",
    "This is a minor change of the Dodds and Watts model  \n",
    "Attempt to implement adaptive rewiring"
   ]
  },
  {
   "cell_type": "code",
   "execution_count": 43,
   "metadata": {},
   "outputs": [],
   "source": [
    "#importing the required libraries\n",
    "\n",
    "import networkx as nx #network library to generate inital networks and perform various network operations\n",
    "from matplotlib import animation\n",
    "import matplotlib.pyplot as plt #for plotting\n",
    "import numpy as np #for using arrays and vectorising the code wherever possible\n",
    "import scipy\n",
    "import random\n",
    "import cProfile #for timing the loops\n",
    "from numba import jit #numba precomplier to make the code faster\n",
    "import pandas as pd\n",
    "import time\n",
    "import copy\n",
    "# %matplotlib notebook\n",
    "# %matplotlib notebook"
   ]
  },
  {
   "cell_type": "markdown",
   "metadata": {},
   "source": [
    "# Variables used in the simulation"
   ]
  },
  {
   "cell_type": "code",
   "execution_count": 44,
   "metadata": {},
   "outputs": [],
   "source": [
    "dataset = 0\n",
    "\n",
    "N = 100\n",
    "gamma = 1 #decay of cumulative dose per unit time (second)\n",
    "T = 100 #total number of seconds\n",
    "dt = 0.05 #seconds\n",
    "'''number of simulation steps is T/dt'''\n",
    "\n",
    "'''Dodds watts parameters'''\n",
    "p = 1 #rate of dose transfer (per unit time (second))\n",
    "p = p*dt #rate of dose transfer per unit simulation step\n",
    "r = 1/dt\n",
    "r = r*dt\n",
    "rho = 1/dt\n",
    "rho = rho*dt\n",
    "\n",
    "d_star = 1\n",
    "dose_quantity = 0.5\n",
    "D_ini = 3\n",
    "\n",
    "'''network parameters'''\n",
    "circ_rad = 100 #for a network in which each node is connected to other nodes withing a circle of radius circ_rad\n",
    "nn = 7 #the number of nearest neighbours(i.e. k) in knn\n",
    "average_degree = 6\n",
    "total_edges = N*4\n",
    "\n",
    "'''rewiring parameters'''\n",
    "p_rew = 0.01 #rate of rewiring(per unit time(second))\n",
    "lamb_da = p_rew/10\n",
    "lamb_da = lamb_da*dt\n",
    "p_rew = p_rew*dt\n",
    "\n",
    "'''number of infected nodes initially'''\n",
    "start = 1"
   ]
  },
  {
   "cell_type": "markdown",
   "metadata": {},
   "source": [
    "# Creating the network. \n",
    "### The network outputs coordinates, distance matrix, edge_list and adjacency matrix"
   ]
  },
  {
   "cell_type": "code",
   "execution_count": 45,
   "metadata": {},
   "outputs": [],
   "source": [
    "'''\n",
    "obtains the number of nodes N\n",
    "generates N points\n",
    "calculates euclidean distance between each pair of points\n",
    "returns the coordinates of the points and the distance matrix which is N*N\n",
    "'''\n",
    "def calc_dist(N) :\n",
    "    coords = []\n",
    "    for counter in range(N) :\n",
    "        coords.append((N*np.random.random(),N*np.random.random()))\n",
    "\n",
    "    dist_mat = scipy.spatial.distance.cdist(coords,coords)\n",
    "    return dist_mat,coords"
   ]
  },
  {
   "cell_type": "markdown",
   "metadata": {},
   "source": [
    "### 1. metric network"
   ]
  },
  {
   "cell_type": "code",
   "execution_count": 46,
   "metadata": {},
   "outputs": [],
   "source": [
    "'''network = connect to points withing a circle of radius'''\n",
    "#creates a link between points/nodes which satisfies the conditions of the network\n",
    "def coupling(dist_mat,circ_rad) :\n",
    "    edge_list = []\n",
    "    edge_mask = (dist_mat<circ_rad) & (dist_mat>0)\n",
    "    edge_list.extend(np.ndarray.tolist(np.transpose(np.where(edge_mask))))\n",
    "#     print(type(np.ndarray.tolist(np.transpose(np.where(edge_mask)))))\n",
    "    return edge_list"
   ]
  },
  {
   "cell_type": "markdown",
   "metadata": {},
   "source": [
    "### 2. K nearest neighbour network"
   ]
  },
  {
   "cell_type": "code",
   "execution_count": 47,
   "metadata": {},
   "outputs": [],
   "source": [
    "'''network = knn'''\n",
    "def knn(dist_mat,nn,N) :\n",
    "    near_neigh = np.argsort(dist_mat)\n",
    "    selec_near_neigh = np.zeros((N,nn))\n",
    "    selec_near_neigh = near_neigh[:,0:nn+1]\n",
    "\n",
    "    edge_list = []\n",
    "    for i in range(N) :\n",
    "        for j in range(1,nn+1) :\n",
    "            link = [i,selec_near_neigh[i,j]]\n",
    "            edge_list.append(link)\n",
    "\n",
    "    return edge_list"
   ]
  },
  {
   "cell_type": "markdown",
   "metadata": {},
   "source": [
    "### 3. Random Network : GNP type"
   ]
  },
  {
   "cell_type": "code",
   "execution_count": 48,
   "metadata": {},
   "outputs": [],
   "source": [
    "'''random network'''\n",
    "def rand_network(average_degree,N) :\n",
    "    z1 = np.random.uniform(size = (N,N))\n",
    "    E,F = np.meshgrid(np.arange(0,N),np.arange(0,N))\n",
    "    mask = ((average_degree/N) > z1) & (E!=F)\n",
    "    adjacency_matrix = np.int64(np.zeros(shape=(N,N)))\n",
    "    adjacency_matrix[mask] = np.int64(1)\n",
    "    edge_list = []\n",
    "    edge_list.extend(np.ndarray.tolist(np.transpose(np.where(adjacency_matrix==1))))\n",
    "    return edge_list,adjacency_matrix"
   ]
  },
  {
   "cell_type": "markdown",
   "metadata": {},
   "source": [
    "### 4. Random Network : GNM type"
   ]
  },
  {
   "cell_type": "code",
   "execution_count": 49,
   "metadata": {},
   "outputs": [],
   "source": [
    "def rand_net_gnm(total_edges,N) :\n",
    "    the_graph = nx.gnm_random_graph(N, total_edges,directed=True)\n",
    "    adjacency_matrix = nx.adjacency_matrix(the_graph)\n",
    "    adjacency_matrix = np.asarray(adjacency_matrix.todense())\n",
    "    np.diagonal(adjacency_matrix,0)\n",
    "    edge_list = []\n",
    "    edge_list.extend(np.ndarray.tolist(np.transpose(np.where(adjacency_matrix==1))))\n",
    "    return edge_list"
   ]
  },
  {
   "cell_type": "code",
   "execution_count": 50,
   "metadata": {},
   "outputs": [],
   "source": [
    "# '''plot of how the network looks like'''\n",
    "\n",
    "# plt.plot([coords[i][0] for i in range(len(coords))],[coords[i][1] for i in range(len(coords))],marker='o',markersize=10,linestyle='None')\n",
    "# i = 0\n",
    "# for counter in range(len(edge_list)):\n",
    "#     plt.plot([coords[edge_list[i][0]][0],coords[edge_list[i][1]][0]],\\\n",
    "#              [coords[edge_list[i][0]][1],coords[edge_list[i][1]][1]],'black',alpha=0.1)\n",
    "#     i = i + 1\n",
    "# plt.show()"
   ]
  },
  {
   "cell_type": "markdown",
   "metadata": {},
   "source": [
    "# Function defintions required for the main part of the script"
   ]
  },
  {
   "cell_type": "code",
   "execution_count": 51,
   "metadata": {},
   "outputs": [],
   "source": [
    "# # @jit(nopython=True)\n",
    "# def left_part_infec(N) :\n",
    "#     x_coord = []\n",
    "#     y_coord = []\n",
    "#     for j in range(len(coords)) :\n",
    "#         x_coord.append(coords[j][0])\n",
    "#         y_coord.append(coords[j][1])\n",
    "#     x_coord = np.asarray(x_coord)\n",
    "#     y_coord = np.asarray(y_coord)\n",
    "#     points = np.asarray(np.where(x_coord<(N/5))) \n",
    "#     indi_state[points.T] = 2\n",
    "\n",
    "#     return indi_state"
   ]
  },
  {
   "cell_type": "code",
   "execution_count": 52,
   "metadata": {},
   "outputs": [],
   "source": [
    "'''infecting connected nodes'''\n",
    "def InfectNetworkNeighbors(net,seed_node,init_infected_nodes):\n",
    "     # if in bulk find one node randomly, and infect its neighbours\n",
    "    infected_nodes = set()\n",
    "    candidate_nodes = set()\n",
    "    explored_nodes = set()\n",
    "\n",
    "    #pick the seed node\n",
    "    infected_nodes.add(seed_node)\n",
    "    explored_nodes.add(seed_node)\n",
    "\n",
    "    curr_node=seed_node\n",
    "\n",
    "    #add its neighbors to the list of candidates\n",
    "    for n in net.neighbors(curr_node):\n",
    "        candidate_nodes.add(int(n))\n",
    "    #print( curr_node)\n",
    "    #print( candidate_nodes)\n",
    "\n",
    "    #while we need to select more nodes...\n",
    "    while len(infected_nodes) < init_infected_nodes:\n",
    "\n",
    "        #if there are candidate nodes, select one of them\n",
    "        if(len(candidate_nodes) > 0):\n",
    "            new_node = np.random.choice(list(candidate_nodes),1)[0]\n",
    "            infected_nodes.add(new_node)\n",
    "            candidate_nodes.remove(new_node)\n",
    "\n",
    "        elif len(infected_nodes - explored_nodes) > 0:\n",
    "            curr_node = np.random.choice(list(infected_nodes -\n",
    "            explored_nodes),1)[0]\n",
    "            explored_nodes.add(curr_node)\n",
    "            for n in set(net.neighbors(curr_node)) - infected_nodes:\n",
    "                candidate_nodes.add(n)\n",
    "\n",
    "        else:\n",
    "            print('Initial node infection step failed')\n",
    "            return None\n",
    "    return infected_nodes"
   ]
  },
  {
   "cell_type": "code",
   "execution_count": 53,
   "metadata": {},
   "outputs": [],
   "source": [
    "''' function to transer doses'''\n",
    "# @jit(nopython=True)\n",
    "def dose(adj_mat,p,partner_state_prev,d) :\n",
    "\n",
    "    z1 = np.random.uniform(size=(len(adj_mat),len(adj_mat[0])))\n",
    "    \n",
    "    dose_transfer_mask = p > z1\n",
    "    mod_adj_mat = np.multiply(adj_mat,z1) #modifying adjacency matrix to include the proability of dose transfer\n",
    "    dose_mask = (p>mod_adj_mat) & (adj_mat!=0) & (partner_state_prev == 2)\n",
    "    d[dose_mask] = dose_quantity #whenever it is proabable, dose transfer occurs\n",
    "    \n",
    "    return d"
   ]
  },
  {
   "cell_type": "code",
   "execution_count": 54,
   "metadata": {},
   "outputs": [],
   "source": [
    "def rew(p_rew,adjacency_matrix,indi_state_for_rew_prev,OD_mesh2,lamb_da) :\n",
    "    \n",
    "    z1_rew_prew = np.random.uniform(size=(len(adj_mat),len(adj_mat[0])))\n",
    "    z1_rew_lambda = np.random.uniform(size=(len(adj_mat),len(adj_mat[0])))\n",
    "    \n",
    "    rew_mask_plus = (p_rew > z1_rew_prew)  & (indi_state_for_rew_prev == 1)\n",
    "    #create links. Dont break any.\n",
    "    adjacency_matrix[rew_mask_plus] = 1\n",
    "    rew_mask_minus1 = (p_rew > z1_rew_prew) & (indi_state_for_rew_prev == 2)\n",
    "    #break links. Dont create any.\n",
    "    adjacency_matrix[rew_mask_minus1] = 0\n",
    "    rew_mask_minus2 = ((lamb_da*OD_mesh2) > z1_rew_lambda) & (indi_state_for_rew_prev == 1)\n",
    "    adjacency_matrix[rew_mask_minus2] = 0\n",
    "    \n",
    "    np.fill_diagonal(adjacency_matrix,0)\n",
    "    \n",
    "    return adjacency_matrix"
   ]
  },
  {
   "cell_type": "code",
   "execution_count": 55,
   "metadata": {},
   "outputs": [],
   "source": [
    "'''function to update cumulative doses'''\n",
    "def cumu_dose(d,D_prev,gamma) :\n",
    "    I = d.sum(axis=1).reshape(N,1)\n",
    "#     I = 0\n",
    "    D = (D_prev - (gamma*D_prev*dt)) + I\n",
    "    return D"
   ]
  },
  {
   "cell_type": "code",
   "execution_count": 56,
   "metadata": {},
   "outputs": [],
   "source": [
    "'''function to update the states of the nodes of the system'''\n",
    "def upd_indi_state(D,d_star,indi_state_prev) :\n",
    "    \n",
    "    z2 = np.random.uniform(size=(N,1))\n",
    "    z3 = np.random.uniform(size=(N,1))\n",
    "    \n",
    "    indi_state = indi_state_prev\n",
    "    \n",
    "    indi_state_mask1 = (D>=d_star) & (indi_state_prev==1)\n",
    "    indi_state[indi_state_mask1] = 2\n",
    "    \n",
    "    indi_state_mask21 = (D<d_star) & (indi_state_prev==2) & (r>=z2) & (rho>=z3)\n",
    "    indi_state[indi_state_mask21] = 1\n",
    "    \n",
    "    indi_state_mask22 = (D<d_star) & (indi_state_prev==2) & (r>=z2) & (rho<z3)\n",
    "    indi_state[indi_state_mask22] = 3\n",
    "    \n",
    "    indi_state_mask23 = (D<d_star) & (indi_state_prev==2) & (r<z2)\n",
    "    indi_state[indi_state_mask23] = 2\n",
    "    \n",
    "    return indi_state"
   ]
  },
  {
   "cell_type": "code",
   "execution_count": 57,
   "metadata": {},
   "outputs": [],
   "source": [
    "'''function to get identify the infected nodes and the suceptible nodes'''\n",
    "def states(indi_state) :\n",
    "    infec_indi = []\n",
    "    suscep_indi = []\n",
    "    infec_indi = np.transpose(np.where(indi_state==2))\n",
    "    suscep_indi = np.transpose(np.where(indi_state==1))\n",
    "    return infec_indi,suscep_indi"
   ]
  },
  {
   "cell_type": "code",
   "execution_count": 58,
   "metadata": {},
   "outputs": [],
   "source": [
    "def networkx_graph(coords,edge_list) :\n",
    "    G = nx.DiGraph()\n",
    "    pos = {(i): (coords[i][0],coords[i][1]) for i in range(N)}\n",
    "    G.add_nodes_from(pos.keys())\n",
    "    G.add_edges_from(edge_list)\n",
    "    return G"
   ]
  },
  {
   "cell_type": "code",
   "execution_count": 59,
   "metadata": {},
   "outputs": [],
   "source": [
    "def edge_from_adj_mat(adj_mat_list,q):\n",
    "    edge_list = []\n",
    "    edge_list.extend(np.ndarray.tolist(np.transpose(np.where(adj_mat_list[q]==1))))\n",
    "    return edge_list"
   ]
  },
  {
   "cell_type": "code",
   "execution_count": 60,
   "metadata": {},
   "outputs": [],
   "source": [
    "def edge_from_adj_mat(adj_mat_list,q):\n",
    "    edge_list = []\n",
    "    edge_list.extend(np.ndarray.tolist(np.transpose(np.where(adj_mat_list[q]==1))))\n",
    "\n",
    "    return edge_list"
   ]
  },
  {
   "cell_type": "code",
   "execution_count": 61,
   "metadata": {},
   "outputs": [],
   "source": [
    "# def show_graph_with_labels(adjacency_matrix):\n",
    "#     rows, cols = np.where(adjacency_matrix == 1)\n",
    "#     edges = zip(rows.tolist(), cols.tolist())\n",
    "#     gr = nx.Graph()\n",
    "#     gr.add_edges_from(edges)\n",
    "#     nx.draw(gr, node_size=200, with_labels=True)\n",
    "#     plt.show()"
   ]
  },
  {
   "cell_type": "markdown",
   "metadata": {},
   "source": [
    "# Choose which network you want in the program\n",
    "### Coupling network of knn network?"
   ]
  },
  {
   "cell_type": "markdown",
   "metadata": {},
   "source": [
    "# The main part of the script"
   ]
  },
  {
   "cell_type": "code",
   "execution_count": 62,
   "metadata": {
    "scrolled": false
   },
   "outputs": [
    {
     "name": "stdout",
     "output_type": "stream",
     "text": [
      "0\n",
      "{41}\n",
      "1\n",
      "{34}\n",
      "2\n",
      "{35}\n"
     ]
    },
    {
     "data": {
      "image/png": "[encoded data removed]",
      "text/plain": [
       "<Figure size 432x288 with 1 Axes>"
      ]
     },
     "metadata": {
      "needs_background": "light"
     },
     "output_type": "display_data"
    },
    {
     "data": {
      "image/png": "[encoded data removed]",
      "text/plain": [
       "<Figure size 432x288 with 1 Axes>"
      ]
     },
     "metadata": {
      "needs_background": "light"
     },
     "output_type": "display_data"
    },
    {
     "data": {
      "image/png": "[encoded data removed]",
      "text/plain": [
       "<Figure size 432x288 with 1 Axes>"
      ]
     },
     "metadata": {
      "needs_background": "light"
     },
     "output_type": "display_data"
    }
   ],
   "source": [
    "for sim in range(3) :\n",
    "    print(sim)\n",
    "    '''returns coordinates, distance matrix, edge_list and the adjacency matrix'''\n",
    "\n",
    "    dist_mat,coords = calc_dist(N) #node placement\n",
    "\n",
    "    # edge_list = coupling(dist_mat,circ_rad)\n",
    "    # edge_list = knn(dist_mat,nn,N)\n",
    "    # edge_list = rand_network(average_degree,N)\n",
    "    edge_list = rand_net_gnm(total_edges,N)\n",
    "\n",
    "    org_adj_mat = np.int64(np.zeros((N,N)))\n",
    "    for i in range(len(edge_list)):\n",
    "        org_adj_mat[edge_list[i][0],edge_list[i][1]] = np.int64(1)\n",
    "\n",
    "    t = np.arange(0,T,dt)\n",
    "    numpy_array = np.zeros((N,len(t)),dtype = np.int64)\n",
    "    D_array = np.zeros((N,len(t)))\n",
    "    adj_mat_list = []\n",
    "    adj_mat = copy.deepcopy(org_adj_mat)\n",
    "    adj_mat_new = copy.deepcopy(adj_mat)\n",
    "    adj_mat_list.append(adj_mat_new)\n",
    "\n",
    "    q = 0\n",
    "    #coords remain the same. Get new edge_list from the latest adjacency matrix\n",
    "    edge_list = edge_from_adj_mat(adj_mat_list,q)\n",
    "    G = networkx_graph(coords,edge_list) #networkx graph\n",
    "\n",
    "    '''choosing initially infected nodes'''\n",
    "    indi_state = np.random.randint(1,2,size=(N,1))\n",
    "    infected_nodes = None\n",
    "    while infected_nodes is None : #infecting 'start' number of network neighbours\n",
    "        infected_nodes = InfectNetworkNeighbors(G,np.random.randint(N),start)\n",
    "        print(infected_nodes)\n",
    "    infected_nodes = np.asarray(list(infected_nodes)).reshape(len(infected_nodes),1)\n",
    "    indi_state[infected_nodes[:,0],0] = 2\n",
    "\n",
    "    A,B = np.meshgrid(indi_state,indi_state)\n",
    "    partner_state = A\n",
    "    indi_state_for_rew = B\n",
    "    # print(indi_state)\n",
    "\n",
    "    numpy_array [:,0] = indi_state[:,0]\n",
    "\n",
    "    indi_state_prev = indi_state\n",
    "    partner_state_prev = partner_state\n",
    "    indi_state_for_rew_prev = indi_state_for_rew\n",
    "    # print('indi state =', np.shape(np.transpose(indi_state)))\n",
    "    # print('partner state =', partner_state)\n",
    "\n",
    "    d = 999*np.zeros((len(adj_mat),len(adj_mat[0])))\n",
    "\n",
    "    D = np.zeros((N,1))\n",
    "    D[np.where(indi_state==2)] = D_ini\n",
    "    D_array[:,0] = D[:,0]\n",
    "    D_prev = D\n",
    "\n",
    "    '''the main part of the simulation'''\n",
    "    counter = 0\n",
    "    for t in np.arange(dt,T,dt) :\n",
    "        q = q + 1    \n",
    "        counter = counter + 1\n",
    "        infec_indi = []\n",
    "        d = np.zeros((len(adj_mat),len(adj_mat[0])))\n",
    "        d = dose(adj_mat,p,partner_state_prev,d)\n",
    "\n",
    "        OD_array = np.asarray([val for (node, val) in G.out_degree()])\n",
    "        OD_mesh1,OD_mesh2 = np.meshgrid(OD_array,OD_array)\n",
    "        adj_mat = rew(p_rew,adj_mat,indi_state_for_rew_prev,OD_mesh2,lamb_da)\n",
    "        adj_mat_new = copy.deepcopy(adj_mat)\n",
    "        adj_mat_list.append(adj_mat_new)\n",
    "\n",
    "        #coords remain the same. Get new edge_list from the latest adjacency matrix\n",
    "        edge_list = edge_from_adj_mat(adj_mat_list,q)\n",
    "        G = networkx_graph(coords,edge_list) #networkx graph\n",
    "\n",
    "        D = cumu_dose(d,D_prev,gamma)\n",
    "        D_array[:,counter] = D[:,0]\n",
    "\n",
    "        indi_state = upd_indi_state(D,d_star,indi_state_prev)\n",
    "        numpy_array[:,counter] = indi_state[:,0]\n",
    "        A,B = np.meshgrid(indi_state,indi_state)\n",
    "\n",
    "        infec_indi, suscep_indi = states(indi_state)\n",
    "\n",
    "        partner_state = A\n",
    "        indi_state_for_rew = B\n",
    "        indi_state_prev = indi_state\n",
    "        partner_state_prev = partner_state\n",
    "        indi_state_for_rew_prev = indi_state_for_rew\n",
    "\n",
    "        D_prev = D\n",
    "        D = np.zeros((N,1))\n",
    "\n",
    "    t = np.arange(0,T,dt,dtype=np.float16)\n",
    "\n",
    "    '''making the animation'''\n",
    "    # %matplotlib notebook\n",
    "\n",
    "    # Set up formatting for the movie files\n",
    "    Writer = animation.writers['ffmpeg']\n",
    "    writer = Writer(fps=100, metadata=dict(artist='Me'), bitrate=1800)\n",
    "    # writer = FasterFFMpegWriter()\n",
    "\n",
    "    # First set up the figure, the axis, and the plot element we want to animate\n",
    "    fig = plt.figure()\n",
    "    ax = plt.axes(xlim=(0, N), ylim=(0, N))\n",
    "    infected, = ax.plot([], [],'ro', ls='',markersize=10)\n",
    "    susceptible, = ax.plot([], [],'bo', ls='',markersize=10)\n",
    "    edges, = ax.plot([],[],'black',alpha=0.1)\n",
    "    title = ax.text(N/2,N+1,'blah')\n",
    "\n",
    "    # initialization function: plot the background of each frame\n",
    "    def init():\n",
    "        infected.set_data([],[])\n",
    "        susceptible.set_data([],[])\n",
    "        return infected,susceptible,\n",
    "\n",
    "    def init_custom() :\n",
    "        infected.set_data([],[])\n",
    "        susceptible.set_data([],[])\n",
    "        edges.set_data([],[])\n",
    "        return infected,susceptible,edges,\n",
    "\n",
    "    # animation function.  This is called sequentially\n",
    "    def animate(i):\n",
    "        title.set_text(t[i])\n",
    "        ix = []\n",
    "        iy = []\n",
    "        where = np.transpose(np.where(numpy_array[:,i]==2))\n",
    "        for k in range(len(where)) : #nodes\n",
    "            ix.append(coords[where[k][0]][0])\n",
    "            iy.append(coords[where[k][0]][1])\n",
    "        infected.set_data(ix, iy)\n",
    "\n",
    "        sx = []\n",
    "        sy = []\n",
    "        where = []\n",
    "        where = np.transpose(np.where(numpy_array[:,i]==1))\n",
    "        for k in range(len(where)) : #nodes\n",
    "            sx.append(coords[where[k][0]][0])\n",
    "            sy.append(coords[where[k][0]][1])\n",
    "        susceptible.set_data(sx, sy)\n",
    "\n",
    "        edge_list = edge_from_adj_mat(adj_mat_list,i)\n",
    "        ex = []\n",
    "        ey = []\n",
    "        j = 0\n",
    "        for counter in range(len(edge_list)):\n",
    "            ex.append(coords[edge_list[j][0]][0])\n",
    "            ex.append(coords[edge_list[j][1]][0])\n",
    "            ex.append(None)\n",
    "            ey.append(coords[edge_list[j][0]][1])\n",
    "            ey.append(coords[edge_list[j][1]][1])\n",
    "            ey.append(None)\n",
    "            j = j + 1\n",
    "        edges.set_data(ex,ey)\n",
    "\n",
    "        return infected,susceptible,edges,title,\n",
    "\n",
    "    # call the animator.  blit=True means only re-draw the parts that have changed.\n",
    "    anim = animation.FuncAnimation(fig, animate, init_func=init_custom,blit=False, save_count=len(t))\n",
    "\n",
    "    # anim.save('basic_animation.mp4', fps=10, extra_args=['-vcodec', 'libx264'])\n",
    "    filename = 'sim_'+str(sim)+'_'+str(dataset)+'_'+'.mp4'\n",
    "    anim.save(filename, writer=writer)\n",
    "\n",
    "    # plt.show()"
   ]
  },
  {
   "cell_type": "markdown",
   "metadata": {},
   "source": [
    "# Creating the animation"
   ]
  },
  {
   "cell_type": "code",
   "execution_count": 63,
   "metadata": {},
   "outputs": [],
   "source": [
    "# plt.clf()\n",
    "# plt.plot(D_array[4,:])\n",
    "# plt.show()"
   ]
  }
 ],
 "metadata": {
  "kernelspec": {
   "display_name": "Python 3",
   "language": "python",
   "name": "python3"
  },
  "language_info": {
   "codemirror_mode": {
    "name": "ipython",
    "version": 3
   },
   "file_extension": ".py",
   "mimetype": "text/x-python",
   "name": "python",
   "nbconvert_exporter": "python",
   "pygments_lexer": "ipython3",
   "version": "3.7.1"
  }
 },
 "nbformat": 4,
 "nbformat_minor": 2
}
