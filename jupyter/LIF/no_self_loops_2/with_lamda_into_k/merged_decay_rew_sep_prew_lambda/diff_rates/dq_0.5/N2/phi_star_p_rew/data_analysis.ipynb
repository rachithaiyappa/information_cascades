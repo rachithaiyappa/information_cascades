{
 "cells": [
  {
   "cell_type": "code",
   "execution_count": 2,
   "metadata": {},
   "outputs": [],
   "source": [
    "import h5py\n",
    "import pandas as pd\n",
    "import matplotlib.pyplot as plt\n",
    "import numpy as np"
   ]
  },
  {
   "cell_type": "code",
   "execution_count": 2,
   "metadata": {},
   "outputs": [],
   "source": [
    "# out_deg = h5py.File('out_deg.h5', 'r')\n",
    "# print([key for key in out_deg.keys()])\n",
    "# infec_frac = h5py.File('infec_frac.h5', 'r')\n",
    "# print([key for key in infec_frac.keys()])\n",
    "# connec_comps = h5py.File('connec_comps.h5', 'r')\n",
    "# pd.read_hdf('connec_comps.h5','sim_70_p_rew_0.01_start_10_dq_0.1')"
   ]
  },
  {
   "cell_type": "markdown",
   "metadata": {},
   "source": [
    "## Infected Fraction"
   ]
  },
  {
   "cell_type": "code",
   "execution_count": 3,
   "metadata": {},
   "outputs": [],
   "source": [
    "def obtain_infec_sampling_average(key_half,file) :\n",
    "    sampling = []\n",
    "    for j in range(70,120) :\n",
    "#         key = 'sim_'+str(j)+'_p_rew_0_start_1_dq_1'\n",
    "        key = 'sim_'+str(j)+key_half\n",
    "#         print(key)\n",
    "        df = pd.read_hdf(file,key)\n",
    "        # df.shape[0] #this is the number of rows\n",
    "        count_deg = df.values\n",
    "        sampling.append(count_deg)\n",
    "\n",
    "#     sampling_average = np.ones(shape=np.shape(count_deg))\n",
    "    i = 2000\n",
    "#     for i in range(df.shape[1]-100, df.shape[1]) :\n",
    "    sampling_average = np.mean(np.mean([item[:,i-100:i] for item in sampling],axis=0),axis=1)\n",
    "\n",
    "        \n",
    "    return sampling_average"
   ]
  },
  {
   "cell_type": "code",
   "execution_count": 4,
   "metadata": {},
   "outputs": [],
   "source": [
    "def obtain_infec_sampling_colourmap(key_half,file) :\n",
    "    frames = []\n",
    "    sampling = []\n",
    "    for j in range(70,120) :\n",
    "#         key = 'sim_'+str(j)+'_p_rew_0_start_1_dq_1'\n",
    "        key = 'sim_'+str(j)+key_half\n",
    "#         print(key)\n",
    "        result = pd.read_hdf(file,key)\n",
    "        # df.shape[0] #this is the number of rows\n",
    "        frames.append(result)\n",
    "    df = pd.concat(frames)\n",
    "\n",
    "    bins_number = 11\n",
    "    count_deg = np.zeros((bins_number,df.shape[1]))\n",
    "    for i in range(df.shape[1]) :\n",
    "        count, division_deg = np.histogram(df.loc[:,i], bins = bins_number,range =(0,1.01))\n",
    "#         count, division_deg = np.histogram(df.loc[:,i], bins = bins_number)\n",
    "        count_deg[:,i] = count\n",
    "    sampling.append(count_deg)\n",
    "\n",
    "    sampling_average = 999*np.ones(shape=np.shape(count_deg))\n",
    "    for i in range(df.shape[1]) :\n",
    "        sampling_average[:,i] = np.mean([item[:,i] for item in sampling],axis=0)\n",
    "        \n",
    "    return sampling_average,df"
   ]
  },
  {
   "cell_type": "code",
   "execution_count": 1,
   "metadata": {},
   "outputs": [
    {
     "ename": "NameError",
     "evalue": "name 'np' is not defined",
     "output_type": "error",
     "traceback": [
      "\u001b[0;31m---------------------------------------------------------------------------\u001b[0m",
      "\u001b[0;31mNameError\u001b[0m                                 Traceback (most recent call last)",
      "\u001b[0;32m<ipython-input-1-672b95040fe3>\u001b[0m in \u001b[0;36m<module>\u001b[0;34m\u001b[0m\n\u001b[1;32m      2\u001b[0m \u001b[0mfile\u001b[0m \u001b[0;34m=\u001b[0m \u001b[0;34m'infec_frac.h5'\u001b[0m\u001b[0;34m\u001b[0m\u001b[0;34m\u001b[0m\u001b[0m\n\u001b[1;32m      3\u001b[0m \u001b[0;34m\u001b[0m\u001b[0m\n\u001b[0;32m----> 4\u001b[0;31m \u001b[0mx\u001b[0m \u001b[0;34m=\u001b[0m \u001b[0mnp\u001b[0m\u001b[0;34m.\u001b[0m\u001b[0marange\u001b[0m\u001b[0;34m(\u001b[0m\u001b[0;36m0\u001b[0m\u001b[0;34m,\u001b[0m\u001b[0;36m100\u001b[0m\u001b[0;34m,\u001b[0m\u001b[0;36m0.05\u001b[0m\u001b[0;34m)\u001b[0m\u001b[0;34m\u001b[0m\u001b[0;34m\u001b[0m\u001b[0m\n\u001b[0m\u001b[1;32m      5\u001b[0m \u001b[0my\u001b[0m \u001b[0;34m=\u001b[0m \u001b[0mnp\u001b[0m\u001b[0;34m.\u001b[0m\u001b[0marange\u001b[0m\u001b[0;34m(\u001b[0m\u001b[0;36m0\u001b[0m\u001b[0;34m,\u001b[0m\u001b[0;36m1.01\u001b[0m\u001b[0;34m,\u001b[0m\u001b[0;36m0.1\u001b[0m\u001b[0;34m)\u001b[0m\u001b[0;34m\u001b[0m\u001b[0;34m\u001b[0m\u001b[0m\n\u001b[1;32m      6\u001b[0m \u001b[0mX\u001b[0m\u001b[0;34m,\u001b[0m\u001b[0mY\u001b[0m \u001b[0;34m=\u001b[0m \u001b[0mnp\u001b[0m\u001b[0;34m.\u001b[0m\u001b[0mmeshgrid\u001b[0m\u001b[0;34m(\u001b[0m\u001b[0mx\u001b[0m\u001b[0;34m,\u001b[0m\u001b[0my\u001b[0m\u001b[0;34m)\u001b[0m\u001b[0;34m\u001b[0m\u001b[0;34m\u001b[0m\u001b[0m\n",
      "\u001b[0;31mNameError\u001b[0m: name 'np' is not defined"
     ]
    }
   ],
   "source": [
    "sampling_average_list_infected_cmap = []\n",
    "file = 'infec_frac.h5'\n",
    "\n",
    "x = np.arange(0,100,0.05)\n",
    "y = np.arange(0,1.01,0.1)\n",
    "X,Y = np.meshgrid(x,y)\n",
    "\n",
    "p_rew_vals = [0.01,0.05,0.1,0.5,1,5,10,50,100,150]\n",
    "start_vals = [10]\n",
    "dose_quantity_vals = [0.5]\n",
    "\n",
    "counter = 0\n",
    "fig, ax = plt.subplots(nrows=3, ncols=4, figsize=(14,14))\n",
    "a = 0\n",
    "m = 0 #for the title\n",
    "for row in ax:\n",
    "    b = 0\n",
    "    d = 0\n",
    "    n = 0 #for the title\n",
    "    for col in row:\n",
    "        if a == 10 : \n",
    "            break\n",
    "        print(counter)\n",
    "        key_half = '_p_rew_'+str(p_rew_vals[a])+'_start_'+str(start_vals[b])+'_dq_'+str(dose_quantity_vals[d])\n",
    "        key_half_title = 'p_rew_'+str(p_rew_vals[a])+'_start_'+str(start_vals[b])+'_dq_'+str(dose_quantity_vals[d])\n",
    "#         if a == 0 :\n",
    "#             key_half_title = '_p_rew_0.1'+'_start_'+str(start_vals[b])+'_dq_'+str(dose_quantity_vals[d])\n",
    "        ax[m, n].set_title(key_half_title)\n",
    "        ax[m, n].set_ylim([-0.1,1.1])\n",
    "        sampling_average,df = obtain_infec_sampling_colourmap(key_half,file)\n",
    "        sampling_average_list_infected_cmap.append(sampling_average)\n",
    "#         im = col.scatter(X,Y,c= sampling_average_list[counter],vmin=0, vmax=101)\n",
    "#         im = col.plot(x.flatten(),sampling_average.flatten(),linestyle = '-')\n",
    "        im = col.scatter(X,Y,c= sampling_average,vmin=0, vmax=51,cmap='tab10')\n",
    "        counter = counter + 1\n",
    "        n = n + 1\n",
    "        a = a + 1\n",
    "    m = m + 1\n",
    "\n",
    "nax = fig.add_subplot(111, frame_on = False)\n",
    "nax.set_xticks([])\n",
    "nax.set_yticks([])\n",
    "fig.suptitle(r'Sample Count. $\\gamma=p=1s^{-1},N=100,T=100s,d^*=1,w_{-}=1s^{-1},dt=0.05s,r=\\rho=\\frac{1}{dt},\\lambda=\\frac{p_{rew}}{10}s^{-1}$',fontsize = 20)\n",
    "nax.set_xlabel(r'$time(seconds)$', fontsize = 20, labelpad=40)\n",
    "nax.set_ylabel(r'$\\phi^*$', fontsize = 20, labelpad=20)\n",
    "fig.subplots_adjust(right=0.8)\n",
    "\n",
    "cbar_ax = fig.add_axes([0.85, 0.15, 0.015, 0.7])\n",
    "fig.colorbar(im, cax=cbar_ax)\n",
    "\n",
    "plt.savefig(\"infec_frac_cmap.png\", format=\"png\")"
   ]
  },
  {
   "cell_type": "markdown",
   "metadata": {},
   "source": [
    "#### Infected Fraction Sampling Average"
   ]
  },
  {
   "cell_type": "code",
   "execution_count": null,
   "metadata": {},
   "outputs": [],
   "source": [
    "sampling_average_list_infected = []\n",
    "file = 'infec_frac.h5'\n",
    "\n",
    "x = np.arange(0,100,0.05)\n",
    "y = np.arange(0,101,1)\n",
    "X,Y = np.meshgrid(x,y)\n",
    "\n",
    "p_rew_vals = [0.01,0.05,0.1,0.5,1,5,10,50,100,150]\n",
    "start_vals = [10]\n",
    "dose_quantity_vals = [0.5]\n",
    "\n",
    "counter = 0\n",
    "fig, ax = plt.subplots(nrows=1, ncols=1, figsize=(10,7))\n",
    "b = 0\n",
    "d = 0\n",
    "for a in range(len(p_rew_vals)) :\n",
    "    print(a)\n",
    "    key_half = '_p_rew_'+str(p_rew_vals[a])+'_start_'+str(start_vals[b])+'_dq_'+str(dose_quantity_vals[d])\n",
    "    key_half_title = 'p_rew_'+str(p_rew_vals[a])+'_start_'+str(start_vals[b])+'_dq_'+str(dose_quantity_vals[d])\n",
    "    key_half_title_title = 'start_'+str(start_vals[b])+'_dq_'+str(dose_quantity_vals[d])\n",
    "    ax.set_title(key_half_title_title)\n",
    "    ax.set_ylim([-0.1,1.1])\n",
    "    sampling_average = obtain_infec_sampling_average(key_half,file)\n",
    "    print(sampling_average)\n",
    "    sampling_average_list_infected.append(sampling_average)\n",
    "    im = plt.plot(np.log10(p_rew_vals[a]),sampling_average,'r.',markersize=12)\n",
    "counter = counter + 1\n",
    "\n",
    "nax = fig.add_subplot(111, frame_on = False)\n",
    "nax.set_xticks([])\n",
    "nax.set_yticks([])\n",
    "fig.suptitle(r'$\\phi^*.$ $\\gamma=p=1s^{-1},N=100,T=100s,d^*=1,w_{-}=1s^{-1},dt=0.05s,r=\\rho=\\frac{1}{dt},\\lambda=\\frac{p_{rew}}{10}s^{-1}$',fontsize = 15)\n",
    "nax.set_xlabel(r'$log_{10}(p_{rew})$', fontsize = 20, labelpad=40)\n",
    "nax.set_ylabel(r'$\\phi^*$', fontsize = 20, labelpad=20)\n",
    "fig.subplots_adjust(right=0.8)\n",
    "\n",
    "# cbar_ax = fig.add_axes([0.85, 0.15, 0.015, 0.7])\n",
    "# fig.colorbar(im, cax=cbar_ax)\n",
    "\n",
    "plt.savefig(\"infec_frac.svg\", format=\"svg\")"
   ]
  },
  {
   "cell_type": "code",
   "execution_count": 7,
   "metadata": {},
   "outputs": [
    {
     "name": "stdout",
     "output_type": "stream",
     "text": [
      "0\n",
      "[0.]\n",
      "1\n",
      "[0.]\n",
      "2\n",
      "[0.594672]\n",
      "3\n",
      "[0.90649]\n",
      "4\n",
      "[0.939448]\n",
      "5\n",
      "[0.96169]\n",
      "6\n",
      "[0.859422]\n",
      "7\n",
      "[0.915526]\n",
      "8\n",
      "[0.915458]\n",
      "9\n",
      "[0.915134]\n"
     ]
    },
    {
     "data": {
      "image/png": "[encoded data removed]",
      "text/plain": [
       "<Figure size 720x504 with 2 Axes>"
      ]
     },
     "metadata": {
      "needs_background": "light"
     },
     "output_type": "display_data"
    }
   ],
   "source": [
    "sampling_average_list_infected = []\n",
    "file = 'infec_frac.h5'\n",
    "\n",
    "x = np.arange(0,100,0.05)\n",
    "y = np.arange(0,101,1)\n",
    "X,Y = np.meshgrid(x,y)\n",
    "\n",
    "p_rew_vals = [0.01,0.05,0.1,0.5,1,5,10,50,100,150]\n",
    "start_vals = [10]\n",
    "dose_quantity_vals = [0.5]\n",
    "\n",
    "counter = 0\n",
    "fig, ax = plt.subplots(nrows=1, ncols=1, figsize=(10,7))\n",
    "b = 0\n",
    "d = 0\n",
    "for a in range(len(p_rew_vals)) :\n",
    "    print(a)\n",
    "    key_half = '_p_rew_'+str(p_rew_vals[a])+'_start_'+str(start_vals[b])+'_dq_'+str(dose_quantity_vals[d])\n",
    "    key_half_title = 'p_rew_'+str(p_rew_vals[a])+'_start_'+str(start_vals[b])+'_dq_'+str(dose_quantity_vals[d])\n",
    "    key_half_title_title = 'start_'+str(start_vals[b])+'_dq_'+str(dose_quantity_vals[d])\n",
    "    ax.set_title(key_half_title_title)\n",
    "    ax.set_ylim([-0.1,1.1])\n",
    "    sampling_average = obtain_infec_sampling_average(key_half,file)\n",
    "    print(sampling_average)\n",
    "    sampling_average_list_infected.append(sampling_average)\n",
    "    for i in range(70,120) :\n",
    "        key = 'sim_'+str(i)+key_half\n",
    "        df = pd.read_hdf(file,key)\n",
    "        count_deg = df.values\n",
    "        j = 2000\n",
    "        average = np.mean(count_deg[:,j-100:j],axis=1)\n",
    "        im = plt.plot(np.log10(p_rew_vals[a]),average,'b.',markersize=30,alpha = 0.05)\n",
    "    \n",
    "    im = plt.plot(np.log10(p_rew_vals[a]),sampling_average,'r.',markersize=12)\n",
    "counter = counter + 1\n",
    "\n",
    "nax = fig.add_subplot(111, frame_on = False)\n",
    "nax.set_xticks([])\n",
    "nax.set_yticks([])\n",
    "fig.suptitle(r'$\\phi^*.$ $\\gamma=p=1s^{-1},N=100,T=100s,d^*=1,w_{-}=1s^{-1},dt=0.05s,r=\\rho=\\frac{1}{dt},\\lambda=\\frac{p_{rew}}{10}s^{-1}$',fontsize = 15)\n",
    "nax.set_xlabel(r'$log_{10}(p_{rew})$', fontsize = 20, labelpad=40)\n",
    "nax.set_ylabel(r'$\\phi^*$', fontsize = 20, labelpad=20)\n",
    "fig.subplots_adjust(right=0.8)\n",
    "\n",
    "# cbar_ax = fig.add_axes([0.85, 0.15, 0.015, 0.7])\n",
    "# fig.colorbar(im, cax=cbar_ax)\n",
    "\n",
    "plt.savefig(\"infec_frac.svg\", format=\"svg\")"
   ]
  },
  {
   "cell_type": "code",
   "execution_count": 13,
   "metadata": {},
   "outputs": [
    {
     "data": {
      "text/plain": [
       "array([0.0014])"
      ]
     },
     "execution_count": 13,
     "metadata": {},
     "output_type": "execute_result"
    }
   ],
   "source": [
    "np.mean(count_deg,axis=1)"
   ]
  }
 ],
 "metadata": {
  "kernelspec": {
   "display_name": "Python 3",
   "language": "python",
   "name": "python3"
  },
  "language_info": {
   "codemirror_mode": {
    "name": "ipython",
    "version": 3
   },
   "file_extension": ".py",
   "mimetype": "text/x-python",
   "name": "python",
   "nbconvert_exporter": "python",
   "pygments_lexer": "ipython3",
   "version": "3.7.1"
  }
 },
 "nbformat": 4,
 "nbformat_minor": 2
}
