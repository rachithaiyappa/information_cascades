{
 "cells": [
  {
   "cell_type": "code",
   "execution_count": 1,
   "metadata": {},
   "outputs": [],
   "source": [
    "#importing the required libraries\n",
    "\n",
    "import networkx as nx #network library to generate inital networks and perform various network operations\n",
    "import matplotlib.pyplot as plt #for plotting\n",
    "import numpy as np #for using arrays and vectorising the code wherever possible\n",
    "import scipy\n",
    "import random\n",
    "import cProfile #for timing the loops\n",
    "from numba import jit #numba precomplier to make the code faster\n",
    "from mpl_toolkits.mplot3d import Axes3D\n",
    "import pandas as pd\n",
    "import h5py"
   ]
  },
  {
   "cell_type": "code",
   "execution_count": null,
   "metadata": {},
   "outputs": [],
   "source": [
    "'''rough work from down here'''"
   ]
  },
  {
   "cell_type": "code",
   "execution_count": null,
   "metadata": {},
   "outputs": [],
   "source": [
    "for x in np.arange(0.5,20,1) :\n",
    "    print(x)"
   ]
  },
  {
   "cell_type": "code",
   "execution_count": null,
   "metadata": {},
   "outputs": [],
   "source": [
    "indi_state = np.random.randint(3,size=(5,1))\n",
    "print(np.where(indi_state==2))\n",
    "D = np.zeros((5,1))\n",
    "D[np.where(indi_state==2)] = 3\n",
    "print(D)"
   ]
  },
  {
   "cell_type": "code",
   "execution_count": null,
   "metadata": {},
   "outputs": [],
   "source": [
    "indi_state = np.random.randint(1,3,size=(5,1))\n",
    "print(indi_state)\n",
    "z1 = np.random.uniform(size=(5,5))\n",
    "print(z1)\n",
    "# mask = z1<0.1\n",
    "# print(np.where(z1<0.3))\n",
    "b = z1[:,2]<0.3\n",
    "indi_state[b] = 0\n",
    "print(b)\n",
    "print(indi_state)\n",
    "# print(b[0][4],b[1])\n",
    "# print(type(b))\n",
    "# print(np.shape(b))\n",
    "# print(noise_indices)"
   ]
  },
  {
   "cell_type": "code",
   "execution_count": null,
   "metadata": {},
   "outputs": [],
   "source": [
    "for i in range(100) :\n",
    "    x = np.random.random()\n",
    "    y = np.random.random()\n",
    "    plt.plot(x, y, color='green', marker='o', linestyle='dashed', markersize=12)\n",
    "plt.show()"
   ]
  },
  {
   "cell_type": "code",
   "execution_count": null,
   "metadata": {},
   "outputs": [],
   "source": [
    "\"\"\"\n",
    "Matplotlib Animation Example\n",
    "\n",
    "author: Jake Vanderplas\n",
    "email: vanderplas@astro.washington.edu\n",
    "website: http://jakevdp.github.com\n",
    "license: BSD\n",
    "Please feel free to use and modify this, but keep the above information. Thanks!\n",
    "\"\"\"\n",
    "\n",
    "import numpy as np\n",
    "from matplotlib import pyplot as plt\n",
    "from matplotlib import animation\n",
    "\n",
    "# First set up the figure, the axis, and the plot element we want to animate\n",
    "fig = plt.figure()\n",
    "ax = plt.axes(xlim=(0, 2), ylim=(-2, 2))\n",
    "# line, = ax.plot([], [], lw=2)\n",
    "line, = ax.plot([], [], 'o-', lw=2)\n",
    "\n",
    "# initialization function: plot the background of each frame\n",
    "def init():\n",
    "    line.set_data([], [])\n",
    "    return line,\n",
    "\n",
    "# animation function.  This is called sequentially\n",
    "def animate(i):\n",
    "    x = np.linspace(0, 2, 1000)\n",
    "    y = np.sin(2 * np.pi * (x - 0.01 * i))\n",
    "    line.set_data(x, y)\n",
    "    return line,\n",
    "\n",
    "# call the animator.  blit=True means only re-draw the parts that have changed.\n",
    "anim = animation.FuncAnimation(fig, animate, init_func=init,\n",
    "                               frames=200, interval=20, blit=True)\n",
    "\n",
    "# save the animation as an mp4.  This requires ffmpeg or mencoder to be\n",
    "# installed.  The extra_args ensure that the x264 codec is used, so that\n",
    "# the video can be embedded in html5.  You may need to adjust this for\n",
    "# your system: for more information, see\n",
    "# http://matplotlib.sourceforge.net/api/animation_api.html\n",
    "# anim.save('basic_animation.mp4', fps=30, extra_args=['-vcodec', 'libx264'])\n",
    "\n",
    "plt.show()"
   ]
  },
  {
   "cell_type": "code",
   "execution_count": null,
   "metadata": {},
   "outputs": [],
   "source": [
    "'''using networkx to plot graph from adjacency matix input'''\n",
    "\n",
    "import matplotlib.pyplot as plt\n",
    "import networkx as nx\n",
    "\n",
    "def show_graph_with_labels(adjacency_matrix, mylabels):\n",
    "    rows, cols = np.where(adjacency_matrix == 1)\n",
    "    edges = zip(rows.tolist(), cols.tolist())\n",
    "    gr = nx.Graph()\n",
    "    gr.add_edges_from(edges)\n",
    "    nx.draw(gr, node_size=500, labels=mylabels, with_labels=True)\n",
    "    plt.show()\n",
    "\n",
    "show_graph_with_labels(adjacency, make_label_dict(get_labels('mycsv.csv')))"
   ]
  },
  {
   "cell_type": "code",
   "execution_count": null,
   "metadata": {},
   "outputs": [],
   "source": [
    "# def show_graph_with_labels(adjacency_matrix):\n",
    "#     rows, cols = np.where(adjacency_matrix == 1)\n",
    "#     edges = zip(rows.tolist(), cols.tolist())\n",
    "#     gr = nx.Graph()\n",
    "#     gr.add_edges_from(edges)\n",
    "#     nx.draw(gr, node_size=200, with_labels=True)\n",
    "#     plt.show()"
   ]
  },
  {
   "cell_type": "code",
   "execution_count": null,
   "metadata": {},
   "outputs": [],
   "source": [
    "# blah = pd.DataFrame()\n",
    "# k = 12\n",
    "# for j in range(10) :\n",
    "#     for i in range(10) :\n",
    "#         blah.loc[i,j] = k\n",
    "#         k = k + 1\n",
    "# print(blah)\n",
    "# blah.loc[0,9]"
   ]
  },
  {
   "cell_type": "code",
   "execution_count": null,
   "metadata": {},
   "outputs": [],
   "source": [
    "# a = np.zeros((5,5))\n",
    "# k = 0\n",
    "# for j in range(5) :\n",
    "#     for i in range(5) :\n",
    "#         a[i,j] = k\n",
    "#         k = k + 1\n",
    "# print(a)\n",
    "# np.count_nonzero(a == 2)/25"
   ]
  },
  {
   "cell_type": "code",
   "execution_count": null,
   "metadata": {},
   "outputs": [],
   "source": [
    "# np.savetxt('test.out', adj_mat_list[0], delimiter=',',fmt='%d')   # X is an array"
   ]
  },
  {
   "cell_type": "code",
   "execution_count": null,
   "metadata": {},
   "outputs": [],
   "source": [
    "# show_graph_with_labels(adj_mat_list[0])"
   ]
  },
  {
   "cell_type": "code",
   "execution_count": null,
   "metadata": {},
   "outputs": [],
   "source": [
    "# '''plot of how the network looks like'''\n",
    "\n",
    "# plt.plot([coords[i][0] for i in range(len(coords))],[coords[i][1] for i in range(len(coords))],marker='o',markersize=10,linestyle='None')\n",
    "# i = 0\n",
    "# for counter in range(len(edge_list)):\n",
    "#     plt.plot([coords[edge_list[i][0]][0],coords[edge_list[i][1]][0]],\\\n",
    "#              [coords[edge_list[i][0]][1],coords[edge_list[i][1]][1]],'black',alpha=0.1)\n",
    "#     i = i + 1\n",
    "# plt.show()"
   ]
  },
  {
   "cell_type": "code",
   "execution_count": null,
   "metadata": {},
   "outputs": [],
   "source": [
    "a = [4,5,6,2,1]\n",
    "b = [4,5,6,2,1]"
   ]
  },
  {
   "cell_type": "code",
   "execution_count": null,
   "metadata": {},
   "outputs": [],
   "source": [
    "G = nx.DiGraph()\n",
    "pos = {(i): (coords[i][0],coords[i][1]) for i in range(N)}\n",
    "G.add_nodes_from(pos.keys())\n",
    "G.add_edges_from(edge_list)\n",
    "nx.draw(G,pos)\n",
    "plt.show()\n",
    "G.edges()\n",
    "GA = nx.adjacency_matrix(G)"
   ]
  },
  {
   "cell_type": "code",
   "execution_count": null,
   "metadata": {},
   "outputs": [],
   "source": [
    "H = nx.Graph()\n",
    "pos = {(i): (coords[i][0],coords[i][1]) for i in range(N)}\n",
    "H.add_nodes_from(pos.keys())\n",
    "H.add_edges_from(edge_list)\n",
    "nx.draw(H,pos)\n",
    "plt.show()\n",
    "H.edges()\n",
    "HA = nx.adjacency_matrix(H)"
   ]
  },
  {
   "cell_type": "code",
   "execution_count": null,
   "metadata": {},
   "outputs": [],
   "source": [
    "G = nx.Graph()\n",
    "G.add_nodes_from(range(0,5))\n",
    "G.add_edges_from([(0,1),(1,2),(2,3),(3,4),(4,5),(5,0)])\n",
    "H = nx.DiGraph()\n",
    "H.add_nodes_from(range(0,5))\n",
    "H.add_edges_from([(0,1),(1,2),(2,3),(3,4),(4,5),(5,0)])\n",
    "\n",
    "nx.draw(H)"
   ]
  },
  {
   "cell_type": "code",
   "execution_count": null,
   "metadata": {},
   "outputs": [],
   "source": [
    "HA = nx.adjacency_matrix(H)\n",
    "print(HA.getnnz())\n",
    "print('blah')\n",
    "GA = nx.adjacency_matrix(G)\n",
    "print(GA.getnnz())"
   ]
  },
  {
   "cell_type": "code",
   "execution_count": null,
   "metadata": {},
   "outputs": [],
   "source": [
    "P = nx.gnm_random_graph(5, 10,directed=True)\n",
    "nx.draw(P)\n",
    "Q = nx.adjacency_matrix(P)\n",
    "Q = np.asarray(Q.todense())\n",
    "print(P.edges())\n",
    "\n",
    "adj_mat_list = []\n",
    "adj_mat_list.append(Q)\n",
    "\n",
    "edge_list = edge_from_adj_mat(adj_mat_list,0)\n",
    "print(edge_list)"
   ]
  },
  {
   "cell_type": "code",
   "execution_count": 2,
   "metadata": {},
   "outputs": [
    {
     "name": "stderr",
     "output_type": "stream",
     "text": [
      "/home/aiyappa/anaconda3/lib/python3.7/site-packages/networkx/drawing/nx_pylab.py:611: MatplotlibDeprecationWarning: isinstance(..., numbers.Number)\n",
      "  if cb.is_numlike(alpha):\n"
     ]
    },
    {
     "data": {
      "text/plain": [
       "2"
      ]
     },
     "execution_count": 2,
     "metadata": {},
     "output_type": "execute_result"
    },
    {
     "data": {
      "image/png": "[encoded data removed]",
      "text/plain": [
       "<Figure size 432x288 with 1 Axes>"
      ]
     },
     "metadata": {},
     "output_type": "display_data"
    }
   ],
   "source": [
    "G = nx.DiGraph()\n",
    "G.add_nodes_from(range(5))\n",
    "G.add_edges_from([(0,1),(1,2),(2,0),(3,4),(4,5),(5,3)])\n",
    "# G.add_edges_from([(0,1),(1,2),(2,3),(3,4),(4,5),(5,0)])\n",
    "# nx.draw(G)\n",
    "# nx.number_strongly_connected_components(G)\n",
    "nx.number_weakly_connected_components(G)\n",
    "H = G.to_undirected()\n",
    "nx.draw(H)\n",
    "nx.number_connected_components(H)\n",
    "# la = np.asarray([val for (node, val) in G.in_degree()])\n",
    "# timeseries.loc[:,0] = la\n",
    "# print(timeseries)"
   ]
  },
  {
   "cell_type": "code",
   "execution_count": 29,
   "metadata": {},
   "outputs": [
    {
     "data": {
      "image/png": "[encoded data removed]",
      "text/plain": [
       "<Figure size 432x288 with 1 Axes>"
      ]
     },
     "metadata": {},
     "output_type": "display_data"
    }
   ],
   "source": [
    "G = nx.gnm_random_graph(10, 20,directed=True)\n",
    "nx.draw(G)"
   ]
  },
  {
   "cell_type": "code",
   "execution_count": 45,
   "metadata": {},
   "outputs": [
    {
     "name": "stdout",
     "output_type": "stream",
     "text": [
      "[2 2 1 4 1 1 1 3 4 1]\n",
      "[[2 2 1 4 1 1 1 3 4 1]\n",
      " [2 2 1 4 1 1 1 3 4 1]\n",
      " [2 2 1 4 1 1 1 3 4 1]\n",
      " [2 2 1 4 1 1 1 3 4 1]\n",
      " [2 2 1 4 1 1 1 3 4 1]\n",
      " [2 2 1 4 1 1 1 3 4 1]\n",
      " [2 2 1 4 1 1 1 3 4 1]\n",
      " [2 2 1 4 1 1 1 3 4 1]\n",
      " [2 2 1 4 1 1 1 3 4 1]\n",
      " [2 2 1 4 1 1 1 3 4 1]] [[2 2 2 2 2 2 2 2 2 2]\n",
      " [2 2 2 2 2 2 2 2 2 2]\n",
      " [1 1 1 1 1 1 1 1 1 1]\n",
      " [4 4 4 4 4 4 4 4 4 4]\n",
      " [1 1 1 1 1 1 1 1 1 1]\n",
      " [1 1 1 1 1 1 1 1 1 1]\n",
      " [1 1 1 1 1 1 1 1 1 1]\n",
      " [3 3 3 3 3 3 3 3 3 3]\n",
      " [4 4 4 4 4 4 4 4 4 4]\n",
      " [1 1 1 1 1 1 1 1 1 1]]\n",
      "[[ True  True  True  True  True  True  True  True  True  True]\n",
      " [ True  True  True  True  True  True  True  True  True  True]\n",
      " [False False  True  True False False  True False  True  True]\n",
      " [ True  True  True  True  True  True  True  True  True  True]\n",
      " [False False False False  True  True  True False  True False]\n",
      " [ True False False False False False False  True False False]\n",
      " [False False False False  True  True  True False False  True]\n",
      " [ True  True  True  True  True  True  True  True  True  True]\n",
      " [ True  True  True  True  True  True  True  True  True  True]\n",
      " [False False  True False False False False False  True False]]\n"
     ]
    }
   ],
   "source": [
    "lamb_da = 5\n",
    "A = np.asarray([val for (node, val) in G.out_degree()])\n",
    "P,Q = np.meshgrid(A,A)\n",
    "print(A)\n",
    "print(P,Q)\n",
    "np.shape(A)\n",
    "mask = lamb_da*Q >10*np.random.random((10,10))\n",
    "print(mask)"
   ]
  },
  {
   "cell_type": "code",
   "execution_count": null,
   "metadata": {},
   "outputs": [],
   "source": [
    "df = pd.DataFrame()\n",
    "df.loc[:,0] = range(100,200)\n",
    "df.loc[:,1] = range(500,600)\n",
    "# hist = df.hist(bins=50)\n",
    "# print(hist)\n",
    "count, division = np.histogram(df.loc[:,0], bins = 100,range =(100,200))\n",
    "print(count)\n",
    "print(division)\n",
    "print(df.shape[1])\n",
    "df"
   ]
  },
  {
   "cell_type": "code",
   "execution_count": null,
   "metadata": {},
   "outputs": [],
   "source": [
    "djao = pd.DataFrame()\n",
    "filename_infec_frac = 'jaja.h5'\n",
    "i = 1\n",
    "j = 20\n",
    "while i < 100 :\n",
    "    print(i)\n",
    "    key_val = 'sim_'+str(i)+'_p_rew_'+str(j)\n",
    "    djao.to_hdf(filename_infec_frac, key = key_val, mode='a')\n",
    "    i = i +1 \n",
    "    j = j + 1\n",
    "    \n",
    "cla = h5py.File('jaja.h5', 'r')\n",
    "print([key for key in cla.keys()])"
   ]
  },
  {
   "cell_type": "code",
   "execution_count": null,
   "metadata": {},
   "outputs": [],
   "source": [
    "lst = [['a','b','c'], [1,2,3], ['x','y','z']]\n",
    "lst2 = [item[0] for item in lst]\n",
    "print(lst2)\n",
    "\n",
    "# listofmeans = [np.mean(i) for i in listA ]\n",
    "# listofmeans"
   ]
  },
  {
   "cell_type": "code",
   "execution_count": null,
   "metadata": {},
   "outputs": [],
   "source": [
    "a = np.random.randint(5,size=(3,3))\n",
    "b = np.random.randint(5,10,size=(3,3))\n",
    "c = np.random.randint(10,15,size=(3,3))\n",
    "lt = []\n",
    "lt = [a,b,c]\n",
    "lt\n",
    "# print(sampling[0][:,0])\n",
    "# list = [np.shape(item[:,0]) for item in sampling]\n",
    "# print(list)"
   ]
  },
  {
   "cell_type": "code",
   "execution_count": null,
   "metadata": {},
   "outputs": [],
   "source": [
    "lala = np.zeros(shape=(3,3))\n",
    "for i in range(len(lt)) :\n",
    "    lala[:,i] =np.mean([item[:,i] for item in lt],axis=0)\n",
    "lala"
   ]
  },
  {
   "cell_type": "code",
   "execution_count": 9,
   "metadata": {},
   "outputs": [
    {
     "data": {
      "text/plain": [
       "[[0, 0], [1, 1], [2, 2], [3, 3], [4, 4]]"
      ]
     },
     "execution_count": 9,
     "metadata": {},
     "output_type": "execute_result"
    }
   ],
   "source": [
    "def edge_from_adj_mat(adj_mat_list,q):\n",
    "    edge_list = []\n",
    "    edge_list.extend(np.ndarray.tolist(np.transpose(np.where(adj_mat_list[q]==1))))\n",
    "    return edge_list\n",
    "\n",
    "adj_mat_list = []\n",
    "a = np.int64(np.zeros((5,5)))\n",
    "np.fill_diagonal(a,1)\n",
    "adj_mat_list.append(a)\n",
    "\n",
    "\n",
    "edge_from_adj_mat(adj_mat_list,0)"
   ]
  },
  {
   "cell_type": "code",
   "execution_count": 10,
   "metadata": {},
   "outputs": [
    {
     "data": {
      "text/plain": [
       "[array([[1, 0, 0, 0, 0],\n",
       "        [0, 1, 0, 0, 0],\n",
       "        [0, 0, 1, 0, 0],\n",
       "        [0, 0, 0, 1, 0],\n",
       "        [0, 0, 0, 0, 1]])]"
      ]
     },
     "execution_count": 10,
     "metadata": {},
     "output_type": "execute_result"
    }
   ],
   "source": [
    "adj_mat_list"
   ]
  },
  {
   "cell_type": "code",
   "execution_count": 25,
   "metadata": {},
   "outputs": [
    {
     "name": "stdout",
     "output_type": "stream",
     "text": [
      "[[0 0 0 0]\n",
      " [0 1 1 0]\n",
      " [1 0 1 1]\n",
      " [0 0 1 1]]\n"
     ]
    },
    {
     "data": {
      "text/plain": [
       "array([[0, 0, 1, 0],\n",
       "       [0, 0, 1, 0],\n",
       "       [1, 1, 0, 1],\n",
       "       [0, 0, 1, 0]])"
      ]
     },
     "execution_count": 25,
     "metadata": {},
     "output_type": "execute_result"
    }
   ],
   "source": [
    "A = np.random.randint(2,size=(4,4))\n",
    "print(A)\n",
    "np.fill_diagonal(A,0)\n",
    "W = np.maximum( A, A.transpose() )\n",
    "W"
   ]
  },
  {
   "cell_type": "code",
   "execution_count": 34,
   "metadata": {},
   "outputs": [
    {
     "name": "stderr",
     "output_type": "stream",
     "text": [
      "/home/aiyappa/anaconda3/lib/python3.7/site-packages/tables/path.py:112: NaturalNameWarning: object name is not a valid Python identifier: '1'; it does not match the pattern ``^[a-zA-Z_][a-zA-Z0-9_]*$``; you will not be able to use natural naming to access this object; using ``getattr()`` will still work, though\n",
      "  NaturalNameWarning)\n",
      "/home/aiyappa/anaconda3/lib/python3.7/site-packages/tables/path.py:112: NaturalNameWarning: object name is not a valid Python identifier: '2'; it does not match the pattern ``^[a-zA-Z_][a-zA-Z0-9_]*$``; you will not be able to use natural naming to access this object; using ``getattr()`` will still work, though\n",
      "  NaturalNameWarning)\n"
     ]
    }
   ],
   "source": [
    "timeseries= pd.DataFrame()\n",
    "timeseries.loc[0,0] = 'a'\n",
    "timeseries.loc[0,1] = 'b'\n",
    "timeseries.loc[0,2] = 'c'\n",
    "timeseries.loc[0,3] = 'd'\n",
    "timeseries.loc[0,4] = 'e'\n",
    "timeseries.to_hdf('blah.h5', key = '1', mode='a')\n",
    "timeseries.loc[0,0] = 'f'\n",
    "timeseries.loc[0,1] = 'g'\n",
    "timeseries.loc[0,2] = 'h'\n",
    "timeseries.loc[0,3] = 'i'\n",
    "timeseries.loc[0,4] = 'j'\n",
    "timeseries.to_hdf('blah.h5', key = '2', mode='a')"
   ]
  },
  {
   "cell_type": "code",
   "execution_count": 45,
   "metadata": {},
   "outputs": [
    {
     "data": {
      "text/html": [
       "<div>\n",
       "<style scoped>\n",
       "    .dataframe tbody tr th:only-of-type {\n",
       "        vertical-align: middle;\n",
       "    }\n",
       "\n",
       "    .dataframe tbody tr th {\n",
       "        vertical-align: top;\n",
       "    }\n",
       "\n",
       "    .dataframe thead th {\n",
       "        text-align: right;\n",
       "    }\n",
       "</style>\n",
       "<table border=\"1\" class=\"dataframe\">\n",
       "  <thead>\n",
       "    <tr style=\"text-align: right;\">\n",
       "      <th></th>\n",
       "      <th>0</th>\n",
       "      <th>1</th>\n",
       "      <th>2</th>\n",
       "      <th>3</th>\n",
       "      <th>4</th>\n",
       "    </tr>\n",
       "  </thead>\n",
       "  <tbody>\n",
       "    <tr>\n",
       "      <th>0</th>\n",
       "      <td>a</td>\n",
       "      <td>b</td>\n",
       "      <td>c</td>\n",
       "      <td>d</td>\n",
       "      <td>e</td>\n",
       "    </tr>\n",
       "    <tr>\n",
       "      <th>0</th>\n",
       "      <td>f</td>\n",
       "      <td>g</td>\n",
       "      <td>h</td>\n",
       "      <td>i</td>\n",
       "      <td>j</td>\n",
       "    </tr>\n",
       "  </tbody>\n",
       "</table>\n",
       "</div>"
      ],
      "text/plain": [
       "   0  1  2  3  4\n",
       "0  a  b  c  d  e\n",
       "0  f  g  h  i  j"
      ]
     },
     "execution_count": 45,
     "metadata": {},
     "output_type": "execute_result"
    }
   ],
   "source": [
    "df = h5py.File('blah.h5', 'r')\n",
    "# print([key for key in df.keys()])\n",
    "frames = []\n",
    "for i in range(1,3) :\n",
    "    key_val = str(i)\n",
    "    df = pd.read_hdf('blah.h5',key_val)\n",
    "    frames.append(df)\n",
    "result = pd.concat(frames)\n",
    "result"
   ]
  },
  {
   "cell_type": "code",
   "execution_count": null,
   "metadata": {},
   "outputs": [],
   "source": [
    "sampling = [] \n",
    "\n",
    "bins_number = 11\n",
    "count_deg = np.zeros((bins_number,df.shape[1]))\n",
    "for i in range(df.shape[1]) :\n",
    "    count, division_deg = np.histogram(df.loc[:,i], bins = bins_number,range =(0,1.01))\n",
    "#     count, division_deg = np.histogram(df.loc[:,i], bins = bins_number)\n",
    "    count_deg[:,i] = count\n",
    "sampling.append(count_deg)\n",
    "\n",
    "sampling_average = 999*np.ones(shape=np.shape(count_deg))\n",
    "for i in range(df.shape[1]) :\n",
    "    sampling_average[:,i] = np.mean([item[:,i] for item in sampling],axis=0)\n",
    "sampling_average\n",
    "\n",
    "x = np.arange(0,100,0.05)\n",
    "y = np.arange(0,1.01,0.1)\n",
    "X,Y = np.meshgrid(x,y)\n",
    "print(np.shape(sampling_average))\n",
    "print(np.shape(X))\n",
    "print(np.shape(Y))\n",
    "\n",
    "plt.scatter(X,Y,c= sampling_average,vmin=0,vmax=51)\n",
    "plt.colorbar()\n",
    "\n",
    "df.loc[:,i].max()\n",
    "\n",
    "hist,edg = np.histogram(df.loc[:,i])\n",
    "plt.hist(df.loc[:,i])"
   ]
  },
  {
   "cell_type": "code",
   "execution_count": null,
   "metadata": {},
   "outputs": [],
   "source": [
    "#this is just to see if the modification is implemented in githu"
   ]
  }
 ],
 "metadata": {
  "kernelspec": {
   "display_name": "Python 3",
   "language": "python",
   "name": "python3"
  },
  "language_info": {
   "codemirror_mode": {
    "name": "ipython",
    "version": 3
   },
   "file_extension": ".py",
   "mimetype": "text/x-python",
   "name": "python",
   "nbconvert_exporter": "python",
   "pygments_lexer": "ipython3",
   "version": "3.7.1"
  }
 },
 "nbformat": 4,
 "nbformat_minor": 2
}
